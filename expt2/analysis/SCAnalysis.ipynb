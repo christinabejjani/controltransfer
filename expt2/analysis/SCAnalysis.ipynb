{
 "cells": [
  {
   "cell_type": "markdown",
   "metadata": {},
   "source": [
    "# Information on How These Data Are Organized:\n",
    "\n",
    "`TypeOfResponse` refers to whether participants pressed a button (\"SCResp\") or did not press a button (\"SCRespITI\") within the given time frame.\n",
    "\n",
    "`Version` refers to the task version. I never changed the JS code; I merely changed which face/house was labeled as S1_1, S1_2, S1_3, or S1_4 in respective task folders.\n",
    "\n",
    "`LogCounter` gets added to whenever the JS records a new datapoint.\n",
    "\n",
    "`TrialCounter` gets added to whenever a new trial has started. This is reset at the start of each block.\n",
    "\n",
    "`MatrixCounter` gets added to throughout the task and is never reset. It is what I use to call Stimuli #s.\n",
    "\n",
    "`RunCounter` refers to the run: 0 is run 1, 1 is run 2, 2 is run 3, and 3 is run 4.\n",
    "\n",
    "`CongruentCounter` marks any time a congruent trial occurred; `IncongruentCounter` an incongruent trial.\n",
    "\n",
    "`StimPresented` refers to which scene was presented before the trial. This is in reference to the main manipulation of the S-C association phase, whereby particular scenes are more likely to precede specific proportions of congruent/incongruent trials.\n",
    "\n",
    "`StimProbAll` refers to my matrix of possible trial types. So it indicates whether \"RED\" will be shown in red, etc.\n",
    "\n",
    "`TrialType` also marks incongruent/congruent trials.\n",
    "\n",
    "`CongruentNumber` refers to my specially made matrices of my congruent trials. So there are 4 possible incongruent combinations, with 160 total congruent trials, and thus 40 occurrences of numbers 1-4.\n",
    "\n",
    "`IncongruentNumber` refers to my specially made matrix of incongruent trials. There are 12 possible incongruent combinations, with 160 trial incongruent trials, and thus around 13 of each occurrence.\n",
    "\n",
    "`PressCorrect` refers to the button that participants should press on that trial. This is how I define accuracy (i.e., correct: when PressCorrect = actualkeyPressed).\n",
    "\n",
    "`ResponseMatrix` refers to which key is pressed; this is a redundant variable and was used to make sure that each key had been required an equal number of times throughout the task.\n",
    "\n",
    "`ActualKeyPressed` is what key subjects pressed.\n",
    "\n",
    "`Accuracy` & `RT` self-explanatory.\n",
    "\n",
    "`FeedbackType` refers to whether they got correct as fb, incorrect as fb, or the fb time-out.\n",
    "\n",
    "`runStart` refers to the initiation of the countdown to begin the task.\n",
    "\n",
    "`ImagePresent` refers to when scene was presented.\n",
    "\n",
    "`StimTime` refers to when the color word was presented.\n",
    "\n",
    "`RespOnset` refers to when a response was made.\n",
    "\n",
    "`AccCount` is how I give subjects accurate fb of their performance at the end of each run (i.e., a counter that gets added to after each correct trial & is divided by trial #).\n",
    "\n",
    "`Subject` self-explanatory.\n",
    "\n",
    "Some other labels aren't coded in the JS: `Sequential` refers to whether a trial was the same (0) as before, changed to incongruent or congruent on the next trial, etc., and `StimRep` looks for direct repetitions in the StimProbAll matrix. These were coded in Matlab and added to the CSV file.\n",
    "\n",
    "---"
   ]
  },
  {
   "cell_type": "markdown",
   "metadata": {},
   "source": [
    "### Here we'll just import Python specific packages and read in our data."
   ]
  },
  {
   "cell_type": "code",
   "execution_count": 67,
   "metadata": {
    "collapsed": true
   },
   "outputs": [],
   "source": [
    "import numpy as np\n",
    "import pandas as pd\n",
    "import matplotlib.pyplot as plt\n",
    "import seaborn as sns\n",
    "import pylab as plb\n",
    "import math\n",
    "from scipy import stats\n",
    "\n",
    "%matplotlib notebook "
   ]
  },
  {
   "cell_type": "code",
   "execution_count": 68,
   "metadata": {},
   "outputs": [
    {
     "name": "stdout",
     "output_type": "stream",
     "text": [
      "C:\\Users\\cb383\\Documents\\controltransfer\\expt2\\data\n"
     ]
    }
   ],
   "source": [
    "%cd 'C:\\Users\\cb383\\Documents\\controltransfer\\expt2\\data'\n",
    "dat = pd.read_csv('AllSubsSC.csv')"
   ]
  },
  {
   "cell_type": "markdown",
   "metadata": {},
   "source": [
    "# Do Some Basic Cleaning"
   ]
  },
  {
   "cell_type": "markdown",
   "metadata": {},
   "source": [
    "#### We are filtering and preparing the data for analysis.\n",
    "\n",
    "<u>FOR REACTION TIMES</u>:\n",
    "\n",
    "-Select only `TypeOfResponse` equal to `Resp` (`ITI Resp` is when subs didn't respond).\n",
    "\n",
    "-Only take the RTs that are greater than 200ms and less than 1000 ms.\n",
    "\n",
    "-Only take the RTs on accurate trials.\n",
    "\n",
    "-Only take trials where the stimulus didn't repeat.\n",
    "\n",
    "\n",
    "<u>FOR ACCURACY</u>:\n",
    "\n",
    "-All errors are errors"
   ]
  },
  {
   "cell_type": "code",
   "execution_count": 69,
   "metadata": {
    "collapsed": true
   },
   "outputs": [],
   "source": [
    "cdat = dat.query('(TypeOfResponse != \"SCRespITI\") & (RT > 200) & (RT < 1000) & (Accuracy != 0) & (StimRep != 1)').copy()\n",
    "adat = dat.copy()"
   ]
  },
  {
   "cell_type": "markdown",
   "metadata": {},
   "source": [
    "#### Now I'm making columns in the data based off my variables so that analysis will be easier."
   ]
  },
  {
   "cell_type": "code",
   "execution_count": 70,
   "metadata": {
    "collapsed": true
   },
   "outputs": [],
   "source": [
    "adat['DemandCue'] = adat['StimPresented'].isin([1, 2])\n",
    "adat.loc[adat['StimPresented'].isin([1, 2]), 'DemandCue'] = 'High'\n",
    "adat.loc[~adat['StimPresented'].isin([1, 2]), 'DemandCue'] = 'Low'\n",
    "\n",
    "adat['Congruency'] = adat['TrialType'].isin([1])\n",
    "adat.loc[adat['TrialType'].isin([1]),'Congruency'] = 'Incongruent'\n",
    "adat.loc[~adat['TrialType'].isin([1]),'Congruency'] = 'Congruent'\n",
    "\n",
    "cdat['DemandCue'] = cdat['StimPresented'].isin([1, 2])\n",
    "cdat.loc[cdat['StimPresented'].isin([1, 2]), 'DemandCue'] = 'High'\n",
    "cdat.loc[~cdat['StimPresented'].isin([1, 2]), 'DemandCue'] = 'Low'\n",
    "\n",
    "cdat['Congruency'] = cdat['TrialType'].isin([1])\n",
    "cdat.loc[cdat['TrialType'].isin([1]),'Congruency'] = 'Incongruent'\n",
    "cdat.loc[~cdat['TrialType'].isin([1]),'Congruency'] = 'Congruent'\n"
   ]
  },
  {
   "cell_type": "code",
   "execution_count": 71,
   "metadata": {
    "collapsed": true
   },
   "outputs": [],
   "source": [
    "adat['ContextCong'] = adat['DemandCue'].isin(['High']) & adat['TrialType'].isin([1])\n",
    "adat.loc[(adat['DemandCue'].isin(['High']) & adat['TrialType'].isin([1])), 'ContextCong'] = 'HighIC'\n",
    "adat.loc[(adat['DemandCue'].isin(['Low']) & adat['TrialType'].isin([1])), 'ContextCong'] = 'LowIC'\n",
    "adat.loc[(adat['DemandCue'].isin(['High']) & adat['TrialType'].isin([2])), 'ContextCong'] = 'HighC'\n",
    "adat.loc[(adat['DemandCue'].isin(['Low']) & adat['TrialType'].isin([2])), 'ContextCong'] = 'LowC'\n",
    "\n",
    "cdat['ContextCong'] = cdat['DemandCue'].isin(['High']) & cdat['TrialType'].isin([1])\n",
    "cdat.loc[(cdat['DemandCue'].isin(['High']) & cdat['TrialType'].isin([1])), 'ContextCong'] = 'HighIC'\n",
    "cdat.loc[(cdat['DemandCue'].isin(['Low']) & cdat['TrialType'].isin([1])), 'ContextCong'] = 'LowIC'\n",
    "cdat.loc[(cdat['DemandCue'].isin(['High']) & cdat['TrialType'].isin([2])), 'ContextCong'] = 'HighC'\n",
    "cdat.loc[(cdat['DemandCue'].isin(['Low']) & cdat['TrialType'].isin([2])), 'ContextCong'] = 'LowC'"
   ]
  },
  {
   "cell_type": "markdown",
   "metadata": {},
   "source": [
    "# Look at Mean Cueing Effects"
   ]
  },
  {
   "cell_type": "markdown",
   "metadata": {},
   "source": [
    "### We are hoping to see an interaction between control-demand cue and congruency, such that people use the cues to modulate Stroop congruency. Namely, we would predict that people would have a smaller difference between the Stroop trial types for the \"high\" compared to \"low\" control-demand cue. This would result from learning to associate a state of higher attentional focus with the high control-demand cue, which in turn means more efficient processing - or responding quicker to incongruent trials and potentially slower to congruent trials."
   ]
  },
  {
   "cell_type": "code",
   "execution_count": 72,
   "metadata": {},
   "outputs": [
    {
     "data": {
      "text/plain": [
       "ContextCong\n",
       "HighC     638.383463\n",
       "HighIC    706.021583\n",
       "LowC      640.344318\n",
       "LowIC     709.341447\n",
       "Name: RT, dtype: float64"
      ]
     },
     "execution_count": 72,
     "metadata": {},
     "output_type": "execute_result"
    }
   ],
   "source": [
    "sub_RTmeans = cdat.groupby(['subject','ContextCong'])['RT'].mean()\n",
    "RTgrpmean = pd.Series.mean(sub_RTmeans,level=1)\n",
    "RTgrpmean"
   ]
  },
  {
   "cell_type": "code",
   "execution_count": 73,
   "metadata": {},
   "outputs": [
    {
     "data": {
      "text/plain": [
       "ContextCong\n",
       "HighC     51.222170\n",
       "HighIC    50.647925\n",
       "LowC      47.753406\n",
       "LowIC     52.617382\n",
       "Name: RT, dtype: float64"
      ]
     },
     "execution_count": 73,
     "metadata": {},
     "output_type": "execute_result"
    }
   ],
   "source": [
    "RTgrpstd = pd.Series.std(sub_RTmeans,level=1)\n",
    "RTgrpstd"
   ]
  },
  {
   "cell_type": "code",
   "execution_count": 74,
   "metadata": {},
   "outputs": [
    {
     "data": {
      "text/plain": [
       "ContextCong\n",
       "HighC     5.995102\n",
       "HighIC    5.927891\n",
       "LowC      5.589113\n",
       "LowIC     6.158399\n",
       "Name: RT, dtype: float64"
      ]
     },
     "execution_count": 74,
     "metadata": {},
     "output_type": "execute_result"
    }
   ],
   "source": [
    "n = math.sqrt(73)\n",
    "RTstderror = RTgrpstd / n\n",
    "RTstderror"
   ]
  },
  {
   "cell_type": "markdown",
   "metadata": {},
   "source": [
    "#### Judging by these initial numbers, we are unlikely to find an interaction between cue & congruency. Is that true of Accuracy?"
   ]
  },
  {
   "cell_type": "code",
   "execution_count": 75,
   "metadata": {},
   "outputs": [
    {
     "data": {
      "text/plain": [
       "ContextCong\n",
       "HighC     0.930223\n",
       "HighIC    0.863422\n",
       "LowC      0.932028\n",
       "LowIC     0.858305\n",
       "Name: Accuracy, dtype: float64"
      ]
     },
     "execution_count": 75,
     "metadata": {},
     "output_type": "execute_result"
    }
   ],
   "source": [
    "sub_ACCmeans = adat.groupby(['subject','ContextCong'])['Accuracy'].mean()\n",
    "ACCgrpmean = pd.Series.mean(sub_ACCmeans,level=1)\n",
    "ACCgrpmean"
   ]
  },
  {
   "cell_type": "code",
   "execution_count": 76,
   "metadata": {},
   "outputs": [
    {
     "data": {
      "text/plain": [
       "ContextCong\n",
       "HighC     0.075928\n",
       "HighIC    0.068827\n",
       "LowC      0.056138\n",
       "LowIC     0.092010\n",
       "Name: Accuracy, dtype: float64"
      ]
     },
     "execution_count": 76,
     "metadata": {},
     "output_type": "execute_result"
    }
   ],
   "source": [
    "ACCgrpstd = pd.Series.std(sub_ACCmeans,level=1)\n",
    "ACCgrpstd"
   ]
  },
  {
   "cell_type": "code",
   "execution_count": 77,
   "metadata": {},
   "outputs": [
    {
     "data": {
      "text/plain": [
       "ContextCong\n",
       "HighC     0.008887\n",
       "HighIC    0.008056\n",
       "LowC      0.006570\n",
       "LowIC     0.010769\n",
       "Name: Accuracy, dtype: float64"
      ]
     },
     "execution_count": 77,
     "metadata": {},
     "output_type": "execute_result"
    }
   ],
   "source": [
    "ACCstderror = ACCgrpstd / n\n",
    "ACCstderror"
   ]
  },
  {
   "cell_type": "markdown",
   "metadata": {},
   "source": [
    "# Creating Variables to Run Statistics"
   ]
  },
  {
   "cell_type": "markdown",
   "metadata": {},
   "source": [
    "#### This is a Python set of analyses, where the data above are organized in what's called \"long-form\" and to run statistics, I need \"wide-form\" data. So I am creating a new \"dataframe\" with the RT and accuracy means for congruent & incongruent trials, after presentation of the low & high control-demand cue, for each subject."
   ]
  },
  {
   "cell_type": "code",
   "execution_count": 78,
   "metadata": {
    "collapsed": true
   },
   "outputs": [],
   "source": [
    "RTanalysis = pd.DataFrame()\n",
    "lists = [[] for list in range(0,7)]\n",
    "\n",
    "for ID in range(10,83):\n",
    "    sub = cdat[cdat.subject == ID]\n",
    "    lists[0].append(ID)\n",
    "    LowCRT_trials = sub[sub.ContextCong == 'LowC'].RT.mean()\n",
    "    LowICRT_trials = sub[sub.ContextCong == 'LowIC'].RT.mean()\n",
    "    HighCRT_trials = sub[sub.ContextCong == 'HighC'].RT.mean()\n",
    "    HighICRT_trials = sub[sub.ContextCong == 'HighIC'].RT.mean()    \n",
    "    lists[1].append(LowCRT_trials)\n",
    "    lists[2].append(LowICRT_trials)\n",
    "    lists[3].append(HighCRT_trials)\n",
    "    lists[4].append(HighICRT_trials)\n",
    "    \n",
    "RTanalysis['SubjectID'] = lists[0]\n",
    "RTanalysis['LowC'] = lists[1]\n",
    "RTanalysis['LowIC'] = lists[2]\n",
    "RTanalysis['HighC'] = lists[3]\n",
    "RTanalysis['HighIC'] = lists[4]"
   ]
  },
  {
   "cell_type": "code",
   "execution_count": 79,
   "metadata": {
    "collapsed": true
   },
   "outputs": [],
   "source": [
    "ACCanalysis = pd.DataFrame()\n",
    "new_lists = [[] for list in range(0,7)]\n",
    "\n",
    "for ID in range(10,83):\n",
    "    sub = adat[adat.subject == ID]\n",
    "    new_lists[0].append(ID)\n",
    "    LowCACC_trials = sub[sub.ContextCong == 'LowC'].Accuracy.mean()\n",
    "    LowICACC_trials = sub[sub.ContextCong == 'LowIC'].Accuracy.mean()\n",
    "    HighCACC_trials = sub[sub.ContextCong == 'HighC'].Accuracy.mean()\n",
    "    HighICACC_trials = sub[sub.ContextCong == 'HighIC'].Accuracy.mean()    \n",
    "    new_lists[1].append(LowCACC_trials)\n",
    "    new_lists[2].append(LowICACC_trials)\n",
    "    new_lists[3].append(HighCACC_trials)\n",
    "    new_lists[4].append(HighICACC_trials)\n",
    "    \n",
    "ACCanalysis['SubjectID'] = new_lists[0]\n",
    "ACCanalysis['LowC'] = new_lists[1]\n",
    "ACCanalysis['LowIC'] = new_lists[2]\n",
    "ACCanalysis['HighC'] = new_lists[3]\n",
    "ACCanalysis['HighIC'] = new_lists[4]"
   ]
  },
  {
   "cell_type": "code",
   "execution_count": 80,
   "metadata": {
    "collapsed": true
   },
   "outputs": [],
   "source": [
    "#now for run as well\n",
    "\n",
    "RTrunanalysis = pd.DataFrame()\n",
    "new_RTlists = [[] for list in range(0,8)]\n",
    "\n",
    "for ID in range(10,83):\n",
    "    sub = cdat[cdat.subject == ID]\n",
    "    for runID in range(0,4):\n",
    "        run = sub[sub.RunCounter == runID]\n",
    "        new_RTlists[0].append(ID)\n",
    "        new_RTlists[1].append(runID)\n",
    "        LowCRT_trials = run[run.ContextCong == 'LowC'].RT.mean()\n",
    "        LowICRT_trials = run[run.ContextCong == 'LowIC'].RT.mean()\n",
    "        HighCRT_trials = run[run.ContextCong == 'HighC'].RT.mean()\n",
    "        HighICRT_trials = run[run.ContextCong == 'HighIC'].RT.mean()    \n",
    "        new_RTlists[2].append(LowCRT_trials)\n",
    "        new_RTlists[3].append(LowICRT_trials)\n",
    "        new_RTlists[4].append(HighCRT_trials)\n",
    "        new_RTlists[5].append(HighICRT_trials)\n",
    "    \n",
    "RTrunanalysis['SubjectID'] = new_RTlists[0]\n",
    "RTrunanalysis['Run'] = new_RTlists[1]\n",
    "RTrunanalysis['LowC'] = new_RTlists[2]\n",
    "RTrunanalysis['LowIC'] = new_RTlists[3]\n",
    "RTrunanalysis['HighC'] = new_RTlists[4]\n",
    "RTrunanalysis['HighIC'] = new_RTlists[5]"
   ]
  },
  {
   "cell_type": "code",
   "execution_count": 81,
   "metadata": {
    "collapsed": true
   },
   "outputs": [],
   "source": [
    "#repeat for accuracy\n",
    "\n",
    "ACCrunanalysis = pd.DataFrame()\n",
    "new_acclists = [[] for list in range(0,8)]\n",
    "\n",
    "for ID in range(10,83):\n",
    "    sub = adat[adat.subject == ID]\n",
    "    for runID in range(0,4):\n",
    "        run = sub[sub.RunCounter == runID]\n",
    "        new_acclists[0].append(ID)\n",
    "        new_acclists[1].append(runID)\n",
    "        LowCACC_trials = run[run.ContextCong == 'LowC'].Accuracy.mean()\n",
    "        LowICACC_trials = run[run.ContextCong == 'LowIC'].Accuracy.mean()\n",
    "        HighCACC_trials = run[run.ContextCong == 'HighC'].Accuracy.mean()\n",
    "        HighICACC_trials = run[run.ContextCong == 'HighIC'].Accuracy.mean()    \n",
    "        new_acclists[2].append(LowCACC_trials)\n",
    "        new_acclists[3].append(LowICACC_trials)\n",
    "        new_acclists[4].append(HighCACC_trials)\n",
    "        new_acclists[5].append(HighICACC_trials)\n",
    "    \n",
    "ACCrunanalysis['SubjectID'] = new_acclists[0]\n",
    "ACCrunanalysis['Run'] = new_acclists[1]\n",
    "ACCrunanalysis['LowC'] = new_acclists[2]\n",
    "ACCrunanalysis['LowIC'] = new_acclists[3]\n",
    "ACCrunanalysis['HighC'] = new_acclists[4]\n",
    "ACCrunanalysis['HighIC'] = new_acclists[5]"
   ]
  },
  {
   "cell_type": "markdown",
   "metadata": {},
   "source": [
    "# Run Actual Statistics"
   ]
  },
  {
   "cell_type": "markdown",
   "metadata": {},
   "source": [
    "#### For the S-C phase, we run a repeated-measures ANOVA comparing RTs and accuracies for control-demand cue (low/high) & congruency (congruent/incongruent) & run (4).\n",
    "\n",
    "Unfortunately, Python does not have the capability for repeated-measures ANOVA. I could install \"pyvtttbl\" for Python, but it's not as accurate as R, SPSS, etc. So in this particular notebook, I will run a paired t-test for the interaction effect, and I will include R code to run the ANOVA."
   ]
  },
  {
   "cell_type": "code",
   "execution_count": 82,
   "metadata": {},
   "outputs": [
    {
     "data": {
      "text/plain": [
       "Ttest_relResult(statistic=0.37588175925419026, pvalue=0.70811004039236281)"
      ]
     },
     "execution_count": 82,
     "metadata": {},
     "output_type": "execute_result"
    }
   ],
   "source": [
    "LowCongDiff = RTanalysis.LowIC - RTanalysis.LowC;\n",
    "HighCongDiff = RTanalysis.HighIC - RTanalysis.HighC;\n",
    "stats.ttest_rel(LowCongDiff, HighCongDiff)"
   ]
  },
  {
   "cell_type": "code",
   "execution_count": 83,
   "metadata": {},
   "outputs": [
    {
     "data": {
      "text/plain": [
       "Ttest_relResult(statistic=-0.65390793096077038, pvalue=0.51525426867190816)"
      ]
     },
     "execution_count": 83,
     "metadata": {},
     "output_type": "execute_result"
    }
   ],
   "source": [
    "LowCongDiffACC = ACCanalysis.LowIC - ACCanalysis.LowC;\n",
    "HighCongDiffACC = ACCanalysis.HighIC - ACCanalysis.HighC;\n",
    "stats.ttest_rel(LowCongDiffACC, HighCongDiffACC)"
   ]
  },
  {
   "cell_type": "code",
   "execution_count": 84,
   "metadata": {
    "collapsed": true
   },
   "outputs": [],
   "source": [
    "#can look at more things, like Bayesian confidence intervals\n",
    "stats.bayes_mvs(RTanalysis.LowC);\n",
    "stats.bayes_mvs(RTanalysis.LowIC);\n",
    "stats.bayes_mvs(RTanalysis.HighC);\n",
    "stats.bayes_mvs(RTanalysis.HighIC);\n",
    "stats.bayes_mvs(ACCanalysis.LowC);\n",
    "stats.bayes_mvs(ACCanalysis.LowIC);\n",
    "stats.bayes_mvs(ACCanalysis.HighC);\n",
    "stats.bayes_mvs(ACCanalysis.HighIC);"
   ]
  },
  {
   "cell_type": "markdown",
   "metadata": {},
   "source": [
    "#### In sum: no significant interaction or main effect of cue but a main effect of congruency on RT & accuracy"
   ]
  },
  {
   "cell_type": "markdown",
   "metadata": {},
   "source": [
    "# Look at the Results Graphically"
   ]
  },
  {
   "cell_type": "markdown",
   "metadata": {},
   "source": [
    "Note that the graphs generated mimic the paper, but I used Matlab to generate the figures, because I like their graphics more.\n",
    "\n",
    "Note: I increased the y-axis for this RT graph so that it would fit my legend without any overlap."
   ]
  },
  {
   "cell_type": "code",
   "execution_count": 85,
   "metadata": {
    "collapsed": true
   },
   "outputs": [],
   "source": [
    "sns.set(context='notebook', style='white', font='Myriad Pro', font_scale=2, color_codes=False, rc=None);"
   ]
  },
  {
   "cell_type": "code",
   "execution_count": 86,
   "metadata": {},
   "outputs": [
    {
     "data": {
      "application/javascript": [
       "/* Put everything inside the global mpl namespace */\n",
       "window.mpl = {};\n",
       "\n",
       "mpl.get_websocket_type = function() {\n",
       "    if (typeof(WebSocket) !== 'undefined') {\n",
       "        return WebSocket;\n",
       "    } else if (typeof(MozWebSocket) !== 'undefined') {\n",
       "        return MozWebSocket;\n",
       "    } else {\n",
       "        alert('Your browser does not have WebSocket support.' +\n",
       "              'Please try Chrome, Safari or Firefox ≥ 6. ' +\n",
       "              'Firefox 4 and 5 are also supported but you ' +\n",
       "              'have to enable WebSockets in about:config.');\n",
       "    };\n",
       "}\n",
       "\n",
       "mpl.figure = function(figure_id, websocket, ondownload, parent_element) {\n",
       "    this.id = figure_id;\n",
       "\n",
       "    this.ws = websocket;\n",
       "\n",
       "    this.supports_binary = (this.ws.binaryType != undefined);\n",
       "\n",
       "    if (!this.supports_binary) {\n",
       "        var warnings = document.getElementById(\"mpl-warnings\");\n",
       "        if (warnings) {\n",
       "            warnings.style.display = 'block';\n",
       "            warnings.textContent = (\n",
       "                \"This browser does not support binary websocket messages. \" +\n",
       "                    \"Performance may be slow.\");\n",
       "        }\n",
       "    }\n",
       "\n",
       "    this.imageObj = new Image();\n",
       "\n",
       "    this.context = undefined;\n",
       "    this.message = undefined;\n",
       "    this.canvas = undefined;\n",
       "    this.rubberband_canvas = undefined;\n",
       "    this.rubberband_context = undefined;\n",
       "    this.format_dropdown = undefined;\n",
       "\n",
       "    this.image_mode = 'full';\n",
       "\n",
       "    this.root = $('<div/>');\n",
       "    this._root_extra_style(this.root)\n",
       "    this.root.attr('style', 'display: inline-block');\n",
       "\n",
       "    $(parent_element).append(this.root);\n",
       "\n",
       "    this._init_header(this);\n",
       "    this._init_canvas(this);\n",
       "    this._init_toolbar(this);\n",
       "\n",
       "    var fig = this;\n",
       "\n",
       "    this.waiting = false;\n",
       "\n",
       "    this.ws.onopen =  function () {\n",
       "            fig.send_message(\"supports_binary\", {value: fig.supports_binary});\n",
       "            fig.send_message(\"send_image_mode\", {});\n",
       "            fig.send_message(\"refresh\", {});\n",
       "        }\n",
       "\n",
       "    this.imageObj.onload = function() {\n",
       "            if (fig.image_mode == 'full') {\n",
       "                // Full images could contain transparency (where diff images\n",
       "                // almost always do), so we need to clear the canvas so that\n",
       "                // there is no ghosting.\n",
       "                fig.context.clearRect(0, 0, fig.canvas.width, fig.canvas.height);\n",
       "            }\n",
       "            fig.context.drawImage(fig.imageObj, 0, 0);\n",
       "        };\n",
       "\n",
       "    this.imageObj.onunload = function() {\n",
       "        this.ws.close();\n",
       "    }\n",
       "\n",
       "    this.ws.onmessage = this._make_on_message_function(this);\n",
       "\n",
       "    this.ondownload = ondownload;\n",
       "}\n",
       "\n",
       "mpl.figure.prototype._init_header = function() {\n",
       "    var titlebar = $(\n",
       "        '<div class=\"ui-dialog-titlebar ui-widget-header ui-corner-all ' +\n",
       "        'ui-helper-clearfix\"/>');\n",
       "    var titletext = $(\n",
       "        '<div class=\"ui-dialog-title\" style=\"width: 100%; ' +\n",
       "        'text-align: center; padding: 3px;\"/>');\n",
       "    titlebar.append(titletext)\n",
       "    this.root.append(titlebar);\n",
       "    this.header = titletext[0];\n",
       "}\n",
       "\n",
       "\n",
       "\n",
       "mpl.figure.prototype._canvas_extra_style = function(canvas_div) {\n",
       "\n",
       "}\n",
       "\n",
       "\n",
       "mpl.figure.prototype._root_extra_style = function(canvas_div) {\n",
       "\n",
       "}\n",
       "\n",
       "mpl.figure.prototype._init_canvas = function() {\n",
       "    var fig = this;\n",
       "\n",
       "    var canvas_div = $('<div/>');\n",
       "\n",
       "    canvas_div.attr('style', 'position: relative; clear: both; outline: 0');\n",
       "\n",
       "    function canvas_keyboard_event(event) {\n",
       "        return fig.key_event(event, event['data']);\n",
       "    }\n",
       "\n",
       "    canvas_div.keydown('key_press', canvas_keyboard_event);\n",
       "    canvas_div.keyup('key_release', canvas_keyboard_event);\n",
       "    this.canvas_div = canvas_div\n",
       "    this._canvas_extra_style(canvas_div)\n",
       "    this.root.append(canvas_div);\n",
       "\n",
       "    var canvas = $('<canvas/>');\n",
       "    canvas.addClass('mpl-canvas');\n",
       "    canvas.attr('style', \"left: 0; top: 0; z-index: 0; outline: 0\")\n",
       "\n",
       "    this.canvas = canvas[0];\n",
       "    this.context = canvas[0].getContext(\"2d\");\n",
       "\n",
       "    var rubberband = $('<canvas/>');\n",
       "    rubberband.attr('style', \"position: absolute; left: 0; top: 0; z-index: 1;\")\n",
       "\n",
       "    var pass_mouse_events = true;\n",
       "\n",
       "    canvas_div.resizable({\n",
       "        start: function(event, ui) {\n",
       "            pass_mouse_events = false;\n",
       "        },\n",
       "        resize: function(event, ui) {\n",
       "            fig.request_resize(ui.size.width, ui.size.height);\n",
       "        },\n",
       "        stop: function(event, ui) {\n",
       "            pass_mouse_events = true;\n",
       "            fig.request_resize(ui.size.width, ui.size.height);\n",
       "        },\n",
       "    });\n",
       "\n",
       "    function mouse_event_fn(event) {\n",
       "        if (pass_mouse_events)\n",
       "            return fig.mouse_event(event, event['data']);\n",
       "    }\n",
       "\n",
       "    rubberband.mousedown('button_press', mouse_event_fn);\n",
       "    rubberband.mouseup('button_release', mouse_event_fn);\n",
       "    // Throttle sequential mouse events to 1 every 20ms.\n",
       "    rubberband.mousemove('motion_notify', mouse_event_fn);\n",
       "\n",
       "    rubberband.mouseenter('figure_enter', mouse_event_fn);\n",
       "    rubberband.mouseleave('figure_leave', mouse_event_fn);\n",
       "\n",
       "    canvas_div.on(\"wheel\", function (event) {\n",
       "        event = event.originalEvent;\n",
       "        event['data'] = 'scroll'\n",
       "        if (event.deltaY < 0) {\n",
       "            event.step = 1;\n",
       "        } else {\n",
       "            event.step = -1;\n",
       "        }\n",
       "        mouse_event_fn(event);\n",
       "    });\n",
       "\n",
       "    canvas_div.append(canvas);\n",
       "    canvas_div.append(rubberband);\n",
       "\n",
       "    this.rubberband = rubberband;\n",
       "    this.rubberband_canvas = rubberband[0];\n",
       "    this.rubberband_context = rubberband[0].getContext(\"2d\");\n",
       "    this.rubberband_context.strokeStyle = \"#000000\";\n",
       "\n",
       "    this._resize_canvas = function(width, height) {\n",
       "        // Keep the size of the canvas, canvas container, and rubber band\n",
       "        // canvas in synch.\n",
       "        canvas_div.css('width', width)\n",
       "        canvas_div.css('height', height)\n",
       "\n",
       "        canvas.attr('width', width);\n",
       "        canvas.attr('height', height);\n",
       "\n",
       "        rubberband.attr('width', width);\n",
       "        rubberband.attr('height', height);\n",
       "    }\n",
       "\n",
       "    // Set the figure to an initial 600x600px, this will subsequently be updated\n",
       "    // upon first draw.\n",
       "    this._resize_canvas(600, 600);\n",
       "\n",
       "    // Disable right mouse context menu.\n",
       "    $(this.rubberband_canvas).bind(\"contextmenu\",function(e){\n",
       "        return false;\n",
       "    });\n",
       "\n",
       "    function set_focus () {\n",
       "        canvas.focus();\n",
       "        canvas_div.focus();\n",
       "    }\n",
       "\n",
       "    window.setTimeout(set_focus, 100);\n",
       "}\n",
       "\n",
       "mpl.figure.prototype._init_toolbar = function() {\n",
       "    var fig = this;\n",
       "\n",
       "    var nav_element = $('<div/>')\n",
       "    nav_element.attr('style', 'width: 100%');\n",
       "    this.root.append(nav_element);\n",
       "\n",
       "    // Define a callback function for later on.\n",
       "    function toolbar_event(event) {\n",
       "        return fig.toolbar_button_onclick(event['data']);\n",
       "    }\n",
       "    function toolbar_mouse_event(event) {\n",
       "        return fig.toolbar_button_onmouseover(event['data']);\n",
       "    }\n",
       "\n",
       "    for(var toolbar_ind in mpl.toolbar_items) {\n",
       "        var name = mpl.toolbar_items[toolbar_ind][0];\n",
       "        var tooltip = mpl.toolbar_items[toolbar_ind][1];\n",
       "        var image = mpl.toolbar_items[toolbar_ind][2];\n",
       "        var method_name = mpl.toolbar_items[toolbar_ind][3];\n",
       "\n",
       "        if (!name) {\n",
       "            // put a spacer in here.\n",
       "            continue;\n",
       "        }\n",
       "        var button = $('<button/>');\n",
       "        button.addClass('ui-button ui-widget ui-state-default ui-corner-all ' +\n",
       "                        'ui-button-icon-only');\n",
       "        button.attr('role', 'button');\n",
       "        button.attr('aria-disabled', 'false');\n",
       "        button.click(method_name, toolbar_event);\n",
       "        button.mouseover(tooltip, toolbar_mouse_event);\n",
       "\n",
       "        var icon_img = $('<span/>');\n",
       "        icon_img.addClass('ui-button-icon-primary ui-icon');\n",
       "        icon_img.addClass(image);\n",
       "        icon_img.addClass('ui-corner-all');\n",
       "\n",
       "        var tooltip_span = $('<span/>');\n",
       "        tooltip_span.addClass('ui-button-text');\n",
       "        tooltip_span.html(tooltip);\n",
       "\n",
       "        button.append(icon_img);\n",
       "        button.append(tooltip_span);\n",
       "\n",
       "        nav_element.append(button);\n",
       "    }\n",
       "\n",
       "    var fmt_picker_span = $('<span/>');\n",
       "\n",
       "    var fmt_picker = $('<select/>');\n",
       "    fmt_picker.addClass('mpl-toolbar-option ui-widget ui-widget-content');\n",
       "    fmt_picker_span.append(fmt_picker);\n",
       "    nav_element.append(fmt_picker_span);\n",
       "    this.format_dropdown = fmt_picker[0];\n",
       "\n",
       "    for (var ind in mpl.extensions) {\n",
       "        var fmt = mpl.extensions[ind];\n",
       "        var option = $(\n",
       "            '<option/>', {selected: fmt === mpl.default_extension}).html(fmt);\n",
       "        fmt_picker.append(option)\n",
       "    }\n",
       "\n",
       "    // Add hover states to the ui-buttons\n",
       "    $( \".ui-button\" ).hover(\n",
       "        function() { $(this).addClass(\"ui-state-hover\");},\n",
       "        function() { $(this).removeClass(\"ui-state-hover\");}\n",
       "    );\n",
       "\n",
       "    var status_bar = $('<span class=\"mpl-message\"/>');\n",
       "    nav_element.append(status_bar);\n",
       "    this.message = status_bar[0];\n",
       "}\n",
       "\n",
       "mpl.figure.prototype.request_resize = function(x_pixels, y_pixels) {\n",
       "    // Request matplotlib to resize the figure. Matplotlib will then trigger a resize in the client,\n",
       "    // which will in turn request a refresh of the image.\n",
       "    this.send_message('resize', {'width': x_pixels, 'height': y_pixels});\n",
       "}\n",
       "\n",
       "mpl.figure.prototype.send_message = function(type, properties) {\n",
       "    properties['type'] = type;\n",
       "    properties['figure_id'] = this.id;\n",
       "    this.ws.send(JSON.stringify(properties));\n",
       "}\n",
       "\n",
       "mpl.figure.prototype.send_draw_message = function() {\n",
       "    if (!this.waiting) {\n",
       "        this.waiting = true;\n",
       "        this.ws.send(JSON.stringify({type: \"draw\", figure_id: this.id}));\n",
       "    }\n",
       "}\n",
       "\n",
       "\n",
       "mpl.figure.prototype.handle_save = function(fig, msg) {\n",
       "    var format_dropdown = fig.format_dropdown;\n",
       "    var format = format_dropdown.options[format_dropdown.selectedIndex].value;\n",
       "    fig.ondownload(fig, format);\n",
       "}\n",
       "\n",
       "\n",
       "mpl.figure.prototype.handle_resize = function(fig, msg) {\n",
       "    var size = msg['size'];\n",
       "    if (size[0] != fig.canvas.width || size[1] != fig.canvas.height) {\n",
       "        fig._resize_canvas(size[0], size[1]);\n",
       "        fig.send_message(\"refresh\", {});\n",
       "    };\n",
       "}\n",
       "\n",
       "mpl.figure.prototype.handle_rubberband = function(fig, msg) {\n",
       "    var x0 = msg['x0'];\n",
       "    var y0 = fig.canvas.height - msg['y0'];\n",
       "    var x1 = msg['x1'];\n",
       "    var y1 = fig.canvas.height - msg['y1'];\n",
       "    x0 = Math.floor(x0) + 0.5;\n",
       "    y0 = Math.floor(y0) + 0.5;\n",
       "    x1 = Math.floor(x1) + 0.5;\n",
       "    y1 = Math.floor(y1) + 0.5;\n",
       "    var min_x = Math.min(x0, x1);\n",
       "    var min_y = Math.min(y0, y1);\n",
       "    var width = Math.abs(x1 - x0);\n",
       "    var height = Math.abs(y1 - y0);\n",
       "\n",
       "    fig.rubberband_context.clearRect(\n",
       "        0, 0, fig.canvas.width, fig.canvas.height);\n",
       "\n",
       "    fig.rubberband_context.strokeRect(min_x, min_y, width, height);\n",
       "}\n",
       "\n",
       "mpl.figure.prototype.handle_figure_label = function(fig, msg) {\n",
       "    // Updates the figure title.\n",
       "    fig.header.textContent = msg['label'];\n",
       "}\n",
       "\n",
       "mpl.figure.prototype.handle_cursor = function(fig, msg) {\n",
       "    var cursor = msg['cursor'];\n",
       "    switch(cursor)\n",
       "    {\n",
       "    case 0:\n",
       "        cursor = 'pointer';\n",
       "        break;\n",
       "    case 1:\n",
       "        cursor = 'default';\n",
       "        break;\n",
       "    case 2:\n",
       "        cursor = 'crosshair';\n",
       "        break;\n",
       "    case 3:\n",
       "        cursor = 'move';\n",
       "        break;\n",
       "    }\n",
       "    fig.rubberband_canvas.style.cursor = cursor;\n",
       "}\n",
       "\n",
       "mpl.figure.prototype.handle_message = function(fig, msg) {\n",
       "    fig.message.textContent = msg['message'];\n",
       "}\n",
       "\n",
       "mpl.figure.prototype.handle_draw = function(fig, msg) {\n",
       "    // Request the server to send over a new figure.\n",
       "    fig.send_draw_message();\n",
       "}\n",
       "\n",
       "mpl.figure.prototype.handle_image_mode = function(fig, msg) {\n",
       "    fig.image_mode = msg['mode'];\n",
       "}\n",
       "\n",
       "mpl.figure.prototype.updated_canvas_event = function() {\n",
       "    // Called whenever the canvas gets updated.\n",
       "    this.send_message(\"ack\", {});\n",
       "}\n",
       "\n",
       "// A function to construct a web socket function for onmessage handling.\n",
       "// Called in the figure constructor.\n",
       "mpl.figure.prototype._make_on_message_function = function(fig) {\n",
       "    return function socket_on_message(evt) {\n",
       "        if (evt.data instanceof Blob) {\n",
       "            /* FIXME: We get \"Resource interpreted as Image but\n",
       "             * transferred with MIME type text/plain:\" errors on\n",
       "             * Chrome.  But how to set the MIME type?  It doesn't seem\n",
       "             * to be part of the websocket stream */\n",
       "            evt.data.type = \"image/png\";\n",
       "\n",
       "            /* Free the memory for the previous frames */\n",
       "            if (fig.imageObj.src) {\n",
       "                (window.URL || window.webkitURL).revokeObjectURL(\n",
       "                    fig.imageObj.src);\n",
       "            }\n",
       "\n",
       "            fig.imageObj.src = (window.URL || window.webkitURL).createObjectURL(\n",
       "                evt.data);\n",
       "            fig.updated_canvas_event();\n",
       "            fig.waiting = false;\n",
       "            return;\n",
       "        }\n",
       "        else if (typeof evt.data === 'string' && evt.data.slice(0, 21) == \"data:image/png;base64\") {\n",
       "            fig.imageObj.src = evt.data;\n",
       "            fig.updated_canvas_event();\n",
       "            fig.waiting = false;\n",
       "            return;\n",
       "        }\n",
       "\n",
       "        var msg = JSON.parse(evt.data);\n",
       "        var msg_type = msg['type'];\n",
       "\n",
       "        // Call the  \"handle_{type}\" callback, which takes\n",
       "        // the figure and JSON message as its only arguments.\n",
       "        try {\n",
       "            var callback = fig[\"handle_\" + msg_type];\n",
       "        } catch (e) {\n",
       "            console.log(\"No handler for the '\" + msg_type + \"' message type: \", msg);\n",
       "            return;\n",
       "        }\n",
       "\n",
       "        if (callback) {\n",
       "            try {\n",
       "                // console.log(\"Handling '\" + msg_type + \"' message: \", msg);\n",
       "                callback(fig, msg);\n",
       "            } catch (e) {\n",
       "                console.log(\"Exception inside the 'handler_\" + msg_type + \"' callback:\", e, e.stack, msg);\n",
       "            }\n",
       "        }\n",
       "    };\n",
       "}\n",
       "\n",
       "// from http://stackoverflow.com/questions/1114465/getting-mouse-location-in-canvas\n",
       "mpl.findpos = function(e) {\n",
       "    //this section is from http://www.quirksmode.org/js/events_properties.html\n",
       "    var targ;\n",
       "    if (!e)\n",
       "        e = window.event;\n",
       "    if (e.target)\n",
       "        targ = e.target;\n",
       "    else if (e.srcElement)\n",
       "        targ = e.srcElement;\n",
       "    if (targ.nodeType == 3) // defeat Safari bug\n",
       "        targ = targ.parentNode;\n",
       "\n",
       "    // jQuery normalizes the pageX and pageY\n",
       "    // pageX,Y are the mouse positions relative to the document\n",
       "    // offset() returns the position of the element relative to the document\n",
       "    var x = e.pageX - $(targ).offset().left;\n",
       "    var y = e.pageY - $(targ).offset().top;\n",
       "\n",
       "    return {\"x\": x, \"y\": y};\n",
       "};\n",
       "\n",
       "/*\n",
       " * return a copy of an object with only non-object keys\n",
       " * we need this to avoid circular references\n",
       " * http://stackoverflow.com/a/24161582/3208463\n",
       " */\n",
       "function simpleKeys (original) {\n",
       "  return Object.keys(original).reduce(function (obj, key) {\n",
       "    if (typeof original[key] !== 'object')\n",
       "        obj[key] = original[key]\n",
       "    return obj;\n",
       "  }, {});\n",
       "}\n",
       "\n",
       "mpl.figure.prototype.mouse_event = function(event, name) {\n",
       "    var canvas_pos = mpl.findpos(event)\n",
       "\n",
       "    if (name === 'button_press')\n",
       "    {\n",
       "        this.canvas.focus();\n",
       "        this.canvas_div.focus();\n",
       "    }\n",
       "\n",
       "    var x = canvas_pos.x;\n",
       "    var y = canvas_pos.y;\n",
       "\n",
       "    this.send_message(name, {x: x, y: y, button: event.button,\n",
       "                             step: event.step,\n",
       "                             guiEvent: simpleKeys(event)});\n",
       "\n",
       "    /* This prevents the web browser from automatically changing to\n",
       "     * the text insertion cursor when the button is pressed.  We want\n",
       "     * to control all of the cursor setting manually through the\n",
       "     * 'cursor' event from matplotlib */\n",
       "    event.preventDefault();\n",
       "    return false;\n",
       "}\n",
       "\n",
       "mpl.figure.prototype._key_event_extra = function(event, name) {\n",
       "    // Handle any extra behaviour associated with a key event\n",
       "}\n",
       "\n",
       "mpl.figure.prototype.key_event = function(event, name) {\n",
       "\n",
       "    // Prevent repeat events\n",
       "    if (name == 'key_press')\n",
       "    {\n",
       "        if (event.which === this._key)\n",
       "            return;\n",
       "        else\n",
       "            this._key = event.which;\n",
       "    }\n",
       "    if (name == 'key_release')\n",
       "        this._key = null;\n",
       "\n",
       "    var value = '';\n",
       "    if (event.ctrlKey && event.which != 17)\n",
       "        value += \"ctrl+\";\n",
       "    if (event.altKey && event.which != 18)\n",
       "        value += \"alt+\";\n",
       "    if (event.shiftKey && event.which != 16)\n",
       "        value += \"shift+\";\n",
       "\n",
       "    value += 'k';\n",
       "    value += event.which.toString();\n",
       "\n",
       "    this._key_event_extra(event, name);\n",
       "\n",
       "    this.send_message(name, {key: value,\n",
       "                             guiEvent: simpleKeys(event)});\n",
       "    return false;\n",
       "}\n",
       "\n",
       "mpl.figure.prototype.toolbar_button_onclick = function(name) {\n",
       "    if (name == 'download') {\n",
       "        this.handle_save(this, null);\n",
       "    } else {\n",
       "        this.send_message(\"toolbar_button\", {name: name});\n",
       "    }\n",
       "};\n",
       "\n",
       "mpl.figure.prototype.toolbar_button_onmouseover = function(tooltip) {\n",
       "    this.message.textContent = tooltip;\n",
       "};\n",
       "mpl.toolbar_items = [[\"Home\", \"Reset original view\", \"fa fa-home icon-home\", \"home\"], [\"Back\", \"Back to  previous view\", \"fa fa-arrow-left icon-arrow-left\", \"back\"], [\"Forward\", \"Forward to next view\", \"fa fa-arrow-right icon-arrow-right\", \"forward\"], [\"\", \"\", \"\", \"\"], [\"Pan\", \"Pan axes with left mouse, zoom with right\", \"fa fa-arrows icon-move\", \"pan\"], [\"Zoom\", \"Zoom to rectangle\", \"fa fa-square-o icon-check-empty\", \"zoom\"], [\"\", \"\", \"\", \"\"], [\"Download\", \"Download plot\", \"fa fa-floppy-o icon-save\", \"download\"]];\n",
       "\n",
       "mpl.extensions = [\"eps\", \"jpeg\", \"pdf\", \"png\", \"ps\", \"raw\", \"svg\", \"tif\"];\n",
       "\n",
       "mpl.default_extension = \"png\";var comm_websocket_adapter = function(comm) {\n",
       "    // Create a \"websocket\"-like object which calls the given IPython comm\n",
       "    // object with the appropriate methods. Currently this is a non binary\n",
       "    // socket, so there is still some room for performance tuning.\n",
       "    var ws = {};\n",
       "\n",
       "    ws.close = function() {\n",
       "        comm.close()\n",
       "    };\n",
       "    ws.send = function(m) {\n",
       "        //console.log('sending', m);\n",
       "        comm.send(m);\n",
       "    };\n",
       "    // Register the callback with on_msg.\n",
       "    comm.on_msg(function(msg) {\n",
       "        //console.log('receiving', msg['content']['data'], msg);\n",
       "        // Pass the mpl event to the overriden (by mpl) onmessage function.\n",
       "        ws.onmessage(msg['content']['data'])\n",
       "    });\n",
       "    return ws;\n",
       "}\n",
       "\n",
       "mpl.mpl_figure_comm = function(comm, msg) {\n",
       "    // This is the function which gets called when the mpl process\n",
       "    // starts-up an IPython Comm through the \"matplotlib\" channel.\n",
       "\n",
       "    var id = msg.content.data.id;\n",
       "    // Get hold of the div created by the display call when the Comm\n",
       "    // socket was opened in Python.\n",
       "    var element = $(\"#\" + id);\n",
       "    var ws_proxy = comm_websocket_adapter(comm)\n",
       "\n",
       "    function ondownload(figure, format) {\n",
       "        window.open(figure.imageObj.src);\n",
       "    }\n",
       "\n",
       "    var fig = new mpl.figure(id, ws_proxy,\n",
       "                           ondownload,\n",
       "                           element.get(0));\n",
       "\n",
       "    // Call onopen now - mpl needs it, as it is assuming we've passed it a real\n",
       "    // web socket which is closed, not our websocket->open comm proxy.\n",
       "    ws_proxy.onopen();\n",
       "\n",
       "    fig.parent_element = element.get(0);\n",
       "    fig.cell_info = mpl.find_output_cell(\"<div id='\" + id + \"'></div>\");\n",
       "    if (!fig.cell_info) {\n",
       "        console.error(\"Failed to find cell for figure\", id, fig);\n",
       "        return;\n",
       "    }\n",
       "\n",
       "    var output_index = fig.cell_info[2]\n",
       "    var cell = fig.cell_info[0];\n",
       "\n",
       "};\n",
       "\n",
       "mpl.figure.prototype.handle_close = function(fig, msg) {\n",
       "    fig.root.unbind('remove')\n",
       "\n",
       "    // Update the output cell to use the data from the current canvas.\n",
       "    fig.push_to_output();\n",
       "    var dataURL = fig.canvas.toDataURL();\n",
       "    // Re-enable the keyboard manager in IPython - without this line, in FF,\n",
       "    // the notebook keyboard shortcuts fail.\n",
       "    IPython.keyboard_manager.enable()\n",
       "    $(fig.parent_element).html('<img src=\"' + dataURL + '\">');\n",
       "    fig.close_ws(fig, msg);\n",
       "}\n",
       "\n",
       "mpl.figure.prototype.close_ws = function(fig, msg){\n",
       "    fig.send_message('closing', msg);\n",
       "    // fig.ws.close()\n",
       "}\n",
       "\n",
       "mpl.figure.prototype.push_to_output = function(remove_interactive) {\n",
       "    // Turn the data on the canvas into data in the output cell.\n",
       "    var dataURL = this.canvas.toDataURL();\n",
       "    this.cell_info[1]['text/html'] = '<img src=\"' + dataURL + '\">';\n",
       "}\n",
       "\n",
       "mpl.figure.prototype.updated_canvas_event = function() {\n",
       "    // Tell IPython that the notebook contents must change.\n",
       "    IPython.notebook.set_dirty(true);\n",
       "    this.send_message(\"ack\", {});\n",
       "    var fig = this;\n",
       "    // Wait a second, then push the new image to the DOM so\n",
       "    // that it is saved nicely (might be nice to debounce this).\n",
       "    setTimeout(function () { fig.push_to_output() }, 1000);\n",
       "}\n",
       "\n",
       "mpl.figure.prototype._init_toolbar = function() {\n",
       "    var fig = this;\n",
       "\n",
       "    var nav_element = $('<div/>')\n",
       "    nav_element.attr('style', 'width: 100%');\n",
       "    this.root.append(nav_element);\n",
       "\n",
       "    // Define a callback function for later on.\n",
       "    function toolbar_event(event) {\n",
       "        return fig.toolbar_button_onclick(event['data']);\n",
       "    }\n",
       "    function toolbar_mouse_event(event) {\n",
       "        return fig.toolbar_button_onmouseover(event['data']);\n",
       "    }\n",
       "\n",
       "    for(var toolbar_ind in mpl.toolbar_items){\n",
       "        var name = mpl.toolbar_items[toolbar_ind][0];\n",
       "        var tooltip = mpl.toolbar_items[toolbar_ind][1];\n",
       "        var image = mpl.toolbar_items[toolbar_ind][2];\n",
       "        var method_name = mpl.toolbar_items[toolbar_ind][3];\n",
       "\n",
       "        if (!name) { continue; };\n",
       "\n",
       "        var button = $('<button class=\"btn btn-default\" href=\"#\" title=\"' + name + '\"><i class=\"fa ' + image + ' fa-lg\"></i></button>');\n",
       "        button.click(method_name, toolbar_event);\n",
       "        button.mouseover(tooltip, toolbar_mouse_event);\n",
       "        nav_element.append(button);\n",
       "    }\n",
       "\n",
       "    // Add the status bar.\n",
       "    var status_bar = $('<span class=\"mpl-message\" style=\"text-align:right; float: right;\"/>');\n",
       "    nav_element.append(status_bar);\n",
       "    this.message = status_bar[0];\n",
       "\n",
       "    // Add the close button to the window.\n",
       "    var buttongrp = $('<div class=\"btn-group inline pull-right\"></div>');\n",
       "    var button = $('<button class=\"btn btn-mini btn-primary\" href=\"#\" title=\"Stop Interaction\"><i class=\"fa fa-power-off icon-remove icon-large\"></i></button>');\n",
       "    button.click(function (evt) { fig.handle_close(fig, {}); } );\n",
       "    button.mouseover('Stop Interaction', toolbar_mouse_event);\n",
       "    buttongrp.append(button);\n",
       "    var titlebar = this.root.find($('.ui-dialog-titlebar'));\n",
       "    titlebar.prepend(buttongrp);\n",
       "}\n",
       "\n",
       "mpl.figure.prototype._root_extra_style = function(el){\n",
       "    var fig = this\n",
       "    el.on(\"remove\", function(){\n",
       "\tfig.close_ws(fig, {});\n",
       "    });\n",
       "}\n",
       "\n",
       "mpl.figure.prototype._canvas_extra_style = function(el){\n",
       "    // this is important to make the div 'focusable\n",
       "    el.attr('tabindex', 0)\n",
       "    // reach out to IPython and tell the keyboard manager to turn it's self\n",
       "    // off when our div gets focus\n",
       "\n",
       "    // location in version 3\n",
       "    if (IPython.notebook.keyboard_manager) {\n",
       "        IPython.notebook.keyboard_manager.register_events(el);\n",
       "    }\n",
       "    else {\n",
       "        // location in version 2\n",
       "        IPython.keyboard_manager.register_events(el);\n",
       "    }\n",
       "\n",
       "}\n",
       "\n",
       "mpl.figure.prototype._key_event_extra = function(event, name) {\n",
       "    var manager = IPython.notebook.keyboard_manager;\n",
       "    if (!manager)\n",
       "        manager = IPython.keyboard_manager;\n",
       "\n",
       "    // Check for shift+enter\n",
       "    if (event.shiftKey && event.which == 13) {\n",
       "        this.canvas_div.blur();\n",
       "        event.shiftKey = false;\n",
       "        // Send a \"J\" for go to next cell\n",
       "        event.which = 74;\n",
       "        event.keyCode = 74;\n",
       "        manager.command_mode();\n",
       "        manager.handle_keydown(event);\n",
       "    }\n",
       "}\n",
       "\n",
       "mpl.figure.prototype.handle_save = function(fig, msg) {\n",
       "    fig.ondownload(fig, null);\n",
       "}\n",
       "\n",
       "\n",
       "mpl.find_output_cell = function(html_output) {\n",
       "    // Return the cell and output element which can be found *uniquely* in the notebook.\n",
       "    // Note - this is a bit hacky, but it is done because the \"notebook_saving.Notebook\"\n",
       "    // IPython event is triggered only after the cells have been serialised, which for\n",
       "    // our purposes (turning an active figure into a static one), is too late.\n",
       "    var cells = IPython.notebook.get_cells();\n",
       "    var ncells = cells.length;\n",
       "    for (var i=0; i<ncells; i++) {\n",
       "        var cell = cells[i];\n",
       "        if (cell.cell_type === 'code'){\n",
       "            for (var j=0; j<cell.output_area.outputs.length; j++) {\n",
       "                var data = cell.output_area.outputs[j];\n",
       "                if (data.data) {\n",
       "                    // IPython >= 3 moved mimebundle to data attribute of output\n",
       "                    data = data.data;\n",
       "                }\n",
       "                if (data['text/html'] == html_output) {\n",
       "                    return [cell, data, j];\n",
       "                }\n",
       "            }\n",
       "        }\n",
       "    }\n",
       "}\n",
       "\n",
       "// Register the function which deals with the matplotlib target/channel.\n",
       "// The kernel may be null if the page has been refreshed.\n",
       "if (IPython.notebook.kernel != null) {\n",
       "    IPython.notebook.kernel.comm_manager.register_target('matplotlib', mpl.mpl_figure_comm);\n",
       "}\n"
      ],
      "text/plain": [
       "<IPython.core.display.Javascript object>"
      ]
     },
     "metadata": {},
     "output_type": "display_data"
    },
    {
     "data": {
      "text/html": [
       "<img src=\"data:image/png;base64,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\">"
      ],
      "text/plain": [
       "<IPython.core.display.HTML object>"
      ]
     },
     "metadata": {},
     "output_type": "display_data"
    }
   ],
   "source": [
    "barwidth = 0.75; \n",
    "fig, ax = plt.subplots(figsize=(9, 7));\n",
    "rects1 = ax.bar(0.5,RTanalysis.LowC.mean(),barwidth,yerr=RTstderror.LowC,ecolor='k',edgecolor=sns.xkcd_rgb['green'],linewidth = 2, facecolor='none',error_kw=dict(lw=3),label='Congruent');\n",
    "rects2 = ax.bar(1.5,RTanalysis.LowIC.mean(),barwidth,color=sns.xkcd_rgb['green'],yerr=RTstderror.LowIC,ecolor='k',error_kw=dict(lw=3),label='Incongruent');\n",
    "rects3 = ax.bar(3,RTanalysis.HighC.mean(),barwidth,yerr=RTstderror.HighC,ecolor='k',edgecolor=(0.3,0.9,0.3),linewidth = 2, facecolor='none',error_kw=dict(lw=3));\n",
    "rects4 = ax.bar(4,RTanalysis.HighIC.mean(),barwidth,color=(0.3,0.9,0.3),yerr=RTstderror.HighIC,ecolor='k',error_kw=dict(lw=3));\n",
    "sns.set(context='notebook', style='white', font='Myriad Pro', font_scale=2, color_codes=False, rc=None);\n",
    "ax.set_ylim(610,750);\n",
    "ax.set_xlim(0,6);\n",
    "ax.set_xticklabels(('Low', 'High'));\n",
    "ax.set_xticks([1 + barwidth/2, 3.5 + barwidth/2]);\n",
    "ax.set_yticks(np.arange(610, 711, 20));\n",
    "plt.legend([rects1,rects2], ['Congruent','Incongruent'], loc='upper right',fontsize=18,title='Trial Type')\n",
    "plt.legend(title='Trial Type',fontsize=19)\n",
    "plt.title('S-C RT Cueing Effect', fontsize=26,fontweight=\"bold\")\n",
    "plt.ylabel('Reaction Time (ms)', fontsize=24,fontweight=\"bold\")\n",
    "plt.xlabel('S2 Control-Demand Cue', fontsize=24,fontweight=\"bold\")\n",
    "sns.despine();\n",
    "\n",
    "plt.show()"
   ]
  },
  {
   "cell_type": "code",
   "execution_count": 87,
   "metadata": {},
   "outputs": [
    {
     "data": {
      "application/javascript": [
       "/* Put everything inside the global mpl namespace */\n",
       "window.mpl = {};\n",
       "\n",
       "mpl.get_websocket_type = function() {\n",
       "    if (typeof(WebSocket) !== 'undefined') {\n",
       "        return WebSocket;\n",
       "    } else if (typeof(MozWebSocket) !== 'undefined') {\n",
       "        return MozWebSocket;\n",
       "    } else {\n",
       "        alert('Your browser does not have WebSocket support.' +\n",
       "              'Please try Chrome, Safari or Firefox ≥ 6. ' +\n",
       "              'Firefox 4 and 5 are also supported but you ' +\n",
       "              'have to enable WebSockets in about:config.');\n",
       "    };\n",
       "}\n",
       "\n",
       "mpl.figure = function(figure_id, websocket, ondownload, parent_element) {\n",
       "    this.id = figure_id;\n",
       "\n",
       "    this.ws = websocket;\n",
       "\n",
       "    this.supports_binary = (this.ws.binaryType != undefined);\n",
       "\n",
       "    if (!this.supports_binary) {\n",
       "        var warnings = document.getElementById(\"mpl-warnings\");\n",
       "        if (warnings) {\n",
       "            warnings.style.display = 'block';\n",
       "            warnings.textContent = (\n",
       "                \"This browser does not support binary websocket messages. \" +\n",
       "                    \"Performance may be slow.\");\n",
       "        }\n",
       "    }\n",
       "\n",
       "    this.imageObj = new Image();\n",
       "\n",
       "    this.context = undefined;\n",
       "    this.message = undefined;\n",
       "    this.canvas = undefined;\n",
       "    this.rubberband_canvas = undefined;\n",
       "    this.rubberband_context = undefined;\n",
       "    this.format_dropdown = undefined;\n",
       "\n",
       "    this.image_mode = 'full';\n",
       "\n",
       "    this.root = $('<div/>');\n",
       "    this._root_extra_style(this.root)\n",
       "    this.root.attr('style', 'display: inline-block');\n",
       "\n",
       "    $(parent_element).append(this.root);\n",
       "\n",
       "    this._init_header(this);\n",
       "    this._init_canvas(this);\n",
       "    this._init_toolbar(this);\n",
       "\n",
       "    var fig = this;\n",
       "\n",
       "    this.waiting = false;\n",
       "\n",
       "    this.ws.onopen =  function () {\n",
       "            fig.send_message(\"supports_binary\", {value: fig.supports_binary});\n",
       "            fig.send_message(\"send_image_mode\", {});\n",
       "            fig.send_message(\"refresh\", {});\n",
       "        }\n",
       "\n",
       "    this.imageObj.onload = function() {\n",
       "            if (fig.image_mode == 'full') {\n",
       "                // Full images could contain transparency (where diff images\n",
       "                // almost always do), so we need to clear the canvas so that\n",
       "                // there is no ghosting.\n",
       "                fig.context.clearRect(0, 0, fig.canvas.width, fig.canvas.height);\n",
       "            }\n",
       "            fig.context.drawImage(fig.imageObj, 0, 0);\n",
       "        };\n",
       "\n",
       "    this.imageObj.onunload = function() {\n",
       "        this.ws.close();\n",
       "    }\n",
       "\n",
       "    this.ws.onmessage = this._make_on_message_function(this);\n",
       "\n",
       "    this.ondownload = ondownload;\n",
       "}\n",
       "\n",
       "mpl.figure.prototype._init_header = function() {\n",
       "    var titlebar = $(\n",
       "        '<div class=\"ui-dialog-titlebar ui-widget-header ui-corner-all ' +\n",
       "        'ui-helper-clearfix\"/>');\n",
       "    var titletext = $(\n",
       "        '<div class=\"ui-dialog-title\" style=\"width: 100%; ' +\n",
       "        'text-align: center; padding: 3px;\"/>');\n",
       "    titlebar.append(titletext)\n",
       "    this.root.append(titlebar);\n",
       "    this.header = titletext[0];\n",
       "}\n",
       "\n",
       "\n",
       "\n",
       "mpl.figure.prototype._canvas_extra_style = function(canvas_div) {\n",
       "\n",
       "}\n",
       "\n",
       "\n",
       "mpl.figure.prototype._root_extra_style = function(canvas_div) {\n",
       "\n",
       "}\n",
       "\n",
       "mpl.figure.prototype._init_canvas = function() {\n",
       "    var fig = this;\n",
       "\n",
       "    var canvas_div = $('<div/>');\n",
       "\n",
       "    canvas_div.attr('style', 'position: relative; clear: both; outline: 0');\n",
       "\n",
       "    function canvas_keyboard_event(event) {\n",
       "        return fig.key_event(event, event['data']);\n",
       "    }\n",
       "\n",
       "    canvas_div.keydown('key_press', canvas_keyboard_event);\n",
       "    canvas_div.keyup('key_release', canvas_keyboard_event);\n",
       "    this.canvas_div = canvas_div\n",
       "    this._canvas_extra_style(canvas_div)\n",
       "    this.root.append(canvas_div);\n",
       "\n",
       "    var canvas = $('<canvas/>');\n",
       "    canvas.addClass('mpl-canvas');\n",
       "    canvas.attr('style', \"left: 0; top: 0; z-index: 0; outline: 0\")\n",
       "\n",
       "    this.canvas = canvas[0];\n",
       "    this.context = canvas[0].getContext(\"2d\");\n",
       "\n",
       "    var rubberband = $('<canvas/>');\n",
       "    rubberband.attr('style', \"position: absolute; left: 0; top: 0; z-index: 1;\")\n",
       "\n",
       "    var pass_mouse_events = true;\n",
       "\n",
       "    canvas_div.resizable({\n",
       "        start: function(event, ui) {\n",
       "            pass_mouse_events = false;\n",
       "        },\n",
       "        resize: function(event, ui) {\n",
       "            fig.request_resize(ui.size.width, ui.size.height);\n",
       "        },\n",
       "        stop: function(event, ui) {\n",
       "            pass_mouse_events = true;\n",
       "            fig.request_resize(ui.size.width, ui.size.height);\n",
       "        },\n",
       "    });\n",
       "\n",
       "    function mouse_event_fn(event) {\n",
       "        if (pass_mouse_events)\n",
       "            return fig.mouse_event(event, event['data']);\n",
       "    }\n",
       "\n",
       "    rubberband.mousedown('button_press', mouse_event_fn);\n",
       "    rubberband.mouseup('button_release', mouse_event_fn);\n",
       "    // Throttle sequential mouse events to 1 every 20ms.\n",
       "    rubberband.mousemove('motion_notify', mouse_event_fn);\n",
       "\n",
       "    rubberband.mouseenter('figure_enter', mouse_event_fn);\n",
       "    rubberband.mouseleave('figure_leave', mouse_event_fn);\n",
       "\n",
       "    canvas_div.on(\"wheel\", function (event) {\n",
       "        event = event.originalEvent;\n",
       "        event['data'] = 'scroll'\n",
       "        if (event.deltaY < 0) {\n",
       "            event.step = 1;\n",
       "        } else {\n",
       "            event.step = -1;\n",
       "        }\n",
       "        mouse_event_fn(event);\n",
       "    });\n",
       "\n",
       "    canvas_div.append(canvas);\n",
       "    canvas_div.append(rubberband);\n",
       "\n",
       "    this.rubberband = rubberband;\n",
       "    this.rubberband_canvas = rubberband[0];\n",
       "    this.rubberband_context = rubberband[0].getContext(\"2d\");\n",
       "    this.rubberband_context.strokeStyle = \"#000000\";\n",
       "\n",
       "    this._resize_canvas = function(width, height) {\n",
       "        // Keep the size of the canvas, canvas container, and rubber band\n",
       "        // canvas in synch.\n",
       "        canvas_div.css('width', width)\n",
       "        canvas_div.css('height', height)\n",
       "\n",
       "        canvas.attr('width', width);\n",
       "        canvas.attr('height', height);\n",
       "\n",
       "        rubberband.attr('width', width);\n",
       "        rubberband.attr('height', height);\n",
       "    }\n",
       "\n",
       "    // Set the figure to an initial 600x600px, this will subsequently be updated\n",
       "    // upon first draw.\n",
       "    this._resize_canvas(600, 600);\n",
       "\n",
       "    // Disable right mouse context menu.\n",
       "    $(this.rubberband_canvas).bind(\"contextmenu\",function(e){\n",
       "        return false;\n",
       "    });\n",
       "\n",
       "    function set_focus () {\n",
       "        canvas.focus();\n",
       "        canvas_div.focus();\n",
       "    }\n",
       "\n",
       "    window.setTimeout(set_focus, 100);\n",
       "}\n",
       "\n",
       "mpl.figure.prototype._init_toolbar = function() {\n",
       "    var fig = this;\n",
       "\n",
       "    var nav_element = $('<div/>')\n",
       "    nav_element.attr('style', 'width: 100%');\n",
       "    this.root.append(nav_element);\n",
       "\n",
       "    // Define a callback function for later on.\n",
       "    function toolbar_event(event) {\n",
       "        return fig.toolbar_button_onclick(event['data']);\n",
       "    }\n",
       "    function toolbar_mouse_event(event) {\n",
       "        return fig.toolbar_button_onmouseover(event['data']);\n",
       "    }\n",
       "\n",
       "    for(var toolbar_ind in mpl.toolbar_items) {\n",
       "        var name = mpl.toolbar_items[toolbar_ind][0];\n",
       "        var tooltip = mpl.toolbar_items[toolbar_ind][1];\n",
       "        var image = mpl.toolbar_items[toolbar_ind][2];\n",
       "        var method_name = mpl.toolbar_items[toolbar_ind][3];\n",
       "\n",
       "        if (!name) {\n",
       "            // put a spacer in here.\n",
       "            continue;\n",
       "        }\n",
       "        var button = $('<button/>');\n",
       "        button.addClass('ui-button ui-widget ui-state-default ui-corner-all ' +\n",
       "                        'ui-button-icon-only');\n",
       "        button.attr('role', 'button');\n",
       "        button.attr('aria-disabled', 'false');\n",
       "        button.click(method_name, toolbar_event);\n",
       "        button.mouseover(tooltip, toolbar_mouse_event);\n",
       "\n",
       "        var icon_img = $('<span/>');\n",
       "        icon_img.addClass('ui-button-icon-primary ui-icon');\n",
       "        icon_img.addClass(image);\n",
       "        icon_img.addClass('ui-corner-all');\n",
       "\n",
       "        var tooltip_span = $('<span/>');\n",
       "        tooltip_span.addClass('ui-button-text');\n",
       "        tooltip_span.html(tooltip);\n",
       "\n",
       "        button.append(icon_img);\n",
       "        button.append(tooltip_span);\n",
       "\n",
       "        nav_element.append(button);\n",
       "    }\n",
       "\n",
       "    var fmt_picker_span = $('<span/>');\n",
       "\n",
       "    var fmt_picker = $('<select/>');\n",
       "    fmt_picker.addClass('mpl-toolbar-option ui-widget ui-widget-content');\n",
       "    fmt_picker_span.append(fmt_picker);\n",
       "    nav_element.append(fmt_picker_span);\n",
       "    this.format_dropdown = fmt_picker[0];\n",
       "\n",
       "    for (var ind in mpl.extensions) {\n",
       "        var fmt = mpl.extensions[ind];\n",
       "        var option = $(\n",
       "            '<option/>', {selected: fmt === mpl.default_extension}).html(fmt);\n",
       "        fmt_picker.append(option)\n",
       "    }\n",
       "\n",
       "    // Add hover states to the ui-buttons\n",
       "    $( \".ui-button\" ).hover(\n",
       "        function() { $(this).addClass(\"ui-state-hover\");},\n",
       "        function() { $(this).removeClass(\"ui-state-hover\");}\n",
       "    );\n",
       "\n",
       "    var status_bar = $('<span class=\"mpl-message\"/>');\n",
       "    nav_element.append(status_bar);\n",
       "    this.message = status_bar[0];\n",
       "}\n",
       "\n",
       "mpl.figure.prototype.request_resize = function(x_pixels, y_pixels) {\n",
       "    // Request matplotlib to resize the figure. Matplotlib will then trigger a resize in the client,\n",
       "    // which will in turn request a refresh of the image.\n",
       "    this.send_message('resize', {'width': x_pixels, 'height': y_pixels});\n",
       "}\n",
       "\n",
       "mpl.figure.prototype.send_message = function(type, properties) {\n",
       "    properties['type'] = type;\n",
       "    properties['figure_id'] = this.id;\n",
       "    this.ws.send(JSON.stringify(properties));\n",
       "}\n",
       "\n",
       "mpl.figure.prototype.send_draw_message = function() {\n",
       "    if (!this.waiting) {\n",
       "        this.waiting = true;\n",
       "        this.ws.send(JSON.stringify({type: \"draw\", figure_id: this.id}));\n",
       "    }\n",
       "}\n",
       "\n",
       "\n",
       "mpl.figure.prototype.handle_save = function(fig, msg) {\n",
       "    var format_dropdown = fig.format_dropdown;\n",
       "    var format = format_dropdown.options[format_dropdown.selectedIndex].value;\n",
       "    fig.ondownload(fig, format);\n",
       "}\n",
       "\n",
       "\n",
       "mpl.figure.prototype.handle_resize = function(fig, msg) {\n",
       "    var size = msg['size'];\n",
       "    if (size[0] != fig.canvas.width || size[1] != fig.canvas.height) {\n",
       "        fig._resize_canvas(size[0], size[1]);\n",
       "        fig.send_message(\"refresh\", {});\n",
       "    };\n",
       "}\n",
       "\n",
       "mpl.figure.prototype.handle_rubberband = function(fig, msg) {\n",
       "    var x0 = msg['x0'];\n",
       "    var y0 = fig.canvas.height - msg['y0'];\n",
       "    var x1 = msg['x1'];\n",
       "    var y1 = fig.canvas.height - msg['y1'];\n",
       "    x0 = Math.floor(x0) + 0.5;\n",
       "    y0 = Math.floor(y0) + 0.5;\n",
       "    x1 = Math.floor(x1) + 0.5;\n",
       "    y1 = Math.floor(y1) + 0.5;\n",
       "    var min_x = Math.min(x0, x1);\n",
       "    var min_y = Math.min(y0, y1);\n",
       "    var width = Math.abs(x1 - x0);\n",
       "    var height = Math.abs(y1 - y0);\n",
       "\n",
       "    fig.rubberband_context.clearRect(\n",
       "        0, 0, fig.canvas.width, fig.canvas.height);\n",
       "\n",
       "    fig.rubberband_context.strokeRect(min_x, min_y, width, height);\n",
       "}\n",
       "\n",
       "mpl.figure.prototype.handle_figure_label = function(fig, msg) {\n",
       "    // Updates the figure title.\n",
       "    fig.header.textContent = msg['label'];\n",
       "}\n",
       "\n",
       "mpl.figure.prototype.handle_cursor = function(fig, msg) {\n",
       "    var cursor = msg['cursor'];\n",
       "    switch(cursor)\n",
       "    {\n",
       "    case 0:\n",
       "        cursor = 'pointer';\n",
       "        break;\n",
       "    case 1:\n",
       "        cursor = 'default';\n",
       "        break;\n",
       "    case 2:\n",
       "        cursor = 'crosshair';\n",
       "        break;\n",
       "    case 3:\n",
       "        cursor = 'move';\n",
       "        break;\n",
       "    }\n",
       "    fig.rubberband_canvas.style.cursor = cursor;\n",
       "}\n",
       "\n",
       "mpl.figure.prototype.handle_message = function(fig, msg) {\n",
       "    fig.message.textContent = msg['message'];\n",
       "}\n",
       "\n",
       "mpl.figure.prototype.handle_draw = function(fig, msg) {\n",
       "    // Request the server to send over a new figure.\n",
       "    fig.send_draw_message();\n",
       "}\n",
       "\n",
       "mpl.figure.prototype.handle_image_mode = function(fig, msg) {\n",
       "    fig.image_mode = msg['mode'];\n",
       "}\n",
       "\n",
       "mpl.figure.prototype.updated_canvas_event = function() {\n",
       "    // Called whenever the canvas gets updated.\n",
       "    this.send_message(\"ack\", {});\n",
       "}\n",
       "\n",
       "// A function to construct a web socket function for onmessage handling.\n",
       "// Called in the figure constructor.\n",
       "mpl.figure.prototype._make_on_message_function = function(fig) {\n",
       "    return function socket_on_message(evt) {\n",
       "        if (evt.data instanceof Blob) {\n",
       "            /* FIXME: We get \"Resource interpreted as Image but\n",
       "             * transferred with MIME type text/plain:\" errors on\n",
       "             * Chrome.  But how to set the MIME type?  It doesn't seem\n",
       "             * to be part of the websocket stream */\n",
       "            evt.data.type = \"image/png\";\n",
       "\n",
       "            /* Free the memory for the previous frames */\n",
       "            if (fig.imageObj.src) {\n",
       "                (window.URL || window.webkitURL).revokeObjectURL(\n",
       "                    fig.imageObj.src);\n",
       "            }\n",
       "\n",
       "            fig.imageObj.src = (window.URL || window.webkitURL).createObjectURL(\n",
       "                evt.data);\n",
       "            fig.updated_canvas_event();\n",
       "            fig.waiting = false;\n",
       "            return;\n",
       "        }\n",
       "        else if (typeof evt.data === 'string' && evt.data.slice(0, 21) == \"data:image/png;base64\") {\n",
       "            fig.imageObj.src = evt.data;\n",
       "            fig.updated_canvas_event();\n",
       "            fig.waiting = false;\n",
       "            return;\n",
       "        }\n",
       "\n",
       "        var msg = JSON.parse(evt.data);\n",
       "        var msg_type = msg['type'];\n",
       "\n",
       "        // Call the  \"handle_{type}\" callback, which takes\n",
       "        // the figure and JSON message as its only arguments.\n",
       "        try {\n",
       "            var callback = fig[\"handle_\" + msg_type];\n",
       "        } catch (e) {\n",
       "            console.log(\"No handler for the '\" + msg_type + \"' message type: \", msg);\n",
       "            return;\n",
       "        }\n",
       "\n",
       "        if (callback) {\n",
       "            try {\n",
       "                // console.log(\"Handling '\" + msg_type + \"' message: \", msg);\n",
       "                callback(fig, msg);\n",
       "            } catch (e) {\n",
       "                console.log(\"Exception inside the 'handler_\" + msg_type + \"' callback:\", e, e.stack, msg);\n",
       "            }\n",
       "        }\n",
       "    };\n",
       "}\n",
       "\n",
       "// from http://stackoverflow.com/questions/1114465/getting-mouse-location-in-canvas\n",
       "mpl.findpos = function(e) {\n",
       "    //this section is from http://www.quirksmode.org/js/events_properties.html\n",
       "    var targ;\n",
       "    if (!e)\n",
       "        e = window.event;\n",
       "    if (e.target)\n",
       "        targ = e.target;\n",
       "    else if (e.srcElement)\n",
       "        targ = e.srcElement;\n",
       "    if (targ.nodeType == 3) // defeat Safari bug\n",
       "        targ = targ.parentNode;\n",
       "\n",
       "    // jQuery normalizes the pageX and pageY\n",
       "    // pageX,Y are the mouse positions relative to the document\n",
       "    // offset() returns the position of the element relative to the document\n",
       "    var x = e.pageX - $(targ).offset().left;\n",
       "    var y = e.pageY - $(targ).offset().top;\n",
       "\n",
       "    return {\"x\": x, \"y\": y};\n",
       "};\n",
       "\n",
       "/*\n",
       " * return a copy of an object with only non-object keys\n",
       " * we need this to avoid circular references\n",
       " * http://stackoverflow.com/a/24161582/3208463\n",
       " */\n",
       "function simpleKeys (original) {\n",
       "  return Object.keys(original).reduce(function (obj, key) {\n",
       "    if (typeof original[key] !== 'object')\n",
       "        obj[key] = original[key]\n",
       "    return obj;\n",
       "  }, {});\n",
       "}\n",
       "\n",
       "mpl.figure.prototype.mouse_event = function(event, name) {\n",
       "    var canvas_pos = mpl.findpos(event)\n",
       "\n",
       "    if (name === 'button_press')\n",
       "    {\n",
       "        this.canvas.focus();\n",
       "        this.canvas_div.focus();\n",
       "    }\n",
       "\n",
       "    var x = canvas_pos.x;\n",
       "    var y = canvas_pos.y;\n",
       "\n",
       "    this.send_message(name, {x: x, y: y, button: event.button,\n",
       "                             step: event.step,\n",
       "                             guiEvent: simpleKeys(event)});\n",
       "\n",
       "    /* This prevents the web browser from automatically changing to\n",
       "     * the text insertion cursor when the button is pressed.  We want\n",
       "     * to control all of the cursor setting manually through the\n",
       "     * 'cursor' event from matplotlib */\n",
       "    event.preventDefault();\n",
       "    return false;\n",
       "}\n",
       "\n",
       "mpl.figure.prototype._key_event_extra = function(event, name) {\n",
       "    // Handle any extra behaviour associated with a key event\n",
       "}\n",
       "\n",
       "mpl.figure.prototype.key_event = function(event, name) {\n",
       "\n",
       "    // Prevent repeat events\n",
       "    if (name == 'key_press')\n",
       "    {\n",
       "        if (event.which === this._key)\n",
       "            return;\n",
       "        else\n",
       "            this._key = event.which;\n",
       "    }\n",
       "    if (name == 'key_release')\n",
       "        this._key = null;\n",
       "\n",
       "    var value = '';\n",
       "    if (event.ctrlKey && event.which != 17)\n",
       "        value += \"ctrl+\";\n",
       "    if (event.altKey && event.which != 18)\n",
       "        value += \"alt+\";\n",
       "    if (event.shiftKey && event.which != 16)\n",
       "        value += \"shift+\";\n",
       "\n",
       "    value += 'k';\n",
       "    value += event.which.toString();\n",
       "\n",
       "    this._key_event_extra(event, name);\n",
       "\n",
       "    this.send_message(name, {key: value,\n",
       "                             guiEvent: simpleKeys(event)});\n",
       "    return false;\n",
       "}\n",
       "\n",
       "mpl.figure.prototype.toolbar_button_onclick = function(name) {\n",
       "    if (name == 'download') {\n",
       "        this.handle_save(this, null);\n",
       "    } else {\n",
       "        this.send_message(\"toolbar_button\", {name: name});\n",
       "    }\n",
       "};\n",
       "\n",
       "mpl.figure.prototype.toolbar_button_onmouseover = function(tooltip) {\n",
       "    this.message.textContent = tooltip;\n",
       "};\n",
       "mpl.toolbar_items = [[\"Home\", \"Reset original view\", \"fa fa-home icon-home\", \"home\"], [\"Back\", \"Back to  previous view\", \"fa fa-arrow-left icon-arrow-left\", \"back\"], [\"Forward\", \"Forward to next view\", \"fa fa-arrow-right icon-arrow-right\", \"forward\"], [\"\", \"\", \"\", \"\"], [\"Pan\", \"Pan axes with left mouse, zoom with right\", \"fa fa-arrows icon-move\", \"pan\"], [\"Zoom\", \"Zoom to rectangle\", \"fa fa-square-o icon-check-empty\", \"zoom\"], [\"\", \"\", \"\", \"\"], [\"Download\", \"Download plot\", \"fa fa-floppy-o icon-save\", \"download\"]];\n",
       "\n",
       "mpl.extensions = [\"eps\", \"jpeg\", \"pdf\", \"png\", \"ps\", \"raw\", \"svg\", \"tif\"];\n",
       "\n",
       "mpl.default_extension = \"png\";var comm_websocket_adapter = function(comm) {\n",
       "    // Create a \"websocket\"-like object which calls the given IPython comm\n",
       "    // object with the appropriate methods. Currently this is a non binary\n",
       "    // socket, so there is still some room for performance tuning.\n",
       "    var ws = {};\n",
       "\n",
       "    ws.close = function() {\n",
       "        comm.close()\n",
       "    };\n",
       "    ws.send = function(m) {\n",
       "        //console.log('sending', m);\n",
       "        comm.send(m);\n",
       "    };\n",
       "    // Register the callback with on_msg.\n",
       "    comm.on_msg(function(msg) {\n",
       "        //console.log('receiving', msg['content']['data'], msg);\n",
       "        // Pass the mpl event to the overriden (by mpl) onmessage function.\n",
       "        ws.onmessage(msg['content']['data'])\n",
       "    });\n",
       "    return ws;\n",
       "}\n",
       "\n",
       "mpl.mpl_figure_comm = function(comm, msg) {\n",
       "    // This is the function which gets called when the mpl process\n",
       "    // starts-up an IPython Comm through the \"matplotlib\" channel.\n",
       "\n",
       "    var id = msg.content.data.id;\n",
       "    // Get hold of the div created by the display call when the Comm\n",
       "    // socket was opened in Python.\n",
       "    var element = $(\"#\" + id);\n",
       "    var ws_proxy = comm_websocket_adapter(comm)\n",
       "\n",
       "    function ondownload(figure, format) {\n",
       "        window.open(figure.imageObj.src);\n",
       "    }\n",
       "\n",
       "    var fig = new mpl.figure(id, ws_proxy,\n",
       "                           ondownload,\n",
       "                           element.get(0));\n",
       "\n",
       "    // Call onopen now - mpl needs it, as it is assuming we've passed it a real\n",
       "    // web socket which is closed, not our websocket->open comm proxy.\n",
       "    ws_proxy.onopen();\n",
       "\n",
       "    fig.parent_element = element.get(0);\n",
       "    fig.cell_info = mpl.find_output_cell(\"<div id='\" + id + \"'></div>\");\n",
       "    if (!fig.cell_info) {\n",
       "        console.error(\"Failed to find cell for figure\", id, fig);\n",
       "        return;\n",
       "    }\n",
       "\n",
       "    var output_index = fig.cell_info[2]\n",
       "    var cell = fig.cell_info[0];\n",
       "\n",
       "};\n",
       "\n",
       "mpl.figure.prototype.handle_close = function(fig, msg) {\n",
       "    fig.root.unbind('remove')\n",
       "\n",
       "    // Update the output cell to use the data from the current canvas.\n",
       "    fig.push_to_output();\n",
       "    var dataURL = fig.canvas.toDataURL();\n",
       "    // Re-enable the keyboard manager in IPython - without this line, in FF,\n",
       "    // the notebook keyboard shortcuts fail.\n",
       "    IPython.keyboard_manager.enable()\n",
       "    $(fig.parent_element).html('<img src=\"' + dataURL + '\">');\n",
       "    fig.close_ws(fig, msg);\n",
       "}\n",
       "\n",
       "mpl.figure.prototype.close_ws = function(fig, msg){\n",
       "    fig.send_message('closing', msg);\n",
       "    // fig.ws.close()\n",
       "}\n",
       "\n",
       "mpl.figure.prototype.push_to_output = function(remove_interactive) {\n",
       "    // Turn the data on the canvas into data in the output cell.\n",
       "    var dataURL = this.canvas.toDataURL();\n",
       "    this.cell_info[1]['text/html'] = '<img src=\"' + dataURL + '\">';\n",
       "}\n",
       "\n",
       "mpl.figure.prototype.updated_canvas_event = function() {\n",
       "    // Tell IPython that the notebook contents must change.\n",
       "    IPython.notebook.set_dirty(true);\n",
       "    this.send_message(\"ack\", {});\n",
       "    var fig = this;\n",
       "    // Wait a second, then push the new image to the DOM so\n",
       "    // that it is saved nicely (might be nice to debounce this).\n",
       "    setTimeout(function () { fig.push_to_output() }, 1000);\n",
       "}\n",
       "\n",
       "mpl.figure.prototype._init_toolbar = function() {\n",
       "    var fig = this;\n",
       "\n",
       "    var nav_element = $('<div/>')\n",
       "    nav_element.attr('style', 'width: 100%');\n",
       "    this.root.append(nav_element);\n",
       "\n",
       "    // Define a callback function for later on.\n",
       "    function toolbar_event(event) {\n",
       "        return fig.toolbar_button_onclick(event['data']);\n",
       "    }\n",
       "    function toolbar_mouse_event(event) {\n",
       "        return fig.toolbar_button_onmouseover(event['data']);\n",
       "    }\n",
       "\n",
       "    for(var toolbar_ind in mpl.toolbar_items){\n",
       "        var name = mpl.toolbar_items[toolbar_ind][0];\n",
       "        var tooltip = mpl.toolbar_items[toolbar_ind][1];\n",
       "        var image = mpl.toolbar_items[toolbar_ind][2];\n",
       "        var method_name = mpl.toolbar_items[toolbar_ind][3];\n",
       "\n",
       "        if (!name) { continue; };\n",
       "\n",
       "        var button = $('<button class=\"btn btn-default\" href=\"#\" title=\"' + name + '\"><i class=\"fa ' + image + ' fa-lg\"></i></button>');\n",
       "        button.click(method_name, toolbar_event);\n",
       "        button.mouseover(tooltip, toolbar_mouse_event);\n",
       "        nav_element.append(button);\n",
       "    }\n",
       "\n",
       "    // Add the status bar.\n",
       "    var status_bar = $('<span class=\"mpl-message\" style=\"text-align:right; float: right;\"/>');\n",
       "    nav_element.append(status_bar);\n",
       "    this.message = status_bar[0];\n",
       "\n",
       "    // Add the close button to the window.\n",
       "    var buttongrp = $('<div class=\"btn-group inline pull-right\"></div>');\n",
       "    var button = $('<button class=\"btn btn-mini btn-primary\" href=\"#\" title=\"Stop Interaction\"><i class=\"fa fa-power-off icon-remove icon-large\"></i></button>');\n",
       "    button.click(function (evt) { fig.handle_close(fig, {}); } );\n",
       "    button.mouseover('Stop Interaction', toolbar_mouse_event);\n",
       "    buttongrp.append(button);\n",
       "    var titlebar = this.root.find($('.ui-dialog-titlebar'));\n",
       "    titlebar.prepend(buttongrp);\n",
       "}\n",
       "\n",
       "mpl.figure.prototype._root_extra_style = function(el){\n",
       "    var fig = this\n",
       "    el.on(\"remove\", function(){\n",
       "\tfig.close_ws(fig, {});\n",
       "    });\n",
       "}\n",
       "\n",
       "mpl.figure.prototype._canvas_extra_style = function(el){\n",
       "    // this is important to make the div 'focusable\n",
       "    el.attr('tabindex', 0)\n",
       "    // reach out to IPython and tell the keyboard manager to turn it's self\n",
       "    // off when our div gets focus\n",
       "\n",
       "    // location in version 3\n",
       "    if (IPython.notebook.keyboard_manager) {\n",
       "        IPython.notebook.keyboard_manager.register_events(el);\n",
       "    }\n",
       "    else {\n",
       "        // location in version 2\n",
       "        IPython.keyboard_manager.register_events(el);\n",
       "    }\n",
       "\n",
       "}\n",
       "\n",
       "mpl.figure.prototype._key_event_extra = function(event, name) {\n",
       "    var manager = IPython.notebook.keyboard_manager;\n",
       "    if (!manager)\n",
       "        manager = IPython.keyboard_manager;\n",
       "\n",
       "    // Check for shift+enter\n",
       "    if (event.shiftKey && event.which == 13) {\n",
       "        this.canvas_div.blur();\n",
       "        event.shiftKey = false;\n",
       "        // Send a \"J\" for go to next cell\n",
       "        event.which = 74;\n",
       "        event.keyCode = 74;\n",
       "        manager.command_mode();\n",
       "        manager.handle_keydown(event);\n",
       "    }\n",
       "}\n",
       "\n",
       "mpl.figure.prototype.handle_save = function(fig, msg) {\n",
       "    fig.ondownload(fig, null);\n",
       "}\n",
       "\n",
       "\n",
       "mpl.find_output_cell = function(html_output) {\n",
       "    // Return the cell and output element which can be found *uniquely* in the notebook.\n",
       "    // Note - this is a bit hacky, but it is done because the \"notebook_saving.Notebook\"\n",
       "    // IPython event is triggered only after the cells have been serialised, which for\n",
       "    // our purposes (turning an active figure into a static one), is too late.\n",
       "    var cells = IPython.notebook.get_cells();\n",
       "    var ncells = cells.length;\n",
       "    for (var i=0; i<ncells; i++) {\n",
       "        var cell = cells[i];\n",
       "        if (cell.cell_type === 'code'){\n",
       "            for (var j=0; j<cell.output_area.outputs.length; j++) {\n",
       "                var data = cell.output_area.outputs[j];\n",
       "                if (data.data) {\n",
       "                    // IPython >= 3 moved mimebundle to data attribute of output\n",
       "                    data = data.data;\n",
       "                }\n",
       "                if (data['text/html'] == html_output) {\n",
       "                    return [cell, data, j];\n",
       "                }\n",
       "            }\n",
       "        }\n",
       "    }\n",
       "}\n",
       "\n",
       "// Register the function which deals with the matplotlib target/channel.\n",
       "// The kernel may be null if the page has been refreshed.\n",
       "if (IPython.notebook.kernel != null) {\n",
       "    IPython.notebook.kernel.comm_manager.register_target('matplotlib', mpl.mpl_figure_comm);\n",
       "}\n"
      ],
      "text/plain": [
       "<IPython.core.display.Javascript object>"
      ]
     },
     "metadata": {},
     "output_type": "display_data"
    },
    {
     "data": {
      "text/html": [
       "<img src=\"data:image/png;base64,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\">"
      ],
      "text/plain": [
       "<IPython.core.display.HTML object>"
      ]
     },
     "metadata": {},
     "output_type": "display_data"
    }
   ],
   "source": [
    "barwidth = 0.75; \n",
    "fig, ax = plt.subplots(figsize=(9, 7));\n",
    "rects1 = ax.bar(0.5,ACCanalysis.LowC.mean(),barwidth,yerr=ACCstderror.LowC,ecolor='k',edgecolor=sns.xkcd_rgb['green'],linewidth = 2, facecolor='none',error_kw=dict(lw=3),label='Congruent');\n",
    "rects2 = ax.bar(1.5,ACCanalysis.LowIC.mean(),barwidth,color=sns.xkcd_rgb['green'],yerr=ACCstderror.LowIC,ecolor='k',error_kw=dict(lw=3),label='Incongruent');\n",
    "rects3 = ax.bar(3,ACCanalysis.HighC.mean(),barwidth,yerr=ACCstderror.HighC,ecolor='k',edgecolor=(0.3,0.9,0.3),linewidth = 2, facecolor='none',error_kw=dict(lw=3));\n",
    "rects4 = ax.bar(4,ACCanalysis.HighIC.mean(),barwidth,color=(0.3,0.9,0.3),yerr=ACCstderror.HighIC,ecolor='k',error_kw=dict(lw=3));\n",
    "ax.set_ylim(0.65,1.01);\n",
    "ax.set_xlim(0,6);\n",
    "ax.set_xticklabels(('Low', 'High'));\n",
    "ax.set_xticks([1 + barwidth/2, 3.5 + barwidth/2]);\n",
    "ax.set_yticks(np.arange(0.65, 1.01, 0.05));\n",
    "plt.legend([rects1,rects2], ['Congruent','Incongruent'], loc='upper right',fontsize=18,title='Trial Type')\n",
    "plt.legend(title='Trial Type',fontsize=19)\n",
    "plt.title('S-C Accuracy Cueing Effect', fontsize=26,fontweight=\"bold\")\n",
    "plt.ylabel('Accuracy (Proportion Correct)', fontsize=24,fontweight=\"bold\")\n",
    "plt.xlabel('S2 Control-Demand Cue', fontsize=24,fontweight=\"bold\")\n",
    "sns.despine();\n",
    "\n",
    "plt.show()"
   ]
  },
  {
   "cell_type": "markdown",
   "metadata": {},
   "source": [
    "# Making CSV Copies of the Data"
   ]
  },
  {
   "cell_type": "markdown",
   "metadata": {},
   "source": [
    "If you like handling the data yourself, these CSVs organize the data by the relevant variables."
   ]
  },
  {
   "cell_type": "code",
   "execution_count": 88,
   "metadata": {},
   "outputs": [
    {
     "name": "stdout",
     "output_type": "stream",
     "text": [
      "C:\\Users\\cb383\\Documents\\controltransfer\\expt2\\data\\csvdata\n"
     ]
    }
   ],
   "source": [
    "%cd 'csvdata'"
   ]
  },
  {
   "cell_type": "code",
   "execution_count": 89,
   "metadata": {
    "collapsed": true
   },
   "outputs": [],
   "source": [
    "subrunmeans = cdat.groupby(['subject','RunCounter','ContextCong'])['RT'].mean()\n",
    "subrtmeans = cdat.groupby(['subject', 'ContextCong'])['RT'].mean()\n",
    "subrunmedians = cdat.groupby(['subject','RunCounter','ContextCong'])['RT'].median()\n",
    "subrtmedians = cdat.groupby(['subject', 'ContextCong'])['RT'].median()\n",
    "\n",
    "subrunmeans.to_csv('SC_RTsubrunmeans_subRunTTContext.csv')\n",
    "subrunmedians.to_csv('SC_RTsubrunmedians_subRunTTContext.csv')\n",
    "subrtmeans.to_csv('SC_RTmeansallsubs_subTTContext.csv')\n",
    "subrtmedians.to_csv('SC_RTmediansallsubs_subTTContext.csv')\n",
    "\n",
    "accmeans = adat.groupby(['subject', 'ContextCong'])['Accuracy'].mean()\n",
    "subaccmeans = adat.groupby(['subject','RunCounter', 'ContextCong'])['Accuracy'].mean()\n",
    "\n",
    "accmeans.to_csv('SC_ACCmeans_subTTContext.csv')\n",
    "subaccmeans.to_csv('SC_ACCsubmeans_subrunTTContext.csv')"
   ]
  },
  {
   "cell_type": "markdown",
   "metadata": {},
   "source": [
    "## Running ANOVAs in R"
   ]
  },
  {
   "cell_type": "code",
   "execution_count": 90,
   "metadata": {
    "collapsed": true
   },
   "outputs": [],
   "source": [
    "#note: subs 20 & 22 have a missing cell for RT on run 1 because those subs got all the trials incorrect\n",
    "#note: because of these missing cells, I chose to report the SPSS results for this particular analysis\n",
    "\n",
    "#######################################################################################################\n",
    "\n",
    "#AN_sub_RTmeans = cdat.loc[cdat['subject'] != 22 && cdat['subject'] != 20].groupby(['subject','RunCounter','DemandCue','TrialType'])['RT'].mean();\n",
    "AN_sub_RTmeans = cdat.groupby(['subject','RunCounter','DemandCue','TrialType'])['RT'].mean();\n",
    "AN_sub_ACCmeans = adat.groupby(['subject','RunCounter','DemandCue','TrialType'])['Accuracy'].mean();\n",
    "\n",
    "#create tidy data csvs\n",
    "AN_sub_RTmeans.to_csv('SC_ANOVA_RT.csv')\n",
    "AN_sub_ACCmeans.to_csv('SC_ANOVA_ACC.csv')\n",
    "\n",
    "#create headers for the tidy data csvs, for analysis purposes\n",
    "import csv\n",
    "with open('SC_ANOVA_RT.csv',newline='') as f:\n",
    "    r = csv.reader(f)\n",
    "    data = [line for line in r]\n",
    "with open('SC_ANOVA_RT.csv','w',newline='') as f:\n",
    "    w = csv.writer(f)\n",
    "    w.writerow([\"subject\", \"run\", \"context\", \"trialtype\", \"rt\"])\n",
    "    w.writerows(data)\n",
    "\n",
    "with open('SC_ANOVA_ACC.csv',newline='') as f:\n",
    "    r = csv.reader(f)\n",
    "    data = [line for line in r]\n",
    "with open('SC_ANOVA_ACC.csv','w',newline='') as f:\n",
    "    w = csv.writer(f)\n",
    "    w.writerow([\"subject\", \"run\", \"context\", \"trialtype\", \"acc\"])\n",
    "    w.writerows(data)"
   ]
  },
  {
   "cell_type": "code",
   "execution_count": 91,
   "metadata": {},
   "outputs": [
    {
     "name": "stdout",
     "output_type": "stream",
     "text": [
      "Overwriting SCAnova.R\n"
     ]
    }
   ],
   "source": [
    "%%writefile SCAnova.R\n",
    "\n",
    "rawRTData <- read.csv('SC_ANOVA_RT.csv')\n",
    "install.packages(\"psych\",repos='https://mirrors.nics.utk.edu/cran/')\n",
    "install.packages(\"ez\",repos='https://mirrors.nics.utk.edu/cran/')\n",
    "library(psych)\n",
    "library(ez)\n",
    "\n",
    "rawRTData$subject = as.factor(rawRTData$subject)\n",
    "rawRTData$run = as.factor(rawRTData$run)\n",
    "rawRTData$context = as.factor(rawRTData$context)\n",
    "rawRTData$trialtype = as.factor(rawRTData$trialtype)\n",
    "\n",
    "summary(aov(rt ~ run * context * trialtype + Error(subject/(run + context + trialtype)), data = rawRTData))\n",
    "\n",
    "#ez ANOVA doesn't work with missing cells\n",
    "#SC_RT_runANOVA <- ezANOVA(data=as.data.frame(rawRTData),\n",
    "#                                  dv=rt,\n",
    "#                                  wid=subject,\n",
    "#                                  within=.(run, context, trialtype),\n",
    "#                                  detailed=TRUE)\n",
    "#print(SC_RT_runANOVA)\n",
    "\n",
    "rawACCData <- read.csv('SC_ANOVA_ACC.csv')\n",
    "\n",
    "rawACCData$subject = as.factor(rawACCData$subject)\n",
    "rawACCData$run = as.factor(rawACCData$run)\n",
    "rawACCData$context = as.factor(rawACCData$context)\n",
    "rawACCData$trialtype = as.factor(rawACCData$trialtype)\n",
    "\n",
    "SC_ACC_runANOVA <- ezANOVA(data=as.data.frame(rawACCData),\n",
    "                                  dv=acc,\n",
    "                                  wid=subject,\n",
    "                                  within=.(run, context, trialtype),\n",
    "                                  detailed=TRUE)\n",
    "print(SC_ACC_runANOVA)"
   ]
  },
  {
   "cell_type": "code",
   "execution_count": 92,
   "metadata": {},
   "outputs": [
    {
     "name": "stdout",
     "output_type": "stream",
     "text": [
      "package 'psych' successfully unpacked and MD5 sums checked\n",
      "\n",
      "The downloaded binary packages are in\n",
      "\tC:\\Users\\cb383\\AppData\\Local\\Temp\\RtmpMbWdNg\\downloaded_packages\n",
      "package 'ez' successfully unpacked and MD5 sums checked\n",
      "\n",
      "The downloaded binary packages are in\n",
      "\tC:\\Users\\cb383\\AppData\\Local\\Temp\\RtmpMbWdNg\\downloaded_packages\n",
      "\n",
      "Error: subject\n",
      "          Df  Sum Sq Mean Sq F value Pr(>F)\n",
      "run        1   14082   14082   0.406  0.526\n",
      "Residuals 71 2465423   34724               \n",
      "\n",
      "Error: subject:run\n",
      "           Df Sum Sq Mean Sq F value Pr(>F)    \n",
      "run         3   2450     817   0.342 0.7950    \n",
      "context     1  30887   30887  12.933 0.0004 ***\n",
      "Residuals 215 513451    2388                   \n",
      "---\n",
      "Signif. codes:  0 '***' 0.001 '**' 0.01 '*' 0.05 '.' 0.1 ' ' 1\n",
      "\n",
      "Error: subject:context\n",
      "          Df Sum Sq Mean Sq F value Pr(>F)\n",
      "context    1   1591    1591   1.187  0.280\n",
      "trialtype  1    591     591   0.441  0.509\n",
      "Residuals 71  95125    1340               \n",
      "\n",
      "Error: subject:trialtype\n",
      "            Df  Sum Sq Mean Sq F value Pr(>F)    \n",
      "trialtype    1 1382356 1382356 342.643 <2e-16 ***\n",
      "run:context  1     376     376   0.093  0.761    \n",
      "Residuals   71  286442    4034                   \n",
      "---\n",
      "Signif. codes:  0 '***' 0.001 '**' 0.01 '*' 0.05 '.' 0.1 ' ' 1\n",
      "\n",
      "Error: Within\n",
      "                       Df Sum Sq Mean Sq F value Pr(>F)\n",
      "run:context             3   2696   898.7   0.801  0.493\n",
      "run:trialtype           3   4104  1368.2   1.220  0.302\n",
      "context:trialtype       1     48    48.1   0.043  0.836\n",
      "run:context:trialtype   3   5205  1734.9   1.547  0.201\n",
      "Residuals             719 806564  1121.8               \n",
      "$ANOVA\n",
      "                 Effect DFn DFd          SSn       SSd            F\n",
      "1           (Intercept)   1  72 9.376696e+02 3.9112268 1.726113e+04\n",
      "2                   run   3 216 6.966174e-01 3.3188934 1.511240e+01\n",
      "3               context   1  72 8.001493e-04 0.6369683 9.044524e-02\n",
      "4             trialtype   1  72 1.441549e+00 1.2336441 8.413408e+01\n",
      "5           run:context   3 216 5.593748e-02 1.5119167 2.663836e+00\n",
      "6         run:trialtype   3 216 1.010104e-01 2.0471109 3.552689e+00\n",
      "7     context:trialtype   1  72 3.483598e-03 0.5890207 4.258238e-01\n",
      "8 run:context:trialtype   3 216 5.983215e-02 1.4964422 2.878771e+00\n",
      "             p p<.05          ges\n",
      "1 1.725994e-87     * 9.845181e-01\n",
      "2 5.791189e-09     * 4.511233e-02\n",
      "3 7.644786e-01       5.426204e-05\n",
      "4 9.981418e-14     * 8.905721e-02\n",
      "5 4.887919e-02     * 3.779263e-03\n",
      "6 1.526158e-02     * 6.803772e-03\n",
      "7 5.161234e-01       2.361968e-04\n",
      "8 3.693892e-02     * 4.041332e-03\n",
      "\n",
      "$`Mauchly's Test for Sphericity`\n",
      "                 Effect         W            p p<.05\n",
      "2                   run 0.4389959 2.864624e-11     *\n",
      "5           run:context 0.9769338 8.951004e-01      \n",
      "6         run:trialtype 0.7983935 7.073773e-03     *\n",
      "8 run:context:trialtype 0.8275056 1.999691e-02     *\n",
      "\n",
      "$`Sphericity Corrections`\n",
      "                 Effect       GGe        p[GG] p[GG]<.05       HFe        p[HF]\n",
      "2                   run 0.6348867 1.822515e-06         * 0.6516847 1.396858e-06\n",
      "5           run:context 0.9846860 4.978970e-02         * 1.0314207 4.887919e-02\n",
      "6         run:trialtype 0.8662708 2.030157e-02         * 0.9015854 1.882433e-02\n",
      "8 run:context:trialtype 0.8966933 4.279010e-02         * 0.9348148 4.052728e-02\n",
      "  p[HF]<.05\n",
      "2         *\n",
      "5         *\n",
      "6         *\n",
      "8         *\n",
      "\n"
     ]
    },
    {
     "name": "stderr",
     "output_type": "stream",
     "text": [
      "trying URL 'https://mirrors.nics.utk.edu/cran/bin/windows/contrib/3.3/psych_1.7.5.zip'\n",
      "Content type 'application/zip' length 3966532 bytes (3.8 MB)\n",
      "==================================================\n",
      "downloaded 3.8 MB\n",
      "\n",
      "trying URL 'https://mirrors.nics.utk.edu/cran/bin/windows/contrib/3.3/ez_4.4-0.zip'\n",
      "Content type 'application/zip' length 304848 bytes (297 KB)\n",
      "==================================================\n",
      "downloaded 297 KB\n",
      "\n",
      "Warning message:\n",
      "package 'psych' was built under R version 3.3.3 \n",
      "Warning message:\n",
      "package 'ez' was built under R version 3.3.3 \n"
     ]
    }
   ],
   "source": [
    "! Rscript SCAnova.R"
   ]
  },
  {
   "cell_type": "markdown",
   "metadata": {},
   "source": [
    "# Making 95% Confidence Intervals"
   ]
  },
  {
   "cell_type": "code",
   "execution_count": 93,
   "metadata": {},
   "outputs": [
    {
     "data": {
      "text/plain": [
       "(629.20262437588724, 651.48601231030682)"
      ]
     },
     "execution_count": 93,
     "metadata": {},
     "output_type": "execute_result"
    }
   ],
   "source": [
    "import statsmodels.stats.api as sms\n",
    "\n",
    "a = RTanalysis.LowC.mean()\n",
    "sms.DescrStatsW(RTanalysis.LowC).tconfint_mean()\n",
    "#a"
   ]
  },
  {
   "cell_type": "code",
   "execution_count": 94,
   "metadata": {},
   "outputs": [
    {
     "data": {
      "text/plain": [
       "(697.06490333731642, 721.61799049892772)"
      ]
     },
     "execution_count": 94,
     "metadata": {},
     "output_type": "execute_result"
    }
   ],
   "source": [
    "a = RTanalysis.LowIC.mean()\n",
    "sms.DescrStatsW(RTanalysis.LowIC).tconfint_mean()\n",
    "#a"
   ]
  },
  {
   "cell_type": "code",
   "execution_count": 95,
   "metadata": {},
   "outputs": [
    {
     "data": {
      "text/plain": [
       "(626.4324470355964, 650.33447987078171)"
      ]
     },
     "execution_count": 95,
     "metadata": {},
     "output_type": "execute_result"
    }
   ],
   "source": [
    "a = RTanalysis.HighC.mean()\n",
    "sms.DescrStatsW(RTanalysis.HighC).tconfint_mean()\n",
    "#a"
   ]
  },
  {
   "cell_type": "code",
   "execution_count": 96,
   "metadata": {},
   "outputs": [
    {
     "data": {
      "text/plain": [
       "(694.20454739937884, 717.83861793693961)"
      ]
     },
     "execution_count": 96,
     "metadata": {},
     "output_type": "execute_result"
    }
   ],
   "source": [
    "a = RTanalysis.HighIC.mean()\n",
    "sms.DescrStatsW(RTanalysis.HighIC).tconfint_mean()\n",
    "#a"
   ]
  },
  {
   "cell_type": "code",
   "execution_count": 97,
   "metadata": {},
   "outputs": [
    {
     "data": {
      "text/plain": [
       "(627.78535191509468, 655.28365052500362)"
      ]
     },
     "execution_count": 97,
     "metadata": {},
     "output_type": "execute_result"
    }
   ],
   "source": [
    "a = RTrunanalysis.loc[RTrunanalysis['Run'] == 0].LowC.mean()\n",
    "sms.DescrStatsW(RTrunanalysis.loc[RTrunanalysis['Run'] == 0].LowC).tconfint_mean()\n",
    "#a"
   ]
  },
  {
   "cell_type": "code",
   "execution_count": 98,
   "metadata": {},
   "outputs": [
    {
     "data": {
      "text/plain": [
       "691.0607067863752"
      ]
     },
     "execution_count": 98,
     "metadata": {},
     "output_type": "execute_result"
    }
   ],
   "source": [
    "a = RTrunanalysis.loc[RTrunanalysis['Run'] == 0].LowIC.mean()\n",
    "#sms.DescrStatsW(RTrunanalysis.loc[RTrunanalysis['Run'] == 0].LowIC).tconfint_mean()\n",
    "#again, one subject did poorly on run 1, for low incongruent trials, i.e., has a blank for this TT, so I'm recalculating...\n",
    "b = RTrunanalysis.loc[RTrunanalysis['Run'] == 0].LowIC.std()\n",
    "stderror = b / n;\n",
    "CI = stderror * 1.96;\n",
    "UCI = a + CI;\n",
    "LCI = a - CI;\n",
    "LCI\n",
    "#a"
   ]
  },
  {
   "cell_type": "code",
   "execution_count": 99,
   "metadata": {},
   "outputs": [
    {
     "data": {
      "text/plain": [
       "(627.35482524930956, 659.60003450281022)"
      ]
     },
     "execution_count": 99,
     "metadata": {},
     "output_type": "execute_result"
    }
   ],
   "source": [
    "a = RTrunanalysis.loc[RTrunanalysis['Run'] == 0].HighC.mean()\n",
    "sms.DescrStatsW(RTrunanalysis.loc[RTrunanalysis['Run'] == 0].HighC).tconfint_mean()\n",
    "#a"
   ]
  },
  {
   "cell_type": "code",
   "execution_count": 100,
   "metadata": {},
   "outputs": [
    {
     "data": {
      "text/plain": [
       "(696.62276823582374, 723.76842775642831)"
      ]
     },
     "execution_count": 100,
     "metadata": {},
     "output_type": "execute_result"
    }
   ],
   "source": [
    "a = RTrunanalysis.loc[RTrunanalysis['Run'] == 0].HighIC.mean()\n",
    "sms.DescrStatsW(RTrunanalysis.loc[RTrunanalysis['Run'] == 0].HighIC).tconfint_mean()\n",
    "#a"
   ]
  },
  {
   "cell_type": "code",
   "execution_count": 101,
   "metadata": {},
   "outputs": [
    {
     "data": {
      "text/plain": [
       "(628.96119431903435, 652.05651714900182)"
      ]
     },
     "execution_count": 101,
     "metadata": {},
     "output_type": "execute_result"
    }
   ],
   "source": [
    "a = RTrunanalysis.loc[RTrunanalysis['Run'] == 1].LowC.mean()\n",
    "sms.DescrStatsW(RTrunanalysis.loc[RTrunanalysis['Run'] == 1].LowC).tconfint_mean()\n",
    "#a"
   ]
  },
  {
   "cell_type": "code",
   "execution_count": 102,
   "metadata": {},
   "outputs": [
    {
     "data": {
      "text/plain": [
       "(691.97440630045094, 723.37060348428486)"
      ]
     },
     "execution_count": 102,
     "metadata": {},
     "output_type": "execute_result"
    }
   ],
   "source": [
    "a = RTrunanalysis.loc[RTrunanalysis['Run'] == 1].LowIC.mean()\n",
    "sms.DescrStatsW(RTrunanalysis.loc[RTrunanalysis['Run'] == 1].LowIC).tconfint_mean()\n",
    "#a"
   ]
  },
  {
   "cell_type": "code",
   "execution_count": 103,
   "metadata": {},
   "outputs": [
    {
     "data": {
      "text/plain": [
       "(625.71603455600598, 657.40865559402687)"
      ]
     },
     "execution_count": 103,
     "metadata": {},
     "output_type": "execute_result"
    }
   ],
   "source": [
    "a = RTrunanalysis.loc[RTrunanalysis['Run'] == 1].HighC.mean()\n",
    "sms.DescrStatsW(RTrunanalysis.loc[RTrunanalysis['Run'] == 1].HighC).tconfint_mean()\n",
    "#a"
   ]
  },
  {
   "cell_type": "code",
   "execution_count": 104,
   "metadata": {},
   "outputs": [
    {
     "data": {
      "text/plain": [
       "(689.90959838436254, 716.41362566934492)"
      ]
     },
     "execution_count": 104,
     "metadata": {},
     "output_type": "execute_result"
    }
   ],
   "source": [
    "a = RTrunanalysis.loc[RTrunanalysis['Run'] == 1].HighIC.mean()\n",
    "sms.DescrStatsW(RTrunanalysis.loc[RTrunanalysis['Run'] == 1].HighIC).tconfint_mean()\n",
    "#a"
   ]
  },
  {
   "cell_type": "code",
   "execution_count": 105,
   "metadata": {},
   "outputs": [
    {
     "data": {
      "text/plain": [
       "(626.70653880708005, 651.66963727116172)"
      ]
     },
     "execution_count": 105,
     "metadata": {},
     "output_type": "execute_result"
    }
   ],
   "source": [
    "a = RTrunanalysis.loc[RTrunanalysis['Run'] == 2].LowC.mean()\n",
    "sms.DescrStatsW(RTrunanalysis.loc[RTrunanalysis['Run'] == 2].LowC).tconfint_mean()\n",
    "#a"
   ]
  },
  {
   "cell_type": "code",
   "execution_count": 106,
   "metadata": {},
   "outputs": [
    {
     "data": {
      "text/plain": [
       "(692.5146047379568, 722.11435808004705)"
      ]
     },
     "execution_count": 106,
     "metadata": {},
     "output_type": "execute_result"
    }
   ],
   "source": [
    "a = RTrunanalysis.loc[RTrunanalysis['Run'] == 2].LowIC.mean()\n",
    "sms.DescrStatsW(RTrunanalysis.loc[RTrunanalysis['Run'] == 2].LowIC).tconfint_mean()\n",
    "#a"
   ]
  },
  {
   "cell_type": "code",
   "execution_count": 107,
   "metadata": {},
   "outputs": [
    {
     "data": {
      "text/plain": [
       "(615.3166278009337, 643.24403756110155)"
      ]
     },
     "execution_count": 107,
     "metadata": {},
     "output_type": "execute_result"
    }
   ],
   "source": [
    "a = RTrunanalysis.loc[RTrunanalysis['Run'] == 2].HighC.mean()\n",
    "sms.DescrStatsW(RTrunanalysis.loc[RTrunanalysis['Run'] == 2].HighC).tconfint_mean()\n",
    "#a"
   ]
  },
  {
   "cell_type": "code",
   "execution_count": 108,
   "metadata": {},
   "outputs": [
    {
     "data": {
      "text/plain": [
       "(697.53294905932796, 721.7865635738591)"
      ]
     },
     "execution_count": 108,
     "metadata": {},
     "output_type": "execute_result"
    }
   ],
   "source": [
    "a = RTrunanalysis.loc[RTrunanalysis['Run'] == 2].HighIC.mean()\n",
    "sms.DescrStatsW(RTrunanalysis.loc[RTrunanalysis['Run'] == 2].HighIC).tconfint_mean()\n",
    "#a"
   ]
  },
  {
   "cell_type": "code",
   "execution_count": 109,
   "metadata": {},
   "outputs": [
    {
     "data": {
      "text/plain": [
       "(627.36363039364085, 651.61749357760493)"
      ]
     },
     "execution_count": 109,
     "metadata": {},
     "output_type": "execute_result"
    }
   ],
   "source": [
    "a = RTrunanalysis.loc[RTrunanalysis['Run'] == 3].LowC.mean()\n",
    "sms.DescrStatsW(RTrunanalysis.loc[RTrunanalysis['Run'] == 3].LowC).tconfint_mean()\n",
    "#a"
   ]
  },
  {
   "cell_type": "code",
   "execution_count": 110,
   "metadata": {},
   "outputs": [
    {
     "data": {
      "text/plain": [
       "(698.72595687956857, 730.8709120049715)"
      ]
     },
     "execution_count": 110,
     "metadata": {},
     "output_type": "execute_result"
    }
   ],
   "source": [
    "a = RTrunanalysis.loc[RTrunanalysis['Run'] == 3].LowIC.mean()\n",
    "sms.DescrStatsW(RTrunanalysis.loc[RTrunanalysis['Run'] == 3].LowIC).tconfint_mean()\n",
    "#a"
   ]
  },
  {
   "cell_type": "code",
   "execution_count": 111,
   "metadata": {},
   "outputs": [
    {
     "data": {
      "text/plain": [
       "(624.64383458567465, 652.32387578614532)"
      ]
     },
     "execution_count": 111,
     "metadata": {},
     "output_type": "execute_result"
    }
   ],
   "source": [
    "a = RTrunanalysis.loc[RTrunanalysis['Run'] == 3].HighC.mean()\n",
    "sms.DescrStatsW(RTrunanalysis.loc[RTrunanalysis['Run'] == 3].HighC).tconfint_mean()\n",
    "#a"
   ]
  },
  {
   "cell_type": "code",
   "execution_count": 112,
   "metadata": {},
   "outputs": [
    {
     "data": {
      "text/plain": [
       "(690.29548581139647, 716.6408697387551)"
      ]
     },
     "execution_count": 112,
     "metadata": {},
     "output_type": "execute_result"
    }
   ],
   "source": [
    "a = RTrunanalysis.loc[RTrunanalysis['Run'] == 3].HighIC.mean()\n",
    "sms.DescrStatsW(RTrunanalysis.loc[RTrunanalysis['Run'] == 3].HighIC).tconfint_mean()\n",
    "#a"
   ]
  },
  {
   "cell_type": "markdown",
   "metadata": {},
   "source": [
    "And for Accuracy..."
   ]
  },
  {
   "cell_type": "code",
   "execution_count": 113,
   "metadata": {},
   "outputs": [
    {
     "data": {
      "text/plain": [
       "(0.91892969946912317, 0.94512555347014993)"
      ]
     },
     "execution_count": 113,
     "metadata": {},
     "output_type": "execute_result"
    }
   ],
   "source": [
    "a = ACCanalysis.LowC.mean()\n",
    "sms.DescrStatsW(ACCanalysis.LowC).tconfint_mean()\n",
    "#a"
   ]
  },
  {
   "cell_type": "code",
   "execution_count": 114,
   "metadata": {},
   "outputs": [
    {
     "data": {
      "text/plain": [
       "(0.83683736046033952, 0.87977222858075643)"
      ]
     },
     "execution_count": 114,
     "metadata": {},
     "output_type": "execute_result"
    }
   ],
   "source": [
    "a = ACCanalysis.LowIC.mean()\n",
    "sms.DescrStatsW(ACCanalysis.LowIC).tconfint_mean()\n",
    "#a"
   ]
  },
  {
   "cell_type": "code",
   "execution_count": 115,
   "metadata": {},
   "outputs": [
    {
     "data": {
      "text/plain": [
       "(0.9125074007977142, 0.94793780468173783)"
      ]
     },
     "execution_count": 115,
     "metadata": {},
     "output_type": "execute_result"
    }
   ],
   "source": [
    "a = ACCanalysis.HighC.mean()\n",
    "sms.DescrStatsW(ACCanalysis.HighC).tconfint_mean()\n",
    "#a"
   ]
  },
  {
   "cell_type": "code",
   "execution_count": 116,
   "metadata": {},
   "outputs": [
    {
     "data": {
      "text/plain": [
       "(0.84736376475294317, 0.8794810335428177)"
      ]
     },
     "execution_count": 116,
     "metadata": {},
     "output_type": "execute_result"
    }
   ],
   "source": [
    "a = ACCanalysis.HighIC.mean()\n",
    "sms.DescrStatsW(ACCanalysis.HighIC).tconfint_mean()\n",
    "#a"
   ]
  },
  {
   "cell_type": "code",
   "execution_count": 117,
   "metadata": {},
   "outputs": [
    {
     "data": {
      "text/plain": [
       "(0.88444098241753322, 0.93576449703452158)"
      ]
     },
     "execution_count": 117,
     "metadata": {},
     "output_type": "execute_result"
    }
   ],
   "source": [
    "a = ACCrunanalysis.loc[ACCrunanalysis['Run'] == 0].LowC.mean()\n",
    "sms.DescrStatsW(ACCrunanalysis.loc[ACCrunanalysis['Run'] == 0].LowC).tconfint_mean()\n",
    "#a"
   ]
  },
  {
   "cell_type": "code",
   "execution_count": 118,
   "metadata": {},
   "outputs": [
    {
     "data": {
      "text/plain": [
       "(0.73795306129679661, 0.82369077431964177)"
      ]
     },
     "execution_count": 118,
     "metadata": {},
     "output_type": "execute_result"
    }
   ],
   "source": [
    "a = ACCrunanalysis.loc[ACCrunanalysis['Run'] == 0].LowIC.mean()\n",
    "sms.DescrStatsW(ACCrunanalysis.loc[ACCrunanalysis['Run'] == 0].LowIC).tconfint_mean()\n",
    "#a"
   ]
  },
  {
   "cell_type": "code",
   "execution_count": 119,
   "metadata": {},
   "outputs": [
    {
     "data": {
      "text/plain": [
       "(0.85928724884841223, 0.93865795663103979)"
      ]
     },
     "execution_count": 119,
     "metadata": {},
     "output_type": "execute_result"
    }
   ],
   "source": [
    "a = ACCrunanalysis.loc[ACCrunanalysis['Run'] == 0].HighC.mean()\n",
    "sms.DescrStatsW(ACCrunanalysis.loc[ACCrunanalysis['Run'] == 0].HighC).tconfint_mean()\n",
    "#a"
   ]
  },
  {
   "cell_type": "code",
   "execution_count": 120,
   "metadata": {},
   "outputs": [
    {
     "data": {
      "text/plain": [
       "(0.79506399368133163, 0.85562093782551762)"
      ]
     },
     "execution_count": 120,
     "metadata": {},
     "output_type": "execute_result"
    }
   ],
   "source": [
    "a = ACCrunanalysis.loc[ACCrunanalysis['Run'] == 0].HighIC.mean()\n",
    "sms.DescrStatsW(ACCrunanalysis.loc[ACCrunanalysis['Run'] == 0].HighIC).tconfint_mean()\n",
    "#a"
   ]
  },
  {
   "cell_type": "code",
   "execution_count": 121,
   "metadata": {},
   "outputs": [
    {
     "data": {
      "text/plain": [
       "(0.93426360034527633, 0.9578596873259565)"
      ]
     },
     "execution_count": 121,
     "metadata": {},
     "output_type": "execute_result"
    }
   ],
   "source": [
    "a = ACCrunanalysis.loc[ACCrunanalysis['Run'] == 1].LowC.mean()\n",
    "sms.DescrStatsW(ACCrunanalysis.loc[ACCrunanalysis['Run'] == 1].LowC).tconfint_mean()\n",
    "#a"
   ]
  },
  {
   "cell_type": "code",
   "execution_count": 122,
   "metadata": {},
   "outputs": [
    {
     "data": {
      "text/plain": [
       "(0.85890812067371669, 0.91848913960025602)"
      ]
     },
     "execution_count": 122,
     "metadata": {},
     "output_type": "execute_result"
    }
   ],
   "source": [
    "a = ACCrunanalysis.loc[ACCrunanalysis['Run'] == 1].LowIC.mean()\n",
    "sms.DescrStatsW(ACCrunanalysis.loc[ACCrunanalysis['Run'] == 1].LowIC).tconfint_mean()\n",
    "#a"
   ]
  },
  {
   "cell_type": "code",
   "execution_count": 123,
   "metadata": {},
   "outputs": [
    {
     "data": {
      "text/plain": [
       "(0.90648999941350261, 0.95309904168238779)"
      ]
     },
     "execution_count": 123,
     "metadata": {},
     "output_type": "execute_result"
    }
   ],
   "source": [
    "a = ACCrunanalysis.loc[ACCrunanalysis['Run'] == 1].HighC.mean()\n",
    "sms.DescrStatsW(ACCrunanalysis.loc[ACCrunanalysis['Run'] == 1].HighC).tconfint_mean()\n",
    "#a"
   ]
  },
  {
   "cell_type": "code",
   "execution_count": 124,
   "metadata": {},
   "outputs": [
    {
     "data": {
      "text/plain": [
       "(0.85226324957674715, 0.89088743535475967)"
      ]
     },
     "execution_count": 124,
     "metadata": {},
     "output_type": "execute_result"
    }
   ],
   "source": [
    "a = ACCrunanalysis.loc[ACCrunanalysis['Run'] == 1].HighIC.mean()\n",
    "sms.DescrStatsW(ACCrunanalysis.loc[ACCrunanalysis['Run'] == 1].HighIC).tconfint_mean()\n",
    "#a"
   ]
  },
  {
   "cell_type": "code",
   "execution_count": 125,
   "metadata": {},
   "outputs": [
    {
     "data": {
      "text/plain": [
       "(0.9177071994531415, 0.94514078994146755)"
      ]
     },
     "execution_count": 125,
     "metadata": {},
     "output_type": "execute_result"
    }
   ],
   "source": [
    "a = ACCrunanalysis.loc[ACCrunanalysis['Run'] == 2].LowC.mean()\n",
    "sms.DescrStatsW(ACCrunanalysis.loc[ACCrunanalysis['Run'] == 2].LowC).tconfint_mean()\n",
    "#a"
   ]
  },
  {
   "cell_type": "code",
   "execution_count": 126,
   "metadata": {},
   "outputs": [
    {
     "data": {
      "text/plain": [
       "(0.83790850859016452, 0.9052421763413423)"
      ]
     },
     "execution_count": 126,
     "metadata": {},
     "output_type": "execute_result"
    }
   ],
   "source": [
    "a = ACCrunanalysis.loc[ACCrunanalysis['Run'] == 2].LowIC.mean()\n",
    "sms.DescrStatsW(ACCrunanalysis.loc[ACCrunanalysis['Run'] == 2].LowIC).tconfint_mean()\n",
    "#a"
   ]
  },
  {
   "cell_type": "code",
   "execution_count": 127,
   "metadata": {},
   "outputs": [
    {
     "data": {
      "text/plain": [
       "(0.92842615292593123, 0.97568343611516473)"
      ]
     },
     "execution_count": 127,
     "metadata": {},
     "output_type": "execute_result"
    }
   ],
   "source": [
    "a = ACCrunanalysis.loc[ACCrunanalysis['Run'] == 2].HighC.mean()\n",
    "sms.DescrStatsW(ACCrunanalysis.loc[ACCrunanalysis['Run'] == 2].HighC).tconfint_mean()\n",
    "#a"
   ]
  },
  {
   "cell_type": "code",
   "execution_count": 128,
   "metadata": {},
   "outputs": [
    {
     "data": {
      "text/plain": [
       "(0.85745931714123347, 0.89745672351276595)"
      ]
     },
     "execution_count": 128,
     "metadata": {},
     "output_type": "execute_result"
    }
   ],
   "source": [
    "a = ACCrunanalysis.loc[ACCrunanalysis['Run'] == 2].HighIC.mean()\n",
    "sms.DescrStatsW(ACCrunanalysis.loc[ACCrunanalysis['Run'] == 2].HighIC).tconfint_mean()\n",
    "#a"
   ]
  },
  {
   "cell_type": "code",
   "execution_count": 129,
   "metadata": {},
   "outputs": [
    {
     "data": {
      "text/plain": [
       "(0.92565506111548002, 0.95533808956945154)"
      ]
     },
     "execution_count": 129,
     "metadata": {},
     "output_type": "execute_result"
    }
   ],
   "source": [
    "a = ACCrunanalysis.loc[ACCrunanalysis['Run'] == 3].LowC.mean()\n",
    "sms.DescrStatsW(ACCrunanalysis.loc[ACCrunanalysis['Run'] == 3].LowC).tconfint_mean()\n",
    "#a"
   ]
  },
  {
   "cell_type": "code",
   "execution_count": 130,
   "metadata": {},
   "outputs": [
    {
     "data": {
      "text/plain": [
       "(0.86013248492768268, 0.92411409041478298)"
      ]
     },
     "execution_count": 130,
     "metadata": {},
     "output_type": "execute_result"
    }
   ],
   "source": [
    "a = ACCrunanalysis.loc[ACCrunanalysis['Run'] == 3].LowIC.mean()\n",
    "sms.DescrStatsW(ACCrunanalysis.loc[ACCrunanalysis['Run'] == 3].LowIC).tconfint_mean()\n",
    "#a"
   ]
  },
  {
   "cell_type": "code",
   "execution_count": 131,
   "metadata": {},
   "outputs": [
    {
     "data": {
      "text/plain": [
       "(0.91996250490426457, 0.96017448139710537)"
      ]
     },
     "execution_count": 131,
     "metadata": {},
     "output_type": "execute_result"
    }
   ],
   "source": [
    "a = ACCrunanalysis.loc[ACCrunanalysis['Run'] == 3].HighC.mean()\n",
    "sms.DescrStatsW(ACCrunanalysis.loc[ACCrunanalysis['Run'] == 3].HighC).tconfint_mean()\n",
    "#a"
   ]
  },
  {
   "cell_type": "code",
   "execution_count": 132,
   "metadata": {},
   "outputs": [
    {
     "data": {
      "text/plain": [
       "(0.86225443643140753, 0.89630720740420888)"
      ]
     },
     "execution_count": 132,
     "metadata": {},
     "output_type": "execute_result"
    }
   ],
   "source": [
    "a = ACCrunanalysis.loc[ACCrunanalysis['Run'] == 3].HighIC.mean()\n",
    "sms.DescrStatsW(ACCrunanalysis.loc[ACCrunanalysis['Run'] == 3].HighIC).tconfint_mean()\n",
    "#a"
   ]
  }
 ],
 "metadata": {
  "anaconda-cloud": {},
  "kernelspec": {
   "display_name": "Python [Root]",
   "language": "python",
   "name": "Python [Root]"
  },
  "language_info": {
   "codemirror_mode": {
    "name": "ipython",
    "version": 3
   },
   "file_extension": ".py",
   "mimetype": "text/x-python",
   "name": "python",
   "nbconvert_exporter": "python",
   "pygments_lexer": "ipython3",
   "version": "3.5.2"
  }
 },
 "nbformat": 4,
 "nbformat_minor": 1
}

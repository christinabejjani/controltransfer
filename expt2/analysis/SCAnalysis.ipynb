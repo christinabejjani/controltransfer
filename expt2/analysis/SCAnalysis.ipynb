{
 "cells": [
  {
   "cell_type": "markdown",
   "metadata": {},
   "source": [
    "# Information on How These Data Are Organized:\n",
    "\n",
    "`TypeOfResponse` refers to whether participants pressed a button (\"SCResp\") or did not press a button (\"SCRespITI\") within the given time frame.\n",
    "\n",
    "`Version` refers to the task version. I never changed the JS code; I merely changed which face/house was labeled as S1_1, S1_2, S1_3, or S1_4 in respective task folders.\n",
    "\n",
    "`LogCounter` gets added to whenever the JS records a new datapoint.\n",
    "\n",
    "`TrialCounter` gets added to whenever a new trial has started. This is reset at the start of each block.\n",
    "\n",
    "`MatrixCounter` gets added to throughout the task and is never reset. It is what I use to call Stimuli #s.\n",
    "\n",
    "`RunCounter` refers to the run: 0 is run 1, 1 is run 2, 2 is run 3, and 3 is run 4.\n",
    "\n",
    "`CongruentCounter` marks any time a congruent trial occurred; `IncongruentCounter` an incongruent trial.\n",
    "\n",
    "`StimPresented` refers to which scene was presented before the trial. This is in reference to the main manipulation of the S-C association phase, whereby particular scenes are more likely to precede specific proportions of congruent/incongruent trials.\n",
    "\n",
    "`StimProbAll` refers to my matrix of possible trial types. So it indicates whether \"RED\" will be shown in red, etc.\n",
    "\n",
    "`TrialType` also marks incongruent/congruent trials.\n",
    "\n",
    "`CongruentNumber` refers to my specially made matrices of my congruent trials. So there are 4 possible incongruent combinations, with 160 total congruent trials, and thus 40 occurrences of numbers 1-4.\n",
    "\n",
    "`IncongruentNumber` refers to my specially made matrix of incongruent trials. There are 12 possible incongruent combinations, with 160 trial incongruent trials, and thus around 13 of each occurrence.\n",
    "\n",
    "`PressCorrect` refers to the button that participants should press on that trial. This is how I define accuracy (i.e., correct: when PressCorrect = actualkeyPressed).\n",
    "\n",
    "`ResponseMatrix` refers to which key is pressed; this is a redundant variable and was used to make sure that each key had been required an equal number of times throughout the task.\n",
    "\n",
    "`ActualKeyPressed` is what key subjects pressed.\n",
    "\n",
    "`Accuracy` & `RT` self-explanatory.\n",
    "\n",
    "`FeedbackType` refers to whether they got correct as fb, incorrect as fb, or the fb time-out.\n",
    "\n",
    "`runStart` refers to the initiation of the countdown to begin the task.\n",
    "\n",
    "`ImagePresent` refers to when scene was presented.\n",
    "\n",
    "`StimTime` refers to when the color word was presented.\n",
    "\n",
    "`RespOnset` refers to when a response was made.\n",
    "\n",
    "`AccCount` is how I give subjects accurate fb of their performance at the end of each run (i.e., a counter that gets added to after each correct trial & is divided by trial #).\n",
    "\n",
    "`Subject` self-explanatory.\n",
    "\n",
    "Some other labels aren't coded in the JS: `Sequential` refers to whether a trial was the same (0) as before, changed to incongruent or congruent on the next trial, etc., and `StimRep` looks for direct repetitions in the StimProbAll matrix. These were coded in Matlab and added to the CSV file.\n",
    "\n",
    "---"
   ]
  },
  {
   "cell_type": "markdown",
   "metadata": {},
   "source": [
    "### Here we'll just import Python specific packages and read in our data."
   ]
  },
  {
   "cell_type": "code",
   "execution_count": 1,
   "metadata": {
    "collapsed": true
   },
   "outputs": [],
   "source": [
    "import numpy as np\n",
    "import pandas as pd\n",
    "import matplotlib.pyplot as plt\n",
    "import seaborn as sns\n",
    "import pylab as plb\n",
    "import math\n",
    "from scipy import stats\n",
    "\n",
    "%matplotlib notebook "
   ]
  },
  {
   "cell_type": "code",
   "execution_count": 2,
   "metadata": {},
   "outputs": [
    {
     "name": "stdout",
     "output_type": "stream",
     "text": [
      "C:\\Users\\cb383\\Documents\\controltransfer\\expt2\n",
      "C:\\Users\\cb383\\Documents\\controltransfer\\expt2\\data\n"
     ]
    }
   ],
   "source": [
    "%cd ..\n",
    "%cd 'data'\n",
    "dat = pd.read_csv('AllSubsSC.csv')"
   ]
  },
  {
   "cell_type": "markdown",
   "metadata": {},
   "source": [
    "# Do Some Basic Cleaning"
   ]
  },
  {
   "cell_type": "markdown",
   "metadata": {},
   "source": [
    "#### We are filtering and preparing the data for analysis.\n",
    "\n",
    "<u>FOR REACTION TIMES</u>:\n",
    "\n",
    "-Select only `TypeOfResponse` equal to `Resp` (`ITI Resp` is when subs didn't respond).\n",
    "\n",
    "-Only take the RTs that are greater than 200ms and less than 1000 ms.\n",
    "\n",
    "-Only take the RTs on accurate trials.\n",
    "\n",
    "-Only take trials where the stimulus didn't repeat.\n",
    "\n",
    "\n",
    "<u>FOR ACCURACY</u>:\n",
    "\n",
    "-All errors are errors"
   ]
  },
  {
   "cell_type": "code",
   "execution_count": 3,
   "metadata": {
    "collapsed": true
   },
   "outputs": [],
   "source": [
    "cdat = dat.query('(TypeOfResponse != \"SCRespITI\") & (RT > 200) & (RT < 1000) & (Accuracy != 0) & (StimRep != 1)').copy()\n",
    "adat = dat.copy()"
   ]
  },
  {
   "cell_type": "markdown",
   "metadata": {},
   "source": [
    "#### Now I'm making columns in the data based off my variables so that analysis will be easier."
   ]
  },
  {
   "cell_type": "code",
   "execution_count": 4,
   "metadata": {
    "collapsed": true
   },
   "outputs": [],
   "source": [
    "adat['DemandCue'] = adat['StimPresented'].isin([1, 2])\n",
    "adat.loc[adat['StimPresented'].isin([1, 2]), 'DemandCue'] = 'High'\n",
    "adat.loc[~adat['StimPresented'].isin([1, 2]), 'DemandCue'] = 'Low'\n",
    "\n",
    "adat['Congruency'] = adat['TrialType'].isin([1])\n",
    "adat.loc[adat['TrialType'].isin([1]),'Congruency'] = 'Incongruent'\n",
    "adat.loc[~adat['TrialType'].isin([1]),'Congruency'] = 'Congruent'\n",
    "\n",
    "cdat['DemandCue'] = cdat['StimPresented'].isin([1, 2])\n",
    "cdat.loc[cdat['StimPresented'].isin([1, 2]), 'DemandCue'] = 'High'\n",
    "cdat.loc[~cdat['StimPresented'].isin([1, 2]), 'DemandCue'] = 'Low'\n",
    "\n",
    "cdat['Congruency'] = cdat['TrialType'].isin([1])\n",
    "cdat.loc[cdat['TrialType'].isin([1]),'Congruency'] = 'Incongruent'\n",
    "cdat.loc[~cdat['TrialType'].isin([1]),'Congruency'] = 'Congruent'\n"
   ]
  },
  {
   "cell_type": "code",
   "execution_count": 5,
   "metadata": {
    "collapsed": true
   },
   "outputs": [],
   "source": [
    "adat['ContextCong'] = adat['DemandCue'].isin(['High']) & adat['TrialType'].isin([1])\n",
    "adat.loc[(adat['DemandCue'].isin(['High']) & adat['TrialType'].isin([1])), 'ContextCong'] = 'HighIC'\n",
    "adat.loc[(adat['DemandCue'].isin(['Low']) & adat['TrialType'].isin([1])), 'ContextCong'] = 'LowIC'\n",
    "adat.loc[(adat['DemandCue'].isin(['High']) & adat['TrialType'].isin([2])), 'ContextCong'] = 'HighC'\n",
    "adat.loc[(adat['DemandCue'].isin(['Low']) & adat['TrialType'].isin([2])), 'ContextCong'] = 'LowC'\n",
    "\n",
    "cdat['ContextCong'] = cdat['DemandCue'].isin(['High']) & cdat['TrialType'].isin([1])\n",
    "cdat.loc[(cdat['DemandCue'].isin(['High']) & cdat['TrialType'].isin([1])), 'ContextCong'] = 'HighIC'\n",
    "cdat.loc[(cdat['DemandCue'].isin(['Low']) & cdat['TrialType'].isin([1])), 'ContextCong'] = 'LowIC'\n",
    "cdat.loc[(cdat['DemandCue'].isin(['High']) & cdat['TrialType'].isin([2])), 'ContextCong'] = 'HighC'\n",
    "cdat.loc[(cdat['DemandCue'].isin(['Low']) & cdat['TrialType'].isin([2])), 'ContextCong'] = 'LowC'"
   ]
  },
  {
   "cell_type": "markdown",
   "metadata": {},
   "source": [
    "# Look at Mean Cueing Effects"
   ]
  },
  {
   "cell_type": "markdown",
   "metadata": {},
   "source": [
    "### We are hoping to see an interaction between control-demand cue and congruency, such that people use the cues to modulate Stroop congruency. Namely, we would predict that people would have a smaller difference between the Stroop trial types for the \"high\" compared to \"low\" control-demand cue. This would result from learning to associate a state of higher attentional focus with the high control-demand cue, which in turn means more efficient processing - or responding quicker to incongruent trials and potentially slower to congruent trials."
   ]
  },
  {
   "cell_type": "code",
   "execution_count": 6,
   "metadata": {},
   "outputs": [
    {
     "data": {
      "text/plain": [
       "ContextCong\n",
       "HighC     638.383463\n",
       "HighIC    706.021583\n",
       "LowC      640.344318\n",
       "LowIC     709.341447\n",
       "Name: RT, dtype: float64"
      ]
     },
     "execution_count": 6,
     "metadata": {},
     "output_type": "execute_result"
    }
   ],
   "source": [
    "sub_RTmeans = cdat.groupby(['subject','ContextCong'])['RT'].mean()\n",
    "RTgrpmean = pd.Series.mean(sub_RTmeans,level=1)\n",
    "RTgrpmean"
   ]
  },
  {
   "cell_type": "code",
   "execution_count": 7,
   "metadata": {},
   "outputs": [
    {
     "data": {
      "text/plain": [
       "ContextCong\n",
       "HighC     51.222170\n",
       "HighIC    50.647925\n",
       "LowC      47.753406\n",
       "LowIC     52.617382\n",
       "Name: RT, dtype: float64"
      ]
     },
     "execution_count": 7,
     "metadata": {},
     "output_type": "execute_result"
    }
   ],
   "source": [
    "RTgrpstd = pd.Series.std(sub_RTmeans,level=1)\n",
    "RTgrpstd"
   ]
  },
  {
   "cell_type": "code",
   "execution_count": 8,
   "metadata": {},
   "outputs": [
    {
     "data": {
      "text/plain": [
       "ContextCong\n",
       "HighC     5.875586\n",
       "HighIC    5.809715\n",
       "LowC      5.477691\n",
       "LowIC     6.035628\n",
       "Name: RT, dtype: float64"
      ]
     },
     "execution_count": 8,
     "metadata": {},
     "output_type": "execute_result"
    }
   ],
   "source": [
    "n = math.sqrt(76)\n",
    "RTstderror = RTgrpstd / n\n",
    "RTstderror"
   ]
  },
  {
   "cell_type": "markdown",
   "metadata": {},
   "source": [
    "#### Judging by these initial numbers, we are unlikely to find an interaction between cue & congruency. Is that true of Accuracy?"
   ]
  },
  {
   "cell_type": "code",
   "execution_count": 9,
   "metadata": {},
   "outputs": [
    {
     "data": {
      "text/plain": [
       "ContextCong\n",
       "HighC     0.930223\n",
       "HighIC    0.863422\n",
       "LowC      0.932028\n",
       "LowIC     0.858305\n",
       "Name: Accuracy, dtype: float64"
      ]
     },
     "execution_count": 9,
     "metadata": {},
     "output_type": "execute_result"
    }
   ],
   "source": [
    "sub_ACCmeans = adat.groupby(['subject','ContextCong'])['Accuracy'].mean()\n",
    "ACCgrpmean = pd.Series.mean(sub_ACCmeans,level=1)\n",
    "ACCgrpmean"
   ]
  },
  {
   "cell_type": "code",
   "execution_count": 10,
   "metadata": {},
   "outputs": [
    {
     "data": {
      "text/plain": [
       "ContextCong\n",
       "HighC     0.075928\n",
       "HighIC    0.068827\n",
       "LowC      0.056138\n",
       "LowIC     0.092010\n",
       "Name: Accuracy, dtype: float64"
      ]
     },
     "execution_count": 10,
     "metadata": {},
     "output_type": "execute_result"
    }
   ],
   "source": [
    "ACCgrpstd = pd.Series.std(sub_ACCmeans,level=1)\n",
    "ACCgrpstd"
   ]
  },
  {
   "cell_type": "code",
   "execution_count": 11,
   "metadata": {},
   "outputs": [
    {
     "data": {
      "text/plain": [
       "ContextCong\n",
       "HighC     0.008709\n",
       "HighIC    0.007895\n",
       "LowC      0.006439\n",
       "LowIC     0.010554\n",
       "Name: Accuracy, dtype: float64"
      ]
     },
     "execution_count": 11,
     "metadata": {},
     "output_type": "execute_result"
    }
   ],
   "source": [
    "ACCstderror = ACCgrpstd / n\n",
    "ACCstderror"
   ]
  },
  {
   "cell_type": "markdown",
   "metadata": {},
   "source": [
    "# Creating Variables to Run Statistics"
   ]
  },
  {
   "cell_type": "markdown",
   "metadata": {},
   "source": [
    "#### This is a Python set of analyses, where the data above are organized in what's called \"long-form\" and to run statistics, I need \"wide-form\" data. So I am creating a new \"dataframe\" with the RT and accuracy means for congruent & incongruent trials, after presentation of the low & high control-demand cue, for each subject."
   ]
  },
  {
   "cell_type": "code",
   "execution_count": 12,
   "metadata": {
    "collapsed": true
   },
   "outputs": [],
   "source": [
    "RTanalysis = pd.DataFrame()\n",
    "lists = [[] for list in range(0,7)]\n",
    "\n",
    "for ID in range(10,83):\n",
    "    sub = cdat[cdat.subject == ID]\n",
    "    lists[0].append(ID)\n",
    "    LowCRT_trials = sub[sub.ContextCong == 'LowC'].RT.mean()\n",
    "    LowICRT_trials = sub[sub.ContextCong == 'LowIC'].RT.mean()\n",
    "    HighCRT_trials = sub[sub.ContextCong == 'HighC'].RT.mean()\n",
    "    HighICRT_trials = sub[sub.ContextCong == 'HighIC'].RT.mean()    \n",
    "    lists[1].append(LowCRT_trials)\n",
    "    lists[2].append(LowICRT_trials)\n",
    "    lists[3].append(HighCRT_trials)\n",
    "    lists[4].append(HighICRT_trials)\n",
    "    \n",
    "RTanalysis['SubjectID'] = lists[0]\n",
    "RTanalysis['LowC'] = lists[1]\n",
    "RTanalysis['LowIC'] = lists[2]\n",
    "RTanalysis['HighC'] = lists[3]\n",
    "RTanalysis['HighIC'] = lists[4]"
   ]
  },
  {
   "cell_type": "code",
   "execution_count": 13,
   "metadata": {
    "collapsed": true
   },
   "outputs": [],
   "source": [
    "ACCanalysis = pd.DataFrame()\n",
    "new_lists = [[] for list in range(0,7)]\n",
    "\n",
    "for ID in range(10,83):\n",
    "    sub = adat[adat.subject == ID]\n",
    "    new_lists[0].append(ID)\n",
    "    LowCACC_trials = sub[sub.ContextCong == 'LowC'].Accuracy.mean()\n",
    "    LowICACC_trials = sub[sub.ContextCong == 'LowIC'].Accuracy.mean()\n",
    "    HighCACC_trials = sub[sub.ContextCong == 'HighC'].Accuracy.mean()\n",
    "    HighICACC_trials = sub[sub.ContextCong == 'HighIC'].Accuracy.mean()    \n",
    "    new_lists[1].append(LowCACC_trials)\n",
    "    new_lists[2].append(LowICACC_trials)\n",
    "    new_lists[3].append(HighCACC_trials)\n",
    "    new_lists[4].append(HighICACC_trials)\n",
    "    \n",
    "ACCanalysis['SubjectID'] = new_lists[0]\n",
    "ACCanalysis['LowC'] = new_lists[1]\n",
    "ACCanalysis['LowIC'] = new_lists[2]\n",
    "ACCanalysis['HighC'] = new_lists[3]\n",
    "ACCanalysis['HighIC'] = new_lists[4]"
   ]
  },
  {
   "cell_type": "code",
   "execution_count": 14,
   "metadata": {
    "collapsed": true
   },
   "outputs": [],
   "source": [
    "#now for run as well\n",
    "\n",
    "RTrunanalysis = pd.DataFrame()\n",
    "new_RTlists = [[] for list in range(0,8)]\n",
    "\n",
    "for ID in range(10,83):\n",
    "    sub = cdat[cdat.subject == ID]\n",
    "    for runID in range(0,4):\n",
    "        run = sub[sub.RunCounter == runID]\n",
    "        new_RTlists[0].append(ID)\n",
    "        new_RTlists[1].append(runID)\n",
    "        LowCRT_trials = run[run.ContextCong == 'LowC'].RT.mean()\n",
    "        LowICRT_trials = run[run.ContextCong == 'LowIC'].RT.mean()\n",
    "        HighCRT_trials = run[run.ContextCong == 'HighC'].RT.mean()\n",
    "        HighICRT_trials = run[run.ContextCong == 'HighIC'].RT.mean()    \n",
    "        new_RTlists[2].append(LowCRT_trials)\n",
    "        new_RTlists[3].append(LowICRT_trials)\n",
    "        new_RTlists[4].append(HighCRT_trials)\n",
    "        new_RTlists[5].append(HighICRT_trials)\n",
    "    \n",
    "RTrunanalysis['SubjectID'] = new_RTlists[0]\n",
    "RTrunanalysis['Run'] = new_RTlists[1]\n",
    "RTrunanalysis['LowC'] = new_RTlists[2]\n",
    "RTrunanalysis['LowIC'] = new_RTlists[3]\n",
    "RTrunanalysis['HighC'] = new_RTlists[4]\n",
    "RTrunanalysis['HighIC'] = new_RTlists[5]"
   ]
  },
  {
   "cell_type": "code",
   "execution_count": 15,
   "metadata": {
    "collapsed": true
   },
   "outputs": [],
   "source": [
    "#repeat for accuracy\n",
    "\n",
    "ACCrunanalysis = pd.DataFrame()\n",
    "new_acclists = [[] for list in range(0,8)]\n",
    "\n",
    "for ID in range(10,83):\n",
    "    sub = adat[adat.subject == ID]\n",
    "    for runID in range(0,4):\n",
    "        run = sub[sub.RunCounter == runID]\n",
    "        new_acclists[0].append(ID)\n",
    "        new_acclists[1].append(runID)\n",
    "        LowCACC_trials = run[run.ContextCong == 'LowC'].Accuracy.mean()\n",
    "        LowICACC_trials = run[run.ContextCong == 'LowIC'].Accuracy.mean()\n",
    "        HighCACC_trials = run[run.ContextCong == 'HighC'].Accuracy.mean()\n",
    "        HighICACC_trials = run[run.ContextCong == 'HighIC'].Accuracy.mean()    \n",
    "        new_acclists[2].append(LowCACC_trials)\n",
    "        new_acclists[3].append(LowICACC_trials)\n",
    "        new_acclists[4].append(HighCACC_trials)\n",
    "        new_acclists[5].append(HighICACC_trials)\n",
    "    \n",
    "ACCrunanalysis['SubjectID'] = new_acclists[0]\n",
    "ACCrunanalysis['Run'] = new_acclists[1]\n",
    "ACCrunanalysis['LowC'] = new_acclists[2]\n",
    "ACCrunanalysis['LowIC'] = new_acclists[3]\n",
    "ACCrunanalysis['HighC'] = new_acclists[4]\n",
    "ACCrunanalysis['HighIC'] = new_acclists[5]"
   ]
  },
  {
   "cell_type": "markdown",
   "metadata": {},
   "source": [
    "# Run Actual Statistics"
   ]
  },
  {
   "cell_type": "markdown",
   "metadata": {},
   "source": [
    "#### For the S-C phase, we run a repeated-measures ANOVA comparing RTs and accuracies for control-demand cue (low/high) & congruency (congruent/incongruent) & run (4).\n",
    "\n",
    "Unfortunately, Python does not have the capability for repeated-measures ANOVA. I could install \"pyvtttbl\" for Python, but it's not as accurate as R, SPSS, etc. So in this particular notebook, I will run a paired t-test for the interaction effect, and I will include R code to run the ANOVA."
   ]
  },
  {
   "cell_type": "code",
   "execution_count": 16,
   "metadata": {},
   "outputs": [
    {
     "data": {
      "text/plain": [
       "Ttest_relResult(statistic=0.37588175925419026, pvalue=0.70811004039236281)"
      ]
     },
     "execution_count": 16,
     "metadata": {},
     "output_type": "execute_result"
    }
   ],
   "source": [
    "LowCongDiff = RTanalysis.LowIC - RTanalysis.LowC;\n",
    "HighCongDiff = RTanalysis.HighIC - RTanalysis.HighC;\n",
    "stats.ttest_rel(LowCongDiff, HighCongDiff)"
   ]
  },
  {
   "cell_type": "code",
   "execution_count": 17,
   "metadata": {},
   "outputs": [
    {
     "data": {
      "text/plain": [
       "Ttest_relResult(statistic=-0.65390793096077038, pvalue=0.51525426867190816)"
      ]
     },
     "execution_count": 17,
     "metadata": {},
     "output_type": "execute_result"
    }
   ],
   "source": [
    "LowCongDiffACC = ACCanalysis.LowIC - ACCanalysis.LowC;\n",
    "HighCongDiffACC = ACCanalysis.HighIC - ACCanalysis.HighC;\n",
    "stats.ttest_rel(LowCongDiffACC, HighCongDiffACC)"
   ]
  },
  {
   "cell_type": "code",
   "execution_count": 18,
   "metadata": {
    "collapsed": true
   },
   "outputs": [],
   "source": [
    "#can look at more things, like Bayesian confidence intervals\n",
    "stats.bayes_mvs(RTanalysis.LowC);\n",
    "stats.bayes_mvs(RTanalysis.LowIC);\n",
    "stats.bayes_mvs(RTanalysis.HighC);\n",
    "stats.bayes_mvs(RTanalysis.HighIC);\n",
    "stats.bayes_mvs(ACCanalysis.LowC);\n",
    "stats.bayes_mvs(ACCanalysis.LowIC);\n",
    "stats.bayes_mvs(ACCanalysis.HighC);\n",
    "stats.bayes_mvs(ACCanalysis.HighIC);"
   ]
  },
  {
   "cell_type": "markdown",
   "metadata": {},
   "source": [
    "#### In sum: no significant interaction or main effect of cue but a main effect of congruency on RT & accuracy"
   ]
  },
  {
   "cell_type": "markdown",
   "metadata": {},
   "source": [
    "# Look at the Results Graphically"
   ]
  },
  {
   "cell_type": "markdown",
   "metadata": {},
   "source": [
    "Note that the graphs generated mimic the paper, but I used Matlab to generate the figures, because I like their graphics more.\n",
    "\n",
    "Note: I increased the y-axis for this RT graph so that it would fit my legend without any overlap."
   ]
  },
  {
   "cell_type": "code",
   "execution_count": 19,
   "metadata": {
    "collapsed": true
   },
   "outputs": [],
   "source": [
    "sns.set(context='notebook', style='white', font='Myriad Pro', font_scale=2, color_codes=False, rc=None);"
   ]
  },
  {
   "cell_type": "code",
   "execution_count": 20,
   "metadata": {},
   "outputs": [
    {
     "data": {
      "application/javascript": [
       "/* Put everything inside the global mpl namespace */\n",
       "window.mpl = {};\n",
       "\n",
       "mpl.get_websocket_type = function() {\n",
       "    if (typeof(WebSocket) !== 'undefined') {\n",
       "        return WebSocket;\n",
       "    } else if (typeof(MozWebSocket) !== 'undefined') {\n",
       "        return MozWebSocket;\n",
       "    } else {\n",
       "        alert('Your browser does not have WebSocket support.' +\n",
       "              'Please try Chrome, Safari or Firefox ≥ 6. ' +\n",
       "              'Firefox 4 and 5 are also supported but you ' +\n",
       "              'have to enable WebSockets in about:config.');\n",
       "    };\n",
       "}\n",
       "\n",
       "mpl.figure = function(figure_id, websocket, ondownload, parent_element) {\n",
       "    this.id = figure_id;\n",
       "\n",
       "    this.ws = websocket;\n",
       "\n",
       "    this.supports_binary = (this.ws.binaryType != undefined);\n",
       "\n",
       "    if (!this.supports_binary) {\n",
       "        var warnings = document.getElementById(\"mpl-warnings\");\n",
       "        if (warnings) {\n",
       "            warnings.style.display = 'block';\n",
       "            warnings.textContent = (\n",
       "                \"This browser does not support binary websocket messages. \" +\n",
       "                    \"Performance may be slow.\");\n",
       "        }\n",
       "    }\n",
       "\n",
       "    this.imageObj = new Image();\n",
       "\n",
       "    this.context = undefined;\n",
       "    this.message = undefined;\n",
       "    this.canvas = undefined;\n",
       "    this.rubberband_canvas = undefined;\n",
       "    this.rubberband_context = undefined;\n",
       "    this.format_dropdown = undefined;\n",
       "\n",
       "    this.image_mode = 'full';\n",
       "\n",
       "    this.root = $('<div/>');\n",
       "    this._root_extra_style(this.root)\n",
       "    this.root.attr('style', 'display: inline-block');\n",
       "\n",
       "    $(parent_element).append(this.root);\n",
       "\n",
       "    this._init_header(this);\n",
       "    this._init_canvas(this);\n",
       "    this._init_toolbar(this);\n",
       "\n",
       "    var fig = this;\n",
       "\n",
       "    this.waiting = false;\n",
       "\n",
       "    this.ws.onopen =  function () {\n",
       "            fig.send_message(\"supports_binary\", {value: fig.supports_binary});\n",
       "            fig.send_message(\"send_image_mode\", {});\n",
       "            fig.send_message(\"refresh\", {});\n",
       "        }\n",
       "\n",
       "    this.imageObj.onload = function() {\n",
       "            if (fig.image_mode == 'full') {\n",
       "                // Full images could contain transparency (where diff images\n",
       "                // almost always do), so we need to clear the canvas so that\n",
       "                // there is no ghosting.\n",
       "                fig.context.clearRect(0, 0, fig.canvas.width, fig.canvas.height);\n",
       "            }\n",
       "            fig.context.drawImage(fig.imageObj, 0, 0);\n",
       "        };\n",
       "\n",
       "    this.imageObj.onunload = function() {\n",
       "        this.ws.close();\n",
       "    }\n",
       "\n",
       "    this.ws.onmessage = this._make_on_message_function(this);\n",
       "\n",
       "    this.ondownload = ondownload;\n",
       "}\n",
       "\n",
       "mpl.figure.prototype._init_header = function() {\n",
       "    var titlebar = $(\n",
       "        '<div class=\"ui-dialog-titlebar ui-widget-header ui-corner-all ' +\n",
       "        'ui-helper-clearfix\"/>');\n",
       "    var titletext = $(\n",
       "        '<div class=\"ui-dialog-title\" style=\"width: 100%; ' +\n",
       "        'text-align: center; padding: 3px;\"/>');\n",
       "    titlebar.append(titletext)\n",
       "    this.root.append(titlebar);\n",
       "    this.header = titletext[0];\n",
       "}\n",
       "\n",
       "\n",
       "\n",
       "mpl.figure.prototype._canvas_extra_style = function(canvas_div) {\n",
       "\n",
       "}\n",
       "\n",
       "\n",
       "mpl.figure.prototype._root_extra_style = function(canvas_div) {\n",
       "\n",
       "}\n",
       "\n",
       "mpl.figure.prototype._init_canvas = function() {\n",
       "    var fig = this;\n",
       "\n",
       "    var canvas_div = $('<div/>');\n",
       "\n",
       "    canvas_div.attr('style', 'position: relative; clear: both; outline: 0');\n",
       "\n",
       "    function canvas_keyboard_event(event) {\n",
       "        return fig.key_event(event, event['data']);\n",
       "    }\n",
       "\n",
       "    canvas_div.keydown('key_press', canvas_keyboard_event);\n",
       "    canvas_div.keyup('key_release', canvas_keyboard_event);\n",
       "    this.canvas_div = canvas_div\n",
       "    this._canvas_extra_style(canvas_div)\n",
       "    this.root.append(canvas_div);\n",
       "\n",
       "    var canvas = $('<canvas/>');\n",
       "    canvas.addClass('mpl-canvas');\n",
       "    canvas.attr('style', \"left: 0; top: 0; z-index: 0; outline: 0\")\n",
       "\n",
       "    this.canvas = canvas[0];\n",
       "    this.context = canvas[0].getContext(\"2d\");\n",
       "\n",
       "    var rubberband = $('<canvas/>');\n",
       "    rubberband.attr('style', \"position: absolute; left: 0; top: 0; z-index: 1;\")\n",
       "\n",
       "    var pass_mouse_events = true;\n",
       "\n",
       "    canvas_div.resizable({\n",
       "        start: function(event, ui) {\n",
       "            pass_mouse_events = false;\n",
       "        },\n",
       "        resize: function(event, ui) {\n",
       "            fig.request_resize(ui.size.width, ui.size.height);\n",
       "        },\n",
       "        stop: function(event, ui) {\n",
       "            pass_mouse_events = true;\n",
       "            fig.request_resize(ui.size.width, ui.size.height);\n",
       "        },\n",
       "    });\n",
       "\n",
       "    function mouse_event_fn(event) {\n",
       "        if (pass_mouse_events)\n",
       "            return fig.mouse_event(event, event['data']);\n",
       "    }\n",
       "\n",
       "    rubberband.mousedown('button_press', mouse_event_fn);\n",
       "    rubberband.mouseup('button_release', mouse_event_fn);\n",
       "    // Throttle sequential mouse events to 1 every 20ms.\n",
       "    rubberband.mousemove('motion_notify', mouse_event_fn);\n",
       "\n",
       "    rubberband.mouseenter('figure_enter', mouse_event_fn);\n",
       "    rubberband.mouseleave('figure_leave', mouse_event_fn);\n",
       "\n",
       "    canvas_div.on(\"wheel\", function (event) {\n",
       "        event = event.originalEvent;\n",
       "        event['data'] = 'scroll'\n",
       "        if (event.deltaY < 0) {\n",
       "            event.step = 1;\n",
       "        } else {\n",
       "            event.step = -1;\n",
       "        }\n",
       "        mouse_event_fn(event);\n",
       "    });\n",
       "\n",
       "    canvas_div.append(canvas);\n",
       "    canvas_div.append(rubberband);\n",
       "\n",
       "    this.rubberband = rubberband;\n",
       "    this.rubberband_canvas = rubberband[0];\n",
       "    this.rubberband_context = rubberband[0].getContext(\"2d\");\n",
       "    this.rubberband_context.strokeStyle = \"#000000\";\n",
       "\n",
       "    this._resize_canvas = function(width, height) {\n",
       "        // Keep the size of the canvas, canvas container, and rubber band\n",
       "        // canvas in synch.\n",
       "        canvas_div.css('width', width)\n",
       "        canvas_div.css('height', height)\n",
       "\n",
       "        canvas.attr('width', width);\n",
       "        canvas.attr('height', height);\n",
       "\n",
       "        rubberband.attr('width', width);\n",
       "        rubberband.attr('height', height);\n",
       "    }\n",
       "\n",
       "    // Set the figure to an initial 600x600px, this will subsequently be updated\n",
       "    // upon first draw.\n",
       "    this._resize_canvas(600, 600);\n",
       "\n",
       "    // Disable right mouse context menu.\n",
       "    $(this.rubberband_canvas).bind(\"contextmenu\",function(e){\n",
       "        return false;\n",
       "    });\n",
       "\n",
       "    function set_focus () {\n",
       "        canvas.focus();\n",
       "        canvas_div.focus();\n",
       "    }\n",
       "\n",
       "    window.setTimeout(set_focus, 100);\n",
       "}\n",
       "\n",
       "mpl.figure.prototype._init_toolbar = function() {\n",
       "    var fig = this;\n",
       "\n",
       "    var nav_element = $('<div/>')\n",
       "    nav_element.attr('style', 'width: 100%');\n",
       "    this.root.append(nav_element);\n",
       "\n",
       "    // Define a callback function for later on.\n",
       "    function toolbar_event(event) {\n",
       "        return fig.toolbar_button_onclick(event['data']);\n",
       "    }\n",
       "    function toolbar_mouse_event(event) {\n",
       "        return fig.toolbar_button_onmouseover(event['data']);\n",
       "    }\n",
       "\n",
       "    for(var toolbar_ind in mpl.toolbar_items) {\n",
       "        var name = mpl.toolbar_items[toolbar_ind][0];\n",
       "        var tooltip = mpl.toolbar_items[toolbar_ind][1];\n",
       "        var image = mpl.toolbar_items[toolbar_ind][2];\n",
       "        var method_name = mpl.toolbar_items[toolbar_ind][3];\n",
       "\n",
       "        if (!name) {\n",
       "            // put a spacer in here.\n",
       "            continue;\n",
       "        }\n",
       "        var button = $('<button/>');\n",
       "        button.addClass('ui-button ui-widget ui-state-default ui-corner-all ' +\n",
       "                        'ui-button-icon-only');\n",
       "        button.attr('role', 'button');\n",
       "        button.attr('aria-disabled', 'false');\n",
       "        button.click(method_name, toolbar_event);\n",
       "        button.mouseover(tooltip, toolbar_mouse_event);\n",
       "\n",
       "        var icon_img = $('<span/>');\n",
       "        icon_img.addClass('ui-button-icon-primary ui-icon');\n",
       "        icon_img.addClass(image);\n",
       "        icon_img.addClass('ui-corner-all');\n",
       "\n",
       "        var tooltip_span = $('<span/>');\n",
       "        tooltip_span.addClass('ui-button-text');\n",
       "        tooltip_span.html(tooltip);\n",
       "\n",
       "        button.append(icon_img);\n",
       "        button.append(tooltip_span);\n",
       "\n",
       "        nav_element.append(button);\n",
       "    }\n",
       "\n",
       "    var fmt_picker_span = $('<span/>');\n",
       "\n",
       "    var fmt_picker = $('<select/>');\n",
       "    fmt_picker.addClass('mpl-toolbar-option ui-widget ui-widget-content');\n",
       "    fmt_picker_span.append(fmt_picker);\n",
       "    nav_element.append(fmt_picker_span);\n",
       "    this.format_dropdown = fmt_picker[0];\n",
       "\n",
       "    for (var ind in mpl.extensions) {\n",
       "        var fmt = mpl.extensions[ind];\n",
       "        var option = $(\n",
       "            '<option/>', {selected: fmt === mpl.default_extension}).html(fmt);\n",
       "        fmt_picker.append(option)\n",
       "    }\n",
       "\n",
       "    // Add hover states to the ui-buttons\n",
       "    $( \".ui-button\" ).hover(\n",
       "        function() { $(this).addClass(\"ui-state-hover\");},\n",
       "        function() { $(this).removeClass(\"ui-state-hover\");}\n",
       "    );\n",
       "\n",
       "    var status_bar = $('<span class=\"mpl-message\"/>');\n",
       "    nav_element.append(status_bar);\n",
       "    this.message = status_bar[0];\n",
       "}\n",
       "\n",
       "mpl.figure.prototype.request_resize = function(x_pixels, y_pixels) {\n",
       "    // Request matplotlib to resize the figure. Matplotlib will then trigger a resize in the client,\n",
       "    // which will in turn request a refresh of the image.\n",
       "    this.send_message('resize', {'width': x_pixels, 'height': y_pixels});\n",
       "}\n",
       "\n",
       "mpl.figure.prototype.send_message = function(type, properties) {\n",
       "    properties['type'] = type;\n",
       "    properties['figure_id'] = this.id;\n",
       "    this.ws.send(JSON.stringify(properties));\n",
       "}\n",
       "\n",
       "mpl.figure.prototype.send_draw_message = function() {\n",
       "    if (!this.waiting) {\n",
       "        this.waiting = true;\n",
       "        this.ws.send(JSON.stringify({type: \"draw\", figure_id: this.id}));\n",
       "    }\n",
       "}\n",
       "\n",
       "\n",
       "mpl.figure.prototype.handle_save = function(fig, msg) {\n",
       "    var format_dropdown = fig.format_dropdown;\n",
       "    var format = format_dropdown.options[format_dropdown.selectedIndex].value;\n",
       "    fig.ondownload(fig, format);\n",
       "}\n",
       "\n",
       "\n",
       "mpl.figure.prototype.handle_resize = function(fig, msg) {\n",
       "    var size = msg['size'];\n",
       "    if (size[0] != fig.canvas.width || size[1] != fig.canvas.height) {\n",
       "        fig._resize_canvas(size[0], size[1]);\n",
       "        fig.send_message(\"refresh\", {});\n",
       "    };\n",
       "}\n",
       "\n",
       "mpl.figure.prototype.handle_rubberband = function(fig, msg) {\n",
       "    var x0 = msg['x0'];\n",
       "    var y0 = fig.canvas.height - msg['y0'];\n",
       "    var x1 = msg['x1'];\n",
       "    var y1 = fig.canvas.height - msg['y1'];\n",
       "    x0 = Math.floor(x0) + 0.5;\n",
       "    y0 = Math.floor(y0) + 0.5;\n",
       "    x1 = Math.floor(x1) + 0.5;\n",
       "    y1 = Math.floor(y1) + 0.5;\n",
       "    var min_x = Math.min(x0, x1);\n",
       "    var min_y = Math.min(y0, y1);\n",
       "    var width = Math.abs(x1 - x0);\n",
       "    var height = Math.abs(y1 - y0);\n",
       "\n",
       "    fig.rubberband_context.clearRect(\n",
       "        0, 0, fig.canvas.width, fig.canvas.height);\n",
       "\n",
       "    fig.rubberband_context.strokeRect(min_x, min_y, width, height);\n",
       "}\n",
       "\n",
       "mpl.figure.prototype.handle_figure_label = function(fig, msg) {\n",
       "    // Updates the figure title.\n",
       "    fig.header.textContent = msg['label'];\n",
       "}\n",
       "\n",
       "mpl.figure.prototype.handle_cursor = function(fig, msg) {\n",
       "    var cursor = msg['cursor'];\n",
       "    switch(cursor)\n",
       "    {\n",
       "    case 0:\n",
       "        cursor = 'pointer';\n",
       "        break;\n",
       "    case 1:\n",
       "        cursor = 'default';\n",
       "        break;\n",
       "    case 2:\n",
       "        cursor = 'crosshair';\n",
       "        break;\n",
       "    case 3:\n",
       "        cursor = 'move';\n",
       "        break;\n",
       "    }\n",
       "    fig.rubberband_canvas.style.cursor = cursor;\n",
       "}\n",
       "\n",
       "mpl.figure.prototype.handle_message = function(fig, msg) {\n",
       "    fig.message.textContent = msg['message'];\n",
       "}\n",
       "\n",
       "mpl.figure.prototype.handle_draw = function(fig, msg) {\n",
       "    // Request the server to send over a new figure.\n",
       "    fig.send_draw_message();\n",
       "}\n",
       "\n",
       "mpl.figure.prototype.handle_image_mode = function(fig, msg) {\n",
       "    fig.image_mode = msg['mode'];\n",
       "}\n",
       "\n",
       "mpl.figure.prototype.updated_canvas_event = function() {\n",
       "    // Called whenever the canvas gets updated.\n",
       "    this.send_message(\"ack\", {});\n",
       "}\n",
       "\n",
       "// A function to construct a web socket function for onmessage handling.\n",
       "// Called in the figure constructor.\n",
       "mpl.figure.prototype._make_on_message_function = function(fig) {\n",
       "    return function socket_on_message(evt) {\n",
       "        if (evt.data instanceof Blob) {\n",
       "            /* FIXME: We get \"Resource interpreted as Image but\n",
       "             * transferred with MIME type text/plain:\" errors on\n",
       "             * Chrome.  But how to set the MIME type?  It doesn't seem\n",
       "             * to be part of the websocket stream */\n",
       "            evt.data.type = \"image/png\";\n",
       "\n",
       "            /* Free the memory for the previous frames */\n",
       "            if (fig.imageObj.src) {\n",
       "                (window.URL || window.webkitURL).revokeObjectURL(\n",
       "                    fig.imageObj.src);\n",
       "            }\n",
       "\n",
       "            fig.imageObj.src = (window.URL || window.webkitURL).createObjectURL(\n",
       "                evt.data);\n",
       "            fig.updated_canvas_event();\n",
       "            fig.waiting = false;\n",
       "            return;\n",
       "        }\n",
       "        else if (typeof evt.data === 'string' && evt.data.slice(0, 21) == \"data:image/png;base64\") {\n",
       "            fig.imageObj.src = evt.data;\n",
       "            fig.updated_canvas_event();\n",
       "            fig.waiting = false;\n",
       "            return;\n",
       "        }\n",
       "\n",
       "        var msg = JSON.parse(evt.data);\n",
       "        var msg_type = msg['type'];\n",
       "\n",
       "        // Call the  \"handle_{type}\" callback, which takes\n",
       "        // the figure and JSON message as its only arguments.\n",
       "        try {\n",
       "            var callback = fig[\"handle_\" + msg_type];\n",
       "        } catch (e) {\n",
       "            console.log(\"No handler for the '\" + msg_type + \"' message type: \", msg);\n",
       "            return;\n",
       "        }\n",
       "\n",
       "        if (callback) {\n",
       "            try {\n",
       "                // console.log(\"Handling '\" + msg_type + \"' message: \", msg);\n",
       "                callback(fig, msg);\n",
       "            } catch (e) {\n",
       "                console.log(\"Exception inside the 'handler_\" + msg_type + \"' callback:\", e, e.stack, msg);\n",
       "            }\n",
       "        }\n",
       "    };\n",
       "}\n",
       "\n",
       "// from http://stackoverflow.com/questions/1114465/getting-mouse-location-in-canvas\n",
       "mpl.findpos = function(e) {\n",
       "    //this section is from http://www.quirksmode.org/js/events_properties.html\n",
       "    var targ;\n",
       "    if (!e)\n",
       "        e = window.event;\n",
       "    if (e.target)\n",
       "        targ = e.target;\n",
       "    else if (e.srcElement)\n",
       "        targ = e.srcElement;\n",
       "    if (targ.nodeType == 3) // defeat Safari bug\n",
       "        targ = targ.parentNode;\n",
       "\n",
       "    // jQuery normalizes the pageX and pageY\n",
       "    // pageX,Y are the mouse positions relative to the document\n",
       "    // offset() returns the position of the element relative to the document\n",
       "    var x = e.pageX - $(targ).offset().left;\n",
       "    var y = e.pageY - $(targ).offset().top;\n",
       "\n",
       "    return {\"x\": x, \"y\": y};\n",
       "};\n",
       "\n",
       "/*\n",
       " * return a copy of an object with only non-object keys\n",
       " * we need this to avoid circular references\n",
       " * http://stackoverflow.com/a/24161582/3208463\n",
       " */\n",
       "function simpleKeys (original) {\n",
       "  return Object.keys(original).reduce(function (obj, key) {\n",
       "    if (typeof original[key] !== 'object')\n",
       "        obj[key] = original[key]\n",
       "    return obj;\n",
       "  }, {});\n",
       "}\n",
       "\n",
       "mpl.figure.prototype.mouse_event = function(event, name) {\n",
       "    var canvas_pos = mpl.findpos(event)\n",
       "\n",
       "    if (name === 'button_press')\n",
       "    {\n",
       "        this.canvas.focus();\n",
       "        this.canvas_div.focus();\n",
       "    }\n",
       "\n",
       "    var x = canvas_pos.x;\n",
       "    var y = canvas_pos.y;\n",
       "\n",
       "    this.send_message(name, {x: x, y: y, button: event.button,\n",
       "                             step: event.step,\n",
       "                             guiEvent: simpleKeys(event)});\n",
       "\n",
       "    /* This prevents the web browser from automatically changing to\n",
       "     * the text insertion cursor when the button is pressed.  We want\n",
       "     * to control all of the cursor setting manually through the\n",
       "     * 'cursor' event from matplotlib */\n",
       "    event.preventDefault();\n",
       "    return false;\n",
       "}\n",
       "\n",
       "mpl.figure.prototype._key_event_extra = function(event, name) {\n",
       "    // Handle any extra behaviour associated with a key event\n",
       "}\n",
       "\n",
       "mpl.figure.prototype.key_event = function(event, name) {\n",
       "\n",
       "    // Prevent repeat events\n",
       "    if (name == 'key_press')\n",
       "    {\n",
       "        if (event.which === this._key)\n",
       "            return;\n",
       "        else\n",
       "            this._key = event.which;\n",
       "    }\n",
       "    if (name == 'key_release')\n",
       "        this._key = null;\n",
       "\n",
       "    var value = '';\n",
       "    if (event.ctrlKey && event.which != 17)\n",
       "        value += \"ctrl+\";\n",
       "    if (event.altKey && event.which != 18)\n",
       "        value += \"alt+\";\n",
       "    if (event.shiftKey && event.which != 16)\n",
       "        value += \"shift+\";\n",
       "\n",
       "    value += 'k';\n",
       "    value += event.which.toString();\n",
       "\n",
       "    this._key_event_extra(event, name);\n",
       "\n",
       "    this.send_message(name, {key: value,\n",
       "                             guiEvent: simpleKeys(event)});\n",
       "    return false;\n",
       "}\n",
       "\n",
       "mpl.figure.prototype.toolbar_button_onclick = function(name) {\n",
       "    if (name == 'download') {\n",
       "        this.handle_save(this, null);\n",
       "    } else {\n",
       "        this.send_message(\"toolbar_button\", {name: name});\n",
       "    }\n",
       "};\n",
       "\n",
       "mpl.figure.prototype.toolbar_button_onmouseover = function(tooltip) {\n",
       "    this.message.textContent = tooltip;\n",
       "};\n",
       "mpl.toolbar_items = [[\"Home\", \"Reset original view\", \"fa fa-home icon-home\", \"home\"], [\"Back\", \"Back to  previous view\", \"fa fa-arrow-left icon-arrow-left\", \"back\"], [\"Forward\", \"Forward to next view\", \"fa fa-arrow-right icon-arrow-right\", \"forward\"], [\"\", \"\", \"\", \"\"], [\"Pan\", \"Pan axes with left mouse, zoom with right\", \"fa fa-arrows icon-move\", \"pan\"], [\"Zoom\", \"Zoom to rectangle\", \"fa fa-square-o icon-check-empty\", \"zoom\"], [\"\", \"\", \"\", \"\"], [\"Download\", \"Download plot\", \"fa fa-floppy-o icon-save\", \"download\"]];\n",
       "\n",
       "mpl.extensions = [\"eps\", \"jpeg\", \"pdf\", \"png\", \"ps\", \"raw\", \"svg\", \"tif\"];\n",
       "\n",
       "mpl.default_extension = \"png\";var comm_websocket_adapter = function(comm) {\n",
       "    // Create a \"websocket\"-like object which calls the given IPython comm\n",
       "    // object with the appropriate methods. Currently this is a non binary\n",
       "    // socket, so there is still some room for performance tuning.\n",
       "    var ws = {};\n",
       "\n",
       "    ws.close = function() {\n",
       "        comm.close()\n",
       "    };\n",
       "    ws.send = function(m) {\n",
       "        //console.log('sending', m);\n",
       "        comm.send(m);\n",
       "    };\n",
       "    // Register the callback with on_msg.\n",
       "    comm.on_msg(function(msg) {\n",
       "        //console.log('receiving', msg['content']['data'], msg);\n",
       "        // Pass the mpl event to the overriden (by mpl) onmessage function.\n",
       "        ws.onmessage(msg['content']['data'])\n",
       "    });\n",
       "    return ws;\n",
       "}\n",
       "\n",
       "mpl.mpl_figure_comm = function(comm, msg) {\n",
       "    // This is the function which gets called when the mpl process\n",
       "    // starts-up an IPython Comm through the \"matplotlib\" channel.\n",
       "\n",
       "    var id = msg.content.data.id;\n",
       "    // Get hold of the div created by the display call when the Comm\n",
       "    // socket was opened in Python.\n",
       "    var element = $(\"#\" + id);\n",
       "    var ws_proxy = comm_websocket_adapter(comm)\n",
       "\n",
       "    function ondownload(figure, format) {\n",
       "        window.open(figure.imageObj.src);\n",
       "    }\n",
       "\n",
       "    var fig = new mpl.figure(id, ws_proxy,\n",
       "                           ondownload,\n",
       "                           element.get(0));\n",
       "\n",
       "    // Call onopen now - mpl needs it, as it is assuming we've passed it a real\n",
       "    // web socket which is closed, not our websocket->open comm proxy.\n",
       "    ws_proxy.onopen();\n",
       "\n",
       "    fig.parent_element = element.get(0);\n",
       "    fig.cell_info = mpl.find_output_cell(\"<div id='\" + id + \"'></div>\");\n",
       "    if (!fig.cell_info) {\n",
       "        console.error(\"Failed to find cell for figure\", id, fig);\n",
       "        return;\n",
       "    }\n",
       "\n",
       "    var output_index = fig.cell_info[2]\n",
       "    var cell = fig.cell_info[0];\n",
       "\n",
       "};\n",
       "\n",
       "mpl.figure.prototype.handle_close = function(fig, msg) {\n",
       "    fig.root.unbind('remove')\n",
       "\n",
       "    // Update the output cell to use the data from the current canvas.\n",
       "    fig.push_to_output();\n",
       "    var dataURL = fig.canvas.toDataURL();\n",
       "    // Re-enable the keyboard manager in IPython - without this line, in FF,\n",
       "    // the notebook keyboard shortcuts fail.\n",
       "    IPython.keyboard_manager.enable()\n",
       "    $(fig.parent_element).html('<img src=\"' + dataURL + '\">');\n",
       "    fig.close_ws(fig, msg);\n",
       "}\n",
       "\n",
       "mpl.figure.prototype.close_ws = function(fig, msg){\n",
       "    fig.send_message('closing', msg);\n",
       "    // fig.ws.close()\n",
       "}\n",
       "\n",
       "mpl.figure.prototype.push_to_output = function(remove_interactive) {\n",
       "    // Turn the data on the canvas into data in the output cell.\n",
       "    var dataURL = this.canvas.toDataURL();\n",
       "    this.cell_info[1]['text/html'] = '<img src=\"' + dataURL + '\">';\n",
       "}\n",
       "\n",
       "mpl.figure.prototype.updated_canvas_event = function() {\n",
       "    // Tell IPython that the notebook contents must change.\n",
       "    IPython.notebook.set_dirty(true);\n",
       "    this.send_message(\"ack\", {});\n",
       "    var fig = this;\n",
       "    // Wait a second, then push the new image to the DOM so\n",
       "    // that it is saved nicely (might be nice to debounce this).\n",
       "    setTimeout(function () { fig.push_to_output() }, 1000);\n",
       "}\n",
       "\n",
       "mpl.figure.prototype._init_toolbar = function() {\n",
       "    var fig = this;\n",
       "\n",
       "    var nav_element = $('<div/>')\n",
       "    nav_element.attr('style', 'width: 100%');\n",
       "    this.root.append(nav_element);\n",
       "\n",
       "    // Define a callback function for later on.\n",
       "    function toolbar_event(event) {\n",
       "        return fig.toolbar_button_onclick(event['data']);\n",
       "    }\n",
       "    function toolbar_mouse_event(event) {\n",
       "        return fig.toolbar_button_onmouseover(event['data']);\n",
       "    }\n",
       "\n",
       "    for(var toolbar_ind in mpl.toolbar_items){\n",
       "        var name = mpl.toolbar_items[toolbar_ind][0];\n",
       "        var tooltip = mpl.toolbar_items[toolbar_ind][1];\n",
       "        var image = mpl.toolbar_items[toolbar_ind][2];\n",
       "        var method_name = mpl.toolbar_items[toolbar_ind][3];\n",
       "\n",
       "        if (!name) { continue; };\n",
       "\n",
       "        var button = $('<button class=\"btn btn-default\" href=\"#\" title=\"' + name + '\"><i class=\"fa ' + image + ' fa-lg\"></i></button>');\n",
       "        button.click(method_name, toolbar_event);\n",
       "        button.mouseover(tooltip, toolbar_mouse_event);\n",
       "        nav_element.append(button);\n",
       "    }\n",
       "\n",
       "    // Add the status bar.\n",
       "    var status_bar = $('<span class=\"mpl-message\" style=\"text-align:right; float: right;\"/>');\n",
       "    nav_element.append(status_bar);\n",
       "    this.message = status_bar[0];\n",
       "\n",
       "    // Add the close button to the window.\n",
       "    var buttongrp = $('<div class=\"btn-group inline pull-right\"></div>');\n",
       "    var button = $('<button class=\"btn btn-mini btn-primary\" href=\"#\" title=\"Stop Interaction\"><i class=\"fa fa-power-off icon-remove icon-large\"></i></button>');\n",
       "    button.click(function (evt) { fig.handle_close(fig, {}); } );\n",
       "    button.mouseover('Stop Interaction', toolbar_mouse_event);\n",
       "    buttongrp.append(button);\n",
       "    var titlebar = this.root.find($('.ui-dialog-titlebar'));\n",
       "    titlebar.prepend(buttongrp);\n",
       "}\n",
       "\n",
       "mpl.figure.prototype._root_extra_style = function(el){\n",
       "    var fig = this\n",
       "    el.on(\"remove\", function(){\n",
       "\tfig.close_ws(fig, {});\n",
       "    });\n",
       "}\n",
       "\n",
       "mpl.figure.prototype._canvas_extra_style = function(el){\n",
       "    // this is important to make the div 'focusable\n",
       "    el.attr('tabindex', 0)\n",
       "    // reach out to IPython and tell the keyboard manager to turn it's self\n",
       "    // off when our div gets focus\n",
       "\n",
       "    // location in version 3\n",
       "    if (IPython.notebook.keyboard_manager) {\n",
       "        IPython.notebook.keyboard_manager.register_events(el);\n",
       "    }\n",
       "    else {\n",
       "        // location in version 2\n",
       "        IPython.keyboard_manager.register_events(el);\n",
       "    }\n",
       "\n",
       "}\n",
       "\n",
       "mpl.figure.prototype._key_event_extra = function(event, name) {\n",
       "    var manager = IPython.notebook.keyboard_manager;\n",
       "    if (!manager)\n",
       "        manager = IPython.keyboard_manager;\n",
       "\n",
       "    // Check for shift+enter\n",
       "    if (event.shiftKey && event.which == 13) {\n",
       "        this.canvas_div.blur();\n",
       "        event.shiftKey = false;\n",
       "        // Send a \"J\" for go to next cell\n",
       "        event.which = 74;\n",
       "        event.keyCode = 74;\n",
       "        manager.command_mode();\n",
       "        manager.handle_keydown(event);\n",
       "    }\n",
       "}\n",
       "\n",
       "mpl.figure.prototype.handle_save = function(fig, msg) {\n",
       "    fig.ondownload(fig, null);\n",
       "}\n",
       "\n",
       "\n",
       "mpl.find_output_cell = function(html_output) {\n",
       "    // Return the cell and output element which can be found *uniquely* in the notebook.\n",
       "    // Note - this is a bit hacky, but it is done because the \"notebook_saving.Notebook\"\n",
       "    // IPython event is triggered only after the cells have been serialised, which for\n",
       "    // our purposes (turning an active figure into a static one), is too late.\n",
       "    var cells = IPython.notebook.get_cells();\n",
       "    var ncells = cells.length;\n",
       "    for (var i=0; i<ncells; i++) {\n",
       "        var cell = cells[i];\n",
       "        if (cell.cell_type === 'code'){\n",
       "            for (var j=0; j<cell.output_area.outputs.length; j++) {\n",
       "                var data = cell.output_area.outputs[j];\n",
       "                if (data.data) {\n",
       "                    // IPython >= 3 moved mimebundle to data attribute of output\n",
       "                    data = data.data;\n",
       "                }\n",
       "                if (data['text/html'] == html_output) {\n",
       "                    return [cell, data, j];\n",
       "                }\n",
       "            }\n",
       "        }\n",
       "    }\n",
       "}\n",
       "\n",
       "// Register the function which deals with the matplotlib target/channel.\n",
       "// The kernel may be null if the page has been refreshed.\n",
       "if (IPython.notebook.kernel != null) {\n",
       "    IPython.notebook.kernel.comm_manager.register_target('matplotlib', mpl.mpl_figure_comm);\n",
       "}\n"
      ],
      "text/plain": [
       "<IPython.core.display.Javascript object>"
      ]
     },
     "metadata": {},
     "output_type": "display_data"
    },
    {
     "data": {
      "text/html": [
       "<img src=\"data:image/png;base64,iVBORw0KGgoAAAANSUhEUgAAAtAAAAIwCAYAAACvE1weAAAgAElEQVR4XuydCZQTVfaH7610tyCCOwqKIpCqICru24iC+y7quO+jf0dxG7dx13HGcR13ZVxGHXVcxwX3XXFwXHHFhrzqFhEVFHd2mk7e/9wy1VMdku5UkkpVkl+dw1E6r169970b+svLrVtMOEAABEAABEAABEAABEAABAomwAW3REMQAAEQAAEQAAEQAAEQAAGCQCMIQAAEQAAEQAAEQAAEQMAHAQi0D1hoCgIgAAIgAAIgAAIgAAIQaMQACIAACIAACIAACIAACPggAIH2AQtNQQAEQAAEQAAEQAAEQAACjRgAARAAARAAARAAARAAAR8EINA+YKEpCIAACIAACIAACIAACECgEQMgAAIgAAIgAAIgAAIg4IMABNoHLDQFARAAARAAARAAARAAAQg0YgAEQAAEQAAEQAAEQAAEfBCAQPuAhaYgAAIgAAIgAAIgAAIgAIFGDIAACIAACIAACIAACICADwIQaB+w0BQEQAAEQAAEQAAEQAAEINCIARAAARAAARAAARAAARDwQQAC7QMWmoIACIAACIAACIAACIAABBoxAAIgAAIgAAIgAAIgAAI+CECgfcBCUxAAARAAARAAARAAARCAQCMGQAAEQAAEQAAEQAAEQMAHAQi0D1hoCgIgAAIgAAIgAAIgAAIQaMQACIAACIAACIAACIAACPggAIH2AQtNQQAEQAAEQAAEQAAEQAACjRgAARAAARAAARAAARAAAR8EINA+YKEpCIAACIAACIAACIAACECgEQMgAAIgAAIgAAIgAAIg4IMABNoHLDQFARAAARAAARAAARAAAQg0YgAEQAAEQAAEQAAEQAAEfBCAQPuAhaYgAAIgAAIgAAIgAAIgAIFGDIAACIAACIAACIAACICADwIQaB+w0BQEQAAEqpGAaZpbE9FtRNSXiG63bfusapxHqWO2LGs0EZ1ARAkiWlFr/RUR3Wjb9o2evmPxePxwwzCOIiJTa70MM09Pp9MXtLS0PFrqGHA+CIBAbRCAQNfGOmIWIOAQGDp06IqpVEp+8W/CzPLLP05EC5n5GyKaobV+jYjG2bY9pQzIjHg8vqthGDsS0W+01v1FSohoNhF9R0QzmXn84sWL/zl16tTp+a4nY06n0zdqrZdn5uU9/12OiObI2LXW3zDzF0T0pFLqKSJKuf1ZlnUREcmfYo4/KaX+7OfEYcOGLdPW1rYfM49i5o211iKlvYnoRyKaRUTTiOilBQsW3PHll18u8NN3QG3ZNM2vmHlVIpJ/83U6nd65paXlpYCuV9Zu11577TVTqdTnhXaqtZ5m2/Ygb/v+/fsvvcwyyzzDzNtkfq5dFlrr623bPk1+Pnjw4L6xWOwVZh6Wo92ptm3fUOg4gmonc5G+Z8yYMT+oa6BfEACB7glAoLtnhBYgUBUETNM8kohuYOZluhnw5Uqpc0uZlGVZB2it/8LMQ7L6ccXE/bFOpVJbtba2vpXveh5B6pCajNzkO+UTZj4gmUwqaeARaDm/0MMRSSK6uFCBHjlyZMPMmTPP1Vr/gZlF7vMeWut5ffr0WWHixImLCx1QUO3i8fjKhmF8m5mvM2+t9R9t2746qGuWs9+s+Oiua84l0JZl3UpE/5dh0KkPr0BblvUCEe2Qp11oAp1IJPbUWo8gohFa642IaDvbtv/THQy8DgIgEBwBCHRwbNEzCFSMgGVZx2S+ou9KIl1p3Fop9d9iBpeRSEkFEFl3r+X2u0SXWutfbNteiYjSBQp0vmbea8j/y47qsGQyOScj0BfmODH737dcbAoS6EQi0V9r/bjs7Bc476dt296rGMYBnCM70F9ndqCl+2rdgfZ+OOsqzqcppQa7HOPx+FLMLN9kxNxdZyJKygdAwzB+IqIfksnkRNM0BzFza9YHDfngJx80FhHR52X65sb3EluW5X3/yAegURBo3xhxAgiUlQAEuqw40RkIVJ6A7DAy82fM3Mu9utZa/n691lp2aUVgRShGMPMGSql+XQltVzOwLOtuIjrMK5Faa9llfZyZP9BaN2utDcMwBhDRVlrrBbZtH91Vn3l2oP+UTqffZmYtqSiZvNWhXrkhojOVUtfE4/HVY7HYGt5rpNPpDZlZvm73flW/n2EYksrScaRSqektLS2SB5v3GDRo0LINDQ1vZL7W9/b3IzNLTuykdDptx2KxZdPp9JpEtAsR/du2bdn1jMQRj8e3YWb54LMCM9+qlDo/EgMrYBB54uNkZv4wz+mLksnk+x6B3sAwDPl7x9ox8/rJZHKS93zTNPfOrKfTTmvd3tjYuGpzc7Ok5oR6ZATaG3sQ6FBXBBcHgV/z4XCAAAhUMQHLso4noptdQZBf/KlUavXPPvtM8nE7HfF4vE9LS4vkKPs+TNP8P5Evj4hIHx8T0T5KqYJzVLMvnEuQsnfYZNzMLKkbIububvTDSqmDck1EhNEwDMn37pCOxYsXr9VVLnY+IJZl3UdEch1vislDDQ0NxzY3N8/1DRIn+CJQSHx01WEikThEa32vd/2UUg3ZaRqmaZ7HzH/xtPtSKSUfiEI/INChLwEGAAJLEIBAIyhAoMoJWJYlFQSksoC7czbXtm3J0c2bNuF3ysOHD++1YMGCFmZeJXOu/NvxpWEYG06ZMuUHv/152xcqSKZp3szM8mHBneentm2vF6RAJxKJjbTW72XJ87NKqT0KnbNpmkcw812e9lopJekEHUeONmQYRmLKlCl29nUsy1pLa32c7HQz8xpa65jcYKm1frqxsfG65ubmTrvscn5WCoAkQR9p2/Y98lr2TXpa6xds294lkUjspLWWuNpQa70sM8uOrdzEeZX3Js7s8WVSIc7SWu/IzP201hIfr6bT6YsNw9iVma9zz5F52LYtO+N5j0LjI7sDz4eo7Jc6UkG01nJj6p+y1meJsWitx9u2va33BbmZdPHixb+XD5CZewH6aK1nEtFrWuubWlpa8u2QO92YprkaMx+ttZaca/mGSL4pmiPpScLLtu1TTdOcJmuc9aE1e3y+b4QtNHbRDgRAID8BCDSiAwSqnIBlWZcS0dlZknd7Q0PDGeXaITVN8yBmlp1Y79fghyeTSflZSUehgmRZ1p1ZudfPK6V2y3Xxcu1AW5Ylcif55R1f6zc0NMQnT54s4lXQ4ZHjDnZdCHRHG8MwhmYLdOZbABHQnp6Ld+Sia60lp3e0bdsTvIPz7GA6P9ZaH5VDoN1+pELLv7Mqm3jzjyc0NDTs0Nzc3JYNwDTNAzMyulRWrrhcc65UZSGi3d3XtNbHV0Cgl7ix1b1JVW44lBtJM2PO105yjl/3CnQ8Ht/cMAxhtFqudZAPr8x8ejKZvD5HkLBlWZJCcx4RNWWd7/5OfkcptYVpmp9nBFqaeX9fe78NKSiPv6BgRSMQAIGCCUCgC0aFhiAQTQKWZe1HRA9lfSUtOZwiUzfGYrEbS90ltizrfiI60COS8/v06bN8OapMFCLQiURiYDqdfj9T/cJN4ThdKdWxm+ldnXIJtOfmO/earyqlZMew4KNcAp2rH88g3PHJf38xDGOId81zpADkE+hsSXMv4e1f5O0MpdS1XgiJRGKU1vrlHGPyNuvUTwUE+tXMxXPOK8cOdL52HQKdSCTW1Vq/QURdVbtxq53sZNu2l4nsPP+DmX/X1c2oWuvrbNs+vRuBdrlCoAt+N6IhCJSPAAS6fCzREwiEQmDgwIE9mpqaPmRmK0f5LRHp+cz894aGhqtzfb1fyKAty5osmQCethOUUiMLObe7NvluEiOij9Lp9PKGYWygtZabxlbw7MIlGxoa1s+1CyrXK4dAS03ghoYGSYfw3rz1F9u2/9TdnLyvl0Oghw4d2i+VSqnMjaKunP1da/28YRiraK3PzNxsKZeWHdNLbNvuqI3tQ6DlfLd/qbd9OzMPJCL5lsMVRompH2zblvrX7q51zLIsSTeRtm4faa31Vcws5dYk/eH0bGksUqC7xC9lBqVes+TNx2KxdbTW8i3FOd51lNKKDQ0NMs9FciNpLBaLp9Ppo5lZaqi73zZ8k06n95V27e3tv7S2tjYLG9M032XmDd1BaK1fYmb5dkS4H8XMO3vm+YZSyq09LfJ8ODP/08sh8/68Lp1Ov8PMsnNtaa0nSpUNSSEioqUywu7dde64ibKQG2H9xCvaggAIFEYAAl0YJ7QCgUgTkF+06XT6BXkQiUcyvaW+RHrmGYZxSDKZfNLvZEzT/MG7+6u1lioTsiNd8pFDoHP16ZXYD2Kx2J5TpkyRfNOcRzkEOrPTKDdJdlw7nU6f0NLScoufSZdDoC3LuoSI3NrdImp/tW27o3RfpszeVCJqzFSQ+KlPnz6rut8Q+BBo93fClN69e6/vOd9bJtERbO9NmdkVLDLMOu1SW5b1iOQLZ30gKSaFw/mQkGMNXPHvVK+5EP7SV1Y98Xz1pLeTh+TkE2QiMkzTlA+z67gfRJh500xVEEndkDJ53g8Zs5l5M7emeb64wk2Eft5xaAsClSEAga4MZ1wFBAInMGjQoDUaGxsfJKLNMhdz398dObLyiz+dTu/vPpJ4yJAhA7JLwHkH2tDQ8J7s8pqm2eato6u1ftK27b3LMakCBNq78zahd+/eO3SXOlImgd4ye+ePmU/Lk9eaF0UhAperjTcH2rKsdzI1qF15lKogX3suKsInqQHy5ElHJFOplNXa2irC5t5E6P0Q0lUKh7Q7Vyl1hdt/RtDl5jZvDvz2yWRSKp1I/94HlchYfm5ra+s/bdq0hW4fmbzhNwMUaOdSWuvABNo0zSuY+czMnOSDzJXM/HTW4p9IRAe4bYjo90qpf+S5IfUcpdSV3b2PINDdEcLrIFB5AhDoyjPHFUEgUALxeHwHuYGJmd1cXTfv1L3ujPnz55vymOluHoPdsctoWZakMqzsEfOkUmrtckwkj0Bn7zB6/616TinVcSNarjGUQ6Aty0oQkaSueMXzVtu2x/iZd5kE+hdvCkUX1/fulnc8rtvnDrSI4e9s25aa3+4hKRpS79v7YeZIpZSUhxOBlgeOyAc3d92WSPGRPHatteySe3kWswMt5+etA83Mn3u/nSiEf2YO7iPh3RSOJR4JbprmE8wsFViybzjMXhIvJ3ny53mmaR7LzPLthfc1qcv+SXfxBIHujhBeB4HKE4BAV545rggCFSFgmuammRJdO3ku6Mh0Op3epaWl5UUfAu3ugLpysbh///69xo8f317qZPLcRDjStu03EonEmlprEZsjslIp9mppacne+esYSjkEOpFI9M7ciCnM3PSATtUYCpl7IQLX1Q50jkdxF3JZWaeDlVJyc6nvHWhvlQ73Yl1JuGmakp8tj3V3P6w9pJQ62DvQPOtclED7eRJfIfwLFWjLsiQPWj5YyVHo7095cM3xpmmey8ySitMh0E1NTStNmjRJbvbt8oBAd0cIr4NA5QkU+g9A5UeGK4IACJSFgGmacoOZfB3v3flzvubu4jHYcm3ZgR4kDx8xTfMyZj4ra/fsJKXU2FIHWUAVjphpmh8xs+x4u4Lm7kLnvHw5BDojVd6dVUlNSDHzRoXsGnrEU57cKLu5Hfx79+7dw5uG0pVAy5MQGxsbRbK8u565coC9LGQXeWe3AkQRO9AdKR4FCrQ8qXFLdwdaa/2i1JL2DijPo7KrTaCltvPwrPdBd2+BS5VSF5imKbvmUjXG+z7cyLbtj7rrAALdHSG8DgKVJwCBrjxzXBEEKkpg0KBBqzQ2NsoNd96vjo9QSv2r0IGYprm+PKo7q3rAj42NjWapjzouQKBlB1Xk/TLPHNKLFy9eberUqd/mmkO5BDqRSJyitZZybV7p+Y9t26MKZWdZlvfGMzc/eWBra+uXbh+5rpOVAy0C3cfzAWJrpdR/fYxBHqpTcA603x3orBrd8kHjG9u25amRKXeMZcyBlg8HBT/Kupw70KZpjmPmPTNzknFcaNv2XwtZh3g8vrthGHIDr3cdzrJt+2/dnW+a5iJmlqcnOvHDzLsmk8kXujsPr4MACARHAAIdHFv0DAIVIRCPx5eSX6j9+/d/KldKhWVZo4nosSyBHqaUSvoZoGVZ8svfzT12Uxo+aG9v37eYR2S71y5EoHNVxJCHqrg5uNnzKJdA9+/ff+nevXtL3q5bss3dAb+nR48eJ3788cfzumOYZ+f1FNu2b8qcK/nFUlfYzSF2rpEl0N4KFnLay4sWLdrLe5NeV+OowA70GcwsN8N5c7CPaWlp6XgCo2VZD2Ruris5BzpEgT6RmW/wzPOrWCw2opAH62RSgr7LVEqR5ZJ1npOp0qG6Wb/PMtU73PedlOqTJ5DiAAEQCIkABDok8LgsCJSLQCKRGKm1fjXzGOEnDMNQ6XS6RR7xbBjGFlpr+aXfK3M9ec9PUUpJma3u0gA6DVEqMWQeZuI+ztsVoTattezMSd3mTzO1bPsRkeRgf6eUkqeu5T0KEWg52bIs2bHt78lHfsC27UNzdVwugZa+TdPcnpmflxJlmWu5854lj7bWWk/SWicNw+iltZZd162J6H7bth+X9iNHjmyYOXPm90TU210DKSmYKUs3NfNQDalo4q7HEgJtmuYIZn496xsAebT6HVrrZmaWahdSJ3sQEY1YtGjRodOmTfvZZRO0QA8bNmyF9vZ2kTzZJXfkUGst+fGXM7OkwZSzDrTs/J7CzHkfld3Q0DDF/WaknDvQUlvaMAx5CuWyrkRLnrzUgdZav2UYxk/y2HOJU631lvKEQ6XUK551EOmVx6N713oBEV3PzG9rreXpjoPlvWzbtnzodQ7LsuQJjhJX7j0I8o3SGVKPOxaL2clkUp6oiAMEQKCCBCDQFYSNS4FAEAQ8NYLzVQbw/nxBOp3erqWl5e1ixmKa5nBmlgdsyCOMvWXycv5borX+1Lbt9bq6VqECbZqmPNTjaM/un8i5K/OdLlFOgZaOE4nEIVImLvPo5e7mLbxvVkqd7A7KNM3zmfnPnkFmr5X3w8wSAp0R+ZuY+fgCuEtfOyil3KfwBX4TYUby/ijC3M0c3R18dyf1ONu2b/cRH27TLn93MfNot955OQU6M8/9iUjKRbpH3vdddr1uyWdvaGh4O/PQm67i6AGl1CGe+Mne+e64ptb6SPex7MW8p3EOCIBAcQQg0MVxw1kgEBkClmXJzuRWngF539deMfs8lUod1traKjuCRR/yhL5YLCZ5mwcxs7srm/1vifsLPt3Q0LBcc3Pz3HwX9Ah0h5Dk+oreNM19mFlSGTraeR5S0al7j0B3tPU++KOYyWfq+Eo+9G8KYD1RKeXW46bhw4f3WrBgwevMvEHmXK88yY9u1lpvITcoZl7vlMKR+Zk8pONSZj4jI9G5mDtNtdZn27Z9lTvOzA60l2+uOtA5Xy+kD2mT2WmXsnYimHJ0mqPW+lFm/m1WDvAhtm17ZXSJpckRH90tn+QI751DoDvmp5SKZXeSXZFGa71EGTsPC6nzfFue0oLe99zzSil5EmLHkbknQaqjjMji1DE+IvpEKeXGCg0bNqxp8eLFH2eJd2ap9RI3fHYHCK+DAAiUTgACXTpD9AACoRIQOVu4cOHuWmupT7uW7A4z86pEtFBrPYuZ39NaP9W/f/9HylF2zp1sPB4fLKJCRJLiICXMViKiHvK1MhFJyoJ8rfxKz5497+gqVzgjSJJn7BW4beVRxl6w8vU5M3+XuZnKeUlrfYFt2/KY6U5HRqA7dmC9FUVKXaxEIiEPWNlNaz2SmVeXeUtOQWbOMm+pHf2cbduS89txbLzxxo2zZ8++gIikOsVQZpYbA6UCg+xWP5+5QU3W0JmaYRhrT5kyRR6P3elIJBJWOp2WmsKjtNZrSmoIM0u6hlz7M2Z+mYie8H6tb1lWx818GW7ZAu3lL1xzVeHI24d3gJZlHaC1Po6Z1yciSUl4R2v9mNZ6gmEYLVm5+LvJ3Ltakxzx0d0SikDvkyXQ8qjtjvhSSskNeZ2OHBVppimlBue72Lrrrrt8W1vbsVLthJmHaq2XZ+b5mXX4Wms9npmfUUq9l6sP0zRFrOWBOJLqId+kyO/jH7TW05n5BaWU9xsL90PYn5lZbkqVB+bIen/BzBcmk0lJ8cABAiBQQQIQ6ArCxqVAAARAoF4JeL5B8N5EuIZt294nKtYrHswbBECgyghAoKtswTBcEAABEIgqAXmcfK6KLAMGDOjZs2fPd5jZvXlVfvd83tUOb1TniHGBAAiAgBCAQCMOQAAEQAAESiaQydP9kYgkV/cFrbVUgvlB8naZ+RSpLpGV//xH27avLvnC6AAEQAAEQiAAgQ4BOi4JAiAAArVGIJFISE62lGzLVZUi+ymKE9Pp9NYtLS2Lao0D5gMCIFAfBCDQ9bHOmCUIgAAIBEogU07xHM9FclaD0Vq/0N7eflS+p0gGOkh0DgIgAAJlIgCBLhPIrrqRp5ktvfTSifnz5ydnzJghd2njAAEQAIGaIjBw4MAejY2NuzHzfsxsaa1XZebl5aEgzCwPH5GKIg9661PXFABMBgRAoK4IQKArsNxDhgzZ0DCM9x977DGp51mBK+ISIAACIAACIAACIFA8AWaGI3aBD3CKj62Cz4RAF4wKDUEABEAABEAABCJAAALd9SJAoCsQpBDoCkDGJUAABEAABEAABMpGAAINgS5bMBXbEQS6WHI4DwRAAARAAARAIAwCEGgIdBhx1+maEOjQlwADAAEQAAEQAAEQ8EEAAg2B9hEuwTSFQAfDFb2CAAiAAAiAAAgEQwACDYEOJrJ89AqB9gELTUEABEAABEAABEInAIGGQIcehBDo0JcAAwABEAABEAABEPBBAAINgfYRLsE0hUAHwxW9ggAIgAAIgAAIBEMAAg2BDiayfPQKgfYBC01BAARAAARAAARCJwCBhkCHHoQQ6NCXAAMAARAAARAAARDwQQACDYH2ES7BNIVAB8MVvYIACIAACIAACARDAAINgQ4msnz0CoH2AQtNQQAEQAAEQAAEQicAgYZAhx6EEOjQlwADAAEQAAEQAAEQ8EEAAg2B9hEuwTSFQAfDFb2CAAiAAAiAAAgEQwACDYEOJrJ89AqB9gELTUEABEAABEAABEInAIGGQIcehBDo0JcAAwABEAABEAABEPBBAAINgfYRLsE0hUAHwxW9ggAIgAAIgAAIBEMAAg2BDiayfPQKgfYBC01BAARAAARAAARCJwCBhkCHHoQQ6NCXAAMAARAAgaomkEgkfI//3nvvpU022aTb8+bNm0dHH300yX/Hjh1LAwYM6Pacrhq4Y7388stp9OjReZsGOaeSJoCTHQIQaAh06G8FCHToS4ABgAAIgEBVE/jd7363xPi//PJL+uqrr6ipqYk22mijTq8zM/3xj38ky7K6nfcbb7xBxxxzjAgTXXzxxbT//vt3e053Ai19XXbZZV0KdJBzKmkCOBkCXUAMcAFt0KREAhDoEgHidBAAARAAgSUI3HTTTSR/VlttNXrllVeKJrRo0SI677zzaPHixXTRRRfRCiusUHRfcqLsLBci0LkuUq45lTQBnAyBLiAGINAFQCq1CQS6VII4HwRAAARAIJtAVGUTAl0bsYoUjq7XEQJdgTiHQFcAMi4BAiAAAnVGAAJdZwte4elCoCHQFQ65JS8HgQ59CTAAEAABEKg5AoUK9LbbbkszZsygl156iebOnUvXXnstffDBB7TvvvvSOeecQ19//TVtt912Dp/sGw9nzpxJ9913H73//vskOdezZ8+mVVZZhUaOHEnHH398znSPIHegX375ZTrxxBOdsd5///204YYbLrGuc+bMoS222ILa29vp/PPPp0MPPZQef/xxZ67CQm6UlPncfffd9OGHHzpMZMybbbYZHXfccdSjR4+csSI3Wd51110Ox+nTp1NjYyMNGjTI4fjb3/7WSVuppQMCDYEOPZ4h0KEvAQYAAiAAAjVHwI9AiwhfeeWVdOGFF1IqlaJ4PE577LEHHXnkkR0CLQJ4zz33dFTu0FrTqFGj6Ntvv6W+fftSv379HNmcNm2aI6f9+/enRx55ZAmJDlKgZewiwbNmzXLE9ZJLLlliXR977DE699xznZsrJ0yYQMsuu2yHQItYb7/99s55Sy+9NA0ePNj5YPDzzz+TzFe45KpE8vnnn5Pc9Cgcl1pqKaedjOG7775zzttpp53ouuuuqymJhkBDoEP/RxMCHfoSYAAgAAIgUHME/Aq0iOTAgQPphhtucITYPdwd6GyBltffffddR5y9pe2+//57Zxf4448/dqp3nH766Z3YBinQciF33r169aL//ve/S+wYS0m+N998k3bbbTf629/+5ozN3YHu06eP8yHgsMMOoz/84Q/Us2dP5/XXX3+dzjjjDOc1Kf0nHyTcI51O09577022bTsfOE477TRn91kO2ck/6aST6Mcff6RLL73UaVcrBwQaAh16LEOgQ18CDAAEQAAEao6AH4GWFA7ZkZX0A0nB8B5dCXQ+aCKosiO74oorOhLrPYIWaNkRl11oEVupNb3XXnt1XF5EdsSIEc5rd955p5PK4RVo+ZCwyy670DXXXLPE1F577TUnLUXa3Hzzzc415Pj3v/9NF1xwgbNzLcyzjyeffNIpGSi70k899VTNxBkEGgIdejBDoENfAgwABEAABGqOgB+BltSDrbfemm699dYlOBQi0JL7LPnHUnda0hYkjeO9995zZFN2Yd2dXOk8aIGWa8iur3wY2Hzzzemf//xnx5weeOABp5b16quv7ozXPdwdaBnvww8/TOuuu27OeNh9993ps88+o4MPPtiRZjkOOOAA+uSTTzoJufdkSf+QcUjf8mGi1DKAUQlUCDQEOvRYhECHvgQYAAiAAAjUHAG/Ai07xmeeeaYvgRa5lt1akdW2trZOOb6S+yvSKDWoJR/aPSoh0CKqkqoh1xdRllrYcsgNg3KD4CmnnOLcEJhLoCdNmkQNDQ054+Hss8+mcePGdRJzSemQ1CbPnLQAACAASURBVA6Zb1eHjOWhhx6i9dZbryZiDQINgQ49kCHQoS8BBgACIAACNUfAr0CfcMIJHRUsvDDy7UBL2sc+++zj3GC3/PLL01FHHUWbbroprbHGGvTLL784qRBhCbR7457cACj52DI3Se2Q6iCGYdCrr77aKVXFuwM9ZcqUvLFw1VVX0R133EFrrbUWPffcc05u85ZbbunMc/311++0056rE3kQzZprrlkTsQaBhkCHHsgQ6NCXAAMAARAAgZojELRAy81yzz77rCOT//rXv5x8Z/fwSncYO9AyDslxlsoicoOj7JBLKofkRItE33LLLZ3Wu1CBlhsin3nmGUeWH3zwQafaiPy/VP+QsnfyAaJeDgg0BDr0WIdAh74EGAAIgAAI1ByBoAVa6iJL7rPcICe7z96jtbWVJF84rB1oGctPP/3k5HWL5ErpOqmCMXHiRLrxxhudG/68h1egvSkf3jayq73rrrs6+d0HHXSQU/JPDjcvWupIH3744TUXR/kmBIGGQIce7BDo0JcAAwABEACBmiMQtEBvtNFGNH/+fKe8m+Qbe4+///3vdP3114cq0DIekXupfHHggQc6+cdSnk92xGOxWF6BzpcL/uKLL9LJJ5/szEl2s+UDhByyyy273auuuqpzrd69e9dcLOWaEAQaAh16oEOgQ18CDAAEQAAEao5A0AItNY/ffvttp3a0PPXPrS7xxBNP0Hnnnefs/IpsumkeLuBK3EToXksqgEjFDPcpgJKCIbWpsw93B1p+Lm2l3RFHHNFRz1mkW2RcPjBstdVWdPvtt3d0IU8glF1oqWQi6RyS5zx06NCO12XnWm5MlFSXWpJrCDQEOvR/NCHQoS8BBgACIAACNUcgaIGW0m0ip5L/K0/tkzrH33zzjXOznqQyiJTKY7OzK09UUqBlUeWJii0tLc4NfvJAFHlYSj6BFnmW9Az5QOA+WOaLL75wbpSU1+SGwauvvpqWW265Tl189NFHNGbMGCdtRIRZdqOl8ojMX3jIf+VJhPJEwlo5INAQ6NBjGQId+hJgACAAAiBQcwREoOWBH1LCzVvzOHui8kAQ2T3tqgqH5AyLQMqNclK2zT2kYoWUsWtubqbFixc7O68iz9JedmWnTp1Kt912m7Nr6x4i0FIJQ3KSR48e7Yt7oXPydippF3ITobd2c1cCLXOSVAypGa2Ucp5kKGOW/Gd5PHi+QyRbxFuewCjC/sMPPzg3Vq688sok6S777befswtdKwcEGgIdeixDoENfAgwABEAABECgBgkkk0lHeuXJg9mpJN7pFlqFowYRFT0lCDQEuujgKdeJEOhykUQ/IAACIAACIPArAclXPuyww2jy5MnO47ylhF2+AwLtP2og0BBo/1FT5jMg0GUGiu5AAARAAATqmoCkpEid6g8//NBJo3j66aedh71AoMsXFhBoCHT5oqnIniDQRYLDaSAAAiAAAiCQRUBKzN1www3ODvQyyyzjlJxbZ511uuSEHWj/YQSBhkD7j5oynwGBLjNQdAcCIAACIFC3BORBKWPHjnVKysmNioXcuCcCfe655zo3SkrKB47uCUCgIdDdR0nALSDQAQNG9yAAAiAAAnVD4MsvvyT5s8UWW3TUf66byVdwohBoCHQFwy33pSDQoS8BBgACIAACIAACIOCDAAQaAu0jXIJpCoEOhit6BQEQAAEQAAEQCIYABBoCHUxk+egVAu0DFpqCAAiAAAiAAAiETgACDYEOPQgh0KEvAQYAAiAAAiAAAiDggwAEGgLtI1yCaQqBDoYregUBEAABEAABEAiGAAQaAh1MZPnoFQLtAxaaggAIgAAIgAAIhE4AAg2BDj0IIdChLwEGAAIgAAIgAAIg4IMABBoC7SNcgmkKgQ6GK3oFARAAARAAARAIhgAEGgIdTGT56BUC7QMWmoIACIBABAm0p9tp1qJZERxZ/iH1XaovNRgNVTVmDDY6BCDQEOjQoxECHfoSYAAgAAIgUBKBGQtm0PovblJSH5U++aMd36P+PftX+rK4Xo0QgEBDoEMPZQh06EuAAYAACIBASQQg0L/ik0do33ffffTmm2/SjBkzqL29nfr27UtrrbUWnXDCCbTeeuuVxLleTxaODQ3R+rYAAg2BDv39CIEOfQkwABAAARAoiYBXoF/Y+hlapUffkvoL6uRvF86inf6zm9N9uXegb731VrrxxhudvtdZZx2yLItWXHFF+uabb+itt96ia6+9ltZff/2gplaT/U6dOpXOPvtsisfj9Ne//jVSc4RAQ6BDD0gIdOhLgAGAAAiAQEkEvAJdbjEtaWBZJwc1zuuvv57+/ve/09prr02XX345maZZzmHXbV/vvvsuHX744bT33nvTZZddFikOEGgIdOgBCYEOfQkwABAAARAoiUBQYlrSoHKcHMQ4P/74YzrggANojTXWoKeffpqamprKPey67e+dd96hI444AgJdhRHAVTjmqhsyBLrqlgwDBgEQAIFOBIIQ0yAQBzHOE088kV555RUaO3YsjRo1qqBhv/zyy/TAAw/QlClTqLGxkYYNG0bHHHMMbbjhhp3O33TTTWndddela665xvnz6quv0rx582ijjTZyUhsGDx68xPUmTpzo7IZPmjSJevToQTvttBOdeeaZTv61dyf38ccfp3POOYcefPBBp+2dd97pXOuGG25wUlFuvvlmZzd99OjRna5x2GGH0XvvveeMpX///92EOXPmTJKd+A8//JC+/fZbGjJkCAmbkSNHdpx/zz330KWXXurM/YcffqDbb7+dbNumFVZYgQ499FBntzkWiznt3eswM2mtnZ/J/0sfm2wS/g2r2IHGDnRBb/YgG0Ggg6SLvkEABEAgeAJBiGkQoy73ONva2mizzTZzbnATqSzk+Mtf/uLcaDhgwADaZpttHCEWGZ0zZw6dd955dMghh3R085vf/MaRSzmWWmopkr+LcL722mu00kor0bPPPkt9+vTpaP/YY4/RBRdc4Pxshx12oF69etFTTz3lCPeLL77oyLCbCiECfe655zo/e+aZZxy5lrnsuuuudNNNNzkCLW1zCbRIunxocAVaBPz3v/89LbPMMh3C/Prrrzs3VYqE77nnns4YRZz//Oc/0y677OLMWX7es2dPeuGFF5xc8dNOO42OPfZYp62MSXagH374YecDxs477+z8fI899qBVV121ENSBtoFAQ6ADDbBCOodAF0IJbUAABEAgugTKLaZBzbTc45Sb3EQ4ZXdXRK+7Q6RSRFNE9ZZbbnHkUQ4RzYMOOsiRaBHH1Vdf3fm57N6KWMqOq+y8yg6sHCK28vfjjz+eTj75ZOdnsqMru80isffff3+H3H7//feOsM6dO3cJgZYdaOnzrrvuos0337xj+H4Fet9993Vk/R//+EdHCsuiRYucOcn1RbZlp/2RRx6h888/37mm7HhvscUWzjVlx1oEOZVKkeQ9y865HMiB7i6iovs6UjgqsDYQ6ApAxiVAAARAIEAC5RbToIZa7nF+8MEHdPDBBzuCKlU2ujsOPPBAkpzpJ5980qks4T3c9IajjjqKzjrrLOelbbfdliQ1Yty4cU5VD/f4/PPPnWvK65I6IoekXkjqxoUXXuiIq/cQWb3yyitzpnBsvPHG9K9//atTez8CLSX7fve73zn9Z1cZefTRR+m2225z+pddcDdtRHbH3Yol7oVPP/10Z0dddtGHDh0Kge4umCL+OgS6AgsEga4AZFwCBEAABAIkUG4xDWqo5R5nMpl0dnVzSWiuOYhELrfccs6ObPbx1Vdf0fbbb++kadxxxx2dBHry5Mkdu8/ygqSOyK631Jd+7rnnnLYnnXQSSW61pEPIDY3eQ8roiZjnyoH2Crt7jh+BduU835rJbvPVV1/t7NS7Aj1mzJiOnXP3PMnxlpxot638HDvQQb0Tgu8XAh08Y7nRYEPDMN6XT52S54QDBEAABECgugiUW0yDmn25x/nLL7846RiSj/zGG290Oewff/yRttxySxo+fDg99NBDS7RduHChs4MrO9OStyyHuwMtNxtmH4lEglZbbbUOGZfc4NbWVmeHO7sSSC4RdWVWbvSTP97Dj0BffPHFzo2IclNjv379cjKQOa+yyiodAl3oNSHQQb0Tgu8XAh08Ywh0BRjjEiAAAiAQJIFyi2lQYw1inPvss49TTePuu+8mqZqR70in07TBBhvQ8ssvT+PHj1+imZtPveOOOzrpGH4FWqpYvP/++07fIqveQ+Reqnzk2oHOJbOSdiEpKbnSQdzruDcRurItOd1yU2RXh19ph0AH9U4Ivl8IdPCMIdAVYIxLgAAIgECQBIIQ0yDGG8Q4Jc9XqmdI3q78v2EYeYfuynZ2TrOc4KZCeIXWzw60yO6///1vuuKKKzqqXrgD6SoHOpdAS1rIqaee6lTEkMoY7iEfAkSS3RsDpQqH5C1LGyk7JxzKKdDygUCqkhSaYx5EzOTrE1U4uqYNga5ANCKFowKQcQkQAAEQCJBAEGIaxHCDGKdUjjj66KPp7bffduo4i8BKibrsQ2oZi2zKzXKSMy07tlIxQw5JvXDL10n6Rt++vz4K3Y9AS560CPrAgQOdMnnyGHE5Zs2aRfvtt5/z3+wydlKFI5dAy3h23313Zx5yw6NbLUTGfN111zn52FIWT16X1BPJb5b+pQqHt5qHXF/4uLWd/e5Af/HFF05lkUGDBjnsonRAoCHQoccjBDr0JcAAQAAEQKAkAl4xfWHrZ2iVHr8KYNSObxfOop3+s5szrHI+clxKxMku7IQJE5z8Y7nBT6pm9O7d2ylDJ3J91VVXOeLsVpuQ/GV58IrUgRYZlbJv0satd+xXoKW9yPs///lPWnnllWm77bZzakeLAEsOstSOPvLII51cZTm6kll5/ZRTTnHGJTnZUk5v2rRp9NFHHzl9yc2K8tRF90EukiIi5fQWLFjgSL88ylzmpZSiNddc06n93N01JRVE/ngf3iLyLXI+ffp02muvvZx5ya64cA37gEBDoMOOQaRwhL4CGAAIgAAIlEbAK9Cl9VS5s8sp0O6oJf/4pZdeopaWFmdXWWofy06w3CAvu9Ry458cctO8CKxU8ZCHnohwi4BKVQ3vITIqAi67y9mH9CX1okVmvYekcUgqicir5EJLiTnZ0T7uuOOcB6fI0/5cmZW/yw70CSecsET/8qFAhF7mIyIr8n/GGWfQ888/7+Roy/jd+cjJUkVEft7c3Oz8v+R6y/ikRrTkXnd3zXw3Ln7yySf0pz/9iaR0nzxARXbX3YfLVC5alrwSBBoCHWb8OdfGDnToS4ABgAAIgEBJBCDQJeEL/ORbb73VSb2Q2stSKg9H6QQg0BDo0qOoxB4g0CUCxOkgAAIgEDKB9nQ7zVo0K+RR+Lt836X6UoPR4O+kiLeW+tDZJexkB1t2gOU1eRKim3cd8alEfngQaAh06EEKgQ59CTAAEAABEACBGiAglTAWL17sVASRNAd5iqFU1BB5lvxouTEQR3kIQKAh0OWJpBJ6gUCXAA+nggAIgAAIgECGgFSqkPxnyb/++eefnZxhyVOWPGi5+Q9H+QhAoCHQ5YumInuCQBcJDqeBAAiAAAiAAAiEQgACDYEOJfC8F4VAh74EGAAIgAAIgAAIgIAPAhBoCLSPcAmmKQQ6GK7oFQRAAARAAARAIBgCEGgIdDCR5aNXCLQPWGgKAiAAAiAAAiAQOgEINAQ69CCEQIe+BBgACIAACIAACICADwIQaAi0j3AJpikEOhiu6BUEQAAEQAAEQCAYAhBoCHQwkeWjVwi0D1hoCgIgAAIgAAIgEDoBCDQEOvQghECHvgQYAAiAAAiAAAiAgA8CEGgItI9wCaYpBDoYrugVBEAABEAABEAgGAIQaAh0MJHlo1cItA9YaAoCIAACIAACIBA6AQg0BDr0IIRAh74EGAAIgAAIlEygvb2dlFIl91OJDizLooaGhkpcCteoUQIQaAh06KENgQ59CTAAEAABECiZQHNzM2153wiK9Yu2mKZmttObh0ygYcOGlTxn6eDxxx+nc845h0488UTnD47oEJAPdUF9UIJAQ6BDj3QIdOhLgAGAAAiAQMkERKBHvDqKGtZoLLmvIDton76YJmz7WlkF+txzz6UTTjgBAh3kwvno++eff6aTTjqJmpqa6I477vBxZuFNIdAQ6MKjJaCWEOiAwKJbEAABEKgggXoWaOxAVzDQCrjU119/Tdtttx1tuummdM899xRwhv8mEGgItP+oKfMZEOgyA0V3IAACIBACAQg0UjhCCLucl/zqq69o++23h0CHuCAc4rXr5tIQ6LpZakwUBECghglAoH8VaNnxvPTSS+mBBx6gH374gW6//XaybZtWWGEFOvTQQ+mII44gwzCWiIRnnnmGnnrqKUomk/TLL7/QaqutRscccwyNHj26o+3EiRPpH//4B02ZMoXa2tqcNJSDDjrI2W31HnvvvTfNnz+fnnzySbrppptI+v7pp59o7bXXpjPOOIM22GCDJa7f2tpK11xzDX300UfEzDRixAgnt1v6Wn311Tt2ct999106/PDDnbZy3HDDDdSrVy969NFH6bHHHiNJZ8mVD3722WfTuHHj6N5776VNNtmk4/oy1+uuu45kbtOnT6c11liDjjrqKNpnn3062rz66qs0ZswY+tvf/karrroq3XjjjTRp0iTq3bu3w+f444+nHj16OO1lzJKXLnPQWnf0cfnll3diWepbETvQ2IEuNYZKPh8CXTJCdAACIAACoROAQP8q0CLOf/7zn2mXXXYhEb8999yTevbsSS+88AJ98803dNppp9Gxxx7bsV5yo5v87MUXX3TkcYsttqDllluOWlpaaNttt6Xf/va3TlsRcZHWlVZaiUaOHOlI+GuvvUazZs2i//u//6PTTz+9o8/999+fvvzySxo6dCjNnDmTdthhB5K0hmeffZaWWmopR9QHDBjQ0X7ChAl08sknO9K500470YorrkgvvfSS81+R2kGDBnUSaPkQsNdeezn97Lrrro4QyzVFXPPlg4vYikDLBwxXoGWn+Mgjj6RFixY5O8bC6a233nI+IHg5/ec//3GYydhkzvLfvn37Onw///xz59rCXI7XX3/dkXHhJXOU1+QQZvF4vGzvEwg0BLpswVRsRxDoYsnhPBAAARCIDgEI9K8C/cgjj9D555/vyOidd97pCLEc3377Le28886USqVIdnHdHVPZUZad1T322IP++te/Oje+ZR+yK73vvvs6Inv33Xc7u9lyyK6y7GpPnTqV7r///o6d5UMOOYTef/99WnPNNR3Jdft0d8dFfq+44gqnD5FXkX258U76SCQSzs8XLlxIu+++O4nkenOJ3R1omZ+M17tT3FVFklwCLdIuO98PPfSQs5ssRzqddnaU33nnHUeQZa4i1bIrLde85JJLHBZyzJ071/mAIh8S5AOI+6EAOdDh/7uAFI4KrAEEugKQcQkQAAEQCJgABPpXgXYlUnZ9JdXAe8gusewCS6qD7A5LGsZmm23myLTs+C6zzDI5V8k975ZbbqFtttmmU5tXXnnFqQCy4447OukUchx22GHOLuzNN9/s7GK7x4IFC2ijjTZydmKfeOIJ58du2oWki0h6h/eQXfNTTjklp0D369fP2Q32Hn4E+osvvnB2kmWnWT5YeI833njD2VG+8sorHUF2pV1SUGS83kN25WW3WVjLLrYcEOiA3+wFdA+BLgBSqU0g0KUSxPkgAAIgED4BCHRngZacXdlhzSV7V199tZP6IDvLksMrO72yC53vEImUXeaPP/6YYrFYp2aSAjJ8+HBn9/X555/vJNDeXVn3pK222opmz55Nn3zyifMjyQ2WXW3vbrnbVtI3RMxz7UB7hd1t70egXTnPN2fZbT711FOd1A1XoL075+55snt90UUXdUr5gECH/+8BBLoCawCBrgBkXAIEQAAEAiYAge4s0LlupJMb+mRX+LLLLnPEWYT3D3/4g3OzYPbur3e51l9/fWd3WnZmcx1bbrklye7yhx9+2EmgZXe6f//+nU6RHWlJeZA8YzmOO+44J29YbjSUFBHvkUtEXZmVmwtlHt7Dj0BL6op8kJD87XXWWSfnvOSJkZKG4veaEOiA3+wFdA+BLgBSqU0g0KUSxPkgAAIgED4BCLR/gf7ggw/o4IMPpt12282RyXyHpDpILrJUyGhs7PygGslVFsH2pje4KRyFCPRZZ53lVOu47777aMMNN+w0BLlBT/Kjc+1A5xJoSU+RlIxcHwjc67g3EbqyfcEFF5DkbHd1QKDDf3/7HQEE2i+xItpDoIuAhlNAAARAIGIEIND+BVpKuG2++eZOtQtJt1h66aVzrqo8Ve/ll1+msWPH0qhRozq1cVMh5GY+KZ8nhx+Bvu2225zqHpLrLDfveY+ucqBzCbSkhUjVi1wfCPbbbz/69NNPO6pwuG1lR1zmVU6Blhs2JVd8vfXWo4cffjiQdwqqcHSNFQIdSNh17hQCXQHIuAQIgAAIBEwAAu1foGVJLrzwQkfyJKVDbpzLVYXD3al2q3CsvPLKzmqKKIosz5gxw6n+4VbQ8CPQ0ofscIu8SxWOgQMHOn1LhQup8KGUcsrOuU/062o3WHKrJZ1EbooU+ZYPBnJIJZAzzzzTqaJx1113OR8apEbzgQce6ORiuykt3hCVaiVuvrffHejFixfTuuuu65TFE3Zy3XIfEGgIdLljynd/EGjfyHACCIAACESOAAS6MIGWPGjvQz2kFJ3UVZa6z5LvKzf5ifjJw1dkF1VSPORwq02IlLrVJqRyh5wv6RHSh3v4EWg5Rx5uIrvXffr0cR7KIqXjnnvuOTJN06m04a0o0pXMSl9SOUMkWR4EIzca/vjjj04fUodZKn/IjvfWW2/tDFVuojz66KOdB86IeIv0SmUSuWFSBFvayuFXoOUc4SHnyXVlHlJP21v7utQ3EAQaAl1qDJV8PgS6ZIToAARAAARCJyACveV9IyjWryH0sXQ1gNTMdnrzkAnOU/zKcbgPD5GbBqWcXPbfvdfIvonQfU2kUWRRbhIUcRaBloeqiFy6sixtx48f78ju5MmTnVxoyXuWah+SquA9RKClDrSkfeS6iVAe6CJ9eA/Jl5ZqHLKOyy67LEnKhaRXSOULkVGp4+zKrPxdUjjclBFvPzIXuVFSOMybN8+RYsmLnjZtmiP63nJzcp4I9vXXX+9UGJE2crOkyLeUtpPaz91dMx9v6UvyqyVtRB4+I+zlpsRyHRBoCHS5YqnofiDQRaPDiSAAAiAQGQJSTk2+7q+GQ0SqoSHaoh8Fjk8//bRTHUTk2bvDHYWxhT0GCDQEOuwYJAh06EuAAYAACIAACNQxAdk1zs69njNnjnNDoDzwRMrtyY44jv8RgEBDoEN/P0CgQ18CDAAEQAAEQKCOCcgOs6R0yANZ+vbtS999951TFUQe7y3pF1KrGUdnAhBoCHTo7wkIdOhLgAGAAAiAAAjUMQHJvZYKHHJT3/fff09S5WPIkCFOfWb3hr86xpNz6hBoCHTo7wkIdOhLgAGAAAiAAAiAAAj4IACBhkD7CJdgmkKgg+GKXkEABEAABEAABIIhAIGGQAcTWT56hUD7gIWmIAACIAACIAACoROAQEOgQw9CCHToS4ABgAAIgAAIgAAI+CAAgYZA+wiXYJpCoIPhil5BAARAAARAAASCIQCBhkAHE1k+eoVA+4CFpiAAAiAAAiAAAqETgEBDoEMPQgh06EuAAYAACIAACIAACPggAIGGQPsIl2CaQqCD4YpeQQAEQAAEQAAEgiEAgYZABxNZPnqFQPuAhaYgAAIgAAIgAAKhE4BAQ6BDD0IIdOhLgAH4JDBr1iwaO3Zsx1ljxoxxHn+LAwRAAARAoD4IQKAh0KFHOgQ69CXAAHwSaG5upnXWWafjrE8//ZSGDRvmsxc0BwEQAAEQqFYCEOjoCHRs8ODBKxqGsZLWelnDMH7WWn/f0tLyIxGlqjXAChk3BLoQSmgTJQIQ6CitBsYCAiAAApUnAIEOSaAHDhy4XFNT055ENIKItmHmwfmGorVuYeb/ENF/0un0ky0tLbMrHyrBXRECHRxb9BwMAQh0MFzRKwiAAAhUCwEIdIUF2jTNoUR0OjMfREQ9PJfnLoai3de01guY+T4iulYplayWQOtqnBDoWljF+poDBLq+1huzBQEQAIFsAhDoCgq0aZrXENGJzBwjonzCPIeI5E/vzJ9cI9Ra6xQz36CUOqPawxoCXe0rWH/jh0DX35pjxiAAAiDgJQCBrqBAW5aV9uwkzyOi55j5ba31RGaerJT6KSvfOWZZ1vLpdHoYM29MRJsT0S7MvHSmH62UEhmv6gMCXdXLV5eDh0DX5bJj0iAAAiDQQQACXXmBfk9rfd3cuXOfmDFjxny/sTh8+PBe8+fP38swjFOIaONCBDqRSPRPpVI9u7pWLBablUwmZefb92Ga5u+JaAwzm0Q0S2t9f1tb28XTpk1bWEhnEOhCKKFNlAhAoKO0GhgLCIAACFSeAAS6ggIdj8f3aGlpeapcy1xof6ZpvsbM23R1Xa31kbZt3+O2sSxrFyK6hIg2IKJ/KKWOzXW+aZo3M/PxWutmZn6BiEbJOVrr8bZt71BIBREIdLkiAv1UigAEulKkcR0QAAEQiCYBCHQFBTqsEDBNUyp9rJzr+sx8LRGtZhjG2lOmTLFltzqdTj/MzFtmcrGXIaI7cgm0aZqbZlJQPmhra9sqs+PMpmm+IsKutT7Utu0Hups3BLo7Qng9agQg0FFbEYwHBEAABCpLAAIdvkBLDnPOOs+WZf1Ga707M7drrV+ybVtK2ZXtELFm5teJ6EGl1MHS8brrrrt8W1vbf4no4nQ6vbRhGHfk24G2LEvkeH+t9U62bb/sDkyEOBaLTdRav27btuxId3lAoLsjhNejRgACHbUVwXhAAARAoLIEINAhNbYsBwAAIABJREFUC7RlWacRkfx5WXKjbdv+SIZkmuYZzHyFd3ha67/Ytv2ncoVIZqd4ZCqVWq+1tbU5u1/TNI9g5rtyCfTAgQN7NDU1zWbmef369Vt5/Pjx7Z7z2bKsb4hopaamppUmTZokN0fmPSDQ5VpR9FMpAhDoSpHGdUCgOAKzZs2isWPHdpw8ZswY6tu3b3Gd4SwQyEEAAh2+QMsOsKRYaMMwhk+ZMuXTIUOGDIvFYh8TkZEZntSBlrJ3mpk3SyaTE0uNZs/u8+NKqX1z9deVQA8ZMmRILBaztdZv2bb9mxzyLXnXWzPz+slkchIEutQVw/lRIgCBjtJqYCwgsCQBvEcRFUETgECHL9DTiWh1yTdWSi0rw7Es6xYikpv2XHF2Ryn1nx+wbfvQUgPDNM2XmXlUKpXapLW19QO/Ap1IJEZprV/RWj9p2/bo7PMty3qUiEYz867JZFJuLsx7YAe61NXE+ZUmgF/OlSaO64GAPwJ4j/rjhdb+CUCgwxfoBUTURERTlVLxQYMGLdvQ0PA1Mztl57TWIqLvZdI5RKA/tW17uP+l/t8ZkltNRBOkDrVSard8fXW1A22a5kGZJyLerZQ6KodA301EIvoHK6UegkCXsmI4N2oE8Ms5aiuC8YBAZwJ4jyIigiYAgQ5foD8jorUy6RmbptPp/Zn5zMywFjQ1Na0uOcSZnGJJ4JqtlFqulMCwLOtFItoulUpt1dra+lYxAh2Px3c0DON5IsqZAmKa5uPMvGc6nd62paVF0lTyHtiBLmU1cW4YBPDLOQzquCYIFE4A79HCWaFlcQQg0CELtGma8jTCnTLpGu5onHznzM178pASSev4ioj6e1M9ilnyIUOGbBGLxf6rtX7Vtu3tu+qjqx3oeDy+tmEYn8pOtlJqiRrTlmWJNG8Vi8USkydPboFAF7NaOCeqBPDLOaorg3GBwK8E8B5FJARNAAIdskBbliX5w4/lynd2q2MkEoneWutfMm2UUmrtYgPDNM3nmXkHZt4umUyOL0Gg+xiG8bPW+gfbtlchoo7HlMvNj6ZpfkdEvefOnbtcd09cxA50sauJ88IigF/OYZHHdUGgMAJ4jxbGCa2KJwCBDlmg5fKmaT7BzHtkSfTlSqlzM7vPBxCR1FyWXelx+apmdBcG8Xh8c8Mw3tRav2nb9lbdte9qBzozbtk931FrPdK2bcmpdg7PLvejtm3v1911INDdEcLrXgLt7e2klAoVSmtrK40e/b97Z8eNGydxH+qYLMuihoaGUMeAi4NAVAhAoKOyErU7Dgh0BAQ6s2N7OhHtSkS9iOge27ZvdtM65IY9IjqBiDZh5sO7uykv35Qy6SI7FlIZIyPIeetAy+uJRGJPrfU4KWXXp0+fkRMnTlw8cuTIhhkzZrzOzJtnP2Al37gg0LX7D0wQM5NfjFveN4Ji/cKTxdTMdpp92f/Km/c5Z/nQx/PmIRNo2LBhQSBHnyBQdQQg0FW3ZFU3YAh0NAS6oMDp37//0v37918solrQCZ5Gnsduv2/b9iaFnN/dDrSIv2VZTxLRLkQ0ScraSWqIPNCQiB5yn27Y3bUg0N0RwuteAvKLccSro6hhjcbQwLRPX0w/nSxZSr8ey9+wcujjmbDtaxDo0CICF44aAQh01Fak9sYDga4igS4l/CzLejojuvsopZ4opK+MQN/pvZkx+7yNN964cfbs2Wcxs5TDW09rPZ2Zb1NKXZ+VF533khDoQlYDbVwCEOglY0GEHgKN9wgI/I8ABBrREDQBCHSEBHrQoEGrNDU1DU6lUgOZOe/307Zt3xN0YFSyfwh0JWlX/7Ug0BDo6o9izCBoAhDooAmjfwh0BARaBDIWi11BRNsWEpJKqVgh7aqlDQS6WlYqGuOEQEOgoxGJGEWUCUCgo7w6tTE2CHTIAj106FAzlUp9kHnyoNR/7u7QEOjuEOH1WiYAgYZA13J8Y27lIQCBLg9H9JKfAAQ6ZIE2TXOcPLHP8yCV7iQaAo13dF0TgEBDoOv6DYDJF0QAAl0QJjQqgQAEOnyBnsHM8iASOVhrPZGIpjLzgnxDU0odVcKaR+5UpHBEbkkiPSAINAQ60gGKwUWCAAQ6EstQ04OAQIcv0HOYWWo/60KeDliL0QiBrsVVDW5OEGgIdHDRhZ5rhQAEulZWMrrzgECHL9DvMfNGRPSVUmqN6IZKcCODQAfHthZ7hkBDoGsxrjGn8hKAQJeXJ3pbkgAEOmSBtixrDBHdJDvQqVRqq9bW1rfqLVAh0PW24qXNFwINgS4tgnB2kATa29tJKRXkJQrqu7W1lUaPHt3Rdty4cTRkyJCCzg2qkWVZ1NAQ3hNUg5pXvfYLgQ5ZoCXv2TTNxzM3ErbJE/y01p8zczrf0JRSf66lgIVA19JqBj8XCDQEOvgowxWKJSDvz6PePYp6rSWZieEd8z6fR+/97r2OAWxy5yahjknGc9emd+FpoeGFRNmvDIGOhkBfy8wnZ4aiu1tllLHrjhBer2UCEGgIdC3Hd7XPTd6fJ353IvW2eoc6lTlqDo0fNb5jDCNfGxnqmGQ8N618EwQ61Kgo78Uh0CELdDweP84wjLGeMnYyolyl7ESs5ecoY1fe9wB6qzICEGgIdJWFbF0NFwKde7kh0LX3NoBAhyzQlmV9QETrow608f5jjz2GT+e1929M2WcEgYZAlz2o0GHZCECgIdBlC6aIdwSBDl+g5xPRUpka0HOJ6ElmnkZEi/MNTSl1ccTjytfwkAPtC1fdN4ZAQ6Dr/k0QYQAQaAh0hMOzrEODQIcs0KZpfsfMK2qt2xsaGoZNnjy5pawrXAWdQaCrYJEiNEQINAQ6QuGIoWQRgEBDoOvlTQGBDl+gX2HmUVrrabZtD6qXwPPOEwJdj6te/Jwh0BDo4qMHZwZNAAINgQ46xqLSPwQ6ZIG2LGsvInpccqDT6fT+LS0tj0YlOCo1Dgh0pUjXxnUg0BDo2ojk2pwFBBoCXZuRveSsINAhC/SAAQN69uzZ83ZmPlgkWmv9FjO3ElHOOtDSwLbto2spQCHQtbSawc8lCgKd/jlFC56b1zHZnrv0ImO5WPCTz3OF9umLacK2r+Em3NBWABd2CUCgIdD18m6AQIcs0JZlpTxDcMrUdTEklLGrl3cm5pmXQBQEOmrLA4GO2orU73gg0BDoeol+CHT4Ai07zd0+PCUzTAh0vbwzMU8ItI8YgED7gIWmgRKAQEOgAw2wCHUOgY6GQPsJCTxIxQ8ttK05AtiBXnJJIdA1F+ZVOyEINAS6aoPX58Ah0CELtGmaR/hcM7Jt+26/50S5PXKgo7w60RsbBBoCHb2oxIhcAhBoCHS9vBsg0CELdL0EWlfzhEAjCvwQgEBDoP3EC9pWlgAEGgJd2YgL72oQaAh0eNGXuTIEOvQlqKoBQKAh0FUVsHU2WAg0BLpeQh4CXUGBNk3zXcMwzkomk6+VGmDxeHxHZr7Etu1NS+0r7PMh0GGvQHVdHwINga6uiK2v0UKgIdD1EvEQ6AoKtGVZTsUNrXUzM/8rlUo91traKjWfCzoSiYSVTqf3ZeZDiCghJymlwis+W9Cou28Ege6eEVr8jwAEGgKN90N0CUCgIdDRjc7yjgwCXUGBNk1zDjP38pat01r/xMzva62nMPOPWuufDcOYm06nl2Hm5bTWKzDz2lrrjZl5Wc9wpaTdHKWU92fljY4K9QaBrhDoGrkMBBoCXSOhXJPTgEBDoGsysHNMCgJdQYFOJBL9tdZ/I6IDiEgE2D0KqQOd3f4hZj4jmUzOqPZghUBX+wpWdvwQaAh0ZSMOV/NDICoCvej7RTTtn9M6hj7wyIG01EpL+ZlKWdvOUXPoppVvwtNCy0o13M4g0BUUaPdSlmWtpbU+TkSamdfwEQJfaq0fYOZblVKf+zgv0k0h0JFensgNDgINgY5cUGJAHQSiItBRWxIIdNRWpPTxQKBDEGjvJQcNGrRGU1PTCK312kS0IhGtRESSlvELEf1ARN8T0ZRYLDZh8uTJX5S+5NHrAQIdvTWJ8ogg0BDoKMdnvY8NAp07AiDQtffOgECHLNC1F1L+ZwSB9s+sns+AQEOg6zn+oz53CDQEOuoxWq7xQaAh0OWKpaL7gUAXja4uT4RAQ6DrMvCrZNIQaAh0lYRqycOEQEOgSw6iUjuAQJdKsL7Oh0BDoOsr4qtrthBoCHR1RWzxo4VAQ6CLj54ynQmBLhPIOukGAg2BrpNQr8ppQqAh0FUZuEUMGgINgS4ibMp7CgS6vDxrvTcINAS61mO8mucHgYZAV3P8+hk7BBoC7SdeAmkLgQ4Ea812CoGGQNdscNfAxCDQEOgaCOOCpgCBhkAXFChBNoJAB0m39vqGQEOgay+qa2dGEGgIdO1EczeCyOx9wF29TLvgeVYUzsCBA3s0NjZuZhjGEKkHnU6nW1taWh4teLRV2hACXaULF9KwIdAQ6JBCD5ctgAAEGgJdQJjURBPsQEdgB3rkyJENM2bMGENEZzPzKp4hfayU2jAej69sGMZ+RLQxEd2nlHqlJqIvMwkIdC2tZvBzgUBDoIOPMlyhWAIQaAh0sbFTbedBoCMg0JZlPUJEexNR9o73RyLQiUTC0lpPISJNRGOVUidVW6B1NV4IdC2tZvBzgUBDoIOPMlyhWAIQaAh0sbFTbedBoEMW6Hg8frBhGP/KGoaIssi0I9Dy/6ZpzmbmpbXWH9q2LTvRNXNAoGtmKSsyEQg0BLoigYaLFEUAAg2BLipwqvAkCHTIAm2a5svMvG1md/kjIrqCiB7M/N1J4ZAhmqY5lZkHEtEMpdTqVRhreYcMga6l1Qx+LhBoCHTwUYYrFEsAAg2BLjZ2qu08CHTIAm1Z1iy5YVBrnWLmfkqp7y3LSmcLtGVZk4koQUSLlFI9qy3QuhovBLqWVjP4uUCgIdDBRxmuUCwBCDQEutjYqbbzINDhC/RCImokos+VUlJ9g3IINFuW9RMR9SGi75RS3hsNqy3mlhgvBLrql7CiE4BAQ6ArGnC4mC8CEGgItK+AqeLGEOiQBdo0zWnMvIbWerFhGCslk8k52QIdj8d3MAzjhcyu9H+VUltXccxBoGtp8UKYCwQaAh1C2OGSBRKAQEOgCwyVqm8GgQ5foO9l5kMycvwcMx+rtf4q8/dPUqnUmFgs9hARSd6z1lrfadv2/1V95HkmgB3oWlrN4OcCgYZABx9luEKxBCDQEOhiY6fazoNAhy/QI5j59Ywwu6Nxy9lJNQ45Ov6eTqd3aWlpebHaAq2r8UKga2k1g58LBBoCHXyU4QrFEoBAQ6CLjZ1qOw8CHbJAy+VN07yJmeVBKm75OlecXXl2f/60UmrPaguy7sYLge6OEF73EoBAQ6DxjoguAQg0BDq60VnekUGgIyDQRGSYpnkuEZ3FzL0yQ3Kl2fmr1vr5xsbG/Zubm+eWNwTC7w0CHf4aVNMIINAQ6GqK13obKwQaAl0vMQ+BjoZAO6MYOnRov1QqdTwRrcvMcan5rLWeRESv2Lb9bK0GJQS6Vlc2mHlBoCHQwUQWei0HAQg0BLoccVQNfUCgIyTQlQwYy7Lk4S27aq13JKKB6XR6ZGtr6wfuGCzLkprTFxHRxlrr5Zn5nXQ6fUtLS8tTucZpmubviWgMM5tENEtrfX9bW9vF06ZNkzJ9XR4Q6O4I4XUvAQg0BBrviOgSgEBDoKMbneUdGQS6zgTasqyViOg2IhpNRLOJ6FmtdUt7e/vYqVOnfis44vH4voZh3Ku1ns/M/yaidiKS3OsBRHSGUuoaLzbTNG9m5uO11s3MLOX2RhHRBlrr8bZt70BEqa4wQ6DL+6au9d4g0BDoWo/xap4fBBoCXc3x62fsEOiICHQ8Hu9jGMYuWuvBmUd2N+QamtSxs237aD+L7LaNx+OrM/O7zLx8Op0+tamp6c7m5uY2b1+DBw/u29DQoOTJiA0NDRtNnjz5C3ldxFtr/V/ZrW5vb49PnTp1uvzcNM1NmfltrfUHbW1tW2V2nNk0zVeYeRut9aG2bT8AgS5mxXBOLgIQaAg03hnRJQCBhkBHNzrLOzIIdAQEOpP+8FcR226WV8rZaaVUrIgwkKcZvqm13pCItrZt+51cfZimeQ4zX6K1vsi27Uu8bSzLEnG/XWt9g23bf8iItcjx/lrrnWzbftltL7vKsVhsotb6ddu2ZUc674Ed6CJWs45PgUBDoOs4/CM/dQg0BDryQVqmAUKgQxZo0zR3Zeans4bhLWPnfalogc6kZUg6xkVKqb8MHz681/z585duaWn5znsB0zQfZOb9tNZ7ZN+4mEgkBmqtpxLRG/I0xIEDB/Zoamqazczz+vXrt/L48eMl1cM9RNi/IaKVmpqaVpo0aZI8ijznAYEu07u5TrqBQEOg6yTUq3KaEGgIdFUGbhGDhkCHLNCWZclDVEZ4HqTiPjQl38iK2oE2TVOecrhDOp3exDCMK4loO7mA1vobZr5OKXWV/NU0zYeZed90Or1/S0vLo95BDBgwoOfSSy89T6qDKKVWHzJkyJBYLGZrrd+ybfs32QM2TfM1Zt6amddPJpNSTQQCXcSbFKd0JgCBhkDjPRFdAhBoCHR0o7O8I4NAhy/QPxNRb4/M3pdOp6cy84J8Q7Nt+24/YRCPx5cyDOMnrbXI72JmHq+1foGZ1yCiE4loZSK6WSl1kmVZZxHRZVrrR2zb3t97HdM0D2Tm+4lojlJq2UQiMUpr/YrW+knbtuWmxE6HZVki4KOZeddkMik3F0Kg/Swc2uYkAIGGQOOtEV0CEGgIdHSjs7wjg0CHLNCmaX7HzCsS0SLDMAZNmTJlZnmX2LnRbxAzt2Z2ua9WSv3RvcaQIUMGGIYxmZl7plKp4cz8JTNPYeZVtdZ3MfNdRLSU5DhnytTJg14+U0rFTdM8iJnvI6K7lVJH5RBoEf1DiehgpdRDEOhyr2x99geBhkDXZ+RXx6wh0BDo6ojU0kcJgQ5ZoC3Lkp1ZKfU2SynVz5PKUfrqZnqIx+ObG4bxJhF9pZRaM/samUeJSxm6U2zbvklqQGut72VmueHQybsmoiQzX621/oc82EUptUM8Ht/RMIzniehxpdS+2QM2TfNxZt4znU5v29LSIqkq2IEu26rWb0cQaAh0/UZ/9GcOgYZARz9KyzNCCHTIAh2Px3fISKiMRGosX1uepf1fL0OHDjXT6XQyX66yZVny9MObiegmpdTJ7pmWZa2VTqfjjY2NSsrZWZYlVTnkkeNnK6WujMfjaxuG8SkRTVBKbZNjB1qkeatYLJaYPHlyCwS63Ctbn/1BoCHQ9Rn51TFrCDQEujoitfRRQqBDFmi5vGmaf2LmC3+9p09LCsU0rXU6z9CkDrRzA2Chx7Bhw5ra29slp/prpZTkPXc6TNM8nZmv0lpfmF26zm0o9aFjsdhHUlWDiBK2bU/N1K7+WWv9g23bqxCRd8yGpKdIfvfcuXOXmzFjxnwIdKErhnZdEYBAQ6DxDokuAQg0BDq60VnekUGgQxZoKSe3cOHC52Sn1jOUspexM03zPUnJkDrQtm1/7J22p/LG6FyP6t54440bZ8+e/SQzy2O/b1NKyY61c2Sqe+yotR5p2/YE9+dDhgzZIhaL/Vdr/aht2/t1hRll7Mr7pq713iDQEOhaj/Fqnh8EGgJdzfHrZ+wQ6JAF2rIsKSl3RoG5z0XXgXbrTWutX12wYMEeX375pVPlI5FIbKm1/o/WerJt2+tn7SJzPB7fzDAMSe/YgIg+mjNnzlbe3eREIrGn1nqcpIf06dNn5MSJExePHDmyYcaMGa8z8+bZD1jJhRsC7ecti7YQaAg03gXRJQCBhkBHNzrLOzIIdPgC/RkRrZUR6O5qQMtoi6oDndktHsvMv9daSz7ys8y8HBEdSERzMw9OcZ5OaFnWYUT0f1rrIVKNI5Na8k/DMP6QTCbnZCEzLMt6koh2IaJJUtaOmSXFZF0iekgpdXB3IQuB7o4QXvcSgEBDoPGOiC4BCDQEOrrRWd6RQaDDF+iFRNTomLHWHzLzLVpryYFenG9oXVW06C484vH4wcx8OBFtREQ/MfObsVjsIrlJ0D3XsizJxz5V8rGJ6CUiGudNz8i+RibF4yxm3o2I1tNaT2dmSfW4PmtHO+fwINDdrRpeh0B3HQPt0xfThG1fo2HDhiFYQCBUAhBoCHSoAVjBi0OgwxdokdTV5OEkc+bM6dfVzXYVjIuKXgoCXVHcVX8x7EBjB7rqg7iGJwCBhkDXcHh3mhoEOmSBNk3zIWbeT2s907ZtEem6OyDQdbfkJU0YAg2BLimAcHKgBCDQEOhAAyxCnUOgQxbooUOHrpNKpd6WJwFKHeb58+ef7d7gF6E4CXQoEOhA8dZc5xBoCHTNBXUNTQgCDYGuoXDucioQ6JAF2rKsnbXWv2fmvTI367UTkTzOO2cdaGaWmwgH11KAQqBraTWDnwsEGgIdfJThCsUSgEBDoIuNnWo7DwIdvkCLKLt1nwOtwhHV4IRAR3VlojkuCDQEOpqRiVEJAQg0BLpe3gkQ6GgJdHdxV3Qd6O46DvN1CHSY9Kvv2hBoCHT1RW39jBgCDYGul2iHQEdDoP3EW9F1oP1cpJJtIdCVpF3914JAQ6CrP4prdwYQaAh07UZ355lBoEMW6LXXXntNv8Hmrdns99wotodAR3FVojsmCDQEOrrRiZFBoCHQ9fIugECHLND1EmhdzRMCjSjwQwACDYH2Ey9oW1kCEGgIdGUjLryrQaAh0OFFX+bKEOjQl6CqBgCBhkBXVcDW2WAh0BDoegl5CHQFBXrIkCFDDMO4KHPJi2zbnmpZ1p1+gk1rrW3bPtrPOVFvC4GO+gpFa3wQaAh0tCISo/ESgEBDoOvlHQGBrqBAm6b5HjNvmLnkO0qpLS3L8pax6y7uUIWjO0J4veYJQKAh0DUf5FU8QQg0BLqKw9fX0CHQlRXoOcy8NBGx1nqebdu9IdBE2IH29Z6t+8YQaAh03b8JIgwAAg2BjnB4lnVoEOgKCrRlWY8S0d5ySa31o7Zt75cRaD+LijJ2fmihbc0RgEBDoGsuqGtoQhBoCHQNhXOXU4FAV1CgBw4c2KOpqekwuWRbW9u906ZNW2ia5hF+g8227bv9nhPl9tiBjvLqRG9sEGgIdPSiEiNyCUCgIdD18m6AQFdQoOslqPzOEwLtl1h9t4dAQ6Dr+x0Q7dlDoCHQ0Y7Q8o0OAl1BgXYrbmitp9u2/afyLWN19wSBru71q/ToIdAQ6ErHHK5XOAEINAS68Gip7pYQ6MoKtFtx42OllFuNo7ojqAyjh0CXAWIddQGBhkDXUbhX3VQh0BDoqgvaIgcMgYZAFxk65TsNAl0+lvXQEwQaAl0PcV6tc4RAQ6CrNXb9jhsCDYH2GzNlbw+BLjvSmu4QAg2BrukAr/LJQaAh0FUewgUPHwINgS44WIJqCIEOimxt9guBhkDXZmTXxqwg0BDo2ojk7mcBgQ5BoLXWPzHzk90vz5It8CjvYqjhnFoiAIGGQNdSPNfaXCDQEOhai+l884FAhyDQJQQXHuVdAjycWhsEINAQ6NqI5NqcBQQaAl2bkb3krCDQEOjQYx0pHKEvQVUNAAINga6qgK2zwUKgIdD1EvIQ6HAEWnaSiz3wKO9iyeG8miAAgYZA10Qg1+gkINAQ6BoN7SWmBYEOQaC11t8y863FBplS6uJiz43iediBjuKqRHdMEGgIdHSjEyODQEOg6+VdAIEOQaCJCA9S8XCHQNfLPzflmScEGgJdnkhCL0EQgEBDoIOIqyj2CYGGQIcelxDo0JegqgYAgYZAV1XA1tlgIdAQ6HoJeQg0BDr0WIdAh74EVTUACDQEuqoCts4GC4GGQNdLyEOgKy/QcsWPlFIb1kuQdTdPCHR3hPC6lwAEGgKNd0R0CUCgIdDRjc7yjgwCXUGBjsfj28jlYrHY3GQy+X55l7J6e4NAV+/ahTFyCDQEOoy4wzULIwCBhkAXFinV3woCXUGBrv5wCWYGEOhguNZqrxBoCHStxnYtzAsCDYGuhTguZA4QaAh0IXESaBsIdKB4a65zCDQEuuaCuoYmBIGGQNdQOHc5FQg0BDr0WIdAh74EVTUACDQEuqoCts4GC4GGQNdLyEOgIdChxzoEOvQlqKoBQKAh0FUVsHU2WAg0BLpeQh4CDYEOPdYh0KEvQVUNAAINga6qgK2zwUKgIdD1EvIQaAh06LEOgQ59CapqABBoCHRVBWydDRYCDYGul5CHQEdIoOPx+MqxWCyeSqUGMnNDvqHZtn1PLQUoBLqWVjP4uUCgIdDBRxmuUCwBCDQEutjYqbbzINAREGjLshJEdDUR7VxIACmlYoW0q5Y2EOhqWalojBMCDYGORiRiFLkIQKAh0PXyzoBAhyzQpmmuxsyfElEfIuICAk9DoAughCY1SwACDYGu2eCugYlBoCHQNRDGBU0BAh2+QP+LmQ8mIp0ZSncSDYEuKLTRqFYJQKAh0LUa27UwLwg0BLoW4riQOUCgQxZoy7JaiWgtjzy/S0RTiWhRvqEppY4qZHGrpQ1SOKplpaIxTgg0BDoakYhR5CIAgYZA18s7AwIdvkDPI6KesgOdTqd3aWlpebFegs+dJwS63la8tPlCoCHQpUUQzg6SAAQaAh1kfEWpbwh0+AI9mYgSWutptm0PilJwVGosEOhKka6N60CgIdC1Ecm1OQsINAS6NiN7yVlBoEMWaNM0L2fmP2qt57e1ta0+bdq0n+sl+LADXW8rXZ75QqAh0OWJJPQSBAEINAQ6iLiKYp8Q6JAFOpFI9E6n0+8xc1xr/Skzn0VEavHixal8Q5s6der0KAZTsWPCDnSx5OrzPAg0BLo+I786Zg2BhkBXR6SWPkoIdMgCLTvQRDSCmbfwVOLoalRShSPvQ1ZKD4nK9wCBrjzzar4iBBoCXc3xW+tjh0BDoGs9xt35QaBDFmjLstI+StjJaFFy1BPfAAAgAElEQVTGrl7enZhnTgIQaAg03hrRJQCBhkBHNzrLOzIIdLQEurvVlRrREOjuKOH1miYAgYZA13SAV/nkINAQ6CoP4YKHD4GOhkAXvGDlEmjLsrYlol211jsS0cB0Oj2ytbX1A8nJTqVSfbsaUCwWW5BMJmd425im+XsiGsPMJhHN0lrf39bWdvG0adMWdjc5pHB0RwivewlAoCHQeEdElwAEGgId3egs78gg0CELdHmXs/veLMtaiYhuI6LRRDSbiJ7VWre0t7ePnTp16remaR7BzHd11ZPWerxt2yLgzmGa5s3MfLzWupmZXyCiUUS0QabdDkSU94ZIOR8C3f26ocX/CECgIdB4P0SXAAQaAh3d6CzvyCDQdSTQ8Xh8dWZ+l5mXT6fTpzY1Nd3Z3Nzc5kUwaNCgNRoaGjbOhYWZ9yKiQ4noUqXUBRl53pT/v723gZerqu7+1zpzcyGBREDAJgrGcGfvCVcMIviCCgErKlZKi6/4UvWppVCVttaX59+nItX2sYJvj8hTaWur9d2iFi1qqxBEwJdUxXiTu/eEGIlGDFoghMTc3Dnr/1n3Oef2ZDL33jMze+45M/M7n4+fj9zZe+21f3vtzPfs2Xtt5m+JyPempqaelqw4szHm68x8toi8zHv/yflkBkCHndSDbg0ADYAe9Bjv5/4BoAHQ/Ry/7fgOgC4XQCt4KpA+gYhWMPOuRqPxrXq9rpetdPuwtfZ2ETmNiM7y3n+7TYMVY8wWIlpZqVRWb9my5Vda31qrcPxCEXmW9/5rqU2F4kqlslFEbvHe64r0nA8Aus2RGPLiAGgA9JBPgVJ3HwANgC51gAZ0DgBdEoCuVqsnM/NHmFkBt/n5bqPRuEz3KHc69tVq9aIoij5LRFc4596+bt26I/bu3busXq/fm8emtfblRPQRIrraOfcmrbN69erDR0dHdzPzQytXrjxuw4YN0xlbCuz3ENGxo6Ojx27atOm+udoBQOcZAZRJFQBAA6AxG8qrAAAaAF3e6AzrGQC6BABdrVZ/K4qifyGiJUSkmTZaPftE5Dne+290EgLGmC8z8zPjOD4jiqJ3EdEz1I6I3MPM73POXU1EmlKv1aOrz5uZ+YQDBw48RvdKa6GxsbGxSqXiReQO7/1TmysaY25m5rOY+dTJyclNAOhORg51mhUAQAOgMSvKqwAAGgBd3ugM6xkAumCAHh8fP3J6elq3Rjyy6SKVmZR1GfdYRJz3/rELHcpr7lK1Wj0siqL7ROQhIjrAzBtE5KvMfCIRvZaIjiOiDzrnXtdKDmut7nv+KBF9wDl3eVqmVqudIyJfF5EbvPd6KPGgx1p7vR5WZObzJycn9XBhywcr0GEn9aBbA0ADoAc9xvu5fwBoAHQ/x287vgOgCwZoa+1biehtCSwrNOsq8J0isouZf0NEHsvMlcRNieP4j+r1+t+2M8jGmDXMvDVp493pFgy1MTY2dkIURbq6vLTRaKzbunXrRJPtSFefiegxInJSvV7/afq5MeYlzPxx3drhnHtVC4DWLR8K3xc75z4NgG5n1FB2LgUA0ABozI7yKgCABkCXNzrDegaALh6g/42InvP/dlPIf0RR9OpsjuUEcP+OmTVfs65If9k591vthEG1Wn1yFEW3E9FPnXOPbr4y3BhzTZKG7nLv/TVZ29Vq9eIoij5GRH/nnNNcz7NPtVo9L4qirxDR551zFzX7ZIz5PDNfEMfxufV6/RYAdDujhrIA6PwxMH33Abr13JtpfHw8fyWUhAI9UAAADYDuQViV0iQAuniA/gkRnUBEU4cffvjD77zzTt1mcdCTbPP4ZbJH+sfOubF2omnt2rUmjuPJufYqW2sv1S0cRHSNc+71Gdu6+qwr0mN6QYpz7sdNAH1yFEU/IqJbnXNnN/tkrVVoflqlUqlt3ry5DoBuZ9RQFgCdPwYA0Pm1QsneKgCABkD3NsLKYx0AXTxA368p64joZ845BemWj7X2biJ6lIjs9d4f2U4IjY+Pj05PT+9L2tB9zwc9xpg3MPNVIvJW7/070g+NMS9m5k/o/mfn3Cub61Wr1RVRFN0vIr/y3j+i6RCiwrdm+Fi+Z8+eo3bu3LkXAN3OqKEsADp/DACg82uFkr1VAAANgO5thJXHOgC6eIC+g4iepNsq4jh+ar1e/1azS2NjY0+pVCq3JVsvNjnnTm03hIwx39UUeZoH2nt/Z7a+MeYzzHxRHMcX1uv1LyafRdZaXV02zDw+OTnpWrWZZPc4T0TWe+9vTcukPovI9d77F8znLw4Rtjuaw10ee6APHX8A9HDPiTL1HgANgC5TPPbSFwB08QD9YSKaWd0VEV2N/isR+TIR3TsyMvKIRqOh+6PforcHJgD9aefcxe0GhTHmfGb+kojctG/fvuft2LFDV6SpVqudKSLfEJHN3nsF85lUdtbaFxGRXpKi7b1krvZqtdoFIvIF3R6yYsWK9Rs3bjywfv36kZ07d97CzE9uvmCllR0AdLujOdzlAdAA6OGeAeXuPQAaAF3uCA3nHQC6eIDW67E/n8nCkU1dl3qX5obWg4bP897f2EkIGGOuZeZLRET3I9/IzEcR0YuJaE9iN72dUC9B0bzNaxfK4UxEulJ9Q3IQcpOmtWNmzTF9SgLfC8I+ALqT0RzeOgBoAPTwRn/5ew6ABkCXP0rDeAiALhig9eIUY8xNzKyH8BSeW12kkkJ12xk4mrunWTWY+RVEpNeF38fMt1cqlSs2b96shxlnnlqt9nwR+XSS3/l3Fgq1008/fcnu3bvfzMzPJaLHicjdzHydc+7981zOMmsWAL2Qwvg8qwAAGgCNGVFeBQDQAOjyRmdYzwDQxQM0VavV45hZV4QVaudagd6iNwlmU9yFDYXirAGgi9O+H1sGQAOg+zFuh8VnADQAelhiHQBdAoBWF/S2wEql8ociovuh16VuJdstPrpnz573zpfJop8DFgDdz6O3+L4DoAHQix91aDGvAgBoAHTeWOn3cgDokgB01o3Vq1cffvjhhx9z2GGHPdAqL3S/B12z/wDoQRvR3vYHAA2A7m2EwXo3CgCgAdDdxE8/1QVAlxCg+ymAQvgKgA6h4vDYAEADoIcn2vuvpwBoAHT/RW1nHgOgFxGgdZtGFEUv0yZHRkb+eWJiYsoYowf62nq89x9tq0LJCwOgSz5AJXMPAA2ALllIwp2MAgBoAPSwTAgA9CICtLX2c0Skaev0+YzmV7bWat7lVgcH5/TMOVcZpAAFQA/SaPa+LwBoAHTvowwtdKoAABoA3Wns9Fs9APQiArQx5kFmXqap6kTkIe/98gxAt0pf18o7AUD32zSDvyEVAEADoEPGE2yFVQAADYAOG1HltQaAXlyA/g4zn65NishG7/0TE4BuJ0IA0O2ohbIDpwAAGgA9cEE9QB0CQAOgByic5+0KAHoRAXpsbGysUqlcqU3GcfzWer1+l7X2nzrYwvGqQQpQbOEYpNHsfV8A0ADo3kcZWuhUAQA0ALrT2Om3egDoRQTofguOxfIXAL1YSg9GOwBoAPRgRPJg9gIADYAezMg+tFcAaAB04bEOgC58CPrKAQA0ALqvAnbInAVAA6CHJeQB0AUDtLW2kbjwA+ecXuXd8rHWfouIVonIHd77Fw1SgAKgB2k0e98XADQAuvdRhhY6VQAADYDuNHb6rR4AuniA1jR2+ihAnzYPQG8lojVEdJdzrtpvgTafvwDoQRrN3vcFAA2A7n2UoYVOFQBAA6A7jZ1+qweAXmSAHh8fP2bfvn1Hps0uWbJke3KIcEuj0XhOHMez6exGR0cjIlodx/E5zPwXSZ19zrkj+i3QANCDNGLF9gUADYAuNgLR+nwKAKAB0MMyQwDQiwzQ1toriOitmWZTYF7oMpW03I+dcycNUoBiBXqQRrP3fQFAA6B7H2VooVMFANAA6E5jp9/qAaAXGaCr1ep5URR9pYNASQH7Y8653+ugfmmrAKBLOzSldAwADYAuZWDCqRkFANAA6GGZCgDoRQboNWvWPGzJkiX3ZXI/51mBTsv8UkQe773/2SAFKAB6kEaz930BQAOgex9laKFTBQDQAOhOY6ff6gGgFxmgtTljzE1E9Bj9/8z86ASmD4jIz1u4s4eZf6I3F05PT79327ZtD/RbkC3kLwB6IYXweVYBADQAGjOivAoAoAHQ5Y3OsJ4BoAsA6GyTmau8583CEXbYy2UNAF2u8Si7NwBoAHTZY3SY/QNAA6CHJf4B0MUD9MxV3iJyt/deDxgO3QOAHroh76rDAGgAdFcBhMo9VQAADYDuaYCVyDgAumCAXrNmzSOOOeaY/9q4ceOBheJi1apVy5YuXXrkXXfdtWuhsv30OQC6n0areF8B0ADo4qMQHsylAAAaAD0sswMAXTBAW2s/QUQXisi3K5XK87ds2fKrZpeMMY8kopuZWdPXfdo5d/EgBSgAepBGs/d9AUADoHsfZWihUwUA0ADoTmOn3+oBoAsGaGPMRmY+TUT+y3t/bCt31q9fP7Jz586HmHmJiNS997bfAm0+fwHQgzSave8LABoA3fsoQwudKgCABkB3Gjv9Vg8AXTBAW2s1q8aRIuK992vncscY45l5TETu994f02+BBoAepBErti8AaAB0sRGI1udTAAANgB6WGQKALhigjTG7mVkBeq/3fgURxS1cYmPMg8y8jIj2O+eWDlKAYgV6kEaz930BQAOgex9laKFTBQDQAOhOY6ff6gGgCwZoa22diHRvs2bieKn3/lPNLlWr1YujKPpYki960jk33m+BhhXoQRqxYvsCgAZAFxuBaB0r0O3HwIPuQbrmuGtofHygvr7bF2KAagCgiwdoTWP3isQN3c7xeudcCstRtVp9cRRFHyQiXZ3W51+dc787QDFIWIEepNHsfV8A0ADo3kcZWuhUAaxAYwW609jpt3oA6OIB+tlEdGOyuqxXdotu0xCRHcx8IhGN6oWFiZu6Sv1m7/3V/RZoWIEepBErti8AaAB0sRGI1rEC3X4MYAW6fc3KXgMAXTBAa/PW2luI6OkZiG72SqFaIfqX+/fvN9u3b7+/7IHVjn9YgW5HLZQFQAOgMQvKqwBWoLECXd7oDOsZALoEAF2r1VbFcbxBs2wkEN3slcLzr0XkAu/918KGQPHWANDFj0E/eQCABkD3U7wOm68AaAD0sMQ8ALoEAK0unHLKKUdPTU29k4heTkSHZ90SkduiKPrjycnJ/xzEwARAD+Ko9q5PAGgAdO+iC5a7VQAADYDuNob6pT4AuiQAnXGjYowxzPzYOI73NRqNH27btu3ufgmoTvwEQHei2vDWAUADoIc3+svfcwA0ALr8URrGQwB0+QA6zMj2kRUAdB8NVglcBUADoEsQhnBhDgUA0ADoYZkcAOhyATRXq9VHViqVE+M4HkldExHdA30YES1n5uXee019NzAPAHpghnJROgKABkAvSqChkY4UAEADoDsKnD6sBIAuAUCfcMIJS5cuXfqnzPxGheSF4sg5V1moTD99DoDup9Eq3lcANAC6+CiEB3MpAIAGQA/L7ABAFwzQ4+Pjo9PT0xuI6EmZfM/zeSUA6GGZnuhnKwUA0ABozIzyKgCABkCXNzrDegaALhigrbV/REQfSNzQfM/ZJ71YJf3bzH8DoMNOAljrLwUA0ADo/orY4fIWAA2AHpaIB0AXD9DZS1Smkr3OJCIPEdFGZj6KiNYpOIvIhIi8s16vf2KQAhRbOAZpNHvfFwA0ALr3UYYWOlUAAA2A7jR2+q0eALpggDbG/JKZj0kA+QnMfDMRPYyItjnn9GIVMsa8npnfJyIHiOiJ3vs7+y3Q5vMXAD1Io9n7vgCgAdC9jzK00KkCAGgAdKex02/1ANDFA/R+Zl5CRD91zp1orZ0gorVEtG9kZOToiYkJXZXW3NC7dDVaRK733r+w3wINAD1II1ZsXwDQAOhiIxCtz6cAABoAPSwzBABdPEBvY+bVIuK892uNMV9j5nOTK71f7Jz7rGbpWLZs2S+TGwp1Zbo6SAGKFehBGs3e9wUADYDufZShhU4VAEADoDuNnX6rB4AuHqBvYub1RPSAc+5oa+0VRKT/0wOFD4qI7ne2zHxO4uqDzjnd4jEwDwB6YIZyUToCgAZAL0qgoZGOFABAA6A7Cpw+rASALhigrbUfIqLXKDCPjIw8ct++faNLliz5ceJWNgtH+v+/7Zw7sw9jbU6XAdCDNJq97wsAGgDd+yhDC50qAIAGQHcaO/1WDwBdMEDXarVzROTr6oaIXOS9/7y19pNE9KJkFfogD5n5NZOTkx/ut0Cbz18A9CCNZu/7AoAGQPc+ytBCpwoAoAHQncZOv9UDQBcM0Hp5irX2UiL6snNuZuW5Vqstj+P4M8z8rKx7IvI+7/2f9luQLeQvAHohhfB5VgEANAAaM6K8CgCgAdDljc6wngGgiwfoOT2o1WpnisgT4zj+9cjIyDe3bNnyo7DDXw5rAOhyjEO/eAGABkD3S6wOo58AaAD0sMQ9ALrEAD0sQQiAHpaRDtNPADQAOkwkwUovFABAA6B7EVdltAmALglAV6vVwyqVyh/GcXwhM+sFKscS0a3OufNSF9esWXPiEUcc8eCmTZvuK2MwdeoTALpT5YazHgAaAD2ckd8fvQZAA6D7I1K79xIAXQKANsacRUSfZObfSNzRjBv6/MA5d1q1Wn18FEVfJaKHE9EbnXPv6X7oy2MBAF2esegHTwDQAOh+iNNh9READYAeltgHQBcM0NVq9VHMvJmZj0yybmRT192pAK2HCkXk/sRVPWz4W90GqLVWL2s5X0R0hXt1HMfrt27d+r3UrjFmjYikID/bXBRFcXrYMeuDMeYSIrqMmQ0R7dL81VNTU1du37791wv5CoBeSCF8nlUAAA2AxoworwIAaAB0eaMzrGcA6IIB2lr7ASL6oww8T2oijuwKtP5/Y8zPmfl4EbnLe6+Q2tFjrdWtIdcR0YVEtJuIbhSR+vT09LXbtm37hRodHx8/cnp6Wj875FGQ994f0wTPH2TmS0Vkgpl1pVwvfXm8iGzw3j+TiBrzOQuA7mgoh7YSABoAPbTB3wcdB0ADoPsgTIO4CIAuHqDrRHSSAnQcx79fr9f/0VobJ0A9swKtLlprNytYi8h93nvdytH2k6x2f4eZj47j+E9GR0c/PDExMdVsyBizjpm/LyJ/S0Rfy34uIgfq9foX078ZY57IzN8Ske9NTU09LVlxZmPM15n5bBF5mfde81rP+QCg2x7Koa4AgAZAD/UEKHnnAdAA6JKHaDD3ANDFA/Q+IjqMiH7pnDs+geVDANoYs52ZTySiXzvnlnUQAZpv+nYRUSA/y3v/7blsVKvVi6Io+gwRneecm7nkZa4nufTlhSLyLO/9LGwrFFcqlY0icov3Pr2GvKUZAHQHoznEVQDQAOghDv/Sdx0ADYAufZAGchAAXTBAG2N+yczHiMg93vtVrQD6pJNOOn5kZGSnXrpCRJPOufF2xz+B4s8S0RXOubevW7fuiL179y6r1+v3Ntuy1r6ZiP5aRE703v9srrZWr159+Ojo6G5mfmjlypXHbdiwYTpTVoH9Hs0mMjo6eux8mUMA0O2O5nCXB0ADoId7BpS79wBoAHS5IzScdwDoggHaWqsrwWf8v5u85Xne+xubt3BYa/8PEb02KXOD9/532g0BY8yXmfmZcRyfEUXRu4joGWpDwZ2Z3+ecu5qIdOVb91v/PTO/JIqisf3798fbtm3b1epa8bGxsbFKpeJF5A7v/VObfTLG3MzMZzHzqZOTk5vm8hkA3e5oDnd5ADQAerhnQLl7D4AGQJc7QsN5B4AuGKCNMf+Tmf8qcUP3I3+EiF6TwPIuZv4hEf1msvqskP0X3vu/bicENMd0FEX3ichDRHSAmTeIyFeTLSEK5scR0Qedc69LVsA3ENHTkzb1T5pJ4/PM/M4sCNdqtXNE5OsiolCvhxIPeqy11+thRWY+f3JyUg8XtnwA0O2MJsoCoAHQmAXlVQAADYAub3SG9QwAXTBAa8aLAwcOuCQHdJrCLk0fJ4l76X/vjuO42mrbxXzd0JR0zLw1WUV+t3PuTWn5sbGxE6Io0jR6SxuNxrqtW7dOVKvVVzGzrkZrfDxaRH6XmU8hov3JXudvaH1jzEuY+eMK/c65V7UAaH0ZeBkRXeyc+zQAOuzkHVZrAGgA9LDGfj/0GwANgO6HOA3hIwC6YIDW5vWiFGb+D90L3WqrhIKsiEwz8wucc//a7sBXq9UnR1F0OxH91Dn36OY2jDHXJGnoLvfeX9PKvrVWt338mYg47/3axO/zoij6iq5OO+cuaq5njNFV6wviOD63Xq/fAoBud+RQvpUCAGgANGZGeRUAQAOgyxudYT0DQJcAoNWF1atXHzU6OvoXuteZmZdk3RKRjcz8p865b3Yy/GvXrjVxHE/OtVfZWnupbuEgomucc6+fo42KMeZeZn4YEY3pZSrVavXkKIp+lFw5fnaLFWiF5qdVKpXa5s2bNV1fywdbODoZ1eGtA4AGQA9v9Je/5wBoAHT5ozSMhwDokgB06kaS2cJGUVQlop2NRuNH9Xq95aUmeUNgfHx8dHp6WtPl/cw5p6nwDnqMMW9g5qtE5K3e+3fMZdda+59EdKqIPNZ7v6Vara6Iouh+EfmV9/4R6SHEpH6kwE1Ey/fs2XPUzp079wKg844Yys2nAAAaAI0ZUl4FANAA6PJGZ1jPANAlA+iFhtcYs1bhdaFyLSD5u8x8muaB9t7fmf3cGPMZZr4ojuMLs5ekZMso2B922GG/EpGG915XoWf2ZyfZPc4TkfXe+1vTOmNjY0+pVCq3icj13vsXzOcvVqDbHc3hLg+ABkAP9wwod+8B0ADockdoOO8A0AUA9Omnn75k9+7desW1Xmqi+55/uG/fvk/v2LFDV4kPehJw1WwXzyWi8zVzhnNupN0QMMZo3S+JyE379u17XtpWrVY7U0S+ISKbvfenVqvVI/WwYL1e35+2kfj7D8z8UhG52nuveaJnnlqtdoGIfEG3h6xYsWL9xo0bD6xfv35k586dtzDzk5svWGnlNwC63dEc7vIAaAD0cM+AcvceAA2ALneEhvMOAL3IAK1ZLyqVil5oormfs89Piej5zrnvJmB6ehzHl+vKcHJTof55JkuHc67SSQgYY65l5ktERPcj38jMRxHRi4loT5KD+tvW2itERFPb3ZRk7liu4E5EjxGR/1i1atVvNV2YEllrbyCi5xDRJk1rx8yaY1qzdnzaOXfxQr4CoBdSCJ9nFQBAA6AxI8qrAAAaAF3e6AzrGQB6EQFa9yIfOHDgh8ys+5uzqepm/r+I/FcURY8TEV3hVYhNoXnm424BWo1Uq9WLmfkVRPQEIrqPmW+vVCpXbN68+Sf6uW69iKLo0mS7x4nM/AARbRaRf/Tef6qVXMkK9ZuZWVfJ1f+7mfk659z7m/ZFt1QbAB12Ug+6NQA0AHrQY7yf+weABkD3c/y24zsAehEB2lqrOZE/mkkjl0J0CsgK0d9TeE1hOePebC5o55yuHA/MA4AemKFclI4AoAHQixJoaKQjBQDQAOiOAqcPKwGgFxGgjTGfYuYXJgB9gIiuExHPzLqd4+VNYJ2uOCtU64ruDXrj34oVK27RfcZ9GGtzugyAHqTR7H1fANAA6N5HGVroVAEANAC609jpt3oA6MUF6NuY+SnJNd3P995/Pm3eWvvHRPSedKuGiCgkv5eIPtmcNaPfgmwhfwHQCymEz7MKAKAB0JgR5VUAAA2ALm90hvUMAL24AL2NmVeLyP3ee82+Mfto5oqf//znmu/5MP2jiLzKe6/bPQb+AUAP/BAH7SAAGgAdNKBgLKgCAGgAdNCAKrExAPQiArS1Vi8TUUDe4px7bHPTxpgtzGyVnw8cOHDMtm3b9ADfwD8A6IEf4qAdBEADoIMGFIwFVQAADYAOGlAlNgaAXkSANsbsYealIrLDe7+6uWlr7feJaF03qepKHGtzugaA7sdRK85nADQAurjoQ8sLKQCABkAvFCOD8jkAehEB2lqruZ5Xisg0Ed3WoukzmPmIZI/0LXO4Jt57zbM8MA8AemCGclE6AoAGQC9KoKGRjhQAQAOgOwqcPqwEgF5EgDbGbGLmkxeIk2x+6OaiXV2kUtb4BECXdWTK6RcAGgBdzsiEV6oAABoAPSwzAQC9uAB9KzOf2UVwAaC7EG9Qq+7atYuuvfba2e5ddtlldPzxxw9qd2e+oJ9+0zk0cuKSge1jux2bvvsA3XruzTQ+Pt5uVZSHAkEVAEADoIMGVImNAaAXEaCttV8kIr2tr5un46u8u2m0l3WxAt2duvqF9djH/veZ1B/96EcDDVIAaKxAdzdjULuXCgCgAdC9jK8y2QZALyJAV6tV3b5xXLcBUK/X59of3a3pQuoDoLuTHQDdnX6DUBsr0IMwioPRBwA0AHowInnhXgCgFxGgFx6O4SwBgO5u3AHQ3ek3CLUB0IMwioPRBwA0AHowInnhXgCgAdALR0mPSwCguxMYAN2dfoNQGwA9CKM4GH0AQAOgByOSF+4FABoAvXCU9LgEALo7gQHQ3ek3CLUB0OUexWE66AuABkCXezaG8w4ADYAOF00dWgJAdyhcUg0A3Z1+g1AbAF3uURymOQqABkCXezaG8w4ADYAOF00dWgJAdygcALo74QaoNgC63IMJgC73+CyGdw+6B+ma464Z6AxJi6FjmdoAQAOgC49HAHR3QzBMX86qFNLYHRovAOju5lCvaw/THMUKNFagez2fymIfAA2ALjwWAdDdDcEwfTkDoFvHCgC6uznU69rDNEcB0ADoXs+nstgHQAOgC49FAHR3QzBMX84AaAB0d7OlmNrDNEcB0ADoYmbZ4rcKgAZAL37UNbUIgO5uCIbpyxkADYDubrYUU3uY5igAGgBdzCxb/FYB0ADoxY86AHRQzYfpyxkADcvKp5kAACAASURBVIAOOnkWydgwzVEANAB6kaZV4c0AoAHQhQchVqC7G4Jh+nIGQAOgu5stxdQepjkKgAZAFzPLFr9VADQAevGjDivQQTUfpi9nADQAOujkWSRjwzRHAdAA6EWaVoU3A4AGQBcehFiB7m4IhunLGQANgO5uthRTe5jmKAAaAF3MLFv8VgHQAOjFj7oBWYGejqdp1/5dhevnNjs69/RzZ/24aeNNZE+2hft1/GHH00g0EtwP5IE+VFKksQseZkENAqCDytmXxnCRSl8O27xOA6AB0IVHdb+uQO/ct5NO/fczCtdP4em+198768fR/+c4GjlxSeF+/eC879KqpauC+wGABkAHD6oeGwRA91jgPjAPgO6DQWrTRQA0ALrNkAlfHADdnaYA6O70G4TaWIEu9ygCoMs9PovhHQB6MVRe3DYA0ADoxY24Fq0NAkB/9ax/o0ccfnwhWpZpC8cvfr2LnvWN587ogBXoxQsHAPTiad1JSwDoTlQbrDoA6MEaT+0NABoAXXhUDwJA9woW8wxOmb6cs9taeqUJtnAcGhUA6DwzpbgyZZqjvVYBhwhbKwyA7nXkLb59ADQAevGjrqlFAHR3Q1CmL2cAdHdj2WltAHSnyi1OvTLN0V73GAANgO51jJXFPgAaAF14LAKguxuCMn05A6C7G8tOawOgD1WuIQ26L76vU0mD1pucmKSnr3v6rM1b77yVauO1oG10Yuzo6GiqcKWTqnPWAUADoIMGVImNAaAB0IWHJwC6uyEAQHen3yDUBkAfOoq/bPySXr3r1aUYXv35fsM5G2Z9WX/zelpulxfu24eP/zAdWzk2qB8AaAB00IAqsTEANAC68PAEQHc3BADo7vQbhNoAaAB0J3EMgO5Etc7qYA90Z7qVuRYAGgBdeHwCoLsbAgB0d/oNQm0A9PwA/e6Hv5uOrhxd2FCXaQvHfY376A2/esOMFgDoxQsJAPTiab1YLQGgAdCLFWtztgOA7m4IANDd6TcItQHQ8wN0L0Cxnbgp0xzNbm3phS7YwtE6MgDQ7cyY/igLgAZAFx6pAOjuhqBMX844RNjdWHZaGwANgM4bOwDovEqFLQeADqtnGawBoAHQhcchALq7IQBAd6ffINQGQAOg88YxADqvUmHLAaDD6lkGawBoAHThcQiA7m4IANDd6TcItQHQAOi8cQyAzqtU2HIA6LB6lsEaABoAXXgcAqC7GwIAdHf6DUJtADQAOm8cA6DzKhW2HAA6rJ5lsAaABkAXHocA6O6GAADdnX6DUBsADYDOG8cA6LxKhS0HgA6rZxmsAaAB0IXHIQC6uyEAQHen3yDUBkADoPPGMQA6r1JhywGgw+pZBmsAaAB04XEIgO5uCADQ3ek3CLUB0ADovHEMgM6rVNhyAOiwepbBGgAaAF14HAKguxsCAHR3+g1CbQA0ADpvHAOg8yoVthwAOqyeZbAGgAZAFx6HAOjuhmDXrl107bXXzhq57LLL6Pjjj+/OaIe1kQe6Q+G6rAaABkDnDSEAdF6lwpYDQIfVswzWANAA6MLjEABd+BAEcwAAHUzKtgwBoAHQeQMGAJ1XqbDlANBh9SyDNQA0ALrwOARAFz4EwRwAQAeTsi1DAGgAdN6AAUDnVSpsOQB0WD3LYA0ADYAuPA4B0IUPQTAHANDBpGzLEAAaAJ03YADQeZUKWw4AHVbPMlgDQAOgC49DAHThQxDMAQB0MCnbMgSABkDnDRgAdF6lwpYDQIfVswzWANAA6MLjEABd+BAEcwAAHUzKtgwBoAHQeQMGAJ1XqbDlANBh9SyDNQA0ALrwOARAFz4EwRwAQAeTsi1DAGgAdN6AAUDnVSpsOQB0WD3LYA0APaQAba09l4jOF5HziGh1HMfrt27d+j2Vo1qtnsfMv8/M4/oZEf1cRL4Vx/Hbtm7durWVZMaYS4joMmY2RLRLRD4xNTV15fbt23+9UKADoBdSqH8+B0AXM1YAaAB03sgDQOdVKmw5AHRYPctgDQA9ZABtrT2WiK4joguJaDcR3Sgi9enp6Wu3bdv2i1qttjyO458T0TZmvp2I7hWRM5n5HCJ6kIhOdc79OCubMeaDzHypiEww81eJSMs+XkQ2eO+fSUSN+WQGQJfhn4IwPgCgw+jYrhUAdLkBuky52gHQ7c6uMOUB0GF0LJMVAPQQAXS1Wn0UM3+HmY+O4/hPRkdHPzwxMTHVLEG1Wj25Xq9vbgHJf0hE1zjnLk8/M8Y8kZm/JSLfm5qaelqy4szGmK8z89ki8jLv/ScB0GWa9r3zBQDdO23nswyALjdAFxMVrVsFQBczGgDoYnTvZasA6OEBaLbW3i4ipxHRWd77b7cTWNba3yaiz+v/nHMXpXWttQrHLxSRZ3nvv5b+XVeVK5XKRhG5xXuvK9JzPliBbmckyl0WAF3M+ACgAdB5Iw8AnVepsOUA0GH1LIM1APSQAHS1Wr0oiqLPEtEVzrm3r1u37oi9e/cuq9fr9+YJRGutbvv4H0T0eufcB7XO6tWrDx8dHd3NzA+tXLnyuA0bNkxnbCmw30NEx46Ojh67adOm++ZqBwCdZwT6owwAuphxAkADoPNGHgA6r1JhywGgw+pZBmsA6CEBaGPMl5n5mXEcnxFF0buI6BnadRG5h5nf55y7mojizMryscz88Eaj8WhmfjUzv4CIvrB8+fIXb9y48YCWGxsbG6tUKl5E7vDeP7VZSmPMzcx8FjOfOjk5uQkAXYYp31sfANC91Xcu6wBoAHTeyANA51UqbDkAdFg9y2ANAD0EAF2tVg+Loug+EXmIiA4w8wYR+Sozn0hEryWi44jog86516VyGGPey8zpXmdJPv/jLGTXarVzROTrInKD914PJR70WGuv18OKzHz+5OSkHi5s+WAFugz/FITxAQAdRsd2rQCgAdB5YwYAnVepsOUA0GH1LIM1APQQALQxZg0za/o5BeF3O+felHZ7bGzshCiKNjPz0kajsW7r1q0T+pm19nFEVBORE5n5+UT0RBHZuGTJkgsmJiZ0awYZY17CzB8noo84517VAqA/QkQvI6KLnXOfBkCXYcr31gcAdG/1ncs6ABoAnTfyANB5lQpbDgAdVs8yWANADwFAV6vVJ0dRpCnpfuqce3QC0rM9N8Zck6Shu9x7f00rSay1f01EbyGif3POPU/LaL7oKIq+0nywMK1vjPk8M18Qx/G59Xr9FgB0GaZ8b30AQPdWXwB0fn17DYr5PSlXyV7rMjExQa+997W03C4vV8cL9gYAXfAA9KB5APQQAPTatWtNHMeTc+1VttZeqls0khR1r59DksgYcz8zH0FEj3DO/VLT3UVR9CMiutU5d3aLFWiF5qdVKpXa5s2b6wDoHszgkpkEQBczIFiBxgp03sgDQOdVKmw5AHRYPctgDQA9BAA9Pj4+Oj09vY+Ifuac033PBz3GmDcw81Ui8lbv/TvmksRa+y0iOqPRaJyhtxZWq9UVURTdLyK/8t4/Irs/mogUuDXDx/I9e/YctXPnzr0A6DJM+d76AIDurb5Ygc6vb69BMb8n5SrZa12wAt16vAHQ5ZoHIbwBQA8BQGsXjTHfZebTNA+09/7ObLeNMZ9h5oviOL6wXq9/sZUkCuEHDhz4GTMfMzIy8rCJiYk9iV3N7nGeiKz33t+a1h0bG3tKpVK5TUSu995rBo85HxwiDDGVy2EDAF3MOGAF+lDdew2KxYx09632WhcANAC6+yjtDwsA6OEB6POZ+UsictO+ffuet2PHDl2RplqtdqaIfENENnvvTz355JNPaDQaUdN13Xqz4DuZ+Y1E9DnnnB4qnHlqtdoFIvIF3R6yYsWK9Zribv369SM7d+68hZmf3HzBSiu5AdD98Y9FHi8B0HlUCl8GAA2AzhtVAOi8SoUthxXosHqWwRoAekgAWrtpjLmWmS8REd2PfCMzH0VELyaiPSLyPL2d0Fp7tYho+jpdTf4BETERPT1ZvXYiclbT5SuRtfYGInoOEW3StHbMrDmmTyGiTzvnLl4o0AHQCynUP58DoIsZKwA0ADpv5AGg8yoVthwAOqyeZbAGgB4igNauVqvVi5n5FUT0BCK6j5lvr1QqV2zevPknCWSvIaI/YuanisgYM+vlKpuJ6MsjIyPvnZiYmGqW7PTTT1+ye/fuNzPzc4nocSJyNzNf55x7f9O+6JZqA6DL8E9BGB8A0GF0bNcKABoAnTdmANB5lQpbDgAdVs8yWANADxlAlyHomn0AQJdxVDrzCQDdmW7d1gJAA6DzxhAAOq9SYcsBoMPqWQZrAGgAdOFxCIAufAiCOQCADiZlW4YA0ADovAEDgM6rVNhyAOiwepbBGgAaAF14HAKgCx+CYA4AoINJ2ZYhADQAOm/AAKDzKhW2HAA6rJ5lsAaABkAXHocA6MKHIJgDAOhgUrZlCAANgM4bMADovEqFLQeADqtnGawBoAHQhcchALrwIQjmAAA6mJRtGQJAA6DzBgwAOq9SYcsBoMPqWQZrAGgAdOFxCIAufAiCOQCADiZlW4YA0ADovAEDgM6rVNhyAOiwepbBGgAaAF14HAKgCx+CYA4AoINJ2ZYhADQAOm/AAKDzKhW2HAA6rJ5lsAaABkAXHocA6MKHIJgDAOhgUrZlCAANgM4bMADovEqFLQeADqtnGawBoAHQhcchALrwIQjmAAA6mJRtGQJAA6DzBgwAOq9SYcsBoMPqWQZrAGgAdOFxCIAufAiCOQCADiZlW4YA0ADovAEDgM6rVNhyAOiwepbBGgAaAF14HAKgCx+CYA4AoINJ2ZYhADQAOm/AAKDzKhW2HAA6rJ5lsAaABkAXHocA6MKHIJgDAOhgUrZlCAANgM4bMADovEqFLQeADqtnGawBoAHQhcchALrwIQjmAAA6mJRtGQJAA6DzBgwAOq9SYcsBoMPqWQZrAGgAdOFxCIAufAiCOQCADiZlW4YA0ADovAEDgM6rVNhyAOiwepbBGgAaAF14HAKgCx+CYA4AoINJ2ZYhADQAOm/AAKDzKhW2HAA6rJ5lsAaABkAXHocA6MKHIJgDAOhgUrZlCAANgM4bMADovEqFLQeADqtnGawBoAHQhcchALrwIQjmAAA6mJRtGQJAA6DzBgwAOq9SYcsBoMPqWQZrAGgAdOFxCIAufAiCOQCADiZlW4YA0ADovAEDgM6rVNhyAOiwepbBGgAaAF14HAKgCx+CYA4AoINJ2ZYhADQAOm/AAKDzKhW2HAA6rJ5lsAaABkAXHocA6MKHIJgDAOhgUrZlCAANgM4bMADovEqFLQeADqtnGawBoAHQhcchALrwIQjmAAA6mJRtGQJAA6DzBgwAOq9SYcsBoMPqWQZrAGgAdOFxCIAufAiCOQCADiZlW4YA0ADovAEDgM6rVNhyAOiwepbBGgAaAF14HAKgCx+CYA4AoINJ2ZYhADQAOm/AAKDzKhW2HAA6rJ5lsAaABkAXHocA6MKHIJgDAOhgUrZlCAANgM4bMADovEqFLQeADqtnGawBoAHQhcchALrwIQjmAAA6mJRtGQJAA6DzBgwAOq9SYcsBoMPqWQZrAGgAdOFxCIAufAiCOQCADiZlW4YA0ADovAEDgM6rVNhyAOiwepbBGgAaAF14HAKgCx+CYA4AoINJ2ZYhADQAOm/AAKDzKhW2HAA6rJ5lsAaABkAXHocA6MKHIJgDAOhgUrZlCAANgM4bMADovEqFLQeADqtnGawBoAHQhcchALrwIQjmAAA6mJRtGQJAA6DzBgwAOq9SYcsBoMPqWQZrAGgAdOFxCIAufAiCOQCADiZlW4YA0ADovAEDgM6rVNhyAOiwepbBGgAaAF14HAKgCx+CYA4AoINJ2ZYhADQAOm/AAKDzKhW2HAA6rJ5lsAaABkAXHocA6MKHIJgDAOhgUrZlCAANgM4bMADovEqFLQeADqtnGawBoAHQhcchALrwIQjmAAA6mJRtGQJAA6DzBgwAOq9SYcsBoMPqWQZrAGgAdOFxCIAufAiCOQCADiZlW4YA0ADovAEDgM6rVNhyAOiwepbBGgAaAF14HAKgCx+CYA4AoINJ2ZYhADQAOm/AAKDzKhW2HAA6rJ5lsAaABkAXHocA6MKHIJgDAOhgUrZlCAANgM4bMADovEqFLQeADqtnGawBoAHQhcchALrwIQjmAAA6mJRtGQJAA6DzBgwAOq9SYcsBoMPqWQZrAGgAdOFxCIAufAiCOQCADiZlW4YA0ADovAEDgM6rVNhyAOiwepbBGgAaAF14HAKgCx+CYA4AoINJ2ZYhADQAOm/AAKDzKhW2HAA6rJ5lsAaABkAXHocA6MKHIJgDAOhgUrZlCAANgM4bMADovEqFLQeADqtnGawBoAHQhcchALrwIQjmAAA6mJRtGQJAA6DzBgwAOq9SYcsBoMPqWQZrAGgAdOFxCIAufAiCOQCADiZlW4YA0ADovAEDgM6rVNhyAOiwepbBGgAaAF14HAKgCx+CYA4AoINJ2ZYhADQAOm/AAKDzKhW2HAA6rJ5lsAaABkAXHocA6MKHIJgDAOhgUrZlCAANgM4bMADovEqFLQeADqtnGawBoAHQhcchALrwIQjmAAA6mJRtGQJAA6DzBgwAOq9SYcsBoMPqWQZrAGgAdOFxCIAufAiCOQCADiZlW4YA0ADovAEDgM6rVNhyAOiwepbBGgAaAF14HAKgCx+CYA4AoINJ2ZYhADQAOm/AAKDzKhW2HAA6rJ5lsAaABkAXHocA6MKHIJgDAOhgUrZlCAANgM4bMADovEqFLQeADqtnGawBoAHQhcchALrwIQjmAAA6mJRtGQJAA6DzBgwAOq9SYcsBoMPqWQZrAOghBWhr7blEdL6InEdEq+M4Xr9169bvdRqUxphLiOgyZjZEtEtEPjE1NXXl9u3bf72QTQD0Qgr1z+cA6GLGCgANgM4beQDovEqFLQeADqtnGawBoIcMoK21xxLRdUR0IRHtJqIbRaQ+PT197bZt236RlcNa+xwiegcRPZ6I/t459wet5DLGfJCZLxWRCWb+KhGdo3VEZIP3/plE1JhPZgB0Gf4pCOMDADqMju1aAUADoPPGDAA6r1JhywGgw+pZBmsA6CEC6Gq1+ihm/g4zHx3H8Z+Mjo5+eGJiYqpZglqttiqO488w85lE9CARHUlE/9AKoI0xT2Tmb4nI96ampp6WrDizMebrzHy2iLzMe/9JAHQZpnvvfQBA917jVi0AoAHQeSMPAJ1XqbDlANBh9SyDNQD08AA0W2tvF5HTiOgs7/235+r6KaeccvTU1NRtRHRlHMfLoij6h7lWoK21CscvFJFnee+/ltrUVeVKpbJRRG7x3uuK9JwPVqDL8E9BGB8A0GF0bNcKABoAnTdmANB5lQpbDgAdVs8yWANADwlAV6vVi6Io+iwRXeGce/u6deuO2Lt377J6vX7vfBIYY36Pmf+xFUCvXr368NHR0d3M/NDKlSuP27Bhw3TGlgL7PUR07Ojo6LGbNm26b652ANBl+KcgjA8A6DA6tmsFAA2AzhszAOi8SoUtB4AOq2cZrAGghwSgjTFfZuZnxnF8RhRF7yKiZ2jXReQeZn6fc+5qIoqb5ZgPoMfGxsYqlYoXkTu8909tUfdmZj6LmU+dnJzcBIAuw5TvrQ8A6N7qO5d1ADQAOm/kAaDzKhW2HAA6rJ5lsAaAHgKArlarh0VRdJ+IPEREB5h5g4h8lZlPJKLXEtFxRPRB59zr2gHoWq12joh8XURu8N7rocSDHmvt9XpYkZnPn5yc1MOFLR+sQJfhn4IwPgCgw+jYrhUANAA6b8wAoPMqFbYcADqsnmWwBoAeAoA2xqxh5q264ExE73bOvSnt9tjY2AlRFG1m5qWNRmPd1q1bJ7KSzLcCbYx5CTN/nIg+4px7VQuA/ggRvYyILnbOfRoAXYYp31sfANC91Xcu6wBoAHTeyANA51UqbDkAdFg9y2ANAD0EAF2tVp8cRdHtRPRT59yjE5Ce7bkx5pokDd3l3vtr8gJ0tVo9L4qirxDR551zFzVLaYz5PDNfEMfxufV6/Za5pK7VamfGcXzbVVddRSeddFIZ5kUuH+7dfy+95I6Xz5T95FP+mY47TBfyh/tZDE3uuusu+v3vXkKV3xgZbrEzvW/cM01/f8aH+mr+9Hrw7o/vpyv/68qZZq445go6Kjqq1032hf1e66Lz82/u/xs64tFH9IUei+XkQz95iN581JsxRxdL8EVo58ILL3zC3r17J3fu3Ll3EZrruya47zxu4fDatWtNHMeTc+1VttZeqls4iOga59zr2wDok6Mo+hER3eqcO7u5aWutQvPTKpVKbfPmzfW5tKxWqxcnK9mDIDf6AAWgABSAAlAACgyBAnEcP6GbS+gGWaKBAOjx8fHR6enpfUT0M+ec7ns+6DHGvIGZrxKRt3rv9eKU2We+LRzVanVFFEX3i8ivvPePaDqEGBljNMPH8j179hw13xva2rVrHz49Pf2sSqWyfXp6esGbCwc54NA3KAAFoAAUgAJQoD8UwAr03OM0EACt3TPGfJeZT9M80N77O5sgWS9NuSiO4wvr9foX8wJ0Yleze5wnIuu997emdcfGxp5SqVRuE5Hrvfcv6I+pAC+hABSAAlAACkABKAAFulVgkAD6fGb+kojctG/fvuft2LFDV6RJ9x+LyDdEZLP3/tTmVHbzrUAn9S8QkS/o9pAVK1as37hx44H169eP7Ny58xZmfnLzBSvdDgjqQwEoAAWgABSAAlAACpRbgYEB6GS1+FpmvkREdD/yjcysp2peTER7ROR5rW4nXAigiSiy1t5ARM8hok2a1o6ZNcf0KUT0aefcxeUeYngHBaAAFIACUAAKQAEoEFKBgQJoFSY5sPcKInoCEd3HzLdXKpUrNm/e/JNWwiUA/eHkJsJLWpU5/fTTl+zevfvNzPxcInqciNzNzNc5597f6nKWkAMEW1AACkABKAAFoAAUgALlUmDgALpc8sIbKAAFoAAUgAJQAApAgUFTAAA9aCOK/kABKAAFoAAUgAJQAAr0VAEAdE/lhfF+V6BarZ4dRdHNRPQ159x5/d4f+A8FBkGBPPPSGPNIZt4hItu992uS8yw3EdHxzPykycnJBzvRIm1bRDZ478/txAbqQAEo0P8KAKD7fwzRgx4qkOeLuofNwzQUgAItFMgzL5sBOrkvYBsRHTk9PW3uuuuuXZ2IC4DuRDXUgQKDpwAAevDGFD0KqECeL+qAzcEUFIACORTIMy9brECTQvRDDz0Ubd++veMLrQDQOQYIRaDAECgAgB6CQUYXO1cgzxd159ZREwpAgU4UyDMvWwF0J2011wFAh1ARNqBA/ysAgO7/MUQPeqhAni/qtPkTTjhh6bJly/6ciJ4hIuNEtJOZvxfH8Tvq9frmtJy1Vm/DfC4zP2dycvKr6d9XrVq1bPny5b8Skb3e++OJqJF+ZozR8lrvn5xzr+5hl2EaCpRegTzzshVAG2O2M/OJzPyoycnJnWlHV69effhhhx321iTfvxGRbcz8f+M4/l4URbcT0ducc3+p5bMALSKviKLoHUm9USK6KY7jN9Xr9btKLyIchAJQoCsFANBdyYfKg65Ani9q1cBa+xg9aEhEq4noVhH5FjNXiejZRFQhot93zn1MyxpjLtEvZxF5l/f+LRlI/h1mvp6IRETO8d5/I/PZNcx8aRzHv12v17806Lqjf1BgPgXyzMs5APrHCUCfkAL0+Pj4MQcOHNCbZU9O5u0tIvIoInoRM9+iL8REdGULgHZE9DBm/k8iupOInp78bwczP7bTQ4oYeSgABfpDAQB0f4wTvCxIgTxf1AkU38TMZxPRG5xz70vd1avk4zj+9+TCnbXe+5+NjY2dUKlU9GKf7zrnnpSWtdZ+hIjWicgYM/+tc+7PMgDtiWiliBxbr9f3FyQHmoUCpVAgswp8u4j8XiunmHmVAnAmC4e+vB4C0MaYv2PmV4vI1d77NzfN3Q3MrC/AhwB08qL7Du/9FZk5/Dki+u1s+VIIBiegABQIrgAAOrikMDhICuQB6MyX+Ubv/ROb+2+MeTcz/7GIXJWuOFtrf6DbPKIoOkZXqtavXz+yc+fOXyQr03qL5knee6O2ktXtu0TkX7z3LxwkfdEXKNCJApl5KUQ07/fYfABdrVYfFUXR3UT005GRkbGJiYmprD/GmE8x8wvmAOifrly5cs2GDRumMy+6v8nM/y4i/+q9/51O+oY6UAAK9IcCAOj+GCd4WZACeQC6VqtdLiLvFZG3eu91P+RBjzHm6clK2Fe89+cnUPxXRPQWEbnAe/9v1lr9mfjf4zg+N4oiBeiriGjcOTdprb2UiK6J4/jl9Xr9EwVJgWahQGkUyLy0btL9yXNA9MOZ+UPzAbQx5nxm1i1RH3XOvbK5g9ZaXV3W/7XaA32z917n7exTrVZPiqKoLiLOe7+2NILBESgABYIrAIAOLikMDpICeQDaGDOzP5mI/sA59w/N/T/55JOrjUbDZb9UdWuHiHyTiN6jWzWstR8QkVeuWLHimAcffFC/eHWF+s3e+6ustZ8TkedOT08fv23btgcGSV/0BQp0okDOedl8kcohWzistX9KRFcT0V855/6ixcvvnzPz21sBdKvLlXqV+aMTjVAHCkCB3ioAgO6tvrDe5wrk+aK21uq+yf+d/Mx7ZYsv4fRn3du893rQSJ/IGLOLmb1z7kxjjO5x/r73/kX6YZItwDnnnmWt/YUCtf7/PpcT7kOBIArkmZd5DhEaY17JzB8mouucc3/YYu7+JTNrZp1We6APuZ0UAB1keGEECvSFAgDovhgmOFmUAnm+qK21mmnjRhH5nvf+9BZfwrpCfRkR/bVz7n+lnxtj/ln3V4rI45l5Io7jF9Trdc3CoQD9PmZ+DTM/WUTuFJFLvfcfKkoHtAsFyqRAnnmZB6CttWcQ0bdFpO69r+nBwGw/jTFfvnvYDwAAGf9JREFUYObnAaDLNPrwBQqUQwEAdDnGAV6UVIE8X9Saps4Yo2nrTiOiP3fOvTMDyb9JRP9GRL9i5sc5536Z+ezFzPwJEfk4Ef3Ovn37jtuxY8c+/bxWq60XkZtE5BPM/JIoih61ZcuWn5dUJrgFBRZVgTzzMg9AJy+rt+mLavPcTc8lJB3DCvSijjAagwLlVwAAXf4xgocFKpA5rHQPM89eepJ1af/+/ZcuXbp0LI7jr2iqOSL6pojcrnmgRURTWu0TkYvq9fp/ZOudcsopR09NTd2rB6BE5PqmDBsK5brF4ygi+o5z7ikFyoCmoUCpFAgM0OuYWefmw0XkG8x8h4joZSsXaapJInqqiFzuvb9GRZivbWzhKFWYwBko0FMFANA9lRfG+12B5Mvypnn6IXEcH1Ov13evWbPmYSMjI1cy81kiUmVmTY/1TWa+MnvrWdaWtVYvangaM79ocnLyX5o++yciermIvEUPE/a7lvAfCoRSIDMvdR9yy7MBCczqHNzunDspWW3WPNAn6GUq2TmpZZNzDE8jomP1BlEi+ksROY+Z35i9wGi+tlu1GarPsAMFoEC5FABAl2s84A0UgAJQAAqURAFjzJeZ+bxGo/G4rVu3TpTELbgBBaBACRQAQJdgEOACFIACUAAKFKZAZf369Zy9EEU9qVarvxVF0Q1ENOmcO7kw79AwFIACpVQAAF3KYYFTUAAKQAEosBgKGGP0xsDrmPlreukKsx5JkFOZWbPrPMDMz5ycnNy4GL6gDSgABfpHAQB0/4wVPIUCUAAKQIHACuhFR9PT05cpKBPRo5JUdtuJ6NZGo3HV1q1bdwRuEuagABQYAAUA0AMwiOgCFIACUAAKQAEoAAWgwOIpAIBePK3REhSAAlAACkABKAAFoMAAKACAHoBBRBegABSAAlAACkABKAAFFk8BAPTiaY2WoAAUgAJQAApAASgABQZAAQD0AAwiugAFoAAUgAJQAApAASiweAoAoBdPa7QEBdpSwBjzRCK6hIgsMxsiOlJEfsHM9xDRbcz8qeb0WsaYs4joRck14mPM/AgiqhPRZiL6e+fcfLcqzutftVpdEUXRS0XkXGY+TW9sI6LDiOiXyf++H8fxh+r1+rfa6uiAF7bW/iMR/V7aTRF5pff+o3m7ba39gIg8MxnLpSJSYeaKXhFPRA8S0U4i2iQiN0VR9LnJyUn9G54uFDj55JMf3Wg0fpwxIc451bytZ2xs7CmVSuV3iUhvJz1Rrwsnoj3JfPkpEd3kvf/fRNRoyzAKQwEoULgCAOjChwAOQIGDFajVastFRK/x1vy02UeIKJ2z+v9f75z7oBao1WqrROSLRPT4BfT8iHPu99v8wq5Ya/8/IvozIlo+n08i8lLv/adKMqaVarX6uCiKnqL5fb33NxbhVwagdcxIRF7VDkAbY25m5rOT9GrNXTjo33AReYiZ375y5cr3NF8MUkTf+7XNDECnc64tgK7VaqeIyIeI6Mkt5ov+aWbcRMR772v9qhP8hgLDrAAAephHH30vpQLW2s8R0YUpMIlITEQ7klXHR2a+fE/03v8s6YRC7k+IaGXyxbyXiH7GzLrqpavE2ef/c879TZ7Oj4+PH3ngwAG9zvipiT/6b0YKgtqGrqI9gpkfpn4edthhx2/atOm+PLZ7WcYY8wdE9B5mXpa08zbn3F/2ss25bDetQOslHd0C9JSI3MPMGhePzrxUpS7oGN24f//+52/fvv3XRfS539vsBqCNMS9mZv3VYbRZBxG5OxmvVcl8fq9zTl9M8UABKNBnCgCg+2zA4O5gK2CtVXBWgE5Xvn7YaDSel17mcPrppy954IEHnsDMz/De/1VWDWPMlUSk4Pgnq1at+pdkBVLB+u1E9JaMTYWqE51zuvVivqdijPkqM5/bBM/XKpw652Z/4l67du1KEXnq5OTkv5RhhKy1VxCR/m8G9onoygEAaO3HQQC+evXqw5csWfKkKIreR0SPa9L+o865V5VhPPrNh04Bulqt6labf0vgOO32j0Xk8qVLl2648847H0r+GNVqtbNF5OfOucl+0wf+QgEo8N8/B0MLKAAFSqCAMebdzPwniSsKS3/ivf8/eVyrVqvHjYyMxFu2bPlVU3k2xmxO9lHPrCDHcfzser3+H/PZrVarfxhFkcJyCvO/juP4OfV6/ZY8/hRZJgPQM9A5qACd0Vhfdj7JzM9vetk52zn3zSLHoh/b7gSgq9XqYczsmPmEZJVZ4+4L+/fvfyl+CejHKIDPUGB+BbACjQiBAiVSwFp7AxH9Vmbl9LYHH3zw2Tt37tTtEh0/xpjPMvNFKZgT0Rucc7pqOdcTGWN028hvpDAgIm/x3l/VrhNjY2OnVSqVV4rIOBGdTERLmPlHRPRDEXmf935bs01r7QY9eJX8/TvOuadYa/8wOYyne0Z1Ff3ORqPxtq1bt96R1q9Wq2dHUXTzfD6mh/iayzYajacuXbp0cmpq6m9E5HeZ+W7nnB6WnH302udGo/EaEXkcM68lIt26MsHMEyJyrff+By36kj1E2M0WjpmXgbm2gIyPj//G9PS0rmbqPvWZFyUR+Ufvve55zz5srX2Z7ldPVq31YJv+GnFrHMfvz+qplYwxv5dsSZhpf+/evUcuW7bsPBF5vdZn5iOIaDKO4+vq9bru+yVr7aXqp27PTw46fqdSqbxpy5YtvlkfY4zqqIcs1dbqZFvKtO5b19XcOI7fW6/X783Wa/JJPzqZmfWQrf7S8mQROYqIthDRZ7z375lrz3+tVrMi8mYROZ2IHsPMdRH5RqVS+fs4jn+YfRlZ6BCh9pmI9ExC+sJ57+GHH74ms+o879RpPmxKRAdtO2rR5x80x2eivf4S8UdEpL8cPVJEfs3MGhcfW7ly5XXYG9/uv2AoDwVaKwCARmRAgRIpYIz5G2Z+YwagdY7uEpH3T01N/d/t27ff34m71trvJ7CUgtW8+3BrtdqZIqIrl7OHqJj5qDYzPOj2kfcS0Wvn8VlB+C+dc+9sAiQ9OJcCtK6oa2YPfbFIn6xfr5icnPy4fpCB4uyByxnwm62Y7EFuKktxHF8YRZFugzk1KX9nFlCMMf9TD+gRUTRHf2IdpxUrVrxl48aNB9IyAfdAzwvQCTz93yRzy0z/da+0935V6sspp5xy9P79+7/IzGe20HLmTyLyRu/9u9PPM+CW7n3Xle6LW9UXEf21ZDUzX9D8uYjsjeP4rK1bt34v/axarZ4cRZG+TGWf5rHT+D/He69APPO08omIXsDMS5IiszZE5Kve++c0j5kx5hJm1vg8vMV47iKi49sE6H8not/MtK/bnHQu53qaD5s2/2rS3Gd9gWwG6BYxepCWInL7kiVLnj0xMaGZQPBAASjQhQIA6C7EQ1UoEFqBWq32hDiOv5XsoZyFvgSG9jDzh6Ioes+WLVt+nrdtY8waItKflhX8ZgCamZ84OTn5n3PZMMa8kZn1oGEKYprFQu3kfqy1ClMKz1l4vT/xY0ViKD2U+AfOuX/IAFI280SasaDBzD/RdGDZPaYismvJkiVVhQLVT0T+TkR+I1k9V5O6Epum/1NQfmu9Xv9SM0DrCmxm1Vvrza7wWWv/lIiubuqLZrzQVHKazi/7/LVz7i/SPywmQNdqtctFRKFw9gVj+fLlh6dAb4z5WmZPu7q4R0TuS7Yd6H+nL1inee/v1D+0ALe0jB5afRQzjzS98M1orodYdQW0SZubnHPPzP7NGPPj5LDr/iQln46XjrHaTZ+D6s3jk6Z4PFxf9pri68XOuc9m4utJzHx7k2/qs8bXCU17mGf6m2MFWvc3K4znekltnkjNcbIAQGsbB61A668KRKTpEdMXnVjni46R/uqTtqcved57jWc8UAAKdKEAALoL8VAVCvRCAWvtm4nor5tS1qVN6ZzVvci/X6/XP5Gn/aasHroquTVJnaVZHFo+mb3YKfx+2TmXXQGet2ljzKnMrCuNsyAnIpd576/TfllrFTDTQ37apwdF5OQ0q0hT6jb1ea+umjrnfrhmzZoTR0ZG9CVDc1ynAH4QIOXZAz3HanX2pUUB5QnJ1oi7muDor1atWvWX+nO4tVa3SGi/0peNRhzHT0pXWhcToI0xz2VmTWc4q/vIyMgjJyYm7qlWq8+LouhfM4D1Du+9joGu3D8+2foyk6ZQRG7w3s+kUWyC1XQP/Qvr9fr1uqVlenr6P5NtHFpcP59qNBrn6FaQWq22XvNTZ/05cODAqm3btv0iDSAt02g0dtXrdc1VPvNYa48VEX2J0i0/M202Go0zUk1b+aRzJnlx0T3/H2FmBcp0PL/inHtuYj6y1mpsnpKByjsqlcpv6/mBWq22Ovn1ZSajTdr+fACdpJ58oOkXmyc152mfb9J0A9AnnHDC0mXLlun2mJlfG0TkP5csWXKBjvuqVauWHXnkkf/CzM9O2t83MjJykn6W598PlIECUKC1AgBoRAYUKKECxhi9fOFDzHxMC5BO5+3vOef+eT73jTGvYGbNKT0LVLrf1Dn3sQW+zHUv62sysPVF771mCMn1GGPey8yXZwDmEAA3xmzJHmwkotn0ehmATnhArvbe64vFzGOMeSczvyn5T12x/Avvvb50zDwdArTamdD9o1NTU9992MMeVtH9qy1WdTc75x6bFcIYo6n+npX6o0DtnNM9sepLyz3QyWr5388h6Hedc5pRRfuarsanWsy5/WYO2F1Wr9f3W2u/QURPS4wckn/YGHMtM+s+cwWwaQUvfUFosV3iDu/9jJ3Ev48lWzpSWP2Yc2724hhjzHeYWfcYz5hm5qdPTk4etPqrABrH8UuSrR+6aq3wetAWimzcNvdTs1l47zVl48yFJNZa3XutQJ6+1OhLo15GpJ+dQUTfzswJfZGsZrPKtJo38wG0ZqGJ41hX3LMvjE9otSd+rgnUDUDXarVXi0gaS/qy8bTsXna9lImZdRtUujr9au/9R+byBX+HAlBgYQUA0AtrhBJQoBAFdFVp6dKlryCiP2XmsSaQntkbvXfv3sfs2LFDtxEc8lhrFXK+lvx8m/6s/O/e+/OzWxHmqKswmk19N+mc09XAXI+1Vg/2PSmFJiJ6nXNOM3rMPs2r3CJyvff+hQmUHQSNyYq7gujMo3memflvM/34hxQ4E0hK09jpf7bMwtFiBVoButp8qNFa+0m93THTl3c751J4T/15HTO/PwNsG733epPknAA934FHEdngvddDYG0BtLVWUxv+z4wf93vv9SVM/dD83NmtM63GchYA4zg29Xr9rhbbJf7ZOffKtLK19h368pPqIyJv996/LTNWn2LmmXFVv+I4fnnm1xNdLf5zZlafl7ZwKAuksy9JLXz6pnNOL5uZecbHx0enp6d1f30K0NPe+5m8zC2yy/zQOaf73rOxuYaZt2aBeD6A1gwcURTpPMy+qL7EOfeZViK3+ls3AN30wjrX93rWt4O2GeX1EeWgABT4bwUA0IgGKFB+BaJqtaqXM7wtAeksVJzpvdfVtIOetWvXPrbRaCiEzsBTsof6J0uWLHnCxMTEfy3UZWvty4lIV6hSADmwZMmSh+c9fGSM8cx80lxbLLT9ZKuKXmOcror9h/d+5mfmhVZdWwCU3rD46rRfnaxANx+4y9g66HBYq2wk1loFbAXtVK/ZFd65VqATgG55tXoC0M/Io0V2LFtkcZlZ+dctEfrC1QR4c4VB+rI1E1vdaj3fFhZrrb6k6ctaduuMvsj8lJkVqI9LnDzoJajFqvgt6QtHZtx0ZXl2rqQAnBy00xeNNO70kKG+VM4+naSxs9bqNh/NIpJuK/ob51z6YrHQlDvkRaudPdDW2i8RUfpinLbf3Gb6fa/9nv2FZEHHUAAKQIGWCgCgERhQoE8UOOmkk44fGRnRy0uyB5Ve4L3Xi1dmn+Tna00Dp/CRHsC7Z2Rk5OzNmzfX83Q32feb3nKYAtVB2yjms2OM+S4zawq4tO7l3vtrsnWat3mIyMe997riHhygm1dFtY3mFejkuu9DDkq2SAF4yO1xTds81PxtzrmZLCKLtQd6bGxsLIoi3RaTPSz6msnJyQ8TkWZE0cwLM6uwyZ7y+WJBKpXK727evPknvQLoZN+uHobNpt27Ympq6hrNNjPfS1A3AF2r1V4qIrr1KYXr7+te92xsJuntNOvHIQA+V9xntsCkdXYfOHDAZvd7LzBn/o6Z/0f6wiAiV3nv9QVj5jHGvJKZdSxT+9lDrroHX/fipy8imrZOD2W2fJL0hh/I828BykABKNBaAQA0IgMK9JEC1todyUGhGTCtVCq1LBQnh7o2ZDJQKCzdE0XRuZOTk66drlprNTXcS7Kr0CJyXp6LVKy1B+2hJqLsIS51Qw8S6n5jm1mxm93m0e0KtDHmDcysOatToDho20GbAK3p69IVS9W91R7orzDzeSn8ENHsNo/FAOhqtbqCmTXDRgqC6ue2OI7Hdf9zAvKadUW3KuhnD+zfv39lngs+egXQLQ6aHrRNKPOCNcP82RXZbgC6uV0ROSAiJ9Xrdb2WPoVV3Y+t8Z8boJMXV43pmfj+f+8pcsO+ffsunmubVXY+GmP+FzPrdfPpyvjnvPcvyPikW100jeIhAG2MSbcQzWglIi/z3usvInigABTokQIA6B4JC7NQoBMFrLXP1mt/iUhXo76RXretV3g/+OCDmnoq3fJwSI5fXTWL41i3bWh2ipkvcRFxIyMjz9aVxHb90WwEcRxrhoWjm35if2+j0fjbrVu36gUoM5k81qxZ87Aoik5ODy4l+6/10Fp2T+0fJRdt6L5X3Y7yvzJwvqfRaIzdddddus2g6xXoWq32fBHR/afplor61NTUuiww5l2BttY+RnVMUpulP4//b+ec7rNuNGfhUE2iKDp1y5YtM/mNewnQevukXuuuubSz23v0EKD+pO+91z3wM4+19l1E9GcZQLtFRF6bzX6hcbZ79+7He+83pmPbK4BucdBP832fqplYkvj5avbXliRfuObpbpUHOvcWjmR/tK6+642B6QvWTaOjoy/ctGnTfZr2kZm1bd2ClBugE78Oukk0mYN1Zv7jAwcO3L5t2zbN1DEzN9euXTveaDTuy2SeaYZ2zbbz1Hq9/v21a9eaRqNxR1N6vtkV6LGxsfFKpbIp46+28wcrV678fPbiFJ3TU1NT8bZt2+5u998DlIcCUOBgBQDQiAgoUCIFMrmTU68e0BXkJN+u3viWPvrFPntIqQU8p+W2E9HuFl2czfIwX/eTNGRfyP7MnjnMuE9E7k72WWvasYe895p/dwaqrbWa/UP3Us/+OyMiuv86yoCAFtW+vNY5p5eAzDzdrkBXq9WToijSFXdtO10N1EN0v9KfyfV667wAnfijwK+p97L/Zj5IRHpw7KBsESIHZwwJCNAp7Ol4/lxEHpG83DQP4f7ktsJPZT9I9kHrhToH5WZOcmQrvK5IbC6J4/ixKVi3AdCpf1c653QldeaZp/962+XPMi98M7Gg8c7MmoUjtXfInuJuVqC1kWq1elEURbN5oZOG0zzjj27Kwz7T/kJ5oJPu6laZTxORpgBs9f2qvyDpy43e8LlUb0FMb/dMLrm5KzM30v7/uDn3edLWQRepWGvTS3T++x8JEc1NrRpXki1deoj06uZDsCX6JxCuQIG+UQAA3TdDBUeHQYFMare0u9mDPzN/U1DVrBbZNFRN+0UXlCqb5WGhwrr6pdc0E9HTm8pmfUshdfYCjvXr14/s3LlTL2PRn5f1C1yfg/ojIg8w859n4blNgE5d+qfsIcIE3HQbSXqNdbbdZzrnbmrOgjHXHugMCL5FRPRn9jRbRPPYaNaHdznnZlZJM/VCXuXdPFzZw3f62Vcqlcofz7XXXVd9ReTzSfrA5hibCa8kxmZT5bW4QvogrRc6sDnfC4Sma2Rm/aVg9kUn00G9Fv3xmf/+oHPudUl8ZK8X1zkxm7Uko3s2z/khAJxkLEn3GDcfvNPV3L16LXhiLy9AzxS31mqWFs0skmY9ycZ+VufZfNv6xyRDiF4Hfkh5EdEbJDUdYHqz5EEXqSS/HmgqwtnDtE0Qn47tIav1zUGF/4YCUGBhBQDQC2uEElBg0RTQq42ZWfMtn8XMeoOYrhbqobCtIqKrUxvjOP7Her1+b9apBGLemtfRbJaHvHWS671/R0Q0XZjeQKcZPnS1U1eV79U8s3Ecv19Tn2VtGmPW6k/YIqK5k9fqRTBENKk3wY2Ojr5bfzZv9iFZgU6v8lZAOij3cQJ1eqBq5hGRf/Lepwew0j/rhRnarl47rXmBdzPz3SJyid6y1yILxnbnnP5sP+dTrVa133/GzLqX+GQR0X9D9cCW7i/WQ1/pwctZGwlAzhyOTHyd9xr1Flpo+j99edHDdjP/Y2ZdxdwtIqr7D7X9RqPx2a1bt+oK57yPbmFoNBovE5HfFBHDzNWkH7o6r/rcwsyfcM5pv9LtEnNq3SL2Wq1Az9n/sbGxp0RRdIUeOtWtJ8y8SV/YKpXKHSKS7c/sPvYW468APZO1JH2stTM5oVPZnXPZmw1n/mytPVdENF/3Gcy8TG/30wtc9uzZ8/4jjzzyA8ycputTgD6k/gKxsiKKopcSkfq1Tm+sFJFlzKzxrnPmLoXi5HKhWVPVavWZzKzZOx6b3MaoF6RolplrrbW3pLm8k5sIDzr8qEaq1eqTmVl/+akxs54x0HZn5igRfYeIvtx88HihmMHnUAAKHKoAABpRAQWgABSAAlAACkABKAAF2lAAAN2GWCgKBaAAFIACUAAKQAEoAAUA0IgBKAAFoAAUgAJQAApAASjQhgIA6DbEQlEoAAWgABSAAlAACkABKACARgxAASgABaAAFIACUAAKQIE2FABAtyEWikIBKAAFoAAUgAJQAApAgf8fOtOCoyhMpPUAAAAASUVORK5CYII=\">"
      ],
      "text/plain": [
       "<IPython.core.display.HTML object>"
      ]
     },
     "metadata": {},
     "output_type": "display_data"
    }
   ],
   "source": [
    "barwidth = 0.75; \n",
    "fig, ax = plt.subplots(figsize=(9, 7));\n",
    "rects1 = ax.bar(0.5,RTanalysis.LowC.mean(),barwidth,yerr=RTstderror.LowC,ecolor='k',edgecolor=sns.xkcd_rgb['green'],linewidth = 2, facecolor='none',error_kw=dict(lw=3),label='Congruent');\n",
    "rects2 = ax.bar(1.5,RTanalysis.LowIC.mean(),barwidth,color=sns.xkcd_rgb['green'],yerr=RTstderror.LowIC,ecolor='k',error_kw=dict(lw=3),label='Incongruent');\n",
    "rects3 = ax.bar(3,RTanalysis.HighC.mean(),barwidth,yerr=RTstderror.HighC,ecolor='k',edgecolor=(0.3,0.9,0.3),linewidth = 2, facecolor='none',error_kw=dict(lw=3));\n",
    "rects4 = ax.bar(4,RTanalysis.HighIC.mean(),barwidth,color=(0.3,0.9,0.3),yerr=RTstderror.HighIC,ecolor='k',error_kw=dict(lw=3));\n",
    "sns.set(context='notebook', style='white', font='Myriad Pro', font_scale=2, color_codes=False, rc=None);\n",
    "ax.set_ylim(610,750);\n",
    "ax.set_xlim(0,6);\n",
    "ax.set_xticklabels(('Low', 'High'));\n",
    "ax.set_xticks([1 + barwidth/2, 3.5 + barwidth/2]);\n",
    "ax.set_yticks(np.arange(610, 711, 20));\n",
    "plt.legend([rects1,rects2], ['Congruent','Incongruent'], loc='upper right',fontsize=18,title='Trial Type')\n",
    "plt.legend(title='Trial Type',fontsize=19)\n",
    "plt.title('S-C RT Cueing Effect', fontsize=26,fontweight=\"bold\")\n",
    "plt.ylabel('Reaction Time (ms)', fontsize=24,fontweight=\"bold\")\n",
    "plt.xlabel('S2 Control-Demand Cue', fontsize=24,fontweight=\"bold\")\n",
    "sns.despine();\n",
    "\n",
    "plt.show()"
   ]
  },
  {
   "cell_type": "code",
   "execution_count": 21,
   "metadata": {},
   "outputs": [
    {
     "data": {
      "application/javascript": [
       "/* Put everything inside the global mpl namespace */\n",
       "window.mpl = {};\n",
       "\n",
       "mpl.get_websocket_type = function() {\n",
       "    if (typeof(WebSocket) !== 'undefined') {\n",
       "        return WebSocket;\n",
       "    } else if (typeof(MozWebSocket) !== 'undefined') {\n",
       "        return MozWebSocket;\n",
       "    } else {\n",
       "        alert('Your browser does not have WebSocket support.' +\n",
       "              'Please try Chrome, Safari or Firefox ≥ 6. ' +\n",
       "              'Firefox 4 and 5 are also supported but you ' +\n",
       "              'have to enable WebSockets in about:config.');\n",
       "    };\n",
       "}\n",
       "\n",
       "mpl.figure = function(figure_id, websocket, ondownload, parent_element) {\n",
       "    this.id = figure_id;\n",
       "\n",
       "    this.ws = websocket;\n",
       "\n",
       "    this.supports_binary = (this.ws.binaryType != undefined);\n",
       "\n",
       "    if (!this.supports_binary) {\n",
       "        var warnings = document.getElementById(\"mpl-warnings\");\n",
       "        if (warnings) {\n",
       "            warnings.style.display = 'block';\n",
       "            warnings.textContent = (\n",
       "                \"This browser does not support binary websocket messages. \" +\n",
       "                    \"Performance may be slow.\");\n",
       "        }\n",
       "    }\n",
       "\n",
       "    this.imageObj = new Image();\n",
       "\n",
       "    this.context = undefined;\n",
       "    this.message = undefined;\n",
       "    this.canvas = undefined;\n",
       "    this.rubberband_canvas = undefined;\n",
       "    this.rubberband_context = undefined;\n",
       "    this.format_dropdown = undefined;\n",
       "\n",
       "    this.image_mode = 'full';\n",
       "\n",
       "    this.root = $('<div/>');\n",
       "    this._root_extra_style(this.root)\n",
       "    this.root.attr('style', 'display: inline-block');\n",
       "\n",
       "    $(parent_element).append(this.root);\n",
       "\n",
       "    this._init_header(this);\n",
       "    this._init_canvas(this);\n",
       "    this._init_toolbar(this);\n",
       "\n",
       "    var fig = this;\n",
       "\n",
       "    this.waiting = false;\n",
       "\n",
       "    this.ws.onopen =  function () {\n",
       "            fig.send_message(\"supports_binary\", {value: fig.supports_binary});\n",
       "            fig.send_message(\"send_image_mode\", {});\n",
       "            fig.send_message(\"refresh\", {});\n",
       "        }\n",
       "\n",
       "    this.imageObj.onload = function() {\n",
       "            if (fig.image_mode == 'full') {\n",
       "                // Full images could contain transparency (where diff images\n",
       "                // almost always do), so we need to clear the canvas so that\n",
       "                // there is no ghosting.\n",
       "                fig.context.clearRect(0, 0, fig.canvas.width, fig.canvas.height);\n",
       "            }\n",
       "            fig.context.drawImage(fig.imageObj, 0, 0);\n",
       "        };\n",
       "\n",
       "    this.imageObj.onunload = function() {\n",
       "        this.ws.close();\n",
       "    }\n",
       "\n",
       "    this.ws.onmessage = this._make_on_message_function(this);\n",
       "\n",
       "    this.ondownload = ondownload;\n",
       "}\n",
       "\n",
       "mpl.figure.prototype._init_header = function() {\n",
       "    var titlebar = $(\n",
       "        '<div class=\"ui-dialog-titlebar ui-widget-header ui-corner-all ' +\n",
       "        'ui-helper-clearfix\"/>');\n",
       "    var titletext = $(\n",
       "        '<div class=\"ui-dialog-title\" style=\"width: 100%; ' +\n",
       "        'text-align: center; padding: 3px;\"/>');\n",
       "    titlebar.append(titletext)\n",
       "    this.root.append(titlebar);\n",
       "    this.header = titletext[0];\n",
       "}\n",
       "\n",
       "\n",
       "\n",
       "mpl.figure.prototype._canvas_extra_style = function(canvas_div) {\n",
       "\n",
       "}\n",
       "\n",
       "\n",
       "mpl.figure.prototype._root_extra_style = function(canvas_div) {\n",
       "\n",
       "}\n",
       "\n",
       "mpl.figure.prototype._init_canvas = function() {\n",
       "    var fig = this;\n",
       "\n",
       "    var canvas_div = $('<div/>');\n",
       "\n",
       "    canvas_div.attr('style', 'position: relative; clear: both; outline: 0');\n",
       "\n",
       "    function canvas_keyboard_event(event) {\n",
       "        return fig.key_event(event, event['data']);\n",
       "    }\n",
       "\n",
       "    canvas_div.keydown('key_press', canvas_keyboard_event);\n",
       "    canvas_div.keyup('key_release', canvas_keyboard_event);\n",
       "    this.canvas_div = canvas_div\n",
       "    this._canvas_extra_style(canvas_div)\n",
       "    this.root.append(canvas_div);\n",
       "\n",
       "    var canvas = $('<canvas/>');\n",
       "    canvas.addClass('mpl-canvas');\n",
       "    canvas.attr('style', \"left: 0; top: 0; z-index: 0; outline: 0\")\n",
       "\n",
       "    this.canvas = canvas[0];\n",
       "    this.context = canvas[0].getContext(\"2d\");\n",
       "\n",
       "    var rubberband = $('<canvas/>');\n",
       "    rubberband.attr('style', \"position: absolute; left: 0; top: 0; z-index: 1;\")\n",
       "\n",
       "    var pass_mouse_events = true;\n",
       "\n",
       "    canvas_div.resizable({\n",
       "        start: function(event, ui) {\n",
       "            pass_mouse_events = false;\n",
       "        },\n",
       "        resize: function(event, ui) {\n",
       "            fig.request_resize(ui.size.width, ui.size.height);\n",
       "        },\n",
       "        stop: function(event, ui) {\n",
       "            pass_mouse_events = true;\n",
       "            fig.request_resize(ui.size.width, ui.size.height);\n",
       "        },\n",
       "    });\n",
       "\n",
       "    function mouse_event_fn(event) {\n",
       "        if (pass_mouse_events)\n",
       "            return fig.mouse_event(event, event['data']);\n",
       "    }\n",
       "\n",
       "    rubberband.mousedown('button_press', mouse_event_fn);\n",
       "    rubberband.mouseup('button_release', mouse_event_fn);\n",
       "    // Throttle sequential mouse events to 1 every 20ms.\n",
       "    rubberband.mousemove('motion_notify', mouse_event_fn);\n",
       "\n",
       "    rubberband.mouseenter('figure_enter', mouse_event_fn);\n",
       "    rubberband.mouseleave('figure_leave', mouse_event_fn);\n",
       "\n",
       "    canvas_div.on(\"wheel\", function (event) {\n",
       "        event = event.originalEvent;\n",
       "        event['data'] = 'scroll'\n",
       "        if (event.deltaY < 0) {\n",
       "            event.step = 1;\n",
       "        } else {\n",
       "            event.step = -1;\n",
       "        }\n",
       "        mouse_event_fn(event);\n",
       "    });\n",
       "\n",
       "    canvas_div.append(canvas);\n",
       "    canvas_div.append(rubberband);\n",
       "\n",
       "    this.rubberband = rubberband;\n",
       "    this.rubberband_canvas = rubberband[0];\n",
       "    this.rubberband_context = rubberband[0].getContext(\"2d\");\n",
       "    this.rubberband_context.strokeStyle = \"#000000\";\n",
       "\n",
       "    this._resize_canvas = function(width, height) {\n",
       "        // Keep the size of the canvas, canvas container, and rubber band\n",
       "        // canvas in synch.\n",
       "        canvas_div.css('width', width)\n",
       "        canvas_div.css('height', height)\n",
       "\n",
       "        canvas.attr('width', width);\n",
       "        canvas.attr('height', height);\n",
       "\n",
       "        rubberband.attr('width', width);\n",
       "        rubberband.attr('height', height);\n",
       "    }\n",
       "\n",
       "    // Set the figure to an initial 600x600px, this will subsequently be updated\n",
       "    // upon first draw.\n",
       "    this._resize_canvas(600, 600);\n",
       "\n",
       "    // Disable right mouse context menu.\n",
       "    $(this.rubberband_canvas).bind(\"contextmenu\",function(e){\n",
       "        return false;\n",
       "    });\n",
       "\n",
       "    function set_focus () {\n",
       "        canvas.focus();\n",
       "        canvas_div.focus();\n",
       "    }\n",
       "\n",
       "    window.setTimeout(set_focus, 100);\n",
       "}\n",
       "\n",
       "mpl.figure.prototype._init_toolbar = function() {\n",
       "    var fig = this;\n",
       "\n",
       "    var nav_element = $('<div/>')\n",
       "    nav_element.attr('style', 'width: 100%');\n",
       "    this.root.append(nav_element);\n",
       "\n",
       "    // Define a callback function for later on.\n",
       "    function toolbar_event(event) {\n",
       "        return fig.toolbar_button_onclick(event['data']);\n",
       "    }\n",
       "    function toolbar_mouse_event(event) {\n",
       "        return fig.toolbar_button_onmouseover(event['data']);\n",
       "    }\n",
       "\n",
       "    for(var toolbar_ind in mpl.toolbar_items) {\n",
       "        var name = mpl.toolbar_items[toolbar_ind][0];\n",
       "        var tooltip = mpl.toolbar_items[toolbar_ind][1];\n",
       "        var image = mpl.toolbar_items[toolbar_ind][2];\n",
       "        var method_name = mpl.toolbar_items[toolbar_ind][3];\n",
       "\n",
       "        if (!name) {\n",
       "            // put a spacer in here.\n",
       "            continue;\n",
       "        }\n",
       "        var button = $('<button/>');\n",
       "        button.addClass('ui-button ui-widget ui-state-default ui-corner-all ' +\n",
       "                        'ui-button-icon-only');\n",
       "        button.attr('role', 'button');\n",
       "        button.attr('aria-disabled', 'false');\n",
       "        button.click(method_name, toolbar_event);\n",
       "        button.mouseover(tooltip, toolbar_mouse_event);\n",
       "\n",
       "        var icon_img = $('<span/>');\n",
       "        icon_img.addClass('ui-button-icon-primary ui-icon');\n",
       "        icon_img.addClass(image);\n",
       "        icon_img.addClass('ui-corner-all');\n",
       "\n",
       "        var tooltip_span = $('<span/>');\n",
       "        tooltip_span.addClass('ui-button-text');\n",
       "        tooltip_span.html(tooltip);\n",
       "\n",
       "        button.append(icon_img);\n",
       "        button.append(tooltip_span);\n",
       "\n",
       "        nav_element.append(button);\n",
       "    }\n",
       "\n",
       "    var fmt_picker_span = $('<span/>');\n",
       "\n",
       "    var fmt_picker = $('<select/>');\n",
       "    fmt_picker.addClass('mpl-toolbar-option ui-widget ui-widget-content');\n",
       "    fmt_picker_span.append(fmt_picker);\n",
       "    nav_element.append(fmt_picker_span);\n",
       "    this.format_dropdown = fmt_picker[0];\n",
       "\n",
       "    for (var ind in mpl.extensions) {\n",
       "        var fmt = mpl.extensions[ind];\n",
       "        var option = $(\n",
       "            '<option/>', {selected: fmt === mpl.default_extension}).html(fmt);\n",
       "        fmt_picker.append(option)\n",
       "    }\n",
       "\n",
       "    // Add hover states to the ui-buttons\n",
       "    $( \".ui-button\" ).hover(\n",
       "        function() { $(this).addClass(\"ui-state-hover\");},\n",
       "        function() { $(this).removeClass(\"ui-state-hover\");}\n",
       "    );\n",
       "\n",
       "    var status_bar = $('<span class=\"mpl-message\"/>');\n",
       "    nav_element.append(status_bar);\n",
       "    this.message = status_bar[0];\n",
       "}\n",
       "\n",
       "mpl.figure.prototype.request_resize = function(x_pixels, y_pixels) {\n",
       "    // Request matplotlib to resize the figure. Matplotlib will then trigger a resize in the client,\n",
       "    // which will in turn request a refresh of the image.\n",
       "    this.send_message('resize', {'width': x_pixels, 'height': y_pixels});\n",
       "}\n",
       "\n",
       "mpl.figure.prototype.send_message = function(type, properties) {\n",
       "    properties['type'] = type;\n",
       "    properties['figure_id'] = this.id;\n",
       "    this.ws.send(JSON.stringify(properties));\n",
       "}\n",
       "\n",
       "mpl.figure.prototype.send_draw_message = function() {\n",
       "    if (!this.waiting) {\n",
       "        this.waiting = true;\n",
       "        this.ws.send(JSON.stringify({type: \"draw\", figure_id: this.id}));\n",
       "    }\n",
       "}\n",
       "\n",
       "\n",
       "mpl.figure.prototype.handle_save = function(fig, msg) {\n",
       "    var format_dropdown = fig.format_dropdown;\n",
       "    var format = format_dropdown.options[format_dropdown.selectedIndex].value;\n",
       "    fig.ondownload(fig, format);\n",
       "}\n",
       "\n",
       "\n",
       "mpl.figure.prototype.handle_resize = function(fig, msg) {\n",
       "    var size = msg['size'];\n",
       "    if (size[0] != fig.canvas.width || size[1] != fig.canvas.height) {\n",
       "        fig._resize_canvas(size[0], size[1]);\n",
       "        fig.send_message(\"refresh\", {});\n",
       "    };\n",
       "}\n",
       "\n",
       "mpl.figure.prototype.handle_rubberband = function(fig, msg) {\n",
       "    var x0 = msg['x0'];\n",
       "    var y0 = fig.canvas.height - msg['y0'];\n",
       "    var x1 = msg['x1'];\n",
       "    var y1 = fig.canvas.height - msg['y1'];\n",
       "    x0 = Math.floor(x0) + 0.5;\n",
       "    y0 = Math.floor(y0) + 0.5;\n",
       "    x1 = Math.floor(x1) + 0.5;\n",
       "    y1 = Math.floor(y1) + 0.5;\n",
       "    var min_x = Math.min(x0, x1);\n",
       "    var min_y = Math.min(y0, y1);\n",
       "    var width = Math.abs(x1 - x0);\n",
       "    var height = Math.abs(y1 - y0);\n",
       "\n",
       "    fig.rubberband_context.clearRect(\n",
       "        0, 0, fig.canvas.width, fig.canvas.height);\n",
       "\n",
       "    fig.rubberband_context.strokeRect(min_x, min_y, width, height);\n",
       "}\n",
       "\n",
       "mpl.figure.prototype.handle_figure_label = function(fig, msg) {\n",
       "    // Updates the figure title.\n",
       "    fig.header.textContent = msg['label'];\n",
       "}\n",
       "\n",
       "mpl.figure.prototype.handle_cursor = function(fig, msg) {\n",
       "    var cursor = msg['cursor'];\n",
       "    switch(cursor)\n",
       "    {\n",
       "    case 0:\n",
       "        cursor = 'pointer';\n",
       "        break;\n",
       "    case 1:\n",
       "        cursor = 'default';\n",
       "        break;\n",
       "    case 2:\n",
       "        cursor = 'crosshair';\n",
       "        break;\n",
       "    case 3:\n",
       "        cursor = 'move';\n",
       "        break;\n",
       "    }\n",
       "    fig.rubberband_canvas.style.cursor = cursor;\n",
       "}\n",
       "\n",
       "mpl.figure.prototype.handle_message = function(fig, msg) {\n",
       "    fig.message.textContent = msg['message'];\n",
       "}\n",
       "\n",
       "mpl.figure.prototype.handle_draw = function(fig, msg) {\n",
       "    // Request the server to send over a new figure.\n",
       "    fig.send_draw_message();\n",
       "}\n",
       "\n",
       "mpl.figure.prototype.handle_image_mode = function(fig, msg) {\n",
       "    fig.image_mode = msg['mode'];\n",
       "}\n",
       "\n",
       "mpl.figure.prototype.updated_canvas_event = function() {\n",
       "    // Called whenever the canvas gets updated.\n",
       "    this.send_message(\"ack\", {});\n",
       "}\n",
       "\n",
       "// A function to construct a web socket function for onmessage handling.\n",
       "// Called in the figure constructor.\n",
       "mpl.figure.prototype._make_on_message_function = function(fig) {\n",
       "    return function socket_on_message(evt) {\n",
       "        if (evt.data instanceof Blob) {\n",
       "            /* FIXME: We get \"Resource interpreted as Image but\n",
       "             * transferred with MIME type text/plain:\" errors on\n",
       "             * Chrome.  But how to set the MIME type?  It doesn't seem\n",
       "             * to be part of the websocket stream */\n",
       "            evt.data.type = \"image/png\";\n",
       "\n",
       "            /* Free the memory for the previous frames */\n",
       "            if (fig.imageObj.src) {\n",
       "                (window.URL || window.webkitURL).revokeObjectURL(\n",
       "                    fig.imageObj.src);\n",
       "            }\n",
       "\n",
       "            fig.imageObj.src = (window.URL || window.webkitURL).createObjectURL(\n",
       "                evt.data);\n",
       "            fig.updated_canvas_event();\n",
       "            fig.waiting = false;\n",
       "            return;\n",
       "        }\n",
       "        else if (typeof evt.data === 'string' && evt.data.slice(0, 21) == \"data:image/png;base64\") {\n",
       "            fig.imageObj.src = evt.data;\n",
       "            fig.updated_canvas_event();\n",
       "            fig.waiting = false;\n",
       "            return;\n",
       "        }\n",
       "\n",
       "        var msg = JSON.parse(evt.data);\n",
       "        var msg_type = msg['type'];\n",
       "\n",
       "        // Call the  \"handle_{type}\" callback, which takes\n",
       "        // the figure and JSON message as its only arguments.\n",
       "        try {\n",
       "            var callback = fig[\"handle_\" + msg_type];\n",
       "        } catch (e) {\n",
       "            console.log(\"No handler for the '\" + msg_type + \"' message type: \", msg);\n",
       "            return;\n",
       "        }\n",
       "\n",
       "        if (callback) {\n",
       "            try {\n",
       "                // console.log(\"Handling '\" + msg_type + \"' message: \", msg);\n",
       "                callback(fig, msg);\n",
       "            } catch (e) {\n",
       "                console.log(\"Exception inside the 'handler_\" + msg_type + \"' callback:\", e, e.stack, msg);\n",
       "            }\n",
       "        }\n",
       "    };\n",
       "}\n",
       "\n",
       "// from http://stackoverflow.com/questions/1114465/getting-mouse-location-in-canvas\n",
       "mpl.findpos = function(e) {\n",
       "    //this section is from http://www.quirksmode.org/js/events_properties.html\n",
       "    var targ;\n",
       "    if (!e)\n",
       "        e = window.event;\n",
       "    if (e.target)\n",
       "        targ = e.target;\n",
       "    else if (e.srcElement)\n",
       "        targ = e.srcElement;\n",
       "    if (targ.nodeType == 3) // defeat Safari bug\n",
       "        targ = targ.parentNode;\n",
       "\n",
       "    // jQuery normalizes the pageX and pageY\n",
       "    // pageX,Y are the mouse positions relative to the document\n",
       "    // offset() returns the position of the element relative to the document\n",
       "    var x = e.pageX - $(targ).offset().left;\n",
       "    var y = e.pageY - $(targ).offset().top;\n",
       "\n",
       "    return {\"x\": x, \"y\": y};\n",
       "};\n",
       "\n",
       "/*\n",
       " * return a copy of an object with only non-object keys\n",
       " * we need this to avoid circular references\n",
       " * http://stackoverflow.com/a/24161582/3208463\n",
       " */\n",
       "function simpleKeys (original) {\n",
       "  return Object.keys(original).reduce(function (obj, key) {\n",
       "    if (typeof original[key] !== 'object')\n",
       "        obj[key] = original[key]\n",
       "    return obj;\n",
       "  }, {});\n",
       "}\n",
       "\n",
       "mpl.figure.prototype.mouse_event = function(event, name) {\n",
       "    var canvas_pos = mpl.findpos(event)\n",
       "\n",
       "    if (name === 'button_press')\n",
       "    {\n",
       "        this.canvas.focus();\n",
       "        this.canvas_div.focus();\n",
       "    }\n",
       "\n",
       "    var x = canvas_pos.x;\n",
       "    var y = canvas_pos.y;\n",
       "\n",
       "    this.send_message(name, {x: x, y: y, button: event.button,\n",
       "                             step: event.step,\n",
       "                             guiEvent: simpleKeys(event)});\n",
       "\n",
       "    /* This prevents the web browser from automatically changing to\n",
       "     * the text insertion cursor when the button is pressed.  We want\n",
       "     * to control all of the cursor setting manually through the\n",
       "     * 'cursor' event from matplotlib */\n",
       "    event.preventDefault();\n",
       "    return false;\n",
       "}\n",
       "\n",
       "mpl.figure.prototype._key_event_extra = function(event, name) {\n",
       "    // Handle any extra behaviour associated with a key event\n",
       "}\n",
       "\n",
       "mpl.figure.prototype.key_event = function(event, name) {\n",
       "\n",
       "    // Prevent repeat events\n",
       "    if (name == 'key_press')\n",
       "    {\n",
       "        if (event.which === this._key)\n",
       "            return;\n",
       "        else\n",
       "            this._key = event.which;\n",
       "    }\n",
       "    if (name == 'key_release')\n",
       "        this._key = null;\n",
       "\n",
       "    var value = '';\n",
       "    if (event.ctrlKey && event.which != 17)\n",
       "        value += \"ctrl+\";\n",
       "    if (event.altKey && event.which != 18)\n",
       "        value += \"alt+\";\n",
       "    if (event.shiftKey && event.which != 16)\n",
       "        value += \"shift+\";\n",
       "\n",
       "    value += 'k';\n",
       "    value += event.which.toString();\n",
       "\n",
       "    this._key_event_extra(event, name);\n",
       "\n",
       "    this.send_message(name, {key: value,\n",
       "                             guiEvent: simpleKeys(event)});\n",
       "    return false;\n",
       "}\n",
       "\n",
       "mpl.figure.prototype.toolbar_button_onclick = function(name) {\n",
       "    if (name == 'download') {\n",
       "        this.handle_save(this, null);\n",
       "    } else {\n",
       "        this.send_message(\"toolbar_button\", {name: name});\n",
       "    }\n",
       "};\n",
       "\n",
       "mpl.figure.prototype.toolbar_button_onmouseover = function(tooltip) {\n",
       "    this.message.textContent = tooltip;\n",
       "};\n",
       "mpl.toolbar_items = [[\"Home\", \"Reset original view\", \"fa fa-home icon-home\", \"home\"], [\"Back\", \"Back to  previous view\", \"fa fa-arrow-left icon-arrow-left\", \"back\"], [\"Forward\", \"Forward to next view\", \"fa fa-arrow-right icon-arrow-right\", \"forward\"], [\"\", \"\", \"\", \"\"], [\"Pan\", \"Pan axes with left mouse, zoom with right\", \"fa fa-arrows icon-move\", \"pan\"], [\"Zoom\", \"Zoom to rectangle\", \"fa fa-square-o icon-check-empty\", \"zoom\"], [\"\", \"\", \"\", \"\"], [\"Download\", \"Download plot\", \"fa fa-floppy-o icon-save\", \"download\"]];\n",
       "\n",
       "mpl.extensions = [\"eps\", \"jpeg\", \"pdf\", \"png\", \"ps\", \"raw\", \"svg\", \"tif\"];\n",
       "\n",
       "mpl.default_extension = \"png\";var comm_websocket_adapter = function(comm) {\n",
       "    // Create a \"websocket\"-like object which calls the given IPython comm\n",
       "    // object with the appropriate methods. Currently this is a non binary\n",
       "    // socket, so there is still some room for performance tuning.\n",
       "    var ws = {};\n",
       "\n",
       "    ws.close = function() {\n",
       "        comm.close()\n",
       "    };\n",
       "    ws.send = function(m) {\n",
       "        //console.log('sending', m);\n",
       "        comm.send(m);\n",
       "    };\n",
       "    // Register the callback with on_msg.\n",
       "    comm.on_msg(function(msg) {\n",
       "        //console.log('receiving', msg['content']['data'], msg);\n",
       "        // Pass the mpl event to the overriden (by mpl) onmessage function.\n",
       "        ws.onmessage(msg['content']['data'])\n",
       "    });\n",
       "    return ws;\n",
       "}\n",
       "\n",
       "mpl.mpl_figure_comm = function(comm, msg) {\n",
       "    // This is the function which gets called when the mpl process\n",
       "    // starts-up an IPython Comm through the \"matplotlib\" channel.\n",
       "\n",
       "    var id = msg.content.data.id;\n",
       "    // Get hold of the div created by the display call when the Comm\n",
       "    // socket was opened in Python.\n",
       "    var element = $(\"#\" + id);\n",
       "    var ws_proxy = comm_websocket_adapter(comm)\n",
       "\n",
       "    function ondownload(figure, format) {\n",
       "        window.open(figure.imageObj.src);\n",
       "    }\n",
       "\n",
       "    var fig = new mpl.figure(id, ws_proxy,\n",
       "                           ondownload,\n",
       "                           element.get(0));\n",
       "\n",
       "    // Call onopen now - mpl needs it, as it is assuming we've passed it a real\n",
       "    // web socket which is closed, not our websocket->open comm proxy.\n",
       "    ws_proxy.onopen();\n",
       "\n",
       "    fig.parent_element = element.get(0);\n",
       "    fig.cell_info = mpl.find_output_cell(\"<div id='\" + id + \"'></div>\");\n",
       "    if (!fig.cell_info) {\n",
       "        console.error(\"Failed to find cell for figure\", id, fig);\n",
       "        return;\n",
       "    }\n",
       "\n",
       "    var output_index = fig.cell_info[2]\n",
       "    var cell = fig.cell_info[0];\n",
       "\n",
       "};\n",
       "\n",
       "mpl.figure.prototype.handle_close = function(fig, msg) {\n",
       "    fig.root.unbind('remove')\n",
       "\n",
       "    // Update the output cell to use the data from the current canvas.\n",
       "    fig.push_to_output();\n",
       "    var dataURL = fig.canvas.toDataURL();\n",
       "    // Re-enable the keyboard manager in IPython - without this line, in FF,\n",
       "    // the notebook keyboard shortcuts fail.\n",
       "    IPython.keyboard_manager.enable()\n",
       "    $(fig.parent_element).html('<img src=\"' + dataURL + '\">');\n",
       "    fig.close_ws(fig, msg);\n",
       "}\n",
       "\n",
       "mpl.figure.prototype.close_ws = function(fig, msg){\n",
       "    fig.send_message('closing', msg);\n",
       "    // fig.ws.close()\n",
       "}\n",
       "\n",
       "mpl.figure.prototype.push_to_output = function(remove_interactive) {\n",
       "    // Turn the data on the canvas into data in the output cell.\n",
       "    var dataURL = this.canvas.toDataURL();\n",
       "    this.cell_info[1]['text/html'] = '<img src=\"' + dataURL + '\">';\n",
       "}\n",
       "\n",
       "mpl.figure.prototype.updated_canvas_event = function() {\n",
       "    // Tell IPython that the notebook contents must change.\n",
       "    IPython.notebook.set_dirty(true);\n",
       "    this.send_message(\"ack\", {});\n",
       "    var fig = this;\n",
       "    // Wait a second, then push the new image to the DOM so\n",
       "    // that it is saved nicely (might be nice to debounce this).\n",
       "    setTimeout(function () { fig.push_to_output() }, 1000);\n",
       "}\n",
       "\n",
       "mpl.figure.prototype._init_toolbar = function() {\n",
       "    var fig = this;\n",
       "\n",
       "    var nav_element = $('<div/>')\n",
       "    nav_element.attr('style', 'width: 100%');\n",
       "    this.root.append(nav_element);\n",
       "\n",
       "    // Define a callback function for later on.\n",
       "    function toolbar_event(event) {\n",
       "        return fig.toolbar_button_onclick(event['data']);\n",
       "    }\n",
       "    function toolbar_mouse_event(event) {\n",
       "        return fig.toolbar_button_onmouseover(event['data']);\n",
       "    }\n",
       "\n",
       "    for(var toolbar_ind in mpl.toolbar_items){\n",
       "        var name = mpl.toolbar_items[toolbar_ind][0];\n",
       "        var tooltip = mpl.toolbar_items[toolbar_ind][1];\n",
       "        var image = mpl.toolbar_items[toolbar_ind][2];\n",
       "        var method_name = mpl.toolbar_items[toolbar_ind][3];\n",
       "\n",
       "        if (!name) { continue; };\n",
       "\n",
       "        var button = $('<button class=\"btn btn-default\" href=\"#\" title=\"' + name + '\"><i class=\"fa ' + image + ' fa-lg\"></i></button>');\n",
       "        button.click(method_name, toolbar_event);\n",
       "        button.mouseover(tooltip, toolbar_mouse_event);\n",
       "        nav_element.append(button);\n",
       "    }\n",
       "\n",
       "    // Add the status bar.\n",
       "    var status_bar = $('<span class=\"mpl-message\" style=\"text-align:right; float: right;\"/>');\n",
       "    nav_element.append(status_bar);\n",
       "    this.message = status_bar[0];\n",
       "\n",
       "    // Add the close button to the window.\n",
       "    var buttongrp = $('<div class=\"btn-group inline pull-right\"></div>');\n",
       "    var button = $('<button class=\"btn btn-mini btn-primary\" href=\"#\" title=\"Stop Interaction\"><i class=\"fa fa-power-off icon-remove icon-large\"></i></button>');\n",
       "    button.click(function (evt) { fig.handle_close(fig, {}); } );\n",
       "    button.mouseover('Stop Interaction', toolbar_mouse_event);\n",
       "    buttongrp.append(button);\n",
       "    var titlebar = this.root.find($('.ui-dialog-titlebar'));\n",
       "    titlebar.prepend(buttongrp);\n",
       "}\n",
       "\n",
       "mpl.figure.prototype._root_extra_style = function(el){\n",
       "    var fig = this\n",
       "    el.on(\"remove\", function(){\n",
       "\tfig.close_ws(fig, {});\n",
       "    });\n",
       "}\n",
       "\n",
       "mpl.figure.prototype._canvas_extra_style = function(el){\n",
       "    // this is important to make the div 'focusable\n",
       "    el.attr('tabindex', 0)\n",
       "    // reach out to IPython and tell the keyboard manager to turn it's self\n",
       "    // off when our div gets focus\n",
       "\n",
       "    // location in version 3\n",
       "    if (IPython.notebook.keyboard_manager) {\n",
       "        IPython.notebook.keyboard_manager.register_events(el);\n",
       "    }\n",
       "    else {\n",
       "        // location in version 2\n",
       "        IPython.keyboard_manager.register_events(el);\n",
       "    }\n",
       "\n",
       "}\n",
       "\n",
       "mpl.figure.prototype._key_event_extra = function(event, name) {\n",
       "    var manager = IPython.notebook.keyboard_manager;\n",
       "    if (!manager)\n",
       "        manager = IPython.keyboard_manager;\n",
       "\n",
       "    // Check for shift+enter\n",
       "    if (event.shiftKey && event.which == 13) {\n",
       "        this.canvas_div.blur();\n",
       "        event.shiftKey = false;\n",
       "        // Send a \"J\" for go to next cell\n",
       "        event.which = 74;\n",
       "        event.keyCode = 74;\n",
       "        manager.command_mode();\n",
       "        manager.handle_keydown(event);\n",
       "    }\n",
       "}\n",
       "\n",
       "mpl.figure.prototype.handle_save = function(fig, msg) {\n",
       "    fig.ondownload(fig, null);\n",
       "}\n",
       "\n",
       "\n",
       "mpl.find_output_cell = function(html_output) {\n",
       "    // Return the cell and output element which can be found *uniquely* in the notebook.\n",
       "    // Note - this is a bit hacky, but it is done because the \"notebook_saving.Notebook\"\n",
       "    // IPython event is triggered only after the cells have been serialised, which for\n",
       "    // our purposes (turning an active figure into a static one), is too late.\n",
       "    var cells = IPython.notebook.get_cells();\n",
       "    var ncells = cells.length;\n",
       "    for (var i=0; i<ncells; i++) {\n",
       "        var cell = cells[i];\n",
       "        if (cell.cell_type === 'code'){\n",
       "            for (var j=0; j<cell.output_area.outputs.length; j++) {\n",
       "                var data = cell.output_area.outputs[j];\n",
       "                if (data.data) {\n",
       "                    // IPython >= 3 moved mimebundle to data attribute of output\n",
       "                    data = data.data;\n",
       "                }\n",
       "                if (data['text/html'] == html_output) {\n",
       "                    return [cell, data, j];\n",
       "                }\n",
       "            }\n",
       "        }\n",
       "    }\n",
       "}\n",
       "\n",
       "// Register the function which deals with the matplotlib target/channel.\n",
       "// The kernel may be null if the page has been refreshed.\n",
       "if (IPython.notebook.kernel != null) {\n",
       "    IPython.notebook.kernel.comm_manager.register_target('matplotlib', mpl.mpl_figure_comm);\n",
       "}\n"
      ],
      "text/plain": [
       "<IPython.core.display.Javascript object>"
      ]
     },
     "metadata": {},
     "output_type": "display_data"
    },
    {
     "data": {
      "text/html": [
       "<img src=\"data:image/png;base64,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\">"
      ],
      "text/plain": [
       "<IPython.core.display.HTML object>"
      ]
     },
     "metadata": {},
     "output_type": "display_data"
    }
   ],
   "source": [
    "barwidth = 0.75; \n",
    "fig, ax = plt.subplots(figsize=(9, 7));\n",
    "rects1 = ax.bar(0.5,ACCanalysis.LowC.mean(),barwidth,yerr=ACCstderror.LowC,ecolor='k',edgecolor=sns.xkcd_rgb['green'],linewidth = 2, facecolor='none',error_kw=dict(lw=3),label='Congruent');\n",
    "rects2 = ax.bar(1.5,ACCanalysis.LowIC.mean(),barwidth,color=sns.xkcd_rgb['green'],yerr=ACCstderror.LowIC,ecolor='k',error_kw=dict(lw=3),label='Incongruent');\n",
    "rects3 = ax.bar(3,ACCanalysis.HighC.mean(),barwidth,yerr=ACCstderror.HighC,ecolor='k',edgecolor=(0.3,0.9,0.3),linewidth = 2, facecolor='none',error_kw=dict(lw=3));\n",
    "rects4 = ax.bar(4,ACCanalysis.HighIC.mean(),barwidth,color=(0.3,0.9,0.3),yerr=ACCstderror.HighIC,ecolor='k',error_kw=dict(lw=3));\n",
    "ax.set_ylim(0.65,1.01);\n",
    "ax.set_xlim(0,6);\n",
    "ax.set_xticklabels(('Low', 'High'));\n",
    "ax.set_xticks([1 + barwidth/2, 3.5 + barwidth/2]);\n",
    "ax.set_yticks(np.arange(0.65, 1.01, 0.05));\n",
    "plt.legend([rects1,rects2], ['Congruent','Incongruent'], loc='upper right',fontsize=18,title='Trial Type')\n",
    "plt.legend(title='Trial Type',fontsize=19)\n",
    "plt.title('S-C Accuracy Cueing Effect', fontsize=26,fontweight=\"bold\")\n",
    "plt.ylabel('Accuracy (Proportion Correct)', fontsize=24,fontweight=\"bold\")\n",
    "plt.xlabel('S2 Control-Demand Cue', fontsize=24,fontweight=\"bold\")\n",
    "sns.despine();\n",
    "\n",
    "plt.show()"
   ]
  },
  {
   "cell_type": "markdown",
   "metadata": {},
   "source": [
    "# Making CSV Copies of the Data"
   ]
  },
  {
   "cell_type": "markdown",
   "metadata": {},
   "source": [
    "If you like handling the data yourself, these CSVs organize the data by the relevant variables."
   ]
  },
  {
   "cell_type": "code",
   "execution_count": 22,
   "metadata": {},
   "outputs": [
    {
     "name": "stdout",
     "output_type": "stream",
     "text": [
      "C:\\Users\\cb383\\Documents\\controltransfer\\expt2\\data\\csvdata\n"
     ]
    }
   ],
   "source": [
    "%cd 'csvdata'"
   ]
  },
  {
   "cell_type": "code",
   "execution_count": 23,
   "metadata": {
    "collapsed": true
   },
   "outputs": [],
   "source": [
    "subrunmeans = cdat.groupby(['subject','RunCounter','ContextCong'])['RT'].mean()\n",
    "subrtmeans = cdat.groupby(['subject', 'ContextCong'])['RT'].mean()\n",
    "subrunmedians = cdat.groupby(['subject','RunCounter','ContextCong'])['RT'].median()\n",
    "subrtmedians = cdat.groupby(['subject', 'ContextCong'])['RT'].median()\n",
    "\n",
    "subrunmeans.to_csv('SC_RTsubrunmeans_subRunTTContext.csv')\n",
    "subrunmedians.to_csv('SC_RTsubrunmedians_subRunTTContext.csv')\n",
    "subrtmeans.to_csv('SC_RTmeansallsubs_subTTContext.csv')\n",
    "subrtmedians.to_csv('SC_RTmediansallsubs_subTTContext.csv')\n",
    "\n",
    "accmeans = adat.groupby(['subject', 'ContextCong'])['Accuracy'].mean()\n",
    "subaccmeans = adat.groupby(['subject','RunCounter', 'ContextCong'])['Accuracy'].mean()\n",
    "\n",
    "accmeans.to_csv('SC_ACCmeans_subTTContext.csv')\n",
    "subaccmeans.to_csv('SC_ACCsubmeans_subrunTTContext.csv')"
   ]
  },
  {
   "cell_type": "markdown",
   "metadata": {},
   "source": [
    "## Running ANOVAs in R"
   ]
  },
  {
   "cell_type": "code",
   "execution_count": 90,
   "metadata": {
    "collapsed": true
   },
   "outputs": [],
   "source": [
    "#note: subs 20 & 22 have a missing cell for RT on run 1 because those subs got all the trials incorrect\n",
    "#note: because of these missing cells, I chose to report the SPSS results for this particular analysis\n",
    "\n",
    "#######################################################################################################\n",
    "\n",
    "#AN_sub_RTmeans = cdat.loc[cdat['subject'] != 22 && cdat['subject'] != 20].groupby(['subject','RunCounter','DemandCue','TrialType'])['RT'].mean();\n",
    "AN_sub_RTmeans = cdat.groupby(['subject','RunCounter','DemandCue','TrialType'])['RT'].mean();\n",
    "AN_sub_ACCmeans = adat.groupby(['subject','RunCounter','DemandCue','TrialType'])['Accuracy'].mean();\n",
    "\n",
    "#create tidy data csvs\n",
    "AN_sub_RTmeans.to_csv('SC_ANOVA_RT.csv')\n",
    "AN_sub_ACCmeans.to_csv('SC_ANOVA_ACC.csv')\n",
    "\n",
    "#create headers for the tidy data csvs, for analysis purposes\n",
    "import csv\n",
    "with open('SC_ANOVA_RT.csv',newline='') as f:\n",
    "    r = csv.reader(f)\n",
    "    data = [line for line in r]\n",
    "with open('SC_ANOVA_RT.csv','w',newline='') as f:\n",
    "    w = csv.writer(f)\n",
    "    w.writerow([\"subject\", \"run\", \"context\", \"trialtype\", \"rt\"])\n",
    "    w.writerows(data)\n",
    "\n",
    "with open('SC_ANOVA_ACC.csv',newline='') as f:\n",
    "    r = csv.reader(f)\n",
    "    data = [line for line in r]\n",
    "with open('SC_ANOVA_ACC.csv','w',newline='') as f:\n",
    "    w = csv.writer(f)\n",
    "    w.writerow([\"subject\", \"run\", \"context\", \"trialtype\", \"acc\"])\n",
    "    w.writerows(data)"
   ]
  },
  {
   "cell_type": "code",
   "execution_count": 91,
   "metadata": {},
   "outputs": [
    {
     "name": "stdout",
     "output_type": "stream",
     "text": [
      "Overwriting SCAnova.R\n"
     ]
    }
   ],
   "source": [
    "%%writefile SCAnova.R\n",
    "\n",
    "rawRTData <- read.csv('SC_ANOVA_RT.csv')\n",
    "install.packages(\"psych\",repos='https://mirrors.nics.utk.edu/cran/')\n",
    "install.packages(\"ez\",repos='https://mirrors.nics.utk.edu/cran/')\n",
    "library(psych)\n",
    "library(ez)\n",
    "\n",
    "rawRTData$subject = as.factor(rawRTData$subject)\n",
    "rawRTData$run = as.factor(rawRTData$run)\n",
    "rawRTData$context = as.factor(rawRTData$context)\n",
    "rawRTData$trialtype = as.factor(rawRTData$trialtype)\n",
    "\n",
    "summary(aov(rt ~ run * context * trialtype + Error(subject/(run + context + trialtype)), data = rawRTData))\n",
    "\n",
    "#ez ANOVA doesn't work with missing cells\n",
    "#SC_RT_runANOVA <- ezANOVA(data=as.data.frame(rawRTData),\n",
    "#                                  dv=rt,\n",
    "#                                  wid=subject,\n",
    "#                                  within=.(run, context, trialtype),\n",
    "#                                  detailed=TRUE)\n",
    "#print(SC_RT_runANOVA)\n",
    "\n",
    "rawACCData <- read.csv('SC_ANOVA_ACC.csv')\n",
    "\n",
    "rawACCData$subject = as.factor(rawACCData$subject)\n",
    "rawACCData$run = as.factor(rawACCData$run)\n",
    "rawACCData$context = as.factor(rawACCData$context)\n",
    "rawACCData$trialtype = as.factor(rawACCData$trialtype)\n",
    "\n",
    "SC_ACC_runANOVA <- ezANOVA(data=as.data.frame(rawACCData),\n",
    "                                  dv=acc,\n",
    "                                  wid=subject,\n",
    "                                  within=.(run, context, trialtype),\n",
    "                                  detailed=TRUE)\n",
    "print(SC_ACC_runANOVA)"
   ]
  },
  {
   "cell_type": "code",
   "execution_count": 92,
   "metadata": {},
   "outputs": [
    {
     "name": "stdout",
     "output_type": "stream",
     "text": [
      "package 'psych' successfully unpacked and MD5 sums checked\n",
      "\n",
      "The downloaded binary packages are in\n",
      "\tC:\\Users\\cb383\\AppData\\Local\\Temp\\Rtmpcvwlvf\\downloaded_packages\n",
      "package 'ez' successfully unpacked and MD5 sums checked\n",
      "\n",
      "The downloaded binary packages are in\n",
      "\tC:\\Users\\cb383\\AppData\\Local\\Temp\\Rtmpcvwlvf\\downloaded_packages\n",
      "\n",
      "Error: subject\n",
      "          Df  Sum Sq Mean Sq F value Pr(>F)\n",
      "run        1   14082   14082   0.406  0.526\n",
      "Residuals 71 2465423   34724               \n",
      "\n",
      "Error: subject:run\n",
      "           Df Sum Sq Mean Sq F value Pr(>F)    \n",
      "run         3   2450     817   0.342 0.7950    \n",
      "context     1  30887   30887  12.933 0.0004 ***\n",
      "Residuals 215 513451    2388                   \n",
      "---\n",
      "Signif. codes:  0 '***' 0.001 '**' 0.01 '*' 0.05 '.' 0.1 ' ' 1\n",
      "\n",
      "Error: subject:context\n",
      "          Df Sum Sq Mean Sq F value Pr(>F)\n",
      "context    1   1591    1591   1.187  0.280\n",
      "trialtype  1    591     591   0.441  0.509\n",
      "Residuals 71  95125    1340               \n",
      "\n",
      "Error: subject:trialtype\n",
      "            Df  Sum Sq Mean Sq F value Pr(>F)    \n",
      "trialtype    1 1382356 1382356 342.643 <2e-16 ***\n",
      "run:context  1     376     376   0.093  0.761    \n",
      "Residuals   71  286442    4034                   \n",
      "---\n",
      "Signif. codes:  0 '***' 0.001 '**' 0.01 '*' 0.05 '.' 0.1 ' ' 1\n",
      "\n",
      "Error: Within\n",
      "                       Df Sum Sq Mean Sq F value Pr(>F)\n",
      "run:context             3   2696   898.7   0.801  0.493\n",
      "run:trialtype           3   4104  1368.2   1.220  0.302\n",
      "context:trialtype       1     48    48.1   0.043  0.836\n",
      "run:context:trialtype   3   5205  1734.9   1.547  0.201\n",
      "Residuals             719 806564  1121.8               \n",
      "$ANOVA\n",
      "                 Effect DFn DFd          SSn       SSd            F\n",
      "1           (Intercept)   1  72 9.376696e+02 3.9112268 1.726113e+04\n",
      "2                   run   3 216 6.966174e-01 3.3188934 1.511240e+01\n",
      "3               context   1  72 8.001493e-04 0.6369683 9.044524e-02\n",
      "4             trialtype   1  72 1.441549e+00 1.2336441 8.413408e+01\n",
      "5           run:context   3 216 5.593748e-02 1.5119167 2.663836e+00\n",
      "6         run:trialtype   3 216 1.010104e-01 2.0471109 3.552689e+00\n",
      "7     context:trialtype   1  72 3.483598e-03 0.5890207 4.258238e-01\n",
      "8 run:context:trialtype   3 216 5.983215e-02 1.4964422 2.878771e+00\n",
      "             p p<.05          ges\n",
      "1 1.725994e-87     * 9.845181e-01\n",
      "2 5.791189e-09     * 4.511233e-02\n",
      "3 7.644786e-01       5.426204e-05\n",
      "4 9.981418e-14     * 8.905721e-02\n",
      "5 4.887919e-02     * 3.779263e-03\n",
      "6 1.526158e-02     * 6.803772e-03\n",
      "7 5.161234e-01       2.361968e-04\n",
      "8 3.693892e-02     * 4.041332e-03\n",
      "\n",
      "$`Mauchly's Test for Sphericity`\n",
      "                 Effect         W            p p<.05\n",
      "2                   run 0.4389959 2.864624e-11     *\n",
      "5           run:context 0.9769338 8.951004e-01      \n",
      "6         run:trialtype 0.7983935 7.073773e-03     *\n",
      "8 run:context:trialtype 0.8275056 1.999691e-02     *\n",
      "\n",
      "$`Sphericity Corrections`\n",
      "                 Effect       GGe        p[GG] p[GG]<.05       HFe        p[HF]\n",
      "2                   run 0.6348867 1.822515e-06         * 0.6516847 1.396858e-06\n",
      "5           run:context 0.9846860 4.978970e-02         * 1.0314207 4.887919e-02\n",
      "6         run:trialtype 0.8662708 2.030157e-02         * 0.9015854 1.882433e-02\n",
      "8 run:context:trialtype 0.8966933 4.279010e-02         * 0.9348148 4.052728e-02\n",
      "  p[HF]<.05\n",
      "2         *\n",
      "5         *\n",
      "6         *\n",
      "8         *\n",
      "\n"
     ]
    },
    {
     "name": "stderr",
     "output_type": "stream",
     "text": [
      "trying URL 'https://mirrors.nics.utk.edu/cran/bin/windows/contrib/3.3/psych_1.7.5.zip'\n",
      "Content type 'application/zip' length 3967128 bytes (3.8 MB)\n",
      "==================================================\n",
      "downloaded 3.8 MB\n",
      "\n",
      "trying URL 'https://mirrors.nics.utk.edu/cran/bin/windows/contrib/3.3/ez_4.4-0.zip'\n",
      "Content type 'application/zip' length 304757 bytes (297 KB)\n",
      "==================================================\n",
      "downloaded 297 KB\n",
      "\n",
      "Warning message:\n",
      "package 'psych' was built under R version 3.3.3 \n",
      "Warning message:\n",
      "package 'ez' was built under R version 3.3.3 \n"
     ]
    }
   ],
   "source": [
    "! Rscript SCAnova.R"
   ]
  },
  {
   "cell_type": "markdown",
   "metadata": {},
   "source": [
    "# Making 95% Confidence Intervals"
   ]
  },
  {
   "cell_type": "code",
   "execution_count": 27,
   "metadata": {},
   "outputs": [
    {
     "data": {
      "text/plain": [
       "(629.20262437588724, 651.48601231030682)"
      ]
     },
     "execution_count": 27,
     "metadata": {},
     "output_type": "execute_result"
    }
   ],
   "source": [
    "import statsmodels.stats.api as sms\n",
    "\n",
    "a = RTanalysis.LowC.mean()\n",
    "sms.DescrStatsW(RTanalysis.LowC).tconfint_mean()\n",
    "#a"
   ]
  },
  {
   "cell_type": "code",
   "execution_count": 28,
   "metadata": {},
   "outputs": [
    {
     "data": {
      "text/plain": [
       "(697.06490333731642, 721.61799049892772)"
      ]
     },
     "execution_count": 28,
     "metadata": {},
     "output_type": "execute_result"
    }
   ],
   "source": [
    "a = RTanalysis.LowIC.mean()\n",
    "sms.DescrStatsW(RTanalysis.LowIC).tconfint_mean()\n",
    "#a"
   ]
  },
  {
   "cell_type": "code",
   "execution_count": 29,
   "metadata": {},
   "outputs": [
    {
     "data": {
      "text/plain": [
       "(626.4324470355964, 650.33447987078171)"
      ]
     },
     "execution_count": 29,
     "metadata": {},
     "output_type": "execute_result"
    }
   ],
   "source": [
    "a = RTanalysis.HighC.mean()\n",
    "sms.DescrStatsW(RTanalysis.HighC).tconfint_mean()\n",
    "#a"
   ]
  },
  {
   "cell_type": "code",
   "execution_count": 30,
   "metadata": {},
   "outputs": [
    {
     "data": {
      "text/plain": [
       "(694.20454739937884, 717.83861793693961)"
      ]
     },
     "execution_count": 30,
     "metadata": {},
     "output_type": "execute_result"
    }
   ],
   "source": [
    "a = RTanalysis.HighIC.mean()\n",
    "sms.DescrStatsW(RTanalysis.HighIC).tconfint_mean()\n",
    "#a"
   ]
  },
  {
   "cell_type": "code",
   "execution_count": 31,
   "metadata": {},
   "outputs": [
    {
     "data": {
      "text/plain": [
       "(627.78535191509468, 655.28365052500362)"
      ]
     },
     "execution_count": 31,
     "metadata": {},
     "output_type": "execute_result"
    }
   ],
   "source": [
    "a = RTrunanalysis.loc[RTrunanalysis['Run'] == 0].LowC.mean()\n",
    "sms.DescrStatsW(RTrunanalysis.loc[RTrunanalysis['Run'] == 0].LowC).tconfint_mean()\n",
    "#a"
   ]
  },
  {
   "cell_type": "code",
   "execution_count": 32,
   "metadata": {},
   "outputs": [
    {
     "data": {
      "text/plain": [
       "691.379611544136"
      ]
     },
     "execution_count": 32,
     "metadata": {},
     "output_type": "execute_result"
    }
   ],
   "source": [
    "a = RTrunanalysis.loc[RTrunanalysis['Run'] == 0].LowIC.mean()\n",
    "#sms.DescrStatsW(RTrunanalysis.loc[RTrunanalysis['Run'] == 0].LowIC).tconfint_mean()\n",
    "#again, one subject did poorly on run 1, for low incongruent trials, i.e., has a blank for this TT, so I'm recalculating...\n",
    "b = RTrunanalysis.loc[RTrunanalysis['Run'] == 0].LowIC.std()\n",
    "stderror = b / n;\n",
    "CI = stderror * 1.96;\n",
    "UCI = a + CI;\n",
    "LCI = a - CI;\n",
    "LCI\n",
    "#a"
   ]
  },
  {
   "cell_type": "code",
   "execution_count": 33,
   "metadata": {},
   "outputs": [
    {
     "data": {
      "text/plain": [
       "(627.35482524930956, 659.60003450281022)"
      ]
     },
     "execution_count": 33,
     "metadata": {},
     "output_type": "execute_result"
    }
   ],
   "source": [
    "a = RTrunanalysis.loc[RTrunanalysis['Run'] == 0].HighC.mean()\n",
    "sms.DescrStatsW(RTrunanalysis.loc[RTrunanalysis['Run'] == 0].HighC).tconfint_mean()\n",
    "#a"
   ]
  },
  {
   "cell_type": "code",
   "execution_count": 34,
   "metadata": {},
   "outputs": [
    {
     "data": {
      "text/plain": [
       "(696.62276823582374, 723.76842775642831)"
      ]
     },
     "execution_count": 34,
     "metadata": {},
     "output_type": "execute_result"
    }
   ],
   "source": [
    "a = RTrunanalysis.loc[RTrunanalysis['Run'] == 0].HighIC.mean()\n",
    "sms.DescrStatsW(RTrunanalysis.loc[RTrunanalysis['Run'] == 0].HighIC).tconfint_mean()\n",
    "#a"
   ]
  },
  {
   "cell_type": "code",
   "execution_count": 35,
   "metadata": {},
   "outputs": [
    {
     "data": {
      "text/plain": [
       "(628.96119431903435, 652.05651714900182)"
      ]
     },
     "execution_count": 35,
     "metadata": {},
     "output_type": "execute_result"
    }
   ],
   "source": [
    "a = RTrunanalysis.loc[RTrunanalysis['Run'] == 1].LowC.mean()\n",
    "sms.DescrStatsW(RTrunanalysis.loc[RTrunanalysis['Run'] == 1].LowC).tconfint_mean()\n",
    "#a"
   ]
  },
  {
   "cell_type": "code",
   "execution_count": 36,
   "metadata": {},
   "outputs": [
    {
     "data": {
      "text/plain": [
       "(691.97440630045094, 723.37060348428486)"
      ]
     },
     "execution_count": 36,
     "metadata": {},
     "output_type": "execute_result"
    }
   ],
   "source": [
    "a = RTrunanalysis.loc[RTrunanalysis['Run'] == 1].LowIC.mean()\n",
    "sms.DescrStatsW(RTrunanalysis.loc[RTrunanalysis['Run'] == 1].LowIC).tconfint_mean()\n",
    "#a"
   ]
  },
  {
   "cell_type": "code",
   "execution_count": 37,
   "metadata": {},
   "outputs": [
    {
     "data": {
      "text/plain": [
       "(625.71603455600598, 657.40865559402687)"
      ]
     },
     "execution_count": 37,
     "metadata": {},
     "output_type": "execute_result"
    }
   ],
   "source": [
    "a = RTrunanalysis.loc[RTrunanalysis['Run'] == 1].HighC.mean()\n",
    "sms.DescrStatsW(RTrunanalysis.loc[RTrunanalysis['Run'] == 1].HighC).tconfint_mean()\n",
    "#a"
   ]
  },
  {
   "cell_type": "code",
   "execution_count": 38,
   "metadata": {},
   "outputs": [
    {
     "data": {
      "text/plain": [
       "(689.90959838436254, 716.41362566934492)"
      ]
     },
     "execution_count": 38,
     "metadata": {},
     "output_type": "execute_result"
    }
   ],
   "source": [
    "a = RTrunanalysis.loc[RTrunanalysis['Run'] == 1].HighIC.mean()\n",
    "sms.DescrStatsW(RTrunanalysis.loc[RTrunanalysis['Run'] == 1].HighIC).tconfint_mean()\n",
    "#a"
   ]
  },
  {
   "cell_type": "code",
   "execution_count": 39,
   "metadata": {},
   "outputs": [
    {
     "data": {
      "text/plain": [
       "(626.70653880708005, 651.66963727116172)"
      ]
     },
     "execution_count": 39,
     "metadata": {},
     "output_type": "execute_result"
    }
   ],
   "source": [
    "a = RTrunanalysis.loc[RTrunanalysis['Run'] == 2].LowC.mean()\n",
    "sms.DescrStatsW(RTrunanalysis.loc[RTrunanalysis['Run'] == 2].LowC).tconfint_mean()\n",
    "#a"
   ]
  },
  {
   "cell_type": "code",
   "execution_count": 40,
   "metadata": {},
   "outputs": [
    {
     "data": {
      "text/plain": [
       "(692.5146047379568, 722.11435808004705)"
      ]
     },
     "execution_count": 40,
     "metadata": {},
     "output_type": "execute_result"
    }
   ],
   "source": [
    "a = RTrunanalysis.loc[RTrunanalysis['Run'] == 2].LowIC.mean()\n",
    "sms.DescrStatsW(RTrunanalysis.loc[RTrunanalysis['Run'] == 2].LowIC).tconfint_mean()\n",
    "#a"
   ]
  },
  {
   "cell_type": "code",
   "execution_count": 41,
   "metadata": {},
   "outputs": [
    {
     "data": {
      "text/plain": [
       "(615.3166278009337, 643.24403756110155)"
      ]
     },
     "execution_count": 41,
     "metadata": {},
     "output_type": "execute_result"
    }
   ],
   "source": [
    "a = RTrunanalysis.loc[RTrunanalysis['Run'] == 2].HighC.mean()\n",
    "sms.DescrStatsW(RTrunanalysis.loc[RTrunanalysis['Run'] == 2].HighC).tconfint_mean()\n",
    "#a"
   ]
  },
  {
   "cell_type": "code",
   "execution_count": 42,
   "metadata": {},
   "outputs": [
    {
     "data": {
      "text/plain": [
       "(697.53294905932796, 721.7865635738591)"
      ]
     },
     "execution_count": 42,
     "metadata": {},
     "output_type": "execute_result"
    }
   ],
   "source": [
    "a = RTrunanalysis.loc[RTrunanalysis['Run'] == 2].HighIC.mean()\n",
    "sms.DescrStatsW(RTrunanalysis.loc[RTrunanalysis['Run'] == 2].HighIC).tconfint_mean()\n",
    "#a"
   ]
  },
  {
   "cell_type": "code",
   "execution_count": 43,
   "metadata": {},
   "outputs": [
    {
     "data": {
      "text/plain": [
       "(627.36363039364085, 651.61749357760493)"
      ]
     },
     "execution_count": 43,
     "metadata": {},
     "output_type": "execute_result"
    }
   ],
   "source": [
    "a = RTrunanalysis.loc[RTrunanalysis['Run'] == 3].LowC.mean()\n",
    "sms.DescrStatsW(RTrunanalysis.loc[RTrunanalysis['Run'] == 3].LowC).tconfint_mean()\n",
    "#a"
   ]
  },
  {
   "cell_type": "code",
   "execution_count": 44,
   "metadata": {},
   "outputs": [
    {
     "data": {
      "text/plain": [
       "(698.72595687956857, 730.8709120049715)"
      ]
     },
     "execution_count": 44,
     "metadata": {},
     "output_type": "execute_result"
    }
   ],
   "source": [
    "a = RTrunanalysis.loc[RTrunanalysis['Run'] == 3].LowIC.mean()\n",
    "sms.DescrStatsW(RTrunanalysis.loc[RTrunanalysis['Run'] == 3].LowIC).tconfint_mean()\n",
    "#a"
   ]
  },
  {
   "cell_type": "code",
   "execution_count": 45,
   "metadata": {},
   "outputs": [
    {
     "data": {
      "text/plain": [
       "(624.64383458567465, 652.32387578614532)"
      ]
     },
     "execution_count": 45,
     "metadata": {},
     "output_type": "execute_result"
    }
   ],
   "source": [
    "a = RTrunanalysis.loc[RTrunanalysis['Run'] == 3].HighC.mean()\n",
    "sms.DescrStatsW(RTrunanalysis.loc[RTrunanalysis['Run'] == 3].HighC).tconfint_mean()\n",
    "#a"
   ]
  },
  {
   "cell_type": "code",
   "execution_count": 46,
   "metadata": {},
   "outputs": [
    {
     "data": {
      "text/plain": [
       "(690.29548581139647, 716.6408697387551)"
      ]
     },
     "execution_count": 46,
     "metadata": {},
     "output_type": "execute_result"
    }
   ],
   "source": [
    "a = RTrunanalysis.loc[RTrunanalysis['Run'] == 3].HighIC.mean()\n",
    "sms.DescrStatsW(RTrunanalysis.loc[RTrunanalysis['Run'] == 3].HighIC).tconfint_mean()\n",
    "#a"
   ]
  },
  {
   "cell_type": "markdown",
   "metadata": {},
   "source": [
    "And for Accuracy..."
   ]
  },
  {
   "cell_type": "code",
   "execution_count": 47,
   "metadata": {},
   "outputs": [
    {
     "data": {
      "text/plain": [
       "(0.91892969946912317, 0.94512555347014993)"
      ]
     },
     "execution_count": 47,
     "metadata": {},
     "output_type": "execute_result"
    }
   ],
   "source": [
    "a = ACCanalysis.LowC.mean()\n",
    "sms.DescrStatsW(ACCanalysis.LowC).tconfint_mean()\n",
    "#a"
   ]
  },
  {
   "cell_type": "code",
   "execution_count": 48,
   "metadata": {},
   "outputs": [
    {
     "data": {
      "text/plain": [
       "(0.83683736046033952, 0.87977222858075643)"
      ]
     },
     "execution_count": 48,
     "metadata": {},
     "output_type": "execute_result"
    }
   ],
   "source": [
    "a = ACCanalysis.LowIC.mean()\n",
    "sms.DescrStatsW(ACCanalysis.LowIC).tconfint_mean()\n",
    "#a"
   ]
  },
  {
   "cell_type": "code",
   "execution_count": 49,
   "metadata": {},
   "outputs": [
    {
     "data": {
      "text/plain": [
       "(0.9125074007977142, 0.94793780468173783)"
      ]
     },
     "execution_count": 49,
     "metadata": {},
     "output_type": "execute_result"
    }
   ],
   "source": [
    "a = ACCanalysis.HighC.mean()\n",
    "sms.DescrStatsW(ACCanalysis.HighC).tconfint_mean()\n",
    "#a"
   ]
  },
  {
   "cell_type": "code",
   "execution_count": 50,
   "metadata": {},
   "outputs": [
    {
     "data": {
      "text/plain": [
       "(0.84736376475294317, 0.8794810335428177)"
      ]
     },
     "execution_count": 50,
     "metadata": {},
     "output_type": "execute_result"
    }
   ],
   "source": [
    "a = ACCanalysis.HighIC.mean()\n",
    "sms.DescrStatsW(ACCanalysis.HighIC).tconfint_mean()\n",
    "#a"
   ]
  },
  {
   "cell_type": "code",
   "execution_count": 51,
   "metadata": {},
   "outputs": [
    {
     "data": {
      "text/plain": [
       "(0.88444098241753322, 0.93576449703452158)"
      ]
     },
     "execution_count": 51,
     "metadata": {},
     "output_type": "execute_result"
    }
   ],
   "source": [
    "a = ACCrunanalysis.loc[ACCrunanalysis['Run'] == 0].LowC.mean()\n",
    "sms.DescrStatsW(ACCrunanalysis.loc[ACCrunanalysis['Run'] == 0].LowC).tconfint_mean()\n",
    "#a"
   ]
  },
  {
   "cell_type": "code",
   "execution_count": 52,
   "metadata": {},
   "outputs": [
    {
     "data": {
      "text/plain": [
       "(0.73795306129679661, 0.82369077431964177)"
      ]
     },
     "execution_count": 52,
     "metadata": {},
     "output_type": "execute_result"
    }
   ],
   "source": [
    "a = ACCrunanalysis.loc[ACCrunanalysis['Run'] == 0].LowIC.mean()\n",
    "sms.DescrStatsW(ACCrunanalysis.loc[ACCrunanalysis['Run'] == 0].LowIC).tconfint_mean()\n",
    "#a"
   ]
  },
  {
   "cell_type": "code",
   "execution_count": 53,
   "metadata": {},
   "outputs": [
    {
     "data": {
      "text/plain": [
       "(0.85928724884841223, 0.93865795663103979)"
      ]
     },
     "execution_count": 53,
     "metadata": {},
     "output_type": "execute_result"
    }
   ],
   "source": [
    "a = ACCrunanalysis.loc[ACCrunanalysis['Run'] == 0].HighC.mean()\n",
    "sms.DescrStatsW(ACCrunanalysis.loc[ACCrunanalysis['Run'] == 0].HighC).tconfint_mean()\n",
    "#a"
   ]
  },
  {
   "cell_type": "code",
   "execution_count": 54,
   "metadata": {},
   "outputs": [
    {
     "data": {
      "text/plain": [
       "(0.79506399368133163, 0.85562093782551762)"
      ]
     },
     "execution_count": 54,
     "metadata": {},
     "output_type": "execute_result"
    }
   ],
   "source": [
    "a = ACCrunanalysis.loc[ACCrunanalysis['Run'] == 0].HighIC.mean()\n",
    "sms.DescrStatsW(ACCrunanalysis.loc[ACCrunanalysis['Run'] == 0].HighIC).tconfint_mean()\n",
    "#a"
   ]
  },
  {
   "cell_type": "code",
   "execution_count": 55,
   "metadata": {},
   "outputs": [
    {
     "data": {
      "text/plain": [
       "(0.93426360034527633, 0.9578596873259565)"
      ]
     },
     "execution_count": 55,
     "metadata": {},
     "output_type": "execute_result"
    }
   ],
   "source": [
    "a = ACCrunanalysis.loc[ACCrunanalysis['Run'] == 1].LowC.mean()\n",
    "sms.DescrStatsW(ACCrunanalysis.loc[ACCrunanalysis['Run'] == 1].LowC).tconfint_mean()\n",
    "#a"
   ]
  },
  {
   "cell_type": "code",
   "execution_count": 56,
   "metadata": {},
   "outputs": [
    {
     "data": {
      "text/plain": [
       "(0.85890812067371669, 0.91848913960025602)"
      ]
     },
     "execution_count": 56,
     "metadata": {},
     "output_type": "execute_result"
    }
   ],
   "source": [
    "a = ACCrunanalysis.loc[ACCrunanalysis['Run'] == 1].LowIC.mean()\n",
    "sms.DescrStatsW(ACCrunanalysis.loc[ACCrunanalysis['Run'] == 1].LowIC).tconfint_mean()\n",
    "#a"
   ]
  },
  {
   "cell_type": "code",
   "execution_count": 57,
   "metadata": {},
   "outputs": [
    {
     "data": {
      "text/plain": [
       "(0.90648999941350261, 0.95309904168238779)"
      ]
     },
     "execution_count": 57,
     "metadata": {},
     "output_type": "execute_result"
    }
   ],
   "source": [
    "a = ACCrunanalysis.loc[ACCrunanalysis['Run'] == 1].HighC.mean()\n",
    "sms.DescrStatsW(ACCrunanalysis.loc[ACCrunanalysis['Run'] == 1].HighC).tconfint_mean()\n",
    "#a"
   ]
  },
  {
   "cell_type": "code",
   "execution_count": 58,
   "metadata": {},
   "outputs": [
    {
     "data": {
      "text/plain": [
       "(0.85226324957674715, 0.89088743535475967)"
      ]
     },
     "execution_count": 58,
     "metadata": {},
     "output_type": "execute_result"
    }
   ],
   "source": [
    "a = ACCrunanalysis.loc[ACCrunanalysis['Run'] == 1].HighIC.mean()\n",
    "sms.DescrStatsW(ACCrunanalysis.loc[ACCrunanalysis['Run'] == 1].HighIC).tconfint_mean()\n",
    "#a"
   ]
  },
  {
   "cell_type": "code",
   "execution_count": 59,
   "metadata": {},
   "outputs": [
    {
     "data": {
      "text/plain": [
       "(0.9177071994531415, 0.94514078994146755)"
      ]
     },
     "execution_count": 59,
     "metadata": {},
     "output_type": "execute_result"
    }
   ],
   "source": [
    "a = ACCrunanalysis.loc[ACCrunanalysis['Run'] == 2].LowC.mean()\n",
    "sms.DescrStatsW(ACCrunanalysis.loc[ACCrunanalysis['Run'] == 2].LowC).tconfint_mean()\n",
    "#a"
   ]
  },
  {
   "cell_type": "code",
   "execution_count": 60,
   "metadata": {},
   "outputs": [
    {
     "data": {
      "text/plain": [
       "(0.83790850859016452, 0.9052421763413423)"
      ]
     },
     "execution_count": 60,
     "metadata": {},
     "output_type": "execute_result"
    }
   ],
   "source": [
    "a = ACCrunanalysis.loc[ACCrunanalysis['Run'] == 2].LowIC.mean()\n",
    "sms.DescrStatsW(ACCrunanalysis.loc[ACCrunanalysis['Run'] == 2].LowIC).tconfint_mean()\n",
    "#a"
   ]
  },
  {
   "cell_type": "code",
   "execution_count": 61,
   "metadata": {},
   "outputs": [
    {
     "data": {
      "text/plain": [
       "(0.92842615292593123, 0.97568343611516473)"
      ]
     },
     "execution_count": 61,
     "metadata": {},
     "output_type": "execute_result"
    }
   ],
   "source": [
    "a = ACCrunanalysis.loc[ACCrunanalysis['Run'] == 2].HighC.mean()\n",
    "sms.DescrStatsW(ACCrunanalysis.loc[ACCrunanalysis['Run'] == 2].HighC).tconfint_mean()\n",
    "#a"
   ]
  },
  {
   "cell_type": "code",
   "execution_count": 62,
   "metadata": {},
   "outputs": [
    {
     "data": {
      "text/plain": [
       "(0.85745931714123347, 0.89745672351276595)"
      ]
     },
     "execution_count": 62,
     "metadata": {},
     "output_type": "execute_result"
    }
   ],
   "source": [
    "a = ACCrunanalysis.loc[ACCrunanalysis['Run'] == 2].HighIC.mean()\n",
    "sms.DescrStatsW(ACCrunanalysis.loc[ACCrunanalysis['Run'] == 2].HighIC).tconfint_mean()\n",
    "#a"
   ]
  },
  {
   "cell_type": "code",
   "execution_count": 63,
   "metadata": {},
   "outputs": [
    {
     "data": {
      "text/plain": [
       "(0.92565506111548002, 0.95533808956945154)"
      ]
     },
     "execution_count": 63,
     "metadata": {},
     "output_type": "execute_result"
    }
   ],
   "source": [
    "a = ACCrunanalysis.loc[ACCrunanalysis['Run'] == 3].LowC.mean()\n",
    "sms.DescrStatsW(ACCrunanalysis.loc[ACCrunanalysis['Run'] == 3].LowC).tconfint_mean()\n",
    "#a"
   ]
  },
  {
   "cell_type": "code",
   "execution_count": 64,
   "metadata": {},
   "outputs": [
    {
     "data": {
      "text/plain": [
       "(0.86013248492768268, 0.92411409041478298)"
      ]
     },
     "execution_count": 64,
     "metadata": {},
     "output_type": "execute_result"
    }
   ],
   "source": [
    "a = ACCrunanalysis.loc[ACCrunanalysis['Run'] == 3].LowIC.mean()\n",
    "sms.DescrStatsW(ACCrunanalysis.loc[ACCrunanalysis['Run'] == 3].LowIC).tconfint_mean()\n",
    "#a"
   ]
  },
  {
   "cell_type": "code",
   "execution_count": 65,
   "metadata": {},
   "outputs": [
    {
     "data": {
      "text/plain": [
       "(0.91996250490426457, 0.96017448139710537)"
      ]
     },
     "execution_count": 65,
     "metadata": {},
     "output_type": "execute_result"
    }
   ],
   "source": [
    "a = ACCrunanalysis.loc[ACCrunanalysis['Run'] == 3].HighC.mean()\n",
    "sms.DescrStatsW(ACCrunanalysis.loc[ACCrunanalysis['Run'] == 3].HighC).tconfint_mean()\n",
    "#a"
   ]
  },
  {
   "cell_type": "code",
   "execution_count": 66,
   "metadata": {},
   "outputs": [
    {
     "data": {
      "text/plain": [
       "(0.86225443643140753, 0.89630720740420888)"
      ]
     },
     "execution_count": 66,
     "metadata": {},
     "output_type": "execute_result"
    }
   ],
   "source": [
    "a = ACCrunanalysis.loc[ACCrunanalysis['Run'] == 3].HighIC.mean()\n",
    "sms.DescrStatsW(ACCrunanalysis.loc[ACCrunanalysis['Run'] == 3].HighIC).tconfint_mean()\n",
    "#a"
   ]
  }
 ],
 "metadata": {
  "anaconda-cloud": {},
  "kernelspec": {
   "display_name": "Python [Root]",
   "language": "python",
   "name": "Python [Root]"
  },
  "language_info": {
   "codemirror_mode": {
    "name": "ipython",
    "version": 3
   },
   "file_extension": ".py",
   "mimetype": "text/x-python",
   "name": "python",
   "nbconvert_exporter": "python",
   "pygments_lexer": "ipython3",
   "version": "3.5.2"
  }
 },
 "nbformat": 4,
 "nbformat_minor": 1
}

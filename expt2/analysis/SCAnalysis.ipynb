{
 "cells": [
  {
   "cell_type": "markdown",
   "metadata": {},
   "source": [
    "# Information on How These Data Are Organized:\n",
    "\n",
    "`TypeOfResponse` refers to whether participants pressed a button (\"SCResp\") or did not press a button (\"SCRespITI\") within the given time frame.\n",
    "\n",
    "`Version` refers to the task version. I never changed the JS code; I merely changed which face/house was labeled as S1_1, S1_2, S1_3, or S1_4 in respective task folders.\n",
    "\n",
    "`LogCounter` gets added to whenever the JS records a new datapoint.\n",
    "\n",
    "`TrialCounter` gets added to whenever a new trial has started. This is reset at the start of each block.\n",
    "\n",
    "`MatrixCounter` gets added to throughout the task and is never reset. It is what I use to call Stimuli #s.\n",
    "\n",
    "`RunCounter` refers to the run: 0 is run 1, 1 is run 2, 2 is run 3, and 3 is run 4.\n",
    "\n",
    "`CongruentCounter` marks any time a congruent trial occurred; `IncongruentCounter` an incongruent trial.\n",
    "\n",
    "`StimPresented` refers to which scene was presented before the trial. This is in reference to the main manipulation of the S-C association phase, whereby particular scenes are more likely to precede specific proportions of congruent/incongruent trials.\n",
    "\n",
    "`StimProbAll` refers to my matrix of possible trial types. So it indicates whether \"RED\" will be shown in red, etc.\n",
    "\n",
    "`TrialType` also marks incongruent/congruent trials.\n",
    "\n",
    "`CongruentNumber` refers to my specially made matrices of my congruent trials. So there are 4 possible incongruent combinations, with 160 total congruent trials, and thus 40 occurrences of numbers 1-4.\n",
    "\n",
    "`IncongruentNumber` refers to my specially made matrix of incongruent trials. There are 12 possible incongruent combinations, with 160 trial incongruent trials, and thus around 13 of each occurrence.\n",
    "\n",
    "`PressCorrect` refers to the button that participants should press on that trial. This is how I define accuracy (i.e., correct: when PressCorrect = actualkeyPressed).\n",
    "\n",
    "`ResponseMatrix` refers to which key is pressed; this is a redundant variable and was used to make sure that each key had been required an equal number of times throughout the task.\n",
    "\n",
    "`ActualKeyPressed` is what key subjects pressed.\n",
    "\n",
    "`Accuracy` & `RT` self-explanatory.\n",
    "\n",
    "`FeedbackType` refers to whether they got correct as fb, incorrect as fb, or the fb time-out.\n",
    "\n",
    "`runStart` refers to the initiation of the countdown to begin the task.\n",
    "\n",
    "`ImagePresent` refers to when scene was presented.\n",
    "\n",
    "`StimTime` refers to when the color word was presented.\n",
    "\n",
    "`RespOnset` refers to when a response was made.\n",
    "\n",
    "`AccCount` is how I give subjects accurate fb of their performance at the end of each run (i.e., a counter that gets added to after each correct trial & is divided by trial #).\n",
    "\n",
    "`Subject` self-explanatory.\n",
    "\n",
    "Some other labels aren't coded in the JS: `Sequential` refers to whether a trial was the same (0) as before, changed to incongruent or congruent on the next trial, etc., and `StimRep` looks for direct repetitions in the StimProbAll matrix. These were coded in Matlab and added to the CSV file.\n",
    "\n",
    "---"
   ]
  },
  {
   "cell_type": "markdown",
   "metadata": {},
   "source": [
    "### Here we'll just import Python specific packages and read in our data."
   ]
  },
  {
   "cell_type": "code",
   "execution_count": 60,
   "metadata": {
    "collapsed": true
   },
   "outputs": [],
   "source": [
    "import numpy as np\n",
    "import pandas as pd\n",
    "import matplotlib.pyplot as plt\n",
    "import seaborn as sns\n",
    "import pylab as plb\n",
    "import math\n",
    "from scipy import stats\n",
    "\n",
    "%matplotlib notebook "
   ]
  },
  {
   "cell_type": "code",
   "execution_count": 61,
   "metadata": {},
   "outputs": [
    {
     "name": "stdout",
     "output_type": "stream",
     "text": [
      "C:\\Users\\cb383\\Documents\\controltransfer\\expt2\\data\n"
     ]
    }
   ],
   "source": [
    "%cd 'C:\\Users\\cb383\\Documents\\controltransfer\\expt2\\data'\n",
    "dat = pd.read_csv('AllSubsSC.csv')"
   ]
  },
  {
   "cell_type": "markdown",
   "metadata": {},
   "source": [
    "# Do Some Basic Cleaning"
   ]
  },
  {
   "cell_type": "markdown",
   "metadata": {},
   "source": [
    "#### We are filtering and preparing the data for analysis.\n",
    "\n",
    "<u>FOR REACTION TIMES</u>:\n",
    "\n",
    "-Select only `TypeOfResponse` equal to `Resp` (`ITI Resp` is when subs didn't respond).\n",
    "\n",
    "-Only take the RTs that are greater than 200ms and less than 1000 ms.\n",
    "\n",
    "-Only take the RTs on accurate trials.\n",
    "\n",
    "-Only take trials where the stimulus didn't repeat.\n",
    "\n",
    "\n",
    "<u>FOR ACCURACY</u>:\n",
    "\n",
    "-All errors are errors"
   ]
  },
  {
   "cell_type": "code",
   "execution_count": 62,
   "metadata": {
    "collapsed": true
   },
   "outputs": [],
   "source": [
    "cdat = dat.query('(TypeOfResponse != \"SCRespITI\") & (RT > 200) & (RT < 1000) & (Accuracy != 0) & (StimRep != 1)').copy()\n",
    "adat = dat.copy()"
   ]
  },
  {
   "cell_type": "markdown",
   "metadata": {},
   "source": [
    "#### Now I'm making columns in the data based off my variables so that analysis will be easier."
   ]
  },
  {
   "cell_type": "code",
   "execution_count": 63,
   "metadata": {
    "collapsed": true
   },
   "outputs": [],
   "source": [
    "adat['DemandCue'] = adat['StimPresented'].isin([1, 2])\n",
    "adat.loc[adat['StimPresented'].isin([1, 2]), 'DemandCue'] = 'High'\n",
    "adat.loc[~adat['StimPresented'].isin([1, 2]), 'DemandCue'] = 'Low'\n",
    "\n",
    "adat['Congruency'] = adat['TrialType'].isin([1])\n",
    "adat.loc[adat['TrialType'].isin([1]),'Congruency'] = 'Incongruent'\n",
    "adat.loc[~adat['TrialType'].isin([1]),'Congruency'] = 'Congruent'\n",
    "\n",
    "cdat['DemandCue'] = cdat['StimPresented'].isin([1, 2])\n",
    "cdat.loc[cdat['StimPresented'].isin([1, 2]), 'DemandCue'] = 'High'\n",
    "cdat.loc[~cdat['StimPresented'].isin([1, 2]), 'DemandCue'] = 'Low'\n",
    "\n",
    "cdat['Congruency'] = cdat['TrialType'].isin([1])\n",
    "cdat.loc[cdat['TrialType'].isin([1]),'Congruency'] = 'Incongruent'\n",
    "cdat.loc[~cdat['TrialType'].isin([1]),'Congruency'] = 'Congruent'\n"
   ]
  },
  {
   "cell_type": "code",
   "execution_count": 64,
   "metadata": {
    "collapsed": true
   },
   "outputs": [],
   "source": [
    "adat['ContextCong'] = adat['DemandCue'].isin(['High']) & adat['TrialType'].isin([1])\n",
    "adat.loc[(adat['DemandCue'].isin(['High']) & adat['TrialType'].isin([1])), 'ContextCong'] = 'HighIC'\n",
    "adat.loc[(adat['DemandCue'].isin(['Low']) & adat['TrialType'].isin([1])), 'ContextCong'] = 'LowIC'\n",
    "adat.loc[(adat['DemandCue'].isin(['High']) & adat['TrialType'].isin([2])), 'ContextCong'] = 'HighC'\n",
    "adat.loc[(adat['DemandCue'].isin(['Low']) & adat['TrialType'].isin([2])), 'ContextCong'] = 'LowC'\n",
    "\n",
    "cdat['ContextCong'] = cdat['DemandCue'].isin(['High']) & cdat['TrialType'].isin([1])\n",
    "cdat.loc[(cdat['DemandCue'].isin(['High']) & cdat['TrialType'].isin([1])), 'ContextCong'] = 'HighIC'\n",
    "cdat.loc[(cdat['DemandCue'].isin(['Low']) & cdat['TrialType'].isin([1])), 'ContextCong'] = 'LowIC'\n",
    "cdat.loc[(cdat['DemandCue'].isin(['High']) & cdat['TrialType'].isin([2])), 'ContextCong'] = 'HighC'\n",
    "cdat.loc[(cdat['DemandCue'].isin(['Low']) & cdat['TrialType'].isin([2])), 'ContextCong'] = 'LowC'"
   ]
  },
  {
   "cell_type": "markdown",
   "metadata": {},
   "source": [
    "# Look at Mean Cueing Effects"
   ]
  },
  {
   "cell_type": "markdown",
   "metadata": {},
   "source": [
    "### We are hoping to see an interaction between control-demand cue and congruency, such that people use the cues to modulate Stroop congruency. Namely, we would predict that people would have a smaller difference between the Stroop trial types for the \"high\" compared to \"low\" control-demand cue. This would result from learning to associate a state of higher attentional focus with the high control-demand cue, which in turn means more efficient processing - or responding quicker to incongruent trials and potentially slower to congruent trials."
   ]
  },
  {
   "cell_type": "code",
   "execution_count": 65,
   "metadata": {},
   "outputs": [
    {
     "data": {
      "text/plain": [
       "ContextCong\n",
       "HighC     638.383463\n",
       "HighIC    706.021583\n",
       "LowC      640.344318\n",
       "LowIC     709.341447\n",
       "Name: RT, dtype: float64"
      ]
     },
     "execution_count": 65,
     "metadata": {},
     "output_type": "execute_result"
    }
   ],
   "source": [
    "sub_RTmeans = cdat.groupby(['subject','ContextCong'])['RT'].mean()\n",
    "RTgrpmean = pd.Series.mean(sub_RTmeans,level=1)\n",
    "RTgrpmean"
   ]
  },
  {
   "cell_type": "code",
   "execution_count": 66,
   "metadata": {},
   "outputs": [
    {
     "data": {
      "text/plain": [
       "ContextCong\n",
       "HighC     51.222170\n",
       "HighIC    50.647925\n",
       "LowC      47.753406\n",
       "LowIC     52.617382\n",
       "Name: RT, dtype: float64"
      ]
     },
     "execution_count": 66,
     "metadata": {},
     "output_type": "execute_result"
    }
   ],
   "source": [
    "RTgrpstd = pd.Series.std(sub_RTmeans,level=1)\n",
    "RTgrpstd"
   ]
  },
  {
   "cell_type": "code",
   "execution_count": 67,
   "metadata": {},
   "outputs": [
    {
     "data": {
      "text/plain": [
       "ContextCong\n",
       "HighC     5.995102\n",
       "HighIC    5.927891\n",
       "LowC      5.589113\n",
       "LowIC     6.158399\n",
       "Name: RT, dtype: float64"
      ]
     },
     "execution_count": 67,
     "metadata": {},
     "output_type": "execute_result"
    }
   ],
   "source": [
    "n = math.sqrt(73)\n",
    "RTstderror = RTgrpstd / n\n",
    "RTstderror"
   ]
  },
  {
   "cell_type": "markdown",
   "metadata": {},
   "source": [
    "#### Judging by these initial numbers, we are unlikely to find an interaction between cue & congruency. Is that true of Accuracy?"
   ]
  },
  {
   "cell_type": "code",
   "execution_count": 68,
   "metadata": {},
   "outputs": [
    {
     "data": {
      "text/plain": [
       "ContextCong\n",
       "HighC     0.930223\n",
       "HighIC    0.863422\n",
       "LowC      0.932028\n",
       "LowIC     0.858305\n",
       "Name: Accuracy, dtype: float64"
      ]
     },
     "execution_count": 68,
     "metadata": {},
     "output_type": "execute_result"
    }
   ],
   "source": [
    "sub_ACCmeans = adat.groupby(['subject','ContextCong'])['Accuracy'].mean()\n",
    "ACCgrpmean = pd.Series.mean(sub_ACCmeans,level=1)\n",
    "ACCgrpmean"
   ]
  },
  {
   "cell_type": "code",
   "execution_count": 69,
   "metadata": {},
   "outputs": [
    {
     "data": {
      "text/plain": [
       "ContextCong\n",
       "HighC     0.075928\n",
       "HighIC    0.068827\n",
       "LowC      0.056138\n",
       "LowIC     0.092010\n",
       "Name: Accuracy, dtype: float64"
      ]
     },
     "execution_count": 69,
     "metadata": {},
     "output_type": "execute_result"
    }
   ],
   "source": [
    "ACCgrpstd = pd.Series.std(sub_ACCmeans,level=1)\n",
    "ACCgrpstd"
   ]
  },
  {
   "cell_type": "code",
   "execution_count": 70,
   "metadata": {},
   "outputs": [
    {
     "data": {
      "text/plain": [
       "ContextCong\n",
       "HighC     0.008887\n",
       "HighIC    0.008056\n",
       "LowC      0.006570\n",
       "LowIC     0.010769\n",
       "Name: Accuracy, dtype: float64"
      ]
     },
     "execution_count": 70,
     "metadata": {},
     "output_type": "execute_result"
    }
   ],
   "source": [
    "ACCstderror = ACCgrpstd / n\n",
    "ACCstderror"
   ]
  },
  {
   "cell_type": "markdown",
   "metadata": {},
   "source": [
    "# Creating Variables to Run Statistics"
   ]
  },
  {
   "cell_type": "markdown",
   "metadata": {},
   "source": [
    "#### This is a Python set of analyses, where the data above are organized in what's called \"long-form\" and to run statistics, I need \"wide-form\" data. So I am creating a new \"dataframe\" with the RT and accuracy means for congruent & incongruent trials, after presentation of the low & high control-demand cue, for each subject."
   ]
  },
  {
   "cell_type": "code",
   "execution_count": 71,
   "metadata": {
    "collapsed": true
   },
   "outputs": [],
   "source": [
    "RTanalysis = pd.DataFrame()\n",
    "lists = [[] for list in range(0,7)]\n",
    "\n",
    "for ID in range(10,83):\n",
    "    sub = cdat[cdat.subject == ID]\n",
    "    lists[0].append(ID)\n",
    "    LowCRT_trials = sub[sub.ContextCong == 'LowC'].RT.mean()\n",
    "    LowICRT_trials = sub[sub.ContextCong == 'LowIC'].RT.mean()\n",
    "    HighCRT_trials = sub[sub.ContextCong == 'HighC'].RT.mean()\n",
    "    HighICRT_trials = sub[sub.ContextCong == 'HighIC'].RT.mean()    \n",
    "    lists[1].append(LowCRT_trials)\n",
    "    lists[2].append(LowICRT_trials)\n",
    "    lists[3].append(HighCRT_trials)\n",
    "    lists[4].append(HighICRT_trials)\n",
    "    \n",
    "RTanalysis['SubjectID'] = lists[0]\n",
    "RTanalysis['LowC'] = lists[1]\n",
    "RTanalysis['LowIC'] = lists[2]\n",
    "RTanalysis['HighC'] = lists[3]\n",
    "RTanalysis['HighIC'] = lists[4]"
   ]
  },
  {
   "cell_type": "code",
   "execution_count": 72,
   "metadata": {
    "collapsed": true
   },
   "outputs": [],
   "source": [
    "ACCanalysis = pd.DataFrame()\n",
    "new_lists = [[] for list in range(0,7)]\n",
    "\n",
    "for ID in range(10,83):\n",
    "    sub = adat[adat.subject == ID]\n",
    "    new_lists[0].append(ID)\n",
    "    LowCACC_trials = sub[sub.ContextCong == 'LowC'].Accuracy.mean()\n",
    "    LowICACC_trials = sub[sub.ContextCong == 'LowIC'].Accuracy.mean()\n",
    "    HighCACC_trials = sub[sub.ContextCong == 'HighC'].Accuracy.mean()\n",
    "    HighICACC_trials = sub[sub.ContextCong == 'HighIC'].Accuracy.mean()    \n",
    "    new_lists[1].append(LowCACC_trials)\n",
    "    new_lists[2].append(LowICACC_trials)\n",
    "    new_lists[3].append(HighCACC_trials)\n",
    "    new_lists[4].append(HighICACC_trials)\n",
    "    \n",
    "ACCanalysis['SubjectID'] = new_lists[0]\n",
    "ACCanalysis['LowC'] = new_lists[1]\n",
    "ACCanalysis['LowIC'] = new_lists[2]\n",
    "ACCanalysis['HighC'] = new_lists[3]\n",
    "ACCanalysis['HighIC'] = new_lists[4]"
   ]
  },
  {
   "cell_type": "code",
   "execution_count": 73,
   "metadata": {
    "collapsed": true
   },
   "outputs": [],
   "source": [
    "#now for run as well\n",
    "\n",
    "RTrunanalysis = pd.DataFrame()\n",
    "new_RTlists = [[] for list in range(0,8)]\n",
    "\n",
    "for ID in range(10,83):\n",
    "    sub = cdat[cdat.subject == ID]\n",
    "    for runID in range(0,4):\n",
    "        run = sub[sub.RunCounter == runID]\n",
    "        new_RTlists[0].append(ID)\n",
    "        new_RTlists[1].append(runID)\n",
    "        LowCRT_trials = run[run.ContextCong == 'LowC'].RT.mean()\n",
    "        LowICRT_trials = run[run.ContextCong == 'LowIC'].RT.mean()\n",
    "        HighCRT_trials = run[run.ContextCong == 'HighC'].RT.mean()\n",
    "        HighICRT_trials = run[run.ContextCong == 'HighIC'].RT.mean()    \n",
    "        new_RTlists[2].append(LowCRT_trials)\n",
    "        new_RTlists[3].append(LowICRT_trials)\n",
    "        new_RTlists[4].append(HighCRT_trials)\n",
    "        new_RTlists[5].append(HighICRT_trials)\n",
    "    \n",
    "RTrunanalysis['SubjectID'] = new_RTlists[0]\n",
    "RTrunanalysis['Run'] = new_RTlists[1]\n",
    "RTrunanalysis['LowC'] = new_RTlists[2]\n",
    "RTrunanalysis['LowIC'] = new_RTlists[3]\n",
    "RTrunanalysis['HighC'] = new_RTlists[4]\n",
    "RTrunanalysis['HighIC'] = new_RTlists[5]"
   ]
  },
  {
   "cell_type": "code",
   "execution_count": 74,
   "metadata": {
    "collapsed": true
   },
   "outputs": [],
   "source": [
    "#repeat for accuracy\n",
    "\n",
    "ACCrunanalysis = pd.DataFrame()\n",
    "new_acclists = [[] for list in range(0,8)]\n",
    "\n",
    "for ID in range(10,83):\n",
    "    sub = adat[adat.subject == ID]\n",
    "    for runID in range(0,4):\n",
    "        run = sub[sub.RunCounter == runID]\n",
    "        new_acclists[0].append(ID)\n",
    "        new_acclists[1].append(runID)\n",
    "        LowCACC_trials = run[run.ContextCong == 'LowC'].Accuracy.mean()\n",
    "        LowICACC_trials = run[run.ContextCong == 'LowIC'].Accuracy.mean()\n",
    "        HighCACC_trials = run[run.ContextCong == 'HighC'].Accuracy.mean()\n",
    "        HighICACC_trials = run[run.ContextCong == 'HighIC'].Accuracy.mean()    \n",
    "        new_acclists[2].append(LowCACC_trials)\n",
    "        new_acclists[3].append(LowICACC_trials)\n",
    "        new_acclists[4].append(HighCACC_trials)\n",
    "        new_acclists[5].append(HighICACC_trials)\n",
    "    \n",
    "ACCrunanalysis['SubjectID'] = new_acclists[0]\n",
    "ACCrunanalysis['Run'] = new_acclists[1]\n",
    "ACCrunanalysis['LowC'] = new_acclists[2]\n",
    "ACCrunanalysis['LowIC'] = new_acclists[3]\n",
    "ACCrunanalysis['HighC'] = new_acclists[4]\n",
    "ACCrunanalysis['HighIC'] = new_acclists[5]"
   ]
  },
  {
   "cell_type": "markdown",
   "metadata": {},
   "source": [
    "# Run Actual Statistics"
   ]
  },
  {
   "cell_type": "markdown",
   "metadata": {},
   "source": [
    "#### For the S-C phase, we run a repeated-measures ANOVA comparing RTs and accuracies for control-demand cue (low/high) & congruency (congruent/incongruent) & run (4).\n",
    "\n",
    "Unfortunately, Python does not have the capability for repeated-measures ANOVA. I could install \"pyvtttbl\" for Python, but it's not as accurate as R, SPSS, etc. So in this particular notebook, I will run a paired t-test for the interaction effect, and I will include R code to run the ANOVA."
   ]
  },
  {
   "cell_type": "code",
   "execution_count": 75,
   "metadata": {},
   "outputs": [
    {
     "data": {
      "text/plain": [
       "Ttest_relResult(statistic=0.37588175925419026, pvalue=0.70811004039236281)"
      ]
     },
     "execution_count": 75,
     "metadata": {},
     "output_type": "execute_result"
    }
   ],
   "source": [
    "LowCongDiff = RTanalysis.LowIC - RTanalysis.LowC;\n",
    "HighCongDiff = RTanalysis.HighIC - RTanalysis.HighC;\n",
    "stats.ttest_rel(LowCongDiff, HighCongDiff)"
   ]
  },
  {
   "cell_type": "code",
   "execution_count": 76,
   "metadata": {},
   "outputs": [
    {
     "data": {
      "text/plain": [
       "Ttest_relResult(statistic=-0.65390793096077038, pvalue=0.51525426867190816)"
      ]
     },
     "execution_count": 76,
     "metadata": {},
     "output_type": "execute_result"
    }
   ],
   "source": [
    "LowCongDiffACC = ACCanalysis.LowIC - ACCanalysis.LowC;\n",
    "HighCongDiffACC = ACCanalysis.HighIC - ACCanalysis.HighC;\n",
    "stats.ttest_rel(LowCongDiffACC, HighCongDiffACC)"
   ]
  },
  {
   "cell_type": "code",
   "execution_count": 77,
   "metadata": {
    "collapsed": true
   },
   "outputs": [],
   "source": [
    "#can look at more things, like Bayesian confidence intervals\n",
    "stats.bayes_mvs(RTanalysis.LowC);\n",
    "stats.bayes_mvs(RTanalysis.LowIC);\n",
    "stats.bayes_mvs(RTanalysis.HighC);\n",
    "stats.bayes_mvs(RTanalysis.HighIC);\n",
    "stats.bayes_mvs(ACCanalysis.LowC);\n",
    "stats.bayes_mvs(ACCanalysis.LowIC);\n",
    "stats.bayes_mvs(ACCanalysis.HighC);\n",
    "stats.bayes_mvs(ACCanalysis.HighIC);"
   ]
  },
  {
   "cell_type": "markdown",
   "metadata": {},
   "source": [
    "#### In sum: no significant interaction or main effect of cue but a main effect of congruency on RT & accuracy"
   ]
  },
  {
   "cell_type": "markdown",
   "metadata": {},
   "source": [
    "# Look at the Results Graphically"
   ]
  },
  {
   "cell_type": "markdown",
   "metadata": {},
   "source": [
    "Note that the graphs generated mimic the paper, but I used Matlab to generate the figures, because I like their graphics more.\n",
    "\n",
    "Note: I increased the y-axis for this RT graph so that it would fit my legend without any overlap."
   ]
  },
  {
   "cell_type": "code",
   "execution_count": 78,
   "metadata": {
    "collapsed": true
   },
   "outputs": [],
   "source": [
    "sns.set(context='notebook', style='white', font='Myriad Pro', font_scale=2, color_codes=False, rc=None);"
   ]
  },
  {
   "cell_type": "code",
   "execution_count": 79,
   "metadata": {},
   "outputs": [
    {
     "data": {
      "application/javascript": [
       "/* Put everything inside the global mpl namespace */\n",
       "window.mpl = {};\n",
       "\n",
       "mpl.get_websocket_type = function() {\n",
       "    if (typeof(WebSocket) !== 'undefined') {\n",
       "        return WebSocket;\n",
       "    } else if (typeof(MozWebSocket) !== 'undefined') {\n",
       "        return MozWebSocket;\n",
       "    } else {\n",
       "        alert('Your browser does not have WebSocket support.' +\n",
       "              'Please try Chrome, Safari or Firefox ≥ 6. ' +\n",
       "              'Firefox 4 and 5 are also supported but you ' +\n",
       "              'have to enable WebSockets in about:config.');\n",
       "    };\n",
       "}\n",
       "\n",
       "mpl.figure = function(figure_id, websocket, ondownload, parent_element) {\n",
       "    this.id = figure_id;\n",
       "\n",
       "    this.ws = websocket;\n",
       "\n",
       "    this.supports_binary = (this.ws.binaryType != undefined);\n",
       "\n",
       "    if (!this.supports_binary) {\n",
       "        var warnings = document.getElementById(\"mpl-warnings\");\n",
       "        if (warnings) {\n",
       "            warnings.style.display = 'block';\n",
       "            warnings.textContent = (\n",
       "                \"This browser does not support binary websocket messages. \" +\n",
       "                    \"Performance may be slow.\");\n",
       "        }\n",
       "    }\n",
       "\n",
       "    this.imageObj = new Image();\n",
       "\n",
       "    this.context = undefined;\n",
       "    this.message = undefined;\n",
       "    this.canvas = undefined;\n",
       "    this.rubberband_canvas = undefined;\n",
       "    this.rubberband_context = undefined;\n",
       "    this.format_dropdown = undefined;\n",
       "\n",
       "    this.image_mode = 'full';\n",
       "\n",
       "    this.root = $('<div/>');\n",
       "    this._root_extra_style(this.root)\n",
       "    this.root.attr('style', 'display: inline-block');\n",
       "\n",
       "    $(parent_element).append(this.root);\n",
       "\n",
       "    this._init_header(this);\n",
       "    this._init_canvas(this);\n",
       "    this._init_toolbar(this);\n",
       "\n",
       "    var fig = this;\n",
       "\n",
       "    this.waiting = false;\n",
       "\n",
       "    this.ws.onopen =  function () {\n",
       "            fig.send_message(\"supports_binary\", {value: fig.supports_binary});\n",
       "            fig.send_message(\"send_image_mode\", {});\n",
       "            fig.send_message(\"refresh\", {});\n",
       "        }\n",
       "\n",
       "    this.imageObj.onload = function() {\n",
       "            if (fig.image_mode == 'full') {\n",
       "                // Full images could contain transparency (where diff images\n",
       "                // almost always do), so we need to clear the canvas so that\n",
       "                // there is no ghosting.\n",
       "                fig.context.clearRect(0, 0, fig.canvas.width, fig.canvas.height);\n",
       "            }\n",
       "            fig.context.drawImage(fig.imageObj, 0, 0);\n",
       "        };\n",
       "\n",
       "    this.imageObj.onunload = function() {\n",
       "        this.ws.close();\n",
       "    }\n",
       "\n",
       "    this.ws.onmessage = this._make_on_message_function(this);\n",
       "\n",
       "    this.ondownload = ondownload;\n",
       "}\n",
       "\n",
       "mpl.figure.prototype._init_header = function() {\n",
       "    var titlebar = $(\n",
       "        '<div class=\"ui-dialog-titlebar ui-widget-header ui-corner-all ' +\n",
       "        'ui-helper-clearfix\"/>');\n",
       "    var titletext = $(\n",
       "        '<div class=\"ui-dialog-title\" style=\"width: 100%; ' +\n",
       "        'text-align: center; padding: 3px;\"/>');\n",
       "    titlebar.append(titletext)\n",
       "    this.root.append(titlebar);\n",
       "    this.header = titletext[0];\n",
       "}\n",
       "\n",
       "\n",
       "\n",
       "mpl.figure.prototype._canvas_extra_style = function(canvas_div) {\n",
       "\n",
       "}\n",
       "\n",
       "\n",
       "mpl.figure.prototype._root_extra_style = function(canvas_div) {\n",
       "\n",
       "}\n",
       "\n",
       "mpl.figure.prototype._init_canvas = function() {\n",
       "    var fig = this;\n",
       "\n",
       "    var canvas_div = $('<div/>');\n",
       "\n",
       "    canvas_div.attr('style', 'position: relative; clear: both; outline: 0');\n",
       "\n",
       "    function canvas_keyboard_event(event) {\n",
       "        return fig.key_event(event, event['data']);\n",
       "    }\n",
       "\n",
       "    canvas_div.keydown('key_press', canvas_keyboard_event);\n",
       "    canvas_div.keyup('key_release', canvas_keyboard_event);\n",
       "    this.canvas_div = canvas_div\n",
       "    this._canvas_extra_style(canvas_div)\n",
       "    this.root.append(canvas_div);\n",
       "\n",
       "    var canvas = $('<canvas/>');\n",
       "    canvas.addClass('mpl-canvas');\n",
       "    canvas.attr('style', \"left: 0; top: 0; z-index: 0; outline: 0\")\n",
       "\n",
       "    this.canvas = canvas[0];\n",
       "    this.context = canvas[0].getContext(\"2d\");\n",
       "\n",
       "    var rubberband = $('<canvas/>');\n",
       "    rubberband.attr('style', \"position: absolute; left: 0; top: 0; z-index: 1;\")\n",
       "\n",
       "    var pass_mouse_events = true;\n",
       "\n",
       "    canvas_div.resizable({\n",
       "        start: function(event, ui) {\n",
       "            pass_mouse_events = false;\n",
       "        },\n",
       "        resize: function(event, ui) {\n",
       "            fig.request_resize(ui.size.width, ui.size.height);\n",
       "        },\n",
       "        stop: function(event, ui) {\n",
       "            pass_mouse_events = true;\n",
       "            fig.request_resize(ui.size.width, ui.size.height);\n",
       "        },\n",
       "    });\n",
       "\n",
       "    function mouse_event_fn(event) {\n",
       "        if (pass_mouse_events)\n",
       "            return fig.mouse_event(event, event['data']);\n",
       "    }\n",
       "\n",
       "    rubberband.mousedown('button_press', mouse_event_fn);\n",
       "    rubberband.mouseup('button_release', mouse_event_fn);\n",
       "    // Throttle sequential mouse events to 1 every 20ms.\n",
       "    rubberband.mousemove('motion_notify', mouse_event_fn);\n",
       "\n",
       "    rubberband.mouseenter('figure_enter', mouse_event_fn);\n",
       "    rubberband.mouseleave('figure_leave', mouse_event_fn);\n",
       "\n",
       "    canvas_div.on(\"wheel\", function (event) {\n",
       "        event = event.originalEvent;\n",
       "        event['data'] = 'scroll'\n",
       "        if (event.deltaY < 0) {\n",
       "            event.step = 1;\n",
       "        } else {\n",
       "            event.step = -1;\n",
       "        }\n",
       "        mouse_event_fn(event);\n",
       "    });\n",
       "\n",
       "    canvas_div.append(canvas);\n",
       "    canvas_div.append(rubberband);\n",
       "\n",
       "    this.rubberband = rubberband;\n",
       "    this.rubberband_canvas = rubberband[0];\n",
       "    this.rubberband_context = rubberband[0].getContext(\"2d\");\n",
       "    this.rubberband_context.strokeStyle = \"#000000\";\n",
       "\n",
       "    this._resize_canvas = function(width, height) {\n",
       "        // Keep the size of the canvas, canvas container, and rubber band\n",
       "        // canvas in synch.\n",
       "        canvas_div.css('width', width)\n",
       "        canvas_div.css('height', height)\n",
       "\n",
       "        canvas.attr('width', width);\n",
       "        canvas.attr('height', height);\n",
       "\n",
       "        rubberband.attr('width', width);\n",
       "        rubberband.attr('height', height);\n",
       "    }\n",
       "\n",
       "    // Set the figure to an initial 600x600px, this will subsequently be updated\n",
       "    // upon first draw.\n",
       "    this._resize_canvas(600, 600);\n",
       "\n",
       "    // Disable right mouse context menu.\n",
       "    $(this.rubberband_canvas).bind(\"contextmenu\",function(e){\n",
       "        return false;\n",
       "    });\n",
       "\n",
       "    function set_focus () {\n",
       "        canvas.focus();\n",
       "        canvas_div.focus();\n",
       "    }\n",
       "\n",
       "    window.setTimeout(set_focus, 100);\n",
       "}\n",
       "\n",
       "mpl.figure.prototype._init_toolbar = function() {\n",
       "    var fig = this;\n",
       "\n",
       "    var nav_element = $('<div/>')\n",
       "    nav_element.attr('style', 'width: 100%');\n",
       "    this.root.append(nav_element);\n",
       "\n",
       "    // Define a callback function for later on.\n",
       "    function toolbar_event(event) {\n",
       "        return fig.toolbar_button_onclick(event['data']);\n",
       "    }\n",
       "    function toolbar_mouse_event(event) {\n",
       "        return fig.toolbar_button_onmouseover(event['data']);\n",
       "    }\n",
       "\n",
       "    for(var toolbar_ind in mpl.toolbar_items) {\n",
       "        var name = mpl.toolbar_items[toolbar_ind][0];\n",
       "        var tooltip = mpl.toolbar_items[toolbar_ind][1];\n",
       "        var image = mpl.toolbar_items[toolbar_ind][2];\n",
       "        var method_name = mpl.toolbar_items[toolbar_ind][3];\n",
       "\n",
       "        if (!name) {\n",
       "            // put a spacer in here.\n",
       "            continue;\n",
       "        }\n",
       "        var button = $('<button/>');\n",
       "        button.addClass('ui-button ui-widget ui-state-default ui-corner-all ' +\n",
       "                        'ui-button-icon-only');\n",
       "        button.attr('role', 'button');\n",
       "        button.attr('aria-disabled', 'false');\n",
       "        button.click(method_name, toolbar_event);\n",
       "        button.mouseover(tooltip, toolbar_mouse_event);\n",
       "\n",
       "        var icon_img = $('<span/>');\n",
       "        icon_img.addClass('ui-button-icon-primary ui-icon');\n",
       "        icon_img.addClass(image);\n",
       "        icon_img.addClass('ui-corner-all');\n",
       "\n",
       "        var tooltip_span = $('<span/>');\n",
       "        tooltip_span.addClass('ui-button-text');\n",
       "        tooltip_span.html(tooltip);\n",
       "\n",
       "        button.append(icon_img);\n",
       "        button.append(tooltip_span);\n",
       "\n",
       "        nav_element.append(button);\n",
       "    }\n",
       "\n",
       "    var fmt_picker_span = $('<span/>');\n",
       "\n",
       "    var fmt_picker = $('<select/>');\n",
       "    fmt_picker.addClass('mpl-toolbar-option ui-widget ui-widget-content');\n",
       "    fmt_picker_span.append(fmt_picker);\n",
       "    nav_element.append(fmt_picker_span);\n",
       "    this.format_dropdown = fmt_picker[0];\n",
       "\n",
       "    for (var ind in mpl.extensions) {\n",
       "        var fmt = mpl.extensions[ind];\n",
       "        var option = $(\n",
       "            '<option/>', {selected: fmt === mpl.default_extension}).html(fmt);\n",
       "        fmt_picker.append(option)\n",
       "    }\n",
       "\n",
       "    // Add hover states to the ui-buttons\n",
       "    $( \".ui-button\" ).hover(\n",
       "        function() { $(this).addClass(\"ui-state-hover\");},\n",
       "        function() { $(this).removeClass(\"ui-state-hover\");}\n",
       "    );\n",
       "\n",
       "    var status_bar = $('<span class=\"mpl-message\"/>');\n",
       "    nav_element.append(status_bar);\n",
       "    this.message = status_bar[0];\n",
       "}\n",
       "\n",
       "mpl.figure.prototype.request_resize = function(x_pixels, y_pixels) {\n",
       "    // Request matplotlib to resize the figure. Matplotlib will then trigger a resize in the client,\n",
       "    // which will in turn request a refresh of the image.\n",
       "    this.send_message('resize', {'width': x_pixels, 'height': y_pixels});\n",
       "}\n",
       "\n",
       "mpl.figure.prototype.send_message = function(type, properties) {\n",
       "    properties['type'] = type;\n",
       "    properties['figure_id'] = this.id;\n",
       "    this.ws.send(JSON.stringify(properties));\n",
       "}\n",
       "\n",
       "mpl.figure.prototype.send_draw_message = function() {\n",
       "    if (!this.waiting) {\n",
       "        this.waiting = true;\n",
       "        this.ws.send(JSON.stringify({type: \"draw\", figure_id: this.id}));\n",
       "    }\n",
       "}\n",
       "\n",
       "\n",
       "mpl.figure.prototype.handle_save = function(fig, msg) {\n",
       "    var format_dropdown = fig.format_dropdown;\n",
       "    var format = format_dropdown.options[format_dropdown.selectedIndex].value;\n",
       "    fig.ondownload(fig, format);\n",
       "}\n",
       "\n",
       "\n",
       "mpl.figure.prototype.handle_resize = function(fig, msg) {\n",
       "    var size = msg['size'];\n",
       "    if (size[0] != fig.canvas.width || size[1] != fig.canvas.height) {\n",
       "        fig._resize_canvas(size[0], size[1]);\n",
       "        fig.send_message(\"refresh\", {});\n",
       "    };\n",
       "}\n",
       "\n",
       "mpl.figure.prototype.handle_rubberband = function(fig, msg) {\n",
       "    var x0 = msg['x0'];\n",
       "    var y0 = fig.canvas.height - msg['y0'];\n",
       "    var x1 = msg['x1'];\n",
       "    var y1 = fig.canvas.height - msg['y1'];\n",
       "    x0 = Math.floor(x0) + 0.5;\n",
       "    y0 = Math.floor(y0) + 0.5;\n",
       "    x1 = Math.floor(x1) + 0.5;\n",
       "    y1 = Math.floor(y1) + 0.5;\n",
       "    var min_x = Math.min(x0, x1);\n",
       "    var min_y = Math.min(y0, y1);\n",
       "    var width = Math.abs(x1 - x0);\n",
       "    var height = Math.abs(y1 - y0);\n",
       "\n",
       "    fig.rubberband_context.clearRect(\n",
       "        0, 0, fig.canvas.width, fig.canvas.height);\n",
       "\n",
       "    fig.rubberband_context.strokeRect(min_x, min_y, width, height);\n",
       "}\n",
       "\n",
       "mpl.figure.prototype.handle_figure_label = function(fig, msg) {\n",
       "    // Updates the figure title.\n",
       "    fig.header.textContent = msg['label'];\n",
       "}\n",
       "\n",
       "mpl.figure.prototype.handle_cursor = function(fig, msg) {\n",
       "    var cursor = msg['cursor'];\n",
       "    switch(cursor)\n",
       "    {\n",
       "    case 0:\n",
       "        cursor = 'pointer';\n",
       "        break;\n",
       "    case 1:\n",
       "        cursor = 'default';\n",
       "        break;\n",
       "    case 2:\n",
       "        cursor = 'crosshair';\n",
       "        break;\n",
       "    case 3:\n",
       "        cursor = 'move';\n",
       "        break;\n",
       "    }\n",
       "    fig.rubberband_canvas.style.cursor = cursor;\n",
       "}\n",
       "\n",
       "mpl.figure.prototype.handle_message = function(fig, msg) {\n",
       "    fig.message.textContent = msg['message'];\n",
       "}\n",
       "\n",
       "mpl.figure.prototype.handle_draw = function(fig, msg) {\n",
       "    // Request the server to send over a new figure.\n",
       "    fig.send_draw_message();\n",
       "}\n",
       "\n",
       "mpl.figure.prototype.handle_image_mode = function(fig, msg) {\n",
       "    fig.image_mode = msg['mode'];\n",
       "}\n",
       "\n",
       "mpl.figure.prototype.updated_canvas_event = function() {\n",
       "    // Called whenever the canvas gets updated.\n",
       "    this.send_message(\"ack\", {});\n",
       "}\n",
       "\n",
       "// A function to construct a web socket function for onmessage handling.\n",
       "// Called in the figure constructor.\n",
       "mpl.figure.prototype._make_on_message_function = function(fig) {\n",
       "    return function socket_on_message(evt) {\n",
       "        if (evt.data instanceof Blob) {\n",
       "            /* FIXME: We get \"Resource interpreted as Image but\n",
       "             * transferred with MIME type text/plain:\" errors on\n",
       "             * Chrome.  But how to set the MIME type?  It doesn't seem\n",
       "             * to be part of the websocket stream */\n",
       "            evt.data.type = \"image/png\";\n",
       "\n",
       "            /* Free the memory for the previous frames */\n",
       "            if (fig.imageObj.src) {\n",
       "                (window.URL || window.webkitURL).revokeObjectURL(\n",
       "                    fig.imageObj.src);\n",
       "            }\n",
       "\n",
       "            fig.imageObj.src = (window.URL || window.webkitURL).createObjectURL(\n",
       "                evt.data);\n",
       "            fig.updated_canvas_event();\n",
       "            fig.waiting = false;\n",
       "            return;\n",
       "        }\n",
       "        else if (typeof evt.data === 'string' && evt.data.slice(0, 21) == \"data:image/png;base64\") {\n",
       "            fig.imageObj.src = evt.data;\n",
       "            fig.updated_canvas_event();\n",
       "            fig.waiting = false;\n",
       "            return;\n",
       "        }\n",
       "\n",
       "        var msg = JSON.parse(evt.data);\n",
       "        var msg_type = msg['type'];\n",
       "\n",
       "        // Call the  \"handle_{type}\" callback, which takes\n",
       "        // the figure and JSON message as its only arguments.\n",
       "        try {\n",
       "            var callback = fig[\"handle_\" + msg_type];\n",
       "        } catch (e) {\n",
       "            console.log(\"No handler for the '\" + msg_type + \"' message type: \", msg);\n",
       "            return;\n",
       "        }\n",
       "\n",
       "        if (callback) {\n",
       "            try {\n",
       "                // console.log(\"Handling '\" + msg_type + \"' message: \", msg);\n",
       "                callback(fig, msg);\n",
       "            } catch (e) {\n",
       "                console.log(\"Exception inside the 'handler_\" + msg_type + \"' callback:\", e, e.stack, msg);\n",
       "            }\n",
       "        }\n",
       "    };\n",
       "}\n",
       "\n",
       "// from http://stackoverflow.com/questions/1114465/getting-mouse-location-in-canvas\n",
       "mpl.findpos = function(e) {\n",
       "    //this section is from http://www.quirksmode.org/js/events_properties.html\n",
       "    var targ;\n",
       "    if (!e)\n",
       "        e = window.event;\n",
       "    if (e.target)\n",
       "        targ = e.target;\n",
       "    else if (e.srcElement)\n",
       "        targ = e.srcElement;\n",
       "    if (targ.nodeType == 3) // defeat Safari bug\n",
       "        targ = targ.parentNode;\n",
       "\n",
       "    // jQuery normalizes the pageX and pageY\n",
       "    // pageX,Y are the mouse positions relative to the document\n",
       "    // offset() returns the position of the element relative to the document\n",
       "    var x = e.pageX - $(targ).offset().left;\n",
       "    var y = e.pageY - $(targ).offset().top;\n",
       "\n",
       "    return {\"x\": x, \"y\": y};\n",
       "};\n",
       "\n",
       "/*\n",
       " * return a copy of an object with only non-object keys\n",
       " * we need this to avoid circular references\n",
       " * http://stackoverflow.com/a/24161582/3208463\n",
       " */\n",
       "function simpleKeys (original) {\n",
       "  return Object.keys(original).reduce(function (obj, key) {\n",
       "    if (typeof original[key] !== 'object')\n",
       "        obj[key] = original[key]\n",
       "    return obj;\n",
       "  }, {});\n",
       "}\n",
       "\n",
       "mpl.figure.prototype.mouse_event = function(event, name) {\n",
       "    var canvas_pos = mpl.findpos(event)\n",
       "\n",
       "    if (name === 'button_press')\n",
       "    {\n",
       "        this.canvas.focus();\n",
       "        this.canvas_div.focus();\n",
       "    }\n",
       "\n",
       "    var x = canvas_pos.x;\n",
       "    var y = canvas_pos.y;\n",
       "\n",
       "    this.send_message(name, {x: x, y: y, button: event.button,\n",
       "                             step: event.step,\n",
       "                             guiEvent: simpleKeys(event)});\n",
       "\n",
       "    /* This prevents the web browser from automatically changing to\n",
       "     * the text insertion cursor when the button is pressed.  We want\n",
       "     * to control all of the cursor setting manually through the\n",
       "     * 'cursor' event from matplotlib */\n",
       "    event.preventDefault();\n",
       "    return false;\n",
       "}\n",
       "\n",
       "mpl.figure.prototype._key_event_extra = function(event, name) {\n",
       "    // Handle any extra behaviour associated with a key event\n",
       "}\n",
       "\n",
       "mpl.figure.prototype.key_event = function(event, name) {\n",
       "\n",
       "    // Prevent repeat events\n",
       "    if (name == 'key_press')\n",
       "    {\n",
       "        if (event.which === this._key)\n",
       "            return;\n",
       "        else\n",
       "            this._key = event.which;\n",
       "    }\n",
       "    if (name == 'key_release')\n",
       "        this._key = null;\n",
       "\n",
       "    var value = '';\n",
       "    if (event.ctrlKey && event.which != 17)\n",
       "        value += \"ctrl+\";\n",
       "    if (event.altKey && event.which != 18)\n",
       "        value += \"alt+\";\n",
       "    if (event.shiftKey && event.which != 16)\n",
       "        value += \"shift+\";\n",
       "\n",
       "    value += 'k';\n",
       "    value += event.which.toString();\n",
       "\n",
       "    this._key_event_extra(event, name);\n",
       "\n",
       "    this.send_message(name, {key: value,\n",
       "                             guiEvent: simpleKeys(event)});\n",
       "    return false;\n",
       "}\n",
       "\n",
       "mpl.figure.prototype.toolbar_button_onclick = function(name) {\n",
       "    if (name == 'download') {\n",
       "        this.handle_save(this, null);\n",
       "    } else {\n",
       "        this.send_message(\"toolbar_button\", {name: name});\n",
       "    }\n",
       "};\n",
       "\n",
       "mpl.figure.prototype.toolbar_button_onmouseover = function(tooltip) {\n",
       "    this.message.textContent = tooltip;\n",
       "};\n",
       "mpl.toolbar_items = [[\"Home\", \"Reset original view\", \"fa fa-home icon-home\", \"home\"], [\"Back\", \"Back to  previous view\", \"fa fa-arrow-left icon-arrow-left\", \"back\"], [\"Forward\", \"Forward to next view\", \"fa fa-arrow-right icon-arrow-right\", \"forward\"], [\"\", \"\", \"\", \"\"], [\"Pan\", \"Pan axes with left mouse, zoom with right\", \"fa fa-arrows icon-move\", \"pan\"], [\"Zoom\", \"Zoom to rectangle\", \"fa fa-square-o icon-check-empty\", \"zoom\"], [\"\", \"\", \"\", \"\"], [\"Download\", \"Download plot\", \"fa fa-floppy-o icon-save\", \"download\"]];\n",
       "\n",
       "mpl.extensions = [\"eps\", \"jpeg\", \"pdf\", \"png\", \"ps\", \"raw\", \"svg\", \"tif\"];\n",
       "\n",
       "mpl.default_extension = \"png\";var comm_websocket_adapter = function(comm) {\n",
       "    // Create a \"websocket\"-like object which calls the given IPython comm\n",
       "    // object with the appropriate methods. Currently this is a non binary\n",
       "    // socket, so there is still some room for performance tuning.\n",
       "    var ws = {};\n",
       "\n",
       "    ws.close = function() {\n",
       "        comm.close()\n",
       "    };\n",
       "    ws.send = function(m) {\n",
       "        //console.log('sending', m);\n",
       "        comm.send(m);\n",
       "    };\n",
       "    // Register the callback with on_msg.\n",
       "    comm.on_msg(function(msg) {\n",
       "        //console.log('receiving', msg['content']['data'], msg);\n",
       "        // Pass the mpl event to the overriden (by mpl) onmessage function.\n",
       "        ws.onmessage(msg['content']['data'])\n",
       "    });\n",
       "    return ws;\n",
       "}\n",
       "\n",
       "mpl.mpl_figure_comm = function(comm, msg) {\n",
       "    // This is the function which gets called when the mpl process\n",
       "    // starts-up an IPython Comm through the \"matplotlib\" channel.\n",
       "\n",
       "    var id = msg.content.data.id;\n",
       "    // Get hold of the div created by the display call when the Comm\n",
       "    // socket was opened in Python.\n",
       "    var element = $(\"#\" + id);\n",
       "    var ws_proxy = comm_websocket_adapter(comm)\n",
       "\n",
       "    function ondownload(figure, format) {\n",
       "        window.open(figure.imageObj.src);\n",
       "    }\n",
       "\n",
       "    var fig = new mpl.figure(id, ws_proxy,\n",
       "                           ondownload,\n",
       "                           element.get(0));\n",
       "\n",
       "    // Call onopen now - mpl needs it, as it is assuming we've passed it a real\n",
       "    // web socket which is closed, not our websocket->open comm proxy.\n",
       "    ws_proxy.onopen();\n",
       "\n",
       "    fig.parent_element = element.get(0);\n",
       "    fig.cell_info = mpl.find_output_cell(\"<div id='\" + id + \"'></div>\");\n",
       "    if (!fig.cell_info) {\n",
       "        console.error(\"Failed to find cell for figure\", id, fig);\n",
       "        return;\n",
       "    }\n",
       "\n",
       "    var output_index = fig.cell_info[2]\n",
       "    var cell = fig.cell_info[0];\n",
       "\n",
       "};\n",
       "\n",
       "mpl.figure.prototype.handle_close = function(fig, msg) {\n",
       "    fig.root.unbind('remove')\n",
       "\n",
       "    // Update the output cell to use the data from the current canvas.\n",
       "    fig.push_to_output();\n",
       "    var dataURL = fig.canvas.toDataURL();\n",
       "    // Re-enable the keyboard manager in IPython - without this line, in FF,\n",
       "    // the notebook keyboard shortcuts fail.\n",
       "    IPython.keyboard_manager.enable()\n",
       "    $(fig.parent_element).html('<img src=\"' + dataURL + '\">');\n",
       "    fig.close_ws(fig, msg);\n",
       "}\n",
       "\n",
       "mpl.figure.prototype.close_ws = function(fig, msg){\n",
       "    fig.send_message('closing', msg);\n",
       "    // fig.ws.close()\n",
       "}\n",
       "\n",
       "mpl.figure.prototype.push_to_output = function(remove_interactive) {\n",
       "    // Turn the data on the canvas into data in the output cell.\n",
       "    var dataURL = this.canvas.toDataURL();\n",
       "    this.cell_info[1]['text/html'] = '<img src=\"' + dataURL + '\">';\n",
       "}\n",
       "\n",
       "mpl.figure.prototype.updated_canvas_event = function() {\n",
       "    // Tell IPython that the notebook contents must change.\n",
       "    IPython.notebook.set_dirty(true);\n",
       "    this.send_message(\"ack\", {});\n",
       "    var fig = this;\n",
       "    // Wait a second, then push the new image to the DOM so\n",
       "    // that it is saved nicely (might be nice to debounce this).\n",
       "    setTimeout(function () { fig.push_to_output() }, 1000);\n",
       "}\n",
       "\n",
       "mpl.figure.prototype._init_toolbar = function() {\n",
       "    var fig = this;\n",
       "\n",
       "    var nav_element = $('<div/>')\n",
       "    nav_element.attr('style', 'width: 100%');\n",
       "    this.root.append(nav_element);\n",
       "\n",
       "    // Define a callback function for later on.\n",
       "    function toolbar_event(event) {\n",
       "        return fig.toolbar_button_onclick(event['data']);\n",
       "    }\n",
       "    function toolbar_mouse_event(event) {\n",
       "        return fig.toolbar_button_onmouseover(event['data']);\n",
       "    }\n",
       "\n",
       "    for(var toolbar_ind in mpl.toolbar_items){\n",
       "        var name = mpl.toolbar_items[toolbar_ind][0];\n",
       "        var tooltip = mpl.toolbar_items[toolbar_ind][1];\n",
       "        var image = mpl.toolbar_items[toolbar_ind][2];\n",
       "        var method_name = mpl.toolbar_items[toolbar_ind][3];\n",
       "\n",
       "        if (!name) { continue; };\n",
       "\n",
       "        var button = $('<button class=\"btn btn-default\" href=\"#\" title=\"' + name + '\"><i class=\"fa ' + image + ' fa-lg\"></i></button>');\n",
       "        button.click(method_name, toolbar_event);\n",
       "        button.mouseover(tooltip, toolbar_mouse_event);\n",
       "        nav_element.append(button);\n",
       "    }\n",
       "\n",
       "    // Add the status bar.\n",
       "    var status_bar = $('<span class=\"mpl-message\" style=\"text-align:right; float: right;\"/>');\n",
       "    nav_element.append(status_bar);\n",
       "    this.message = status_bar[0];\n",
       "\n",
       "    // Add the close button to the window.\n",
       "    var buttongrp = $('<div class=\"btn-group inline pull-right\"></div>');\n",
       "    var button = $('<button class=\"btn btn-mini btn-primary\" href=\"#\" title=\"Stop Interaction\"><i class=\"fa fa-power-off icon-remove icon-large\"></i></button>');\n",
       "    button.click(function (evt) { fig.handle_close(fig, {}); } );\n",
       "    button.mouseover('Stop Interaction', toolbar_mouse_event);\n",
       "    buttongrp.append(button);\n",
       "    var titlebar = this.root.find($('.ui-dialog-titlebar'));\n",
       "    titlebar.prepend(buttongrp);\n",
       "}\n",
       "\n",
       "mpl.figure.prototype._root_extra_style = function(el){\n",
       "    var fig = this\n",
       "    el.on(\"remove\", function(){\n",
       "\tfig.close_ws(fig, {});\n",
       "    });\n",
       "}\n",
       "\n",
       "mpl.figure.prototype._canvas_extra_style = function(el){\n",
       "    // this is important to make the div 'focusable\n",
       "    el.attr('tabindex', 0)\n",
       "    // reach out to IPython and tell the keyboard manager to turn it's self\n",
       "    // off when our div gets focus\n",
       "\n",
       "    // location in version 3\n",
       "    if (IPython.notebook.keyboard_manager) {\n",
       "        IPython.notebook.keyboard_manager.register_events(el);\n",
       "    }\n",
       "    else {\n",
       "        // location in version 2\n",
       "        IPython.keyboard_manager.register_events(el);\n",
       "    }\n",
       "\n",
       "}\n",
       "\n",
       "mpl.figure.prototype._key_event_extra = function(event, name) {\n",
       "    var manager = IPython.notebook.keyboard_manager;\n",
       "    if (!manager)\n",
       "        manager = IPython.keyboard_manager;\n",
       "\n",
       "    // Check for shift+enter\n",
       "    if (event.shiftKey && event.which == 13) {\n",
       "        this.canvas_div.blur();\n",
       "        event.shiftKey = false;\n",
       "        // Send a \"J\" for go to next cell\n",
       "        event.which = 74;\n",
       "        event.keyCode = 74;\n",
       "        manager.command_mode();\n",
       "        manager.handle_keydown(event);\n",
       "    }\n",
       "}\n",
       "\n",
       "mpl.figure.prototype.handle_save = function(fig, msg) {\n",
       "    fig.ondownload(fig, null);\n",
       "}\n",
       "\n",
       "\n",
       "mpl.find_output_cell = function(html_output) {\n",
       "    // Return the cell and output element which can be found *uniquely* in the notebook.\n",
       "    // Note - this is a bit hacky, but it is done because the \"notebook_saving.Notebook\"\n",
       "    // IPython event is triggered only after the cells have been serialised, which for\n",
       "    // our purposes (turning an active figure into a static one), is too late.\n",
       "    var cells = IPython.notebook.get_cells();\n",
       "    var ncells = cells.length;\n",
       "    for (var i=0; i<ncells; i++) {\n",
       "        var cell = cells[i];\n",
       "        if (cell.cell_type === 'code'){\n",
       "            for (var j=0; j<cell.output_area.outputs.length; j++) {\n",
       "                var data = cell.output_area.outputs[j];\n",
       "                if (data.data) {\n",
       "                    // IPython >= 3 moved mimebundle to data attribute of output\n",
       "                    data = data.data;\n",
       "                }\n",
       "                if (data['text/html'] == html_output) {\n",
       "                    return [cell, data, j];\n",
       "                }\n",
       "            }\n",
       "        }\n",
       "    }\n",
       "}\n",
       "\n",
       "// Register the function which deals with the matplotlib target/channel.\n",
       "// The kernel may be null if the page has been refreshed.\n",
       "if (IPython.notebook.kernel != null) {\n",
       "    IPython.notebook.kernel.comm_manager.register_target('matplotlib', mpl.mpl_figure_comm);\n",
       "}\n"
      ],
      "text/plain": [
       "<IPython.core.display.Javascript object>"
      ]
     },
     "metadata": {},
     "output_type": "display_data"
    },
    {
     "data": {
      "text/html": [
       "<img src=\"data:image/png;base64,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\">"
      ],
      "text/plain": [
       "<IPython.core.display.HTML object>"
      ]
     },
     "metadata": {},
     "output_type": "display_data"
    }
   ],
   "source": [
    "barwidth = 0.75; \n",
    "fig, ax = plt.subplots(figsize=(9, 7));\n",
    "rects1 = ax.bar(0.5,RTanalysis.LowC.mean(),barwidth,yerr=RTstderror.LowC,ecolor='k',edgecolor=sns.xkcd_rgb['green'],linewidth = 2, facecolor='none',error_kw=dict(lw=3),label='Congruent');\n",
    "rects2 = ax.bar(1.5,RTanalysis.LowIC.mean(),barwidth,color=sns.xkcd_rgb['green'],yerr=RTstderror.LowIC,ecolor='k',error_kw=dict(lw=3),label='Incongruent');\n",
    "rects3 = ax.bar(3,RTanalysis.HighC.mean(),barwidth,yerr=RTstderror.HighC,ecolor='k',edgecolor=(0.3,0.9,0.3),linewidth = 2, facecolor='none',error_kw=dict(lw=3));\n",
    "rects4 = ax.bar(4,RTanalysis.HighIC.mean(),barwidth,color=(0.3,0.9,0.3),yerr=RTstderror.HighIC,ecolor='k',error_kw=dict(lw=3));\n",
    "sns.set(context='notebook', style='white', font='Myriad Pro', font_scale=2, color_codes=False, rc=None);\n",
    "ax.set_ylim(610,750);\n",
    "ax.set_xlim(0,6);\n",
    "ax.set_xticklabels(('Low', 'High'));\n",
    "ax.set_xticks([1 + barwidth/2, 3.5 + barwidth/2]);\n",
    "ax.set_yticks(np.arange(610, 711, 20));\n",
    "plt.legend([rects1,rects2], ['Congruent','Incongruent'], loc='upper right',fontsize=18,title='Trial Type')\n",
    "plt.legend(title='Trial Type',fontsize=19)\n",
    "plt.title('S-C Phase RT', fontsize=26,fontweight=\"bold\")\n",
    "plt.ylabel('Reaction Time (ms)', fontsize=24,fontweight=\"bold\")\n",
    "plt.xlabel('S2 Control-Demand Cue', fontsize=24,fontweight=\"bold\")\n",
    "sns.despine();\n",
    "\n",
    "plt.show()"
   ]
  },
  {
   "cell_type": "code",
   "execution_count": 80,
   "metadata": {},
   "outputs": [
    {
     "data": {
      "application/javascript": [
       "/* Put everything inside the global mpl namespace */\n",
       "window.mpl = {};\n",
       "\n",
       "mpl.get_websocket_type = function() {\n",
       "    if (typeof(WebSocket) !== 'undefined') {\n",
       "        return WebSocket;\n",
       "    } else if (typeof(MozWebSocket) !== 'undefined') {\n",
       "        return MozWebSocket;\n",
       "    } else {\n",
       "        alert('Your browser does not have WebSocket support.' +\n",
       "              'Please try Chrome, Safari or Firefox ≥ 6. ' +\n",
       "              'Firefox 4 and 5 are also supported but you ' +\n",
       "              'have to enable WebSockets in about:config.');\n",
       "    };\n",
       "}\n",
       "\n",
       "mpl.figure = function(figure_id, websocket, ondownload, parent_element) {\n",
       "    this.id = figure_id;\n",
       "\n",
       "    this.ws = websocket;\n",
       "\n",
       "    this.supports_binary = (this.ws.binaryType != undefined);\n",
       "\n",
       "    if (!this.supports_binary) {\n",
       "        var warnings = document.getElementById(\"mpl-warnings\");\n",
       "        if (warnings) {\n",
       "            warnings.style.display = 'block';\n",
       "            warnings.textContent = (\n",
       "                \"This browser does not support binary websocket messages. \" +\n",
       "                    \"Performance may be slow.\");\n",
       "        }\n",
       "    }\n",
       "\n",
       "    this.imageObj = new Image();\n",
       "\n",
       "    this.context = undefined;\n",
       "    this.message = undefined;\n",
       "    this.canvas = undefined;\n",
       "    this.rubberband_canvas = undefined;\n",
       "    this.rubberband_context = undefined;\n",
       "    this.format_dropdown = undefined;\n",
       "\n",
       "    this.image_mode = 'full';\n",
       "\n",
       "    this.root = $('<div/>');\n",
       "    this._root_extra_style(this.root)\n",
       "    this.root.attr('style', 'display: inline-block');\n",
       "\n",
       "    $(parent_element).append(this.root);\n",
       "\n",
       "    this._init_header(this);\n",
       "    this._init_canvas(this);\n",
       "    this._init_toolbar(this);\n",
       "\n",
       "    var fig = this;\n",
       "\n",
       "    this.waiting = false;\n",
       "\n",
       "    this.ws.onopen =  function () {\n",
       "            fig.send_message(\"supports_binary\", {value: fig.supports_binary});\n",
       "            fig.send_message(\"send_image_mode\", {});\n",
       "            fig.send_message(\"refresh\", {});\n",
       "        }\n",
       "\n",
       "    this.imageObj.onload = function() {\n",
       "            if (fig.image_mode == 'full') {\n",
       "                // Full images could contain transparency (where diff images\n",
       "                // almost always do), so we need to clear the canvas so that\n",
       "                // there is no ghosting.\n",
       "                fig.context.clearRect(0, 0, fig.canvas.width, fig.canvas.height);\n",
       "            }\n",
       "            fig.context.drawImage(fig.imageObj, 0, 0);\n",
       "        };\n",
       "\n",
       "    this.imageObj.onunload = function() {\n",
       "        this.ws.close();\n",
       "    }\n",
       "\n",
       "    this.ws.onmessage = this._make_on_message_function(this);\n",
       "\n",
       "    this.ondownload = ondownload;\n",
       "}\n",
       "\n",
       "mpl.figure.prototype._init_header = function() {\n",
       "    var titlebar = $(\n",
       "        '<div class=\"ui-dialog-titlebar ui-widget-header ui-corner-all ' +\n",
       "        'ui-helper-clearfix\"/>');\n",
       "    var titletext = $(\n",
       "        '<div class=\"ui-dialog-title\" style=\"width: 100%; ' +\n",
       "        'text-align: center; padding: 3px;\"/>');\n",
       "    titlebar.append(titletext)\n",
       "    this.root.append(titlebar);\n",
       "    this.header = titletext[0];\n",
       "}\n",
       "\n",
       "\n",
       "\n",
       "mpl.figure.prototype._canvas_extra_style = function(canvas_div) {\n",
       "\n",
       "}\n",
       "\n",
       "\n",
       "mpl.figure.prototype._root_extra_style = function(canvas_div) {\n",
       "\n",
       "}\n",
       "\n",
       "mpl.figure.prototype._init_canvas = function() {\n",
       "    var fig = this;\n",
       "\n",
       "    var canvas_div = $('<div/>');\n",
       "\n",
       "    canvas_div.attr('style', 'position: relative; clear: both; outline: 0');\n",
       "\n",
       "    function canvas_keyboard_event(event) {\n",
       "        return fig.key_event(event, event['data']);\n",
       "    }\n",
       "\n",
       "    canvas_div.keydown('key_press', canvas_keyboard_event);\n",
       "    canvas_div.keyup('key_release', canvas_keyboard_event);\n",
       "    this.canvas_div = canvas_div\n",
       "    this._canvas_extra_style(canvas_div)\n",
       "    this.root.append(canvas_div);\n",
       "\n",
       "    var canvas = $('<canvas/>');\n",
       "    canvas.addClass('mpl-canvas');\n",
       "    canvas.attr('style', \"left: 0; top: 0; z-index: 0; outline: 0\")\n",
       "\n",
       "    this.canvas = canvas[0];\n",
       "    this.context = canvas[0].getContext(\"2d\");\n",
       "\n",
       "    var rubberband = $('<canvas/>');\n",
       "    rubberband.attr('style', \"position: absolute; left: 0; top: 0; z-index: 1;\")\n",
       "\n",
       "    var pass_mouse_events = true;\n",
       "\n",
       "    canvas_div.resizable({\n",
       "        start: function(event, ui) {\n",
       "            pass_mouse_events = false;\n",
       "        },\n",
       "        resize: function(event, ui) {\n",
       "            fig.request_resize(ui.size.width, ui.size.height);\n",
       "        },\n",
       "        stop: function(event, ui) {\n",
       "            pass_mouse_events = true;\n",
       "            fig.request_resize(ui.size.width, ui.size.height);\n",
       "        },\n",
       "    });\n",
       "\n",
       "    function mouse_event_fn(event) {\n",
       "        if (pass_mouse_events)\n",
       "            return fig.mouse_event(event, event['data']);\n",
       "    }\n",
       "\n",
       "    rubberband.mousedown('button_press', mouse_event_fn);\n",
       "    rubberband.mouseup('button_release', mouse_event_fn);\n",
       "    // Throttle sequential mouse events to 1 every 20ms.\n",
       "    rubberband.mousemove('motion_notify', mouse_event_fn);\n",
       "\n",
       "    rubberband.mouseenter('figure_enter', mouse_event_fn);\n",
       "    rubberband.mouseleave('figure_leave', mouse_event_fn);\n",
       "\n",
       "    canvas_div.on(\"wheel\", function (event) {\n",
       "        event = event.originalEvent;\n",
       "        event['data'] = 'scroll'\n",
       "        if (event.deltaY < 0) {\n",
       "            event.step = 1;\n",
       "        } else {\n",
       "            event.step = -1;\n",
       "        }\n",
       "        mouse_event_fn(event);\n",
       "    });\n",
       "\n",
       "    canvas_div.append(canvas);\n",
       "    canvas_div.append(rubberband);\n",
       "\n",
       "    this.rubberband = rubberband;\n",
       "    this.rubberband_canvas = rubberband[0];\n",
       "    this.rubberband_context = rubberband[0].getContext(\"2d\");\n",
       "    this.rubberband_context.strokeStyle = \"#000000\";\n",
       "\n",
       "    this._resize_canvas = function(width, height) {\n",
       "        // Keep the size of the canvas, canvas container, and rubber band\n",
       "        // canvas in synch.\n",
       "        canvas_div.css('width', width)\n",
       "        canvas_div.css('height', height)\n",
       "\n",
       "        canvas.attr('width', width);\n",
       "        canvas.attr('height', height);\n",
       "\n",
       "        rubberband.attr('width', width);\n",
       "        rubberband.attr('height', height);\n",
       "    }\n",
       "\n",
       "    // Set the figure to an initial 600x600px, this will subsequently be updated\n",
       "    // upon first draw.\n",
       "    this._resize_canvas(600, 600);\n",
       "\n",
       "    // Disable right mouse context menu.\n",
       "    $(this.rubberband_canvas).bind(\"contextmenu\",function(e){\n",
       "        return false;\n",
       "    });\n",
       "\n",
       "    function set_focus () {\n",
       "        canvas.focus();\n",
       "        canvas_div.focus();\n",
       "    }\n",
       "\n",
       "    window.setTimeout(set_focus, 100);\n",
       "}\n",
       "\n",
       "mpl.figure.prototype._init_toolbar = function() {\n",
       "    var fig = this;\n",
       "\n",
       "    var nav_element = $('<div/>')\n",
       "    nav_element.attr('style', 'width: 100%');\n",
       "    this.root.append(nav_element);\n",
       "\n",
       "    // Define a callback function for later on.\n",
       "    function toolbar_event(event) {\n",
       "        return fig.toolbar_button_onclick(event['data']);\n",
       "    }\n",
       "    function toolbar_mouse_event(event) {\n",
       "        return fig.toolbar_button_onmouseover(event['data']);\n",
       "    }\n",
       "\n",
       "    for(var toolbar_ind in mpl.toolbar_items) {\n",
       "        var name = mpl.toolbar_items[toolbar_ind][0];\n",
       "        var tooltip = mpl.toolbar_items[toolbar_ind][1];\n",
       "        var image = mpl.toolbar_items[toolbar_ind][2];\n",
       "        var method_name = mpl.toolbar_items[toolbar_ind][3];\n",
       "\n",
       "        if (!name) {\n",
       "            // put a spacer in here.\n",
       "            continue;\n",
       "        }\n",
       "        var button = $('<button/>');\n",
       "        button.addClass('ui-button ui-widget ui-state-default ui-corner-all ' +\n",
       "                        'ui-button-icon-only');\n",
       "        button.attr('role', 'button');\n",
       "        button.attr('aria-disabled', 'false');\n",
       "        button.click(method_name, toolbar_event);\n",
       "        button.mouseover(tooltip, toolbar_mouse_event);\n",
       "\n",
       "        var icon_img = $('<span/>');\n",
       "        icon_img.addClass('ui-button-icon-primary ui-icon');\n",
       "        icon_img.addClass(image);\n",
       "        icon_img.addClass('ui-corner-all');\n",
       "\n",
       "        var tooltip_span = $('<span/>');\n",
       "        tooltip_span.addClass('ui-button-text');\n",
       "        tooltip_span.html(tooltip);\n",
       "\n",
       "        button.append(icon_img);\n",
       "        button.append(tooltip_span);\n",
       "\n",
       "        nav_element.append(button);\n",
       "    }\n",
       "\n",
       "    var fmt_picker_span = $('<span/>');\n",
       "\n",
       "    var fmt_picker = $('<select/>');\n",
       "    fmt_picker.addClass('mpl-toolbar-option ui-widget ui-widget-content');\n",
       "    fmt_picker_span.append(fmt_picker);\n",
       "    nav_element.append(fmt_picker_span);\n",
       "    this.format_dropdown = fmt_picker[0];\n",
       "\n",
       "    for (var ind in mpl.extensions) {\n",
       "        var fmt = mpl.extensions[ind];\n",
       "        var option = $(\n",
       "            '<option/>', {selected: fmt === mpl.default_extension}).html(fmt);\n",
       "        fmt_picker.append(option)\n",
       "    }\n",
       "\n",
       "    // Add hover states to the ui-buttons\n",
       "    $( \".ui-button\" ).hover(\n",
       "        function() { $(this).addClass(\"ui-state-hover\");},\n",
       "        function() { $(this).removeClass(\"ui-state-hover\");}\n",
       "    );\n",
       "\n",
       "    var status_bar = $('<span class=\"mpl-message\"/>');\n",
       "    nav_element.append(status_bar);\n",
       "    this.message = status_bar[0];\n",
       "}\n",
       "\n",
       "mpl.figure.prototype.request_resize = function(x_pixels, y_pixels) {\n",
       "    // Request matplotlib to resize the figure. Matplotlib will then trigger a resize in the client,\n",
       "    // which will in turn request a refresh of the image.\n",
       "    this.send_message('resize', {'width': x_pixels, 'height': y_pixels});\n",
       "}\n",
       "\n",
       "mpl.figure.prototype.send_message = function(type, properties) {\n",
       "    properties['type'] = type;\n",
       "    properties['figure_id'] = this.id;\n",
       "    this.ws.send(JSON.stringify(properties));\n",
       "}\n",
       "\n",
       "mpl.figure.prototype.send_draw_message = function() {\n",
       "    if (!this.waiting) {\n",
       "        this.waiting = true;\n",
       "        this.ws.send(JSON.stringify({type: \"draw\", figure_id: this.id}));\n",
       "    }\n",
       "}\n",
       "\n",
       "\n",
       "mpl.figure.prototype.handle_save = function(fig, msg) {\n",
       "    var format_dropdown = fig.format_dropdown;\n",
       "    var format = format_dropdown.options[format_dropdown.selectedIndex].value;\n",
       "    fig.ondownload(fig, format);\n",
       "}\n",
       "\n",
       "\n",
       "mpl.figure.prototype.handle_resize = function(fig, msg) {\n",
       "    var size = msg['size'];\n",
       "    if (size[0] != fig.canvas.width || size[1] != fig.canvas.height) {\n",
       "        fig._resize_canvas(size[0], size[1]);\n",
       "        fig.send_message(\"refresh\", {});\n",
       "    };\n",
       "}\n",
       "\n",
       "mpl.figure.prototype.handle_rubberband = function(fig, msg) {\n",
       "    var x0 = msg['x0'];\n",
       "    var y0 = fig.canvas.height - msg['y0'];\n",
       "    var x1 = msg['x1'];\n",
       "    var y1 = fig.canvas.height - msg['y1'];\n",
       "    x0 = Math.floor(x0) + 0.5;\n",
       "    y0 = Math.floor(y0) + 0.5;\n",
       "    x1 = Math.floor(x1) + 0.5;\n",
       "    y1 = Math.floor(y1) + 0.5;\n",
       "    var min_x = Math.min(x0, x1);\n",
       "    var min_y = Math.min(y0, y1);\n",
       "    var width = Math.abs(x1 - x0);\n",
       "    var height = Math.abs(y1 - y0);\n",
       "\n",
       "    fig.rubberband_context.clearRect(\n",
       "        0, 0, fig.canvas.width, fig.canvas.height);\n",
       "\n",
       "    fig.rubberband_context.strokeRect(min_x, min_y, width, height);\n",
       "}\n",
       "\n",
       "mpl.figure.prototype.handle_figure_label = function(fig, msg) {\n",
       "    // Updates the figure title.\n",
       "    fig.header.textContent = msg['label'];\n",
       "}\n",
       "\n",
       "mpl.figure.prototype.handle_cursor = function(fig, msg) {\n",
       "    var cursor = msg['cursor'];\n",
       "    switch(cursor)\n",
       "    {\n",
       "    case 0:\n",
       "        cursor = 'pointer';\n",
       "        break;\n",
       "    case 1:\n",
       "        cursor = 'default';\n",
       "        break;\n",
       "    case 2:\n",
       "        cursor = 'crosshair';\n",
       "        break;\n",
       "    case 3:\n",
       "        cursor = 'move';\n",
       "        break;\n",
       "    }\n",
       "    fig.rubberband_canvas.style.cursor = cursor;\n",
       "}\n",
       "\n",
       "mpl.figure.prototype.handle_message = function(fig, msg) {\n",
       "    fig.message.textContent = msg['message'];\n",
       "}\n",
       "\n",
       "mpl.figure.prototype.handle_draw = function(fig, msg) {\n",
       "    // Request the server to send over a new figure.\n",
       "    fig.send_draw_message();\n",
       "}\n",
       "\n",
       "mpl.figure.prototype.handle_image_mode = function(fig, msg) {\n",
       "    fig.image_mode = msg['mode'];\n",
       "}\n",
       "\n",
       "mpl.figure.prototype.updated_canvas_event = function() {\n",
       "    // Called whenever the canvas gets updated.\n",
       "    this.send_message(\"ack\", {});\n",
       "}\n",
       "\n",
       "// A function to construct a web socket function for onmessage handling.\n",
       "// Called in the figure constructor.\n",
       "mpl.figure.prototype._make_on_message_function = function(fig) {\n",
       "    return function socket_on_message(evt) {\n",
       "        if (evt.data instanceof Blob) {\n",
       "            /* FIXME: We get \"Resource interpreted as Image but\n",
       "             * transferred with MIME type text/plain:\" errors on\n",
       "             * Chrome.  But how to set the MIME type?  It doesn't seem\n",
       "             * to be part of the websocket stream */\n",
       "            evt.data.type = \"image/png\";\n",
       "\n",
       "            /* Free the memory for the previous frames */\n",
       "            if (fig.imageObj.src) {\n",
       "                (window.URL || window.webkitURL).revokeObjectURL(\n",
       "                    fig.imageObj.src);\n",
       "            }\n",
       "\n",
       "            fig.imageObj.src = (window.URL || window.webkitURL).createObjectURL(\n",
       "                evt.data);\n",
       "            fig.updated_canvas_event();\n",
       "            fig.waiting = false;\n",
       "            return;\n",
       "        }\n",
       "        else if (typeof evt.data === 'string' && evt.data.slice(0, 21) == \"data:image/png;base64\") {\n",
       "            fig.imageObj.src = evt.data;\n",
       "            fig.updated_canvas_event();\n",
       "            fig.waiting = false;\n",
       "            return;\n",
       "        }\n",
       "\n",
       "        var msg = JSON.parse(evt.data);\n",
       "        var msg_type = msg['type'];\n",
       "\n",
       "        // Call the  \"handle_{type}\" callback, which takes\n",
       "        // the figure and JSON message as its only arguments.\n",
       "        try {\n",
       "            var callback = fig[\"handle_\" + msg_type];\n",
       "        } catch (e) {\n",
       "            console.log(\"No handler for the '\" + msg_type + \"' message type: \", msg);\n",
       "            return;\n",
       "        }\n",
       "\n",
       "        if (callback) {\n",
       "            try {\n",
       "                // console.log(\"Handling '\" + msg_type + \"' message: \", msg);\n",
       "                callback(fig, msg);\n",
       "            } catch (e) {\n",
       "                console.log(\"Exception inside the 'handler_\" + msg_type + \"' callback:\", e, e.stack, msg);\n",
       "            }\n",
       "        }\n",
       "    };\n",
       "}\n",
       "\n",
       "// from http://stackoverflow.com/questions/1114465/getting-mouse-location-in-canvas\n",
       "mpl.findpos = function(e) {\n",
       "    //this section is from http://www.quirksmode.org/js/events_properties.html\n",
       "    var targ;\n",
       "    if (!e)\n",
       "        e = window.event;\n",
       "    if (e.target)\n",
       "        targ = e.target;\n",
       "    else if (e.srcElement)\n",
       "        targ = e.srcElement;\n",
       "    if (targ.nodeType == 3) // defeat Safari bug\n",
       "        targ = targ.parentNode;\n",
       "\n",
       "    // jQuery normalizes the pageX and pageY\n",
       "    // pageX,Y are the mouse positions relative to the document\n",
       "    // offset() returns the position of the element relative to the document\n",
       "    var x = e.pageX - $(targ).offset().left;\n",
       "    var y = e.pageY - $(targ).offset().top;\n",
       "\n",
       "    return {\"x\": x, \"y\": y};\n",
       "};\n",
       "\n",
       "/*\n",
       " * return a copy of an object with only non-object keys\n",
       " * we need this to avoid circular references\n",
       " * http://stackoverflow.com/a/24161582/3208463\n",
       " */\n",
       "function simpleKeys (original) {\n",
       "  return Object.keys(original).reduce(function (obj, key) {\n",
       "    if (typeof original[key] !== 'object')\n",
       "        obj[key] = original[key]\n",
       "    return obj;\n",
       "  }, {});\n",
       "}\n",
       "\n",
       "mpl.figure.prototype.mouse_event = function(event, name) {\n",
       "    var canvas_pos = mpl.findpos(event)\n",
       "\n",
       "    if (name === 'button_press')\n",
       "    {\n",
       "        this.canvas.focus();\n",
       "        this.canvas_div.focus();\n",
       "    }\n",
       "\n",
       "    var x = canvas_pos.x;\n",
       "    var y = canvas_pos.y;\n",
       "\n",
       "    this.send_message(name, {x: x, y: y, button: event.button,\n",
       "                             step: event.step,\n",
       "                             guiEvent: simpleKeys(event)});\n",
       "\n",
       "    /* This prevents the web browser from automatically changing to\n",
       "     * the text insertion cursor when the button is pressed.  We want\n",
       "     * to control all of the cursor setting manually through the\n",
       "     * 'cursor' event from matplotlib */\n",
       "    event.preventDefault();\n",
       "    return false;\n",
       "}\n",
       "\n",
       "mpl.figure.prototype._key_event_extra = function(event, name) {\n",
       "    // Handle any extra behaviour associated with a key event\n",
       "}\n",
       "\n",
       "mpl.figure.prototype.key_event = function(event, name) {\n",
       "\n",
       "    // Prevent repeat events\n",
       "    if (name == 'key_press')\n",
       "    {\n",
       "        if (event.which === this._key)\n",
       "            return;\n",
       "        else\n",
       "            this._key = event.which;\n",
       "    }\n",
       "    if (name == 'key_release')\n",
       "        this._key = null;\n",
       "\n",
       "    var value = '';\n",
       "    if (event.ctrlKey && event.which != 17)\n",
       "        value += \"ctrl+\";\n",
       "    if (event.altKey && event.which != 18)\n",
       "        value += \"alt+\";\n",
       "    if (event.shiftKey && event.which != 16)\n",
       "        value += \"shift+\";\n",
       "\n",
       "    value += 'k';\n",
       "    value += event.which.toString();\n",
       "\n",
       "    this._key_event_extra(event, name);\n",
       "\n",
       "    this.send_message(name, {key: value,\n",
       "                             guiEvent: simpleKeys(event)});\n",
       "    return false;\n",
       "}\n",
       "\n",
       "mpl.figure.prototype.toolbar_button_onclick = function(name) {\n",
       "    if (name == 'download') {\n",
       "        this.handle_save(this, null);\n",
       "    } else {\n",
       "        this.send_message(\"toolbar_button\", {name: name});\n",
       "    }\n",
       "};\n",
       "\n",
       "mpl.figure.prototype.toolbar_button_onmouseover = function(tooltip) {\n",
       "    this.message.textContent = tooltip;\n",
       "};\n",
       "mpl.toolbar_items = [[\"Home\", \"Reset original view\", \"fa fa-home icon-home\", \"home\"], [\"Back\", \"Back to  previous view\", \"fa fa-arrow-left icon-arrow-left\", \"back\"], [\"Forward\", \"Forward to next view\", \"fa fa-arrow-right icon-arrow-right\", \"forward\"], [\"\", \"\", \"\", \"\"], [\"Pan\", \"Pan axes with left mouse, zoom with right\", \"fa fa-arrows icon-move\", \"pan\"], [\"Zoom\", \"Zoom to rectangle\", \"fa fa-square-o icon-check-empty\", \"zoom\"], [\"\", \"\", \"\", \"\"], [\"Download\", \"Download plot\", \"fa fa-floppy-o icon-save\", \"download\"]];\n",
       "\n",
       "mpl.extensions = [\"eps\", \"jpeg\", \"pdf\", \"png\", \"ps\", \"raw\", \"svg\", \"tif\"];\n",
       "\n",
       "mpl.default_extension = \"png\";var comm_websocket_adapter = function(comm) {\n",
       "    // Create a \"websocket\"-like object which calls the given IPython comm\n",
       "    // object with the appropriate methods. Currently this is a non binary\n",
       "    // socket, so there is still some room for performance tuning.\n",
       "    var ws = {};\n",
       "\n",
       "    ws.close = function() {\n",
       "        comm.close()\n",
       "    };\n",
       "    ws.send = function(m) {\n",
       "        //console.log('sending', m);\n",
       "        comm.send(m);\n",
       "    };\n",
       "    // Register the callback with on_msg.\n",
       "    comm.on_msg(function(msg) {\n",
       "        //console.log('receiving', msg['content']['data'], msg);\n",
       "        // Pass the mpl event to the overriden (by mpl) onmessage function.\n",
       "        ws.onmessage(msg['content']['data'])\n",
       "    });\n",
       "    return ws;\n",
       "}\n",
       "\n",
       "mpl.mpl_figure_comm = function(comm, msg) {\n",
       "    // This is the function which gets called when the mpl process\n",
       "    // starts-up an IPython Comm through the \"matplotlib\" channel.\n",
       "\n",
       "    var id = msg.content.data.id;\n",
       "    // Get hold of the div created by the display call when the Comm\n",
       "    // socket was opened in Python.\n",
       "    var element = $(\"#\" + id);\n",
       "    var ws_proxy = comm_websocket_adapter(comm)\n",
       "\n",
       "    function ondownload(figure, format) {\n",
       "        window.open(figure.imageObj.src);\n",
       "    }\n",
       "\n",
       "    var fig = new mpl.figure(id, ws_proxy,\n",
       "                           ondownload,\n",
       "                           element.get(0));\n",
       "\n",
       "    // Call onopen now - mpl needs it, as it is assuming we've passed it a real\n",
       "    // web socket which is closed, not our websocket->open comm proxy.\n",
       "    ws_proxy.onopen();\n",
       "\n",
       "    fig.parent_element = element.get(0);\n",
       "    fig.cell_info = mpl.find_output_cell(\"<div id='\" + id + \"'></div>\");\n",
       "    if (!fig.cell_info) {\n",
       "        console.error(\"Failed to find cell for figure\", id, fig);\n",
       "        return;\n",
       "    }\n",
       "\n",
       "    var output_index = fig.cell_info[2]\n",
       "    var cell = fig.cell_info[0];\n",
       "\n",
       "};\n",
       "\n",
       "mpl.figure.prototype.handle_close = function(fig, msg) {\n",
       "    fig.root.unbind('remove')\n",
       "\n",
       "    // Update the output cell to use the data from the current canvas.\n",
       "    fig.push_to_output();\n",
       "    var dataURL = fig.canvas.toDataURL();\n",
       "    // Re-enable the keyboard manager in IPython - without this line, in FF,\n",
       "    // the notebook keyboard shortcuts fail.\n",
       "    IPython.keyboard_manager.enable()\n",
       "    $(fig.parent_element).html('<img src=\"' + dataURL + '\">');\n",
       "    fig.close_ws(fig, msg);\n",
       "}\n",
       "\n",
       "mpl.figure.prototype.close_ws = function(fig, msg){\n",
       "    fig.send_message('closing', msg);\n",
       "    // fig.ws.close()\n",
       "}\n",
       "\n",
       "mpl.figure.prototype.push_to_output = function(remove_interactive) {\n",
       "    // Turn the data on the canvas into data in the output cell.\n",
       "    var dataURL = this.canvas.toDataURL();\n",
       "    this.cell_info[1]['text/html'] = '<img src=\"' + dataURL + '\">';\n",
       "}\n",
       "\n",
       "mpl.figure.prototype.updated_canvas_event = function() {\n",
       "    // Tell IPython that the notebook contents must change.\n",
       "    IPython.notebook.set_dirty(true);\n",
       "    this.send_message(\"ack\", {});\n",
       "    var fig = this;\n",
       "    // Wait a second, then push the new image to the DOM so\n",
       "    // that it is saved nicely (might be nice to debounce this).\n",
       "    setTimeout(function () { fig.push_to_output() }, 1000);\n",
       "}\n",
       "\n",
       "mpl.figure.prototype._init_toolbar = function() {\n",
       "    var fig = this;\n",
       "\n",
       "    var nav_element = $('<div/>')\n",
       "    nav_element.attr('style', 'width: 100%');\n",
       "    this.root.append(nav_element);\n",
       "\n",
       "    // Define a callback function for later on.\n",
       "    function toolbar_event(event) {\n",
       "        return fig.toolbar_button_onclick(event['data']);\n",
       "    }\n",
       "    function toolbar_mouse_event(event) {\n",
       "        return fig.toolbar_button_onmouseover(event['data']);\n",
       "    }\n",
       "\n",
       "    for(var toolbar_ind in mpl.toolbar_items){\n",
       "        var name = mpl.toolbar_items[toolbar_ind][0];\n",
       "        var tooltip = mpl.toolbar_items[toolbar_ind][1];\n",
       "        var image = mpl.toolbar_items[toolbar_ind][2];\n",
       "        var method_name = mpl.toolbar_items[toolbar_ind][3];\n",
       "\n",
       "        if (!name) { continue; };\n",
       "\n",
       "        var button = $('<button class=\"btn btn-default\" href=\"#\" title=\"' + name + '\"><i class=\"fa ' + image + ' fa-lg\"></i></button>');\n",
       "        button.click(method_name, toolbar_event);\n",
       "        button.mouseover(tooltip, toolbar_mouse_event);\n",
       "        nav_element.append(button);\n",
       "    }\n",
       "\n",
       "    // Add the status bar.\n",
       "    var status_bar = $('<span class=\"mpl-message\" style=\"text-align:right; float: right;\"/>');\n",
       "    nav_element.append(status_bar);\n",
       "    this.message = status_bar[0];\n",
       "\n",
       "    // Add the close button to the window.\n",
       "    var buttongrp = $('<div class=\"btn-group inline pull-right\"></div>');\n",
       "    var button = $('<button class=\"btn btn-mini btn-primary\" href=\"#\" title=\"Stop Interaction\"><i class=\"fa fa-power-off icon-remove icon-large\"></i></button>');\n",
       "    button.click(function (evt) { fig.handle_close(fig, {}); } );\n",
       "    button.mouseover('Stop Interaction', toolbar_mouse_event);\n",
       "    buttongrp.append(button);\n",
       "    var titlebar = this.root.find($('.ui-dialog-titlebar'));\n",
       "    titlebar.prepend(buttongrp);\n",
       "}\n",
       "\n",
       "mpl.figure.prototype._root_extra_style = function(el){\n",
       "    var fig = this\n",
       "    el.on(\"remove\", function(){\n",
       "\tfig.close_ws(fig, {});\n",
       "    });\n",
       "}\n",
       "\n",
       "mpl.figure.prototype._canvas_extra_style = function(el){\n",
       "    // this is important to make the div 'focusable\n",
       "    el.attr('tabindex', 0)\n",
       "    // reach out to IPython and tell the keyboard manager to turn it's self\n",
       "    // off when our div gets focus\n",
       "\n",
       "    // location in version 3\n",
       "    if (IPython.notebook.keyboard_manager) {\n",
       "        IPython.notebook.keyboard_manager.register_events(el);\n",
       "    }\n",
       "    else {\n",
       "        // location in version 2\n",
       "        IPython.keyboard_manager.register_events(el);\n",
       "    }\n",
       "\n",
       "}\n",
       "\n",
       "mpl.figure.prototype._key_event_extra = function(event, name) {\n",
       "    var manager = IPython.notebook.keyboard_manager;\n",
       "    if (!manager)\n",
       "        manager = IPython.keyboard_manager;\n",
       "\n",
       "    // Check for shift+enter\n",
       "    if (event.shiftKey && event.which == 13) {\n",
       "        this.canvas_div.blur();\n",
       "        event.shiftKey = false;\n",
       "        // Send a \"J\" for go to next cell\n",
       "        event.which = 74;\n",
       "        event.keyCode = 74;\n",
       "        manager.command_mode();\n",
       "        manager.handle_keydown(event);\n",
       "    }\n",
       "}\n",
       "\n",
       "mpl.figure.prototype.handle_save = function(fig, msg) {\n",
       "    fig.ondownload(fig, null);\n",
       "}\n",
       "\n",
       "\n",
       "mpl.find_output_cell = function(html_output) {\n",
       "    // Return the cell and output element which can be found *uniquely* in the notebook.\n",
       "    // Note - this is a bit hacky, but it is done because the \"notebook_saving.Notebook\"\n",
       "    // IPython event is triggered only after the cells have been serialised, which for\n",
       "    // our purposes (turning an active figure into a static one), is too late.\n",
       "    var cells = IPython.notebook.get_cells();\n",
       "    var ncells = cells.length;\n",
       "    for (var i=0; i<ncells; i++) {\n",
       "        var cell = cells[i];\n",
       "        if (cell.cell_type === 'code'){\n",
       "            for (var j=0; j<cell.output_area.outputs.length; j++) {\n",
       "                var data = cell.output_area.outputs[j];\n",
       "                if (data.data) {\n",
       "                    // IPython >= 3 moved mimebundle to data attribute of output\n",
       "                    data = data.data;\n",
       "                }\n",
       "                if (data['text/html'] == html_output) {\n",
       "                    return [cell, data, j];\n",
       "                }\n",
       "            }\n",
       "        }\n",
       "    }\n",
       "}\n",
       "\n",
       "// Register the function which deals with the matplotlib target/channel.\n",
       "// The kernel may be null if the page has been refreshed.\n",
       "if (IPython.notebook.kernel != null) {\n",
       "    IPython.notebook.kernel.comm_manager.register_target('matplotlib', mpl.mpl_figure_comm);\n",
       "}\n"
      ],
      "text/plain": [
       "<IPython.core.display.Javascript object>"
      ]
     },
     "metadata": {},
     "output_type": "display_data"
    },
    {
     "data": {
      "text/html": [
       "<img src=\"data:image/png;base64,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\">"
      ],
      "text/plain": [
       "<IPython.core.display.HTML object>"
      ]
     },
     "metadata": {},
     "output_type": "display_data"
    }
   ],
   "source": [
    "barwidth = 0.75; \n",
    "fig, ax = plt.subplots(figsize=(9, 7));\n",
    "rects1 = ax.bar(0.5,ACCanalysis.LowC.mean(),barwidth,yerr=ACCstderror.LowC,ecolor='k',edgecolor=sns.xkcd_rgb['green'],linewidth = 2, facecolor='none',error_kw=dict(lw=3),label='Congruent');\n",
    "rects2 = ax.bar(1.5,ACCanalysis.LowIC.mean(),barwidth,color=sns.xkcd_rgb['green'],yerr=ACCstderror.LowIC,ecolor='k',error_kw=dict(lw=3),label='Incongruent');\n",
    "rects3 = ax.bar(3,ACCanalysis.HighC.mean(),barwidth,yerr=ACCstderror.HighC,ecolor='k',edgecolor=(0.3,0.9,0.3),linewidth = 2, facecolor='none',error_kw=dict(lw=3));\n",
    "rects4 = ax.bar(4,ACCanalysis.HighIC.mean(),barwidth,color=(0.3,0.9,0.3),yerr=ACCstderror.HighIC,ecolor='k',error_kw=dict(lw=3));\n",
    "ax.set_ylim(0.65,1.01);\n",
    "ax.set_xlim(0,6);\n",
    "ax.set_xticklabels(('Low', 'High'));\n",
    "ax.set_xticks([1 + barwidth/2, 3.5 + barwidth/2]);\n",
    "ax.set_yticks(np.arange(0.65, 1.01, 0.05));\n",
    "plt.legend([rects1,rects2], ['Congruent','Incongruent'], loc='upper right',fontsize=18,title='Trial Type')\n",
    "plt.legend(title='Trial Type',fontsize=19)\n",
    "plt.title('S-C Phase Accuracy', fontsize=26,fontweight=\"bold\")\n",
    "plt.ylabel('Accuracy (Proportion Correct)', fontsize=24,fontweight=\"bold\")\n",
    "plt.xlabel('S2 Control-Demand Cue', fontsize=24,fontweight=\"bold\")\n",
    "sns.despine();\n",
    "\n",
    "plt.show()"
   ]
  },
  {
   "cell_type": "markdown",
   "metadata": {},
   "source": [
    "# Making CSV Copies of the Data"
   ]
  },
  {
   "cell_type": "markdown",
   "metadata": {},
   "source": [
    "If you like handling the data yourself, these CSVs organize the data by the relevant variables."
   ]
  },
  {
   "cell_type": "code",
   "execution_count": 81,
   "metadata": {},
   "outputs": [
    {
     "name": "stdout",
     "output_type": "stream",
     "text": [
      "C:\\Users\\cb383\\Documents\\controltransfer\\expt2\\data\\csvdata\n"
     ]
    }
   ],
   "source": [
    "%cd 'csvdata'"
   ]
  },
  {
   "cell_type": "code",
   "execution_count": 82,
   "metadata": {
    "collapsed": true
   },
   "outputs": [],
   "source": [
    "subrunmeans = cdat.groupby(['subject','RunCounter','ContextCong'])['RT'].mean()\n",
    "subrtmeans = cdat.groupby(['subject', 'ContextCong'])['RT'].mean()\n",
    "\n",
    "subrunmeans.to_csv('SC_RTsubrunmeans_subRunTTContext.csv')\n",
    "subrtmeans.to_csv('SC_RTmeansallsubs_subTTContext.csv')\n",
    "\n",
    "accmeans = adat.groupby(['subject', 'ContextCong'])['Accuracy'].mean()\n",
    "subaccmeans = adat.groupby(['subject','RunCounter', 'ContextCong'])['Accuracy'].mean()\n",
    "\n",
    "accmeans.to_csv('SC_ACCmeans_subTTContext.csv')\n",
    "subaccmeans.to_csv('SC_ACCsubmeans_subrunTTContext.csv')"
   ]
  },
  {
   "cell_type": "markdown",
   "metadata": {},
   "source": [
    "## Running ANOVAs in R"
   ]
  },
  {
   "cell_type": "markdown",
   "metadata": {},
   "source": [
    "First, I need to make the data CSVs that the R script will analyze. Then I will write the necessary R script and run it in another cell here. You'll be able to see the inputs below & I summarize the results there as well."
   ]
  },
  {
   "cell_type": "code",
   "execution_count": 83,
   "metadata": {},
   "outputs": [],
   "source": [
    "#note: sub 20 has a missing cell for RT on run 1, so I have to exclude in order to match the SPSS analyses I reported\n",
    "AN_sub_RTmeans = cdat.loc[~cdat['subject'].isin([20])].groupby(['subject','RunCounter','DemandCue','TrialType'])['RT'].mean();\n",
    "AN_sub_ACCmeans = adat.groupby(['subject','RunCounter','DemandCue','TrialType'])['Accuracy'].mean();\n",
    "\n",
    "#create tidy data csvs\n",
    "AN_sub_RTmeans.to_csv('SC_ANOVA_RT.csv')\n",
    "AN_sub_ACCmeans.to_csv('SC_ANOVA_ACC.csv')\n",
    "\n",
    "#create headers for the tidy data csvs, for analysis purposes\n",
    "import csv\n",
    "with open('SC_ANOVA_RT.csv',newline='') as f:\n",
    "    r = csv.reader(f)\n",
    "    data = [line for line in r]\n",
    "with open('SC_ANOVA_RT.csv','w',newline='') as f:\n",
    "    w = csv.writer(f)\n",
    "    w.writerow([\"subject\", \"run\", \"demandcue\", \"trialtype\", \"rt\"])\n",
    "    w.writerows(data)\n",
    "\n",
    "with open('SC_ANOVA_ACC.csv',newline='') as f:\n",
    "    r = csv.reader(f)\n",
    "    data = [line for line in r]\n",
    "with open('SC_ANOVA_ACC.csv','w',newline='') as f:\n",
    "    w = csv.writer(f)\n",
    "    w.writerow([\"subject\", \"run\", \"demandcue\", \"trialtype\", \"acc\"])\n",
    "    w.writerows(data)"
   ]
  },
  {
   "cell_type": "code",
   "execution_count": 84,
   "metadata": {},
   "outputs": [
    {
     "name": "stdout",
     "output_type": "stream",
     "text": [
      "Overwriting SCAnova.R\n"
     ]
    }
   ],
   "source": [
    "%%writefile SCAnova.R\n",
    "\n",
    "rawRTData <- read.csv('SC_ANOVA_RT.csv')\n",
    "install.packages(\"psych\",repos='https://mirrors.nics.utk.edu/cran/')\n",
    "install.packages(\"ez\",repos='https://mirrors.nics.utk.edu/cran/')\n",
    "library(psych)\n",
    "library(ez)\n",
    "\n",
    "rawRTData$subject = as.factor(rawRTData$subject)\n",
    "rawRTData$run = as.factor(rawRTData$run)\n",
    "rawRTData$demandcue = as.factor(rawRTData$demandcue)\n",
    "rawRTData$trialtype = as.factor(rawRTData$trialtype)\n",
    "\n",
    "summary(aov(rt ~ run * demandcue * trialtype + Error(subject/(run * demandcue * trialtype)), data = rawRTData))\n",
    "\n",
    "#ez ANOVA doesn't work with missing cells\n",
    "#SC_RT_runANOVA <- ezANOVA(data=as.data.frame(rawRTData),\n",
    "#                                  dv=rt,\n",
    "#                                  wid=subject,\n",
    "#                                  within=.(run, demandcue, trialtype),\n",
    "#                                  detailed=TRUE)\n",
    "#print(SC_RT_runANOVA)\n",
    "\n",
    "rawACCData <- read.csv('SC_ANOVA_ACC.csv')\n",
    "\n",
    "rawACCData$subject = as.factor(rawACCData$subject)\n",
    "rawACCData$run = as.factor(rawACCData$run)\n",
    "rawACCData$demandcue = as.factor(rawACCData$demandcue)\n",
    "rawACCData$trialtype = as.factor(rawACCData$trialtype)\n",
    "\n",
    "SC_ACC_runANOVA <- ezANOVA(data=as.data.frame(rawACCData),\n",
    "                                  dv=acc,\n",
    "                                  wid=subject,\n",
    "                                  within=.(run, demandcue, trialtype),\n",
    "                                  detailed=TRUE)\n",
    "print(SC_ACC_runANOVA)"
   ]
  },
  {
   "cell_type": "code",
   "execution_count": 85,
   "metadata": {},
   "outputs": [
    {
     "name": "stdout",
     "output_type": "stream",
     "text": [
      "package 'psych' successfully unpacked and MD5 sums checked\n",
      "\n",
      "The downloaded binary packages are in\n",
      "\tC:\\Users\\cb383\\AppData\\Local\\Temp\\RtmpW4nV1a\\downloaded_packages\n",
      "package 'ez' successfully unpacked and MD5 sums checked\n",
      "\n",
      "The downloaded binary packages are in\n",
      "\tC:\\Users\\cb383\\AppData\\Local\\Temp\\RtmpW4nV1a\\downloaded_packages\n",
      "\n",
      "Error: subject\n",
      "          Df  Sum Sq Mean Sq F value Pr(>F)\n",
      "Residuals 71 2465423   34724               \n",
      "\n",
      "Error: subject:run\n",
      "           Df Sum Sq Mean Sq F value Pr(>F)\n",
      "run         3   1682   560.8   0.234  0.873\n",
      "Residuals 213 510527  2396.8               \n",
      "\n",
      "Error: subject:demandcue\n",
      "          Df Sum Sq Mean Sq F value Pr(>F)\n",
      "demandcue  1   1794    1794   1.339  0.251\n",
      "Residuals 71  95125    1340               \n",
      "\n",
      "Error: subject:trialtype\n",
      "          Df  Sum Sq Mean Sq F value Pr(>F)    \n",
      "trialtype  1 1370186 1370186   339.6 <2e-16 ***\n",
      "Residuals 71  286442    4034                   \n",
      "---\n",
      "Signif. codes:  0 '***' 0.001 '**' 0.01 '*' 0.05 '.' 0.1 ' ' 1\n",
      "\n",
      "Error: subject:run:demandcue\n",
      "               Df Sum Sq Mean Sq F value Pr(>F)\n",
      "run:demandcue   3   2522   840.5   0.742  0.528\n",
      "Residuals     213 241299  1132.9               \n",
      "\n",
      "Error: subject:run:trialtype\n",
      "               Df Sum Sq Mean Sq F value Pr(>F)\n",
      "run:trialtype   3   3752    1251   1.056  0.369\n",
      "Residuals     213 252359    1185               \n",
      "\n",
      "Error: subject:demandcue:trialtype\n",
      "                    Df Sum Sq Mean Sq F value Pr(>F)\n",
      "demandcue:trialtype  1     64    64.2   0.064    0.8\n",
      "Residuals           71  70642   995.0               \n",
      "\n",
      "Error: subject:run:demandcue:trialtype\n",
      "                         Df Sum Sq Mean Sq F value Pr(>F)\n",
      "run:demandcue:trialtype   3   5942    1980   1.788  0.151\n",
      "Residuals               213 235976    1108               \n",
      "$ANOVA\n",
      "                   Effect DFn DFd          SSn       SSd            F\n",
      "1             (Intercept)   1  72 9.376696e+02 3.9112268 1.726113e+04\n",
      "2                     run   3 216 6.966174e-01 3.3188934 1.511240e+01\n",
      "3               demandcue   1  72 8.001493e-04 0.6369683 9.044524e-02\n",
      "4               trialtype   1  72 1.441549e+00 1.2336441 8.413408e+01\n",
      "5           run:demandcue   3 216 5.593748e-02 1.5119167 2.663836e+00\n",
      "6           run:trialtype   3 216 1.010104e-01 2.0471109 3.552689e+00\n",
      "7     demandcue:trialtype   1  72 3.483598e-03 0.5890207 4.258238e-01\n",
      "8 run:demandcue:trialtype   3 216 5.983215e-02 1.4964422 2.878771e+00\n",
      "             p p<.05          ges\n",
      "1 1.725994e-87     * 9.845181e-01\n",
      "2 5.791189e-09     * 4.511233e-02\n",
      "3 7.644786e-01       5.426204e-05\n",
      "4 9.981418e-14     * 8.905721e-02\n",
      "5 4.887919e-02     * 3.779263e-03\n",
      "6 1.526158e-02     * 6.803772e-03\n",
      "7 5.161234e-01       2.361968e-04\n",
      "8 3.693892e-02     * 4.041332e-03\n",
      "\n",
      "$`Mauchly's Test for Sphericity`\n",
      "                   Effect         W            p p<.05\n",
      "2                     run 0.4389959 2.864624e-11     *\n",
      "5           run:demandcue 0.9769338 8.951004e-01      \n",
      "6           run:trialtype 0.7983935 7.073773e-03     *\n",
      "8 run:demandcue:trialtype 0.8275056 1.999691e-02     *\n",
      "\n",
      "$`Sphericity Corrections`\n",
      "                   Effect       GGe        p[GG] p[GG]<.05       HFe\n",
      "2                     run 0.6348867 1.822515e-06         * 0.6516847\n",
      "5           run:demandcue 0.9846860 4.978970e-02         * 1.0314207\n",
      "6           run:trialtype 0.8662708 2.030157e-02         * 0.9015854\n",
      "8 run:demandcue:trialtype 0.8966933 4.279010e-02         * 0.9348148\n",
      "         p[HF] p[HF]<.05\n",
      "2 1.396858e-06         *\n",
      "5 4.887919e-02         *\n",
      "6 1.882433e-02         *\n",
      "8 4.052728e-02         *\n",
      "\n"
     ]
    },
    {
     "name": "stderr",
     "output_type": "stream",
     "text": [
      "trying URL 'https://mirrors.nics.utk.edu/cran/bin/windows/contrib/3.3/psych_1.7.5.zip'\n",
      "Content type 'application/zip' length 3966450 bytes (3.8 MB)\n",
      "==================================================\n",
      "downloaded 3.8 MB\n",
      "\n",
      "trying URL 'https://mirrors.nics.utk.edu/cran/bin/windows/contrib/3.3/ez_4.4-0.zip'\n",
      "Content type 'application/zip' length 304665 bytes (297 KB)\n",
      "==================================================\n",
      "downloaded 297 KB\n",
      "\n",
      "Warning message:\n",
      "package 'psych' was built under R version 3.3.3 \n",
      "Warning message:\n",
      "package 'ez' was built under R version 3.3.3 \n"
     ]
    }
   ],
   "source": [
    "! Rscript SCAnova.R"
   ]
  },
  {
   "cell_type": "markdown",
   "metadata": {},
   "source": [
    "#### In short, these R analyses confirm the t-test analyses showing no significant interaction between congruency & demand for RT, even when we accounted for run. There is a significant interaction for accuracy, when accounting for run."
   ]
  },
  {
   "cell_type": "markdown",
   "metadata": {},
   "source": [
    "# Making 95% Confidence Intervals"
   ]
  },
  {
   "cell_type": "markdown",
   "metadata": {},
   "source": [
    "Now I'm making the Supplementary tables that show our data in full, with 95% CIs accompanying the means."
   ]
  },
  {
   "cell_type": "code",
   "execution_count": 86,
   "metadata": {},
   "outputs": [
    {
     "data": {
      "text/plain": [
       "(629.20262437588724, 651.48601231030682)"
      ]
     },
     "execution_count": 86,
     "metadata": {},
     "output_type": "execute_result"
    }
   ],
   "source": [
    "import statsmodels.stats.api as sms\n",
    "\n",
    "a = RTanalysis.LowC.mean()\n",
    "sms.DescrStatsW(RTanalysis.LowC).tconfint_mean()\n",
    "#a"
   ]
  },
  {
   "cell_type": "code",
   "execution_count": 87,
   "metadata": {},
   "outputs": [
    {
     "data": {
      "text/plain": [
       "(697.06490333731642, 721.61799049892772)"
      ]
     },
     "execution_count": 87,
     "metadata": {},
     "output_type": "execute_result"
    }
   ],
   "source": [
    "a = RTanalysis.LowIC.mean()\n",
    "sms.DescrStatsW(RTanalysis.LowIC).tconfint_mean()\n",
    "#a"
   ]
  },
  {
   "cell_type": "code",
   "execution_count": 88,
   "metadata": {},
   "outputs": [
    {
     "data": {
      "text/plain": [
       "(626.4324470355964, 650.33447987078171)"
      ]
     },
     "execution_count": 88,
     "metadata": {},
     "output_type": "execute_result"
    }
   ],
   "source": [
    "a = RTanalysis.HighC.mean()\n",
    "sms.DescrStatsW(RTanalysis.HighC).tconfint_mean()\n",
    "#a"
   ]
  },
  {
   "cell_type": "code",
   "execution_count": 89,
   "metadata": {},
   "outputs": [
    {
     "data": {
      "text/plain": [
       "(694.20454739937884, 717.83861793693961)"
      ]
     },
     "execution_count": 89,
     "metadata": {},
     "output_type": "execute_result"
    }
   ],
   "source": [
    "a = RTanalysis.HighIC.mean()\n",
    "sms.DescrStatsW(RTanalysis.HighIC).tconfint_mean()\n",
    "#a"
   ]
  },
  {
   "cell_type": "code",
   "execution_count": 90,
   "metadata": {},
   "outputs": [
    {
     "data": {
      "text/plain": [
       "(627.78535191509468, 655.28365052500362)"
      ]
     },
     "execution_count": 90,
     "metadata": {},
     "output_type": "execute_result"
    }
   ],
   "source": [
    "a = RTrunanalysis.loc[RTrunanalysis['Run'] == 0].LowC.mean()\n",
    "sms.DescrStatsW(RTrunanalysis.loc[RTrunanalysis['Run'] == 0].LowC).tconfint_mean()\n",
    "#a"
   ]
  },
  {
   "cell_type": "code",
   "execution_count": 91,
   "metadata": {},
   "outputs": [
    {
     "data": {
      "text/plain": [
       "691.0607067863752"
      ]
     },
     "execution_count": 91,
     "metadata": {},
     "output_type": "execute_result"
    }
   ],
   "source": [
    "a = RTrunanalysis.loc[RTrunanalysis['Run'] == 0].LowIC.mean()\n",
    "#sms.DescrStatsW(RTrunanalysis.loc[RTrunanalysis['Run'] == 0].LowIC).tconfint_mean()\n",
    "#again, one subject did poorly on run 1, for low incongruent trials, i.e., has a blank for this TT, so I'm recalculating...\n",
    "b = RTrunanalysis.loc[RTrunanalysis['Run'] == 0].LowIC.std()\n",
    "stderror = b / n;\n",
    "CI = stderror * 1.96;\n",
    "UCI = a + CI;\n",
    "LCI = a - CI;\n",
    "LCI\n",
    "#a"
   ]
  },
  {
   "cell_type": "code",
   "execution_count": 92,
   "metadata": {},
   "outputs": [
    {
     "data": {
      "text/plain": [
       "(627.35482524930956, 659.60003450281022)"
      ]
     },
     "execution_count": 92,
     "metadata": {},
     "output_type": "execute_result"
    }
   ],
   "source": [
    "a = RTrunanalysis.loc[RTrunanalysis['Run'] == 0].HighC.mean()\n",
    "sms.DescrStatsW(RTrunanalysis.loc[RTrunanalysis['Run'] == 0].HighC).tconfint_mean()\n",
    "#a"
   ]
  },
  {
   "cell_type": "code",
   "execution_count": 93,
   "metadata": {},
   "outputs": [
    {
     "data": {
      "text/plain": [
       "(696.62276823582374, 723.76842775642831)"
      ]
     },
     "execution_count": 93,
     "metadata": {},
     "output_type": "execute_result"
    }
   ],
   "source": [
    "a = RTrunanalysis.loc[RTrunanalysis['Run'] == 0].HighIC.mean()\n",
    "sms.DescrStatsW(RTrunanalysis.loc[RTrunanalysis['Run'] == 0].HighIC).tconfint_mean()\n",
    "#a"
   ]
  },
  {
   "cell_type": "code",
   "execution_count": 94,
   "metadata": {},
   "outputs": [
    {
     "data": {
      "text/plain": [
       "(628.96119431903435, 652.05651714900182)"
      ]
     },
     "execution_count": 94,
     "metadata": {},
     "output_type": "execute_result"
    }
   ],
   "source": [
    "a = RTrunanalysis.loc[RTrunanalysis['Run'] == 1].LowC.mean()\n",
    "sms.DescrStatsW(RTrunanalysis.loc[RTrunanalysis['Run'] == 1].LowC).tconfint_mean()\n",
    "#a"
   ]
  },
  {
   "cell_type": "code",
   "execution_count": 95,
   "metadata": {},
   "outputs": [
    {
     "data": {
      "text/plain": [
       "(691.97440630045094, 723.37060348428486)"
      ]
     },
     "execution_count": 95,
     "metadata": {},
     "output_type": "execute_result"
    }
   ],
   "source": [
    "a = RTrunanalysis.loc[RTrunanalysis['Run'] == 1].LowIC.mean()\n",
    "sms.DescrStatsW(RTrunanalysis.loc[RTrunanalysis['Run'] == 1].LowIC).tconfint_mean()\n",
    "#a"
   ]
  },
  {
   "cell_type": "code",
   "execution_count": 96,
   "metadata": {},
   "outputs": [
    {
     "data": {
      "text/plain": [
       "(625.71603455600598, 657.40865559402687)"
      ]
     },
     "execution_count": 96,
     "metadata": {},
     "output_type": "execute_result"
    }
   ],
   "source": [
    "a = RTrunanalysis.loc[RTrunanalysis['Run'] == 1].HighC.mean()\n",
    "sms.DescrStatsW(RTrunanalysis.loc[RTrunanalysis['Run'] == 1].HighC).tconfint_mean()\n",
    "#a"
   ]
  },
  {
   "cell_type": "code",
   "execution_count": 97,
   "metadata": {},
   "outputs": [
    {
     "data": {
      "text/plain": [
       "(689.90959838436254, 716.41362566934492)"
      ]
     },
     "execution_count": 97,
     "metadata": {},
     "output_type": "execute_result"
    }
   ],
   "source": [
    "a = RTrunanalysis.loc[RTrunanalysis['Run'] == 1].HighIC.mean()\n",
    "sms.DescrStatsW(RTrunanalysis.loc[RTrunanalysis['Run'] == 1].HighIC).tconfint_mean()\n",
    "#a"
   ]
  },
  {
   "cell_type": "code",
   "execution_count": 98,
   "metadata": {},
   "outputs": [
    {
     "data": {
      "text/plain": [
       "(626.70653880708005, 651.66963727116172)"
      ]
     },
     "execution_count": 98,
     "metadata": {},
     "output_type": "execute_result"
    }
   ],
   "source": [
    "a = RTrunanalysis.loc[RTrunanalysis['Run'] == 2].LowC.mean()\n",
    "sms.DescrStatsW(RTrunanalysis.loc[RTrunanalysis['Run'] == 2].LowC).tconfint_mean()\n",
    "#a"
   ]
  },
  {
   "cell_type": "code",
   "execution_count": 99,
   "metadata": {},
   "outputs": [
    {
     "data": {
      "text/plain": [
       "(692.5146047379568, 722.11435808004705)"
      ]
     },
     "execution_count": 99,
     "metadata": {},
     "output_type": "execute_result"
    }
   ],
   "source": [
    "a = RTrunanalysis.loc[RTrunanalysis['Run'] == 2].LowIC.mean()\n",
    "sms.DescrStatsW(RTrunanalysis.loc[RTrunanalysis['Run'] == 2].LowIC).tconfint_mean()\n",
    "#a"
   ]
  },
  {
   "cell_type": "code",
   "execution_count": 100,
   "metadata": {},
   "outputs": [
    {
     "data": {
      "text/plain": [
       "(615.3166278009337, 643.24403756110155)"
      ]
     },
     "execution_count": 100,
     "metadata": {},
     "output_type": "execute_result"
    }
   ],
   "source": [
    "a = RTrunanalysis.loc[RTrunanalysis['Run'] == 2].HighC.mean()\n",
    "sms.DescrStatsW(RTrunanalysis.loc[RTrunanalysis['Run'] == 2].HighC).tconfint_mean()\n",
    "#a"
   ]
  },
  {
   "cell_type": "code",
   "execution_count": 101,
   "metadata": {},
   "outputs": [
    {
     "data": {
      "text/plain": [
       "(697.53294905932796, 721.7865635738591)"
      ]
     },
     "execution_count": 101,
     "metadata": {},
     "output_type": "execute_result"
    }
   ],
   "source": [
    "a = RTrunanalysis.loc[RTrunanalysis['Run'] == 2].HighIC.mean()\n",
    "sms.DescrStatsW(RTrunanalysis.loc[RTrunanalysis['Run'] == 2].HighIC).tconfint_mean()\n",
    "#a"
   ]
  },
  {
   "cell_type": "code",
   "execution_count": 102,
   "metadata": {},
   "outputs": [
    {
     "data": {
      "text/plain": [
       "(627.36363039364085, 651.61749357760493)"
      ]
     },
     "execution_count": 102,
     "metadata": {},
     "output_type": "execute_result"
    }
   ],
   "source": [
    "a = RTrunanalysis.loc[RTrunanalysis['Run'] == 3].LowC.mean()\n",
    "sms.DescrStatsW(RTrunanalysis.loc[RTrunanalysis['Run'] == 3].LowC).tconfint_mean()\n",
    "#a"
   ]
  },
  {
   "cell_type": "code",
   "execution_count": 103,
   "metadata": {},
   "outputs": [
    {
     "data": {
      "text/plain": [
       "(698.72595687956857, 730.8709120049715)"
      ]
     },
     "execution_count": 103,
     "metadata": {},
     "output_type": "execute_result"
    }
   ],
   "source": [
    "a = RTrunanalysis.loc[RTrunanalysis['Run'] == 3].LowIC.mean()\n",
    "sms.DescrStatsW(RTrunanalysis.loc[RTrunanalysis['Run'] == 3].LowIC).tconfint_mean()\n",
    "#a"
   ]
  },
  {
   "cell_type": "code",
   "execution_count": 104,
   "metadata": {},
   "outputs": [
    {
     "data": {
      "text/plain": [
       "(624.64383458567465, 652.32387578614532)"
      ]
     },
     "execution_count": 104,
     "metadata": {},
     "output_type": "execute_result"
    }
   ],
   "source": [
    "a = RTrunanalysis.loc[RTrunanalysis['Run'] == 3].HighC.mean()\n",
    "sms.DescrStatsW(RTrunanalysis.loc[RTrunanalysis['Run'] == 3].HighC).tconfint_mean()\n",
    "#a"
   ]
  },
  {
   "cell_type": "code",
   "execution_count": 105,
   "metadata": {},
   "outputs": [
    {
     "data": {
      "text/plain": [
       "(690.29548581139647, 716.6408697387551)"
      ]
     },
     "execution_count": 105,
     "metadata": {},
     "output_type": "execute_result"
    }
   ],
   "source": [
    "a = RTrunanalysis.loc[RTrunanalysis['Run'] == 3].HighIC.mean()\n",
    "sms.DescrStatsW(RTrunanalysis.loc[RTrunanalysis['Run'] == 3].HighIC).tconfint_mean()\n",
    "#a"
   ]
  },
  {
   "cell_type": "markdown",
   "metadata": {},
   "source": [
    "And for Accuracy..."
   ]
  },
  {
   "cell_type": "code",
   "execution_count": 106,
   "metadata": {},
   "outputs": [
    {
     "data": {
      "text/plain": [
       "(0.91892969946912317, 0.94512555347014993)"
      ]
     },
     "execution_count": 106,
     "metadata": {},
     "output_type": "execute_result"
    }
   ],
   "source": [
    "a = ACCanalysis.LowC.mean()\n",
    "sms.DescrStatsW(ACCanalysis.LowC).tconfint_mean()\n",
    "#a"
   ]
  },
  {
   "cell_type": "code",
   "execution_count": 107,
   "metadata": {},
   "outputs": [
    {
     "data": {
      "text/plain": [
       "(0.83683736046033952, 0.87977222858075643)"
      ]
     },
     "execution_count": 107,
     "metadata": {},
     "output_type": "execute_result"
    }
   ],
   "source": [
    "a = ACCanalysis.LowIC.mean()\n",
    "sms.DescrStatsW(ACCanalysis.LowIC).tconfint_mean()\n",
    "#a"
   ]
  },
  {
   "cell_type": "code",
   "execution_count": 108,
   "metadata": {},
   "outputs": [
    {
     "data": {
      "text/plain": [
       "(0.9125074007977142, 0.94793780468173783)"
      ]
     },
     "execution_count": 108,
     "metadata": {},
     "output_type": "execute_result"
    }
   ],
   "source": [
    "a = ACCanalysis.HighC.mean()\n",
    "sms.DescrStatsW(ACCanalysis.HighC).tconfint_mean()\n",
    "#a"
   ]
  },
  {
   "cell_type": "code",
   "execution_count": 109,
   "metadata": {},
   "outputs": [
    {
     "data": {
      "text/plain": [
       "(0.84736376475294317, 0.8794810335428177)"
      ]
     },
     "execution_count": 109,
     "metadata": {},
     "output_type": "execute_result"
    }
   ],
   "source": [
    "a = ACCanalysis.HighIC.mean()\n",
    "sms.DescrStatsW(ACCanalysis.HighIC).tconfint_mean()\n",
    "#a"
   ]
  },
  {
   "cell_type": "code",
   "execution_count": 110,
   "metadata": {},
   "outputs": [
    {
     "data": {
      "text/plain": [
       "(0.88444098241753322, 0.93576449703452158)"
      ]
     },
     "execution_count": 110,
     "metadata": {},
     "output_type": "execute_result"
    }
   ],
   "source": [
    "a = ACCrunanalysis.loc[ACCrunanalysis['Run'] == 0].LowC.mean()\n",
    "sms.DescrStatsW(ACCrunanalysis.loc[ACCrunanalysis['Run'] == 0].LowC).tconfint_mean()\n",
    "#a"
   ]
  },
  {
   "cell_type": "code",
   "execution_count": 111,
   "metadata": {},
   "outputs": [
    {
     "data": {
      "text/plain": [
       "(0.73795306129679661, 0.82369077431964177)"
      ]
     },
     "execution_count": 111,
     "metadata": {},
     "output_type": "execute_result"
    }
   ],
   "source": [
    "a = ACCrunanalysis.loc[ACCrunanalysis['Run'] == 0].LowIC.mean()\n",
    "sms.DescrStatsW(ACCrunanalysis.loc[ACCrunanalysis['Run'] == 0].LowIC).tconfint_mean()\n",
    "#a"
   ]
  },
  {
   "cell_type": "code",
   "execution_count": 112,
   "metadata": {},
   "outputs": [
    {
     "data": {
      "text/plain": [
       "(0.85928724884841223, 0.93865795663103979)"
      ]
     },
     "execution_count": 112,
     "metadata": {},
     "output_type": "execute_result"
    }
   ],
   "source": [
    "a = ACCrunanalysis.loc[ACCrunanalysis['Run'] == 0].HighC.mean()\n",
    "sms.DescrStatsW(ACCrunanalysis.loc[ACCrunanalysis['Run'] == 0].HighC).tconfint_mean()\n",
    "#a"
   ]
  },
  {
   "cell_type": "code",
   "execution_count": 113,
   "metadata": {},
   "outputs": [
    {
     "data": {
      "text/plain": [
       "(0.79506399368133163, 0.85562093782551762)"
      ]
     },
     "execution_count": 113,
     "metadata": {},
     "output_type": "execute_result"
    }
   ],
   "source": [
    "a = ACCrunanalysis.loc[ACCrunanalysis['Run'] == 0].HighIC.mean()\n",
    "sms.DescrStatsW(ACCrunanalysis.loc[ACCrunanalysis['Run'] == 0].HighIC).tconfint_mean()\n",
    "#a"
   ]
  },
  {
   "cell_type": "code",
   "execution_count": 114,
   "metadata": {},
   "outputs": [
    {
     "data": {
      "text/plain": [
       "(0.93426360034527633, 0.9578596873259565)"
      ]
     },
     "execution_count": 114,
     "metadata": {},
     "output_type": "execute_result"
    }
   ],
   "source": [
    "a = ACCrunanalysis.loc[ACCrunanalysis['Run'] == 1].LowC.mean()\n",
    "sms.DescrStatsW(ACCrunanalysis.loc[ACCrunanalysis['Run'] == 1].LowC).tconfint_mean()\n",
    "#a"
   ]
  },
  {
   "cell_type": "code",
   "execution_count": 115,
   "metadata": {},
   "outputs": [
    {
     "data": {
      "text/plain": [
       "(0.85890812067371669, 0.91848913960025602)"
      ]
     },
     "execution_count": 115,
     "metadata": {},
     "output_type": "execute_result"
    }
   ],
   "source": [
    "a = ACCrunanalysis.loc[ACCrunanalysis['Run'] == 1].LowIC.mean()\n",
    "sms.DescrStatsW(ACCrunanalysis.loc[ACCrunanalysis['Run'] == 1].LowIC).tconfint_mean()\n",
    "#a"
   ]
  },
  {
   "cell_type": "code",
   "execution_count": 116,
   "metadata": {},
   "outputs": [
    {
     "data": {
      "text/plain": [
       "(0.90648999941350261, 0.95309904168238779)"
      ]
     },
     "execution_count": 116,
     "metadata": {},
     "output_type": "execute_result"
    }
   ],
   "source": [
    "a = ACCrunanalysis.loc[ACCrunanalysis['Run'] == 1].HighC.mean()\n",
    "sms.DescrStatsW(ACCrunanalysis.loc[ACCrunanalysis['Run'] == 1].HighC).tconfint_mean()\n",
    "#a"
   ]
  },
  {
   "cell_type": "code",
   "execution_count": 117,
   "metadata": {},
   "outputs": [
    {
     "data": {
      "text/plain": [
       "(0.85226324957674715, 0.89088743535475967)"
      ]
     },
     "execution_count": 117,
     "metadata": {},
     "output_type": "execute_result"
    }
   ],
   "source": [
    "a = ACCrunanalysis.loc[ACCrunanalysis['Run'] == 1].HighIC.mean()\n",
    "sms.DescrStatsW(ACCrunanalysis.loc[ACCrunanalysis['Run'] == 1].HighIC).tconfint_mean()\n",
    "#a"
   ]
  },
  {
   "cell_type": "code",
   "execution_count": 118,
   "metadata": {},
   "outputs": [
    {
     "data": {
      "text/plain": [
       "(0.9177071994531415, 0.94514078994146755)"
      ]
     },
     "execution_count": 118,
     "metadata": {},
     "output_type": "execute_result"
    }
   ],
   "source": [
    "a = ACCrunanalysis.loc[ACCrunanalysis['Run'] == 2].LowC.mean()\n",
    "sms.DescrStatsW(ACCrunanalysis.loc[ACCrunanalysis['Run'] == 2].LowC).tconfint_mean()\n",
    "#a"
   ]
  },
  {
   "cell_type": "code",
   "execution_count": 119,
   "metadata": {},
   "outputs": [
    {
     "data": {
      "text/plain": [
       "(0.83790850859016452, 0.9052421763413423)"
      ]
     },
     "execution_count": 119,
     "metadata": {},
     "output_type": "execute_result"
    }
   ],
   "source": [
    "a = ACCrunanalysis.loc[ACCrunanalysis['Run'] == 2].LowIC.mean()\n",
    "sms.DescrStatsW(ACCrunanalysis.loc[ACCrunanalysis['Run'] == 2].LowIC).tconfint_mean()\n",
    "#a"
   ]
  },
  {
   "cell_type": "code",
   "execution_count": 120,
   "metadata": {},
   "outputs": [
    {
     "data": {
      "text/plain": [
       "(0.92842615292593123, 0.97568343611516473)"
      ]
     },
     "execution_count": 120,
     "metadata": {},
     "output_type": "execute_result"
    }
   ],
   "source": [
    "a = ACCrunanalysis.loc[ACCrunanalysis['Run'] == 2].HighC.mean()\n",
    "sms.DescrStatsW(ACCrunanalysis.loc[ACCrunanalysis['Run'] == 2].HighC).tconfint_mean()\n",
    "#a"
   ]
  },
  {
   "cell_type": "code",
   "execution_count": 121,
   "metadata": {},
   "outputs": [
    {
     "data": {
      "text/plain": [
       "(0.85745931714123347, 0.89745672351276595)"
      ]
     },
     "execution_count": 121,
     "metadata": {},
     "output_type": "execute_result"
    }
   ],
   "source": [
    "a = ACCrunanalysis.loc[ACCrunanalysis['Run'] == 2].HighIC.mean()\n",
    "sms.DescrStatsW(ACCrunanalysis.loc[ACCrunanalysis['Run'] == 2].HighIC).tconfint_mean()\n",
    "#a"
   ]
  },
  {
   "cell_type": "code",
   "execution_count": 122,
   "metadata": {},
   "outputs": [
    {
     "data": {
      "text/plain": [
       "(0.92565506111548002, 0.95533808956945154)"
      ]
     },
     "execution_count": 122,
     "metadata": {},
     "output_type": "execute_result"
    }
   ],
   "source": [
    "a = ACCrunanalysis.loc[ACCrunanalysis['Run'] == 3].LowC.mean()\n",
    "sms.DescrStatsW(ACCrunanalysis.loc[ACCrunanalysis['Run'] == 3].LowC).tconfint_mean()\n",
    "#a"
   ]
  },
  {
   "cell_type": "code",
   "execution_count": 123,
   "metadata": {},
   "outputs": [
    {
     "data": {
      "text/plain": [
       "(0.86013248492768268, 0.92411409041478298)"
      ]
     },
     "execution_count": 123,
     "metadata": {},
     "output_type": "execute_result"
    }
   ],
   "source": [
    "a = ACCrunanalysis.loc[ACCrunanalysis['Run'] == 3].LowIC.mean()\n",
    "sms.DescrStatsW(ACCrunanalysis.loc[ACCrunanalysis['Run'] == 3].LowIC).tconfint_mean()\n",
    "#a"
   ]
  },
  {
   "cell_type": "code",
   "execution_count": 124,
   "metadata": {},
   "outputs": [
    {
     "data": {
      "text/plain": [
       "(0.91996250490426457, 0.96017448139710537)"
      ]
     },
     "execution_count": 124,
     "metadata": {},
     "output_type": "execute_result"
    }
   ],
   "source": [
    "a = ACCrunanalysis.loc[ACCrunanalysis['Run'] == 3].HighC.mean()\n",
    "sms.DescrStatsW(ACCrunanalysis.loc[ACCrunanalysis['Run'] == 3].HighC).tconfint_mean()\n",
    "#a"
   ]
  },
  {
   "cell_type": "code",
   "execution_count": 125,
   "metadata": {},
   "outputs": [
    {
     "data": {
      "text/plain": [
       "(0.86225443643140753, 0.89630720740420888)"
      ]
     },
     "execution_count": 125,
     "metadata": {},
     "output_type": "execute_result"
    }
   ],
   "source": [
    "a = ACCrunanalysis.loc[ACCrunanalysis['Run'] == 3].HighIC.mean()\n",
    "sms.DescrStatsW(ACCrunanalysis.loc[ACCrunanalysis['Run'] == 3].HighIC).tconfint_mean()\n",
    "#a"
   ]
  }
 ],
 "metadata": {
  "anaconda-cloud": {},
  "kernelspec": {
   "display_name": "Python [Root]",
   "language": "python",
   "name": "Python [Root]"
  },
  "language_info": {
   "codemirror_mode": {
    "name": "ipython",
    "version": 3
   },
   "file_extension": ".py",
   "mimetype": "text/x-python",
   "name": "python",
   "nbconvert_exporter": "python",
   "pygments_lexer": "ipython3",
   "version": "3.5.2"
  }
 },
 "nbformat": 4,
 "nbformat_minor": 1
}

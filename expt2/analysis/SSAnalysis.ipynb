{
 "cells": [
  {
   "cell_type": "markdown",
   "metadata": {},
   "source": [
    "# Information on How These Data Are Organized:\n",
    "\n",
    "`TypeOfResponse` refers to whether participants pressed a button (\"APResp\") or did not press a button (\"APRespITI\") within the given time frame.\n",
    "\n",
    "`Version` refers to the task version. I never changed the JS code; I merely changed which face/house was labeled as S1_1, S1_2, S1_3, or S1_4 in respective task folders.\n",
    "\n",
    "`LogCounter` gets added to whenever the JS records a new datapoint.\n",
    "\n",
    "`TrialCounter` gets added to whenever a new trial has started. This is reset at the start of each block.\n",
    "\n",
    "`MatrixCounter` gets added to throughout the task and is never reset. It is what I use to call Stimuli #s.\n",
    "\n",
    "`RunCounter` refers to the run: 0 is run 1, 1 is run 2, 2 is run 3, and 3 is run 4.\n",
    "\n",
    "`Valid` refers to the valid trial type. `Invalid` invalid trial type. This is in reference to the main manipulation of the S-S association phase, whereby particular faces and houses are more likely to precede particular scenes.\n",
    "\n",
    "`Stimuli` refers to the S1 image presented here. Instead of Stim Type from the first experiment, I just coded this into the JS when I ran the second expt.\n",
    "\n",
    "`StimPresented` refers to my matrix of possible trial types. For instance, 1 means stimulus 1 is associated with scene 1 (valid). 16 means stimulus 4 is associated with scene 3 (invalid).\n",
    "\n",
    "`PressCorrect` refers to the button that participants should press on that trial. This is how I define accuracy (i.e., correct: when PressCorrect = actualkeyPressed).\n",
    "\n",
    "`ResponseMatrix` refers to which key is pressed; this is a redundant variable and was used to make sure that each key had been required an equal number of times throughout the task.\n",
    "\n",
    "`ActualKeyPressed` is what key subjects pressed.\n",
    "\n",
    "`Accuracy` & `RT` self-explanatory.\n",
    "\n",
    "`FeedbackType` refers to whether they got correct as fb, incorrect as fb, or the fb time-out.\n",
    "\n",
    "`runStart` refers to the initiation of the countdown to begin the task.\n",
    "\n",
    "`ImagePresent` refers to when the face/house was presented.\n",
    "\n",
    "`StimTime` refers to when the scene was presented.\n",
    "\n",
    "`RespOnset` refers to when a response was made.\n",
    "\n",
    "`AccCount` is how I give subjects accurate fb of their performance at the end of each run (i.e., a counter that gets added to after each correct trial & is divided by trial #).\n",
    "\n",
    "`Subject` self-explanatory.\n",
    "\n",
    "One label isn't coded in the JS: `StimRep` looks for direct repetitions in the StimPresented matrix (i.e., if 15 comes twice in a row). This was coded in Matlab and added to the CSV file.\n",
    "\n",
    "---"
   ]
  },
  {
   "cell_type": "markdown",
   "metadata": {},
   "source": [
    "### Here we'll just import Python specific packages and read in our data."
   ]
  },
  {
   "cell_type": "code",
   "execution_count": 1,
   "metadata": {
    "collapsed": true
   },
   "outputs": [],
   "source": [
    "import numpy as np\n",
    "import pandas as pd\n",
    "import matplotlib.pyplot as plt\n",
    "import seaborn as sns\n",
    "import pylab as plb\n",
    "import math\n",
    "from scipy import stats\n",
    "\n",
    "%matplotlib notebook "
   ]
  },
  {
   "cell_type": "code",
   "execution_count": 2,
   "metadata": {
    "scrolled": true
   },
   "outputs": [
    {
     "name": "stdout",
     "output_type": "stream",
     "text": [
      "C:\\Users\\cb383\\Documents\\controltransfer\\expt2\n",
      "C:\\Users\\cb383\\Documents\\controltransfer\\expt2\\data\n"
     ]
    }
   ],
   "source": [
    "%cd ..\n",
    "%cd 'data'\n",
    "dat = pd.read_csv('AllSubsSS.csv')"
   ]
  },
  {
   "cell_type": "markdown",
   "metadata": {},
   "source": [
    "# Do Some Basic Cleaning"
   ]
  },
  {
   "cell_type": "markdown",
   "metadata": {},
   "source": [
    "#### We are filtering and preparing the data for analysis.\n",
    "\n",
    "FOR REACTION TIMES:\n",
    "\n",
    "-Select only `TypeOfResponse` equal to `Resp` (`ITI Resp` is when subs didn't respond).\n",
    "\n",
    "-Only take the RTs that are greater than 200ms and less than 750 ms.\n",
    "\n",
    "-Only take the RTs on accurate trials.\n",
    "\n",
    "-Only take trials where the stimulus didn't repeat.\n",
    "\n",
    "\n",
    "FOR ACCURACY:\n",
    "\n",
    "-All errors are errors"
   ]
  },
  {
   "cell_type": "code",
   "execution_count": 3,
   "metadata": {
    "collapsed": true
   },
   "outputs": [],
   "source": [
    "cdat = dat.query('(TypeOfResponse != \"APRespITI\") & (RT > 200) & (RT < 750) & (Accuracy != 0) & (StimRep != 1)').copy()\n",
    "adat = dat.copy()"
   ]
  },
  {
   "cell_type": "code",
   "execution_count": 4,
   "metadata": {
    "collapsed": true
   },
   "outputs": [],
   "source": [
    "#Note: these are the old valid/invalid pairings. They don't actually matter for this analysis, but for the sake of consistency,\n",
    "#I have marked them in this data set as well...\n",
    "\n",
    "adat['TrialType'] = adat['Valid'].isin([1])\n",
    "adat.loc[adat['Valid'].isin([1]), 'TrialType'] = 'Valid'\n",
    "adat.loc[~adat['Valid'].isin([1]), 'TrialType'] = 'Invalid'\n",
    "\n",
    "cdat['TrialType'] = cdat['Valid'].isin([1])\n",
    "cdat.loc[cdat['Valid'].isin([1]), 'TrialType'] = 'Valid'\n",
    "cdat.loc[~cdat['Valid'].isin([1]), 'TrialType'] = 'Invalid'"
   ]
  },
  {
   "cell_type": "code",
   "execution_count": 5,
   "metadata": {
    "collapsed": true
   },
   "outputs": [],
   "source": [
    "adat['S2Image'] = adat['StimPresented'].isin([1])\n",
    "adat.loc[adat['StimPresented'].isin([1]), 'S2Image'] = 'S2Image1'\n",
    "adat.loc[adat['StimPresented'].isin([2]), 'S2Image'] = 'S2Image1'\n",
    "adat.loc[adat['StimPresented'].isin([3]), 'S2Image'] = 'S2Image1'\n",
    "adat.loc[adat['StimPresented'].isin([4]), 'S2Image'] = 'S2Image1'\n",
    "\n",
    "adat.loc[adat['StimPresented'].isin([5]), 'S2Image'] = 'S2Image2'\n",
    "adat.loc[adat['StimPresented'].isin([6]), 'S2Image'] = 'S2Image2'\n",
    "adat.loc[adat['StimPresented'].isin([7]), 'S2Image'] = 'S2Image2'\n",
    "adat.loc[adat['StimPresented'].isin([8]), 'S2Image'] = 'S2Image2'\n",
    "\n",
    "adat.loc[adat['StimPresented'].isin([9]), 'S2Image'] = 'S2Image3'\n",
    "adat.loc[adat['StimPresented'].isin([10]), 'S2Image'] = 'S2Image3'\n",
    "adat.loc[adat['StimPresented'].isin([11]), 'S2Image'] = 'S2Image3'\n",
    "adat.loc[adat['StimPresented'].isin([12]), 'S2Image'] = 'S2Image3'\n",
    "\n",
    "adat.loc[adat['StimPresented'].isin([13]), 'S2Image'] = 'S2Image4'\n",
    "adat.loc[adat['StimPresented'].isin([14]), 'S2Image'] = 'S2Image4'\n",
    "adat.loc[adat['StimPresented'].isin([15]), 'S2Image'] = 'S2Image4'\n",
    "adat.loc[adat['StimPresented'].isin([16]), 'S2Image'] = 'S2Image4'\n",
    "\n",
    "cdat['S2Image'] = cdat['StimPresented'].isin([1])\n",
    "cdat.loc[cdat['StimPresented'].isin([1]), 'S2Image'] = 'S2Image1'\n",
    "cdat.loc[cdat['StimPresented'].isin([2]), 'S2Image'] = 'S2Image1'\n",
    "cdat.loc[cdat['StimPresented'].isin([3]), 'S2Image'] = 'S2Image1'\n",
    "cdat.loc[cdat['StimPresented'].isin([4]), 'S2Image'] = 'S2Image1'\n",
    "\n",
    "cdat.loc[cdat['StimPresented'].isin([5]), 'S2Image'] = 'S2Image2'\n",
    "cdat.loc[cdat['StimPresented'].isin([6]), 'S2Image'] = 'S2Image2'\n",
    "cdat.loc[cdat['StimPresented'].isin([7]), 'S2Image'] = 'S2Image2'\n",
    "cdat.loc[cdat['StimPresented'].isin([8]), 'S2Image'] = 'S2Image2'\n",
    "\n",
    "cdat.loc[cdat['StimPresented'].isin([9]), 'S2Image'] = 'S2Image3'\n",
    "cdat.loc[cdat['StimPresented'].isin([10]), 'S2Image'] = 'S2Image3'\n",
    "cdat.loc[cdat['StimPresented'].isin([11]), 'S2Image'] = 'S2Image3'\n",
    "cdat.loc[cdat['StimPresented'].isin([12]), 'S2Image'] = 'S2Image3'\n",
    "\n",
    "cdat.loc[cdat['StimPresented'].isin([13]), 'S2Image'] = 'S2Image4'\n",
    "cdat.loc[cdat['StimPresented'].isin([14]), 'S2Image'] = 'S2Image4'\n",
    "cdat.loc[cdat['StimPresented'].isin([15]), 'S2Image'] = 'S2Image4'\n",
    "cdat.loc[cdat['StimPresented'].isin([16]), 'S2Image'] = 'S2Image4'"
   ]
  },
  {
   "cell_type": "markdown",
   "metadata": {},
   "source": [
    "# Look at Mean Validity Effects"
   ]
  },
  {
   "cell_type": "markdown",
   "metadata": {},
   "source": [
    "### A validity effect means being faster and more accurate to respond when a face/house (S1) image validly cues its paired scene (S2) associate than when the scene is invalidly cued. Here, we do not expect any validity effects or any main effect of S1 image on scene categorization, because the S1-S2 pairs have been scrambled. All S1 images precede each S2 image an equal number of times."
   ]
  },
  {
   "cell_type": "code",
   "execution_count": 6,
   "metadata": {},
   "outputs": [
    {
     "data": {
      "text/plain": [
       "Stimuli\n",
       "1    582.297316\n",
       "2    583.238240\n",
       "3    582.537621\n",
       "4    582.495962\n",
       "Name: RT, dtype: float64"
      ]
     },
     "execution_count": 6,
     "metadata": {},
     "output_type": "execute_result"
    }
   ],
   "source": [
    "sub_RTmeans = cdat.groupby(['subject','Stimuli'])['RT'].mean()\n",
    "RTgrpmean = pd.Series.mean(sub_RTmeans,level=1)\n",
    "RTgrpmean"
   ]
  },
  {
   "cell_type": "code",
   "execution_count": 7,
   "metadata": {},
   "outputs": [
    {
     "data": {
      "text/plain": [
       "Stimuli\n",
       "1    30.211051\n",
       "2    28.719900\n",
       "3    29.612680\n",
       "4    29.453358\n",
       "Name: RT, dtype: float64"
      ]
     },
     "execution_count": 7,
     "metadata": {},
     "output_type": "execute_result"
    }
   ],
   "source": [
    "RTgrpstd = pd.Series.std(sub_RTmeans,level=1)\n",
    "RTgrpstd"
   ]
  },
  {
   "cell_type": "code",
   "execution_count": 8,
   "metadata": {},
   "outputs": [
    {
     "data": {
      "text/plain": [
       "Stimuli\n",
       "1    3.465445\n",
       "2    3.294398\n",
       "3    3.396807\n",
       "4    3.378532\n",
       "Name: RT, dtype: float64"
      ]
     },
     "execution_count": 8,
     "metadata": {},
     "output_type": "execute_result"
    }
   ],
   "source": [
    "n = math.sqrt(76)\n",
    "RTstderror = RTgrpstd / n\n",
    "RTstderror"
   ]
  },
  {
   "cell_type": "markdown",
   "metadata": {},
   "source": [
    "#### Judging by these initial numbers, there is no effect of S1 image on scene categorization. Is that true of Accuracy?"
   ]
  },
  {
   "cell_type": "code",
   "execution_count": 9,
   "metadata": {},
   "outputs": [
    {
     "data": {
      "text/plain": [
       "Stimuli\n",
       "1    0.870320\n",
       "2    0.873973\n",
       "3    0.876712\n",
       "4    0.875508\n",
       "Name: Accuracy, dtype: float64"
      ]
     },
     "execution_count": 9,
     "metadata": {},
     "output_type": "execute_result"
    }
   ],
   "source": [
    "sub_ACCmeans = adat.groupby(['subject','Stimuli'])['Accuracy'].mean()\n",
    "ACCgrpmean = pd.Series.mean(sub_ACCmeans,level=1)\n",
    "ACCgrpmean"
   ]
  },
  {
   "cell_type": "code",
   "execution_count": 10,
   "metadata": {},
   "outputs": [
    {
     "data": {
      "text/plain": [
       "Stimuli\n",
       "1    0.072075\n",
       "2    0.069887\n",
       "3    0.074055\n",
       "4    0.075373\n",
       "Name: Accuracy, dtype: float64"
      ]
     },
     "execution_count": 10,
     "metadata": {},
     "output_type": "execute_result"
    }
   ],
   "source": [
    "ACCgrpstd = pd.Series.std(sub_ACCmeans,level=1)\n",
    "ACCgrpstd"
   ]
  },
  {
   "cell_type": "code",
   "execution_count": 11,
   "metadata": {},
   "outputs": [
    {
     "data": {
      "text/plain": [
       "Stimuli\n",
       "1    0.008268\n",
       "2    0.008017\n",
       "3    0.008495\n",
       "4    0.008646\n",
       "Name: Accuracy, dtype: float64"
      ]
     },
     "execution_count": 11,
     "metadata": {},
     "output_type": "execute_result"
    }
   ],
   "source": [
    "ACCstderror = ACCgrpstd / n\n",
    "ACCstderror"
   ]
  },
  {
   "cell_type": "markdown",
   "metadata": {},
   "source": [
    "# Creating Variables to Run Statistics"
   ]
  },
  {
   "cell_type": "markdown",
   "metadata": {},
   "source": [
    "#### This is a Python set of analyses, where the data above are organized in what's called \"long-form\" and to run statistics, I need \"wide-form\" data. So I am creating a new \"dataframe\" with the RT and accuracy means for valid and invalid trials, for each subject."
   ]
  },
  {
   "cell_type": "code",
   "execution_count": 12,
   "metadata": {
    "collapsed": true
   },
   "outputs": [],
   "source": [
    "RTanalysis = pd.DataFrame()\n",
    "lists = [[] for list in range(0,5)]\n",
    "\n",
    "for ID in range(10,83):\n",
    "    sub = cdat[cdat.subject == ID]\n",
    "    lists[0].append(ID)\n",
    "    Stim1_trials = sub[sub.Stimuli == 1].RT.mean()\n",
    "    Stim2_trials = sub[sub.Stimuli == 2].RT.mean()\n",
    "    Stim3_trials = sub[sub.Stimuli == 3].RT.mean()\n",
    "    Stim4_trials = sub[sub.Stimuli == 4].RT.mean()\n",
    "    lists[1].append(Stim1_trials)\n",
    "    lists[2].append(Stim2_trials)\n",
    "    lists[3].append(Stim3_trials)\n",
    "    lists[4].append(Stim4_trials)\n",
    "    \n",
    "RTanalysis['SubjectID'] = lists[0]\n",
    "RTanalysis['Stim1'] = lists[1]\n",
    "RTanalysis['Stim2'] = lists[2]\n",
    "RTanalysis['Stim3'] = lists[3]\n",
    "RTanalysis['Stim4'] = lists[4]"
   ]
  },
  {
   "cell_type": "code",
   "execution_count": 13,
   "metadata": {
    "collapsed": true
   },
   "outputs": [],
   "source": [
    "#repeat for accuracy\n",
    "\n",
    "ACCanalysis = pd.DataFrame()\n",
    "new_lists = [[] for list in range(0,5)]\n",
    "\n",
    "for ID in range(10,83):\n",
    "    sub = adat[adat.subject == ID]\n",
    "    new_lists[0].append(ID)\n",
    "    ACC_Stim1_trials = sub[sub.Stimuli == 1].Accuracy.mean()\n",
    "    ACC_Stim2_trials = sub[sub.Stimuli == 2].Accuracy.mean()\n",
    "    ACC_Stim3_trials = sub[sub.Stimuli == 3].Accuracy.mean()\n",
    "    ACC_Stim4_trials = sub[sub.Stimuli == 4].Accuracy.mean()\n",
    "    new_lists[1].append(ACC_Stim1_trials)\n",
    "    new_lists[2].append(ACC_Stim2_trials)\n",
    "    new_lists[3].append(ACC_Stim3_trials)\n",
    "    new_lists[4].append(ACC_Stim4_trials)\n",
    "    \n",
    "ACCanalysis['SubjectID'] = new_lists[0]\n",
    "ACCanalysis['Stim1'] = new_lists[1]\n",
    "ACCanalysis['Stim2'] = new_lists[2]\n",
    "ACCanalysis['Stim3'] = new_lists[3]\n",
    "ACCanalysis['Stim4'] = new_lists[4]"
   ]
  },
  {
   "cell_type": "code",
   "execution_count": 14,
   "metadata": {
    "collapsed": true
   },
   "outputs": [],
   "source": [
    "#now for run as well\n",
    "\n",
    "RTrunanalysis = pd.DataFrame()\n",
    "new_RTlists = [[] for list in range(0,6)]\n",
    "\n",
    "for ID in range(10,83):\n",
    "    sub = cdat[cdat.subject == ID]\n",
    "    for runID in range(0,4):\n",
    "        run = sub[sub.RunCounter == runID]\n",
    "        new_RTlists[0].append(ID)\n",
    "        new_RTlists[1].append(runID)\n",
    "        RTStim1_trials = run[run.Stimuli == 1].RT.mean()\n",
    "        RTStim2_trials = run[run.Stimuli == 2].RT.mean()\n",
    "        RTStim3_trials = run[run.Stimuli == 3].RT.mean()\n",
    "        RTStim4_trials = run[run.Stimuli == 4].RT.mean()\n",
    "        new_RTlists[2].append(RTStim1_trials)\n",
    "        new_RTlists[3].append(RTStim2_trials)\n",
    "        new_RTlists[4].append(RTStim3_trials)\n",
    "        new_RTlists[5].append(RTStim4_trials)\n",
    "    \n",
    "RTrunanalysis['SubjectID'] = new_RTlists[0]\n",
    "RTrunanalysis['Run'] = new_RTlists[1]\n",
    "RTrunanalysis['Stim1'] = new_RTlists[2]\n",
    "RTrunanalysis['Stim2'] = new_RTlists[3]\n",
    "RTrunanalysis['Stim3'] = new_RTlists[4]\n",
    "RTrunanalysis['Stim4'] = new_RTlists[5]"
   ]
  },
  {
   "cell_type": "code",
   "execution_count": 15,
   "metadata": {
    "collapsed": true
   },
   "outputs": [],
   "source": [
    "#repeat for accuracy\n",
    "\n",
    "ACCrunanalysis = pd.DataFrame()\n",
    "new_acclists = [[] for list in range(0,6)]\n",
    "\n",
    "for ID in range(10,83):\n",
    "    sub = adat[adat.subject == ID]\n",
    "    for runID in range(0,4):\n",
    "        run = sub[sub.RunCounter == runID]\n",
    "        new_acclists[0].append(ID)\n",
    "        new_acclists[1].append(runID)\n",
    "        ACCStim1_trials = run[run.Stimuli == 1].Accuracy.mean()\n",
    "        ACCStim2_trials = run[run.Stimuli == 2].Accuracy.mean()\n",
    "        ACCStim3_trials = run[run.Stimuli == 3].Accuracy.mean()\n",
    "        ACCStim4_trials = run[run.Stimuli == 4].Accuracy.mean()\n",
    "        new_acclists[2].append(ACCStim1_trials)\n",
    "        new_acclists[3].append(ACCStim2_trials)\n",
    "        new_acclists[4].append(ACCStim3_trials)\n",
    "        new_acclists[5].append(ACCStim4_trials)\n",
    "    \n",
    "ACCrunanalysis['SubjectID'] = new_acclists[0]\n",
    "ACCrunanalysis['Run'] = new_acclists[1]\n",
    "ACCrunanalysis['Stim1'] = new_acclists[2]\n",
    "ACCrunanalysis['Stim2'] = new_acclists[3]\n",
    "ACCrunanalysis['Stim3'] = new_acclists[4]\n",
    "ACCrunanalysis['Stim4'] = new_acclists[5]"
   ]
  },
  {
   "cell_type": "markdown",
   "metadata": {},
   "source": [
    "# Run Actual Statistics"
   ]
  },
  {
   "cell_type": "markdown",
   "metadata": {},
   "source": [
    "#### For the S-S phase, we run a repeated-measures ANOVA comparing S1 image (4) and S2 image (4): this will test whether there is any effect of S1 image on scene categorization. \n",
    "\n",
    "Unfortunately, Python does not have the capability for repeated-measures ANOVA. I could install \"pyvtttbl\" for Python, but it's not as accurate as R, SPSS, etc. So in this particular notebook, I will run paired t-tests to mimic the lack of main effect of S1 image, and I will include R code to run the actual ANOVA."
   ]
  },
  {
   "cell_type": "code",
   "execution_count": 16,
   "metadata": {
    "collapsed": true
   },
   "outputs": [],
   "source": [
    "#paired t-tests for RT; if you want to look at any individual result, remove the semicolon.\n",
    "stats.ttest_rel(RTanalysis.Stim1, RTanalysis.Stim2);\n",
    "stats.ttest_rel(RTanalysis.Stim1, RTanalysis.Stim3);\n",
    "stats.ttest_rel(RTanalysis.Stim1, RTanalysis.Stim4);\n",
    "stats.ttest_rel(RTanalysis.Stim2, RTanalysis.Stim3);\n",
    "stats.ttest_rel(RTanalysis.Stim2, RTanalysis.Stim4);\n",
    "stats.ttest_rel(RTanalysis.Stim3, RTanalysis.Stim4);"
   ]
  },
  {
   "cell_type": "code",
   "execution_count": 17,
   "metadata": {
    "collapsed": true
   },
   "outputs": [],
   "source": [
    "stats.ttest_rel(ACCanalysis.Stim1, ACCanalysis.Stim2);\n",
    "stats.ttest_rel(ACCanalysis.Stim1, ACCanalysis.Stim3);\n",
    "stats.ttest_rel(ACCanalysis.Stim1, ACCanalysis.Stim4);\n",
    "stats.ttest_rel(ACCanalysis.Stim2, ACCanalysis.Stim3);\n",
    "stats.ttest_rel(ACCanalysis.Stim2, ACCanalysis.Stim4);\n",
    "stats.ttest_rel(ACCanalysis.Stim3, ACCanalysis.Stim4);"
   ]
  },
  {
   "cell_type": "code",
   "execution_count": 18,
   "metadata": {
    "collapsed": true
   },
   "outputs": [],
   "source": [
    "#can look at more things, like Bayesian confidence intervals\n",
    "stats.bayes_mvs(RTanalysis.Stim1);\n",
    "stats.bayes_mvs(RTanalysis.Stim2);\n",
    "stats.bayes_mvs(RTanalysis.Stim3);\n",
    "stats.bayes_mvs(RTanalysis.Stim4);\n",
    "stats.bayes_mvs(ACCanalysis.Stim1);\n",
    "stats.bayes_mvs(ACCanalysis.Stim2);\n",
    "stats.bayes_mvs(ACCanalysis.Stim3);\n",
    "stats.bayes_mvs(ACCanalysis.Stim4);"
   ]
  },
  {
   "cell_type": "markdown",
   "metadata": {},
   "source": [
    "#### In sum: no main effect of S1 image on RT or accuracy. See below for actual R ANOVA analyses (i.e., what was actually run in the paper)."
   ]
  },
  {
   "cell_type": "markdown",
   "metadata": {},
   "source": [
    "# Look at the Results Graphically"
   ]
  },
  {
   "cell_type": "markdown",
   "metadata": {},
   "source": [
    "Note that the graphs generated mimic the paper, but I used Matlab to generate the figures, because I like their graphics more."
   ]
  },
  {
   "cell_type": "code",
   "execution_count": 19,
   "metadata": {
    "collapsed": true
   },
   "outputs": [],
   "source": [
    "sns.set(context='notebook', style='white', font='Myriad Pro', font_scale=2, color_codes=False, rc=None);"
   ]
  },
  {
   "cell_type": "code",
   "execution_count": 20,
   "metadata": {},
   "outputs": [
    {
     "data": {
      "application/javascript": [
       "/* Put everything inside the global mpl namespace */\n",
       "window.mpl = {};\n",
       "\n",
       "mpl.get_websocket_type = function() {\n",
       "    if (typeof(WebSocket) !== 'undefined') {\n",
       "        return WebSocket;\n",
       "    } else if (typeof(MozWebSocket) !== 'undefined') {\n",
       "        return MozWebSocket;\n",
       "    } else {\n",
       "        alert('Your browser does not have WebSocket support.' +\n",
       "              'Please try Chrome, Safari or Firefox ≥ 6. ' +\n",
       "              'Firefox 4 and 5 are also supported but you ' +\n",
       "              'have to enable WebSockets in about:config.');\n",
       "    };\n",
       "}\n",
       "\n",
       "mpl.figure = function(figure_id, websocket, ondownload, parent_element) {\n",
       "    this.id = figure_id;\n",
       "\n",
       "    this.ws = websocket;\n",
       "\n",
       "    this.supports_binary = (this.ws.binaryType != undefined);\n",
       "\n",
       "    if (!this.supports_binary) {\n",
       "        var warnings = document.getElementById(\"mpl-warnings\");\n",
       "        if (warnings) {\n",
       "            warnings.style.display = 'block';\n",
       "            warnings.textContent = (\n",
       "                \"This browser does not support binary websocket messages. \" +\n",
       "                    \"Performance may be slow.\");\n",
       "        }\n",
       "    }\n",
       "\n",
       "    this.imageObj = new Image();\n",
       "\n",
       "    this.context = undefined;\n",
       "    this.message = undefined;\n",
       "    this.canvas = undefined;\n",
       "    this.rubberband_canvas = undefined;\n",
       "    this.rubberband_context = undefined;\n",
       "    this.format_dropdown = undefined;\n",
       "\n",
       "    this.image_mode = 'full';\n",
       "\n",
       "    this.root = $('<div/>');\n",
       "    this._root_extra_style(this.root)\n",
       "    this.root.attr('style', 'display: inline-block');\n",
       "\n",
       "    $(parent_element).append(this.root);\n",
       "\n",
       "    this._init_header(this);\n",
       "    this._init_canvas(this);\n",
       "    this._init_toolbar(this);\n",
       "\n",
       "    var fig = this;\n",
       "\n",
       "    this.waiting = false;\n",
       "\n",
       "    this.ws.onopen =  function () {\n",
       "            fig.send_message(\"supports_binary\", {value: fig.supports_binary});\n",
       "            fig.send_message(\"send_image_mode\", {});\n",
       "            fig.send_message(\"refresh\", {});\n",
       "        }\n",
       "\n",
       "    this.imageObj.onload = function() {\n",
       "            if (fig.image_mode == 'full') {\n",
       "                // Full images could contain transparency (where diff images\n",
       "                // almost always do), so we need to clear the canvas so that\n",
       "                // there is no ghosting.\n",
       "                fig.context.clearRect(0, 0, fig.canvas.width, fig.canvas.height);\n",
       "            }\n",
       "            fig.context.drawImage(fig.imageObj, 0, 0);\n",
       "        };\n",
       "\n",
       "    this.imageObj.onunload = function() {\n",
       "        this.ws.close();\n",
       "    }\n",
       "\n",
       "    this.ws.onmessage = this._make_on_message_function(this);\n",
       "\n",
       "    this.ondownload = ondownload;\n",
       "}\n",
       "\n",
       "mpl.figure.prototype._init_header = function() {\n",
       "    var titlebar = $(\n",
       "        '<div class=\"ui-dialog-titlebar ui-widget-header ui-corner-all ' +\n",
       "        'ui-helper-clearfix\"/>');\n",
       "    var titletext = $(\n",
       "        '<div class=\"ui-dialog-title\" style=\"width: 100%; ' +\n",
       "        'text-align: center; padding: 3px;\"/>');\n",
       "    titlebar.append(titletext)\n",
       "    this.root.append(titlebar);\n",
       "    this.header = titletext[0];\n",
       "}\n",
       "\n",
       "\n",
       "\n",
       "mpl.figure.prototype._canvas_extra_style = function(canvas_div) {\n",
       "\n",
       "}\n",
       "\n",
       "\n",
       "mpl.figure.prototype._root_extra_style = function(canvas_div) {\n",
       "\n",
       "}\n",
       "\n",
       "mpl.figure.prototype._init_canvas = function() {\n",
       "    var fig = this;\n",
       "\n",
       "    var canvas_div = $('<div/>');\n",
       "\n",
       "    canvas_div.attr('style', 'position: relative; clear: both; outline: 0');\n",
       "\n",
       "    function canvas_keyboard_event(event) {\n",
       "        return fig.key_event(event, event['data']);\n",
       "    }\n",
       "\n",
       "    canvas_div.keydown('key_press', canvas_keyboard_event);\n",
       "    canvas_div.keyup('key_release', canvas_keyboard_event);\n",
       "    this.canvas_div = canvas_div\n",
       "    this._canvas_extra_style(canvas_div)\n",
       "    this.root.append(canvas_div);\n",
       "\n",
       "    var canvas = $('<canvas/>');\n",
       "    canvas.addClass('mpl-canvas');\n",
       "    canvas.attr('style', \"left: 0; top: 0; z-index: 0; outline: 0\")\n",
       "\n",
       "    this.canvas = canvas[0];\n",
       "    this.context = canvas[0].getContext(\"2d\");\n",
       "\n",
       "    var rubberband = $('<canvas/>');\n",
       "    rubberband.attr('style', \"position: absolute; left: 0; top: 0; z-index: 1;\")\n",
       "\n",
       "    var pass_mouse_events = true;\n",
       "\n",
       "    canvas_div.resizable({\n",
       "        start: function(event, ui) {\n",
       "            pass_mouse_events = false;\n",
       "        },\n",
       "        resize: function(event, ui) {\n",
       "            fig.request_resize(ui.size.width, ui.size.height);\n",
       "        },\n",
       "        stop: function(event, ui) {\n",
       "            pass_mouse_events = true;\n",
       "            fig.request_resize(ui.size.width, ui.size.height);\n",
       "        },\n",
       "    });\n",
       "\n",
       "    function mouse_event_fn(event) {\n",
       "        if (pass_mouse_events)\n",
       "            return fig.mouse_event(event, event['data']);\n",
       "    }\n",
       "\n",
       "    rubberband.mousedown('button_press', mouse_event_fn);\n",
       "    rubberband.mouseup('button_release', mouse_event_fn);\n",
       "    // Throttle sequential mouse events to 1 every 20ms.\n",
       "    rubberband.mousemove('motion_notify', mouse_event_fn);\n",
       "\n",
       "    rubberband.mouseenter('figure_enter', mouse_event_fn);\n",
       "    rubberband.mouseleave('figure_leave', mouse_event_fn);\n",
       "\n",
       "    canvas_div.on(\"wheel\", function (event) {\n",
       "        event = event.originalEvent;\n",
       "        event['data'] = 'scroll'\n",
       "        if (event.deltaY < 0) {\n",
       "            event.step = 1;\n",
       "        } else {\n",
       "            event.step = -1;\n",
       "        }\n",
       "        mouse_event_fn(event);\n",
       "    });\n",
       "\n",
       "    canvas_div.append(canvas);\n",
       "    canvas_div.append(rubberband);\n",
       "\n",
       "    this.rubberband = rubberband;\n",
       "    this.rubberband_canvas = rubberband[0];\n",
       "    this.rubberband_context = rubberband[0].getContext(\"2d\");\n",
       "    this.rubberband_context.strokeStyle = \"#000000\";\n",
       "\n",
       "    this._resize_canvas = function(width, height) {\n",
       "        // Keep the size of the canvas, canvas container, and rubber band\n",
       "        // canvas in synch.\n",
       "        canvas_div.css('width', width)\n",
       "        canvas_div.css('height', height)\n",
       "\n",
       "        canvas.attr('width', width);\n",
       "        canvas.attr('height', height);\n",
       "\n",
       "        rubberband.attr('width', width);\n",
       "        rubberband.attr('height', height);\n",
       "    }\n",
       "\n",
       "    // Set the figure to an initial 600x600px, this will subsequently be updated\n",
       "    // upon first draw.\n",
       "    this._resize_canvas(600, 600);\n",
       "\n",
       "    // Disable right mouse context menu.\n",
       "    $(this.rubberband_canvas).bind(\"contextmenu\",function(e){\n",
       "        return false;\n",
       "    });\n",
       "\n",
       "    function set_focus () {\n",
       "        canvas.focus();\n",
       "        canvas_div.focus();\n",
       "    }\n",
       "\n",
       "    window.setTimeout(set_focus, 100);\n",
       "}\n",
       "\n",
       "mpl.figure.prototype._init_toolbar = function() {\n",
       "    var fig = this;\n",
       "\n",
       "    var nav_element = $('<div/>')\n",
       "    nav_element.attr('style', 'width: 100%');\n",
       "    this.root.append(nav_element);\n",
       "\n",
       "    // Define a callback function for later on.\n",
       "    function toolbar_event(event) {\n",
       "        return fig.toolbar_button_onclick(event['data']);\n",
       "    }\n",
       "    function toolbar_mouse_event(event) {\n",
       "        return fig.toolbar_button_onmouseover(event['data']);\n",
       "    }\n",
       "\n",
       "    for(var toolbar_ind in mpl.toolbar_items) {\n",
       "        var name = mpl.toolbar_items[toolbar_ind][0];\n",
       "        var tooltip = mpl.toolbar_items[toolbar_ind][1];\n",
       "        var image = mpl.toolbar_items[toolbar_ind][2];\n",
       "        var method_name = mpl.toolbar_items[toolbar_ind][3];\n",
       "\n",
       "        if (!name) {\n",
       "            // put a spacer in here.\n",
       "            continue;\n",
       "        }\n",
       "        var button = $('<button/>');\n",
       "        button.addClass('ui-button ui-widget ui-state-default ui-corner-all ' +\n",
       "                        'ui-button-icon-only');\n",
       "        button.attr('role', 'button');\n",
       "        button.attr('aria-disabled', 'false');\n",
       "        button.click(method_name, toolbar_event);\n",
       "        button.mouseover(tooltip, toolbar_mouse_event);\n",
       "\n",
       "        var icon_img = $('<span/>');\n",
       "        icon_img.addClass('ui-button-icon-primary ui-icon');\n",
       "        icon_img.addClass(image);\n",
       "        icon_img.addClass('ui-corner-all');\n",
       "\n",
       "        var tooltip_span = $('<span/>');\n",
       "        tooltip_span.addClass('ui-button-text');\n",
       "        tooltip_span.html(tooltip);\n",
       "\n",
       "        button.append(icon_img);\n",
       "        button.append(tooltip_span);\n",
       "\n",
       "        nav_element.append(button);\n",
       "    }\n",
       "\n",
       "    var fmt_picker_span = $('<span/>');\n",
       "\n",
       "    var fmt_picker = $('<select/>');\n",
       "    fmt_picker.addClass('mpl-toolbar-option ui-widget ui-widget-content');\n",
       "    fmt_picker_span.append(fmt_picker);\n",
       "    nav_element.append(fmt_picker_span);\n",
       "    this.format_dropdown = fmt_picker[0];\n",
       "\n",
       "    for (var ind in mpl.extensions) {\n",
       "        var fmt = mpl.extensions[ind];\n",
       "        var option = $(\n",
       "            '<option/>', {selected: fmt === mpl.default_extension}).html(fmt);\n",
       "        fmt_picker.append(option)\n",
       "    }\n",
       "\n",
       "    // Add hover states to the ui-buttons\n",
       "    $( \".ui-button\" ).hover(\n",
       "        function() { $(this).addClass(\"ui-state-hover\");},\n",
       "        function() { $(this).removeClass(\"ui-state-hover\");}\n",
       "    );\n",
       "\n",
       "    var status_bar = $('<span class=\"mpl-message\"/>');\n",
       "    nav_element.append(status_bar);\n",
       "    this.message = status_bar[0];\n",
       "}\n",
       "\n",
       "mpl.figure.prototype.request_resize = function(x_pixels, y_pixels) {\n",
       "    // Request matplotlib to resize the figure. Matplotlib will then trigger a resize in the client,\n",
       "    // which will in turn request a refresh of the image.\n",
       "    this.send_message('resize', {'width': x_pixels, 'height': y_pixels});\n",
       "}\n",
       "\n",
       "mpl.figure.prototype.send_message = function(type, properties) {\n",
       "    properties['type'] = type;\n",
       "    properties['figure_id'] = this.id;\n",
       "    this.ws.send(JSON.stringify(properties));\n",
       "}\n",
       "\n",
       "mpl.figure.prototype.send_draw_message = function() {\n",
       "    if (!this.waiting) {\n",
       "        this.waiting = true;\n",
       "        this.ws.send(JSON.stringify({type: \"draw\", figure_id: this.id}));\n",
       "    }\n",
       "}\n",
       "\n",
       "\n",
       "mpl.figure.prototype.handle_save = function(fig, msg) {\n",
       "    var format_dropdown = fig.format_dropdown;\n",
       "    var format = format_dropdown.options[format_dropdown.selectedIndex].value;\n",
       "    fig.ondownload(fig, format);\n",
       "}\n",
       "\n",
       "\n",
       "mpl.figure.prototype.handle_resize = function(fig, msg) {\n",
       "    var size = msg['size'];\n",
       "    if (size[0] != fig.canvas.width || size[1] != fig.canvas.height) {\n",
       "        fig._resize_canvas(size[0], size[1]);\n",
       "        fig.send_message(\"refresh\", {});\n",
       "    };\n",
       "}\n",
       "\n",
       "mpl.figure.prototype.handle_rubberband = function(fig, msg) {\n",
       "    var x0 = msg['x0'];\n",
       "    var y0 = fig.canvas.height - msg['y0'];\n",
       "    var x1 = msg['x1'];\n",
       "    var y1 = fig.canvas.height - msg['y1'];\n",
       "    x0 = Math.floor(x0) + 0.5;\n",
       "    y0 = Math.floor(y0) + 0.5;\n",
       "    x1 = Math.floor(x1) + 0.5;\n",
       "    y1 = Math.floor(y1) + 0.5;\n",
       "    var min_x = Math.min(x0, x1);\n",
       "    var min_y = Math.min(y0, y1);\n",
       "    var width = Math.abs(x1 - x0);\n",
       "    var height = Math.abs(y1 - y0);\n",
       "\n",
       "    fig.rubberband_context.clearRect(\n",
       "        0, 0, fig.canvas.width, fig.canvas.height);\n",
       "\n",
       "    fig.rubberband_context.strokeRect(min_x, min_y, width, height);\n",
       "}\n",
       "\n",
       "mpl.figure.prototype.handle_figure_label = function(fig, msg) {\n",
       "    // Updates the figure title.\n",
       "    fig.header.textContent = msg['label'];\n",
       "}\n",
       "\n",
       "mpl.figure.prototype.handle_cursor = function(fig, msg) {\n",
       "    var cursor = msg['cursor'];\n",
       "    switch(cursor)\n",
       "    {\n",
       "    case 0:\n",
       "        cursor = 'pointer';\n",
       "        break;\n",
       "    case 1:\n",
       "        cursor = 'default';\n",
       "        break;\n",
       "    case 2:\n",
       "        cursor = 'crosshair';\n",
       "        break;\n",
       "    case 3:\n",
       "        cursor = 'move';\n",
       "        break;\n",
       "    }\n",
       "    fig.rubberband_canvas.style.cursor = cursor;\n",
       "}\n",
       "\n",
       "mpl.figure.prototype.handle_message = function(fig, msg) {\n",
       "    fig.message.textContent = msg['message'];\n",
       "}\n",
       "\n",
       "mpl.figure.prototype.handle_draw = function(fig, msg) {\n",
       "    // Request the server to send over a new figure.\n",
       "    fig.send_draw_message();\n",
       "}\n",
       "\n",
       "mpl.figure.prototype.handle_image_mode = function(fig, msg) {\n",
       "    fig.image_mode = msg['mode'];\n",
       "}\n",
       "\n",
       "mpl.figure.prototype.updated_canvas_event = function() {\n",
       "    // Called whenever the canvas gets updated.\n",
       "    this.send_message(\"ack\", {});\n",
       "}\n",
       "\n",
       "// A function to construct a web socket function for onmessage handling.\n",
       "// Called in the figure constructor.\n",
       "mpl.figure.prototype._make_on_message_function = function(fig) {\n",
       "    return function socket_on_message(evt) {\n",
       "        if (evt.data instanceof Blob) {\n",
       "            /* FIXME: We get \"Resource interpreted as Image but\n",
       "             * transferred with MIME type text/plain:\" errors on\n",
       "             * Chrome.  But how to set the MIME type?  It doesn't seem\n",
       "             * to be part of the websocket stream */\n",
       "            evt.data.type = \"image/png\";\n",
       "\n",
       "            /* Free the memory for the previous frames */\n",
       "            if (fig.imageObj.src) {\n",
       "                (window.URL || window.webkitURL).revokeObjectURL(\n",
       "                    fig.imageObj.src);\n",
       "            }\n",
       "\n",
       "            fig.imageObj.src = (window.URL || window.webkitURL).createObjectURL(\n",
       "                evt.data);\n",
       "            fig.updated_canvas_event();\n",
       "            fig.waiting = false;\n",
       "            return;\n",
       "        }\n",
       "        else if (typeof evt.data === 'string' && evt.data.slice(0, 21) == \"data:image/png;base64\") {\n",
       "            fig.imageObj.src = evt.data;\n",
       "            fig.updated_canvas_event();\n",
       "            fig.waiting = false;\n",
       "            return;\n",
       "        }\n",
       "\n",
       "        var msg = JSON.parse(evt.data);\n",
       "        var msg_type = msg['type'];\n",
       "\n",
       "        // Call the  \"handle_{type}\" callback, which takes\n",
       "        // the figure and JSON message as its only arguments.\n",
       "        try {\n",
       "            var callback = fig[\"handle_\" + msg_type];\n",
       "        } catch (e) {\n",
       "            console.log(\"No handler for the '\" + msg_type + \"' message type: \", msg);\n",
       "            return;\n",
       "        }\n",
       "\n",
       "        if (callback) {\n",
       "            try {\n",
       "                // console.log(\"Handling '\" + msg_type + \"' message: \", msg);\n",
       "                callback(fig, msg);\n",
       "            } catch (e) {\n",
       "                console.log(\"Exception inside the 'handler_\" + msg_type + \"' callback:\", e, e.stack, msg);\n",
       "            }\n",
       "        }\n",
       "    };\n",
       "}\n",
       "\n",
       "// from http://stackoverflow.com/questions/1114465/getting-mouse-location-in-canvas\n",
       "mpl.findpos = function(e) {\n",
       "    //this section is from http://www.quirksmode.org/js/events_properties.html\n",
       "    var targ;\n",
       "    if (!e)\n",
       "        e = window.event;\n",
       "    if (e.target)\n",
       "        targ = e.target;\n",
       "    else if (e.srcElement)\n",
       "        targ = e.srcElement;\n",
       "    if (targ.nodeType == 3) // defeat Safari bug\n",
       "        targ = targ.parentNode;\n",
       "\n",
       "    // jQuery normalizes the pageX and pageY\n",
       "    // pageX,Y are the mouse positions relative to the document\n",
       "    // offset() returns the position of the element relative to the document\n",
       "    var x = e.pageX - $(targ).offset().left;\n",
       "    var y = e.pageY - $(targ).offset().top;\n",
       "\n",
       "    return {\"x\": x, \"y\": y};\n",
       "};\n",
       "\n",
       "/*\n",
       " * return a copy of an object with only non-object keys\n",
       " * we need this to avoid circular references\n",
       " * http://stackoverflow.com/a/24161582/3208463\n",
       " */\n",
       "function simpleKeys (original) {\n",
       "  return Object.keys(original).reduce(function (obj, key) {\n",
       "    if (typeof original[key] !== 'object')\n",
       "        obj[key] = original[key]\n",
       "    return obj;\n",
       "  }, {});\n",
       "}\n",
       "\n",
       "mpl.figure.prototype.mouse_event = function(event, name) {\n",
       "    var canvas_pos = mpl.findpos(event)\n",
       "\n",
       "    if (name === 'button_press')\n",
       "    {\n",
       "        this.canvas.focus();\n",
       "        this.canvas_div.focus();\n",
       "    }\n",
       "\n",
       "    var x = canvas_pos.x;\n",
       "    var y = canvas_pos.y;\n",
       "\n",
       "    this.send_message(name, {x: x, y: y, button: event.button,\n",
       "                             step: event.step,\n",
       "                             guiEvent: simpleKeys(event)});\n",
       "\n",
       "    /* This prevents the web browser from automatically changing to\n",
       "     * the text insertion cursor when the button is pressed.  We want\n",
       "     * to control all of the cursor setting manually through the\n",
       "     * 'cursor' event from matplotlib */\n",
       "    event.preventDefault();\n",
       "    return false;\n",
       "}\n",
       "\n",
       "mpl.figure.prototype._key_event_extra = function(event, name) {\n",
       "    // Handle any extra behaviour associated with a key event\n",
       "}\n",
       "\n",
       "mpl.figure.prototype.key_event = function(event, name) {\n",
       "\n",
       "    // Prevent repeat events\n",
       "    if (name == 'key_press')\n",
       "    {\n",
       "        if (event.which === this._key)\n",
       "            return;\n",
       "        else\n",
       "            this._key = event.which;\n",
       "    }\n",
       "    if (name == 'key_release')\n",
       "        this._key = null;\n",
       "\n",
       "    var value = '';\n",
       "    if (event.ctrlKey && event.which != 17)\n",
       "        value += \"ctrl+\";\n",
       "    if (event.altKey && event.which != 18)\n",
       "        value += \"alt+\";\n",
       "    if (event.shiftKey && event.which != 16)\n",
       "        value += \"shift+\";\n",
       "\n",
       "    value += 'k';\n",
       "    value += event.which.toString();\n",
       "\n",
       "    this._key_event_extra(event, name);\n",
       "\n",
       "    this.send_message(name, {key: value,\n",
       "                             guiEvent: simpleKeys(event)});\n",
       "    return false;\n",
       "}\n",
       "\n",
       "mpl.figure.prototype.toolbar_button_onclick = function(name) {\n",
       "    if (name == 'download') {\n",
       "        this.handle_save(this, null);\n",
       "    } else {\n",
       "        this.send_message(\"toolbar_button\", {name: name});\n",
       "    }\n",
       "};\n",
       "\n",
       "mpl.figure.prototype.toolbar_button_onmouseover = function(tooltip) {\n",
       "    this.message.textContent = tooltip;\n",
       "};\n",
       "mpl.toolbar_items = [[\"Home\", \"Reset original view\", \"fa fa-home icon-home\", \"home\"], [\"Back\", \"Back to  previous view\", \"fa fa-arrow-left icon-arrow-left\", \"back\"], [\"Forward\", \"Forward to next view\", \"fa fa-arrow-right icon-arrow-right\", \"forward\"], [\"\", \"\", \"\", \"\"], [\"Pan\", \"Pan axes with left mouse, zoom with right\", \"fa fa-arrows icon-move\", \"pan\"], [\"Zoom\", \"Zoom to rectangle\", \"fa fa-square-o icon-check-empty\", \"zoom\"], [\"\", \"\", \"\", \"\"], [\"Download\", \"Download plot\", \"fa fa-floppy-o icon-save\", \"download\"]];\n",
       "\n",
       "mpl.extensions = [\"eps\", \"jpeg\", \"pdf\", \"png\", \"ps\", \"raw\", \"svg\", \"tif\"];\n",
       "\n",
       "mpl.default_extension = \"png\";var comm_websocket_adapter = function(comm) {\n",
       "    // Create a \"websocket\"-like object which calls the given IPython comm\n",
       "    // object with the appropriate methods. Currently this is a non binary\n",
       "    // socket, so there is still some room for performance tuning.\n",
       "    var ws = {};\n",
       "\n",
       "    ws.close = function() {\n",
       "        comm.close()\n",
       "    };\n",
       "    ws.send = function(m) {\n",
       "        //console.log('sending', m);\n",
       "        comm.send(m);\n",
       "    };\n",
       "    // Register the callback with on_msg.\n",
       "    comm.on_msg(function(msg) {\n",
       "        //console.log('receiving', msg['content']['data'], msg);\n",
       "        // Pass the mpl event to the overriden (by mpl) onmessage function.\n",
       "        ws.onmessage(msg['content']['data'])\n",
       "    });\n",
       "    return ws;\n",
       "}\n",
       "\n",
       "mpl.mpl_figure_comm = function(comm, msg) {\n",
       "    // This is the function which gets called when the mpl process\n",
       "    // starts-up an IPython Comm through the \"matplotlib\" channel.\n",
       "\n",
       "    var id = msg.content.data.id;\n",
       "    // Get hold of the div created by the display call when the Comm\n",
       "    // socket was opened in Python.\n",
       "    var element = $(\"#\" + id);\n",
       "    var ws_proxy = comm_websocket_adapter(comm)\n",
       "\n",
       "    function ondownload(figure, format) {\n",
       "        window.open(figure.imageObj.src);\n",
       "    }\n",
       "\n",
       "    var fig = new mpl.figure(id, ws_proxy,\n",
       "                           ondownload,\n",
       "                           element.get(0));\n",
       "\n",
       "    // Call onopen now - mpl needs it, as it is assuming we've passed it a real\n",
       "    // web socket which is closed, not our websocket->open comm proxy.\n",
       "    ws_proxy.onopen();\n",
       "\n",
       "    fig.parent_element = element.get(0);\n",
       "    fig.cell_info = mpl.find_output_cell(\"<div id='\" + id + \"'></div>\");\n",
       "    if (!fig.cell_info) {\n",
       "        console.error(\"Failed to find cell for figure\", id, fig);\n",
       "        return;\n",
       "    }\n",
       "\n",
       "    var output_index = fig.cell_info[2]\n",
       "    var cell = fig.cell_info[0];\n",
       "\n",
       "};\n",
       "\n",
       "mpl.figure.prototype.handle_close = function(fig, msg) {\n",
       "    fig.root.unbind('remove')\n",
       "\n",
       "    // Update the output cell to use the data from the current canvas.\n",
       "    fig.push_to_output();\n",
       "    var dataURL = fig.canvas.toDataURL();\n",
       "    // Re-enable the keyboard manager in IPython - without this line, in FF,\n",
       "    // the notebook keyboard shortcuts fail.\n",
       "    IPython.keyboard_manager.enable()\n",
       "    $(fig.parent_element).html('<img src=\"' + dataURL + '\">');\n",
       "    fig.close_ws(fig, msg);\n",
       "}\n",
       "\n",
       "mpl.figure.prototype.close_ws = function(fig, msg){\n",
       "    fig.send_message('closing', msg);\n",
       "    // fig.ws.close()\n",
       "}\n",
       "\n",
       "mpl.figure.prototype.push_to_output = function(remove_interactive) {\n",
       "    // Turn the data on the canvas into data in the output cell.\n",
       "    var dataURL = this.canvas.toDataURL();\n",
       "    this.cell_info[1]['text/html'] = '<img src=\"' + dataURL + '\">';\n",
       "}\n",
       "\n",
       "mpl.figure.prototype.updated_canvas_event = function() {\n",
       "    // Tell IPython that the notebook contents must change.\n",
       "    IPython.notebook.set_dirty(true);\n",
       "    this.send_message(\"ack\", {});\n",
       "    var fig = this;\n",
       "    // Wait a second, then push the new image to the DOM so\n",
       "    // that it is saved nicely (might be nice to debounce this).\n",
       "    setTimeout(function () { fig.push_to_output() }, 1000);\n",
       "}\n",
       "\n",
       "mpl.figure.prototype._init_toolbar = function() {\n",
       "    var fig = this;\n",
       "\n",
       "    var nav_element = $('<div/>')\n",
       "    nav_element.attr('style', 'width: 100%');\n",
       "    this.root.append(nav_element);\n",
       "\n",
       "    // Define a callback function for later on.\n",
       "    function toolbar_event(event) {\n",
       "        return fig.toolbar_button_onclick(event['data']);\n",
       "    }\n",
       "    function toolbar_mouse_event(event) {\n",
       "        return fig.toolbar_button_onmouseover(event['data']);\n",
       "    }\n",
       "\n",
       "    for(var toolbar_ind in mpl.toolbar_items){\n",
       "        var name = mpl.toolbar_items[toolbar_ind][0];\n",
       "        var tooltip = mpl.toolbar_items[toolbar_ind][1];\n",
       "        var image = mpl.toolbar_items[toolbar_ind][2];\n",
       "        var method_name = mpl.toolbar_items[toolbar_ind][3];\n",
       "\n",
       "        if (!name) { continue; };\n",
       "\n",
       "        var button = $('<button class=\"btn btn-default\" href=\"#\" title=\"' + name + '\"><i class=\"fa ' + image + ' fa-lg\"></i></button>');\n",
       "        button.click(method_name, toolbar_event);\n",
       "        button.mouseover(tooltip, toolbar_mouse_event);\n",
       "        nav_element.append(button);\n",
       "    }\n",
       "\n",
       "    // Add the status bar.\n",
       "    var status_bar = $('<span class=\"mpl-message\" style=\"text-align:right; float: right;\"/>');\n",
       "    nav_element.append(status_bar);\n",
       "    this.message = status_bar[0];\n",
       "\n",
       "    // Add the close button to the window.\n",
       "    var buttongrp = $('<div class=\"btn-group inline pull-right\"></div>');\n",
       "    var button = $('<button class=\"btn btn-mini btn-primary\" href=\"#\" title=\"Stop Interaction\"><i class=\"fa fa-power-off icon-remove icon-large\"></i></button>');\n",
       "    button.click(function (evt) { fig.handle_close(fig, {}); } );\n",
       "    button.mouseover('Stop Interaction', toolbar_mouse_event);\n",
       "    buttongrp.append(button);\n",
       "    var titlebar = this.root.find($('.ui-dialog-titlebar'));\n",
       "    titlebar.prepend(buttongrp);\n",
       "}\n",
       "\n",
       "mpl.figure.prototype._root_extra_style = function(el){\n",
       "    var fig = this\n",
       "    el.on(\"remove\", function(){\n",
       "\tfig.close_ws(fig, {});\n",
       "    });\n",
       "}\n",
       "\n",
       "mpl.figure.prototype._canvas_extra_style = function(el){\n",
       "    // this is important to make the div 'focusable\n",
       "    el.attr('tabindex', 0)\n",
       "    // reach out to IPython and tell the keyboard manager to turn it's self\n",
       "    // off when our div gets focus\n",
       "\n",
       "    // location in version 3\n",
       "    if (IPython.notebook.keyboard_manager) {\n",
       "        IPython.notebook.keyboard_manager.register_events(el);\n",
       "    }\n",
       "    else {\n",
       "        // location in version 2\n",
       "        IPython.keyboard_manager.register_events(el);\n",
       "    }\n",
       "\n",
       "}\n",
       "\n",
       "mpl.figure.prototype._key_event_extra = function(event, name) {\n",
       "    var manager = IPython.notebook.keyboard_manager;\n",
       "    if (!manager)\n",
       "        manager = IPython.keyboard_manager;\n",
       "\n",
       "    // Check for shift+enter\n",
       "    if (event.shiftKey && event.which == 13) {\n",
       "        this.canvas_div.blur();\n",
       "        event.shiftKey = false;\n",
       "        // Send a \"J\" for go to next cell\n",
       "        event.which = 74;\n",
       "        event.keyCode = 74;\n",
       "        manager.command_mode();\n",
       "        manager.handle_keydown(event);\n",
       "    }\n",
       "}\n",
       "\n",
       "mpl.figure.prototype.handle_save = function(fig, msg) {\n",
       "    fig.ondownload(fig, null);\n",
       "}\n",
       "\n",
       "\n",
       "mpl.find_output_cell = function(html_output) {\n",
       "    // Return the cell and output element which can be found *uniquely* in the notebook.\n",
       "    // Note - this is a bit hacky, but it is done because the \"notebook_saving.Notebook\"\n",
       "    // IPython event is triggered only after the cells have been serialised, which for\n",
       "    // our purposes (turning an active figure into a static one), is too late.\n",
       "    var cells = IPython.notebook.get_cells();\n",
       "    var ncells = cells.length;\n",
       "    for (var i=0; i<ncells; i++) {\n",
       "        var cell = cells[i];\n",
       "        if (cell.cell_type === 'code'){\n",
       "            for (var j=0; j<cell.output_area.outputs.length; j++) {\n",
       "                var data = cell.output_area.outputs[j];\n",
       "                if (data.data) {\n",
       "                    // IPython >= 3 moved mimebundle to data attribute of output\n",
       "                    data = data.data;\n",
       "                }\n",
       "                if (data['text/html'] == html_output) {\n",
       "                    return [cell, data, j];\n",
       "                }\n",
       "            }\n",
       "        }\n",
       "    }\n",
       "}\n",
       "\n",
       "// Register the function which deals with the matplotlib target/channel.\n",
       "// The kernel may be null if the page has been refreshed.\n",
       "if (IPython.notebook.kernel != null) {\n",
       "    IPython.notebook.kernel.comm_manager.register_target('matplotlib', mpl.mpl_figure_comm);\n",
       "}\n"
      ],
      "text/plain": [
       "<IPython.core.display.Javascript object>"
      ]
     },
     "metadata": {},
     "output_type": "display_data"
    },
    {
     "data": {
      "text/html": [
       "<img src=\"data:image/png;base64,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\">"
      ],
      "text/plain": [
       "<IPython.core.display.HTML object>"
      ]
     },
     "metadata": {},
     "output_type": "display_data"
    }
   ],
   "source": [
    "barwidth = 0.75; \n",
    "fig, ax = plt.subplots(figsize=(9, 7));\n",
    "rects1 = ax.bar(0.5,RTanalysis.Stim1.mean(),barwidth,yerr=RTstderror[1],ecolor='k',edgecolor=sns.xkcd_rgb['green'],linewidth = 2, facecolor='none',error_kw=dict(lw=3));\n",
    "rects2 = ax.bar(1.5,RTanalysis.Stim2.mean(),barwidth,color=sns.xkcd_rgb['green'],yerr=RTstderror[2],ecolor='k',error_kw=dict(lw=3));\n",
    "rects3 = ax.bar(2.5,RTanalysis.Stim3.mean(),barwidth,yerr=RTstderror[3],ecolor='k',edgecolor=(0.3,0.9,0.3),linewidth = 2, facecolor='none',error_kw=dict(lw=3));\n",
    "rects4 = ax.bar(3.5,RTanalysis.Stim4.mean(),barwidth,color=(0.3,0.9,0.3),yerr=RTstderror[4],ecolor='k',error_kw=dict(lw=3));\n",
    "sns.set(context='notebook', style='white', font='Myriad Pro', font_scale=2, color_codes=False, rc=None);\n",
    "ax.set_ylim(550,610);\n",
    "ax.set_xlim(0,5);\n",
    "ax.set_xticklabels(('Stim 1', 'Stim 2', 'Stim 3', 'Stim 4'));\n",
    "ax.set_xticks([0.5 + barwidth/2, 1.5 + barwidth/2,2.5 + barwidth/2,3.5 + barwidth/2]);\n",
    "ax.set_yticks(np.arange(550, 611, 10));\n",
    "plt.title('S-S RT Validity Effect', fontsize=26,fontweight=\"bold\")\n",
    "plt.ylabel('Reaction Time (ms)', fontsize=24,fontweight=\"bold\")\n",
    "plt.xlabel('S1 Image', fontsize=24,fontweight=\"bold\")\n",
    "sns.despine();\n",
    "\n",
    "plt.show()"
   ]
  },
  {
   "cell_type": "code",
   "execution_count": 21,
   "metadata": {},
   "outputs": [
    {
     "data": {
      "application/javascript": [
       "/* Put everything inside the global mpl namespace */\n",
       "window.mpl = {};\n",
       "\n",
       "mpl.get_websocket_type = function() {\n",
       "    if (typeof(WebSocket) !== 'undefined') {\n",
       "        return WebSocket;\n",
       "    } else if (typeof(MozWebSocket) !== 'undefined') {\n",
       "        return MozWebSocket;\n",
       "    } else {\n",
       "        alert('Your browser does not have WebSocket support.' +\n",
       "              'Please try Chrome, Safari or Firefox ≥ 6. ' +\n",
       "              'Firefox 4 and 5 are also supported but you ' +\n",
       "              'have to enable WebSockets in about:config.');\n",
       "    };\n",
       "}\n",
       "\n",
       "mpl.figure = function(figure_id, websocket, ondownload, parent_element) {\n",
       "    this.id = figure_id;\n",
       "\n",
       "    this.ws = websocket;\n",
       "\n",
       "    this.supports_binary = (this.ws.binaryType != undefined);\n",
       "\n",
       "    if (!this.supports_binary) {\n",
       "        var warnings = document.getElementById(\"mpl-warnings\");\n",
       "        if (warnings) {\n",
       "            warnings.style.display = 'block';\n",
       "            warnings.textContent = (\n",
       "                \"This browser does not support binary websocket messages. \" +\n",
       "                    \"Performance may be slow.\");\n",
       "        }\n",
       "    }\n",
       "\n",
       "    this.imageObj = new Image();\n",
       "\n",
       "    this.context = undefined;\n",
       "    this.message = undefined;\n",
       "    this.canvas = undefined;\n",
       "    this.rubberband_canvas = undefined;\n",
       "    this.rubberband_context = undefined;\n",
       "    this.format_dropdown = undefined;\n",
       "\n",
       "    this.image_mode = 'full';\n",
       "\n",
       "    this.root = $('<div/>');\n",
       "    this._root_extra_style(this.root)\n",
       "    this.root.attr('style', 'display: inline-block');\n",
       "\n",
       "    $(parent_element).append(this.root);\n",
       "\n",
       "    this._init_header(this);\n",
       "    this._init_canvas(this);\n",
       "    this._init_toolbar(this);\n",
       "\n",
       "    var fig = this;\n",
       "\n",
       "    this.waiting = false;\n",
       "\n",
       "    this.ws.onopen =  function () {\n",
       "            fig.send_message(\"supports_binary\", {value: fig.supports_binary});\n",
       "            fig.send_message(\"send_image_mode\", {});\n",
       "            fig.send_message(\"refresh\", {});\n",
       "        }\n",
       "\n",
       "    this.imageObj.onload = function() {\n",
       "            if (fig.image_mode == 'full') {\n",
       "                // Full images could contain transparency (where diff images\n",
       "                // almost always do), so we need to clear the canvas so that\n",
       "                // there is no ghosting.\n",
       "                fig.context.clearRect(0, 0, fig.canvas.width, fig.canvas.height);\n",
       "            }\n",
       "            fig.context.drawImage(fig.imageObj, 0, 0);\n",
       "        };\n",
       "\n",
       "    this.imageObj.onunload = function() {\n",
       "        this.ws.close();\n",
       "    }\n",
       "\n",
       "    this.ws.onmessage = this._make_on_message_function(this);\n",
       "\n",
       "    this.ondownload = ondownload;\n",
       "}\n",
       "\n",
       "mpl.figure.prototype._init_header = function() {\n",
       "    var titlebar = $(\n",
       "        '<div class=\"ui-dialog-titlebar ui-widget-header ui-corner-all ' +\n",
       "        'ui-helper-clearfix\"/>');\n",
       "    var titletext = $(\n",
       "        '<div class=\"ui-dialog-title\" style=\"width: 100%; ' +\n",
       "        'text-align: center; padding: 3px;\"/>');\n",
       "    titlebar.append(titletext)\n",
       "    this.root.append(titlebar);\n",
       "    this.header = titletext[0];\n",
       "}\n",
       "\n",
       "\n",
       "\n",
       "mpl.figure.prototype._canvas_extra_style = function(canvas_div) {\n",
       "\n",
       "}\n",
       "\n",
       "\n",
       "mpl.figure.prototype._root_extra_style = function(canvas_div) {\n",
       "\n",
       "}\n",
       "\n",
       "mpl.figure.prototype._init_canvas = function() {\n",
       "    var fig = this;\n",
       "\n",
       "    var canvas_div = $('<div/>');\n",
       "\n",
       "    canvas_div.attr('style', 'position: relative; clear: both; outline: 0');\n",
       "\n",
       "    function canvas_keyboard_event(event) {\n",
       "        return fig.key_event(event, event['data']);\n",
       "    }\n",
       "\n",
       "    canvas_div.keydown('key_press', canvas_keyboard_event);\n",
       "    canvas_div.keyup('key_release', canvas_keyboard_event);\n",
       "    this.canvas_div = canvas_div\n",
       "    this._canvas_extra_style(canvas_div)\n",
       "    this.root.append(canvas_div);\n",
       "\n",
       "    var canvas = $('<canvas/>');\n",
       "    canvas.addClass('mpl-canvas');\n",
       "    canvas.attr('style', \"left: 0; top: 0; z-index: 0; outline: 0\")\n",
       "\n",
       "    this.canvas = canvas[0];\n",
       "    this.context = canvas[0].getContext(\"2d\");\n",
       "\n",
       "    var rubberband = $('<canvas/>');\n",
       "    rubberband.attr('style', \"position: absolute; left: 0; top: 0; z-index: 1;\")\n",
       "\n",
       "    var pass_mouse_events = true;\n",
       "\n",
       "    canvas_div.resizable({\n",
       "        start: function(event, ui) {\n",
       "            pass_mouse_events = false;\n",
       "        },\n",
       "        resize: function(event, ui) {\n",
       "            fig.request_resize(ui.size.width, ui.size.height);\n",
       "        },\n",
       "        stop: function(event, ui) {\n",
       "            pass_mouse_events = true;\n",
       "            fig.request_resize(ui.size.width, ui.size.height);\n",
       "        },\n",
       "    });\n",
       "\n",
       "    function mouse_event_fn(event) {\n",
       "        if (pass_mouse_events)\n",
       "            return fig.mouse_event(event, event['data']);\n",
       "    }\n",
       "\n",
       "    rubberband.mousedown('button_press', mouse_event_fn);\n",
       "    rubberband.mouseup('button_release', mouse_event_fn);\n",
       "    // Throttle sequential mouse events to 1 every 20ms.\n",
       "    rubberband.mousemove('motion_notify', mouse_event_fn);\n",
       "\n",
       "    rubberband.mouseenter('figure_enter', mouse_event_fn);\n",
       "    rubberband.mouseleave('figure_leave', mouse_event_fn);\n",
       "\n",
       "    canvas_div.on(\"wheel\", function (event) {\n",
       "        event = event.originalEvent;\n",
       "        event['data'] = 'scroll'\n",
       "        if (event.deltaY < 0) {\n",
       "            event.step = 1;\n",
       "        } else {\n",
       "            event.step = -1;\n",
       "        }\n",
       "        mouse_event_fn(event);\n",
       "    });\n",
       "\n",
       "    canvas_div.append(canvas);\n",
       "    canvas_div.append(rubberband);\n",
       "\n",
       "    this.rubberband = rubberband;\n",
       "    this.rubberband_canvas = rubberband[0];\n",
       "    this.rubberband_context = rubberband[0].getContext(\"2d\");\n",
       "    this.rubberband_context.strokeStyle = \"#000000\";\n",
       "\n",
       "    this._resize_canvas = function(width, height) {\n",
       "        // Keep the size of the canvas, canvas container, and rubber band\n",
       "        // canvas in synch.\n",
       "        canvas_div.css('width', width)\n",
       "        canvas_div.css('height', height)\n",
       "\n",
       "        canvas.attr('width', width);\n",
       "        canvas.attr('height', height);\n",
       "\n",
       "        rubberband.attr('width', width);\n",
       "        rubberband.attr('height', height);\n",
       "    }\n",
       "\n",
       "    // Set the figure to an initial 600x600px, this will subsequently be updated\n",
       "    // upon first draw.\n",
       "    this._resize_canvas(600, 600);\n",
       "\n",
       "    // Disable right mouse context menu.\n",
       "    $(this.rubberband_canvas).bind(\"contextmenu\",function(e){\n",
       "        return false;\n",
       "    });\n",
       "\n",
       "    function set_focus () {\n",
       "        canvas.focus();\n",
       "        canvas_div.focus();\n",
       "    }\n",
       "\n",
       "    window.setTimeout(set_focus, 100);\n",
       "}\n",
       "\n",
       "mpl.figure.prototype._init_toolbar = function() {\n",
       "    var fig = this;\n",
       "\n",
       "    var nav_element = $('<div/>')\n",
       "    nav_element.attr('style', 'width: 100%');\n",
       "    this.root.append(nav_element);\n",
       "\n",
       "    // Define a callback function for later on.\n",
       "    function toolbar_event(event) {\n",
       "        return fig.toolbar_button_onclick(event['data']);\n",
       "    }\n",
       "    function toolbar_mouse_event(event) {\n",
       "        return fig.toolbar_button_onmouseover(event['data']);\n",
       "    }\n",
       "\n",
       "    for(var toolbar_ind in mpl.toolbar_items) {\n",
       "        var name = mpl.toolbar_items[toolbar_ind][0];\n",
       "        var tooltip = mpl.toolbar_items[toolbar_ind][1];\n",
       "        var image = mpl.toolbar_items[toolbar_ind][2];\n",
       "        var method_name = mpl.toolbar_items[toolbar_ind][3];\n",
       "\n",
       "        if (!name) {\n",
       "            // put a spacer in here.\n",
       "            continue;\n",
       "        }\n",
       "        var button = $('<button/>');\n",
       "        button.addClass('ui-button ui-widget ui-state-default ui-corner-all ' +\n",
       "                        'ui-button-icon-only');\n",
       "        button.attr('role', 'button');\n",
       "        button.attr('aria-disabled', 'false');\n",
       "        button.click(method_name, toolbar_event);\n",
       "        button.mouseover(tooltip, toolbar_mouse_event);\n",
       "\n",
       "        var icon_img = $('<span/>');\n",
       "        icon_img.addClass('ui-button-icon-primary ui-icon');\n",
       "        icon_img.addClass(image);\n",
       "        icon_img.addClass('ui-corner-all');\n",
       "\n",
       "        var tooltip_span = $('<span/>');\n",
       "        tooltip_span.addClass('ui-button-text');\n",
       "        tooltip_span.html(tooltip);\n",
       "\n",
       "        button.append(icon_img);\n",
       "        button.append(tooltip_span);\n",
       "\n",
       "        nav_element.append(button);\n",
       "    }\n",
       "\n",
       "    var fmt_picker_span = $('<span/>');\n",
       "\n",
       "    var fmt_picker = $('<select/>');\n",
       "    fmt_picker.addClass('mpl-toolbar-option ui-widget ui-widget-content');\n",
       "    fmt_picker_span.append(fmt_picker);\n",
       "    nav_element.append(fmt_picker_span);\n",
       "    this.format_dropdown = fmt_picker[0];\n",
       "\n",
       "    for (var ind in mpl.extensions) {\n",
       "        var fmt = mpl.extensions[ind];\n",
       "        var option = $(\n",
       "            '<option/>', {selected: fmt === mpl.default_extension}).html(fmt);\n",
       "        fmt_picker.append(option)\n",
       "    }\n",
       "\n",
       "    // Add hover states to the ui-buttons\n",
       "    $( \".ui-button\" ).hover(\n",
       "        function() { $(this).addClass(\"ui-state-hover\");},\n",
       "        function() { $(this).removeClass(\"ui-state-hover\");}\n",
       "    );\n",
       "\n",
       "    var status_bar = $('<span class=\"mpl-message\"/>');\n",
       "    nav_element.append(status_bar);\n",
       "    this.message = status_bar[0];\n",
       "}\n",
       "\n",
       "mpl.figure.prototype.request_resize = function(x_pixels, y_pixels) {\n",
       "    // Request matplotlib to resize the figure. Matplotlib will then trigger a resize in the client,\n",
       "    // which will in turn request a refresh of the image.\n",
       "    this.send_message('resize', {'width': x_pixels, 'height': y_pixels});\n",
       "}\n",
       "\n",
       "mpl.figure.prototype.send_message = function(type, properties) {\n",
       "    properties['type'] = type;\n",
       "    properties['figure_id'] = this.id;\n",
       "    this.ws.send(JSON.stringify(properties));\n",
       "}\n",
       "\n",
       "mpl.figure.prototype.send_draw_message = function() {\n",
       "    if (!this.waiting) {\n",
       "        this.waiting = true;\n",
       "        this.ws.send(JSON.stringify({type: \"draw\", figure_id: this.id}));\n",
       "    }\n",
       "}\n",
       "\n",
       "\n",
       "mpl.figure.prototype.handle_save = function(fig, msg) {\n",
       "    var format_dropdown = fig.format_dropdown;\n",
       "    var format = format_dropdown.options[format_dropdown.selectedIndex].value;\n",
       "    fig.ondownload(fig, format);\n",
       "}\n",
       "\n",
       "\n",
       "mpl.figure.prototype.handle_resize = function(fig, msg) {\n",
       "    var size = msg['size'];\n",
       "    if (size[0] != fig.canvas.width || size[1] != fig.canvas.height) {\n",
       "        fig._resize_canvas(size[0], size[1]);\n",
       "        fig.send_message(\"refresh\", {});\n",
       "    };\n",
       "}\n",
       "\n",
       "mpl.figure.prototype.handle_rubberband = function(fig, msg) {\n",
       "    var x0 = msg['x0'];\n",
       "    var y0 = fig.canvas.height - msg['y0'];\n",
       "    var x1 = msg['x1'];\n",
       "    var y1 = fig.canvas.height - msg['y1'];\n",
       "    x0 = Math.floor(x0) + 0.5;\n",
       "    y0 = Math.floor(y0) + 0.5;\n",
       "    x1 = Math.floor(x1) + 0.5;\n",
       "    y1 = Math.floor(y1) + 0.5;\n",
       "    var min_x = Math.min(x0, x1);\n",
       "    var min_y = Math.min(y0, y1);\n",
       "    var width = Math.abs(x1 - x0);\n",
       "    var height = Math.abs(y1 - y0);\n",
       "\n",
       "    fig.rubberband_context.clearRect(\n",
       "        0, 0, fig.canvas.width, fig.canvas.height);\n",
       "\n",
       "    fig.rubberband_context.strokeRect(min_x, min_y, width, height);\n",
       "}\n",
       "\n",
       "mpl.figure.prototype.handle_figure_label = function(fig, msg) {\n",
       "    // Updates the figure title.\n",
       "    fig.header.textContent = msg['label'];\n",
       "}\n",
       "\n",
       "mpl.figure.prototype.handle_cursor = function(fig, msg) {\n",
       "    var cursor = msg['cursor'];\n",
       "    switch(cursor)\n",
       "    {\n",
       "    case 0:\n",
       "        cursor = 'pointer';\n",
       "        break;\n",
       "    case 1:\n",
       "        cursor = 'default';\n",
       "        break;\n",
       "    case 2:\n",
       "        cursor = 'crosshair';\n",
       "        break;\n",
       "    case 3:\n",
       "        cursor = 'move';\n",
       "        break;\n",
       "    }\n",
       "    fig.rubberband_canvas.style.cursor = cursor;\n",
       "}\n",
       "\n",
       "mpl.figure.prototype.handle_message = function(fig, msg) {\n",
       "    fig.message.textContent = msg['message'];\n",
       "}\n",
       "\n",
       "mpl.figure.prototype.handle_draw = function(fig, msg) {\n",
       "    // Request the server to send over a new figure.\n",
       "    fig.send_draw_message();\n",
       "}\n",
       "\n",
       "mpl.figure.prototype.handle_image_mode = function(fig, msg) {\n",
       "    fig.image_mode = msg['mode'];\n",
       "}\n",
       "\n",
       "mpl.figure.prototype.updated_canvas_event = function() {\n",
       "    // Called whenever the canvas gets updated.\n",
       "    this.send_message(\"ack\", {});\n",
       "}\n",
       "\n",
       "// A function to construct a web socket function for onmessage handling.\n",
       "// Called in the figure constructor.\n",
       "mpl.figure.prototype._make_on_message_function = function(fig) {\n",
       "    return function socket_on_message(evt) {\n",
       "        if (evt.data instanceof Blob) {\n",
       "            /* FIXME: We get \"Resource interpreted as Image but\n",
       "             * transferred with MIME type text/plain:\" errors on\n",
       "             * Chrome.  But how to set the MIME type?  It doesn't seem\n",
       "             * to be part of the websocket stream */\n",
       "            evt.data.type = \"image/png\";\n",
       "\n",
       "            /* Free the memory for the previous frames */\n",
       "            if (fig.imageObj.src) {\n",
       "                (window.URL || window.webkitURL).revokeObjectURL(\n",
       "                    fig.imageObj.src);\n",
       "            }\n",
       "\n",
       "            fig.imageObj.src = (window.URL || window.webkitURL).createObjectURL(\n",
       "                evt.data);\n",
       "            fig.updated_canvas_event();\n",
       "            fig.waiting = false;\n",
       "            return;\n",
       "        }\n",
       "        else if (typeof evt.data === 'string' && evt.data.slice(0, 21) == \"data:image/png;base64\") {\n",
       "            fig.imageObj.src = evt.data;\n",
       "            fig.updated_canvas_event();\n",
       "            fig.waiting = false;\n",
       "            return;\n",
       "        }\n",
       "\n",
       "        var msg = JSON.parse(evt.data);\n",
       "        var msg_type = msg['type'];\n",
       "\n",
       "        // Call the  \"handle_{type}\" callback, which takes\n",
       "        // the figure and JSON message as its only arguments.\n",
       "        try {\n",
       "            var callback = fig[\"handle_\" + msg_type];\n",
       "        } catch (e) {\n",
       "            console.log(\"No handler for the '\" + msg_type + \"' message type: \", msg);\n",
       "            return;\n",
       "        }\n",
       "\n",
       "        if (callback) {\n",
       "            try {\n",
       "                // console.log(\"Handling '\" + msg_type + \"' message: \", msg);\n",
       "                callback(fig, msg);\n",
       "            } catch (e) {\n",
       "                console.log(\"Exception inside the 'handler_\" + msg_type + \"' callback:\", e, e.stack, msg);\n",
       "            }\n",
       "        }\n",
       "    };\n",
       "}\n",
       "\n",
       "// from http://stackoverflow.com/questions/1114465/getting-mouse-location-in-canvas\n",
       "mpl.findpos = function(e) {\n",
       "    //this section is from http://www.quirksmode.org/js/events_properties.html\n",
       "    var targ;\n",
       "    if (!e)\n",
       "        e = window.event;\n",
       "    if (e.target)\n",
       "        targ = e.target;\n",
       "    else if (e.srcElement)\n",
       "        targ = e.srcElement;\n",
       "    if (targ.nodeType == 3) // defeat Safari bug\n",
       "        targ = targ.parentNode;\n",
       "\n",
       "    // jQuery normalizes the pageX and pageY\n",
       "    // pageX,Y are the mouse positions relative to the document\n",
       "    // offset() returns the position of the element relative to the document\n",
       "    var x = e.pageX - $(targ).offset().left;\n",
       "    var y = e.pageY - $(targ).offset().top;\n",
       "\n",
       "    return {\"x\": x, \"y\": y};\n",
       "};\n",
       "\n",
       "/*\n",
       " * return a copy of an object with only non-object keys\n",
       " * we need this to avoid circular references\n",
       " * http://stackoverflow.com/a/24161582/3208463\n",
       " */\n",
       "function simpleKeys (original) {\n",
       "  return Object.keys(original).reduce(function (obj, key) {\n",
       "    if (typeof original[key] !== 'object')\n",
       "        obj[key] = original[key]\n",
       "    return obj;\n",
       "  }, {});\n",
       "}\n",
       "\n",
       "mpl.figure.prototype.mouse_event = function(event, name) {\n",
       "    var canvas_pos = mpl.findpos(event)\n",
       "\n",
       "    if (name === 'button_press')\n",
       "    {\n",
       "        this.canvas.focus();\n",
       "        this.canvas_div.focus();\n",
       "    }\n",
       "\n",
       "    var x = canvas_pos.x;\n",
       "    var y = canvas_pos.y;\n",
       "\n",
       "    this.send_message(name, {x: x, y: y, button: event.button,\n",
       "                             step: event.step,\n",
       "                             guiEvent: simpleKeys(event)});\n",
       "\n",
       "    /* This prevents the web browser from automatically changing to\n",
       "     * the text insertion cursor when the button is pressed.  We want\n",
       "     * to control all of the cursor setting manually through the\n",
       "     * 'cursor' event from matplotlib */\n",
       "    event.preventDefault();\n",
       "    return false;\n",
       "}\n",
       "\n",
       "mpl.figure.prototype._key_event_extra = function(event, name) {\n",
       "    // Handle any extra behaviour associated with a key event\n",
       "}\n",
       "\n",
       "mpl.figure.prototype.key_event = function(event, name) {\n",
       "\n",
       "    // Prevent repeat events\n",
       "    if (name == 'key_press')\n",
       "    {\n",
       "        if (event.which === this._key)\n",
       "            return;\n",
       "        else\n",
       "            this._key = event.which;\n",
       "    }\n",
       "    if (name == 'key_release')\n",
       "        this._key = null;\n",
       "\n",
       "    var value = '';\n",
       "    if (event.ctrlKey && event.which != 17)\n",
       "        value += \"ctrl+\";\n",
       "    if (event.altKey && event.which != 18)\n",
       "        value += \"alt+\";\n",
       "    if (event.shiftKey && event.which != 16)\n",
       "        value += \"shift+\";\n",
       "\n",
       "    value += 'k';\n",
       "    value += event.which.toString();\n",
       "\n",
       "    this._key_event_extra(event, name);\n",
       "\n",
       "    this.send_message(name, {key: value,\n",
       "                             guiEvent: simpleKeys(event)});\n",
       "    return false;\n",
       "}\n",
       "\n",
       "mpl.figure.prototype.toolbar_button_onclick = function(name) {\n",
       "    if (name == 'download') {\n",
       "        this.handle_save(this, null);\n",
       "    } else {\n",
       "        this.send_message(\"toolbar_button\", {name: name});\n",
       "    }\n",
       "};\n",
       "\n",
       "mpl.figure.prototype.toolbar_button_onmouseover = function(tooltip) {\n",
       "    this.message.textContent = tooltip;\n",
       "};\n",
       "mpl.toolbar_items = [[\"Home\", \"Reset original view\", \"fa fa-home icon-home\", \"home\"], [\"Back\", \"Back to  previous view\", \"fa fa-arrow-left icon-arrow-left\", \"back\"], [\"Forward\", \"Forward to next view\", \"fa fa-arrow-right icon-arrow-right\", \"forward\"], [\"\", \"\", \"\", \"\"], [\"Pan\", \"Pan axes with left mouse, zoom with right\", \"fa fa-arrows icon-move\", \"pan\"], [\"Zoom\", \"Zoom to rectangle\", \"fa fa-square-o icon-check-empty\", \"zoom\"], [\"\", \"\", \"\", \"\"], [\"Download\", \"Download plot\", \"fa fa-floppy-o icon-save\", \"download\"]];\n",
       "\n",
       "mpl.extensions = [\"eps\", \"jpeg\", \"pdf\", \"png\", \"ps\", \"raw\", \"svg\", \"tif\"];\n",
       "\n",
       "mpl.default_extension = \"png\";var comm_websocket_adapter = function(comm) {\n",
       "    // Create a \"websocket\"-like object which calls the given IPython comm\n",
       "    // object with the appropriate methods. Currently this is a non binary\n",
       "    // socket, so there is still some room for performance tuning.\n",
       "    var ws = {};\n",
       "\n",
       "    ws.close = function() {\n",
       "        comm.close()\n",
       "    };\n",
       "    ws.send = function(m) {\n",
       "        //console.log('sending', m);\n",
       "        comm.send(m);\n",
       "    };\n",
       "    // Register the callback with on_msg.\n",
       "    comm.on_msg(function(msg) {\n",
       "        //console.log('receiving', msg['content']['data'], msg);\n",
       "        // Pass the mpl event to the overriden (by mpl) onmessage function.\n",
       "        ws.onmessage(msg['content']['data'])\n",
       "    });\n",
       "    return ws;\n",
       "}\n",
       "\n",
       "mpl.mpl_figure_comm = function(comm, msg) {\n",
       "    // This is the function which gets called when the mpl process\n",
       "    // starts-up an IPython Comm through the \"matplotlib\" channel.\n",
       "\n",
       "    var id = msg.content.data.id;\n",
       "    // Get hold of the div created by the display call when the Comm\n",
       "    // socket was opened in Python.\n",
       "    var element = $(\"#\" + id);\n",
       "    var ws_proxy = comm_websocket_adapter(comm)\n",
       "\n",
       "    function ondownload(figure, format) {\n",
       "        window.open(figure.imageObj.src);\n",
       "    }\n",
       "\n",
       "    var fig = new mpl.figure(id, ws_proxy,\n",
       "                           ondownload,\n",
       "                           element.get(0));\n",
       "\n",
       "    // Call onopen now - mpl needs it, as it is assuming we've passed it a real\n",
       "    // web socket which is closed, not our websocket->open comm proxy.\n",
       "    ws_proxy.onopen();\n",
       "\n",
       "    fig.parent_element = element.get(0);\n",
       "    fig.cell_info = mpl.find_output_cell(\"<div id='\" + id + \"'></div>\");\n",
       "    if (!fig.cell_info) {\n",
       "        console.error(\"Failed to find cell for figure\", id, fig);\n",
       "        return;\n",
       "    }\n",
       "\n",
       "    var output_index = fig.cell_info[2]\n",
       "    var cell = fig.cell_info[0];\n",
       "\n",
       "};\n",
       "\n",
       "mpl.figure.prototype.handle_close = function(fig, msg) {\n",
       "    fig.root.unbind('remove')\n",
       "\n",
       "    // Update the output cell to use the data from the current canvas.\n",
       "    fig.push_to_output();\n",
       "    var dataURL = fig.canvas.toDataURL();\n",
       "    // Re-enable the keyboard manager in IPython - without this line, in FF,\n",
       "    // the notebook keyboard shortcuts fail.\n",
       "    IPython.keyboard_manager.enable()\n",
       "    $(fig.parent_element).html('<img src=\"' + dataURL + '\">');\n",
       "    fig.close_ws(fig, msg);\n",
       "}\n",
       "\n",
       "mpl.figure.prototype.close_ws = function(fig, msg){\n",
       "    fig.send_message('closing', msg);\n",
       "    // fig.ws.close()\n",
       "}\n",
       "\n",
       "mpl.figure.prototype.push_to_output = function(remove_interactive) {\n",
       "    // Turn the data on the canvas into data in the output cell.\n",
       "    var dataURL = this.canvas.toDataURL();\n",
       "    this.cell_info[1]['text/html'] = '<img src=\"' + dataURL + '\">';\n",
       "}\n",
       "\n",
       "mpl.figure.prototype.updated_canvas_event = function() {\n",
       "    // Tell IPython that the notebook contents must change.\n",
       "    IPython.notebook.set_dirty(true);\n",
       "    this.send_message(\"ack\", {});\n",
       "    var fig = this;\n",
       "    // Wait a second, then push the new image to the DOM so\n",
       "    // that it is saved nicely (might be nice to debounce this).\n",
       "    setTimeout(function () { fig.push_to_output() }, 1000);\n",
       "}\n",
       "\n",
       "mpl.figure.prototype._init_toolbar = function() {\n",
       "    var fig = this;\n",
       "\n",
       "    var nav_element = $('<div/>')\n",
       "    nav_element.attr('style', 'width: 100%');\n",
       "    this.root.append(nav_element);\n",
       "\n",
       "    // Define a callback function for later on.\n",
       "    function toolbar_event(event) {\n",
       "        return fig.toolbar_button_onclick(event['data']);\n",
       "    }\n",
       "    function toolbar_mouse_event(event) {\n",
       "        return fig.toolbar_button_onmouseover(event['data']);\n",
       "    }\n",
       "\n",
       "    for(var toolbar_ind in mpl.toolbar_items){\n",
       "        var name = mpl.toolbar_items[toolbar_ind][0];\n",
       "        var tooltip = mpl.toolbar_items[toolbar_ind][1];\n",
       "        var image = mpl.toolbar_items[toolbar_ind][2];\n",
       "        var method_name = mpl.toolbar_items[toolbar_ind][3];\n",
       "\n",
       "        if (!name) { continue; };\n",
       "\n",
       "        var button = $('<button class=\"btn btn-default\" href=\"#\" title=\"' + name + '\"><i class=\"fa ' + image + ' fa-lg\"></i></button>');\n",
       "        button.click(method_name, toolbar_event);\n",
       "        button.mouseover(tooltip, toolbar_mouse_event);\n",
       "        nav_element.append(button);\n",
       "    }\n",
       "\n",
       "    // Add the status bar.\n",
       "    var status_bar = $('<span class=\"mpl-message\" style=\"text-align:right; float: right;\"/>');\n",
       "    nav_element.append(status_bar);\n",
       "    this.message = status_bar[0];\n",
       "\n",
       "    // Add the close button to the window.\n",
       "    var buttongrp = $('<div class=\"btn-group inline pull-right\"></div>');\n",
       "    var button = $('<button class=\"btn btn-mini btn-primary\" href=\"#\" title=\"Stop Interaction\"><i class=\"fa fa-power-off icon-remove icon-large\"></i></button>');\n",
       "    button.click(function (evt) { fig.handle_close(fig, {}); } );\n",
       "    button.mouseover('Stop Interaction', toolbar_mouse_event);\n",
       "    buttongrp.append(button);\n",
       "    var titlebar = this.root.find($('.ui-dialog-titlebar'));\n",
       "    titlebar.prepend(buttongrp);\n",
       "}\n",
       "\n",
       "mpl.figure.prototype._root_extra_style = function(el){\n",
       "    var fig = this\n",
       "    el.on(\"remove\", function(){\n",
       "\tfig.close_ws(fig, {});\n",
       "    });\n",
       "}\n",
       "\n",
       "mpl.figure.prototype._canvas_extra_style = function(el){\n",
       "    // this is important to make the div 'focusable\n",
       "    el.attr('tabindex', 0)\n",
       "    // reach out to IPython and tell the keyboard manager to turn it's self\n",
       "    // off when our div gets focus\n",
       "\n",
       "    // location in version 3\n",
       "    if (IPython.notebook.keyboard_manager) {\n",
       "        IPython.notebook.keyboard_manager.register_events(el);\n",
       "    }\n",
       "    else {\n",
       "        // location in version 2\n",
       "        IPython.keyboard_manager.register_events(el);\n",
       "    }\n",
       "\n",
       "}\n",
       "\n",
       "mpl.figure.prototype._key_event_extra = function(event, name) {\n",
       "    var manager = IPython.notebook.keyboard_manager;\n",
       "    if (!manager)\n",
       "        manager = IPython.keyboard_manager;\n",
       "\n",
       "    // Check for shift+enter\n",
       "    if (event.shiftKey && event.which == 13) {\n",
       "        this.canvas_div.blur();\n",
       "        event.shiftKey = false;\n",
       "        // Send a \"J\" for go to next cell\n",
       "        event.which = 74;\n",
       "        event.keyCode = 74;\n",
       "        manager.command_mode();\n",
       "        manager.handle_keydown(event);\n",
       "    }\n",
       "}\n",
       "\n",
       "mpl.figure.prototype.handle_save = function(fig, msg) {\n",
       "    fig.ondownload(fig, null);\n",
       "}\n",
       "\n",
       "\n",
       "mpl.find_output_cell = function(html_output) {\n",
       "    // Return the cell and output element which can be found *uniquely* in the notebook.\n",
       "    // Note - this is a bit hacky, but it is done because the \"notebook_saving.Notebook\"\n",
       "    // IPython event is triggered only after the cells have been serialised, which for\n",
       "    // our purposes (turning an active figure into a static one), is too late.\n",
       "    var cells = IPython.notebook.get_cells();\n",
       "    var ncells = cells.length;\n",
       "    for (var i=0; i<ncells; i++) {\n",
       "        var cell = cells[i];\n",
       "        if (cell.cell_type === 'code'){\n",
       "            for (var j=0; j<cell.output_area.outputs.length; j++) {\n",
       "                var data = cell.output_area.outputs[j];\n",
       "                if (data.data) {\n",
       "                    // IPython >= 3 moved mimebundle to data attribute of output\n",
       "                    data = data.data;\n",
       "                }\n",
       "                if (data['text/html'] == html_output) {\n",
       "                    return [cell, data, j];\n",
       "                }\n",
       "            }\n",
       "        }\n",
       "    }\n",
       "}\n",
       "\n",
       "// Register the function which deals with the matplotlib target/channel.\n",
       "// The kernel may be null if the page has been refreshed.\n",
       "if (IPython.notebook.kernel != null) {\n",
       "    IPython.notebook.kernel.comm_manager.register_target('matplotlib', mpl.mpl_figure_comm);\n",
       "}\n"
      ],
      "text/plain": [
       "<IPython.core.display.Javascript object>"
      ]
     },
     "metadata": {},
     "output_type": "display_data"
    },
    {
     "data": {
      "text/html": [
       "<img src=\"data:image/png;base64,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\">"
      ],
      "text/plain": [
       "<IPython.core.display.HTML object>"
      ]
     },
     "metadata": {},
     "output_type": "display_data"
    }
   ],
   "source": [
    "barwidth = 0.75; \n",
    "fig, ax = plt.subplots(figsize=(9, 7));\n",
    "rects1 = ax.bar(0.5,ACCanalysis.Stim1.mean(),barwidth,yerr=ACCstderror[1],ecolor='k',edgecolor=sns.xkcd_rgb['green'],linewidth = 2, facecolor='none',error_kw=dict(lw=3));\n",
    "rects2 = ax.bar(1.5,ACCanalysis.Stim2.mean(),barwidth,color=sns.xkcd_rgb['green'],yerr=ACCstderror[2],ecolor='k',error_kw=dict(lw=3));\n",
    "rects3 = ax.bar(2.5,ACCanalysis.Stim3.mean(),barwidth,yerr=ACCstderror[3],ecolor='k',edgecolor=(0.3,0.9,0.3),linewidth = 2, facecolor='none',error_kw=dict(lw=3));\n",
    "rects4 = ax.bar(3.5,ACCanalysis.Stim4.mean(),barwidth,color=(0.3,0.9,0.3),yerr=ACCstderror[4],ecolor='k',error_kw=dict(lw=3));\n",
    "sns.set(context='notebook', style='white', font='Myriad Pro', font_scale=2, color_codes=False, rc=None);\n",
    "ax.set_ylim(0.65,1.00);\n",
    "ax.set_xlim(0,5);\n",
    "ax.set_xticklabels(('Stim 1', 'Stim 2', 'Stim 3', 'Stim 4'));\n",
    "ax.set_xticks([0.5 + barwidth/2, 1.5 + barwidth/2,2.5 + barwidth/2,3.5 + barwidth/2]);\n",
    "ax.set_yticks(np.arange(0.65, 1.01, 0.05));\n",
    "plt.title('S-S Accuracy Validity Effect', fontsize=26,fontweight=\"bold\")\n",
    "plt.ylabel('Accuracy (Proportion Correct)', fontsize=24,fontweight=\"bold\")\n",
    "plt.xlabel('S1 Image', fontsize=24,fontweight=\"bold\")\n",
    "sns.despine();\n",
    "\n",
    "plt.show()"
   ]
  },
  {
   "cell_type": "markdown",
   "metadata": {},
   "source": [
    "# Making CSV Copies of the Data"
   ]
  },
  {
   "cell_type": "markdown",
   "metadata": {},
   "source": [
    "If you like handling the data yourself, these CSVs organize the data by the relevant variables."
   ]
  },
  {
   "cell_type": "code",
   "execution_count": 22,
   "metadata": {},
   "outputs": [
    {
     "name": "stdout",
     "output_type": "stream",
     "text": [
      "C:\\Users\\cb383\\Documents\\controltransfer\\expt2\\data\\csvdata\n"
     ]
    }
   ],
   "source": [
    "%cd 'csvdata'"
   ]
  },
  {
   "cell_type": "code",
   "execution_count": 23,
   "metadata": {
    "collapsed": true
   },
   "outputs": [],
   "source": [
    "subrunmeans = cdat.groupby(['subject','Stimuli'])['RT'].mean()\n",
    "subrunmeans1 = cdat.groupby(['subject','RunCounter','Stimuli'])['RT'].mean()\n",
    "subrunmeans2 = cdat.groupby(['subject','Stimuli','S2Image'])['RT'].mean()\n",
    "subrunmeans3 = cdat.groupby(['subject','RunCounter','Stimuli','S2Image'])['RT'].mean()\n",
    "subrunmedians = cdat.groupby(['subject','Stimuli'])['RT'].median()\n",
    "subrunmedians1 = cdat.groupby(['subject','RunCounter','Stimuli'])['RT'].median()\n",
    "subrunmedians2 = cdat.groupby(['subject','Stimuli','S2Image'])['RT'].median()\n",
    "subrunmedians3 = cdat.groupby(['subject','RunCounter','Stimuli','S2Image'])['RT'].median()\n",
    "\n",
    "subrunmeans.to_csv('SS_RTsubrunmeans_subStim.csv')\n",
    "subrunmeans1.to_csv('SS_RTsubrunmeans_subRunStim.csv')\n",
    "subrunmeans2.to_csv('SS_RTsubrunmeans_subStimStimPres.csv')\n",
    "subrunmeans3.to_csv('SS_RTsubrunmeans_subRunStimStimPres.csv')\n",
    "subrunmedians.to_csv('SS_RTsubrunmedians_subStim.csv')\n",
    "subrunmedians1.to_csv('SS_RTsubrunmedians_subRunStim.csv')\n",
    "subrunmedians2.to_csv('SS_RTsubrunmedians_subStimStimPres.csv')\n",
    "subrunmedians3.to_csv('SS_RTsubrunmedians_subRunStimStimPres.csv')\n",
    "\n",
    "subaccmeans = adat.groupby(['subject','Stimuli'])['Accuracy'].mean()\n",
    "subaccmeans1 = adat.groupby(['subject','RunCounter','Stimuli'])['Accuracy'].mean()\n",
    "subaccmeans2 = adat.groupby(['subject','Stimuli','S2Image'])['Accuracy'].mean()\n",
    "subaccmeans3 = adat.groupby(['subject','RunCounter','Stimuli','S2Image'])['Accuracy'].mean()\n",
    "subaccmeans.to_csv('SS_ACCsubrunmeans_subStim.csv')\n",
    "subaccmeans1.to_csv('SS_ACCsubrunmeans_subRunStim.csv')\n",
    "subaccmeans2.to_csv('SS_ACCsubrunmeans_subStimStimPres.csv')\n",
    "subaccmeans3.to_csv('SS_ACCsubrunmeans_subRunStimStimPres.csv')"
   ]
  },
  {
   "cell_type": "markdown",
   "metadata": {},
   "source": [
    "## Running ANOVAs in R"
   ]
  },
  {
   "cell_type": "code",
   "execution_count": 71,
   "metadata": {
    "collapsed": true
   },
   "outputs": [],
   "source": [
    "AN_sub_RTmeans = cdat.groupby(['subject','Stimuli','S2Image'])['RT'].mean();\n",
    "AN_sub_ACCmeans = adat.groupby(['subject','Stimuli','S2Image'])['Accuracy'].mean();\n",
    "\n",
    "#create tidy data csvs\n",
    "AN_sub_RTmeans.to_csv('SS_ANOVA_RT.csv')\n",
    "AN_sub_ACCmeans.to_csv('SS_ANOVA_ACC.csv')\n",
    "\n",
    "#create headers for the tidy data csvs, for analysis purposes\n",
    "import csv\n",
    "with open('SS_ANOVA_RT.csv',newline='') as f:\n",
    "    r = csv.reader(f)\n",
    "    data = [line for line in r]\n",
    "with open('SS_ANOVA_RT.csv','w',newline='') as f:\n",
    "    w = csv.writer(f)\n",
    "    w.writerow([\"subject\", \"s1image\", \"s2image\", \"rt\"])\n",
    "    w.writerows(data)\n",
    "\n",
    "with open('SS_ANOVA_ACC.csv',newline='') as f:\n",
    "    r = csv.reader(f)\n",
    "    data = [line for line in r]\n",
    "with open('SS_ANOVA_ACC.csv','w',newline='') as f:\n",
    "    w = csv.writer(f)\n",
    "    w.writerow([\"subject\", \"s1image\", \"s2image\", \"acc\"])\n",
    "    w.writerows(data)"
   ]
  },
  {
   "cell_type": "code",
   "execution_count": 74,
   "metadata": {},
   "outputs": [
    {
     "name": "stdout",
     "output_type": "stream",
     "text": [
      "Overwriting SSAnova.R\n"
     ]
    }
   ],
   "source": [
    "%%writefile SSAnova.R\n",
    "\n",
    "rawRTData <- read.csv('SS_ANOVA_RT.csv')\n",
    "install.packages(\"psych\",repos='https://mirrors.nics.utk.edu/cran/')\n",
    "install.packages(\"ez\",repos='https://mirrors.nics.utk.edu/cran/')\n",
    "library(psych)\n",
    "library(ez)\n",
    "\n",
    "rawRTData$subject = as.factor(rawRTData$subject)\n",
    "rawRTData$s1image = as.factor(rawRTData$s1image)\n",
    "rawRTData$s2image = as.factor(rawRTData$s2image)\n",
    "\n",
    "SS_RT_runANOVA <- ezANOVA(data=as.data.frame(rawRTData),\n",
    "                                  dv=rt,\n",
    "                                  wid=subject,\n",
    "                                  within=.(s1image, s2image),\n",
    "                                  detailed=TRUE)\n",
    "print(SS_RT_runANOVA)\n",
    "\n",
    "rawACCData <- read.csv('SS_ANOVA_ACC.csv')\n",
    "\n",
    "rawACCData$subject = as.factor(rawACCData$subject)\n",
    "rawACCData$s1image = as.factor(rawACCData$s1image)\n",
    "rawACCData$s2image = as.factor(rawACCData$s2image)\n",
    "\n",
    "SS_ACC_runANOVA <- ezANOVA(data=as.data.frame(rawACCData),\n",
    "                                  dv=acc,\n",
    "                                  wid=subject,\n",
    "                                  within=.(s1image, s2image),\n",
    "                                  detailed=TRUE)\n",
    "print(SS_ACC_runANOVA)"
   ]
  },
  {
   "cell_type": "code",
   "execution_count": 75,
   "metadata": {},
   "outputs": [
    {
     "name": "stdout",
     "output_type": "stream",
     "text": [
      "package 'psych' successfully unpacked and MD5 sums checked\n",
      "\n",
      "The downloaded binary packages are in\n",
      "\tC:\\Users\\cb383\\AppData\\Local\\Temp\\RtmpKGG7D9\\downloaded_packages\n",
      "package 'ez' successfully unpacked and MD5 sums checked\n",
      "\n",
      "The downloaded binary packages are in\n",
      "\tC:\\Users\\cb383\\AppData\\Local\\Temp\\RtmpKGG7D9\\downloaded_packages\n",
      "$ANOVA\n",
      "           Effect DFn DFd          SSn       SSd            F            p\n",
      "1     (Intercept)   1  72 3.972732e+08 965590.22 2.962299e+04 6.601640e-96\n",
      "2         s1image   3 216 2.417001e+02  50411.82 3.452049e-01 7.926566e-01\n",
      "3         s2image   3 216 9.346053e+04 322186.37 2.088592e+01 6.407035e-12\n",
      "4 s1image:s2image   9 648 2.439270e+03 191529.49 9.169735e-01 5.096736e-01\n",
      "  p<.05          ges\n",
      "1     * 0.9961642263\n",
      "2       0.0001579781\n",
      "3     * 0.0575787181\n",
      "4       0.0015920497\n",
      "\n",
      "$`Mauchly's Test for Sphericity`\n",
      "           Effect         W         p p<.05\n",
      "2         s1image 0.9575513 0.6895908      \n",
      "3         s2image 0.9754972 0.8819801      \n",
      "4 s1image:s2image 0.5606013 0.6530638      \n",
      "\n",
      "$`Sphericity Corrections`\n",
      "           Effect       GGe        p[GG] p[GG]<.05      HFe        p[HF]\n",
      "2         s1image 0.9724111 7.870777e-01           1.017900 7.926566e-01\n",
      "3         s2image 0.9829515 9.360873e-12         * 1.029509 6.407035e-12\n",
      "4 s1image:s2image 0.8911100 5.019295e-01           1.013267 5.096736e-01\n",
      "  p[HF]<.05\n",
      "2          \n",
      "3         *\n",
      "4          \n",
      "\n",
      "$ANOVA\n",
      "           Effect DFn DFd          SSn      SSd            F            p p<.05\n",
      "1     (Intercept)   1  72 8.924650e+02 5.012746 1.281882e+04 7.359036e-83     *\n",
      "2         s1image   3 216 6.742387e-03 1.105623 4.390755e-01 7.252759e-01      \n",
      "3         s2image   3 216 8.055856e-01 3.372079 1.720071e+01 4.715212e-10     *\n",
      "4 s1image:s2image   9 648 5.515047e-02 3.635279 1.092305e+00 3.661279e-01      \n",
      "           ges\n",
      "1 0.9855058962\n",
      "2 0.0005134136\n",
      "3 0.0578255404\n",
      "4 0.0041841280\n",
      "\n",
      "$`Mauchly's Test for Sphericity`\n",
      "           Effect         W         p p<.05\n",
      "2         s1image 0.9519491 0.6260573      \n",
      "3         s2image 0.8965716 0.1723294      \n",
      "4 s1image:s2image 0.6501658 0.9527123      \n",
      "\n",
      "$`Sphericity Corrections`\n",
      "           Effect       GGe        p[GG] p[GG]<.05       HFe        p[HF]\n",
      "2         s1image 0.9684609 7.190317e-01           1.0135518 7.252759e-01\n",
      "3         s2image 0.9354239 1.517307e-09         * 0.9772458 7.116730e-10\n",
      "4 s1image:s2image 0.9126303 3.665742e-01           1.0409721 3.661279e-01\n",
      "  p[HF]<.05\n",
      "2          \n",
      "3         *\n",
      "4          \n",
      "\n"
     ]
    },
    {
     "name": "stderr",
     "output_type": "stream",
     "text": [
      "trying URL 'https://mirrors.nics.utk.edu/cran/bin/windows/contrib/3.3/psych_1.7.5.zip'\n",
      "Content type 'application/zip' length 3967128 bytes (3.8 MB)\n",
      "==================================================\n",
      "downloaded 3.8 MB\n",
      "\n",
      "trying URL 'https://mirrors.nics.utk.edu/cran/bin/windows/contrib/3.3/ez_4.4-0.zip'\n",
      "Content type 'application/zip' length 304757 bytes (297 KB)\n",
      "==================================================\n",
      "downloaded 297 KB\n",
      "\n",
      "Warning message:\n",
      "package 'psych' was built under R version 3.3.3 \n",
      "Warning message:\n",
      "package 'ez' was built under R version 3.3.3 \n"
     ]
    }
   ],
   "source": [
    "! Rscript SSAnova.R"
   ]
  },
  {
   "cell_type": "markdown",
   "metadata": {},
   "source": [
    "# Making 95% Confidence Intervals"
   ]
  },
  {
   "cell_type": "code",
   "execution_count": 27,
   "metadata": {},
   "outputs": [
    {
     "data": {
      "text/plain": [
       "(575.24855628369187, 589.34607576113308)"
      ]
     },
     "execution_count": 27,
     "metadata": {},
     "output_type": "execute_result"
    }
   ],
   "source": [
    "import statsmodels.stats.api as sms\n",
    "\n",
    "a = RTanalysis.Stim1.mean()\n",
    "sms.DescrStatsW(RTanalysis.Stim1).tconfint_mean()\n",
    "#a"
   ]
  },
  {
   "cell_type": "code",
   "execution_count": 28,
   "metadata": {},
   "outputs": [
    {
     "data": {
      "text/plain": [
       "(576.53739158721669, 589.93908845381998)"
      ]
     },
     "execution_count": 28,
     "metadata": {},
     "output_type": "execute_result"
    }
   ],
   "source": [
    "a = RTanalysis.Stim2.mean()\n",
    "sms.DescrStatsW(RTanalysis.Stim2).tconfint_mean()\n",
    "#a"
   ]
  },
  {
   "cell_type": "code",
   "execution_count": 29,
   "metadata": {},
   "outputs": [
    {
     "data": {
      "text/plain": [
       "(575.6284717945606, 589.44677073149808)"
      ]
     },
     "execution_count": 29,
     "metadata": {},
     "output_type": "execute_result"
    }
   ],
   "source": [
    "a = RTanalysis.Stim3.mean()\n",
    "sms.DescrStatsW(RTanalysis.Stim3).tconfint_mean()\n",
    "#a"
   ]
  },
  {
   "cell_type": "code",
   "execution_count": 30,
   "metadata": {},
   "outputs": [
    {
     "data": {
      "text/plain": [
       "(575.62398557103393, 589.3679393215134)"
      ]
     },
     "execution_count": 30,
     "metadata": {},
     "output_type": "execute_result"
    }
   ],
   "source": [
    "a = RTanalysis.Stim4.mean()\n",
    "sms.DescrStatsW(RTanalysis.Stim4).tconfint_mean()\n",
    "#a"
   ]
  },
  {
   "cell_type": "code",
   "execution_count": 31,
   "metadata": {},
   "outputs": [
    {
     "data": {
      "text/plain": [
       "(579.88705079070303, 598.6095161127131)"
      ]
     },
     "execution_count": 31,
     "metadata": {},
     "output_type": "execute_result"
    }
   ],
   "source": [
    "a = RTrunanalysis.loc[RTrunanalysis['Run'] == 0].Stim1.mean()\n",
    "sms.DescrStatsW(RTrunanalysis.loc[RTrunanalysis['Run'] == 0].Stim1).tconfint_mean()\n",
    "#a"
   ]
  },
  {
   "cell_type": "code",
   "execution_count": 32,
   "metadata": {},
   "outputs": [
    {
     "data": {
      "text/plain": [
       "(579.28374844750567, 596.22233238186266)"
      ]
     },
     "execution_count": 32,
     "metadata": {},
     "output_type": "execute_result"
    }
   ],
   "source": [
    "a = RTrunanalysis.loc[RTrunanalysis['Run'] == 0].Stim2.mean()\n",
    "sms.DescrStatsW(RTrunanalysis.loc[RTrunanalysis['Run'] == 0].Stim2).tconfint_mean()\n",
    "#a"
   ]
  },
  {
   "cell_type": "code",
   "execution_count": 33,
   "metadata": {
    "collapsed": true
   },
   "outputs": [],
   "source": [
    "a = RTrunanalysis.loc[RTrunanalysis['Run'] == 0].Stim3.mean()\n",
    "#sms.DescrStatsW(RTrunanalysis.loc[RTrunanalysis['Run'] == 0].Stim3).tconfint_mean()\n",
    "## NOTE: one subject did not have a single trial for Stim 3 that was *correct* on run 1, so this confidence interval method\n",
    "## did not work. I have calculated like this because it excludes that subject in its calculation.\n",
    "b = RTrunanalysis.loc[RTrunanalysis['Run'] == 0].Stim3.std()\n",
    "stderror = b / n;\n",
    "CI = stderror * 1.96;\n",
    "UCI = a + CI\n",
    "LCI = a - CI"
   ]
  },
  {
   "cell_type": "code",
   "execution_count": 35,
   "metadata": {},
   "outputs": [
    {
     "data": {
      "text/plain": [
       "(588.78689655354276, 607.47670833471955)"
      ]
     },
     "execution_count": 35,
     "metadata": {},
     "output_type": "execute_result"
    }
   ],
   "source": [
    "a = RTrunanalysis.loc[RTrunanalysis['Run'] == 0].Stim4.mean()\n",
    "sms.DescrStatsW(RTrunanalysis.loc[RTrunanalysis['Run'] == 0].Stim4).tconfint_mean()\n",
    "#a"
   ]
  },
  {
   "cell_type": "code",
   "execution_count": 36,
   "metadata": {},
   "outputs": [
    {
     "data": {
      "text/plain": [
       "(576.89438116176029, 592.34020046665705)"
      ]
     },
     "execution_count": 36,
     "metadata": {},
     "output_type": "execute_result"
    }
   ],
   "source": [
    "a = RTrunanalysis.loc[RTrunanalysis['Run'] == 1].Stim1.mean()\n",
    "sms.DescrStatsW(RTrunanalysis.loc[RTrunanalysis['Run'] == 1].Stim1).tconfint_mean()\n",
    "#a"
   ]
  },
  {
   "cell_type": "code",
   "execution_count": 37,
   "metadata": {},
   "outputs": [
    {
     "data": {
      "text/plain": [
       "(579.18589629109238, 595.61472089993572)"
      ]
     },
     "execution_count": 37,
     "metadata": {},
     "output_type": "execute_result"
    }
   ],
   "source": [
    "a = RTrunanalysis.loc[RTrunanalysis['Run'] == 1].Stim2.mean()\n",
    "sms.DescrStatsW(RTrunanalysis.loc[RTrunanalysis['Run'] == 1].Stim2).tconfint_mean()\n",
    "#a"
   ]
  },
  {
   "cell_type": "code",
   "execution_count": 38,
   "metadata": {},
   "outputs": [
    {
     "data": {
      "text/plain": [
       "(573.1753425047018, 589.59465705433877)"
      ]
     },
     "execution_count": 38,
     "metadata": {},
     "output_type": "execute_result"
    }
   ],
   "source": [
    "a = RTrunanalysis.loc[RTrunanalysis['Run'] == 1].Stim3.mean()\n",
    "sms.DescrStatsW(RTrunanalysis.loc[RTrunanalysis['Run'] == 1].Stim3).tconfint_mean()\n",
    "#a"
   ]
  },
  {
   "cell_type": "code",
   "execution_count": 39,
   "metadata": {},
   "outputs": [
    {
     "data": {
      "text/plain": [
       "(573.5237520146535, 590.6069693188075)"
      ]
     },
     "execution_count": 39,
     "metadata": {},
     "output_type": "execute_result"
    }
   ],
   "source": [
    "a = RTrunanalysis.loc[RTrunanalysis['Run'] == 1].Stim4.mean()\n",
    "sms.DescrStatsW(RTrunanalysis.loc[RTrunanalysis['Run'] == 1].Stim4).tconfint_mean()\n",
    "#a"
   ]
  },
  {
   "cell_type": "code",
   "execution_count": 40,
   "metadata": {},
   "outputs": [
    {
     "data": {
      "text/plain": [
       "(574.26564777564022, 590.11694451791095)"
      ]
     },
     "execution_count": 40,
     "metadata": {},
     "output_type": "execute_result"
    }
   ],
   "source": [
    "a = RTrunanalysis.loc[RTrunanalysis['Run'] == 2].Stim1.mean()\n",
    "sms.DescrStatsW(RTrunanalysis.loc[RTrunanalysis['Run'] == 2].Stim1).tconfint_mean()\n",
    "#a"
   ]
  },
  {
   "cell_type": "code",
   "execution_count": 41,
   "metadata": {},
   "outputs": [
    {
     "data": {
      "text/plain": [
       "(573.23791015842096, 588.20242484903713)"
      ]
     },
     "execution_count": 41,
     "metadata": {},
     "output_type": "execute_result"
    }
   ],
   "source": [
    "a = RTrunanalysis.loc[RTrunanalysis['Run'] == 2].Stim2.mean()\n",
    "sms.DescrStatsW(RTrunanalysis.loc[RTrunanalysis['Run'] == 2].Stim2).tconfint_mean()\n",
    "#a"
   ]
  },
  {
   "cell_type": "code",
   "execution_count": 42,
   "metadata": {},
   "outputs": [
    {
     "data": {
      "text/plain": [
       "(573.65022099604687, 589.20407508838628)"
      ]
     },
     "execution_count": 42,
     "metadata": {},
     "output_type": "execute_result"
    }
   ],
   "source": [
    "a = RTrunanalysis.loc[RTrunanalysis['Run'] == 2].Stim3.mean()\n",
    "sms.DescrStatsW(RTrunanalysis.loc[RTrunanalysis['Run'] == 2].Stim3).tconfint_mean()\n",
    "#a"
   ]
  },
  {
   "cell_type": "code",
   "execution_count": 43,
   "metadata": {},
   "outputs": [
    {
     "data": {
      "text/plain": [
       "(572.06452440245516, 585.98989013278128)"
      ]
     },
     "execution_count": 43,
     "metadata": {},
     "output_type": "execute_result"
    }
   ],
   "source": [
    "a = RTrunanalysis.loc[RTrunanalysis['Run'] == 2].Stim4.mean()\n",
    "sms.DescrStatsW(RTrunanalysis.loc[RTrunanalysis['Run'] == 2].Stim4).tconfint_mean()\n",
    "#a"
   ]
  },
  {
   "cell_type": "code",
   "execution_count": 44,
   "metadata": {},
   "outputs": [
    {
     "data": {
      "text/plain": [
       "(566.31344587838862, 583.14071731002127)"
      ]
     },
     "execution_count": 44,
     "metadata": {},
     "output_type": "execute_result"
    }
   ],
   "source": [
    "a = RTrunanalysis.loc[RTrunanalysis['Run'] == 3].Stim1.mean()\n",
    "sms.DescrStatsW(RTrunanalysis.loc[RTrunanalysis['Run'] == 3].Stim1).tconfint_mean()\n",
    "#a"
   ]
  },
  {
   "cell_type": "code",
   "execution_count": 45,
   "metadata": {},
   "outputs": [
    {
     "data": {
      "text/plain": [
       "(570.51884757027744, 585.1432816247285)"
      ]
     },
     "execution_count": 45,
     "metadata": {},
     "output_type": "execute_result"
    }
   ],
   "source": [
    "a = RTrunanalysis.loc[RTrunanalysis['Run'] == 3].Stim2.mean()\n",
    "sms.DescrStatsW(RTrunanalysis.loc[RTrunanalysis['Run'] == 3].Stim2).tconfint_mean()\n",
    "#a"
   ]
  },
  {
   "cell_type": "code",
   "execution_count": 46,
   "metadata": {},
   "outputs": [
    {
     "data": {
      "text/plain": [
       "(568.78040863698038, 583.93536235002352)"
      ]
     },
     "execution_count": 46,
     "metadata": {},
     "output_type": "execute_result"
    }
   ],
   "source": [
    "a = RTrunanalysis.loc[RTrunanalysis['Run'] == 3].Stim3.mean()\n",
    "sms.DescrStatsW(RTrunanalysis.loc[RTrunanalysis['Run'] == 3].Stim3).tconfint_mean()\n",
    "#a"
   ]
  },
  {
   "cell_type": "code",
   "execution_count": 47,
   "metadata": {},
   "outputs": [
    {
     "data": {
      "text/plain": [
       "(567.45350333656722, 583.59338584730824)"
      ]
     },
     "execution_count": 47,
     "metadata": {},
     "output_type": "execute_result"
    }
   ],
   "source": [
    "a = RTrunanalysis.loc[RTrunanalysis['Run'] == 3].Stim4.mean()\n",
    "sms.DescrStatsW(RTrunanalysis.loc[RTrunanalysis['Run'] == 3].Stim4).tconfint_mean()\n",
    "#a"
   ]
  },
  {
   "cell_type": "markdown",
   "metadata": {},
   "source": [
    "And for Accuracy..."
   ]
  },
  {
   "cell_type": "code",
   "execution_count": 48,
   "metadata": {},
   "outputs": [
    {
     "data": {
      "text/plain": [
       "(0.85350329591289353, 0.88713597349349926)"
      ]
     },
     "execution_count": 48,
     "metadata": {},
     "output_type": "execute_result"
    }
   ],
   "source": [
    "a = ACCanalysis.Stim1.mean()\n",
    "sms.DescrStatsW(ACCanalysis.Stim1).tconfint_mean()\n",
    "#a"
   ]
  },
  {
   "cell_type": "code",
   "execution_count": 49,
   "metadata": {},
   "outputs": [
    {
     "data": {
      "text/plain": [
       "(0.85766682465174171, 0.89027838082771027)"
      ]
     },
     "execution_count": 49,
     "metadata": {},
     "output_type": "execute_result"
    }
   ],
   "source": [
    "a = ACCanalysis.Stim2.mean()\n",
    "sms.DescrStatsW(ACCanalysis.Stim2).tconfint_mean()\n",
    "#a"
   ]
  },
  {
   "cell_type": "code",
   "execution_count": 50,
   "metadata": {},
   "outputs": [
    {
     "data": {
      "text/plain": [
       "(0.85943408220673367, 0.8939905753275128)"
      ]
     },
     "execution_count": 50,
     "metadata": {},
     "output_type": "execute_result"
    }
   ],
   "source": [
    "a = ACCanalysis.Stim3.mean()\n",
    "sms.DescrStatsW(ACCanalysis.Stim3).tconfint_mean()\n",
    "#a"
   ]
  },
  {
   "cell_type": "code",
   "execution_count": 51,
   "metadata": {},
   "outputs": [
    {
     "data": {
      "text/plain": [
       "(0.85792199651659773, 0.89309359157976498)"
      ]
     },
     "execution_count": 51,
     "metadata": {},
     "output_type": "execute_result"
    }
   ],
   "source": [
    "a = ACCanalysis.Stim4.mean()\n",
    "sms.DescrStatsW(ACCanalysis.Stim4).tconfint_mean()\n",
    "#a"
   ]
  },
  {
   "cell_type": "code",
   "execution_count": 52,
   "metadata": {},
   "outputs": [
    {
     "data": {
      "text/plain": [
       "(0.66673454961172696, 0.75609650061658362)"
      ]
     },
     "execution_count": 52,
     "metadata": {},
     "output_type": "execute_result"
    }
   ],
   "source": [
    "a = ACCrunanalysis.loc[RTrunanalysis['Run'] == 0].Stim1.mean()\n",
    "sms.DescrStatsW(ACCrunanalysis.loc[RTrunanalysis['Run'] == 0].Stim1).tconfint_mean()\n",
    "#a"
   ]
  },
  {
   "cell_type": "code",
   "execution_count": 53,
   "metadata": {},
   "outputs": [
    {
     "data": {
      "text/plain": [
       "(0.69559766557625169, 0.7783749371634745)"
      ]
     },
     "execution_count": 53,
     "metadata": {},
     "output_type": "execute_result"
    }
   ],
   "source": [
    "a = ACCrunanalysis.loc[RTrunanalysis['Run'] == 0].Stim2.mean()\n",
    "sms.DescrStatsW(ACCrunanalysis.loc[RTrunanalysis['Run'] == 0].Stim2).tconfint_mean()\n",
    "#a"
   ]
  },
  {
   "cell_type": "code",
   "execution_count": 54,
   "metadata": {},
   "outputs": [
    {
     "data": {
      "text/plain": [
       "(0.6793020826556998, 0.77640567990137799)"
      ]
     },
     "execution_count": 54,
     "metadata": {},
     "output_type": "execute_result"
    }
   ],
   "source": [
    "a = ACCrunanalysis.loc[RTrunanalysis['Run'] == 0].Stim3.mean()\n",
    "sms.DescrStatsW(ACCrunanalysis.loc[RTrunanalysis['Run'] == 0].Stim3).tconfint_mean()\n",
    "#a"
   ]
  },
  {
   "cell_type": "code",
   "execution_count": 55,
   "metadata": {},
   "outputs": [
    {
     "data": {
      "text/plain": [
       "(0.67599892465579892, 0.76874993379168965)"
      ]
     },
     "execution_count": 55,
     "metadata": {},
     "output_type": "execute_result"
    }
   ],
   "source": [
    "a = ACCrunanalysis.loc[RTrunanalysis['Run'] == 0].Stim4.mean()\n",
    "sms.DescrStatsW(ACCrunanalysis.loc[RTrunanalysis['Run'] == 0].Stim4).tconfint_mean()\n",
    "#a"
   ]
  },
  {
   "cell_type": "code",
   "execution_count": 56,
   "metadata": {},
   "outputs": [
    {
     "data": {
      "text/plain": [
       "(0.88613024259408069, 0.9293948715611704)"
      ]
     },
     "execution_count": 56,
     "metadata": {},
     "output_type": "execute_result"
    }
   ],
   "source": [
    "a = ACCrunanalysis.loc[RTrunanalysis['Run'] == 1].Stim1.mean()\n",
    "sms.DescrStatsW(ACCrunanalysis.loc[RTrunanalysis['Run'] == 1].Stim1).tconfint_mean()\n",
    "#a"
   ]
  },
  {
   "cell_type": "code",
   "execution_count": 57,
   "metadata": {},
   "outputs": [
    {
     "data": {
      "text/plain": [
       "(0.88294212697489272, 0.92345056708903384)"
      ]
     },
     "execution_count": 57,
     "metadata": {},
     "output_type": "execute_result"
    }
   ],
   "source": [
    "a = ACCrunanalysis.loc[RTrunanalysis['Run'] == 1].Stim2.mean()\n",
    "sms.DescrStatsW(ACCrunanalysis.loc[RTrunanalysis['Run'] == 1].Stim2).tconfint_mean()\n",
    "#a"
   ]
  },
  {
   "cell_type": "code",
   "execution_count": 58,
   "metadata": {},
   "outputs": [
    {
     "data": {
      "text/plain": [
       "(0.89271687797502353, 0.93376714028981633)"
      ]
     },
     "execution_count": 58,
     "metadata": {},
     "output_type": "execute_result"
    }
   ],
   "source": [
    "a = ACCrunanalysis.loc[RTrunanalysis['Run'] == 1].Stim3.mean()\n",
    "sms.DescrStatsW(ACCrunanalysis.loc[RTrunanalysis['Run'] == 1].Stim3).tconfint_mean()\n",
    "#a"
   ]
  },
  {
   "cell_type": "code",
   "execution_count": 59,
   "metadata": {},
   "outputs": [
    {
     "data": {
      "text/plain": [
       "(0.89579719901596722, 0.93433978728540268)"
      ]
     },
     "execution_count": 59,
     "metadata": {},
     "output_type": "execute_result"
    }
   ],
   "source": [
    "a = ACCrunanalysis.loc[RTrunanalysis['Run'] == 1].Stim4.mean()\n",
    "sms.DescrStatsW(ACCrunanalysis.loc[RTrunanalysis['Run'] == 1].Stim4).tconfint_mean()\n",
    "#a"
   ]
  },
  {
   "cell_type": "code",
   "execution_count": 60,
   "metadata": {},
   "outputs": [
    {
     "data": {
      "text/plain": [
       "(0.91373933493351978, 0.94927436369661711)"
      ]
     },
     "execution_count": 60,
     "metadata": {},
     "output_type": "execute_result"
    }
   ],
   "source": [
    "a = ACCrunanalysis.loc[RTrunanalysis['Run'] == 2].Stim1.mean()\n",
    "sms.DescrStatsW(ACCrunanalysis.loc[RTrunanalysis['Run'] == 2].Stim1).tconfint_mean()\n",
    "#a"
   ]
  },
  {
   "cell_type": "code",
   "execution_count": 61,
   "metadata": {},
   "outputs": [
    {
     "data": {
      "text/plain": [
       "(0.8958963983077689, 0.93606707201186568)"
      ]
     },
     "execution_count": 61,
     "metadata": {},
     "output_type": "execute_result"
    }
   ],
   "source": [
    "a = ACCrunanalysis.loc[RTrunanalysis['Run'] == 2].Stim2.mean()\n",
    "sms.DescrStatsW(ACCrunanalysis.loc[RTrunanalysis['Run'] == 2].Stim2).tconfint_mean()\n",
    "#a"
   ]
  },
  {
   "cell_type": "code",
   "execution_count": 62,
   "metadata": {},
   "outputs": [
    {
     "data": {
      "text/plain": [
       "(0.90589787764587271, 0.94433043285641027)"
      ]
     },
     "execution_count": 62,
     "metadata": {},
     "output_type": "execute_result"
    }
   ],
   "source": [
    "a = ACCrunanalysis.loc[RTrunanalysis['Run'] == 2].Stim3.mean()\n",
    "sms.DescrStatsW(ACCrunanalysis.loc[RTrunanalysis['Run'] == 2].Stim3).tconfint_mean()\n",
    "#a"
   ]
  },
  {
   "cell_type": "code",
   "execution_count": 63,
   "metadata": {},
   "outputs": [
    {
     "data": {
      "text/plain": [
       "(0.91007501742015295, 0.9418493139562335)"
      ]
     },
     "execution_count": 63,
     "metadata": {},
     "output_type": "execute_result"
    }
   ],
   "source": [
    "a = ACCrunanalysis.loc[RTrunanalysis['Run'] == 2].Stim4.mean()\n",
    "sms.DescrStatsW(ACCrunanalysis.loc[RTrunanalysis['Run'] == 2].Stim4).tconfint_mean()\n",
    "#a"
   ]
  },
  {
   "cell_type": "code",
   "execution_count": 64,
   "metadata": {},
   "outputs": [
    {
     "data": {
      "text/plain": [
       "(0.91182081403567594, 0.94936640057619626)"
      ]
     },
     "execution_count": 64,
     "metadata": {},
     "output_type": "execute_result"
    }
   ],
   "source": [
    "a = ACCrunanalysis.loc[RTrunanalysis['Run'] == 3].Stim1.mean()\n",
    "sms.DescrStatsW(ACCrunanalysis.loc[RTrunanalysis['Run'] == 3].Stim1).tconfint_mean()\n",
    "#a"
   ]
  },
  {
   "cell_type": "code",
   "execution_count": 65,
   "metadata": {},
   "outputs": [
    {
     "data": {
      "text/plain": [
       "(0.92392199795916152, 0.9555300568353593)"
      ]
     },
     "execution_count": 65,
     "metadata": {},
     "output_type": "execute_result"
    }
   ],
   "source": [
    "a = ACCrunanalysis.loc[RTrunanalysis['Run'] == 3].Stim2.mean()\n",
    "sms.DescrStatsW(ACCrunanalysis.loc[RTrunanalysis['Run'] == 3].Stim2).tconfint_mean()\n",
    "#a"
   ]
  },
  {
   "cell_type": "code",
   "execution_count": 66,
   "metadata": {},
   "outputs": [
    {
     "data": {
      "text/plain": [
       "(0.92517977533171769, 0.95609876348106781)"
      ]
     },
     "execution_count": 66,
     "metadata": {},
     "output_type": "execute_result"
    }
   ],
   "source": [
    "a = ACCrunanalysis.loc[RTrunanalysis['Run'] == 3].Stim3.mean()\n",
    "sms.DescrStatsW(ACCrunanalysis.loc[RTrunanalysis['Run'] == 3].Stim3).tconfint_mean()\n",
    "#a"
   ]
  },
  {
   "cell_type": "code",
   "execution_count": 67,
   "metadata": {},
   "outputs": [
    {
     "data": {
      "text/plain": [
       "(0.91811905495622892, 0.95924558953170302)"
      ]
     },
     "execution_count": 67,
     "metadata": {},
     "output_type": "execute_result"
    }
   ],
   "source": [
    "a = ACCrunanalysis.loc[RTrunanalysis['Run'] == 3].Stim4.mean()\n",
    "sms.DescrStatsW(ACCrunanalysis.loc[RTrunanalysis['Run'] == 3].Stim4).tconfint_mean()\n",
    "#a"
   ]
  }
 ],
 "metadata": {
  "anaconda-cloud": {},
  "kernelspec": {
   "display_name": "Python [Root]",
   "language": "python",
   "name": "Python [Root]"
  },
  "language_info": {
   "codemirror_mode": {
    "name": "ipython",
    "version": 3
   },
   "file_extension": ".py",
   "mimetype": "text/x-python",
   "name": "python",
   "nbconvert_exporter": "python",
   "pygments_lexer": "ipython3",
   "version": "3.5.2"
  }
 },
 "nbformat": 4,
 "nbformat_minor": 1
}

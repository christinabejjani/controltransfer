{
 "cells": [
  {
   "cell_type": "markdown",
   "metadata": {},
   "source": [
    "# Information on How These Data Are Organized:\n",
    "\n",
    "`TypeOfResponse` refers to whether participants pressed a button (\"APResp\") or did not press a button (\"APRespITI\") within the given time frame.\n",
    "\n",
    "`Version` refers to the task version. I never changed the JS code; I merely changed which face/house was labeled as S1_1, S1_2, S1_3, or S1_4 in respective task folders.\n",
    "\n",
    "`LogCounter` gets added to whenever the JS records a new datapoint.\n",
    "\n",
    "`TrialCounter` gets added to whenever a new trial has started. This is reset at the start of each block.\n",
    "\n",
    "`MatrixCounter` gets added to throughout the task and is never reset. It is what I use to call Stimuli #s.\n",
    "\n",
    "`RunCounter` refers to the run: 0 is run 1, 1 is run 2, 2 is run 3, and 3 is run 4.\n",
    "\n",
    "`Valid` refers to the valid trial type. `Invalid` invalid trial type. This is in reference to the main manipulation of the S-S association phase, whereby particular faces and houses are more likely to precede particular scenes.\n",
    "\n",
    "`Stimuli` refers to the S1 image presented here. Instead of Stim Type from the first experiment, I just coded this into the JS when I ran the second expt.\n",
    "\n",
    "`StimPresented` refers to my matrix of possible trial types. For instance, 1 means stimulus 1 is associated with scene 1 (valid). 16 means stimulus 4 is associated with scene 3 (invalid).\n",
    "\n",
    "`PressCorrect` refers to the button that participants should press on that trial. This is how I define accuracy (i.e., correct: when PressCorrect = actualkeyPressed).\n",
    "\n",
    "`ResponseMatrix` refers to which key is pressed; this is a redundant variable and was used to make sure that each key had been required an equal number of times throughout the task.\n",
    "\n",
    "`ActualKeyPressed` is what key subjects pressed.\n",
    "\n",
    "`Accuracy` & `RT` self-explanatory.\n",
    "\n",
    "`FeedbackType` refers to whether they got correct as fb, incorrect as fb, or the fb time-out.\n",
    "\n",
    "`runStart` refers to the initiation of the countdown to begin the task.\n",
    "\n",
    "`ImagePresent` refers to when the face/house was presented.\n",
    "\n",
    "`StimTime` refers to when the scene was presented.\n",
    "\n",
    "`RespOnset` refers to when a response was made.\n",
    "\n",
    "`AccCount` is how I give subjects accurate fb of their performance at the end of each run (i.e., a counter that gets added to after each correct trial & is divided by trial #).\n",
    "\n",
    "`Subject` self-explanatory.\n",
    "\n",
    "One label isn't coded in the JS: `StimRep` looks for direct repetitions in the StimPresented matrix (i.e., if 15 comes twice in a row). This was coded in Matlab and added to the CSV file.\n",
    "\n",
    "---"
   ]
  },
  {
   "cell_type": "markdown",
   "metadata": {},
   "source": [
    "### Here we'll just import Python specific packages and read in our data."
   ]
  },
  {
   "cell_type": "code",
   "execution_count": 1,
   "metadata": {
    "collapsed": true
   },
   "outputs": [],
   "source": [
    "import numpy as np\n",
    "import pandas as pd\n",
    "import matplotlib.pyplot as plt\n",
    "import seaborn as sns\n",
    "import pylab as plb\n",
    "import math\n",
    "from scipy import stats\n",
    "\n",
    "%matplotlib notebook "
   ]
  },
  {
   "cell_type": "code",
   "execution_count": 2,
   "metadata": {
    "scrolled": true
   },
   "outputs": [
    {
     "name": "stdout",
     "output_type": "stream",
     "text": [
      "C:\\Users\\cb383\\Documents\\controltransfer\\expt2\\data\n"
     ]
    }
   ],
   "source": [
    "%cd 'C:\\Users\\cb383\\Documents\\controltransfer\\expt2\\data'\n",
    "dat = pd.read_csv('AllSubsSS.csv')"
   ]
  },
  {
   "cell_type": "markdown",
   "metadata": {},
   "source": [
    "# Do Some Basic Cleaning"
   ]
  },
  {
   "cell_type": "markdown",
   "metadata": {},
   "source": [
    "#### We are filtering and preparing the data for analysis.\n",
    "\n",
    "<u>FOR REACTION TIMES</u>:\n",
    "\n",
    "-Select only `TypeOfResponse` equal to `Resp` (`ITI Resp` is when subs didn't respond).\n",
    "\n",
    "-Only take the RTs that are greater than 200ms and less than 750 ms.\n",
    "\n",
    "-Only take the RTs on accurate trials.\n",
    "\n",
    "-Only take trials where the stimulus didn't repeat.\n",
    "\n",
    "\n",
    "<u>FOR ACCURACY</u>:\n",
    "\n",
    "-All errors are errors"
   ]
  },
  {
   "cell_type": "code",
   "execution_count": 3,
   "metadata": {
    "collapsed": true
   },
   "outputs": [],
   "source": [
    "cdat = dat.query('(TypeOfResponse != \"APRespITI\") & (RT > 200) & (RT < 750) & (Accuracy != 0) & (StimRep != 1)').copy()\n",
    "adat = dat.copy()"
   ]
  },
  {
   "cell_type": "code",
   "execution_count": 4,
   "metadata": {
    "collapsed": true
   },
   "outputs": [],
   "source": [
    "#Note: these are the old valid/invalid pairings. They don't actually matter for this analysis, but for the sake of consistency,\n",
    "#I have marked them in this data set as well...\n",
    "\n",
    "adat['TrialType'] = adat['Valid'].isin([1])\n",
    "adat.loc[adat['Valid'].isin([1]), 'TrialType'] = 'Valid'\n",
    "adat.loc[~adat['Valid'].isin([1]), 'TrialType'] = 'Invalid'\n",
    "\n",
    "cdat['TrialType'] = cdat['Valid'].isin([1])\n",
    "cdat.loc[cdat['Valid'].isin([1]), 'TrialType'] = 'Valid'\n",
    "cdat.loc[~cdat['Valid'].isin([1]), 'TrialType'] = 'Invalid'"
   ]
  },
  {
   "cell_type": "code",
   "execution_count": 5,
   "metadata": {
    "collapsed": true
   },
   "outputs": [],
   "source": [
    "adat['S2Image'] = adat['StimPresented'].isin([1])\n",
    "adat.loc[adat['StimPresented'].isin([1]), 'S2Image'] = 'S2Image1'\n",
    "adat.loc[adat['StimPresented'].isin([2]), 'S2Image'] = 'S2Image1'\n",
    "adat.loc[adat['StimPresented'].isin([3]), 'S2Image'] = 'S2Image1'\n",
    "adat.loc[adat['StimPresented'].isin([4]), 'S2Image'] = 'S2Image1'\n",
    "\n",
    "adat.loc[adat['StimPresented'].isin([5]), 'S2Image'] = 'S2Image2'\n",
    "adat.loc[adat['StimPresented'].isin([6]), 'S2Image'] = 'S2Image2'\n",
    "adat.loc[adat['StimPresented'].isin([7]), 'S2Image'] = 'S2Image2'\n",
    "adat.loc[adat['StimPresented'].isin([8]), 'S2Image'] = 'S2Image2'\n",
    "\n",
    "adat.loc[adat['StimPresented'].isin([9]), 'S2Image'] = 'S2Image3'\n",
    "adat.loc[adat['StimPresented'].isin([10]), 'S2Image'] = 'S2Image3'\n",
    "adat.loc[adat['StimPresented'].isin([11]), 'S2Image'] = 'S2Image3'\n",
    "adat.loc[adat['StimPresented'].isin([12]), 'S2Image'] = 'S2Image3'\n",
    "\n",
    "adat.loc[adat['StimPresented'].isin([13]), 'S2Image'] = 'S2Image4'\n",
    "adat.loc[adat['StimPresented'].isin([14]), 'S2Image'] = 'S2Image4'\n",
    "adat.loc[adat['StimPresented'].isin([15]), 'S2Image'] = 'S2Image4'\n",
    "adat.loc[adat['StimPresented'].isin([16]), 'S2Image'] = 'S2Image4'\n",
    "\n",
    "cdat['S2Image'] = cdat['StimPresented'].isin([1])\n",
    "cdat.loc[cdat['StimPresented'].isin([1]), 'S2Image'] = 'S2Image1'\n",
    "cdat.loc[cdat['StimPresented'].isin([2]), 'S2Image'] = 'S2Image1'\n",
    "cdat.loc[cdat['StimPresented'].isin([3]), 'S2Image'] = 'S2Image1'\n",
    "cdat.loc[cdat['StimPresented'].isin([4]), 'S2Image'] = 'S2Image1'\n",
    "\n",
    "cdat.loc[cdat['StimPresented'].isin([5]), 'S2Image'] = 'S2Image2'\n",
    "cdat.loc[cdat['StimPresented'].isin([6]), 'S2Image'] = 'S2Image2'\n",
    "cdat.loc[cdat['StimPresented'].isin([7]), 'S2Image'] = 'S2Image2'\n",
    "cdat.loc[cdat['StimPresented'].isin([8]), 'S2Image'] = 'S2Image2'\n",
    "\n",
    "cdat.loc[cdat['StimPresented'].isin([9]), 'S2Image'] = 'S2Image3'\n",
    "cdat.loc[cdat['StimPresented'].isin([10]), 'S2Image'] = 'S2Image3'\n",
    "cdat.loc[cdat['StimPresented'].isin([11]), 'S2Image'] = 'S2Image3'\n",
    "cdat.loc[cdat['StimPresented'].isin([12]), 'S2Image'] = 'S2Image3'\n",
    "\n",
    "cdat.loc[cdat['StimPresented'].isin([13]), 'S2Image'] = 'S2Image4'\n",
    "cdat.loc[cdat['StimPresented'].isin([14]), 'S2Image'] = 'S2Image4'\n",
    "cdat.loc[cdat['StimPresented'].isin([15]), 'S2Image'] = 'S2Image4'\n",
    "cdat.loc[cdat['StimPresented'].isin([16]), 'S2Image'] = 'S2Image4'"
   ]
  },
  {
   "cell_type": "markdown",
   "metadata": {},
   "source": [
    "# Look at Mean Validity Effects"
   ]
  },
  {
   "cell_type": "markdown",
   "metadata": {},
   "source": [
    "### A validity effect means being faster and more accurate to respond when a face/house (S1) image validly cues its paired scene (S2) associate than when the scene is invalidly cued. Here, we do not expect any validity effects or any main effect of S1 image on scene categorization, because the S1-S2 pairs have been scrambled. All S1 images precede each S2 image an equal number of times."
   ]
  },
  {
   "cell_type": "code",
   "execution_count": 6,
   "metadata": {},
   "outputs": [
    {
     "data": {
      "text/plain": [
       "Stimuli\n",
       "1    582.297316\n",
       "2    583.238240\n",
       "3    582.537621\n",
       "4    582.495962\n",
       "Name: RT, dtype: float64"
      ]
     },
     "execution_count": 6,
     "metadata": {},
     "output_type": "execute_result"
    }
   ],
   "source": [
    "sub_RTmeans = cdat.groupby(['subject','Stimuli'])['RT'].mean()\n",
    "RTgrpmean = pd.Series.mean(sub_RTmeans,level=1)\n",
    "RTgrpmean"
   ]
  },
  {
   "cell_type": "code",
   "execution_count": 7,
   "metadata": {},
   "outputs": [
    {
     "data": {
      "text/plain": [
       "Stimuli\n",
       "1    30.211051\n",
       "2    28.719900\n",
       "3    29.612680\n",
       "4    29.453358\n",
       "Name: RT, dtype: float64"
      ]
     },
     "execution_count": 7,
     "metadata": {},
     "output_type": "execute_result"
    }
   ],
   "source": [
    "RTgrpstd = pd.Series.std(sub_RTmeans,level=1)\n",
    "RTgrpstd"
   ]
  },
  {
   "cell_type": "code",
   "execution_count": 8,
   "metadata": {},
   "outputs": [
    {
     "data": {
      "text/plain": [
       "Stimuli\n",
       "1    3.535936\n",
       "2    3.361410\n",
       "3    3.465902\n",
       "4    3.447255\n",
       "Name: RT, dtype: float64"
      ]
     },
     "execution_count": 8,
     "metadata": {},
     "output_type": "execute_result"
    }
   ],
   "source": [
    "n = math.sqrt(73)\n",
    "RTstderror = RTgrpstd / n\n",
    "RTstderror"
   ]
  },
  {
   "cell_type": "markdown",
   "metadata": {},
   "source": [
    "#### Judging by these initial numbers, there is no effect of S1 image on scene categorization. Is that true of Accuracy?"
   ]
  },
  {
   "cell_type": "code",
   "execution_count": 9,
   "metadata": {},
   "outputs": [
    {
     "data": {
      "text/plain": [
       "Stimuli\n",
       "1    0.870320\n",
       "2    0.873973\n",
       "3    0.876712\n",
       "4    0.875508\n",
       "Name: Accuracy, dtype: float64"
      ]
     },
     "execution_count": 9,
     "metadata": {},
     "output_type": "execute_result"
    }
   ],
   "source": [
    "sub_ACCmeans = adat.groupby(['subject','Stimuli'])['Accuracy'].mean()\n",
    "ACCgrpmean = pd.Series.mean(sub_ACCmeans,level=1)\n",
    "ACCgrpmean"
   ]
  },
  {
   "cell_type": "code",
   "execution_count": 10,
   "metadata": {},
   "outputs": [
    {
     "data": {
      "text/plain": [
       "Stimuli\n",
       "1    0.072075\n",
       "2    0.069887\n",
       "3    0.074055\n",
       "4    0.075373\n",
       "Name: Accuracy, dtype: float64"
      ]
     },
     "execution_count": 10,
     "metadata": {},
     "output_type": "execute_result"
    }
   ],
   "source": [
    "ACCgrpstd = pd.Series.std(sub_ACCmeans,level=1)\n",
    "ACCgrpstd"
   ]
  },
  {
   "cell_type": "code",
   "execution_count": 11,
   "metadata": {},
   "outputs": [
    {
     "data": {
      "text/plain": [
       "Stimuli\n",
       "1    0.008436\n",
       "2    0.008180\n",
       "3    0.008667\n",
       "4    0.008822\n",
       "Name: Accuracy, dtype: float64"
      ]
     },
     "execution_count": 11,
     "metadata": {},
     "output_type": "execute_result"
    }
   ],
   "source": [
    "ACCstderror = ACCgrpstd / n\n",
    "ACCstderror"
   ]
  },
  {
   "cell_type": "markdown",
   "metadata": {},
   "source": [
    "# Creating Variables to Run Statistics"
   ]
  },
  {
   "cell_type": "markdown",
   "metadata": {},
   "source": [
    "#### This is a Python set of analyses, where the data above are organized in what's called \"long-form\" and to run statistics, I need \"wide-form\" data. So I am creating a new \"dataframe\" with the RT and accuracy means for valid and invalid trials, for each subject."
   ]
  },
  {
   "cell_type": "code",
   "execution_count": 12,
   "metadata": {
    "collapsed": true
   },
   "outputs": [],
   "source": [
    "RTanalysis = pd.DataFrame()\n",
    "lists = [[] for list in range(0,5)]\n",
    "\n",
    "for ID in range(10,83):\n",
    "    sub = cdat[cdat.subject == ID]\n",
    "    lists[0].append(ID)\n",
    "    Stim1_trials = sub[sub.Stimuli == 1].RT.mean()\n",
    "    Stim2_trials = sub[sub.Stimuli == 2].RT.mean()\n",
    "    Stim3_trials = sub[sub.Stimuli == 3].RT.mean()\n",
    "    Stim4_trials = sub[sub.Stimuli == 4].RT.mean()\n",
    "    lists[1].append(Stim1_trials)\n",
    "    lists[2].append(Stim2_trials)\n",
    "    lists[3].append(Stim3_trials)\n",
    "    lists[4].append(Stim4_trials)\n",
    "    \n",
    "RTanalysis['SubjectID'] = lists[0]\n",
    "RTanalysis['Stim1'] = lists[1]\n",
    "RTanalysis['Stim2'] = lists[2]\n",
    "RTanalysis['Stim3'] = lists[3]\n",
    "RTanalysis['Stim4'] = lists[4]"
   ]
  },
  {
   "cell_type": "code",
   "execution_count": 13,
   "metadata": {
    "collapsed": true
   },
   "outputs": [],
   "source": [
    "#repeat for accuracy\n",
    "\n",
    "ACCanalysis = pd.DataFrame()\n",
    "new_lists = [[] for list in range(0,5)]\n",
    "\n",
    "for ID in range(10,83):\n",
    "    sub = adat[adat.subject == ID]\n",
    "    new_lists[0].append(ID)\n",
    "    ACC_Stim1_trials = sub[sub.Stimuli == 1].Accuracy.mean()\n",
    "    ACC_Stim2_trials = sub[sub.Stimuli == 2].Accuracy.mean()\n",
    "    ACC_Stim3_trials = sub[sub.Stimuli == 3].Accuracy.mean()\n",
    "    ACC_Stim4_trials = sub[sub.Stimuli == 4].Accuracy.mean()\n",
    "    new_lists[1].append(ACC_Stim1_trials)\n",
    "    new_lists[2].append(ACC_Stim2_trials)\n",
    "    new_lists[3].append(ACC_Stim3_trials)\n",
    "    new_lists[4].append(ACC_Stim4_trials)\n",
    "    \n",
    "ACCanalysis['SubjectID'] = new_lists[0]\n",
    "ACCanalysis['Stim1'] = new_lists[1]\n",
    "ACCanalysis['Stim2'] = new_lists[2]\n",
    "ACCanalysis['Stim3'] = new_lists[3]\n",
    "ACCanalysis['Stim4'] = new_lists[4]"
   ]
  },
  {
   "cell_type": "code",
   "execution_count": 14,
   "metadata": {
    "collapsed": true
   },
   "outputs": [],
   "source": [
    "#now for run as well\n",
    "\n",
    "RTrunanalysis = pd.DataFrame()\n",
    "new_RTlists = [[] for list in range(0,6)]\n",
    "\n",
    "for ID in range(10,83):\n",
    "    sub = cdat[cdat.subject == ID]\n",
    "    for runID in range(0,4):\n",
    "        run = sub[sub.RunCounter == runID]\n",
    "        new_RTlists[0].append(ID)\n",
    "        new_RTlists[1].append(runID)\n",
    "        RTStim1_trials = run[run.Stimuli == 1].RT.mean()\n",
    "        RTStim2_trials = run[run.Stimuli == 2].RT.mean()\n",
    "        RTStim3_trials = run[run.Stimuli == 3].RT.mean()\n",
    "        RTStim4_trials = run[run.Stimuli == 4].RT.mean()\n",
    "        new_RTlists[2].append(RTStim1_trials)\n",
    "        new_RTlists[3].append(RTStim2_trials)\n",
    "        new_RTlists[4].append(RTStim3_trials)\n",
    "        new_RTlists[5].append(RTStim4_trials)\n",
    "    \n",
    "RTrunanalysis['SubjectID'] = new_RTlists[0]\n",
    "RTrunanalysis['Run'] = new_RTlists[1]\n",
    "RTrunanalysis['Stim1'] = new_RTlists[2]\n",
    "RTrunanalysis['Stim2'] = new_RTlists[3]\n",
    "RTrunanalysis['Stim3'] = new_RTlists[4]\n",
    "RTrunanalysis['Stim4'] = new_RTlists[5]"
   ]
  },
  {
   "cell_type": "code",
   "execution_count": 15,
   "metadata": {
    "collapsed": true
   },
   "outputs": [],
   "source": [
    "#repeat for accuracy\n",
    "\n",
    "ACCrunanalysis = pd.DataFrame()\n",
    "new_acclists = [[] for list in range(0,6)]\n",
    "\n",
    "for ID in range(10,83):\n",
    "    sub = adat[adat.subject == ID]\n",
    "    for runID in range(0,4):\n",
    "        run = sub[sub.RunCounter == runID]\n",
    "        new_acclists[0].append(ID)\n",
    "        new_acclists[1].append(runID)\n",
    "        ACCStim1_trials = run[run.Stimuli == 1].Accuracy.mean()\n",
    "        ACCStim2_trials = run[run.Stimuli == 2].Accuracy.mean()\n",
    "        ACCStim3_trials = run[run.Stimuli == 3].Accuracy.mean()\n",
    "        ACCStim4_trials = run[run.Stimuli == 4].Accuracy.mean()\n",
    "        new_acclists[2].append(ACCStim1_trials)\n",
    "        new_acclists[3].append(ACCStim2_trials)\n",
    "        new_acclists[4].append(ACCStim3_trials)\n",
    "        new_acclists[5].append(ACCStim4_trials)\n",
    "    \n",
    "ACCrunanalysis['SubjectID'] = new_acclists[0]\n",
    "ACCrunanalysis['Run'] = new_acclists[1]\n",
    "ACCrunanalysis['Stim1'] = new_acclists[2]\n",
    "ACCrunanalysis['Stim2'] = new_acclists[3]\n",
    "ACCrunanalysis['Stim3'] = new_acclists[4]\n",
    "ACCrunanalysis['Stim4'] = new_acclists[5]"
   ]
  },
  {
   "cell_type": "markdown",
   "metadata": {},
   "source": [
    "# Run Actual Statistics"
   ]
  },
  {
   "cell_type": "markdown",
   "metadata": {},
   "source": [
    "#### For the S-S phase, we run a repeated-measures ANOVA comparing S1 image (4) and S2 image (4): this will test whether there is any effect of S1 image on scene categorization. \n",
    "\n",
    "Unfortunately, Python does not have the capability for repeated-measures ANOVA. I could install \"pyvtttbl\" for Python, but it's not as accurate as R, SPSS, etc. So in this particular notebook, I will run paired t-tests to mimic the lack of main effect of S1 image, and I will include R code to run the actual ANOVA."
   ]
  },
  {
   "cell_type": "code",
   "execution_count": 16,
   "metadata": {
    "collapsed": true
   },
   "outputs": [],
   "source": [
    "#paired t-tests for RT; if you want to look at any individual result, remove the semicolon.\n",
    "stats.ttest_rel(RTanalysis.Stim1, RTanalysis.Stim2);\n",
    "stats.ttest_rel(RTanalysis.Stim1, RTanalysis.Stim3);\n",
    "stats.ttest_rel(RTanalysis.Stim1, RTanalysis.Stim4);\n",
    "stats.ttest_rel(RTanalysis.Stim2, RTanalysis.Stim3);\n",
    "stats.ttest_rel(RTanalysis.Stim2, RTanalysis.Stim4);\n",
    "stats.ttest_rel(RTanalysis.Stim3, RTanalysis.Stim4);"
   ]
  },
  {
   "cell_type": "code",
   "execution_count": 17,
   "metadata": {
    "collapsed": true
   },
   "outputs": [],
   "source": [
    "stats.ttest_rel(ACCanalysis.Stim1, ACCanalysis.Stim2);\n",
    "stats.ttest_rel(ACCanalysis.Stim1, ACCanalysis.Stim3);\n",
    "stats.ttest_rel(ACCanalysis.Stim1, ACCanalysis.Stim4);\n",
    "stats.ttest_rel(ACCanalysis.Stim2, ACCanalysis.Stim3);\n",
    "stats.ttest_rel(ACCanalysis.Stim2, ACCanalysis.Stim4);\n",
    "stats.ttest_rel(ACCanalysis.Stim3, ACCanalysis.Stim4);"
   ]
  },
  {
   "cell_type": "code",
   "execution_count": 18,
   "metadata": {
    "collapsed": true
   },
   "outputs": [],
   "source": [
    "#can look at more things, like Bayesian confidence intervals\n",
    "stats.bayes_mvs(RTanalysis.Stim1);\n",
    "stats.bayes_mvs(RTanalysis.Stim2);\n",
    "stats.bayes_mvs(RTanalysis.Stim3);\n",
    "stats.bayes_mvs(RTanalysis.Stim4);\n",
    "stats.bayes_mvs(ACCanalysis.Stim1);\n",
    "stats.bayes_mvs(ACCanalysis.Stim2);\n",
    "stats.bayes_mvs(ACCanalysis.Stim3);\n",
    "stats.bayes_mvs(ACCanalysis.Stim4);"
   ]
  },
  {
   "cell_type": "markdown",
   "metadata": {},
   "source": [
    "#### In sum: no main effect of S1 image on RT or accuracy. See below for actual R ANOVA analyses (i.e., what was actually run in the paper)."
   ]
  },
  {
   "cell_type": "markdown",
   "metadata": {},
   "source": [
    "# Look at the Results Graphically"
   ]
  },
  {
   "cell_type": "markdown",
   "metadata": {},
   "source": [
    "Note that the graphs generated mimic the paper, but I used Matlab to generate the figures, because I like their graphics more."
   ]
  },
  {
   "cell_type": "code",
   "execution_count": 19,
   "metadata": {
    "collapsed": true
   },
   "outputs": [],
   "source": [
    "sns.set(context='notebook', style='white', font='Myriad Pro', font_scale=2, color_codes=False, rc=None);"
   ]
  },
  {
   "cell_type": "code",
   "execution_count": 20,
   "metadata": {},
   "outputs": [
    {
     "data": {
      "application/javascript": [
       "/* Put everything inside the global mpl namespace */\n",
       "window.mpl = {};\n",
       "\n",
       "mpl.get_websocket_type = function() {\n",
       "    if (typeof(WebSocket) !== 'undefined') {\n",
       "        return WebSocket;\n",
       "    } else if (typeof(MozWebSocket) !== 'undefined') {\n",
       "        return MozWebSocket;\n",
       "    } else {\n",
       "        alert('Your browser does not have WebSocket support.' +\n",
       "              'Please try Chrome, Safari or Firefox ≥ 6. ' +\n",
       "              'Firefox 4 and 5 are also supported but you ' +\n",
       "              'have to enable WebSockets in about:config.');\n",
       "    };\n",
       "}\n",
       "\n",
       "mpl.figure = function(figure_id, websocket, ondownload, parent_element) {\n",
       "    this.id = figure_id;\n",
       "\n",
       "    this.ws = websocket;\n",
       "\n",
       "    this.supports_binary = (this.ws.binaryType != undefined);\n",
       "\n",
       "    if (!this.supports_binary) {\n",
       "        var warnings = document.getElementById(\"mpl-warnings\");\n",
       "        if (warnings) {\n",
       "            warnings.style.display = 'block';\n",
       "            warnings.textContent = (\n",
       "                \"This browser does not support binary websocket messages. \" +\n",
       "                    \"Performance may be slow.\");\n",
       "        }\n",
       "    }\n",
       "\n",
       "    this.imageObj = new Image();\n",
       "\n",
       "    this.context = undefined;\n",
       "    this.message = undefined;\n",
       "    this.canvas = undefined;\n",
       "    this.rubberband_canvas = undefined;\n",
       "    this.rubberband_context = undefined;\n",
       "    this.format_dropdown = undefined;\n",
       "\n",
       "    this.image_mode = 'full';\n",
       "\n",
       "    this.root = $('<div/>');\n",
       "    this._root_extra_style(this.root)\n",
       "    this.root.attr('style', 'display: inline-block');\n",
       "\n",
       "    $(parent_element).append(this.root);\n",
       "\n",
       "    this._init_header(this);\n",
       "    this._init_canvas(this);\n",
       "    this._init_toolbar(this);\n",
       "\n",
       "    var fig = this;\n",
       "\n",
       "    this.waiting = false;\n",
       "\n",
       "    this.ws.onopen =  function () {\n",
       "            fig.send_message(\"supports_binary\", {value: fig.supports_binary});\n",
       "            fig.send_message(\"send_image_mode\", {});\n",
       "            fig.send_message(\"refresh\", {});\n",
       "        }\n",
       "\n",
       "    this.imageObj.onload = function() {\n",
       "            if (fig.image_mode == 'full') {\n",
       "                // Full images could contain transparency (where diff images\n",
       "                // almost always do), so we need to clear the canvas so that\n",
       "                // there is no ghosting.\n",
       "                fig.context.clearRect(0, 0, fig.canvas.width, fig.canvas.height);\n",
       "            }\n",
       "            fig.context.drawImage(fig.imageObj, 0, 0);\n",
       "        };\n",
       "\n",
       "    this.imageObj.onunload = function() {\n",
       "        this.ws.close();\n",
       "    }\n",
       "\n",
       "    this.ws.onmessage = this._make_on_message_function(this);\n",
       "\n",
       "    this.ondownload = ondownload;\n",
       "}\n",
       "\n",
       "mpl.figure.prototype._init_header = function() {\n",
       "    var titlebar = $(\n",
       "        '<div class=\"ui-dialog-titlebar ui-widget-header ui-corner-all ' +\n",
       "        'ui-helper-clearfix\"/>');\n",
       "    var titletext = $(\n",
       "        '<div class=\"ui-dialog-title\" style=\"width: 100%; ' +\n",
       "        'text-align: center; padding: 3px;\"/>');\n",
       "    titlebar.append(titletext)\n",
       "    this.root.append(titlebar);\n",
       "    this.header = titletext[0];\n",
       "}\n",
       "\n",
       "\n",
       "\n",
       "mpl.figure.prototype._canvas_extra_style = function(canvas_div) {\n",
       "\n",
       "}\n",
       "\n",
       "\n",
       "mpl.figure.prototype._root_extra_style = function(canvas_div) {\n",
       "\n",
       "}\n",
       "\n",
       "mpl.figure.prototype._init_canvas = function() {\n",
       "    var fig = this;\n",
       "\n",
       "    var canvas_div = $('<div/>');\n",
       "\n",
       "    canvas_div.attr('style', 'position: relative; clear: both; outline: 0');\n",
       "\n",
       "    function canvas_keyboard_event(event) {\n",
       "        return fig.key_event(event, event['data']);\n",
       "    }\n",
       "\n",
       "    canvas_div.keydown('key_press', canvas_keyboard_event);\n",
       "    canvas_div.keyup('key_release', canvas_keyboard_event);\n",
       "    this.canvas_div = canvas_div\n",
       "    this._canvas_extra_style(canvas_div)\n",
       "    this.root.append(canvas_div);\n",
       "\n",
       "    var canvas = $('<canvas/>');\n",
       "    canvas.addClass('mpl-canvas');\n",
       "    canvas.attr('style', \"left: 0; top: 0; z-index: 0; outline: 0\")\n",
       "\n",
       "    this.canvas = canvas[0];\n",
       "    this.context = canvas[0].getContext(\"2d\");\n",
       "\n",
       "    var rubberband = $('<canvas/>');\n",
       "    rubberband.attr('style', \"position: absolute; left: 0; top: 0; z-index: 1;\")\n",
       "\n",
       "    var pass_mouse_events = true;\n",
       "\n",
       "    canvas_div.resizable({\n",
       "        start: function(event, ui) {\n",
       "            pass_mouse_events = false;\n",
       "        },\n",
       "        resize: function(event, ui) {\n",
       "            fig.request_resize(ui.size.width, ui.size.height);\n",
       "        },\n",
       "        stop: function(event, ui) {\n",
       "            pass_mouse_events = true;\n",
       "            fig.request_resize(ui.size.width, ui.size.height);\n",
       "        },\n",
       "    });\n",
       "\n",
       "    function mouse_event_fn(event) {\n",
       "        if (pass_mouse_events)\n",
       "            return fig.mouse_event(event, event['data']);\n",
       "    }\n",
       "\n",
       "    rubberband.mousedown('button_press', mouse_event_fn);\n",
       "    rubberband.mouseup('button_release', mouse_event_fn);\n",
       "    // Throttle sequential mouse events to 1 every 20ms.\n",
       "    rubberband.mousemove('motion_notify', mouse_event_fn);\n",
       "\n",
       "    rubberband.mouseenter('figure_enter', mouse_event_fn);\n",
       "    rubberband.mouseleave('figure_leave', mouse_event_fn);\n",
       "\n",
       "    canvas_div.on(\"wheel\", function (event) {\n",
       "        event = event.originalEvent;\n",
       "        event['data'] = 'scroll'\n",
       "        if (event.deltaY < 0) {\n",
       "            event.step = 1;\n",
       "        } else {\n",
       "            event.step = -1;\n",
       "        }\n",
       "        mouse_event_fn(event);\n",
       "    });\n",
       "\n",
       "    canvas_div.append(canvas);\n",
       "    canvas_div.append(rubberband);\n",
       "\n",
       "    this.rubberband = rubberband;\n",
       "    this.rubberband_canvas = rubberband[0];\n",
       "    this.rubberband_context = rubberband[0].getContext(\"2d\");\n",
       "    this.rubberband_context.strokeStyle = \"#000000\";\n",
       "\n",
       "    this._resize_canvas = function(width, height) {\n",
       "        // Keep the size of the canvas, canvas container, and rubber band\n",
       "        // canvas in synch.\n",
       "        canvas_div.css('width', width)\n",
       "        canvas_div.css('height', height)\n",
       "\n",
       "        canvas.attr('width', width);\n",
       "        canvas.attr('height', height);\n",
       "\n",
       "        rubberband.attr('width', width);\n",
       "        rubberband.attr('height', height);\n",
       "    }\n",
       "\n",
       "    // Set the figure to an initial 600x600px, this will subsequently be updated\n",
       "    // upon first draw.\n",
       "    this._resize_canvas(600, 600);\n",
       "\n",
       "    // Disable right mouse context menu.\n",
       "    $(this.rubberband_canvas).bind(\"contextmenu\",function(e){\n",
       "        return false;\n",
       "    });\n",
       "\n",
       "    function set_focus () {\n",
       "        canvas.focus();\n",
       "        canvas_div.focus();\n",
       "    }\n",
       "\n",
       "    window.setTimeout(set_focus, 100);\n",
       "}\n",
       "\n",
       "mpl.figure.prototype._init_toolbar = function() {\n",
       "    var fig = this;\n",
       "\n",
       "    var nav_element = $('<div/>')\n",
       "    nav_element.attr('style', 'width: 100%');\n",
       "    this.root.append(nav_element);\n",
       "\n",
       "    // Define a callback function for later on.\n",
       "    function toolbar_event(event) {\n",
       "        return fig.toolbar_button_onclick(event['data']);\n",
       "    }\n",
       "    function toolbar_mouse_event(event) {\n",
       "        return fig.toolbar_button_onmouseover(event['data']);\n",
       "    }\n",
       "\n",
       "    for(var toolbar_ind in mpl.toolbar_items) {\n",
       "        var name = mpl.toolbar_items[toolbar_ind][0];\n",
       "        var tooltip = mpl.toolbar_items[toolbar_ind][1];\n",
       "        var image = mpl.toolbar_items[toolbar_ind][2];\n",
       "        var method_name = mpl.toolbar_items[toolbar_ind][3];\n",
       "\n",
       "        if (!name) {\n",
       "            // put a spacer in here.\n",
       "            continue;\n",
       "        }\n",
       "        var button = $('<button/>');\n",
       "        button.addClass('ui-button ui-widget ui-state-default ui-corner-all ' +\n",
       "                        'ui-button-icon-only');\n",
       "        button.attr('role', 'button');\n",
       "        button.attr('aria-disabled', 'false');\n",
       "        button.click(method_name, toolbar_event);\n",
       "        button.mouseover(tooltip, toolbar_mouse_event);\n",
       "\n",
       "        var icon_img = $('<span/>');\n",
       "        icon_img.addClass('ui-button-icon-primary ui-icon');\n",
       "        icon_img.addClass(image);\n",
       "        icon_img.addClass('ui-corner-all');\n",
       "\n",
       "        var tooltip_span = $('<span/>');\n",
       "        tooltip_span.addClass('ui-button-text');\n",
       "        tooltip_span.html(tooltip);\n",
       "\n",
       "        button.append(icon_img);\n",
       "        button.append(tooltip_span);\n",
       "\n",
       "        nav_element.append(button);\n",
       "    }\n",
       "\n",
       "    var fmt_picker_span = $('<span/>');\n",
       "\n",
       "    var fmt_picker = $('<select/>');\n",
       "    fmt_picker.addClass('mpl-toolbar-option ui-widget ui-widget-content');\n",
       "    fmt_picker_span.append(fmt_picker);\n",
       "    nav_element.append(fmt_picker_span);\n",
       "    this.format_dropdown = fmt_picker[0];\n",
       "\n",
       "    for (var ind in mpl.extensions) {\n",
       "        var fmt = mpl.extensions[ind];\n",
       "        var option = $(\n",
       "            '<option/>', {selected: fmt === mpl.default_extension}).html(fmt);\n",
       "        fmt_picker.append(option)\n",
       "    }\n",
       "\n",
       "    // Add hover states to the ui-buttons\n",
       "    $( \".ui-button\" ).hover(\n",
       "        function() { $(this).addClass(\"ui-state-hover\");},\n",
       "        function() { $(this).removeClass(\"ui-state-hover\");}\n",
       "    );\n",
       "\n",
       "    var status_bar = $('<span class=\"mpl-message\"/>');\n",
       "    nav_element.append(status_bar);\n",
       "    this.message = status_bar[0];\n",
       "}\n",
       "\n",
       "mpl.figure.prototype.request_resize = function(x_pixels, y_pixels) {\n",
       "    // Request matplotlib to resize the figure. Matplotlib will then trigger a resize in the client,\n",
       "    // which will in turn request a refresh of the image.\n",
       "    this.send_message('resize', {'width': x_pixels, 'height': y_pixels});\n",
       "}\n",
       "\n",
       "mpl.figure.prototype.send_message = function(type, properties) {\n",
       "    properties['type'] = type;\n",
       "    properties['figure_id'] = this.id;\n",
       "    this.ws.send(JSON.stringify(properties));\n",
       "}\n",
       "\n",
       "mpl.figure.prototype.send_draw_message = function() {\n",
       "    if (!this.waiting) {\n",
       "        this.waiting = true;\n",
       "        this.ws.send(JSON.stringify({type: \"draw\", figure_id: this.id}));\n",
       "    }\n",
       "}\n",
       "\n",
       "\n",
       "mpl.figure.prototype.handle_save = function(fig, msg) {\n",
       "    var format_dropdown = fig.format_dropdown;\n",
       "    var format = format_dropdown.options[format_dropdown.selectedIndex].value;\n",
       "    fig.ondownload(fig, format);\n",
       "}\n",
       "\n",
       "\n",
       "mpl.figure.prototype.handle_resize = function(fig, msg) {\n",
       "    var size = msg['size'];\n",
       "    if (size[0] != fig.canvas.width || size[1] != fig.canvas.height) {\n",
       "        fig._resize_canvas(size[0], size[1]);\n",
       "        fig.send_message(\"refresh\", {});\n",
       "    };\n",
       "}\n",
       "\n",
       "mpl.figure.prototype.handle_rubberband = function(fig, msg) {\n",
       "    var x0 = msg['x0'];\n",
       "    var y0 = fig.canvas.height - msg['y0'];\n",
       "    var x1 = msg['x1'];\n",
       "    var y1 = fig.canvas.height - msg['y1'];\n",
       "    x0 = Math.floor(x0) + 0.5;\n",
       "    y0 = Math.floor(y0) + 0.5;\n",
       "    x1 = Math.floor(x1) + 0.5;\n",
       "    y1 = Math.floor(y1) + 0.5;\n",
       "    var min_x = Math.min(x0, x1);\n",
       "    var min_y = Math.min(y0, y1);\n",
       "    var width = Math.abs(x1 - x0);\n",
       "    var height = Math.abs(y1 - y0);\n",
       "\n",
       "    fig.rubberband_context.clearRect(\n",
       "        0, 0, fig.canvas.width, fig.canvas.height);\n",
       "\n",
       "    fig.rubberband_context.strokeRect(min_x, min_y, width, height);\n",
       "}\n",
       "\n",
       "mpl.figure.prototype.handle_figure_label = function(fig, msg) {\n",
       "    // Updates the figure title.\n",
       "    fig.header.textContent = msg['label'];\n",
       "}\n",
       "\n",
       "mpl.figure.prototype.handle_cursor = function(fig, msg) {\n",
       "    var cursor = msg['cursor'];\n",
       "    switch(cursor)\n",
       "    {\n",
       "    case 0:\n",
       "        cursor = 'pointer';\n",
       "        break;\n",
       "    case 1:\n",
       "        cursor = 'default';\n",
       "        break;\n",
       "    case 2:\n",
       "        cursor = 'crosshair';\n",
       "        break;\n",
       "    case 3:\n",
       "        cursor = 'move';\n",
       "        break;\n",
       "    }\n",
       "    fig.rubberband_canvas.style.cursor = cursor;\n",
       "}\n",
       "\n",
       "mpl.figure.prototype.handle_message = function(fig, msg) {\n",
       "    fig.message.textContent = msg['message'];\n",
       "}\n",
       "\n",
       "mpl.figure.prototype.handle_draw = function(fig, msg) {\n",
       "    // Request the server to send over a new figure.\n",
       "    fig.send_draw_message();\n",
       "}\n",
       "\n",
       "mpl.figure.prototype.handle_image_mode = function(fig, msg) {\n",
       "    fig.image_mode = msg['mode'];\n",
       "}\n",
       "\n",
       "mpl.figure.prototype.updated_canvas_event = function() {\n",
       "    // Called whenever the canvas gets updated.\n",
       "    this.send_message(\"ack\", {});\n",
       "}\n",
       "\n",
       "// A function to construct a web socket function for onmessage handling.\n",
       "// Called in the figure constructor.\n",
       "mpl.figure.prototype._make_on_message_function = function(fig) {\n",
       "    return function socket_on_message(evt) {\n",
       "        if (evt.data instanceof Blob) {\n",
       "            /* FIXME: We get \"Resource interpreted as Image but\n",
       "             * transferred with MIME type text/plain:\" errors on\n",
       "             * Chrome.  But how to set the MIME type?  It doesn't seem\n",
       "             * to be part of the websocket stream */\n",
       "            evt.data.type = \"image/png\";\n",
       "\n",
       "            /* Free the memory for the previous frames */\n",
       "            if (fig.imageObj.src) {\n",
       "                (window.URL || window.webkitURL).revokeObjectURL(\n",
       "                    fig.imageObj.src);\n",
       "            }\n",
       "\n",
       "            fig.imageObj.src = (window.URL || window.webkitURL).createObjectURL(\n",
       "                evt.data);\n",
       "            fig.updated_canvas_event();\n",
       "            fig.waiting = false;\n",
       "            return;\n",
       "        }\n",
       "        else if (typeof evt.data === 'string' && evt.data.slice(0, 21) == \"data:image/png;base64\") {\n",
       "            fig.imageObj.src = evt.data;\n",
       "            fig.updated_canvas_event();\n",
       "            fig.waiting = false;\n",
       "            return;\n",
       "        }\n",
       "\n",
       "        var msg = JSON.parse(evt.data);\n",
       "        var msg_type = msg['type'];\n",
       "\n",
       "        // Call the  \"handle_{type}\" callback, which takes\n",
       "        // the figure and JSON message as its only arguments.\n",
       "        try {\n",
       "            var callback = fig[\"handle_\" + msg_type];\n",
       "        } catch (e) {\n",
       "            console.log(\"No handler for the '\" + msg_type + \"' message type: \", msg);\n",
       "            return;\n",
       "        }\n",
       "\n",
       "        if (callback) {\n",
       "            try {\n",
       "                // console.log(\"Handling '\" + msg_type + \"' message: \", msg);\n",
       "                callback(fig, msg);\n",
       "            } catch (e) {\n",
       "                console.log(\"Exception inside the 'handler_\" + msg_type + \"' callback:\", e, e.stack, msg);\n",
       "            }\n",
       "        }\n",
       "    };\n",
       "}\n",
       "\n",
       "// from http://stackoverflow.com/questions/1114465/getting-mouse-location-in-canvas\n",
       "mpl.findpos = function(e) {\n",
       "    //this section is from http://www.quirksmode.org/js/events_properties.html\n",
       "    var targ;\n",
       "    if (!e)\n",
       "        e = window.event;\n",
       "    if (e.target)\n",
       "        targ = e.target;\n",
       "    else if (e.srcElement)\n",
       "        targ = e.srcElement;\n",
       "    if (targ.nodeType == 3) // defeat Safari bug\n",
       "        targ = targ.parentNode;\n",
       "\n",
       "    // jQuery normalizes the pageX and pageY\n",
       "    // pageX,Y are the mouse positions relative to the document\n",
       "    // offset() returns the position of the element relative to the document\n",
       "    var x = e.pageX - $(targ).offset().left;\n",
       "    var y = e.pageY - $(targ).offset().top;\n",
       "\n",
       "    return {\"x\": x, \"y\": y};\n",
       "};\n",
       "\n",
       "/*\n",
       " * return a copy of an object with only non-object keys\n",
       " * we need this to avoid circular references\n",
       " * http://stackoverflow.com/a/24161582/3208463\n",
       " */\n",
       "function simpleKeys (original) {\n",
       "  return Object.keys(original).reduce(function (obj, key) {\n",
       "    if (typeof original[key] !== 'object')\n",
       "        obj[key] = original[key]\n",
       "    return obj;\n",
       "  }, {});\n",
       "}\n",
       "\n",
       "mpl.figure.prototype.mouse_event = function(event, name) {\n",
       "    var canvas_pos = mpl.findpos(event)\n",
       "\n",
       "    if (name === 'button_press')\n",
       "    {\n",
       "        this.canvas.focus();\n",
       "        this.canvas_div.focus();\n",
       "    }\n",
       "\n",
       "    var x = canvas_pos.x;\n",
       "    var y = canvas_pos.y;\n",
       "\n",
       "    this.send_message(name, {x: x, y: y, button: event.button,\n",
       "                             step: event.step,\n",
       "                             guiEvent: simpleKeys(event)});\n",
       "\n",
       "    /* This prevents the web browser from automatically changing to\n",
       "     * the text insertion cursor when the button is pressed.  We want\n",
       "     * to control all of the cursor setting manually through the\n",
       "     * 'cursor' event from matplotlib */\n",
       "    event.preventDefault();\n",
       "    return false;\n",
       "}\n",
       "\n",
       "mpl.figure.prototype._key_event_extra = function(event, name) {\n",
       "    // Handle any extra behaviour associated with a key event\n",
       "}\n",
       "\n",
       "mpl.figure.prototype.key_event = function(event, name) {\n",
       "\n",
       "    // Prevent repeat events\n",
       "    if (name == 'key_press')\n",
       "    {\n",
       "        if (event.which === this._key)\n",
       "            return;\n",
       "        else\n",
       "            this._key = event.which;\n",
       "    }\n",
       "    if (name == 'key_release')\n",
       "        this._key = null;\n",
       "\n",
       "    var value = '';\n",
       "    if (event.ctrlKey && event.which != 17)\n",
       "        value += \"ctrl+\";\n",
       "    if (event.altKey && event.which != 18)\n",
       "        value += \"alt+\";\n",
       "    if (event.shiftKey && event.which != 16)\n",
       "        value += \"shift+\";\n",
       "\n",
       "    value += 'k';\n",
       "    value += event.which.toString();\n",
       "\n",
       "    this._key_event_extra(event, name);\n",
       "\n",
       "    this.send_message(name, {key: value,\n",
       "                             guiEvent: simpleKeys(event)});\n",
       "    return false;\n",
       "}\n",
       "\n",
       "mpl.figure.prototype.toolbar_button_onclick = function(name) {\n",
       "    if (name == 'download') {\n",
       "        this.handle_save(this, null);\n",
       "    } else {\n",
       "        this.send_message(\"toolbar_button\", {name: name});\n",
       "    }\n",
       "};\n",
       "\n",
       "mpl.figure.prototype.toolbar_button_onmouseover = function(tooltip) {\n",
       "    this.message.textContent = tooltip;\n",
       "};\n",
       "mpl.toolbar_items = [[\"Home\", \"Reset original view\", \"fa fa-home icon-home\", \"home\"], [\"Back\", \"Back to  previous view\", \"fa fa-arrow-left icon-arrow-left\", \"back\"], [\"Forward\", \"Forward to next view\", \"fa fa-arrow-right icon-arrow-right\", \"forward\"], [\"\", \"\", \"\", \"\"], [\"Pan\", \"Pan axes with left mouse, zoom with right\", \"fa fa-arrows icon-move\", \"pan\"], [\"Zoom\", \"Zoom to rectangle\", \"fa fa-square-o icon-check-empty\", \"zoom\"], [\"\", \"\", \"\", \"\"], [\"Download\", \"Download plot\", \"fa fa-floppy-o icon-save\", \"download\"]];\n",
       "\n",
       "mpl.extensions = [\"eps\", \"jpeg\", \"pdf\", \"png\", \"ps\", \"raw\", \"svg\", \"tif\"];\n",
       "\n",
       "mpl.default_extension = \"png\";var comm_websocket_adapter = function(comm) {\n",
       "    // Create a \"websocket\"-like object which calls the given IPython comm\n",
       "    // object with the appropriate methods. Currently this is a non binary\n",
       "    // socket, so there is still some room for performance tuning.\n",
       "    var ws = {};\n",
       "\n",
       "    ws.close = function() {\n",
       "        comm.close()\n",
       "    };\n",
       "    ws.send = function(m) {\n",
       "        //console.log('sending', m);\n",
       "        comm.send(m);\n",
       "    };\n",
       "    // Register the callback with on_msg.\n",
       "    comm.on_msg(function(msg) {\n",
       "        //console.log('receiving', msg['content']['data'], msg);\n",
       "        // Pass the mpl event to the overriden (by mpl) onmessage function.\n",
       "        ws.onmessage(msg['content']['data'])\n",
       "    });\n",
       "    return ws;\n",
       "}\n",
       "\n",
       "mpl.mpl_figure_comm = function(comm, msg) {\n",
       "    // This is the function which gets called when the mpl process\n",
       "    // starts-up an IPython Comm through the \"matplotlib\" channel.\n",
       "\n",
       "    var id = msg.content.data.id;\n",
       "    // Get hold of the div created by the display call when the Comm\n",
       "    // socket was opened in Python.\n",
       "    var element = $(\"#\" + id);\n",
       "    var ws_proxy = comm_websocket_adapter(comm)\n",
       "\n",
       "    function ondownload(figure, format) {\n",
       "        window.open(figure.imageObj.src);\n",
       "    }\n",
       "\n",
       "    var fig = new mpl.figure(id, ws_proxy,\n",
       "                           ondownload,\n",
       "                           element.get(0));\n",
       "\n",
       "    // Call onopen now - mpl needs it, as it is assuming we've passed it a real\n",
       "    // web socket which is closed, not our websocket->open comm proxy.\n",
       "    ws_proxy.onopen();\n",
       "\n",
       "    fig.parent_element = element.get(0);\n",
       "    fig.cell_info = mpl.find_output_cell(\"<div id='\" + id + \"'></div>\");\n",
       "    if (!fig.cell_info) {\n",
       "        console.error(\"Failed to find cell for figure\", id, fig);\n",
       "        return;\n",
       "    }\n",
       "\n",
       "    var output_index = fig.cell_info[2]\n",
       "    var cell = fig.cell_info[0];\n",
       "\n",
       "};\n",
       "\n",
       "mpl.figure.prototype.handle_close = function(fig, msg) {\n",
       "    fig.root.unbind('remove')\n",
       "\n",
       "    // Update the output cell to use the data from the current canvas.\n",
       "    fig.push_to_output();\n",
       "    var dataURL = fig.canvas.toDataURL();\n",
       "    // Re-enable the keyboard manager in IPython - without this line, in FF,\n",
       "    // the notebook keyboard shortcuts fail.\n",
       "    IPython.keyboard_manager.enable()\n",
       "    $(fig.parent_element).html('<img src=\"' + dataURL + '\">');\n",
       "    fig.close_ws(fig, msg);\n",
       "}\n",
       "\n",
       "mpl.figure.prototype.close_ws = function(fig, msg){\n",
       "    fig.send_message('closing', msg);\n",
       "    // fig.ws.close()\n",
       "}\n",
       "\n",
       "mpl.figure.prototype.push_to_output = function(remove_interactive) {\n",
       "    // Turn the data on the canvas into data in the output cell.\n",
       "    var dataURL = this.canvas.toDataURL();\n",
       "    this.cell_info[1]['text/html'] = '<img src=\"' + dataURL + '\">';\n",
       "}\n",
       "\n",
       "mpl.figure.prototype.updated_canvas_event = function() {\n",
       "    // Tell IPython that the notebook contents must change.\n",
       "    IPython.notebook.set_dirty(true);\n",
       "    this.send_message(\"ack\", {});\n",
       "    var fig = this;\n",
       "    // Wait a second, then push the new image to the DOM so\n",
       "    // that it is saved nicely (might be nice to debounce this).\n",
       "    setTimeout(function () { fig.push_to_output() }, 1000);\n",
       "}\n",
       "\n",
       "mpl.figure.prototype._init_toolbar = function() {\n",
       "    var fig = this;\n",
       "\n",
       "    var nav_element = $('<div/>')\n",
       "    nav_element.attr('style', 'width: 100%');\n",
       "    this.root.append(nav_element);\n",
       "\n",
       "    // Define a callback function for later on.\n",
       "    function toolbar_event(event) {\n",
       "        return fig.toolbar_button_onclick(event['data']);\n",
       "    }\n",
       "    function toolbar_mouse_event(event) {\n",
       "        return fig.toolbar_button_onmouseover(event['data']);\n",
       "    }\n",
       "\n",
       "    for(var toolbar_ind in mpl.toolbar_items){\n",
       "        var name = mpl.toolbar_items[toolbar_ind][0];\n",
       "        var tooltip = mpl.toolbar_items[toolbar_ind][1];\n",
       "        var image = mpl.toolbar_items[toolbar_ind][2];\n",
       "        var method_name = mpl.toolbar_items[toolbar_ind][3];\n",
       "\n",
       "        if (!name) { continue; };\n",
       "\n",
       "        var button = $('<button class=\"btn btn-default\" href=\"#\" title=\"' + name + '\"><i class=\"fa ' + image + ' fa-lg\"></i></button>');\n",
       "        button.click(method_name, toolbar_event);\n",
       "        button.mouseover(tooltip, toolbar_mouse_event);\n",
       "        nav_element.append(button);\n",
       "    }\n",
       "\n",
       "    // Add the status bar.\n",
       "    var status_bar = $('<span class=\"mpl-message\" style=\"text-align:right; float: right;\"/>');\n",
       "    nav_element.append(status_bar);\n",
       "    this.message = status_bar[0];\n",
       "\n",
       "    // Add the close button to the window.\n",
       "    var buttongrp = $('<div class=\"btn-group inline pull-right\"></div>');\n",
       "    var button = $('<button class=\"btn btn-mini btn-primary\" href=\"#\" title=\"Stop Interaction\"><i class=\"fa fa-power-off icon-remove icon-large\"></i></button>');\n",
       "    button.click(function (evt) { fig.handle_close(fig, {}); } );\n",
       "    button.mouseover('Stop Interaction', toolbar_mouse_event);\n",
       "    buttongrp.append(button);\n",
       "    var titlebar = this.root.find($('.ui-dialog-titlebar'));\n",
       "    titlebar.prepend(buttongrp);\n",
       "}\n",
       "\n",
       "mpl.figure.prototype._root_extra_style = function(el){\n",
       "    var fig = this\n",
       "    el.on(\"remove\", function(){\n",
       "\tfig.close_ws(fig, {});\n",
       "    });\n",
       "}\n",
       "\n",
       "mpl.figure.prototype._canvas_extra_style = function(el){\n",
       "    // this is important to make the div 'focusable\n",
       "    el.attr('tabindex', 0)\n",
       "    // reach out to IPython and tell the keyboard manager to turn it's self\n",
       "    // off when our div gets focus\n",
       "\n",
       "    // location in version 3\n",
       "    if (IPython.notebook.keyboard_manager) {\n",
       "        IPython.notebook.keyboard_manager.register_events(el);\n",
       "    }\n",
       "    else {\n",
       "        // location in version 2\n",
       "        IPython.keyboard_manager.register_events(el);\n",
       "    }\n",
       "\n",
       "}\n",
       "\n",
       "mpl.figure.prototype._key_event_extra = function(event, name) {\n",
       "    var manager = IPython.notebook.keyboard_manager;\n",
       "    if (!manager)\n",
       "        manager = IPython.keyboard_manager;\n",
       "\n",
       "    // Check for shift+enter\n",
       "    if (event.shiftKey && event.which == 13) {\n",
       "        this.canvas_div.blur();\n",
       "        event.shiftKey = false;\n",
       "        // Send a \"J\" for go to next cell\n",
       "        event.which = 74;\n",
       "        event.keyCode = 74;\n",
       "        manager.command_mode();\n",
       "        manager.handle_keydown(event);\n",
       "    }\n",
       "}\n",
       "\n",
       "mpl.figure.prototype.handle_save = function(fig, msg) {\n",
       "    fig.ondownload(fig, null);\n",
       "}\n",
       "\n",
       "\n",
       "mpl.find_output_cell = function(html_output) {\n",
       "    // Return the cell and output element which can be found *uniquely* in the notebook.\n",
       "    // Note - this is a bit hacky, but it is done because the \"notebook_saving.Notebook\"\n",
       "    // IPython event is triggered only after the cells have been serialised, which for\n",
       "    // our purposes (turning an active figure into a static one), is too late.\n",
       "    var cells = IPython.notebook.get_cells();\n",
       "    var ncells = cells.length;\n",
       "    for (var i=0; i<ncells; i++) {\n",
       "        var cell = cells[i];\n",
       "        if (cell.cell_type === 'code'){\n",
       "            for (var j=0; j<cell.output_area.outputs.length; j++) {\n",
       "                var data = cell.output_area.outputs[j];\n",
       "                if (data.data) {\n",
       "                    // IPython >= 3 moved mimebundle to data attribute of output\n",
       "                    data = data.data;\n",
       "                }\n",
       "                if (data['text/html'] == html_output) {\n",
       "                    return [cell, data, j];\n",
       "                }\n",
       "            }\n",
       "        }\n",
       "    }\n",
       "}\n",
       "\n",
       "// Register the function which deals with the matplotlib target/channel.\n",
       "// The kernel may be null if the page has been refreshed.\n",
       "if (IPython.notebook.kernel != null) {\n",
       "    IPython.notebook.kernel.comm_manager.register_target('matplotlib', mpl.mpl_figure_comm);\n",
       "}\n"
      ],
      "text/plain": [
       "<IPython.core.display.Javascript object>"
      ]
     },
     "metadata": {},
     "output_type": "display_data"
    },
    {
     "data": {
      "text/html": [
       "<img src=\"data:image/png;base64,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\">"
      ],
      "text/plain": [
       "<IPython.core.display.HTML object>"
      ]
     },
     "metadata": {},
     "output_type": "display_data"
    }
   ],
   "source": [
    "barwidth = 0.75; \n",
    "fig, ax = plt.subplots(figsize=(9, 7));\n",
    "rects1 = ax.bar(0.5,RTanalysis.Stim1.mean(),barwidth,yerr=RTstderror[1],ecolor='k',edgecolor=sns.xkcd_rgb['green'],linewidth = 2, facecolor='none',error_kw=dict(lw=3),label='Congruent');\n",
    "rects2 = ax.bar(1.5,RTanalysis.Stim2.mean(),barwidth,color=sns.xkcd_rgb['green'],yerr=RTstderror[2],ecolor='k',error_kw=dict(lw=3),label='Incongruent');\n",
    "rects3 = ax.bar(2.5,RTanalysis.Stim3.mean(),barwidth,yerr=RTstderror[3],ecolor='k',edgecolor=(0.3,0.9,0.3),linewidth = 2, facecolor='none',error_kw=dict(lw=3));\n",
    "rects4 = ax.bar(3.5,RTanalysis.Stim4.mean(),barwidth,color=(0.3,0.9,0.3),yerr=RTstderror[4],ecolor='k',error_kw=dict(lw=3));\n",
    "sns.set(context='notebook', style='white', font='Myriad Pro', font_scale=2, color_codes=False, rc=None);\n",
    "ax.set_ylim(550,610);\n",
    "ax.set_xlim(0,5);\n",
    "ax.set_xticklabels(('Stim 1', 'Stim 2', 'Stim 3', 'Stim 4'));\n",
    "ax.set_xticks([0.5 + barwidth/2, 1.5 + barwidth/2,2.5 + barwidth/2,3.5 + barwidth/2]);\n",
    "ax.set_yticks(np.arange(550, 611, 10));\n",
    "plt.title('S-S RT Validity Effect', fontsize=26,fontweight=\"bold\")\n",
    "plt.ylabel('Reaction Time (ms)', fontsize=24,fontweight=\"bold\")\n",
    "plt.xlabel('S1 Image', fontsize=24,fontweight=\"bold\")\n",
    "sns.despine();\n",
    "\n",
    "plt.show()"
   ]
  },
  {
   "cell_type": "code",
   "execution_count": 21,
   "metadata": {},
   "outputs": [
    {
     "data": {
      "application/javascript": [
       "/* Put everything inside the global mpl namespace */\n",
       "window.mpl = {};\n",
       "\n",
       "mpl.get_websocket_type = function() {\n",
       "    if (typeof(WebSocket) !== 'undefined') {\n",
       "        return WebSocket;\n",
       "    } else if (typeof(MozWebSocket) !== 'undefined') {\n",
       "        return MozWebSocket;\n",
       "    } else {\n",
       "        alert('Your browser does not have WebSocket support.' +\n",
       "              'Please try Chrome, Safari or Firefox ≥ 6. ' +\n",
       "              'Firefox 4 and 5 are also supported but you ' +\n",
       "              'have to enable WebSockets in about:config.');\n",
       "    };\n",
       "}\n",
       "\n",
       "mpl.figure = function(figure_id, websocket, ondownload, parent_element) {\n",
       "    this.id = figure_id;\n",
       "\n",
       "    this.ws = websocket;\n",
       "\n",
       "    this.supports_binary = (this.ws.binaryType != undefined);\n",
       "\n",
       "    if (!this.supports_binary) {\n",
       "        var warnings = document.getElementById(\"mpl-warnings\");\n",
       "        if (warnings) {\n",
       "            warnings.style.display = 'block';\n",
       "            warnings.textContent = (\n",
       "                \"This browser does not support binary websocket messages. \" +\n",
       "                    \"Performance may be slow.\");\n",
       "        }\n",
       "    }\n",
       "\n",
       "    this.imageObj = new Image();\n",
       "\n",
       "    this.context = undefined;\n",
       "    this.message = undefined;\n",
       "    this.canvas = undefined;\n",
       "    this.rubberband_canvas = undefined;\n",
       "    this.rubberband_context = undefined;\n",
       "    this.format_dropdown = undefined;\n",
       "\n",
       "    this.image_mode = 'full';\n",
       "\n",
       "    this.root = $('<div/>');\n",
       "    this._root_extra_style(this.root)\n",
       "    this.root.attr('style', 'display: inline-block');\n",
       "\n",
       "    $(parent_element).append(this.root);\n",
       "\n",
       "    this._init_header(this);\n",
       "    this._init_canvas(this);\n",
       "    this._init_toolbar(this);\n",
       "\n",
       "    var fig = this;\n",
       "\n",
       "    this.waiting = false;\n",
       "\n",
       "    this.ws.onopen =  function () {\n",
       "            fig.send_message(\"supports_binary\", {value: fig.supports_binary});\n",
       "            fig.send_message(\"send_image_mode\", {});\n",
       "            fig.send_message(\"refresh\", {});\n",
       "        }\n",
       "\n",
       "    this.imageObj.onload = function() {\n",
       "            if (fig.image_mode == 'full') {\n",
       "                // Full images could contain transparency (where diff images\n",
       "                // almost always do), so we need to clear the canvas so that\n",
       "                // there is no ghosting.\n",
       "                fig.context.clearRect(0, 0, fig.canvas.width, fig.canvas.height);\n",
       "            }\n",
       "            fig.context.drawImage(fig.imageObj, 0, 0);\n",
       "        };\n",
       "\n",
       "    this.imageObj.onunload = function() {\n",
       "        this.ws.close();\n",
       "    }\n",
       "\n",
       "    this.ws.onmessage = this._make_on_message_function(this);\n",
       "\n",
       "    this.ondownload = ondownload;\n",
       "}\n",
       "\n",
       "mpl.figure.prototype._init_header = function() {\n",
       "    var titlebar = $(\n",
       "        '<div class=\"ui-dialog-titlebar ui-widget-header ui-corner-all ' +\n",
       "        'ui-helper-clearfix\"/>');\n",
       "    var titletext = $(\n",
       "        '<div class=\"ui-dialog-title\" style=\"width: 100%; ' +\n",
       "        'text-align: center; padding: 3px;\"/>');\n",
       "    titlebar.append(titletext)\n",
       "    this.root.append(titlebar);\n",
       "    this.header = titletext[0];\n",
       "}\n",
       "\n",
       "\n",
       "\n",
       "mpl.figure.prototype._canvas_extra_style = function(canvas_div) {\n",
       "\n",
       "}\n",
       "\n",
       "\n",
       "mpl.figure.prototype._root_extra_style = function(canvas_div) {\n",
       "\n",
       "}\n",
       "\n",
       "mpl.figure.prototype._init_canvas = function() {\n",
       "    var fig = this;\n",
       "\n",
       "    var canvas_div = $('<div/>');\n",
       "\n",
       "    canvas_div.attr('style', 'position: relative; clear: both; outline: 0');\n",
       "\n",
       "    function canvas_keyboard_event(event) {\n",
       "        return fig.key_event(event, event['data']);\n",
       "    }\n",
       "\n",
       "    canvas_div.keydown('key_press', canvas_keyboard_event);\n",
       "    canvas_div.keyup('key_release', canvas_keyboard_event);\n",
       "    this.canvas_div = canvas_div\n",
       "    this._canvas_extra_style(canvas_div)\n",
       "    this.root.append(canvas_div);\n",
       "\n",
       "    var canvas = $('<canvas/>');\n",
       "    canvas.addClass('mpl-canvas');\n",
       "    canvas.attr('style', \"left: 0; top: 0; z-index: 0; outline: 0\")\n",
       "\n",
       "    this.canvas = canvas[0];\n",
       "    this.context = canvas[0].getContext(\"2d\");\n",
       "\n",
       "    var rubberband = $('<canvas/>');\n",
       "    rubberband.attr('style', \"position: absolute; left: 0; top: 0; z-index: 1;\")\n",
       "\n",
       "    var pass_mouse_events = true;\n",
       "\n",
       "    canvas_div.resizable({\n",
       "        start: function(event, ui) {\n",
       "            pass_mouse_events = false;\n",
       "        },\n",
       "        resize: function(event, ui) {\n",
       "            fig.request_resize(ui.size.width, ui.size.height);\n",
       "        },\n",
       "        stop: function(event, ui) {\n",
       "            pass_mouse_events = true;\n",
       "            fig.request_resize(ui.size.width, ui.size.height);\n",
       "        },\n",
       "    });\n",
       "\n",
       "    function mouse_event_fn(event) {\n",
       "        if (pass_mouse_events)\n",
       "            return fig.mouse_event(event, event['data']);\n",
       "    }\n",
       "\n",
       "    rubberband.mousedown('button_press', mouse_event_fn);\n",
       "    rubberband.mouseup('button_release', mouse_event_fn);\n",
       "    // Throttle sequential mouse events to 1 every 20ms.\n",
       "    rubberband.mousemove('motion_notify', mouse_event_fn);\n",
       "\n",
       "    rubberband.mouseenter('figure_enter', mouse_event_fn);\n",
       "    rubberband.mouseleave('figure_leave', mouse_event_fn);\n",
       "\n",
       "    canvas_div.on(\"wheel\", function (event) {\n",
       "        event = event.originalEvent;\n",
       "        event['data'] = 'scroll'\n",
       "        if (event.deltaY < 0) {\n",
       "            event.step = 1;\n",
       "        } else {\n",
       "            event.step = -1;\n",
       "        }\n",
       "        mouse_event_fn(event);\n",
       "    });\n",
       "\n",
       "    canvas_div.append(canvas);\n",
       "    canvas_div.append(rubberband);\n",
       "\n",
       "    this.rubberband = rubberband;\n",
       "    this.rubberband_canvas = rubberband[0];\n",
       "    this.rubberband_context = rubberband[0].getContext(\"2d\");\n",
       "    this.rubberband_context.strokeStyle = \"#000000\";\n",
       "\n",
       "    this._resize_canvas = function(width, height) {\n",
       "        // Keep the size of the canvas, canvas container, and rubber band\n",
       "        // canvas in synch.\n",
       "        canvas_div.css('width', width)\n",
       "        canvas_div.css('height', height)\n",
       "\n",
       "        canvas.attr('width', width);\n",
       "        canvas.attr('height', height);\n",
       "\n",
       "        rubberband.attr('width', width);\n",
       "        rubberband.attr('height', height);\n",
       "    }\n",
       "\n",
       "    // Set the figure to an initial 600x600px, this will subsequently be updated\n",
       "    // upon first draw.\n",
       "    this._resize_canvas(600, 600);\n",
       "\n",
       "    // Disable right mouse context menu.\n",
       "    $(this.rubberband_canvas).bind(\"contextmenu\",function(e){\n",
       "        return false;\n",
       "    });\n",
       "\n",
       "    function set_focus () {\n",
       "        canvas.focus();\n",
       "        canvas_div.focus();\n",
       "    }\n",
       "\n",
       "    window.setTimeout(set_focus, 100);\n",
       "}\n",
       "\n",
       "mpl.figure.prototype._init_toolbar = function() {\n",
       "    var fig = this;\n",
       "\n",
       "    var nav_element = $('<div/>')\n",
       "    nav_element.attr('style', 'width: 100%');\n",
       "    this.root.append(nav_element);\n",
       "\n",
       "    // Define a callback function for later on.\n",
       "    function toolbar_event(event) {\n",
       "        return fig.toolbar_button_onclick(event['data']);\n",
       "    }\n",
       "    function toolbar_mouse_event(event) {\n",
       "        return fig.toolbar_button_onmouseover(event['data']);\n",
       "    }\n",
       "\n",
       "    for(var toolbar_ind in mpl.toolbar_items) {\n",
       "        var name = mpl.toolbar_items[toolbar_ind][0];\n",
       "        var tooltip = mpl.toolbar_items[toolbar_ind][1];\n",
       "        var image = mpl.toolbar_items[toolbar_ind][2];\n",
       "        var method_name = mpl.toolbar_items[toolbar_ind][3];\n",
       "\n",
       "        if (!name) {\n",
       "            // put a spacer in here.\n",
       "            continue;\n",
       "        }\n",
       "        var button = $('<button/>');\n",
       "        button.addClass('ui-button ui-widget ui-state-default ui-corner-all ' +\n",
       "                        'ui-button-icon-only');\n",
       "        button.attr('role', 'button');\n",
       "        button.attr('aria-disabled', 'false');\n",
       "        button.click(method_name, toolbar_event);\n",
       "        button.mouseover(tooltip, toolbar_mouse_event);\n",
       "\n",
       "        var icon_img = $('<span/>');\n",
       "        icon_img.addClass('ui-button-icon-primary ui-icon');\n",
       "        icon_img.addClass(image);\n",
       "        icon_img.addClass('ui-corner-all');\n",
       "\n",
       "        var tooltip_span = $('<span/>');\n",
       "        tooltip_span.addClass('ui-button-text');\n",
       "        tooltip_span.html(tooltip);\n",
       "\n",
       "        button.append(icon_img);\n",
       "        button.append(tooltip_span);\n",
       "\n",
       "        nav_element.append(button);\n",
       "    }\n",
       "\n",
       "    var fmt_picker_span = $('<span/>');\n",
       "\n",
       "    var fmt_picker = $('<select/>');\n",
       "    fmt_picker.addClass('mpl-toolbar-option ui-widget ui-widget-content');\n",
       "    fmt_picker_span.append(fmt_picker);\n",
       "    nav_element.append(fmt_picker_span);\n",
       "    this.format_dropdown = fmt_picker[0];\n",
       "\n",
       "    for (var ind in mpl.extensions) {\n",
       "        var fmt = mpl.extensions[ind];\n",
       "        var option = $(\n",
       "            '<option/>', {selected: fmt === mpl.default_extension}).html(fmt);\n",
       "        fmt_picker.append(option)\n",
       "    }\n",
       "\n",
       "    // Add hover states to the ui-buttons\n",
       "    $( \".ui-button\" ).hover(\n",
       "        function() { $(this).addClass(\"ui-state-hover\");},\n",
       "        function() { $(this).removeClass(\"ui-state-hover\");}\n",
       "    );\n",
       "\n",
       "    var status_bar = $('<span class=\"mpl-message\"/>');\n",
       "    nav_element.append(status_bar);\n",
       "    this.message = status_bar[0];\n",
       "}\n",
       "\n",
       "mpl.figure.prototype.request_resize = function(x_pixels, y_pixels) {\n",
       "    // Request matplotlib to resize the figure. Matplotlib will then trigger a resize in the client,\n",
       "    // which will in turn request a refresh of the image.\n",
       "    this.send_message('resize', {'width': x_pixels, 'height': y_pixels});\n",
       "}\n",
       "\n",
       "mpl.figure.prototype.send_message = function(type, properties) {\n",
       "    properties['type'] = type;\n",
       "    properties['figure_id'] = this.id;\n",
       "    this.ws.send(JSON.stringify(properties));\n",
       "}\n",
       "\n",
       "mpl.figure.prototype.send_draw_message = function() {\n",
       "    if (!this.waiting) {\n",
       "        this.waiting = true;\n",
       "        this.ws.send(JSON.stringify({type: \"draw\", figure_id: this.id}));\n",
       "    }\n",
       "}\n",
       "\n",
       "\n",
       "mpl.figure.prototype.handle_save = function(fig, msg) {\n",
       "    var format_dropdown = fig.format_dropdown;\n",
       "    var format = format_dropdown.options[format_dropdown.selectedIndex].value;\n",
       "    fig.ondownload(fig, format);\n",
       "}\n",
       "\n",
       "\n",
       "mpl.figure.prototype.handle_resize = function(fig, msg) {\n",
       "    var size = msg['size'];\n",
       "    if (size[0] != fig.canvas.width || size[1] != fig.canvas.height) {\n",
       "        fig._resize_canvas(size[0], size[1]);\n",
       "        fig.send_message(\"refresh\", {});\n",
       "    };\n",
       "}\n",
       "\n",
       "mpl.figure.prototype.handle_rubberband = function(fig, msg) {\n",
       "    var x0 = msg['x0'];\n",
       "    var y0 = fig.canvas.height - msg['y0'];\n",
       "    var x1 = msg['x1'];\n",
       "    var y1 = fig.canvas.height - msg['y1'];\n",
       "    x0 = Math.floor(x0) + 0.5;\n",
       "    y0 = Math.floor(y0) + 0.5;\n",
       "    x1 = Math.floor(x1) + 0.5;\n",
       "    y1 = Math.floor(y1) + 0.5;\n",
       "    var min_x = Math.min(x0, x1);\n",
       "    var min_y = Math.min(y0, y1);\n",
       "    var width = Math.abs(x1 - x0);\n",
       "    var height = Math.abs(y1 - y0);\n",
       "\n",
       "    fig.rubberband_context.clearRect(\n",
       "        0, 0, fig.canvas.width, fig.canvas.height);\n",
       "\n",
       "    fig.rubberband_context.strokeRect(min_x, min_y, width, height);\n",
       "}\n",
       "\n",
       "mpl.figure.prototype.handle_figure_label = function(fig, msg) {\n",
       "    // Updates the figure title.\n",
       "    fig.header.textContent = msg['label'];\n",
       "}\n",
       "\n",
       "mpl.figure.prototype.handle_cursor = function(fig, msg) {\n",
       "    var cursor = msg['cursor'];\n",
       "    switch(cursor)\n",
       "    {\n",
       "    case 0:\n",
       "        cursor = 'pointer';\n",
       "        break;\n",
       "    case 1:\n",
       "        cursor = 'default';\n",
       "        break;\n",
       "    case 2:\n",
       "        cursor = 'crosshair';\n",
       "        break;\n",
       "    case 3:\n",
       "        cursor = 'move';\n",
       "        break;\n",
       "    }\n",
       "    fig.rubberband_canvas.style.cursor = cursor;\n",
       "}\n",
       "\n",
       "mpl.figure.prototype.handle_message = function(fig, msg) {\n",
       "    fig.message.textContent = msg['message'];\n",
       "}\n",
       "\n",
       "mpl.figure.prototype.handle_draw = function(fig, msg) {\n",
       "    // Request the server to send over a new figure.\n",
       "    fig.send_draw_message();\n",
       "}\n",
       "\n",
       "mpl.figure.prototype.handle_image_mode = function(fig, msg) {\n",
       "    fig.image_mode = msg['mode'];\n",
       "}\n",
       "\n",
       "mpl.figure.prototype.updated_canvas_event = function() {\n",
       "    // Called whenever the canvas gets updated.\n",
       "    this.send_message(\"ack\", {});\n",
       "}\n",
       "\n",
       "// A function to construct a web socket function for onmessage handling.\n",
       "// Called in the figure constructor.\n",
       "mpl.figure.prototype._make_on_message_function = function(fig) {\n",
       "    return function socket_on_message(evt) {\n",
       "        if (evt.data instanceof Blob) {\n",
       "            /* FIXME: We get \"Resource interpreted as Image but\n",
       "             * transferred with MIME type text/plain:\" errors on\n",
       "             * Chrome.  But how to set the MIME type?  It doesn't seem\n",
       "             * to be part of the websocket stream */\n",
       "            evt.data.type = \"image/png\";\n",
       "\n",
       "            /* Free the memory for the previous frames */\n",
       "            if (fig.imageObj.src) {\n",
       "                (window.URL || window.webkitURL).revokeObjectURL(\n",
       "                    fig.imageObj.src);\n",
       "            }\n",
       "\n",
       "            fig.imageObj.src = (window.URL || window.webkitURL).createObjectURL(\n",
       "                evt.data);\n",
       "            fig.updated_canvas_event();\n",
       "            fig.waiting = false;\n",
       "            return;\n",
       "        }\n",
       "        else if (typeof evt.data === 'string' && evt.data.slice(0, 21) == \"data:image/png;base64\") {\n",
       "            fig.imageObj.src = evt.data;\n",
       "            fig.updated_canvas_event();\n",
       "            fig.waiting = false;\n",
       "            return;\n",
       "        }\n",
       "\n",
       "        var msg = JSON.parse(evt.data);\n",
       "        var msg_type = msg['type'];\n",
       "\n",
       "        // Call the  \"handle_{type}\" callback, which takes\n",
       "        // the figure and JSON message as its only arguments.\n",
       "        try {\n",
       "            var callback = fig[\"handle_\" + msg_type];\n",
       "        } catch (e) {\n",
       "            console.log(\"No handler for the '\" + msg_type + \"' message type: \", msg);\n",
       "            return;\n",
       "        }\n",
       "\n",
       "        if (callback) {\n",
       "            try {\n",
       "                // console.log(\"Handling '\" + msg_type + \"' message: \", msg);\n",
       "                callback(fig, msg);\n",
       "            } catch (e) {\n",
       "                console.log(\"Exception inside the 'handler_\" + msg_type + \"' callback:\", e, e.stack, msg);\n",
       "            }\n",
       "        }\n",
       "    };\n",
       "}\n",
       "\n",
       "// from http://stackoverflow.com/questions/1114465/getting-mouse-location-in-canvas\n",
       "mpl.findpos = function(e) {\n",
       "    //this section is from http://www.quirksmode.org/js/events_properties.html\n",
       "    var targ;\n",
       "    if (!e)\n",
       "        e = window.event;\n",
       "    if (e.target)\n",
       "        targ = e.target;\n",
       "    else if (e.srcElement)\n",
       "        targ = e.srcElement;\n",
       "    if (targ.nodeType == 3) // defeat Safari bug\n",
       "        targ = targ.parentNode;\n",
       "\n",
       "    // jQuery normalizes the pageX and pageY\n",
       "    // pageX,Y are the mouse positions relative to the document\n",
       "    // offset() returns the position of the element relative to the document\n",
       "    var x = e.pageX - $(targ).offset().left;\n",
       "    var y = e.pageY - $(targ).offset().top;\n",
       "\n",
       "    return {\"x\": x, \"y\": y};\n",
       "};\n",
       "\n",
       "/*\n",
       " * return a copy of an object with only non-object keys\n",
       " * we need this to avoid circular references\n",
       " * http://stackoverflow.com/a/24161582/3208463\n",
       " */\n",
       "function simpleKeys (original) {\n",
       "  return Object.keys(original).reduce(function (obj, key) {\n",
       "    if (typeof original[key] !== 'object')\n",
       "        obj[key] = original[key]\n",
       "    return obj;\n",
       "  }, {});\n",
       "}\n",
       "\n",
       "mpl.figure.prototype.mouse_event = function(event, name) {\n",
       "    var canvas_pos = mpl.findpos(event)\n",
       "\n",
       "    if (name === 'button_press')\n",
       "    {\n",
       "        this.canvas.focus();\n",
       "        this.canvas_div.focus();\n",
       "    }\n",
       "\n",
       "    var x = canvas_pos.x;\n",
       "    var y = canvas_pos.y;\n",
       "\n",
       "    this.send_message(name, {x: x, y: y, button: event.button,\n",
       "                             step: event.step,\n",
       "                             guiEvent: simpleKeys(event)});\n",
       "\n",
       "    /* This prevents the web browser from automatically changing to\n",
       "     * the text insertion cursor when the button is pressed.  We want\n",
       "     * to control all of the cursor setting manually through the\n",
       "     * 'cursor' event from matplotlib */\n",
       "    event.preventDefault();\n",
       "    return false;\n",
       "}\n",
       "\n",
       "mpl.figure.prototype._key_event_extra = function(event, name) {\n",
       "    // Handle any extra behaviour associated with a key event\n",
       "}\n",
       "\n",
       "mpl.figure.prototype.key_event = function(event, name) {\n",
       "\n",
       "    // Prevent repeat events\n",
       "    if (name == 'key_press')\n",
       "    {\n",
       "        if (event.which === this._key)\n",
       "            return;\n",
       "        else\n",
       "            this._key = event.which;\n",
       "    }\n",
       "    if (name == 'key_release')\n",
       "        this._key = null;\n",
       "\n",
       "    var value = '';\n",
       "    if (event.ctrlKey && event.which != 17)\n",
       "        value += \"ctrl+\";\n",
       "    if (event.altKey && event.which != 18)\n",
       "        value += \"alt+\";\n",
       "    if (event.shiftKey && event.which != 16)\n",
       "        value += \"shift+\";\n",
       "\n",
       "    value += 'k';\n",
       "    value += event.which.toString();\n",
       "\n",
       "    this._key_event_extra(event, name);\n",
       "\n",
       "    this.send_message(name, {key: value,\n",
       "                             guiEvent: simpleKeys(event)});\n",
       "    return false;\n",
       "}\n",
       "\n",
       "mpl.figure.prototype.toolbar_button_onclick = function(name) {\n",
       "    if (name == 'download') {\n",
       "        this.handle_save(this, null);\n",
       "    } else {\n",
       "        this.send_message(\"toolbar_button\", {name: name});\n",
       "    }\n",
       "};\n",
       "\n",
       "mpl.figure.prototype.toolbar_button_onmouseover = function(tooltip) {\n",
       "    this.message.textContent = tooltip;\n",
       "};\n",
       "mpl.toolbar_items = [[\"Home\", \"Reset original view\", \"fa fa-home icon-home\", \"home\"], [\"Back\", \"Back to  previous view\", \"fa fa-arrow-left icon-arrow-left\", \"back\"], [\"Forward\", \"Forward to next view\", \"fa fa-arrow-right icon-arrow-right\", \"forward\"], [\"\", \"\", \"\", \"\"], [\"Pan\", \"Pan axes with left mouse, zoom with right\", \"fa fa-arrows icon-move\", \"pan\"], [\"Zoom\", \"Zoom to rectangle\", \"fa fa-square-o icon-check-empty\", \"zoom\"], [\"\", \"\", \"\", \"\"], [\"Download\", \"Download plot\", \"fa fa-floppy-o icon-save\", \"download\"]];\n",
       "\n",
       "mpl.extensions = [\"eps\", \"jpeg\", \"pdf\", \"png\", \"ps\", \"raw\", \"svg\", \"tif\"];\n",
       "\n",
       "mpl.default_extension = \"png\";var comm_websocket_adapter = function(comm) {\n",
       "    // Create a \"websocket\"-like object which calls the given IPython comm\n",
       "    // object with the appropriate methods. Currently this is a non binary\n",
       "    // socket, so there is still some room for performance tuning.\n",
       "    var ws = {};\n",
       "\n",
       "    ws.close = function() {\n",
       "        comm.close()\n",
       "    };\n",
       "    ws.send = function(m) {\n",
       "        //console.log('sending', m);\n",
       "        comm.send(m);\n",
       "    };\n",
       "    // Register the callback with on_msg.\n",
       "    comm.on_msg(function(msg) {\n",
       "        //console.log('receiving', msg['content']['data'], msg);\n",
       "        // Pass the mpl event to the overriden (by mpl) onmessage function.\n",
       "        ws.onmessage(msg['content']['data'])\n",
       "    });\n",
       "    return ws;\n",
       "}\n",
       "\n",
       "mpl.mpl_figure_comm = function(comm, msg) {\n",
       "    // This is the function which gets called when the mpl process\n",
       "    // starts-up an IPython Comm through the \"matplotlib\" channel.\n",
       "\n",
       "    var id = msg.content.data.id;\n",
       "    // Get hold of the div created by the display call when the Comm\n",
       "    // socket was opened in Python.\n",
       "    var element = $(\"#\" + id);\n",
       "    var ws_proxy = comm_websocket_adapter(comm)\n",
       "\n",
       "    function ondownload(figure, format) {\n",
       "        window.open(figure.imageObj.src);\n",
       "    }\n",
       "\n",
       "    var fig = new mpl.figure(id, ws_proxy,\n",
       "                           ondownload,\n",
       "                           element.get(0));\n",
       "\n",
       "    // Call onopen now - mpl needs it, as it is assuming we've passed it a real\n",
       "    // web socket which is closed, not our websocket->open comm proxy.\n",
       "    ws_proxy.onopen();\n",
       "\n",
       "    fig.parent_element = element.get(0);\n",
       "    fig.cell_info = mpl.find_output_cell(\"<div id='\" + id + \"'></div>\");\n",
       "    if (!fig.cell_info) {\n",
       "        console.error(\"Failed to find cell for figure\", id, fig);\n",
       "        return;\n",
       "    }\n",
       "\n",
       "    var output_index = fig.cell_info[2]\n",
       "    var cell = fig.cell_info[0];\n",
       "\n",
       "};\n",
       "\n",
       "mpl.figure.prototype.handle_close = function(fig, msg) {\n",
       "    fig.root.unbind('remove')\n",
       "\n",
       "    // Update the output cell to use the data from the current canvas.\n",
       "    fig.push_to_output();\n",
       "    var dataURL = fig.canvas.toDataURL();\n",
       "    // Re-enable the keyboard manager in IPython - without this line, in FF,\n",
       "    // the notebook keyboard shortcuts fail.\n",
       "    IPython.keyboard_manager.enable()\n",
       "    $(fig.parent_element).html('<img src=\"' + dataURL + '\">');\n",
       "    fig.close_ws(fig, msg);\n",
       "}\n",
       "\n",
       "mpl.figure.prototype.close_ws = function(fig, msg){\n",
       "    fig.send_message('closing', msg);\n",
       "    // fig.ws.close()\n",
       "}\n",
       "\n",
       "mpl.figure.prototype.push_to_output = function(remove_interactive) {\n",
       "    // Turn the data on the canvas into data in the output cell.\n",
       "    var dataURL = this.canvas.toDataURL();\n",
       "    this.cell_info[1]['text/html'] = '<img src=\"' + dataURL + '\">';\n",
       "}\n",
       "\n",
       "mpl.figure.prototype.updated_canvas_event = function() {\n",
       "    // Tell IPython that the notebook contents must change.\n",
       "    IPython.notebook.set_dirty(true);\n",
       "    this.send_message(\"ack\", {});\n",
       "    var fig = this;\n",
       "    // Wait a second, then push the new image to the DOM so\n",
       "    // that it is saved nicely (might be nice to debounce this).\n",
       "    setTimeout(function () { fig.push_to_output() }, 1000);\n",
       "}\n",
       "\n",
       "mpl.figure.prototype._init_toolbar = function() {\n",
       "    var fig = this;\n",
       "\n",
       "    var nav_element = $('<div/>')\n",
       "    nav_element.attr('style', 'width: 100%');\n",
       "    this.root.append(nav_element);\n",
       "\n",
       "    // Define a callback function for later on.\n",
       "    function toolbar_event(event) {\n",
       "        return fig.toolbar_button_onclick(event['data']);\n",
       "    }\n",
       "    function toolbar_mouse_event(event) {\n",
       "        return fig.toolbar_button_onmouseover(event['data']);\n",
       "    }\n",
       "\n",
       "    for(var toolbar_ind in mpl.toolbar_items){\n",
       "        var name = mpl.toolbar_items[toolbar_ind][0];\n",
       "        var tooltip = mpl.toolbar_items[toolbar_ind][1];\n",
       "        var image = mpl.toolbar_items[toolbar_ind][2];\n",
       "        var method_name = mpl.toolbar_items[toolbar_ind][3];\n",
       "\n",
       "        if (!name) { continue; };\n",
       "\n",
       "        var button = $('<button class=\"btn btn-default\" href=\"#\" title=\"' + name + '\"><i class=\"fa ' + image + ' fa-lg\"></i></button>');\n",
       "        button.click(method_name, toolbar_event);\n",
       "        button.mouseover(tooltip, toolbar_mouse_event);\n",
       "        nav_element.append(button);\n",
       "    }\n",
       "\n",
       "    // Add the status bar.\n",
       "    var status_bar = $('<span class=\"mpl-message\" style=\"text-align:right; float: right;\"/>');\n",
       "    nav_element.append(status_bar);\n",
       "    this.message = status_bar[0];\n",
       "\n",
       "    // Add the close button to the window.\n",
       "    var buttongrp = $('<div class=\"btn-group inline pull-right\"></div>');\n",
       "    var button = $('<button class=\"btn btn-mini btn-primary\" href=\"#\" title=\"Stop Interaction\"><i class=\"fa fa-power-off icon-remove icon-large\"></i></button>');\n",
       "    button.click(function (evt) { fig.handle_close(fig, {}); } );\n",
       "    button.mouseover('Stop Interaction', toolbar_mouse_event);\n",
       "    buttongrp.append(button);\n",
       "    var titlebar = this.root.find($('.ui-dialog-titlebar'));\n",
       "    titlebar.prepend(buttongrp);\n",
       "}\n",
       "\n",
       "mpl.figure.prototype._root_extra_style = function(el){\n",
       "    var fig = this\n",
       "    el.on(\"remove\", function(){\n",
       "\tfig.close_ws(fig, {});\n",
       "    });\n",
       "}\n",
       "\n",
       "mpl.figure.prototype._canvas_extra_style = function(el){\n",
       "    // this is important to make the div 'focusable\n",
       "    el.attr('tabindex', 0)\n",
       "    // reach out to IPython and tell the keyboard manager to turn it's self\n",
       "    // off when our div gets focus\n",
       "\n",
       "    // location in version 3\n",
       "    if (IPython.notebook.keyboard_manager) {\n",
       "        IPython.notebook.keyboard_manager.register_events(el);\n",
       "    }\n",
       "    else {\n",
       "        // location in version 2\n",
       "        IPython.keyboard_manager.register_events(el);\n",
       "    }\n",
       "\n",
       "}\n",
       "\n",
       "mpl.figure.prototype._key_event_extra = function(event, name) {\n",
       "    var manager = IPython.notebook.keyboard_manager;\n",
       "    if (!manager)\n",
       "        manager = IPython.keyboard_manager;\n",
       "\n",
       "    // Check for shift+enter\n",
       "    if (event.shiftKey && event.which == 13) {\n",
       "        this.canvas_div.blur();\n",
       "        event.shiftKey = false;\n",
       "        // Send a \"J\" for go to next cell\n",
       "        event.which = 74;\n",
       "        event.keyCode = 74;\n",
       "        manager.command_mode();\n",
       "        manager.handle_keydown(event);\n",
       "    }\n",
       "}\n",
       "\n",
       "mpl.figure.prototype.handle_save = function(fig, msg) {\n",
       "    fig.ondownload(fig, null);\n",
       "}\n",
       "\n",
       "\n",
       "mpl.find_output_cell = function(html_output) {\n",
       "    // Return the cell and output element which can be found *uniquely* in the notebook.\n",
       "    // Note - this is a bit hacky, but it is done because the \"notebook_saving.Notebook\"\n",
       "    // IPython event is triggered only after the cells have been serialised, which for\n",
       "    // our purposes (turning an active figure into a static one), is too late.\n",
       "    var cells = IPython.notebook.get_cells();\n",
       "    var ncells = cells.length;\n",
       "    for (var i=0; i<ncells; i++) {\n",
       "        var cell = cells[i];\n",
       "        if (cell.cell_type === 'code'){\n",
       "            for (var j=0; j<cell.output_area.outputs.length; j++) {\n",
       "                var data = cell.output_area.outputs[j];\n",
       "                if (data.data) {\n",
       "                    // IPython >= 3 moved mimebundle to data attribute of output\n",
       "                    data = data.data;\n",
       "                }\n",
       "                if (data['text/html'] == html_output) {\n",
       "                    return [cell, data, j];\n",
       "                }\n",
       "            }\n",
       "        }\n",
       "    }\n",
       "}\n",
       "\n",
       "// Register the function which deals with the matplotlib target/channel.\n",
       "// The kernel may be null if the page has been refreshed.\n",
       "if (IPython.notebook.kernel != null) {\n",
       "    IPython.notebook.kernel.comm_manager.register_target('matplotlib', mpl.mpl_figure_comm);\n",
       "}\n"
      ],
      "text/plain": [
       "<IPython.core.display.Javascript object>"
      ]
     },
     "metadata": {},
     "output_type": "display_data"
    },
    {
     "data": {
      "text/html": [
       "<img src=\"data:image/png;base64,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\">"
      ],
      "text/plain": [
       "<IPython.core.display.HTML object>"
      ]
     },
     "metadata": {},
     "output_type": "display_data"
    }
   ],
   "source": [
    "barwidth = 0.75; \n",
    "fig, ax = plt.subplots(figsize=(9, 7));\n",
    "rects1 = ax.bar(0.5,ACCanalysis.Stim1.mean(),barwidth,yerr=ACCstderror[1],ecolor='k',edgecolor=sns.xkcd_rgb['green'],linewidth = 2, facecolor='none',error_kw=dict(lw=3),label='Congruent');\n",
    "rects2 = ax.bar(1.5,ACCanalysis.Stim2.mean(),barwidth,color=sns.xkcd_rgb['green'],yerr=ACCstderror[2],ecolor='k',error_kw=dict(lw=3),label='Incongruent');\n",
    "rects3 = ax.bar(2.5,ACCanalysis.Stim3.mean(),barwidth,yerr=ACCstderror[3],ecolor='k',edgecolor=(0.3,0.9,0.3),linewidth = 2, facecolor='none',error_kw=dict(lw=3));\n",
    "rects4 = ax.bar(3.5,ACCanalysis.Stim4.mean(),barwidth,color=(0.3,0.9,0.3),yerr=ACCstderror[4],ecolor='k',error_kw=dict(lw=3));\n",
    "sns.set(context='notebook', style='white', font='Myriad Pro', font_scale=2, color_codes=False, rc=None);\n",
    "ax.set_ylim(0.65,1.00);\n",
    "ax.set_xlim(0,5);\n",
    "ax.set_xticklabels(('Stim 1', 'Stim 2', 'Stim 3', 'Stim 4'));\n",
    "ax.set_xticks([0.5 + barwidth/2, 1.5 + barwidth/2,2.5 + barwidth/2,3.5 + barwidth/2]);\n",
    "ax.set_yticks(np.arange(0.65, 1.01, 0.05));\n",
    "plt.title('S-S Accuracy Validity Effect', fontsize=26,fontweight=\"bold\")\n",
    "plt.ylabel('Accuracy (Proportion Correct)', fontsize=24,fontweight=\"bold\")\n",
    "plt.xlabel('S1 Image', fontsize=24,fontweight=\"bold\")\n",
    "sns.despine();\n",
    "\n",
    "plt.show()"
   ]
  },
  {
   "cell_type": "markdown",
   "metadata": {},
   "source": [
    "# Making CSV Copies of the Data"
   ]
  },
  {
   "cell_type": "markdown",
   "metadata": {},
   "source": [
    "If you like handling the data yourself, these CSVs organize the data by the relevant variables."
   ]
  },
  {
   "cell_type": "code",
   "execution_count": 22,
   "metadata": {},
   "outputs": [
    {
     "name": "stdout",
     "output_type": "stream",
     "text": [
      "C:\\Users\\cb383\\Documents\\controltransfer\\expt2\\data\\csvdata\n"
     ]
    }
   ],
   "source": [
    "%cd 'csvdata'"
   ]
  },
  {
   "cell_type": "code",
   "execution_count": 23,
   "metadata": {
    "collapsed": true
   },
   "outputs": [],
   "source": [
    "subrunmeans = cdat.groupby(['subject','Stimuli'])['RT'].mean()\n",
    "subrunmeans1 = cdat.groupby(['subject','RunCounter','Stimuli'])['RT'].mean()\n",
    "subrunmeans2 = cdat.groupby(['subject','Stimuli','S2Image'])['RT'].mean()\n",
    "subrunmeans3 = cdat.groupby(['subject','RunCounter','Stimuli','S2Image'])['RT'].mean()\n",
    "subrunmedians = cdat.groupby(['subject','Stimuli'])['RT'].median()\n",
    "subrunmedians1 = cdat.groupby(['subject','RunCounter','Stimuli'])['RT'].median()\n",
    "subrunmedians2 = cdat.groupby(['subject','Stimuli','S2Image'])['RT'].median()\n",
    "subrunmedians3 = cdat.groupby(['subject','RunCounter','Stimuli','S2Image'])['RT'].median()\n",
    "\n",
    "subrunmeans.to_csv('SS_RTsubrunmeans_subStim.csv')\n",
    "subrunmeans1.to_csv('SS_RTsubrunmeans_subRunStim.csv')\n",
    "subrunmeans2.to_csv('SS_RTsubrunmeans_subStimStimPres.csv')\n",
    "subrunmeans3.to_csv('SS_RTsubrunmeans_subRunStimStimPres.csv')\n",
    "subrunmedians.to_csv('SS_RTsubrunmedians_subStim.csv')\n",
    "subrunmedians1.to_csv('SS_RTsubrunmedians_subRunStim.csv')\n",
    "subrunmedians2.to_csv('SS_RTsubrunmedians_subStimStimPres.csv')\n",
    "subrunmedians3.to_csv('SS_RTsubrunmedians_subRunStimStimPres.csv')\n",
    "\n",
    "subaccmeans = adat.groupby(['subject','Stimuli'])['Accuracy'].mean()\n",
    "subaccmeans1 = adat.groupby(['subject','RunCounter','Stimuli'])['Accuracy'].mean()\n",
    "subaccmeans2 = adat.groupby(['subject','Stimuli','S2Image'])['Accuracy'].mean()\n",
    "subaccmeans3 = adat.groupby(['subject','RunCounter','Stimuli','S2Image'])['Accuracy'].mean()\n",
    "subaccmeans.to_csv('SS_ACCsubrunmeans_subStim.csv')\n",
    "subaccmeans1.to_csv('SS_ACCsubrunmeans_subRunStim.csv')\n",
    "subaccmeans2.to_csv('SS_ACCsubrunmeans_subStimStimPres.csv')\n",
    "subaccmeans3.to_csv('SS_ACCsubrunmeans_subRunStimStimPres.csv')"
   ]
  },
  {
   "cell_type": "markdown",
   "metadata": {},
   "source": [
    "## Running ANOVAs in R"
   ]
  },
  {
   "cell_type": "code",
   "execution_count": 24,
   "metadata": {
    "collapsed": true
   },
   "outputs": [],
   "source": [
    "AN_sub_RTmeans = cdat.groupby(['subject','Stimuli','S2Image'])['RT'].mean();\n",
    "AN_sub_ACCmeans = adat.groupby(['subject','Stimuli','S2Image'])['Accuracy'].mean();\n",
    "\n",
    "#create tidy data csvs\n",
    "AN_sub_RTmeans.to_csv('SS_ANOVA_RT.csv')\n",
    "AN_sub_ACCmeans.to_csv('SS_ANOVA_ACC.csv')\n",
    "\n",
    "#create headers for the tidy data csvs, for analysis purposes\n",
    "import csv\n",
    "with open('SS_ANOVA_RT.csv',newline='') as f:\n",
    "    r = csv.reader(f)\n",
    "    data = [line for line in r]\n",
    "with open('SS_ANOVA_RT.csv','w',newline='') as f:\n",
    "    w = csv.writer(f)\n",
    "    w.writerow([\"subject\", \"s1image\", \"s2image\", \"rt\"])\n",
    "    w.writerows(data)\n",
    "\n",
    "with open('SS_ANOVA_ACC.csv',newline='') as f:\n",
    "    r = csv.reader(f)\n",
    "    data = [line for line in r]\n",
    "with open('SS_ANOVA_ACC.csv','w',newline='') as f:\n",
    "    w = csv.writer(f)\n",
    "    w.writerow([\"subject\", \"s1image\", \"s2image\", \"acc\"])\n",
    "    w.writerows(data)"
   ]
  },
  {
   "cell_type": "code",
   "execution_count": 25,
   "metadata": {},
   "outputs": [
    {
     "name": "stdout",
     "output_type": "stream",
     "text": [
      "Writing SSAnova.R\n"
     ]
    }
   ],
   "source": [
    "%%writefile SSAnova.R\n",
    "\n",
    "rawRTData <- read.csv('SS_ANOVA_RT.csv')\n",
    "install.packages(\"psych\",repos='https://mirrors.nics.utk.edu/cran/')\n",
    "install.packages(\"ez\",repos='https://mirrors.nics.utk.edu/cran/')\n",
    "library(psych)\n",
    "library(ez)\n",
    "\n",
    "rawRTData$subject = as.factor(rawRTData$subject)\n",
    "rawRTData$s1image = as.factor(rawRTData$s1image)\n",
    "rawRTData$s2image = as.factor(rawRTData$s2image)\n",
    "\n",
    "SS_RT_runANOVA <- ezANOVA(data=as.data.frame(rawRTData),\n",
    "                                  dv=rt,\n",
    "                                  wid=subject,\n",
    "                                  within=.(s1image, s2image),\n",
    "                                  detailed=TRUE)\n",
    "print(SS_RT_runANOVA)\n",
    "\n",
    "rawACCData <- read.csv('SS_ANOVA_ACC.csv')\n",
    "\n",
    "rawACCData$subject = as.factor(rawACCData$subject)\n",
    "rawACCData$s1image = as.factor(rawACCData$s1image)\n",
    "rawACCData$s2image = as.factor(rawACCData$s2image)\n",
    "\n",
    "SS_ACC_runANOVA <- ezANOVA(data=as.data.frame(rawACCData),\n",
    "                                  dv=acc,\n",
    "                                  wid=subject,\n",
    "                                  within=.(s1image, s2image),\n",
    "                                  detailed=TRUE)\n",
    "print(SS_ACC_runANOVA)"
   ]
  },
  {
   "cell_type": "code",
   "execution_count": 26,
   "metadata": {},
   "outputs": [
    {
     "name": "stdout",
     "output_type": "stream",
     "text": [
      "package 'psych' successfully unpacked and MD5 sums checked\n",
      "\n",
      "The downloaded binary packages are in\n",
      "\tC:\\Users\\cb383\\AppData\\Local\\Temp\\RtmpQxSVqE\\downloaded_packages\n",
      "package 'ez' successfully unpacked and MD5 sums checked\n",
      "\n",
      "The downloaded binary packages are in\n",
      "\tC:\\Users\\cb383\\AppData\\Local\\Temp\\RtmpQxSVqE\\downloaded_packages\n",
      "$ANOVA\n",
      "           Effect DFn DFd          SSn       SSd            F            p\n",
      "1     (Intercept)   1  72 3.972732e+08 965590.22 2.962299e+04 6.601640e-96\n",
      "2         s1image   3 216 2.417001e+02  50411.82 3.452049e-01 7.926566e-01\n",
      "3         s2image   3 216 9.346053e+04 322186.37 2.088592e+01 6.407035e-12\n",
      "4 s1image:s2image   9 648 2.439270e+03 191529.49 9.169735e-01 5.096736e-01\n",
      "  p<.05          ges\n",
      "1     * 0.9961642263\n",
      "2       0.0001579781\n",
      "3     * 0.0575787181\n",
      "4       0.0015920497\n",
      "\n",
      "$`Mauchly's Test for Sphericity`\n",
      "           Effect         W         p p<.05\n",
      "2         s1image 0.9575513 0.6895908      \n",
      "3         s2image 0.9754972 0.8819801      \n",
      "4 s1image:s2image 0.5606013 0.6530638      \n",
      "\n",
      "$`Sphericity Corrections`\n",
      "           Effect       GGe        p[GG] p[GG]<.05      HFe        p[HF]\n",
      "2         s1image 0.9724111 7.870777e-01           1.017900 7.926566e-01\n",
      "3         s2image 0.9829515 9.360873e-12         * 1.029509 6.407035e-12\n",
      "4 s1image:s2image 0.8911100 5.019295e-01           1.013267 5.096736e-01\n",
      "  p[HF]<.05\n",
      "2          \n",
      "3         *\n",
      "4          \n",
      "\n",
      "$ANOVA\n",
      "           Effect DFn DFd          SSn      SSd            F            p p<.05\n",
      "1     (Intercept)   1  72 8.924650e+02 5.012746 1.281882e+04 7.359036e-83     *\n",
      "2         s1image   3 216 6.742387e-03 1.105623 4.390755e-01 7.252759e-01      \n",
      "3         s2image   3 216 8.055856e-01 3.372079 1.720071e+01 4.715212e-10     *\n",
      "4 s1image:s2image   9 648 5.515047e-02 3.635279 1.092305e+00 3.661279e-01      \n",
      "           ges\n",
      "1 0.9855058962\n",
      "2 0.0005134136\n",
      "3 0.0578255404\n",
      "4 0.0041841280\n",
      "\n",
      "$`Mauchly's Test for Sphericity`\n",
      "           Effect         W         p p<.05\n",
      "2         s1image 0.9519491 0.6260573      \n",
      "3         s2image 0.8965716 0.1723294      \n",
      "4 s1image:s2image 0.6501658 0.9527123      \n",
      "\n",
      "$`Sphericity Corrections`\n",
      "           Effect       GGe        p[GG] p[GG]<.05       HFe        p[HF]\n",
      "2         s1image 0.9684609 7.190317e-01           1.0135518 7.252759e-01\n",
      "3         s2image 0.9354239 1.517307e-09         * 0.9772458 7.116730e-10\n",
      "4 s1image:s2image 0.9126303 3.665742e-01           1.0409721 3.661279e-01\n",
      "  p[HF]<.05\n",
      "2          \n",
      "3         *\n",
      "4          \n",
      "\n"
     ]
    },
    {
     "name": "stderr",
     "output_type": "stream",
     "text": [
      "trying URL 'https://mirrors.nics.utk.edu/cran/bin/windows/contrib/3.3/psych_1.7.5.zip'\n",
      "Content type 'application/zip' length 3966532 bytes (3.8 MB)\n",
      "==================================================\n",
      "downloaded 3.8 MB\n",
      "\n",
      "trying URL 'https://mirrors.nics.utk.edu/cran/bin/windows/contrib/3.3/ez_4.4-0.zip'\n",
      "Content type 'application/zip' length 304848 bytes (297 KB)\n",
      "==================================================\n",
      "downloaded 297 KB\n",
      "\n",
      "Warning message:\n",
      "package 'psych' was built under R version 3.3.3 \n",
      "Warning message:\n",
      "package 'ez' was built under R version 3.3.3 \n"
     ]
    }
   ],
   "source": [
    "! Rscript SSAnova.R"
   ]
  },
  {
   "cell_type": "markdown",
   "metadata": {},
   "source": [
    "# Making 95% Confidence Intervals"
   ]
  },
  {
   "cell_type": "code",
   "execution_count": 27,
   "metadata": {},
   "outputs": [
    {
     "data": {
      "text/plain": [
       "(575.24855628369187, 589.34607576113308)"
      ]
     },
     "execution_count": 27,
     "metadata": {},
     "output_type": "execute_result"
    }
   ],
   "source": [
    "import statsmodels.stats.api as sms\n",
    "\n",
    "a = RTanalysis.Stim1.mean()\n",
    "sms.DescrStatsW(RTanalysis.Stim1).tconfint_mean()\n",
    "#a"
   ]
  },
  {
   "cell_type": "code",
   "execution_count": 28,
   "metadata": {},
   "outputs": [
    {
     "data": {
      "text/plain": [
       "(576.53739158721669, 589.93908845381998)"
      ]
     },
     "execution_count": 28,
     "metadata": {},
     "output_type": "execute_result"
    }
   ],
   "source": [
    "a = RTanalysis.Stim2.mean()\n",
    "sms.DescrStatsW(RTanalysis.Stim2).tconfint_mean()\n",
    "#a"
   ]
  },
  {
   "cell_type": "code",
   "execution_count": 29,
   "metadata": {},
   "outputs": [
    {
     "data": {
      "text/plain": [
       "(575.6284717945606, 589.44677073149808)"
      ]
     },
     "execution_count": 29,
     "metadata": {},
     "output_type": "execute_result"
    }
   ],
   "source": [
    "a = RTanalysis.Stim3.mean()\n",
    "sms.DescrStatsW(RTanalysis.Stim3).tconfint_mean()\n",
    "#a"
   ]
  },
  {
   "cell_type": "code",
   "execution_count": 30,
   "metadata": {},
   "outputs": [
    {
     "data": {
      "text/plain": [
       "(575.62398557103393, 589.3679393215134)"
      ]
     },
     "execution_count": 30,
     "metadata": {},
     "output_type": "execute_result"
    }
   ],
   "source": [
    "a = RTanalysis.Stim4.mean()\n",
    "sms.DescrStatsW(RTanalysis.Stim4).tconfint_mean()\n",
    "#a"
   ]
  },
  {
   "cell_type": "code",
   "execution_count": 31,
   "metadata": {},
   "outputs": [
    {
     "data": {
      "text/plain": [
       "(579.88705079070303, 598.6095161127131)"
      ]
     },
     "execution_count": 31,
     "metadata": {},
     "output_type": "execute_result"
    }
   ],
   "source": [
    "a = RTrunanalysis.loc[RTrunanalysis['Run'] == 0].Stim1.mean()\n",
    "sms.DescrStatsW(RTrunanalysis.loc[RTrunanalysis['Run'] == 0].Stim1).tconfint_mean()\n",
    "#a"
   ]
  },
  {
   "cell_type": "code",
   "execution_count": 32,
   "metadata": {},
   "outputs": [
    {
     "data": {
      "text/plain": [
       "(579.28374844750567, 596.22233238186266)"
      ]
     },
     "execution_count": 32,
     "metadata": {},
     "output_type": "execute_result"
    }
   ],
   "source": [
    "a = RTrunanalysis.loc[RTrunanalysis['Run'] == 0].Stim2.mean()\n",
    "sms.DescrStatsW(RTrunanalysis.loc[RTrunanalysis['Run'] == 0].Stim2).tconfint_mean()\n",
    "#a"
   ]
  },
  {
   "cell_type": "code",
   "execution_count": 33,
   "metadata": {
    "collapsed": true
   },
   "outputs": [],
   "source": [
    "a = RTrunanalysis.loc[RTrunanalysis['Run'] == 0].Stim3.mean()\n",
    "#sms.DescrStatsW(RTrunanalysis.loc[RTrunanalysis['Run'] == 0].Stim3).tconfint_mean()\n",
    "## NOTE: one subject did not have a single trial for Stim 3 that was *correct* on run 1, so this confidence interval method\n",
    "## did not work. I have calculated like this because it excludes that subject in its calculation.\n",
    "b = RTrunanalysis.loc[RTrunanalysis['Run'] == 0].Stim3.std()\n",
    "stderror = b / n;\n",
    "CI = stderror * 1.96;\n",
    "UCI = a + CI\n",
    "LCI = a - CI"
   ]
  },
  {
   "cell_type": "code",
   "execution_count": 34,
   "metadata": {},
   "outputs": [
    {
     "data": {
      "text/plain": [
       "(588.78689655354276, 607.47670833471955)"
      ]
     },
     "execution_count": 34,
     "metadata": {},
     "output_type": "execute_result"
    }
   ],
   "source": [
    "a = RTrunanalysis.loc[RTrunanalysis['Run'] == 0].Stim4.mean()\n",
    "sms.DescrStatsW(RTrunanalysis.loc[RTrunanalysis['Run'] == 0].Stim4).tconfint_mean()\n",
    "#a"
   ]
  },
  {
   "cell_type": "code",
   "execution_count": 35,
   "metadata": {},
   "outputs": [
    {
     "data": {
      "text/plain": [
       "(576.89438116176029, 592.34020046665705)"
      ]
     },
     "execution_count": 35,
     "metadata": {},
     "output_type": "execute_result"
    }
   ],
   "source": [
    "a = RTrunanalysis.loc[RTrunanalysis['Run'] == 1].Stim1.mean()\n",
    "sms.DescrStatsW(RTrunanalysis.loc[RTrunanalysis['Run'] == 1].Stim1).tconfint_mean()\n",
    "#a"
   ]
  },
  {
   "cell_type": "code",
   "execution_count": 36,
   "metadata": {},
   "outputs": [
    {
     "data": {
      "text/plain": [
       "(579.18589629109238, 595.61472089993572)"
      ]
     },
     "execution_count": 36,
     "metadata": {},
     "output_type": "execute_result"
    }
   ],
   "source": [
    "a = RTrunanalysis.loc[RTrunanalysis['Run'] == 1].Stim2.mean()\n",
    "sms.DescrStatsW(RTrunanalysis.loc[RTrunanalysis['Run'] == 1].Stim2).tconfint_mean()\n",
    "#a"
   ]
  },
  {
   "cell_type": "code",
   "execution_count": 37,
   "metadata": {},
   "outputs": [
    {
     "data": {
      "text/plain": [
       "(573.1753425047018, 589.59465705433877)"
      ]
     },
     "execution_count": 37,
     "metadata": {},
     "output_type": "execute_result"
    }
   ],
   "source": [
    "a = RTrunanalysis.loc[RTrunanalysis['Run'] == 1].Stim3.mean()\n",
    "sms.DescrStatsW(RTrunanalysis.loc[RTrunanalysis['Run'] == 1].Stim3).tconfint_mean()\n",
    "#a"
   ]
  },
  {
   "cell_type": "code",
   "execution_count": 38,
   "metadata": {},
   "outputs": [
    {
     "data": {
      "text/plain": [
       "(573.5237520146535, 590.6069693188075)"
      ]
     },
     "execution_count": 38,
     "metadata": {},
     "output_type": "execute_result"
    }
   ],
   "source": [
    "a = RTrunanalysis.loc[RTrunanalysis['Run'] == 1].Stim4.mean()\n",
    "sms.DescrStatsW(RTrunanalysis.loc[RTrunanalysis['Run'] == 1].Stim4).tconfint_mean()\n",
    "#a"
   ]
  },
  {
   "cell_type": "code",
   "execution_count": 39,
   "metadata": {},
   "outputs": [
    {
     "data": {
      "text/plain": [
       "(574.26564777564022, 590.11694451791095)"
      ]
     },
     "execution_count": 39,
     "metadata": {},
     "output_type": "execute_result"
    }
   ],
   "source": [
    "a = RTrunanalysis.loc[RTrunanalysis['Run'] == 2].Stim1.mean()\n",
    "sms.DescrStatsW(RTrunanalysis.loc[RTrunanalysis['Run'] == 2].Stim1).tconfint_mean()\n",
    "#a"
   ]
  },
  {
   "cell_type": "code",
   "execution_count": 40,
   "metadata": {},
   "outputs": [
    {
     "data": {
      "text/plain": [
       "(573.23791015842096, 588.20242484903713)"
      ]
     },
     "execution_count": 40,
     "metadata": {},
     "output_type": "execute_result"
    }
   ],
   "source": [
    "a = RTrunanalysis.loc[RTrunanalysis['Run'] == 2].Stim2.mean()\n",
    "sms.DescrStatsW(RTrunanalysis.loc[RTrunanalysis['Run'] == 2].Stim2).tconfint_mean()\n",
    "#a"
   ]
  },
  {
   "cell_type": "code",
   "execution_count": 41,
   "metadata": {},
   "outputs": [
    {
     "data": {
      "text/plain": [
       "(573.65022099604687, 589.20407508838628)"
      ]
     },
     "execution_count": 41,
     "metadata": {},
     "output_type": "execute_result"
    }
   ],
   "source": [
    "a = RTrunanalysis.loc[RTrunanalysis['Run'] == 2].Stim3.mean()\n",
    "sms.DescrStatsW(RTrunanalysis.loc[RTrunanalysis['Run'] == 2].Stim3).tconfint_mean()\n",
    "#a"
   ]
  },
  {
   "cell_type": "code",
   "execution_count": 42,
   "metadata": {},
   "outputs": [
    {
     "data": {
      "text/plain": [
       "(572.06452440245516, 585.98989013278128)"
      ]
     },
     "execution_count": 42,
     "metadata": {},
     "output_type": "execute_result"
    }
   ],
   "source": [
    "a = RTrunanalysis.loc[RTrunanalysis['Run'] == 2].Stim4.mean()\n",
    "sms.DescrStatsW(RTrunanalysis.loc[RTrunanalysis['Run'] == 2].Stim4).tconfint_mean()\n",
    "#a"
   ]
  },
  {
   "cell_type": "code",
   "execution_count": 43,
   "metadata": {},
   "outputs": [
    {
     "data": {
      "text/plain": [
       "(566.31344587838862, 583.14071731002127)"
      ]
     },
     "execution_count": 43,
     "metadata": {},
     "output_type": "execute_result"
    }
   ],
   "source": [
    "a = RTrunanalysis.loc[RTrunanalysis['Run'] == 3].Stim1.mean()\n",
    "sms.DescrStatsW(RTrunanalysis.loc[RTrunanalysis['Run'] == 3].Stim1).tconfint_mean()\n",
    "#a"
   ]
  },
  {
   "cell_type": "code",
   "execution_count": 44,
   "metadata": {},
   "outputs": [
    {
     "data": {
      "text/plain": [
       "(570.51884757027744, 585.1432816247285)"
      ]
     },
     "execution_count": 44,
     "metadata": {},
     "output_type": "execute_result"
    }
   ],
   "source": [
    "a = RTrunanalysis.loc[RTrunanalysis['Run'] == 3].Stim2.mean()\n",
    "sms.DescrStatsW(RTrunanalysis.loc[RTrunanalysis['Run'] == 3].Stim2).tconfint_mean()\n",
    "#a"
   ]
  },
  {
   "cell_type": "code",
   "execution_count": 45,
   "metadata": {},
   "outputs": [
    {
     "data": {
      "text/plain": [
       "(568.78040863698038, 583.93536235002352)"
      ]
     },
     "execution_count": 45,
     "metadata": {},
     "output_type": "execute_result"
    }
   ],
   "source": [
    "a = RTrunanalysis.loc[RTrunanalysis['Run'] == 3].Stim3.mean()\n",
    "sms.DescrStatsW(RTrunanalysis.loc[RTrunanalysis['Run'] == 3].Stim3).tconfint_mean()\n",
    "#a"
   ]
  },
  {
   "cell_type": "code",
   "execution_count": 46,
   "metadata": {},
   "outputs": [
    {
     "data": {
      "text/plain": [
       "(567.45350333656722, 583.59338584730824)"
      ]
     },
     "execution_count": 46,
     "metadata": {},
     "output_type": "execute_result"
    }
   ],
   "source": [
    "a = RTrunanalysis.loc[RTrunanalysis['Run'] == 3].Stim4.mean()\n",
    "sms.DescrStatsW(RTrunanalysis.loc[RTrunanalysis['Run'] == 3].Stim4).tconfint_mean()\n",
    "#a"
   ]
  },
  {
   "cell_type": "markdown",
   "metadata": {},
   "source": [
    "And for Accuracy..."
   ]
  },
  {
   "cell_type": "code",
   "execution_count": 47,
   "metadata": {},
   "outputs": [
    {
     "data": {
      "text/plain": [
       "(0.85350329591289353, 0.88713597349349926)"
      ]
     },
     "execution_count": 47,
     "metadata": {},
     "output_type": "execute_result"
    }
   ],
   "source": [
    "a = ACCanalysis.Stim1.mean()\n",
    "sms.DescrStatsW(ACCanalysis.Stim1).tconfint_mean()\n",
    "#a"
   ]
  },
  {
   "cell_type": "code",
   "execution_count": 48,
   "metadata": {},
   "outputs": [
    {
     "data": {
      "text/plain": [
       "(0.85766682465174171, 0.89027838082771027)"
      ]
     },
     "execution_count": 48,
     "metadata": {},
     "output_type": "execute_result"
    }
   ],
   "source": [
    "a = ACCanalysis.Stim2.mean()\n",
    "sms.DescrStatsW(ACCanalysis.Stim2).tconfint_mean()\n",
    "#a"
   ]
  },
  {
   "cell_type": "code",
   "execution_count": 49,
   "metadata": {},
   "outputs": [
    {
     "data": {
      "text/plain": [
       "(0.85943408220673367, 0.8939905753275128)"
      ]
     },
     "execution_count": 49,
     "metadata": {},
     "output_type": "execute_result"
    }
   ],
   "source": [
    "a = ACCanalysis.Stim3.mean()\n",
    "sms.DescrStatsW(ACCanalysis.Stim3).tconfint_mean()\n",
    "#a"
   ]
  },
  {
   "cell_type": "code",
   "execution_count": 50,
   "metadata": {},
   "outputs": [
    {
     "data": {
      "text/plain": [
       "(0.85792199651659773, 0.89309359157976498)"
      ]
     },
     "execution_count": 50,
     "metadata": {},
     "output_type": "execute_result"
    }
   ],
   "source": [
    "a = ACCanalysis.Stim4.mean()\n",
    "sms.DescrStatsW(ACCanalysis.Stim4).tconfint_mean()\n",
    "#a"
   ]
  },
  {
   "cell_type": "code",
   "execution_count": 51,
   "metadata": {},
   "outputs": [
    {
     "data": {
      "text/plain": [
       "(0.66673454961172696, 0.75609650061658362)"
      ]
     },
     "execution_count": 51,
     "metadata": {},
     "output_type": "execute_result"
    }
   ],
   "source": [
    "a = ACCrunanalysis.loc[RTrunanalysis['Run'] == 0].Stim1.mean()\n",
    "sms.DescrStatsW(ACCrunanalysis.loc[RTrunanalysis['Run'] == 0].Stim1).tconfint_mean()\n",
    "#a"
   ]
  },
  {
   "cell_type": "code",
   "execution_count": 52,
   "metadata": {},
   "outputs": [
    {
     "data": {
      "text/plain": [
       "(0.69559766557625169, 0.7783749371634745)"
      ]
     },
     "execution_count": 52,
     "metadata": {},
     "output_type": "execute_result"
    }
   ],
   "source": [
    "a = ACCrunanalysis.loc[RTrunanalysis['Run'] == 0].Stim2.mean()\n",
    "sms.DescrStatsW(ACCrunanalysis.loc[RTrunanalysis['Run'] == 0].Stim2).tconfint_mean()\n",
    "#a"
   ]
  },
  {
   "cell_type": "code",
   "execution_count": 53,
   "metadata": {},
   "outputs": [
    {
     "data": {
      "text/plain": [
       "(0.6793020826556998, 0.77640567990137799)"
      ]
     },
     "execution_count": 53,
     "metadata": {},
     "output_type": "execute_result"
    }
   ],
   "source": [
    "a = ACCrunanalysis.loc[RTrunanalysis['Run'] == 0].Stim3.mean()\n",
    "sms.DescrStatsW(ACCrunanalysis.loc[RTrunanalysis['Run'] == 0].Stim3).tconfint_mean()\n",
    "#a"
   ]
  },
  {
   "cell_type": "code",
   "execution_count": 54,
   "metadata": {},
   "outputs": [
    {
     "data": {
      "text/plain": [
       "(0.67599892465579892, 0.76874993379168965)"
      ]
     },
     "execution_count": 54,
     "metadata": {},
     "output_type": "execute_result"
    }
   ],
   "source": [
    "a = ACCrunanalysis.loc[RTrunanalysis['Run'] == 0].Stim4.mean()\n",
    "sms.DescrStatsW(ACCrunanalysis.loc[RTrunanalysis['Run'] == 0].Stim4).tconfint_mean()\n",
    "#a"
   ]
  },
  {
   "cell_type": "code",
   "execution_count": 55,
   "metadata": {},
   "outputs": [
    {
     "data": {
      "text/plain": [
       "(0.88613024259408069, 0.9293948715611704)"
      ]
     },
     "execution_count": 55,
     "metadata": {},
     "output_type": "execute_result"
    }
   ],
   "source": [
    "a = ACCrunanalysis.loc[RTrunanalysis['Run'] == 1].Stim1.mean()\n",
    "sms.DescrStatsW(ACCrunanalysis.loc[RTrunanalysis['Run'] == 1].Stim1).tconfint_mean()\n",
    "#a"
   ]
  },
  {
   "cell_type": "code",
   "execution_count": 56,
   "metadata": {},
   "outputs": [
    {
     "data": {
      "text/plain": [
       "(0.88294212697489272, 0.92345056708903384)"
      ]
     },
     "execution_count": 56,
     "metadata": {},
     "output_type": "execute_result"
    }
   ],
   "source": [
    "a = ACCrunanalysis.loc[RTrunanalysis['Run'] == 1].Stim2.mean()\n",
    "sms.DescrStatsW(ACCrunanalysis.loc[RTrunanalysis['Run'] == 1].Stim2).tconfint_mean()\n",
    "#a"
   ]
  },
  {
   "cell_type": "code",
   "execution_count": 57,
   "metadata": {},
   "outputs": [
    {
     "data": {
      "text/plain": [
       "(0.89271687797502353, 0.93376714028981633)"
      ]
     },
     "execution_count": 57,
     "metadata": {},
     "output_type": "execute_result"
    }
   ],
   "source": [
    "a = ACCrunanalysis.loc[RTrunanalysis['Run'] == 1].Stim3.mean()\n",
    "sms.DescrStatsW(ACCrunanalysis.loc[RTrunanalysis['Run'] == 1].Stim3).tconfint_mean()\n",
    "#a"
   ]
  },
  {
   "cell_type": "code",
   "execution_count": 58,
   "metadata": {},
   "outputs": [
    {
     "data": {
      "text/plain": [
       "(0.89579719901596722, 0.93433978728540268)"
      ]
     },
     "execution_count": 58,
     "metadata": {},
     "output_type": "execute_result"
    }
   ],
   "source": [
    "a = ACCrunanalysis.loc[RTrunanalysis['Run'] == 1].Stim4.mean()\n",
    "sms.DescrStatsW(ACCrunanalysis.loc[RTrunanalysis['Run'] == 1].Stim4).tconfint_mean()\n",
    "#a"
   ]
  },
  {
   "cell_type": "code",
   "execution_count": 59,
   "metadata": {},
   "outputs": [
    {
     "data": {
      "text/plain": [
       "(0.91373933493351978, 0.94927436369661711)"
      ]
     },
     "execution_count": 59,
     "metadata": {},
     "output_type": "execute_result"
    }
   ],
   "source": [
    "a = ACCrunanalysis.loc[RTrunanalysis['Run'] == 2].Stim1.mean()\n",
    "sms.DescrStatsW(ACCrunanalysis.loc[RTrunanalysis['Run'] == 2].Stim1).tconfint_mean()\n",
    "#a"
   ]
  },
  {
   "cell_type": "code",
   "execution_count": 60,
   "metadata": {},
   "outputs": [
    {
     "data": {
      "text/plain": [
       "(0.8958963983077689, 0.93606707201186568)"
      ]
     },
     "execution_count": 60,
     "metadata": {},
     "output_type": "execute_result"
    }
   ],
   "source": [
    "a = ACCrunanalysis.loc[RTrunanalysis['Run'] == 2].Stim2.mean()\n",
    "sms.DescrStatsW(ACCrunanalysis.loc[RTrunanalysis['Run'] == 2].Stim2).tconfint_mean()\n",
    "#a"
   ]
  },
  {
   "cell_type": "code",
   "execution_count": 61,
   "metadata": {},
   "outputs": [
    {
     "data": {
      "text/plain": [
       "(0.90589787764587271, 0.94433043285641027)"
      ]
     },
     "execution_count": 61,
     "metadata": {},
     "output_type": "execute_result"
    }
   ],
   "source": [
    "a = ACCrunanalysis.loc[RTrunanalysis['Run'] == 2].Stim3.mean()\n",
    "sms.DescrStatsW(ACCrunanalysis.loc[RTrunanalysis['Run'] == 2].Stim3).tconfint_mean()\n",
    "#a"
   ]
  },
  {
   "cell_type": "code",
   "execution_count": 62,
   "metadata": {},
   "outputs": [
    {
     "data": {
      "text/plain": [
       "(0.91007501742015295, 0.9418493139562335)"
      ]
     },
     "execution_count": 62,
     "metadata": {},
     "output_type": "execute_result"
    }
   ],
   "source": [
    "a = ACCrunanalysis.loc[RTrunanalysis['Run'] == 2].Stim4.mean()\n",
    "sms.DescrStatsW(ACCrunanalysis.loc[RTrunanalysis['Run'] == 2].Stim4).tconfint_mean()\n",
    "#a"
   ]
  },
  {
   "cell_type": "code",
   "execution_count": 63,
   "metadata": {},
   "outputs": [
    {
     "data": {
      "text/plain": [
       "(0.91182081403567594, 0.94936640057619626)"
      ]
     },
     "execution_count": 63,
     "metadata": {},
     "output_type": "execute_result"
    }
   ],
   "source": [
    "a = ACCrunanalysis.loc[RTrunanalysis['Run'] == 3].Stim1.mean()\n",
    "sms.DescrStatsW(ACCrunanalysis.loc[RTrunanalysis['Run'] == 3].Stim1).tconfint_mean()\n",
    "#a"
   ]
  },
  {
   "cell_type": "code",
   "execution_count": 64,
   "metadata": {},
   "outputs": [
    {
     "data": {
      "text/plain": [
       "(0.92392199795916152, 0.9555300568353593)"
      ]
     },
     "execution_count": 64,
     "metadata": {},
     "output_type": "execute_result"
    }
   ],
   "source": [
    "a = ACCrunanalysis.loc[RTrunanalysis['Run'] == 3].Stim2.mean()\n",
    "sms.DescrStatsW(ACCrunanalysis.loc[RTrunanalysis['Run'] == 3].Stim2).tconfint_mean()\n",
    "#a"
   ]
  },
  {
   "cell_type": "code",
   "execution_count": 65,
   "metadata": {},
   "outputs": [
    {
     "data": {
      "text/plain": [
       "(0.92517977533171769, 0.95609876348106781)"
      ]
     },
     "execution_count": 65,
     "metadata": {},
     "output_type": "execute_result"
    }
   ],
   "source": [
    "a = ACCrunanalysis.loc[RTrunanalysis['Run'] == 3].Stim3.mean()\n",
    "sms.DescrStatsW(ACCrunanalysis.loc[RTrunanalysis['Run'] == 3].Stim3).tconfint_mean()\n",
    "#a"
   ]
  },
  {
   "cell_type": "code",
   "execution_count": 66,
   "metadata": {},
   "outputs": [
    {
     "data": {
      "text/plain": [
       "(0.91811905495622892, 0.95924558953170302)"
      ]
     },
     "execution_count": 66,
     "metadata": {},
     "output_type": "execute_result"
    }
   ],
   "source": [
    "a = ACCrunanalysis.loc[RTrunanalysis['Run'] == 3].Stim4.mean()\n",
    "sms.DescrStatsW(ACCrunanalysis.loc[RTrunanalysis['Run'] == 3].Stim4).tconfint_mean()\n",
    "#a"
   ]
  }
 ],
 "metadata": {
  "anaconda-cloud": {},
  "kernelspec": {
   "display_name": "Python [Root]",
   "language": "python",
   "name": "Python [Root]"
  },
  "language_info": {
   "codemirror_mode": {
    "name": "ipython",
    "version": 3
   },
   "file_extension": ".py",
   "mimetype": "text/x-python",
   "name": "python",
   "nbconvert_exporter": "python",
   "pygments_lexer": "ipython3",
   "version": "3.5.2"
  }
 },
 "nbformat": 4,
 "nbformat_minor": 1
}

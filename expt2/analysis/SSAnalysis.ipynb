{
 "cells": [
  {
   "cell_type": "markdown",
   "metadata": {},
   "source": [
    "# Information on How These Data Are Organized:\n",
    "\n",
    "`TypeOfResponse` refers to whether participants pressed a button (\"APResp\") or did not press a button (\"APRespITI\") within the given time frame.\n",
    "\n",
    "`Version` refers to the task version. I never changed the JS code; I merely changed which face/house was labeled as S1_1, S1_2, S1_3, or S1_4 in respective task folders.\n",
    "\n",
    "`LogCounter` gets added to whenever the JS records a new datapoint.\n",
    "\n",
    "`TrialCounter` gets added to whenever a new trial has started. This is reset at the start of each block.\n",
    "\n",
    "`MatrixCounter` gets added to throughout the task and is never reset. It is what I use to call Stimuli #s.\n",
    "\n",
    "`RunCounter` refers to the run: 0 is run 1, 1 is run 2, 2 is run 3, and 3 is run 4.\n",
    "\n",
    "`Valid` refers to the valid trial type. `Invalid` invalid trial type. This is in reference to the main manipulation of the S-S association phase, whereby particular faces and houses are more likely to precede particular scenes.\n",
    "\n",
    "`Stimuli` refers to the S1 image presented here. Instead of Stim Type from the first experiment, I just coded this into the JS when I ran the second expt.\n",
    "\n",
    "`StimPresented` refers to my matrix of possible trial types. For instance, 1 means stimulus 1 is associated with scene 1 (valid). 16 means stimulus 4 is associated with scene 3 (invalid).\n",
    "\n",
    "`PressCorrect` refers to the button that participants should press on that trial. This is how I define accuracy (i.e., correct: when PressCorrect = actualkeyPressed).\n",
    "\n",
    "`ResponseMatrix` refers to which key is pressed; this is a redundant variable and was used to make sure that each key had been required an equal number of times throughout the task.\n",
    "\n",
    "`ActualKeyPressed` is what key subjects pressed.\n",
    "\n",
    "`Accuracy` & `RT` self-explanatory.\n",
    "\n",
    "`FeedbackType` refers to whether they got correct as fb, incorrect as fb, or the fb time-out.\n",
    "\n",
    "`runStart` refers to the initiation of the countdown to begin the task.\n",
    "\n",
    "`ImagePresent` refers to when the face/house was presented.\n",
    "\n",
    "`StimTime` refers to when the scene was presented.\n",
    "\n",
    "`RespOnset` refers to when a response was made.\n",
    "\n",
    "`AccCount` is how I give subjects accurate fb of their performance at the end of each run (i.e., a counter that gets added to after each correct trial & is divided by trial #).\n",
    "\n",
    "`Subject` self-explanatory.\n",
    "\n",
    "One label isn't coded in the JS: `StimRep` looks for direct repetitions in the StimPresented matrix (i.e., if 15 comes twice in a row). This was coded in Matlab and added to the CSV file.\n",
    "\n",
    "---"
   ]
  },
  {
   "cell_type": "markdown",
   "metadata": {},
   "source": [
    "### Here we'll just import Python specific packages and read in our data."
   ]
  },
  {
   "cell_type": "code",
   "execution_count": 67,
   "metadata": {
    "collapsed": true
   },
   "outputs": [],
   "source": [
    "import numpy as np\n",
    "import pandas as pd\n",
    "import matplotlib.pyplot as plt\n",
    "import seaborn as sns\n",
    "import pylab as plb\n",
    "import math\n",
    "from scipy import stats\n",
    "\n",
    "%matplotlib notebook "
   ]
  },
  {
   "cell_type": "code",
   "execution_count": 68,
   "metadata": {
    "scrolled": true
   },
   "outputs": [
    {
     "name": "stdout",
     "output_type": "stream",
     "text": [
      "C:\\Users\\cb383\\Documents\\controltransfer\\expt2\\data\n"
     ]
    }
   ],
   "source": [
    "%cd 'C:\\Users\\cb383\\Documents\\controltransfer\\expt2\\data'\n",
    "dat = pd.read_csv('AllSubsSS.csv')"
   ]
  },
  {
   "cell_type": "markdown",
   "metadata": {},
   "source": [
    "# Do Some Basic Cleaning"
   ]
  },
  {
   "cell_type": "markdown",
   "metadata": {},
   "source": [
    "#### We are filtering and preparing the data for analysis.\n",
    "\n",
    "<u>FOR REACTION TIMES</u>:\n",
    "\n",
    "-Select only `TypeOfResponse` equal to `Resp` (`ITI Resp` is when subs didn't respond).\n",
    "\n",
    "-Only take the RTs that are greater than 200ms and less than 750 ms.\n",
    "\n",
    "-Only take the RTs on accurate trials.\n",
    "\n",
    "-Only take trials where the stimulus didn't repeat.\n",
    "\n",
    "\n",
    "<u>FOR ACCURACY</u>:\n",
    "\n",
    "-All errors are errors"
   ]
  },
  {
   "cell_type": "code",
   "execution_count": 69,
   "metadata": {
    "collapsed": true
   },
   "outputs": [],
   "source": [
    "cdat = dat.query('(TypeOfResponse != \"APRespITI\") & (RT > 200) & (RT < 750) & (Accuracy != 0) & (StimRep != 1)').copy()\n",
    "adat = dat.copy()"
   ]
  },
  {
   "cell_type": "code",
   "execution_count": 70,
   "metadata": {
    "collapsed": true
   },
   "outputs": [],
   "source": [
    "#Note: these are the old valid/invalid pairings. They don't actually matter for this analysis, but for the sake of consistency,\n",
    "#I have marked them in this data set as well...\n",
    "\n",
    "adat['TrialType'] = adat['Valid'].isin([1])\n",
    "adat.loc[adat['Valid'].isin([1]), 'TrialType'] = 'Valid'\n",
    "adat.loc[~adat['Valid'].isin([1]), 'TrialType'] = 'Invalid'\n",
    "\n",
    "cdat['TrialType'] = cdat['Valid'].isin([1])\n",
    "cdat.loc[cdat['Valid'].isin([1]), 'TrialType'] = 'Valid'\n",
    "cdat.loc[~cdat['Valid'].isin([1]), 'TrialType'] = 'Invalid'"
   ]
  },
  {
   "cell_type": "code",
   "execution_count": 71,
   "metadata": {
    "collapsed": true
   },
   "outputs": [],
   "source": [
    "adat['S2Image'] = adat['StimPresented'].isin([1])\n",
    "adat.loc[adat['StimPresented'].isin([1]), 'S2Image'] = 'S2Image1'\n",
    "adat.loc[adat['StimPresented'].isin([2]), 'S2Image'] = 'S2Image1'\n",
    "adat.loc[adat['StimPresented'].isin([3]), 'S2Image'] = 'S2Image1'\n",
    "adat.loc[adat['StimPresented'].isin([4]), 'S2Image'] = 'S2Image1'\n",
    "\n",
    "adat.loc[adat['StimPresented'].isin([5]), 'S2Image'] = 'S2Image2'\n",
    "adat.loc[adat['StimPresented'].isin([6]), 'S2Image'] = 'S2Image2'\n",
    "adat.loc[adat['StimPresented'].isin([7]), 'S2Image'] = 'S2Image2'\n",
    "adat.loc[adat['StimPresented'].isin([8]), 'S2Image'] = 'S2Image2'\n",
    "\n",
    "adat.loc[adat['StimPresented'].isin([9]), 'S2Image'] = 'S2Image3'\n",
    "adat.loc[adat['StimPresented'].isin([10]), 'S2Image'] = 'S2Image3'\n",
    "adat.loc[adat['StimPresented'].isin([11]), 'S2Image'] = 'S2Image3'\n",
    "adat.loc[adat['StimPresented'].isin([12]), 'S2Image'] = 'S2Image3'\n",
    "\n",
    "adat.loc[adat['StimPresented'].isin([13]), 'S2Image'] = 'S2Image4'\n",
    "adat.loc[adat['StimPresented'].isin([14]), 'S2Image'] = 'S2Image4'\n",
    "adat.loc[adat['StimPresented'].isin([15]), 'S2Image'] = 'S2Image4'\n",
    "adat.loc[adat['StimPresented'].isin([16]), 'S2Image'] = 'S2Image4'\n",
    "\n",
    "cdat['S2Image'] = cdat['StimPresented'].isin([1])\n",
    "cdat.loc[cdat['StimPresented'].isin([1]), 'S2Image'] = 'S2Image1'\n",
    "cdat.loc[cdat['StimPresented'].isin([2]), 'S2Image'] = 'S2Image1'\n",
    "cdat.loc[cdat['StimPresented'].isin([3]), 'S2Image'] = 'S2Image1'\n",
    "cdat.loc[cdat['StimPresented'].isin([4]), 'S2Image'] = 'S2Image1'\n",
    "\n",
    "cdat.loc[cdat['StimPresented'].isin([5]), 'S2Image'] = 'S2Image2'\n",
    "cdat.loc[cdat['StimPresented'].isin([6]), 'S2Image'] = 'S2Image2'\n",
    "cdat.loc[cdat['StimPresented'].isin([7]), 'S2Image'] = 'S2Image2'\n",
    "cdat.loc[cdat['StimPresented'].isin([8]), 'S2Image'] = 'S2Image2'\n",
    "\n",
    "cdat.loc[cdat['StimPresented'].isin([9]), 'S2Image'] = 'S2Image3'\n",
    "cdat.loc[cdat['StimPresented'].isin([10]), 'S2Image'] = 'S2Image3'\n",
    "cdat.loc[cdat['StimPresented'].isin([11]), 'S2Image'] = 'S2Image3'\n",
    "cdat.loc[cdat['StimPresented'].isin([12]), 'S2Image'] = 'S2Image3'\n",
    "\n",
    "cdat.loc[cdat['StimPresented'].isin([13]), 'S2Image'] = 'S2Image4'\n",
    "cdat.loc[cdat['StimPresented'].isin([14]), 'S2Image'] = 'S2Image4'\n",
    "cdat.loc[cdat['StimPresented'].isin([15]), 'S2Image'] = 'S2Image4'\n",
    "cdat.loc[cdat['StimPresented'].isin([16]), 'S2Image'] = 'S2Image4'"
   ]
  },
  {
   "cell_type": "markdown",
   "metadata": {},
   "source": [
    "# Look at Mean Validity Effects"
   ]
  },
  {
   "cell_type": "markdown",
   "metadata": {},
   "source": [
    "### A validity effect means being faster and more accurate to respond when a face/house (S1) image validly cues its paired scene (S2) associate than when the scene is invalidly cued. Here, we do not expect any validity effects or any main effect of S1 image on scene categorization, because the S1-S2 pairs have been scrambled. All S1 images precede each S2 image an equal number of times."
   ]
  },
  {
   "cell_type": "code",
   "execution_count": 72,
   "metadata": {},
   "outputs": [
    {
     "data": {
      "text/plain": [
       "Stimuli\n",
       "1    582.297316\n",
       "2    583.238240\n",
       "3    582.537621\n",
       "4    582.495962\n",
       "Name: RT, dtype: float64"
      ]
     },
     "execution_count": 72,
     "metadata": {},
     "output_type": "execute_result"
    }
   ],
   "source": [
    "sub_RTmeans = cdat.groupby(['subject','Stimuli'])['RT'].mean()\n",
    "RTgrpmean = pd.Series.mean(sub_RTmeans,level=1)\n",
    "RTgrpmean"
   ]
  },
  {
   "cell_type": "code",
   "execution_count": 73,
   "metadata": {},
   "outputs": [
    {
     "data": {
      "text/plain": [
       "Stimuli\n",
       "1    30.211051\n",
       "2    28.719900\n",
       "3    29.612680\n",
       "4    29.453358\n",
       "Name: RT, dtype: float64"
      ]
     },
     "execution_count": 73,
     "metadata": {},
     "output_type": "execute_result"
    }
   ],
   "source": [
    "RTgrpstd = pd.Series.std(sub_RTmeans,level=1)\n",
    "RTgrpstd"
   ]
  },
  {
   "cell_type": "code",
   "execution_count": 74,
   "metadata": {},
   "outputs": [
    {
     "data": {
      "text/plain": [
       "Stimuli\n",
       "1    3.535936\n",
       "2    3.361410\n",
       "3    3.465902\n",
       "4    3.447255\n",
       "Name: RT, dtype: float64"
      ]
     },
     "execution_count": 74,
     "metadata": {},
     "output_type": "execute_result"
    }
   ],
   "source": [
    "n = math.sqrt(73)\n",
    "RTstderror = RTgrpstd / n\n",
    "RTstderror"
   ]
  },
  {
   "cell_type": "markdown",
   "metadata": {},
   "source": [
    "#### Judging by these initial numbers, there is no effect of S1 image on scene categorization. Is that true of Accuracy?"
   ]
  },
  {
   "cell_type": "code",
   "execution_count": 75,
   "metadata": {},
   "outputs": [
    {
     "data": {
      "text/plain": [
       "Stimuli\n",
       "1    0.870320\n",
       "2    0.873973\n",
       "3    0.876712\n",
       "4    0.875508\n",
       "Name: Accuracy, dtype: float64"
      ]
     },
     "execution_count": 75,
     "metadata": {},
     "output_type": "execute_result"
    }
   ],
   "source": [
    "sub_ACCmeans = adat.groupby(['subject','Stimuli'])['Accuracy'].mean()\n",
    "ACCgrpmean = pd.Series.mean(sub_ACCmeans,level=1)\n",
    "ACCgrpmean"
   ]
  },
  {
   "cell_type": "code",
   "execution_count": 76,
   "metadata": {},
   "outputs": [
    {
     "data": {
      "text/plain": [
       "Stimuli\n",
       "1    0.072075\n",
       "2    0.069887\n",
       "3    0.074055\n",
       "4    0.075373\n",
       "Name: Accuracy, dtype: float64"
      ]
     },
     "execution_count": 76,
     "metadata": {},
     "output_type": "execute_result"
    }
   ],
   "source": [
    "ACCgrpstd = pd.Series.std(sub_ACCmeans,level=1)\n",
    "ACCgrpstd"
   ]
  },
  {
   "cell_type": "code",
   "execution_count": 77,
   "metadata": {},
   "outputs": [
    {
     "data": {
      "text/plain": [
       "Stimuli\n",
       "1    0.008436\n",
       "2    0.008180\n",
       "3    0.008667\n",
       "4    0.008822\n",
       "Name: Accuracy, dtype: float64"
      ]
     },
     "execution_count": 77,
     "metadata": {},
     "output_type": "execute_result"
    }
   ],
   "source": [
    "ACCstderror = ACCgrpstd / n\n",
    "ACCstderror"
   ]
  },
  {
   "cell_type": "markdown",
   "metadata": {},
   "source": [
    "# Creating Variables to Run Statistics"
   ]
  },
  {
   "cell_type": "markdown",
   "metadata": {},
   "source": [
    "#### This is a Python set of analyses, where the data above are organized in what's called \"long-form\" and to run statistics, I need \"wide-form\" data. So I am creating a new \"dataframe\" with the RT and accuracy means for valid and invalid trials, for each subject."
   ]
  },
  {
   "cell_type": "code",
   "execution_count": 78,
   "metadata": {
    "collapsed": true
   },
   "outputs": [],
   "source": [
    "RTanalysis = pd.DataFrame()\n",
    "lists = [[] for list in range(0,5)]\n",
    "\n",
    "for ID in range(10,83):\n",
    "    sub = cdat[cdat.subject == ID]\n",
    "    lists[0].append(ID)\n",
    "    Stim1_trials = sub[sub.Stimuli == 1].RT.mean()\n",
    "    Stim2_trials = sub[sub.Stimuli == 2].RT.mean()\n",
    "    Stim3_trials = sub[sub.Stimuli == 3].RT.mean()\n",
    "    Stim4_trials = sub[sub.Stimuli == 4].RT.mean()\n",
    "    lists[1].append(Stim1_trials)\n",
    "    lists[2].append(Stim2_trials)\n",
    "    lists[3].append(Stim3_trials)\n",
    "    lists[4].append(Stim4_trials)\n",
    "    \n",
    "RTanalysis['SubjectID'] = lists[0]\n",
    "RTanalysis['Stim1'] = lists[1]\n",
    "RTanalysis['Stim2'] = lists[2]\n",
    "RTanalysis['Stim3'] = lists[3]\n",
    "RTanalysis['Stim4'] = lists[4]"
   ]
  },
  {
   "cell_type": "code",
   "execution_count": 79,
   "metadata": {
    "collapsed": true
   },
   "outputs": [],
   "source": [
    "#repeat for accuracy\n",
    "\n",
    "ACCanalysis = pd.DataFrame()\n",
    "new_lists = [[] for list in range(0,5)]\n",
    "\n",
    "for ID in range(10,83):\n",
    "    sub = adat[adat.subject == ID]\n",
    "    new_lists[0].append(ID)\n",
    "    ACC_Stim1_trials = sub[sub.Stimuli == 1].Accuracy.mean()\n",
    "    ACC_Stim2_trials = sub[sub.Stimuli == 2].Accuracy.mean()\n",
    "    ACC_Stim3_trials = sub[sub.Stimuli == 3].Accuracy.mean()\n",
    "    ACC_Stim4_trials = sub[sub.Stimuli == 4].Accuracy.mean()\n",
    "    new_lists[1].append(ACC_Stim1_trials)\n",
    "    new_lists[2].append(ACC_Stim2_trials)\n",
    "    new_lists[3].append(ACC_Stim3_trials)\n",
    "    new_lists[4].append(ACC_Stim4_trials)\n",
    "    \n",
    "ACCanalysis['SubjectID'] = new_lists[0]\n",
    "ACCanalysis['Stim1'] = new_lists[1]\n",
    "ACCanalysis['Stim2'] = new_lists[2]\n",
    "ACCanalysis['Stim3'] = new_lists[3]\n",
    "ACCanalysis['Stim4'] = new_lists[4]"
   ]
  },
  {
   "cell_type": "code",
   "execution_count": 80,
   "metadata": {
    "collapsed": true
   },
   "outputs": [],
   "source": [
    "#now for run as well\n",
    "\n",
    "RTrunanalysis = pd.DataFrame()\n",
    "new_RTlists = [[] for list in range(0,6)]\n",
    "\n",
    "for ID in range(10,83):\n",
    "    sub = cdat[cdat.subject == ID]\n",
    "    for runID in range(0,4):\n",
    "        run = sub[sub.RunCounter == runID]\n",
    "        new_RTlists[0].append(ID)\n",
    "        new_RTlists[1].append(runID)\n",
    "        RTStim1_trials = run[run.Stimuli == 1].RT.mean()\n",
    "        RTStim2_trials = run[run.Stimuli == 2].RT.mean()\n",
    "        RTStim3_trials = run[run.Stimuli == 3].RT.mean()\n",
    "        RTStim4_trials = run[run.Stimuli == 4].RT.mean()\n",
    "        new_RTlists[2].append(RTStim1_trials)\n",
    "        new_RTlists[3].append(RTStim2_trials)\n",
    "        new_RTlists[4].append(RTStim3_trials)\n",
    "        new_RTlists[5].append(RTStim4_trials)\n",
    "    \n",
    "RTrunanalysis['SubjectID'] = new_RTlists[0]\n",
    "RTrunanalysis['Run'] = new_RTlists[1]\n",
    "RTrunanalysis['Stim1'] = new_RTlists[2]\n",
    "RTrunanalysis['Stim2'] = new_RTlists[3]\n",
    "RTrunanalysis['Stim3'] = new_RTlists[4]\n",
    "RTrunanalysis['Stim4'] = new_RTlists[5]"
   ]
  },
  {
   "cell_type": "code",
   "execution_count": 81,
   "metadata": {
    "collapsed": true
   },
   "outputs": [],
   "source": [
    "#repeat for accuracy\n",
    "\n",
    "ACCrunanalysis = pd.DataFrame()\n",
    "new_acclists = [[] for list in range(0,6)]\n",
    "\n",
    "for ID in range(10,83):\n",
    "    sub = adat[adat.subject == ID]\n",
    "    for runID in range(0,4):\n",
    "        run = sub[sub.RunCounter == runID]\n",
    "        new_acclists[0].append(ID)\n",
    "        new_acclists[1].append(runID)\n",
    "        ACCStim1_trials = run[run.Stimuli == 1].Accuracy.mean()\n",
    "        ACCStim2_trials = run[run.Stimuli == 2].Accuracy.mean()\n",
    "        ACCStim3_trials = run[run.Stimuli == 3].Accuracy.mean()\n",
    "        ACCStim4_trials = run[run.Stimuli == 4].Accuracy.mean()\n",
    "        new_acclists[2].append(ACCStim1_trials)\n",
    "        new_acclists[3].append(ACCStim2_trials)\n",
    "        new_acclists[4].append(ACCStim3_trials)\n",
    "        new_acclists[5].append(ACCStim4_trials)\n",
    "    \n",
    "ACCrunanalysis['SubjectID'] = new_acclists[0]\n",
    "ACCrunanalysis['Run'] = new_acclists[1]\n",
    "ACCrunanalysis['Stim1'] = new_acclists[2]\n",
    "ACCrunanalysis['Stim2'] = new_acclists[3]\n",
    "ACCrunanalysis['Stim3'] = new_acclists[4]\n",
    "ACCrunanalysis['Stim4'] = new_acclists[5]"
   ]
  },
  {
   "cell_type": "markdown",
   "metadata": {},
   "source": [
    "# Run Actual Statistics"
   ]
  },
  {
   "cell_type": "markdown",
   "metadata": {},
   "source": [
    "#### For the S-S phase, we run a repeated-measures ANOVA comparing S1 image (4) and S2 image (4): this will test whether there is any effect of S1 image on scene categorization. \n",
    "\n",
    "Unfortunately, Python does not have the capability for repeated-measures ANOVA. I could install \"pyvtttbl\" for Python, but it's not as accurate as R, SPSS, etc. So in this particular notebook, I will run paired t-tests to mimic the lack of main effect of S1 image, and I will include R code to run the actual ANOVA."
   ]
  },
  {
   "cell_type": "code",
   "execution_count": 82,
   "metadata": {
    "collapsed": true
   },
   "outputs": [],
   "source": [
    "#paired t-tests for RT; if you want to look at any individual result, remove the semicolon.\n",
    "stats.ttest_rel(RTanalysis.Stim1, RTanalysis.Stim2);\n",
    "stats.ttest_rel(RTanalysis.Stim1, RTanalysis.Stim3);\n",
    "stats.ttest_rel(RTanalysis.Stim1, RTanalysis.Stim4);\n",
    "stats.ttest_rel(RTanalysis.Stim2, RTanalysis.Stim3);\n",
    "stats.ttest_rel(RTanalysis.Stim2, RTanalysis.Stim4);\n",
    "stats.ttest_rel(RTanalysis.Stim3, RTanalysis.Stim4);"
   ]
  },
  {
   "cell_type": "code",
   "execution_count": 83,
   "metadata": {
    "collapsed": true
   },
   "outputs": [],
   "source": [
    "stats.ttest_rel(ACCanalysis.Stim1, ACCanalysis.Stim2);\n",
    "stats.ttest_rel(ACCanalysis.Stim1, ACCanalysis.Stim3);\n",
    "stats.ttest_rel(ACCanalysis.Stim1, ACCanalysis.Stim4);\n",
    "stats.ttest_rel(ACCanalysis.Stim2, ACCanalysis.Stim3);\n",
    "stats.ttest_rel(ACCanalysis.Stim2, ACCanalysis.Stim4);\n",
    "stats.ttest_rel(ACCanalysis.Stim3, ACCanalysis.Stim4);"
   ]
  },
  {
   "cell_type": "code",
   "execution_count": 84,
   "metadata": {
    "collapsed": true
   },
   "outputs": [],
   "source": [
    "#can look at more things, like Bayesian confidence intervals\n",
    "stats.bayes_mvs(RTanalysis.Stim1);\n",
    "stats.bayes_mvs(RTanalysis.Stim2);\n",
    "stats.bayes_mvs(RTanalysis.Stim3);\n",
    "stats.bayes_mvs(RTanalysis.Stim4);\n",
    "stats.bayes_mvs(ACCanalysis.Stim1);\n",
    "stats.bayes_mvs(ACCanalysis.Stim2);\n",
    "stats.bayes_mvs(ACCanalysis.Stim3);\n",
    "stats.bayes_mvs(ACCanalysis.Stim4);"
   ]
  },
  {
   "cell_type": "markdown",
   "metadata": {},
   "source": [
    "#### In sum: no main effect of S1 image on RT or accuracy. See below for actual R ANOVA analyses (i.e., what was actually run in the paper)."
   ]
  },
  {
   "cell_type": "markdown",
   "metadata": {},
   "source": [
    "# Look at the Results Graphically"
   ]
  },
  {
   "cell_type": "markdown",
   "metadata": {},
   "source": [
    "Note that the graphs generated mimic the paper, but I used Matlab to generate the figures, because I like their graphics more."
   ]
  },
  {
   "cell_type": "code",
   "execution_count": 85,
   "metadata": {
    "collapsed": true
   },
   "outputs": [],
   "source": [
    "sns.set(context='notebook', style='white', font='Myriad Pro', font_scale=2, color_codes=False, rc=None);"
   ]
  },
  {
   "cell_type": "code",
   "execution_count": 86,
   "metadata": {},
   "outputs": [
    {
     "data": {
      "application/javascript": [
       "/* Put everything inside the global mpl namespace */\n",
       "window.mpl = {};\n",
       "\n",
       "mpl.get_websocket_type = function() {\n",
       "    if (typeof(WebSocket) !== 'undefined') {\n",
       "        return WebSocket;\n",
       "    } else if (typeof(MozWebSocket) !== 'undefined') {\n",
       "        return MozWebSocket;\n",
       "    } else {\n",
       "        alert('Your browser does not have WebSocket support.' +\n",
       "              'Please try Chrome, Safari or Firefox ≥ 6. ' +\n",
       "              'Firefox 4 and 5 are also supported but you ' +\n",
       "              'have to enable WebSockets in about:config.');\n",
       "    };\n",
       "}\n",
       "\n",
       "mpl.figure = function(figure_id, websocket, ondownload, parent_element) {\n",
       "    this.id = figure_id;\n",
       "\n",
       "    this.ws = websocket;\n",
       "\n",
       "    this.supports_binary = (this.ws.binaryType != undefined);\n",
       "\n",
       "    if (!this.supports_binary) {\n",
       "        var warnings = document.getElementById(\"mpl-warnings\");\n",
       "        if (warnings) {\n",
       "            warnings.style.display = 'block';\n",
       "            warnings.textContent = (\n",
       "                \"This browser does not support binary websocket messages. \" +\n",
       "                    \"Performance may be slow.\");\n",
       "        }\n",
       "    }\n",
       "\n",
       "    this.imageObj = new Image();\n",
       "\n",
       "    this.context = undefined;\n",
       "    this.message = undefined;\n",
       "    this.canvas = undefined;\n",
       "    this.rubberband_canvas = undefined;\n",
       "    this.rubberband_context = undefined;\n",
       "    this.format_dropdown = undefined;\n",
       "\n",
       "    this.image_mode = 'full';\n",
       "\n",
       "    this.root = $('<div/>');\n",
       "    this._root_extra_style(this.root)\n",
       "    this.root.attr('style', 'display: inline-block');\n",
       "\n",
       "    $(parent_element).append(this.root);\n",
       "\n",
       "    this._init_header(this);\n",
       "    this._init_canvas(this);\n",
       "    this._init_toolbar(this);\n",
       "\n",
       "    var fig = this;\n",
       "\n",
       "    this.waiting = false;\n",
       "\n",
       "    this.ws.onopen =  function () {\n",
       "            fig.send_message(\"supports_binary\", {value: fig.supports_binary});\n",
       "            fig.send_message(\"send_image_mode\", {});\n",
       "            fig.send_message(\"refresh\", {});\n",
       "        }\n",
       "\n",
       "    this.imageObj.onload = function() {\n",
       "            if (fig.image_mode == 'full') {\n",
       "                // Full images could contain transparency (where diff images\n",
       "                // almost always do), so we need to clear the canvas so that\n",
       "                // there is no ghosting.\n",
       "                fig.context.clearRect(0, 0, fig.canvas.width, fig.canvas.height);\n",
       "            }\n",
       "            fig.context.drawImage(fig.imageObj, 0, 0);\n",
       "        };\n",
       "\n",
       "    this.imageObj.onunload = function() {\n",
       "        this.ws.close();\n",
       "    }\n",
       "\n",
       "    this.ws.onmessage = this._make_on_message_function(this);\n",
       "\n",
       "    this.ondownload = ondownload;\n",
       "}\n",
       "\n",
       "mpl.figure.prototype._init_header = function() {\n",
       "    var titlebar = $(\n",
       "        '<div class=\"ui-dialog-titlebar ui-widget-header ui-corner-all ' +\n",
       "        'ui-helper-clearfix\"/>');\n",
       "    var titletext = $(\n",
       "        '<div class=\"ui-dialog-title\" style=\"width: 100%; ' +\n",
       "        'text-align: center; padding: 3px;\"/>');\n",
       "    titlebar.append(titletext)\n",
       "    this.root.append(titlebar);\n",
       "    this.header = titletext[0];\n",
       "}\n",
       "\n",
       "\n",
       "\n",
       "mpl.figure.prototype._canvas_extra_style = function(canvas_div) {\n",
       "\n",
       "}\n",
       "\n",
       "\n",
       "mpl.figure.prototype._root_extra_style = function(canvas_div) {\n",
       "\n",
       "}\n",
       "\n",
       "mpl.figure.prototype._init_canvas = function() {\n",
       "    var fig = this;\n",
       "\n",
       "    var canvas_div = $('<div/>');\n",
       "\n",
       "    canvas_div.attr('style', 'position: relative; clear: both; outline: 0');\n",
       "\n",
       "    function canvas_keyboard_event(event) {\n",
       "        return fig.key_event(event, event['data']);\n",
       "    }\n",
       "\n",
       "    canvas_div.keydown('key_press', canvas_keyboard_event);\n",
       "    canvas_div.keyup('key_release', canvas_keyboard_event);\n",
       "    this.canvas_div = canvas_div\n",
       "    this._canvas_extra_style(canvas_div)\n",
       "    this.root.append(canvas_div);\n",
       "\n",
       "    var canvas = $('<canvas/>');\n",
       "    canvas.addClass('mpl-canvas');\n",
       "    canvas.attr('style', \"left: 0; top: 0; z-index: 0; outline: 0\")\n",
       "\n",
       "    this.canvas = canvas[0];\n",
       "    this.context = canvas[0].getContext(\"2d\");\n",
       "\n",
       "    var rubberband = $('<canvas/>');\n",
       "    rubberband.attr('style', \"position: absolute; left: 0; top: 0; z-index: 1;\")\n",
       "\n",
       "    var pass_mouse_events = true;\n",
       "\n",
       "    canvas_div.resizable({\n",
       "        start: function(event, ui) {\n",
       "            pass_mouse_events = false;\n",
       "        },\n",
       "        resize: function(event, ui) {\n",
       "            fig.request_resize(ui.size.width, ui.size.height);\n",
       "        },\n",
       "        stop: function(event, ui) {\n",
       "            pass_mouse_events = true;\n",
       "            fig.request_resize(ui.size.width, ui.size.height);\n",
       "        },\n",
       "    });\n",
       "\n",
       "    function mouse_event_fn(event) {\n",
       "        if (pass_mouse_events)\n",
       "            return fig.mouse_event(event, event['data']);\n",
       "    }\n",
       "\n",
       "    rubberband.mousedown('button_press', mouse_event_fn);\n",
       "    rubberband.mouseup('button_release', mouse_event_fn);\n",
       "    // Throttle sequential mouse events to 1 every 20ms.\n",
       "    rubberband.mousemove('motion_notify', mouse_event_fn);\n",
       "\n",
       "    rubberband.mouseenter('figure_enter', mouse_event_fn);\n",
       "    rubberband.mouseleave('figure_leave', mouse_event_fn);\n",
       "\n",
       "    canvas_div.on(\"wheel\", function (event) {\n",
       "        event = event.originalEvent;\n",
       "        event['data'] = 'scroll'\n",
       "        if (event.deltaY < 0) {\n",
       "            event.step = 1;\n",
       "        } else {\n",
       "            event.step = -1;\n",
       "        }\n",
       "        mouse_event_fn(event);\n",
       "    });\n",
       "\n",
       "    canvas_div.append(canvas);\n",
       "    canvas_div.append(rubberband);\n",
       "\n",
       "    this.rubberband = rubberband;\n",
       "    this.rubberband_canvas = rubberband[0];\n",
       "    this.rubberband_context = rubberband[0].getContext(\"2d\");\n",
       "    this.rubberband_context.strokeStyle = \"#000000\";\n",
       "\n",
       "    this._resize_canvas = function(width, height) {\n",
       "        // Keep the size of the canvas, canvas container, and rubber band\n",
       "        // canvas in synch.\n",
       "        canvas_div.css('width', width)\n",
       "        canvas_div.css('height', height)\n",
       "\n",
       "        canvas.attr('width', width);\n",
       "        canvas.attr('height', height);\n",
       "\n",
       "        rubberband.attr('width', width);\n",
       "        rubberband.attr('height', height);\n",
       "    }\n",
       "\n",
       "    // Set the figure to an initial 600x600px, this will subsequently be updated\n",
       "    // upon first draw.\n",
       "    this._resize_canvas(600, 600);\n",
       "\n",
       "    // Disable right mouse context menu.\n",
       "    $(this.rubberband_canvas).bind(\"contextmenu\",function(e){\n",
       "        return false;\n",
       "    });\n",
       "\n",
       "    function set_focus () {\n",
       "        canvas.focus();\n",
       "        canvas_div.focus();\n",
       "    }\n",
       "\n",
       "    window.setTimeout(set_focus, 100);\n",
       "}\n",
       "\n",
       "mpl.figure.prototype._init_toolbar = function() {\n",
       "    var fig = this;\n",
       "\n",
       "    var nav_element = $('<div/>')\n",
       "    nav_element.attr('style', 'width: 100%');\n",
       "    this.root.append(nav_element);\n",
       "\n",
       "    // Define a callback function for later on.\n",
       "    function toolbar_event(event) {\n",
       "        return fig.toolbar_button_onclick(event['data']);\n",
       "    }\n",
       "    function toolbar_mouse_event(event) {\n",
       "        return fig.toolbar_button_onmouseover(event['data']);\n",
       "    }\n",
       "\n",
       "    for(var toolbar_ind in mpl.toolbar_items) {\n",
       "        var name = mpl.toolbar_items[toolbar_ind][0];\n",
       "        var tooltip = mpl.toolbar_items[toolbar_ind][1];\n",
       "        var image = mpl.toolbar_items[toolbar_ind][2];\n",
       "        var method_name = mpl.toolbar_items[toolbar_ind][3];\n",
       "\n",
       "        if (!name) {\n",
       "            // put a spacer in here.\n",
       "            continue;\n",
       "        }\n",
       "        var button = $('<button/>');\n",
       "        button.addClass('ui-button ui-widget ui-state-default ui-corner-all ' +\n",
       "                        'ui-button-icon-only');\n",
       "        button.attr('role', 'button');\n",
       "        button.attr('aria-disabled', 'false');\n",
       "        button.click(method_name, toolbar_event);\n",
       "        button.mouseover(tooltip, toolbar_mouse_event);\n",
       "\n",
       "        var icon_img = $('<span/>');\n",
       "        icon_img.addClass('ui-button-icon-primary ui-icon');\n",
       "        icon_img.addClass(image);\n",
       "        icon_img.addClass('ui-corner-all');\n",
       "\n",
       "        var tooltip_span = $('<span/>');\n",
       "        tooltip_span.addClass('ui-button-text');\n",
       "        tooltip_span.html(tooltip);\n",
       "\n",
       "        button.append(icon_img);\n",
       "        button.append(tooltip_span);\n",
       "\n",
       "        nav_element.append(button);\n",
       "    }\n",
       "\n",
       "    var fmt_picker_span = $('<span/>');\n",
       "\n",
       "    var fmt_picker = $('<select/>');\n",
       "    fmt_picker.addClass('mpl-toolbar-option ui-widget ui-widget-content');\n",
       "    fmt_picker_span.append(fmt_picker);\n",
       "    nav_element.append(fmt_picker_span);\n",
       "    this.format_dropdown = fmt_picker[0];\n",
       "\n",
       "    for (var ind in mpl.extensions) {\n",
       "        var fmt = mpl.extensions[ind];\n",
       "        var option = $(\n",
       "            '<option/>', {selected: fmt === mpl.default_extension}).html(fmt);\n",
       "        fmt_picker.append(option)\n",
       "    }\n",
       "\n",
       "    // Add hover states to the ui-buttons\n",
       "    $( \".ui-button\" ).hover(\n",
       "        function() { $(this).addClass(\"ui-state-hover\");},\n",
       "        function() { $(this).removeClass(\"ui-state-hover\");}\n",
       "    );\n",
       "\n",
       "    var status_bar = $('<span class=\"mpl-message\"/>');\n",
       "    nav_element.append(status_bar);\n",
       "    this.message = status_bar[0];\n",
       "}\n",
       "\n",
       "mpl.figure.prototype.request_resize = function(x_pixels, y_pixels) {\n",
       "    // Request matplotlib to resize the figure. Matplotlib will then trigger a resize in the client,\n",
       "    // which will in turn request a refresh of the image.\n",
       "    this.send_message('resize', {'width': x_pixels, 'height': y_pixels});\n",
       "}\n",
       "\n",
       "mpl.figure.prototype.send_message = function(type, properties) {\n",
       "    properties['type'] = type;\n",
       "    properties['figure_id'] = this.id;\n",
       "    this.ws.send(JSON.stringify(properties));\n",
       "}\n",
       "\n",
       "mpl.figure.prototype.send_draw_message = function() {\n",
       "    if (!this.waiting) {\n",
       "        this.waiting = true;\n",
       "        this.ws.send(JSON.stringify({type: \"draw\", figure_id: this.id}));\n",
       "    }\n",
       "}\n",
       "\n",
       "\n",
       "mpl.figure.prototype.handle_save = function(fig, msg) {\n",
       "    var format_dropdown = fig.format_dropdown;\n",
       "    var format = format_dropdown.options[format_dropdown.selectedIndex].value;\n",
       "    fig.ondownload(fig, format);\n",
       "}\n",
       "\n",
       "\n",
       "mpl.figure.prototype.handle_resize = function(fig, msg) {\n",
       "    var size = msg['size'];\n",
       "    if (size[0] != fig.canvas.width || size[1] != fig.canvas.height) {\n",
       "        fig._resize_canvas(size[0], size[1]);\n",
       "        fig.send_message(\"refresh\", {});\n",
       "    };\n",
       "}\n",
       "\n",
       "mpl.figure.prototype.handle_rubberband = function(fig, msg) {\n",
       "    var x0 = msg['x0'];\n",
       "    var y0 = fig.canvas.height - msg['y0'];\n",
       "    var x1 = msg['x1'];\n",
       "    var y1 = fig.canvas.height - msg['y1'];\n",
       "    x0 = Math.floor(x0) + 0.5;\n",
       "    y0 = Math.floor(y0) + 0.5;\n",
       "    x1 = Math.floor(x1) + 0.5;\n",
       "    y1 = Math.floor(y1) + 0.5;\n",
       "    var min_x = Math.min(x0, x1);\n",
       "    var min_y = Math.min(y0, y1);\n",
       "    var width = Math.abs(x1 - x0);\n",
       "    var height = Math.abs(y1 - y0);\n",
       "\n",
       "    fig.rubberband_context.clearRect(\n",
       "        0, 0, fig.canvas.width, fig.canvas.height);\n",
       "\n",
       "    fig.rubberband_context.strokeRect(min_x, min_y, width, height);\n",
       "}\n",
       "\n",
       "mpl.figure.prototype.handle_figure_label = function(fig, msg) {\n",
       "    // Updates the figure title.\n",
       "    fig.header.textContent = msg['label'];\n",
       "}\n",
       "\n",
       "mpl.figure.prototype.handle_cursor = function(fig, msg) {\n",
       "    var cursor = msg['cursor'];\n",
       "    switch(cursor)\n",
       "    {\n",
       "    case 0:\n",
       "        cursor = 'pointer';\n",
       "        break;\n",
       "    case 1:\n",
       "        cursor = 'default';\n",
       "        break;\n",
       "    case 2:\n",
       "        cursor = 'crosshair';\n",
       "        break;\n",
       "    case 3:\n",
       "        cursor = 'move';\n",
       "        break;\n",
       "    }\n",
       "    fig.rubberband_canvas.style.cursor = cursor;\n",
       "}\n",
       "\n",
       "mpl.figure.prototype.handle_message = function(fig, msg) {\n",
       "    fig.message.textContent = msg['message'];\n",
       "}\n",
       "\n",
       "mpl.figure.prototype.handle_draw = function(fig, msg) {\n",
       "    // Request the server to send over a new figure.\n",
       "    fig.send_draw_message();\n",
       "}\n",
       "\n",
       "mpl.figure.prototype.handle_image_mode = function(fig, msg) {\n",
       "    fig.image_mode = msg['mode'];\n",
       "}\n",
       "\n",
       "mpl.figure.prototype.updated_canvas_event = function() {\n",
       "    // Called whenever the canvas gets updated.\n",
       "    this.send_message(\"ack\", {});\n",
       "}\n",
       "\n",
       "// A function to construct a web socket function for onmessage handling.\n",
       "// Called in the figure constructor.\n",
       "mpl.figure.prototype._make_on_message_function = function(fig) {\n",
       "    return function socket_on_message(evt) {\n",
       "        if (evt.data instanceof Blob) {\n",
       "            /* FIXME: We get \"Resource interpreted as Image but\n",
       "             * transferred with MIME type text/plain:\" errors on\n",
       "             * Chrome.  But how to set the MIME type?  It doesn't seem\n",
       "             * to be part of the websocket stream */\n",
       "            evt.data.type = \"image/png\";\n",
       "\n",
       "            /* Free the memory for the previous frames */\n",
       "            if (fig.imageObj.src) {\n",
       "                (window.URL || window.webkitURL).revokeObjectURL(\n",
       "                    fig.imageObj.src);\n",
       "            }\n",
       "\n",
       "            fig.imageObj.src = (window.URL || window.webkitURL).createObjectURL(\n",
       "                evt.data);\n",
       "            fig.updated_canvas_event();\n",
       "            fig.waiting = false;\n",
       "            return;\n",
       "        }\n",
       "        else if (typeof evt.data === 'string' && evt.data.slice(0, 21) == \"data:image/png;base64\") {\n",
       "            fig.imageObj.src = evt.data;\n",
       "            fig.updated_canvas_event();\n",
       "            fig.waiting = false;\n",
       "            return;\n",
       "        }\n",
       "\n",
       "        var msg = JSON.parse(evt.data);\n",
       "        var msg_type = msg['type'];\n",
       "\n",
       "        // Call the  \"handle_{type}\" callback, which takes\n",
       "        // the figure and JSON message as its only arguments.\n",
       "        try {\n",
       "            var callback = fig[\"handle_\" + msg_type];\n",
       "        } catch (e) {\n",
       "            console.log(\"No handler for the '\" + msg_type + \"' message type: \", msg);\n",
       "            return;\n",
       "        }\n",
       "\n",
       "        if (callback) {\n",
       "            try {\n",
       "                // console.log(\"Handling '\" + msg_type + \"' message: \", msg);\n",
       "                callback(fig, msg);\n",
       "            } catch (e) {\n",
       "                console.log(\"Exception inside the 'handler_\" + msg_type + \"' callback:\", e, e.stack, msg);\n",
       "            }\n",
       "        }\n",
       "    };\n",
       "}\n",
       "\n",
       "// from http://stackoverflow.com/questions/1114465/getting-mouse-location-in-canvas\n",
       "mpl.findpos = function(e) {\n",
       "    //this section is from http://www.quirksmode.org/js/events_properties.html\n",
       "    var targ;\n",
       "    if (!e)\n",
       "        e = window.event;\n",
       "    if (e.target)\n",
       "        targ = e.target;\n",
       "    else if (e.srcElement)\n",
       "        targ = e.srcElement;\n",
       "    if (targ.nodeType == 3) // defeat Safari bug\n",
       "        targ = targ.parentNode;\n",
       "\n",
       "    // jQuery normalizes the pageX and pageY\n",
       "    // pageX,Y are the mouse positions relative to the document\n",
       "    // offset() returns the position of the element relative to the document\n",
       "    var x = e.pageX - $(targ).offset().left;\n",
       "    var y = e.pageY - $(targ).offset().top;\n",
       "\n",
       "    return {\"x\": x, \"y\": y};\n",
       "};\n",
       "\n",
       "/*\n",
       " * return a copy of an object with only non-object keys\n",
       " * we need this to avoid circular references\n",
       " * http://stackoverflow.com/a/24161582/3208463\n",
       " */\n",
       "function simpleKeys (original) {\n",
       "  return Object.keys(original).reduce(function (obj, key) {\n",
       "    if (typeof original[key] !== 'object')\n",
       "        obj[key] = original[key]\n",
       "    return obj;\n",
       "  }, {});\n",
       "}\n",
       "\n",
       "mpl.figure.prototype.mouse_event = function(event, name) {\n",
       "    var canvas_pos = mpl.findpos(event)\n",
       "\n",
       "    if (name === 'button_press')\n",
       "    {\n",
       "        this.canvas.focus();\n",
       "        this.canvas_div.focus();\n",
       "    }\n",
       "\n",
       "    var x = canvas_pos.x;\n",
       "    var y = canvas_pos.y;\n",
       "\n",
       "    this.send_message(name, {x: x, y: y, button: event.button,\n",
       "                             step: event.step,\n",
       "                             guiEvent: simpleKeys(event)});\n",
       "\n",
       "    /* This prevents the web browser from automatically changing to\n",
       "     * the text insertion cursor when the button is pressed.  We want\n",
       "     * to control all of the cursor setting manually through the\n",
       "     * 'cursor' event from matplotlib */\n",
       "    event.preventDefault();\n",
       "    return false;\n",
       "}\n",
       "\n",
       "mpl.figure.prototype._key_event_extra = function(event, name) {\n",
       "    // Handle any extra behaviour associated with a key event\n",
       "}\n",
       "\n",
       "mpl.figure.prototype.key_event = function(event, name) {\n",
       "\n",
       "    // Prevent repeat events\n",
       "    if (name == 'key_press')\n",
       "    {\n",
       "        if (event.which === this._key)\n",
       "            return;\n",
       "        else\n",
       "            this._key = event.which;\n",
       "    }\n",
       "    if (name == 'key_release')\n",
       "        this._key = null;\n",
       "\n",
       "    var value = '';\n",
       "    if (event.ctrlKey && event.which != 17)\n",
       "        value += \"ctrl+\";\n",
       "    if (event.altKey && event.which != 18)\n",
       "        value += \"alt+\";\n",
       "    if (event.shiftKey && event.which != 16)\n",
       "        value += \"shift+\";\n",
       "\n",
       "    value += 'k';\n",
       "    value += event.which.toString();\n",
       "\n",
       "    this._key_event_extra(event, name);\n",
       "\n",
       "    this.send_message(name, {key: value,\n",
       "                             guiEvent: simpleKeys(event)});\n",
       "    return false;\n",
       "}\n",
       "\n",
       "mpl.figure.prototype.toolbar_button_onclick = function(name) {\n",
       "    if (name == 'download') {\n",
       "        this.handle_save(this, null);\n",
       "    } else {\n",
       "        this.send_message(\"toolbar_button\", {name: name});\n",
       "    }\n",
       "};\n",
       "\n",
       "mpl.figure.prototype.toolbar_button_onmouseover = function(tooltip) {\n",
       "    this.message.textContent = tooltip;\n",
       "};\n",
       "mpl.toolbar_items = [[\"Home\", \"Reset original view\", \"fa fa-home icon-home\", \"home\"], [\"Back\", \"Back to  previous view\", \"fa fa-arrow-left icon-arrow-left\", \"back\"], [\"Forward\", \"Forward to next view\", \"fa fa-arrow-right icon-arrow-right\", \"forward\"], [\"\", \"\", \"\", \"\"], [\"Pan\", \"Pan axes with left mouse, zoom with right\", \"fa fa-arrows icon-move\", \"pan\"], [\"Zoom\", \"Zoom to rectangle\", \"fa fa-square-o icon-check-empty\", \"zoom\"], [\"\", \"\", \"\", \"\"], [\"Download\", \"Download plot\", \"fa fa-floppy-o icon-save\", \"download\"]];\n",
       "\n",
       "mpl.extensions = [\"eps\", \"jpeg\", \"pdf\", \"png\", \"ps\", \"raw\", \"svg\", \"tif\"];\n",
       "\n",
       "mpl.default_extension = \"png\";var comm_websocket_adapter = function(comm) {\n",
       "    // Create a \"websocket\"-like object which calls the given IPython comm\n",
       "    // object with the appropriate methods. Currently this is a non binary\n",
       "    // socket, so there is still some room for performance tuning.\n",
       "    var ws = {};\n",
       "\n",
       "    ws.close = function() {\n",
       "        comm.close()\n",
       "    };\n",
       "    ws.send = function(m) {\n",
       "        //console.log('sending', m);\n",
       "        comm.send(m);\n",
       "    };\n",
       "    // Register the callback with on_msg.\n",
       "    comm.on_msg(function(msg) {\n",
       "        //console.log('receiving', msg['content']['data'], msg);\n",
       "        // Pass the mpl event to the overriden (by mpl) onmessage function.\n",
       "        ws.onmessage(msg['content']['data'])\n",
       "    });\n",
       "    return ws;\n",
       "}\n",
       "\n",
       "mpl.mpl_figure_comm = function(comm, msg) {\n",
       "    // This is the function which gets called when the mpl process\n",
       "    // starts-up an IPython Comm through the \"matplotlib\" channel.\n",
       "\n",
       "    var id = msg.content.data.id;\n",
       "    // Get hold of the div created by the display call when the Comm\n",
       "    // socket was opened in Python.\n",
       "    var element = $(\"#\" + id);\n",
       "    var ws_proxy = comm_websocket_adapter(comm)\n",
       "\n",
       "    function ondownload(figure, format) {\n",
       "        window.open(figure.imageObj.src);\n",
       "    }\n",
       "\n",
       "    var fig = new mpl.figure(id, ws_proxy,\n",
       "                           ondownload,\n",
       "                           element.get(0));\n",
       "\n",
       "    // Call onopen now - mpl needs it, as it is assuming we've passed it a real\n",
       "    // web socket which is closed, not our websocket->open comm proxy.\n",
       "    ws_proxy.onopen();\n",
       "\n",
       "    fig.parent_element = element.get(0);\n",
       "    fig.cell_info = mpl.find_output_cell(\"<div id='\" + id + \"'></div>\");\n",
       "    if (!fig.cell_info) {\n",
       "        console.error(\"Failed to find cell for figure\", id, fig);\n",
       "        return;\n",
       "    }\n",
       "\n",
       "    var output_index = fig.cell_info[2]\n",
       "    var cell = fig.cell_info[0];\n",
       "\n",
       "};\n",
       "\n",
       "mpl.figure.prototype.handle_close = function(fig, msg) {\n",
       "    fig.root.unbind('remove')\n",
       "\n",
       "    // Update the output cell to use the data from the current canvas.\n",
       "    fig.push_to_output();\n",
       "    var dataURL = fig.canvas.toDataURL();\n",
       "    // Re-enable the keyboard manager in IPython - without this line, in FF,\n",
       "    // the notebook keyboard shortcuts fail.\n",
       "    IPython.keyboard_manager.enable()\n",
       "    $(fig.parent_element).html('<img src=\"' + dataURL + '\">');\n",
       "    fig.close_ws(fig, msg);\n",
       "}\n",
       "\n",
       "mpl.figure.prototype.close_ws = function(fig, msg){\n",
       "    fig.send_message('closing', msg);\n",
       "    // fig.ws.close()\n",
       "}\n",
       "\n",
       "mpl.figure.prototype.push_to_output = function(remove_interactive) {\n",
       "    // Turn the data on the canvas into data in the output cell.\n",
       "    var dataURL = this.canvas.toDataURL();\n",
       "    this.cell_info[1]['text/html'] = '<img src=\"' + dataURL + '\">';\n",
       "}\n",
       "\n",
       "mpl.figure.prototype.updated_canvas_event = function() {\n",
       "    // Tell IPython that the notebook contents must change.\n",
       "    IPython.notebook.set_dirty(true);\n",
       "    this.send_message(\"ack\", {});\n",
       "    var fig = this;\n",
       "    // Wait a second, then push the new image to the DOM so\n",
       "    // that it is saved nicely (might be nice to debounce this).\n",
       "    setTimeout(function () { fig.push_to_output() }, 1000);\n",
       "}\n",
       "\n",
       "mpl.figure.prototype._init_toolbar = function() {\n",
       "    var fig = this;\n",
       "\n",
       "    var nav_element = $('<div/>')\n",
       "    nav_element.attr('style', 'width: 100%');\n",
       "    this.root.append(nav_element);\n",
       "\n",
       "    // Define a callback function for later on.\n",
       "    function toolbar_event(event) {\n",
       "        return fig.toolbar_button_onclick(event['data']);\n",
       "    }\n",
       "    function toolbar_mouse_event(event) {\n",
       "        return fig.toolbar_button_onmouseover(event['data']);\n",
       "    }\n",
       "\n",
       "    for(var toolbar_ind in mpl.toolbar_items){\n",
       "        var name = mpl.toolbar_items[toolbar_ind][0];\n",
       "        var tooltip = mpl.toolbar_items[toolbar_ind][1];\n",
       "        var image = mpl.toolbar_items[toolbar_ind][2];\n",
       "        var method_name = mpl.toolbar_items[toolbar_ind][3];\n",
       "\n",
       "        if (!name) { continue; };\n",
       "\n",
       "        var button = $('<button class=\"btn btn-default\" href=\"#\" title=\"' + name + '\"><i class=\"fa ' + image + ' fa-lg\"></i></button>');\n",
       "        button.click(method_name, toolbar_event);\n",
       "        button.mouseover(tooltip, toolbar_mouse_event);\n",
       "        nav_element.append(button);\n",
       "    }\n",
       "\n",
       "    // Add the status bar.\n",
       "    var status_bar = $('<span class=\"mpl-message\" style=\"text-align:right; float: right;\"/>');\n",
       "    nav_element.append(status_bar);\n",
       "    this.message = status_bar[0];\n",
       "\n",
       "    // Add the close button to the window.\n",
       "    var buttongrp = $('<div class=\"btn-group inline pull-right\"></div>');\n",
       "    var button = $('<button class=\"btn btn-mini btn-primary\" href=\"#\" title=\"Stop Interaction\"><i class=\"fa fa-power-off icon-remove icon-large\"></i></button>');\n",
       "    button.click(function (evt) { fig.handle_close(fig, {}); } );\n",
       "    button.mouseover('Stop Interaction', toolbar_mouse_event);\n",
       "    buttongrp.append(button);\n",
       "    var titlebar = this.root.find($('.ui-dialog-titlebar'));\n",
       "    titlebar.prepend(buttongrp);\n",
       "}\n",
       "\n",
       "mpl.figure.prototype._root_extra_style = function(el){\n",
       "    var fig = this\n",
       "    el.on(\"remove\", function(){\n",
       "\tfig.close_ws(fig, {});\n",
       "    });\n",
       "}\n",
       "\n",
       "mpl.figure.prototype._canvas_extra_style = function(el){\n",
       "    // this is important to make the div 'focusable\n",
       "    el.attr('tabindex', 0)\n",
       "    // reach out to IPython and tell the keyboard manager to turn it's self\n",
       "    // off when our div gets focus\n",
       "\n",
       "    // location in version 3\n",
       "    if (IPython.notebook.keyboard_manager) {\n",
       "        IPython.notebook.keyboard_manager.register_events(el);\n",
       "    }\n",
       "    else {\n",
       "        // location in version 2\n",
       "        IPython.keyboard_manager.register_events(el);\n",
       "    }\n",
       "\n",
       "}\n",
       "\n",
       "mpl.figure.prototype._key_event_extra = function(event, name) {\n",
       "    var manager = IPython.notebook.keyboard_manager;\n",
       "    if (!manager)\n",
       "        manager = IPython.keyboard_manager;\n",
       "\n",
       "    // Check for shift+enter\n",
       "    if (event.shiftKey && event.which == 13) {\n",
       "        this.canvas_div.blur();\n",
       "        event.shiftKey = false;\n",
       "        // Send a \"J\" for go to next cell\n",
       "        event.which = 74;\n",
       "        event.keyCode = 74;\n",
       "        manager.command_mode();\n",
       "        manager.handle_keydown(event);\n",
       "    }\n",
       "}\n",
       "\n",
       "mpl.figure.prototype.handle_save = function(fig, msg) {\n",
       "    fig.ondownload(fig, null);\n",
       "}\n",
       "\n",
       "\n",
       "mpl.find_output_cell = function(html_output) {\n",
       "    // Return the cell and output element which can be found *uniquely* in the notebook.\n",
       "    // Note - this is a bit hacky, but it is done because the \"notebook_saving.Notebook\"\n",
       "    // IPython event is triggered only after the cells have been serialised, which for\n",
       "    // our purposes (turning an active figure into a static one), is too late.\n",
       "    var cells = IPython.notebook.get_cells();\n",
       "    var ncells = cells.length;\n",
       "    for (var i=0; i<ncells; i++) {\n",
       "        var cell = cells[i];\n",
       "        if (cell.cell_type === 'code'){\n",
       "            for (var j=0; j<cell.output_area.outputs.length; j++) {\n",
       "                var data = cell.output_area.outputs[j];\n",
       "                if (data.data) {\n",
       "                    // IPython >= 3 moved mimebundle to data attribute of output\n",
       "                    data = data.data;\n",
       "                }\n",
       "                if (data['text/html'] == html_output) {\n",
       "                    return [cell, data, j];\n",
       "                }\n",
       "            }\n",
       "        }\n",
       "    }\n",
       "}\n",
       "\n",
       "// Register the function which deals with the matplotlib target/channel.\n",
       "// The kernel may be null if the page has been refreshed.\n",
       "if (IPython.notebook.kernel != null) {\n",
       "    IPython.notebook.kernel.comm_manager.register_target('matplotlib', mpl.mpl_figure_comm);\n",
       "}\n"
      ],
      "text/plain": [
       "<IPython.core.display.Javascript object>"
      ]
     },
     "metadata": {},
     "output_type": "display_data"
    },
    {
     "data": {
      "text/html": [
       "<img src=\"data:image/png;base64,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\">"
      ],
      "text/plain": [
       "<IPython.core.display.HTML object>"
      ]
     },
     "metadata": {},
     "output_type": "display_data"
    }
   ],
   "source": [
    "barwidth = 0.75; \n",
    "fig, ax = plt.subplots(figsize=(9, 7));\n",
    "rects1 = ax.bar(0.5,RTanalysis.Stim1.mean(),barwidth,yerr=RTstderror[1],ecolor='k',edgecolor=sns.xkcd_rgb['green'],linewidth = 2, facecolor='none',error_kw=dict(lw=3),label='Congruent');\n",
    "rects2 = ax.bar(1.5,RTanalysis.Stim2.mean(),barwidth,color=sns.xkcd_rgb['green'],yerr=RTstderror[2],ecolor='k',error_kw=dict(lw=3),label='Incongruent');\n",
    "rects3 = ax.bar(2.5,RTanalysis.Stim3.mean(),barwidth,yerr=RTstderror[3],ecolor='k',edgecolor=(0.3,0.9,0.3),linewidth = 2, facecolor='none',error_kw=dict(lw=3));\n",
    "rects4 = ax.bar(3.5,RTanalysis.Stim4.mean(),barwidth,color=(0.3,0.9,0.3),yerr=RTstderror[4],ecolor='k',error_kw=dict(lw=3));\n",
    "sns.set(context='notebook', style='white', font='Myriad Pro', font_scale=2, color_codes=False, rc=None);\n",
    "ax.set_ylim(550,610);\n",
    "ax.set_xlim(0,5);\n",
    "ax.set_xticklabels(('Stim 1', 'Stim 2', 'Stim 3', 'Stim 4'));\n",
    "ax.set_xticks([0.5 + barwidth/2, 1.5 + barwidth/2,2.5 + barwidth/2,3.5 + barwidth/2]);\n",
    "ax.set_yticks(np.arange(550, 611, 10));\n",
    "plt.title('S-S Phase RT', fontsize=26,fontweight=\"bold\")\n",
    "plt.ylabel('Reaction Time (ms)', fontsize=24,fontweight=\"bold\")\n",
    "plt.xlabel('S1 Image', fontsize=24,fontweight=\"bold\")\n",
    "sns.despine();\n",
    "\n",
    "plt.show()"
   ]
  },
  {
   "cell_type": "code",
   "execution_count": 87,
   "metadata": {},
   "outputs": [
    {
     "data": {
      "application/javascript": [
       "/* Put everything inside the global mpl namespace */\n",
       "window.mpl = {};\n",
       "\n",
       "mpl.get_websocket_type = function() {\n",
       "    if (typeof(WebSocket) !== 'undefined') {\n",
       "        return WebSocket;\n",
       "    } else if (typeof(MozWebSocket) !== 'undefined') {\n",
       "        return MozWebSocket;\n",
       "    } else {\n",
       "        alert('Your browser does not have WebSocket support.' +\n",
       "              'Please try Chrome, Safari or Firefox ≥ 6. ' +\n",
       "              'Firefox 4 and 5 are also supported but you ' +\n",
       "              'have to enable WebSockets in about:config.');\n",
       "    };\n",
       "}\n",
       "\n",
       "mpl.figure = function(figure_id, websocket, ondownload, parent_element) {\n",
       "    this.id = figure_id;\n",
       "\n",
       "    this.ws = websocket;\n",
       "\n",
       "    this.supports_binary = (this.ws.binaryType != undefined);\n",
       "\n",
       "    if (!this.supports_binary) {\n",
       "        var warnings = document.getElementById(\"mpl-warnings\");\n",
       "        if (warnings) {\n",
       "            warnings.style.display = 'block';\n",
       "            warnings.textContent = (\n",
       "                \"This browser does not support binary websocket messages. \" +\n",
       "                    \"Performance may be slow.\");\n",
       "        }\n",
       "    }\n",
       "\n",
       "    this.imageObj = new Image();\n",
       "\n",
       "    this.context = undefined;\n",
       "    this.message = undefined;\n",
       "    this.canvas = undefined;\n",
       "    this.rubberband_canvas = undefined;\n",
       "    this.rubberband_context = undefined;\n",
       "    this.format_dropdown = undefined;\n",
       "\n",
       "    this.image_mode = 'full';\n",
       "\n",
       "    this.root = $('<div/>');\n",
       "    this._root_extra_style(this.root)\n",
       "    this.root.attr('style', 'display: inline-block');\n",
       "\n",
       "    $(parent_element).append(this.root);\n",
       "\n",
       "    this._init_header(this);\n",
       "    this._init_canvas(this);\n",
       "    this._init_toolbar(this);\n",
       "\n",
       "    var fig = this;\n",
       "\n",
       "    this.waiting = false;\n",
       "\n",
       "    this.ws.onopen =  function () {\n",
       "            fig.send_message(\"supports_binary\", {value: fig.supports_binary});\n",
       "            fig.send_message(\"send_image_mode\", {});\n",
       "            fig.send_message(\"refresh\", {});\n",
       "        }\n",
       "\n",
       "    this.imageObj.onload = function() {\n",
       "            if (fig.image_mode == 'full') {\n",
       "                // Full images could contain transparency (where diff images\n",
       "                // almost always do), so we need to clear the canvas so that\n",
       "                // there is no ghosting.\n",
       "                fig.context.clearRect(0, 0, fig.canvas.width, fig.canvas.height);\n",
       "            }\n",
       "            fig.context.drawImage(fig.imageObj, 0, 0);\n",
       "        };\n",
       "\n",
       "    this.imageObj.onunload = function() {\n",
       "        this.ws.close();\n",
       "    }\n",
       "\n",
       "    this.ws.onmessage = this._make_on_message_function(this);\n",
       "\n",
       "    this.ondownload = ondownload;\n",
       "}\n",
       "\n",
       "mpl.figure.prototype._init_header = function() {\n",
       "    var titlebar = $(\n",
       "        '<div class=\"ui-dialog-titlebar ui-widget-header ui-corner-all ' +\n",
       "        'ui-helper-clearfix\"/>');\n",
       "    var titletext = $(\n",
       "        '<div class=\"ui-dialog-title\" style=\"width: 100%; ' +\n",
       "        'text-align: center; padding: 3px;\"/>');\n",
       "    titlebar.append(titletext)\n",
       "    this.root.append(titlebar);\n",
       "    this.header = titletext[0];\n",
       "}\n",
       "\n",
       "\n",
       "\n",
       "mpl.figure.prototype._canvas_extra_style = function(canvas_div) {\n",
       "\n",
       "}\n",
       "\n",
       "\n",
       "mpl.figure.prototype._root_extra_style = function(canvas_div) {\n",
       "\n",
       "}\n",
       "\n",
       "mpl.figure.prototype._init_canvas = function() {\n",
       "    var fig = this;\n",
       "\n",
       "    var canvas_div = $('<div/>');\n",
       "\n",
       "    canvas_div.attr('style', 'position: relative; clear: both; outline: 0');\n",
       "\n",
       "    function canvas_keyboard_event(event) {\n",
       "        return fig.key_event(event, event['data']);\n",
       "    }\n",
       "\n",
       "    canvas_div.keydown('key_press', canvas_keyboard_event);\n",
       "    canvas_div.keyup('key_release', canvas_keyboard_event);\n",
       "    this.canvas_div = canvas_div\n",
       "    this._canvas_extra_style(canvas_div)\n",
       "    this.root.append(canvas_div);\n",
       "\n",
       "    var canvas = $('<canvas/>');\n",
       "    canvas.addClass('mpl-canvas');\n",
       "    canvas.attr('style', \"left: 0; top: 0; z-index: 0; outline: 0\")\n",
       "\n",
       "    this.canvas = canvas[0];\n",
       "    this.context = canvas[0].getContext(\"2d\");\n",
       "\n",
       "    var rubberband = $('<canvas/>');\n",
       "    rubberband.attr('style', \"position: absolute; left: 0; top: 0; z-index: 1;\")\n",
       "\n",
       "    var pass_mouse_events = true;\n",
       "\n",
       "    canvas_div.resizable({\n",
       "        start: function(event, ui) {\n",
       "            pass_mouse_events = false;\n",
       "        },\n",
       "        resize: function(event, ui) {\n",
       "            fig.request_resize(ui.size.width, ui.size.height);\n",
       "        },\n",
       "        stop: function(event, ui) {\n",
       "            pass_mouse_events = true;\n",
       "            fig.request_resize(ui.size.width, ui.size.height);\n",
       "        },\n",
       "    });\n",
       "\n",
       "    function mouse_event_fn(event) {\n",
       "        if (pass_mouse_events)\n",
       "            return fig.mouse_event(event, event['data']);\n",
       "    }\n",
       "\n",
       "    rubberband.mousedown('button_press', mouse_event_fn);\n",
       "    rubberband.mouseup('button_release', mouse_event_fn);\n",
       "    // Throttle sequential mouse events to 1 every 20ms.\n",
       "    rubberband.mousemove('motion_notify', mouse_event_fn);\n",
       "\n",
       "    rubberband.mouseenter('figure_enter', mouse_event_fn);\n",
       "    rubberband.mouseleave('figure_leave', mouse_event_fn);\n",
       "\n",
       "    canvas_div.on(\"wheel\", function (event) {\n",
       "        event = event.originalEvent;\n",
       "        event['data'] = 'scroll'\n",
       "        if (event.deltaY < 0) {\n",
       "            event.step = 1;\n",
       "        } else {\n",
       "            event.step = -1;\n",
       "        }\n",
       "        mouse_event_fn(event);\n",
       "    });\n",
       "\n",
       "    canvas_div.append(canvas);\n",
       "    canvas_div.append(rubberband);\n",
       "\n",
       "    this.rubberband = rubberband;\n",
       "    this.rubberband_canvas = rubberband[0];\n",
       "    this.rubberband_context = rubberband[0].getContext(\"2d\");\n",
       "    this.rubberband_context.strokeStyle = \"#000000\";\n",
       "\n",
       "    this._resize_canvas = function(width, height) {\n",
       "        // Keep the size of the canvas, canvas container, and rubber band\n",
       "        // canvas in synch.\n",
       "        canvas_div.css('width', width)\n",
       "        canvas_div.css('height', height)\n",
       "\n",
       "        canvas.attr('width', width);\n",
       "        canvas.attr('height', height);\n",
       "\n",
       "        rubberband.attr('width', width);\n",
       "        rubberband.attr('height', height);\n",
       "    }\n",
       "\n",
       "    // Set the figure to an initial 600x600px, this will subsequently be updated\n",
       "    // upon first draw.\n",
       "    this._resize_canvas(600, 600);\n",
       "\n",
       "    // Disable right mouse context menu.\n",
       "    $(this.rubberband_canvas).bind(\"contextmenu\",function(e){\n",
       "        return false;\n",
       "    });\n",
       "\n",
       "    function set_focus () {\n",
       "        canvas.focus();\n",
       "        canvas_div.focus();\n",
       "    }\n",
       "\n",
       "    window.setTimeout(set_focus, 100);\n",
       "}\n",
       "\n",
       "mpl.figure.prototype._init_toolbar = function() {\n",
       "    var fig = this;\n",
       "\n",
       "    var nav_element = $('<div/>')\n",
       "    nav_element.attr('style', 'width: 100%');\n",
       "    this.root.append(nav_element);\n",
       "\n",
       "    // Define a callback function for later on.\n",
       "    function toolbar_event(event) {\n",
       "        return fig.toolbar_button_onclick(event['data']);\n",
       "    }\n",
       "    function toolbar_mouse_event(event) {\n",
       "        return fig.toolbar_button_onmouseover(event['data']);\n",
       "    }\n",
       "\n",
       "    for(var toolbar_ind in mpl.toolbar_items) {\n",
       "        var name = mpl.toolbar_items[toolbar_ind][0];\n",
       "        var tooltip = mpl.toolbar_items[toolbar_ind][1];\n",
       "        var image = mpl.toolbar_items[toolbar_ind][2];\n",
       "        var method_name = mpl.toolbar_items[toolbar_ind][3];\n",
       "\n",
       "        if (!name) {\n",
       "            // put a spacer in here.\n",
       "            continue;\n",
       "        }\n",
       "        var button = $('<button/>');\n",
       "        button.addClass('ui-button ui-widget ui-state-default ui-corner-all ' +\n",
       "                        'ui-button-icon-only');\n",
       "        button.attr('role', 'button');\n",
       "        button.attr('aria-disabled', 'false');\n",
       "        button.click(method_name, toolbar_event);\n",
       "        button.mouseover(tooltip, toolbar_mouse_event);\n",
       "\n",
       "        var icon_img = $('<span/>');\n",
       "        icon_img.addClass('ui-button-icon-primary ui-icon');\n",
       "        icon_img.addClass(image);\n",
       "        icon_img.addClass('ui-corner-all');\n",
       "\n",
       "        var tooltip_span = $('<span/>');\n",
       "        tooltip_span.addClass('ui-button-text');\n",
       "        tooltip_span.html(tooltip);\n",
       "\n",
       "        button.append(icon_img);\n",
       "        button.append(tooltip_span);\n",
       "\n",
       "        nav_element.append(button);\n",
       "    }\n",
       "\n",
       "    var fmt_picker_span = $('<span/>');\n",
       "\n",
       "    var fmt_picker = $('<select/>');\n",
       "    fmt_picker.addClass('mpl-toolbar-option ui-widget ui-widget-content');\n",
       "    fmt_picker_span.append(fmt_picker);\n",
       "    nav_element.append(fmt_picker_span);\n",
       "    this.format_dropdown = fmt_picker[0];\n",
       "\n",
       "    for (var ind in mpl.extensions) {\n",
       "        var fmt = mpl.extensions[ind];\n",
       "        var option = $(\n",
       "            '<option/>', {selected: fmt === mpl.default_extension}).html(fmt);\n",
       "        fmt_picker.append(option)\n",
       "    }\n",
       "\n",
       "    // Add hover states to the ui-buttons\n",
       "    $( \".ui-button\" ).hover(\n",
       "        function() { $(this).addClass(\"ui-state-hover\");},\n",
       "        function() { $(this).removeClass(\"ui-state-hover\");}\n",
       "    );\n",
       "\n",
       "    var status_bar = $('<span class=\"mpl-message\"/>');\n",
       "    nav_element.append(status_bar);\n",
       "    this.message = status_bar[0];\n",
       "}\n",
       "\n",
       "mpl.figure.prototype.request_resize = function(x_pixels, y_pixels) {\n",
       "    // Request matplotlib to resize the figure. Matplotlib will then trigger a resize in the client,\n",
       "    // which will in turn request a refresh of the image.\n",
       "    this.send_message('resize', {'width': x_pixels, 'height': y_pixels});\n",
       "}\n",
       "\n",
       "mpl.figure.prototype.send_message = function(type, properties) {\n",
       "    properties['type'] = type;\n",
       "    properties['figure_id'] = this.id;\n",
       "    this.ws.send(JSON.stringify(properties));\n",
       "}\n",
       "\n",
       "mpl.figure.prototype.send_draw_message = function() {\n",
       "    if (!this.waiting) {\n",
       "        this.waiting = true;\n",
       "        this.ws.send(JSON.stringify({type: \"draw\", figure_id: this.id}));\n",
       "    }\n",
       "}\n",
       "\n",
       "\n",
       "mpl.figure.prototype.handle_save = function(fig, msg) {\n",
       "    var format_dropdown = fig.format_dropdown;\n",
       "    var format = format_dropdown.options[format_dropdown.selectedIndex].value;\n",
       "    fig.ondownload(fig, format);\n",
       "}\n",
       "\n",
       "\n",
       "mpl.figure.prototype.handle_resize = function(fig, msg) {\n",
       "    var size = msg['size'];\n",
       "    if (size[0] != fig.canvas.width || size[1] != fig.canvas.height) {\n",
       "        fig._resize_canvas(size[0], size[1]);\n",
       "        fig.send_message(\"refresh\", {});\n",
       "    };\n",
       "}\n",
       "\n",
       "mpl.figure.prototype.handle_rubberband = function(fig, msg) {\n",
       "    var x0 = msg['x0'];\n",
       "    var y0 = fig.canvas.height - msg['y0'];\n",
       "    var x1 = msg['x1'];\n",
       "    var y1 = fig.canvas.height - msg['y1'];\n",
       "    x0 = Math.floor(x0) + 0.5;\n",
       "    y0 = Math.floor(y0) + 0.5;\n",
       "    x1 = Math.floor(x1) + 0.5;\n",
       "    y1 = Math.floor(y1) + 0.5;\n",
       "    var min_x = Math.min(x0, x1);\n",
       "    var min_y = Math.min(y0, y1);\n",
       "    var width = Math.abs(x1 - x0);\n",
       "    var height = Math.abs(y1 - y0);\n",
       "\n",
       "    fig.rubberband_context.clearRect(\n",
       "        0, 0, fig.canvas.width, fig.canvas.height);\n",
       "\n",
       "    fig.rubberband_context.strokeRect(min_x, min_y, width, height);\n",
       "}\n",
       "\n",
       "mpl.figure.prototype.handle_figure_label = function(fig, msg) {\n",
       "    // Updates the figure title.\n",
       "    fig.header.textContent = msg['label'];\n",
       "}\n",
       "\n",
       "mpl.figure.prototype.handle_cursor = function(fig, msg) {\n",
       "    var cursor = msg['cursor'];\n",
       "    switch(cursor)\n",
       "    {\n",
       "    case 0:\n",
       "        cursor = 'pointer';\n",
       "        break;\n",
       "    case 1:\n",
       "        cursor = 'default';\n",
       "        break;\n",
       "    case 2:\n",
       "        cursor = 'crosshair';\n",
       "        break;\n",
       "    case 3:\n",
       "        cursor = 'move';\n",
       "        break;\n",
       "    }\n",
       "    fig.rubberband_canvas.style.cursor = cursor;\n",
       "}\n",
       "\n",
       "mpl.figure.prototype.handle_message = function(fig, msg) {\n",
       "    fig.message.textContent = msg['message'];\n",
       "}\n",
       "\n",
       "mpl.figure.prototype.handle_draw = function(fig, msg) {\n",
       "    // Request the server to send over a new figure.\n",
       "    fig.send_draw_message();\n",
       "}\n",
       "\n",
       "mpl.figure.prototype.handle_image_mode = function(fig, msg) {\n",
       "    fig.image_mode = msg['mode'];\n",
       "}\n",
       "\n",
       "mpl.figure.prototype.updated_canvas_event = function() {\n",
       "    // Called whenever the canvas gets updated.\n",
       "    this.send_message(\"ack\", {});\n",
       "}\n",
       "\n",
       "// A function to construct a web socket function for onmessage handling.\n",
       "// Called in the figure constructor.\n",
       "mpl.figure.prototype._make_on_message_function = function(fig) {\n",
       "    return function socket_on_message(evt) {\n",
       "        if (evt.data instanceof Blob) {\n",
       "            /* FIXME: We get \"Resource interpreted as Image but\n",
       "             * transferred with MIME type text/plain:\" errors on\n",
       "             * Chrome.  But how to set the MIME type?  It doesn't seem\n",
       "             * to be part of the websocket stream */\n",
       "            evt.data.type = \"image/png\";\n",
       "\n",
       "            /* Free the memory for the previous frames */\n",
       "            if (fig.imageObj.src) {\n",
       "                (window.URL || window.webkitURL).revokeObjectURL(\n",
       "                    fig.imageObj.src);\n",
       "            }\n",
       "\n",
       "            fig.imageObj.src = (window.URL || window.webkitURL).createObjectURL(\n",
       "                evt.data);\n",
       "            fig.updated_canvas_event();\n",
       "            fig.waiting = false;\n",
       "            return;\n",
       "        }\n",
       "        else if (typeof evt.data === 'string' && evt.data.slice(0, 21) == \"data:image/png;base64\") {\n",
       "            fig.imageObj.src = evt.data;\n",
       "            fig.updated_canvas_event();\n",
       "            fig.waiting = false;\n",
       "            return;\n",
       "        }\n",
       "\n",
       "        var msg = JSON.parse(evt.data);\n",
       "        var msg_type = msg['type'];\n",
       "\n",
       "        // Call the  \"handle_{type}\" callback, which takes\n",
       "        // the figure and JSON message as its only arguments.\n",
       "        try {\n",
       "            var callback = fig[\"handle_\" + msg_type];\n",
       "        } catch (e) {\n",
       "            console.log(\"No handler for the '\" + msg_type + \"' message type: \", msg);\n",
       "            return;\n",
       "        }\n",
       "\n",
       "        if (callback) {\n",
       "            try {\n",
       "                // console.log(\"Handling '\" + msg_type + \"' message: \", msg);\n",
       "                callback(fig, msg);\n",
       "            } catch (e) {\n",
       "                console.log(\"Exception inside the 'handler_\" + msg_type + \"' callback:\", e, e.stack, msg);\n",
       "            }\n",
       "        }\n",
       "    };\n",
       "}\n",
       "\n",
       "// from http://stackoverflow.com/questions/1114465/getting-mouse-location-in-canvas\n",
       "mpl.findpos = function(e) {\n",
       "    //this section is from http://www.quirksmode.org/js/events_properties.html\n",
       "    var targ;\n",
       "    if (!e)\n",
       "        e = window.event;\n",
       "    if (e.target)\n",
       "        targ = e.target;\n",
       "    else if (e.srcElement)\n",
       "        targ = e.srcElement;\n",
       "    if (targ.nodeType == 3) // defeat Safari bug\n",
       "        targ = targ.parentNode;\n",
       "\n",
       "    // jQuery normalizes the pageX and pageY\n",
       "    // pageX,Y are the mouse positions relative to the document\n",
       "    // offset() returns the position of the element relative to the document\n",
       "    var x = e.pageX - $(targ).offset().left;\n",
       "    var y = e.pageY - $(targ).offset().top;\n",
       "\n",
       "    return {\"x\": x, \"y\": y};\n",
       "};\n",
       "\n",
       "/*\n",
       " * return a copy of an object with only non-object keys\n",
       " * we need this to avoid circular references\n",
       " * http://stackoverflow.com/a/24161582/3208463\n",
       " */\n",
       "function simpleKeys (original) {\n",
       "  return Object.keys(original).reduce(function (obj, key) {\n",
       "    if (typeof original[key] !== 'object')\n",
       "        obj[key] = original[key]\n",
       "    return obj;\n",
       "  }, {});\n",
       "}\n",
       "\n",
       "mpl.figure.prototype.mouse_event = function(event, name) {\n",
       "    var canvas_pos = mpl.findpos(event)\n",
       "\n",
       "    if (name === 'button_press')\n",
       "    {\n",
       "        this.canvas.focus();\n",
       "        this.canvas_div.focus();\n",
       "    }\n",
       "\n",
       "    var x = canvas_pos.x;\n",
       "    var y = canvas_pos.y;\n",
       "\n",
       "    this.send_message(name, {x: x, y: y, button: event.button,\n",
       "                             step: event.step,\n",
       "                             guiEvent: simpleKeys(event)});\n",
       "\n",
       "    /* This prevents the web browser from automatically changing to\n",
       "     * the text insertion cursor when the button is pressed.  We want\n",
       "     * to control all of the cursor setting manually through the\n",
       "     * 'cursor' event from matplotlib */\n",
       "    event.preventDefault();\n",
       "    return false;\n",
       "}\n",
       "\n",
       "mpl.figure.prototype._key_event_extra = function(event, name) {\n",
       "    // Handle any extra behaviour associated with a key event\n",
       "}\n",
       "\n",
       "mpl.figure.prototype.key_event = function(event, name) {\n",
       "\n",
       "    // Prevent repeat events\n",
       "    if (name == 'key_press')\n",
       "    {\n",
       "        if (event.which === this._key)\n",
       "            return;\n",
       "        else\n",
       "            this._key = event.which;\n",
       "    }\n",
       "    if (name == 'key_release')\n",
       "        this._key = null;\n",
       "\n",
       "    var value = '';\n",
       "    if (event.ctrlKey && event.which != 17)\n",
       "        value += \"ctrl+\";\n",
       "    if (event.altKey && event.which != 18)\n",
       "        value += \"alt+\";\n",
       "    if (event.shiftKey && event.which != 16)\n",
       "        value += \"shift+\";\n",
       "\n",
       "    value += 'k';\n",
       "    value += event.which.toString();\n",
       "\n",
       "    this._key_event_extra(event, name);\n",
       "\n",
       "    this.send_message(name, {key: value,\n",
       "                             guiEvent: simpleKeys(event)});\n",
       "    return false;\n",
       "}\n",
       "\n",
       "mpl.figure.prototype.toolbar_button_onclick = function(name) {\n",
       "    if (name == 'download') {\n",
       "        this.handle_save(this, null);\n",
       "    } else {\n",
       "        this.send_message(\"toolbar_button\", {name: name});\n",
       "    }\n",
       "};\n",
       "\n",
       "mpl.figure.prototype.toolbar_button_onmouseover = function(tooltip) {\n",
       "    this.message.textContent = tooltip;\n",
       "};\n",
       "mpl.toolbar_items = [[\"Home\", \"Reset original view\", \"fa fa-home icon-home\", \"home\"], [\"Back\", \"Back to  previous view\", \"fa fa-arrow-left icon-arrow-left\", \"back\"], [\"Forward\", \"Forward to next view\", \"fa fa-arrow-right icon-arrow-right\", \"forward\"], [\"\", \"\", \"\", \"\"], [\"Pan\", \"Pan axes with left mouse, zoom with right\", \"fa fa-arrows icon-move\", \"pan\"], [\"Zoom\", \"Zoom to rectangle\", \"fa fa-square-o icon-check-empty\", \"zoom\"], [\"\", \"\", \"\", \"\"], [\"Download\", \"Download plot\", \"fa fa-floppy-o icon-save\", \"download\"]];\n",
       "\n",
       "mpl.extensions = [\"eps\", \"jpeg\", \"pdf\", \"png\", \"ps\", \"raw\", \"svg\", \"tif\"];\n",
       "\n",
       "mpl.default_extension = \"png\";var comm_websocket_adapter = function(comm) {\n",
       "    // Create a \"websocket\"-like object which calls the given IPython comm\n",
       "    // object with the appropriate methods. Currently this is a non binary\n",
       "    // socket, so there is still some room for performance tuning.\n",
       "    var ws = {};\n",
       "\n",
       "    ws.close = function() {\n",
       "        comm.close()\n",
       "    };\n",
       "    ws.send = function(m) {\n",
       "        //console.log('sending', m);\n",
       "        comm.send(m);\n",
       "    };\n",
       "    // Register the callback with on_msg.\n",
       "    comm.on_msg(function(msg) {\n",
       "        //console.log('receiving', msg['content']['data'], msg);\n",
       "        // Pass the mpl event to the overriden (by mpl) onmessage function.\n",
       "        ws.onmessage(msg['content']['data'])\n",
       "    });\n",
       "    return ws;\n",
       "}\n",
       "\n",
       "mpl.mpl_figure_comm = function(comm, msg) {\n",
       "    // This is the function which gets called when the mpl process\n",
       "    // starts-up an IPython Comm through the \"matplotlib\" channel.\n",
       "\n",
       "    var id = msg.content.data.id;\n",
       "    // Get hold of the div created by the display call when the Comm\n",
       "    // socket was opened in Python.\n",
       "    var element = $(\"#\" + id);\n",
       "    var ws_proxy = comm_websocket_adapter(comm)\n",
       "\n",
       "    function ondownload(figure, format) {\n",
       "        window.open(figure.imageObj.src);\n",
       "    }\n",
       "\n",
       "    var fig = new mpl.figure(id, ws_proxy,\n",
       "                           ondownload,\n",
       "                           element.get(0));\n",
       "\n",
       "    // Call onopen now - mpl needs it, as it is assuming we've passed it a real\n",
       "    // web socket which is closed, not our websocket->open comm proxy.\n",
       "    ws_proxy.onopen();\n",
       "\n",
       "    fig.parent_element = element.get(0);\n",
       "    fig.cell_info = mpl.find_output_cell(\"<div id='\" + id + \"'></div>\");\n",
       "    if (!fig.cell_info) {\n",
       "        console.error(\"Failed to find cell for figure\", id, fig);\n",
       "        return;\n",
       "    }\n",
       "\n",
       "    var output_index = fig.cell_info[2]\n",
       "    var cell = fig.cell_info[0];\n",
       "\n",
       "};\n",
       "\n",
       "mpl.figure.prototype.handle_close = function(fig, msg) {\n",
       "    fig.root.unbind('remove')\n",
       "\n",
       "    // Update the output cell to use the data from the current canvas.\n",
       "    fig.push_to_output();\n",
       "    var dataURL = fig.canvas.toDataURL();\n",
       "    // Re-enable the keyboard manager in IPython - without this line, in FF,\n",
       "    // the notebook keyboard shortcuts fail.\n",
       "    IPython.keyboard_manager.enable()\n",
       "    $(fig.parent_element).html('<img src=\"' + dataURL + '\">');\n",
       "    fig.close_ws(fig, msg);\n",
       "}\n",
       "\n",
       "mpl.figure.prototype.close_ws = function(fig, msg){\n",
       "    fig.send_message('closing', msg);\n",
       "    // fig.ws.close()\n",
       "}\n",
       "\n",
       "mpl.figure.prototype.push_to_output = function(remove_interactive) {\n",
       "    // Turn the data on the canvas into data in the output cell.\n",
       "    var dataURL = this.canvas.toDataURL();\n",
       "    this.cell_info[1]['text/html'] = '<img src=\"' + dataURL + '\">';\n",
       "}\n",
       "\n",
       "mpl.figure.prototype.updated_canvas_event = function() {\n",
       "    // Tell IPython that the notebook contents must change.\n",
       "    IPython.notebook.set_dirty(true);\n",
       "    this.send_message(\"ack\", {});\n",
       "    var fig = this;\n",
       "    // Wait a second, then push the new image to the DOM so\n",
       "    // that it is saved nicely (might be nice to debounce this).\n",
       "    setTimeout(function () { fig.push_to_output() }, 1000);\n",
       "}\n",
       "\n",
       "mpl.figure.prototype._init_toolbar = function() {\n",
       "    var fig = this;\n",
       "\n",
       "    var nav_element = $('<div/>')\n",
       "    nav_element.attr('style', 'width: 100%');\n",
       "    this.root.append(nav_element);\n",
       "\n",
       "    // Define a callback function for later on.\n",
       "    function toolbar_event(event) {\n",
       "        return fig.toolbar_button_onclick(event['data']);\n",
       "    }\n",
       "    function toolbar_mouse_event(event) {\n",
       "        return fig.toolbar_button_onmouseover(event['data']);\n",
       "    }\n",
       "\n",
       "    for(var toolbar_ind in mpl.toolbar_items){\n",
       "        var name = mpl.toolbar_items[toolbar_ind][0];\n",
       "        var tooltip = mpl.toolbar_items[toolbar_ind][1];\n",
       "        var image = mpl.toolbar_items[toolbar_ind][2];\n",
       "        var method_name = mpl.toolbar_items[toolbar_ind][3];\n",
       "\n",
       "        if (!name) { continue; };\n",
       "\n",
       "        var button = $('<button class=\"btn btn-default\" href=\"#\" title=\"' + name + '\"><i class=\"fa ' + image + ' fa-lg\"></i></button>');\n",
       "        button.click(method_name, toolbar_event);\n",
       "        button.mouseover(tooltip, toolbar_mouse_event);\n",
       "        nav_element.append(button);\n",
       "    }\n",
       "\n",
       "    // Add the status bar.\n",
       "    var status_bar = $('<span class=\"mpl-message\" style=\"text-align:right; float: right;\"/>');\n",
       "    nav_element.append(status_bar);\n",
       "    this.message = status_bar[0];\n",
       "\n",
       "    // Add the close button to the window.\n",
       "    var buttongrp = $('<div class=\"btn-group inline pull-right\"></div>');\n",
       "    var button = $('<button class=\"btn btn-mini btn-primary\" href=\"#\" title=\"Stop Interaction\"><i class=\"fa fa-power-off icon-remove icon-large\"></i></button>');\n",
       "    button.click(function (evt) { fig.handle_close(fig, {}); } );\n",
       "    button.mouseover('Stop Interaction', toolbar_mouse_event);\n",
       "    buttongrp.append(button);\n",
       "    var titlebar = this.root.find($('.ui-dialog-titlebar'));\n",
       "    titlebar.prepend(buttongrp);\n",
       "}\n",
       "\n",
       "mpl.figure.prototype._root_extra_style = function(el){\n",
       "    var fig = this\n",
       "    el.on(\"remove\", function(){\n",
       "\tfig.close_ws(fig, {});\n",
       "    });\n",
       "}\n",
       "\n",
       "mpl.figure.prototype._canvas_extra_style = function(el){\n",
       "    // this is important to make the div 'focusable\n",
       "    el.attr('tabindex', 0)\n",
       "    // reach out to IPython and tell the keyboard manager to turn it's self\n",
       "    // off when our div gets focus\n",
       "\n",
       "    // location in version 3\n",
       "    if (IPython.notebook.keyboard_manager) {\n",
       "        IPython.notebook.keyboard_manager.register_events(el);\n",
       "    }\n",
       "    else {\n",
       "        // location in version 2\n",
       "        IPython.keyboard_manager.register_events(el);\n",
       "    }\n",
       "\n",
       "}\n",
       "\n",
       "mpl.figure.prototype._key_event_extra = function(event, name) {\n",
       "    var manager = IPython.notebook.keyboard_manager;\n",
       "    if (!manager)\n",
       "        manager = IPython.keyboard_manager;\n",
       "\n",
       "    // Check for shift+enter\n",
       "    if (event.shiftKey && event.which == 13) {\n",
       "        this.canvas_div.blur();\n",
       "        event.shiftKey = false;\n",
       "        // Send a \"J\" for go to next cell\n",
       "        event.which = 74;\n",
       "        event.keyCode = 74;\n",
       "        manager.command_mode();\n",
       "        manager.handle_keydown(event);\n",
       "    }\n",
       "}\n",
       "\n",
       "mpl.figure.prototype.handle_save = function(fig, msg) {\n",
       "    fig.ondownload(fig, null);\n",
       "}\n",
       "\n",
       "\n",
       "mpl.find_output_cell = function(html_output) {\n",
       "    // Return the cell and output element which can be found *uniquely* in the notebook.\n",
       "    // Note - this is a bit hacky, but it is done because the \"notebook_saving.Notebook\"\n",
       "    // IPython event is triggered only after the cells have been serialised, which for\n",
       "    // our purposes (turning an active figure into a static one), is too late.\n",
       "    var cells = IPython.notebook.get_cells();\n",
       "    var ncells = cells.length;\n",
       "    for (var i=0; i<ncells; i++) {\n",
       "        var cell = cells[i];\n",
       "        if (cell.cell_type === 'code'){\n",
       "            for (var j=0; j<cell.output_area.outputs.length; j++) {\n",
       "                var data = cell.output_area.outputs[j];\n",
       "                if (data.data) {\n",
       "                    // IPython >= 3 moved mimebundle to data attribute of output\n",
       "                    data = data.data;\n",
       "                }\n",
       "                if (data['text/html'] == html_output) {\n",
       "                    return [cell, data, j];\n",
       "                }\n",
       "            }\n",
       "        }\n",
       "    }\n",
       "}\n",
       "\n",
       "// Register the function which deals with the matplotlib target/channel.\n",
       "// The kernel may be null if the page has been refreshed.\n",
       "if (IPython.notebook.kernel != null) {\n",
       "    IPython.notebook.kernel.comm_manager.register_target('matplotlib', mpl.mpl_figure_comm);\n",
       "}\n"
      ],
      "text/plain": [
       "<IPython.core.display.Javascript object>"
      ]
     },
     "metadata": {},
     "output_type": "display_data"
    },
    {
     "data": {
      "text/html": [
       "<img src=\"data:image/png;base64,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\">"
      ],
      "text/plain": [
       "<IPython.core.display.HTML object>"
      ]
     },
     "metadata": {},
     "output_type": "display_data"
    }
   ],
   "source": [
    "barwidth = 0.75; \n",
    "fig, ax = plt.subplots(figsize=(9, 7));\n",
    "rects1 = ax.bar(0.5,ACCanalysis.Stim1.mean(),barwidth,yerr=ACCstderror[1],ecolor='k',edgecolor=sns.xkcd_rgb['green'],linewidth = 2, facecolor='none',error_kw=dict(lw=3),label='Congruent');\n",
    "rects2 = ax.bar(1.5,ACCanalysis.Stim2.mean(),barwidth,color=sns.xkcd_rgb['green'],yerr=ACCstderror[2],ecolor='k',error_kw=dict(lw=3),label='Incongruent');\n",
    "rects3 = ax.bar(2.5,ACCanalysis.Stim3.mean(),barwidth,yerr=ACCstderror[3],ecolor='k',edgecolor=(0.3,0.9,0.3),linewidth = 2, facecolor='none',error_kw=dict(lw=3));\n",
    "rects4 = ax.bar(3.5,ACCanalysis.Stim4.mean(),barwidth,color=(0.3,0.9,0.3),yerr=ACCstderror[4],ecolor='k',error_kw=dict(lw=3));\n",
    "sns.set(context='notebook', style='white', font='Myriad Pro', font_scale=2, color_codes=False, rc=None);\n",
    "ax.set_ylim(0.65,1.00);\n",
    "ax.set_xlim(0,5);\n",
    "ax.set_xticklabels(('Stim 1', 'Stim 2', 'Stim 3', 'Stim 4'));\n",
    "ax.set_xticks([0.5 + barwidth/2, 1.5 + barwidth/2,2.5 + barwidth/2,3.5 + barwidth/2]);\n",
    "ax.set_yticks(np.arange(0.65, 1.01, 0.05));\n",
    "plt.title('S-S Phase Accuracy', fontsize=26,fontweight=\"bold\")\n",
    "plt.ylabel('Accuracy (Proportion Correct)', fontsize=24,fontweight=\"bold\")\n",
    "plt.xlabel('S1 Image', fontsize=24,fontweight=\"bold\")\n",
    "sns.despine();\n",
    "\n",
    "plt.show()"
   ]
  },
  {
   "cell_type": "markdown",
   "metadata": {},
   "source": [
    "# Making CSV Copies of the Data"
   ]
  },
  {
   "cell_type": "markdown",
   "metadata": {},
   "source": [
    "If you like handling the data yourself, these CSVs organize the data by the relevant variables."
   ]
  },
  {
   "cell_type": "code",
   "execution_count": 88,
   "metadata": {},
   "outputs": [
    {
     "name": "stdout",
     "output_type": "stream",
     "text": [
      "C:\\Users\\cb383\\Documents\\controltransfer\\expt2\\data\\csvdata\n"
     ]
    }
   ],
   "source": [
    "%cd 'csvdata'"
   ]
  },
  {
   "cell_type": "code",
   "execution_count": 89,
   "metadata": {
    "collapsed": true
   },
   "outputs": [],
   "source": [
    "subrunmeans = cdat.groupby(['subject','Stimuli'])['RT'].mean()\n",
    "subrunmeans1 = cdat.groupby(['subject','RunCounter','Stimuli'])['RT'].mean()\n",
    "subrunmeans2 = cdat.groupby(['subject','Stimuli','S2Image'])['RT'].mean()\n",
    "subrunmeans3 = cdat.groupby(['subject','RunCounter','Stimuli','S2Image'])['RT'].mean()\n",
    "\n",
    "subrunmeans.to_csv('SS_RTsubrunmeans_subStim.csv')\n",
    "subrunmeans1.to_csv('SS_RTsubrunmeans_subRunStim.csv')\n",
    "subrunmeans2.to_csv('SS_RTsubrunmeans_subStimStimPres.csv')\n",
    "subrunmeans3.to_csv('SS_RTsubrunmeans_subRunStimStimPres.csv')\n",
    "\n",
    "subaccmeans = adat.groupby(['subject','Stimuli'])['Accuracy'].mean()\n",
    "subaccmeans1 = adat.groupby(['subject','RunCounter','Stimuli'])['Accuracy'].mean()\n",
    "subaccmeans2 = adat.groupby(['subject','Stimuli','S2Image'])['Accuracy'].mean()\n",
    "subaccmeans3 = adat.groupby(['subject','RunCounter','Stimuli','S2Image'])['Accuracy'].mean()"
   ]
  },
  {
   "cell_type": "markdown",
   "metadata": {},
   "source": [
    "## Running ANOVAs in R"
   ]
  },
  {
   "cell_type": "markdown",
   "metadata": {},
   "source": [
    "First, I need to make the data CSVs that the R script will analyze. Then I will write the necessary R script and run it in another cell here. You'll be able to see the inputs below & I summarize the results there as well."
   ]
  },
  {
   "cell_type": "code",
   "execution_count": 90,
   "metadata": {
    "collapsed": true
   },
   "outputs": [],
   "source": [
    "AN_sub_RTmeans = cdat.groupby(['subject','Stimuli','S2Image'])['RT'].mean();\n",
    "AN_sub_ACCmeans = adat.groupby(['subject','Stimuli','S2Image'])['Accuracy'].mean();\n",
    "\n",
    "#create tidy data csvs\n",
    "AN_sub_RTmeans.to_csv('SS_ANOVA_RT.csv')\n",
    "AN_sub_ACCmeans.to_csv('SS_ANOVA_ACC.csv')\n",
    "\n",
    "#create headers for the tidy data csvs, for analysis purposes\n",
    "import csv\n",
    "with open('SS_ANOVA_RT.csv',newline='') as f:\n",
    "    r = csv.reader(f)\n",
    "    data = [line for line in r]\n",
    "with open('SS_ANOVA_RT.csv','w',newline='') as f:\n",
    "    w = csv.writer(f)\n",
    "    w.writerow([\"subject\", \"s1image\", \"s2image\", \"rt\"])\n",
    "    w.writerows(data)\n",
    "\n",
    "with open('SS_ANOVA_ACC.csv',newline='') as f:\n",
    "    r = csv.reader(f)\n",
    "    data = [line for line in r]\n",
    "with open('SS_ANOVA_ACC.csv','w',newline='') as f:\n",
    "    w = csv.writer(f)\n",
    "    w.writerow([\"subject\", \"s1image\", \"s2image\", \"acc\"])\n",
    "    w.writerows(data)"
   ]
  },
  {
   "cell_type": "code",
   "execution_count": 91,
   "metadata": {},
   "outputs": [
    {
     "name": "stdout",
     "output_type": "stream",
     "text": [
      "Overwriting SSAnova.R\n"
     ]
    }
   ],
   "source": [
    "%%writefile SSAnova.R\n",
    "\n",
    "rawRTData <- read.csv('SS_ANOVA_RT.csv')\n",
    "install.packages(\"psych\",repos='https://mirrors.nics.utk.edu/cran/')\n",
    "install.packages(\"ez\",repos='https://mirrors.nics.utk.edu/cran/')\n",
    "library(psych)\n",
    "library(ez)\n",
    "\n",
    "rawRTData$subject = as.factor(rawRTData$subject)\n",
    "rawRTData$s1image = as.factor(rawRTData$s1image)\n",
    "rawRTData$s2image = as.factor(rawRTData$s2image)\n",
    "\n",
    "SS_RT_runANOVA <- ezANOVA(data=as.data.frame(rawRTData),\n",
    "                                  dv=rt,\n",
    "                                  wid=subject,\n",
    "                                  within=.(s1image, s2image),\n",
    "                                  detailed=TRUE)\n",
    "print(SS_RT_runANOVA)\n",
    "\n",
    "rawACCData <- read.csv('SS_ANOVA_ACC.csv')\n",
    "\n",
    "rawACCData$subject = as.factor(rawACCData$subject)\n",
    "rawACCData$s1image = as.factor(rawACCData$s1image)\n",
    "rawACCData$s2image = as.factor(rawACCData$s2image)\n",
    "\n",
    "SS_ACC_runANOVA <- ezANOVA(data=as.data.frame(rawACCData),\n",
    "                                  dv=acc,\n",
    "                                  wid=subject,\n",
    "                                  within=.(s1image, s2image),\n",
    "                                  detailed=TRUE)\n",
    "print(SS_ACC_runANOVA)"
   ]
  },
  {
   "cell_type": "code",
   "execution_count": 92,
   "metadata": {},
   "outputs": [
    {
     "name": "stdout",
     "output_type": "stream",
     "text": [
      "package 'psych' successfully unpacked and MD5 sums checked\n",
      "\n",
      "The downloaded binary packages are in\n",
      "\tC:\\Users\\cb383\\AppData\\Local\\Temp\\Rtmpmc1fWn\\downloaded_packages\n",
      "package 'ez' successfully unpacked and MD5 sums checked\n",
      "\n",
      "The downloaded binary packages are in\n",
      "\tC:\\Users\\cb383\\AppData\\Local\\Temp\\Rtmpmc1fWn\\downloaded_packages\n",
      "$ANOVA\n",
      "           Effect DFn DFd          SSn       SSd            F            p\n",
      "1     (Intercept)   1  72 3.972732e+08 965590.22 2.962299e+04 6.601640e-96\n",
      "2         s1image   3 216 2.417001e+02  50411.82 3.452049e-01 7.926566e-01\n",
      "3         s2image   3 216 9.346053e+04 322186.37 2.088592e+01 6.407035e-12\n",
      "4 s1image:s2image   9 648 2.439270e+03 191529.49 9.169735e-01 5.096736e-01\n",
      "  p<.05          ges\n",
      "1     * 0.9961642263\n",
      "2       0.0001579781\n",
      "3     * 0.0575787181\n",
      "4       0.0015920497\n",
      "\n",
      "$`Mauchly's Test for Sphericity`\n",
      "           Effect         W         p p<.05\n",
      "2         s1image 0.9575513 0.6895908      \n",
      "3         s2image 0.9754972 0.8819801      \n",
      "4 s1image:s2image 0.5606013 0.6530638      \n",
      "\n",
      "$`Sphericity Corrections`\n",
      "           Effect       GGe        p[GG] p[GG]<.05      HFe        p[HF]\n",
      "2         s1image 0.9724111 7.870777e-01           1.017900 7.926566e-01\n",
      "3         s2image 0.9829515 9.360873e-12         * 1.029509 6.407035e-12\n",
      "4 s1image:s2image 0.8911100 5.019295e-01           1.013267 5.096736e-01\n",
      "  p[HF]<.05\n",
      "2          \n",
      "3         *\n",
      "4          \n",
      "\n",
      "$ANOVA\n",
      "           Effect DFn DFd          SSn      SSd            F            p p<.05\n",
      "1     (Intercept)   1  72 8.924650e+02 5.012746 1.281882e+04 7.359036e-83     *\n",
      "2         s1image   3 216 6.742387e-03 1.105623 4.390755e-01 7.252759e-01      \n",
      "3         s2image   3 216 8.055856e-01 3.372079 1.720071e+01 4.715212e-10     *\n",
      "4 s1image:s2image   9 648 5.515047e-02 3.635279 1.092305e+00 3.661279e-01      \n",
      "           ges\n",
      "1 0.9855058962\n",
      "2 0.0005134136\n",
      "3 0.0578255404\n",
      "4 0.0041841280\n",
      "\n",
      "$`Mauchly's Test for Sphericity`\n",
      "           Effect         W         p p<.05\n",
      "2         s1image 0.9519491 0.6260573      \n",
      "3         s2image 0.8965716 0.1723294      \n",
      "4 s1image:s2image 0.6501658 0.9527123      \n",
      "\n",
      "$`Sphericity Corrections`\n",
      "           Effect       GGe        p[GG] p[GG]<.05       HFe        p[HF]\n",
      "2         s1image 0.9684609 7.190317e-01           1.0135518 7.252759e-01\n",
      "3         s2image 0.9354239 1.517307e-09         * 0.9772458 7.116730e-10\n",
      "4 s1image:s2image 0.9126303 3.665742e-01           1.0409721 3.661279e-01\n",
      "  p[HF]<.05\n",
      "2          \n",
      "3         *\n",
      "4          \n",
      "\n"
     ]
    },
    {
     "name": "stderr",
     "output_type": "stream",
     "text": [
      "trying URL 'https://mirrors.nics.utk.edu/cran/bin/windows/contrib/3.3/psych_1.7.5.zip'\n",
      "Content type 'application/zip' length 3966450 bytes (3.8 MB)\n",
      "==================================================\n",
      "downloaded 3.8 MB\n",
      "\n",
      "trying URL 'https://mirrors.nics.utk.edu/cran/bin/windows/contrib/3.3/ez_4.4-0.zip'\n",
      "Content type 'application/zip' length 304665 bytes (297 KB)\n",
      "==================================================\n",
      "downloaded 297 KB\n",
      "\n",
      "Warning message:\n",
      "package 'psych' was built under R version 3.3.3 \n",
      "Warning message:\n",
      "package 'ez' was built under R version 3.3.3 \n"
     ]
    }
   ],
   "source": [
    "! Rscript SSAnova.R"
   ]
  },
  {
   "cell_type": "markdown",
   "metadata": {},
   "source": [
    "#### In short, these R analyses confirm the t-test analyses showing no significant validity effects for RT & accuracy, even when we accounted for run. When the initial stimulus pairs were scrambled, we no longer observed the creation of paired associates."
   ]
  },
  {
   "cell_type": "markdown",
   "metadata": {},
   "source": [
    "# Making 95% Confidence Intervals"
   ]
  },
  {
   "cell_type": "markdown",
   "metadata": {},
   "source": [
    "Now I'm making the Supplementary tables that show our data in full, with 95% CIs accompanying the means."
   ]
  },
  {
   "cell_type": "code",
   "execution_count": 93,
   "metadata": {},
   "outputs": [
    {
     "data": {
      "text/plain": [
       "(575.24855628369187, 589.34607576113308)"
      ]
     },
     "execution_count": 93,
     "metadata": {},
     "output_type": "execute_result"
    }
   ],
   "source": [
    "import statsmodels.stats.api as sms\n",
    "\n",
    "a = RTanalysis.Stim1.mean()\n",
    "sms.DescrStatsW(RTanalysis.Stim1).tconfint_mean()\n",
    "#a"
   ]
  },
  {
   "cell_type": "code",
   "execution_count": 94,
   "metadata": {},
   "outputs": [
    {
     "data": {
      "text/plain": [
       "(576.53739158721669, 589.93908845381998)"
      ]
     },
     "execution_count": 94,
     "metadata": {},
     "output_type": "execute_result"
    }
   ],
   "source": [
    "a = RTanalysis.Stim2.mean()\n",
    "sms.DescrStatsW(RTanalysis.Stim2).tconfint_mean()\n",
    "#a"
   ]
  },
  {
   "cell_type": "code",
   "execution_count": 95,
   "metadata": {},
   "outputs": [
    {
     "data": {
      "text/plain": [
       "(575.6284717945606, 589.44677073149808)"
      ]
     },
     "execution_count": 95,
     "metadata": {},
     "output_type": "execute_result"
    }
   ],
   "source": [
    "a = RTanalysis.Stim3.mean()\n",
    "sms.DescrStatsW(RTanalysis.Stim3).tconfint_mean()\n",
    "#a"
   ]
  },
  {
   "cell_type": "code",
   "execution_count": 96,
   "metadata": {},
   "outputs": [
    {
     "data": {
      "text/plain": [
       "(575.62398557103393, 589.3679393215134)"
      ]
     },
     "execution_count": 96,
     "metadata": {},
     "output_type": "execute_result"
    }
   ],
   "source": [
    "a = RTanalysis.Stim4.mean()\n",
    "sms.DescrStatsW(RTanalysis.Stim4).tconfint_mean()\n",
    "#a"
   ]
  },
  {
   "cell_type": "code",
   "execution_count": 97,
   "metadata": {},
   "outputs": [
    {
     "data": {
      "text/plain": [
       "(579.88705079070303, 598.6095161127131)"
      ]
     },
     "execution_count": 97,
     "metadata": {},
     "output_type": "execute_result"
    }
   ],
   "source": [
    "a = RTrunanalysis.loc[RTrunanalysis['Run'] == 0].Stim1.mean()\n",
    "sms.DescrStatsW(RTrunanalysis.loc[RTrunanalysis['Run'] == 0].Stim1).tconfint_mean()\n",
    "#a"
   ]
  },
  {
   "cell_type": "code",
   "execution_count": 98,
   "metadata": {},
   "outputs": [
    {
     "data": {
      "text/plain": [
       "(579.28374844750567, 596.22233238186266)"
      ]
     },
     "execution_count": 98,
     "metadata": {},
     "output_type": "execute_result"
    }
   ],
   "source": [
    "a = RTrunanalysis.loc[RTrunanalysis['Run'] == 0].Stim2.mean()\n",
    "sms.DescrStatsW(RTrunanalysis.loc[RTrunanalysis['Run'] == 0].Stim2).tconfint_mean()\n",
    "#a"
   ]
  },
  {
   "cell_type": "code",
   "execution_count": 99,
   "metadata": {
    "collapsed": true
   },
   "outputs": [],
   "source": [
    "a = RTrunanalysis.loc[RTrunanalysis['Run'] == 0].Stim3.mean()\n",
    "#sms.DescrStatsW(RTrunanalysis.loc[RTrunanalysis['Run'] == 0].Stim3).tconfint_mean()\n",
    "## NOTE: one subject did not have a single trial for Stim 3 that was *correct* on run 1, so this confidence interval method\n",
    "## did not work. I have calculated like this because it excludes that subject in its calculation.\n",
    "b = RTrunanalysis.loc[RTrunanalysis['Run'] == 0].Stim3.std()\n",
    "stderror = b / n;\n",
    "CI = stderror * 1.96;\n",
    "UCI = a + CI\n",
    "LCI = a - CI"
   ]
  },
  {
   "cell_type": "code",
   "execution_count": 100,
   "metadata": {},
   "outputs": [
    {
     "data": {
      "text/plain": [
       "(588.78689655354276, 607.47670833471955)"
      ]
     },
     "execution_count": 100,
     "metadata": {},
     "output_type": "execute_result"
    }
   ],
   "source": [
    "a = RTrunanalysis.loc[RTrunanalysis['Run'] == 0].Stim4.mean()\n",
    "sms.DescrStatsW(RTrunanalysis.loc[RTrunanalysis['Run'] == 0].Stim4).tconfint_mean()\n",
    "#a"
   ]
  },
  {
   "cell_type": "code",
   "execution_count": 101,
   "metadata": {},
   "outputs": [
    {
     "data": {
      "text/plain": [
       "(576.89438116176029, 592.34020046665705)"
      ]
     },
     "execution_count": 101,
     "metadata": {},
     "output_type": "execute_result"
    }
   ],
   "source": [
    "a = RTrunanalysis.loc[RTrunanalysis['Run'] == 1].Stim1.mean()\n",
    "sms.DescrStatsW(RTrunanalysis.loc[RTrunanalysis['Run'] == 1].Stim1).tconfint_mean()\n",
    "#a"
   ]
  },
  {
   "cell_type": "code",
   "execution_count": 102,
   "metadata": {},
   "outputs": [
    {
     "data": {
      "text/plain": [
       "(579.18589629109238, 595.61472089993572)"
      ]
     },
     "execution_count": 102,
     "metadata": {},
     "output_type": "execute_result"
    }
   ],
   "source": [
    "a = RTrunanalysis.loc[RTrunanalysis['Run'] == 1].Stim2.mean()\n",
    "sms.DescrStatsW(RTrunanalysis.loc[RTrunanalysis['Run'] == 1].Stim2).tconfint_mean()\n",
    "#a"
   ]
  },
  {
   "cell_type": "code",
   "execution_count": 103,
   "metadata": {},
   "outputs": [
    {
     "data": {
      "text/plain": [
       "(573.1753425047018, 589.59465705433877)"
      ]
     },
     "execution_count": 103,
     "metadata": {},
     "output_type": "execute_result"
    }
   ],
   "source": [
    "a = RTrunanalysis.loc[RTrunanalysis['Run'] == 1].Stim3.mean()\n",
    "sms.DescrStatsW(RTrunanalysis.loc[RTrunanalysis['Run'] == 1].Stim3).tconfint_mean()\n",
    "#a"
   ]
  },
  {
   "cell_type": "code",
   "execution_count": 104,
   "metadata": {},
   "outputs": [
    {
     "data": {
      "text/plain": [
       "(573.5237520146535, 590.6069693188075)"
      ]
     },
     "execution_count": 104,
     "metadata": {},
     "output_type": "execute_result"
    }
   ],
   "source": [
    "a = RTrunanalysis.loc[RTrunanalysis['Run'] == 1].Stim4.mean()\n",
    "sms.DescrStatsW(RTrunanalysis.loc[RTrunanalysis['Run'] == 1].Stim4).tconfint_mean()\n",
    "#a"
   ]
  },
  {
   "cell_type": "code",
   "execution_count": 105,
   "metadata": {},
   "outputs": [
    {
     "data": {
      "text/plain": [
       "(574.26564777564022, 590.11694451791095)"
      ]
     },
     "execution_count": 105,
     "metadata": {},
     "output_type": "execute_result"
    }
   ],
   "source": [
    "a = RTrunanalysis.loc[RTrunanalysis['Run'] == 2].Stim1.mean()\n",
    "sms.DescrStatsW(RTrunanalysis.loc[RTrunanalysis['Run'] == 2].Stim1).tconfint_mean()\n",
    "#a"
   ]
  },
  {
   "cell_type": "code",
   "execution_count": 106,
   "metadata": {},
   "outputs": [
    {
     "data": {
      "text/plain": [
       "(573.23791015842096, 588.20242484903713)"
      ]
     },
     "execution_count": 106,
     "metadata": {},
     "output_type": "execute_result"
    }
   ],
   "source": [
    "a = RTrunanalysis.loc[RTrunanalysis['Run'] == 2].Stim2.mean()\n",
    "sms.DescrStatsW(RTrunanalysis.loc[RTrunanalysis['Run'] == 2].Stim2).tconfint_mean()\n",
    "#a"
   ]
  },
  {
   "cell_type": "code",
   "execution_count": 107,
   "metadata": {},
   "outputs": [
    {
     "data": {
      "text/plain": [
       "(573.65022099604687, 589.20407508838628)"
      ]
     },
     "execution_count": 107,
     "metadata": {},
     "output_type": "execute_result"
    }
   ],
   "source": [
    "a = RTrunanalysis.loc[RTrunanalysis['Run'] == 2].Stim3.mean()\n",
    "sms.DescrStatsW(RTrunanalysis.loc[RTrunanalysis['Run'] == 2].Stim3).tconfint_mean()\n",
    "#a"
   ]
  },
  {
   "cell_type": "code",
   "execution_count": 108,
   "metadata": {},
   "outputs": [
    {
     "data": {
      "text/plain": [
       "(572.06452440245516, 585.98989013278128)"
      ]
     },
     "execution_count": 108,
     "metadata": {},
     "output_type": "execute_result"
    }
   ],
   "source": [
    "a = RTrunanalysis.loc[RTrunanalysis['Run'] == 2].Stim4.mean()\n",
    "sms.DescrStatsW(RTrunanalysis.loc[RTrunanalysis['Run'] == 2].Stim4).tconfint_mean()\n",
    "#a"
   ]
  },
  {
   "cell_type": "code",
   "execution_count": 109,
   "metadata": {},
   "outputs": [
    {
     "data": {
      "text/plain": [
       "(566.31344587838862, 583.14071731002127)"
      ]
     },
     "execution_count": 109,
     "metadata": {},
     "output_type": "execute_result"
    }
   ],
   "source": [
    "a = RTrunanalysis.loc[RTrunanalysis['Run'] == 3].Stim1.mean()\n",
    "sms.DescrStatsW(RTrunanalysis.loc[RTrunanalysis['Run'] == 3].Stim1).tconfint_mean()\n",
    "#a"
   ]
  },
  {
   "cell_type": "code",
   "execution_count": 110,
   "metadata": {},
   "outputs": [
    {
     "data": {
      "text/plain": [
       "(570.51884757027744, 585.1432816247285)"
      ]
     },
     "execution_count": 110,
     "metadata": {},
     "output_type": "execute_result"
    }
   ],
   "source": [
    "a = RTrunanalysis.loc[RTrunanalysis['Run'] == 3].Stim2.mean()\n",
    "sms.DescrStatsW(RTrunanalysis.loc[RTrunanalysis['Run'] == 3].Stim2).tconfint_mean()\n",
    "#a"
   ]
  },
  {
   "cell_type": "code",
   "execution_count": 111,
   "metadata": {},
   "outputs": [
    {
     "data": {
      "text/plain": [
       "(568.78040863698038, 583.93536235002352)"
      ]
     },
     "execution_count": 111,
     "metadata": {},
     "output_type": "execute_result"
    }
   ],
   "source": [
    "a = RTrunanalysis.loc[RTrunanalysis['Run'] == 3].Stim3.mean()\n",
    "sms.DescrStatsW(RTrunanalysis.loc[RTrunanalysis['Run'] == 3].Stim3).tconfint_mean()\n",
    "#a"
   ]
  },
  {
   "cell_type": "code",
   "execution_count": 112,
   "metadata": {},
   "outputs": [
    {
     "data": {
      "text/plain": [
       "(567.45350333656722, 583.59338584730824)"
      ]
     },
     "execution_count": 112,
     "metadata": {},
     "output_type": "execute_result"
    }
   ],
   "source": [
    "a = RTrunanalysis.loc[RTrunanalysis['Run'] == 3].Stim4.mean()\n",
    "sms.DescrStatsW(RTrunanalysis.loc[RTrunanalysis['Run'] == 3].Stim4).tconfint_mean()\n",
    "#a"
   ]
  },
  {
   "cell_type": "markdown",
   "metadata": {},
   "source": [
    "And for Accuracy..."
   ]
  },
  {
   "cell_type": "code",
   "execution_count": 113,
   "metadata": {},
   "outputs": [
    {
     "data": {
      "text/plain": [
       "(0.85350329591289353, 0.88713597349349926)"
      ]
     },
     "execution_count": 113,
     "metadata": {},
     "output_type": "execute_result"
    }
   ],
   "source": [
    "a = ACCanalysis.Stim1.mean()\n",
    "sms.DescrStatsW(ACCanalysis.Stim1).tconfint_mean()\n",
    "#a"
   ]
  },
  {
   "cell_type": "code",
   "execution_count": 114,
   "metadata": {},
   "outputs": [
    {
     "data": {
      "text/plain": [
       "(0.85766682465174171, 0.89027838082771027)"
      ]
     },
     "execution_count": 114,
     "metadata": {},
     "output_type": "execute_result"
    }
   ],
   "source": [
    "a = ACCanalysis.Stim2.mean()\n",
    "sms.DescrStatsW(ACCanalysis.Stim2).tconfint_mean()\n",
    "#a"
   ]
  },
  {
   "cell_type": "code",
   "execution_count": 115,
   "metadata": {},
   "outputs": [
    {
     "data": {
      "text/plain": [
       "(0.85943408220673367, 0.8939905753275128)"
      ]
     },
     "execution_count": 115,
     "metadata": {},
     "output_type": "execute_result"
    }
   ],
   "source": [
    "a = ACCanalysis.Stim3.mean()\n",
    "sms.DescrStatsW(ACCanalysis.Stim3).tconfint_mean()\n",
    "#a"
   ]
  },
  {
   "cell_type": "code",
   "execution_count": 116,
   "metadata": {},
   "outputs": [
    {
     "data": {
      "text/plain": [
       "(0.85792199651659773, 0.89309359157976498)"
      ]
     },
     "execution_count": 116,
     "metadata": {},
     "output_type": "execute_result"
    }
   ],
   "source": [
    "a = ACCanalysis.Stim4.mean()\n",
    "sms.DescrStatsW(ACCanalysis.Stim4).tconfint_mean()\n",
    "#a"
   ]
  },
  {
   "cell_type": "code",
   "execution_count": 117,
   "metadata": {},
   "outputs": [
    {
     "data": {
      "text/plain": [
       "(0.66673454961172696, 0.75609650061658362)"
      ]
     },
     "execution_count": 117,
     "metadata": {},
     "output_type": "execute_result"
    }
   ],
   "source": [
    "a = ACCrunanalysis.loc[RTrunanalysis['Run'] == 0].Stim1.mean()\n",
    "sms.DescrStatsW(ACCrunanalysis.loc[RTrunanalysis['Run'] == 0].Stim1).tconfint_mean()\n",
    "#a"
   ]
  },
  {
   "cell_type": "code",
   "execution_count": 118,
   "metadata": {},
   "outputs": [
    {
     "data": {
      "text/plain": [
       "(0.69559766557625169, 0.7783749371634745)"
      ]
     },
     "execution_count": 118,
     "metadata": {},
     "output_type": "execute_result"
    }
   ],
   "source": [
    "a = ACCrunanalysis.loc[RTrunanalysis['Run'] == 0].Stim2.mean()\n",
    "sms.DescrStatsW(ACCrunanalysis.loc[RTrunanalysis['Run'] == 0].Stim2).tconfint_mean()\n",
    "#a"
   ]
  },
  {
   "cell_type": "code",
   "execution_count": 119,
   "metadata": {},
   "outputs": [
    {
     "data": {
      "text/plain": [
       "(0.6793020826556998, 0.77640567990137799)"
      ]
     },
     "execution_count": 119,
     "metadata": {},
     "output_type": "execute_result"
    }
   ],
   "source": [
    "a = ACCrunanalysis.loc[RTrunanalysis['Run'] == 0].Stim3.mean()\n",
    "sms.DescrStatsW(ACCrunanalysis.loc[RTrunanalysis['Run'] == 0].Stim3).tconfint_mean()\n",
    "#a"
   ]
  },
  {
   "cell_type": "code",
   "execution_count": 120,
   "metadata": {},
   "outputs": [
    {
     "data": {
      "text/plain": [
       "(0.67599892465579892, 0.76874993379168965)"
      ]
     },
     "execution_count": 120,
     "metadata": {},
     "output_type": "execute_result"
    }
   ],
   "source": [
    "a = ACCrunanalysis.loc[RTrunanalysis['Run'] == 0].Stim4.mean()\n",
    "sms.DescrStatsW(ACCrunanalysis.loc[RTrunanalysis['Run'] == 0].Stim4).tconfint_mean()\n",
    "#a"
   ]
  },
  {
   "cell_type": "code",
   "execution_count": 121,
   "metadata": {},
   "outputs": [
    {
     "data": {
      "text/plain": [
       "(0.88613024259408069, 0.9293948715611704)"
      ]
     },
     "execution_count": 121,
     "metadata": {},
     "output_type": "execute_result"
    }
   ],
   "source": [
    "a = ACCrunanalysis.loc[RTrunanalysis['Run'] == 1].Stim1.mean()\n",
    "sms.DescrStatsW(ACCrunanalysis.loc[RTrunanalysis['Run'] == 1].Stim1).tconfint_mean()\n",
    "#a"
   ]
  },
  {
   "cell_type": "code",
   "execution_count": 122,
   "metadata": {},
   "outputs": [
    {
     "data": {
      "text/plain": [
       "(0.88294212697489272, 0.92345056708903384)"
      ]
     },
     "execution_count": 122,
     "metadata": {},
     "output_type": "execute_result"
    }
   ],
   "source": [
    "a = ACCrunanalysis.loc[RTrunanalysis['Run'] == 1].Stim2.mean()\n",
    "sms.DescrStatsW(ACCrunanalysis.loc[RTrunanalysis['Run'] == 1].Stim2).tconfint_mean()\n",
    "#a"
   ]
  },
  {
   "cell_type": "code",
   "execution_count": 123,
   "metadata": {},
   "outputs": [
    {
     "data": {
      "text/plain": [
       "(0.89271687797502353, 0.93376714028981633)"
      ]
     },
     "execution_count": 123,
     "metadata": {},
     "output_type": "execute_result"
    }
   ],
   "source": [
    "a = ACCrunanalysis.loc[RTrunanalysis['Run'] == 1].Stim3.mean()\n",
    "sms.DescrStatsW(ACCrunanalysis.loc[RTrunanalysis['Run'] == 1].Stim3).tconfint_mean()\n",
    "#a"
   ]
  },
  {
   "cell_type": "code",
   "execution_count": 124,
   "metadata": {},
   "outputs": [
    {
     "data": {
      "text/plain": [
       "(0.89579719901596722, 0.93433978728540268)"
      ]
     },
     "execution_count": 124,
     "metadata": {},
     "output_type": "execute_result"
    }
   ],
   "source": [
    "a = ACCrunanalysis.loc[RTrunanalysis['Run'] == 1].Stim4.mean()\n",
    "sms.DescrStatsW(ACCrunanalysis.loc[RTrunanalysis['Run'] == 1].Stim4).tconfint_mean()\n",
    "#a"
   ]
  },
  {
   "cell_type": "code",
   "execution_count": 125,
   "metadata": {},
   "outputs": [
    {
     "data": {
      "text/plain": [
       "(0.91373933493351978, 0.94927436369661711)"
      ]
     },
     "execution_count": 125,
     "metadata": {},
     "output_type": "execute_result"
    }
   ],
   "source": [
    "a = ACCrunanalysis.loc[RTrunanalysis['Run'] == 2].Stim1.mean()\n",
    "sms.DescrStatsW(ACCrunanalysis.loc[RTrunanalysis['Run'] == 2].Stim1).tconfint_mean()\n",
    "#a"
   ]
  },
  {
   "cell_type": "code",
   "execution_count": 126,
   "metadata": {},
   "outputs": [
    {
     "data": {
      "text/plain": [
       "(0.8958963983077689, 0.93606707201186568)"
      ]
     },
     "execution_count": 126,
     "metadata": {},
     "output_type": "execute_result"
    }
   ],
   "source": [
    "a = ACCrunanalysis.loc[RTrunanalysis['Run'] == 2].Stim2.mean()\n",
    "sms.DescrStatsW(ACCrunanalysis.loc[RTrunanalysis['Run'] == 2].Stim2).tconfint_mean()\n",
    "#a"
   ]
  },
  {
   "cell_type": "code",
   "execution_count": 127,
   "metadata": {},
   "outputs": [
    {
     "data": {
      "text/plain": [
       "(0.90589787764587271, 0.94433043285641027)"
      ]
     },
     "execution_count": 127,
     "metadata": {},
     "output_type": "execute_result"
    }
   ],
   "source": [
    "a = ACCrunanalysis.loc[RTrunanalysis['Run'] == 2].Stim3.mean()\n",
    "sms.DescrStatsW(ACCrunanalysis.loc[RTrunanalysis['Run'] == 2].Stim3).tconfint_mean()\n",
    "#a"
   ]
  },
  {
   "cell_type": "code",
   "execution_count": 128,
   "metadata": {},
   "outputs": [
    {
     "data": {
      "text/plain": [
       "(0.91007501742015295, 0.9418493139562335)"
      ]
     },
     "execution_count": 128,
     "metadata": {},
     "output_type": "execute_result"
    }
   ],
   "source": [
    "a = ACCrunanalysis.loc[RTrunanalysis['Run'] == 2].Stim4.mean()\n",
    "sms.DescrStatsW(ACCrunanalysis.loc[RTrunanalysis['Run'] == 2].Stim4).tconfint_mean()\n",
    "#a"
   ]
  },
  {
   "cell_type": "code",
   "execution_count": 129,
   "metadata": {},
   "outputs": [
    {
     "data": {
      "text/plain": [
       "(0.91182081403567594, 0.94936640057619626)"
      ]
     },
     "execution_count": 129,
     "metadata": {},
     "output_type": "execute_result"
    }
   ],
   "source": [
    "a = ACCrunanalysis.loc[RTrunanalysis['Run'] == 3].Stim1.mean()\n",
    "sms.DescrStatsW(ACCrunanalysis.loc[RTrunanalysis['Run'] == 3].Stim1).tconfint_mean()\n",
    "#a"
   ]
  },
  {
   "cell_type": "code",
   "execution_count": 130,
   "metadata": {},
   "outputs": [
    {
     "data": {
      "text/plain": [
       "(0.92392199795916152, 0.9555300568353593)"
      ]
     },
     "execution_count": 130,
     "metadata": {},
     "output_type": "execute_result"
    }
   ],
   "source": [
    "a = ACCrunanalysis.loc[RTrunanalysis['Run'] == 3].Stim2.mean()\n",
    "sms.DescrStatsW(ACCrunanalysis.loc[RTrunanalysis['Run'] == 3].Stim2).tconfint_mean()\n",
    "#a"
   ]
  },
  {
   "cell_type": "code",
   "execution_count": 131,
   "metadata": {},
   "outputs": [
    {
     "data": {
      "text/plain": [
       "(0.92517977533171769, 0.95609876348106781)"
      ]
     },
     "execution_count": 131,
     "metadata": {},
     "output_type": "execute_result"
    }
   ],
   "source": [
    "a = ACCrunanalysis.loc[RTrunanalysis['Run'] == 3].Stim3.mean()\n",
    "sms.DescrStatsW(ACCrunanalysis.loc[RTrunanalysis['Run'] == 3].Stim3).tconfint_mean()\n",
    "#a"
   ]
  },
  {
   "cell_type": "code",
   "execution_count": 132,
   "metadata": {},
   "outputs": [
    {
     "data": {
      "text/plain": [
       "(0.91811905495622892, 0.95924558953170302)"
      ]
     },
     "execution_count": 132,
     "metadata": {},
     "output_type": "execute_result"
    }
   ],
   "source": [
    "a = ACCrunanalysis.loc[RTrunanalysis['Run'] == 3].Stim4.mean()\n",
    "sms.DescrStatsW(ACCrunanalysis.loc[RTrunanalysis['Run'] == 3].Stim4).tconfint_mean()\n",
    "#a"
   ]
  }
 ],
 "metadata": {
  "anaconda-cloud": {},
  "kernelspec": {
   "display_name": "Python [Root]",
   "language": "python",
   "name": "Python [Root]"
  },
  "language_info": {
   "codemirror_mode": {
    "name": "ipython",
    "version": 3
   },
   "file_extension": ".py",
   "mimetype": "text/x-python",
   "name": "python",
   "nbconvert_exporter": "python",
   "pygments_lexer": "ipython3",
   "version": "3.5.2"
  }
 },
 "nbformat": 4,
 "nbformat_minor": 1
}

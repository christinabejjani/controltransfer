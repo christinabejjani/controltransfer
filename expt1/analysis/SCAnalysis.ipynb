{
 "cells": [
  {
   "cell_type": "markdown",
   "metadata": {},
   "source": [
    "# Information on How These Data Are Organized:\n",
    "\n",
    "`TypeOfResponse` refers to whether participants pressed a button (\"SCResp\") or did not press a button (\"SCRespITI\" / \"SCITIResp\") within the given time frame.\n",
    "\n",
    "`Version` refers to the task version. I never changed the JS code; I merely changed which face/house was labeled as S1_1, S1_2, S1_3, or S1_4 in respective task folders.\n",
    "\n",
    "`LogCounter` gets added to whenever the JS records a new datapoint.\n",
    "\n",
    "`TrialCounter` gets added to whenever a new trial has started. This is reset at the start of each block.\n",
    "\n",
    "`MatrixCounter` gets added to throughout the task and is never reset. It is what I use to call Stimuli #s.\n",
    "\n",
    "`RunCounter` refers to the run: 0 is run 1, 1 is run 2, 2 is run 3, and 3 is run 4.\n",
    "\n",
    "`CongruentCounter` marks any time a congruent trial occurred; `IncongruentCounter` an incongruent trial.\n",
    "\n",
    "`StimPresented` refers to which scene was presented before the trial. This is in reference to the main manipulation of the S-C association phase, whereby particular scenes are more likely to precede specific proportions of congruent/incongruent trials.\n",
    "\n",
    "`StimProbAll` refers to my matrix of possible trial types. So it indicates whether \"RED\" will be shown in red, etc.\n",
    "\n",
    "`TrialType` also marks incongruent/congruent trials.\n",
    "\n",
    "`CongruentNumber` refers to my specially made matrices of my congruent trials. So there are 4 possible incongruent combinations, with 160 total congruent trials, and thus 40 occurrences of numbers 1-4.\n",
    "\n",
    "`IncongruentNumber` refers to my specially made matrix of incongruent trials. There are 12 possible incongruent combinations, with 160 trial incongruent trials, and thus around 13 of each occurrence.\n",
    "\n",
    "`PressCorrect` refers to the button that participants should press on that trial. This is how I define accuracy (i.e., correct: when PressCorrect = actualkeyPressed).\n",
    "\n",
    "`ResponseMatrix` refers to which key is pressed; this is a redundant variable and was used to make sure that each key had been required an equal number of times throughout the task.\n",
    "\n",
    "`ActualKeyPressed` is what key subjects pressed.\n",
    "\n",
    "`Accuracy` & `RT` self-explanatory.\n",
    "\n",
    "`FeedbackType` refers to whether they got correct as fb, incorrect as fb, or the fb time-out.\n",
    "\n",
    "`runStart` refers to the initiation of the countdown to begin the task.\n",
    "\n",
    "`ImagePresent` refers to when scene was presented.\n",
    "\n",
    "`StimTime` refers to when the color word was presented.\n",
    "\n",
    "`RespOnset` refers to when a response was made.\n",
    "\n",
    "`AccCount` is how I give subjects accurate fb of their performance at the end of each run (i.e., a counter that gets added to after each correct trial & is divided by trial #).\n",
    "\n",
    "`Subject` self-explanatory.\n",
    "\n",
    "Some other labels aren't coded in the JS: `Sequential` refers to whether a trial was the same (0) as before, changed to incongruent or congruent on the next trial, etc., and `StimRep` looks for direct repetitions in the StimProbAll matrix. These were coded in Matlab and added to the CSV file.\n",
    "\n",
    "---"
   ]
  },
  {
   "cell_type": "markdown",
   "metadata": {},
   "source": [
    "### Here we'll just import Python specific packages and read in our data."
   ]
  },
  {
   "cell_type": "code",
   "execution_count": 231,
   "metadata": {
    "collapsed": true
   },
   "outputs": [],
   "source": [
    "import numpy as np\n",
    "import pandas as pd\n",
    "import matplotlib.pyplot as plt\n",
    "import seaborn as sns\n",
    "import pylab as plb\n",
    "import math\n",
    "from scipy import stats\n",
    "\n",
    "%matplotlib notebook "
   ]
  },
  {
   "cell_type": "code",
   "execution_count": 232,
   "metadata": {},
   "outputs": [
    {
     "name": "stdout",
     "output_type": "stream",
     "text": [
      "C:\\Users\\cb383\\Documents\\controltransfer\\expt1\\data\n",
      "[WinError 2] The system cannot find the file specified: 'data'\n",
      "C:\\Users\\cb383\\Documents\\controltransfer\\expt1\\data\n"
     ]
    }
   ],
   "source": [
    "%cd ..\n",
    "%cd 'data'\n",
    "dat = pd.read_csv('AllSubsSC.csv')"
   ]
  },
  {
   "cell_type": "markdown",
   "metadata": {},
   "source": [
    "# Do Some Basic Cleaning"
   ]
  },
  {
   "cell_type": "markdown",
   "metadata": {},
   "source": [
    "#### We are filtering and preparing the data for analysis.\n",
    "\n",
    "<u>FOR REACTION TIMES</u>:\n",
    "\n",
    "-Select only `TypeOfResponse` equal to `Resp` (`ITI Resp` is when subs didn't respond).\n",
    "\n",
    "-Only take the RTs that are greater than 200ms and less than 1000 ms.\n",
    "\n",
    "-Only take the RTs on accurate trials.\n",
    "\n",
    "-Only take trials where the stimulus didn't repeat.\n",
    "\n",
    "\n",
    "<u>FOR ACCURACY</u>:\n",
    "\n",
    "-All errors are errors"
   ]
  },
  {
   "cell_type": "code",
   "execution_count": 233,
   "metadata": {
    "collapsed": true
   },
   "outputs": [],
   "source": [
    "cdat = dat.query('(TypeOfResponse != \"SCRespITI\") & (TypeOfResponse != \"SCITIResp\") & (RT > 200) & (RT < 1000) & (Accuracy != 0) & (StimRep != 1)').copy()\n",
    "adat = dat.copy()"
   ]
  },
  {
   "cell_type": "markdown",
   "metadata": {},
   "source": [
    "#### Now I'm making columns in the data based off my variables so that analysis will be easier."
   ]
  },
  {
   "cell_type": "code",
   "execution_count": 234,
   "metadata": {
    "collapsed": true
   },
   "outputs": [],
   "source": [
    "adat['DemandCue'] = adat['StimPresented'].isin([1, 2])\n",
    "adat.loc[adat['StimPresented'].isin([1, 2]), 'DemandCue'] = 'High'\n",
    "adat.loc[~adat['StimPresented'].isin([1, 2]), 'DemandCue'] = 'Low'\n",
    "\n",
    "adat['Congruency'] = adat['TrialType'].isin([1])\n",
    "adat.loc[adat['TrialType'].isin([1]),'Congruency'] = 'Incongruent'\n",
    "adat.loc[~adat['TrialType'].isin([1]),'Congruency'] = 'Congruent'\n",
    "\n",
    "cdat['DemandCue'] = cdat['StimPresented'].isin([1, 2])\n",
    "cdat.loc[cdat['StimPresented'].isin([1, 2]), 'DemandCue'] = 'High'\n",
    "cdat.loc[~cdat['StimPresented'].isin([1, 2]), 'DemandCue'] = 'Low'\n",
    "\n",
    "cdat['Congruency'] = cdat['TrialType'].isin([1])\n",
    "cdat.loc[cdat['TrialType'].isin([1]),'Congruency'] = 'Incongruent'\n",
    "cdat.loc[~cdat['TrialType'].isin([1]),'Congruency'] = 'Congruent'\n"
   ]
  },
  {
   "cell_type": "code",
   "execution_count": 235,
   "metadata": {
    "collapsed": true
   },
   "outputs": [],
   "source": [
    "adat['ContextCong'] = adat['DemandCue'].isin(['High']) & adat['TrialType'].isin([1])\n",
    "adat.loc[(adat['DemandCue'].isin(['High']) & adat['TrialType'].isin([1])), 'ContextCong'] = 'HighIC'\n",
    "adat.loc[(adat['DemandCue'].isin(['Low']) & adat['TrialType'].isin([1])), 'ContextCong'] = 'LowIC'\n",
    "adat.loc[(adat['DemandCue'].isin(['High']) & adat['TrialType'].isin([2])), 'ContextCong'] = 'HighC'\n",
    "adat.loc[(adat['DemandCue'].isin(['Low']) & adat['TrialType'].isin([2])), 'ContextCong'] = 'LowC'\n",
    "\n",
    "cdat['ContextCong'] = cdat['DemandCue'].isin(['High']) & cdat['TrialType'].isin([1])\n",
    "cdat.loc[(cdat['DemandCue'].isin(['High']) & cdat['TrialType'].isin([1])), 'ContextCong'] = 'HighIC'\n",
    "cdat.loc[(cdat['DemandCue'].isin(['Low']) & cdat['TrialType'].isin([1])), 'ContextCong'] = 'LowIC'\n",
    "cdat.loc[(cdat['DemandCue'].isin(['High']) & cdat['TrialType'].isin([2])), 'ContextCong'] = 'HighC'\n",
    "cdat.loc[(cdat['DemandCue'].isin(['Low']) & cdat['TrialType'].isin([2])), 'ContextCong'] = 'LowC'"
   ]
  },
  {
   "cell_type": "markdown",
   "metadata": {},
   "source": [
    "# Look at Mean Cueing Effects"
   ]
  },
  {
   "cell_type": "markdown",
   "metadata": {},
   "source": [
    "### We are hoping to see an interaction between control-demand cue and congruency, such that people use the cues to modulate Stroop congruency. Namely, we would predict that people would have a smaller difference between the Stroop trial types for the \"high\" compared to \"low\" control-demand cue. This would result from learning to associate a state of higher attentional focus with the high control-demand cue, which in turn means more efficient processing - or responding quicker to incongruent trials and potentially slower to congruent trials."
   ]
  },
  {
   "cell_type": "code",
   "execution_count": 236,
   "metadata": {},
   "outputs": [
    {
     "data": {
      "text/plain": [
       "ContextCong\n",
       "HighC     624.473969\n",
       "HighIC    695.766204\n",
       "LowC      624.661971\n",
       "LowIC     698.032481\n",
       "Name: RT, dtype: float64"
      ]
     },
     "execution_count": 236,
     "metadata": {},
     "output_type": "execute_result"
    }
   ],
   "source": [
    "sub_RTmeans = cdat.groupby(['subject','ContextCong'])['RT'].mean()\n",
    "RTgrpmean = pd.Series.mean(sub_RTmeans,level=1)\n",
    "RTgrpmean"
   ]
  },
  {
   "cell_type": "code",
   "execution_count": 237,
   "metadata": {},
   "outputs": [
    {
     "data": {
      "text/plain": [
       "ContextCong\n",
       "HighC     51.392501\n",
       "HighIC    44.591726\n",
       "LowC      46.627126\n",
       "LowIC     50.530264\n",
       "Name: RT, dtype: float64"
      ]
     },
     "execution_count": 237,
     "metadata": {},
     "output_type": "execute_result"
    }
   ],
   "source": [
    "RTgrpstd = pd.Series.std(sub_RTmeans,level=1)\n",
    "RTgrpstd"
   ]
  },
  {
   "cell_type": "code",
   "execution_count": 238,
   "metadata": {},
   "outputs": [
    {
     "data": {
      "text/plain": [
       "ContextCong\n",
       "HighC     5.895124\n",
       "HighIC    5.115022\n",
       "LowC      5.348498\n",
       "LowIC     5.796219\n",
       "Name: RT, dtype: float64"
      ]
     },
     "execution_count": 238,
     "metadata": {},
     "output_type": "execute_result"
    }
   ],
   "source": [
    "n = math.sqrt(76)\n",
    "RTstderror = RTgrpstd / n\n",
    "RTstderror"
   ]
  },
  {
   "cell_type": "markdown",
   "metadata": {},
   "source": [
    "#### Judging by these initial numbers, we are unlikely to find an interaction between cue & congruency. Is that true of Accuracy?"
   ]
  },
  {
   "cell_type": "code",
   "execution_count": 239,
   "metadata": {},
   "outputs": [
    {
     "data": {
      "text/plain": [
       "ContextCong\n",
       "HighC     0.953947\n",
       "HighIC    0.879317\n",
       "LowC      0.953022\n",
       "LowIC     0.883224\n",
       "Name: Accuracy, dtype: float64"
      ]
     },
     "execution_count": 239,
     "metadata": {},
     "output_type": "execute_result"
    }
   ],
   "source": [
    "sub_ACCmeans = adat.groupby(['subject','ContextCong'])['Accuracy'].mean()\n",
    "ACCgrpmean = pd.Series.mean(sub_ACCmeans,level=1)\n",
    "ACCgrpmean"
   ]
  },
  {
   "cell_type": "code",
   "execution_count": 240,
   "metadata": {},
   "outputs": [
    {
     "data": {
      "text/plain": [
       "ContextCong\n",
       "HighC     0.050640\n",
       "HighIC    0.060735\n",
       "LowC      0.040974\n",
       "LowIC     0.077790\n",
       "Name: Accuracy, dtype: float64"
      ]
     },
     "execution_count": 240,
     "metadata": {},
     "output_type": "execute_result"
    }
   ],
   "source": [
    "ACCgrpstd = pd.Series.std(sub_ACCmeans,level=1)\n",
    "ACCgrpstd"
   ]
  },
  {
   "cell_type": "code",
   "execution_count": 241,
   "metadata": {},
   "outputs": [
    {
     "data": {
      "text/plain": [
       "ContextCong\n",
       "HighC     0.005809\n",
       "HighIC    0.006967\n",
       "LowC      0.004700\n",
       "LowIC     0.008923\n",
       "Name: Accuracy, dtype: float64"
      ]
     },
     "execution_count": 241,
     "metadata": {},
     "output_type": "execute_result"
    }
   ],
   "source": [
    "ACCstderror = ACCgrpstd / n\n",
    "ACCstderror"
   ]
  },
  {
   "cell_type": "markdown",
   "metadata": {},
   "source": [
    "# Creating Variables to Run Statistics"
   ]
  },
  {
   "cell_type": "markdown",
   "metadata": {},
   "source": [
    "#### This is a Python set of analyses, where the data above are organized in what's called \"long-form\" and to run statistics, I need \"wide-form\" data. So I am creating a new \"dataframe\" with the RT and accuracy means for congruent & incongruent trials, after presentation of the low & high control-demand cue, for each subject."
   ]
  },
  {
   "cell_type": "code",
   "execution_count": 242,
   "metadata": {
    "collapsed": true
   },
   "outputs": [],
   "source": [
    "RTanalysis = pd.DataFrame()\n",
    "lists = [[] for list in range(0,7)]\n",
    "\n",
    "for ID in range(10,86):\n",
    "    sub = cdat[cdat.subject == ID]\n",
    "    lists[0].append(ID)\n",
    "    LowCRT_trials = sub[sub.ContextCong == 'LowC'].RT.mean()\n",
    "    LowICRT_trials = sub[sub.ContextCong == 'LowIC'].RT.mean()\n",
    "    HighCRT_trials = sub[sub.ContextCong == 'HighC'].RT.mean()\n",
    "    HighICRT_trials = sub[sub.ContextCong == 'HighIC'].RT.mean()    \n",
    "    lists[1].append(LowCRT_trials)\n",
    "    lists[2].append(LowICRT_trials)\n",
    "    lists[3].append(HighCRT_trials)\n",
    "    lists[4].append(HighICRT_trials)\n",
    "    \n",
    "RTanalysis['SubjectID'] = lists[0]\n",
    "RTanalysis['LowC'] = lists[1]\n",
    "RTanalysis['LowIC'] = lists[2]\n",
    "RTanalysis['HighC'] = lists[3]\n",
    "RTanalysis['HighIC'] = lists[4]"
   ]
  },
  {
   "cell_type": "code",
   "execution_count": 243,
   "metadata": {
    "collapsed": true
   },
   "outputs": [],
   "source": [
    "ACCanalysis = pd.DataFrame()\n",
    "new_lists = [[] for list in range(0,7)]\n",
    "\n",
    "for ID in range(10,86):\n",
    "    sub = adat[adat.subject == ID]\n",
    "    new_lists[0].append(ID)\n",
    "    LowCACC_trials = sub[sub.ContextCong == 'LowC'].Accuracy.mean()\n",
    "    LowICACC_trials = sub[sub.ContextCong == 'LowIC'].Accuracy.mean()\n",
    "    HighCACC_trials = sub[sub.ContextCong == 'HighC'].Accuracy.mean()\n",
    "    HighICACC_trials = sub[sub.ContextCong == 'HighIC'].Accuracy.mean()    \n",
    "    new_lists[1].append(LowCACC_trials)\n",
    "    new_lists[2].append(LowICACC_trials)\n",
    "    new_lists[3].append(HighCACC_trials)\n",
    "    new_lists[4].append(HighICACC_trials)\n",
    "    \n",
    "ACCanalysis['SubjectID'] = new_lists[0]\n",
    "ACCanalysis['LowC'] = new_lists[1]\n",
    "ACCanalysis['LowIC'] = new_lists[2]\n",
    "ACCanalysis['HighC'] = new_lists[3]\n",
    "ACCanalysis['HighIC'] = new_lists[4]"
   ]
  },
  {
   "cell_type": "code",
   "execution_count": 244,
   "metadata": {
    "collapsed": true
   },
   "outputs": [],
   "source": [
    "#now for run as well\n",
    "\n",
    "RTrunanalysis = pd.DataFrame()\n",
    "new_RTlists = [[] for list in range(0,8)]\n",
    "\n",
    "for ID in range(10,86):\n",
    "    sub = cdat[cdat.subject == ID]\n",
    "    for runID in range(0,4):\n",
    "        run = sub[sub.RunCounter == runID]\n",
    "        new_RTlists[0].append(ID)\n",
    "        new_RTlists[1].append(runID)\n",
    "        LowCRT_trials = run[run.ContextCong == 'LowC'].RT.mean()\n",
    "        LowICRT_trials = run[run.ContextCong == 'LowIC'].RT.mean()\n",
    "        HighCRT_trials = run[run.ContextCong == 'HighC'].RT.mean()\n",
    "        HighICRT_trials = run[run.ContextCong == 'HighIC'].RT.mean()    \n",
    "        new_RTlists[2].append(LowCRT_trials)\n",
    "        new_RTlists[3].append(LowICRT_trials)\n",
    "        new_RTlists[4].append(HighCRT_trials)\n",
    "        new_RTlists[5].append(HighICRT_trials)\n",
    "    \n",
    "RTrunanalysis['SubjectID'] = new_RTlists[0]\n",
    "RTrunanalysis['Run'] = new_RTlists[1]\n",
    "RTrunanalysis['LowC'] = new_RTlists[2]\n",
    "RTrunanalysis['LowIC'] = new_RTlists[3]\n",
    "RTrunanalysis['HighC'] = new_RTlists[4]\n",
    "RTrunanalysis['HighIC'] = new_RTlists[5]"
   ]
  },
  {
   "cell_type": "code",
   "execution_count": 245,
   "metadata": {
    "collapsed": true
   },
   "outputs": [],
   "source": [
    "#repeat for accuracy\n",
    "\n",
    "ACCrunanalysis = pd.DataFrame()\n",
    "new_acclists = [[] for list in range(0,8)]\n",
    "\n",
    "for ID in range(10,86):\n",
    "    sub = adat[adat.subject == ID]\n",
    "    for runID in range(0,4):\n",
    "        run = sub[sub.RunCounter == runID]\n",
    "        new_acclists[0].append(ID)\n",
    "        new_acclists[1].append(runID)\n",
    "        LowCACC_trials = run[run.ContextCong == 'LowC'].Accuracy.mean()\n",
    "        LowICACC_trials = run[run.ContextCong == 'LowIC'].Accuracy.mean()\n",
    "        HighCACC_trials = run[run.ContextCong == 'HighC'].Accuracy.mean()\n",
    "        HighICACC_trials = run[run.ContextCong == 'HighIC'].Accuracy.mean()    \n",
    "        new_acclists[2].append(LowCACC_trials)\n",
    "        new_acclists[3].append(LowICACC_trials)\n",
    "        new_acclists[4].append(HighCACC_trials)\n",
    "        new_acclists[5].append(HighICACC_trials)\n",
    "    \n",
    "ACCrunanalysis['SubjectID'] = new_acclists[0]\n",
    "ACCrunanalysis['Run'] = new_acclists[1]\n",
    "ACCrunanalysis['LowC'] = new_acclists[2]\n",
    "ACCrunanalysis['LowIC'] = new_acclists[3]\n",
    "ACCrunanalysis['HighC'] = new_acclists[4]\n",
    "ACCrunanalysis['HighIC'] = new_acclists[5]"
   ]
  },
  {
   "cell_type": "markdown",
   "metadata": {},
   "source": [
    "# Run Actual Statistics"
   ]
  },
  {
   "cell_type": "markdown",
   "metadata": {},
   "source": [
    "#### For the S-C phase, we run a repeated-measures ANOVA comparing RTs and accuracies for control-demand cue (low/high) & congruency (congruent/incongruent) & run (4).\n",
    "\n",
    "Unfortunately, Python does not have the capability for repeated-measures ANOVA. I could install \"pyvtttbl\" for Python, but it's not as accurate as R, SPSS, etc. So in this particular notebook, I will run a paired t-test for the interaction effect, and I will include R code to run the ANOVA."
   ]
  },
  {
   "cell_type": "code",
   "execution_count": 246,
   "metadata": {},
   "outputs": [
    {
     "data": {
      "text/plain": [
       "Ttest_relResult(statistic=0.48937637694885389, pvalue=0.62600350062539067)"
      ]
     },
     "execution_count": 246,
     "metadata": {},
     "output_type": "execute_result"
    }
   ],
   "source": [
    "LowCongDiff = RTanalysis.LowIC - RTanalysis.LowC;\n",
    "HighCongDiff = RTanalysis.HighIC - RTanalysis.HighC;\n",
    "stats.ttest_rel(LowCongDiff, HighCongDiff)"
   ]
  },
  {
   "cell_type": "code",
   "execution_count": 247,
   "metadata": {},
   "outputs": [
    {
     "data": {
      "text/plain": [
       "Ttest_relResult(statistic=0.52657106480849258, pvalue=0.60004538735425306)"
      ]
     },
     "execution_count": 247,
     "metadata": {},
     "output_type": "execute_result"
    }
   ],
   "source": [
    "LowCongDiffACC = ACCanalysis.LowIC - ACCanalysis.LowC;\n",
    "HighCongDiffACC = ACCanalysis.HighIC - ACCanalysis.HighC;\n",
    "stats.ttest_rel(LowCongDiffACC, HighCongDiffACC)"
   ]
  },
  {
   "cell_type": "code",
   "execution_count": 309,
   "metadata": {},
   "outputs": [],
   "source": [
    "SCRTcueing = LowCongDiff - HighCongDiff;\n",
    "SCACCcueing = LowCongDiffACC - HighCongDiffACC;"
   ]
  },
  {
   "cell_type": "code",
   "execution_count": 249,
   "metadata": {},
   "outputs": [
    {
     "name": "stdout",
     "output_type": "stream",
     "text": [
      "Stored 'SCRTcueing' (Series)\n",
      "Stored 'SCACCcueing' (Series)\n"
     ]
    }
   ],
   "source": [
    "%store SCRTcueing\n",
    "%store SCACCcueing\n",
    "#del SCRTcueing\n",
    "#del SCACCcueing"
   ]
  },
  {
   "cell_type": "code",
   "execution_count": 250,
   "metadata": {
    "collapsed": true
   },
   "outputs": [],
   "source": [
    "#can look at more things, like Bayesian confidence intervals\n",
    "stats.bayes_mvs(RTanalysis.LowC);\n",
    "stats.bayes_mvs(RTanalysis.LowIC);\n",
    "stats.bayes_mvs(RTanalysis.HighC);\n",
    "stats.bayes_mvs(RTanalysis.HighIC);\n",
    "stats.bayes_mvs(ACCanalysis.LowC);\n",
    "stats.bayes_mvs(ACCanalysis.LowIC);\n",
    "stats.bayes_mvs(ACCanalysis.HighC);\n",
    "stats.bayes_mvs(ACCanalysis.HighIC);"
   ]
  },
  {
   "cell_type": "markdown",
   "metadata": {},
   "source": [
    "#### In sum: no significant interaction or main effect of cue but a main effect of congruency on RT & accuracy"
   ]
  },
  {
   "cell_type": "markdown",
   "metadata": {},
   "source": [
    "# Look at the Results Graphically"
   ]
  },
  {
   "cell_type": "markdown",
   "metadata": {},
   "source": [
    "Note that the graphs generated mimic the paper, but I used Matlab to generate the figures, because I like their graphics more."
   ]
  },
  {
   "cell_type": "code",
   "execution_count": 251,
   "metadata": {
    "collapsed": true
   },
   "outputs": [],
   "source": [
    "sns.set(context='notebook', style='white', font='Myriad Pro', font_scale=2, color_codes=False, rc=None);"
   ]
  },
  {
   "cell_type": "code",
   "execution_count": 252,
   "metadata": {},
   "outputs": [
    {
     "data": {
      "application/javascript": [
       "/* Put everything inside the global mpl namespace */\n",
       "window.mpl = {};\n",
       "\n",
       "mpl.get_websocket_type = function() {\n",
       "    if (typeof(WebSocket) !== 'undefined') {\n",
       "        return WebSocket;\n",
       "    } else if (typeof(MozWebSocket) !== 'undefined') {\n",
       "        return MozWebSocket;\n",
       "    } else {\n",
       "        alert('Your browser does not have WebSocket support.' +\n",
       "              'Please try Chrome, Safari or Firefox ≥ 6. ' +\n",
       "              'Firefox 4 and 5 are also supported but you ' +\n",
       "              'have to enable WebSockets in about:config.');\n",
       "    };\n",
       "}\n",
       "\n",
       "mpl.figure = function(figure_id, websocket, ondownload, parent_element) {\n",
       "    this.id = figure_id;\n",
       "\n",
       "    this.ws = websocket;\n",
       "\n",
       "    this.supports_binary = (this.ws.binaryType != undefined);\n",
       "\n",
       "    if (!this.supports_binary) {\n",
       "        var warnings = document.getElementById(\"mpl-warnings\");\n",
       "        if (warnings) {\n",
       "            warnings.style.display = 'block';\n",
       "            warnings.textContent = (\n",
       "                \"This browser does not support binary websocket messages. \" +\n",
       "                    \"Performance may be slow.\");\n",
       "        }\n",
       "    }\n",
       "\n",
       "    this.imageObj = new Image();\n",
       "\n",
       "    this.context = undefined;\n",
       "    this.message = undefined;\n",
       "    this.canvas = undefined;\n",
       "    this.rubberband_canvas = undefined;\n",
       "    this.rubberband_context = undefined;\n",
       "    this.format_dropdown = undefined;\n",
       "\n",
       "    this.image_mode = 'full';\n",
       "\n",
       "    this.root = $('<div/>');\n",
       "    this._root_extra_style(this.root)\n",
       "    this.root.attr('style', 'display: inline-block');\n",
       "\n",
       "    $(parent_element).append(this.root);\n",
       "\n",
       "    this._init_header(this);\n",
       "    this._init_canvas(this);\n",
       "    this._init_toolbar(this);\n",
       "\n",
       "    var fig = this;\n",
       "\n",
       "    this.waiting = false;\n",
       "\n",
       "    this.ws.onopen =  function () {\n",
       "            fig.send_message(\"supports_binary\", {value: fig.supports_binary});\n",
       "            fig.send_message(\"send_image_mode\", {});\n",
       "            fig.send_message(\"refresh\", {});\n",
       "        }\n",
       "\n",
       "    this.imageObj.onload = function() {\n",
       "            if (fig.image_mode == 'full') {\n",
       "                // Full images could contain transparency (where diff images\n",
       "                // almost always do), so we need to clear the canvas so that\n",
       "                // there is no ghosting.\n",
       "                fig.context.clearRect(0, 0, fig.canvas.width, fig.canvas.height);\n",
       "            }\n",
       "            fig.context.drawImage(fig.imageObj, 0, 0);\n",
       "        };\n",
       "\n",
       "    this.imageObj.onunload = function() {\n",
       "        this.ws.close();\n",
       "    }\n",
       "\n",
       "    this.ws.onmessage = this._make_on_message_function(this);\n",
       "\n",
       "    this.ondownload = ondownload;\n",
       "}\n",
       "\n",
       "mpl.figure.prototype._init_header = function() {\n",
       "    var titlebar = $(\n",
       "        '<div class=\"ui-dialog-titlebar ui-widget-header ui-corner-all ' +\n",
       "        'ui-helper-clearfix\"/>');\n",
       "    var titletext = $(\n",
       "        '<div class=\"ui-dialog-title\" style=\"width: 100%; ' +\n",
       "        'text-align: center; padding: 3px;\"/>');\n",
       "    titlebar.append(titletext)\n",
       "    this.root.append(titlebar);\n",
       "    this.header = titletext[0];\n",
       "}\n",
       "\n",
       "\n",
       "\n",
       "mpl.figure.prototype._canvas_extra_style = function(canvas_div) {\n",
       "\n",
       "}\n",
       "\n",
       "\n",
       "mpl.figure.prototype._root_extra_style = function(canvas_div) {\n",
       "\n",
       "}\n",
       "\n",
       "mpl.figure.prototype._init_canvas = function() {\n",
       "    var fig = this;\n",
       "\n",
       "    var canvas_div = $('<div/>');\n",
       "\n",
       "    canvas_div.attr('style', 'position: relative; clear: both; outline: 0');\n",
       "\n",
       "    function canvas_keyboard_event(event) {\n",
       "        return fig.key_event(event, event['data']);\n",
       "    }\n",
       "\n",
       "    canvas_div.keydown('key_press', canvas_keyboard_event);\n",
       "    canvas_div.keyup('key_release', canvas_keyboard_event);\n",
       "    this.canvas_div = canvas_div\n",
       "    this._canvas_extra_style(canvas_div)\n",
       "    this.root.append(canvas_div);\n",
       "\n",
       "    var canvas = $('<canvas/>');\n",
       "    canvas.addClass('mpl-canvas');\n",
       "    canvas.attr('style', \"left: 0; top: 0; z-index: 0; outline: 0\")\n",
       "\n",
       "    this.canvas = canvas[0];\n",
       "    this.context = canvas[0].getContext(\"2d\");\n",
       "\n",
       "    var rubberband = $('<canvas/>');\n",
       "    rubberband.attr('style', \"position: absolute; left: 0; top: 0; z-index: 1;\")\n",
       "\n",
       "    var pass_mouse_events = true;\n",
       "\n",
       "    canvas_div.resizable({\n",
       "        start: function(event, ui) {\n",
       "            pass_mouse_events = false;\n",
       "        },\n",
       "        resize: function(event, ui) {\n",
       "            fig.request_resize(ui.size.width, ui.size.height);\n",
       "        },\n",
       "        stop: function(event, ui) {\n",
       "            pass_mouse_events = true;\n",
       "            fig.request_resize(ui.size.width, ui.size.height);\n",
       "        },\n",
       "    });\n",
       "\n",
       "    function mouse_event_fn(event) {\n",
       "        if (pass_mouse_events)\n",
       "            return fig.mouse_event(event, event['data']);\n",
       "    }\n",
       "\n",
       "    rubberband.mousedown('button_press', mouse_event_fn);\n",
       "    rubberband.mouseup('button_release', mouse_event_fn);\n",
       "    // Throttle sequential mouse events to 1 every 20ms.\n",
       "    rubberband.mousemove('motion_notify', mouse_event_fn);\n",
       "\n",
       "    rubberband.mouseenter('figure_enter', mouse_event_fn);\n",
       "    rubberband.mouseleave('figure_leave', mouse_event_fn);\n",
       "\n",
       "    canvas_div.on(\"wheel\", function (event) {\n",
       "        event = event.originalEvent;\n",
       "        event['data'] = 'scroll'\n",
       "        if (event.deltaY < 0) {\n",
       "            event.step = 1;\n",
       "        } else {\n",
       "            event.step = -1;\n",
       "        }\n",
       "        mouse_event_fn(event);\n",
       "    });\n",
       "\n",
       "    canvas_div.append(canvas);\n",
       "    canvas_div.append(rubberband);\n",
       "\n",
       "    this.rubberband = rubberband;\n",
       "    this.rubberband_canvas = rubberband[0];\n",
       "    this.rubberband_context = rubberband[0].getContext(\"2d\");\n",
       "    this.rubberband_context.strokeStyle = \"#000000\";\n",
       "\n",
       "    this._resize_canvas = function(width, height) {\n",
       "        // Keep the size of the canvas, canvas container, and rubber band\n",
       "        // canvas in synch.\n",
       "        canvas_div.css('width', width)\n",
       "        canvas_div.css('height', height)\n",
       "\n",
       "        canvas.attr('width', width);\n",
       "        canvas.attr('height', height);\n",
       "\n",
       "        rubberband.attr('width', width);\n",
       "        rubberband.attr('height', height);\n",
       "    }\n",
       "\n",
       "    // Set the figure to an initial 600x600px, this will subsequently be updated\n",
       "    // upon first draw.\n",
       "    this._resize_canvas(600, 600);\n",
       "\n",
       "    // Disable right mouse context menu.\n",
       "    $(this.rubberband_canvas).bind(\"contextmenu\",function(e){\n",
       "        return false;\n",
       "    });\n",
       "\n",
       "    function set_focus () {\n",
       "        canvas.focus();\n",
       "        canvas_div.focus();\n",
       "    }\n",
       "\n",
       "    window.setTimeout(set_focus, 100);\n",
       "}\n",
       "\n",
       "mpl.figure.prototype._init_toolbar = function() {\n",
       "    var fig = this;\n",
       "\n",
       "    var nav_element = $('<div/>')\n",
       "    nav_element.attr('style', 'width: 100%');\n",
       "    this.root.append(nav_element);\n",
       "\n",
       "    // Define a callback function for later on.\n",
       "    function toolbar_event(event) {\n",
       "        return fig.toolbar_button_onclick(event['data']);\n",
       "    }\n",
       "    function toolbar_mouse_event(event) {\n",
       "        return fig.toolbar_button_onmouseover(event['data']);\n",
       "    }\n",
       "\n",
       "    for(var toolbar_ind in mpl.toolbar_items) {\n",
       "        var name = mpl.toolbar_items[toolbar_ind][0];\n",
       "        var tooltip = mpl.toolbar_items[toolbar_ind][1];\n",
       "        var image = mpl.toolbar_items[toolbar_ind][2];\n",
       "        var method_name = mpl.toolbar_items[toolbar_ind][3];\n",
       "\n",
       "        if (!name) {\n",
       "            // put a spacer in here.\n",
       "            continue;\n",
       "        }\n",
       "        var button = $('<button/>');\n",
       "        button.addClass('ui-button ui-widget ui-state-default ui-corner-all ' +\n",
       "                        'ui-button-icon-only');\n",
       "        button.attr('role', 'button');\n",
       "        button.attr('aria-disabled', 'false');\n",
       "        button.click(method_name, toolbar_event);\n",
       "        button.mouseover(tooltip, toolbar_mouse_event);\n",
       "\n",
       "        var icon_img = $('<span/>');\n",
       "        icon_img.addClass('ui-button-icon-primary ui-icon');\n",
       "        icon_img.addClass(image);\n",
       "        icon_img.addClass('ui-corner-all');\n",
       "\n",
       "        var tooltip_span = $('<span/>');\n",
       "        tooltip_span.addClass('ui-button-text');\n",
       "        tooltip_span.html(tooltip);\n",
       "\n",
       "        button.append(icon_img);\n",
       "        button.append(tooltip_span);\n",
       "\n",
       "        nav_element.append(button);\n",
       "    }\n",
       "\n",
       "    var fmt_picker_span = $('<span/>');\n",
       "\n",
       "    var fmt_picker = $('<select/>');\n",
       "    fmt_picker.addClass('mpl-toolbar-option ui-widget ui-widget-content');\n",
       "    fmt_picker_span.append(fmt_picker);\n",
       "    nav_element.append(fmt_picker_span);\n",
       "    this.format_dropdown = fmt_picker[0];\n",
       "\n",
       "    for (var ind in mpl.extensions) {\n",
       "        var fmt = mpl.extensions[ind];\n",
       "        var option = $(\n",
       "            '<option/>', {selected: fmt === mpl.default_extension}).html(fmt);\n",
       "        fmt_picker.append(option)\n",
       "    }\n",
       "\n",
       "    // Add hover states to the ui-buttons\n",
       "    $( \".ui-button\" ).hover(\n",
       "        function() { $(this).addClass(\"ui-state-hover\");},\n",
       "        function() { $(this).removeClass(\"ui-state-hover\");}\n",
       "    );\n",
       "\n",
       "    var status_bar = $('<span class=\"mpl-message\"/>');\n",
       "    nav_element.append(status_bar);\n",
       "    this.message = status_bar[0];\n",
       "}\n",
       "\n",
       "mpl.figure.prototype.request_resize = function(x_pixels, y_pixels) {\n",
       "    // Request matplotlib to resize the figure. Matplotlib will then trigger a resize in the client,\n",
       "    // which will in turn request a refresh of the image.\n",
       "    this.send_message('resize', {'width': x_pixels, 'height': y_pixels});\n",
       "}\n",
       "\n",
       "mpl.figure.prototype.send_message = function(type, properties) {\n",
       "    properties['type'] = type;\n",
       "    properties['figure_id'] = this.id;\n",
       "    this.ws.send(JSON.stringify(properties));\n",
       "}\n",
       "\n",
       "mpl.figure.prototype.send_draw_message = function() {\n",
       "    if (!this.waiting) {\n",
       "        this.waiting = true;\n",
       "        this.ws.send(JSON.stringify({type: \"draw\", figure_id: this.id}));\n",
       "    }\n",
       "}\n",
       "\n",
       "\n",
       "mpl.figure.prototype.handle_save = function(fig, msg) {\n",
       "    var format_dropdown = fig.format_dropdown;\n",
       "    var format = format_dropdown.options[format_dropdown.selectedIndex].value;\n",
       "    fig.ondownload(fig, format);\n",
       "}\n",
       "\n",
       "\n",
       "mpl.figure.prototype.handle_resize = function(fig, msg) {\n",
       "    var size = msg['size'];\n",
       "    if (size[0] != fig.canvas.width || size[1] != fig.canvas.height) {\n",
       "        fig._resize_canvas(size[0], size[1]);\n",
       "        fig.send_message(\"refresh\", {});\n",
       "    };\n",
       "}\n",
       "\n",
       "mpl.figure.prototype.handle_rubberband = function(fig, msg) {\n",
       "    var x0 = msg['x0'];\n",
       "    var y0 = fig.canvas.height - msg['y0'];\n",
       "    var x1 = msg['x1'];\n",
       "    var y1 = fig.canvas.height - msg['y1'];\n",
       "    x0 = Math.floor(x0) + 0.5;\n",
       "    y0 = Math.floor(y0) + 0.5;\n",
       "    x1 = Math.floor(x1) + 0.5;\n",
       "    y1 = Math.floor(y1) + 0.5;\n",
       "    var min_x = Math.min(x0, x1);\n",
       "    var min_y = Math.min(y0, y1);\n",
       "    var width = Math.abs(x1 - x0);\n",
       "    var height = Math.abs(y1 - y0);\n",
       "\n",
       "    fig.rubberband_context.clearRect(\n",
       "        0, 0, fig.canvas.width, fig.canvas.height);\n",
       "\n",
       "    fig.rubberband_context.strokeRect(min_x, min_y, width, height);\n",
       "}\n",
       "\n",
       "mpl.figure.prototype.handle_figure_label = function(fig, msg) {\n",
       "    // Updates the figure title.\n",
       "    fig.header.textContent = msg['label'];\n",
       "}\n",
       "\n",
       "mpl.figure.prototype.handle_cursor = function(fig, msg) {\n",
       "    var cursor = msg['cursor'];\n",
       "    switch(cursor)\n",
       "    {\n",
       "    case 0:\n",
       "        cursor = 'pointer';\n",
       "        break;\n",
       "    case 1:\n",
       "        cursor = 'default';\n",
       "        break;\n",
       "    case 2:\n",
       "        cursor = 'crosshair';\n",
       "        break;\n",
       "    case 3:\n",
       "        cursor = 'move';\n",
       "        break;\n",
       "    }\n",
       "    fig.rubberband_canvas.style.cursor = cursor;\n",
       "}\n",
       "\n",
       "mpl.figure.prototype.handle_message = function(fig, msg) {\n",
       "    fig.message.textContent = msg['message'];\n",
       "}\n",
       "\n",
       "mpl.figure.prototype.handle_draw = function(fig, msg) {\n",
       "    // Request the server to send over a new figure.\n",
       "    fig.send_draw_message();\n",
       "}\n",
       "\n",
       "mpl.figure.prototype.handle_image_mode = function(fig, msg) {\n",
       "    fig.image_mode = msg['mode'];\n",
       "}\n",
       "\n",
       "mpl.figure.prototype.updated_canvas_event = function() {\n",
       "    // Called whenever the canvas gets updated.\n",
       "    this.send_message(\"ack\", {});\n",
       "}\n",
       "\n",
       "// A function to construct a web socket function for onmessage handling.\n",
       "// Called in the figure constructor.\n",
       "mpl.figure.prototype._make_on_message_function = function(fig) {\n",
       "    return function socket_on_message(evt) {\n",
       "        if (evt.data instanceof Blob) {\n",
       "            /* FIXME: We get \"Resource interpreted as Image but\n",
       "             * transferred with MIME type text/plain:\" errors on\n",
       "             * Chrome.  But how to set the MIME type?  It doesn't seem\n",
       "             * to be part of the websocket stream */\n",
       "            evt.data.type = \"image/png\";\n",
       "\n",
       "            /* Free the memory for the previous frames */\n",
       "            if (fig.imageObj.src) {\n",
       "                (window.URL || window.webkitURL).revokeObjectURL(\n",
       "                    fig.imageObj.src);\n",
       "            }\n",
       "\n",
       "            fig.imageObj.src = (window.URL || window.webkitURL).createObjectURL(\n",
       "                evt.data);\n",
       "            fig.updated_canvas_event();\n",
       "            fig.waiting = false;\n",
       "            return;\n",
       "        }\n",
       "        else if (typeof evt.data === 'string' && evt.data.slice(0, 21) == \"data:image/png;base64\") {\n",
       "            fig.imageObj.src = evt.data;\n",
       "            fig.updated_canvas_event();\n",
       "            fig.waiting = false;\n",
       "            return;\n",
       "        }\n",
       "\n",
       "        var msg = JSON.parse(evt.data);\n",
       "        var msg_type = msg['type'];\n",
       "\n",
       "        // Call the  \"handle_{type}\" callback, which takes\n",
       "        // the figure and JSON message as its only arguments.\n",
       "        try {\n",
       "            var callback = fig[\"handle_\" + msg_type];\n",
       "        } catch (e) {\n",
       "            console.log(\"No handler for the '\" + msg_type + \"' message type: \", msg);\n",
       "            return;\n",
       "        }\n",
       "\n",
       "        if (callback) {\n",
       "            try {\n",
       "                // console.log(\"Handling '\" + msg_type + \"' message: \", msg);\n",
       "                callback(fig, msg);\n",
       "            } catch (e) {\n",
       "                console.log(\"Exception inside the 'handler_\" + msg_type + \"' callback:\", e, e.stack, msg);\n",
       "            }\n",
       "        }\n",
       "    };\n",
       "}\n",
       "\n",
       "// from http://stackoverflow.com/questions/1114465/getting-mouse-location-in-canvas\n",
       "mpl.findpos = function(e) {\n",
       "    //this section is from http://www.quirksmode.org/js/events_properties.html\n",
       "    var targ;\n",
       "    if (!e)\n",
       "        e = window.event;\n",
       "    if (e.target)\n",
       "        targ = e.target;\n",
       "    else if (e.srcElement)\n",
       "        targ = e.srcElement;\n",
       "    if (targ.nodeType == 3) // defeat Safari bug\n",
       "        targ = targ.parentNode;\n",
       "\n",
       "    // jQuery normalizes the pageX and pageY\n",
       "    // pageX,Y are the mouse positions relative to the document\n",
       "    // offset() returns the position of the element relative to the document\n",
       "    var x = e.pageX - $(targ).offset().left;\n",
       "    var y = e.pageY - $(targ).offset().top;\n",
       "\n",
       "    return {\"x\": x, \"y\": y};\n",
       "};\n",
       "\n",
       "/*\n",
       " * return a copy of an object with only non-object keys\n",
       " * we need this to avoid circular references\n",
       " * http://stackoverflow.com/a/24161582/3208463\n",
       " */\n",
       "function simpleKeys (original) {\n",
       "  return Object.keys(original).reduce(function (obj, key) {\n",
       "    if (typeof original[key] !== 'object')\n",
       "        obj[key] = original[key]\n",
       "    return obj;\n",
       "  }, {});\n",
       "}\n",
       "\n",
       "mpl.figure.prototype.mouse_event = function(event, name) {\n",
       "    var canvas_pos = mpl.findpos(event)\n",
       "\n",
       "    if (name === 'button_press')\n",
       "    {\n",
       "        this.canvas.focus();\n",
       "        this.canvas_div.focus();\n",
       "    }\n",
       "\n",
       "    var x = canvas_pos.x;\n",
       "    var y = canvas_pos.y;\n",
       "\n",
       "    this.send_message(name, {x: x, y: y, button: event.button,\n",
       "                             step: event.step,\n",
       "                             guiEvent: simpleKeys(event)});\n",
       "\n",
       "    /* This prevents the web browser from automatically changing to\n",
       "     * the text insertion cursor when the button is pressed.  We want\n",
       "     * to control all of the cursor setting manually through the\n",
       "     * 'cursor' event from matplotlib */\n",
       "    event.preventDefault();\n",
       "    return false;\n",
       "}\n",
       "\n",
       "mpl.figure.prototype._key_event_extra = function(event, name) {\n",
       "    // Handle any extra behaviour associated with a key event\n",
       "}\n",
       "\n",
       "mpl.figure.prototype.key_event = function(event, name) {\n",
       "\n",
       "    // Prevent repeat events\n",
       "    if (name == 'key_press')\n",
       "    {\n",
       "        if (event.which === this._key)\n",
       "            return;\n",
       "        else\n",
       "            this._key = event.which;\n",
       "    }\n",
       "    if (name == 'key_release')\n",
       "        this._key = null;\n",
       "\n",
       "    var value = '';\n",
       "    if (event.ctrlKey && event.which != 17)\n",
       "        value += \"ctrl+\";\n",
       "    if (event.altKey && event.which != 18)\n",
       "        value += \"alt+\";\n",
       "    if (event.shiftKey && event.which != 16)\n",
       "        value += \"shift+\";\n",
       "\n",
       "    value += 'k';\n",
       "    value += event.which.toString();\n",
       "\n",
       "    this._key_event_extra(event, name);\n",
       "\n",
       "    this.send_message(name, {key: value,\n",
       "                             guiEvent: simpleKeys(event)});\n",
       "    return false;\n",
       "}\n",
       "\n",
       "mpl.figure.prototype.toolbar_button_onclick = function(name) {\n",
       "    if (name == 'download') {\n",
       "        this.handle_save(this, null);\n",
       "    } else {\n",
       "        this.send_message(\"toolbar_button\", {name: name});\n",
       "    }\n",
       "};\n",
       "\n",
       "mpl.figure.prototype.toolbar_button_onmouseover = function(tooltip) {\n",
       "    this.message.textContent = tooltip;\n",
       "};\n",
       "mpl.toolbar_items = [[\"Home\", \"Reset original view\", \"fa fa-home icon-home\", \"home\"], [\"Back\", \"Back to  previous view\", \"fa fa-arrow-left icon-arrow-left\", \"back\"], [\"Forward\", \"Forward to next view\", \"fa fa-arrow-right icon-arrow-right\", \"forward\"], [\"\", \"\", \"\", \"\"], [\"Pan\", \"Pan axes with left mouse, zoom with right\", \"fa fa-arrows icon-move\", \"pan\"], [\"Zoom\", \"Zoom to rectangle\", \"fa fa-square-o icon-check-empty\", \"zoom\"], [\"\", \"\", \"\", \"\"], [\"Download\", \"Download plot\", \"fa fa-floppy-o icon-save\", \"download\"]];\n",
       "\n",
       "mpl.extensions = [\"eps\", \"jpeg\", \"pdf\", \"png\", \"ps\", \"raw\", \"svg\", \"tif\"];\n",
       "\n",
       "mpl.default_extension = \"png\";var comm_websocket_adapter = function(comm) {\n",
       "    // Create a \"websocket\"-like object which calls the given IPython comm\n",
       "    // object with the appropriate methods. Currently this is a non binary\n",
       "    // socket, so there is still some room for performance tuning.\n",
       "    var ws = {};\n",
       "\n",
       "    ws.close = function() {\n",
       "        comm.close()\n",
       "    };\n",
       "    ws.send = function(m) {\n",
       "        //console.log('sending', m);\n",
       "        comm.send(m);\n",
       "    };\n",
       "    // Register the callback with on_msg.\n",
       "    comm.on_msg(function(msg) {\n",
       "        //console.log('receiving', msg['content']['data'], msg);\n",
       "        // Pass the mpl event to the overriden (by mpl) onmessage function.\n",
       "        ws.onmessage(msg['content']['data'])\n",
       "    });\n",
       "    return ws;\n",
       "}\n",
       "\n",
       "mpl.mpl_figure_comm = function(comm, msg) {\n",
       "    // This is the function which gets called when the mpl process\n",
       "    // starts-up an IPython Comm through the \"matplotlib\" channel.\n",
       "\n",
       "    var id = msg.content.data.id;\n",
       "    // Get hold of the div created by the display call when the Comm\n",
       "    // socket was opened in Python.\n",
       "    var element = $(\"#\" + id);\n",
       "    var ws_proxy = comm_websocket_adapter(comm)\n",
       "\n",
       "    function ondownload(figure, format) {\n",
       "        window.open(figure.imageObj.src);\n",
       "    }\n",
       "\n",
       "    var fig = new mpl.figure(id, ws_proxy,\n",
       "                           ondownload,\n",
       "                           element.get(0));\n",
       "\n",
       "    // Call onopen now - mpl needs it, as it is assuming we've passed it a real\n",
       "    // web socket which is closed, not our websocket->open comm proxy.\n",
       "    ws_proxy.onopen();\n",
       "\n",
       "    fig.parent_element = element.get(0);\n",
       "    fig.cell_info = mpl.find_output_cell(\"<div id='\" + id + \"'></div>\");\n",
       "    if (!fig.cell_info) {\n",
       "        console.error(\"Failed to find cell for figure\", id, fig);\n",
       "        return;\n",
       "    }\n",
       "\n",
       "    var output_index = fig.cell_info[2]\n",
       "    var cell = fig.cell_info[0];\n",
       "\n",
       "};\n",
       "\n",
       "mpl.figure.prototype.handle_close = function(fig, msg) {\n",
       "    fig.root.unbind('remove')\n",
       "\n",
       "    // Update the output cell to use the data from the current canvas.\n",
       "    fig.push_to_output();\n",
       "    var dataURL = fig.canvas.toDataURL();\n",
       "    // Re-enable the keyboard manager in IPython - without this line, in FF,\n",
       "    // the notebook keyboard shortcuts fail.\n",
       "    IPython.keyboard_manager.enable()\n",
       "    $(fig.parent_element).html('<img src=\"' + dataURL + '\">');\n",
       "    fig.close_ws(fig, msg);\n",
       "}\n",
       "\n",
       "mpl.figure.prototype.close_ws = function(fig, msg){\n",
       "    fig.send_message('closing', msg);\n",
       "    // fig.ws.close()\n",
       "}\n",
       "\n",
       "mpl.figure.prototype.push_to_output = function(remove_interactive) {\n",
       "    // Turn the data on the canvas into data in the output cell.\n",
       "    var dataURL = this.canvas.toDataURL();\n",
       "    this.cell_info[1]['text/html'] = '<img src=\"' + dataURL + '\">';\n",
       "}\n",
       "\n",
       "mpl.figure.prototype.updated_canvas_event = function() {\n",
       "    // Tell IPython that the notebook contents must change.\n",
       "    IPython.notebook.set_dirty(true);\n",
       "    this.send_message(\"ack\", {});\n",
       "    var fig = this;\n",
       "    // Wait a second, then push the new image to the DOM so\n",
       "    // that it is saved nicely (might be nice to debounce this).\n",
       "    setTimeout(function () { fig.push_to_output() }, 1000);\n",
       "}\n",
       "\n",
       "mpl.figure.prototype._init_toolbar = function() {\n",
       "    var fig = this;\n",
       "\n",
       "    var nav_element = $('<div/>')\n",
       "    nav_element.attr('style', 'width: 100%');\n",
       "    this.root.append(nav_element);\n",
       "\n",
       "    // Define a callback function for later on.\n",
       "    function toolbar_event(event) {\n",
       "        return fig.toolbar_button_onclick(event['data']);\n",
       "    }\n",
       "    function toolbar_mouse_event(event) {\n",
       "        return fig.toolbar_button_onmouseover(event['data']);\n",
       "    }\n",
       "\n",
       "    for(var toolbar_ind in mpl.toolbar_items){\n",
       "        var name = mpl.toolbar_items[toolbar_ind][0];\n",
       "        var tooltip = mpl.toolbar_items[toolbar_ind][1];\n",
       "        var image = mpl.toolbar_items[toolbar_ind][2];\n",
       "        var method_name = mpl.toolbar_items[toolbar_ind][3];\n",
       "\n",
       "        if (!name) { continue; };\n",
       "\n",
       "        var button = $('<button class=\"btn btn-default\" href=\"#\" title=\"' + name + '\"><i class=\"fa ' + image + ' fa-lg\"></i></button>');\n",
       "        button.click(method_name, toolbar_event);\n",
       "        button.mouseover(tooltip, toolbar_mouse_event);\n",
       "        nav_element.append(button);\n",
       "    }\n",
       "\n",
       "    // Add the status bar.\n",
       "    var status_bar = $('<span class=\"mpl-message\" style=\"text-align:right; float: right;\"/>');\n",
       "    nav_element.append(status_bar);\n",
       "    this.message = status_bar[0];\n",
       "\n",
       "    // Add the close button to the window.\n",
       "    var buttongrp = $('<div class=\"btn-group inline pull-right\"></div>');\n",
       "    var button = $('<button class=\"btn btn-mini btn-primary\" href=\"#\" title=\"Stop Interaction\"><i class=\"fa fa-power-off icon-remove icon-large\"></i></button>');\n",
       "    button.click(function (evt) { fig.handle_close(fig, {}); } );\n",
       "    button.mouseover('Stop Interaction', toolbar_mouse_event);\n",
       "    buttongrp.append(button);\n",
       "    var titlebar = this.root.find($('.ui-dialog-titlebar'));\n",
       "    titlebar.prepend(buttongrp);\n",
       "}\n",
       "\n",
       "mpl.figure.prototype._root_extra_style = function(el){\n",
       "    var fig = this\n",
       "    el.on(\"remove\", function(){\n",
       "\tfig.close_ws(fig, {});\n",
       "    });\n",
       "}\n",
       "\n",
       "mpl.figure.prototype._canvas_extra_style = function(el){\n",
       "    // this is important to make the div 'focusable\n",
       "    el.attr('tabindex', 0)\n",
       "    // reach out to IPython and tell the keyboard manager to turn it's self\n",
       "    // off when our div gets focus\n",
       "\n",
       "    // location in version 3\n",
       "    if (IPython.notebook.keyboard_manager) {\n",
       "        IPython.notebook.keyboard_manager.register_events(el);\n",
       "    }\n",
       "    else {\n",
       "        // location in version 2\n",
       "        IPython.keyboard_manager.register_events(el);\n",
       "    }\n",
       "\n",
       "}\n",
       "\n",
       "mpl.figure.prototype._key_event_extra = function(event, name) {\n",
       "    var manager = IPython.notebook.keyboard_manager;\n",
       "    if (!manager)\n",
       "        manager = IPython.keyboard_manager;\n",
       "\n",
       "    // Check for shift+enter\n",
       "    if (event.shiftKey && event.which == 13) {\n",
       "        this.canvas_div.blur();\n",
       "        event.shiftKey = false;\n",
       "        // Send a \"J\" for go to next cell\n",
       "        event.which = 74;\n",
       "        event.keyCode = 74;\n",
       "        manager.command_mode();\n",
       "        manager.handle_keydown(event);\n",
       "    }\n",
       "}\n",
       "\n",
       "mpl.figure.prototype.handle_save = function(fig, msg) {\n",
       "    fig.ondownload(fig, null);\n",
       "}\n",
       "\n",
       "\n",
       "mpl.find_output_cell = function(html_output) {\n",
       "    // Return the cell and output element which can be found *uniquely* in the notebook.\n",
       "    // Note - this is a bit hacky, but it is done because the \"notebook_saving.Notebook\"\n",
       "    // IPython event is triggered only after the cells have been serialised, which for\n",
       "    // our purposes (turning an active figure into a static one), is too late.\n",
       "    var cells = IPython.notebook.get_cells();\n",
       "    var ncells = cells.length;\n",
       "    for (var i=0; i<ncells; i++) {\n",
       "        var cell = cells[i];\n",
       "        if (cell.cell_type === 'code'){\n",
       "            for (var j=0; j<cell.output_area.outputs.length; j++) {\n",
       "                var data = cell.output_area.outputs[j];\n",
       "                if (data.data) {\n",
       "                    // IPython >= 3 moved mimebundle to data attribute of output\n",
       "                    data = data.data;\n",
       "                }\n",
       "                if (data['text/html'] == html_output) {\n",
       "                    return [cell, data, j];\n",
       "                }\n",
       "            }\n",
       "        }\n",
       "    }\n",
       "}\n",
       "\n",
       "// Register the function which deals with the matplotlib target/channel.\n",
       "// The kernel may be null if the page has been refreshed.\n",
       "if (IPython.notebook.kernel != null) {\n",
       "    IPython.notebook.kernel.comm_manager.register_target('matplotlib', mpl.mpl_figure_comm);\n",
       "}\n"
      ],
      "text/plain": [
       "<IPython.core.display.Javascript object>"
      ]
     },
     "metadata": {},
     "output_type": "display_data"
    },
    {
     "data": {
      "text/html": [
       "<img src=\"data:image/png;base64,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\">"
      ],
      "text/plain": [
       "<IPython.core.display.HTML object>"
      ]
     },
     "metadata": {},
     "output_type": "display_data"
    }
   ],
   "source": [
    "barwidth = 0.75; \n",
    "fig, ax = plt.subplots(figsize=(9, 7));\n",
    "rects1 = ax.bar(0.5,RTanalysis.LowC.mean(),barwidth,yerr=RTstderror.LowC,ecolor='k',edgecolor=sns.xkcd_rgb['green'],linewidth = 2, facecolor='none',error_kw=dict(lw=3),label='Congruent');\n",
    "rects2 = ax.bar(1.5,RTanalysis.LowIC.mean(),barwidth,color=sns.xkcd_rgb['green'],yerr=RTstderror.LowIC,ecolor='k',error_kw=dict(lw=3),label='Incongruent');\n",
    "rects3 = ax.bar(3,RTanalysis.HighC.mean(),barwidth,yerr=RTstderror.HighC,ecolor='k',edgecolor=(0.3,0.9,0.3),linewidth = 2, facecolor='none',error_kw=dict(lw=3));\n",
    "rects4 = ax.bar(4,RTanalysis.HighIC.mean(),barwidth,color=(0.3,0.9,0.3),yerr=RTstderror.HighIC,ecolor='k',error_kw=dict(lw=3));\n",
    "sns.set(context='notebook', style='white', font='Myriad Pro', font_scale=2, color_codes=False, rc=None);\n",
    "ax.set_ylim(610,730);\n",
    "ax.set_xlim(0,6);\n",
    "ax.set_xticklabels(('Low', 'High'));\n",
    "ax.set_xticks([1 + barwidth/2, 3.5 + barwidth/2]);\n",
    "ax.set_yticks(np.arange(610, 711, 20));\n",
    "plt.legend([rects1,rects2], ['Congruent','Incongruent'], loc='upper right',fontsize=18,title='Trial Type')\n",
    "plt.legend(title='Trial Type',fontsize=19)\n",
    "plt.title('S-C RT Cueing Effect', fontsize=26,fontweight=\"bold\")\n",
    "plt.ylabel('Reaction Time (ms)', fontsize=24,fontweight=\"bold\")\n",
    "plt.xlabel('S2 Control-Demand Cue', fontsize=24,fontweight=\"bold\")\n",
    "sns.despine();\n",
    "\n",
    "plt.show()"
   ]
  },
  {
   "cell_type": "code",
   "execution_count": 253,
   "metadata": {},
   "outputs": [
    {
     "data": {
      "application/javascript": [
       "/* Put everything inside the global mpl namespace */\n",
       "window.mpl = {};\n",
       "\n",
       "mpl.get_websocket_type = function() {\n",
       "    if (typeof(WebSocket) !== 'undefined') {\n",
       "        return WebSocket;\n",
       "    } else if (typeof(MozWebSocket) !== 'undefined') {\n",
       "        return MozWebSocket;\n",
       "    } else {\n",
       "        alert('Your browser does not have WebSocket support.' +\n",
       "              'Please try Chrome, Safari or Firefox ≥ 6. ' +\n",
       "              'Firefox 4 and 5 are also supported but you ' +\n",
       "              'have to enable WebSockets in about:config.');\n",
       "    };\n",
       "}\n",
       "\n",
       "mpl.figure = function(figure_id, websocket, ondownload, parent_element) {\n",
       "    this.id = figure_id;\n",
       "\n",
       "    this.ws = websocket;\n",
       "\n",
       "    this.supports_binary = (this.ws.binaryType != undefined);\n",
       "\n",
       "    if (!this.supports_binary) {\n",
       "        var warnings = document.getElementById(\"mpl-warnings\");\n",
       "        if (warnings) {\n",
       "            warnings.style.display = 'block';\n",
       "            warnings.textContent = (\n",
       "                \"This browser does not support binary websocket messages. \" +\n",
       "                    \"Performance may be slow.\");\n",
       "        }\n",
       "    }\n",
       "\n",
       "    this.imageObj = new Image();\n",
       "\n",
       "    this.context = undefined;\n",
       "    this.message = undefined;\n",
       "    this.canvas = undefined;\n",
       "    this.rubberband_canvas = undefined;\n",
       "    this.rubberband_context = undefined;\n",
       "    this.format_dropdown = undefined;\n",
       "\n",
       "    this.image_mode = 'full';\n",
       "\n",
       "    this.root = $('<div/>');\n",
       "    this._root_extra_style(this.root)\n",
       "    this.root.attr('style', 'display: inline-block');\n",
       "\n",
       "    $(parent_element).append(this.root);\n",
       "\n",
       "    this._init_header(this);\n",
       "    this._init_canvas(this);\n",
       "    this._init_toolbar(this);\n",
       "\n",
       "    var fig = this;\n",
       "\n",
       "    this.waiting = false;\n",
       "\n",
       "    this.ws.onopen =  function () {\n",
       "            fig.send_message(\"supports_binary\", {value: fig.supports_binary});\n",
       "            fig.send_message(\"send_image_mode\", {});\n",
       "            fig.send_message(\"refresh\", {});\n",
       "        }\n",
       "\n",
       "    this.imageObj.onload = function() {\n",
       "            if (fig.image_mode == 'full') {\n",
       "                // Full images could contain transparency (where diff images\n",
       "                // almost always do), so we need to clear the canvas so that\n",
       "                // there is no ghosting.\n",
       "                fig.context.clearRect(0, 0, fig.canvas.width, fig.canvas.height);\n",
       "            }\n",
       "            fig.context.drawImage(fig.imageObj, 0, 0);\n",
       "        };\n",
       "\n",
       "    this.imageObj.onunload = function() {\n",
       "        this.ws.close();\n",
       "    }\n",
       "\n",
       "    this.ws.onmessage = this._make_on_message_function(this);\n",
       "\n",
       "    this.ondownload = ondownload;\n",
       "}\n",
       "\n",
       "mpl.figure.prototype._init_header = function() {\n",
       "    var titlebar = $(\n",
       "        '<div class=\"ui-dialog-titlebar ui-widget-header ui-corner-all ' +\n",
       "        'ui-helper-clearfix\"/>');\n",
       "    var titletext = $(\n",
       "        '<div class=\"ui-dialog-title\" style=\"width: 100%; ' +\n",
       "        'text-align: center; padding: 3px;\"/>');\n",
       "    titlebar.append(titletext)\n",
       "    this.root.append(titlebar);\n",
       "    this.header = titletext[0];\n",
       "}\n",
       "\n",
       "\n",
       "\n",
       "mpl.figure.prototype._canvas_extra_style = function(canvas_div) {\n",
       "\n",
       "}\n",
       "\n",
       "\n",
       "mpl.figure.prototype._root_extra_style = function(canvas_div) {\n",
       "\n",
       "}\n",
       "\n",
       "mpl.figure.prototype._init_canvas = function() {\n",
       "    var fig = this;\n",
       "\n",
       "    var canvas_div = $('<div/>');\n",
       "\n",
       "    canvas_div.attr('style', 'position: relative; clear: both; outline: 0');\n",
       "\n",
       "    function canvas_keyboard_event(event) {\n",
       "        return fig.key_event(event, event['data']);\n",
       "    }\n",
       "\n",
       "    canvas_div.keydown('key_press', canvas_keyboard_event);\n",
       "    canvas_div.keyup('key_release', canvas_keyboard_event);\n",
       "    this.canvas_div = canvas_div\n",
       "    this._canvas_extra_style(canvas_div)\n",
       "    this.root.append(canvas_div);\n",
       "\n",
       "    var canvas = $('<canvas/>');\n",
       "    canvas.addClass('mpl-canvas');\n",
       "    canvas.attr('style', \"left: 0; top: 0; z-index: 0; outline: 0\")\n",
       "\n",
       "    this.canvas = canvas[0];\n",
       "    this.context = canvas[0].getContext(\"2d\");\n",
       "\n",
       "    var rubberband = $('<canvas/>');\n",
       "    rubberband.attr('style', \"position: absolute; left: 0; top: 0; z-index: 1;\")\n",
       "\n",
       "    var pass_mouse_events = true;\n",
       "\n",
       "    canvas_div.resizable({\n",
       "        start: function(event, ui) {\n",
       "            pass_mouse_events = false;\n",
       "        },\n",
       "        resize: function(event, ui) {\n",
       "            fig.request_resize(ui.size.width, ui.size.height);\n",
       "        },\n",
       "        stop: function(event, ui) {\n",
       "            pass_mouse_events = true;\n",
       "            fig.request_resize(ui.size.width, ui.size.height);\n",
       "        },\n",
       "    });\n",
       "\n",
       "    function mouse_event_fn(event) {\n",
       "        if (pass_mouse_events)\n",
       "            return fig.mouse_event(event, event['data']);\n",
       "    }\n",
       "\n",
       "    rubberband.mousedown('button_press', mouse_event_fn);\n",
       "    rubberband.mouseup('button_release', mouse_event_fn);\n",
       "    // Throttle sequential mouse events to 1 every 20ms.\n",
       "    rubberband.mousemove('motion_notify', mouse_event_fn);\n",
       "\n",
       "    rubberband.mouseenter('figure_enter', mouse_event_fn);\n",
       "    rubberband.mouseleave('figure_leave', mouse_event_fn);\n",
       "\n",
       "    canvas_div.on(\"wheel\", function (event) {\n",
       "        event = event.originalEvent;\n",
       "        event['data'] = 'scroll'\n",
       "        if (event.deltaY < 0) {\n",
       "            event.step = 1;\n",
       "        } else {\n",
       "            event.step = -1;\n",
       "        }\n",
       "        mouse_event_fn(event);\n",
       "    });\n",
       "\n",
       "    canvas_div.append(canvas);\n",
       "    canvas_div.append(rubberband);\n",
       "\n",
       "    this.rubberband = rubberband;\n",
       "    this.rubberband_canvas = rubberband[0];\n",
       "    this.rubberband_context = rubberband[0].getContext(\"2d\");\n",
       "    this.rubberband_context.strokeStyle = \"#000000\";\n",
       "\n",
       "    this._resize_canvas = function(width, height) {\n",
       "        // Keep the size of the canvas, canvas container, and rubber band\n",
       "        // canvas in synch.\n",
       "        canvas_div.css('width', width)\n",
       "        canvas_div.css('height', height)\n",
       "\n",
       "        canvas.attr('width', width);\n",
       "        canvas.attr('height', height);\n",
       "\n",
       "        rubberband.attr('width', width);\n",
       "        rubberband.attr('height', height);\n",
       "    }\n",
       "\n",
       "    // Set the figure to an initial 600x600px, this will subsequently be updated\n",
       "    // upon first draw.\n",
       "    this._resize_canvas(600, 600);\n",
       "\n",
       "    // Disable right mouse context menu.\n",
       "    $(this.rubberband_canvas).bind(\"contextmenu\",function(e){\n",
       "        return false;\n",
       "    });\n",
       "\n",
       "    function set_focus () {\n",
       "        canvas.focus();\n",
       "        canvas_div.focus();\n",
       "    }\n",
       "\n",
       "    window.setTimeout(set_focus, 100);\n",
       "}\n",
       "\n",
       "mpl.figure.prototype._init_toolbar = function() {\n",
       "    var fig = this;\n",
       "\n",
       "    var nav_element = $('<div/>')\n",
       "    nav_element.attr('style', 'width: 100%');\n",
       "    this.root.append(nav_element);\n",
       "\n",
       "    // Define a callback function for later on.\n",
       "    function toolbar_event(event) {\n",
       "        return fig.toolbar_button_onclick(event['data']);\n",
       "    }\n",
       "    function toolbar_mouse_event(event) {\n",
       "        return fig.toolbar_button_onmouseover(event['data']);\n",
       "    }\n",
       "\n",
       "    for(var toolbar_ind in mpl.toolbar_items) {\n",
       "        var name = mpl.toolbar_items[toolbar_ind][0];\n",
       "        var tooltip = mpl.toolbar_items[toolbar_ind][1];\n",
       "        var image = mpl.toolbar_items[toolbar_ind][2];\n",
       "        var method_name = mpl.toolbar_items[toolbar_ind][3];\n",
       "\n",
       "        if (!name) {\n",
       "            // put a spacer in here.\n",
       "            continue;\n",
       "        }\n",
       "        var button = $('<button/>');\n",
       "        button.addClass('ui-button ui-widget ui-state-default ui-corner-all ' +\n",
       "                        'ui-button-icon-only');\n",
       "        button.attr('role', 'button');\n",
       "        button.attr('aria-disabled', 'false');\n",
       "        button.click(method_name, toolbar_event);\n",
       "        button.mouseover(tooltip, toolbar_mouse_event);\n",
       "\n",
       "        var icon_img = $('<span/>');\n",
       "        icon_img.addClass('ui-button-icon-primary ui-icon');\n",
       "        icon_img.addClass(image);\n",
       "        icon_img.addClass('ui-corner-all');\n",
       "\n",
       "        var tooltip_span = $('<span/>');\n",
       "        tooltip_span.addClass('ui-button-text');\n",
       "        tooltip_span.html(tooltip);\n",
       "\n",
       "        button.append(icon_img);\n",
       "        button.append(tooltip_span);\n",
       "\n",
       "        nav_element.append(button);\n",
       "    }\n",
       "\n",
       "    var fmt_picker_span = $('<span/>');\n",
       "\n",
       "    var fmt_picker = $('<select/>');\n",
       "    fmt_picker.addClass('mpl-toolbar-option ui-widget ui-widget-content');\n",
       "    fmt_picker_span.append(fmt_picker);\n",
       "    nav_element.append(fmt_picker_span);\n",
       "    this.format_dropdown = fmt_picker[0];\n",
       "\n",
       "    for (var ind in mpl.extensions) {\n",
       "        var fmt = mpl.extensions[ind];\n",
       "        var option = $(\n",
       "            '<option/>', {selected: fmt === mpl.default_extension}).html(fmt);\n",
       "        fmt_picker.append(option)\n",
       "    }\n",
       "\n",
       "    // Add hover states to the ui-buttons\n",
       "    $( \".ui-button\" ).hover(\n",
       "        function() { $(this).addClass(\"ui-state-hover\");},\n",
       "        function() { $(this).removeClass(\"ui-state-hover\");}\n",
       "    );\n",
       "\n",
       "    var status_bar = $('<span class=\"mpl-message\"/>');\n",
       "    nav_element.append(status_bar);\n",
       "    this.message = status_bar[0];\n",
       "}\n",
       "\n",
       "mpl.figure.prototype.request_resize = function(x_pixels, y_pixels) {\n",
       "    // Request matplotlib to resize the figure. Matplotlib will then trigger a resize in the client,\n",
       "    // which will in turn request a refresh of the image.\n",
       "    this.send_message('resize', {'width': x_pixels, 'height': y_pixels});\n",
       "}\n",
       "\n",
       "mpl.figure.prototype.send_message = function(type, properties) {\n",
       "    properties['type'] = type;\n",
       "    properties['figure_id'] = this.id;\n",
       "    this.ws.send(JSON.stringify(properties));\n",
       "}\n",
       "\n",
       "mpl.figure.prototype.send_draw_message = function() {\n",
       "    if (!this.waiting) {\n",
       "        this.waiting = true;\n",
       "        this.ws.send(JSON.stringify({type: \"draw\", figure_id: this.id}));\n",
       "    }\n",
       "}\n",
       "\n",
       "\n",
       "mpl.figure.prototype.handle_save = function(fig, msg) {\n",
       "    var format_dropdown = fig.format_dropdown;\n",
       "    var format = format_dropdown.options[format_dropdown.selectedIndex].value;\n",
       "    fig.ondownload(fig, format);\n",
       "}\n",
       "\n",
       "\n",
       "mpl.figure.prototype.handle_resize = function(fig, msg) {\n",
       "    var size = msg['size'];\n",
       "    if (size[0] != fig.canvas.width || size[1] != fig.canvas.height) {\n",
       "        fig._resize_canvas(size[0], size[1]);\n",
       "        fig.send_message(\"refresh\", {});\n",
       "    };\n",
       "}\n",
       "\n",
       "mpl.figure.prototype.handle_rubberband = function(fig, msg) {\n",
       "    var x0 = msg['x0'];\n",
       "    var y0 = fig.canvas.height - msg['y0'];\n",
       "    var x1 = msg['x1'];\n",
       "    var y1 = fig.canvas.height - msg['y1'];\n",
       "    x0 = Math.floor(x0) + 0.5;\n",
       "    y0 = Math.floor(y0) + 0.5;\n",
       "    x1 = Math.floor(x1) + 0.5;\n",
       "    y1 = Math.floor(y1) + 0.5;\n",
       "    var min_x = Math.min(x0, x1);\n",
       "    var min_y = Math.min(y0, y1);\n",
       "    var width = Math.abs(x1 - x0);\n",
       "    var height = Math.abs(y1 - y0);\n",
       "\n",
       "    fig.rubberband_context.clearRect(\n",
       "        0, 0, fig.canvas.width, fig.canvas.height);\n",
       "\n",
       "    fig.rubberband_context.strokeRect(min_x, min_y, width, height);\n",
       "}\n",
       "\n",
       "mpl.figure.prototype.handle_figure_label = function(fig, msg) {\n",
       "    // Updates the figure title.\n",
       "    fig.header.textContent = msg['label'];\n",
       "}\n",
       "\n",
       "mpl.figure.prototype.handle_cursor = function(fig, msg) {\n",
       "    var cursor = msg['cursor'];\n",
       "    switch(cursor)\n",
       "    {\n",
       "    case 0:\n",
       "        cursor = 'pointer';\n",
       "        break;\n",
       "    case 1:\n",
       "        cursor = 'default';\n",
       "        break;\n",
       "    case 2:\n",
       "        cursor = 'crosshair';\n",
       "        break;\n",
       "    case 3:\n",
       "        cursor = 'move';\n",
       "        break;\n",
       "    }\n",
       "    fig.rubberband_canvas.style.cursor = cursor;\n",
       "}\n",
       "\n",
       "mpl.figure.prototype.handle_message = function(fig, msg) {\n",
       "    fig.message.textContent = msg['message'];\n",
       "}\n",
       "\n",
       "mpl.figure.prototype.handle_draw = function(fig, msg) {\n",
       "    // Request the server to send over a new figure.\n",
       "    fig.send_draw_message();\n",
       "}\n",
       "\n",
       "mpl.figure.prototype.handle_image_mode = function(fig, msg) {\n",
       "    fig.image_mode = msg['mode'];\n",
       "}\n",
       "\n",
       "mpl.figure.prototype.updated_canvas_event = function() {\n",
       "    // Called whenever the canvas gets updated.\n",
       "    this.send_message(\"ack\", {});\n",
       "}\n",
       "\n",
       "// A function to construct a web socket function for onmessage handling.\n",
       "// Called in the figure constructor.\n",
       "mpl.figure.prototype._make_on_message_function = function(fig) {\n",
       "    return function socket_on_message(evt) {\n",
       "        if (evt.data instanceof Blob) {\n",
       "            /* FIXME: We get \"Resource interpreted as Image but\n",
       "             * transferred with MIME type text/plain:\" errors on\n",
       "             * Chrome.  But how to set the MIME type?  It doesn't seem\n",
       "             * to be part of the websocket stream */\n",
       "            evt.data.type = \"image/png\";\n",
       "\n",
       "            /* Free the memory for the previous frames */\n",
       "            if (fig.imageObj.src) {\n",
       "                (window.URL || window.webkitURL).revokeObjectURL(\n",
       "                    fig.imageObj.src);\n",
       "            }\n",
       "\n",
       "            fig.imageObj.src = (window.URL || window.webkitURL).createObjectURL(\n",
       "                evt.data);\n",
       "            fig.updated_canvas_event();\n",
       "            fig.waiting = false;\n",
       "            return;\n",
       "        }\n",
       "        else if (typeof evt.data === 'string' && evt.data.slice(0, 21) == \"data:image/png;base64\") {\n",
       "            fig.imageObj.src = evt.data;\n",
       "            fig.updated_canvas_event();\n",
       "            fig.waiting = false;\n",
       "            return;\n",
       "        }\n",
       "\n",
       "        var msg = JSON.parse(evt.data);\n",
       "        var msg_type = msg['type'];\n",
       "\n",
       "        // Call the  \"handle_{type}\" callback, which takes\n",
       "        // the figure and JSON message as its only arguments.\n",
       "        try {\n",
       "            var callback = fig[\"handle_\" + msg_type];\n",
       "        } catch (e) {\n",
       "            console.log(\"No handler for the '\" + msg_type + \"' message type: \", msg);\n",
       "            return;\n",
       "        }\n",
       "\n",
       "        if (callback) {\n",
       "            try {\n",
       "                // console.log(\"Handling '\" + msg_type + \"' message: \", msg);\n",
       "                callback(fig, msg);\n",
       "            } catch (e) {\n",
       "                console.log(\"Exception inside the 'handler_\" + msg_type + \"' callback:\", e, e.stack, msg);\n",
       "            }\n",
       "        }\n",
       "    };\n",
       "}\n",
       "\n",
       "// from http://stackoverflow.com/questions/1114465/getting-mouse-location-in-canvas\n",
       "mpl.findpos = function(e) {\n",
       "    //this section is from http://www.quirksmode.org/js/events_properties.html\n",
       "    var targ;\n",
       "    if (!e)\n",
       "        e = window.event;\n",
       "    if (e.target)\n",
       "        targ = e.target;\n",
       "    else if (e.srcElement)\n",
       "        targ = e.srcElement;\n",
       "    if (targ.nodeType == 3) // defeat Safari bug\n",
       "        targ = targ.parentNode;\n",
       "\n",
       "    // jQuery normalizes the pageX and pageY\n",
       "    // pageX,Y are the mouse positions relative to the document\n",
       "    // offset() returns the position of the element relative to the document\n",
       "    var x = e.pageX - $(targ).offset().left;\n",
       "    var y = e.pageY - $(targ).offset().top;\n",
       "\n",
       "    return {\"x\": x, \"y\": y};\n",
       "};\n",
       "\n",
       "/*\n",
       " * return a copy of an object with only non-object keys\n",
       " * we need this to avoid circular references\n",
       " * http://stackoverflow.com/a/24161582/3208463\n",
       " */\n",
       "function simpleKeys (original) {\n",
       "  return Object.keys(original).reduce(function (obj, key) {\n",
       "    if (typeof original[key] !== 'object')\n",
       "        obj[key] = original[key]\n",
       "    return obj;\n",
       "  }, {});\n",
       "}\n",
       "\n",
       "mpl.figure.prototype.mouse_event = function(event, name) {\n",
       "    var canvas_pos = mpl.findpos(event)\n",
       "\n",
       "    if (name === 'button_press')\n",
       "    {\n",
       "        this.canvas.focus();\n",
       "        this.canvas_div.focus();\n",
       "    }\n",
       "\n",
       "    var x = canvas_pos.x;\n",
       "    var y = canvas_pos.y;\n",
       "\n",
       "    this.send_message(name, {x: x, y: y, button: event.button,\n",
       "                             step: event.step,\n",
       "                             guiEvent: simpleKeys(event)});\n",
       "\n",
       "    /* This prevents the web browser from automatically changing to\n",
       "     * the text insertion cursor when the button is pressed.  We want\n",
       "     * to control all of the cursor setting manually through the\n",
       "     * 'cursor' event from matplotlib */\n",
       "    event.preventDefault();\n",
       "    return false;\n",
       "}\n",
       "\n",
       "mpl.figure.prototype._key_event_extra = function(event, name) {\n",
       "    // Handle any extra behaviour associated with a key event\n",
       "}\n",
       "\n",
       "mpl.figure.prototype.key_event = function(event, name) {\n",
       "\n",
       "    // Prevent repeat events\n",
       "    if (name == 'key_press')\n",
       "    {\n",
       "        if (event.which === this._key)\n",
       "            return;\n",
       "        else\n",
       "            this._key = event.which;\n",
       "    }\n",
       "    if (name == 'key_release')\n",
       "        this._key = null;\n",
       "\n",
       "    var value = '';\n",
       "    if (event.ctrlKey && event.which != 17)\n",
       "        value += \"ctrl+\";\n",
       "    if (event.altKey && event.which != 18)\n",
       "        value += \"alt+\";\n",
       "    if (event.shiftKey && event.which != 16)\n",
       "        value += \"shift+\";\n",
       "\n",
       "    value += 'k';\n",
       "    value += event.which.toString();\n",
       "\n",
       "    this._key_event_extra(event, name);\n",
       "\n",
       "    this.send_message(name, {key: value,\n",
       "                             guiEvent: simpleKeys(event)});\n",
       "    return false;\n",
       "}\n",
       "\n",
       "mpl.figure.prototype.toolbar_button_onclick = function(name) {\n",
       "    if (name == 'download') {\n",
       "        this.handle_save(this, null);\n",
       "    } else {\n",
       "        this.send_message(\"toolbar_button\", {name: name});\n",
       "    }\n",
       "};\n",
       "\n",
       "mpl.figure.prototype.toolbar_button_onmouseover = function(tooltip) {\n",
       "    this.message.textContent = tooltip;\n",
       "};\n",
       "mpl.toolbar_items = [[\"Home\", \"Reset original view\", \"fa fa-home icon-home\", \"home\"], [\"Back\", \"Back to  previous view\", \"fa fa-arrow-left icon-arrow-left\", \"back\"], [\"Forward\", \"Forward to next view\", \"fa fa-arrow-right icon-arrow-right\", \"forward\"], [\"\", \"\", \"\", \"\"], [\"Pan\", \"Pan axes with left mouse, zoom with right\", \"fa fa-arrows icon-move\", \"pan\"], [\"Zoom\", \"Zoom to rectangle\", \"fa fa-square-o icon-check-empty\", \"zoom\"], [\"\", \"\", \"\", \"\"], [\"Download\", \"Download plot\", \"fa fa-floppy-o icon-save\", \"download\"]];\n",
       "\n",
       "mpl.extensions = [\"eps\", \"jpeg\", \"pdf\", \"png\", \"ps\", \"raw\", \"svg\", \"tif\"];\n",
       "\n",
       "mpl.default_extension = \"png\";var comm_websocket_adapter = function(comm) {\n",
       "    // Create a \"websocket\"-like object which calls the given IPython comm\n",
       "    // object with the appropriate methods. Currently this is a non binary\n",
       "    // socket, so there is still some room for performance tuning.\n",
       "    var ws = {};\n",
       "\n",
       "    ws.close = function() {\n",
       "        comm.close()\n",
       "    };\n",
       "    ws.send = function(m) {\n",
       "        //console.log('sending', m);\n",
       "        comm.send(m);\n",
       "    };\n",
       "    // Register the callback with on_msg.\n",
       "    comm.on_msg(function(msg) {\n",
       "        //console.log('receiving', msg['content']['data'], msg);\n",
       "        // Pass the mpl event to the overriden (by mpl) onmessage function.\n",
       "        ws.onmessage(msg['content']['data'])\n",
       "    });\n",
       "    return ws;\n",
       "}\n",
       "\n",
       "mpl.mpl_figure_comm = function(comm, msg) {\n",
       "    // This is the function which gets called when the mpl process\n",
       "    // starts-up an IPython Comm through the \"matplotlib\" channel.\n",
       "\n",
       "    var id = msg.content.data.id;\n",
       "    // Get hold of the div created by the display call when the Comm\n",
       "    // socket was opened in Python.\n",
       "    var element = $(\"#\" + id);\n",
       "    var ws_proxy = comm_websocket_adapter(comm)\n",
       "\n",
       "    function ondownload(figure, format) {\n",
       "        window.open(figure.imageObj.src);\n",
       "    }\n",
       "\n",
       "    var fig = new mpl.figure(id, ws_proxy,\n",
       "                           ondownload,\n",
       "                           element.get(0));\n",
       "\n",
       "    // Call onopen now - mpl needs it, as it is assuming we've passed it a real\n",
       "    // web socket which is closed, not our websocket->open comm proxy.\n",
       "    ws_proxy.onopen();\n",
       "\n",
       "    fig.parent_element = element.get(0);\n",
       "    fig.cell_info = mpl.find_output_cell(\"<div id='\" + id + \"'></div>\");\n",
       "    if (!fig.cell_info) {\n",
       "        console.error(\"Failed to find cell for figure\", id, fig);\n",
       "        return;\n",
       "    }\n",
       "\n",
       "    var output_index = fig.cell_info[2]\n",
       "    var cell = fig.cell_info[0];\n",
       "\n",
       "};\n",
       "\n",
       "mpl.figure.prototype.handle_close = function(fig, msg) {\n",
       "    fig.root.unbind('remove')\n",
       "\n",
       "    // Update the output cell to use the data from the current canvas.\n",
       "    fig.push_to_output();\n",
       "    var dataURL = fig.canvas.toDataURL();\n",
       "    // Re-enable the keyboard manager in IPython - without this line, in FF,\n",
       "    // the notebook keyboard shortcuts fail.\n",
       "    IPython.keyboard_manager.enable()\n",
       "    $(fig.parent_element).html('<img src=\"' + dataURL + '\">');\n",
       "    fig.close_ws(fig, msg);\n",
       "}\n",
       "\n",
       "mpl.figure.prototype.close_ws = function(fig, msg){\n",
       "    fig.send_message('closing', msg);\n",
       "    // fig.ws.close()\n",
       "}\n",
       "\n",
       "mpl.figure.prototype.push_to_output = function(remove_interactive) {\n",
       "    // Turn the data on the canvas into data in the output cell.\n",
       "    var dataURL = this.canvas.toDataURL();\n",
       "    this.cell_info[1]['text/html'] = '<img src=\"' + dataURL + '\">';\n",
       "}\n",
       "\n",
       "mpl.figure.prototype.updated_canvas_event = function() {\n",
       "    // Tell IPython that the notebook contents must change.\n",
       "    IPython.notebook.set_dirty(true);\n",
       "    this.send_message(\"ack\", {});\n",
       "    var fig = this;\n",
       "    // Wait a second, then push the new image to the DOM so\n",
       "    // that it is saved nicely (might be nice to debounce this).\n",
       "    setTimeout(function () { fig.push_to_output() }, 1000);\n",
       "}\n",
       "\n",
       "mpl.figure.prototype._init_toolbar = function() {\n",
       "    var fig = this;\n",
       "\n",
       "    var nav_element = $('<div/>')\n",
       "    nav_element.attr('style', 'width: 100%');\n",
       "    this.root.append(nav_element);\n",
       "\n",
       "    // Define a callback function for later on.\n",
       "    function toolbar_event(event) {\n",
       "        return fig.toolbar_button_onclick(event['data']);\n",
       "    }\n",
       "    function toolbar_mouse_event(event) {\n",
       "        return fig.toolbar_button_onmouseover(event['data']);\n",
       "    }\n",
       "\n",
       "    for(var toolbar_ind in mpl.toolbar_items){\n",
       "        var name = mpl.toolbar_items[toolbar_ind][0];\n",
       "        var tooltip = mpl.toolbar_items[toolbar_ind][1];\n",
       "        var image = mpl.toolbar_items[toolbar_ind][2];\n",
       "        var method_name = mpl.toolbar_items[toolbar_ind][3];\n",
       "\n",
       "        if (!name) { continue; };\n",
       "\n",
       "        var button = $('<button class=\"btn btn-default\" href=\"#\" title=\"' + name + '\"><i class=\"fa ' + image + ' fa-lg\"></i></button>');\n",
       "        button.click(method_name, toolbar_event);\n",
       "        button.mouseover(tooltip, toolbar_mouse_event);\n",
       "        nav_element.append(button);\n",
       "    }\n",
       "\n",
       "    // Add the status bar.\n",
       "    var status_bar = $('<span class=\"mpl-message\" style=\"text-align:right; float: right;\"/>');\n",
       "    nav_element.append(status_bar);\n",
       "    this.message = status_bar[0];\n",
       "\n",
       "    // Add the close button to the window.\n",
       "    var buttongrp = $('<div class=\"btn-group inline pull-right\"></div>');\n",
       "    var button = $('<button class=\"btn btn-mini btn-primary\" href=\"#\" title=\"Stop Interaction\"><i class=\"fa fa-power-off icon-remove icon-large\"></i></button>');\n",
       "    button.click(function (evt) { fig.handle_close(fig, {}); } );\n",
       "    button.mouseover('Stop Interaction', toolbar_mouse_event);\n",
       "    buttongrp.append(button);\n",
       "    var titlebar = this.root.find($('.ui-dialog-titlebar'));\n",
       "    titlebar.prepend(buttongrp);\n",
       "}\n",
       "\n",
       "mpl.figure.prototype._root_extra_style = function(el){\n",
       "    var fig = this\n",
       "    el.on(\"remove\", function(){\n",
       "\tfig.close_ws(fig, {});\n",
       "    });\n",
       "}\n",
       "\n",
       "mpl.figure.prototype._canvas_extra_style = function(el){\n",
       "    // this is important to make the div 'focusable\n",
       "    el.attr('tabindex', 0)\n",
       "    // reach out to IPython and tell the keyboard manager to turn it's self\n",
       "    // off when our div gets focus\n",
       "\n",
       "    // location in version 3\n",
       "    if (IPython.notebook.keyboard_manager) {\n",
       "        IPython.notebook.keyboard_manager.register_events(el);\n",
       "    }\n",
       "    else {\n",
       "        // location in version 2\n",
       "        IPython.keyboard_manager.register_events(el);\n",
       "    }\n",
       "\n",
       "}\n",
       "\n",
       "mpl.figure.prototype._key_event_extra = function(event, name) {\n",
       "    var manager = IPython.notebook.keyboard_manager;\n",
       "    if (!manager)\n",
       "        manager = IPython.keyboard_manager;\n",
       "\n",
       "    // Check for shift+enter\n",
       "    if (event.shiftKey && event.which == 13) {\n",
       "        this.canvas_div.blur();\n",
       "        event.shiftKey = false;\n",
       "        // Send a \"J\" for go to next cell\n",
       "        event.which = 74;\n",
       "        event.keyCode = 74;\n",
       "        manager.command_mode();\n",
       "        manager.handle_keydown(event);\n",
       "    }\n",
       "}\n",
       "\n",
       "mpl.figure.prototype.handle_save = function(fig, msg) {\n",
       "    fig.ondownload(fig, null);\n",
       "}\n",
       "\n",
       "\n",
       "mpl.find_output_cell = function(html_output) {\n",
       "    // Return the cell and output element which can be found *uniquely* in the notebook.\n",
       "    // Note - this is a bit hacky, but it is done because the \"notebook_saving.Notebook\"\n",
       "    // IPython event is triggered only after the cells have been serialised, which for\n",
       "    // our purposes (turning an active figure into a static one), is too late.\n",
       "    var cells = IPython.notebook.get_cells();\n",
       "    var ncells = cells.length;\n",
       "    for (var i=0; i<ncells; i++) {\n",
       "        var cell = cells[i];\n",
       "        if (cell.cell_type === 'code'){\n",
       "            for (var j=0; j<cell.output_area.outputs.length; j++) {\n",
       "                var data = cell.output_area.outputs[j];\n",
       "                if (data.data) {\n",
       "                    // IPython >= 3 moved mimebundle to data attribute of output\n",
       "                    data = data.data;\n",
       "                }\n",
       "                if (data['text/html'] == html_output) {\n",
       "                    return [cell, data, j];\n",
       "                }\n",
       "            }\n",
       "        }\n",
       "    }\n",
       "}\n",
       "\n",
       "// Register the function which deals with the matplotlib target/channel.\n",
       "// The kernel may be null if the page has been refreshed.\n",
       "if (IPython.notebook.kernel != null) {\n",
       "    IPython.notebook.kernel.comm_manager.register_target('matplotlib', mpl.mpl_figure_comm);\n",
       "}\n"
      ],
      "text/plain": [
       "<IPython.core.display.Javascript object>"
      ]
     },
     "metadata": {},
     "output_type": "display_data"
    },
    {
     "data": {
      "text/html": [
       "<img src=\"data:image/png;base64,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\">"
      ],
      "text/plain": [
       "<IPython.core.display.HTML object>"
      ]
     },
     "metadata": {},
     "output_type": "display_data"
    }
   ],
   "source": [
    "barwidth = 0.75; \n",
    "fig, ax = plt.subplots(figsize=(9, 7));\n",
    "rects1 = ax.bar(0.5,ACCanalysis.LowC.mean(),barwidth,yerr=ACCstderror.LowC,ecolor='k',edgecolor=sns.xkcd_rgb['green'],linewidth = 2, facecolor='none',error_kw=dict(lw=3),label='Congruent');\n",
    "rects2 = ax.bar(1.5,ACCanalysis.LowIC.mean(),barwidth,color=sns.xkcd_rgb['green'],yerr=ACCstderror.LowIC,ecolor='k',error_kw=dict(lw=3),label='Incongruent');\n",
    "rects3 = ax.bar(3,ACCanalysis.HighC.mean(),barwidth,yerr=ACCstderror.HighC,ecolor='k',edgecolor=(0.3,0.9,0.3),linewidth = 2, facecolor='none',error_kw=dict(lw=3));\n",
    "rects4 = ax.bar(4,ACCanalysis.HighIC.mean(),barwidth,color=(0.3,0.9,0.3),yerr=ACCstderror.HighIC,ecolor='k',error_kw=dict(lw=3));\n",
    "ax.set_ylim(0.65,1.01);\n",
    "ax.set_xlim(0,6);\n",
    "ax.set_xticklabels(('Low', 'High'));\n",
    "ax.set_xticks([1 + barwidth/2, 3.5 + barwidth/2]);\n",
    "ax.set_yticks(np.arange(0.65, 1.01, 0.05));\n",
    "plt.legend([rects1,rects2], ['Congruent','Incongruent'], loc='upper right',fontsize=18,title='Trial Type')\n",
    "plt.legend(title='Trial Type',fontsize=19)\n",
    "plt.title('S-C Accuracy Cueing Effect', fontsize=26,fontweight=\"bold\")\n",
    "plt.ylabel('Accuracy (Proportion Correct)', fontsize=24,fontweight=\"bold\")\n",
    "plt.xlabel('S2 Control-Demand Cue', fontsize=24,fontweight=\"bold\")\n",
    "sns.despine();\n",
    "\n",
    "plt.show()"
   ]
  },
  {
   "cell_type": "markdown",
   "metadata": {},
   "source": [
    "# Making CSV Copies of the Data"
   ]
  },
  {
   "cell_type": "markdown",
   "metadata": {},
   "source": [
    "If you like handling the data yourself, these CSVs organize the data by the relevant variables."
   ]
  },
  {
   "cell_type": "code",
   "execution_count": 254,
   "metadata": {},
   "outputs": [
    {
     "name": "stdout",
     "output_type": "stream",
     "text": [
      "C:\\Users\\cb383\\Documents\\controltransfer\\expt1\\data\\csvdata\n"
     ]
    }
   ],
   "source": [
    "%cd 'csvdata'"
   ]
  },
  {
   "cell_type": "code",
   "execution_count": 255,
   "metadata": {
    "collapsed": true
   },
   "outputs": [],
   "source": [
    "subrunmeans = cdat.groupby(['subject','RunCounter','ContextCong'])['RT'].mean()\n",
    "subrtmeans = cdat.groupby(['subject', 'ContextCong'])['RT'].mean()\n",
    "subrunmedians = cdat.groupby(['subject','RunCounter','ContextCong'])['RT'].median()\n",
    "subrtmedians = cdat.groupby(['subject', 'ContextCong'])['RT'].median()\n",
    "\n",
    "subrunmeans.to_csv('SC_RTsubrunmeans_subRunTTContext.csv')\n",
    "subrunmedians.to_csv('SC_RTsubrunmedians_subRunTTContext.csv')\n",
    "subrtmeans.to_csv('SC_RTmeansallsubs_subTTContext.csv')\n",
    "subrtmedians.to_csv('SC_RTmediansallsubs_subTTContext.csv')\n",
    "\n",
    "accmeans = adat.groupby(['subject', 'ContextCong'])['Accuracy'].mean()\n",
    "subaccmeans = adat.groupby(['subject','RunCounter', 'ContextCong'])['Accuracy'].mean()\n",
    "\n",
    "accmeans.to_csv('SC_ACCmeans_subTTContext.csv')\n",
    "subaccmeans.to_csv('SC_ACCsubmeans_subrunTTContext.csv')"
   ]
  },
  {
   "cell_type": "markdown",
   "metadata": {},
   "source": [
    "## Running ANOVAs in R"
   ]
  },
  {
   "cell_type": "code",
   "execution_count": 256,
   "metadata": {
    "collapsed": true
   },
   "outputs": [],
   "source": [
    "AN_sub_RTmeans = cdat.groupby(['subject','RunCounter','DemandCue','TrialType'])['RT'].mean();\n",
    "AN_sub_ACCmeans = adat.groupby(['subject','RunCounter','DemandCue','TrialType'])['Accuracy'].mean();\n",
    "\n",
    "#create tidy data csvs\n",
    "AN_sub_RTmeans.to_csv('SC_ANOVA_RT.csv')\n",
    "AN_sub_ACCmeans.to_csv('SC_ANOVA_ACC.csv')\n",
    "\n",
    "#create headers for the tidy data csvs, for analysis purposes\n",
    "import csv\n",
    "with open('SC_ANOVA_RT.csv',newline='') as f:\n",
    "    r = csv.reader(f)\n",
    "    data = [line for line in r]\n",
    "with open('SC_ANOVA_RT.csv','w',newline='') as f:\n",
    "    w = csv.writer(f)\n",
    "    w.writerow([\"subject\", \"run\", \"context\", \"trialtype\", \"rt\"])\n",
    "    w.writerows(data)\n",
    "\n",
    "with open('SC_ANOVA_ACC.csv',newline='') as f:\n",
    "    r = csv.reader(f)\n",
    "    data = [line for line in r]\n",
    "with open('SC_ANOVA_ACC.csv','w',newline='') as f:\n",
    "    w = csv.writer(f)\n",
    "    w.writerow([\"subject\", \"run\", \"context\", \"trialtype\", \"acc\"])\n",
    "    w.writerows(data)"
   ]
  },
  {
   "cell_type": "code",
   "execution_count": 257,
   "metadata": {},
   "outputs": [
    {
     "name": "stdout",
     "output_type": "stream",
     "text": [
      "Overwriting SCAnova.R\n"
     ]
    }
   ],
   "source": [
    "%%writefile SCAnova.R\n",
    "\n",
    "rawRTData <- read.csv('SC_ANOVA_RT.csv')\n",
    "install.packages(\"psych\",repos='https://mirrors.nics.utk.edu/cran/')\n",
    "install.packages(\"ez\",repos='https://mirrors.nics.utk.edu/cran/')\n",
    "library(psych)\n",
    "library(ez)\n",
    "\n",
    "rawRTData$subject = as.factor(rawRTData$subject)\n",
    "rawRTData$run = as.factor(rawRTData$run)\n",
    "rawRTData$context = as.factor(rawRTData$context)\n",
    "rawRTData$trialtype = as.factor(rawRTData$trialtype)\n",
    "\n",
    "SC_RT_runANOVA <- ezANOVA(data=as.data.frame(rawRTData),\n",
    "                                  dv=rt,\n",
    "                                  wid=subject,\n",
    "                                  within=.(run, context, trialtype),\n",
    "                                  detailed=TRUE)\n",
    "print(SC_RT_runANOVA)\n",
    "\n",
    "rawACCData <- read.csv('SC_ANOVA_ACC.csv')\n",
    "\n",
    "rawACCData$subject = as.factor(rawACCData$subject)\n",
    "rawACCData$run = as.factor(rawACCData$run)\n",
    "rawACCData$context = as.factor(rawACCData$context)\n",
    "rawACCData$trialtype = as.factor(rawACCData$trialtype)\n",
    "\n",
    "SC_ACC_runANOVA <- ezANOVA(data=as.data.frame(rawACCData),\n",
    "                                  dv=acc,\n",
    "                                  wid=subject,\n",
    "                                  within=.(run, context, trialtype),\n",
    "                                  detailed=TRUE)\n",
    "print(SC_ACC_runANOVA)\n"
   ]
  },
  {
   "cell_type": "code",
   "execution_count": 258,
   "metadata": {},
   "outputs": [
    {
     "name": "stdout",
     "output_type": "stream",
     "text": [
      "package 'psych' successfully unpacked and MD5 sums checked\n",
      "\n",
      "The downloaded binary packages are in\n",
      "\tC:\\Users\\cb383\\AppData\\Local\\Temp\\Rtmp4aiVMS\\downloaded_packages\n",
      "package 'ez' successfully unpacked and MD5 sums checked\n",
      "\n",
      "The downloaded binary packages are in\n",
      "\tC:\\Users\\cb383\\AppData\\Local\\Temp\\Rtmp4aiVMS\\downloaded_packages\n",
      "$ANOVA\n",
      "                 Effect DFn DFd          SSn        SSd            F\n",
      "1           (Intercept)   1  75 5.310867e+08 2336416.56 1.704812e+04\n",
      "2                   run   3 225 2.723108e+03  505567.62 4.039680e-01\n",
      "3               context   1  75 5.465272e+02   66453.17 6.168184e-01\n",
      "4             trialtype   1  75 1.592457e+06  296496.06 4.028191e+02\n",
      "5           run:context   3 225 2.097988e+03  203920.79 7.716187e-01\n",
      "6         run:trialtype   3 225 1.013063e+04  224943.49 3.377724e+00\n",
      "7     context:trialtype   1  75 5.613808e+02  104435.80 4.031525e-01\n",
      "8 run:context:trialtype   3 225 2.722722e+03  248988.65 8.201343e-01\n",
      "             p p<.05          ges\n",
      "1 3.306223e-90     * 0.9925482778\n",
      "2 7.502878e-01       0.0006824927\n",
      "3 4.347061e-01       0.0001370509\n",
      "4 6.940838e-32     * 0.2854029485\n",
      "5 5.109646e-01       0.0005259011\n",
      "6 1.913975e-02     * 0.0025343339\n",
      "7 5.273980e-01       0.0001407751\n",
      "8 4.839420e-01       0.0006823959\n",
      "\n",
      "$`Mauchly's Test for Sphericity`\n",
      "                 Effect         W          p p<.05\n",
      "2                   run 0.8364393 0.02187899     *\n",
      "5           run:context 0.9661205 0.77033706      \n",
      "6         run:trialtype 0.9701226 0.81560928      \n",
      "8 run:context:trialtype 0.8319981 0.01867788     *\n",
      "\n",
      "$`Sphericity Corrections`\n",
      "                 Effect       GGe      p[GG] p[GG]<.05       HFe      p[HF]\n",
      "2                   run 0.8943367 0.72803150           0.9306655 0.73600225\n",
      "5           run:context 0.9786643 0.50847159           1.0228660 0.51096457\n",
      "6         run:trialtype 0.9811892 0.01985199         * 1.0256366 0.01913975\n",
      "8 run:context:trialtype 0.8989289 0.47309326           0.9356698 0.47717685\n",
      "  p[HF]<.05\n",
      "2          \n",
      "5          \n",
      "6         *\n",
      "8          \n",
      "\n",
      "$ANOVA\n",
      "                 Effect DFn DFd          SSn       SSd            F\n",
      "1           (Intercept)   1  75 1.023363e+03 2.2167993 3.462301e+04\n",
      "2                   run   3 225 7.184400e-02 1.5556584 3.463678e+00\n",
      "3               context   1  75 6.754022e-04 0.3623007 1.398153e-01\n",
      "4             trialtype   1  75 1.585328e+00 1.1360466 1.046608e+02\n",
      "5           run:context   3 225 1.068677e-02 1.2921086 6.203101e-01\n",
      "6         run:trialtype   3 225 1.360466e-01 1.2380379 8.241664e+00\n",
      "7     context:trialtype   1  75 1.774035e-03 0.4798544 2.772771e-01\n",
      "8 run:context:trialtype   3 225 3.159935e-02 1.5148484 1.564481e+00\n",
      "              p p<.05          ges\n",
      "1 1.039433e-101     * 9.905187e-01\n",
      "2  1.709110e-02     * 7.280873e-03\n",
      "3  7.095197e-01       6.894441e-05\n",
      "4  7.065376e-16     * 1.392962e-01\n",
      "5  6.025277e-01       1.089782e-03\n",
      "6  3.161117e-05     * 1.369821e-02\n",
      "7  6.000454e-01       1.810715e-04\n",
      "8  1.988369e-01       3.215481e-03\n",
      "\n",
      "$`Mauchly's Test for Sphericity`\n",
      "                 Effect         W            p p<.05\n",
      "2                   run 0.7433942 0.0005574704     *\n",
      "5           run:context 0.9729299 0.8459446278      \n",
      "6         run:trialtype 0.9359758 0.4310112290      \n",
      "8 run:context:trialtype 0.8039312 0.0066003721     *\n",
      "\n",
      "$`Sphericity Corrections`\n",
      "                 Effect       GGe        p[GG] p[GG]<.05       HFe        p[HF]\n",
      "2                   run 0.8217134 2.459901e-02         * 0.8517773 2.312877e-02\n",
      "5           run:context 0.9825913 5.997544e-01           1.0271754 6.025277e-01\n",
      "6         run:trialtype 0.9582995 4.336961e-05         * 1.0005407 3.161117e-05\n",
      "8 run:context:trialtype 0.8920657 2.036304e-01           0.9281914 2.020447e-01\n",
      "  p[HF]<.05\n",
      "2         *\n",
      "5          \n",
      "6         *\n",
      "8          \n",
      "\n"
     ]
    },
    {
     "name": "stderr",
     "output_type": "stream",
     "text": [
      "trying URL 'https://mirrors.nics.utk.edu/cran/bin/windows/contrib/3.3/psych_1.7.5.zip'\n",
      "Content type 'application/zip' length 3967128 bytes (3.8 MB)\n",
      "==================================================\n",
      "downloaded 3.8 MB\n",
      "\n",
      "trying URL 'https://mirrors.nics.utk.edu/cran/bin/windows/contrib/3.3/ez_4.4-0.zip'\n",
      "Content type 'application/zip' length 304757 bytes (297 KB)\n",
      "==================================================\n",
      "downloaded 297 KB\n",
      "\n",
      "Warning message:\n",
      "package 'psych' was built under R version 3.3.3 \n",
      "Warning message:\n",
      "package 'ez' was built under R version 3.3.3 \n"
     ]
    }
   ],
   "source": [
    "! Rscript SCAnova.R"
   ]
  },
  {
   "cell_type": "code",
   "execution_count": 259,
   "metadata": {
    "collapsed": true
   },
   "outputs": [],
   "source": [
    "RTanalysis.to_csv('RT.csv')\n",
    "ACCanalysis.to_csv('ACC.csv')\n",
    "RTrunanalysis.to_csv('RTrun.csv')\n",
    "ACCrunanalysis.to_csv('ACCrun.csv')"
   ]
  },
  {
   "cell_type": "markdown",
   "metadata": {},
   "source": [
    "# Making 95% Confidence Intervals"
   ]
  },
  {
   "cell_type": "code",
   "execution_count": 260,
   "metadata": {},
   "outputs": [
    {
     "data": {
      "text/plain": [
       "(614.00721609598349, 635.31672567447072)"
      ]
     },
     "execution_count": 260,
     "metadata": {},
     "output_type": "execute_result"
    }
   ],
   "source": [
    "import statsmodels.stats.api as sms\n",
    "\n",
    "a = RTanalysis.LowC.mean()\n",
    "sms.DescrStatsW(RTanalysis.LowC).tconfint_mean()\n",
    "#a"
   ]
  },
  {
   "cell_type": "code",
   "execution_count": 261,
   "metadata": {},
   "outputs": [
    {
     "data": {
      "text/plain": [
       "(686.48582101079501, 709.57914098149672)"
      ]
     },
     "execution_count": 261,
     "metadata": {},
     "output_type": "execute_result"
    }
   ],
   "source": [
    "a = RTanalysis.LowIC.mean()\n",
    "sms.DescrStatsW(RTanalysis.LowIC).tconfint_mean()\n",
    "#a"
   ]
  },
  {
   "cell_type": "code",
   "execution_count": 262,
   "metadata": {},
   "outputs": [
    {
     "data": {
      "text/plain": [
       "(612.73027999117141, 636.21765888386528)"
      ]
     },
     "execution_count": 262,
     "metadata": {},
     "output_type": "execute_result"
    }
   ],
   "source": [
    "a = RTanalysis.HighC.mean()\n",
    "sms.DescrStatsW(RTanalysis.HighC).tconfint_mean()\n",
    "#a"
   ]
  },
  {
   "cell_type": "code",
   "execution_count": 263,
   "metadata": {},
   "outputs": [
    {
     "data": {
      "text/plain": [
       "(685.57655810331948, 705.95584984602533)"
      ]
     },
     "execution_count": 263,
     "metadata": {},
     "output_type": "execute_result"
    }
   ],
   "source": [
    "a = RTanalysis.HighIC.mean()\n",
    "sms.DescrStatsW(RTanalysis.HighIC).tconfint_mean()\n",
    "#a"
   ]
  },
  {
   "cell_type": "code",
   "execution_count": 264,
   "metadata": {},
   "outputs": [
    {
     "data": {
      "text/plain": [
       "(608.43050635159602, 631.81852377067548)"
      ]
     },
     "execution_count": 264,
     "metadata": {},
     "output_type": "execute_result"
    }
   ],
   "source": [
    "a = RTrunanalysis.loc[RTrunanalysis['Run'] == 0].LowC.mean()\n",
    "sms.DescrStatsW(RTrunanalysis.loc[RTrunanalysis['Run'] == 0].LowC).tconfint_mean()\n",
    "#a"
   ]
  },
  {
   "cell_type": "code",
   "execution_count": 265,
   "metadata": {},
   "outputs": [
    {
     "data": {
      "text/plain": [
       "(689.84130608310249, 720.49190193694756)"
      ]
     },
     "execution_count": 265,
     "metadata": {},
     "output_type": "execute_result"
    }
   ],
   "source": [
    "a = RTrunanalysis.loc[RTrunanalysis['Run'] == 0].LowIC.mean()\n",
    "sms.DescrStatsW(RTrunanalysis.loc[RTrunanalysis['Run'] == 0].LowIC).tconfint_mean()\n",
    "#a"
   ]
  },
  {
   "cell_type": "code",
   "execution_count": 266,
   "metadata": {},
   "outputs": [
    {
     "data": {
      "text/plain": [
       "(607.59201142607367, 633.37380937593139)"
      ]
     },
     "execution_count": 266,
     "metadata": {},
     "output_type": "execute_result"
    }
   ],
   "source": [
    "a = RTrunanalysis.loc[RTrunanalysis['Run'] == 0].HighC.mean()\n",
    "sms.DescrStatsW(RTrunanalysis.loc[RTrunanalysis['Run'] == 0].HighC).tconfint_mean()\n",
    "#a"
   ]
  },
  {
   "cell_type": "code",
   "execution_count": 267,
   "metadata": {},
   "outputs": [
    {
     "data": {
      "text/plain": [
       "(685.95099302557321, 709.04642230180832)"
      ]
     },
     "execution_count": 267,
     "metadata": {},
     "output_type": "execute_result"
    }
   ],
   "source": [
    "a = RTrunanalysis.loc[RTrunanalysis['Run'] == 0].HighIC.mean()\n",
    "sms.DescrStatsW(RTrunanalysis.loc[RTrunanalysis['Run'] == 0].HighIC).tconfint_mean()\n",
    "#a"
   ]
  },
  {
   "cell_type": "code",
   "execution_count": 268,
   "metadata": {},
   "outputs": [
    {
     "data": {
      "text/plain": [
       "(612.33107452796696, 634.57363280957236)"
      ]
     },
     "execution_count": 268,
     "metadata": {},
     "output_type": "execute_result"
    }
   ],
   "source": [
    "a = RTrunanalysis.loc[RTrunanalysis['Run'] == 1].LowC.mean()\n",
    "sms.DescrStatsW(RTrunanalysis.loc[RTrunanalysis['Run'] == 1].LowC).tconfint_mean()\n",
    "#a"
   ]
  },
  {
   "cell_type": "code",
   "execution_count": 269,
   "metadata": {},
   "outputs": [
    {
     "data": {
      "text/plain": [
       "(681.43497278095788, 710.43247709372895)"
      ]
     },
     "execution_count": 269,
     "metadata": {},
     "output_type": "execute_result"
    }
   ],
   "source": [
    "a = RTrunanalysis.loc[RTrunanalysis['Run'] == 1].LowIC.mean()\n",
    "sms.DescrStatsW(RTrunanalysis.loc[RTrunanalysis['Run'] == 1].LowIC).tconfint_mean()\n",
    "#a"
   ]
  },
  {
   "cell_type": "code",
   "execution_count": 270,
   "metadata": {},
   "outputs": [
    {
     "data": {
      "text/plain": [
       "(606.92139282630819, 634.30041168496996)"
      ]
     },
     "execution_count": 270,
     "metadata": {},
     "output_type": "execute_result"
    }
   ],
   "source": [
    "a = RTrunanalysis.loc[RTrunanalysis['Run'] == 1].HighC.mean()\n",
    "sms.DescrStatsW(RTrunanalysis.loc[RTrunanalysis['Run'] == 1].HighC).tconfint_mean()\n",
    "#a"
   ]
  },
  {
   "cell_type": "code",
   "execution_count": 271,
   "metadata": {},
   "outputs": [
    {
     "data": {
      "text/plain": [
       "(682.06168940069699, 706.37909108542442)"
      ]
     },
     "execution_count": 271,
     "metadata": {},
     "output_type": "execute_result"
    }
   ],
   "source": [
    "a = RTrunanalysis.loc[RTrunanalysis['Run'] == 1].HighIC.mean()\n",
    "sms.DescrStatsW(RTrunanalysis.loc[RTrunanalysis['Run'] == 1].HighIC).tconfint_mean()\n",
    "#a"
   ]
  },
  {
   "cell_type": "code",
   "execution_count": 272,
   "metadata": {},
   "outputs": [
    {
     "data": {
      "text/plain": [
       "(613.48454665328018, 636.70767168757857)"
      ]
     },
     "execution_count": 272,
     "metadata": {},
     "output_type": "execute_result"
    }
   ],
   "source": [
    "a = RTrunanalysis.loc[RTrunanalysis['Run'] == 2].LowC.mean()\n",
    "sms.DescrStatsW(RTrunanalysis.loc[RTrunanalysis['Run'] == 2].LowC).tconfint_mean()\n",
    "#a"
   ]
  },
  {
   "cell_type": "code",
   "execution_count": 273,
   "metadata": {},
   "outputs": [
    {
     "data": {
      "text/plain": [
       "(679.6040268907368, 709.65866107918805)"
      ]
     },
     "execution_count": 273,
     "metadata": {},
     "output_type": "execute_result"
    }
   ],
   "source": [
    "a = RTrunanalysis.loc[RTrunanalysis['Run'] == 2].LowIC.mean()\n",
    "sms.DescrStatsW(RTrunanalysis.loc[RTrunanalysis['Run'] == 2].LowIC).tconfint_mean()\n",
    "#a"
   ]
  },
  {
   "cell_type": "code",
   "execution_count": 274,
   "metadata": {},
   "outputs": [
    {
     "data": {
      "text/plain": [
       "(616.58499239188063, 648.880421141954)"
      ]
     },
     "execution_count": 274,
     "metadata": {},
     "output_type": "execute_result"
    }
   ],
   "source": [
    "a = RTrunanalysis.loc[RTrunanalysis['Run'] == 2].HighC.mean()\n",
    "sms.DescrStatsW(RTrunanalysis.loc[RTrunanalysis['Run'] == 2].HighC).tconfint_mean()\n",
    "#a"
   ]
  },
  {
   "cell_type": "code",
   "execution_count": 275,
   "metadata": {},
   "outputs": [
    {
     "data": {
      "text/plain": [
       "(681.84323589341659, 704.62975533191877)"
      ]
     },
     "execution_count": 275,
     "metadata": {},
     "output_type": "execute_result"
    }
   ],
   "source": [
    "a = RTrunanalysis.loc[RTrunanalysis['Run'] == 2].HighIC.mean()\n",
    "sms.DescrStatsW(RTrunanalysis.loc[RTrunanalysis['Run'] == 2].HighIC).tconfint_mean()\n",
    "#a"
   ]
  },
  {
   "cell_type": "code",
   "execution_count": 276,
   "metadata": {},
   "outputs": [
    {
     "data": {
      "text/plain": [
       "(618.04296387886336, 641.99163900691599)"
      ]
     },
     "execution_count": 276,
     "metadata": {},
     "output_type": "execute_result"
    }
   ],
   "source": [
    "a = RTrunanalysis.loc[RTrunanalysis['Run'] == 3].LowC.mean()\n",
    "sms.DescrStatsW(RTrunanalysis.loc[RTrunanalysis['Run'] == 3].LowC).tconfint_mean()\n",
    "#a"
   ]
  },
  {
   "cell_type": "code",
   "execution_count": 277,
   "metadata": {},
   "outputs": [
    {
     "data": {
      "text/plain": [
       "(683.52592242463356, 712.27388960544158)"
      ]
     },
     "execution_count": 277,
     "metadata": {},
     "output_type": "execute_result"
    }
   ],
   "source": [
    "a = RTrunanalysis.loc[RTrunanalysis['Run'] == 3].LowIC.mean()\n",
    "sms.DescrStatsW(RTrunanalysis.loc[RTrunanalysis['Run'] == 3].LowIC).tconfint_mean()\n",
    "#a"
   ]
  },
  {
   "cell_type": "code",
   "execution_count": 278,
   "metadata": {},
   "outputs": [
    {
     "data": {
      "text/plain": [
       "(610.62806353874578, 639.24424222566529)"
      ]
     },
     "execution_count": 278,
     "metadata": {},
     "output_type": "execute_result"
    }
   ],
   "source": [
    "a = RTrunanalysis.loc[RTrunanalysis['Run'] == 3].HighC.mean()\n",
    "sms.DescrStatsW(RTrunanalysis.loc[RTrunanalysis['Run'] == 3].HighC).tconfint_mean()\n",
    "#a"
   ]
  },
  {
   "cell_type": "code",
   "execution_count": 279,
   "metadata": {},
   "outputs": [
    {
     "data": {
      "text/plain": [
       "(686.48402034056789, 709.27011192156647)"
      ]
     },
     "execution_count": 279,
     "metadata": {},
     "output_type": "execute_result"
    }
   ],
   "source": [
    "a = RTrunanalysis.loc[RTrunanalysis['Run'] == 3].HighIC.mean()\n",
    "sms.DescrStatsW(RTrunanalysis.loc[RTrunanalysis['Run'] == 3].HighIC).tconfint_mean()\n",
    "#a"
   ]
  },
  {
   "cell_type": "markdown",
   "metadata": {},
   "source": [
    "And for Accuracy..."
   ]
  },
  {
   "cell_type": "code",
   "execution_count": 280,
   "metadata": {},
   "outputs": [
    {
     "data": {
      "text/plain": [
       "(0.94365925971771814, 0.96238514817701881)"
      ]
     },
     "execution_count": 280,
     "metadata": {},
     "output_type": "execute_result"
    }
   ],
   "source": [
    "a = ACCanalysis.LowC.mean()\n",
    "sms.DescrStatsW(ACCanalysis.LowC).tconfint_mean()\n",
    "#a"
   ]
  },
  {
   "cell_type": "code",
   "execution_count": 281,
   "metadata": {},
   "outputs": [
    {
     "data": {
      "text/plain": [
       "(0.86544794172228579, 0.90099942669876687)"
      ]
     },
     "execution_count": 281,
     "metadata": {},
     "output_type": "execute_result"
    }
   ],
   "source": [
    "a = ACCanalysis.LowIC.mean()\n",
    "sms.DescrStatsW(ACCanalysis.LowIC).tconfint_mean()\n",
    "#a"
   ]
  },
  {
   "cell_type": "code",
   "execution_count": 282,
   "metadata": {},
   "outputs": [
    {
     "data": {
      "text/plain": [
       "(0.94237561182612373, 0.96551912501598158)"
      ]
     },
     "execution_count": 282,
     "metadata": {},
     "output_type": "execute_result"
    }
   ],
   "source": [
    "a = ACCanalysis.HighC.mean()\n",
    "sms.DescrStatsW(ACCanalysis.HighC).tconfint_mean()\n",
    "#a"
   ]
  },
  {
   "cell_type": "code",
   "execution_count": 283,
   "metadata": {},
   "outputs": [
    {
     "data": {
      "text/plain": [
       "(0.86543879193703965, 0.893196076484013)"
      ]
     },
     "execution_count": 283,
     "metadata": {},
     "output_type": "execute_result"
    }
   ],
   "source": [
    "a = ACCanalysis.HighIC.mean()\n",
    "sms.DescrStatsW(ACCanalysis.HighIC).tconfint_mean()\n",
    "#a"
   ]
  },
  {
   "cell_type": "code",
   "execution_count": 284,
   "metadata": {},
   "outputs": [
    {
     "data": {
      "text/plain": [
       "(0.94692054306466067, 0.97084261483007628)"
      ]
     },
     "execution_count": 284,
     "metadata": {},
     "output_type": "execute_result"
    }
   ],
   "source": [
    "a = ACCrunanalysis.loc[ACCrunanalysis['Run'] == 0].LowC.mean()\n",
    "sms.DescrStatsW(ACCrunanalysis.loc[ACCrunanalysis['Run'] == 0].LowC).tconfint_mean()\n",
    "#a"
   ]
  },
  {
   "cell_type": "code",
   "execution_count": 285,
   "metadata": {},
   "outputs": [
    {
     "data": {
      "text/plain": [
       "(0.80835058838597063, 0.87585993792981875)"
      ]
     },
     "execution_count": 285,
     "metadata": {},
     "output_type": "execute_result"
    }
   ],
   "source": [
    "a = ACCrunanalysis.loc[ACCrunanalysis['Run'] == 0].LowIC.mean()\n",
    "sms.DescrStatsW(ACCrunanalysis.loc[ACCrunanalysis['Run'] == 0].LowIC).tconfint_mean()\n",
    "#a"
   ]
  },
  {
   "cell_type": "code",
   "execution_count": 286,
   "metadata": {},
   "outputs": [
    {
     "data": {
      "text/plain": [
       "(0.93480492479946387, 0.97308981204264144)"
      ]
     },
     "execution_count": 286,
     "metadata": {},
     "output_type": "execute_result"
    }
   ],
   "source": [
    "a = ACCrunanalysis.loc[ACCrunanalysis['Run'] == 0].HighC.mean()\n",
    "sms.DescrStatsW(ACCrunanalysis.loc[ACCrunanalysis['Run'] == 0].HighC).tconfint_mean()\n",
    "#a"
   ]
  },
  {
   "cell_type": "code",
   "execution_count": 287,
   "metadata": {},
   "outputs": [
    {
     "data": {
      "text/plain": [
       "(0.84426046044765946, 0.88271322376286687)"
      ]
     },
     "execution_count": 287,
     "metadata": {},
     "output_type": "execute_result"
    }
   ],
   "source": [
    "a = ACCrunanalysis.loc[ACCrunanalysis['Run'] == 0].HighIC.mean()\n",
    "sms.DescrStatsW(ACCrunanalysis.loc[ACCrunanalysis['Run'] == 0].HighIC).tconfint_mean()\n",
    "#a"
   ]
  },
  {
   "cell_type": "code",
   "execution_count": 288,
   "metadata": {},
   "outputs": [
    {
     "data": {
      "text/plain": [
       "(0.9413190448409664, 0.9649309551590336)"
      ]
     },
     "execution_count": 288,
     "metadata": {},
     "output_type": "execute_result"
    }
   ],
   "source": [
    "a = ACCrunanalysis.loc[ACCrunanalysis['Run'] == 1].LowC.mean()\n",
    "sms.DescrStatsW(ACCrunanalysis.loc[ACCrunanalysis['Run'] == 1].LowC).tconfint_mean()\n",
    "#a"
   ]
  },
  {
   "cell_type": "code",
   "execution_count": 289,
   "metadata": {},
   "outputs": [
    {
     "data": {
      "text/plain": [
       "(0.85958546803571134, 0.92001979512218335)"
      ]
     },
     "execution_count": 289,
     "metadata": {},
     "output_type": "execute_result"
    }
   ],
   "source": [
    "a = ACCrunanalysis.loc[ACCrunanalysis['Run'] == 1].LowIC.mean()\n",
    "sms.DescrStatsW(ACCrunanalysis.loc[ACCrunanalysis['Run'] == 1].LowIC).tconfint_mean()\n",
    "#a"
   ]
  },
  {
   "cell_type": "code",
   "execution_count": 290,
   "metadata": {},
   "outputs": [
    {
     "data": {
      "text/plain": [
       "(0.93770598453818832, 0.97347822598812739)"
      ]
     },
     "execution_count": 290,
     "metadata": {},
     "output_type": "execute_result"
    }
   ],
   "source": [
    "a = ACCrunanalysis.loc[ACCrunanalysis['Run'] == 1].HighC.mean()\n",
    "sms.DescrStatsW(ACCrunanalysis.loc[ACCrunanalysis['Run'] == 1].HighC).tconfint_mean()\n",
    "#a"
   ]
  },
  {
   "cell_type": "code",
   "execution_count": 291,
   "metadata": {},
   "outputs": [
    {
     "data": {
      "text/plain": [
       "(0.86194236597886131, 0.89792605507377032)"
      ]
     },
     "execution_count": 291,
     "metadata": {},
     "output_type": "execute_result"
    }
   ],
   "source": [
    "a = ACCrunanalysis.loc[ACCrunanalysis['Run'] == 1].HighIC.mean()\n",
    "sms.DescrStatsW(ACCrunanalysis.loc[ACCrunanalysis['Run'] == 1].HighIC).tconfint_mean()\n",
    "#a"
   ]
  },
  {
   "cell_type": "code",
   "execution_count": 292,
   "metadata": {},
   "outputs": [
    {
     "data": {
      "text/plain": [
       "(0.93749023852983582, 0.96218081410174316)"
      ]
     },
     "execution_count": 292,
     "metadata": {},
     "output_type": "execute_result"
    }
   ],
   "source": [
    "a = ACCrunanalysis.loc[ACCrunanalysis['Run'] == 2].LowC.mean()\n",
    "sms.DescrStatsW(ACCrunanalysis.loc[ACCrunanalysis['Run'] == 2].LowC).tconfint_mean()\n",
    "#a"
   ]
  },
  {
   "cell_type": "code",
   "execution_count": 293,
   "metadata": {},
   "outputs": [
    {
     "data": {
      "text/plain": [
       "(0.86724592943377055, 0.91893828109254516)"
      ]
     },
     "execution_count": 293,
     "metadata": {},
     "output_type": "execute_result"
    }
   ],
   "source": [
    "a = ACCrunanalysis.loc[ACCrunanalysis['Run'] == 2].LowIC.mean()\n",
    "sms.DescrStatsW(ACCrunanalysis.loc[ACCrunanalysis['Run'] == 2].LowIC).tconfint_mean()\n",
    "#a"
   ]
  },
  {
   "cell_type": "code",
   "execution_count": 294,
   "metadata": {},
   "outputs": [
    {
     "data": {
      "text/plain": [
       "(0.94470603136166409, 0.97963607390149388)"
      ]
     },
     "execution_count": 294,
     "metadata": {},
     "output_type": "execute_result"
    }
   ],
   "source": [
    "a = ACCrunanalysis.loc[ACCrunanalysis['Run'] == 2].HighC.mean()\n",
    "sms.DescrStatsW(ACCrunanalysis.loc[ACCrunanalysis['Run'] == 2].HighC).tconfint_mean()\n",
    "#a"
   ]
  },
  {
   "cell_type": "code",
   "execution_count": 295,
   "metadata": {},
   "outputs": [
    {
     "data": {
      "text/plain": [
       "(0.85506288320033741, 0.89575948522071525)"
      ]
     },
     "execution_count": 295,
     "metadata": {},
     "output_type": "execute_result"
    }
   ],
   "source": [
    "a = ACCrunanalysis.loc[ACCrunanalysis['Run'] == 2].HighIC.mean()\n",
    "sms.DescrStatsW(ACCrunanalysis.loc[ACCrunanalysis['Run'] == 2].HighIC).tconfint_mean()\n",
    "#a"
   ]
  },
  {
   "cell_type": "code",
   "execution_count": 296,
   "metadata": {},
   "outputs": [
    {
     "data": {
      "text/plain": [
       "(0.93751647109766978, 0.96297694995496186)"
      ]
     },
     "execution_count": 296,
     "metadata": {},
     "output_type": "execute_result"
    }
   ],
   "source": [
    "a = ACCrunanalysis.loc[ACCrunanalysis['Run'] == 3].LowC.mean()\n",
    "sms.DescrStatsW(ACCrunanalysis.loc[ACCrunanalysis['Run'] == 3].LowC).tconfint_mean()\n",
    "#a"
   ]
  },
  {
   "cell_type": "code",
   "execution_count": 297,
   "metadata": {},
   "outputs": [
    {
     "data": {
      "text/plain": [
       "(0.88633291743189579, 0.92945655625231482)"
      ]
     },
     "execution_count": 297,
     "metadata": {},
     "output_type": "execute_result"
    }
   ],
   "source": [
    "a = ACCrunanalysis.loc[ACCrunanalysis['Run'] == 3].LowIC.mean()\n",
    "sms.DescrStatsW(ACCrunanalysis.loc[ACCrunanalysis['Run'] == 3].LowIC).tconfint_mean()\n",
    "#a"
   ]
  },
  {
   "cell_type": "code",
   "execution_count": 298,
   "metadata": {},
   "outputs": [
    {
     "data": {
      "text/plain": [
       "(0.91836324552245518, 0.96979464921438685)"
      ]
     },
     "execution_count": 298,
     "metadata": {},
     "output_type": "execute_result"
    }
   ],
   "source": [
    "a = ACCrunanalysis.loc[ACCrunanalysis['Run'] == 3].HighC.mean()\n",
    "sms.DescrStatsW(ACCrunanalysis.loc[ACCrunanalysis['Run'] == 3].HighC).tconfint_mean()\n",
    "#a"
   ]
  },
  {
   "cell_type": "code",
   "execution_count": 299,
   "metadata": {},
   "outputs": [
    {
     "data": {
      "text/plain": [
       "(0.88177702821080783, 0.91509797178919217)"
      ]
     },
     "execution_count": 299,
     "metadata": {},
     "output_type": "execute_result"
    }
   ],
   "source": [
    "a = ACCrunanalysis.loc[ACCrunanalysis['Run'] == 3].HighIC.mean()\n",
    "sms.DescrStatsW(ACCrunanalysis.loc[ACCrunanalysis['Run'] == 3].HighIC).tconfint_mean()\n",
    "#a"
   ]
  }
 ],
 "metadata": {
  "anaconda-cloud": {},
  "kernelspec": {
   "display_name": "Python [Root]",
   "language": "python",
   "name": "Python [Root]"
  },
  "language_info": {
   "codemirror_mode": {
    "name": "ipython",
    "version": 3
   },
   "file_extension": ".py",
   "mimetype": "text/x-python",
   "name": "python",
   "nbconvert_exporter": "python",
   "pygments_lexer": "ipython3",
   "version": "3.5.2"
  }
 },
 "nbformat": 4,
 "nbformat_minor": 1
}

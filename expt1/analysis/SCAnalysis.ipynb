{
 "cells": [
  {
   "cell_type": "markdown",
   "metadata": {},
   "source": [
    "# Information on How These Data Are Organized:\n",
    "\n",
    "`TypeOfResponse` refers to whether participants pressed a button (\"SCResp\") or did not press a button (\"SCRespITI\" / \"SCITIResp\") within the given time frame.\n",
    "\n",
    "`Version` refers to the task version. I never changed the JS code; I merely changed which face/house was labeled as S1_1, S1_2, S1_3, or S1_4 in respective task folders.\n",
    "\n",
    "`LogCounter` gets added to whenever the JS records a new datapoint.\n",
    "\n",
    "`TrialCounter` gets added to whenever a new trial has started. This is reset at the start of each block.\n",
    "\n",
    "`MatrixCounter` gets added to throughout the task and is never reset. It is what I use to call Stimuli #s.\n",
    "\n",
    "`RunCounter` refers to the run: 0 is run 1, 1 is run 2, 2 is run 3, and 3 is run 4.\n",
    "\n",
    "`CongruentCounter` marks any time a congruent trial occurred; `IncongruentCounter` an incongruent trial.\n",
    "\n",
    "`StimPresented` refers to which scene was presented before the trial. This is in reference to the main manipulation of the S-C association phase, whereby particular scenes are more likely to precede specific proportions of congruent/incongruent trials.\n",
    "\n",
    "`StimProbAll` refers to my matrix of possible trial types. So it indicates whether \"RED\" will be shown in red, etc.\n",
    "\n",
    "`TrialType` also marks incongruent/congruent trials.\n",
    "\n",
    "`CongruentNumber` refers to my specially made matrices of my congruent trials. So there are 4 possible congruent combinations, with 160 total congruent trials, and thus 40 occurrences of numbers 1-4.\n",
    "\n",
    "`IncongruentNumber` refers to my specially made matrix of incongruent trials. There are 12 possible incongruent combinations, with 160 trial incongruent trials, and thus around 13 of each occurrence (#s 5-16).\n",
    "\n",
    "`PressCorrect` refers to the button that participants should press on that trial. This is how I define accuracy (i.e., correct: when PressCorrect = actualkeyPressed).\n",
    "\n",
    "`ResponseMatrix` refers to which key is pressed; this is a redundant variable and was used to make sure that each key had been required an equal number of times throughout the task.\n",
    "\n",
    "`ActualKeyPressed` is what key subjects pressed.\n",
    "\n",
    "`Accuracy` & `RT` self-explanatory.\n",
    "\n",
    "`FeedbackType` refers to whether they got correct as fb, incorrect as fb, or the fb time-out.\n",
    "\n",
    "`runStart` refers to the initiation of the countdown to begin the task.\n",
    "\n",
    "`ImagePresent` refers to when scene was presented.\n",
    "\n",
    "`StimTime` refers to when the color word was presented.\n",
    "\n",
    "`RespOnset` refers to when a response was made.\n",
    "\n",
    "`AccCount` is how I give subjects accurate fb of their performance at the end of each run (i.e., a counter that gets added to after each correct trial & is divided by trial #).\n",
    "\n",
    "`Subject` self-explanatory.\n",
    "\n",
    "Some other labels aren't coded in the JS: `Sequential` refers to whether a trial was the same (0) as before, changed to incongruent or congruent on the next trial, etc., and `StimRep` looks for direct repetitions in the StimProbAll matrix. These were coded in Matlab and added to the CSV file.\n",
    "\n",
    "---"
   ]
  },
  {
   "cell_type": "markdown",
   "metadata": {},
   "source": [
    "### Here we'll just import Python specific packages and read in our data."
   ]
  },
  {
   "cell_type": "code",
   "execution_count": 582,
   "metadata": {
    "collapsed": true
   },
   "outputs": [],
   "source": [
    "import numpy as np\n",
    "import pandas as pd\n",
    "import matplotlib.pyplot as plt\n",
    "import seaborn as sns\n",
    "import pylab as plb\n",
    "import math\n",
    "from scipy import stats\n",
    "\n",
    "%matplotlib notebook "
   ]
  },
  {
   "cell_type": "code",
   "execution_count": 583,
   "metadata": {},
   "outputs": [
    {
     "name": "stdout",
     "output_type": "stream",
     "text": [
      "C:\\Users\\cb383\\Documents\\controltransfer\\expt1\\data\n"
     ]
    }
   ],
   "source": [
    "%cd 'C:\\Users\\cb383\\Documents\\controltransfer\\expt1\\data'\n",
    "dat = pd.read_csv('AllSubsSC.csv')"
   ]
  },
  {
   "cell_type": "markdown",
   "metadata": {},
   "source": [
    "# Do Some Basic Cleaning"
   ]
  },
  {
   "cell_type": "markdown",
   "metadata": {},
   "source": [
    "#### We are filtering and preparing the data for analysis.\n",
    "\n",
    "FOR REACTION TIMES:\n",
    "\n",
    "-Select only `TypeOfResponse` equal to `Resp` (`ITI Resp` is when subs didn't respond).\n",
    "\n",
    "-Only take the RTs that are greater than 200ms and less than 1000 ms.\n",
    "\n",
    "-Only take the RTs on accurate trials.\n",
    "\n",
    "-Only take trials where the stimulus didn't repeat.\n",
    "\n",
    "\n",
    "FOR ACCURACY:\n",
    "\n",
    "-All errors are errors"
   ]
  },
  {
   "cell_type": "code",
   "execution_count": 584,
   "metadata": {
    "collapsed": true
   },
   "outputs": [],
   "source": [
    "cdat = dat.query('(TypeOfResponse != \"SCRespITI\") & (TypeOfResponse != \"SCITIResp\") & (RT > 200) & (RT < 1000) & (Accuracy != 0) & (StimRep != 1)').copy()\n",
    "adat = dat.copy()"
   ]
  },
  {
   "cell_type": "markdown",
   "metadata": {},
   "source": [
    "#### Now I'm making columns in the data based off my variables so that analysis will be easier."
   ]
  },
  {
   "cell_type": "code",
   "execution_count": 585,
   "metadata": {
    "collapsed": true
   },
   "outputs": [],
   "source": [
    "adat['DemandCue'] = adat['StimPresented'].isin([1, 2])\n",
    "adat.loc[adat['StimPresented'].isin([1, 2]), 'DemandCue'] = 'High'\n",
    "adat.loc[~adat['StimPresented'].isin([1, 2]), 'DemandCue'] = 'Low'\n",
    "\n",
    "adat['Congruency'] = adat['TrialType'].isin([1])\n",
    "adat.loc[adat['TrialType'].isin([1]),'Congruency'] = 'Incongruent'\n",
    "adat.loc[~adat['TrialType'].isin([1]),'Congruency'] = 'Congruent'\n",
    "\n",
    "cdat['DemandCue'] = cdat['StimPresented'].isin([1, 2])\n",
    "cdat.loc[cdat['StimPresented'].isin([1, 2]), 'DemandCue'] = 'High'\n",
    "cdat.loc[~cdat['StimPresented'].isin([1, 2]), 'DemandCue'] = 'Low'\n",
    "\n",
    "cdat['Congruency'] = cdat['TrialType'].isin([1])\n",
    "cdat.loc[cdat['TrialType'].isin([1]),'Congruency'] = 'Incongruent'\n",
    "cdat.loc[~cdat['TrialType'].isin([1]),'Congruency'] = 'Congruent'"
   ]
  },
  {
   "cell_type": "code",
   "execution_count": 586,
   "metadata": {
    "collapsed": true
   },
   "outputs": [],
   "source": [
    "adat['ContextCong'] = adat['DemandCue'].isin(['High']) & adat['TrialType'].isin([1])\n",
    "adat.loc[(adat['DemandCue'].isin(['High']) & adat['TrialType'].isin([1])), 'ContextCong'] = 'HighIC'\n",
    "adat.loc[(adat['DemandCue'].isin(['Low']) & adat['TrialType'].isin([1])), 'ContextCong'] = 'LowIC'\n",
    "adat.loc[(adat['DemandCue'].isin(['High']) & adat['TrialType'].isin([2])), 'ContextCong'] = 'HighC'\n",
    "adat.loc[(adat['DemandCue'].isin(['Low']) & adat['TrialType'].isin([2])), 'ContextCong'] = 'LowC'\n",
    "\n",
    "cdat['ContextCong'] = cdat['DemandCue'].isin(['High']) & cdat['TrialType'].isin([1])\n",
    "cdat.loc[(cdat['DemandCue'].isin(['High']) & cdat['TrialType'].isin([1])), 'ContextCong'] = 'HighIC'\n",
    "cdat.loc[(cdat['DemandCue'].isin(['Low']) & cdat['TrialType'].isin([1])), 'ContextCong'] = 'LowIC'\n",
    "cdat.loc[(cdat['DemandCue'].isin(['High']) & cdat['TrialType'].isin([2])), 'ContextCong'] = 'HighC'\n",
    "cdat.loc[(cdat['DemandCue'].isin(['Low']) & cdat['TrialType'].isin([2])), 'ContextCong'] = 'LowC'"
   ]
  },
  {
   "cell_type": "code",
   "execution_count": 587,
   "metadata": {
    "collapsed": true
   },
   "outputs": [],
   "source": [
    "adat['VersionComp'] = adat['Version'].isin([1,2])\n",
    "adat.loc[adat['Version'].isin([1, 2]), 'VersionComp'] = '1' #faces/houses paired\n",
    "adat.loc[adat['Version'].isin([3, 4]), 'VersionComp'] = '3' #intermixed\n",
    "\n",
    "cdat['VersionComp'] = cdat['Version'].isin([1,2])\n",
    "cdat.loc[cdat['Version'].isin([1, 2]), 'VersionComp'] = '1'\n",
    "cdat.loc[cdat['Version'].isin([3, 4]), 'VersionComp'] = '3'"
   ]
  },
  {
   "cell_type": "markdown",
   "metadata": {},
   "source": [
    "# Look at Mean Cueing Effects"
   ]
  },
  {
   "cell_type": "markdown",
   "metadata": {},
   "source": [
    "### We are hoping to see an interaction between control-demand cue and congruency, such that people use the cues to modulate Stroop congruency. Namely, we would predict that people would have a smaller difference between the Stroop trial types for the \"high\" compared to \"low\" control-demand cue. This would result from learning to associate a state of higher attentional focus with the high control-demand cue, which in turn means more efficient processing - or responding quicker to incongruent trials and potentially slower to congruent trials."
   ]
  },
  {
   "cell_type": "code",
   "execution_count": 588,
   "metadata": {},
   "outputs": [
    {
     "data": {
      "text/plain": [
       "ContextCong\n",
       "HighC     624.473969\n",
       "HighIC    695.766204\n",
       "LowC      624.661971\n",
       "LowIC     698.032481\n",
       "Name: RT, dtype: float64"
      ]
     },
     "execution_count": 588,
     "metadata": {},
     "output_type": "execute_result"
    }
   ],
   "source": [
    "sub_RTmeans = cdat.groupby(['subject','ContextCong'])['RT'].mean()\n",
    "RTgrpmean = pd.Series.mean(sub_RTmeans,level=1)\n",
    "RTgrpmean"
   ]
  },
  {
   "cell_type": "code",
   "execution_count": 589,
   "metadata": {},
   "outputs": [
    {
     "data": {
      "text/plain": [
       "ContextCong\n",
       "HighC     51.392501\n",
       "HighIC    44.591726\n",
       "LowC      46.627126\n",
       "LowIC     50.530264\n",
       "Name: RT, dtype: float64"
      ]
     },
     "execution_count": 589,
     "metadata": {},
     "output_type": "execute_result"
    }
   ],
   "source": [
    "RTgrpstd = pd.Series.std(sub_RTmeans,level=1)\n",
    "RTgrpstd"
   ]
  },
  {
   "cell_type": "code",
   "execution_count": 590,
   "metadata": {},
   "outputs": [
    {
     "data": {
      "text/plain": [
       "ContextCong\n",
       "HighC     5.895124\n",
       "HighIC    5.115022\n",
       "LowC      5.348498\n",
       "LowIC     5.796219\n",
       "Name: RT, dtype: float64"
      ]
     },
     "execution_count": 590,
     "metadata": {},
     "output_type": "execute_result"
    }
   ],
   "source": [
    "n = math.sqrt(76)\n",
    "RTstderror = RTgrpstd / n\n",
    "RTstderror"
   ]
  },
  {
   "cell_type": "markdown",
   "metadata": {},
   "source": [
    "#### Judging by these initial numbers, we are unlikely to find an interaction between cue & congruency. Is that true of Accuracy?"
   ]
  },
  {
   "cell_type": "code",
   "execution_count": 591,
   "metadata": {},
   "outputs": [
    {
     "data": {
      "text/plain": [
       "ContextCong\n",
       "HighC     0.953947\n",
       "HighIC    0.879317\n",
       "LowC      0.953022\n",
       "LowIC     0.883224\n",
       "Name: Accuracy, dtype: float64"
      ]
     },
     "execution_count": 591,
     "metadata": {},
     "output_type": "execute_result"
    }
   ],
   "source": [
    "sub_ACCmeans = adat.groupby(['subject','ContextCong'])['Accuracy'].mean()\n",
    "ACCgrpmean = pd.Series.mean(sub_ACCmeans,level=1)\n",
    "ACCgrpmean"
   ]
  },
  {
   "cell_type": "code",
   "execution_count": 592,
   "metadata": {},
   "outputs": [
    {
     "data": {
      "text/plain": [
       "ContextCong\n",
       "HighC     0.050640\n",
       "HighIC    0.060735\n",
       "LowC      0.040974\n",
       "LowIC     0.077790\n",
       "Name: Accuracy, dtype: float64"
      ]
     },
     "execution_count": 592,
     "metadata": {},
     "output_type": "execute_result"
    }
   ],
   "source": [
    "ACCgrpstd = pd.Series.std(sub_ACCmeans,level=1)\n",
    "ACCgrpstd"
   ]
  },
  {
   "cell_type": "code",
   "execution_count": 593,
   "metadata": {},
   "outputs": [
    {
     "data": {
      "text/plain": [
       "ContextCong\n",
       "HighC     0.005809\n",
       "HighIC    0.006967\n",
       "LowC      0.004700\n",
       "LowIC     0.008923\n",
       "Name: Accuracy, dtype: float64"
      ]
     },
     "execution_count": 593,
     "metadata": {},
     "output_type": "execute_result"
    }
   ],
   "source": [
    "ACCstderror = ACCgrpstd / n\n",
    "ACCstderror"
   ]
  },
  {
   "cell_type": "markdown",
   "metadata": {},
   "source": [
    "# Creating Variables to Run Statistics"
   ]
  },
  {
   "cell_type": "markdown",
   "metadata": {},
   "source": [
    "#### This is a Python set of analyses, where the data above are organized in what's called \"long-form\" and to run statistics, I need \"wide-form\" data. So I am creating a new \"dataframe\" with the RT and accuracy means for congruent & incongruent trials, after presentation of the low & high control-demand cue, for each subject."
   ]
  },
  {
   "cell_type": "code",
   "execution_count": 594,
   "metadata": {
    "collapsed": true
   },
   "outputs": [],
   "source": [
    "RTanalysis = pd.DataFrame()\n",
    "lists = [[] for list in range(0,7)]\n",
    "\n",
    "for ID in range(10,86):\n",
    "    sub = cdat[cdat.subject == ID]\n",
    "    lists[0].append(ID)\n",
    "    LowCRT_trials = sub[sub.ContextCong == 'LowC'].RT.mean()\n",
    "    LowICRT_trials = sub[sub.ContextCong == 'LowIC'].RT.mean()\n",
    "    HighCRT_trials = sub[sub.ContextCong == 'HighC'].RT.mean()\n",
    "    HighICRT_trials = sub[sub.ContextCong == 'HighIC'].RT.mean()    \n",
    "    lists[1].append(LowCRT_trials)\n",
    "    lists[2].append(LowICRT_trials)\n",
    "    lists[3].append(HighCRT_trials)\n",
    "    lists[4].append(HighICRT_trials)\n",
    "    \n",
    "RTanalysis['SubjectID'] = lists[0]\n",
    "RTanalysis['LowC'] = lists[1]\n",
    "RTanalysis['LowIC'] = lists[2]\n",
    "RTanalysis['HighC'] = lists[3]\n",
    "RTanalysis['HighIC'] = lists[4]"
   ]
  },
  {
   "cell_type": "code",
   "execution_count": 595,
   "metadata": {
    "collapsed": true
   },
   "outputs": [],
   "source": [
    "ACCanalysis = pd.DataFrame()\n",
    "new_lists = [[] for list in range(0,7)]\n",
    "\n",
    "for ID in range(10,86):\n",
    "    sub = adat[adat.subject == ID]\n",
    "    new_lists[0].append(ID)\n",
    "    LowCACC_trials = sub[sub.ContextCong == 'LowC'].Accuracy.mean()\n",
    "    LowICACC_trials = sub[sub.ContextCong == 'LowIC'].Accuracy.mean()\n",
    "    HighCACC_trials = sub[sub.ContextCong == 'HighC'].Accuracy.mean()\n",
    "    HighICACC_trials = sub[sub.ContextCong == 'HighIC'].Accuracy.mean()    \n",
    "    new_lists[1].append(LowCACC_trials)\n",
    "    new_lists[2].append(LowICACC_trials)\n",
    "    new_lists[3].append(HighCACC_trials)\n",
    "    new_lists[4].append(HighICACC_trials)\n",
    "    \n",
    "ACCanalysis['SubjectID'] = new_lists[0]\n",
    "ACCanalysis['LowC'] = new_lists[1]\n",
    "ACCanalysis['LowIC'] = new_lists[2]\n",
    "ACCanalysis['HighC'] = new_lists[3]\n",
    "ACCanalysis['HighIC'] = new_lists[4]"
   ]
  },
  {
   "cell_type": "code",
   "execution_count": 596,
   "metadata": {
    "collapsed": true
   },
   "outputs": [],
   "source": [
    "#now for run as well\n",
    "\n",
    "RTrunanalysis = pd.DataFrame()\n",
    "new_RTlists = [[] for list in range(0,8)]\n",
    "\n",
    "for ID in range(10,86):\n",
    "    sub = cdat[cdat.subject == ID]\n",
    "    for runID in range(0,4):\n",
    "        run = sub[sub.RunCounter == runID]\n",
    "        new_RTlists[0].append(ID)\n",
    "        new_RTlists[1].append(runID)\n",
    "        LowCRT_trials = run[run.ContextCong == 'LowC'].RT.mean()\n",
    "        LowICRT_trials = run[run.ContextCong == 'LowIC'].RT.mean()\n",
    "        HighCRT_trials = run[run.ContextCong == 'HighC'].RT.mean()\n",
    "        HighICRT_trials = run[run.ContextCong == 'HighIC'].RT.mean()    \n",
    "        new_RTlists[2].append(LowCRT_trials)\n",
    "        new_RTlists[3].append(LowICRT_trials)\n",
    "        new_RTlists[4].append(HighCRT_trials)\n",
    "        new_RTlists[5].append(HighICRT_trials)\n",
    "    \n",
    "RTrunanalysis['SubjectID'] = new_RTlists[0]\n",
    "RTrunanalysis['Run'] = new_RTlists[1]\n",
    "RTrunanalysis['LowC'] = new_RTlists[2]\n",
    "RTrunanalysis['LowIC'] = new_RTlists[3]\n",
    "RTrunanalysis['HighC'] = new_RTlists[4]\n",
    "RTrunanalysis['HighIC'] = new_RTlists[5]"
   ]
  },
  {
   "cell_type": "code",
   "execution_count": 597,
   "metadata": {
    "collapsed": true
   },
   "outputs": [],
   "source": [
    "#repeat for accuracy\n",
    "\n",
    "ACCrunanalysis = pd.DataFrame()\n",
    "new_acclists = [[] for list in range(0,8)]\n",
    "\n",
    "for ID in range(10,86):\n",
    "    sub = adat[adat.subject == ID]\n",
    "    for runID in range(0,4):\n",
    "        run = sub[sub.RunCounter == runID]\n",
    "        new_acclists[0].append(ID)\n",
    "        new_acclists[1].append(runID)\n",
    "        LowCACC_trials = run[run.ContextCong == 'LowC'].Accuracy.mean()\n",
    "        LowICACC_trials = run[run.ContextCong == 'LowIC'].Accuracy.mean()\n",
    "        HighCACC_trials = run[run.ContextCong == 'HighC'].Accuracy.mean()\n",
    "        HighICACC_trials = run[run.ContextCong == 'HighIC'].Accuracy.mean()    \n",
    "        new_acclists[2].append(LowCACC_trials)\n",
    "        new_acclists[3].append(LowICACC_trials)\n",
    "        new_acclists[4].append(HighCACC_trials)\n",
    "        new_acclists[5].append(HighICACC_trials)\n",
    "    \n",
    "ACCrunanalysis['SubjectID'] = new_acclists[0]\n",
    "ACCrunanalysis['Run'] = new_acclists[1]\n",
    "ACCrunanalysis['LowC'] = new_acclists[2]\n",
    "ACCrunanalysis['LowIC'] = new_acclists[3]\n",
    "ACCrunanalysis['HighC'] = new_acclists[4]\n",
    "ACCrunanalysis['HighIC'] = new_acclists[5]"
   ]
  },
  {
   "cell_type": "markdown",
   "metadata": {},
   "source": [
    "In addition to creating databases for analysis by run, we'll also create some for the task version. This is because the S-S phase prioritizes learning associations of faces and houses with scenes, and we wanted to test whether the contrasting categorical boundaries (faces/houses) then impeded S-C learning."
   ]
  },
  {
   "cell_type": "code",
   "execution_count": 598,
   "metadata": {
    "collapsed": true
   },
   "outputs": [],
   "source": [
    "PairedFacesHousesRT = pd.DataFrame()\n",
    "V_RT_lists = [[] for list in range(0,7)]\n",
    "versionGrp = cdat[cdat.VersionComp == '1']\n",
    "\n",
    "for ID in range(10,86):\n",
    "    sub = versionGrp[versionGrp.subject == ID]\n",
    "    V_RT_lists[0].append(ID)\n",
    "    LowCRT_trials = sub[sub.ContextCong == 'LowC'].RT.mean()\n",
    "    LowICRT_trials = sub[sub.ContextCong == 'LowIC'].RT.mean()\n",
    "    HighCRT_trials = sub[sub.ContextCong == 'HighC'].RT.mean()\n",
    "    HighICRT_trials = sub[sub.ContextCong == 'HighIC'].RT.mean()\n",
    "    V_RT_lists[1].append(LowCRT_trials)\n",
    "    V_RT_lists[2].append(LowICRT_trials)\n",
    "    V_RT_lists[3].append(HighCRT_trials)\n",
    "    V_RT_lists[4].append(HighICRT_trials)\n",
    "    \n",
    "PairedFacesHousesRT['SubjectID'] = V_RT_lists[0]\n",
    "PairedFacesHousesRT['LowC'] = V_RT_lists[1]\n",
    "PairedFacesHousesRT['LowIC'] = V_RT_lists[2]\n",
    "PairedFacesHousesRT['HighC'] = V_RT_lists[3]\n",
    "PairedFacesHousesRT['HighIC'] = V_RT_lists[4]"
   ]
  },
  {
   "cell_type": "code",
   "execution_count": 599,
   "metadata": {
    "collapsed": true
   },
   "outputs": [],
   "source": [
    "MixedFacesHousesRT = pd.DataFrame()\n",
    "V_RT_lists_Mix = [[] for list in range(0,7)]\n",
    "versionGrp = cdat[cdat.VersionComp == '3']\n",
    "\n",
    "for ID in range(10,86):\n",
    "    sub = versionGrp[versionGrp.subject == ID]\n",
    "    V_RT_lists_Mix[0].append(ID)\n",
    "    LowCRT_trials = sub[sub.ContextCong == 'LowC'].RT.mean()\n",
    "    LowICRT_trials = sub[sub.ContextCong == 'LowIC'].RT.mean()\n",
    "    HighCRT_trials = sub[sub.ContextCong == 'HighC'].RT.mean()\n",
    "    HighICRT_trials = sub[sub.ContextCong == 'HighIC'].RT.mean()\n",
    "    V_RT_lists_Mix[1].append(LowCRT_trials)\n",
    "    V_RT_lists_Mix[2].append(LowICRT_trials)\n",
    "    V_RT_lists_Mix[3].append(HighCRT_trials)\n",
    "    V_RT_lists_Mix[4].append(HighICRT_trials)\n",
    "    \n",
    "MixedFacesHousesRT['SubjectID'] = V_RT_lists_Mix[0]\n",
    "MixedFacesHousesRT['LowC'] = V_RT_lists_Mix[1]\n",
    "MixedFacesHousesRT['LowIC'] = V_RT_lists_Mix[2]\n",
    "MixedFacesHousesRT['HighC'] = V_RT_lists_Mix[3]\n",
    "MixedFacesHousesRT['HighIC'] = V_RT_lists_Mix[4]"
   ]
  },
  {
   "cell_type": "code",
   "execution_count": 600,
   "metadata": {
    "collapsed": true
   },
   "outputs": [],
   "source": [
    "PairedFacesHousesACC = pd.DataFrame()\n",
    "V_ACC_lists = [[] for list in range(0,7)]\n",
    "versionGrp = adat[adat.VersionComp == '1']\n",
    "\n",
    "for ID in range(10,86):\n",
    "    sub = versionGrp[versionGrp.subject == ID]\n",
    "    V_ACC_lists[0].append(ID)\n",
    "    LowCACC_trials = sub[sub.ContextCong == 'LowC'].Accuracy.mean()\n",
    "    LowICACC_trials = sub[sub.ContextCong == 'LowIC'].Accuracy.mean()\n",
    "    HighCACC_trials = sub[sub.ContextCong == 'HighC'].Accuracy.mean()\n",
    "    HighICACC_trials = sub[sub.ContextCong == 'HighIC'].Accuracy.mean()\n",
    "    V_ACC_lists[1].append(LowCACC_trials)\n",
    "    V_ACC_lists[2].append(LowICACC_trials)\n",
    "    V_ACC_lists[3].append(HighCACC_trials)\n",
    "    V_ACC_lists[4].append(HighICACC_trials)\n",
    "    \n",
    "PairedFacesHousesACC['SubjectID'] = V_ACC_lists[0]\n",
    "PairedFacesHousesACC['LowC'] = V_ACC_lists[1]\n",
    "PairedFacesHousesACC['LowIC'] = V_ACC_lists[2]\n",
    "PairedFacesHousesACC['HighC'] = V_ACC_lists[3]\n",
    "PairedFacesHousesACC['HighIC'] = V_ACC_lists[4]"
   ]
  },
  {
   "cell_type": "code",
   "execution_count": 601,
   "metadata": {
    "collapsed": true
   },
   "outputs": [],
   "source": [
    "MixedFacesHousesACC = pd.DataFrame()\n",
    "V_ACC_lists_Mix = [[] for list in range(0,7)]\n",
    "versionGrp = adat[adat.VersionComp == '3']\n",
    "\n",
    "for ID in range(10,86):\n",
    "    sub = versionGrp[versionGrp.subject == ID]\n",
    "    V_ACC_lists_Mix[0].append(ID)\n",
    "    LowCACC_trials = sub[sub.ContextCong == 'LowC'].Accuracy.mean()\n",
    "    LowICACC_trials = sub[sub.ContextCong == 'LowIC'].Accuracy.mean()\n",
    "    HighCACC_trials = sub[sub.ContextCong == 'HighC'].Accuracy.mean()\n",
    "    HighICACC_trials = sub[sub.ContextCong == 'HighIC'].Accuracy.mean()\n",
    "    V_ACC_lists_Mix[1].append(LowCACC_trials)\n",
    "    V_ACC_lists_Mix[2].append(LowICACC_trials)\n",
    "    V_ACC_lists_Mix[3].append(HighCACC_trials)\n",
    "    V_ACC_lists_Mix[4].append(HighICACC_trials)\n",
    "    \n",
    "MixedFacesHousesACC['SubjectID'] = V_ACC_lists_Mix[0]\n",
    "MixedFacesHousesACC['LowC'] = V_ACC_lists_Mix[1]\n",
    "MixedFacesHousesACC['LowIC'] = V_ACC_lists_Mix[2]\n",
    "MixedFacesHousesACC['HighC'] = V_ACC_lists_Mix[3]\n",
    "MixedFacesHousesACC['HighIC'] = V_ACC_lists_Mix[4]"
   ]
  },
  {
   "cell_type": "code",
   "execution_count": 602,
   "metadata": {
    "collapsed": true
   },
   "outputs": [],
   "source": [
    "PairedFacesHousesRT = PairedFacesHousesRT.dropna();\n",
    "MixedFacesHousesRT = MixedFacesHousesRT.dropna();\n",
    "PairedFacesHousesACC = PairedFacesHousesACC.dropna();\n",
    "MixedFacesHousesACC = MixedFacesHousesACC.dropna();"
   ]
  },
  {
   "cell_type": "markdown",
   "metadata": {},
   "source": [
    "# Run Actual Statistics"
   ]
  },
  {
   "cell_type": "markdown",
   "metadata": {},
   "source": [
    "#### For the S-C phase, we run a repeated-measures ANOVA comparing RTs and accuracies for control-demand cue (low/high) & congruency (congruent/incongruent) & run (4).\n",
    "\n",
    "Unfortunately, Python does not have the capability for repeated-measures ANOVA (\"pyvtttbl\" is not as good as other programs), so I will include R code to run the ANOVA. I will also include a \"sneak peak\" below via paired t-tests."
   ]
  },
  {
   "cell_type": "code",
   "execution_count": 603,
   "metadata": {},
   "outputs": [
    {
     "data": {
      "text/plain": [
       "Ttest_relResult(statistic=0.48937637694885389, pvalue=0.62600350062539067)"
      ]
     },
     "execution_count": 603,
     "metadata": {},
     "output_type": "execute_result"
    }
   ],
   "source": [
    "LowCongDiff = RTanalysis.LowIC - RTanalysis.LowC;\n",
    "HighCongDiff = RTanalysis.HighIC - RTanalysis.HighC;\n",
    "stats.ttest_rel(LowCongDiff, HighCongDiff)"
   ]
  },
  {
   "cell_type": "code",
   "execution_count": 604,
   "metadata": {},
   "outputs": [
    {
     "data": {
      "text/plain": [
       "Ttest_relResult(statistic=0.52657106480849258, pvalue=0.60004538735425306)"
      ]
     },
     "execution_count": 604,
     "metadata": {},
     "output_type": "execute_result"
    }
   ],
   "source": [
    "LowCongDiffACC = ACCanalysis.LowIC - ACCanalysis.LowC;\n",
    "HighCongDiffACC = ACCanalysis.HighIC - ACCanalysis.HighC;\n",
    "stats.ttest_rel(LowCongDiffACC, HighCongDiffACC)"
   ]
  },
  {
   "cell_type": "markdown",
   "metadata": {},
   "source": [
    "Here, I'm testing whether \"task version\" impacted S-C learning. Namely, I'm comparing the differential congruency effects following each control-demand cue across two task version groups: one where faces/houses were associated together with high/low control-demand and another where the faces and houses were intermixed in the high/low control-demand cue categorization."
   ]
  },
  {
   "cell_type": "code",
   "execution_count": 605,
   "metadata": {},
   "outputs": [
    {
     "data": {
      "text/plain": [
       "Ttest_indResult(statistic=0.337175165323716, pvalue=0.73693983788616879)"
      ]
     },
     "execution_count": 605,
     "metadata": {},
     "output_type": "execute_result"
    }
   ],
   "source": [
    "RTpairedHighCong = PairedFacesHousesRT.HighIC - PairedFacesHousesRT.HighC\n",
    "RTpairedLowCong = PairedFacesHousesRT.LowIC - PairedFacesHousesRT.LowC\n",
    "RTnotpairedHighCong = MixedFacesHousesRT.HighIC - MixedFacesHousesRT.HighC;\n",
    "RTnotpairedLowCong = MixedFacesHousesRT.LowIC - MixedFacesHousesRT.LowC;\n",
    "\n",
    "RTpaired = RTpairedLowCong - RTpairedHighCong;\n",
    "RTnotpaired = RTnotpairedLowCong - RTnotpairedHighCong;\n",
    "stats.ttest_ind(RTpaired,RTnotpaired,equal_var=False)"
   ]
  },
  {
   "cell_type": "code",
   "execution_count": 606,
   "metadata": {},
   "outputs": [
    {
     "data": {
      "text/plain": [
       "Ttest_indResult(statistic=-0.01664793733124792, pvalue=0.98676331065818512)"
      ]
     },
     "execution_count": 606,
     "metadata": {},
     "output_type": "execute_result"
    }
   ],
   "source": [
    "ACCpairedHighCong = PairedFacesHousesACC.HighIC - PairedFacesHousesACC.HighC\n",
    "ACCpairedLowCong = PairedFacesHousesACC.LowIC - PairedFacesHousesACC.LowC\n",
    "ACCnotpairedHighCong = MixedFacesHousesACC.HighIC - MixedFacesHousesACC.HighC;\n",
    "ACCnotpairedLowCong = MixedFacesHousesACC.LowIC - MixedFacesHousesACC.LowC;\n",
    "\n",
    "ACCpaired = ACCpairedLowCong - ACCpairedHighCong;\n",
    "ACCnotpaired = ACCnotpairedLowCong - ACCnotpairedHighCong;\n",
    "stats.ttest_ind(ACCpaired,ACCnotpaired,equal_var=False)"
   ]
  },
  {
   "cell_type": "markdown",
   "metadata": {},
   "source": [
    "Thus, there was no effect of task version on the S-C cueing effects (high vs. low control-demand congruency effect) for RT or accuracy.\n",
    "\n",
    "Here: I'm storing the congruency differences from the control-demand cues to compare them with S-CT effects."
   ]
  },
  {
   "cell_type": "code",
   "execution_count": 607,
   "metadata": {
    "collapsed": true
   },
   "outputs": [],
   "source": [
    "SCRTcueing = LowCongDiff - HighCongDiff;\n",
    "SCACCcueing = LowCongDiffACC - HighCongDiffACC;"
   ]
  },
  {
   "cell_type": "code",
   "execution_count": 608,
   "metadata": {},
   "outputs": [
    {
     "name": "stdout",
     "output_type": "stream",
     "text": [
      "Stored 'overallSCRT' (DataFrame)\n",
      "Stored 'SCRTcueing' (Series)\n",
      "Stored 'SCACCcueing' (Series)\n"
     ]
    }
   ],
   "source": [
    "overallSCRT = cdat.groupby(['subject'])['RT'].mean().reset_index()\n",
    "overallSCRT = overallSCRT.drop('subject',1);\n",
    "\n",
    "%store overallSCRT\n",
    "%store SCRTcueing\n",
    "%store SCACCcueing"
   ]
  },
  {
   "cell_type": "markdown",
   "metadata": {},
   "source": [
    "## Running ANOVAs in R"
   ]
  },
  {
   "cell_type": "markdown",
   "metadata": {},
   "source": [
    "First, I need to make the data CSVs that the R script will analyze. Then I will write the necessary R script and run it in another cell here. You'll be able to see the inputs below & I summarize the results there as well. The cont files refer to contingency learning, another section in the manuscript"
   ]
  },
  {
   "cell_type": "code",
   "execution_count": 609,
   "metadata": {},
   "outputs": [
    {
     "name": "stdout",
     "output_type": "stream",
     "text": [
      "C:\\Users\\cb383\\Documents\\controltransfer\\expt1\\data\\csvdata\n"
     ]
    }
   ],
   "source": [
    "%cd 'csvdata'"
   ]
  },
  {
   "cell_type": "code",
   "execution_count": 610,
   "metadata": {
    "collapsed": true
   },
   "outputs": [],
   "source": [
    "AN_sub_RTmeans = cdat.groupby(['subject','RunCounter','DemandCue','TrialType'])['RT'].mean();\n",
    "#sub 19 has a missing cell for the contingency learning analysis, so we have to exclude - that's how SPSS handles it, and those are the results I reported\n",
    "AN_sub_RTmeans_cont = cdat.loc[~cdat['subject'].isin([19])].groupby(['subject','DemandCue','TrialType','ResponseMatrix'])['RT'].mean();\n",
    "AN_sub_ACCmeans = adat.groupby(['subject','RunCounter','DemandCue','TrialType'])['Accuracy'].mean();\n",
    "AN_sub_ACCmeans_cont = adat.groupby(['subject','DemandCue','TrialType','ResponseMatrix'])['Accuracy'].mean();\n",
    "\n",
    "#create tidy data csvs\n",
    "AN_sub_RTmeans.to_csv('SC_ANOVA_RT.csv')\n",
    "AN_sub_ACCmeans.to_csv('SC_ANOVA_ACC.csv')\n",
    "AN_sub_RTmeans_cont.to_csv('SC_ANOVA_RT_cont.csv')\n",
    "AN_sub_ACCmeans_cont.to_csv('SC_ANOVA_ACC_cont.csv')\n",
    "\n",
    "#create headers for the tidy data csvs, for analysis purposes\n",
    "import csv\n",
    "with open('SC_ANOVA_RT.csv',newline='') as f:\n",
    "    r = csv.reader(f)\n",
    "    data = [line for line in r]\n",
    "with open('SC_ANOVA_RT.csv','w',newline='') as f:\n",
    "    w = csv.writer(f)\n",
    "    w.writerow([\"subject\", \"run\", \"demandcue\", \"trialtype\", \"rt\"])\n",
    "    w.writerows(data)\n",
    "\n",
    "with open('SC_ANOVA_ACC.csv',newline='') as f:\n",
    "    r = csv.reader(f)\n",
    "    data = [line for line in r]\n",
    "with open('SC_ANOVA_ACC.csv','w',newline='') as f:\n",
    "    w = csv.writer(f)\n",
    "    w.writerow([\"subject\", \"run\", \"demandcue\", \"trialtype\", \"acc\"])\n",
    "    w.writerows(data)\n",
    "\n",
    "with open('SC_ANOVA_RT_cont.csv',newline='') as f:\n",
    "    r = csv.reader(f)\n",
    "    data = [line for line in r]\n",
    "with open('SC_ANOVA_RT_cont.csv','w',newline='') as f:\n",
    "    w = csv.writer(f)\n",
    "    w.writerow([\"subject\", \"demandcue\", \"trialtype\", \"response\", \"rt\"])\n",
    "    w.writerows(data)\n",
    "\n",
    "with open('SC_ANOVA_ACC_cont.csv',newline='') as f:\n",
    "    r = csv.reader(f)\n",
    "    data = [line for line in r]\n",
    "with open('SC_ANOVA_ACC_cont.csv','w',newline='') as f:\n",
    "    w = csv.writer(f)\n",
    "    w.writerow([\"subject\", \"demandcue\", \"trialtype\", \"response\", \"acc\"])\n",
    "    w.writerows(data)"
   ]
  },
  {
   "cell_type": "code",
   "execution_count": 611,
   "metadata": {},
   "outputs": [
    {
     "name": "stdout",
     "output_type": "stream",
     "text": [
      "Overwriting SCAnova.R\n"
     ]
    }
   ],
   "source": [
    "%%writefile SCAnova.R\n",
    "\n",
    "rawRTData <- read.csv('SC_ANOVA_RT.csv')\n",
    "install.packages(\"psych\",repos='https://mirrors.nics.utk.edu/cran/')\n",
    "install.packages(\"ez\",repos='https://mirrors.nics.utk.edu/cran/')\n",
    "library(psych)\n",
    "library(ez)\n",
    "\n",
    "rawRTData$subject = as.factor(rawRTData$subject)\n",
    "rawRTData$run = as.factor(rawRTData$run)\n",
    "rawRTData$demandcue = as.factor(rawRTData$demandcue)\n",
    "rawRTData$trialtype = as.factor(rawRTData$trialtype)\n",
    "\n",
    "SC_RT_runANOVA <- ezANOVA(data=as.data.frame(rawRTData),\n",
    "                                  dv=rt,\n",
    "                                  wid=subject,\n",
    "                                  within=.(run, demandcue, trialtype),\n",
    "                                  detailed=TRUE)\n",
    "print(SC_RT_runANOVA)\n",
    "\n",
    "rawACCData <- read.csv('SC_ANOVA_ACC.csv')\n",
    "\n",
    "rawACCData$subject = as.factor(rawACCData$subject)\n",
    "rawACCData$run = as.factor(rawACCData$run)\n",
    "rawACCData$demandcue = as.factor(rawACCData$demandcue)\n",
    "rawACCData$trialtype = as.factor(rawACCData$trialtype)\n",
    "\n",
    "SC_ACC_runANOVA <- ezANOVA(data=as.data.frame(rawACCData),\n",
    "                                  dv=acc,\n",
    "                                  wid=subject,\n",
    "                                  within=.(run, demandcue, trialtype),\n",
    "                                  detailed=TRUE)\n",
    "print(SC_ACC_runANOVA)\n",
    "\n",
    "rawRTData_cont <- read.csv('SC_ANOVA_RT_cont.csv')\n",
    "\n",
    "rawRTData_cont$subject = as.factor(rawRTData_cont$subject)\n",
    "rawRTData_cont$demandcue = as.factor(rawRTData_cont$demandcue)\n",
    "rawRTData_cont$trialtype = as.factor(rawRTData_cont$trialtype)\n",
    "rawRTData_cont$response = as.factor(rawRTData_cont$response)\n",
    "\n",
    "summary(aov(rt ~ demandcue * trialtype * response + Error(subject/(demandcue * trialtype * response)), data = rawRTData_cont))\n",
    "\n",
    "#ezANOVA doesn't work with missing cells\n",
    "#SC_RT_runANOVA_cont <- ezANOVA(data=as.data.frame(rawRTData_cont),\n",
    "#                                  dv=rt,\n",
    "#                                  wid=subject,\n",
    "#                                  within=.(demandcue, trialtype, response),\n",
    "#                                  detailed=TRUE)\n",
    "#print(SC_RT_runANOVA_cont)\n",
    "\n",
    "rawACCData_cont <- read.csv('SC_ANOVA_ACC_cont.csv')\n",
    "\n",
    "rawACCData_cont$subject = as.factor(rawACCData_cont$subject)\n",
    "rawACCData_cont$demandcue = as.factor(rawACCData_cont$demandcue)\n",
    "rawACCData_cont$trialtype = as.factor(rawACCData_cont$trialtype)\n",
    "rawACCData_cont$response = as.factor(rawACCData_cont$response)\n",
    "\n",
    "SC_ACC_runANOVA_cont <- ezANOVA(data=as.data.frame(rawACCData_cont),\n",
    "                                  dv=acc,\n",
    "                                  wid=subject,\n",
    "                                  within=.(demandcue, trialtype, response),\n",
    "                                  detailed=TRUE)\n",
    "print(SC_ACC_runANOVA_cont)\n"
   ]
  },
  {
   "cell_type": "code",
   "execution_count": 612,
   "metadata": {},
   "outputs": [
    {
     "name": "stdout",
     "output_type": "stream",
     "text": [
      "package 'psych' successfully unpacked and MD5 sums checked\n",
      "\n",
      "The downloaded binary packages are in\n",
      "\tC:\\Users\\cb383\\AppData\\Local\\Temp\\RtmpIdngxx\\downloaded_packages\n",
      "package 'ez' successfully unpacked and MD5 sums checked\n",
      "\n",
      "The downloaded binary packages are in\n",
      "\tC:\\Users\\cb383\\AppData\\Local\\Temp\\RtmpIdngxx\\downloaded_packages\n",
      "$ANOVA\n",
      "                   Effect DFn DFd          SSn        SSd            F\n",
      "1             (Intercept)   1  75 5.310867e+08 2336416.56 1.704812e+04\n",
      "2                     run   3 225 2.723108e+03  505567.62 4.039680e-01\n",
      "3               demandcue   1  75 5.465272e+02   66453.17 6.168184e-01\n",
      "4               trialtype   1  75 1.592457e+06  296496.06 4.028191e+02\n",
      "5           run:demandcue   3 225 2.097988e+03  203920.79 7.716187e-01\n",
      "6           run:trialtype   3 225 1.013063e+04  224943.49 3.377724e+00\n",
      "7     demandcue:trialtype   1  75 5.613808e+02  104435.80 4.031525e-01\n",
      "8 run:demandcue:trialtype   3 225 2.722722e+03  248988.65 8.201343e-01\n",
      "             p p<.05          ges\n",
      "1 3.306223e-90     * 0.9925482778\n",
      "2 7.502878e-01       0.0006824927\n",
      "3 4.347061e-01       0.0001370509\n",
      "4 6.940838e-32     * 0.2854029485\n",
      "5 5.109646e-01       0.0005259011\n",
      "6 1.913975e-02     * 0.0025343339\n",
      "7 5.273980e-01       0.0001407751\n",
      "8 4.839420e-01       0.0006823959\n",
      "\n",
      "$`Mauchly's Test for Sphericity`\n",
      "                   Effect         W          p p<.05\n",
      "2                     run 0.8364393 0.02187899     *\n",
      "5           run:demandcue 0.9661205 0.77033706      \n",
      "6           run:trialtype 0.9701226 0.81560928      \n",
      "8 run:demandcue:trialtype 0.8319981 0.01867788     *\n",
      "\n",
      "$`Sphericity Corrections`\n",
      "                   Effect       GGe      p[GG] p[GG]<.05       HFe      p[HF]\n",
      "2                     run 0.8943367 0.72803150           0.9306655 0.73600225\n",
      "5           run:demandcue 0.9786643 0.50847159           1.0228660 0.51096457\n",
      "6           run:trialtype 0.9811892 0.01985199         * 1.0256366 0.01913975\n",
      "8 run:demandcue:trialtype 0.8989289 0.47309326           0.9356698 0.47717685\n",
      "  p[HF]<.05\n",
      "2          \n",
      "5          \n",
      "6         *\n",
      "8          \n",
      "\n",
      "$ANOVA\n",
      "                   Effect DFn DFd          SSn       SSd            F\n",
      "1             (Intercept)   1  75 1.023363e+03 2.2167993 3.462301e+04\n",
      "2                     run   3 225 7.184400e-02 1.5556584 3.463678e+00\n",
      "3               demandcue   1  75 6.754022e-04 0.3623007 1.398153e-01\n",
      "4               trialtype   1  75 1.585328e+00 1.1360466 1.046608e+02\n",
      "5           run:demandcue   3 225 1.068677e-02 1.2921086 6.203101e-01\n",
      "6           run:trialtype   3 225 1.360466e-01 1.2380379 8.241664e+00\n",
      "7     demandcue:trialtype   1  75 1.774035e-03 0.4798544 2.772771e-01\n",
      "8 run:demandcue:trialtype   3 225 3.159935e-02 1.5148484 1.564481e+00\n",
      "              p p<.05          ges\n",
      "1 1.039433e-101     * 9.905187e-01\n",
      "2  1.709110e-02     * 7.280873e-03\n",
      "3  7.095197e-01       6.894441e-05\n",
      "4  7.065376e-16     * 1.392962e-01\n",
      "5  6.025277e-01       1.089782e-03\n",
      "6  3.161117e-05     * 1.369821e-02\n",
      "7  6.000454e-01       1.810715e-04\n",
      "8  1.988369e-01       3.215481e-03\n",
      "\n",
      "$`Mauchly's Test for Sphericity`\n",
      "                   Effect         W            p p<.05\n",
      "2                     run 0.7433942 0.0005574704     *\n",
      "5           run:demandcue 0.9729299 0.8459446278      \n",
      "6           run:trialtype 0.9359758 0.4310112290      \n",
      "8 run:demandcue:trialtype 0.8039312 0.0066003721     *\n",
      "\n",
      "$`Sphericity Corrections`\n",
      "                   Effect       GGe        p[GG] p[GG]<.05       HFe\n",
      "2                     run 0.8217134 2.459901e-02         * 0.8517773\n",
      "5           run:demandcue 0.9825913 5.997544e-01           1.0271754\n",
      "6           run:trialtype 0.9582995 4.336961e-05         * 1.0005407\n",
      "8 run:demandcue:trialtype 0.8920657 2.036304e-01           0.9281914\n",
      "         p[HF] p[HF]<.05\n",
      "2 2.312877e-02         *\n",
      "5 6.025277e-01          \n",
      "6 3.161117e-05         *\n",
      "8 2.020447e-01          \n",
      "\n",
      "\n",
      "Error: subject\n",
      "          Df  Sum Sq Mean Sq F value Pr(>F)\n",
      "Residuals 74 2367497   31993               \n",
      "\n",
      "Error: subject:demandcue\n",
      "          Df Sum Sq Mean Sq F value Pr(>F)\n",
      "demandcue  1     44    43.5   0.051  0.822\n",
      "Residuals 74  63027   851.7               \n",
      "\n",
      "Error: subject:trialtype\n",
      "          Df  Sum Sq Mean Sq F value Pr(>F)    \n",
      "trialtype  1 1506511 1506511   366.8 <2e-16 ***\n",
      "Residuals 74  303944    4107                   \n",
      "---\n",
      "Signif. codes:  0 '***' 0.001 '**' 0.01 '*' 0.05 '.' 0.1 ' ' 1\n",
      "\n",
      "Error: subject:response\n",
      "           Df  Sum Sq Mean Sq F value Pr(>F)    \n",
      "response    3  542114  180705    37.8 <2e-16 ***\n",
      "Residuals 222 1061396    4781                   \n",
      "---\n",
      "Signif. codes:  0 '***' 0.001 '**' 0.01 '*' 0.05 '.' 0.1 ' ' 1\n",
      "\n",
      "Error: subject:demandcue:trialtype\n",
      "                    Df Sum Sq Mean Sq F value Pr(>F)\n",
      "demandcue:trialtype  1    294   294.1   0.214  0.645\n",
      "Residuals           74 101456  1371.0               \n",
      "\n",
      "Error: subject:demandcue:response\n",
      "                    Df Sum Sq Mean Sq F value Pr(>F)\n",
      "demandcue:response   3   6106    2035   1.915  0.128\n",
      "Residuals          222 235968    1063               \n",
      "\n",
      "Error: subject:trialtype:response\n",
      "                    Df Sum Sq Mean Sq F value Pr(>F)\n",
      "trialtype:response   3   6228    2076    1.76  0.156\n",
      "Residuals          222 261922    1180               \n",
      "\n",
      "Error: subject:demandcue:trialtype:response\n",
      "                              Df Sum Sq Mean Sq F value Pr(>F)\n",
      "demandcue:trialtype:response   3   5976    1992   1.906  0.129\n",
      "Residuals                    222 232039    1045               \n",
      "$ANOVA\n",
      "                        Effect DFn DFd          SSn       SSd            F\n",
      "1                  (Intercept)   1  75 1.023562e+03 2.3456977 3.272679e+04\n",
      "2                    demandcue   1  75 6.693476e-03 0.3964400 1.266297e+00\n",
      "3                    trialtype   1  75 1.471141e+00 1.2857818 8.581205e+01\n",
      "4                     response   3 225 4.665442e-01 2.4980916 1.400702e+01\n",
      "5          demandcue:trialtype   1  75 2.184401e-03 0.5352171 3.061003e-01\n",
      "6           demandcue:response   3 225 2.187583e-02 1.2768210 1.284978e+00\n",
      "7           trialtype:response   3 225 2.728662e-02 1.7940279 1.140727e+00\n",
      "8 demandcue:trialtype:response   3 225 2.764095e-02 1.2660955 1.637374e+00\n",
      "              p p<.05          ges\n",
      "1 8.552348e-101     * 0.9889868501\n",
      "2  2.640508e-01       0.0005868965\n",
      "3  4.703230e-14     * 0.1143138667\n",
      "4  2.098966e-08     * 0.0393219806\n",
      "5  5.817287e-01       0.0001916082\n",
      "6  2.803295e-01       0.0019155640\n",
      "7  3.334359e-01       0.0023882295\n",
      "8  1.815655e-01       0.0024191670\n",
      "\n",
      "$`Mauchly's Test for Sphericity`\n",
      "                        Effect         W           p p<.05\n",
      "4                     response 0.8499109 0.034959133     *\n",
      "6           demandcue:response 0.8684550 0.064747128      \n",
      "7           trialtype:response 0.7885778 0.003630529     *\n",
      "8 demandcue:trialtype:response 0.8205443 0.012319563     *\n",
      "\n",
      "$`Sphericity Corrections`\n",
      "                        Effect       GGe        p[GG] p[GG]<.05       HFe\n",
      "4                     response 0.9070864 8.048080e-08         * 0.9445640\n",
      "6           demandcue:response 0.9242598 2.808364e-01           0.9633082\n",
      "7           trialtype:response 0.8891850 3.308839e-01           0.9250536\n",
      "8 demandcue:trialtype:response 0.9032434 1.865154e-01           0.9403731\n",
      "         p[HF] p[HF]<.05\n",
      "4 4.678494e-08         *\n",
      "6 2.806083e-01          \n",
      "7 3.318035e-01          \n",
      "8 1.846211e-01          \n",
      "\n"
     ]
    },
    {
     "name": "stderr",
     "output_type": "stream",
     "text": [
      "trying URL 'https://mirrors.nics.utk.edu/cran/bin/windows/contrib/3.3/psych_1.7.5.zip'\n",
      "Content type 'application/zip' length 3966952 bytes (3.8 MB)\n",
      "==================================================\n",
      "downloaded 3.8 MB\n",
      "\n",
      "trying URL 'https://mirrors.nics.utk.edu/cran/bin/windows/contrib/3.3/ez_4.4-0.zip'\n",
      "Content type 'application/zip' length 304788 bytes (297 KB)\n",
      "==================================================\n",
      "downloaded 297 KB\n",
      "\n",
      "Warning message:\n",
      "package 'psych' was built under R version 3.3.3 \n",
      "Warning message:\n",
      "package 'ez' was built under R version 3.3.3 \n"
     ]
    }
   ],
   "source": [
    "! Rscript SCAnova.R"
   ]
  },
  {
   "cell_type": "markdown",
   "metadata": {},
   "source": [
    "#### As anticipated, participants responded more slowly and less accurately on incongruent trials (main effect of congruency). There was, however, neither a main effect of S2 control-demand cue nor an interaction between cue and congruency or run, cue, and congruency on RT or accuracy. \n",
    "\n",
    "#### At the group level, we thus did not observe any evidence that participants used the S2 control-demand cues to modulate Stroop congruency. However, there was a large amount of individual variability in S-C cueing effects (see S-CT phase analysis).\n",
    "\n",
    "#### A common alternative interpretation of stimulus- or context-control learning suggests that these effects might instead reflect learning of straight stimulus-response contingencies (Schmidt & Besner, 2008). For instance, if a particular color-word is frequently paired with a specific incongruent ink color (and its response), participants may learn this specific stimulus-response association rather than an association between the word and a high demand for control. We formally tested the possibility of contingency learning by running a repeated-measures ANOVA on S-C phase data with control-demand cue, congruency, and response button as within-subjects factors. While there was a main effect of response button such that participants were fastest and most accurate to respond with their right middle finger and slowest and least accurate with their left index finger, we observed little evidence that participants modulated performance through any knowledge of cue-stimulus-response associations or of cue-response associations. These analyses suggest that our results were not driven by contingency learning effects."
   ]
  },
  {
   "cell_type": "markdown",
   "metadata": {},
   "source": [
    "# Look at the Results Graphically"
   ]
  },
  {
   "cell_type": "markdown",
   "metadata": {},
   "source": [
    "Note that the graphs generated mimic the paper, but I used Matlab to generate the figures, because I like their graphics more."
   ]
  },
  {
   "cell_type": "code",
   "execution_count": 613,
   "metadata": {
    "collapsed": true
   },
   "outputs": [],
   "source": [
    "sns.set(context='notebook', style='white', font='Myriad Pro', font_scale=2, color_codes=False, rc=None);"
   ]
  },
  {
   "cell_type": "code",
   "execution_count": 614,
   "metadata": {},
   "outputs": [
    {
     "data": {
      "application/javascript": [
       "/* Put everything inside the global mpl namespace */\n",
       "window.mpl = {};\n",
       "\n",
       "mpl.get_websocket_type = function() {\n",
       "    if (typeof(WebSocket) !== 'undefined') {\n",
       "        return WebSocket;\n",
       "    } else if (typeof(MozWebSocket) !== 'undefined') {\n",
       "        return MozWebSocket;\n",
       "    } else {\n",
       "        alert('Your browser does not have WebSocket support.' +\n",
       "              'Please try Chrome, Safari or Firefox ≥ 6. ' +\n",
       "              'Firefox 4 and 5 are also supported but you ' +\n",
       "              'have to enable WebSockets in about:config.');\n",
       "    };\n",
       "}\n",
       "\n",
       "mpl.figure = function(figure_id, websocket, ondownload, parent_element) {\n",
       "    this.id = figure_id;\n",
       "\n",
       "    this.ws = websocket;\n",
       "\n",
       "    this.supports_binary = (this.ws.binaryType != undefined);\n",
       "\n",
       "    if (!this.supports_binary) {\n",
       "        var warnings = document.getElementById(\"mpl-warnings\");\n",
       "        if (warnings) {\n",
       "            warnings.style.display = 'block';\n",
       "            warnings.textContent = (\n",
       "                \"This browser does not support binary websocket messages. \" +\n",
       "                    \"Performance may be slow.\");\n",
       "        }\n",
       "    }\n",
       "\n",
       "    this.imageObj = new Image();\n",
       "\n",
       "    this.context = undefined;\n",
       "    this.message = undefined;\n",
       "    this.canvas = undefined;\n",
       "    this.rubberband_canvas = undefined;\n",
       "    this.rubberband_context = undefined;\n",
       "    this.format_dropdown = undefined;\n",
       "\n",
       "    this.image_mode = 'full';\n",
       "\n",
       "    this.root = $('<div/>');\n",
       "    this._root_extra_style(this.root)\n",
       "    this.root.attr('style', 'display: inline-block');\n",
       "\n",
       "    $(parent_element).append(this.root);\n",
       "\n",
       "    this._init_header(this);\n",
       "    this._init_canvas(this);\n",
       "    this._init_toolbar(this);\n",
       "\n",
       "    var fig = this;\n",
       "\n",
       "    this.waiting = false;\n",
       "\n",
       "    this.ws.onopen =  function () {\n",
       "            fig.send_message(\"supports_binary\", {value: fig.supports_binary});\n",
       "            fig.send_message(\"send_image_mode\", {});\n",
       "            fig.send_message(\"refresh\", {});\n",
       "        }\n",
       "\n",
       "    this.imageObj.onload = function() {\n",
       "            if (fig.image_mode == 'full') {\n",
       "                // Full images could contain transparency (where diff images\n",
       "                // almost always do), so we need to clear the canvas so that\n",
       "                // there is no ghosting.\n",
       "                fig.context.clearRect(0, 0, fig.canvas.width, fig.canvas.height);\n",
       "            }\n",
       "            fig.context.drawImage(fig.imageObj, 0, 0);\n",
       "        };\n",
       "\n",
       "    this.imageObj.onunload = function() {\n",
       "        this.ws.close();\n",
       "    }\n",
       "\n",
       "    this.ws.onmessage = this._make_on_message_function(this);\n",
       "\n",
       "    this.ondownload = ondownload;\n",
       "}\n",
       "\n",
       "mpl.figure.prototype._init_header = function() {\n",
       "    var titlebar = $(\n",
       "        '<div class=\"ui-dialog-titlebar ui-widget-header ui-corner-all ' +\n",
       "        'ui-helper-clearfix\"/>');\n",
       "    var titletext = $(\n",
       "        '<div class=\"ui-dialog-title\" style=\"width: 100%; ' +\n",
       "        'text-align: center; padding: 3px;\"/>');\n",
       "    titlebar.append(titletext)\n",
       "    this.root.append(titlebar);\n",
       "    this.header = titletext[0];\n",
       "}\n",
       "\n",
       "\n",
       "\n",
       "mpl.figure.prototype._canvas_extra_style = function(canvas_div) {\n",
       "\n",
       "}\n",
       "\n",
       "\n",
       "mpl.figure.prototype._root_extra_style = function(canvas_div) {\n",
       "\n",
       "}\n",
       "\n",
       "mpl.figure.prototype._init_canvas = function() {\n",
       "    var fig = this;\n",
       "\n",
       "    var canvas_div = $('<div/>');\n",
       "\n",
       "    canvas_div.attr('style', 'position: relative; clear: both; outline: 0');\n",
       "\n",
       "    function canvas_keyboard_event(event) {\n",
       "        return fig.key_event(event, event['data']);\n",
       "    }\n",
       "\n",
       "    canvas_div.keydown('key_press', canvas_keyboard_event);\n",
       "    canvas_div.keyup('key_release', canvas_keyboard_event);\n",
       "    this.canvas_div = canvas_div\n",
       "    this._canvas_extra_style(canvas_div)\n",
       "    this.root.append(canvas_div);\n",
       "\n",
       "    var canvas = $('<canvas/>');\n",
       "    canvas.addClass('mpl-canvas');\n",
       "    canvas.attr('style', \"left: 0; top: 0; z-index: 0; outline: 0\")\n",
       "\n",
       "    this.canvas = canvas[0];\n",
       "    this.context = canvas[0].getContext(\"2d\");\n",
       "\n",
       "    var rubberband = $('<canvas/>');\n",
       "    rubberband.attr('style', \"position: absolute; left: 0; top: 0; z-index: 1;\")\n",
       "\n",
       "    var pass_mouse_events = true;\n",
       "\n",
       "    canvas_div.resizable({\n",
       "        start: function(event, ui) {\n",
       "            pass_mouse_events = false;\n",
       "        },\n",
       "        resize: function(event, ui) {\n",
       "            fig.request_resize(ui.size.width, ui.size.height);\n",
       "        },\n",
       "        stop: function(event, ui) {\n",
       "            pass_mouse_events = true;\n",
       "            fig.request_resize(ui.size.width, ui.size.height);\n",
       "        },\n",
       "    });\n",
       "\n",
       "    function mouse_event_fn(event) {\n",
       "        if (pass_mouse_events)\n",
       "            return fig.mouse_event(event, event['data']);\n",
       "    }\n",
       "\n",
       "    rubberband.mousedown('button_press', mouse_event_fn);\n",
       "    rubberband.mouseup('button_release', mouse_event_fn);\n",
       "    // Throttle sequential mouse events to 1 every 20ms.\n",
       "    rubberband.mousemove('motion_notify', mouse_event_fn);\n",
       "\n",
       "    rubberband.mouseenter('figure_enter', mouse_event_fn);\n",
       "    rubberband.mouseleave('figure_leave', mouse_event_fn);\n",
       "\n",
       "    canvas_div.on(\"wheel\", function (event) {\n",
       "        event = event.originalEvent;\n",
       "        event['data'] = 'scroll'\n",
       "        if (event.deltaY < 0) {\n",
       "            event.step = 1;\n",
       "        } else {\n",
       "            event.step = -1;\n",
       "        }\n",
       "        mouse_event_fn(event);\n",
       "    });\n",
       "\n",
       "    canvas_div.append(canvas);\n",
       "    canvas_div.append(rubberband);\n",
       "\n",
       "    this.rubberband = rubberband;\n",
       "    this.rubberband_canvas = rubberband[0];\n",
       "    this.rubberband_context = rubberband[0].getContext(\"2d\");\n",
       "    this.rubberband_context.strokeStyle = \"#000000\";\n",
       "\n",
       "    this._resize_canvas = function(width, height) {\n",
       "        // Keep the size of the canvas, canvas container, and rubber band\n",
       "        // canvas in synch.\n",
       "        canvas_div.css('width', width)\n",
       "        canvas_div.css('height', height)\n",
       "\n",
       "        canvas.attr('width', width);\n",
       "        canvas.attr('height', height);\n",
       "\n",
       "        rubberband.attr('width', width);\n",
       "        rubberband.attr('height', height);\n",
       "    }\n",
       "\n",
       "    // Set the figure to an initial 600x600px, this will subsequently be updated\n",
       "    // upon first draw.\n",
       "    this._resize_canvas(600, 600);\n",
       "\n",
       "    // Disable right mouse context menu.\n",
       "    $(this.rubberband_canvas).bind(\"contextmenu\",function(e){\n",
       "        return false;\n",
       "    });\n",
       "\n",
       "    function set_focus () {\n",
       "        canvas.focus();\n",
       "        canvas_div.focus();\n",
       "    }\n",
       "\n",
       "    window.setTimeout(set_focus, 100);\n",
       "}\n",
       "\n",
       "mpl.figure.prototype._init_toolbar = function() {\n",
       "    var fig = this;\n",
       "\n",
       "    var nav_element = $('<div/>')\n",
       "    nav_element.attr('style', 'width: 100%');\n",
       "    this.root.append(nav_element);\n",
       "\n",
       "    // Define a callback function for later on.\n",
       "    function toolbar_event(event) {\n",
       "        return fig.toolbar_button_onclick(event['data']);\n",
       "    }\n",
       "    function toolbar_mouse_event(event) {\n",
       "        return fig.toolbar_button_onmouseover(event['data']);\n",
       "    }\n",
       "\n",
       "    for(var toolbar_ind in mpl.toolbar_items) {\n",
       "        var name = mpl.toolbar_items[toolbar_ind][0];\n",
       "        var tooltip = mpl.toolbar_items[toolbar_ind][1];\n",
       "        var image = mpl.toolbar_items[toolbar_ind][2];\n",
       "        var method_name = mpl.toolbar_items[toolbar_ind][3];\n",
       "\n",
       "        if (!name) {\n",
       "            // put a spacer in here.\n",
       "            continue;\n",
       "        }\n",
       "        var button = $('<button/>');\n",
       "        button.addClass('ui-button ui-widget ui-state-default ui-corner-all ' +\n",
       "                        'ui-button-icon-only');\n",
       "        button.attr('role', 'button');\n",
       "        button.attr('aria-disabled', 'false');\n",
       "        button.click(method_name, toolbar_event);\n",
       "        button.mouseover(tooltip, toolbar_mouse_event);\n",
       "\n",
       "        var icon_img = $('<span/>');\n",
       "        icon_img.addClass('ui-button-icon-primary ui-icon');\n",
       "        icon_img.addClass(image);\n",
       "        icon_img.addClass('ui-corner-all');\n",
       "\n",
       "        var tooltip_span = $('<span/>');\n",
       "        tooltip_span.addClass('ui-button-text');\n",
       "        tooltip_span.html(tooltip);\n",
       "\n",
       "        button.append(icon_img);\n",
       "        button.append(tooltip_span);\n",
       "\n",
       "        nav_element.append(button);\n",
       "    }\n",
       "\n",
       "    var fmt_picker_span = $('<span/>');\n",
       "\n",
       "    var fmt_picker = $('<select/>');\n",
       "    fmt_picker.addClass('mpl-toolbar-option ui-widget ui-widget-content');\n",
       "    fmt_picker_span.append(fmt_picker);\n",
       "    nav_element.append(fmt_picker_span);\n",
       "    this.format_dropdown = fmt_picker[0];\n",
       "\n",
       "    for (var ind in mpl.extensions) {\n",
       "        var fmt = mpl.extensions[ind];\n",
       "        var option = $(\n",
       "            '<option/>', {selected: fmt === mpl.default_extension}).html(fmt);\n",
       "        fmt_picker.append(option)\n",
       "    }\n",
       "\n",
       "    // Add hover states to the ui-buttons\n",
       "    $( \".ui-button\" ).hover(\n",
       "        function() { $(this).addClass(\"ui-state-hover\");},\n",
       "        function() { $(this).removeClass(\"ui-state-hover\");}\n",
       "    );\n",
       "\n",
       "    var status_bar = $('<span class=\"mpl-message\"/>');\n",
       "    nav_element.append(status_bar);\n",
       "    this.message = status_bar[0];\n",
       "}\n",
       "\n",
       "mpl.figure.prototype.request_resize = function(x_pixels, y_pixels) {\n",
       "    // Request matplotlib to resize the figure. Matplotlib will then trigger a resize in the client,\n",
       "    // which will in turn request a refresh of the image.\n",
       "    this.send_message('resize', {'width': x_pixels, 'height': y_pixels});\n",
       "}\n",
       "\n",
       "mpl.figure.prototype.send_message = function(type, properties) {\n",
       "    properties['type'] = type;\n",
       "    properties['figure_id'] = this.id;\n",
       "    this.ws.send(JSON.stringify(properties));\n",
       "}\n",
       "\n",
       "mpl.figure.prototype.send_draw_message = function() {\n",
       "    if (!this.waiting) {\n",
       "        this.waiting = true;\n",
       "        this.ws.send(JSON.stringify({type: \"draw\", figure_id: this.id}));\n",
       "    }\n",
       "}\n",
       "\n",
       "\n",
       "mpl.figure.prototype.handle_save = function(fig, msg) {\n",
       "    var format_dropdown = fig.format_dropdown;\n",
       "    var format = format_dropdown.options[format_dropdown.selectedIndex].value;\n",
       "    fig.ondownload(fig, format);\n",
       "}\n",
       "\n",
       "\n",
       "mpl.figure.prototype.handle_resize = function(fig, msg) {\n",
       "    var size = msg['size'];\n",
       "    if (size[0] != fig.canvas.width || size[1] != fig.canvas.height) {\n",
       "        fig._resize_canvas(size[0], size[1]);\n",
       "        fig.send_message(\"refresh\", {});\n",
       "    };\n",
       "}\n",
       "\n",
       "mpl.figure.prototype.handle_rubberband = function(fig, msg) {\n",
       "    var x0 = msg['x0'];\n",
       "    var y0 = fig.canvas.height - msg['y0'];\n",
       "    var x1 = msg['x1'];\n",
       "    var y1 = fig.canvas.height - msg['y1'];\n",
       "    x0 = Math.floor(x0) + 0.5;\n",
       "    y0 = Math.floor(y0) + 0.5;\n",
       "    x1 = Math.floor(x1) + 0.5;\n",
       "    y1 = Math.floor(y1) + 0.5;\n",
       "    var min_x = Math.min(x0, x1);\n",
       "    var min_y = Math.min(y0, y1);\n",
       "    var width = Math.abs(x1 - x0);\n",
       "    var height = Math.abs(y1 - y0);\n",
       "\n",
       "    fig.rubberband_context.clearRect(\n",
       "        0, 0, fig.canvas.width, fig.canvas.height);\n",
       "\n",
       "    fig.rubberband_context.strokeRect(min_x, min_y, width, height);\n",
       "}\n",
       "\n",
       "mpl.figure.prototype.handle_figure_label = function(fig, msg) {\n",
       "    // Updates the figure title.\n",
       "    fig.header.textContent = msg['label'];\n",
       "}\n",
       "\n",
       "mpl.figure.prototype.handle_cursor = function(fig, msg) {\n",
       "    var cursor = msg['cursor'];\n",
       "    switch(cursor)\n",
       "    {\n",
       "    case 0:\n",
       "        cursor = 'pointer';\n",
       "        break;\n",
       "    case 1:\n",
       "        cursor = 'default';\n",
       "        break;\n",
       "    case 2:\n",
       "        cursor = 'crosshair';\n",
       "        break;\n",
       "    case 3:\n",
       "        cursor = 'move';\n",
       "        break;\n",
       "    }\n",
       "    fig.rubberband_canvas.style.cursor = cursor;\n",
       "}\n",
       "\n",
       "mpl.figure.prototype.handle_message = function(fig, msg) {\n",
       "    fig.message.textContent = msg['message'];\n",
       "}\n",
       "\n",
       "mpl.figure.prototype.handle_draw = function(fig, msg) {\n",
       "    // Request the server to send over a new figure.\n",
       "    fig.send_draw_message();\n",
       "}\n",
       "\n",
       "mpl.figure.prototype.handle_image_mode = function(fig, msg) {\n",
       "    fig.image_mode = msg['mode'];\n",
       "}\n",
       "\n",
       "mpl.figure.prototype.updated_canvas_event = function() {\n",
       "    // Called whenever the canvas gets updated.\n",
       "    this.send_message(\"ack\", {});\n",
       "}\n",
       "\n",
       "// A function to construct a web socket function for onmessage handling.\n",
       "// Called in the figure constructor.\n",
       "mpl.figure.prototype._make_on_message_function = function(fig) {\n",
       "    return function socket_on_message(evt) {\n",
       "        if (evt.data instanceof Blob) {\n",
       "            /* FIXME: We get \"Resource interpreted as Image but\n",
       "             * transferred with MIME type text/plain:\" errors on\n",
       "             * Chrome.  But how to set the MIME type?  It doesn't seem\n",
       "             * to be part of the websocket stream */\n",
       "            evt.data.type = \"image/png\";\n",
       "\n",
       "            /* Free the memory for the previous frames */\n",
       "            if (fig.imageObj.src) {\n",
       "                (window.URL || window.webkitURL).revokeObjectURL(\n",
       "                    fig.imageObj.src);\n",
       "            }\n",
       "\n",
       "            fig.imageObj.src = (window.URL || window.webkitURL).createObjectURL(\n",
       "                evt.data);\n",
       "            fig.updated_canvas_event();\n",
       "            fig.waiting = false;\n",
       "            return;\n",
       "        }\n",
       "        else if (typeof evt.data === 'string' && evt.data.slice(0, 21) == \"data:image/png;base64\") {\n",
       "            fig.imageObj.src = evt.data;\n",
       "            fig.updated_canvas_event();\n",
       "            fig.waiting = false;\n",
       "            return;\n",
       "        }\n",
       "\n",
       "        var msg = JSON.parse(evt.data);\n",
       "        var msg_type = msg['type'];\n",
       "\n",
       "        // Call the  \"handle_{type}\" callback, which takes\n",
       "        // the figure and JSON message as its only arguments.\n",
       "        try {\n",
       "            var callback = fig[\"handle_\" + msg_type];\n",
       "        } catch (e) {\n",
       "            console.log(\"No handler for the '\" + msg_type + \"' message type: \", msg);\n",
       "            return;\n",
       "        }\n",
       "\n",
       "        if (callback) {\n",
       "            try {\n",
       "                // console.log(\"Handling '\" + msg_type + \"' message: \", msg);\n",
       "                callback(fig, msg);\n",
       "            } catch (e) {\n",
       "                console.log(\"Exception inside the 'handler_\" + msg_type + \"' callback:\", e, e.stack, msg);\n",
       "            }\n",
       "        }\n",
       "    };\n",
       "}\n",
       "\n",
       "// from http://stackoverflow.com/questions/1114465/getting-mouse-location-in-canvas\n",
       "mpl.findpos = function(e) {\n",
       "    //this section is from http://www.quirksmode.org/js/events_properties.html\n",
       "    var targ;\n",
       "    if (!e)\n",
       "        e = window.event;\n",
       "    if (e.target)\n",
       "        targ = e.target;\n",
       "    else if (e.srcElement)\n",
       "        targ = e.srcElement;\n",
       "    if (targ.nodeType == 3) // defeat Safari bug\n",
       "        targ = targ.parentNode;\n",
       "\n",
       "    // jQuery normalizes the pageX and pageY\n",
       "    // pageX,Y are the mouse positions relative to the document\n",
       "    // offset() returns the position of the element relative to the document\n",
       "    var x = e.pageX - $(targ).offset().left;\n",
       "    var y = e.pageY - $(targ).offset().top;\n",
       "\n",
       "    return {\"x\": x, \"y\": y};\n",
       "};\n",
       "\n",
       "/*\n",
       " * return a copy of an object with only non-object keys\n",
       " * we need this to avoid circular references\n",
       " * http://stackoverflow.com/a/24161582/3208463\n",
       " */\n",
       "function simpleKeys (original) {\n",
       "  return Object.keys(original).reduce(function (obj, key) {\n",
       "    if (typeof original[key] !== 'object')\n",
       "        obj[key] = original[key]\n",
       "    return obj;\n",
       "  }, {});\n",
       "}\n",
       "\n",
       "mpl.figure.prototype.mouse_event = function(event, name) {\n",
       "    var canvas_pos = mpl.findpos(event)\n",
       "\n",
       "    if (name === 'button_press')\n",
       "    {\n",
       "        this.canvas.focus();\n",
       "        this.canvas_div.focus();\n",
       "    }\n",
       "\n",
       "    var x = canvas_pos.x;\n",
       "    var y = canvas_pos.y;\n",
       "\n",
       "    this.send_message(name, {x: x, y: y, button: event.button,\n",
       "                             step: event.step,\n",
       "                             guiEvent: simpleKeys(event)});\n",
       "\n",
       "    /* This prevents the web browser from automatically changing to\n",
       "     * the text insertion cursor when the button is pressed.  We want\n",
       "     * to control all of the cursor setting manually through the\n",
       "     * 'cursor' event from matplotlib */\n",
       "    event.preventDefault();\n",
       "    return false;\n",
       "}\n",
       "\n",
       "mpl.figure.prototype._key_event_extra = function(event, name) {\n",
       "    // Handle any extra behaviour associated with a key event\n",
       "}\n",
       "\n",
       "mpl.figure.prototype.key_event = function(event, name) {\n",
       "\n",
       "    // Prevent repeat events\n",
       "    if (name == 'key_press')\n",
       "    {\n",
       "        if (event.which === this._key)\n",
       "            return;\n",
       "        else\n",
       "            this._key = event.which;\n",
       "    }\n",
       "    if (name == 'key_release')\n",
       "        this._key = null;\n",
       "\n",
       "    var value = '';\n",
       "    if (event.ctrlKey && event.which != 17)\n",
       "        value += \"ctrl+\";\n",
       "    if (event.altKey && event.which != 18)\n",
       "        value += \"alt+\";\n",
       "    if (event.shiftKey && event.which != 16)\n",
       "        value += \"shift+\";\n",
       "\n",
       "    value += 'k';\n",
       "    value += event.which.toString();\n",
       "\n",
       "    this._key_event_extra(event, name);\n",
       "\n",
       "    this.send_message(name, {key: value,\n",
       "                             guiEvent: simpleKeys(event)});\n",
       "    return false;\n",
       "}\n",
       "\n",
       "mpl.figure.prototype.toolbar_button_onclick = function(name) {\n",
       "    if (name == 'download') {\n",
       "        this.handle_save(this, null);\n",
       "    } else {\n",
       "        this.send_message(\"toolbar_button\", {name: name});\n",
       "    }\n",
       "};\n",
       "\n",
       "mpl.figure.prototype.toolbar_button_onmouseover = function(tooltip) {\n",
       "    this.message.textContent = tooltip;\n",
       "};\n",
       "mpl.toolbar_items = [[\"Home\", \"Reset original view\", \"fa fa-home icon-home\", \"home\"], [\"Back\", \"Back to  previous view\", \"fa fa-arrow-left icon-arrow-left\", \"back\"], [\"Forward\", \"Forward to next view\", \"fa fa-arrow-right icon-arrow-right\", \"forward\"], [\"\", \"\", \"\", \"\"], [\"Pan\", \"Pan axes with left mouse, zoom with right\", \"fa fa-arrows icon-move\", \"pan\"], [\"Zoom\", \"Zoom to rectangle\", \"fa fa-square-o icon-check-empty\", \"zoom\"], [\"\", \"\", \"\", \"\"], [\"Download\", \"Download plot\", \"fa fa-floppy-o icon-save\", \"download\"]];\n",
       "\n",
       "mpl.extensions = [\"eps\", \"jpeg\", \"pdf\", \"png\", \"ps\", \"raw\", \"svg\", \"tif\"];\n",
       "\n",
       "mpl.default_extension = \"png\";var comm_websocket_adapter = function(comm) {\n",
       "    // Create a \"websocket\"-like object which calls the given IPython comm\n",
       "    // object with the appropriate methods. Currently this is a non binary\n",
       "    // socket, so there is still some room for performance tuning.\n",
       "    var ws = {};\n",
       "\n",
       "    ws.close = function() {\n",
       "        comm.close()\n",
       "    };\n",
       "    ws.send = function(m) {\n",
       "        //console.log('sending', m);\n",
       "        comm.send(m);\n",
       "    };\n",
       "    // Register the callback with on_msg.\n",
       "    comm.on_msg(function(msg) {\n",
       "        //console.log('receiving', msg['content']['data'], msg);\n",
       "        // Pass the mpl event to the overriden (by mpl) onmessage function.\n",
       "        ws.onmessage(msg['content']['data'])\n",
       "    });\n",
       "    return ws;\n",
       "}\n",
       "\n",
       "mpl.mpl_figure_comm = function(comm, msg) {\n",
       "    // This is the function which gets called when the mpl process\n",
       "    // starts-up an IPython Comm through the \"matplotlib\" channel.\n",
       "\n",
       "    var id = msg.content.data.id;\n",
       "    // Get hold of the div created by the display call when the Comm\n",
       "    // socket was opened in Python.\n",
       "    var element = $(\"#\" + id);\n",
       "    var ws_proxy = comm_websocket_adapter(comm)\n",
       "\n",
       "    function ondownload(figure, format) {\n",
       "        window.open(figure.imageObj.src);\n",
       "    }\n",
       "\n",
       "    var fig = new mpl.figure(id, ws_proxy,\n",
       "                           ondownload,\n",
       "                           element.get(0));\n",
       "\n",
       "    // Call onopen now - mpl needs it, as it is assuming we've passed it a real\n",
       "    // web socket which is closed, not our websocket->open comm proxy.\n",
       "    ws_proxy.onopen();\n",
       "\n",
       "    fig.parent_element = element.get(0);\n",
       "    fig.cell_info = mpl.find_output_cell(\"<div id='\" + id + \"'></div>\");\n",
       "    if (!fig.cell_info) {\n",
       "        console.error(\"Failed to find cell for figure\", id, fig);\n",
       "        return;\n",
       "    }\n",
       "\n",
       "    var output_index = fig.cell_info[2]\n",
       "    var cell = fig.cell_info[0];\n",
       "\n",
       "};\n",
       "\n",
       "mpl.figure.prototype.handle_close = function(fig, msg) {\n",
       "    fig.root.unbind('remove')\n",
       "\n",
       "    // Update the output cell to use the data from the current canvas.\n",
       "    fig.push_to_output();\n",
       "    var dataURL = fig.canvas.toDataURL();\n",
       "    // Re-enable the keyboard manager in IPython - without this line, in FF,\n",
       "    // the notebook keyboard shortcuts fail.\n",
       "    IPython.keyboard_manager.enable()\n",
       "    $(fig.parent_element).html('<img src=\"' + dataURL + '\">');\n",
       "    fig.close_ws(fig, msg);\n",
       "}\n",
       "\n",
       "mpl.figure.prototype.close_ws = function(fig, msg){\n",
       "    fig.send_message('closing', msg);\n",
       "    // fig.ws.close()\n",
       "}\n",
       "\n",
       "mpl.figure.prototype.push_to_output = function(remove_interactive) {\n",
       "    // Turn the data on the canvas into data in the output cell.\n",
       "    var dataURL = this.canvas.toDataURL();\n",
       "    this.cell_info[1]['text/html'] = '<img src=\"' + dataURL + '\">';\n",
       "}\n",
       "\n",
       "mpl.figure.prototype.updated_canvas_event = function() {\n",
       "    // Tell IPython that the notebook contents must change.\n",
       "    IPython.notebook.set_dirty(true);\n",
       "    this.send_message(\"ack\", {});\n",
       "    var fig = this;\n",
       "    // Wait a second, then push the new image to the DOM so\n",
       "    // that it is saved nicely (might be nice to debounce this).\n",
       "    setTimeout(function () { fig.push_to_output() }, 1000);\n",
       "}\n",
       "\n",
       "mpl.figure.prototype._init_toolbar = function() {\n",
       "    var fig = this;\n",
       "\n",
       "    var nav_element = $('<div/>')\n",
       "    nav_element.attr('style', 'width: 100%');\n",
       "    this.root.append(nav_element);\n",
       "\n",
       "    // Define a callback function for later on.\n",
       "    function toolbar_event(event) {\n",
       "        return fig.toolbar_button_onclick(event['data']);\n",
       "    }\n",
       "    function toolbar_mouse_event(event) {\n",
       "        return fig.toolbar_button_onmouseover(event['data']);\n",
       "    }\n",
       "\n",
       "    for(var toolbar_ind in mpl.toolbar_items){\n",
       "        var name = mpl.toolbar_items[toolbar_ind][0];\n",
       "        var tooltip = mpl.toolbar_items[toolbar_ind][1];\n",
       "        var image = mpl.toolbar_items[toolbar_ind][2];\n",
       "        var method_name = mpl.toolbar_items[toolbar_ind][3];\n",
       "\n",
       "        if (!name) { continue; };\n",
       "\n",
       "        var button = $('<button class=\"btn btn-default\" href=\"#\" title=\"' + name + '\"><i class=\"fa ' + image + ' fa-lg\"></i></button>');\n",
       "        button.click(method_name, toolbar_event);\n",
       "        button.mouseover(tooltip, toolbar_mouse_event);\n",
       "        nav_element.append(button);\n",
       "    }\n",
       "\n",
       "    // Add the status bar.\n",
       "    var status_bar = $('<span class=\"mpl-message\" style=\"text-align:right; float: right;\"/>');\n",
       "    nav_element.append(status_bar);\n",
       "    this.message = status_bar[0];\n",
       "\n",
       "    // Add the close button to the window.\n",
       "    var buttongrp = $('<div class=\"btn-group inline pull-right\"></div>');\n",
       "    var button = $('<button class=\"btn btn-mini btn-primary\" href=\"#\" title=\"Stop Interaction\"><i class=\"fa fa-power-off icon-remove icon-large\"></i></button>');\n",
       "    button.click(function (evt) { fig.handle_close(fig, {}); } );\n",
       "    button.mouseover('Stop Interaction', toolbar_mouse_event);\n",
       "    buttongrp.append(button);\n",
       "    var titlebar = this.root.find($('.ui-dialog-titlebar'));\n",
       "    titlebar.prepend(buttongrp);\n",
       "}\n",
       "\n",
       "mpl.figure.prototype._root_extra_style = function(el){\n",
       "    var fig = this\n",
       "    el.on(\"remove\", function(){\n",
       "\tfig.close_ws(fig, {});\n",
       "    });\n",
       "}\n",
       "\n",
       "mpl.figure.prototype._canvas_extra_style = function(el){\n",
       "    // this is important to make the div 'focusable\n",
       "    el.attr('tabindex', 0)\n",
       "    // reach out to IPython and tell the keyboard manager to turn it's self\n",
       "    // off when our div gets focus\n",
       "\n",
       "    // location in version 3\n",
       "    if (IPython.notebook.keyboard_manager) {\n",
       "        IPython.notebook.keyboard_manager.register_events(el);\n",
       "    }\n",
       "    else {\n",
       "        // location in version 2\n",
       "        IPython.keyboard_manager.register_events(el);\n",
       "    }\n",
       "\n",
       "}\n",
       "\n",
       "mpl.figure.prototype._key_event_extra = function(event, name) {\n",
       "    var manager = IPython.notebook.keyboard_manager;\n",
       "    if (!manager)\n",
       "        manager = IPython.keyboard_manager;\n",
       "\n",
       "    // Check for shift+enter\n",
       "    if (event.shiftKey && event.which == 13) {\n",
       "        this.canvas_div.blur();\n",
       "        event.shiftKey = false;\n",
       "        // Send a \"J\" for go to next cell\n",
       "        event.which = 74;\n",
       "        event.keyCode = 74;\n",
       "        manager.command_mode();\n",
       "        manager.handle_keydown(event);\n",
       "    }\n",
       "}\n",
       "\n",
       "mpl.figure.prototype.handle_save = function(fig, msg) {\n",
       "    fig.ondownload(fig, null);\n",
       "}\n",
       "\n",
       "\n",
       "mpl.find_output_cell = function(html_output) {\n",
       "    // Return the cell and output element which can be found *uniquely* in the notebook.\n",
       "    // Note - this is a bit hacky, but it is done because the \"notebook_saving.Notebook\"\n",
       "    // IPython event is triggered only after the cells have been serialised, which for\n",
       "    // our purposes (turning an active figure into a static one), is too late.\n",
       "    var cells = IPython.notebook.get_cells();\n",
       "    var ncells = cells.length;\n",
       "    for (var i=0; i<ncells; i++) {\n",
       "        var cell = cells[i];\n",
       "        if (cell.cell_type === 'code'){\n",
       "            for (var j=0; j<cell.output_area.outputs.length; j++) {\n",
       "                var data = cell.output_area.outputs[j];\n",
       "                if (data.data) {\n",
       "                    // IPython >= 3 moved mimebundle to data attribute of output\n",
       "                    data = data.data;\n",
       "                }\n",
       "                if (data['text/html'] == html_output) {\n",
       "                    return [cell, data, j];\n",
       "                }\n",
       "            }\n",
       "        }\n",
       "    }\n",
       "}\n",
       "\n",
       "// Register the function which deals with the matplotlib target/channel.\n",
       "// The kernel may be null if the page has been refreshed.\n",
       "if (IPython.notebook.kernel != null) {\n",
       "    IPython.notebook.kernel.comm_manager.register_target('matplotlib', mpl.mpl_figure_comm);\n",
       "}\n"
      ],
      "text/plain": [
       "<IPython.core.display.Javascript object>"
      ]
     },
     "metadata": {},
     "output_type": "display_data"
    },
    {
     "data": {
      "text/html": [
       "<img src=\"data:image/png;base64,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\">"
      ],
      "text/plain": [
       "<IPython.core.display.HTML object>"
      ]
     },
     "metadata": {},
     "output_type": "display_data"
    }
   ],
   "source": [
    "barwidth = 0.75; \n",
    "fig, ax = plt.subplots(figsize=(9, 7));\n",
    "rects1 = ax.bar(0.5,RTanalysis.LowC.mean(),barwidth,yerr=RTstderror.LowC,ecolor='k',edgecolor=sns.xkcd_rgb['green'],linewidth = 2, facecolor='none',error_kw=dict(lw=3),label='Congruent');\n",
    "rects2 = ax.bar(1.5,RTanalysis.LowIC.mean(),barwidth,color=sns.xkcd_rgb['green'],yerr=RTstderror.LowIC,ecolor='k',error_kw=dict(lw=3),label='Incongruent');\n",
    "rects3 = ax.bar(3,RTanalysis.HighC.mean(),barwidth,yerr=RTstderror.HighC,ecolor='k',edgecolor=(0.3,0.9,0.3),linewidth = 2, facecolor='none',error_kw=dict(lw=3));\n",
    "rects4 = ax.bar(4,RTanalysis.HighIC.mean(),barwidth,color=(0.3,0.9,0.3),yerr=RTstderror.HighIC,ecolor='k',error_kw=dict(lw=3));\n",
    "sns.set(context='notebook', style='white', font='Myriad Pro', font_scale=2, color_codes=False, rc=None);\n",
    "ax.set_ylim(610,730);\n",
    "ax.set_xlim(0,6);\n",
    "ax.set_xticklabels(('Low', 'High'));\n",
    "ax.set_xticks([1 + barwidth/2, 3.5 + barwidth/2]);\n",
    "ax.set_yticks(np.arange(610, 711, 20));\n",
    "plt.legend([rects1,rects2], ['Congruent','Incongruent'], loc='upper right',fontsize=18,title='Trial Type')\n",
    "plt.legend(title='Trial Type',fontsize=19)\n",
    "plt.title('S-C Phase RT', fontsize=26,fontweight=\"bold\")\n",
    "plt.ylabel('Reaction Time (ms)', fontsize=24,fontweight=\"bold\")\n",
    "plt.xlabel('S2 Control-Demand Cue', fontsize=24,fontweight=\"bold\")\n",
    "sns.despine();\n",
    "\n",
    "plt.show()"
   ]
  },
  {
   "cell_type": "code",
   "execution_count": 615,
   "metadata": {},
   "outputs": [
    {
     "data": {
      "application/javascript": [
       "/* Put everything inside the global mpl namespace */\n",
       "window.mpl = {};\n",
       "\n",
       "mpl.get_websocket_type = function() {\n",
       "    if (typeof(WebSocket) !== 'undefined') {\n",
       "        return WebSocket;\n",
       "    } else if (typeof(MozWebSocket) !== 'undefined') {\n",
       "        return MozWebSocket;\n",
       "    } else {\n",
       "        alert('Your browser does not have WebSocket support.' +\n",
       "              'Please try Chrome, Safari or Firefox ≥ 6. ' +\n",
       "              'Firefox 4 and 5 are also supported but you ' +\n",
       "              'have to enable WebSockets in about:config.');\n",
       "    };\n",
       "}\n",
       "\n",
       "mpl.figure = function(figure_id, websocket, ondownload, parent_element) {\n",
       "    this.id = figure_id;\n",
       "\n",
       "    this.ws = websocket;\n",
       "\n",
       "    this.supports_binary = (this.ws.binaryType != undefined);\n",
       "\n",
       "    if (!this.supports_binary) {\n",
       "        var warnings = document.getElementById(\"mpl-warnings\");\n",
       "        if (warnings) {\n",
       "            warnings.style.display = 'block';\n",
       "            warnings.textContent = (\n",
       "                \"This browser does not support binary websocket messages. \" +\n",
       "                    \"Performance may be slow.\");\n",
       "        }\n",
       "    }\n",
       "\n",
       "    this.imageObj = new Image();\n",
       "\n",
       "    this.context = undefined;\n",
       "    this.message = undefined;\n",
       "    this.canvas = undefined;\n",
       "    this.rubberband_canvas = undefined;\n",
       "    this.rubberband_context = undefined;\n",
       "    this.format_dropdown = undefined;\n",
       "\n",
       "    this.image_mode = 'full';\n",
       "\n",
       "    this.root = $('<div/>');\n",
       "    this._root_extra_style(this.root)\n",
       "    this.root.attr('style', 'display: inline-block');\n",
       "\n",
       "    $(parent_element).append(this.root);\n",
       "\n",
       "    this._init_header(this);\n",
       "    this._init_canvas(this);\n",
       "    this._init_toolbar(this);\n",
       "\n",
       "    var fig = this;\n",
       "\n",
       "    this.waiting = false;\n",
       "\n",
       "    this.ws.onopen =  function () {\n",
       "            fig.send_message(\"supports_binary\", {value: fig.supports_binary});\n",
       "            fig.send_message(\"send_image_mode\", {});\n",
       "            fig.send_message(\"refresh\", {});\n",
       "        }\n",
       "\n",
       "    this.imageObj.onload = function() {\n",
       "            if (fig.image_mode == 'full') {\n",
       "                // Full images could contain transparency (where diff images\n",
       "                // almost always do), so we need to clear the canvas so that\n",
       "                // there is no ghosting.\n",
       "                fig.context.clearRect(0, 0, fig.canvas.width, fig.canvas.height);\n",
       "            }\n",
       "            fig.context.drawImage(fig.imageObj, 0, 0);\n",
       "        };\n",
       "\n",
       "    this.imageObj.onunload = function() {\n",
       "        this.ws.close();\n",
       "    }\n",
       "\n",
       "    this.ws.onmessage = this._make_on_message_function(this);\n",
       "\n",
       "    this.ondownload = ondownload;\n",
       "}\n",
       "\n",
       "mpl.figure.prototype._init_header = function() {\n",
       "    var titlebar = $(\n",
       "        '<div class=\"ui-dialog-titlebar ui-widget-header ui-corner-all ' +\n",
       "        'ui-helper-clearfix\"/>');\n",
       "    var titletext = $(\n",
       "        '<div class=\"ui-dialog-title\" style=\"width: 100%; ' +\n",
       "        'text-align: center; padding: 3px;\"/>');\n",
       "    titlebar.append(titletext)\n",
       "    this.root.append(titlebar);\n",
       "    this.header = titletext[0];\n",
       "}\n",
       "\n",
       "\n",
       "\n",
       "mpl.figure.prototype._canvas_extra_style = function(canvas_div) {\n",
       "\n",
       "}\n",
       "\n",
       "\n",
       "mpl.figure.prototype._root_extra_style = function(canvas_div) {\n",
       "\n",
       "}\n",
       "\n",
       "mpl.figure.prototype._init_canvas = function() {\n",
       "    var fig = this;\n",
       "\n",
       "    var canvas_div = $('<div/>');\n",
       "\n",
       "    canvas_div.attr('style', 'position: relative; clear: both; outline: 0');\n",
       "\n",
       "    function canvas_keyboard_event(event) {\n",
       "        return fig.key_event(event, event['data']);\n",
       "    }\n",
       "\n",
       "    canvas_div.keydown('key_press', canvas_keyboard_event);\n",
       "    canvas_div.keyup('key_release', canvas_keyboard_event);\n",
       "    this.canvas_div = canvas_div\n",
       "    this._canvas_extra_style(canvas_div)\n",
       "    this.root.append(canvas_div);\n",
       "\n",
       "    var canvas = $('<canvas/>');\n",
       "    canvas.addClass('mpl-canvas');\n",
       "    canvas.attr('style', \"left: 0; top: 0; z-index: 0; outline: 0\")\n",
       "\n",
       "    this.canvas = canvas[0];\n",
       "    this.context = canvas[0].getContext(\"2d\");\n",
       "\n",
       "    var rubberband = $('<canvas/>');\n",
       "    rubberband.attr('style', \"position: absolute; left: 0; top: 0; z-index: 1;\")\n",
       "\n",
       "    var pass_mouse_events = true;\n",
       "\n",
       "    canvas_div.resizable({\n",
       "        start: function(event, ui) {\n",
       "            pass_mouse_events = false;\n",
       "        },\n",
       "        resize: function(event, ui) {\n",
       "            fig.request_resize(ui.size.width, ui.size.height);\n",
       "        },\n",
       "        stop: function(event, ui) {\n",
       "            pass_mouse_events = true;\n",
       "            fig.request_resize(ui.size.width, ui.size.height);\n",
       "        },\n",
       "    });\n",
       "\n",
       "    function mouse_event_fn(event) {\n",
       "        if (pass_mouse_events)\n",
       "            return fig.mouse_event(event, event['data']);\n",
       "    }\n",
       "\n",
       "    rubberband.mousedown('button_press', mouse_event_fn);\n",
       "    rubberband.mouseup('button_release', mouse_event_fn);\n",
       "    // Throttle sequential mouse events to 1 every 20ms.\n",
       "    rubberband.mousemove('motion_notify', mouse_event_fn);\n",
       "\n",
       "    rubberband.mouseenter('figure_enter', mouse_event_fn);\n",
       "    rubberband.mouseleave('figure_leave', mouse_event_fn);\n",
       "\n",
       "    canvas_div.on(\"wheel\", function (event) {\n",
       "        event = event.originalEvent;\n",
       "        event['data'] = 'scroll'\n",
       "        if (event.deltaY < 0) {\n",
       "            event.step = 1;\n",
       "        } else {\n",
       "            event.step = -1;\n",
       "        }\n",
       "        mouse_event_fn(event);\n",
       "    });\n",
       "\n",
       "    canvas_div.append(canvas);\n",
       "    canvas_div.append(rubberband);\n",
       "\n",
       "    this.rubberband = rubberband;\n",
       "    this.rubberband_canvas = rubberband[0];\n",
       "    this.rubberband_context = rubberband[0].getContext(\"2d\");\n",
       "    this.rubberband_context.strokeStyle = \"#000000\";\n",
       "\n",
       "    this._resize_canvas = function(width, height) {\n",
       "        // Keep the size of the canvas, canvas container, and rubber band\n",
       "        // canvas in synch.\n",
       "        canvas_div.css('width', width)\n",
       "        canvas_div.css('height', height)\n",
       "\n",
       "        canvas.attr('width', width);\n",
       "        canvas.attr('height', height);\n",
       "\n",
       "        rubberband.attr('width', width);\n",
       "        rubberband.attr('height', height);\n",
       "    }\n",
       "\n",
       "    // Set the figure to an initial 600x600px, this will subsequently be updated\n",
       "    // upon first draw.\n",
       "    this._resize_canvas(600, 600);\n",
       "\n",
       "    // Disable right mouse context menu.\n",
       "    $(this.rubberband_canvas).bind(\"contextmenu\",function(e){\n",
       "        return false;\n",
       "    });\n",
       "\n",
       "    function set_focus () {\n",
       "        canvas.focus();\n",
       "        canvas_div.focus();\n",
       "    }\n",
       "\n",
       "    window.setTimeout(set_focus, 100);\n",
       "}\n",
       "\n",
       "mpl.figure.prototype._init_toolbar = function() {\n",
       "    var fig = this;\n",
       "\n",
       "    var nav_element = $('<div/>')\n",
       "    nav_element.attr('style', 'width: 100%');\n",
       "    this.root.append(nav_element);\n",
       "\n",
       "    // Define a callback function for later on.\n",
       "    function toolbar_event(event) {\n",
       "        return fig.toolbar_button_onclick(event['data']);\n",
       "    }\n",
       "    function toolbar_mouse_event(event) {\n",
       "        return fig.toolbar_button_onmouseover(event['data']);\n",
       "    }\n",
       "\n",
       "    for(var toolbar_ind in mpl.toolbar_items) {\n",
       "        var name = mpl.toolbar_items[toolbar_ind][0];\n",
       "        var tooltip = mpl.toolbar_items[toolbar_ind][1];\n",
       "        var image = mpl.toolbar_items[toolbar_ind][2];\n",
       "        var method_name = mpl.toolbar_items[toolbar_ind][3];\n",
       "\n",
       "        if (!name) {\n",
       "            // put a spacer in here.\n",
       "            continue;\n",
       "        }\n",
       "        var button = $('<button/>');\n",
       "        button.addClass('ui-button ui-widget ui-state-default ui-corner-all ' +\n",
       "                        'ui-button-icon-only');\n",
       "        button.attr('role', 'button');\n",
       "        button.attr('aria-disabled', 'false');\n",
       "        button.click(method_name, toolbar_event);\n",
       "        button.mouseover(tooltip, toolbar_mouse_event);\n",
       "\n",
       "        var icon_img = $('<span/>');\n",
       "        icon_img.addClass('ui-button-icon-primary ui-icon');\n",
       "        icon_img.addClass(image);\n",
       "        icon_img.addClass('ui-corner-all');\n",
       "\n",
       "        var tooltip_span = $('<span/>');\n",
       "        tooltip_span.addClass('ui-button-text');\n",
       "        tooltip_span.html(tooltip);\n",
       "\n",
       "        button.append(icon_img);\n",
       "        button.append(tooltip_span);\n",
       "\n",
       "        nav_element.append(button);\n",
       "    }\n",
       "\n",
       "    var fmt_picker_span = $('<span/>');\n",
       "\n",
       "    var fmt_picker = $('<select/>');\n",
       "    fmt_picker.addClass('mpl-toolbar-option ui-widget ui-widget-content');\n",
       "    fmt_picker_span.append(fmt_picker);\n",
       "    nav_element.append(fmt_picker_span);\n",
       "    this.format_dropdown = fmt_picker[0];\n",
       "\n",
       "    for (var ind in mpl.extensions) {\n",
       "        var fmt = mpl.extensions[ind];\n",
       "        var option = $(\n",
       "            '<option/>', {selected: fmt === mpl.default_extension}).html(fmt);\n",
       "        fmt_picker.append(option)\n",
       "    }\n",
       "\n",
       "    // Add hover states to the ui-buttons\n",
       "    $( \".ui-button\" ).hover(\n",
       "        function() { $(this).addClass(\"ui-state-hover\");},\n",
       "        function() { $(this).removeClass(\"ui-state-hover\");}\n",
       "    );\n",
       "\n",
       "    var status_bar = $('<span class=\"mpl-message\"/>');\n",
       "    nav_element.append(status_bar);\n",
       "    this.message = status_bar[0];\n",
       "}\n",
       "\n",
       "mpl.figure.prototype.request_resize = function(x_pixels, y_pixels) {\n",
       "    // Request matplotlib to resize the figure. Matplotlib will then trigger a resize in the client,\n",
       "    // which will in turn request a refresh of the image.\n",
       "    this.send_message('resize', {'width': x_pixels, 'height': y_pixels});\n",
       "}\n",
       "\n",
       "mpl.figure.prototype.send_message = function(type, properties) {\n",
       "    properties['type'] = type;\n",
       "    properties['figure_id'] = this.id;\n",
       "    this.ws.send(JSON.stringify(properties));\n",
       "}\n",
       "\n",
       "mpl.figure.prototype.send_draw_message = function() {\n",
       "    if (!this.waiting) {\n",
       "        this.waiting = true;\n",
       "        this.ws.send(JSON.stringify({type: \"draw\", figure_id: this.id}));\n",
       "    }\n",
       "}\n",
       "\n",
       "\n",
       "mpl.figure.prototype.handle_save = function(fig, msg) {\n",
       "    var format_dropdown = fig.format_dropdown;\n",
       "    var format = format_dropdown.options[format_dropdown.selectedIndex].value;\n",
       "    fig.ondownload(fig, format);\n",
       "}\n",
       "\n",
       "\n",
       "mpl.figure.prototype.handle_resize = function(fig, msg) {\n",
       "    var size = msg['size'];\n",
       "    if (size[0] != fig.canvas.width || size[1] != fig.canvas.height) {\n",
       "        fig._resize_canvas(size[0], size[1]);\n",
       "        fig.send_message(\"refresh\", {});\n",
       "    };\n",
       "}\n",
       "\n",
       "mpl.figure.prototype.handle_rubberband = function(fig, msg) {\n",
       "    var x0 = msg['x0'];\n",
       "    var y0 = fig.canvas.height - msg['y0'];\n",
       "    var x1 = msg['x1'];\n",
       "    var y1 = fig.canvas.height - msg['y1'];\n",
       "    x0 = Math.floor(x0) + 0.5;\n",
       "    y0 = Math.floor(y0) + 0.5;\n",
       "    x1 = Math.floor(x1) + 0.5;\n",
       "    y1 = Math.floor(y1) + 0.5;\n",
       "    var min_x = Math.min(x0, x1);\n",
       "    var min_y = Math.min(y0, y1);\n",
       "    var width = Math.abs(x1 - x0);\n",
       "    var height = Math.abs(y1 - y0);\n",
       "\n",
       "    fig.rubberband_context.clearRect(\n",
       "        0, 0, fig.canvas.width, fig.canvas.height);\n",
       "\n",
       "    fig.rubberband_context.strokeRect(min_x, min_y, width, height);\n",
       "}\n",
       "\n",
       "mpl.figure.prototype.handle_figure_label = function(fig, msg) {\n",
       "    // Updates the figure title.\n",
       "    fig.header.textContent = msg['label'];\n",
       "}\n",
       "\n",
       "mpl.figure.prototype.handle_cursor = function(fig, msg) {\n",
       "    var cursor = msg['cursor'];\n",
       "    switch(cursor)\n",
       "    {\n",
       "    case 0:\n",
       "        cursor = 'pointer';\n",
       "        break;\n",
       "    case 1:\n",
       "        cursor = 'default';\n",
       "        break;\n",
       "    case 2:\n",
       "        cursor = 'crosshair';\n",
       "        break;\n",
       "    case 3:\n",
       "        cursor = 'move';\n",
       "        break;\n",
       "    }\n",
       "    fig.rubberband_canvas.style.cursor = cursor;\n",
       "}\n",
       "\n",
       "mpl.figure.prototype.handle_message = function(fig, msg) {\n",
       "    fig.message.textContent = msg['message'];\n",
       "}\n",
       "\n",
       "mpl.figure.prototype.handle_draw = function(fig, msg) {\n",
       "    // Request the server to send over a new figure.\n",
       "    fig.send_draw_message();\n",
       "}\n",
       "\n",
       "mpl.figure.prototype.handle_image_mode = function(fig, msg) {\n",
       "    fig.image_mode = msg['mode'];\n",
       "}\n",
       "\n",
       "mpl.figure.prototype.updated_canvas_event = function() {\n",
       "    // Called whenever the canvas gets updated.\n",
       "    this.send_message(\"ack\", {});\n",
       "}\n",
       "\n",
       "// A function to construct a web socket function for onmessage handling.\n",
       "// Called in the figure constructor.\n",
       "mpl.figure.prototype._make_on_message_function = function(fig) {\n",
       "    return function socket_on_message(evt) {\n",
       "        if (evt.data instanceof Blob) {\n",
       "            /* FIXME: We get \"Resource interpreted as Image but\n",
       "             * transferred with MIME type text/plain:\" errors on\n",
       "             * Chrome.  But how to set the MIME type?  It doesn't seem\n",
       "             * to be part of the websocket stream */\n",
       "            evt.data.type = \"image/png\";\n",
       "\n",
       "            /* Free the memory for the previous frames */\n",
       "            if (fig.imageObj.src) {\n",
       "                (window.URL || window.webkitURL).revokeObjectURL(\n",
       "                    fig.imageObj.src);\n",
       "            }\n",
       "\n",
       "            fig.imageObj.src = (window.URL || window.webkitURL).createObjectURL(\n",
       "                evt.data);\n",
       "            fig.updated_canvas_event();\n",
       "            fig.waiting = false;\n",
       "            return;\n",
       "        }\n",
       "        else if (typeof evt.data === 'string' && evt.data.slice(0, 21) == \"data:image/png;base64\") {\n",
       "            fig.imageObj.src = evt.data;\n",
       "            fig.updated_canvas_event();\n",
       "            fig.waiting = false;\n",
       "            return;\n",
       "        }\n",
       "\n",
       "        var msg = JSON.parse(evt.data);\n",
       "        var msg_type = msg['type'];\n",
       "\n",
       "        // Call the  \"handle_{type}\" callback, which takes\n",
       "        // the figure and JSON message as its only arguments.\n",
       "        try {\n",
       "            var callback = fig[\"handle_\" + msg_type];\n",
       "        } catch (e) {\n",
       "            console.log(\"No handler for the '\" + msg_type + \"' message type: \", msg);\n",
       "            return;\n",
       "        }\n",
       "\n",
       "        if (callback) {\n",
       "            try {\n",
       "                // console.log(\"Handling '\" + msg_type + \"' message: \", msg);\n",
       "                callback(fig, msg);\n",
       "            } catch (e) {\n",
       "                console.log(\"Exception inside the 'handler_\" + msg_type + \"' callback:\", e, e.stack, msg);\n",
       "            }\n",
       "        }\n",
       "    };\n",
       "}\n",
       "\n",
       "// from http://stackoverflow.com/questions/1114465/getting-mouse-location-in-canvas\n",
       "mpl.findpos = function(e) {\n",
       "    //this section is from http://www.quirksmode.org/js/events_properties.html\n",
       "    var targ;\n",
       "    if (!e)\n",
       "        e = window.event;\n",
       "    if (e.target)\n",
       "        targ = e.target;\n",
       "    else if (e.srcElement)\n",
       "        targ = e.srcElement;\n",
       "    if (targ.nodeType == 3) // defeat Safari bug\n",
       "        targ = targ.parentNode;\n",
       "\n",
       "    // jQuery normalizes the pageX and pageY\n",
       "    // pageX,Y are the mouse positions relative to the document\n",
       "    // offset() returns the position of the element relative to the document\n",
       "    var x = e.pageX - $(targ).offset().left;\n",
       "    var y = e.pageY - $(targ).offset().top;\n",
       "\n",
       "    return {\"x\": x, \"y\": y};\n",
       "};\n",
       "\n",
       "/*\n",
       " * return a copy of an object with only non-object keys\n",
       " * we need this to avoid circular references\n",
       " * http://stackoverflow.com/a/24161582/3208463\n",
       " */\n",
       "function simpleKeys (original) {\n",
       "  return Object.keys(original).reduce(function (obj, key) {\n",
       "    if (typeof original[key] !== 'object')\n",
       "        obj[key] = original[key]\n",
       "    return obj;\n",
       "  }, {});\n",
       "}\n",
       "\n",
       "mpl.figure.prototype.mouse_event = function(event, name) {\n",
       "    var canvas_pos = mpl.findpos(event)\n",
       "\n",
       "    if (name === 'button_press')\n",
       "    {\n",
       "        this.canvas.focus();\n",
       "        this.canvas_div.focus();\n",
       "    }\n",
       "\n",
       "    var x = canvas_pos.x;\n",
       "    var y = canvas_pos.y;\n",
       "\n",
       "    this.send_message(name, {x: x, y: y, button: event.button,\n",
       "                             step: event.step,\n",
       "                             guiEvent: simpleKeys(event)});\n",
       "\n",
       "    /* This prevents the web browser from automatically changing to\n",
       "     * the text insertion cursor when the button is pressed.  We want\n",
       "     * to control all of the cursor setting manually through the\n",
       "     * 'cursor' event from matplotlib */\n",
       "    event.preventDefault();\n",
       "    return false;\n",
       "}\n",
       "\n",
       "mpl.figure.prototype._key_event_extra = function(event, name) {\n",
       "    // Handle any extra behaviour associated with a key event\n",
       "}\n",
       "\n",
       "mpl.figure.prototype.key_event = function(event, name) {\n",
       "\n",
       "    // Prevent repeat events\n",
       "    if (name == 'key_press')\n",
       "    {\n",
       "        if (event.which === this._key)\n",
       "            return;\n",
       "        else\n",
       "            this._key = event.which;\n",
       "    }\n",
       "    if (name == 'key_release')\n",
       "        this._key = null;\n",
       "\n",
       "    var value = '';\n",
       "    if (event.ctrlKey && event.which != 17)\n",
       "        value += \"ctrl+\";\n",
       "    if (event.altKey && event.which != 18)\n",
       "        value += \"alt+\";\n",
       "    if (event.shiftKey && event.which != 16)\n",
       "        value += \"shift+\";\n",
       "\n",
       "    value += 'k';\n",
       "    value += event.which.toString();\n",
       "\n",
       "    this._key_event_extra(event, name);\n",
       "\n",
       "    this.send_message(name, {key: value,\n",
       "                             guiEvent: simpleKeys(event)});\n",
       "    return false;\n",
       "}\n",
       "\n",
       "mpl.figure.prototype.toolbar_button_onclick = function(name) {\n",
       "    if (name == 'download') {\n",
       "        this.handle_save(this, null);\n",
       "    } else {\n",
       "        this.send_message(\"toolbar_button\", {name: name});\n",
       "    }\n",
       "};\n",
       "\n",
       "mpl.figure.prototype.toolbar_button_onmouseover = function(tooltip) {\n",
       "    this.message.textContent = tooltip;\n",
       "};\n",
       "mpl.toolbar_items = [[\"Home\", \"Reset original view\", \"fa fa-home icon-home\", \"home\"], [\"Back\", \"Back to  previous view\", \"fa fa-arrow-left icon-arrow-left\", \"back\"], [\"Forward\", \"Forward to next view\", \"fa fa-arrow-right icon-arrow-right\", \"forward\"], [\"\", \"\", \"\", \"\"], [\"Pan\", \"Pan axes with left mouse, zoom with right\", \"fa fa-arrows icon-move\", \"pan\"], [\"Zoom\", \"Zoom to rectangle\", \"fa fa-square-o icon-check-empty\", \"zoom\"], [\"\", \"\", \"\", \"\"], [\"Download\", \"Download plot\", \"fa fa-floppy-o icon-save\", \"download\"]];\n",
       "\n",
       "mpl.extensions = [\"eps\", \"jpeg\", \"pdf\", \"png\", \"ps\", \"raw\", \"svg\", \"tif\"];\n",
       "\n",
       "mpl.default_extension = \"png\";var comm_websocket_adapter = function(comm) {\n",
       "    // Create a \"websocket\"-like object which calls the given IPython comm\n",
       "    // object with the appropriate methods. Currently this is a non binary\n",
       "    // socket, so there is still some room for performance tuning.\n",
       "    var ws = {};\n",
       "\n",
       "    ws.close = function() {\n",
       "        comm.close()\n",
       "    };\n",
       "    ws.send = function(m) {\n",
       "        //console.log('sending', m);\n",
       "        comm.send(m);\n",
       "    };\n",
       "    // Register the callback with on_msg.\n",
       "    comm.on_msg(function(msg) {\n",
       "        //console.log('receiving', msg['content']['data'], msg);\n",
       "        // Pass the mpl event to the overriden (by mpl) onmessage function.\n",
       "        ws.onmessage(msg['content']['data'])\n",
       "    });\n",
       "    return ws;\n",
       "}\n",
       "\n",
       "mpl.mpl_figure_comm = function(comm, msg) {\n",
       "    // This is the function which gets called when the mpl process\n",
       "    // starts-up an IPython Comm through the \"matplotlib\" channel.\n",
       "\n",
       "    var id = msg.content.data.id;\n",
       "    // Get hold of the div created by the display call when the Comm\n",
       "    // socket was opened in Python.\n",
       "    var element = $(\"#\" + id);\n",
       "    var ws_proxy = comm_websocket_adapter(comm)\n",
       "\n",
       "    function ondownload(figure, format) {\n",
       "        window.open(figure.imageObj.src);\n",
       "    }\n",
       "\n",
       "    var fig = new mpl.figure(id, ws_proxy,\n",
       "                           ondownload,\n",
       "                           element.get(0));\n",
       "\n",
       "    // Call onopen now - mpl needs it, as it is assuming we've passed it a real\n",
       "    // web socket which is closed, not our websocket->open comm proxy.\n",
       "    ws_proxy.onopen();\n",
       "\n",
       "    fig.parent_element = element.get(0);\n",
       "    fig.cell_info = mpl.find_output_cell(\"<div id='\" + id + \"'></div>\");\n",
       "    if (!fig.cell_info) {\n",
       "        console.error(\"Failed to find cell for figure\", id, fig);\n",
       "        return;\n",
       "    }\n",
       "\n",
       "    var output_index = fig.cell_info[2]\n",
       "    var cell = fig.cell_info[0];\n",
       "\n",
       "};\n",
       "\n",
       "mpl.figure.prototype.handle_close = function(fig, msg) {\n",
       "    fig.root.unbind('remove')\n",
       "\n",
       "    // Update the output cell to use the data from the current canvas.\n",
       "    fig.push_to_output();\n",
       "    var dataURL = fig.canvas.toDataURL();\n",
       "    // Re-enable the keyboard manager in IPython - without this line, in FF,\n",
       "    // the notebook keyboard shortcuts fail.\n",
       "    IPython.keyboard_manager.enable()\n",
       "    $(fig.parent_element).html('<img src=\"' + dataURL + '\">');\n",
       "    fig.close_ws(fig, msg);\n",
       "}\n",
       "\n",
       "mpl.figure.prototype.close_ws = function(fig, msg){\n",
       "    fig.send_message('closing', msg);\n",
       "    // fig.ws.close()\n",
       "}\n",
       "\n",
       "mpl.figure.prototype.push_to_output = function(remove_interactive) {\n",
       "    // Turn the data on the canvas into data in the output cell.\n",
       "    var dataURL = this.canvas.toDataURL();\n",
       "    this.cell_info[1]['text/html'] = '<img src=\"' + dataURL + '\">';\n",
       "}\n",
       "\n",
       "mpl.figure.prototype.updated_canvas_event = function() {\n",
       "    // Tell IPython that the notebook contents must change.\n",
       "    IPython.notebook.set_dirty(true);\n",
       "    this.send_message(\"ack\", {});\n",
       "    var fig = this;\n",
       "    // Wait a second, then push the new image to the DOM so\n",
       "    // that it is saved nicely (might be nice to debounce this).\n",
       "    setTimeout(function () { fig.push_to_output() }, 1000);\n",
       "}\n",
       "\n",
       "mpl.figure.prototype._init_toolbar = function() {\n",
       "    var fig = this;\n",
       "\n",
       "    var nav_element = $('<div/>')\n",
       "    nav_element.attr('style', 'width: 100%');\n",
       "    this.root.append(nav_element);\n",
       "\n",
       "    // Define a callback function for later on.\n",
       "    function toolbar_event(event) {\n",
       "        return fig.toolbar_button_onclick(event['data']);\n",
       "    }\n",
       "    function toolbar_mouse_event(event) {\n",
       "        return fig.toolbar_button_onmouseover(event['data']);\n",
       "    }\n",
       "\n",
       "    for(var toolbar_ind in mpl.toolbar_items){\n",
       "        var name = mpl.toolbar_items[toolbar_ind][0];\n",
       "        var tooltip = mpl.toolbar_items[toolbar_ind][1];\n",
       "        var image = mpl.toolbar_items[toolbar_ind][2];\n",
       "        var method_name = mpl.toolbar_items[toolbar_ind][3];\n",
       "\n",
       "        if (!name) { continue; };\n",
       "\n",
       "        var button = $('<button class=\"btn btn-default\" href=\"#\" title=\"' + name + '\"><i class=\"fa ' + image + ' fa-lg\"></i></button>');\n",
       "        button.click(method_name, toolbar_event);\n",
       "        button.mouseover(tooltip, toolbar_mouse_event);\n",
       "        nav_element.append(button);\n",
       "    }\n",
       "\n",
       "    // Add the status bar.\n",
       "    var status_bar = $('<span class=\"mpl-message\" style=\"text-align:right; float: right;\"/>');\n",
       "    nav_element.append(status_bar);\n",
       "    this.message = status_bar[0];\n",
       "\n",
       "    // Add the close button to the window.\n",
       "    var buttongrp = $('<div class=\"btn-group inline pull-right\"></div>');\n",
       "    var button = $('<button class=\"btn btn-mini btn-primary\" href=\"#\" title=\"Stop Interaction\"><i class=\"fa fa-power-off icon-remove icon-large\"></i></button>');\n",
       "    button.click(function (evt) { fig.handle_close(fig, {}); } );\n",
       "    button.mouseover('Stop Interaction', toolbar_mouse_event);\n",
       "    buttongrp.append(button);\n",
       "    var titlebar = this.root.find($('.ui-dialog-titlebar'));\n",
       "    titlebar.prepend(buttongrp);\n",
       "}\n",
       "\n",
       "mpl.figure.prototype._root_extra_style = function(el){\n",
       "    var fig = this\n",
       "    el.on(\"remove\", function(){\n",
       "\tfig.close_ws(fig, {});\n",
       "    });\n",
       "}\n",
       "\n",
       "mpl.figure.prototype._canvas_extra_style = function(el){\n",
       "    // this is important to make the div 'focusable\n",
       "    el.attr('tabindex', 0)\n",
       "    // reach out to IPython and tell the keyboard manager to turn it's self\n",
       "    // off when our div gets focus\n",
       "\n",
       "    // location in version 3\n",
       "    if (IPython.notebook.keyboard_manager) {\n",
       "        IPython.notebook.keyboard_manager.register_events(el);\n",
       "    }\n",
       "    else {\n",
       "        // location in version 2\n",
       "        IPython.keyboard_manager.register_events(el);\n",
       "    }\n",
       "\n",
       "}\n",
       "\n",
       "mpl.figure.prototype._key_event_extra = function(event, name) {\n",
       "    var manager = IPython.notebook.keyboard_manager;\n",
       "    if (!manager)\n",
       "        manager = IPython.keyboard_manager;\n",
       "\n",
       "    // Check for shift+enter\n",
       "    if (event.shiftKey && event.which == 13) {\n",
       "        this.canvas_div.blur();\n",
       "        event.shiftKey = false;\n",
       "        // Send a \"J\" for go to next cell\n",
       "        event.which = 74;\n",
       "        event.keyCode = 74;\n",
       "        manager.command_mode();\n",
       "        manager.handle_keydown(event);\n",
       "    }\n",
       "}\n",
       "\n",
       "mpl.figure.prototype.handle_save = function(fig, msg) {\n",
       "    fig.ondownload(fig, null);\n",
       "}\n",
       "\n",
       "\n",
       "mpl.find_output_cell = function(html_output) {\n",
       "    // Return the cell and output element which can be found *uniquely* in the notebook.\n",
       "    // Note - this is a bit hacky, but it is done because the \"notebook_saving.Notebook\"\n",
       "    // IPython event is triggered only after the cells have been serialised, which for\n",
       "    // our purposes (turning an active figure into a static one), is too late.\n",
       "    var cells = IPython.notebook.get_cells();\n",
       "    var ncells = cells.length;\n",
       "    for (var i=0; i<ncells; i++) {\n",
       "        var cell = cells[i];\n",
       "        if (cell.cell_type === 'code'){\n",
       "            for (var j=0; j<cell.output_area.outputs.length; j++) {\n",
       "                var data = cell.output_area.outputs[j];\n",
       "                if (data.data) {\n",
       "                    // IPython >= 3 moved mimebundle to data attribute of output\n",
       "                    data = data.data;\n",
       "                }\n",
       "                if (data['text/html'] == html_output) {\n",
       "                    return [cell, data, j];\n",
       "                }\n",
       "            }\n",
       "        }\n",
       "    }\n",
       "}\n",
       "\n",
       "// Register the function which deals with the matplotlib target/channel.\n",
       "// The kernel may be null if the page has been refreshed.\n",
       "if (IPython.notebook.kernel != null) {\n",
       "    IPython.notebook.kernel.comm_manager.register_target('matplotlib', mpl.mpl_figure_comm);\n",
       "}\n"
      ],
      "text/plain": [
       "<IPython.core.display.Javascript object>"
      ]
     },
     "metadata": {},
     "output_type": "display_data"
    },
    {
     "data": {
      "text/html": [
       "<img src=\"data:image/png;base64,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\">"
      ],
      "text/plain": [
       "<IPython.core.display.HTML object>"
      ]
     },
     "metadata": {},
     "output_type": "display_data"
    }
   ],
   "source": [
    "barwidth = 0.75; \n",
    "fig, ax = plt.subplots(figsize=(9, 7));\n",
    "rects1 = ax.bar(0.5,ACCanalysis.LowC.mean(),barwidth,yerr=ACCstderror.LowC,ecolor='k',edgecolor=sns.xkcd_rgb['green'],linewidth = 2, facecolor='none',error_kw=dict(lw=3),label='Congruent');\n",
    "rects2 = ax.bar(1.5,ACCanalysis.LowIC.mean(),barwidth,color=sns.xkcd_rgb['green'],yerr=ACCstderror.LowIC,ecolor='k',error_kw=dict(lw=3),label='Incongruent');\n",
    "rects3 = ax.bar(3,ACCanalysis.HighC.mean(),barwidth,yerr=ACCstderror.HighC,ecolor='k',edgecolor=(0.3,0.9,0.3),linewidth = 2, facecolor='none',error_kw=dict(lw=3));\n",
    "rects4 = ax.bar(4,ACCanalysis.HighIC.mean(),barwidth,color=(0.3,0.9,0.3),yerr=ACCstderror.HighIC,ecolor='k',error_kw=dict(lw=3));\n",
    "ax.set_ylim(0.65,1.01);\n",
    "ax.set_xlim(0,6);\n",
    "ax.set_xticklabels(('Low', 'High'));\n",
    "ax.set_xticks([1 + barwidth/2, 3.5 + barwidth/2]);\n",
    "ax.set_yticks(np.arange(0.65, 1.01, 0.05));\n",
    "plt.legend([rects1,rects2], ['Congruent','Incongruent'], loc='upper right',fontsize=18,title='Trial Type')\n",
    "plt.legend(title='Trial Type',fontsize=19)\n",
    "plt.title('S-C Phase Accuracy', fontsize=26,fontweight=\"bold\")\n",
    "plt.ylabel('Accuracy (Proportion Correct)', fontsize=24,fontweight=\"bold\")\n",
    "plt.xlabel('S2 Control-Demand Cue', fontsize=24,fontweight=\"bold\")\n",
    "sns.despine();\n",
    "\n",
    "plt.show()"
   ]
  },
  {
   "cell_type": "markdown",
   "metadata": {},
   "source": [
    "# Making 95% Confidence Intervals"
   ]
  },
  {
   "cell_type": "markdown",
   "metadata": {},
   "source": [
    "Now I'm making the Supplementary tables that show our data in full, with 95% CIs accompanying the means."
   ]
  },
  {
   "cell_type": "code",
   "execution_count": 616,
   "metadata": {},
   "outputs": [
    {
     "data": {
      "text/plain": [
       "(614.00721609598349, 635.31672567447072)"
      ]
     },
     "execution_count": 616,
     "metadata": {},
     "output_type": "execute_result"
    }
   ],
   "source": [
    "import statsmodels.stats.api as sms\n",
    "\n",
    "a = RTanalysis.LowC.mean()\n",
    "sms.DescrStatsW(RTanalysis.LowC).tconfint_mean()\n",
    "#a"
   ]
  },
  {
   "cell_type": "code",
   "execution_count": 617,
   "metadata": {},
   "outputs": [
    {
     "data": {
      "text/plain": [
       "(686.48582101079501, 709.57914098149672)"
      ]
     },
     "execution_count": 617,
     "metadata": {},
     "output_type": "execute_result"
    }
   ],
   "source": [
    "a = RTanalysis.LowIC.mean()\n",
    "sms.DescrStatsW(RTanalysis.LowIC).tconfint_mean()\n",
    "#a"
   ]
  },
  {
   "cell_type": "code",
   "execution_count": 618,
   "metadata": {},
   "outputs": [
    {
     "data": {
      "text/plain": [
       "(612.73027999117141, 636.21765888386528)"
      ]
     },
     "execution_count": 618,
     "metadata": {},
     "output_type": "execute_result"
    }
   ],
   "source": [
    "a = RTanalysis.HighC.mean()\n",
    "sms.DescrStatsW(RTanalysis.HighC).tconfint_mean()\n",
    "#a"
   ]
  },
  {
   "cell_type": "code",
   "execution_count": 619,
   "metadata": {},
   "outputs": [
    {
     "data": {
      "text/plain": [
       "(685.57655810331948, 705.95584984602533)"
      ]
     },
     "execution_count": 619,
     "metadata": {},
     "output_type": "execute_result"
    }
   ],
   "source": [
    "a = RTanalysis.HighIC.mean()\n",
    "sms.DescrStatsW(RTanalysis.HighIC).tconfint_mean()\n",
    "#a"
   ]
  },
  {
   "cell_type": "code",
   "execution_count": 620,
   "metadata": {},
   "outputs": [
    {
     "data": {
      "text/plain": [
       "(608.43050635159602, 631.81852377067548)"
      ]
     },
     "execution_count": 620,
     "metadata": {},
     "output_type": "execute_result"
    }
   ],
   "source": [
    "a = RTrunanalysis.loc[RTrunanalysis['Run'] == 0].LowC.mean()\n",
    "sms.DescrStatsW(RTrunanalysis.loc[RTrunanalysis['Run'] == 0].LowC).tconfint_mean()\n",
    "#a"
   ]
  },
  {
   "cell_type": "code",
   "execution_count": 621,
   "metadata": {},
   "outputs": [
    {
     "data": {
      "text/plain": [
       "(689.84130608310249, 720.49190193694756)"
      ]
     },
     "execution_count": 621,
     "metadata": {},
     "output_type": "execute_result"
    }
   ],
   "source": [
    "a = RTrunanalysis.loc[RTrunanalysis['Run'] == 0].LowIC.mean()\n",
    "sms.DescrStatsW(RTrunanalysis.loc[RTrunanalysis['Run'] == 0].LowIC).tconfint_mean()\n",
    "#a"
   ]
  },
  {
   "cell_type": "code",
   "execution_count": 622,
   "metadata": {},
   "outputs": [
    {
     "data": {
      "text/plain": [
       "(607.59201142607367, 633.37380937593139)"
      ]
     },
     "execution_count": 622,
     "metadata": {},
     "output_type": "execute_result"
    }
   ],
   "source": [
    "a = RTrunanalysis.loc[RTrunanalysis['Run'] == 0].HighC.mean()\n",
    "sms.DescrStatsW(RTrunanalysis.loc[RTrunanalysis['Run'] == 0].HighC).tconfint_mean()\n",
    "#a"
   ]
  },
  {
   "cell_type": "code",
   "execution_count": 623,
   "metadata": {},
   "outputs": [
    {
     "data": {
      "text/plain": [
       "(685.95099302557321, 709.04642230180832)"
      ]
     },
     "execution_count": 623,
     "metadata": {},
     "output_type": "execute_result"
    }
   ],
   "source": [
    "a = RTrunanalysis.loc[RTrunanalysis['Run'] == 0].HighIC.mean()\n",
    "sms.DescrStatsW(RTrunanalysis.loc[RTrunanalysis['Run'] == 0].HighIC).tconfint_mean()\n",
    "#a"
   ]
  },
  {
   "cell_type": "code",
   "execution_count": 624,
   "metadata": {},
   "outputs": [
    {
     "data": {
      "text/plain": [
       "(612.33107452796696, 634.57363280957236)"
      ]
     },
     "execution_count": 624,
     "metadata": {},
     "output_type": "execute_result"
    }
   ],
   "source": [
    "a = RTrunanalysis.loc[RTrunanalysis['Run'] == 1].LowC.mean()\n",
    "sms.DescrStatsW(RTrunanalysis.loc[RTrunanalysis['Run'] == 1].LowC).tconfint_mean()\n",
    "#a"
   ]
  },
  {
   "cell_type": "code",
   "execution_count": 625,
   "metadata": {},
   "outputs": [
    {
     "data": {
      "text/plain": [
       "(681.43497278095788, 710.43247709372895)"
      ]
     },
     "execution_count": 625,
     "metadata": {},
     "output_type": "execute_result"
    }
   ],
   "source": [
    "a = RTrunanalysis.loc[RTrunanalysis['Run'] == 1].LowIC.mean()\n",
    "sms.DescrStatsW(RTrunanalysis.loc[RTrunanalysis['Run'] == 1].LowIC).tconfint_mean()\n",
    "#a"
   ]
  },
  {
   "cell_type": "code",
   "execution_count": 626,
   "metadata": {},
   "outputs": [
    {
     "data": {
      "text/plain": [
       "(606.92139282630819, 634.30041168496996)"
      ]
     },
     "execution_count": 626,
     "metadata": {},
     "output_type": "execute_result"
    }
   ],
   "source": [
    "a = RTrunanalysis.loc[RTrunanalysis['Run'] == 1].HighC.mean()\n",
    "sms.DescrStatsW(RTrunanalysis.loc[RTrunanalysis['Run'] == 1].HighC).tconfint_mean()\n",
    "#a"
   ]
  },
  {
   "cell_type": "code",
   "execution_count": 627,
   "metadata": {},
   "outputs": [
    {
     "data": {
      "text/plain": [
       "(682.06168940069699, 706.37909108542442)"
      ]
     },
     "execution_count": 627,
     "metadata": {},
     "output_type": "execute_result"
    }
   ],
   "source": [
    "a = RTrunanalysis.loc[RTrunanalysis['Run'] == 1].HighIC.mean()\n",
    "sms.DescrStatsW(RTrunanalysis.loc[RTrunanalysis['Run'] == 1].HighIC).tconfint_mean()\n",
    "#a"
   ]
  },
  {
   "cell_type": "code",
   "execution_count": 628,
   "metadata": {},
   "outputs": [
    {
     "data": {
      "text/plain": [
       "(613.48454665328018, 636.70767168757857)"
      ]
     },
     "execution_count": 628,
     "metadata": {},
     "output_type": "execute_result"
    }
   ],
   "source": [
    "a = RTrunanalysis.loc[RTrunanalysis['Run'] == 2].LowC.mean()\n",
    "sms.DescrStatsW(RTrunanalysis.loc[RTrunanalysis['Run'] == 2].LowC).tconfint_mean()\n",
    "#a"
   ]
  },
  {
   "cell_type": "code",
   "execution_count": 629,
   "metadata": {},
   "outputs": [
    {
     "data": {
      "text/plain": [
       "(679.6040268907368, 709.65866107918805)"
      ]
     },
     "execution_count": 629,
     "metadata": {},
     "output_type": "execute_result"
    }
   ],
   "source": [
    "a = RTrunanalysis.loc[RTrunanalysis['Run'] == 2].LowIC.mean()\n",
    "sms.DescrStatsW(RTrunanalysis.loc[RTrunanalysis['Run'] == 2].LowIC).tconfint_mean()\n",
    "#a"
   ]
  },
  {
   "cell_type": "code",
   "execution_count": 630,
   "metadata": {},
   "outputs": [
    {
     "data": {
      "text/plain": [
       "(616.58499239188063, 648.880421141954)"
      ]
     },
     "execution_count": 630,
     "metadata": {},
     "output_type": "execute_result"
    }
   ],
   "source": [
    "a = RTrunanalysis.loc[RTrunanalysis['Run'] == 2].HighC.mean()\n",
    "sms.DescrStatsW(RTrunanalysis.loc[RTrunanalysis['Run'] == 2].HighC).tconfint_mean()\n",
    "#a"
   ]
  },
  {
   "cell_type": "code",
   "execution_count": 631,
   "metadata": {},
   "outputs": [
    {
     "data": {
      "text/plain": [
       "(681.84323589341659, 704.62975533191877)"
      ]
     },
     "execution_count": 631,
     "metadata": {},
     "output_type": "execute_result"
    }
   ],
   "source": [
    "a = RTrunanalysis.loc[RTrunanalysis['Run'] == 2].HighIC.mean()\n",
    "sms.DescrStatsW(RTrunanalysis.loc[RTrunanalysis['Run'] == 2].HighIC).tconfint_mean()\n",
    "#a"
   ]
  },
  {
   "cell_type": "code",
   "execution_count": 632,
   "metadata": {},
   "outputs": [
    {
     "data": {
      "text/plain": [
       "(618.04296387886336, 641.99163900691599)"
      ]
     },
     "execution_count": 632,
     "metadata": {},
     "output_type": "execute_result"
    }
   ],
   "source": [
    "a = RTrunanalysis.loc[RTrunanalysis['Run'] == 3].LowC.mean()\n",
    "sms.DescrStatsW(RTrunanalysis.loc[RTrunanalysis['Run'] == 3].LowC).tconfint_mean()\n",
    "#a"
   ]
  },
  {
   "cell_type": "code",
   "execution_count": 633,
   "metadata": {},
   "outputs": [
    {
     "data": {
      "text/plain": [
       "(683.52592242463356, 712.27388960544158)"
      ]
     },
     "execution_count": 633,
     "metadata": {},
     "output_type": "execute_result"
    }
   ],
   "source": [
    "a = RTrunanalysis.loc[RTrunanalysis['Run'] == 3].LowIC.mean()\n",
    "sms.DescrStatsW(RTrunanalysis.loc[RTrunanalysis['Run'] == 3].LowIC).tconfint_mean()\n",
    "#a"
   ]
  },
  {
   "cell_type": "code",
   "execution_count": 634,
   "metadata": {},
   "outputs": [
    {
     "data": {
      "text/plain": [
       "(610.62806353874578, 639.24424222566529)"
      ]
     },
     "execution_count": 634,
     "metadata": {},
     "output_type": "execute_result"
    }
   ],
   "source": [
    "a = RTrunanalysis.loc[RTrunanalysis['Run'] == 3].HighC.mean()\n",
    "sms.DescrStatsW(RTrunanalysis.loc[RTrunanalysis['Run'] == 3].HighC).tconfint_mean()\n",
    "#a"
   ]
  },
  {
   "cell_type": "code",
   "execution_count": 635,
   "metadata": {},
   "outputs": [
    {
     "data": {
      "text/plain": [
       "(686.48402034056789, 709.27011192156647)"
      ]
     },
     "execution_count": 635,
     "metadata": {},
     "output_type": "execute_result"
    }
   ],
   "source": [
    "a = RTrunanalysis.loc[RTrunanalysis['Run'] == 3].HighIC.mean()\n",
    "sms.DescrStatsW(RTrunanalysis.loc[RTrunanalysis['Run'] == 3].HighIC).tconfint_mean()\n",
    "#a"
   ]
  },
  {
   "cell_type": "markdown",
   "metadata": {},
   "source": [
    "And for Accuracy..."
   ]
  },
  {
   "cell_type": "code",
   "execution_count": 636,
   "metadata": {},
   "outputs": [
    {
     "data": {
      "text/plain": [
       "(0.94365925971771814, 0.96238514817701881)"
      ]
     },
     "execution_count": 636,
     "metadata": {},
     "output_type": "execute_result"
    }
   ],
   "source": [
    "a = ACCanalysis.LowC.mean()\n",
    "sms.DescrStatsW(ACCanalysis.LowC).tconfint_mean()\n",
    "#a"
   ]
  },
  {
   "cell_type": "code",
   "execution_count": 637,
   "metadata": {},
   "outputs": [
    {
     "data": {
      "text/plain": [
       "(0.86544794172228579, 0.90099942669876687)"
      ]
     },
     "execution_count": 637,
     "metadata": {},
     "output_type": "execute_result"
    }
   ],
   "source": [
    "a = ACCanalysis.LowIC.mean()\n",
    "sms.DescrStatsW(ACCanalysis.LowIC).tconfint_mean()\n",
    "#a"
   ]
  },
  {
   "cell_type": "code",
   "execution_count": 638,
   "metadata": {},
   "outputs": [
    {
     "data": {
      "text/plain": [
       "(0.94237561182612373, 0.96551912501598158)"
      ]
     },
     "execution_count": 638,
     "metadata": {},
     "output_type": "execute_result"
    }
   ],
   "source": [
    "a = ACCanalysis.HighC.mean()\n",
    "sms.DescrStatsW(ACCanalysis.HighC).tconfint_mean()\n",
    "#a"
   ]
  },
  {
   "cell_type": "code",
   "execution_count": 639,
   "metadata": {},
   "outputs": [
    {
     "data": {
      "text/plain": [
       "(0.86543879193703965, 0.893196076484013)"
      ]
     },
     "execution_count": 639,
     "metadata": {},
     "output_type": "execute_result"
    }
   ],
   "source": [
    "a = ACCanalysis.HighIC.mean()\n",
    "sms.DescrStatsW(ACCanalysis.HighIC).tconfint_mean()\n",
    "#a"
   ]
  },
  {
   "cell_type": "code",
   "execution_count": 640,
   "metadata": {},
   "outputs": [
    {
     "data": {
      "text/plain": [
       "(0.94692054306466067, 0.97084261483007628)"
      ]
     },
     "execution_count": 640,
     "metadata": {},
     "output_type": "execute_result"
    }
   ],
   "source": [
    "a = ACCrunanalysis.loc[ACCrunanalysis['Run'] == 0].LowC.mean()\n",
    "sms.DescrStatsW(ACCrunanalysis.loc[ACCrunanalysis['Run'] == 0].LowC).tconfint_mean()\n",
    "#a"
   ]
  },
  {
   "cell_type": "code",
   "execution_count": 641,
   "metadata": {},
   "outputs": [
    {
     "data": {
      "text/plain": [
       "(0.80835058838597063, 0.87585993792981875)"
      ]
     },
     "execution_count": 641,
     "metadata": {},
     "output_type": "execute_result"
    }
   ],
   "source": [
    "a = ACCrunanalysis.loc[ACCrunanalysis['Run'] == 0].LowIC.mean()\n",
    "sms.DescrStatsW(ACCrunanalysis.loc[ACCrunanalysis['Run'] == 0].LowIC).tconfint_mean()\n",
    "#a"
   ]
  },
  {
   "cell_type": "code",
   "execution_count": 642,
   "metadata": {},
   "outputs": [
    {
     "data": {
      "text/plain": [
       "(0.93480492479946387, 0.97308981204264144)"
      ]
     },
     "execution_count": 642,
     "metadata": {},
     "output_type": "execute_result"
    }
   ],
   "source": [
    "a = ACCrunanalysis.loc[ACCrunanalysis['Run'] == 0].HighC.mean()\n",
    "sms.DescrStatsW(ACCrunanalysis.loc[ACCrunanalysis['Run'] == 0].HighC).tconfint_mean()\n",
    "#a"
   ]
  },
  {
   "cell_type": "code",
   "execution_count": 643,
   "metadata": {},
   "outputs": [
    {
     "data": {
      "text/plain": [
       "(0.84426046044765946, 0.88271322376286687)"
      ]
     },
     "execution_count": 643,
     "metadata": {},
     "output_type": "execute_result"
    }
   ],
   "source": [
    "a = ACCrunanalysis.loc[ACCrunanalysis['Run'] == 0].HighIC.mean()\n",
    "sms.DescrStatsW(ACCrunanalysis.loc[ACCrunanalysis['Run'] == 0].HighIC).tconfint_mean()\n",
    "#a"
   ]
  },
  {
   "cell_type": "code",
   "execution_count": 644,
   "metadata": {},
   "outputs": [
    {
     "data": {
      "text/plain": [
       "(0.9413190448409664, 0.9649309551590336)"
      ]
     },
     "execution_count": 644,
     "metadata": {},
     "output_type": "execute_result"
    }
   ],
   "source": [
    "a = ACCrunanalysis.loc[ACCrunanalysis['Run'] == 1].LowC.mean()\n",
    "sms.DescrStatsW(ACCrunanalysis.loc[ACCrunanalysis['Run'] == 1].LowC).tconfint_mean()\n",
    "#a"
   ]
  },
  {
   "cell_type": "code",
   "execution_count": 645,
   "metadata": {},
   "outputs": [
    {
     "data": {
      "text/plain": [
       "(0.85958546803571134, 0.92001979512218335)"
      ]
     },
     "execution_count": 645,
     "metadata": {},
     "output_type": "execute_result"
    }
   ],
   "source": [
    "a = ACCrunanalysis.loc[ACCrunanalysis['Run'] == 1].LowIC.mean()\n",
    "sms.DescrStatsW(ACCrunanalysis.loc[ACCrunanalysis['Run'] == 1].LowIC).tconfint_mean()\n",
    "#a"
   ]
  },
  {
   "cell_type": "code",
   "execution_count": 646,
   "metadata": {},
   "outputs": [
    {
     "data": {
      "text/plain": [
       "(0.93770598453818832, 0.97347822598812739)"
      ]
     },
     "execution_count": 646,
     "metadata": {},
     "output_type": "execute_result"
    }
   ],
   "source": [
    "a = ACCrunanalysis.loc[ACCrunanalysis['Run'] == 1].HighC.mean()\n",
    "sms.DescrStatsW(ACCrunanalysis.loc[ACCrunanalysis['Run'] == 1].HighC).tconfint_mean()\n",
    "#a"
   ]
  },
  {
   "cell_type": "code",
   "execution_count": 647,
   "metadata": {},
   "outputs": [
    {
     "data": {
      "text/plain": [
       "(0.86194236597886131, 0.89792605507377032)"
      ]
     },
     "execution_count": 647,
     "metadata": {},
     "output_type": "execute_result"
    }
   ],
   "source": [
    "a = ACCrunanalysis.loc[ACCrunanalysis['Run'] == 1].HighIC.mean()\n",
    "sms.DescrStatsW(ACCrunanalysis.loc[ACCrunanalysis['Run'] == 1].HighIC).tconfint_mean()\n",
    "#a"
   ]
  },
  {
   "cell_type": "code",
   "execution_count": 648,
   "metadata": {},
   "outputs": [
    {
     "data": {
      "text/plain": [
       "(0.93749023852983582, 0.96218081410174316)"
      ]
     },
     "execution_count": 648,
     "metadata": {},
     "output_type": "execute_result"
    }
   ],
   "source": [
    "a = ACCrunanalysis.loc[ACCrunanalysis['Run'] == 2].LowC.mean()\n",
    "sms.DescrStatsW(ACCrunanalysis.loc[ACCrunanalysis['Run'] == 2].LowC).tconfint_mean()\n",
    "#a"
   ]
  },
  {
   "cell_type": "code",
   "execution_count": 649,
   "metadata": {},
   "outputs": [
    {
     "data": {
      "text/plain": [
       "(0.86724592943377055, 0.91893828109254516)"
      ]
     },
     "execution_count": 649,
     "metadata": {},
     "output_type": "execute_result"
    }
   ],
   "source": [
    "a = ACCrunanalysis.loc[ACCrunanalysis['Run'] == 2].LowIC.mean()\n",
    "sms.DescrStatsW(ACCrunanalysis.loc[ACCrunanalysis['Run'] == 2].LowIC).tconfint_mean()\n",
    "#a"
   ]
  },
  {
   "cell_type": "code",
   "execution_count": 650,
   "metadata": {},
   "outputs": [
    {
     "data": {
      "text/plain": [
       "(0.94470603136166409, 0.97963607390149388)"
      ]
     },
     "execution_count": 650,
     "metadata": {},
     "output_type": "execute_result"
    }
   ],
   "source": [
    "a = ACCrunanalysis.loc[ACCrunanalysis['Run'] == 2].HighC.mean()\n",
    "sms.DescrStatsW(ACCrunanalysis.loc[ACCrunanalysis['Run'] == 2].HighC).tconfint_mean()\n",
    "#a"
   ]
  },
  {
   "cell_type": "code",
   "execution_count": 651,
   "metadata": {},
   "outputs": [
    {
     "data": {
      "text/plain": [
       "(0.85506288320033741, 0.89575948522071525)"
      ]
     },
     "execution_count": 651,
     "metadata": {},
     "output_type": "execute_result"
    }
   ],
   "source": [
    "a = ACCrunanalysis.loc[ACCrunanalysis['Run'] == 2].HighIC.mean()\n",
    "sms.DescrStatsW(ACCrunanalysis.loc[ACCrunanalysis['Run'] == 2].HighIC).tconfint_mean()\n",
    "#a"
   ]
  },
  {
   "cell_type": "code",
   "execution_count": 652,
   "metadata": {},
   "outputs": [
    {
     "data": {
      "text/plain": [
       "(0.93751647109766978, 0.96297694995496186)"
      ]
     },
     "execution_count": 652,
     "metadata": {},
     "output_type": "execute_result"
    }
   ],
   "source": [
    "a = ACCrunanalysis.loc[ACCrunanalysis['Run'] == 3].LowC.mean()\n",
    "sms.DescrStatsW(ACCrunanalysis.loc[ACCrunanalysis['Run'] == 3].LowC).tconfint_mean()\n",
    "#a"
   ]
  },
  {
   "cell_type": "code",
   "execution_count": 653,
   "metadata": {},
   "outputs": [
    {
     "data": {
      "text/plain": [
       "(0.88633291743189579, 0.92945655625231482)"
      ]
     },
     "execution_count": 653,
     "metadata": {},
     "output_type": "execute_result"
    }
   ],
   "source": [
    "a = ACCrunanalysis.loc[ACCrunanalysis['Run'] == 3].LowIC.mean()\n",
    "sms.DescrStatsW(ACCrunanalysis.loc[ACCrunanalysis['Run'] == 3].LowIC).tconfint_mean()\n",
    "#a"
   ]
  },
  {
   "cell_type": "code",
   "execution_count": 654,
   "metadata": {},
   "outputs": [
    {
     "data": {
      "text/plain": [
       "(0.91836324552245518, 0.96979464921438685)"
      ]
     },
     "execution_count": 654,
     "metadata": {},
     "output_type": "execute_result"
    }
   ],
   "source": [
    "a = ACCrunanalysis.loc[ACCrunanalysis['Run'] == 3].HighC.mean()\n",
    "sms.DescrStatsW(ACCrunanalysis.loc[ACCrunanalysis['Run'] == 3].HighC).tconfint_mean()\n",
    "#a"
   ]
  },
  {
   "cell_type": "code",
   "execution_count": 655,
   "metadata": {},
   "outputs": [
    {
     "data": {
      "text/plain": [
       "(0.88177702821080783, 0.91509797178919217)"
      ]
     },
     "execution_count": 655,
     "metadata": {},
     "output_type": "execute_result"
    }
   ],
   "source": [
    "a = ACCrunanalysis.loc[ACCrunanalysis['Run'] == 3].HighIC.mean()\n",
    "sms.DescrStatsW(ACCrunanalysis.loc[ACCrunanalysis['Run'] == 3].HighIC).tconfint_mean()\n",
    "#a"
   ]
  }
 ],
 "metadata": {
  "anaconda-cloud": {},
  "kernelspec": {
   "display_name": "Python [Root]",
   "language": "python",
   "name": "Python [Root]"
  },
  "language_info": {
   "codemirror_mode": {
    "name": "ipython",
    "version": 3
   },
   "file_extension": ".py",
   "mimetype": "text/x-python",
   "name": "python",
   "nbconvert_exporter": "python",
   "pygments_lexer": "ipython3",
   "version": "3.5.2"
  }
 },
 "nbformat": 4,
 "nbformat_minor": 1
}

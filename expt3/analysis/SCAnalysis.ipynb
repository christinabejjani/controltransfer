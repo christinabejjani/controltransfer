{
 "cells": [
  {
   "cell_type": "markdown",
   "metadata": {},
   "source": [
    "# Information on How These Data Are Organized:\n",
    "\n",
    "`TypeOfResponse` refers to whether participants pressed a button (\"SCResp\") or did not press a button (\"SCRespITI\") within the given time frame.\n",
    "\n",
    "`Version` refers to the task version. I never changed the JS code; I merely changed which face/house was labeled as S1_1, S1_2, S1_3, or S1_4 in respective task folders.\n",
    "\n",
    "`LogCounter` gets added to whenever the JS records a new datapoint.\n",
    "\n",
    "`TrialCounter` gets added to whenever a new trial has started. This is reset at the start of each block.\n",
    "\n",
    "`MatrixCounter` gets added to throughout the task and is never reset. It is what I use to call Stimuli #s.\n",
    "\n",
    "`RunCounter` refers to the run: 0 is run 1, 1 is run 2, 2 is run 3, and 3 is run 4.\n",
    "\n",
    "`CongruentCounter` marks any time a congruent trial occurred; `IncongruentCounter` an incongruent trial.\n",
    "\n",
    "`StimPresented` refers to which scene was presented before the trial. This is in reference to the main manipulation of the S-C association phase, whereby particular scenes are more likely to precede specific proportions of congruent/incongruent trials.\n",
    "\n",
    "`StimProbAll` refers to my matrix of possible trial types. So it indicates whether \"RED\" will be shown in red, etc.\n",
    "\n",
    "`TrialType` also marks incongruent/congruent trials.\n",
    "\n",
    "`StroopNum` refers to the Stroop Stimuli: 1 is BLUE in BLUE; 2 RED in RED; 3 GREEN in GREEN; 4 YELLOW in YELLOW; 6 BLUE in YELLOW; 10 RED in GREEN; 12 YELLOW in BLUE; 14 GREEN in RED. This is in reference to a key manipulation of this experiment, whereby the scenes are now associated with particular percentages of Stroop Stimuli. Two are unbiased (blue/yellow) such that they will appear in congruent and incongruent colors half of the time, while two are biased (red/green) such that they will always appear as congruent or incongruent, depending on the particular S2 image presented.\n",
    "\n",
    "`PressCorrect` refers to the button that participants should press on that trial. This is how I define accuracy (i.e., correct: when PressCorrect = actualkeyPressed).\n",
    "\n",
    "`ResponseMatrix` refers to which key is pressed; this is a redundant variable and was used to make sure that each key had been required an equal number of times throughout the task.\n",
    "\n",
    "`ActualKeyPressed` is what key subjects pressed.\n",
    "\n",
    "`Accuracy` & `RT` self-explanatory.\n",
    "\n",
    "`FeedbackType` refers to whether they got correct as fb, incorrect as fb, or the fb time-out.\n",
    "\n",
    "`runStart` refers to the initiation of the countdown to begin the task.\n",
    "\n",
    "`ImagePresent` refers to when scene was presented.\n",
    "\n",
    "`StimTime` refers to when the color word was presented.\n",
    "\n",
    "`ColorTime` refers to when the color of the color word was presented.\n",
    "\n",
    "`RespOnset` refers to when a response was made.\n",
    "\n",
    "`AccCount` is how I give subjects accurate fb of their performance at the end of each run (i.e., a counter that gets added to after each correct trial & is divided by trial #).\n",
    "\n",
    "`Subject` self-explanatory.\n",
    "\n",
    "Some other labels aren't coded in the JS: `Sequential` refers to whether a trial was the same (0) as before, changed to incongruent or congruent on the next trial, etc., and `StimRep` looks for direct repetitions in the StimProbAll matrix. These were coded in Matlab and added to the CSV file.\n",
    "\n",
    "---"
   ]
  },
  {
   "cell_type": "markdown",
   "metadata": {},
   "source": [
    "### Here we'll just import Python specific packages and read in our data."
   ]
  },
  {
   "cell_type": "code",
   "execution_count": 1,
   "metadata": {
    "collapsed": true
   },
   "outputs": [],
   "source": [
    "import numpy as np\n",
    "import pandas as pd\n",
    "import matplotlib.pyplot as plt\n",
    "import seaborn as sns\n",
    "import pylab as plb\n",
    "import math\n",
    "from scipy import stats\n",
    "\n",
    "%matplotlib notebook "
   ]
  },
  {
   "cell_type": "code",
   "execution_count": 2,
   "metadata": {},
   "outputs": [
    {
     "name": "stdout",
     "output_type": "stream",
     "text": [
      "C:\\Users\\cb383\\Desktop\\YearTwo\\controlwork\\SCP_R\\data\n"
     ]
    }
   ],
   "source": [
    "%cd C:\\Users\\cb383\\Desktop\\YearTwo\\controlwork\\SCP_R\\data    \n",
    "dat = pd.read_csv('AllSubsSC.csv')"
   ]
  },
  {
   "cell_type": "markdown",
   "metadata": {},
   "source": [
    "# Do Some Basic Cleaning"
   ]
  },
  {
   "cell_type": "markdown",
   "metadata": {},
   "source": [
    "#### We are filtering and preparing the data for analysis.\n",
    "\n",
    "FOR REACTION TIMES:\n",
    "\n",
    "-Select only `TypeOfResponse` equal to `Resp` (`ITI Resp` is when subs didn't respond).\n",
    "\n",
    "-Only take the RTs that are greater than 200ms and less than 800 ms (b/c 200 ms, the color-word is black).\n",
    "\n",
    "-Only take the RTs on accurate trials.\n",
    "\n",
    "-Only take trials where the stimulus didn't repeat.\n",
    "\n",
    "\n",
    "FOR ACCURACY:\n",
    "\n",
    "-All errors are errors"
   ]
  },
  {
   "cell_type": "code",
   "execution_count": 3,
   "metadata": {
    "collapsed": true
   },
   "outputs": [],
   "source": [
    "cdat = dat.query('(TypeOfResponse != \"SCRespITI\") & (RT > 200) & (RT < 800) & (Accuracy != 0) & (StimRep != 1)').copy()\n",
    "adat = dat.copy()"
   ]
  },
  {
   "cell_type": "markdown",
   "metadata": {},
   "source": [
    "#### Now I'm making columns in the data based off my variables so that analysis will be easier."
   ]
  },
  {
   "cell_type": "code",
   "execution_count": 4,
   "metadata": {
    "collapsed": true
   },
   "outputs": [],
   "source": [
    "adat['DemandCue'] = adat['StimPresented'].isin([1, 2])\n",
    "adat.loc[adat['StimPresented'].isin([1, 2]), 'DemandCue'] = 'High'\n",
    "adat.loc[~adat['StimPresented'].isin([1, 2]), 'DemandCue'] = 'Low'\n",
    "\n",
    "adat['Congruency'] = adat['TrialType'].isin([1])\n",
    "adat.loc[adat['TrialType'].isin([1]),'Congruency'] = 'Incongruent'\n",
    "adat.loc[~adat['TrialType'].isin([1]),'Congruency'] = 'Congruent'\n",
    "\n",
    "adat['FreqBias'] = adat['StroopNumber'].isin([1])\n",
    "adat.loc[adat['StroopNumber'].isin([2,3,10,14]),'FreqBias'] = 'FreqBiased'\n",
    "adat.loc[adat['StroopNumber'].isin([1,4,6,12]),'FreqBias'] = 'FreqUnbiased'\n",
    "\n",
    "cdat['DemandCue'] = cdat['StimPresented'].isin([1, 2])\n",
    "cdat.loc[cdat['StimPresented'].isin([1, 2]), 'DemandCue'] = 'High'\n",
    "cdat.loc[~cdat['StimPresented'].isin([1, 2]), 'DemandCue'] = 'Low'\n",
    "\n",
    "cdat['Congruency'] = cdat['TrialType'].isin([1])\n",
    "cdat.loc[cdat['TrialType'].isin([1]),'Congruency'] = 'Incongruent'\n",
    "cdat.loc[~cdat['TrialType'].isin([1]),'Congruency'] = 'Congruent'\n",
    "\n",
    "cdat['FreqBias'] = cdat['StroopNumber'].isin([1])\n",
    "cdat.loc[cdat['StroopNumber'].isin([2,3,10,14]),'FreqBias'] = 'FreqBiased'\n",
    "cdat.loc[cdat['StroopNumber'].isin([1,4,6,12]),'FreqBias'] = 'FreqUnbiased'"
   ]
  },
  {
   "cell_type": "code",
   "execution_count": 5,
   "metadata": {
    "collapsed": true
   },
   "outputs": [],
   "source": [
    "adat['ContextCong'] = adat['DemandCue'].isin(['High']) & adat['TrialType'].isin([1])\n",
    "adat.loc[(adat['DemandCue'].isin(['High']) & adat['TrialType'].isin([1])), 'ContextCong'] = 'HighIC'\n",
    "adat.loc[(adat['DemandCue'].isin(['Low']) & adat['TrialType'].isin([1])), 'ContextCong'] = 'LowIC'\n",
    "adat.loc[(adat['DemandCue'].isin(['High']) & adat['TrialType'].isin([2])), 'ContextCong'] = 'HighC'\n",
    "adat.loc[(adat['DemandCue'].isin(['Low']) & adat['TrialType'].isin([2])), 'ContextCong'] = 'LowC'\n",
    "\n",
    "cdat['ContextCong'] = cdat['DemandCue'].isin(['High']) & cdat['TrialType'].isin([1])\n",
    "cdat.loc[(cdat['DemandCue'].isin(['High']) & cdat['TrialType'].isin([1])), 'ContextCong'] = 'HighIC'\n",
    "cdat.loc[(cdat['DemandCue'].isin(['Low']) & cdat['TrialType'].isin([1])), 'ContextCong'] = 'LowIC'\n",
    "cdat.loc[(cdat['DemandCue'].isin(['High']) & cdat['TrialType'].isin([2])), 'ContextCong'] = 'HighC'\n",
    "cdat.loc[(cdat['DemandCue'].isin(['Low']) & cdat['TrialType'].isin([2])), 'ContextCong'] = 'LowC'"
   ]
  },
  {
   "cell_type": "markdown",
   "metadata": {},
   "source": [
    "# Look at Mean Cueing Effects"
   ]
  },
  {
   "cell_type": "markdown",
   "metadata": {},
   "source": [
    "### We are looking here specifically at our frequency-unbiased stimuli to see whether we find an interaction between control-demand cue and congruency, such that people use the cues to modulate Stroop congruency. Namely, we would predict that people would have a smaller difference between the Stroop trial types for the \"high\" compared to \"low\" control-demand cue. This would result from learning to associate a state of higher attentional focus with the high control-demand cue, which in turn means more efficient processing - or responding quicker to incongruent trials and potentially slower to congruent trials.\n",
    "\n",
    "### If we find reduced congruency effects for the frequency biased stimuli, that would suggest that people are learning stimulus-response contingencies. If we find both reduced congruency effects for frequency-biased and frequency-unbiased stimuli, that would suggest that people do indeed learn stimulus-response contingencies, but that they don't drive our conditioned control-demand effect."
   ]
  },
  {
   "cell_type": "code",
   "execution_count": 6,
   "metadata": {},
   "outputs": [
    {
     "data": {
      "text/plain": [
       "ContextCong\n",
       "HighC     478.677654\n",
       "HighIC    557.532881\n",
       "LowC      474.930654\n",
       "LowIC     567.216231\n",
       "Name: RT, dtype: float64"
      ]
     },
     "execution_count": 6,
     "metadata": {},
     "output_type": "execute_result"
    }
   ],
   "source": [
    "sub_RTmeans = cdat.loc[cdat['FreqBias'] == 'FreqUnbiased'].groupby(['subject','ContextCong'])['RT'].mean()\n",
    "RTgrpmean = pd.Series.mean(sub_RTmeans,level=1)\n",
    "RTgrpmean"
   ]
  },
  {
   "cell_type": "code",
   "execution_count": 7,
   "metadata": {},
   "outputs": [
    {
     "data": {
      "text/plain": [
       "ContextCong\n",
       "HighC     36.448175\n",
       "HighIC    34.503738\n",
       "LowC      35.144979\n",
       "LowIC     31.226809\n",
       "Name: RT, dtype: float64"
      ]
     },
     "execution_count": 7,
     "metadata": {},
     "output_type": "execute_result"
    }
   ],
   "source": [
    "RTgrpstd = pd.Series.std(sub_RTmeans,level=1)\n",
    "RTgrpstd"
   ]
  },
  {
   "cell_type": "code",
   "execution_count": 8,
   "metadata": {},
   "outputs": [
    {
     "data": {
      "text/plain": [
       "ContextCong\n",
       "HighC     5.494769\n",
       "HighIC    5.201634\n",
       "LowC      5.298305\n",
       "LowIC     4.707619\n",
       "Name: RT, dtype: float64"
      ]
     },
     "execution_count": 8,
     "metadata": {},
     "output_type": "execute_result"
    }
   ],
   "source": [
    "n = math.sqrt(44)\n",
    "RTstderror = RTgrpstd / n\n",
    "RTstderror"
   ]
  },
  {
   "cell_type": "markdown",
   "metadata": {},
   "source": [
    "#### Looking good for the frequency unbiased stimuli - what of the frequency biased stimuli? Do they generally have a smaller congruency difference?"
   ]
  },
  {
   "cell_type": "code",
   "execution_count": 9,
   "metadata": {},
   "outputs": [
    {
     "data": {
      "text/plain": [
       "ContextCong\n",
       "HighIC    582.213313\n",
       "LowC      519.377019\n",
       "Name: RT, dtype: float64"
      ]
     },
     "execution_count": 9,
     "metadata": {},
     "output_type": "execute_result"
    }
   ],
   "source": [
    "sub_RTmeans_Bias = cdat.loc[cdat['FreqBias'] == 'FreqBiased'].groupby(['subject','ContextCong'])['RT'].mean()\n",
    "RTgrpmean_Bias = pd.Series.mean(sub_RTmeans_Bias,level=1)\n",
    "RTgrpmean_Bias"
   ]
  },
  {
   "cell_type": "code",
   "execution_count": 10,
   "metadata": {
    "collapsed": true
   },
   "outputs": [],
   "source": [
    "RTgrpstd_Bias = pd.Series.std(sub_RTmeans_Bias,level=1)\n",
    "n = math.sqrt(44)\n",
    "RTstderror_Bias = RTgrpstd_Bias / n"
   ]
  },
  {
   "cell_type": "markdown",
   "metadata": {},
   "source": [
    "#### Indeed, the congruency for the frequency biased stimuli is smaller than either that following the high or low demand cue, and the congruency following the high demand cue (557 - 478) is smaller than that following the low demand cue (567 - 474). We will test the significance of these differences later.\n",
    "\n",
    "#### Now, what of Accuracy?"
   ]
  },
  {
   "cell_type": "code",
   "execution_count": 11,
   "metadata": {},
   "outputs": [
    {
     "data": {
      "text/plain": [
       "ContextCong\n",
       "HighC     0.938920\n",
       "HighIC    0.890625\n",
       "LowC      0.928267\n",
       "LowIC     0.900568\n",
       "Name: Accuracy, dtype: float64"
      ]
     },
     "execution_count": 11,
     "metadata": {},
     "output_type": "execute_result"
    }
   ],
   "source": [
    "sub_ACCmeans = adat.loc[adat['FreqBias'] == 'FreqUnbiased'].groupby(['subject','ContextCong'])['Accuracy'].mean()\n",
    "ACCgrpmean = pd.Series.mean(sub_ACCmeans,level=1)\n",
    "ACCgrpmean"
   ]
  },
  {
   "cell_type": "code",
   "execution_count": 12,
   "metadata": {},
   "outputs": [
    {
     "data": {
      "text/plain": [
       "ContextCong\n",
       "HighC     0.055964\n",
       "HighIC    0.068895\n",
       "LowC      0.072455\n",
       "LowIC     0.075131\n",
       "Name: Accuracy, dtype: float64"
      ]
     },
     "execution_count": 12,
     "metadata": {},
     "output_type": "execute_result"
    }
   ],
   "source": [
    "ACCgrpstd = pd.Series.std(sub_ACCmeans,level=1)\n",
    "ACCgrpstd"
   ]
  },
  {
   "cell_type": "code",
   "execution_count": 13,
   "metadata": {},
   "outputs": [
    {
     "data": {
      "text/plain": [
       "ContextCong\n",
       "HighC     0.008437\n",
       "HighIC    0.010386\n",
       "LowC      0.010923\n",
       "LowIC     0.011326\n",
       "Name: Accuracy, dtype: float64"
      ]
     },
     "execution_count": 13,
     "metadata": {},
     "output_type": "execute_result"
    }
   ],
   "source": [
    "n = math.sqrt(44)\n",
    "ACCstderror = ACCgrpstd / n\n",
    "ACCstderror"
   ]
  },
  {
   "cell_type": "code",
   "execution_count": 14,
   "metadata": {},
   "outputs": [
    {
     "data": {
      "text/plain": [
       "ContextCong\n",
       "HighIC    0.814986\n",
       "LowC      0.852273\n",
       "Name: Accuracy, dtype: float64"
      ]
     },
     "execution_count": 14,
     "metadata": {},
     "output_type": "execute_result"
    }
   ],
   "source": [
    "sub_ACCmeans_Bias = adat.loc[adat['FreqBias'] == 'FreqBiased'].groupby(['subject','ContextCong'])['Accuracy'].mean()\n",
    "ACCgrpmean_Bias = pd.Series.mean(sub_ACCmeans_Bias,level=1)\n",
    "ACCgrpmean_Bias"
   ]
  },
  {
   "cell_type": "code",
   "execution_count": 15,
   "metadata": {
    "collapsed": true
   },
   "outputs": [],
   "source": [
    "ACCgrpstd_Bias = pd.Series.std(sub_ACCmeans_Bias,level=1)\n",
    "n = math.sqrt(44)\n",
    "ACCstderror_Bias = ACCgrpstd_Bias / n"
   ]
  },
  {
   "cell_type": "markdown",
   "metadata": {},
   "source": [
    "#### Interestingly, we find a different pattern for accuracy: the congruency difference following the low demand cue is smaller than that following the high demand cue, yet the difference for the frequency biased stimuli is not smaller than that following the low demand cue. For the frequency-unbiased stimuli, this appears to occur in large part because of a big increase in accuracy for congruent trials following the high-demand cue.\n",
    "\n",
    "#### Let's dig a little deeper now."
   ]
  },
  {
   "cell_type": "markdown",
   "metadata": {},
   "source": [
    "# Creating Variables to Run Statistics & Graph Data"
   ]
  },
  {
   "cell_type": "markdown",
   "metadata": {},
   "source": [
    "#### This is a Python set of analyses, where the data above are organized in what's called \"long-form\" and to run statistics, I need \"wide-form\" data. So I am creating a new \"dataframe\" with the RT and accuracy means for congruent & incongruent trials, after presentation of the low & high control-demand cue, for each subject."
   ]
  },
  {
   "cell_type": "code",
   "execution_count": 16,
   "metadata": {
    "collapsed": true
   },
   "outputs": [],
   "source": [
    "RTanalysis_Bias = pd.DataFrame()\n",
    "bias_lists = [[] for list in range(0,7)]\n",
    "FreqBiasStim = cdat[cdat.FreqBias =='FreqBiased'];\n",
    "\n",
    "for ID in range(1,55):\n",
    "    sub = FreqBiasStim[FreqBiasStim.subject == ID]\n",
    "    bias_lists[0].append(ID)\n",
    "    LowCRT_trials = sub[sub.ContextCong == 'LowC'].RT.mean()\n",
    "    HighICRT_trials = sub[sub.ContextCong == 'HighIC'].RT.mean()    \n",
    "    bias_lists[1].append(LowCRT_trials)\n",
    "    bias_lists[2].append(HighICRT_trials)\n",
    "    \n",
    "RTanalysis_Bias['SubjectID'] = bias_lists[0]\n",
    "RTanalysis_Bias['LowC'] = bias_lists[1]\n",
    "RTanalysis_Bias['HighIC'] = bias_lists[2]"
   ]
  },
  {
   "cell_type": "code",
   "execution_count": 17,
   "metadata": {
    "collapsed": true
   },
   "outputs": [],
   "source": [
    "RTanalysis_unbias = pd.DataFrame()\n",
    "unbias_lists = [[] for list in range(0,7)]\n",
    "FreqUnBiasStim = cdat[cdat.FreqBias =='FreqUnbiased'];\n",
    "\n",
    "for ID in range(1,55):\n",
    "    sub = FreqUnBiasStim[FreqUnBiasStim.subject == ID]\n",
    "    unbias_lists[0].append(ID)\n",
    "    LowCRT_trials = sub[sub.ContextCong == 'LowC'].RT.mean()\n",
    "    LowICRT_trials = sub[sub.ContextCong == 'LowIC'].RT.mean()\n",
    "    HighCRT_trials = sub[sub.ContextCong == 'HighC'].RT.mean()\n",
    "    HighICRT_trials = sub[sub.ContextCong == 'HighIC'].RT.mean()    \n",
    "    unbias_lists[1].append(LowCRT_trials)\n",
    "    unbias_lists[2].append(LowICRT_trials)\n",
    "    unbias_lists[3].append(HighCRT_trials)\n",
    "    unbias_lists[4].append(HighICRT_trials)\n",
    "    \n",
    "RTanalysis_unbias['SubjectID'] = unbias_lists[0]\n",
    "RTanalysis_unbias['LowC'] = unbias_lists[1]\n",
    "RTanalysis_unbias['LowIC'] = unbias_lists[2]\n",
    "RTanalysis_unbias['HighC'] = unbias_lists[3]\n",
    "RTanalysis_unbias['HighIC'] = unbias_lists[4]"
   ]
  },
  {
   "cell_type": "code",
   "execution_count": 18,
   "metadata": {
    "collapsed": true
   },
   "outputs": [],
   "source": [
    "ACCanalysis_Bias = pd.DataFrame()\n",
    "bias_acclists = [[] for list in range(0,7)]\n",
    "FreqBiasACCStim = adat[adat.FreqBias =='FreqBiased'];\n",
    "\n",
    "for ID in range(1,55):\n",
    "    sub = FreqBiasACCStim[FreqBiasACCStim.subject == ID]\n",
    "    bias_acclists[0].append(ID)\n",
    "    LowCACC_trials = sub[sub.ContextCong == 'LowC'].Accuracy.mean()\n",
    "    HighICACC_trials = sub[sub.ContextCong == 'HighIC'].Accuracy.mean()    \n",
    "    bias_acclists[1].append(LowCACC_trials)\n",
    "    bias_acclists[2].append(HighICACC_trials)\n",
    "    \n",
    "ACCanalysis_Bias['SubjectID'] = bias_acclists[0]\n",
    "ACCanalysis_Bias['LowC'] = bias_acclists[1]\n",
    "ACCanalysis_Bias['HighIC'] = bias_acclists[2]"
   ]
  },
  {
   "cell_type": "code",
   "execution_count": 19,
   "metadata": {
    "collapsed": true
   },
   "outputs": [],
   "source": [
    "ACCanalysis_unbias = pd.DataFrame()\n",
    "unbias_acclists = [[] for list in range(0,7)]\n",
    "FreqUnBiasACCStim = adat[adat.FreqBias =='FreqUnbiased'];\n",
    "\n",
    "for ID in range(1,55):\n",
    "    sub = FreqUnBiasACCStim[FreqUnBiasACCStim.subject == ID]\n",
    "    unbias_acclists[0].append(ID)\n",
    "    LowCACC_trials = sub[sub.ContextCong == 'LowC'].Accuracy.mean()\n",
    "    LowICACC_trials = sub[sub.ContextCong == 'LowIC'].Accuracy.mean()\n",
    "    HighCACC_trials = sub[sub.ContextCong == 'HighC'].Accuracy.mean()\n",
    "    HighICACC_trials = sub[sub.ContextCong == 'HighIC'].Accuracy.mean()    \n",
    "    unbias_acclists[1].append(LowCACC_trials)\n",
    "    unbias_acclists[2].append(LowICACC_trials)\n",
    "    unbias_acclists[3].append(HighCACC_trials)\n",
    "    unbias_acclists[4].append(HighICACC_trials)\n",
    "    \n",
    "ACCanalysis_unbias['SubjectID'] = unbias_acclists[0]\n",
    "ACCanalysis_unbias['LowC'] = unbias_acclists[1]\n",
    "ACCanalysis_unbias['LowIC'] = unbias_acclists[2]\n",
    "ACCanalysis_unbias['HighC'] = unbias_acclists[3]\n",
    "ACCanalysis_unbias['HighIC'] = unbias_acclists[4]"
   ]
  },
  {
   "cell_type": "markdown",
   "metadata": {},
   "source": [
    "##### now for run as well; this will be primarily for the confidence intervals at the end"
   ]
  },
  {
   "cell_type": "code",
   "execution_count": 20,
   "metadata": {
    "collapsed": true
   },
   "outputs": [],
   "source": [
    "RTrunanalysis_Bias = pd.DataFrame()\n",
    "bias_lists = [[] for list in range(0,7)]\n",
    "FreqBiasStim = cdat[cdat.FreqBias =='FreqBiased']\n",
    "\n",
    "for ID in range(1,55):\n",
    "    sub = FreqBiasStim[FreqBiasStim.subject == ID]\n",
    "    for runID in range(0,4):\n",
    "        run = sub[sub.RunCounter == runID]\n",
    "        bias_lists[0].append(ID)\n",
    "        bias_lists[1].append(runID)\n",
    "        LowCRT_trials = run[run.ContextCong == 'LowC'].RT.mean()\n",
    "        HighICRT_trials = run[run.ContextCong == 'HighIC'].RT.mean()\n",
    "        bias_lists[2].append(LowCRT_trials)\n",
    "        bias_lists[3].append(HighICRT_trials)\n",
    "    \n",
    "RTrunanalysis_Bias['SubjectID'] = bias_lists[0]\n",
    "RTrunanalysis_Bias['Run'] = bias_lists[1]\n",
    "RTrunanalysis_Bias['LowC'] = bias_lists[2]\n",
    "RTrunanalysis_Bias['HighIC'] = bias_lists[3]"
   ]
  },
  {
   "cell_type": "code",
   "execution_count": 21,
   "metadata": {
    "collapsed": true
   },
   "outputs": [],
   "source": [
    "RTrunanalysis_unbias = pd.DataFrame()\n",
    "new_RTlists = [[] for list in range(0,8)]\n",
    "FreqUnBiasStim = cdat[cdat.FreqBias =='FreqUnbiased']\n",
    "\n",
    "for ID in range(1,55):\n",
    "    sub = FreqUnBiasStim[FreqUnBiasStim.subject == ID]\n",
    "    for runID in range(0,4):\n",
    "        run = sub[sub.RunCounter == runID]\n",
    "        new_RTlists[0].append(ID)\n",
    "        new_RTlists[1].append(runID)\n",
    "        LowCRT_trials = run[run.ContextCong == 'LowC'].RT.mean()\n",
    "        LowICRT_trials = run[run.ContextCong == 'LowIC'].RT.mean()\n",
    "        HighCRT_trials = run[run.ContextCong == 'HighC'].RT.mean()\n",
    "        HighICRT_trials = run[run.ContextCong == 'HighIC'].RT.mean()    \n",
    "        new_RTlists[2].append(LowCRT_trials)\n",
    "        new_RTlists[3].append(LowICRT_trials)\n",
    "        new_RTlists[4].append(HighCRT_trials)\n",
    "        new_RTlists[5].append(HighICRT_trials)\n",
    "    \n",
    "RTrunanalysis_unbias['SubjectID'] = new_RTlists[0]\n",
    "RTrunanalysis_unbias['Run'] = new_RTlists[1]\n",
    "RTrunanalysis_unbias['LowC'] = new_RTlists[2]\n",
    "RTrunanalysis_unbias['LowIC'] = new_RTlists[3]\n",
    "RTrunanalysis_unbias['HighC'] = new_RTlists[4]\n",
    "RTrunanalysis_unbias['HighIC'] = new_RTlists[5]"
   ]
  },
  {
   "cell_type": "code",
   "execution_count": 22,
   "metadata": {
    "collapsed": true
   },
   "outputs": [],
   "source": [
    "ACCrunanalysis_Bias = pd.DataFrame()\n",
    "bias_lists = [[] for list in range(0,7)]\n",
    "FreqBiasStim = adat[adat.FreqBias =='FreqBiased']\n",
    "\n",
    "for ID in range(1,55):\n",
    "    sub = FreqBiasStim[FreqBiasStim.subject == ID]\n",
    "    for runID in range(0,4):\n",
    "        run = sub[sub.RunCounter == runID]\n",
    "        bias_lists[0].append(ID)\n",
    "        bias_lists[1].append(runID)\n",
    "        LowCRT_trials = run[run.ContextCong == 'LowC'].Accuracy.mean()\n",
    "        HighICRT_trials = run[run.ContextCong == 'HighIC'].Accuracy.mean()\n",
    "        bias_lists[2].append(LowCRT_trials)\n",
    "        bias_lists[3].append(HighICRT_trials)\n",
    "    \n",
    "ACCrunanalysis_Bias['SubjectID'] = bias_lists[0]\n",
    "ACCrunanalysis_Bias['Run'] = bias_lists[1]\n",
    "ACCrunanalysis_Bias['LowC'] = bias_lists[2]\n",
    "ACCrunanalysis_Bias['HighIC'] = bias_lists[3]"
   ]
  },
  {
   "cell_type": "code",
   "execution_count": 23,
   "metadata": {
    "collapsed": true
   },
   "outputs": [],
   "source": [
    "ACCrunanalysis_unbias = pd.DataFrame()\n",
    "new_acclists = [[] for list in range(0,8)]\n",
    "FreqUnBiasStim = adat[adat.FreqBias =='FreqUnbiased'];\n",
    "\n",
    "for ID in range(1,55):\n",
    "    sub = FreqUnBiasStim[FreqUnBiasStim.subject == ID]\n",
    "    for runID in range(0,4):\n",
    "        run = sub[sub.RunCounter == runID]\n",
    "        new_acclists[0].append(ID)\n",
    "        new_acclists[1].append(runID)\n",
    "        LowCACC_trials = run[run.ContextCong == 'LowC'].Accuracy.mean()\n",
    "        LowICACC_trials = run[run.ContextCong == 'LowIC'].Accuracy.mean()\n",
    "        HighCACC_trials = run[run.ContextCong == 'HighC'].Accuracy.mean()\n",
    "        HighICACC_trials = run[run.ContextCong == 'HighIC'].Accuracy.mean()    \n",
    "        new_acclists[2].append(LowCACC_trials)\n",
    "        new_acclists[3].append(LowICACC_trials)\n",
    "        new_acclists[4].append(HighCACC_trials)\n",
    "        new_acclists[5].append(HighICACC_trials)\n",
    "    \n",
    "ACCrunanalysis_unbias['SubjectID'] = new_acclists[0]\n",
    "ACCrunanalysis_unbias['Run'] = new_acclists[1]\n",
    "ACCrunanalysis_unbias['LowC'] = new_acclists[2]\n",
    "ACCrunanalysis_unbias['LowIC'] = new_acclists[3]\n",
    "ACCrunanalysis_unbias['HighC'] = new_acclists[4]\n",
    "ACCrunanalysis_unbias['HighIC'] = new_acclists[5]"
   ]
  },
  {
   "cell_type": "code",
   "execution_count": 24,
   "metadata": {
    "collapsed": true
   },
   "outputs": [],
   "source": [
    "#filtering out the empty subject cells (subjects excluded or whose data is missing)\n",
    "\n",
    "RTanalysis_Bias = RTanalysis_Bias.query('(SubjectID != 50) & (SubjectID != 44) & (SubjectID != 32) & (SubjectID != 31) & (SubjectID != 3) & (SubjectID != 16) & (SubjectID != 17) & (SubjectID != 20) & (SubjectID != 27) & (SubjectID != 30)').copy()\n",
    "RTanalysis_unbias = RTanalysis_unbias.query('(SubjectID != 50) & (SubjectID != 44) & (SubjectID != 32) & (SubjectID != 31) & (SubjectID != 3) & (SubjectID != 16) & (SubjectID != 17) & (SubjectID != 20) & (SubjectID != 27) & (SubjectID != 30)').copy()\n",
    "ACCanalysis_Bias = ACCanalysis_Bias.query('(SubjectID != 50) & (SubjectID != 44) & (SubjectID != 32) & (SubjectID != 31) & (SubjectID != 3) & (SubjectID != 16) & (SubjectID != 17) & (SubjectID != 20) & (SubjectID != 27) & (SubjectID != 30)').copy()\n",
    "ACCanalysis_unbias = ACCanalysis_unbias.query('(SubjectID != 50) & (SubjectID != 44) & (SubjectID != 32) & (SubjectID != 31) & (SubjectID != 3) & (SubjectID != 16) & (SubjectID != 17) & (SubjectID != 20) & (SubjectID != 27) & (SubjectID != 30)').copy()\n",
    "RTrunanalysis_Bias = RTrunanalysis_Bias.query('(SubjectID != 50) & (SubjectID != 44) & (SubjectID != 32) & (SubjectID != 31) & (SubjectID != 3) & (SubjectID != 16) & (SubjectID != 17) & (SubjectID != 20) & (SubjectID != 27) & (SubjectID != 30)').copy()\n",
    "RTrunanalysis_unbias = RTrunanalysis_unbias.query('(SubjectID != 50) & (SubjectID != 44) & (SubjectID != 32) & (SubjectID != 31) & (SubjectID != 3) & (SubjectID != 16) & (SubjectID != 17) & (SubjectID != 20) & (SubjectID != 27) & (SubjectID != 30)').copy()\n",
    "ACCrunanalysis_Bias = ACCrunanalysis_Bias.query('(SubjectID != 50) & (SubjectID != 44) & (SubjectID != 32) & (SubjectID != 31) & (SubjectID != 3) & (SubjectID != 16) & (SubjectID != 17) & (SubjectID != 20) & (SubjectID != 27) & (SubjectID != 30)').copy()\n",
    "ACCrunanalysis_unbias = ACCrunanalysis_unbias.query('(SubjectID != 50) & (SubjectID != 44) & (SubjectID != 32) & (SubjectID != 31) & (SubjectID != 3) & (SubjectID != 16) & (SubjectID != 17) & (SubjectID != 20) & (SubjectID != 27) & (SubjectID != 30)').copy()"
   ]
  },
  {
   "cell_type": "markdown",
   "metadata": {},
   "source": [
    "# Run Actual Statistics"
   ]
  },
  {
   "cell_type": "markdown",
   "metadata": {},
   "source": [
    "#### For the S-C phase, we run a repeated-measures ANOVA comparing RTs and accuracies for control-demand cue (low/high) & congruency (congruent/incongruent) & run (4), especially for frequency-unbiased stimuli. For frequency-biased stimuli, we can look at the congruency differences for them vs. for the unbiased stimuli following each cue.\n",
    "\n",
    "Unfortunately, Python does not have the capability for repeated-measures ANOVA (\"pyvtttbl\" is not as good as other programs), so I will include R code to run the ANOVA. I will also include a \"sneak peak\" below via paired t-tests."
   ]
  },
  {
   "cell_type": "code",
   "execution_count": 25,
   "metadata": {},
   "outputs": [
    {
     "data": {
      "text/plain": [
       "Ttest_relResult(statistic=3.6141156895978792, pvalue=0.00078471136088461917)"
      ]
     },
     "execution_count": 25,
     "metadata": {},
     "output_type": "execute_result"
    }
   ],
   "source": [
    "#sneak peak at the interaction for frequency unbiased stimuli\n",
    "LowCongUnbias = RTanalysis_unbias.LowIC - RTanalysis_unbias.LowC;\n",
    "HighCongUnbias = RTanalysis_unbias.HighIC - RTanalysis_unbias.HighC;\n",
    "stats.ttest_rel(LowCongUnbias, HighCongUnbias)"
   ]
  },
  {
   "cell_type": "code",
   "execution_count": 26,
   "metadata": {},
   "outputs": [
    {
     "data": {
      "text/plain": [
       "Ttest_relResult(statistic=1.6391769149382422, pvalue=0.10847355415752839)"
      ]
     },
     "execution_count": 26,
     "metadata": {},
     "output_type": "execute_result"
    }
   ],
   "source": [
    "LowCongUnbiasACC = ACCanalysis_unbias.LowIC - ACCanalysis_unbias.LowC;\n",
    "HighCongUnbiasACC = ACCanalysis_unbias.HighIC - ACCanalysis_unbias.HighC;\n",
    "stats.ttest_rel(LowCongUnbiasACC, HighCongUnbiasACC)"
   ]
  },
  {
   "cell_type": "code",
   "execution_count": 27,
   "metadata": {
    "collapsed": true
   },
   "outputs": [],
   "source": [
    "BiasRT = RTanalysis_Bias.HighIC - RTanalysis_Bias.LowC\n",
    "BiasACC = ACCanalysis_Bias.HighIC - ACCanalysis_Bias.LowC"
   ]
  },
  {
   "cell_type": "code",
   "execution_count": 28,
   "metadata": {},
   "outputs": [
    {
     "data": {
      "text/plain": [
       "Ttest_relResult(statistic=-3.378538302058772, pvalue=0.0015579281354313652)"
      ]
     },
     "execution_count": 28,
     "metadata": {},
     "output_type": "execute_result"
    }
   ],
   "source": [
    "#testing whether frequency-biased congruency < congruency following high demand cue for frequency-unbiased stim\n",
    "stats.ttest_rel(BiasRT, HighCongUnbias)"
   ]
  },
  {
   "cell_type": "code",
   "execution_count": 29,
   "metadata": {},
   "outputs": [
    {
     "data": {
      "text/plain": [
       "Ttest_relResult(statistic=-6.030752504338647, pvalue=3.2985927750121564e-07)"
      ]
     },
     "execution_count": 29,
     "metadata": {},
     "output_type": "execute_result"
    }
   ],
   "source": [
    "#testing whether frequency-biased congruency < congruency following low demand cue for frequency-unbiased stim\n",
    "stats.ttest_rel(BiasRT, LowCongUnbias)"
   ]
  },
  {
   "cell_type": "code",
   "execution_count": 30,
   "metadata": {},
   "outputs": [
    {
     "data": {
      "text/plain": [
       "Ttest_relResult(statistic=0.898566086898826, pvalue=0.37388806742045633)"
      ]
     },
     "execution_count": 30,
     "metadata": {},
     "output_type": "execute_result"
    }
   ],
   "source": [
    "#testing whether frequency-biased congruency < congruency following high demand cue for frequency-unbiased stim\n",
    "stats.ttest_rel(BiasACC, HighCongUnbiasACC)"
   ]
  },
  {
   "cell_type": "code",
   "execution_count": 31,
   "metadata": {},
   "outputs": [
    {
     "data": {
      "text/plain": [
       "Ttest_relResult(statistic=-0.68633121429205179, pvalue=0.4961887096376042)"
      ]
     },
     "execution_count": 31,
     "metadata": {},
     "output_type": "execute_result"
    }
   ],
   "source": [
    "#testing whether frequency-biased congruency < congruency following low demand cue for frequency-unbiased stim\n",
    "stats.ttest_rel(BiasACC, LowCongUnbiasACC)"
   ]
  },
  {
   "cell_type": "markdown",
   "metadata": {},
   "source": [
    "Here: I'm storing the congruency differences from the control-demand cues to compare them with S-CT effects."
   ]
  },
  {
   "cell_type": "code",
   "execution_count": 32,
   "metadata": {
    "collapsed": true
   },
   "outputs": [],
   "source": [
    "SCRTcueing = LowCongUnbias - HighCongUnbias;\n",
    "SCRTcueing = SCRTcueing.reset_index()\n",
    "SCRTcueing.columns = ['index', 'RT']\n",
    "\n",
    "SCRTcueing_Bias = BiasRT;\n",
    "SCRTcueing_Bias = SCRTcueing_Bias.reset_index()\n",
    "SCRTcueing_Bias.columns = ['index', 'RT']\n",
    "\n",
    "SCACCcueing = LowCongUnbiasACC - HighCongUnbiasACC;\n",
    "SCACCcueing = SCACCcueing.reset_index()\n",
    "SCACCcueing.columns = ['index', 'ACC']\n",
    "\n",
    "SCACCcueing_Bias = BiasACC;\n",
    "SCACCcueing_Bias = SCACCcueing_Bias.reset_index()\n",
    "SCACCcueing_Bias.columns = ['index', 'ACC']"
   ]
  },
  {
   "cell_type": "code",
   "execution_count": 34,
   "metadata": {},
   "outputs": [
    {
     "name": "stdout",
     "output_type": "stream",
     "text": [
      "Stored 'overallSCRT' (DataFrame)\n",
      "Stored 'overallSCACC' (DataFrame)\n",
      "Stored 'SCRTcueing' (DataFrame)\n",
      "Stored 'SCRTcueing_Bias' (DataFrame)\n",
      "Stored 'SCACCcueing' (DataFrame)\n",
      "Stored 'SCACCcueing_Bias' (DataFrame)\n"
     ]
    }
   ],
   "source": [
    "overallSCRT = cdat.groupby(['subject'])['RT'].mean().reset_index()\n",
    "overallSCRT = overallSCRT.drop('subject',1);\n",
    "overallSCACC = adat.groupby(['subject'])['Accuracy'].mean().reset_index()\n",
    "overallSCACC = overallSCACC.drop('subject',1);\n",
    "\n",
    "%store overallSCRT\n",
    "%store overallSCACC\n",
    "%store SCRTcueing\n",
    "%store SCRTcueing_Bias\n",
    "%store SCACCcueing\n",
    "%store SCACCcueing_Bias"
   ]
  },
  {
   "cell_type": "code",
   "execution_count": 35,
   "metadata": {},
   "outputs": [
    {
     "data": {
      "text/plain": [
       "LinregressResult(slope=-0.00055317758037310533, intercept=1.1690554231196351, rvalue=-0.23323918619199741, pvalue=0.12758460979259445, stderr=0.0003558705262494559)"
      ]
     },
     "execution_count": 35,
     "metadata": {},
     "output_type": "execute_result"
    }
   ],
   "source": [
    "#checking for a RT/Accuracy trade-off\n",
    "stats.linregress(overallSCRT.RT,overallSCACC.Accuracy)"
   ]
  },
  {
   "cell_type": "markdown",
   "metadata": {},
   "source": [
    "## Running ANOVAs in R"
   ]
  },
  {
   "cell_type": "markdown",
   "metadata": {},
   "source": [
    "First, I need to make the data CSVs that the R script will analyze. Then I will write the necessary R script and run it in another cell here. You'll be able to see the inputs below & I summarize the results there as well. The cont files refer to contingency learning, another section in the manuscript"
   ]
  },
  {
   "cell_type": "code",
   "execution_count": 36,
   "metadata": {},
   "outputs": [
    {
     "name": "stdout",
     "output_type": "stream",
     "text": [
      "C:\\Users\\cb383\\Desktop\\YearTwo\\controlwork\\SCP_R\\data\\csvdata\n"
     ]
    }
   ],
   "source": [
    "%cd csvdata"
   ]
  },
  {
   "cell_type": "code",
   "execution_count": 37,
   "metadata": {
    "collapsed": true
   },
   "outputs": [],
   "source": [
    "AN_sub_RTmeans_UnBias = cdat.loc[cdat['FreqBias'] == 'FreqUnbiased'].groupby(['subject','RunCounter','DemandCue','TrialType'])['RT'].mean();\n",
    "AN_sub_RTmeans_Bias = cdat.loc[cdat['FreqBias'] == 'FreqBiased'].groupby(['subject','RunCounter','ContextCong'])['RT'].mean();\n",
    "AN_sub_RTmeans_Freq = cdat.groupby(['subject','RunCounter','TrialType','FreqBias'])['RT'].mean();\n",
    "AN_sub_ACCmeans_UnBias = adat.loc[adat['FreqBias'] == 'FreqUnbiased'].groupby(['subject','RunCounter','DemandCue','TrialType'])['Accuracy'].mean();\n",
    "AN_sub_ACCmeans_Bias = adat.loc[adat['FreqBias'] == 'FreqBiased'].groupby(['subject','RunCounter','ContextCong'])['Accuracy'].mean();\n",
    "AN_sub_ACCmeans_Freq = adat.groupby(['subject','RunCounter','TrialType','FreqBias'])['Accuracy'].mean();\n",
    "\n",
    "#create tidy data csvs\n",
    "AN_sub_RTmeans_UnBias.to_csv('SC_ANOVA_RT_UnBias.csv')\n",
    "AN_sub_RTmeans_Bias.to_csv('SC_ANOVA_RT_Bias.csv')\n",
    "AN_sub_ACCmeans_UnBias.to_csv('SC_ANOVA_ACC_UnBias.csv')\n",
    "AN_sub_ACCmeans_Bias.to_csv('SC_ANOVA_ACC_Bias.csv')\n",
    "AN_sub_RTmeans_Freq.to_csv('SC_ANOVA_RT_Freq.csv')\n",
    "AN_sub_ACCmeans_Freq.to_csv('SC_ANOVA_ACC_Freq.csv')\n",
    "\n",
    "#create headers for the tidy data csvs, for analysis purposes\n",
    "import csv\n",
    "\n",
    "with open('SC_ANOVA_RT_Bias.csv',newline='') as f:\n",
    "    r = csv.reader(f)\n",
    "    data = [line for line in r]\n",
    "with open('SC_ANOVA_RT_Bias.csv','w',newline='') as f:\n",
    "    w = csv.writer(f)\n",
    "    w.writerow([\"subject\", \"run\", \"contextcong\", \"rt\"])\n",
    "    w.writerows(data)    \n",
    "\n",
    "with open('SC_ANOVA_RT_UnBias.csv',newline='') as f:\n",
    "    r = csv.reader(f)\n",
    "    data = [line for line in r]\n",
    "with open('SC_ANOVA_RT_UnBias.csv','w',newline='') as f:\n",
    "    w = csv.writer(f)\n",
    "    w.writerow([\"subject\", \"run\", \"demandcue\", \"trialtype\", \"rt\"])\n",
    "    w.writerows(data)\n",
    "\n",
    "with open('SC_ANOVA_ACC_Bias.csv',newline='') as f:\n",
    "    r = csv.reader(f)\n",
    "    data = [line for line in r]\n",
    "with open('SC_ANOVA_ACC_Bias.csv','w',newline='') as f:\n",
    "    w = csv.writer(f)\n",
    "    w.writerow([\"subject\", \"run\", \"contextcong\", \"acc\"])\n",
    "    w.writerows(data) \n",
    "    \n",
    "with open('SC_ANOVA_ACC_UnBias.csv',newline='') as f:\n",
    "    r = csv.reader(f)\n",
    "    data = [line for line in r]\n",
    "with open('SC_ANOVA_ACC_UnBias.csv','w',newline='') as f:\n",
    "    w = csv.writer(f)\n",
    "    w.writerow([\"subject\", \"run\", \"demandcue\", \"trialtype\", \"acc\"])\n",
    "    w.writerows(data)\n",
    "    \n",
    "with open('SC_ANOVA_RT_Freq.csv',newline='') as f:\n",
    "    r = csv.reader(f)\n",
    "    data = [line for line in r]\n",
    "with open('SC_ANOVA_RT_Freq.csv','w',newline='') as f:\n",
    "    w = csv.writer(f)\n",
    "    w.writerow([\"subject\", \"run\", \"trialtype\", \"freqbias\", \"rt\"])\n",
    "    w.writerows(data)\n",
    "\n",
    "with open('SC_ANOVA_ACC_Freq.csv',newline='') as f:\n",
    "    r = csv.reader(f)\n",
    "    data = [line for line in r]\n",
    "with open('SC_ANOVA_ACC_Freq.csv','w',newline='') as f:\n",
    "    w = csv.writer(f)\n",
    "    w.writerow([\"subject\", \"run\", \"trialtype\", \"freqbias\", \"acc\"])\n",
    "    w.writerows(data)"
   ]
  },
  {
   "cell_type": "code",
   "execution_count": 38,
   "metadata": {},
   "outputs": [
    {
     "name": "stdout",
     "output_type": "stream",
     "text": [
      "Overwriting SCAnova.R\n"
     ]
    }
   ],
   "source": [
    "%%writefile SCAnova.R\n",
    "\n",
    "rawRTData_UnBias <- read.csv('SC_ANOVA_RT_UnBias.csv')\n",
    "install.packages(\"psych\",repos='https://mirrors.nics.utk.edu/cran/')\n",
    "install.packages(\"ez\",repos='https://mirrors.nics.utk.edu/cran/')\n",
    "library(psych)\n",
    "library(ez)\n",
    "\n",
    "rawRTData_UnBias$subject = as.factor(rawRTData_UnBias$subject)\n",
    "rawRTData_UnBias$run = as.factor(rawRTData_UnBias$run)\n",
    "rawRTData_UnBias$demandcue = as.factor(rawRTData_UnBias$demandcue)\n",
    "rawRTData_UnBias$trialtype = as.factor(rawRTData_UnBias$trialtype)\n",
    "\n",
    "SC_RT_runANOVA_unbias <- ezANOVA(data=as.data.frame(rawRTData_UnBias),\n",
    "                                  dv=rt,\n",
    "                                  wid=subject,\n",
    "                                  within=.(run, demandcue, trialtype),\n",
    "                                  detailed=TRUE)\n",
    "print(SC_RT_runANOVA_unbias)\n",
    "\n",
    "#\n",
    "\n",
    "rawRTData_Freq <- read.csv('SC_ANOVA_RT_Freq.csv')\n",
    "\n",
    "rawRTData_Freq$subject = as.factor(rawRTData_Freq$subject)\n",
    "rawRTData_Freq$run = as.factor(rawRTData_Freq$run)\n",
    "rawRTData_Freq$trialtype = as.factor(rawRTData_Freq$trialtype)\n",
    "rawRTData_Freq$freqbias = as.factor(rawRTData_Freq$freqbias)\n",
    "\n",
    "SC_RT_runANOVA_freq <- ezANOVA(data=as.data.frame(rawRTData_Freq),\n",
    "                                  dv=rt,\n",
    "                                  wid=subject,\n",
    "                                  within=.(run, trialtype, freqbias),\n",
    "                                  detailed=TRUE)\n",
    "print(SC_RT_runANOVA_freq)\n",
    "\n",
    "#\n",
    "\n",
    "rawACCData_UnBias <- read.csv('SC_ANOVA_ACC_UnBias.csv')\n",
    "\n",
    "rawACCData_UnBias$subject = as.factor(rawACCData_UnBias$subject)\n",
    "rawACCData_UnBias$run = as.factor(rawACCData_UnBias$run)\n",
    "rawACCData_UnBias$demandcue = as.factor(rawACCData_UnBias$demandcue)\n",
    "rawACCData_UnBias$trialtype = as.factor(rawACCData_UnBias$trialtype)\n",
    "\n",
    "SC_ACC_runANOVA_unbias <- ezANOVA(data=as.data.frame(rawACCData_UnBias),\n",
    "                                  dv=acc,\n",
    "                                  wid=subject,\n",
    "                                  within=.(run, demandcue, trialtype),\n",
    "                                  detailed=TRUE)\n",
    "print(SC_ACC_runANOVA_unbias)\n",
    "\n",
    "#\n",
    "\n",
    "rawACCData_Freq <- read.csv('SC_ANOVA_ACC_Freq.csv')\n",
    "\n",
    "rawACCData_Freq$subject = as.factor(rawACCData_Freq$subject)\n",
    "rawACCData_Freq$run = as.factor(rawACCData_Freq$run)\n",
    "rawACCData_Freq$trialtype = as.factor(rawACCData_Freq$trialtype)\n",
    "rawACCData_Freq$freqbias = as.factor(rawACCData_Freq$freqbias)\n",
    "\n",
    "SC_ACC_runANOVA_freq <- ezANOVA(data=as.data.frame(rawACCData_Freq),\n",
    "                                  dv=acc,\n",
    "                                  wid=subject,\n",
    "                                  within=.(run, trialtype, freqbias),\n",
    "                                  detailed=TRUE)\n",
    "print(SC_ACC_runANOVA_freq)\n"
   ]
  },
  {
   "cell_type": "code",
   "execution_count": 39,
   "metadata": {},
   "outputs": [
    {
     "name": "stdout",
     "output_type": "stream",
     "text": [
      "package 'psych' successfully unpacked and MD5 sums checked\n",
      "\n",
      "The downloaded binary packages are in\n",
      "\tC:\\Users\\cb383\\AppData\\Local\\Temp\\RtmpoZ3VdS\\downloaded_packages\n",
      "package 'ez' successfully unpacked and MD5 sums checked\n",
      "\n",
      "The downloaded binary packages are in\n",
      "\tC:\\Users\\cb383\\AppData\\Local\\Temp\\RtmpoZ3VdS\\downloaded_packages\n",
      "$ANOVA\n",
      "                   Effect DFn DFd          SSn       SSd            F\n",
      "1             (Intercept)   1  43 1.901655e+08 597724.74 1.368041e+04\n",
      "2                     run   3 129 4.244042e+04 238421.87 7.654239e+00\n",
      "3               demandcue   1  43 1.402412e+03  38511.61 1.565858e+00\n",
      "4               trialtype   1  43 1.289617e+06 153546.95 3.611504e+02\n",
      "5           run:demandcue   3 129 5.337859e+02  98922.85 2.320272e-01\n",
      "6           run:trialtype   3 129 4.711909e+03 108254.93 1.871620e+00\n",
      "7     demandcue:trialtype   1  43 7.445320e+03  30353.60 1.054731e+01\n",
      "8 run:demandcue:trialtype   3 129 2.195152e+03 119195.79 7.919031e-01\n",
      "             p p<.05          ges\n",
      "1 1.767959e-55     * 0.9927698825\n",
      "2 9.504886e-05     * 0.0297332396\n",
      "3 2.175748e-01       0.0010115966\n",
      "4 1.530609e-22     * 0.4821810836\n",
      "5 8.739349e-01       0.0003852753\n",
      "6 1.376101e-01       0.0033907307\n",
      "7 2.259649e-03     * 0.0053471984\n",
      "8 5.005256e-01       0.0015825161\n",
      "\n",
      "$`Mauchly's Test for Sphericity`\n",
      "                   Effect         W          p p<.05\n",
      "2                     run 0.6978786 0.01035676     *\n",
      "5           run:demandcue 0.9706670 0.94079107      \n",
      "6           run:trialtype 0.6985643 0.01053305     *\n",
      "8 run:demandcue:trialtype 0.9770521 0.96507085      \n",
      "\n",
      "$`Sphericity Corrections`\n",
      "                   Effect       GGe        p[GG] p[GG]<.05       HFe\n",
      "2                     run 0.7930159 0.0003749703         * 0.8425709\n",
      "5           run:demandcue 0.9800696 0.8703258374           1.0598256\n",
      "6           run:trialtype 0.8447522 0.1478976895           0.9020575\n",
      "8 run:demandcue:trialtype 0.9855792 0.4989448474           1.0663171\n",
      "         p[HF] p[HF]<.05\n",
      "2 0.0002696545         *\n",
      "5 0.8739349019          \n",
      "6 0.1440429013          \n",
      "8 0.5005255675          \n",
      "\n",
      "$ANOVA\n",
      "                  Effect DFn DFd          SSn       SSd            F\n",
      "1            (Intercept)   1  43 2.018395e+08 551852.47 15727.206864\n",
      "2                    run   3 129 2.853569e+04 190985.25     6.424761\n",
      "3              trialtype   1  43 9.808769e+05 101079.64   417.272040\n",
      "4               freqbias   1  43 1.753855e+05 120816.92    62.421531\n",
      "5          run:trialtype   3 129 5.162655e+03  82416.01     2.693581\n",
      "6           run:freqbias   3 129 4.296275e+03  70846.18     2.607618\n",
      "7     trialtype:freqbias   1  43 2.162622e+04  37401.60    24.863306\n",
      "8 run:trialtype:freqbias   3 129 3.571493e+03  82645.61     1.858226\n",
      "             p p<.05         ges\n",
      "1 8.898474e-57     * 0.993903591\n",
      "2 4.332104e-04     * 0.022529727\n",
      "3 9.284266e-24     * 0.442051373\n",
      "4 6.556137e-10     * 0.124085110\n",
      "5 4.882281e-02     * 0.004152694\n",
      "6 5.445582e-02       0.003458212\n",
      "7 1.058658e-05     * 0.017168165\n",
      "8 1.399244e-01       0.002876490\n",
      "\n",
      "$`Mauchly's Test for Sphericity`\n",
      "                  Effect         W          p p<.05\n",
      "2                    run 0.7823557 0.06879153      \n",
      "5          run:trialtype 0.8785338 0.36884228      \n",
      "6           run:freqbias 0.8548663 0.25709986      \n",
      "8 run:trialtype:freqbias 0.8653515 0.30309131      \n",
      "\n",
      "$`Sphericity Corrections`\n",
      "                  Effect       GGe       p[GG] p[GG]<.05       HFe        p[HF]\n",
      "2                    run 0.8469991 0.000966626         * 0.9046514 0.0007138836\n",
      "5          run:trialtype 0.9153296 0.054129106           0.9839475 0.0497859472\n",
      "6           run:freqbias 0.9014611 0.060902462           0.9677882 0.0564821886\n",
      "8 run:trialtype:freqbias 0.9260632 0.144722430           0.9964771 0.1401502852\n",
      "  p[HF]<.05\n",
      "2         *\n",
      "5         *\n",
      "6          \n",
      "8          \n",
      "\n",
      "$ANOVA\n",
      "                   Effect DFn DFd          SSn       SSd            F\n",
      "1             (Intercept)   1  43 5.888850e+02 2.0535112 1.233110e+04\n",
      "2                     run   3 129 5.635210e-02 1.9856401 1.220332e+00\n",
      "3               demandcue   1  43 2.219460e-05 0.3603294 2.648599e-03\n",
      "4               trialtype   1  43 2.541060e-01 0.5164018 2.115902e+01\n",
      "5           run:demandcue   3 129 7.836914e-02 1.0417480 3.234825e+00\n",
      "6           run:trialtype   3 129 1.036488e-02 1.2933461 3.446021e-01\n",
      "7     demandcue:trialtype   1  43 1.866566e-02 0.2987172 2.686901e+00\n",
      "8 run:demandcue:trialtype   3 129 1.853249e-02 1.2695534 6.276988e-01\n",
      "             p p<.05          ges\n",
      "1 1.636559e-54     * 9.852448e-01\n",
      "2 3.050417e-01       6.349103e-03\n",
      "3 9.591937e-01       2.516603e-06\n",
      "4 3.708898e-05     * 2.800574e-02\n",
      "5 2.450054e-02     * 8.807880e-03\n",
      "6 7.931076e-01       1.173877e-03\n",
      "7 1.084736e-01       2.111999e-03\n",
      "8 5.983884e-01       2.096963e-03\n",
      "\n",
      "$`Mauchly's Test for Sphericity`\n",
      "                   Effect         W          p p<.05\n",
      "2                     run 0.7856667 0.07352772      \n",
      "5           run:demandcue 0.8427245 0.21062879      \n",
      "6           run:trialtype 0.8217396 0.14612727      \n",
      "8 run:demandcue:trialtype 0.8244871 0.15351750      \n",
      "\n",
      "$`Sphericity Corrections`\n",
      "                   Effect       GGe      p[GG] p[GG]<.05       HFe     p[HF]\n",
      "2                     run 0.8896523 0.30440014           0.9540550 0.3048578\n",
      "5           run:demandcue 0.8929605 0.02958528         * 0.9578999 0.0263836\n",
      "6           run:trialtype 0.9059642 0.77332352           0.9730314 0.7876783\n",
      "8 run:demandcue:trialtype 0.8833194 0.57922968           0.9467001 0.5899134\n",
      "  p[HF]<.05\n",
      "2          \n",
      "5         *\n",
      "6          \n",
      "8          \n",
      "\n",
      "$ANOVA\n",
      "                  Effect DFn DFd          SSn       SSd            F\n",
      "1            (Intercept)   1  43 5.379068e+02 3.0443670 7.597636e+03\n",
      "2                    run   3 129 1.949796e-01 1.4690829 5.707045e+00\n",
      "3              trialtype   1  43 2.493786e-01 0.3590199 2.986820e+01\n",
      "4               freqbias   1  43 1.153764e+00 0.7866655 6.306602e+01\n",
      "5          run:trialtype   3 129 2.871982e-02 0.8960849 1.378164e+00\n",
      "6           run:freqbias   3 129 4.691939e-02 0.9638228 2.093262e+00\n",
      "7     trialtype:freqbias   1  43 2.219460e-05 0.2519309 3.788212e-03\n",
      "8 run:trialtype:freqbias   3 129 1.085316e-02 0.8250843 5.656221e-01\n",
      "             p p<.05          ges\n",
      "1 5.201627e-50     * 9.842708e-01\n",
      "2 1.062497e-03     * 2.217936e-02\n",
      "3 2.179631e-06     * 2.819290e-02\n",
      "4 5.739777e-10     * 1.183369e-01\n",
      "5 2.523993e-01       3.329919e-03\n",
      "6 1.042934e-01       5.428614e-03\n",
      "7 9.512076e-01       2.581944e-06\n",
      "8 6.386451e-01       1.260982e-03\n",
      "\n",
      "$`Mauchly's Test for Sphericity`\n",
      "                  Effect         W           p p<.05\n",
      "2                    run 0.7541221 0.038084358     *\n",
      "5          run:trialtype 0.6900476 0.008525743     *\n",
      "6           run:freqbias 0.7663411 0.049443890     *\n",
      "8 run:trialtype:freqbias 0.8620269 0.287907098      \n",
      "\n",
      "$`Sphericity Corrections`\n",
      "                  Effect       GGe       p[GG] p[GG]<.05       HFe       p[HF]\n",
      "2                    run 0.8534516 0.002037527         * 0.9121050 0.001569212\n",
      "5          run:trialtype 0.8109564 0.256143635           0.8631474 0.255271659\n",
      "6           run:freqbias 0.8708961 0.113530778           0.9322918 0.109047201\n",
      "8 run:trialtype:freqbias 0.9154559 0.623609455           0.9840949 0.635912123\n",
      "  p[HF]<.05\n",
      "2         *\n",
      "5          \n",
      "6          \n",
      "8          \n",
      "\n"
     ]
    },
    {
     "name": "stderr",
     "output_type": "stream",
     "text": [
      "Installing package into 'C:/Users/cb383/Documents/R/win-library/3.4'\n",
      "(as 'lib' is unspecified)\n",
      "trying URL 'https://mirrors.nics.utk.edu/cran/bin/windows/contrib/3.4/psych_1.7.8.zip'\n",
      "Content type 'application/zip' length 5341900 bytes (5.1 MB)\n",
      "==================================================\n",
      "downloaded 5.1 MB\n",
      "\n",
      "Installing package into 'C:/Users/cb383/Documents/R/win-library/3.4'\n",
      "(as 'lib' is unspecified)\n",
      "trying URL 'https://mirrors.nics.utk.edu/cran/bin/windows/contrib/3.4/ez_4.4-0.zip'\n",
      "Content type 'application/zip' length 332375 bytes (324 KB)\n",
      "==================================================\n",
      "downloaded 324 KB\n",
      "\n",
      "Warning message:\n",
      "package 'psych' was built under R version 3.4.3 \n",
      "Warning message:\n",
      "package 'ez' was built under R version 3.4.3 \n"
     ]
    }
   ],
   "source": [
    "! Rscript SCAnova.R"
   ]
  },
  {
   "cell_type": "markdown",
   "metadata": {},
   "source": [
    "Now that we increased Stroop conflict and showed the S2 control-demand cues for the entire duration of each trial, participants used these cues to modulate Stroop congruency for the frequency-unbiased stimuli (shown in cue x congruency effect). The difference in congruency for frequency-biased stimuli was smaller than congruency differences for frequency-unbiased stimuli following both the high-demand cues and low-demand cues (shown in t-tests above). This suggests that participants learned stimulus-response associations, but that these associations did not drive our conditioned control-demand effect.\n",
    "\n",
    "As with Experiment 1, we did not observe these effects for accuracy."
   ]
  },
  {
   "cell_type": "markdown",
   "metadata": {},
   "source": [
    "# Look at the Results Graphically"
   ]
  },
  {
   "cell_type": "markdown",
   "metadata": {},
   "source": [
    "Note that the graphs generated mimic the paper, but I used Matlab to generate the figures, because I like their graphics more."
   ]
  },
  {
   "cell_type": "code",
   "execution_count": 40,
   "metadata": {
    "collapsed": true
   },
   "outputs": [],
   "source": [
    "sns.set(context='notebook', style='white', font='Myriad Pro', font_scale=2, color_codes=False, rc=None);"
   ]
  },
  {
   "cell_type": "code",
   "execution_count": 41,
   "metadata": {},
   "outputs": [
    {
     "data": {
      "application/javascript": [
       "/* Put everything inside the global mpl namespace */\n",
       "window.mpl = {};\n",
       "\n",
       "\n",
       "mpl.get_websocket_type = function() {\n",
       "    if (typeof(WebSocket) !== 'undefined') {\n",
       "        return WebSocket;\n",
       "    } else if (typeof(MozWebSocket) !== 'undefined') {\n",
       "        return MozWebSocket;\n",
       "    } else {\n",
       "        alert('Your browser does not have WebSocket support.' +\n",
       "              'Please try Chrome, Safari or Firefox ≥ 6. ' +\n",
       "              'Firefox 4 and 5 are also supported but you ' +\n",
       "              'have to enable WebSockets in about:config.');\n",
       "    };\n",
       "}\n",
       "\n",
       "mpl.figure = function(figure_id, websocket, ondownload, parent_element) {\n",
       "    this.id = figure_id;\n",
       "\n",
       "    this.ws = websocket;\n",
       "\n",
       "    this.supports_binary = (this.ws.binaryType != undefined);\n",
       "\n",
       "    if (!this.supports_binary) {\n",
       "        var warnings = document.getElementById(\"mpl-warnings\");\n",
       "        if (warnings) {\n",
       "            warnings.style.display = 'block';\n",
       "            warnings.textContent = (\n",
       "                \"This browser does not support binary websocket messages. \" +\n",
       "                    \"Performance may be slow.\");\n",
       "        }\n",
       "    }\n",
       "\n",
       "    this.imageObj = new Image();\n",
       "\n",
       "    this.context = undefined;\n",
       "    this.message = undefined;\n",
       "    this.canvas = undefined;\n",
       "    this.rubberband_canvas = undefined;\n",
       "    this.rubberband_context = undefined;\n",
       "    this.format_dropdown = undefined;\n",
       "\n",
       "    this.image_mode = 'full';\n",
       "\n",
       "    this.root = $('<div/>');\n",
       "    this._root_extra_style(this.root)\n",
       "    this.root.attr('style', 'display: inline-block');\n",
       "\n",
       "    $(parent_element).append(this.root);\n",
       "\n",
       "    this._init_header(this);\n",
       "    this._init_canvas(this);\n",
       "    this._init_toolbar(this);\n",
       "\n",
       "    var fig = this;\n",
       "\n",
       "    this.waiting = false;\n",
       "\n",
       "    this.ws.onopen =  function () {\n",
       "            fig.send_message(\"supports_binary\", {value: fig.supports_binary});\n",
       "            fig.send_message(\"send_image_mode\", {});\n",
       "            if (mpl.ratio != 1) {\n",
       "                fig.send_message(\"set_dpi_ratio\", {'dpi_ratio': mpl.ratio});\n",
       "            }\n",
       "            fig.send_message(\"refresh\", {});\n",
       "        }\n",
       "\n",
       "    this.imageObj.onload = function() {\n",
       "            if (fig.image_mode == 'full') {\n",
       "                // Full images could contain transparency (where diff images\n",
       "                // almost always do), so we need to clear the canvas so that\n",
       "                // there is no ghosting.\n",
       "                fig.context.clearRect(0, 0, fig.canvas.width, fig.canvas.height);\n",
       "            }\n",
       "            fig.context.drawImage(fig.imageObj, 0, 0);\n",
       "        };\n",
       "\n",
       "    this.imageObj.onunload = function() {\n",
       "        this.ws.close();\n",
       "    }\n",
       "\n",
       "    this.ws.onmessage = this._make_on_message_function(this);\n",
       "\n",
       "    this.ondownload = ondownload;\n",
       "}\n",
       "\n",
       "mpl.figure.prototype._init_header = function() {\n",
       "    var titlebar = $(\n",
       "        '<div class=\"ui-dialog-titlebar ui-widget-header ui-corner-all ' +\n",
       "        'ui-helper-clearfix\"/>');\n",
       "    var titletext = $(\n",
       "        '<div class=\"ui-dialog-title\" style=\"width: 100%; ' +\n",
       "        'text-align: center; padding: 3px;\"/>');\n",
       "    titlebar.append(titletext)\n",
       "    this.root.append(titlebar);\n",
       "    this.header = titletext[0];\n",
       "}\n",
       "\n",
       "\n",
       "\n",
       "mpl.figure.prototype._canvas_extra_style = function(canvas_div) {\n",
       "\n",
       "}\n",
       "\n",
       "\n",
       "mpl.figure.prototype._root_extra_style = function(canvas_div) {\n",
       "\n",
       "}\n",
       "\n",
       "mpl.figure.prototype._init_canvas = function() {\n",
       "    var fig = this;\n",
       "\n",
       "    var canvas_div = $('<div/>');\n",
       "\n",
       "    canvas_div.attr('style', 'position: relative; clear: both; outline: 0');\n",
       "\n",
       "    function canvas_keyboard_event(event) {\n",
       "        return fig.key_event(event, event['data']);\n",
       "    }\n",
       "\n",
       "    canvas_div.keydown('key_press', canvas_keyboard_event);\n",
       "    canvas_div.keyup('key_release', canvas_keyboard_event);\n",
       "    this.canvas_div = canvas_div\n",
       "    this._canvas_extra_style(canvas_div)\n",
       "    this.root.append(canvas_div);\n",
       "\n",
       "    var canvas = $('<canvas/>');\n",
       "    canvas.addClass('mpl-canvas');\n",
       "    canvas.attr('style', \"left: 0; top: 0; z-index: 0; outline: 0\")\n",
       "\n",
       "    this.canvas = canvas[0];\n",
       "    this.context = canvas[0].getContext(\"2d\");\n",
       "\n",
       "    var backingStore = this.context.backingStorePixelRatio ||\n",
       "\tthis.context.webkitBackingStorePixelRatio ||\n",
       "\tthis.context.mozBackingStorePixelRatio ||\n",
       "\tthis.context.msBackingStorePixelRatio ||\n",
       "\tthis.context.oBackingStorePixelRatio ||\n",
       "\tthis.context.backingStorePixelRatio || 1;\n",
       "\n",
       "    mpl.ratio = (window.devicePixelRatio || 1) / backingStore;\n",
       "\n",
       "    var rubberband = $('<canvas/>');\n",
       "    rubberband.attr('style', \"position: absolute; left: 0; top: 0; z-index: 1;\")\n",
       "\n",
       "    var pass_mouse_events = true;\n",
       "\n",
       "    canvas_div.resizable({\n",
       "        start: function(event, ui) {\n",
       "            pass_mouse_events = false;\n",
       "        },\n",
       "        resize: function(event, ui) {\n",
       "            fig.request_resize(ui.size.width, ui.size.height);\n",
       "        },\n",
       "        stop: function(event, ui) {\n",
       "            pass_mouse_events = true;\n",
       "            fig.request_resize(ui.size.width, ui.size.height);\n",
       "        },\n",
       "    });\n",
       "\n",
       "    function mouse_event_fn(event) {\n",
       "        if (pass_mouse_events)\n",
       "            return fig.mouse_event(event, event['data']);\n",
       "    }\n",
       "\n",
       "    rubberband.mousedown('button_press', mouse_event_fn);\n",
       "    rubberband.mouseup('button_release', mouse_event_fn);\n",
       "    // Throttle sequential mouse events to 1 every 20ms.\n",
       "    rubberband.mousemove('motion_notify', mouse_event_fn);\n",
       "\n",
       "    rubberband.mouseenter('figure_enter', mouse_event_fn);\n",
       "    rubberband.mouseleave('figure_leave', mouse_event_fn);\n",
       "\n",
       "    canvas_div.on(\"wheel\", function (event) {\n",
       "        event = event.originalEvent;\n",
       "        event['data'] = 'scroll'\n",
       "        if (event.deltaY < 0) {\n",
       "            event.step = 1;\n",
       "        } else {\n",
       "            event.step = -1;\n",
       "        }\n",
       "        mouse_event_fn(event);\n",
       "    });\n",
       "\n",
       "    canvas_div.append(canvas);\n",
       "    canvas_div.append(rubberband);\n",
       "\n",
       "    this.rubberband = rubberband;\n",
       "    this.rubberband_canvas = rubberband[0];\n",
       "    this.rubberband_context = rubberband[0].getContext(\"2d\");\n",
       "    this.rubberband_context.strokeStyle = \"#000000\";\n",
       "\n",
       "    this._resize_canvas = function(width, height) {\n",
       "        // Keep the size of the canvas, canvas container, and rubber band\n",
       "        // canvas in synch.\n",
       "        canvas_div.css('width', width)\n",
       "        canvas_div.css('height', height)\n",
       "\n",
       "        canvas.attr('width', width * mpl.ratio);\n",
       "        canvas.attr('height', height * mpl.ratio);\n",
       "        canvas.attr('style', 'width: ' + width + 'px; height: ' + height + 'px;');\n",
       "\n",
       "        rubberband.attr('width', width);\n",
       "        rubberband.attr('height', height);\n",
       "    }\n",
       "\n",
       "    // Set the figure to an initial 600x600px, this will subsequently be updated\n",
       "    // upon first draw.\n",
       "    this._resize_canvas(600, 600);\n",
       "\n",
       "    // Disable right mouse context menu.\n",
       "    $(this.rubberband_canvas).bind(\"contextmenu\",function(e){\n",
       "        return false;\n",
       "    });\n",
       "\n",
       "    function set_focus () {\n",
       "        canvas.focus();\n",
       "        canvas_div.focus();\n",
       "    }\n",
       "\n",
       "    window.setTimeout(set_focus, 100);\n",
       "}\n",
       "\n",
       "mpl.figure.prototype._init_toolbar = function() {\n",
       "    var fig = this;\n",
       "\n",
       "    var nav_element = $('<div/>')\n",
       "    nav_element.attr('style', 'width: 100%');\n",
       "    this.root.append(nav_element);\n",
       "\n",
       "    // Define a callback function for later on.\n",
       "    function toolbar_event(event) {\n",
       "        return fig.toolbar_button_onclick(event['data']);\n",
       "    }\n",
       "    function toolbar_mouse_event(event) {\n",
       "        return fig.toolbar_button_onmouseover(event['data']);\n",
       "    }\n",
       "\n",
       "    for(var toolbar_ind in mpl.toolbar_items) {\n",
       "        var name = mpl.toolbar_items[toolbar_ind][0];\n",
       "        var tooltip = mpl.toolbar_items[toolbar_ind][1];\n",
       "        var image = mpl.toolbar_items[toolbar_ind][2];\n",
       "        var method_name = mpl.toolbar_items[toolbar_ind][3];\n",
       "\n",
       "        if (!name) {\n",
       "            // put a spacer in here.\n",
       "            continue;\n",
       "        }\n",
       "        var button = $('<button/>');\n",
       "        button.addClass('ui-button ui-widget ui-state-default ui-corner-all ' +\n",
       "                        'ui-button-icon-only');\n",
       "        button.attr('role', 'button');\n",
       "        button.attr('aria-disabled', 'false');\n",
       "        button.click(method_name, toolbar_event);\n",
       "        button.mouseover(tooltip, toolbar_mouse_event);\n",
       "\n",
       "        var icon_img = $('<span/>');\n",
       "        icon_img.addClass('ui-button-icon-primary ui-icon');\n",
       "        icon_img.addClass(image);\n",
       "        icon_img.addClass('ui-corner-all');\n",
       "\n",
       "        var tooltip_span = $('<span/>');\n",
       "        tooltip_span.addClass('ui-button-text');\n",
       "        tooltip_span.html(tooltip);\n",
       "\n",
       "        button.append(icon_img);\n",
       "        button.append(tooltip_span);\n",
       "\n",
       "        nav_element.append(button);\n",
       "    }\n",
       "\n",
       "    var fmt_picker_span = $('<span/>');\n",
       "\n",
       "    var fmt_picker = $('<select/>');\n",
       "    fmt_picker.addClass('mpl-toolbar-option ui-widget ui-widget-content');\n",
       "    fmt_picker_span.append(fmt_picker);\n",
       "    nav_element.append(fmt_picker_span);\n",
       "    this.format_dropdown = fmt_picker[0];\n",
       "\n",
       "    for (var ind in mpl.extensions) {\n",
       "        var fmt = mpl.extensions[ind];\n",
       "        var option = $(\n",
       "            '<option/>', {selected: fmt === mpl.default_extension}).html(fmt);\n",
       "        fmt_picker.append(option)\n",
       "    }\n",
       "\n",
       "    // Add hover states to the ui-buttons\n",
       "    $( \".ui-button\" ).hover(\n",
       "        function() { $(this).addClass(\"ui-state-hover\");},\n",
       "        function() { $(this).removeClass(\"ui-state-hover\");}\n",
       "    );\n",
       "\n",
       "    var status_bar = $('<span class=\"mpl-message\"/>');\n",
       "    nav_element.append(status_bar);\n",
       "    this.message = status_bar[0];\n",
       "}\n",
       "\n",
       "mpl.figure.prototype.request_resize = function(x_pixels, y_pixels) {\n",
       "    // Request matplotlib to resize the figure. Matplotlib will then trigger a resize in the client,\n",
       "    // which will in turn request a refresh of the image.\n",
       "    this.send_message('resize', {'width': x_pixels, 'height': y_pixels});\n",
       "}\n",
       "\n",
       "mpl.figure.prototype.send_message = function(type, properties) {\n",
       "    properties['type'] = type;\n",
       "    properties['figure_id'] = this.id;\n",
       "    this.ws.send(JSON.stringify(properties));\n",
       "}\n",
       "\n",
       "mpl.figure.prototype.send_draw_message = function() {\n",
       "    if (!this.waiting) {\n",
       "        this.waiting = true;\n",
       "        this.ws.send(JSON.stringify({type: \"draw\", figure_id: this.id}));\n",
       "    }\n",
       "}\n",
       "\n",
       "\n",
       "mpl.figure.prototype.handle_save = function(fig, msg) {\n",
       "    var format_dropdown = fig.format_dropdown;\n",
       "    var format = format_dropdown.options[format_dropdown.selectedIndex].value;\n",
       "    fig.ondownload(fig, format);\n",
       "}\n",
       "\n",
       "\n",
       "mpl.figure.prototype.handle_resize = function(fig, msg) {\n",
       "    var size = msg['size'];\n",
       "    if (size[0] != fig.canvas.width || size[1] != fig.canvas.height) {\n",
       "        fig._resize_canvas(size[0], size[1]);\n",
       "        fig.send_message(\"refresh\", {});\n",
       "    };\n",
       "}\n",
       "\n",
       "mpl.figure.prototype.handle_rubberband = function(fig, msg) {\n",
       "    var x0 = msg['x0'] / mpl.ratio;\n",
       "    var y0 = (fig.canvas.height - msg['y0']) / mpl.ratio;\n",
       "    var x1 = msg['x1'] / mpl.ratio;\n",
       "    var y1 = (fig.canvas.height - msg['y1']) / mpl.ratio;\n",
       "    x0 = Math.floor(x0) + 0.5;\n",
       "    y0 = Math.floor(y0) + 0.5;\n",
       "    x1 = Math.floor(x1) + 0.5;\n",
       "    y1 = Math.floor(y1) + 0.5;\n",
       "    var min_x = Math.min(x0, x1);\n",
       "    var min_y = Math.min(y0, y1);\n",
       "    var width = Math.abs(x1 - x0);\n",
       "    var height = Math.abs(y1 - y0);\n",
       "\n",
       "    fig.rubberband_context.clearRect(\n",
       "        0, 0, fig.canvas.width, fig.canvas.height);\n",
       "\n",
       "    fig.rubberband_context.strokeRect(min_x, min_y, width, height);\n",
       "}\n",
       "\n",
       "mpl.figure.prototype.handle_figure_label = function(fig, msg) {\n",
       "    // Updates the figure title.\n",
       "    fig.header.textContent = msg['label'];\n",
       "}\n",
       "\n",
       "mpl.figure.prototype.handle_cursor = function(fig, msg) {\n",
       "    var cursor = msg['cursor'];\n",
       "    switch(cursor)\n",
       "    {\n",
       "    case 0:\n",
       "        cursor = 'pointer';\n",
       "        break;\n",
       "    case 1:\n",
       "        cursor = 'default';\n",
       "        break;\n",
       "    case 2:\n",
       "        cursor = 'crosshair';\n",
       "        break;\n",
       "    case 3:\n",
       "        cursor = 'move';\n",
       "        break;\n",
       "    }\n",
       "    fig.rubberband_canvas.style.cursor = cursor;\n",
       "}\n",
       "\n",
       "mpl.figure.prototype.handle_message = function(fig, msg) {\n",
       "    fig.message.textContent = msg['message'];\n",
       "}\n",
       "\n",
       "mpl.figure.prototype.handle_draw = function(fig, msg) {\n",
       "    // Request the server to send over a new figure.\n",
       "    fig.send_draw_message();\n",
       "}\n",
       "\n",
       "mpl.figure.prototype.handle_image_mode = function(fig, msg) {\n",
       "    fig.image_mode = msg['mode'];\n",
       "}\n",
       "\n",
       "mpl.figure.prototype.updated_canvas_event = function() {\n",
       "    // Called whenever the canvas gets updated.\n",
       "    this.send_message(\"ack\", {});\n",
       "}\n",
       "\n",
       "// A function to construct a web socket function for onmessage handling.\n",
       "// Called in the figure constructor.\n",
       "mpl.figure.prototype._make_on_message_function = function(fig) {\n",
       "    return function socket_on_message(evt) {\n",
       "        if (evt.data instanceof Blob) {\n",
       "            /* FIXME: We get \"Resource interpreted as Image but\n",
       "             * transferred with MIME type text/plain:\" errors on\n",
       "             * Chrome.  But how to set the MIME type?  It doesn't seem\n",
       "             * to be part of the websocket stream */\n",
       "            evt.data.type = \"image/png\";\n",
       "\n",
       "            /* Free the memory for the previous frames */\n",
       "            if (fig.imageObj.src) {\n",
       "                (window.URL || window.webkitURL).revokeObjectURL(\n",
       "                    fig.imageObj.src);\n",
       "            }\n",
       "\n",
       "            fig.imageObj.src = (window.URL || window.webkitURL).createObjectURL(\n",
       "                evt.data);\n",
       "            fig.updated_canvas_event();\n",
       "            fig.waiting = false;\n",
       "            return;\n",
       "        }\n",
       "        else if (typeof evt.data === 'string' && evt.data.slice(0, 21) == \"data:image/png;base64\") {\n",
       "            fig.imageObj.src = evt.data;\n",
       "            fig.updated_canvas_event();\n",
       "            fig.waiting = false;\n",
       "            return;\n",
       "        }\n",
       "\n",
       "        var msg = JSON.parse(evt.data);\n",
       "        var msg_type = msg['type'];\n",
       "\n",
       "        // Call the  \"handle_{type}\" callback, which takes\n",
       "        // the figure and JSON message as its only arguments.\n",
       "        try {\n",
       "            var callback = fig[\"handle_\" + msg_type];\n",
       "        } catch (e) {\n",
       "            console.log(\"No handler for the '\" + msg_type + \"' message type: \", msg);\n",
       "            return;\n",
       "        }\n",
       "\n",
       "        if (callback) {\n",
       "            try {\n",
       "                // console.log(\"Handling '\" + msg_type + \"' message: \", msg);\n",
       "                callback(fig, msg);\n",
       "            } catch (e) {\n",
       "                console.log(\"Exception inside the 'handler_\" + msg_type + \"' callback:\", e, e.stack, msg);\n",
       "            }\n",
       "        }\n",
       "    };\n",
       "}\n",
       "\n",
       "// from http://stackoverflow.com/questions/1114465/getting-mouse-location-in-canvas\n",
       "mpl.findpos = function(e) {\n",
       "    //this section is from http://www.quirksmode.org/js/events_properties.html\n",
       "    var targ;\n",
       "    if (!e)\n",
       "        e = window.event;\n",
       "    if (e.target)\n",
       "        targ = e.target;\n",
       "    else if (e.srcElement)\n",
       "        targ = e.srcElement;\n",
       "    if (targ.nodeType == 3) // defeat Safari bug\n",
       "        targ = targ.parentNode;\n",
       "\n",
       "    // jQuery normalizes the pageX and pageY\n",
       "    // pageX,Y are the mouse positions relative to the document\n",
       "    // offset() returns the position of the element relative to the document\n",
       "    var x = e.pageX - $(targ).offset().left;\n",
       "    var y = e.pageY - $(targ).offset().top;\n",
       "\n",
       "    return {\"x\": x, \"y\": y};\n",
       "};\n",
       "\n",
       "/*\n",
       " * return a copy of an object with only non-object keys\n",
       " * we need this to avoid circular references\n",
       " * http://stackoverflow.com/a/24161582/3208463\n",
       " */\n",
       "function simpleKeys (original) {\n",
       "  return Object.keys(original).reduce(function (obj, key) {\n",
       "    if (typeof original[key] !== 'object')\n",
       "        obj[key] = original[key]\n",
       "    return obj;\n",
       "  }, {});\n",
       "}\n",
       "\n",
       "mpl.figure.prototype.mouse_event = function(event, name) {\n",
       "    var canvas_pos = mpl.findpos(event)\n",
       "\n",
       "    if (name === 'button_press')\n",
       "    {\n",
       "        this.canvas.focus();\n",
       "        this.canvas_div.focus();\n",
       "    }\n",
       "\n",
       "    var x = canvas_pos.x * mpl.ratio;\n",
       "    var y = canvas_pos.y * mpl.ratio;\n",
       "\n",
       "    this.send_message(name, {x: x, y: y, button: event.button,\n",
       "                             step: event.step,\n",
       "                             guiEvent: simpleKeys(event)});\n",
       "\n",
       "    /* This prevents the web browser from automatically changing to\n",
       "     * the text insertion cursor when the button is pressed.  We want\n",
       "     * to control all of the cursor setting manually through the\n",
       "     * 'cursor' event from matplotlib */\n",
       "    event.preventDefault();\n",
       "    return false;\n",
       "}\n",
       "\n",
       "mpl.figure.prototype._key_event_extra = function(event, name) {\n",
       "    // Handle any extra behaviour associated with a key event\n",
       "}\n",
       "\n",
       "mpl.figure.prototype.key_event = function(event, name) {\n",
       "\n",
       "    // Prevent repeat events\n",
       "    if (name == 'key_press')\n",
       "    {\n",
       "        if (event.which === this._key)\n",
       "            return;\n",
       "        else\n",
       "            this._key = event.which;\n",
       "    }\n",
       "    if (name == 'key_release')\n",
       "        this._key = null;\n",
       "\n",
       "    var value = '';\n",
       "    if (event.ctrlKey && event.which != 17)\n",
       "        value += \"ctrl+\";\n",
       "    if (event.altKey && event.which != 18)\n",
       "        value += \"alt+\";\n",
       "    if (event.shiftKey && event.which != 16)\n",
       "        value += \"shift+\";\n",
       "\n",
       "    value += 'k';\n",
       "    value += event.which.toString();\n",
       "\n",
       "    this._key_event_extra(event, name);\n",
       "\n",
       "    this.send_message(name, {key: value,\n",
       "                             guiEvent: simpleKeys(event)});\n",
       "    return false;\n",
       "}\n",
       "\n",
       "mpl.figure.prototype.toolbar_button_onclick = function(name) {\n",
       "    if (name == 'download') {\n",
       "        this.handle_save(this, null);\n",
       "    } else {\n",
       "        this.send_message(\"toolbar_button\", {name: name});\n",
       "    }\n",
       "};\n",
       "\n",
       "mpl.figure.prototype.toolbar_button_onmouseover = function(tooltip) {\n",
       "    this.message.textContent = tooltip;\n",
       "};\n",
       "mpl.toolbar_items = [[\"Home\", \"Reset original view\", \"fa fa-home icon-home\", \"home\"], [\"Back\", \"Back to  previous view\", \"fa fa-arrow-left icon-arrow-left\", \"back\"], [\"Forward\", \"Forward to next view\", \"fa fa-arrow-right icon-arrow-right\", \"forward\"], [\"\", \"\", \"\", \"\"], [\"Pan\", \"Pan axes with left mouse, zoom with right\", \"fa fa-arrows icon-move\", \"pan\"], [\"Zoom\", \"Zoom to rectangle\", \"fa fa-square-o icon-check-empty\", \"zoom\"], [\"\", \"\", \"\", \"\"], [\"Download\", \"Download plot\", \"fa fa-floppy-o icon-save\", \"download\"]];\n",
       "\n",
       "mpl.extensions = [\"eps\", \"jpeg\", \"pdf\", \"png\", \"ps\", \"raw\", \"svg\", \"tif\"];\n",
       "\n",
       "mpl.default_extension = \"png\";var comm_websocket_adapter = function(comm) {\n",
       "    // Create a \"websocket\"-like object which calls the given IPython comm\n",
       "    // object with the appropriate methods. Currently this is a non binary\n",
       "    // socket, so there is still some room for performance tuning.\n",
       "    var ws = {};\n",
       "\n",
       "    ws.close = function() {\n",
       "        comm.close()\n",
       "    };\n",
       "    ws.send = function(m) {\n",
       "        //console.log('sending', m);\n",
       "        comm.send(m);\n",
       "    };\n",
       "    // Register the callback with on_msg.\n",
       "    comm.on_msg(function(msg) {\n",
       "        //console.log('receiving', msg['content']['data'], msg);\n",
       "        // Pass the mpl event to the overriden (by mpl) onmessage function.\n",
       "        ws.onmessage(msg['content']['data'])\n",
       "    });\n",
       "    return ws;\n",
       "}\n",
       "\n",
       "mpl.mpl_figure_comm = function(comm, msg) {\n",
       "    // This is the function which gets called when the mpl process\n",
       "    // starts-up an IPython Comm through the \"matplotlib\" channel.\n",
       "\n",
       "    var id = msg.content.data.id;\n",
       "    // Get hold of the div created by the display call when the Comm\n",
       "    // socket was opened in Python.\n",
       "    var element = $(\"#\" + id);\n",
       "    var ws_proxy = comm_websocket_adapter(comm)\n",
       "\n",
       "    function ondownload(figure, format) {\n",
       "        window.open(figure.imageObj.src);\n",
       "    }\n",
       "\n",
       "    var fig = new mpl.figure(id, ws_proxy,\n",
       "                           ondownload,\n",
       "                           element.get(0));\n",
       "\n",
       "    // Call onopen now - mpl needs it, as it is assuming we've passed it a real\n",
       "    // web socket which is closed, not our websocket->open comm proxy.\n",
       "    ws_proxy.onopen();\n",
       "\n",
       "    fig.parent_element = element.get(0);\n",
       "    fig.cell_info = mpl.find_output_cell(\"<div id='\" + id + \"'></div>\");\n",
       "    if (!fig.cell_info) {\n",
       "        console.error(\"Failed to find cell for figure\", id, fig);\n",
       "        return;\n",
       "    }\n",
       "\n",
       "    var output_index = fig.cell_info[2]\n",
       "    var cell = fig.cell_info[0];\n",
       "\n",
       "};\n",
       "\n",
       "mpl.figure.prototype.handle_close = function(fig, msg) {\n",
       "    var width = fig.canvas.width/mpl.ratio\n",
       "    fig.root.unbind('remove')\n",
       "\n",
       "    // Update the output cell to use the data from the current canvas.\n",
       "    fig.push_to_output();\n",
       "    var dataURL = fig.canvas.toDataURL();\n",
       "    // Re-enable the keyboard manager in IPython - without this line, in FF,\n",
       "    // the notebook keyboard shortcuts fail.\n",
       "    IPython.keyboard_manager.enable()\n",
       "    $(fig.parent_element).html('<img src=\"' + dataURL + '\" width=\"' + width + '\">');\n",
       "    fig.close_ws(fig, msg);\n",
       "}\n",
       "\n",
       "mpl.figure.prototype.close_ws = function(fig, msg){\n",
       "    fig.send_message('closing', msg);\n",
       "    // fig.ws.close()\n",
       "}\n",
       "\n",
       "mpl.figure.prototype.push_to_output = function(remove_interactive) {\n",
       "    // Turn the data on the canvas into data in the output cell.\n",
       "    var width = this.canvas.width/mpl.ratio\n",
       "    var dataURL = this.canvas.toDataURL();\n",
       "    this.cell_info[1]['text/html'] = '<img src=\"' + dataURL + '\" width=\"' + width + '\">';\n",
       "}\n",
       "\n",
       "mpl.figure.prototype.updated_canvas_event = function() {\n",
       "    // Tell IPython that the notebook contents must change.\n",
       "    IPython.notebook.set_dirty(true);\n",
       "    this.send_message(\"ack\", {});\n",
       "    var fig = this;\n",
       "    // Wait a second, then push the new image to the DOM so\n",
       "    // that it is saved nicely (might be nice to debounce this).\n",
       "    setTimeout(function () { fig.push_to_output() }, 1000);\n",
       "}\n",
       "\n",
       "mpl.figure.prototype._init_toolbar = function() {\n",
       "    var fig = this;\n",
       "\n",
       "    var nav_element = $('<div/>')\n",
       "    nav_element.attr('style', 'width: 100%');\n",
       "    this.root.append(nav_element);\n",
       "\n",
       "    // Define a callback function for later on.\n",
       "    function toolbar_event(event) {\n",
       "        return fig.toolbar_button_onclick(event['data']);\n",
       "    }\n",
       "    function toolbar_mouse_event(event) {\n",
       "        return fig.toolbar_button_onmouseover(event['data']);\n",
       "    }\n",
       "\n",
       "    for(var toolbar_ind in mpl.toolbar_items){\n",
       "        var name = mpl.toolbar_items[toolbar_ind][0];\n",
       "        var tooltip = mpl.toolbar_items[toolbar_ind][1];\n",
       "        var image = mpl.toolbar_items[toolbar_ind][2];\n",
       "        var method_name = mpl.toolbar_items[toolbar_ind][3];\n",
       "\n",
       "        if (!name) { continue; };\n",
       "\n",
       "        var button = $('<button class=\"btn btn-default\" href=\"#\" title=\"' + name + '\"><i class=\"fa ' + image + ' fa-lg\"></i></button>');\n",
       "        button.click(method_name, toolbar_event);\n",
       "        button.mouseover(tooltip, toolbar_mouse_event);\n",
       "        nav_element.append(button);\n",
       "    }\n",
       "\n",
       "    // Add the status bar.\n",
       "    var status_bar = $('<span class=\"mpl-message\" style=\"text-align:right; float: right;\"/>');\n",
       "    nav_element.append(status_bar);\n",
       "    this.message = status_bar[0];\n",
       "\n",
       "    // Add the close button to the window.\n",
       "    var buttongrp = $('<div class=\"btn-group inline pull-right\"></div>');\n",
       "    var button = $('<button class=\"btn btn-mini btn-primary\" href=\"#\" title=\"Stop Interaction\"><i class=\"fa fa-power-off icon-remove icon-large\"></i></button>');\n",
       "    button.click(function (evt) { fig.handle_close(fig, {}); } );\n",
       "    button.mouseover('Stop Interaction', toolbar_mouse_event);\n",
       "    buttongrp.append(button);\n",
       "    var titlebar = this.root.find($('.ui-dialog-titlebar'));\n",
       "    titlebar.prepend(buttongrp);\n",
       "}\n",
       "\n",
       "mpl.figure.prototype._root_extra_style = function(el){\n",
       "    var fig = this\n",
       "    el.on(\"remove\", function(){\n",
       "\tfig.close_ws(fig, {});\n",
       "    });\n",
       "}\n",
       "\n",
       "mpl.figure.prototype._canvas_extra_style = function(el){\n",
       "    // this is important to make the div 'focusable\n",
       "    el.attr('tabindex', 0)\n",
       "    // reach out to IPython and tell the keyboard manager to turn it's self\n",
       "    // off when our div gets focus\n",
       "\n",
       "    // location in version 3\n",
       "    if (IPython.notebook.keyboard_manager) {\n",
       "        IPython.notebook.keyboard_manager.register_events(el);\n",
       "    }\n",
       "    else {\n",
       "        // location in version 2\n",
       "        IPython.keyboard_manager.register_events(el);\n",
       "    }\n",
       "\n",
       "}\n",
       "\n",
       "mpl.figure.prototype._key_event_extra = function(event, name) {\n",
       "    var manager = IPython.notebook.keyboard_manager;\n",
       "    if (!manager)\n",
       "        manager = IPython.keyboard_manager;\n",
       "\n",
       "    // Check for shift+enter\n",
       "    if (event.shiftKey && event.which == 13) {\n",
       "        this.canvas_div.blur();\n",
       "        // select the cell after this one\n",
       "        var index = IPython.notebook.find_cell_index(this.cell_info[0]);\n",
       "        IPython.notebook.select(index + 1);\n",
       "    }\n",
       "}\n",
       "\n",
       "mpl.figure.prototype.handle_save = function(fig, msg) {\n",
       "    fig.ondownload(fig, null);\n",
       "}\n",
       "\n",
       "\n",
       "mpl.find_output_cell = function(html_output) {\n",
       "    // Return the cell and output element which can be found *uniquely* in the notebook.\n",
       "    // Note - this is a bit hacky, but it is done because the \"notebook_saving.Notebook\"\n",
       "    // IPython event is triggered only after the cells have been serialised, which for\n",
       "    // our purposes (turning an active figure into a static one), is too late.\n",
       "    var cells = IPython.notebook.get_cells();\n",
       "    var ncells = cells.length;\n",
       "    for (var i=0; i<ncells; i++) {\n",
       "        var cell = cells[i];\n",
       "        if (cell.cell_type === 'code'){\n",
       "            for (var j=0; j<cell.output_area.outputs.length; j++) {\n",
       "                var data = cell.output_area.outputs[j];\n",
       "                if (data.data) {\n",
       "                    // IPython >= 3 moved mimebundle to data attribute of output\n",
       "                    data = data.data;\n",
       "                }\n",
       "                if (data['text/html'] == html_output) {\n",
       "                    return [cell, data, j];\n",
       "                }\n",
       "            }\n",
       "        }\n",
       "    }\n",
       "}\n",
       "\n",
       "// Register the function which deals with the matplotlib target/channel.\n",
       "// The kernel may be null if the page has been refreshed.\n",
       "if (IPython.notebook.kernel != null) {\n",
       "    IPython.notebook.kernel.comm_manager.register_target('matplotlib', mpl.mpl_figure_comm);\n",
       "}\n"
      ],
      "text/plain": [
       "<IPython.core.display.Javascript object>"
      ]
     },
     "metadata": {},
     "output_type": "display_data"
    },
    {
     "data": {
      "text/html": [
       "<img src=\"data:image/png;base64,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\" width=\"900\">"
      ],
      "text/plain": [
       "<IPython.core.display.HTML object>"
      ]
     },
     "metadata": {},
     "output_type": "display_data"
    }
   ],
   "source": [
    "barwidth = 0.75; \n",
    "fig, ax = plt.subplots(figsize=(9, 7));\n",
    "rects1 = ax.bar(0.5,RTanalysis_unbias.LowC.mean(),barwidth,yerr=RTstderror.LowC,ecolor='k',edgecolor=sns.xkcd_rgb['green'],linewidth = 2, facecolor='none',error_kw=dict(lw=3),label='Congruent');\n",
    "rects2 = ax.bar(1.5,RTanalysis_unbias.LowIC.mean(),barwidth,color=sns.xkcd_rgb['green'],yerr=RTstderror.LowIC,ecolor='k',error_kw=dict(lw=3),label='Incongruent');\n",
    "rects3 = ax.bar(3,RTanalysis_unbias.HighC.mean(),barwidth,yerr=RTstderror.HighC,ecolor='k',edgecolor=(0.3,0.9,0.3),linewidth = 2, facecolor='none',error_kw=dict(lw=3));\n",
    "rects4 = ax.bar(4,RTanalysis_unbias.HighIC.mean(),barwidth,color=(0.3,0.9,0.3),yerr=RTstderror.HighIC,ecolor='k',error_kw=dict(lw=3));\n",
    "sns.set(context='notebook', style='white', font='Myriad Pro', font_scale=2, color_codes=False, rc=None);\n",
    "ax.set_ylim(460,580);\n",
    "ax.set_xlim(0,6);\n",
    "ax.set_xticklabels(('Low', 'High'));\n",
    "ax.set_xticks([1, 3.5]);\n",
    "ax.set_yticks(np.arange(460, 581, 10));\n",
    "plt.legend([rects1,rects2], ['Congruent','Incongruent'], loc='upper right',fontsize=18,title='Trial Type')\n",
    "plt.legend(title='Trial Type',fontsize=14)\n",
    "plt.title('S-C RT Cueing Effect for Unbiased Stimuli', fontsize=26,fontweight=\"bold\")\n",
    "plt.ylabel('Reaction Time (ms)', fontsize=24,fontweight=\"bold\")\n",
    "plt.xlabel('S2 Control-Demand Cue', fontsize=24,fontweight=\"bold\")\n",
    "sns.despine();\n",
    "\n",
    "plt.show()"
   ]
  },
  {
   "cell_type": "code",
   "execution_count": 42,
   "metadata": {},
   "outputs": [
    {
     "data": {
      "application/javascript": [
       "/* Put everything inside the global mpl namespace */\n",
       "window.mpl = {};\n",
       "\n",
       "\n",
       "mpl.get_websocket_type = function() {\n",
       "    if (typeof(WebSocket) !== 'undefined') {\n",
       "        return WebSocket;\n",
       "    } else if (typeof(MozWebSocket) !== 'undefined') {\n",
       "        return MozWebSocket;\n",
       "    } else {\n",
       "        alert('Your browser does not have WebSocket support.' +\n",
       "              'Please try Chrome, Safari or Firefox ≥ 6. ' +\n",
       "              'Firefox 4 and 5 are also supported but you ' +\n",
       "              'have to enable WebSockets in about:config.');\n",
       "    };\n",
       "}\n",
       "\n",
       "mpl.figure = function(figure_id, websocket, ondownload, parent_element) {\n",
       "    this.id = figure_id;\n",
       "\n",
       "    this.ws = websocket;\n",
       "\n",
       "    this.supports_binary = (this.ws.binaryType != undefined);\n",
       "\n",
       "    if (!this.supports_binary) {\n",
       "        var warnings = document.getElementById(\"mpl-warnings\");\n",
       "        if (warnings) {\n",
       "            warnings.style.display = 'block';\n",
       "            warnings.textContent = (\n",
       "                \"This browser does not support binary websocket messages. \" +\n",
       "                    \"Performance may be slow.\");\n",
       "        }\n",
       "    }\n",
       "\n",
       "    this.imageObj = new Image();\n",
       "\n",
       "    this.context = undefined;\n",
       "    this.message = undefined;\n",
       "    this.canvas = undefined;\n",
       "    this.rubberband_canvas = undefined;\n",
       "    this.rubberband_context = undefined;\n",
       "    this.format_dropdown = undefined;\n",
       "\n",
       "    this.image_mode = 'full';\n",
       "\n",
       "    this.root = $('<div/>');\n",
       "    this._root_extra_style(this.root)\n",
       "    this.root.attr('style', 'display: inline-block');\n",
       "\n",
       "    $(parent_element).append(this.root);\n",
       "\n",
       "    this._init_header(this);\n",
       "    this._init_canvas(this);\n",
       "    this._init_toolbar(this);\n",
       "\n",
       "    var fig = this;\n",
       "\n",
       "    this.waiting = false;\n",
       "\n",
       "    this.ws.onopen =  function () {\n",
       "            fig.send_message(\"supports_binary\", {value: fig.supports_binary});\n",
       "            fig.send_message(\"send_image_mode\", {});\n",
       "            if (mpl.ratio != 1) {\n",
       "                fig.send_message(\"set_dpi_ratio\", {'dpi_ratio': mpl.ratio});\n",
       "            }\n",
       "            fig.send_message(\"refresh\", {});\n",
       "        }\n",
       "\n",
       "    this.imageObj.onload = function() {\n",
       "            if (fig.image_mode == 'full') {\n",
       "                // Full images could contain transparency (where diff images\n",
       "                // almost always do), so we need to clear the canvas so that\n",
       "                // there is no ghosting.\n",
       "                fig.context.clearRect(0, 0, fig.canvas.width, fig.canvas.height);\n",
       "            }\n",
       "            fig.context.drawImage(fig.imageObj, 0, 0);\n",
       "        };\n",
       "\n",
       "    this.imageObj.onunload = function() {\n",
       "        this.ws.close();\n",
       "    }\n",
       "\n",
       "    this.ws.onmessage = this._make_on_message_function(this);\n",
       "\n",
       "    this.ondownload = ondownload;\n",
       "}\n",
       "\n",
       "mpl.figure.prototype._init_header = function() {\n",
       "    var titlebar = $(\n",
       "        '<div class=\"ui-dialog-titlebar ui-widget-header ui-corner-all ' +\n",
       "        'ui-helper-clearfix\"/>');\n",
       "    var titletext = $(\n",
       "        '<div class=\"ui-dialog-title\" style=\"width: 100%; ' +\n",
       "        'text-align: center; padding: 3px;\"/>');\n",
       "    titlebar.append(titletext)\n",
       "    this.root.append(titlebar);\n",
       "    this.header = titletext[0];\n",
       "}\n",
       "\n",
       "\n",
       "\n",
       "mpl.figure.prototype._canvas_extra_style = function(canvas_div) {\n",
       "\n",
       "}\n",
       "\n",
       "\n",
       "mpl.figure.prototype._root_extra_style = function(canvas_div) {\n",
       "\n",
       "}\n",
       "\n",
       "mpl.figure.prototype._init_canvas = function() {\n",
       "    var fig = this;\n",
       "\n",
       "    var canvas_div = $('<div/>');\n",
       "\n",
       "    canvas_div.attr('style', 'position: relative; clear: both; outline: 0');\n",
       "\n",
       "    function canvas_keyboard_event(event) {\n",
       "        return fig.key_event(event, event['data']);\n",
       "    }\n",
       "\n",
       "    canvas_div.keydown('key_press', canvas_keyboard_event);\n",
       "    canvas_div.keyup('key_release', canvas_keyboard_event);\n",
       "    this.canvas_div = canvas_div\n",
       "    this._canvas_extra_style(canvas_div)\n",
       "    this.root.append(canvas_div);\n",
       "\n",
       "    var canvas = $('<canvas/>');\n",
       "    canvas.addClass('mpl-canvas');\n",
       "    canvas.attr('style', \"left: 0; top: 0; z-index: 0; outline: 0\")\n",
       "\n",
       "    this.canvas = canvas[0];\n",
       "    this.context = canvas[0].getContext(\"2d\");\n",
       "\n",
       "    var backingStore = this.context.backingStorePixelRatio ||\n",
       "\tthis.context.webkitBackingStorePixelRatio ||\n",
       "\tthis.context.mozBackingStorePixelRatio ||\n",
       "\tthis.context.msBackingStorePixelRatio ||\n",
       "\tthis.context.oBackingStorePixelRatio ||\n",
       "\tthis.context.backingStorePixelRatio || 1;\n",
       "\n",
       "    mpl.ratio = (window.devicePixelRatio || 1) / backingStore;\n",
       "\n",
       "    var rubberband = $('<canvas/>');\n",
       "    rubberband.attr('style', \"position: absolute; left: 0; top: 0; z-index: 1;\")\n",
       "\n",
       "    var pass_mouse_events = true;\n",
       "\n",
       "    canvas_div.resizable({\n",
       "        start: function(event, ui) {\n",
       "            pass_mouse_events = false;\n",
       "        },\n",
       "        resize: function(event, ui) {\n",
       "            fig.request_resize(ui.size.width, ui.size.height);\n",
       "        },\n",
       "        stop: function(event, ui) {\n",
       "            pass_mouse_events = true;\n",
       "            fig.request_resize(ui.size.width, ui.size.height);\n",
       "        },\n",
       "    });\n",
       "\n",
       "    function mouse_event_fn(event) {\n",
       "        if (pass_mouse_events)\n",
       "            return fig.mouse_event(event, event['data']);\n",
       "    }\n",
       "\n",
       "    rubberband.mousedown('button_press', mouse_event_fn);\n",
       "    rubberband.mouseup('button_release', mouse_event_fn);\n",
       "    // Throttle sequential mouse events to 1 every 20ms.\n",
       "    rubberband.mousemove('motion_notify', mouse_event_fn);\n",
       "\n",
       "    rubberband.mouseenter('figure_enter', mouse_event_fn);\n",
       "    rubberband.mouseleave('figure_leave', mouse_event_fn);\n",
       "\n",
       "    canvas_div.on(\"wheel\", function (event) {\n",
       "        event = event.originalEvent;\n",
       "        event['data'] = 'scroll'\n",
       "        if (event.deltaY < 0) {\n",
       "            event.step = 1;\n",
       "        } else {\n",
       "            event.step = -1;\n",
       "        }\n",
       "        mouse_event_fn(event);\n",
       "    });\n",
       "\n",
       "    canvas_div.append(canvas);\n",
       "    canvas_div.append(rubberband);\n",
       "\n",
       "    this.rubberband = rubberband;\n",
       "    this.rubberband_canvas = rubberband[0];\n",
       "    this.rubberband_context = rubberband[0].getContext(\"2d\");\n",
       "    this.rubberband_context.strokeStyle = \"#000000\";\n",
       "\n",
       "    this._resize_canvas = function(width, height) {\n",
       "        // Keep the size of the canvas, canvas container, and rubber band\n",
       "        // canvas in synch.\n",
       "        canvas_div.css('width', width)\n",
       "        canvas_div.css('height', height)\n",
       "\n",
       "        canvas.attr('width', width * mpl.ratio);\n",
       "        canvas.attr('height', height * mpl.ratio);\n",
       "        canvas.attr('style', 'width: ' + width + 'px; height: ' + height + 'px;');\n",
       "\n",
       "        rubberband.attr('width', width);\n",
       "        rubberband.attr('height', height);\n",
       "    }\n",
       "\n",
       "    // Set the figure to an initial 600x600px, this will subsequently be updated\n",
       "    // upon first draw.\n",
       "    this._resize_canvas(600, 600);\n",
       "\n",
       "    // Disable right mouse context menu.\n",
       "    $(this.rubberband_canvas).bind(\"contextmenu\",function(e){\n",
       "        return false;\n",
       "    });\n",
       "\n",
       "    function set_focus () {\n",
       "        canvas.focus();\n",
       "        canvas_div.focus();\n",
       "    }\n",
       "\n",
       "    window.setTimeout(set_focus, 100);\n",
       "}\n",
       "\n",
       "mpl.figure.prototype._init_toolbar = function() {\n",
       "    var fig = this;\n",
       "\n",
       "    var nav_element = $('<div/>')\n",
       "    nav_element.attr('style', 'width: 100%');\n",
       "    this.root.append(nav_element);\n",
       "\n",
       "    // Define a callback function for later on.\n",
       "    function toolbar_event(event) {\n",
       "        return fig.toolbar_button_onclick(event['data']);\n",
       "    }\n",
       "    function toolbar_mouse_event(event) {\n",
       "        return fig.toolbar_button_onmouseover(event['data']);\n",
       "    }\n",
       "\n",
       "    for(var toolbar_ind in mpl.toolbar_items) {\n",
       "        var name = mpl.toolbar_items[toolbar_ind][0];\n",
       "        var tooltip = mpl.toolbar_items[toolbar_ind][1];\n",
       "        var image = mpl.toolbar_items[toolbar_ind][2];\n",
       "        var method_name = mpl.toolbar_items[toolbar_ind][3];\n",
       "\n",
       "        if (!name) {\n",
       "            // put a spacer in here.\n",
       "            continue;\n",
       "        }\n",
       "        var button = $('<button/>');\n",
       "        button.addClass('ui-button ui-widget ui-state-default ui-corner-all ' +\n",
       "                        'ui-button-icon-only');\n",
       "        button.attr('role', 'button');\n",
       "        button.attr('aria-disabled', 'false');\n",
       "        button.click(method_name, toolbar_event);\n",
       "        button.mouseover(tooltip, toolbar_mouse_event);\n",
       "\n",
       "        var icon_img = $('<span/>');\n",
       "        icon_img.addClass('ui-button-icon-primary ui-icon');\n",
       "        icon_img.addClass(image);\n",
       "        icon_img.addClass('ui-corner-all');\n",
       "\n",
       "        var tooltip_span = $('<span/>');\n",
       "        tooltip_span.addClass('ui-button-text');\n",
       "        tooltip_span.html(tooltip);\n",
       "\n",
       "        button.append(icon_img);\n",
       "        button.append(tooltip_span);\n",
       "\n",
       "        nav_element.append(button);\n",
       "    }\n",
       "\n",
       "    var fmt_picker_span = $('<span/>');\n",
       "\n",
       "    var fmt_picker = $('<select/>');\n",
       "    fmt_picker.addClass('mpl-toolbar-option ui-widget ui-widget-content');\n",
       "    fmt_picker_span.append(fmt_picker);\n",
       "    nav_element.append(fmt_picker_span);\n",
       "    this.format_dropdown = fmt_picker[0];\n",
       "\n",
       "    for (var ind in mpl.extensions) {\n",
       "        var fmt = mpl.extensions[ind];\n",
       "        var option = $(\n",
       "            '<option/>', {selected: fmt === mpl.default_extension}).html(fmt);\n",
       "        fmt_picker.append(option)\n",
       "    }\n",
       "\n",
       "    // Add hover states to the ui-buttons\n",
       "    $( \".ui-button\" ).hover(\n",
       "        function() { $(this).addClass(\"ui-state-hover\");},\n",
       "        function() { $(this).removeClass(\"ui-state-hover\");}\n",
       "    );\n",
       "\n",
       "    var status_bar = $('<span class=\"mpl-message\"/>');\n",
       "    nav_element.append(status_bar);\n",
       "    this.message = status_bar[0];\n",
       "}\n",
       "\n",
       "mpl.figure.prototype.request_resize = function(x_pixels, y_pixels) {\n",
       "    // Request matplotlib to resize the figure. Matplotlib will then trigger a resize in the client,\n",
       "    // which will in turn request a refresh of the image.\n",
       "    this.send_message('resize', {'width': x_pixels, 'height': y_pixels});\n",
       "}\n",
       "\n",
       "mpl.figure.prototype.send_message = function(type, properties) {\n",
       "    properties['type'] = type;\n",
       "    properties['figure_id'] = this.id;\n",
       "    this.ws.send(JSON.stringify(properties));\n",
       "}\n",
       "\n",
       "mpl.figure.prototype.send_draw_message = function() {\n",
       "    if (!this.waiting) {\n",
       "        this.waiting = true;\n",
       "        this.ws.send(JSON.stringify({type: \"draw\", figure_id: this.id}));\n",
       "    }\n",
       "}\n",
       "\n",
       "\n",
       "mpl.figure.prototype.handle_save = function(fig, msg) {\n",
       "    var format_dropdown = fig.format_dropdown;\n",
       "    var format = format_dropdown.options[format_dropdown.selectedIndex].value;\n",
       "    fig.ondownload(fig, format);\n",
       "}\n",
       "\n",
       "\n",
       "mpl.figure.prototype.handle_resize = function(fig, msg) {\n",
       "    var size = msg['size'];\n",
       "    if (size[0] != fig.canvas.width || size[1] != fig.canvas.height) {\n",
       "        fig._resize_canvas(size[0], size[1]);\n",
       "        fig.send_message(\"refresh\", {});\n",
       "    };\n",
       "}\n",
       "\n",
       "mpl.figure.prototype.handle_rubberband = function(fig, msg) {\n",
       "    var x0 = msg['x0'] / mpl.ratio;\n",
       "    var y0 = (fig.canvas.height - msg['y0']) / mpl.ratio;\n",
       "    var x1 = msg['x1'] / mpl.ratio;\n",
       "    var y1 = (fig.canvas.height - msg['y1']) / mpl.ratio;\n",
       "    x0 = Math.floor(x0) + 0.5;\n",
       "    y0 = Math.floor(y0) + 0.5;\n",
       "    x1 = Math.floor(x1) + 0.5;\n",
       "    y1 = Math.floor(y1) + 0.5;\n",
       "    var min_x = Math.min(x0, x1);\n",
       "    var min_y = Math.min(y0, y1);\n",
       "    var width = Math.abs(x1 - x0);\n",
       "    var height = Math.abs(y1 - y0);\n",
       "\n",
       "    fig.rubberband_context.clearRect(\n",
       "        0, 0, fig.canvas.width, fig.canvas.height);\n",
       "\n",
       "    fig.rubberband_context.strokeRect(min_x, min_y, width, height);\n",
       "}\n",
       "\n",
       "mpl.figure.prototype.handle_figure_label = function(fig, msg) {\n",
       "    // Updates the figure title.\n",
       "    fig.header.textContent = msg['label'];\n",
       "}\n",
       "\n",
       "mpl.figure.prototype.handle_cursor = function(fig, msg) {\n",
       "    var cursor = msg['cursor'];\n",
       "    switch(cursor)\n",
       "    {\n",
       "    case 0:\n",
       "        cursor = 'pointer';\n",
       "        break;\n",
       "    case 1:\n",
       "        cursor = 'default';\n",
       "        break;\n",
       "    case 2:\n",
       "        cursor = 'crosshair';\n",
       "        break;\n",
       "    case 3:\n",
       "        cursor = 'move';\n",
       "        break;\n",
       "    }\n",
       "    fig.rubberband_canvas.style.cursor = cursor;\n",
       "}\n",
       "\n",
       "mpl.figure.prototype.handle_message = function(fig, msg) {\n",
       "    fig.message.textContent = msg['message'];\n",
       "}\n",
       "\n",
       "mpl.figure.prototype.handle_draw = function(fig, msg) {\n",
       "    // Request the server to send over a new figure.\n",
       "    fig.send_draw_message();\n",
       "}\n",
       "\n",
       "mpl.figure.prototype.handle_image_mode = function(fig, msg) {\n",
       "    fig.image_mode = msg['mode'];\n",
       "}\n",
       "\n",
       "mpl.figure.prototype.updated_canvas_event = function() {\n",
       "    // Called whenever the canvas gets updated.\n",
       "    this.send_message(\"ack\", {});\n",
       "}\n",
       "\n",
       "// A function to construct a web socket function for onmessage handling.\n",
       "// Called in the figure constructor.\n",
       "mpl.figure.prototype._make_on_message_function = function(fig) {\n",
       "    return function socket_on_message(evt) {\n",
       "        if (evt.data instanceof Blob) {\n",
       "            /* FIXME: We get \"Resource interpreted as Image but\n",
       "             * transferred with MIME type text/plain:\" errors on\n",
       "             * Chrome.  But how to set the MIME type?  It doesn't seem\n",
       "             * to be part of the websocket stream */\n",
       "            evt.data.type = \"image/png\";\n",
       "\n",
       "            /* Free the memory for the previous frames */\n",
       "            if (fig.imageObj.src) {\n",
       "                (window.URL || window.webkitURL).revokeObjectURL(\n",
       "                    fig.imageObj.src);\n",
       "            }\n",
       "\n",
       "            fig.imageObj.src = (window.URL || window.webkitURL).createObjectURL(\n",
       "                evt.data);\n",
       "            fig.updated_canvas_event();\n",
       "            fig.waiting = false;\n",
       "            return;\n",
       "        }\n",
       "        else if (typeof evt.data === 'string' && evt.data.slice(0, 21) == \"data:image/png;base64\") {\n",
       "            fig.imageObj.src = evt.data;\n",
       "            fig.updated_canvas_event();\n",
       "            fig.waiting = false;\n",
       "            return;\n",
       "        }\n",
       "\n",
       "        var msg = JSON.parse(evt.data);\n",
       "        var msg_type = msg['type'];\n",
       "\n",
       "        // Call the  \"handle_{type}\" callback, which takes\n",
       "        // the figure and JSON message as its only arguments.\n",
       "        try {\n",
       "            var callback = fig[\"handle_\" + msg_type];\n",
       "        } catch (e) {\n",
       "            console.log(\"No handler for the '\" + msg_type + \"' message type: \", msg);\n",
       "            return;\n",
       "        }\n",
       "\n",
       "        if (callback) {\n",
       "            try {\n",
       "                // console.log(\"Handling '\" + msg_type + \"' message: \", msg);\n",
       "                callback(fig, msg);\n",
       "            } catch (e) {\n",
       "                console.log(\"Exception inside the 'handler_\" + msg_type + \"' callback:\", e, e.stack, msg);\n",
       "            }\n",
       "        }\n",
       "    };\n",
       "}\n",
       "\n",
       "// from http://stackoverflow.com/questions/1114465/getting-mouse-location-in-canvas\n",
       "mpl.findpos = function(e) {\n",
       "    //this section is from http://www.quirksmode.org/js/events_properties.html\n",
       "    var targ;\n",
       "    if (!e)\n",
       "        e = window.event;\n",
       "    if (e.target)\n",
       "        targ = e.target;\n",
       "    else if (e.srcElement)\n",
       "        targ = e.srcElement;\n",
       "    if (targ.nodeType == 3) // defeat Safari bug\n",
       "        targ = targ.parentNode;\n",
       "\n",
       "    // jQuery normalizes the pageX and pageY\n",
       "    // pageX,Y are the mouse positions relative to the document\n",
       "    // offset() returns the position of the element relative to the document\n",
       "    var x = e.pageX - $(targ).offset().left;\n",
       "    var y = e.pageY - $(targ).offset().top;\n",
       "\n",
       "    return {\"x\": x, \"y\": y};\n",
       "};\n",
       "\n",
       "/*\n",
       " * return a copy of an object with only non-object keys\n",
       " * we need this to avoid circular references\n",
       " * http://stackoverflow.com/a/24161582/3208463\n",
       " */\n",
       "function simpleKeys (original) {\n",
       "  return Object.keys(original).reduce(function (obj, key) {\n",
       "    if (typeof original[key] !== 'object')\n",
       "        obj[key] = original[key]\n",
       "    return obj;\n",
       "  }, {});\n",
       "}\n",
       "\n",
       "mpl.figure.prototype.mouse_event = function(event, name) {\n",
       "    var canvas_pos = mpl.findpos(event)\n",
       "\n",
       "    if (name === 'button_press')\n",
       "    {\n",
       "        this.canvas.focus();\n",
       "        this.canvas_div.focus();\n",
       "    }\n",
       "\n",
       "    var x = canvas_pos.x * mpl.ratio;\n",
       "    var y = canvas_pos.y * mpl.ratio;\n",
       "\n",
       "    this.send_message(name, {x: x, y: y, button: event.button,\n",
       "                             step: event.step,\n",
       "                             guiEvent: simpleKeys(event)});\n",
       "\n",
       "    /* This prevents the web browser from automatically changing to\n",
       "     * the text insertion cursor when the button is pressed.  We want\n",
       "     * to control all of the cursor setting manually through the\n",
       "     * 'cursor' event from matplotlib */\n",
       "    event.preventDefault();\n",
       "    return false;\n",
       "}\n",
       "\n",
       "mpl.figure.prototype._key_event_extra = function(event, name) {\n",
       "    // Handle any extra behaviour associated with a key event\n",
       "}\n",
       "\n",
       "mpl.figure.prototype.key_event = function(event, name) {\n",
       "\n",
       "    // Prevent repeat events\n",
       "    if (name == 'key_press')\n",
       "    {\n",
       "        if (event.which === this._key)\n",
       "            return;\n",
       "        else\n",
       "            this._key = event.which;\n",
       "    }\n",
       "    if (name == 'key_release')\n",
       "        this._key = null;\n",
       "\n",
       "    var value = '';\n",
       "    if (event.ctrlKey && event.which != 17)\n",
       "        value += \"ctrl+\";\n",
       "    if (event.altKey && event.which != 18)\n",
       "        value += \"alt+\";\n",
       "    if (event.shiftKey && event.which != 16)\n",
       "        value += \"shift+\";\n",
       "\n",
       "    value += 'k';\n",
       "    value += event.which.toString();\n",
       "\n",
       "    this._key_event_extra(event, name);\n",
       "\n",
       "    this.send_message(name, {key: value,\n",
       "                             guiEvent: simpleKeys(event)});\n",
       "    return false;\n",
       "}\n",
       "\n",
       "mpl.figure.prototype.toolbar_button_onclick = function(name) {\n",
       "    if (name == 'download') {\n",
       "        this.handle_save(this, null);\n",
       "    } else {\n",
       "        this.send_message(\"toolbar_button\", {name: name});\n",
       "    }\n",
       "};\n",
       "\n",
       "mpl.figure.prototype.toolbar_button_onmouseover = function(tooltip) {\n",
       "    this.message.textContent = tooltip;\n",
       "};\n",
       "mpl.toolbar_items = [[\"Home\", \"Reset original view\", \"fa fa-home icon-home\", \"home\"], [\"Back\", \"Back to  previous view\", \"fa fa-arrow-left icon-arrow-left\", \"back\"], [\"Forward\", \"Forward to next view\", \"fa fa-arrow-right icon-arrow-right\", \"forward\"], [\"\", \"\", \"\", \"\"], [\"Pan\", \"Pan axes with left mouse, zoom with right\", \"fa fa-arrows icon-move\", \"pan\"], [\"Zoom\", \"Zoom to rectangle\", \"fa fa-square-o icon-check-empty\", \"zoom\"], [\"\", \"\", \"\", \"\"], [\"Download\", \"Download plot\", \"fa fa-floppy-o icon-save\", \"download\"]];\n",
       "\n",
       "mpl.extensions = [\"eps\", \"jpeg\", \"pdf\", \"png\", \"ps\", \"raw\", \"svg\", \"tif\"];\n",
       "\n",
       "mpl.default_extension = \"png\";var comm_websocket_adapter = function(comm) {\n",
       "    // Create a \"websocket\"-like object which calls the given IPython comm\n",
       "    // object with the appropriate methods. Currently this is a non binary\n",
       "    // socket, so there is still some room for performance tuning.\n",
       "    var ws = {};\n",
       "\n",
       "    ws.close = function() {\n",
       "        comm.close()\n",
       "    };\n",
       "    ws.send = function(m) {\n",
       "        //console.log('sending', m);\n",
       "        comm.send(m);\n",
       "    };\n",
       "    // Register the callback with on_msg.\n",
       "    comm.on_msg(function(msg) {\n",
       "        //console.log('receiving', msg['content']['data'], msg);\n",
       "        // Pass the mpl event to the overriden (by mpl) onmessage function.\n",
       "        ws.onmessage(msg['content']['data'])\n",
       "    });\n",
       "    return ws;\n",
       "}\n",
       "\n",
       "mpl.mpl_figure_comm = function(comm, msg) {\n",
       "    // This is the function which gets called when the mpl process\n",
       "    // starts-up an IPython Comm through the \"matplotlib\" channel.\n",
       "\n",
       "    var id = msg.content.data.id;\n",
       "    // Get hold of the div created by the display call when the Comm\n",
       "    // socket was opened in Python.\n",
       "    var element = $(\"#\" + id);\n",
       "    var ws_proxy = comm_websocket_adapter(comm)\n",
       "\n",
       "    function ondownload(figure, format) {\n",
       "        window.open(figure.imageObj.src);\n",
       "    }\n",
       "\n",
       "    var fig = new mpl.figure(id, ws_proxy,\n",
       "                           ondownload,\n",
       "                           element.get(0));\n",
       "\n",
       "    // Call onopen now - mpl needs it, as it is assuming we've passed it a real\n",
       "    // web socket which is closed, not our websocket->open comm proxy.\n",
       "    ws_proxy.onopen();\n",
       "\n",
       "    fig.parent_element = element.get(0);\n",
       "    fig.cell_info = mpl.find_output_cell(\"<div id='\" + id + \"'></div>\");\n",
       "    if (!fig.cell_info) {\n",
       "        console.error(\"Failed to find cell for figure\", id, fig);\n",
       "        return;\n",
       "    }\n",
       "\n",
       "    var output_index = fig.cell_info[2]\n",
       "    var cell = fig.cell_info[0];\n",
       "\n",
       "};\n",
       "\n",
       "mpl.figure.prototype.handle_close = function(fig, msg) {\n",
       "    var width = fig.canvas.width/mpl.ratio\n",
       "    fig.root.unbind('remove')\n",
       "\n",
       "    // Update the output cell to use the data from the current canvas.\n",
       "    fig.push_to_output();\n",
       "    var dataURL = fig.canvas.toDataURL();\n",
       "    // Re-enable the keyboard manager in IPython - without this line, in FF,\n",
       "    // the notebook keyboard shortcuts fail.\n",
       "    IPython.keyboard_manager.enable()\n",
       "    $(fig.parent_element).html('<img src=\"' + dataURL + '\" width=\"' + width + '\">');\n",
       "    fig.close_ws(fig, msg);\n",
       "}\n",
       "\n",
       "mpl.figure.prototype.close_ws = function(fig, msg){\n",
       "    fig.send_message('closing', msg);\n",
       "    // fig.ws.close()\n",
       "}\n",
       "\n",
       "mpl.figure.prototype.push_to_output = function(remove_interactive) {\n",
       "    // Turn the data on the canvas into data in the output cell.\n",
       "    var width = this.canvas.width/mpl.ratio\n",
       "    var dataURL = this.canvas.toDataURL();\n",
       "    this.cell_info[1]['text/html'] = '<img src=\"' + dataURL + '\" width=\"' + width + '\">';\n",
       "}\n",
       "\n",
       "mpl.figure.prototype.updated_canvas_event = function() {\n",
       "    // Tell IPython that the notebook contents must change.\n",
       "    IPython.notebook.set_dirty(true);\n",
       "    this.send_message(\"ack\", {});\n",
       "    var fig = this;\n",
       "    // Wait a second, then push the new image to the DOM so\n",
       "    // that it is saved nicely (might be nice to debounce this).\n",
       "    setTimeout(function () { fig.push_to_output() }, 1000);\n",
       "}\n",
       "\n",
       "mpl.figure.prototype._init_toolbar = function() {\n",
       "    var fig = this;\n",
       "\n",
       "    var nav_element = $('<div/>')\n",
       "    nav_element.attr('style', 'width: 100%');\n",
       "    this.root.append(nav_element);\n",
       "\n",
       "    // Define a callback function for later on.\n",
       "    function toolbar_event(event) {\n",
       "        return fig.toolbar_button_onclick(event['data']);\n",
       "    }\n",
       "    function toolbar_mouse_event(event) {\n",
       "        return fig.toolbar_button_onmouseover(event['data']);\n",
       "    }\n",
       "\n",
       "    for(var toolbar_ind in mpl.toolbar_items){\n",
       "        var name = mpl.toolbar_items[toolbar_ind][0];\n",
       "        var tooltip = mpl.toolbar_items[toolbar_ind][1];\n",
       "        var image = mpl.toolbar_items[toolbar_ind][2];\n",
       "        var method_name = mpl.toolbar_items[toolbar_ind][3];\n",
       "\n",
       "        if (!name) { continue; };\n",
       "\n",
       "        var button = $('<button class=\"btn btn-default\" href=\"#\" title=\"' + name + '\"><i class=\"fa ' + image + ' fa-lg\"></i></button>');\n",
       "        button.click(method_name, toolbar_event);\n",
       "        button.mouseover(tooltip, toolbar_mouse_event);\n",
       "        nav_element.append(button);\n",
       "    }\n",
       "\n",
       "    // Add the status bar.\n",
       "    var status_bar = $('<span class=\"mpl-message\" style=\"text-align:right; float: right;\"/>');\n",
       "    nav_element.append(status_bar);\n",
       "    this.message = status_bar[0];\n",
       "\n",
       "    // Add the close button to the window.\n",
       "    var buttongrp = $('<div class=\"btn-group inline pull-right\"></div>');\n",
       "    var button = $('<button class=\"btn btn-mini btn-primary\" href=\"#\" title=\"Stop Interaction\"><i class=\"fa fa-power-off icon-remove icon-large\"></i></button>');\n",
       "    button.click(function (evt) { fig.handle_close(fig, {}); } );\n",
       "    button.mouseover('Stop Interaction', toolbar_mouse_event);\n",
       "    buttongrp.append(button);\n",
       "    var titlebar = this.root.find($('.ui-dialog-titlebar'));\n",
       "    titlebar.prepend(buttongrp);\n",
       "}\n",
       "\n",
       "mpl.figure.prototype._root_extra_style = function(el){\n",
       "    var fig = this\n",
       "    el.on(\"remove\", function(){\n",
       "\tfig.close_ws(fig, {});\n",
       "    });\n",
       "}\n",
       "\n",
       "mpl.figure.prototype._canvas_extra_style = function(el){\n",
       "    // this is important to make the div 'focusable\n",
       "    el.attr('tabindex', 0)\n",
       "    // reach out to IPython and tell the keyboard manager to turn it's self\n",
       "    // off when our div gets focus\n",
       "\n",
       "    // location in version 3\n",
       "    if (IPython.notebook.keyboard_manager) {\n",
       "        IPython.notebook.keyboard_manager.register_events(el);\n",
       "    }\n",
       "    else {\n",
       "        // location in version 2\n",
       "        IPython.keyboard_manager.register_events(el);\n",
       "    }\n",
       "\n",
       "}\n",
       "\n",
       "mpl.figure.prototype._key_event_extra = function(event, name) {\n",
       "    var manager = IPython.notebook.keyboard_manager;\n",
       "    if (!manager)\n",
       "        manager = IPython.keyboard_manager;\n",
       "\n",
       "    // Check for shift+enter\n",
       "    if (event.shiftKey && event.which == 13) {\n",
       "        this.canvas_div.blur();\n",
       "        // select the cell after this one\n",
       "        var index = IPython.notebook.find_cell_index(this.cell_info[0]);\n",
       "        IPython.notebook.select(index + 1);\n",
       "    }\n",
       "}\n",
       "\n",
       "mpl.figure.prototype.handle_save = function(fig, msg) {\n",
       "    fig.ondownload(fig, null);\n",
       "}\n",
       "\n",
       "\n",
       "mpl.find_output_cell = function(html_output) {\n",
       "    // Return the cell and output element which can be found *uniquely* in the notebook.\n",
       "    // Note - this is a bit hacky, but it is done because the \"notebook_saving.Notebook\"\n",
       "    // IPython event is triggered only after the cells have been serialised, which for\n",
       "    // our purposes (turning an active figure into a static one), is too late.\n",
       "    var cells = IPython.notebook.get_cells();\n",
       "    var ncells = cells.length;\n",
       "    for (var i=0; i<ncells; i++) {\n",
       "        var cell = cells[i];\n",
       "        if (cell.cell_type === 'code'){\n",
       "            for (var j=0; j<cell.output_area.outputs.length; j++) {\n",
       "                var data = cell.output_area.outputs[j];\n",
       "                if (data.data) {\n",
       "                    // IPython >= 3 moved mimebundle to data attribute of output\n",
       "                    data = data.data;\n",
       "                }\n",
       "                if (data['text/html'] == html_output) {\n",
       "                    return [cell, data, j];\n",
       "                }\n",
       "            }\n",
       "        }\n",
       "    }\n",
       "}\n",
       "\n",
       "// Register the function which deals with the matplotlib target/channel.\n",
       "// The kernel may be null if the page has been refreshed.\n",
       "if (IPython.notebook.kernel != null) {\n",
       "    IPython.notebook.kernel.comm_manager.register_target('matplotlib', mpl.mpl_figure_comm);\n",
       "}\n"
      ],
      "text/plain": [
       "<IPython.core.display.Javascript object>"
      ]
     },
     "metadata": {},
     "output_type": "display_data"
    },
    {
     "data": {
      "text/html": [
       "<img src=\"data:image/png;base64,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\" width=\"900\">"
      ],
      "text/plain": [
       "<IPython.core.display.HTML object>"
      ]
     },
     "metadata": {},
     "output_type": "display_data"
    },
    {
     "name": "stderr",
     "output_type": "stream",
     "text": [
      "C:\\ProgramData\\Anaconda3\\lib\\site-packages\\matplotlib\\axes\\_axes.py:545: UserWarning: No labelled objects found. Use label='...' kwarg on individual plots.\n",
      "  warnings.warn(\"No labelled objects found. \"\n"
     ]
    }
   ],
   "source": [
    "barwidth = 0.75; \n",
    "fig, ax = plt.subplots(figsize=(9, 8));\n",
    "rects3 = ax.bar(0.5,RTanalysis_Bias.LowC.mean(),barwidth,yerr=RTstderror_Bias.LowC,ecolor='k',edgecolor=(0.1,1,0.1),linewidth = 2, facecolor='none',error_kw=dict(lw=3));\n",
    "rects4 = ax.bar(1.5,RTanalysis_Bias.HighIC.mean(),barwidth,color=(0.1,1,0.1),yerr=RTstderror_Bias.HighIC,ecolor='k',error_kw=dict(lw=3));\n",
    "sns.set(context='notebook', style='white', font='Myriad Pro', font_scale=2, color_codes=False, rc=None);\n",
    "ax.set_ylim(460,590);\n",
    "ax.set_xlim(0,2.5);\n",
    "ax.set_xticklabels(('Low', 'High'));\n",
    "ax.set_xticks([0.5, 1.5]);\n",
    "ax.set_yticks(np.arange(460, 591, 10));\n",
    "plt.legend([rects3,rects4], ['Congruent','Incongruent'], loc='upper left',fontsize=18,title='Trial Type')\n",
    "plt.legend(title='Trial Type',fontsize=14)\n",
    "plt.title('S-C RT Cueing Effect for Biased Stimuli', fontsize=26,fontweight=\"bold\")\n",
    "plt.ylabel('Reaction Time (ms)', fontsize=24,fontweight=\"bold\")\n",
    "plt.xlabel('S2 Control-Demand Cue', fontsize=24,fontweight=\"bold\")\n",
    "sns.despine();\n",
    "\n",
    "plt.show()"
   ]
  },
  {
   "cell_type": "code",
   "execution_count": 43,
   "metadata": {},
   "outputs": [
    {
     "data": {
      "application/javascript": [
       "/* Put everything inside the global mpl namespace */\n",
       "window.mpl = {};\n",
       "\n",
       "\n",
       "mpl.get_websocket_type = function() {\n",
       "    if (typeof(WebSocket) !== 'undefined') {\n",
       "        return WebSocket;\n",
       "    } else if (typeof(MozWebSocket) !== 'undefined') {\n",
       "        return MozWebSocket;\n",
       "    } else {\n",
       "        alert('Your browser does not have WebSocket support.' +\n",
       "              'Please try Chrome, Safari or Firefox ≥ 6. ' +\n",
       "              'Firefox 4 and 5 are also supported but you ' +\n",
       "              'have to enable WebSockets in about:config.');\n",
       "    };\n",
       "}\n",
       "\n",
       "mpl.figure = function(figure_id, websocket, ondownload, parent_element) {\n",
       "    this.id = figure_id;\n",
       "\n",
       "    this.ws = websocket;\n",
       "\n",
       "    this.supports_binary = (this.ws.binaryType != undefined);\n",
       "\n",
       "    if (!this.supports_binary) {\n",
       "        var warnings = document.getElementById(\"mpl-warnings\");\n",
       "        if (warnings) {\n",
       "            warnings.style.display = 'block';\n",
       "            warnings.textContent = (\n",
       "                \"This browser does not support binary websocket messages. \" +\n",
       "                    \"Performance may be slow.\");\n",
       "        }\n",
       "    }\n",
       "\n",
       "    this.imageObj = new Image();\n",
       "\n",
       "    this.context = undefined;\n",
       "    this.message = undefined;\n",
       "    this.canvas = undefined;\n",
       "    this.rubberband_canvas = undefined;\n",
       "    this.rubberband_context = undefined;\n",
       "    this.format_dropdown = undefined;\n",
       "\n",
       "    this.image_mode = 'full';\n",
       "\n",
       "    this.root = $('<div/>');\n",
       "    this._root_extra_style(this.root)\n",
       "    this.root.attr('style', 'display: inline-block');\n",
       "\n",
       "    $(parent_element).append(this.root);\n",
       "\n",
       "    this._init_header(this);\n",
       "    this._init_canvas(this);\n",
       "    this._init_toolbar(this);\n",
       "\n",
       "    var fig = this;\n",
       "\n",
       "    this.waiting = false;\n",
       "\n",
       "    this.ws.onopen =  function () {\n",
       "            fig.send_message(\"supports_binary\", {value: fig.supports_binary});\n",
       "            fig.send_message(\"send_image_mode\", {});\n",
       "            if (mpl.ratio != 1) {\n",
       "                fig.send_message(\"set_dpi_ratio\", {'dpi_ratio': mpl.ratio});\n",
       "            }\n",
       "            fig.send_message(\"refresh\", {});\n",
       "        }\n",
       "\n",
       "    this.imageObj.onload = function() {\n",
       "            if (fig.image_mode == 'full') {\n",
       "                // Full images could contain transparency (where diff images\n",
       "                // almost always do), so we need to clear the canvas so that\n",
       "                // there is no ghosting.\n",
       "                fig.context.clearRect(0, 0, fig.canvas.width, fig.canvas.height);\n",
       "            }\n",
       "            fig.context.drawImage(fig.imageObj, 0, 0);\n",
       "        };\n",
       "\n",
       "    this.imageObj.onunload = function() {\n",
       "        this.ws.close();\n",
       "    }\n",
       "\n",
       "    this.ws.onmessage = this._make_on_message_function(this);\n",
       "\n",
       "    this.ondownload = ondownload;\n",
       "}\n",
       "\n",
       "mpl.figure.prototype._init_header = function() {\n",
       "    var titlebar = $(\n",
       "        '<div class=\"ui-dialog-titlebar ui-widget-header ui-corner-all ' +\n",
       "        'ui-helper-clearfix\"/>');\n",
       "    var titletext = $(\n",
       "        '<div class=\"ui-dialog-title\" style=\"width: 100%; ' +\n",
       "        'text-align: center; padding: 3px;\"/>');\n",
       "    titlebar.append(titletext)\n",
       "    this.root.append(titlebar);\n",
       "    this.header = titletext[0];\n",
       "}\n",
       "\n",
       "\n",
       "\n",
       "mpl.figure.prototype._canvas_extra_style = function(canvas_div) {\n",
       "\n",
       "}\n",
       "\n",
       "\n",
       "mpl.figure.prototype._root_extra_style = function(canvas_div) {\n",
       "\n",
       "}\n",
       "\n",
       "mpl.figure.prototype._init_canvas = function() {\n",
       "    var fig = this;\n",
       "\n",
       "    var canvas_div = $('<div/>');\n",
       "\n",
       "    canvas_div.attr('style', 'position: relative; clear: both; outline: 0');\n",
       "\n",
       "    function canvas_keyboard_event(event) {\n",
       "        return fig.key_event(event, event['data']);\n",
       "    }\n",
       "\n",
       "    canvas_div.keydown('key_press', canvas_keyboard_event);\n",
       "    canvas_div.keyup('key_release', canvas_keyboard_event);\n",
       "    this.canvas_div = canvas_div\n",
       "    this._canvas_extra_style(canvas_div)\n",
       "    this.root.append(canvas_div);\n",
       "\n",
       "    var canvas = $('<canvas/>');\n",
       "    canvas.addClass('mpl-canvas');\n",
       "    canvas.attr('style', \"left: 0; top: 0; z-index: 0; outline: 0\")\n",
       "\n",
       "    this.canvas = canvas[0];\n",
       "    this.context = canvas[0].getContext(\"2d\");\n",
       "\n",
       "    var backingStore = this.context.backingStorePixelRatio ||\n",
       "\tthis.context.webkitBackingStorePixelRatio ||\n",
       "\tthis.context.mozBackingStorePixelRatio ||\n",
       "\tthis.context.msBackingStorePixelRatio ||\n",
       "\tthis.context.oBackingStorePixelRatio ||\n",
       "\tthis.context.backingStorePixelRatio || 1;\n",
       "\n",
       "    mpl.ratio = (window.devicePixelRatio || 1) / backingStore;\n",
       "\n",
       "    var rubberband = $('<canvas/>');\n",
       "    rubberband.attr('style', \"position: absolute; left: 0; top: 0; z-index: 1;\")\n",
       "\n",
       "    var pass_mouse_events = true;\n",
       "\n",
       "    canvas_div.resizable({\n",
       "        start: function(event, ui) {\n",
       "            pass_mouse_events = false;\n",
       "        },\n",
       "        resize: function(event, ui) {\n",
       "            fig.request_resize(ui.size.width, ui.size.height);\n",
       "        },\n",
       "        stop: function(event, ui) {\n",
       "            pass_mouse_events = true;\n",
       "            fig.request_resize(ui.size.width, ui.size.height);\n",
       "        },\n",
       "    });\n",
       "\n",
       "    function mouse_event_fn(event) {\n",
       "        if (pass_mouse_events)\n",
       "            return fig.mouse_event(event, event['data']);\n",
       "    }\n",
       "\n",
       "    rubberband.mousedown('button_press', mouse_event_fn);\n",
       "    rubberband.mouseup('button_release', mouse_event_fn);\n",
       "    // Throttle sequential mouse events to 1 every 20ms.\n",
       "    rubberband.mousemove('motion_notify', mouse_event_fn);\n",
       "\n",
       "    rubberband.mouseenter('figure_enter', mouse_event_fn);\n",
       "    rubberband.mouseleave('figure_leave', mouse_event_fn);\n",
       "\n",
       "    canvas_div.on(\"wheel\", function (event) {\n",
       "        event = event.originalEvent;\n",
       "        event['data'] = 'scroll'\n",
       "        if (event.deltaY < 0) {\n",
       "            event.step = 1;\n",
       "        } else {\n",
       "            event.step = -1;\n",
       "        }\n",
       "        mouse_event_fn(event);\n",
       "    });\n",
       "\n",
       "    canvas_div.append(canvas);\n",
       "    canvas_div.append(rubberband);\n",
       "\n",
       "    this.rubberband = rubberband;\n",
       "    this.rubberband_canvas = rubberband[0];\n",
       "    this.rubberband_context = rubberband[0].getContext(\"2d\");\n",
       "    this.rubberband_context.strokeStyle = \"#000000\";\n",
       "\n",
       "    this._resize_canvas = function(width, height) {\n",
       "        // Keep the size of the canvas, canvas container, and rubber band\n",
       "        // canvas in synch.\n",
       "        canvas_div.css('width', width)\n",
       "        canvas_div.css('height', height)\n",
       "\n",
       "        canvas.attr('width', width * mpl.ratio);\n",
       "        canvas.attr('height', height * mpl.ratio);\n",
       "        canvas.attr('style', 'width: ' + width + 'px; height: ' + height + 'px;');\n",
       "\n",
       "        rubberband.attr('width', width);\n",
       "        rubberband.attr('height', height);\n",
       "    }\n",
       "\n",
       "    // Set the figure to an initial 600x600px, this will subsequently be updated\n",
       "    // upon first draw.\n",
       "    this._resize_canvas(600, 600);\n",
       "\n",
       "    // Disable right mouse context menu.\n",
       "    $(this.rubberband_canvas).bind(\"contextmenu\",function(e){\n",
       "        return false;\n",
       "    });\n",
       "\n",
       "    function set_focus () {\n",
       "        canvas.focus();\n",
       "        canvas_div.focus();\n",
       "    }\n",
       "\n",
       "    window.setTimeout(set_focus, 100);\n",
       "}\n",
       "\n",
       "mpl.figure.prototype._init_toolbar = function() {\n",
       "    var fig = this;\n",
       "\n",
       "    var nav_element = $('<div/>')\n",
       "    nav_element.attr('style', 'width: 100%');\n",
       "    this.root.append(nav_element);\n",
       "\n",
       "    // Define a callback function for later on.\n",
       "    function toolbar_event(event) {\n",
       "        return fig.toolbar_button_onclick(event['data']);\n",
       "    }\n",
       "    function toolbar_mouse_event(event) {\n",
       "        return fig.toolbar_button_onmouseover(event['data']);\n",
       "    }\n",
       "\n",
       "    for(var toolbar_ind in mpl.toolbar_items) {\n",
       "        var name = mpl.toolbar_items[toolbar_ind][0];\n",
       "        var tooltip = mpl.toolbar_items[toolbar_ind][1];\n",
       "        var image = mpl.toolbar_items[toolbar_ind][2];\n",
       "        var method_name = mpl.toolbar_items[toolbar_ind][3];\n",
       "\n",
       "        if (!name) {\n",
       "            // put a spacer in here.\n",
       "            continue;\n",
       "        }\n",
       "        var button = $('<button/>');\n",
       "        button.addClass('ui-button ui-widget ui-state-default ui-corner-all ' +\n",
       "                        'ui-button-icon-only');\n",
       "        button.attr('role', 'button');\n",
       "        button.attr('aria-disabled', 'false');\n",
       "        button.click(method_name, toolbar_event);\n",
       "        button.mouseover(tooltip, toolbar_mouse_event);\n",
       "\n",
       "        var icon_img = $('<span/>');\n",
       "        icon_img.addClass('ui-button-icon-primary ui-icon');\n",
       "        icon_img.addClass(image);\n",
       "        icon_img.addClass('ui-corner-all');\n",
       "\n",
       "        var tooltip_span = $('<span/>');\n",
       "        tooltip_span.addClass('ui-button-text');\n",
       "        tooltip_span.html(tooltip);\n",
       "\n",
       "        button.append(icon_img);\n",
       "        button.append(tooltip_span);\n",
       "\n",
       "        nav_element.append(button);\n",
       "    }\n",
       "\n",
       "    var fmt_picker_span = $('<span/>');\n",
       "\n",
       "    var fmt_picker = $('<select/>');\n",
       "    fmt_picker.addClass('mpl-toolbar-option ui-widget ui-widget-content');\n",
       "    fmt_picker_span.append(fmt_picker);\n",
       "    nav_element.append(fmt_picker_span);\n",
       "    this.format_dropdown = fmt_picker[0];\n",
       "\n",
       "    for (var ind in mpl.extensions) {\n",
       "        var fmt = mpl.extensions[ind];\n",
       "        var option = $(\n",
       "            '<option/>', {selected: fmt === mpl.default_extension}).html(fmt);\n",
       "        fmt_picker.append(option)\n",
       "    }\n",
       "\n",
       "    // Add hover states to the ui-buttons\n",
       "    $( \".ui-button\" ).hover(\n",
       "        function() { $(this).addClass(\"ui-state-hover\");},\n",
       "        function() { $(this).removeClass(\"ui-state-hover\");}\n",
       "    );\n",
       "\n",
       "    var status_bar = $('<span class=\"mpl-message\"/>');\n",
       "    nav_element.append(status_bar);\n",
       "    this.message = status_bar[0];\n",
       "}\n",
       "\n",
       "mpl.figure.prototype.request_resize = function(x_pixels, y_pixels) {\n",
       "    // Request matplotlib to resize the figure. Matplotlib will then trigger a resize in the client,\n",
       "    // which will in turn request a refresh of the image.\n",
       "    this.send_message('resize', {'width': x_pixels, 'height': y_pixels});\n",
       "}\n",
       "\n",
       "mpl.figure.prototype.send_message = function(type, properties) {\n",
       "    properties['type'] = type;\n",
       "    properties['figure_id'] = this.id;\n",
       "    this.ws.send(JSON.stringify(properties));\n",
       "}\n",
       "\n",
       "mpl.figure.prototype.send_draw_message = function() {\n",
       "    if (!this.waiting) {\n",
       "        this.waiting = true;\n",
       "        this.ws.send(JSON.stringify({type: \"draw\", figure_id: this.id}));\n",
       "    }\n",
       "}\n",
       "\n",
       "\n",
       "mpl.figure.prototype.handle_save = function(fig, msg) {\n",
       "    var format_dropdown = fig.format_dropdown;\n",
       "    var format = format_dropdown.options[format_dropdown.selectedIndex].value;\n",
       "    fig.ondownload(fig, format);\n",
       "}\n",
       "\n",
       "\n",
       "mpl.figure.prototype.handle_resize = function(fig, msg) {\n",
       "    var size = msg['size'];\n",
       "    if (size[0] != fig.canvas.width || size[1] != fig.canvas.height) {\n",
       "        fig._resize_canvas(size[0], size[1]);\n",
       "        fig.send_message(\"refresh\", {});\n",
       "    };\n",
       "}\n",
       "\n",
       "mpl.figure.prototype.handle_rubberband = function(fig, msg) {\n",
       "    var x0 = msg['x0'] / mpl.ratio;\n",
       "    var y0 = (fig.canvas.height - msg['y0']) / mpl.ratio;\n",
       "    var x1 = msg['x1'] / mpl.ratio;\n",
       "    var y1 = (fig.canvas.height - msg['y1']) / mpl.ratio;\n",
       "    x0 = Math.floor(x0) + 0.5;\n",
       "    y0 = Math.floor(y0) + 0.5;\n",
       "    x1 = Math.floor(x1) + 0.5;\n",
       "    y1 = Math.floor(y1) + 0.5;\n",
       "    var min_x = Math.min(x0, x1);\n",
       "    var min_y = Math.min(y0, y1);\n",
       "    var width = Math.abs(x1 - x0);\n",
       "    var height = Math.abs(y1 - y0);\n",
       "\n",
       "    fig.rubberband_context.clearRect(\n",
       "        0, 0, fig.canvas.width, fig.canvas.height);\n",
       "\n",
       "    fig.rubberband_context.strokeRect(min_x, min_y, width, height);\n",
       "}\n",
       "\n",
       "mpl.figure.prototype.handle_figure_label = function(fig, msg) {\n",
       "    // Updates the figure title.\n",
       "    fig.header.textContent = msg['label'];\n",
       "}\n",
       "\n",
       "mpl.figure.prototype.handle_cursor = function(fig, msg) {\n",
       "    var cursor = msg['cursor'];\n",
       "    switch(cursor)\n",
       "    {\n",
       "    case 0:\n",
       "        cursor = 'pointer';\n",
       "        break;\n",
       "    case 1:\n",
       "        cursor = 'default';\n",
       "        break;\n",
       "    case 2:\n",
       "        cursor = 'crosshair';\n",
       "        break;\n",
       "    case 3:\n",
       "        cursor = 'move';\n",
       "        break;\n",
       "    }\n",
       "    fig.rubberband_canvas.style.cursor = cursor;\n",
       "}\n",
       "\n",
       "mpl.figure.prototype.handle_message = function(fig, msg) {\n",
       "    fig.message.textContent = msg['message'];\n",
       "}\n",
       "\n",
       "mpl.figure.prototype.handle_draw = function(fig, msg) {\n",
       "    // Request the server to send over a new figure.\n",
       "    fig.send_draw_message();\n",
       "}\n",
       "\n",
       "mpl.figure.prototype.handle_image_mode = function(fig, msg) {\n",
       "    fig.image_mode = msg['mode'];\n",
       "}\n",
       "\n",
       "mpl.figure.prototype.updated_canvas_event = function() {\n",
       "    // Called whenever the canvas gets updated.\n",
       "    this.send_message(\"ack\", {});\n",
       "}\n",
       "\n",
       "// A function to construct a web socket function for onmessage handling.\n",
       "// Called in the figure constructor.\n",
       "mpl.figure.prototype._make_on_message_function = function(fig) {\n",
       "    return function socket_on_message(evt) {\n",
       "        if (evt.data instanceof Blob) {\n",
       "            /* FIXME: We get \"Resource interpreted as Image but\n",
       "             * transferred with MIME type text/plain:\" errors on\n",
       "             * Chrome.  But how to set the MIME type?  It doesn't seem\n",
       "             * to be part of the websocket stream */\n",
       "            evt.data.type = \"image/png\";\n",
       "\n",
       "            /* Free the memory for the previous frames */\n",
       "            if (fig.imageObj.src) {\n",
       "                (window.URL || window.webkitURL).revokeObjectURL(\n",
       "                    fig.imageObj.src);\n",
       "            }\n",
       "\n",
       "            fig.imageObj.src = (window.URL || window.webkitURL).createObjectURL(\n",
       "                evt.data);\n",
       "            fig.updated_canvas_event();\n",
       "            fig.waiting = false;\n",
       "            return;\n",
       "        }\n",
       "        else if (typeof evt.data === 'string' && evt.data.slice(0, 21) == \"data:image/png;base64\") {\n",
       "            fig.imageObj.src = evt.data;\n",
       "            fig.updated_canvas_event();\n",
       "            fig.waiting = false;\n",
       "            return;\n",
       "        }\n",
       "\n",
       "        var msg = JSON.parse(evt.data);\n",
       "        var msg_type = msg['type'];\n",
       "\n",
       "        // Call the  \"handle_{type}\" callback, which takes\n",
       "        // the figure and JSON message as its only arguments.\n",
       "        try {\n",
       "            var callback = fig[\"handle_\" + msg_type];\n",
       "        } catch (e) {\n",
       "            console.log(\"No handler for the '\" + msg_type + \"' message type: \", msg);\n",
       "            return;\n",
       "        }\n",
       "\n",
       "        if (callback) {\n",
       "            try {\n",
       "                // console.log(\"Handling '\" + msg_type + \"' message: \", msg);\n",
       "                callback(fig, msg);\n",
       "            } catch (e) {\n",
       "                console.log(\"Exception inside the 'handler_\" + msg_type + \"' callback:\", e, e.stack, msg);\n",
       "            }\n",
       "        }\n",
       "    };\n",
       "}\n",
       "\n",
       "// from http://stackoverflow.com/questions/1114465/getting-mouse-location-in-canvas\n",
       "mpl.findpos = function(e) {\n",
       "    //this section is from http://www.quirksmode.org/js/events_properties.html\n",
       "    var targ;\n",
       "    if (!e)\n",
       "        e = window.event;\n",
       "    if (e.target)\n",
       "        targ = e.target;\n",
       "    else if (e.srcElement)\n",
       "        targ = e.srcElement;\n",
       "    if (targ.nodeType == 3) // defeat Safari bug\n",
       "        targ = targ.parentNode;\n",
       "\n",
       "    // jQuery normalizes the pageX and pageY\n",
       "    // pageX,Y are the mouse positions relative to the document\n",
       "    // offset() returns the position of the element relative to the document\n",
       "    var x = e.pageX - $(targ).offset().left;\n",
       "    var y = e.pageY - $(targ).offset().top;\n",
       "\n",
       "    return {\"x\": x, \"y\": y};\n",
       "};\n",
       "\n",
       "/*\n",
       " * return a copy of an object with only non-object keys\n",
       " * we need this to avoid circular references\n",
       " * http://stackoverflow.com/a/24161582/3208463\n",
       " */\n",
       "function simpleKeys (original) {\n",
       "  return Object.keys(original).reduce(function (obj, key) {\n",
       "    if (typeof original[key] !== 'object')\n",
       "        obj[key] = original[key]\n",
       "    return obj;\n",
       "  }, {});\n",
       "}\n",
       "\n",
       "mpl.figure.prototype.mouse_event = function(event, name) {\n",
       "    var canvas_pos = mpl.findpos(event)\n",
       "\n",
       "    if (name === 'button_press')\n",
       "    {\n",
       "        this.canvas.focus();\n",
       "        this.canvas_div.focus();\n",
       "    }\n",
       "\n",
       "    var x = canvas_pos.x * mpl.ratio;\n",
       "    var y = canvas_pos.y * mpl.ratio;\n",
       "\n",
       "    this.send_message(name, {x: x, y: y, button: event.button,\n",
       "                             step: event.step,\n",
       "                             guiEvent: simpleKeys(event)});\n",
       "\n",
       "    /* This prevents the web browser from automatically changing to\n",
       "     * the text insertion cursor when the button is pressed.  We want\n",
       "     * to control all of the cursor setting manually through the\n",
       "     * 'cursor' event from matplotlib */\n",
       "    event.preventDefault();\n",
       "    return false;\n",
       "}\n",
       "\n",
       "mpl.figure.prototype._key_event_extra = function(event, name) {\n",
       "    // Handle any extra behaviour associated with a key event\n",
       "}\n",
       "\n",
       "mpl.figure.prototype.key_event = function(event, name) {\n",
       "\n",
       "    // Prevent repeat events\n",
       "    if (name == 'key_press')\n",
       "    {\n",
       "        if (event.which === this._key)\n",
       "            return;\n",
       "        else\n",
       "            this._key = event.which;\n",
       "    }\n",
       "    if (name == 'key_release')\n",
       "        this._key = null;\n",
       "\n",
       "    var value = '';\n",
       "    if (event.ctrlKey && event.which != 17)\n",
       "        value += \"ctrl+\";\n",
       "    if (event.altKey && event.which != 18)\n",
       "        value += \"alt+\";\n",
       "    if (event.shiftKey && event.which != 16)\n",
       "        value += \"shift+\";\n",
       "\n",
       "    value += 'k';\n",
       "    value += event.which.toString();\n",
       "\n",
       "    this._key_event_extra(event, name);\n",
       "\n",
       "    this.send_message(name, {key: value,\n",
       "                             guiEvent: simpleKeys(event)});\n",
       "    return false;\n",
       "}\n",
       "\n",
       "mpl.figure.prototype.toolbar_button_onclick = function(name) {\n",
       "    if (name == 'download') {\n",
       "        this.handle_save(this, null);\n",
       "    } else {\n",
       "        this.send_message(\"toolbar_button\", {name: name});\n",
       "    }\n",
       "};\n",
       "\n",
       "mpl.figure.prototype.toolbar_button_onmouseover = function(tooltip) {\n",
       "    this.message.textContent = tooltip;\n",
       "};\n",
       "mpl.toolbar_items = [[\"Home\", \"Reset original view\", \"fa fa-home icon-home\", \"home\"], [\"Back\", \"Back to  previous view\", \"fa fa-arrow-left icon-arrow-left\", \"back\"], [\"Forward\", \"Forward to next view\", \"fa fa-arrow-right icon-arrow-right\", \"forward\"], [\"\", \"\", \"\", \"\"], [\"Pan\", \"Pan axes with left mouse, zoom with right\", \"fa fa-arrows icon-move\", \"pan\"], [\"Zoom\", \"Zoom to rectangle\", \"fa fa-square-o icon-check-empty\", \"zoom\"], [\"\", \"\", \"\", \"\"], [\"Download\", \"Download plot\", \"fa fa-floppy-o icon-save\", \"download\"]];\n",
       "\n",
       "mpl.extensions = [\"eps\", \"jpeg\", \"pdf\", \"png\", \"ps\", \"raw\", \"svg\", \"tif\"];\n",
       "\n",
       "mpl.default_extension = \"png\";var comm_websocket_adapter = function(comm) {\n",
       "    // Create a \"websocket\"-like object which calls the given IPython comm\n",
       "    // object with the appropriate methods. Currently this is a non binary\n",
       "    // socket, so there is still some room for performance tuning.\n",
       "    var ws = {};\n",
       "\n",
       "    ws.close = function() {\n",
       "        comm.close()\n",
       "    };\n",
       "    ws.send = function(m) {\n",
       "        //console.log('sending', m);\n",
       "        comm.send(m);\n",
       "    };\n",
       "    // Register the callback with on_msg.\n",
       "    comm.on_msg(function(msg) {\n",
       "        //console.log('receiving', msg['content']['data'], msg);\n",
       "        // Pass the mpl event to the overriden (by mpl) onmessage function.\n",
       "        ws.onmessage(msg['content']['data'])\n",
       "    });\n",
       "    return ws;\n",
       "}\n",
       "\n",
       "mpl.mpl_figure_comm = function(comm, msg) {\n",
       "    // This is the function which gets called when the mpl process\n",
       "    // starts-up an IPython Comm through the \"matplotlib\" channel.\n",
       "\n",
       "    var id = msg.content.data.id;\n",
       "    // Get hold of the div created by the display call when the Comm\n",
       "    // socket was opened in Python.\n",
       "    var element = $(\"#\" + id);\n",
       "    var ws_proxy = comm_websocket_adapter(comm)\n",
       "\n",
       "    function ondownload(figure, format) {\n",
       "        window.open(figure.imageObj.src);\n",
       "    }\n",
       "\n",
       "    var fig = new mpl.figure(id, ws_proxy,\n",
       "                           ondownload,\n",
       "                           element.get(0));\n",
       "\n",
       "    // Call onopen now - mpl needs it, as it is assuming we've passed it a real\n",
       "    // web socket which is closed, not our websocket->open comm proxy.\n",
       "    ws_proxy.onopen();\n",
       "\n",
       "    fig.parent_element = element.get(0);\n",
       "    fig.cell_info = mpl.find_output_cell(\"<div id='\" + id + \"'></div>\");\n",
       "    if (!fig.cell_info) {\n",
       "        console.error(\"Failed to find cell for figure\", id, fig);\n",
       "        return;\n",
       "    }\n",
       "\n",
       "    var output_index = fig.cell_info[2]\n",
       "    var cell = fig.cell_info[0];\n",
       "\n",
       "};\n",
       "\n",
       "mpl.figure.prototype.handle_close = function(fig, msg) {\n",
       "    var width = fig.canvas.width/mpl.ratio\n",
       "    fig.root.unbind('remove')\n",
       "\n",
       "    // Update the output cell to use the data from the current canvas.\n",
       "    fig.push_to_output();\n",
       "    var dataURL = fig.canvas.toDataURL();\n",
       "    // Re-enable the keyboard manager in IPython - without this line, in FF,\n",
       "    // the notebook keyboard shortcuts fail.\n",
       "    IPython.keyboard_manager.enable()\n",
       "    $(fig.parent_element).html('<img src=\"' + dataURL + '\" width=\"' + width + '\">');\n",
       "    fig.close_ws(fig, msg);\n",
       "}\n",
       "\n",
       "mpl.figure.prototype.close_ws = function(fig, msg){\n",
       "    fig.send_message('closing', msg);\n",
       "    // fig.ws.close()\n",
       "}\n",
       "\n",
       "mpl.figure.prototype.push_to_output = function(remove_interactive) {\n",
       "    // Turn the data on the canvas into data in the output cell.\n",
       "    var width = this.canvas.width/mpl.ratio\n",
       "    var dataURL = this.canvas.toDataURL();\n",
       "    this.cell_info[1]['text/html'] = '<img src=\"' + dataURL + '\" width=\"' + width + '\">';\n",
       "}\n",
       "\n",
       "mpl.figure.prototype.updated_canvas_event = function() {\n",
       "    // Tell IPython that the notebook contents must change.\n",
       "    IPython.notebook.set_dirty(true);\n",
       "    this.send_message(\"ack\", {});\n",
       "    var fig = this;\n",
       "    // Wait a second, then push the new image to the DOM so\n",
       "    // that it is saved nicely (might be nice to debounce this).\n",
       "    setTimeout(function () { fig.push_to_output() }, 1000);\n",
       "}\n",
       "\n",
       "mpl.figure.prototype._init_toolbar = function() {\n",
       "    var fig = this;\n",
       "\n",
       "    var nav_element = $('<div/>')\n",
       "    nav_element.attr('style', 'width: 100%');\n",
       "    this.root.append(nav_element);\n",
       "\n",
       "    // Define a callback function for later on.\n",
       "    function toolbar_event(event) {\n",
       "        return fig.toolbar_button_onclick(event['data']);\n",
       "    }\n",
       "    function toolbar_mouse_event(event) {\n",
       "        return fig.toolbar_button_onmouseover(event['data']);\n",
       "    }\n",
       "\n",
       "    for(var toolbar_ind in mpl.toolbar_items){\n",
       "        var name = mpl.toolbar_items[toolbar_ind][0];\n",
       "        var tooltip = mpl.toolbar_items[toolbar_ind][1];\n",
       "        var image = mpl.toolbar_items[toolbar_ind][2];\n",
       "        var method_name = mpl.toolbar_items[toolbar_ind][3];\n",
       "\n",
       "        if (!name) { continue; };\n",
       "\n",
       "        var button = $('<button class=\"btn btn-default\" href=\"#\" title=\"' + name + '\"><i class=\"fa ' + image + ' fa-lg\"></i></button>');\n",
       "        button.click(method_name, toolbar_event);\n",
       "        button.mouseover(tooltip, toolbar_mouse_event);\n",
       "        nav_element.append(button);\n",
       "    }\n",
       "\n",
       "    // Add the status bar.\n",
       "    var status_bar = $('<span class=\"mpl-message\" style=\"text-align:right; float: right;\"/>');\n",
       "    nav_element.append(status_bar);\n",
       "    this.message = status_bar[0];\n",
       "\n",
       "    // Add the close button to the window.\n",
       "    var buttongrp = $('<div class=\"btn-group inline pull-right\"></div>');\n",
       "    var button = $('<button class=\"btn btn-mini btn-primary\" href=\"#\" title=\"Stop Interaction\"><i class=\"fa fa-power-off icon-remove icon-large\"></i></button>');\n",
       "    button.click(function (evt) { fig.handle_close(fig, {}); } );\n",
       "    button.mouseover('Stop Interaction', toolbar_mouse_event);\n",
       "    buttongrp.append(button);\n",
       "    var titlebar = this.root.find($('.ui-dialog-titlebar'));\n",
       "    titlebar.prepend(buttongrp);\n",
       "}\n",
       "\n",
       "mpl.figure.prototype._root_extra_style = function(el){\n",
       "    var fig = this\n",
       "    el.on(\"remove\", function(){\n",
       "\tfig.close_ws(fig, {});\n",
       "    });\n",
       "}\n",
       "\n",
       "mpl.figure.prototype._canvas_extra_style = function(el){\n",
       "    // this is important to make the div 'focusable\n",
       "    el.attr('tabindex', 0)\n",
       "    // reach out to IPython and tell the keyboard manager to turn it's self\n",
       "    // off when our div gets focus\n",
       "\n",
       "    // location in version 3\n",
       "    if (IPython.notebook.keyboard_manager) {\n",
       "        IPython.notebook.keyboard_manager.register_events(el);\n",
       "    }\n",
       "    else {\n",
       "        // location in version 2\n",
       "        IPython.keyboard_manager.register_events(el);\n",
       "    }\n",
       "\n",
       "}\n",
       "\n",
       "mpl.figure.prototype._key_event_extra = function(event, name) {\n",
       "    var manager = IPython.notebook.keyboard_manager;\n",
       "    if (!manager)\n",
       "        manager = IPython.keyboard_manager;\n",
       "\n",
       "    // Check for shift+enter\n",
       "    if (event.shiftKey && event.which == 13) {\n",
       "        this.canvas_div.blur();\n",
       "        // select the cell after this one\n",
       "        var index = IPython.notebook.find_cell_index(this.cell_info[0]);\n",
       "        IPython.notebook.select(index + 1);\n",
       "    }\n",
       "}\n",
       "\n",
       "mpl.figure.prototype.handle_save = function(fig, msg) {\n",
       "    fig.ondownload(fig, null);\n",
       "}\n",
       "\n",
       "\n",
       "mpl.find_output_cell = function(html_output) {\n",
       "    // Return the cell and output element which can be found *uniquely* in the notebook.\n",
       "    // Note - this is a bit hacky, but it is done because the \"notebook_saving.Notebook\"\n",
       "    // IPython event is triggered only after the cells have been serialised, which for\n",
       "    // our purposes (turning an active figure into a static one), is too late.\n",
       "    var cells = IPython.notebook.get_cells();\n",
       "    var ncells = cells.length;\n",
       "    for (var i=0; i<ncells; i++) {\n",
       "        var cell = cells[i];\n",
       "        if (cell.cell_type === 'code'){\n",
       "            for (var j=0; j<cell.output_area.outputs.length; j++) {\n",
       "                var data = cell.output_area.outputs[j];\n",
       "                if (data.data) {\n",
       "                    // IPython >= 3 moved mimebundle to data attribute of output\n",
       "                    data = data.data;\n",
       "                }\n",
       "                if (data['text/html'] == html_output) {\n",
       "                    return [cell, data, j];\n",
       "                }\n",
       "            }\n",
       "        }\n",
       "    }\n",
       "}\n",
       "\n",
       "// Register the function which deals with the matplotlib target/channel.\n",
       "// The kernel may be null if the page has been refreshed.\n",
       "if (IPython.notebook.kernel != null) {\n",
       "    IPython.notebook.kernel.comm_manager.register_target('matplotlib', mpl.mpl_figure_comm);\n",
       "}\n"
      ],
      "text/plain": [
       "<IPython.core.display.Javascript object>"
      ]
     },
     "metadata": {},
     "output_type": "display_data"
    },
    {
     "data": {
      "text/html": [
       "<img src=\"data:image/png;base64,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\" width=\"900\">"
      ],
      "text/plain": [
       "<IPython.core.display.HTML object>"
      ]
     },
     "metadata": {},
     "output_type": "display_data"
    }
   ],
   "source": [
    "barwidth = 0.75; \n",
    "fig, ax = plt.subplots(figsize=(9, 7));\n",
    "rects1 = ax.bar(0.5,ACCanalysis_unbias.LowC.mean(),barwidth,yerr=ACCstderror.LowC,ecolor='k',edgecolor=sns.xkcd_rgb['green'],linewidth = 2, facecolor='none',error_kw=dict(lw=3),label='Congruent');\n",
    "rects2 = ax.bar(1.5,ACCanalysis_unbias.LowIC.mean(),barwidth,color=sns.xkcd_rgb['green'],yerr=ACCstderror.LowIC,ecolor='k',error_kw=dict(lw=3),label='Incongruent');\n",
    "rects3 = ax.bar(3,ACCanalysis_unbias.HighC.mean(),barwidth,yerr=ACCstderror.HighC,ecolor='k',edgecolor=(0.3,0.9,0.3),linewidth = 2, facecolor='none',error_kw=dict(lw=3));\n",
    "rects4 = ax.bar(4,ACCanalysis_unbias.HighIC.mean(),barwidth,color=(0.3,0.9,0.3),yerr=ACCstderror.HighIC,ecolor='k',error_kw=dict(lw=3));\n",
    "ax.set_ylim(0.65,1.01);\n",
    "ax.set_xlim(0,6);\n",
    "ax.set_xticklabels(('Low', 'High'));\n",
    "ax.set_xticks([1, 3.5]);\n",
    "ax.set_yticks(np.arange(0.65, 1.01, 0.05));\n",
    "plt.legend([rects1,rects2], ['Congruent','Incongruent'], loc='upper right',fontsize=18,title='Trial Type')\n",
    "plt.legend(title='Trial Type',fontsize=14)\n",
    "plt.title('S-C Accuracy Cueing Effect for Unbiased Stimuli', fontsize=26,fontweight=\"bold\")\n",
    "plt.ylabel('Accuracy (Proportion Correct)', fontsize=24,fontweight=\"bold\")\n",
    "plt.xlabel('S2 Control-Demand Cue', fontsize=24,fontweight=\"bold\")\n",
    "sns.despine();\n",
    "\n",
    "plt.show()"
   ]
  },
  {
   "cell_type": "code",
   "execution_count": 44,
   "metadata": {},
   "outputs": [
    {
     "data": {
      "application/javascript": [
       "/* Put everything inside the global mpl namespace */\n",
       "window.mpl = {};\n",
       "\n",
       "\n",
       "mpl.get_websocket_type = function() {\n",
       "    if (typeof(WebSocket) !== 'undefined') {\n",
       "        return WebSocket;\n",
       "    } else if (typeof(MozWebSocket) !== 'undefined') {\n",
       "        return MozWebSocket;\n",
       "    } else {\n",
       "        alert('Your browser does not have WebSocket support.' +\n",
       "              'Please try Chrome, Safari or Firefox ≥ 6. ' +\n",
       "              'Firefox 4 and 5 are also supported but you ' +\n",
       "              'have to enable WebSockets in about:config.');\n",
       "    };\n",
       "}\n",
       "\n",
       "mpl.figure = function(figure_id, websocket, ondownload, parent_element) {\n",
       "    this.id = figure_id;\n",
       "\n",
       "    this.ws = websocket;\n",
       "\n",
       "    this.supports_binary = (this.ws.binaryType != undefined);\n",
       "\n",
       "    if (!this.supports_binary) {\n",
       "        var warnings = document.getElementById(\"mpl-warnings\");\n",
       "        if (warnings) {\n",
       "            warnings.style.display = 'block';\n",
       "            warnings.textContent = (\n",
       "                \"This browser does not support binary websocket messages. \" +\n",
       "                    \"Performance may be slow.\");\n",
       "        }\n",
       "    }\n",
       "\n",
       "    this.imageObj = new Image();\n",
       "\n",
       "    this.context = undefined;\n",
       "    this.message = undefined;\n",
       "    this.canvas = undefined;\n",
       "    this.rubberband_canvas = undefined;\n",
       "    this.rubberband_context = undefined;\n",
       "    this.format_dropdown = undefined;\n",
       "\n",
       "    this.image_mode = 'full';\n",
       "\n",
       "    this.root = $('<div/>');\n",
       "    this._root_extra_style(this.root)\n",
       "    this.root.attr('style', 'display: inline-block');\n",
       "\n",
       "    $(parent_element).append(this.root);\n",
       "\n",
       "    this._init_header(this);\n",
       "    this._init_canvas(this);\n",
       "    this._init_toolbar(this);\n",
       "\n",
       "    var fig = this;\n",
       "\n",
       "    this.waiting = false;\n",
       "\n",
       "    this.ws.onopen =  function () {\n",
       "            fig.send_message(\"supports_binary\", {value: fig.supports_binary});\n",
       "            fig.send_message(\"send_image_mode\", {});\n",
       "            if (mpl.ratio != 1) {\n",
       "                fig.send_message(\"set_dpi_ratio\", {'dpi_ratio': mpl.ratio});\n",
       "            }\n",
       "            fig.send_message(\"refresh\", {});\n",
       "        }\n",
       "\n",
       "    this.imageObj.onload = function() {\n",
       "            if (fig.image_mode == 'full') {\n",
       "                // Full images could contain transparency (where diff images\n",
       "                // almost always do), so we need to clear the canvas so that\n",
       "                // there is no ghosting.\n",
       "                fig.context.clearRect(0, 0, fig.canvas.width, fig.canvas.height);\n",
       "            }\n",
       "            fig.context.drawImage(fig.imageObj, 0, 0);\n",
       "        };\n",
       "\n",
       "    this.imageObj.onunload = function() {\n",
       "        this.ws.close();\n",
       "    }\n",
       "\n",
       "    this.ws.onmessage = this._make_on_message_function(this);\n",
       "\n",
       "    this.ondownload = ondownload;\n",
       "}\n",
       "\n",
       "mpl.figure.prototype._init_header = function() {\n",
       "    var titlebar = $(\n",
       "        '<div class=\"ui-dialog-titlebar ui-widget-header ui-corner-all ' +\n",
       "        'ui-helper-clearfix\"/>');\n",
       "    var titletext = $(\n",
       "        '<div class=\"ui-dialog-title\" style=\"width: 100%; ' +\n",
       "        'text-align: center; padding: 3px;\"/>');\n",
       "    titlebar.append(titletext)\n",
       "    this.root.append(titlebar);\n",
       "    this.header = titletext[0];\n",
       "}\n",
       "\n",
       "\n",
       "\n",
       "mpl.figure.prototype._canvas_extra_style = function(canvas_div) {\n",
       "\n",
       "}\n",
       "\n",
       "\n",
       "mpl.figure.prototype._root_extra_style = function(canvas_div) {\n",
       "\n",
       "}\n",
       "\n",
       "mpl.figure.prototype._init_canvas = function() {\n",
       "    var fig = this;\n",
       "\n",
       "    var canvas_div = $('<div/>');\n",
       "\n",
       "    canvas_div.attr('style', 'position: relative; clear: both; outline: 0');\n",
       "\n",
       "    function canvas_keyboard_event(event) {\n",
       "        return fig.key_event(event, event['data']);\n",
       "    }\n",
       "\n",
       "    canvas_div.keydown('key_press', canvas_keyboard_event);\n",
       "    canvas_div.keyup('key_release', canvas_keyboard_event);\n",
       "    this.canvas_div = canvas_div\n",
       "    this._canvas_extra_style(canvas_div)\n",
       "    this.root.append(canvas_div);\n",
       "\n",
       "    var canvas = $('<canvas/>');\n",
       "    canvas.addClass('mpl-canvas');\n",
       "    canvas.attr('style', \"left: 0; top: 0; z-index: 0; outline: 0\")\n",
       "\n",
       "    this.canvas = canvas[0];\n",
       "    this.context = canvas[0].getContext(\"2d\");\n",
       "\n",
       "    var backingStore = this.context.backingStorePixelRatio ||\n",
       "\tthis.context.webkitBackingStorePixelRatio ||\n",
       "\tthis.context.mozBackingStorePixelRatio ||\n",
       "\tthis.context.msBackingStorePixelRatio ||\n",
       "\tthis.context.oBackingStorePixelRatio ||\n",
       "\tthis.context.backingStorePixelRatio || 1;\n",
       "\n",
       "    mpl.ratio = (window.devicePixelRatio || 1) / backingStore;\n",
       "\n",
       "    var rubberband = $('<canvas/>');\n",
       "    rubberband.attr('style', \"position: absolute; left: 0; top: 0; z-index: 1;\")\n",
       "\n",
       "    var pass_mouse_events = true;\n",
       "\n",
       "    canvas_div.resizable({\n",
       "        start: function(event, ui) {\n",
       "            pass_mouse_events = false;\n",
       "        },\n",
       "        resize: function(event, ui) {\n",
       "            fig.request_resize(ui.size.width, ui.size.height);\n",
       "        },\n",
       "        stop: function(event, ui) {\n",
       "            pass_mouse_events = true;\n",
       "            fig.request_resize(ui.size.width, ui.size.height);\n",
       "        },\n",
       "    });\n",
       "\n",
       "    function mouse_event_fn(event) {\n",
       "        if (pass_mouse_events)\n",
       "            return fig.mouse_event(event, event['data']);\n",
       "    }\n",
       "\n",
       "    rubberband.mousedown('button_press', mouse_event_fn);\n",
       "    rubberband.mouseup('button_release', mouse_event_fn);\n",
       "    // Throttle sequential mouse events to 1 every 20ms.\n",
       "    rubberband.mousemove('motion_notify', mouse_event_fn);\n",
       "\n",
       "    rubberband.mouseenter('figure_enter', mouse_event_fn);\n",
       "    rubberband.mouseleave('figure_leave', mouse_event_fn);\n",
       "\n",
       "    canvas_div.on(\"wheel\", function (event) {\n",
       "        event = event.originalEvent;\n",
       "        event['data'] = 'scroll'\n",
       "        if (event.deltaY < 0) {\n",
       "            event.step = 1;\n",
       "        } else {\n",
       "            event.step = -1;\n",
       "        }\n",
       "        mouse_event_fn(event);\n",
       "    });\n",
       "\n",
       "    canvas_div.append(canvas);\n",
       "    canvas_div.append(rubberband);\n",
       "\n",
       "    this.rubberband = rubberband;\n",
       "    this.rubberband_canvas = rubberband[0];\n",
       "    this.rubberband_context = rubberband[0].getContext(\"2d\");\n",
       "    this.rubberband_context.strokeStyle = \"#000000\";\n",
       "\n",
       "    this._resize_canvas = function(width, height) {\n",
       "        // Keep the size of the canvas, canvas container, and rubber band\n",
       "        // canvas in synch.\n",
       "        canvas_div.css('width', width)\n",
       "        canvas_div.css('height', height)\n",
       "\n",
       "        canvas.attr('width', width * mpl.ratio);\n",
       "        canvas.attr('height', height * mpl.ratio);\n",
       "        canvas.attr('style', 'width: ' + width + 'px; height: ' + height + 'px;');\n",
       "\n",
       "        rubberband.attr('width', width);\n",
       "        rubberband.attr('height', height);\n",
       "    }\n",
       "\n",
       "    // Set the figure to an initial 600x600px, this will subsequently be updated\n",
       "    // upon first draw.\n",
       "    this._resize_canvas(600, 600);\n",
       "\n",
       "    // Disable right mouse context menu.\n",
       "    $(this.rubberband_canvas).bind(\"contextmenu\",function(e){\n",
       "        return false;\n",
       "    });\n",
       "\n",
       "    function set_focus () {\n",
       "        canvas.focus();\n",
       "        canvas_div.focus();\n",
       "    }\n",
       "\n",
       "    window.setTimeout(set_focus, 100);\n",
       "}\n",
       "\n",
       "mpl.figure.prototype._init_toolbar = function() {\n",
       "    var fig = this;\n",
       "\n",
       "    var nav_element = $('<div/>')\n",
       "    nav_element.attr('style', 'width: 100%');\n",
       "    this.root.append(nav_element);\n",
       "\n",
       "    // Define a callback function for later on.\n",
       "    function toolbar_event(event) {\n",
       "        return fig.toolbar_button_onclick(event['data']);\n",
       "    }\n",
       "    function toolbar_mouse_event(event) {\n",
       "        return fig.toolbar_button_onmouseover(event['data']);\n",
       "    }\n",
       "\n",
       "    for(var toolbar_ind in mpl.toolbar_items) {\n",
       "        var name = mpl.toolbar_items[toolbar_ind][0];\n",
       "        var tooltip = mpl.toolbar_items[toolbar_ind][1];\n",
       "        var image = mpl.toolbar_items[toolbar_ind][2];\n",
       "        var method_name = mpl.toolbar_items[toolbar_ind][3];\n",
       "\n",
       "        if (!name) {\n",
       "            // put a spacer in here.\n",
       "            continue;\n",
       "        }\n",
       "        var button = $('<button/>');\n",
       "        button.addClass('ui-button ui-widget ui-state-default ui-corner-all ' +\n",
       "                        'ui-button-icon-only');\n",
       "        button.attr('role', 'button');\n",
       "        button.attr('aria-disabled', 'false');\n",
       "        button.click(method_name, toolbar_event);\n",
       "        button.mouseover(tooltip, toolbar_mouse_event);\n",
       "\n",
       "        var icon_img = $('<span/>');\n",
       "        icon_img.addClass('ui-button-icon-primary ui-icon');\n",
       "        icon_img.addClass(image);\n",
       "        icon_img.addClass('ui-corner-all');\n",
       "\n",
       "        var tooltip_span = $('<span/>');\n",
       "        tooltip_span.addClass('ui-button-text');\n",
       "        tooltip_span.html(tooltip);\n",
       "\n",
       "        button.append(icon_img);\n",
       "        button.append(tooltip_span);\n",
       "\n",
       "        nav_element.append(button);\n",
       "    }\n",
       "\n",
       "    var fmt_picker_span = $('<span/>');\n",
       "\n",
       "    var fmt_picker = $('<select/>');\n",
       "    fmt_picker.addClass('mpl-toolbar-option ui-widget ui-widget-content');\n",
       "    fmt_picker_span.append(fmt_picker);\n",
       "    nav_element.append(fmt_picker_span);\n",
       "    this.format_dropdown = fmt_picker[0];\n",
       "\n",
       "    for (var ind in mpl.extensions) {\n",
       "        var fmt = mpl.extensions[ind];\n",
       "        var option = $(\n",
       "            '<option/>', {selected: fmt === mpl.default_extension}).html(fmt);\n",
       "        fmt_picker.append(option)\n",
       "    }\n",
       "\n",
       "    // Add hover states to the ui-buttons\n",
       "    $( \".ui-button\" ).hover(\n",
       "        function() { $(this).addClass(\"ui-state-hover\");},\n",
       "        function() { $(this).removeClass(\"ui-state-hover\");}\n",
       "    );\n",
       "\n",
       "    var status_bar = $('<span class=\"mpl-message\"/>');\n",
       "    nav_element.append(status_bar);\n",
       "    this.message = status_bar[0];\n",
       "}\n",
       "\n",
       "mpl.figure.prototype.request_resize = function(x_pixels, y_pixels) {\n",
       "    // Request matplotlib to resize the figure. Matplotlib will then trigger a resize in the client,\n",
       "    // which will in turn request a refresh of the image.\n",
       "    this.send_message('resize', {'width': x_pixels, 'height': y_pixels});\n",
       "}\n",
       "\n",
       "mpl.figure.prototype.send_message = function(type, properties) {\n",
       "    properties['type'] = type;\n",
       "    properties['figure_id'] = this.id;\n",
       "    this.ws.send(JSON.stringify(properties));\n",
       "}\n",
       "\n",
       "mpl.figure.prototype.send_draw_message = function() {\n",
       "    if (!this.waiting) {\n",
       "        this.waiting = true;\n",
       "        this.ws.send(JSON.stringify({type: \"draw\", figure_id: this.id}));\n",
       "    }\n",
       "}\n",
       "\n",
       "\n",
       "mpl.figure.prototype.handle_save = function(fig, msg) {\n",
       "    var format_dropdown = fig.format_dropdown;\n",
       "    var format = format_dropdown.options[format_dropdown.selectedIndex].value;\n",
       "    fig.ondownload(fig, format);\n",
       "}\n",
       "\n",
       "\n",
       "mpl.figure.prototype.handle_resize = function(fig, msg) {\n",
       "    var size = msg['size'];\n",
       "    if (size[0] != fig.canvas.width || size[1] != fig.canvas.height) {\n",
       "        fig._resize_canvas(size[0], size[1]);\n",
       "        fig.send_message(\"refresh\", {});\n",
       "    };\n",
       "}\n",
       "\n",
       "mpl.figure.prototype.handle_rubberband = function(fig, msg) {\n",
       "    var x0 = msg['x0'] / mpl.ratio;\n",
       "    var y0 = (fig.canvas.height - msg['y0']) / mpl.ratio;\n",
       "    var x1 = msg['x1'] / mpl.ratio;\n",
       "    var y1 = (fig.canvas.height - msg['y1']) / mpl.ratio;\n",
       "    x0 = Math.floor(x0) + 0.5;\n",
       "    y0 = Math.floor(y0) + 0.5;\n",
       "    x1 = Math.floor(x1) + 0.5;\n",
       "    y1 = Math.floor(y1) + 0.5;\n",
       "    var min_x = Math.min(x0, x1);\n",
       "    var min_y = Math.min(y0, y1);\n",
       "    var width = Math.abs(x1 - x0);\n",
       "    var height = Math.abs(y1 - y0);\n",
       "\n",
       "    fig.rubberband_context.clearRect(\n",
       "        0, 0, fig.canvas.width, fig.canvas.height);\n",
       "\n",
       "    fig.rubberband_context.strokeRect(min_x, min_y, width, height);\n",
       "}\n",
       "\n",
       "mpl.figure.prototype.handle_figure_label = function(fig, msg) {\n",
       "    // Updates the figure title.\n",
       "    fig.header.textContent = msg['label'];\n",
       "}\n",
       "\n",
       "mpl.figure.prototype.handle_cursor = function(fig, msg) {\n",
       "    var cursor = msg['cursor'];\n",
       "    switch(cursor)\n",
       "    {\n",
       "    case 0:\n",
       "        cursor = 'pointer';\n",
       "        break;\n",
       "    case 1:\n",
       "        cursor = 'default';\n",
       "        break;\n",
       "    case 2:\n",
       "        cursor = 'crosshair';\n",
       "        break;\n",
       "    case 3:\n",
       "        cursor = 'move';\n",
       "        break;\n",
       "    }\n",
       "    fig.rubberband_canvas.style.cursor = cursor;\n",
       "}\n",
       "\n",
       "mpl.figure.prototype.handle_message = function(fig, msg) {\n",
       "    fig.message.textContent = msg['message'];\n",
       "}\n",
       "\n",
       "mpl.figure.prototype.handle_draw = function(fig, msg) {\n",
       "    // Request the server to send over a new figure.\n",
       "    fig.send_draw_message();\n",
       "}\n",
       "\n",
       "mpl.figure.prototype.handle_image_mode = function(fig, msg) {\n",
       "    fig.image_mode = msg['mode'];\n",
       "}\n",
       "\n",
       "mpl.figure.prototype.updated_canvas_event = function() {\n",
       "    // Called whenever the canvas gets updated.\n",
       "    this.send_message(\"ack\", {});\n",
       "}\n",
       "\n",
       "// A function to construct a web socket function for onmessage handling.\n",
       "// Called in the figure constructor.\n",
       "mpl.figure.prototype._make_on_message_function = function(fig) {\n",
       "    return function socket_on_message(evt) {\n",
       "        if (evt.data instanceof Blob) {\n",
       "            /* FIXME: We get \"Resource interpreted as Image but\n",
       "             * transferred with MIME type text/plain:\" errors on\n",
       "             * Chrome.  But how to set the MIME type?  It doesn't seem\n",
       "             * to be part of the websocket stream */\n",
       "            evt.data.type = \"image/png\";\n",
       "\n",
       "            /* Free the memory for the previous frames */\n",
       "            if (fig.imageObj.src) {\n",
       "                (window.URL || window.webkitURL).revokeObjectURL(\n",
       "                    fig.imageObj.src);\n",
       "            }\n",
       "\n",
       "            fig.imageObj.src = (window.URL || window.webkitURL).createObjectURL(\n",
       "                evt.data);\n",
       "            fig.updated_canvas_event();\n",
       "            fig.waiting = false;\n",
       "            return;\n",
       "        }\n",
       "        else if (typeof evt.data === 'string' && evt.data.slice(0, 21) == \"data:image/png;base64\") {\n",
       "            fig.imageObj.src = evt.data;\n",
       "            fig.updated_canvas_event();\n",
       "            fig.waiting = false;\n",
       "            return;\n",
       "        }\n",
       "\n",
       "        var msg = JSON.parse(evt.data);\n",
       "        var msg_type = msg['type'];\n",
       "\n",
       "        // Call the  \"handle_{type}\" callback, which takes\n",
       "        // the figure and JSON message as its only arguments.\n",
       "        try {\n",
       "            var callback = fig[\"handle_\" + msg_type];\n",
       "        } catch (e) {\n",
       "            console.log(\"No handler for the '\" + msg_type + \"' message type: \", msg);\n",
       "            return;\n",
       "        }\n",
       "\n",
       "        if (callback) {\n",
       "            try {\n",
       "                // console.log(\"Handling '\" + msg_type + \"' message: \", msg);\n",
       "                callback(fig, msg);\n",
       "            } catch (e) {\n",
       "                console.log(\"Exception inside the 'handler_\" + msg_type + \"' callback:\", e, e.stack, msg);\n",
       "            }\n",
       "        }\n",
       "    };\n",
       "}\n",
       "\n",
       "// from http://stackoverflow.com/questions/1114465/getting-mouse-location-in-canvas\n",
       "mpl.findpos = function(e) {\n",
       "    //this section is from http://www.quirksmode.org/js/events_properties.html\n",
       "    var targ;\n",
       "    if (!e)\n",
       "        e = window.event;\n",
       "    if (e.target)\n",
       "        targ = e.target;\n",
       "    else if (e.srcElement)\n",
       "        targ = e.srcElement;\n",
       "    if (targ.nodeType == 3) // defeat Safari bug\n",
       "        targ = targ.parentNode;\n",
       "\n",
       "    // jQuery normalizes the pageX and pageY\n",
       "    // pageX,Y are the mouse positions relative to the document\n",
       "    // offset() returns the position of the element relative to the document\n",
       "    var x = e.pageX - $(targ).offset().left;\n",
       "    var y = e.pageY - $(targ).offset().top;\n",
       "\n",
       "    return {\"x\": x, \"y\": y};\n",
       "};\n",
       "\n",
       "/*\n",
       " * return a copy of an object with only non-object keys\n",
       " * we need this to avoid circular references\n",
       " * http://stackoverflow.com/a/24161582/3208463\n",
       " */\n",
       "function simpleKeys (original) {\n",
       "  return Object.keys(original).reduce(function (obj, key) {\n",
       "    if (typeof original[key] !== 'object')\n",
       "        obj[key] = original[key]\n",
       "    return obj;\n",
       "  }, {});\n",
       "}\n",
       "\n",
       "mpl.figure.prototype.mouse_event = function(event, name) {\n",
       "    var canvas_pos = mpl.findpos(event)\n",
       "\n",
       "    if (name === 'button_press')\n",
       "    {\n",
       "        this.canvas.focus();\n",
       "        this.canvas_div.focus();\n",
       "    }\n",
       "\n",
       "    var x = canvas_pos.x * mpl.ratio;\n",
       "    var y = canvas_pos.y * mpl.ratio;\n",
       "\n",
       "    this.send_message(name, {x: x, y: y, button: event.button,\n",
       "                             step: event.step,\n",
       "                             guiEvent: simpleKeys(event)});\n",
       "\n",
       "    /* This prevents the web browser from automatically changing to\n",
       "     * the text insertion cursor when the button is pressed.  We want\n",
       "     * to control all of the cursor setting manually through the\n",
       "     * 'cursor' event from matplotlib */\n",
       "    event.preventDefault();\n",
       "    return false;\n",
       "}\n",
       "\n",
       "mpl.figure.prototype._key_event_extra = function(event, name) {\n",
       "    // Handle any extra behaviour associated with a key event\n",
       "}\n",
       "\n",
       "mpl.figure.prototype.key_event = function(event, name) {\n",
       "\n",
       "    // Prevent repeat events\n",
       "    if (name == 'key_press')\n",
       "    {\n",
       "        if (event.which === this._key)\n",
       "            return;\n",
       "        else\n",
       "            this._key = event.which;\n",
       "    }\n",
       "    if (name == 'key_release')\n",
       "        this._key = null;\n",
       "\n",
       "    var value = '';\n",
       "    if (event.ctrlKey && event.which != 17)\n",
       "        value += \"ctrl+\";\n",
       "    if (event.altKey && event.which != 18)\n",
       "        value += \"alt+\";\n",
       "    if (event.shiftKey && event.which != 16)\n",
       "        value += \"shift+\";\n",
       "\n",
       "    value += 'k';\n",
       "    value += event.which.toString();\n",
       "\n",
       "    this._key_event_extra(event, name);\n",
       "\n",
       "    this.send_message(name, {key: value,\n",
       "                             guiEvent: simpleKeys(event)});\n",
       "    return false;\n",
       "}\n",
       "\n",
       "mpl.figure.prototype.toolbar_button_onclick = function(name) {\n",
       "    if (name == 'download') {\n",
       "        this.handle_save(this, null);\n",
       "    } else {\n",
       "        this.send_message(\"toolbar_button\", {name: name});\n",
       "    }\n",
       "};\n",
       "\n",
       "mpl.figure.prototype.toolbar_button_onmouseover = function(tooltip) {\n",
       "    this.message.textContent = tooltip;\n",
       "};\n",
       "mpl.toolbar_items = [[\"Home\", \"Reset original view\", \"fa fa-home icon-home\", \"home\"], [\"Back\", \"Back to  previous view\", \"fa fa-arrow-left icon-arrow-left\", \"back\"], [\"Forward\", \"Forward to next view\", \"fa fa-arrow-right icon-arrow-right\", \"forward\"], [\"\", \"\", \"\", \"\"], [\"Pan\", \"Pan axes with left mouse, zoom with right\", \"fa fa-arrows icon-move\", \"pan\"], [\"Zoom\", \"Zoom to rectangle\", \"fa fa-square-o icon-check-empty\", \"zoom\"], [\"\", \"\", \"\", \"\"], [\"Download\", \"Download plot\", \"fa fa-floppy-o icon-save\", \"download\"]];\n",
       "\n",
       "mpl.extensions = [\"eps\", \"jpeg\", \"pdf\", \"png\", \"ps\", \"raw\", \"svg\", \"tif\"];\n",
       "\n",
       "mpl.default_extension = \"png\";var comm_websocket_adapter = function(comm) {\n",
       "    // Create a \"websocket\"-like object which calls the given IPython comm\n",
       "    // object with the appropriate methods. Currently this is a non binary\n",
       "    // socket, so there is still some room for performance tuning.\n",
       "    var ws = {};\n",
       "\n",
       "    ws.close = function() {\n",
       "        comm.close()\n",
       "    };\n",
       "    ws.send = function(m) {\n",
       "        //console.log('sending', m);\n",
       "        comm.send(m);\n",
       "    };\n",
       "    // Register the callback with on_msg.\n",
       "    comm.on_msg(function(msg) {\n",
       "        //console.log('receiving', msg['content']['data'], msg);\n",
       "        // Pass the mpl event to the overriden (by mpl) onmessage function.\n",
       "        ws.onmessage(msg['content']['data'])\n",
       "    });\n",
       "    return ws;\n",
       "}\n",
       "\n",
       "mpl.mpl_figure_comm = function(comm, msg) {\n",
       "    // This is the function which gets called when the mpl process\n",
       "    // starts-up an IPython Comm through the \"matplotlib\" channel.\n",
       "\n",
       "    var id = msg.content.data.id;\n",
       "    // Get hold of the div created by the display call when the Comm\n",
       "    // socket was opened in Python.\n",
       "    var element = $(\"#\" + id);\n",
       "    var ws_proxy = comm_websocket_adapter(comm)\n",
       "\n",
       "    function ondownload(figure, format) {\n",
       "        window.open(figure.imageObj.src);\n",
       "    }\n",
       "\n",
       "    var fig = new mpl.figure(id, ws_proxy,\n",
       "                           ondownload,\n",
       "                           element.get(0));\n",
       "\n",
       "    // Call onopen now - mpl needs it, as it is assuming we've passed it a real\n",
       "    // web socket which is closed, not our websocket->open comm proxy.\n",
       "    ws_proxy.onopen();\n",
       "\n",
       "    fig.parent_element = element.get(0);\n",
       "    fig.cell_info = mpl.find_output_cell(\"<div id='\" + id + \"'></div>\");\n",
       "    if (!fig.cell_info) {\n",
       "        console.error(\"Failed to find cell for figure\", id, fig);\n",
       "        return;\n",
       "    }\n",
       "\n",
       "    var output_index = fig.cell_info[2]\n",
       "    var cell = fig.cell_info[0];\n",
       "\n",
       "};\n",
       "\n",
       "mpl.figure.prototype.handle_close = function(fig, msg) {\n",
       "    var width = fig.canvas.width/mpl.ratio\n",
       "    fig.root.unbind('remove')\n",
       "\n",
       "    // Update the output cell to use the data from the current canvas.\n",
       "    fig.push_to_output();\n",
       "    var dataURL = fig.canvas.toDataURL();\n",
       "    // Re-enable the keyboard manager in IPython - without this line, in FF,\n",
       "    // the notebook keyboard shortcuts fail.\n",
       "    IPython.keyboard_manager.enable()\n",
       "    $(fig.parent_element).html('<img src=\"' + dataURL + '\" width=\"' + width + '\">');\n",
       "    fig.close_ws(fig, msg);\n",
       "}\n",
       "\n",
       "mpl.figure.prototype.close_ws = function(fig, msg){\n",
       "    fig.send_message('closing', msg);\n",
       "    // fig.ws.close()\n",
       "}\n",
       "\n",
       "mpl.figure.prototype.push_to_output = function(remove_interactive) {\n",
       "    // Turn the data on the canvas into data in the output cell.\n",
       "    var width = this.canvas.width/mpl.ratio\n",
       "    var dataURL = this.canvas.toDataURL();\n",
       "    this.cell_info[1]['text/html'] = '<img src=\"' + dataURL + '\" width=\"' + width + '\">';\n",
       "}\n",
       "\n",
       "mpl.figure.prototype.updated_canvas_event = function() {\n",
       "    // Tell IPython that the notebook contents must change.\n",
       "    IPython.notebook.set_dirty(true);\n",
       "    this.send_message(\"ack\", {});\n",
       "    var fig = this;\n",
       "    // Wait a second, then push the new image to the DOM so\n",
       "    // that it is saved nicely (might be nice to debounce this).\n",
       "    setTimeout(function () { fig.push_to_output() }, 1000);\n",
       "}\n",
       "\n",
       "mpl.figure.prototype._init_toolbar = function() {\n",
       "    var fig = this;\n",
       "\n",
       "    var nav_element = $('<div/>')\n",
       "    nav_element.attr('style', 'width: 100%');\n",
       "    this.root.append(nav_element);\n",
       "\n",
       "    // Define a callback function for later on.\n",
       "    function toolbar_event(event) {\n",
       "        return fig.toolbar_button_onclick(event['data']);\n",
       "    }\n",
       "    function toolbar_mouse_event(event) {\n",
       "        return fig.toolbar_button_onmouseover(event['data']);\n",
       "    }\n",
       "\n",
       "    for(var toolbar_ind in mpl.toolbar_items){\n",
       "        var name = mpl.toolbar_items[toolbar_ind][0];\n",
       "        var tooltip = mpl.toolbar_items[toolbar_ind][1];\n",
       "        var image = mpl.toolbar_items[toolbar_ind][2];\n",
       "        var method_name = mpl.toolbar_items[toolbar_ind][3];\n",
       "\n",
       "        if (!name) { continue; };\n",
       "\n",
       "        var button = $('<button class=\"btn btn-default\" href=\"#\" title=\"' + name + '\"><i class=\"fa ' + image + ' fa-lg\"></i></button>');\n",
       "        button.click(method_name, toolbar_event);\n",
       "        button.mouseover(tooltip, toolbar_mouse_event);\n",
       "        nav_element.append(button);\n",
       "    }\n",
       "\n",
       "    // Add the status bar.\n",
       "    var status_bar = $('<span class=\"mpl-message\" style=\"text-align:right; float: right;\"/>');\n",
       "    nav_element.append(status_bar);\n",
       "    this.message = status_bar[0];\n",
       "\n",
       "    // Add the close button to the window.\n",
       "    var buttongrp = $('<div class=\"btn-group inline pull-right\"></div>');\n",
       "    var button = $('<button class=\"btn btn-mini btn-primary\" href=\"#\" title=\"Stop Interaction\"><i class=\"fa fa-power-off icon-remove icon-large\"></i></button>');\n",
       "    button.click(function (evt) { fig.handle_close(fig, {}); } );\n",
       "    button.mouseover('Stop Interaction', toolbar_mouse_event);\n",
       "    buttongrp.append(button);\n",
       "    var titlebar = this.root.find($('.ui-dialog-titlebar'));\n",
       "    titlebar.prepend(buttongrp);\n",
       "}\n",
       "\n",
       "mpl.figure.prototype._root_extra_style = function(el){\n",
       "    var fig = this\n",
       "    el.on(\"remove\", function(){\n",
       "\tfig.close_ws(fig, {});\n",
       "    });\n",
       "}\n",
       "\n",
       "mpl.figure.prototype._canvas_extra_style = function(el){\n",
       "    // this is important to make the div 'focusable\n",
       "    el.attr('tabindex', 0)\n",
       "    // reach out to IPython and tell the keyboard manager to turn it's self\n",
       "    // off when our div gets focus\n",
       "\n",
       "    // location in version 3\n",
       "    if (IPython.notebook.keyboard_manager) {\n",
       "        IPython.notebook.keyboard_manager.register_events(el);\n",
       "    }\n",
       "    else {\n",
       "        // location in version 2\n",
       "        IPython.keyboard_manager.register_events(el);\n",
       "    }\n",
       "\n",
       "}\n",
       "\n",
       "mpl.figure.prototype._key_event_extra = function(event, name) {\n",
       "    var manager = IPython.notebook.keyboard_manager;\n",
       "    if (!manager)\n",
       "        manager = IPython.keyboard_manager;\n",
       "\n",
       "    // Check for shift+enter\n",
       "    if (event.shiftKey && event.which == 13) {\n",
       "        this.canvas_div.blur();\n",
       "        // select the cell after this one\n",
       "        var index = IPython.notebook.find_cell_index(this.cell_info[0]);\n",
       "        IPython.notebook.select(index + 1);\n",
       "    }\n",
       "}\n",
       "\n",
       "mpl.figure.prototype.handle_save = function(fig, msg) {\n",
       "    fig.ondownload(fig, null);\n",
       "}\n",
       "\n",
       "\n",
       "mpl.find_output_cell = function(html_output) {\n",
       "    // Return the cell and output element which can be found *uniquely* in the notebook.\n",
       "    // Note - this is a bit hacky, but it is done because the \"notebook_saving.Notebook\"\n",
       "    // IPython event is triggered only after the cells have been serialised, which for\n",
       "    // our purposes (turning an active figure into a static one), is too late.\n",
       "    var cells = IPython.notebook.get_cells();\n",
       "    var ncells = cells.length;\n",
       "    for (var i=0; i<ncells; i++) {\n",
       "        var cell = cells[i];\n",
       "        if (cell.cell_type === 'code'){\n",
       "            for (var j=0; j<cell.output_area.outputs.length; j++) {\n",
       "                var data = cell.output_area.outputs[j];\n",
       "                if (data.data) {\n",
       "                    // IPython >= 3 moved mimebundle to data attribute of output\n",
       "                    data = data.data;\n",
       "                }\n",
       "                if (data['text/html'] == html_output) {\n",
       "                    return [cell, data, j];\n",
       "                }\n",
       "            }\n",
       "        }\n",
       "    }\n",
       "}\n",
       "\n",
       "// Register the function which deals with the matplotlib target/channel.\n",
       "// The kernel may be null if the page has been refreshed.\n",
       "if (IPython.notebook.kernel != null) {\n",
       "    IPython.notebook.kernel.comm_manager.register_target('matplotlib', mpl.mpl_figure_comm);\n",
       "}\n"
      ],
      "text/plain": [
       "<IPython.core.display.Javascript object>"
      ]
     },
     "metadata": {},
     "output_type": "display_data"
    },
    {
     "data": {
      "text/html": [
       "<img src=\"data:image/png;base64,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\" width=\"900\">"
      ],
      "text/plain": [
       "<IPython.core.display.HTML object>"
      ]
     },
     "metadata": {},
     "output_type": "display_data"
    },
    {
     "name": "stderr",
     "output_type": "stream",
     "text": [
      "C:\\ProgramData\\Anaconda3\\lib\\site-packages\\matplotlib\\axes\\_axes.py:545: UserWarning: No labelled objects found. Use label='...' kwarg on individual plots.\n",
      "  warnings.warn(\"No labelled objects found. \"\n"
     ]
    }
   ],
   "source": [
    "barwidth = 0.75; \n",
    "fig, ax = plt.subplots(figsize=(9, 8));\n",
    "rects1 = ax.bar(0.5,ACCanalysis_Bias.LowC.mean(),barwidth,yerr=ACCstderror_Bias.LowC,ecolor='k',edgecolor=(0.1,1,0.1),linewidth = 2, facecolor='none',error_kw=dict(lw=3));\n",
    "rects2 = ax.bar(1.5,ACCanalysis_Bias.HighIC.mean(),barwidth,color=(0.1,1,0.1),yerr=ACCstderror_Bias.HighIC,ecolor='k',error_kw=dict(lw=3));\n",
    "ax.set_ylim(0.65,1.01);\n",
    "ax.set_xlim(0,2.5);\n",
    "ax.set_xticklabels(('Low', 'High'));\n",
    "ax.set_xticks([0.5, 1.5]);\n",
    "ax.set_yticks(np.arange(0.65, 1.01, 0.05));\n",
    "plt.legend([rects1,rects2], ['Congruent','Incongruent'], loc='upper left',fontsize=18,title='Trial Type')\n",
    "plt.legend(title='Trial Type',fontsize=14)\n",
    "plt.title('S-C Accuracy Cueing Effect for Biased Stimuli', fontsize=26,fontweight=\"bold\")\n",
    "plt.ylabel('Accuracy (Proportion Correct)', fontsize=24,fontweight=\"bold\")\n",
    "plt.xlabel('S2 Control-Demand Cue', fontsize=24,fontweight=\"bold\")\n",
    "sns.despine();\n",
    "\n",
    "plt.show()"
   ]
  },
  {
   "cell_type": "markdown",
   "metadata": {},
   "source": [
    "# Making 95% Confidence Intervals"
   ]
  },
  {
   "cell_type": "markdown",
   "metadata": {},
   "source": [
    "Now I'm making the Supplementary tables that show our data in full, with 95% CIs accompanying the means."
   ]
  },
  {
   "cell_type": "code",
   "execution_count": 45,
   "metadata": {},
   "outputs": [
    {
     "name": "stderr",
     "output_type": "stream",
     "text": [
      "C:\\ProgramData\\Anaconda3\\lib\\site-packages\\statsmodels\\compat\\pandas.py:56: FutureWarning: The pandas.core.datetools module is deprecated and will be removed in a future version. Please use the pandas.tseries module instead.\n",
      "  from pandas.core import datetools\n"
     ]
    },
    {
     "data": {
      "text/plain": [
       "(464.24560427103989, 485.61570445401748)"
      ]
     },
     "execution_count": 45,
     "metadata": {},
     "output_type": "execute_result"
    }
   ],
   "source": [
    "import statsmodels.stats.api as sms\n",
    "\n",
    "a = RTanalysis_unbias.LowC.mean()\n",
    "sms.DescrStatsW(RTanalysis_unbias.LowC).tconfint_mean()\n",
    "#a"
   ]
  },
  {
   "cell_type": "code",
   "execution_count": 46,
   "metadata": {},
   "outputs": [
    {
     "data": {
      "text/plain": [
       "(557.72241299145014, 576.71004823401597)"
      ]
     },
     "execution_count": 46,
     "metadata": {},
     "output_type": "execute_result"
    }
   ],
   "source": [
    "a = RTanalysis_unbias.LowIC.mean()\n",
    "sms.DescrStatsW(RTanalysis_unbias.LowIC).tconfint_mean()\n",
    "#a"
   ]
  },
  {
   "cell_type": "code",
   "execution_count": 47,
   "metadata": {},
   "outputs": [
    {
     "data": {
      "text/plain": [
       "(467.59639620647403, 489.75891232135967)"
      ]
     },
     "execution_count": 47,
     "metadata": {},
     "output_type": "execute_result"
    }
   ],
   "source": [
    "a = RTanalysis_unbias.HighC.mean()\n",
    "sms.DescrStatsW(RTanalysis_unbias.HighC).tconfint_mean()\n",
    "#a"
   ]
  },
  {
   "cell_type": "code",
   "execution_count": 48,
   "metadata": {},
   "outputs": [
    {
     "data": {
      "text/plain": [
       "(547.0427858156047, 568.02297628074416)"
      ]
     },
     "execution_count": 48,
     "metadata": {},
     "output_type": "execute_result"
    }
   ],
   "source": [
    "a = RTanalysis_unbias.HighIC.mean()\n",
    "sms.DescrStatsW(RTanalysis_unbias.HighIC).tconfint_mean()\n",
    "#a"
   ]
  },
  {
   "cell_type": "code",
   "execution_count": 49,
   "metadata": {},
   "outputs": [
    {
     "data": {
      "text/plain": [
       "(471.23861326756486, 504.58140837745674)"
      ]
     },
     "execution_count": 49,
     "metadata": {},
     "output_type": "execute_result"
    }
   ],
   "source": [
    "a = RTrunanalysis_unbias.loc[RTrunanalysis_unbias['Run'] == 0].LowC.mean()\n",
    "sms.DescrStatsW(RTrunanalysis_unbias.loc[RTrunanalysis_unbias['Run'] == 0].LowC).tconfint_mean()\n",
    "#a"
   ]
  },
  {
   "cell_type": "code",
   "execution_count": 50,
   "metadata": {},
   "outputs": [
    {
     "data": {
      "text/plain": [
       "(568.72074932228418, 592.23725933572439)"
      ]
     },
     "execution_count": 50,
     "metadata": {},
     "output_type": "execute_result"
    }
   ],
   "source": [
    "a = RTrunanalysis_unbias.loc[RTrunanalysis_unbias['Run'] == 0].LowIC.mean()\n",
    "sms.DescrStatsW(RTrunanalysis_unbias.loc[RTrunanalysis_unbias['Run'] == 0].LowIC).tconfint_mean()\n",
    "#a"
   ]
  },
  {
   "cell_type": "code",
   "execution_count": 51,
   "metadata": {},
   "outputs": [
    {
     "data": {
      "text/plain": [
       "(479.4300470526797, 505.99587286074018)"
      ]
     },
     "execution_count": 51,
     "metadata": {},
     "output_type": "execute_result"
    }
   ],
   "source": [
    "a = RTrunanalysis_unbias.loc[RTrunanalysis_unbias['Run'] == 0].HighC.mean()\n",
    "sms.DescrStatsW(RTrunanalysis_unbias.loc[RTrunanalysis_unbias['Run'] == 0].HighC).tconfint_mean()\n",
    "#a"
   ]
  },
  {
   "cell_type": "code",
   "execution_count": 52,
   "metadata": {},
   "outputs": [
    {
     "data": {
      "text/plain": [
       "(551.37731415678184, 580.76884385187611)"
      ]
     },
     "execution_count": 52,
     "metadata": {},
     "output_type": "execute_result"
    }
   ],
   "source": [
    "a = RTrunanalysis_unbias.loc[RTrunanalysis_unbias['Run'] == 0].HighIC.mean()\n",
    "sms.DescrStatsW(RTrunanalysis_unbias.loc[RTrunanalysis_unbias['Run'] == 0].HighIC).tconfint_mean()\n",
    "#a"
   ]
  },
  {
   "cell_type": "code",
   "execution_count": 53,
   "metadata": {},
   "outputs": [
    {
     "data": {
      "text/plain": [
       "(457.77626685307848, 482.12692578761414)"
      ]
     },
     "execution_count": 53,
     "metadata": {},
     "output_type": "execute_result"
    }
   ],
   "source": [
    "a = RTrunanalysis_unbias.loc[RTrunanalysis_unbias['Run'] == 1].LowC.mean()\n",
    "sms.DescrStatsW(RTrunanalysis_unbias.loc[RTrunanalysis_unbias['Run'] == 1].LowC).tconfint_mean()\n",
    "#a"
   ]
  },
  {
   "cell_type": "code",
   "execution_count": 54,
   "metadata": {},
   "outputs": [
    {
     "data": {
      "text/plain": [
       "(560.1725888784847, 587.61756263666689)"
      ]
     },
     "execution_count": 54,
     "metadata": {},
     "output_type": "execute_result"
    }
   ],
   "source": [
    "a = RTrunanalysis_unbias.loc[RTrunanalysis_unbias['Run'] == 1].LowIC.mean()\n",
    "sms.DescrStatsW(RTrunanalysis_unbias.loc[RTrunanalysis_unbias['Run'] == 1].LowIC).tconfint_mean()\n",
    "#a"
   ]
  },
  {
   "cell_type": "code",
   "execution_count": 55,
   "metadata": {},
   "outputs": [
    {
     "data": {
      "text/plain": [
       "(462.74282448140281, 489.90327941470099)"
      ]
     },
     "execution_count": 55,
     "metadata": {},
     "output_type": "execute_result"
    }
   ],
   "source": [
    "a = RTrunanalysis_unbias.loc[RTrunanalysis_unbias['Run'] == 1].HighC.mean()\n",
    "sms.DescrStatsW(RTrunanalysis_unbias.loc[RTrunanalysis_unbias['Run'] == 1].HighC).tconfint_mean()\n",
    "#a"
   ]
  },
  {
   "cell_type": "code",
   "execution_count": 56,
   "metadata": {},
   "outputs": [
    {
     "data": {
      "text/plain": [
       "(547.55133548318076, 571.66901083716562)"
      ]
     },
     "execution_count": 56,
     "metadata": {},
     "output_type": "execute_result"
    }
   ],
   "source": [
    "a = RTrunanalysis_unbias.loc[RTrunanalysis_unbias['Run'] == 1].HighIC.mean()\n",
    "sms.DescrStatsW(RTrunanalysis_unbias.loc[RTrunanalysis_unbias['Run'] == 1].HighIC).tconfint_mean()\n",
    "#a"
   ]
  },
  {
   "cell_type": "code",
   "execution_count": 57,
   "metadata": {},
   "outputs": [
    {
     "data": {
      "text/plain": [
       "(464.78994393566882, 487.25112749290258)"
      ]
     },
     "execution_count": 57,
     "metadata": {},
     "output_type": "execute_result"
    }
   ],
   "source": [
    "a = RTrunanalysis_unbias.loc[RTrunanalysis_unbias['Run'] == 2].LowC.mean()\n",
    "sms.DescrStatsW(RTrunanalysis_unbias.loc[RTrunanalysis_unbias['Run'] == 2].LowC).tconfint_mean()\n",
    "#a"
   ]
  },
  {
   "cell_type": "code",
   "execution_count": 58,
   "metadata": {},
   "outputs": [
    {
     "data": {
      "text/plain": [
       "(546.9511066075188, 568.6147483708362)"
      ]
     },
     "execution_count": 58,
     "metadata": {},
     "output_type": "execute_result"
    }
   ],
   "source": [
    "a = RTrunanalysis_unbias.loc[RTrunanalysis_unbias['Run'] == 2].LowIC.mean()\n",
    "sms.DescrStatsW(RTrunanalysis_unbias.loc[RTrunanalysis_unbias['Run'] == 2].LowIC).tconfint_mean()\n",
    "#a"
   ]
  },
  {
   "cell_type": "code",
   "execution_count": 59,
   "metadata": {},
   "outputs": [
    {
     "data": {
      "text/plain": [
       "(462.38247844909995, 493.41919904007773)"
      ]
     },
     "execution_count": 59,
     "metadata": {},
     "output_type": "execute_result"
    }
   ],
   "source": [
    "a = RTrunanalysis_unbias.loc[RTrunanalysis_unbias['Run'] == 2].HighC.mean()\n",
    "sms.DescrStatsW(RTrunanalysis_unbias.loc[RTrunanalysis_unbias['Run'] == 2].HighC).tconfint_mean()\n",
    "#a"
   ]
  },
  {
   "cell_type": "code",
   "execution_count": 60,
   "metadata": {},
   "outputs": [
    {
     "data": {
      "text/plain": [
       "(542.32229007538524, 568.50243936184427)"
      ]
     },
     "execution_count": 60,
     "metadata": {},
     "output_type": "execute_result"
    }
   ],
   "source": [
    "a = RTrunanalysis_unbias.loc[RTrunanalysis_unbias['Run'] == 2].HighIC.mean()\n",
    "sms.DescrStatsW(RTrunanalysis_unbias.loc[RTrunanalysis_unbias['Run'] == 2].HighIC).tconfint_mean()\n",
    "#a"
   ]
  },
  {
   "cell_type": "code",
   "execution_count": 61,
   "metadata": {},
   "outputs": [
    {
     "data": {
      "text/plain": [
       "(450.86560844967676, 482.10186990530167)"
      ]
     },
     "execution_count": 61,
     "metadata": {},
     "output_type": "execute_result"
    }
   ],
   "source": [
    "a = RTrunanalysis_unbias.loc[RTrunanalysis_unbias['Run'] == 3].LowC.mean()\n",
    "sms.DescrStatsW(RTrunanalysis_unbias.loc[RTrunanalysis_unbias['Run'] == 3].LowC).tconfint_mean()\n",
    "#a"
   ]
  },
  {
   "cell_type": "code",
   "execution_count": 62,
   "metadata": {},
   "outputs": [
    {
     "data": {
      "text/plain": [
       "(543.84057107408591, 569.4102406142257)"
      ]
     },
     "execution_count": 62,
     "metadata": {},
     "output_type": "execute_result"
    }
   ],
   "source": [
    "a = RTrunanalysis_unbias.loc[RTrunanalysis_unbias['Run'] == 3].LowIC.mean()\n",
    "sms.DescrStatsW(RTrunanalysis_unbias.loc[RTrunanalysis_unbias['Run'] == 3].LowIC).tconfint_mean()\n",
    "#a"
   ]
  },
  {
   "cell_type": "code",
   "execution_count": 63,
   "metadata": {},
   "outputs": [
    {
     "data": {
      "text/plain": [
       "(453.31342858202089, 482.99474241365016)"
      ]
     },
     "execution_count": 63,
     "metadata": {},
     "output_type": "execute_result"
    }
   ],
   "source": [
    "a = RTrunanalysis_unbias.loc[RTrunanalysis_unbias['Run'] == 3].HighC.mean()\n",
    "sms.DescrStatsW(RTrunanalysis_unbias.loc[RTrunanalysis_unbias['Run'] == 3].HighC).tconfint_mean()\n",
    "#a"
   ]
  },
  {
   "cell_type": "code",
   "execution_count": 64,
   "metadata": {},
   "outputs": [
    {
     "data": {
      "text/plain": [
       "(535.58638238929905, 565.17216739425078)"
      ]
     },
     "execution_count": 64,
     "metadata": {},
     "output_type": "execute_result"
    }
   ],
   "source": [
    "a = RTrunanalysis_unbias.loc[RTrunanalysis_unbias['Run'] == 3].HighIC.mean()\n",
    "sms.DescrStatsW(RTrunanalysis_unbias.loc[RTrunanalysis_unbias['Run'] == 3].HighIC).tconfint_mean()\n",
    "#a"
   ]
  },
  {
   "cell_type": "markdown",
   "metadata": {},
   "source": [
    "And for now the frequency-biased stimuli..."
   ]
  },
  {
   "cell_type": "code",
   "execution_count": 65,
   "metadata": {},
   "outputs": [
    {
     "data": {
      "text/plain": [
       "(506.98582224928066, 531.76821621350189)"
      ]
     },
     "execution_count": 65,
     "metadata": {},
     "output_type": "execute_result"
    }
   ],
   "source": [
    "a = RTanalysis_Bias.LowC.mean()\n",
    "sms.DescrStatsW(RTanalysis_Bias.LowC).tconfint_mean()\n",
    "#a"
   ]
  },
  {
   "cell_type": "code",
   "execution_count": 66,
   "metadata": {},
   "outputs": [
    {
     "data": {
      "text/plain": [
       "(573.19083140156158, 591.23579416820144)"
      ]
     },
     "execution_count": 66,
     "metadata": {},
     "output_type": "execute_result"
    }
   ],
   "source": [
    "a = RTanalysis_Bias.HighIC.mean()\n",
    "sms.DescrStatsW(RTanalysis_Bias.HighIC).tconfint_mean()\n",
    "#a"
   ]
  },
  {
   "cell_type": "code",
   "execution_count": 67,
   "metadata": {},
   "outputs": [
    {
     "data": {
      "text/plain": [
       "(503.1219564180617, 534.52543179978102)"
      ]
     },
     "execution_count": 67,
     "metadata": {},
     "output_type": "execute_result"
    }
   ],
   "source": [
    "a = RTrunanalysis_Bias.loc[RTrunanalysis_Bias['Run'] == 0].LowC.mean()\n",
    "sms.DescrStatsW(RTrunanalysis_Bias.loc[RTrunanalysis_Bias['Run'] == 0].LowC).tconfint_mean()\n",
    "#a"
   ]
  },
  {
   "cell_type": "code",
   "execution_count": 68,
   "metadata": {},
   "outputs": [
    {
     "data": {
      "text/plain": [
       "(578.49971240198511, 605.15896648226203)"
      ]
     },
     "execution_count": 68,
     "metadata": {},
     "output_type": "execute_result"
    }
   ],
   "source": [
    "a = RTrunanalysis_Bias.loc[RTrunanalysis_Bias['Run'] == 0].HighIC.mean()\n",
    "sms.DescrStatsW(RTrunanalysis_Bias.loc[RTrunanalysis_Bias['Run'] == 0].HighIC).tconfint_mean()\n",
    "#a"
   ]
  },
  {
   "cell_type": "code",
   "execution_count": 69,
   "metadata": {},
   "outputs": [
    {
     "data": {
      "text/plain": [
       "(505.9295179087585, 538.17332943329325)"
      ]
     },
     "execution_count": 69,
     "metadata": {},
     "output_type": "execute_result"
    }
   ],
   "source": [
    "a = RTrunanalysis_Bias.loc[RTrunanalysis_Bias['Run'] == 1].LowC.mean()\n",
    "sms.DescrStatsW(RTrunanalysis_Bias.loc[RTrunanalysis_Bias['Run'] == 1].LowC).tconfint_mean()\n",
    "#a"
   ]
  },
  {
   "cell_type": "code",
   "execution_count": 70,
   "metadata": {},
   "outputs": [
    {
     "data": {
      "text/plain": [
       "(581.01964382251072, 601.22423250318388)"
      ]
     },
     "execution_count": 70,
     "metadata": {},
     "output_type": "execute_result"
    }
   ],
   "source": [
    "a = RTrunanalysis_Bias.loc[RTrunanalysis_Bias['Run'] == 1].HighIC.mean()\n",
    "sms.DescrStatsW(RTrunanalysis_Bias.loc[RTrunanalysis_Bias['Run'] == 1].HighIC).tconfint_mean()\n",
    "#a"
   ]
  },
  {
   "cell_type": "code",
   "execution_count": 71,
   "metadata": {},
   "outputs": [
    {
     "data": {
      "text/plain": [
       "(505.13820348782428, 535.44939187136197)"
      ]
     },
     "execution_count": 71,
     "metadata": {},
     "output_type": "execute_result"
    }
   ],
   "source": [
    "a = RTrunanalysis_Bias.loc[RTrunanalysis_Bias['Run'] == 2].LowC.mean()\n",
    "sms.DescrStatsW(RTrunanalysis_Bias.loc[RTrunanalysis_Bias['Run'] == 2].LowC).tconfint_mean()\n",
    "#a"
   ]
  },
  {
   "cell_type": "code",
   "execution_count": 72,
   "metadata": {},
   "outputs": [
    {
     "data": {
      "text/plain": [
       "(570.69642599364101, 593.21403381170512)"
      ]
     },
     "execution_count": 72,
     "metadata": {},
     "output_type": "execute_result"
    }
   ],
   "source": [
    "a = RTrunanalysis_Bias.loc[RTrunanalysis_Bias['Run'] == 2].HighIC.mean()\n",
    "sms.DescrStatsW(RTrunanalysis_Bias.loc[RTrunanalysis_Bias['Run'] == 2].HighIC).tconfint_mean()\n",
    "#a"
   ]
  },
  {
   "cell_type": "code",
   "execution_count": 73,
   "metadata": {},
   "outputs": [
    {
     "data": {
      "text/plain": [
       "(501.30448142367834, 531.93153880609191)"
      ]
     },
     "execution_count": 73,
     "metadata": {},
     "output_type": "execute_result"
    }
   ],
   "source": [
    "a = RTrunanalysis_Bias.loc[RTrunanalysis_Bias['Run'] == 3].LowC.mean()\n",
    "sms.DescrStatsW(RTrunanalysis_Bias.loc[RTrunanalysis_Bias['Run'] == 3].LowC).tconfint_mean()\n",
    "#a"
   ]
  },
  {
   "cell_type": "code",
   "execution_count": 74,
   "metadata": {},
   "outputs": [
    {
     "data": {
      "text/plain": [
       "(556.83973447619894, 577.47047236241713)"
      ]
     },
     "execution_count": 74,
     "metadata": {},
     "output_type": "execute_result"
    }
   ],
   "source": [
    "a = RTrunanalysis_Bias.loc[RTrunanalysis_Bias['Run'] == 3].HighIC.mean()\n",
    "sms.DescrStatsW(RTrunanalysis_Bias.loc[RTrunanalysis_Bias['Run'] == 3].HighIC).tconfint_mean()\n",
    "#a"
   ]
  },
  {
   "cell_type": "markdown",
   "metadata": {},
   "source": [
    "And for Accuracy..."
   ]
  },
  {
   "cell_type": "code",
   "execution_count": 75,
   "metadata": {},
   "outputs": [
    {
     "data": {
      "text/plain": [
       "(0.90623856389788127, 0.95029552701120956)"
      ]
     },
     "execution_count": 75,
     "metadata": {},
     "output_type": "execute_result"
    }
   ],
   "source": [
    "a = ACCanalysis_unbias.LowC.mean()\n",
    "sms.DescrStatsW(ACCanalysis_unbias.LowC).tconfint_mean()\n",
    "#a"
   ]
  },
  {
   "cell_type": "code",
   "execution_count": 76,
   "metadata": {},
   "outputs": [
    {
     "data": {
      "text/plain": [
       "(0.87772629446235895, 0.92341006917400459)"
      ]
     },
     "execution_count": 76,
     "metadata": {},
     "output_type": "execute_result"
    }
   ],
   "source": [
    "a = ACCanalysis_unbias.LowIC.mean()\n",
    "sms.DescrStatsW(ACCanalysis_unbias.LowIC).tconfint_mean()\n",
    "#a"
   ]
  },
  {
   "cell_type": "code",
   "execution_count": 77,
   "metadata": {},
   "outputs": [
    {
     "data": {
      "text/plain": [
       "(0.92190570656558468, 0.95593520252532449)"
      ]
     },
     "execution_count": 77,
     "metadata": {},
     "output_type": "execute_result"
    }
   ],
   "source": [
    "a = ACCanalysis_unbias.HighC.mean()\n",
    "sms.DescrStatsW(ACCanalysis_unbias.HighC).tconfint_mean()\n",
    "#a"
   ]
  },
  {
   "cell_type": "code",
   "execution_count": 78,
   "metadata": {},
   "outputs": [
    {
     "data": {
      "text/plain": [
       "(0.86967894613613739, 0.91157105386386261)"
      ]
     },
     "execution_count": 78,
     "metadata": {},
     "output_type": "execute_result"
    }
   ],
   "source": [
    "a = ACCanalysis_unbias.HighIC.mean()\n",
    "sms.DescrStatsW(ACCanalysis_unbias.HighIC).tconfint_mean()\n",
    "#a"
   ]
  },
  {
   "cell_type": "code",
   "execution_count": 79,
   "metadata": {},
   "outputs": [
    {
     "data": {
      "text/plain": [
       "(0.91256052129972465, 0.96812129688209347)"
      ]
     },
     "execution_count": 79,
     "metadata": {},
     "output_type": "execute_result"
    }
   ],
   "source": [
    "a = ACCrunanalysis_unbias.loc[ACCrunanalysis_unbias['Run'] == 0].LowC.mean()\n",
    "sms.DescrStatsW(ACCrunanalysis_unbias.loc[ACCrunanalysis_unbias['Run'] == 0].LowC).tconfint_mean()\n",
    "#a"
   ]
  },
  {
   "cell_type": "code",
   "execution_count": 80,
   "metadata": {},
   "outputs": [
    {
     "data": {
      "text/plain": [
       "(0.85562811822892426, 0.93414460904380303)"
      ]
     },
     "execution_count": 80,
     "metadata": {},
     "output_type": "execute_result"
    }
   ],
   "source": [
    "a = ACCrunanalysis_unbias.loc[ACCrunanalysis_unbias['Run'] == 0].LowIC.mean()\n",
    "sms.DescrStatsW(ACCrunanalysis_unbias.loc[ACCrunanalysis_unbias['Run'] == 0].LowIC).tconfint_mean()\n",
    "#a"
   ]
  },
  {
   "cell_type": "code",
   "execution_count": 81,
   "metadata": {},
   "outputs": [
    {
     "data": {
      "text/plain": [
       "(0.87802841932348596, 0.94015339885833216)"
      ]
     },
     "execution_count": 81,
     "metadata": {},
     "output_type": "execute_result"
    }
   ],
   "source": [
    "a = ACCrunanalysis_unbias.loc[ACCrunanalysis_unbias['Run'] == 0].HighC.mean()\n",
    "sms.DescrStatsW(ACCrunanalysis_unbias.loc[ACCrunanalysis_unbias['Run'] == 0].HighC).tconfint_mean()\n",
    "#a"
   ]
  },
  {
   "cell_type": "code",
   "execution_count": 82,
   "metadata": {},
   "outputs": [
    {
     "data": {
      "text/plain": [
       "(0.82137701804380203, 0.88885025468347068)"
      ]
     },
     "execution_count": 82,
     "metadata": {},
     "output_type": "execute_result"
    }
   ],
   "source": [
    "a = ACCrunanalysis_unbias.loc[ACCrunanalysis_unbias['Run'] == 0].HighIC.mean()\n",
    "sms.DescrStatsW(ACCrunanalysis_unbias.loc[ACCrunanalysis_unbias['Run'] == 0].HighIC).tconfint_mean()\n",
    "#a"
   ]
  },
  {
   "cell_type": "code",
   "execution_count": 83,
   "metadata": {},
   "outputs": [
    {
     "data": {
      "text/plain": [
       "(0.88657117187005618, 0.95433791903903464)"
      ]
     },
     "execution_count": 83,
     "metadata": {},
     "output_type": "execute_result"
    }
   ],
   "source": [
    "a = ACCrunanalysis_unbias.loc[ACCrunanalysis_unbias['Run'] == 1].LowC.mean()\n",
    "sms.DescrStatsW(ACCrunanalysis_unbias.loc[ACCrunanalysis_unbias['Run'] == 1].LowC).tconfint_mean()\n",
    "#a"
   ]
  },
  {
   "cell_type": "code",
   "execution_count": 84,
   "metadata": {},
   "outputs": [
    {
     "data": {
      "text/plain": [
       "(0.86082440206838406, 0.93463014338616135)"
      ]
     },
     "execution_count": 84,
     "metadata": {},
     "output_type": "execute_result"
    }
   ],
   "source": [
    "a = ACCrunanalysis_unbias.loc[ACCrunanalysis_unbias['Run'] == 1].LowIC.mean()\n",
    "sms.DescrStatsW(ACCrunanalysis_unbias.loc[ACCrunanalysis_unbias['Run'] == 1].LowIC).tconfint_mean()\n",
    "#a"
   ]
  },
  {
   "cell_type": "code",
   "execution_count": 85,
   "metadata": {},
   "outputs": [
    {
     "data": {
      "text/plain": [
       "(0.91086780432283676, 0.98117765022261783)"
      ]
     },
     "execution_count": 85,
     "metadata": {},
     "output_type": "execute_result"
    }
   ],
   "source": [
    "a = ACCrunanalysis_unbias.loc[ACCrunanalysis_unbias['Run'] == 1].HighC.mean()\n",
    "sms.DescrStatsW(ACCrunanalysis_unbias.loc[ACCrunanalysis_unbias['Run'] == 1].HighC).tconfint_mean()\n",
    "#a"
   ]
  },
  {
   "cell_type": "code",
   "execution_count": 86,
   "metadata": {},
   "outputs": [
    {
     "data": {
      "text/plain": [
       "(0.86688045621479337, 0.93993772560338851)"
      ]
     },
     "execution_count": 86,
     "metadata": {},
     "output_type": "execute_result"
    }
   ],
   "source": [
    "a = ACCrunanalysis_unbias.loc[ACCrunanalysis_unbias['Run'] == 1].HighIC.mean()\n",
    "sms.DescrStatsW(ACCrunanalysis_unbias.loc[ACCrunanalysis_unbias['Run'] == 1].HighIC).tconfint_mean()\n",
    "#a"
   ]
  },
  {
   "cell_type": "code",
   "execution_count": 87,
   "metadata": {},
   "outputs": [
    {
     "data": {
      "text/plain": [
       "(0.88593068705772948, 0.94929658566954322)"
      ]
     },
     "execution_count": 87,
     "metadata": {},
     "output_type": "execute_result"
    }
   ],
   "source": [
    "a = ACCrunanalysis_unbias.loc[ACCrunanalysis_unbias['Run'] == 2].LowC.mean()\n",
    "sms.DescrStatsW(ACCrunanalysis_unbias.loc[ACCrunanalysis_unbias['Run'] == 2].LowC).tconfint_mean()\n",
    "#a"
   ]
  },
  {
   "cell_type": "code",
   "execution_count": 88,
   "metadata": {},
   "outputs": [
    {
     "data": {
      "text/plain": [
       "(0.88548093931345495, 0.94406451523199963)"
      ]
     },
     "execution_count": 88,
     "metadata": {},
     "output_type": "execute_result"
    }
   ],
   "source": [
    "a = ACCrunanalysis_unbias.loc[ACCrunanalysis_unbias['Run'] == 2].LowIC.mean()\n",
    "sms.DescrStatsW(ACCrunanalysis_unbias.loc[ACCrunanalysis_unbias['Run'] == 2].LowIC).tconfint_mean()\n",
    "#a"
   ]
  },
  {
   "cell_type": "code",
   "execution_count": 89,
   "metadata": {},
   "outputs": [
    {
     "data": {
      "text/plain": [
       "(0.93737703214851353, 0.98307751330603188)"
      ]
     },
     "execution_count": 89,
     "metadata": {},
     "output_type": "execute_result"
    }
   ],
   "source": [
    "a = ACCrunanalysis_unbias.loc[ACCrunanalysis_unbias['Run'] == 2].HighC.mean()\n",
    "sms.DescrStatsW(ACCrunanalysis_unbias.loc[ACCrunanalysis_unbias['Run'] == 2].HighC).tconfint_mean()\n",
    "#a"
   ]
  },
  {
   "cell_type": "code",
   "execution_count": 90,
   "metadata": {},
   "outputs": [
    {
     "data": {
      "text/plain": [
       "(0.86781181456439449, 0.93900636725378739)"
      ]
     },
     "execution_count": 90,
     "metadata": {},
     "output_type": "execute_result"
    }
   ],
   "source": [
    "a = ACCrunanalysis_unbias.loc[ACCrunanalysis_unbias['Run'] == 2].HighIC.mean()\n",
    "sms.DescrStatsW(ACCrunanalysis_unbias.loc[ACCrunanalysis_unbias['Run'] == 2].HighIC).tconfint_mean()\n",
    "#a"
   ]
  },
  {
   "cell_type": "code",
   "execution_count": 91,
   "metadata": {},
   "outputs": [
    {
     "data": {
      "text/plain": [
       "(0.89579167898103818, 0.9735265028371437)"
      ]
     },
     "execution_count": 91,
     "metadata": {},
     "output_type": "execute_result"
    }
   ],
   "source": [
    "a = ACCrunanalysis_unbias.loc[ACCrunanalysis_unbias['Run'] == 3].LowC.mean()\n",
    "sms.DescrStatsW(ACCrunanalysis_unbias.loc[ACCrunanalysis_unbias['Run'] == 3].LowC).tconfint_mean()\n",
    "#a"
   ]
  },
  {
   "cell_type": "code",
   "execution_count": 92,
   "metadata": {},
   "outputs": [
    {
     "data": {
      "text/plain": [
       "(0.85828466116141777, 0.93148806611130952)"
      ]
     },
     "execution_count": 92,
     "metadata": {},
     "output_type": "execute_result"
    }
   ],
   "source": [
    "a = ACCrunanalysis_unbias.loc[ACCrunanalysis_unbias['Run'] == 3].LowIC.mean()\n",
    "sms.DescrStatsW(ACCrunanalysis_unbias.loc[ACCrunanalysis_unbias['Run'] == 3].LowIC).tconfint_mean()\n",
    "#a"
   ]
  },
  {
   "cell_type": "code",
   "execution_count": 93,
   "metadata": {},
   "outputs": [
    {
     "data": {
      "text/plain": [
       "(0.90324204696486243, 0.97743977121695569)"
      ]
     },
     "execution_count": 93,
     "metadata": {},
     "output_type": "execute_result"
    }
   ],
   "source": [
    "a = ACCrunanalysis_unbias.loc[ACCrunanalysis_unbias['Run'] == 3].HighC.mean()\n",
    "sms.DescrStatsW(ACCrunanalysis_unbias.loc[ACCrunanalysis_unbias['Run'] == 3].HighC).tconfint_mean()\n",
    "#a"
   ]
  },
  {
   "cell_type": "code",
   "execution_count": 94,
   "metadata": {},
   "outputs": [
    {
     "data": {
      "text/plain": [
       "(0.86076921695788855, 0.94036714667847499)"
      ]
     },
     "execution_count": 94,
     "metadata": {},
     "output_type": "execute_result"
    }
   ],
   "source": [
    "a = ACCrunanalysis_unbias.loc[ACCrunanalysis_unbias['Run'] == 3].HighIC.mean()\n",
    "sms.DescrStatsW(ACCrunanalysis_unbias.loc[ACCrunanalysis_unbias['Run'] == 3].HighIC).tconfint_mean()\n",
    "#a"
   ]
  },
  {
   "cell_type": "markdown",
   "metadata": {},
   "source": [
    "And for now the frequency-biased stimuli..."
   ]
  },
  {
   "cell_type": "code",
   "execution_count": 95,
   "metadata": {},
   "outputs": [
    {
     "data": {
      "text/plain": [
       "(0.8247927888316221, 0.87975266571383248)"
      ]
     },
     "execution_count": 95,
     "metadata": {},
     "output_type": "execute_result"
    }
   ],
   "source": [
    "a = ACCanalysis_Bias.LowC.mean()\n",
    "sms.DescrStatsW(ACCanalysis_Bias.LowC).tconfint_mean()\n",
    "#a"
   ]
  },
  {
   "cell_type": "code",
   "execution_count": 96,
   "metadata": {},
   "outputs": [
    {
     "data": {
      "text/plain": [
       "(0.78430288578050866, 0.84566870512858217)"
      ]
     },
     "execution_count": 96,
     "metadata": {},
     "output_type": "execute_result"
    }
   ],
   "source": [
    "a = ACCanalysis_Bias.HighIC.mean()\n",
    "sms.DescrStatsW(ACCanalysis_Bias.HighIC).tconfint_mean()\n",
    "#a"
   ]
  },
  {
   "cell_type": "code",
   "execution_count": 97,
   "metadata": {},
   "outputs": [
    {
     "data": {
      "text/plain": [
       "(0.78514172577596597, 0.86826736513312486)"
      ]
     },
     "execution_count": 97,
     "metadata": {},
     "output_type": "execute_result"
    }
   ],
   "source": [
    "a = ACCrunanalysis_Bias.loc[ACCrunanalysis_Bias['Run'] == 0].LowC.mean()\n",
    "sms.DescrStatsW(ACCrunanalysis_Bias.loc[ACCrunanalysis_Bias['Run'] == 0].LowC).tconfint_mean()\n",
    "#a"
   ]
  },
  {
   "cell_type": "code",
   "execution_count": 98,
   "metadata": {},
   "outputs": [
    {
     "data": {
      "text/plain": [
       "(0.71110969769601573, 0.8172993932130751)"
      ]
     },
     "execution_count": 98,
     "metadata": {},
     "output_type": "execute_result"
    }
   ],
   "source": [
    "a = ACCrunanalysis_Bias.loc[ACCrunanalysis_Bias['Run'] == 0].HighIC.mean()\n",
    "sms.DescrStatsW(ACCrunanalysis_Bias.loc[ACCrunanalysis_Bias['Run'] == 0].HighIC).tconfint_mean()\n",
    "#a"
   ]
  },
  {
   "cell_type": "code",
   "execution_count": 99,
   "metadata": {},
   "outputs": [
    {
     "data": {
      "text/plain": [
       "(0.82092357821709339, 0.88646278541927015)"
      ]
     },
     "execution_count": 99,
     "metadata": {},
     "output_type": "execute_result"
    }
   ],
   "source": [
    "a = ACCrunanalysis_Bias.loc[ACCrunanalysis_Bias['Run'] == 1].LowC.mean()\n",
    "sms.DescrStatsW(ACCrunanalysis_Bias.loc[ACCrunanalysis_Bias['Run'] == 1].LowC).tconfint_mean()\n",
    "#a"
   ]
  },
  {
   "cell_type": "code",
   "execution_count": 100,
   "metadata": {},
   "outputs": [
    {
     "data": {
      "text/plain": [
       "(0.76287617387910489, 0.84507837157544052)"
      ]
     },
     "execution_count": 100,
     "metadata": {},
     "output_type": "execute_result"
    }
   ],
   "source": [
    "a = ACCrunanalysis_Bias.loc[ACCrunanalysis_Bias['Run'] == 1].HighIC.mean()\n",
    "sms.DescrStatsW(ACCrunanalysis_Bias.loc[ACCrunanalysis_Bias['Run'] == 1].HighIC).tconfint_mean()\n",
    "#a"
   ]
  },
  {
   "cell_type": "code",
   "execution_count": 101,
   "metadata": {},
   "outputs": [
    {
     "data": {
      "text/plain": [
       "(0.82728757097084715, 0.90282606539278931)"
      ]
     },
     "execution_count": 101,
     "metadata": {},
     "output_type": "execute_result"
    }
   ],
   "source": [
    "a = ACCrunanalysis_Bias.loc[ACCrunanalysis_Bias['Run'] == 2].LowC.mean()\n",
    "sms.DescrStatsW(ACCrunanalysis_Bias.loc[ACCrunanalysis_Bias['Run'] == 2].LowC).tconfint_mean()\n",
    "#a"
   ]
  },
  {
   "cell_type": "code",
   "execution_count": 102,
   "metadata": {},
   "outputs": [
    {
     "data": {
      "text/plain": [
       "(0.82077099746643745, 0.88377445707901714)"
      ]
     },
     "execution_count": 102,
     "metadata": {},
     "output_type": "execute_result"
    }
   ],
   "source": [
    "a = ACCrunanalysis_Bias.loc[ACCrunanalysis_Bias['Run'] == 2].HighIC.mean()\n",
    "sms.DescrStatsW(ACCrunanalysis_Bias.loc[ACCrunanalysis_Bias['Run'] == 2].HighIC).tconfint_mean()\n",
    "#a"
   ]
  },
  {
   "cell_type": "code",
   "execution_count": 103,
   "metadata": {},
   "outputs": [
    {
     "data": {
      "text/plain": [
       "(0.82831896136007899, 0.89895376591264831)"
      ]
     },
     "execution_count": 103,
     "metadata": {},
     "output_type": "execute_result"
    }
   ],
   "source": [
    "a = ACCrunanalysis_Bias.loc[ACCrunanalysis_Bias['Run'] == 3].LowC.mean()\n",
    "sms.DescrStatsW(ACCrunanalysis_Bias.loc[ACCrunanalysis_Bias['Run'] == 3].LowC).tconfint_mean()\n",
    "#a"
   ]
  },
  {
   "cell_type": "code",
   "execution_count": 104,
   "metadata": {},
   "outputs": [
    {
     "data": {
      "text/plain": [
       "(0.80461987398623858, 0.87435739874103413)"
      ]
     },
     "execution_count": 104,
     "metadata": {},
     "output_type": "execute_result"
    }
   ],
   "source": [
    "a = ACCrunanalysis_Bias.loc[ACCrunanalysis_Bias['Run'] == 3].HighIC.mean()\n",
    "sms.DescrStatsW(ACCrunanalysis_Bias.loc[ACCrunanalysis_Bias['Run'] == 3].HighIC).tconfint_mean()\n",
    "#a"
   ]
  }
 ],
 "metadata": {
  "anaconda-cloud": {},
  "kernelspec": {
   "display_name": "Python 3",
   "language": "python",
   "name": "python3"
  },
  "language_info": {
   "codemirror_mode": {
    "name": "ipython",
    "version": 3
   },
   "file_extension": ".py",
   "mimetype": "text/x-python",
   "name": "python",
   "nbconvert_exporter": "python",
   "pygments_lexer": "ipython3",
   "version": "3.6.2"
  }
 },
 "nbformat": 4,
 "nbformat_minor": 1
}

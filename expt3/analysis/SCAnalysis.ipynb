{
 "cells": [
  {
   "cell_type": "markdown",
   "metadata": {},
   "source": [
    "# Information on How These Data Are Organized:\n",
    "\n",
    "`TypeOfResponse` refers to whether participants pressed a button (\"SCResp\") or did not press a button (\"SCRespITI\") within the given time frame.\n",
    "\n",
    "`Version` refers to the task version. I never changed the JS code; I merely changed which face/house was labeled as S1_1, S1_2, S1_3, or S1_4 in respective task folders.\n",
    "\n",
    "`LogCounter` gets added to whenever the JS records a new datapoint.\n",
    "\n",
    "`TrialCounter` gets added to whenever a new trial has started. This is reset at the start of each block.\n",
    "\n",
    "`MatrixCounter` gets added to throughout the task and is never reset. It is what I use to call Stimuli #s.\n",
    "\n",
    "`RunCounter` refers to the run: 0 is run 1, 1 is run 2, 2 is run 3, and 3 is run 4.\n",
    "\n",
    "`CongruentCounter` marks any time a congruent trial occurred; `IncongruentCounter` an incongruent trial.\n",
    "\n",
    "`StimPresented` refers to which scene was presented before the trial. This is in reference to the main manipulation of the S-C association phase, whereby particular scenes are more likely to precede specific proportions of congruent/incongruent trials.\n",
    "\n",
    "`StimProbAll` refers to my matrix of possible trial types. So it indicates whether \"RED\" will be shown in red, etc.\n",
    "\n",
    "`TrialType` also marks incongruent/congruent trials.\n",
    "\n",
    "`StroopNum` refers to the Stroop Stimuli: 1 is BLUE in BLUE; 2 RED in RED; 3 GREEN in GREEN; 4 YELLOW in YELLOW; 6 BLUE in YELLOW; 10 RED in GREEN; 12 YELLOW in BLUE; 14 GREEN in RED. This is in reference to a key manipulation of this experiment, whereby the scenes are now associated with particular percentages of Stroop Stimuli. Two are unbiased (blue/yellow) such that they will appear in congruent and incongruent colors half of the time, while two are biased (red/green) such that they will always appear as congruent or incongruent, depending on the particular S2 image presented.\n",
    "\n",
    "`PressCorrect` refers to the button that participants should press on that trial. This is how I define accuracy (i.e., correct: when PressCorrect = actualkeyPressed).\n",
    "\n",
    "`ResponseMatrix` refers to which key is pressed; this is a redundant variable and was used to make sure that each key had been required an equal number of times throughout the task.\n",
    "\n",
    "`ActualKeyPressed` is what key subjects pressed.\n",
    "\n",
    "`Accuracy` & `RT` self-explanatory.\n",
    "\n",
    "`FeedbackType` refers to whether they got correct as fb, incorrect as fb, or the fb time-out.\n",
    "\n",
    "`runStart` refers to the initiation of the countdown to begin the task.\n",
    "\n",
    "`ImagePresent` refers to when scene was presented.\n",
    "\n",
    "`StimTime` refers to when the color word was presented.\n",
    "\n",
    "`ColorTime` refers to when the color of the color word was presented.\n",
    "\n",
    "`RespOnset` refers to when a response was made.\n",
    "\n",
    "`AccCount` is how I give subjects accurate fb of their performance at the end of each run (i.e., a counter that gets added to after each correct trial & is divided by trial #).\n",
    "\n",
    "`Subject` self-explanatory.\n",
    "\n",
    "Some other labels aren't coded in the JS: `Sequential` refers to whether a trial was the same (0) as before, changed to incongruent or congruent on the next trial, etc., and `StimRep` looks for direct repetitions in the StimProbAll matrix. These were coded in Matlab and added to the CSV file.\n",
    "\n",
    "---"
   ]
  },
  {
   "cell_type": "markdown",
   "metadata": {},
   "source": [
    "### Here we'll just import Python specific packages and read in our data."
   ]
  },
  {
   "cell_type": "code",
   "execution_count": 1,
   "metadata": {
    "collapsed": true
   },
   "outputs": [],
   "source": [
    "import numpy as np\n",
    "import pandas as pd\n",
    "import matplotlib.pyplot as plt\n",
    "import seaborn as sns\n",
    "import pylab as plb\n",
    "import math\n",
    "from scipy import stats\n",
    "\n",
    "%matplotlib notebook "
   ]
  },
  {
   "cell_type": "code",
   "execution_count": 2,
   "metadata": {},
   "outputs": [
    {
     "name": "stdout",
     "output_type": "stream",
     "text": [
      "C:\\Users\\cb383\\Desktop\\YearTwo\\controlwork\\SCP_R\\data\n"
     ]
    }
   ],
   "source": [
    "%cd C:\\Users\\cb383\\Desktop\\YearTwo\\controlwork\\SCP_R\\data    \n",
    "dat = pd.read_csv('AllSubsSC.csv')"
   ]
  },
  {
   "cell_type": "markdown",
   "metadata": {},
   "source": [
    "# Do Some Basic Cleaning"
   ]
  },
  {
   "cell_type": "markdown",
   "metadata": {},
   "source": [
    "#### We are filtering and preparing the data for analysis.\n",
    "\n",
    "FOR REACTION TIMES:\n",
    "\n",
    "-Select only `TypeOfResponse` equal to `Resp` (`ITI Resp` is when subs didn't respond).\n",
    "\n",
    "-Only take the RTs that are greater than 200ms and less than 800 ms (b/c 200 ms, the color-word is black).\n",
    "\n",
    "-Only take the RTs on accurate trials.\n",
    "\n",
    "-Only take trials where the stimulus didn't repeat.\n",
    "\n",
    "\n",
    "FOR ACCURACY:\n",
    "\n",
    "-All errors are errors"
   ]
  },
  {
   "cell_type": "code",
   "execution_count": 3,
   "metadata": {
    "collapsed": true
   },
   "outputs": [],
   "source": [
    "cdat = dat.query('(TypeOfResponse != \"SCRespITI\") & (RT > 200) & (RT < 800) & (Accuracy != 0) & (StimRep != 1)').copy()\n",
    "adat = dat.copy()"
   ]
  },
  {
   "cell_type": "markdown",
   "metadata": {},
   "source": [
    "#### Now I'm making columns in the data based off my variables so that analysis will be easier."
   ]
  },
  {
   "cell_type": "code",
   "execution_count": 4,
   "metadata": {
    "collapsed": true
   },
   "outputs": [],
   "source": [
    "adat['DemandCue'] = adat['StimPresented'].isin([1, 2])\n",
    "adat.loc[adat['StimPresented'].isin([1, 2]), 'DemandCue'] = 'High'\n",
    "adat.loc[~adat['StimPresented'].isin([1, 2]), 'DemandCue'] = 'Low'\n",
    "\n",
    "adat['Congruency'] = adat['TrialType'].isin([1])\n",
    "adat.loc[adat['TrialType'].isin([1]),'Congruency'] = 'Incongruent'\n",
    "adat.loc[~adat['TrialType'].isin([1]),'Congruency'] = 'Congruent'\n",
    "\n",
    "adat['FreqBias'] = adat['StroopNumber'].isin([1])\n",
    "adat.loc[adat['StroopNumber'].isin([2,3,10,14]),'FreqBias'] = 'FreqBiased'\n",
    "adat.loc[adat['StroopNumber'].isin([1,4,6,12]),'FreqBias'] = 'FreqUnbiased'\n",
    "\n",
    "cdat['DemandCue'] = cdat['StimPresented'].isin([1, 2])\n",
    "cdat.loc[cdat['StimPresented'].isin([1, 2]), 'DemandCue'] = 'High'\n",
    "cdat.loc[~cdat['StimPresented'].isin([1, 2]), 'DemandCue'] = 'Low'\n",
    "\n",
    "cdat['Congruency'] = cdat['TrialType'].isin([1])\n",
    "cdat.loc[cdat['TrialType'].isin([1]),'Congruency'] = 'Incongruent'\n",
    "cdat.loc[~cdat['TrialType'].isin([1]),'Congruency'] = 'Congruent'\n",
    "\n",
    "cdat['FreqBias'] = cdat['StroopNumber'].isin([1])\n",
    "cdat.loc[cdat['StroopNumber'].isin([2,3,10,14]),'FreqBias'] = 'FreqBiased'\n",
    "cdat.loc[cdat['StroopNumber'].isin([1,4,6,12]),'FreqBias'] = 'FreqUnbiased'"
   ]
  },
  {
   "cell_type": "code",
   "execution_count": 5,
   "metadata": {
    "collapsed": true
   },
   "outputs": [],
   "source": [
    "adat['ContextCong'] = adat['DemandCue'].isin(['High']) & adat['TrialType'].isin([1])\n",
    "adat.loc[(adat['DemandCue'].isin(['High']) & adat['TrialType'].isin([1])), 'ContextCong'] = 'HighIC'\n",
    "adat.loc[(adat['DemandCue'].isin(['Low']) & adat['TrialType'].isin([1])), 'ContextCong'] = 'LowIC'\n",
    "adat.loc[(adat['DemandCue'].isin(['High']) & adat['TrialType'].isin([2])), 'ContextCong'] = 'HighC'\n",
    "adat.loc[(adat['DemandCue'].isin(['Low']) & adat['TrialType'].isin([2])), 'ContextCong'] = 'LowC'\n",
    "\n",
    "cdat['ContextCong'] = cdat['DemandCue'].isin(['High']) & cdat['TrialType'].isin([1])\n",
    "cdat.loc[(cdat['DemandCue'].isin(['High']) & cdat['TrialType'].isin([1])), 'ContextCong'] = 'HighIC'\n",
    "cdat.loc[(cdat['DemandCue'].isin(['Low']) & cdat['TrialType'].isin([1])), 'ContextCong'] = 'LowIC'\n",
    "cdat.loc[(cdat['DemandCue'].isin(['High']) & cdat['TrialType'].isin([2])), 'ContextCong'] = 'HighC'\n",
    "cdat.loc[(cdat['DemandCue'].isin(['Low']) & cdat['TrialType'].isin([2])), 'ContextCong'] = 'LowC'"
   ]
  },
  {
   "cell_type": "markdown",
   "metadata": {},
   "source": [
    "# Look at Mean Cueing Effects"
   ]
  },
  {
   "cell_type": "markdown",
   "metadata": {},
   "source": [
    "### We are looking here specifically at our frequency-unbiased stimuli to see whether we find an interaction between control-demand cue and congruency, such that people use the cues to modulate Stroop congruency. Namely, we would predict that people would have a smaller difference between the Stroop trial types for the \"high\" compared to \"low\" control-demand cue. This would result from learning to associate a state of higher attentional focus with the high control-demand cue, which in turn means more efficient processing - or responding quicker to incongruent trials and potentially slower to congruent trials.\n",
    "\n",
    "### If we find reduced congruency effects for the frequency biased stimuli, that would suggest that people are learning cue-response or cue-stimulus-response contingencies."
   ]
  },
  {
   "cell_type": "code",
   "execution_count": 116,
   "metadata": {},
   "outputs": [
    {
     "data": {
      "text/plain": [
       "ContextCong\n",
       "HighC     478.677654\n",
       "HighIC    557.532881\n",
       "LowC      474.930654\n",
       "LowIC     567.216231\n",
       "Name: RT, dtype: float64"
      ]
     },
     "execution_count": 116,
     "metadata": {},
     "output_type": "execute_result"
    }
   ],
   "source": [
    "sub_RTmeans = cdat.loc[cdat['FreqBias'] == 'FreqUnbiased'].groupby(['subject','ContextCong'])['RT'].mean()\n",
    "RTgrpmean = pd.Series.mean(sub_RTmeans,level=1)\n",
    "RTgrpmean"
   ]
  },
  {
   "cell_type": "code",
   "execution_count": 117,
   "metadata": {},
   "outputs": [
    {
     "data": {
      "text/plain": [
       "ContextCong\n",
       "HighC     36.448175\n",
       "HighIC    34.503738\n",
       "LowC      35.144979\n",
       "LowIC     31.226809\n",
       "Name: RT, dtype: float64"
      ]
     },
     "execution_count": 117,
     "metadata": {},
     "output_type": "execute_result"
    }
   ],
   "source": [
    "RTgrpstd = pd.Series.std(sub_RTmeans,level=1)\n",
    "RTgrpstd"
   ]
  },
  {
   "cell_type": "code",
   "execution_count": 118,
   "metadata": {},
   "outputs": [
    {
     "data": {
      "text/plain": [
       "ContextCong\n",
       "HighC     5.494769\n",
       "HighIC    5.201634\n",
       "LowC      5.298305\n",
       "LowIC     4.707619\n",
       "Name: RT, dtype: float64"
      ]
     },
     "execution_count": 118,
     "metadata": {},
     "output_type": "execute_result"
    }
   ],
   "source": [
    "n = math.sqrt(44)\n",
    "RTstderror = RTgrpstd / n\n",
    "RTstderror"
   ]
  },
  {
   "cell_type": "markdown",
   "metadata": {},
   "source": [
    "#### Looking good for the frequency unbiased stimuli - what of the frequency biased stimuli? Do they generally have a smaller congruency difference?"
   ]
  },
  {
   "cell_type": "code",
   "execution_count": 119,
   "metadata": {},
   "outputs": [
    {
     "data": {
      "text/plain": [
       "ContextCong\n",
       "HighIC    582.213313\n",
       "LowC      519.377019\n",
       "Name: RT, dtype: float64"
      ]
     },
     "execution_count": 119,
     "metadata": {},
     "output_type": "execute_result"
    }
   ],
   "source": [
    "sub_RTmeans_Bias = cdat.loc[cdat['FreqBias'] == 'FreqBiased'].groupby(['subject','ContextCong'])['RT'].mean()\n",
    "RTgrpmean_Bias = pd.Series.mean(sub_RTmeans_Bias,level=1)\n",
    "RTgrpmean_Bias"
   ]
  },
  {
   "cell_type": "code",
   "execution_count": 120,
   "metadata": {
    "collapsed": true
   },
   "outputs": [],
   "source": [
    "RTgrpstd_Bias = pd.Series.std(sub_RTmeans_Bias,level=1)\n",
    "n = math.sqrt(44)\n",
    "RTstderror_Bias = RTgrpstd_Bias / n"
   ]
  },
  {
   "cell_type": "markdown",
   "metadata": {},
   "source": [
    "#### Indeed, the congruency for the frequency biased stimuli is smaller than either that following the high or low demand cue, and the congruency following the high demand cue (557 - 478) is smaller than that following the low demand cue (567 - 474). We will test the significance of these differences later.\n",
    "\n",
    "#### Now, what of Accuracy?"
   ]
  },
  {
   "cell_type": "code",
   "execution_count": 146,
   "metadata": {},
   "outputs": [
    {
     "data": {
      "text/plain": [
       "ContextCong\n",
       "HighC     0.959494\n",
       "HighIC    0.926640\n",
       "LowC      0.947025\n",
       "LowIC     0.934361\n",
       "Name: Accuracy, dtype: float64"
      ]
     },
     "execution_count": 146,
     "metadata": {},
     "output_type": "execute_result"
    }
   ],
   "source": [
    "sub_ACCmeans = adat.loc[adat['FreqBias'] == 'FreqUnbiased'].groupby(['subject','ContextCong'])['Accuracy'].mean()\n",
    "ACCgrpmean = pd.Series.mean(sub_ACCmeans,level=1)\n",
    "ACCgrpmean"
   ]
  },
  {
   "cell_type": "code",
   "execution_count": 147,
   "metadata": {},
   "outputs": [
    {
     "data": {
      "text/plain": [
       "ContextCong\n",
       "HighC     0.048398\n",
       "HighIC    0.043890\n",
       "LowC      0.059570\n",
       "LowIC     0.059879\n",
       "Name: Accuracy, dtype: float64"
      ]
     },
     "execution_count": 147,
     "metadata": {},
     "output_type": "execute_result"
    }
   ],
   "source": [
    "ACCgrpstd = pd.Series.std(sub_ACCmeans,level=1)\n",
    "ACCgrpstd"
   ]
  },
  {
   "cell_type": "code",
   "execution_count": 148,
   "metadata": {},
   "outputs": [
    {
     "data": {
      "text/plain": [
       "ContextCong\n",
       "HighC     0.007296\n",
       "HighIC    0.006617\n",
       "LowC      0.008981\n",
       "LowIC     0.009027\n",
       "Name: Accuracy, dtype: float64"
      ]
     },
     "execution_count": 148,
     "metadata": {},
     "output_type": "execute_result"
    }
   ],
   "source": [
    "n = math.sqrt(44)\n",
    "ACCstderror = ACCgrpstd / n\n",
    "ACCstderror"
   ]
  },
  {
   "cell_type": "code",
   "execution_count": 149,
   "metadata": {},
   "outputs": [
    {
     "data": {
      "text/plain": [
       "ContextCong\n",
       "HighIC    0.863281\n",
       "LowC      0.888139\n",
       "Name: Accuracy, dtype: float64"
      ]
     },
     "execution_count": 149,
     "metadata": {},
     "output_type": "execute_result"
    }
   ],
   "source": [
    "sub_ACCmeans_Bias = adat.loc[adat['FreqBias'] == 'FreqBiased'].groupby(['subject','ContextCong'])['Accuracy'].mean()\n",
    "ACCgrpmean_Bias = pd.Series.mean(sub_ACCmeans_Bias,level=1)\n",
    "ACCgrpmean_Bias"
   ]
  },
  {
   "cell_type": "code",
   "execution_count": 150,
   "metadata": {
    "collapsed": true
   },
   "outputs": [],
   "source": [
    "ACCgrpstd_Bias = pd.Series.std(sub_ACCmeans_Bias,level=1)\n",
    "n = math.sqrt(44)\n",
    "ACCstderror_Bias = ACCgrpstd_Bias / n"
   ]
  },
  {
   "cell_type": "markdown",
   "metadata": {},
   "source": [
    "#### Interestingly, we find a different pattern for accuracy: the congruency difference following the low demand cue is smaller than that following the high demand cue, yet the difference for the frequency biased stimuli is not smaller than that following the low demand cue.\n",
    "\n",
    "#### Let's dig a little deeper now."
   ]
  },
  {
   "cell_type": "markdown",
   "metadata": {},
   "source": [
    "# Creating Variables to Run Statistics & Graph Data"
   ]
  },
  {
   "cell_type": "markdown",
   "metadata": {},
   "source": [
    "#### This is a Python set of analyses, where the data above are organized in what's called \"long-form\" and to run statistics, I need \"wide-form\" data. So I am creating a new \"dataframe\" with the RT and accuracy means for congruent & incongruent trials, after presentation of the low & high control-demand cue, for each subject."
   ]
  },
  {
   "cell_type": "code",
   "execution_count": 26,
   "metadata": {
    "collapsed": true
   },
   "outputs": [],
   "source": [
    "RTanalysis_Bias = pd.DataFrame()\n",
    "bias_lists = [[] for list in range(0,7)]\n",
    "FreqBiasStim = cdat[cdat.FreqBias =='FreqBiased'];\n",
    "\n",
    "for ID in range(1,55):\n",
    "    sub = FreqBiasStim[FreqBiasStim.subject == ID]\n",
    "    bias_lists[0].append(ID)\n",
    "    LowCRT_trials = sub[sub.ContextCong == 'LowC'].RT.mean()\n",
    "    HighICRT_trials = sub[sub.ContextCong == 'HighIC'].RT.mean()    \n",
    "    bias_lists[1].append(LowCRT_trials)\n",
    "    bias_lists[2].append(HighICRT_trials)\n",
    "    \n",
    "RTanalysis_Bias['SubjectID'] = bias_lists[0]\n",
    "RTanalysis_Bias['LowC'] = bias_lists[1]\n",
    "RTanalysis_Bias['HighIC'] = bias_lists[2]"
   ]
  },
  {
   "cell_type": "code",
   "execution_count": 24,
   "metadata": {
    "collapsed": true
   },
   "outputs": [],
   "source": [
    "RTanalysis_unbias = pd.DataFrame()\n",
    "unbias_lists = [[] for list in range(0,7)]\n",
    "FreqUnBiasStim = cdat[cdat.FreqBias =='FreqUnbiased'];\n",
    "\n",
    "for ID in range(1,55):\n",
    "    sub = FreqUnBiasStim[FreqUnBiasStim.subject == ID]\n",
    "    unbias_lists[0].append(ID)\n",
    "    LowCRT_trials = sub[sub.ContextCong == 'LowC'].RT.mean()\n",
    "    LowICRT_trials = sub[sub.ContextCong == 'LowIC'].RT.mean()\n",
    "    HighCRT_trials = sub[sub.ContextCong == 'HighC'].RT.mean()\n",
    "    HighICRT_trials = sub[sub.ContextCong == 'HighIC'].RT.mean()    \n",
    "    unbias_lists[1].append(LowCRT_trials)\n",
    "    unbias_lists[2].append(LowICRT_trials)\n",
    "    unbias_lists[3].append(HighCRT_trials)\n",
    "    unbias_lists[4].append(HighICRT_trials)\n",
    "    \n",
    "RTanalysis_unbias['SubjectID'] = unbias_lists[0]\n",
    "RTanalysis_unbias['LowC'] = unbias_lists[1]\n",
    "RTanalysis_unbias['LowIC'] = unbias_lists[2]\n",
    "RTanalysis_unbias['HighC'] = unbias_lists[3]\n",
    "RTanalysis_unbias['HighIC'] = unbias_lists[4]"
   ]
  },
  {
   "cell_type": "code",
   "execution_count": 41,
   "metadata": {
    "collapsed": true
   },
   "outputs": [],
   "source": [
    "ACCanalysis_Bias = pd.DataFrame()\n",
    "bias_acclists = [[] for list in range(0,7)]\n",
    "FreqBiasACCStim = adat[adat.FreqBias =='FreqBiased'];\n",
    "\n",
    "for ID in range(1,55):\n",
    "    sub = FreqBiasACCStim[FreqBiasACCStim.subject == ID]\n",
    "    bias_acclists[0].append(ID)\n",
    "    LowCACC_trials = sub[sub.ContextCong == 'LowC'].Accuracy.mean()\n",
    "    HighICACC_trials = sub[sub.ContextCong == 'HighIC'].Accuracy.mean()    \n",
    "    bias_acclists[1].append(LowCACC_trials)\n",
    "    bias_acclists[2].append(HighICACC_trials)\n",
    "    \n",
    "ACCanalysis_Bias['SubjectID'] = bias_acclists[0]\n",
    "ACCanalysis_Bias['LowC'] = bias_acclists[1]\n",
    "ACCanalysis_Bias['HighIC'] = bias_acclists[2]"
   ]
  },
  {
   "cell_type": "code",
   "execution_count": 42,
   "metadata": {
    "collapsed": true
   },
   "outputs": [],
   "source": [
    "ACCanalysis_unbias = pd.DataFrame()\n",
    "unbias_acclists = [[] for list in range(0,7)]\n",
    "FreqUnBiasACCStim = adat[adat.FreqBias =='FreqUnbiased'];\n",
    "\n",
    "for ID in range(1,55):\n",
    "    sub = FreqUnBiasACCStim[FreqUnBiasACCStim.subject == ID]\n",
    "    unbias_acclists[0].append(ID)\n",
    "    LowCACC_trials = sub[sub.ContextCong == 'LowC'].Accuracy.mean()\n",
    "    LowICACC_trials = sub[sub.ContextCong == 'LowIC'].Accuracy.mean()\n",
    "    HighCACC_trials = sub[sub.ContextCong == 'HighC'].Accuracy.mean()\n",
    "    HighICACC_trials = sub[sub.ContextCong == 'HighIC'].Accuracy.mean()    \n",
    "    unbias_acclists[1].append(LowCACC_trials)\n",
    "    unbias_acclists[2].append(LowICACC_trials)\n",
    "    unbias_acclists[3].append(HighCACC_trials)\n",
    "    unbias_acclists[4].append(HighICACC_trials)\n",
    "    \n",
    "ACCanalysis_unbias['SubjectID'] = unbias_acclists[0]\n",
    "ACCanalysis_unbias['LowC'] = unbias_acclists[1]\n",
    "ACCanalysis_unbias['LowIC'] = unbias_acclists[2]\n",
    "ACCanalysis_unbias['HighC'] = unbias_acclists[3]\n",
    "ACCanalysis_unbias['HighIC'] = unbias_acclists[4]"
   ]
  },
  {
   "cell_type": "markdown",
   "metadata": {},
   "source": [
    "##### now for run as well"
   ]
  },
  {
   "cell_type": "code",
   "execution_count": 43,
   "metadata": {
    "collapsed": true
   },
   "outputs": [],
   "source": [
    "RTrunanalysis_Bias = pd.DataFrame()\n",
    "bias_lists = [[] for list in range(0,7)]\n",
    "FreqBiasStim = cdat[cdat.FreqBias =='FreqBiased']\n",
    "\n",
    "for ID in range(1,55):\n",
    "    sub = FreqBiasStim[FreqBiasStim.subject == ID]\n",
    "    for runID in range(0,4):\n",
    "        run = sub[sub.RunCounter == runID]\n",
    "        bias_lists[0].append(ID)\n",
    "        bias_lists[1].append(runID)\n",
    "        LowCRT_trials = run[run.ContextCong == 'LowC'].RT.mean()\n",
    "        HighICRT_trials = run[run.ContextCong == 'HighIC'].RT.mean()\n",
    "        bias_lists[2].append(LowCRT_trials)\n",
    "        bias_lists[3].append(HighICRT_trials)\n",
    "    \n",
    "RTrunanalysis_Bias['SubjectID'] = bias_lists[0]\n",
    "RTrunanalysis_Bias['Run'] = bias_lists[1]\n",
    "RTrunanalysis_Bias['LowC'] = bias_lists[2]\n",
    "RTrunanalysis_Bias['HighIC'] = bias_lists[3]"
   ]
  },
  {
   "cell_type": "code",
   "execution_count": 44,
   "metadata": {
    "collapsed": true
   },
   "outputs": [],
   "source": [
    "RTrunanalysis_unbias = pd.DataFrame()\n",
    "new_RTlists = [[] for list in range(0,8)]\n",
    "FreqUnBiasStim = cdat[cdat.FreqBias =='FreqUnbiased']\n",
    "\n",
    "for ID in range(1,55):\n",
    "    sub = FreqUnBiasStim[FreqUnBiasStim.subject == ID]\n",
    "    for runID in range(0,4):\n",
    "        run = sub[sub.RunCounter == runID]\n",
    "        new_RTlists[0].append(ID)\n",
    "        new_RTlists[1].append(runID)\n",
    "        LowCRT_trials = run[run.ContextCong == 'LowC'].RT.mean()\n",
    "        LowICRT_trials = run[run.ContextCong == 'LowIC'].RT.mean()\n",
    "        HighCRT_trials = run[run.ContextCong == 'HighC'].RT.mean()\n",
    "        HighICRT_trials = run[run.ContextCong == 'HighIC'].RT.mean()    \n",
    "        new_RTlists[2].append(LowCRT_trials)\n",
    "        new_RTlists[3].append(LowICRT_trials)\n",
    "        new_RTlists[4].append(HighCRT_trials)\n",
    "        new_RTlists[5].append(HighICRT_trials)\n",
    "    \n",
    "RTrunanalysis_unbias['SubjectID'] = new_RTlists[0]\n",
    "RTrunanalysis_unbias['Run'] = new_RTlists[1]\n",
    "RTrunanalysis_unbias['LowC'] = new_RTlists[2]\n",
    "RTrunanalysis_unbias['LowIC'] = new_RTlists[3]\n",
    "RTrunanalysis_unbias['HighC'] = new_RTlists[4]\n",
    "RTrunanalysis_unbias['HighIC'] = new_RTlists[5]"
   ]
  },
  {
   "cell_type": "code",
   "execution_count": 55,
   "metadata": {
    "collapsed": true
   },
   "outputs": [],
   "source": [
    "ACCrunanalysis_Bias = pd.DataFrame()\n",
    "bias_lists = [[] for list in range(0,7)]\n",
    "FreqBiasStim = adat[adat.FreqBias =='FreqBiased']\n",
    "\n",
    "for ID in range(1,55):\n",
    "    sub = FreqBiasStim[FreqBiasStim.subject == ID]\n",
    "    for runID in range(0,4):\n",
    "        run = sub[sub.RunCounter == runID]\n",
    "        bias_lists[0].append(ID)\n",
    "        bias_lists[1].append(runID)\n",
    "        LowCRT_trials = run[run.ContextCong == 'LowC'].Accuracy.mean()\n",
    "        HighICRT_trials = run[run.ContextCong == 'HighIC'].Accuracy.mean()\n",
    "        bias_lists[2].append(LowCRT_trials)\n",
    "        bias_lists[3].append(HighICRT_trials)\n",
    "    \n",
    "ACCrunanalysis_Bias['SubjectID'] = bias_lists[0]\n",
    "ACCrunanalysis_Bias['Run'] = bias_lists[1]\n",
    "ACCrunanalysis_Bias['LowC'] = bias_lists[2]\n",
    "ACCrunanalysis_Bias['HighIC'] = bias_lists[3]"
   ]
  },
  {
   "cell_type": "code",
   "execution_count": 56,
   "metadata": {
    "collapsed": true
   },
   "outputs": [],
   "source": [
    "ACCrunanalysis_unbias = pd.DataFrame()\n",
    "new_acclists = [[] for list in range(0,8)]\n",
    "FreqUnBiasStim = adat[adat.FreqBias =='FreqUnbiased'];\n",
    "\n",
    "for ID in range(1,55):\n",
    "    sub = FreqUnBiasStim[FreqUnBiasStim.subject == ID]\n",
    "    for runID in range(0,4):\n",
    "        run = sub[sub.RunCounter == runID]\n",
    "        new_acclists[0].append(ID)\n",
    "        new_acclists[1].append(runID)\n",
    "        LowCACC_trials = run[run.ContextCong == 'LowC'].Accuracy.mean()\n",
    "        LowICACC_trials = run[run.ContextCong == 'LowIC'].Accuracy.mean()\n",
    "        HighCACC_trials = run[run.ContextCong == 'HighC'].Accuracy.mean()\n",
    "        HighICACC_trials = run[run.ContextCong == 'HighIC'].Accuracy.mean()    \n",
    "        new_acclists[2].append(LowCACC_trials)\n",
    "        new_acclists[3].append(LowICACC_trials)\n",
    "        new_acclists[4].append(HighCACC_trials)\n",
    "        new_acclists[5].append(HighICACC_trials)\n",
    "    \n",
    "ACCrunanalysis_unbias['SubjectID'] = new_acclists[0]\n",
    "ACCrunanalysis_unbias['Run'] = new_acclists[1]\n",
    "ACCrunanalysis_unbias['LowC'] = new_acclists[2]\n",
    "ACCrunanalysis_unbias['LowIC'] = new_acclists[3]\n",
    "ACCrunanalysis_unbias['HighC'] = new_acclists[4]\n",
    "ACCrunanalysis_unbias['HighIC'] = new_acclists[5]"
   ]
  },
  {
   "cell_type": "code",
   "execution_count": 57,
   "metadata": {},
   "outputs": [],
   "source": [
    "#filtering out the empty subject cells (subjects excluded or whose data is missing)\n",
    "\n",
    "RTanalysis_Bias = RTanalysis_Bias.query('(SubjectID != 50) & (SubjectID != 44) & (SubjectID != 32) & (SubjectID != 31) & (SubjectID != 3) & (SubjectID != 16) & (SubjectID != 17) & (SubjectID != 20) & (SubjectID != 27) & (SubjectID != 30)').copy()\n",
    "RTanalysis_unbias = RTanalysis_unbias.query('(SubjectID != 50) & (SubjectID != 44) & (SubjectID != 32) & (SubjectID != 31) & (SubjectID != 3) & (SubjectID != 16) & (SubjectID != 17) & (SubjectID != 20) & (SubjectID != 27) & (SubjectID != 30)').copy()\n",
    "ACCanalysis_Bias = ACCanalysis_Bias.query('(SubjectID != 50) & (SubjectID != 44) & (SubjectID != 32) & (SubjectID != 31) & (SubjectID != 3) & (SubjectID != 16) & (SubjectID != 17) & (SubjectID != 20) & (SubjectID != 27) & (SubjectID != 30)').copy()\n",
    "ACCanalysis_unbias = ACCanalysis_unbias.query('(SubjectID != 50) & (SubjectID != 44) & (SubjectID != 32) & (SubjectID != 31) & (SubjectID != 3) & (SubjectID != 16) & (SubjectID != 17) & (SubjectID != 20) & (SubjectID != 27) & (SubjectID != 30)').copy()\n",
    "RTrunanalysis_Bias = RTrunanalysis_Bias.query('(SubjectID != 50) & (SubjectID != 44) & (SubjectID != 32) & (SubjectID != 31) & (SubjectID != 3) & (SubjectID != 16) & (SubjectID != 17) & (SubjectID != 20) & (SubjectID != 27) & (SubjectID != 30)').copy()\n",
    "RTrunanalysis_unbias = RTrunanalysis_unbias.query('(SubjectID != 50) & (SubjectID != 44) & (SubjectID != 32) & (SubjectID != 31) & (SubjectID != 3) & (SubjectID != 16) & (SubjectID != 17) & (SubjectID != 20) & (SubjectID != 27) & (SubjectID != 30)').copy()\n",
    "ACCrunanalysis_Bias = ACCrunanalysis_Bias.query('(SubjectID != 50) & (SubjectID != 44) & (SubjectID != 32) & (SubjectID != 31) & (SubjectID != 3) & (SubjectID != 16) & (SubjectID != 17) & (SubjectID != 20) & (SubjectID != 27) & (SubjectID != 30)').copy()\n",
    "ACCrunanalysis_unbias = ACCrunanalysis_unbias.query('(SubjectID != 50) & (SubjectID != 44) & (SubjectID != 32) & (SubjectID != 31) & (SubjectID != 3) & (SubjectID != 16) & (SubjectID != 17) & (SubjectID != 20) & (SubjectID != 27) & (SubjectID != 30)').copy()"
   ]
  },
  {
   "cell_type": "markdown",
   "metadata": {},
   "source": [
    "# Run Actual Statistics"
   ]
  },
  {
   "cell_type": "markdown",
   "metadata": {},
   "source": [
    "#### For the S-C phase, we run a repeated-measures ANOVA comparing RTs and accuracies for control-demand cue (low/high) & congruency (congruent/incongruent) & run (4), especially for frequency-unbiased stimuli. For frequency-biased stimuli, we can look at the congruency differences for them vs. for the unbiased stimuli following each cue.\n",
    "\n",
    "Unfortunately, Python does not have the capability for repeated-measures ANOVA (\"pyvtttbl\" is not as good as other programs), so I will include R code to run the ANOVA. I will also include a \"sneak peak\" below via paired t-tests."
   ]
  },
  {
   "cell_type": "code",
   "execution_count": 63,
   "metadata": {},
   "outputs": [
    {
     "data": {
      "text/plain": [
       "Ttest_relResult(statistic=3.6141156895978792, pvalue=0.00078471136088461917)"
      ]
     },
     "execution_count": 63,
     "metadata": {},
     "output_type": "execute_result"
    }
   ],
   "source": [
    "#sneak peak at the interaction for frequency unbiased stimuli\n",
    "LowCongUnbias = RTanalysis_unbias.LowIC - RTanalysis_unbias.LowC;\n",
    "HighCongUnbias = RTanalysis_unbias.HighIC - RTanalysis_unbias.HighC;\n",
    "stats.ttest_rel(LowCongDiff, HighCongDiff)"
   ]
  },
  {
   "cell_type": "code",
   "execution_count": 64,
   "metadata": {},
   "outputs": [
    {
     "data": {
      "text/plain": [
       "Ttest_relResult(statistic=1.8974968411448798, pvalue=0.06449009040222746)"
      ]
     },
     "execution_count": 64,
     "metadata": {},
     "output_type": "execute_result"
    }
   ],
   "source": [
    "LowCongUnbiasACC = ACCanalysis_unbias.LowIC - ACCanalysis_unbias.LowC;\n",
    "HighCongUnbiasACC = ACCanalysis_unbias.HighIC - ACCanalysis_unbias.HighC;\n",
    "stats.ttest_rel(LowCongDiffACC, HighCongDiffACC)"
   ]
  },
  {
   "cell_type": "code",
   "execution_count": 65,
   "metadata": {},
   "outputs": [],
   "source": [
    "BiasRT = RTanalysis_Bias.HighIC - RTanalysis_Bias.LowC\n",
    "BiasACC = ACCanalysis_Bias.HighIC - ACCanalysis_Bias.LowC"
   ]
  },
  {
   "cell_type": "code",
   "execution_count": 66,
   "metadata": {},
   "outputs": [
    {
     "data": {
      "text/plain": [
       "Ttest_relResult(statistic=-3.378538302058772, pvalue=0.0015579281354313652)"
      ]
     },
     "execution_count": 66,
     "metadata": {},
     "output_type": "execute_result"
    }
   ],
   "source": [
    "#testing whether frequency-biased congruency < congruency following high demand cue for frequency-unbiased stim\n",
    "stats.ttest_rel(BiasRT, HighCongUnbias)"
   ]
  },
  {
   "cell_type": "code",
   "execution_count": 67,
   "metadata": {},
   "outputs": [
    {
     "data": {
      "text/plain": [
       "Ttest_relResult(statistic=-6.030752504338647, pvalue=3.2985927750121564e-07)"
      ]
     },
     "execution_count": 67,
     "metadata": {},
     "output_type": "execute_result"
    }
   ],
   "source": [
    "#testing whether frequency-biased congruency < congruency following low demand cue for frequency-unbiased stim\n",
    "stats.ttest_rel(BiasRT, LowCongUnbias)"
   ]
  },
  {
   "cell_type": "code",
   "execution_count": 68,
   "metadata": {},
   "outputs": [
    {
     "data": {
      "text/plain": [
       "Ttest_relResult(statistic=0.69890366526545611, pvalue=0.48837545719681985)"
      ]
     },
     "execution_count": 68,
     "metadata": {},
     "output_type": "execute_result"
    }
   ],
   "source": [
    "#testing whether frequency-biased congruency < congruency following high demand cue for frequency-unbiased stim\n",
    "stats.ttest_rel(BiasACC, HighCongUnbiasACC)"
   ]
  },
  {
   "cell_type": "code",
   "execution_count": 69,
   "metadata": {},
   "outputs": [
    {
     "data": {
      "text/plain": [
       "Ttest_relResult(statistic=-1.1242936260258272, pvalue=0.2671257302734506)"
      ]
     },
     "execution_count": 69,
     "metadata": {},
     "output_type": "execute_result"
    }
   ],
   "source": [
    "#testing whether frequency-biased congruency < congruency following low demand cue for frequency-unbiased stim\n",
    "stats.ttest_rel(BiasACC, LowCongUnbiasACC)"
   ]
  },
  {
   "cell_type": "markdown",
   "metadata": {},
   "source": [
    "Here: I'm storing the congruency differences from the control-demand cues to compare them with S-CT effects."
   ]
  },
  {
   "cell_type": "code",
   "execution_count": 109,
   "metadata": {
    "collapsed": true
   },
   "outputs": [],
   "source": [
    "SCRTcueing = LowCongUnbias - HighCongUnbias;\n",
    "SCRTcueing = SCRTcueing.reset_index()\n",
    "SCRTcueing.columns = ['index', 'RT']\n",
    "\n",
    "SCRTcueing_Bias = BiasRT;\n",
    "SCRTcueing_Bias = SCRTcueing_Bias.reset_index()\n",
    "SCRTcueing_Bias.columns = ['index', 'RT']\n",
    "\n",
    "SCACCcueing = LowCongUnbiasACC - HighCongUnbiasACC;\n",
    "SCACCcueing = SCACCcueing.reset_index()\n",
    "SCACCcueing.columns = ['index', 'RT']\n",
    "\n",
    "SCACCcueing_Bias = BiasACC;\n",
    "SCACCcueing_Bias = SCACCcueing_Bias.reset_index()\n",
    "SCACCcueing_Bias.columns = ['index', 'RT']"
   ]
  },
  {
   "cell_type": "code",
   "execution_count": 110,
   "metadata": {},
   "outputs": [
    {
     "name": "stdout",
     "output_type": "stream",
     "text": [
      "Stored 'overallSCRT' (DataFrame)\n",
      "Stored 'overallSCACC' (DataFrame)\n",
      "Stored 'SCRTcueing' (DataFrame)\n",
      "Stored 'SCRTcueing_Bias' (DataFrame)\n",
      "Stored 'SCACCcueing' (DataFrame)\n",
      "Stored 'SCACCcueing_Bias' (DataFrame)\n"
     ]
    }
   ],
   "source": [
    "overallSCRT = cdat.groupby(['subject'])['RT'].mean().reset_index()\n",
    "overallSCRT = overallSCRT.drop('subject',1);\n",
    "overallSCACC = adat.groupby(['subject'])['Accuracy'].mean().reset_index()\n",
    "overallSCACC = overallSCACC.drop('subject',1);\n",
    "\n",
    "%store overallSCRT\n",
    "%store overallSCACC\n",
    "%store SCRTcueing\n",
    "%store SCRTcueing_Bias\n",
    "%store SCACCcueing\n",
    "%store SCACCcueing_Bias"
   ]
  },
  {
   "cell_type": "code",
   "execution_count": 111,
   "metadata": {},
   "outputs": [
    {
     "data": {
      "text/plain": [
       "LinregressResult(slope=-0.00015528756155728032, intercept=0.99155930248565205, rvalue=-0.086009903799347726, pvalue=0.5788049856610834, stderr=0.00027755637135565807)"
      ]
     },
     "execution_count": 111,
     "metadata": {},
     "output_type": "execute_result"
    }
   ],
   "source": [
    "#checking for a RT/Accuracy trade-off\n",
    "stats.linregress(overallSCRT.RT,overallSCACC.Accuracy)"
   ]
  },
  {
   "cell_type": "markdown",
   "metadata": {},
   "source": [
    "## Running ANOVAs in R"
   ]
  },
  {
   "cell_type": "markdown",
   "metadata": {},
   "source": [
    "First, I need to make the data CSVs that the R script will analyze. Then I will write the necessary R script and run it in another cell here. You'll be able to see the inputs below & I summarize the results there as well. The cont files refer to contingency learning, another section in the manuscript"
   ]
  },
  {
   "cell_type": "code",
   "execution_count": 112,
   "metadata": {},
   "outputs": [
    {
     "name": "stdout",
     "output_type": "stream",
     "text": [
      "C:\\Users\\cb383\\Desktop\\YearTwo\\controlwork\\SCP_R\\data\\csvdata\n"
     ]
    }
   ],
   "source": [
    "%cd csvdata"
   ]
  },
  {
   "cell_type": "code",
   "execution_count": 113,
   "metadata": {
    "collapsed": true
   },
   "outputs": [],
   "source": [
    "AN_sub_RTmeans_UnBias = cdat.loc[cdat['FreqBias'] == 'FreqUnbiased'].groupby(['subject','RunCounter','DemandCue','TrialType'])['RT'].mean();\n",
    "AN_sub_RTmeans_Bias = cdat.loc[cdat['FreqBias'] == 'FreqBiased'].groupby(['subject','RunCounter','ContextCong'])['RT'].mean();\n",
    "AN_sub_RTmeans_Freq = cdat.groupby(['subject','RunCounter','TrialType','FreqBias'])['RT'].mean();\n",
    "AN_sub_ACCmeans_UnBias = adat.loc[adat['FreqBias'] == 'FreqUnbiased'].groupby(['subject','RunCounter','DemandCue','TrialType'])['Accuracy'].mean();\n",
    "AN_sub_ACCmeans_Bias = adat.loc[adat['FreqBias'] == 'FreqBiased'].groupby(['subject','RunCounter','ContextCong'])['Accuracy'].mean();\n",
    "AN_sub_ACCmeans_Freq = adat.groupby(['subject','RunCounter','TrialType','FreqBias'])['Accuracy'].mean();\n",
    "\n",
    "#create tidy data csvs\n",
    "AN_sub_RTmeans_UnBias.to_csv('SC_ANOVA_RT_UnBias.csv')\n",
    "AN_sub_RTmeans_Bias.to_csv('SC_ANOVA_RT_Bias.csv')\n",
    "AN_sub_ACCmeans_UnBias.to_csv('SC_ANOVA_ACC_UnBias.csv')\n",
    "AN_sub_ACCmeans_Bias.to_csv('SC_ANOVA_ACC_Bias.csv')\n",
    "AN_sub_RTmeans_Freq.to_csv('SC_ANOVA_RT_Freq.csv')\n",
    "AN_sub_ACCmeans_Freq.to_csv('SC_ANOVA_ACC_Freq.csv')\n",
    "\n",
    "#create headers for the tidy data csvs, for analysis purposes\n",
    "import csv\n",
    "\n",
    "with open('SC_ANOVA_RT_Bias.csv',newline='') as f:\n",
    "    r = csv.reader(f)\n",
    "    data = [line for line in r]\n",
    "with open('SC_ANOVA_RT_Bias.csv','w',newline='') as f:\n",
    "    w = csv.writer(f)\n",
    "    w.writerow([\"subject\", \"run\", \"contextcong\", \"rt\"])\n",
    "    w.writerows(data)    \n",
    "\n",
    "with open('SC_ANOVA_RT_UnBias.csv',newline='') as f:\n",
    "    r = csv.reader(f)\n",
    "    data = [line for line in r]\n",
    "with open('SC_ANOVA_RT_UnBias.csv','w',newline='') as f:\n",
    "    w = csv.writer(f)\n",
    "    w.writerow([\"subject\", \"run\", \"demandcue\", \"trialtype\", \"rt\"])\n",
    "    w.writerows(data)\n",
    "\n",
    "with open('SC_ANOVA_ACC_Bias.csv',newline='') as f:\n",
    "    r = csv.reader(f)\n",
    "    data = [line for line in r]\n",
    "with open('SC_ANOVA_ACC_Bias.csv','w',newline='') as f:\n",
    "    w = csv.writer(f)\n",
    "    w.writerow([\"subject\", \"run\", \"contextcong\", \"rt\"])\n",
    "    w.writerows(data) \n",
    "    \n",
    "with open('SC_ANOVA_ACC_UnBias.csv',newline='') as f:\n",
    "    r = csv.reader(f)\n",
    "    data = [line for line in r]\n",
    "with open('SC_ANOVA_ACC_UnBias.csv','w',newline='') as f:\n",
    "    w = csv.writer(f)\n",
    "    w.writerow([\"subject\", \"run\", \"demandcue\", \"trialtype\", \"acc\"])\n",
    "    w.writerows(data)\n",
    "    \n",
    "with open('SC_ANOVA_RT_Freq.csv',newline='') as f:\n",
    "    r = csv.reader(f)\n",
    "    data = [line for line in r]\n",
    "with open('SC_ANOVA_RT_Freq.csv','w',newline='') as f:\n",
    "    w = csv.writer(f)\n",
    "    w.writerow([\"subject\", \"run\", \"trialtype\", \"freqbias\", \"rt\"])\n",
    "    w.writerows(data)\n",
    "\n",
    "with open('SC_ANOVA_ACC_Freq.csv',newline='') as f:\n",
    "    r = csv.reader(f)\n",
    "    data = [line for line in r]\n",
    "with open('SC_ANOVA_ACC_Freq.csv','w',newline='') as f:\n",
    "    w = csv.writer(f)\n",
    "    w.writerow([\"subject\", \"run\", \"trialtype\", \"freqbias\", \"acc\"])\n",
    "    w.writerows(data)"
   ]
  },
  {
   "cell_type": "code",
   "execution_count": 114,
   "metadata": {},
   "outputs": [
    {
     "name": "stdout",
     "output_type": "stream",
     "text": [
      "Overwriting SCAnova.R\n"
     ]
    }
   ],
   "source": [
    "%%writefile SCAnova.R\n",
    "\n",
    "rawRTData_UnBias <- read.csv('SC_ANOVA_RT_UnBias.csv')\n",
    "install.packages(\"psych\",repos='https://mirrors.nics.utk.edu/cran/')\n",
    "install.packages(\"ez\",repos='https://mirrors.nics.utk.edu/cran/')\n",
    "library(psych)\n",
    "library(ez)\n",
    "\n",
    "rawRTData_UnBias$subject = as.factor(rawRTData_UnBias$subject)\n",
    "rawRTData_UnBias$run = as.factor(rawRTData_UnBias$run)\n",
    "rawRTData_UnBias$demandcue = as.factor(rawRTData_UnBias$demandcue)\n",
    "rawRTData_UnBias$trialtype = as.factor(rawRTData_UnBias$trialtype)\n",
    "\n",
    "SC_RT_runANOVA_unbias <- ezANOVA(data=as.data.frame(rawRTData_UnBias),\n",
    "                                  dv=rt,\n",
    "                                  wid=subject,\n",
    "                                  within=.(run, demandcue, trialtype),\n",
    "                                  detailed=TRUE)\n",
    "print(SC_RT_runANOVA_unbias)\n",
    "\n",
    "#\n",
    "\n",
    "rawRTData_Freq <- read.csv('SC_ANOVA_RT_Freq.csv')\n",
    "\n",
    "rawRTData_Freq$subject = as.factor(rawRTData_Freq$subject)\n",
    "rawRTData_Freq$run = as.factor(rawRTData_Freq$run)\n",
    "rawRTData_Freq$trialtype = as.factor(rawRTData_Freq$trialtype)\n",
    "rawRTData_Freq$freqbias = as.factor(rawRTData_Freq$freqbias)\n",
    "\n",
    "SC_RT_runANOVA_freq <- ezANOVA(data=as.data.frame(rawRTData_Freq),\n",
    "                                  dv=rt,\n",
    "                                  wid=subject,\n",
    "                                  within=.(run, trialtype, freqbias),\n",
    "                                  detailed=TRUE)\n",
    "print(SC_RT_runANOVA_freq)\n",
    "\n",
    "#\n",
    "\n",
    "rawACCData_UnBias <- read.csv('SC_ANOVA_ACC_UnBias.csv')\n",
    "\n",
    "rawACCData_UnBias$subject = as.factor(rawACCData_UnBias$subject)\n",
    "rawACCData_UnBias$run = as.factor(rawACCData_UnBias$run)\n",
    "rawACCData_UnBias$demandcue = as.factor(rawACCData_UnBias$demandcue)\n",
    "rawACCData_UnBias$trialtype = as.factor(rawACCData_UnBias$trialtype)\n",
    "\n",
    "SC_ACC_runANOVA_unbias <- ezANOVA(data=as.data.frame(rawACCData_UnBias),\n",
    "                                  dv=acc,\n",
    "                                  wid=subject,\n",
    "                                  within=.(run, demandcue, trialtype),\n",
    "                                  detailed=TRUE)\n",
    "print(SC_ACC_runANOVA_unbias)\n",
    "\n",
    "#\n",
    "\n",
    "rawACCData_Freq <- read.csv('SC_ANOVA_ACC_Freq.csv')\n",
    "\n",
    "rawACCData_Freq$subject = as.factor(rawACCData_Freq$subject)\n",
    "rawACCData_Freq$run = as.factor(rawACCData_Freq$run)\n",
    "rawACCData_Freq$trialtype = as.factor(rawACCData_Freq$trialtype)\n",
    "rawACCData_Freq$freqbias = as.factor(rawACCData_Freq$freqbias)\n",
    "\n",
    "SC_ACC_runANOVA_freq <- ezANOVA(data=as.data.frame(rawACCData_Freq),\n",
    "                                  dv=acc,\n",
    "                                  wid=subject,\n",
    "                                  within=.(run, trialtype, freqbias),\n",
    "                                  detailed=TRUE)\n",
    "print(SC_ACC_runANOVA_freq)\n"
   ]
  },
  {
   "cell_type": "code",
   "execution_count": 115,
   "metadata": {},
   "outputs": [
    {
     "name": "stdout",
     "output_type": "stream",
     "text": [
      "package 'psych' successfully unpacked and MD5 sums checked\n",
      "\n",
      "The downloaded binary packages are in\n",
      "\tC:\\Users\\cb383\\AppData\\Local\\Temp\\RtmpSgnDW1\\downloaded_packages\n",
      "package 'ez' successfully unpacked and MD5 sums checked\n",
      "\n",
      "The downloaded binary packages are in\n",
      "\tC:\\Users\\cb383\\AppData\\Local\\Temp\\RtmpSgnDW1\\downloaded_packages\n",
      "$ANOVA\n",
      "                   Effect DFn DFd          SSn       SSd            F\n",
      "1             (Intercept)   1  43 1.901655e+08 597724.74 1.368041e+04\n",
      "2                     run   3 129 4.244042e+04 238421.87 7.654239e+00\n",
      "3               demandcue   1  43 1.402412e+03  38511.61 1.565858e+00\n",
      "4               trialtype   1  43 1.289617e+06 153546.95 3.611504e+02\n",
      "5           run:demandcue   3 129 5.337859e+02  98922.85 2.320272e-01\n",
      "6           run:trialtype   3 129 4.711909e+03 108254.93 1.871620e+00\n",
      "7     demandcue:trialtype   1  43 7.445320e+03  30353.60 1.054731e+01\n",
      "8 run:demandcue:trialtype   3 129 2.195152e+03 119195.79 7.919031e-01\n",
      "             p p<.05          ges\n",
      "1 1.767959e-55     * 0.9927698825\n",
      "2 9.504886e-05     * 0.0297332396\n",
      "3 2.175748e-01       0.0010115966\n",
      "4 1.530609e-22     * 0.4821810836\n",
      "5 8.739349e-01       0.0003852753\n",
      "6 1.376101e-01       0.0033907307\n",
      "7 2.259649e-03     * 0.0053471984\n",
      "8 5.005256e-01       0.0015825161\n",
      "\n",
      "$`Mauchly's Test for Sphericity`\n",
      "                   Effect         W          p p<.05\n",
      "2                     run 0.6978786 0.01035676     *\n",
      "5           run:demandcue 0.9706670 0.94079107      \n",
      "6           run:trialtype 0.6985643 0.01053305     *\n",
      "8 run:demandcue:trialtype 0.9770521 0.96507085      \n",
      "\n",
      "$`Sphericity Corrections`\n",
      "                   Effect       GGe        p[GG] p[GG]<.05       HFe\n",
      "2                     run 0.7930159 0.0003749703         * 0.8425709\n",
      "5           run:demandcue 0.9800696 0.8703258374           1.0598256\n",
      "6           run:trialtype 0.8447522 0.1478976895           0.9020575\n",
      "8 run:demandcue:trialtype 0.9855792 0.4989448474           1.0663171\n",
      "         p[HF] p[HF]<.05\n",
      "2 0.0002696545         *\n",
      "5 0.8739349019          \n",
      "6 0.1440429013          \n",
      "8 0.5005255675          \n",
      "\n",
      "$ANOVA\n",
      "                  Effect DFn DFd          SSn       SSd            F\n",
      "1            (Intercept)   1  43 2.018395e+08 551852.47 15727.206864\n",
      "2                    run   3 129 2.853569e+04 190985.25     6.424761\n",
      "3              trialtype   1  43 9.808769e+05 101079.64   417.272040\n",
      "4               freqbias   1  43 1.753855e+05 120816.92    62.421531\n",
      "5          run:trialtype   3 129 5.162655e+03  82416.01     2.693581\n",
      "6           run:freqbias   3 129 4.296275e+03  70846.18     2.607618\n",
      "7     trialtype:freqbias   1  43 2.162622e+04  37401.60    24.863306\n",
      "8 run:trialtype:freqbias   3 129 3.571493e+03  82645.61     1.858226\n",
      "             p p<.05         ges\n",
      "1 8.898474e-57     * 0.993903591\n",
      "2 4.332104e-04     * 0.022529727\n",
      "3 9.284266e-24     * 0.442051373\n",
      "4 6.556137e-10     * 0.124085110\n",
      "5 4.882281e-02     * 0.004152694\n",
      "6 5.445582e-02       0.003458212\n",
      "7 1.058658e-05     * 0.017168165\n",
      "8 1.399244e-01       0.002876490\n",
      "\n",
      "$`Mauchly's Test for Sphericity`\n",
      "                  Effect         W          p p<.05\n",
      "2                    run 0.7823557 0.06879153      \n",
      "5          run:trialtype 0.8785338 0.36884228      \n",
      "6           run:freqbias 0.8548663 0.25709986      \n",
      "8 run:trialtype:freqbias 0.8653515 0.30309131      \n",
      "\n",
      "$`Sphericity Corrections`\n",
      "                  Effect       GGe       p[GG] p[GG]<.05       HFe        p[HF]\n",
      "2                    run 0.8469991 0.000966626         * 0.9046514 0.0007138836\n",
      "5          run:trialtype 0.9153296 0.054129106           0.9839475 0.0497859472\n",
      "6           run:freqbias 0.9014611 0.060902462           0.9677882 0.0564821886\n",
      "8 run:trialtype:freqbias 0.9260632 0.144722430           0.9964771 0.1401502852\n",
      "  p[HF]<.05\n",
      "2         *\n",
      "5         *\n",
      "6          \n",
      "8          \n",
      "\n",
      "$ANOVA\n",
      "                   Effect DFn DFd          SSn       SSd            F\n",
      "1             (Intercept)   1  43 6.247242e+02 1.1074201 2.425741e+04\n",
      "2                     run   3 129 5.278329e-02 1.3705665 1.656017e+00\n",
      "3               demandcue   1  43 7.990057e-04 0.2604016 1.319395e-01\n",
      "4               trialtype   1  43 9.090909e-02 0.3640096 1.073898e+01\n",
      "5           run:demandcue   3 129 5.074683e-02 0.7618728 2.864144e+00\n",
      "6           run:trialtype   3 129 1.730273e-02 1.0193283 7.299095e-01\n",
      "7     demandcue:trialtype   1  43 1.740057e-02 0.2097598 3.567053e+00\n",
      "8 run:demandcue:trialtype   3 129 3.706952e-03 0.7625957 2.090215e-01\n",
      "             p p<.05          ges\n",
      "1 8.164489e-61     * 0.9907133859\n",
      "2 1.797601e-01       0.0089330915\n",
      "3 7.182092e-01       0.0001364247\n",
      "4 2.079949e-03     * 0.0152868974\n",
      "5 3.929984e-02     * 0.0085913989\n",
      "6 5.359523e-01       0.0029460197\n",
      "7 6.569415e-02       0.0029626284\n",
      "8 8.900025e-01       0.0006326222\n",
      "\n",
      "$`Mauchly's Test for Sphericity`\n",
      "                   Effect         W         p p<.05\n",
      "2                     run 0.7073613 0.0130507     *\n",
      "5           run:demandcue 0.8930898 0.4514683      \n",
      "6           run:trialtype 0.8144724 0.1279845      \n",
      "8 run:demandcue:trialtype 0.9245574 0.6581275      \n",
      "\n",
      "$`Sphericity Corrections`\n",
      "                   Effect       GGe      p[GG] p[GG]<.05      HFe      p[HF]\n",
      "2                     run 0.8071559 0.18994242           0.858784 0.18724658\n",
      "5           run:demandcue 0.9320652 0.04317966         * 1.003492 0.03929984\n",
      "6           run:trialtype 0.8871499 0.52082552           0.951148 0.52961661\n",
      "8 run:demandcue:trialtype 0.9496932 0.88108288           1.024132 0.89000250\n",
      "  p[HF]<.05\n",
      "2          \n",
      "5         *\n",
      "6          \n",
      "8          \n",
      "\n",
      "$ANOVA\n",
      "                  Effect DFn DFd          SSn       SSd            F\n",
      "1            (Intercept)   1  43 5.815433e+02 1.7551603 1.424734e+04\n",
      "2                    run   3 129 1.586521e-01 1.0610524 6.429502e+00\n",
      "3              trialtype   1  43 9.940510e-02 0.2688415 1.589940e+01\n",
      "4               freqbias   1  43 7.743848e-01 0.4820128 6.908228e+01\n",
      "5          run:trialtype   3 129 3.170824e-02 0.6665212 2.045628e+00\n",
      "6           run:freqbias   3 129 4.937937e-02 0.6965993 3.048113e+00\n",
      "7     trialtype:freqbias   1  43 2.100264e-04 0.1811039 4.986713e-02\n",
      "8 run:trialtype:freqbias   3 129 2.870480e-03 0.6666294 1.851563e-01\n",
      "             p p<.05          ges\n",
      "1 7.403964e-56     * 9.901622e-01\n",
      "2 4.306623e-04     * 2.672452e-02\n",
      "3 2.547487e-04     * 1.691332e-02\n",
      "4 1.723741e-10     * 1.181851e-01\n",
      "5 1.107159e-01       5.457877e-03\n",
      "6 3.108826e-02     * 8.473799e-03\n",
      "7 8.243521e-01       3.634849e-05\n",
      "8 9.063331e-01       4.965548e-04\n",
      "\n",
      "$`Mauchly's Test for Sphericity`\n",
      "                  Effect         W           p p<.05\n",
      "2                    run 0.7915543 0.082649688      \n",
      "5          run:trialtype 0.6224615 0.001380899     *\n",
      "6           run:freqbias 0.8665974 0.308926359      \n",
      "8 run:trialtype:freqbias 0.7196246 0.017475200     *\n",
      "\n",
      "$`Sphericity Corrections`\n",
      "                  Effect       GGe        p[GG] p[GG]<.05       HFe\n",
      "2                    run 0.8565735 0.0009144107         * 0.9157139\n",
      "5          run:trialtype 0.7791597 0.1267532576           0.8267161\n",
      "6           run:freqbias 0.9090334 0.0358639208         * 0.9766072\n",
      "8 run:trialtype:freqbias 0.8482885 0.8783689918           0.9061402\n",
      "         p[HF] p[HF]<.05\n",
      "2 0.0006699512         *\n",
      "5 0.1231474001          \n",
      "6 0.0322499902         *\n",
      "8 0.8900210748          \n",
      "\n"
     ]
    },
    {
     "name": "stderr",
     "output_type": "stream",
     "text": [
      "Installing package into 'C:/Users/cb383/Documents/R/win-library/3.4'\n",
      "(as 'lib' is unspecified)\n",
      "trying URL 'https://mirrors.nics.utk.edu/cran/bin/windows/contrib/3.4/psych_1.7.8.zip'\n",
      "Content type 'application/zip' length 5341358 bytes (5.1 MB)\n",
      "==================================================\n",
      "downloaded 5.1 MB\n",
      "\n",
      "Installing package into 'C:/Users/cb383/Documents/R/win-library/3.4'\n",
      "(as 'lib' is unspecified)\n",
      "trying URL 'https://mirrors.nics.utk.edu/cran/bin/windows/contrib/3.4/ez_4.4-0.zip'\n",
      "Content type 'application/zip' length 332184 bytes (324 KB)\n",
      "==================================================\n",
      "downloaded 324 KB\n",
      "\n"
     ]
    }
   ],
   "source": [
    "! Rscript SCAnova.R"
   ]
  },
  {
   "cell_type": "markdown",
   "metadata": {},
   "source": [
    "In Experiment 3, we amplified the trial-by-trial conflict by increasing the time between the presentation of a Stroop color-word and its printed color. This strengthened S-C learning by increasing the predictive utility of the S2 images, now seen in a significant cue * demand interaction for the frequency unbiased stimuli, suggesting that our previous results did not arise from simple, S-R contingency learning."
   ]
  },
  {
   "cell_type": "markdown",
   "metadata": {},
   "source": [
    "# Look at the Results Graphically"
   ]
  },
  {
   "cell_type": "markdown",
   "metadata": {},
   "source": [
    "Note that the graphs generated mimic the paper, but I used Matlab to generate the figures, because I like their graphics more."
   ]
  },
  {
   "cell_type": "code",
   "execution_count": 127,
   "metadata": {
    "collapsed": true
   },
   "outputs": [],
   "source": [
    "sns.set(context='notebook', style='white', font='Myriad Pro', font_scale=2, color_codes=False, rc=None);"
   ]
  },
  {
   "cell_type": "code",
   "execution_count": 131,
   "metadata": {},
   "outputs": [
    {
     "data": {
      "application/javascript": [
       "/* Put everything inside the global mpl namespace */\n",
       "window.mpl = {};\n",
       "\n",
       "\n",
       "mpl.get_websocket_type = function() {\n",
       "    if (typeof(WebSocket) !== 'undefined') {\n",
       "        return WebSocket;\n",
       "    } else if (typeof(MozWebSocket) !== 'undefined') {\n",
       "        return MozWebSocket;\n",
       "    } else {\n",
       "        alert('Your browser does not have WebSocket support.' +\n",
       "              'Please try Chrome, Safari or Firefox ≥ 6. ' +\n",
       "              'Firefox 4 and 5 are also supported but you ' +\n",
       "              'have to enable WebSockets in about:config.');\n",
       "    };\n",
       "}\n",
       "\n",
       "mpl.figure = function(figure_id, websocket, ondownload, parent_element) {\n",
       "    this.id = figure_id;\n",
       "\n",
       "    this.ws = websocket;\n",
       "\n",
       "    this.supports_binary = (this.ws.binaryType != undefined);\n",
       "\n",
       "    if (!this.supports_binary) {\n",
       "        var warnings = document.getElementById(\"mpl-warnings\");\n",
       "        if (warnings) {\n",
       "            warnings.style.display = 'block';\n",
       "            warnings.textContent = (\n",
       "                \"This browser does not support binary websocket messages. \" +\n",
       "                    \"Performance may be slow.\");\n",
       "        }\n",
       "    }\n",
       "\n",
       "    this.imageObj = new Image();\n",
       "\n",
       "    this.context = undefined;\n",
       "    this.message = undefined;\n",
       "    this.canvas = undefined;\n",
       "    this.rubberband_canvas = undefined;\n",
       "    this.rubberband_context = undefined;\n",
       "    this.format_dropdown = undefined;\n",
       "\n",
       "    this.image_mode = 'full';\n",
       "\n",
       "    this.root = $('<div/>');\n",
       "    this._root_extra_style(this.root)\n",
       "    this.root.attr('style', 'display: inline-block');\n",
       "\n",
       "    $(parent_element).append(this.root);\n",
       "\n",
       "    this._init_header(this);\n",
       "    this._init_canvas(this);\n",
       "    this._init_toolbar(this);\n",
       "\n",
       "    var fig = this;\n",
       "\n",
       "    this.waiting = false;\n",
       "\n",
       "    this.ws.onopen =  function () {\n",
       "            fig.send_message(\"supports_binary\", {value: fig.supports_binary});\n",
       "            fig.send_message(\"send_image_mode\", {});\n",
       "            if (mpl.ratio != 1) {\n",
       "                fig.send_message(\"set_dpi_ratio\", {'dpi_ratio': mpl.ratio});\n",
       "            }\n",
       "            fig.send_message(\"refresh\", {});\n",
       "        }\n",
       "\n",
       "    this.imageObj.onload = function() {\n",
       "            if (fig.image_mode == 'full') {\n",
       "                // Full images could contain transparency (where diff images\n",
       "                // almost always do), so we need to clear the canvas so that\n",
       "                // there is no ghosting.\n",
       "                fig.context.clearRect(0, 0, fig.canvas.width, fig.canvas.height);\n",
       "            }\n",
       "            fig.context.drawImage(fig.imageObj, 0, 0);\n",
       "        };\n",
       "\n",
       "    this.imageObj.onunload = function() {\n",
       "        this.ws.close();\n",
       "    }\n",
       "\n",
       "    this.ws.onmessage = this._make_on_message_function(this);\n",
       "\n",
       "    this.ondownload = ondownload;\n",
       "}\n",
       "\n",
       "mpl.figure.prototype._init_header = function() {\n",
       "    var titlebar = $(\n",
       "        '<div class=\"ui-dialog-titlebar ui-widget-header ui-corner-all ' +\n",
       "        'ui-helper-clearfix\"/>');\n",
       "    var titletext = $(\n",
       "        '<div class=\"ui-dialog-title\" style=\"width: 100%; ' +\n",
       "        'text-align: center; padding: 3px;\"/>');\n",
       "    titlebar.append(titletext)\n",
       "    this.root.append(titlebar);\n",
       "    this.header = titletext[0];\n",
       "}\n",
       "\n",
       "\n",
       "\n",
       "mpl.figure.prototype._canvas_extra_style = function(canvas_div) {\n",
       "\n",
       "}\n",
       "\n",
       "\n",
       "mpl.figure.prototype._root_extra_style = function(canvas_div) {\n",
       "\n",
       "}\n",
       "\n",
       "mpl.figure.prototype._init_canvas = function() {\n",
       "    var fig = this;\n",
       "\n",
       "    var canvas_div = $('<div/>');\n",
       "\n",
       "    canvas_div.attr('style', 'position: relative; clear: both; outline: 0');\n",
       "\n",
       "    function canvas_keyboard_event(event) {\n",
       "        return fig.key_event(event, event['data']);\n",
       "    }\n",
       "\n",
       "    canvas_div.keydown('key_press', canvas_keyboard_event);\n",
       "    canvas_div.keyup('key_release', canvas_keyboard_event);\n",
       "    this.canvas_div = canvas_div\n",
       "    this._canvas_extra_style(canvas_div)\n",
       "    this.root.append(canvas_div);\n",
       "\n",
       "    var canvas = $('<canvas/>');\n",
       "    canvas.addClass('mpl-canvas');\n",
       "    canvas.attr('style', \"left: 0; top: 0; z-index: 0; outline: 0\")\n",
       "\n",
       "    this.canvas = canvas[0];\n",
       "    this.context = canvas[0].getContext(\"2d\");\n",
       "\n",
       "    var backingStore = this.context.backingStorePixelRatio ||\n",
       "\tthis.context.webkitBackingStorePixelRatio ||\n",
       "\tthis.context.mozBackingStorePixelRatio ||\n",
       "\tthis.context.msBackingStorePixelRatio ||\n",
       "\tthis.context.oBackingStorePixelRatio ||\n",
       "\tthis.context.backingStorePixelRatio || 1;\n",
       "\n",
       "    mpl.ratio = (window.devicePixelRatio || 1) / backingStore;\n",
       "\n",
       "    var rubberband = $('<canvas/>');\n",
       "    rubberband.attr('style', \"position: absolute; left: 0; top: 0; z-index: 1;\")\n",
       "\n",
       "    var pass_mouse_events = true;\n",
       "\n",
       "    canvas_div.resizable({\n",
       "        start: function(event, ui) {\n",
       "            pass_mouse_events = false;\n",
       "        },\n",
       "        resize: function(event, ui) {\n",
       "            fig.request_resize(ui.size.width, ui.size.height);\n",
       "        },\n",
       "        stop: function(event, ui) {\n",
       "            pass_mouse_events = true;\n",
       "            fig.request_resize(ui.size.width, ui.size.height);\n",
       "        },\n",
       "    });\n",
       "\n",
       "    function mouse_event_fn(event) {\n",
       "        if (pass_mouse_events)\n",
       "            return fig.mouse_event(event, event['data']);\n",
       "    }\n",
       "\n",
       "    rubberband.mousedown('button_press', mouse_event_fn);\n",
       "    rubberband.mouseup('button_release', mouse_event_fn);\n",
       "    // Throttle sequential mouse events to 1 every 20ms.\n",
       "    rubberband.mousemove('motion_notify', mouse_event_fn);\n",
       "\n",
       "    rubberband.mouseenter('figure_enter', mouse_event_fn);\n",
       "    rubberband.mouseleave('figure_leave', mouse_event_fn);\n",
       "\n",
       "    canvas_div.on(\"wheel\", function (event) {\n",
       "        event = event.originalEvent;\n",
       "        event['data'] = 'scroll'\n",
       "        if (event.deltaY < 0) {\n",
       "            event.step = 1;\n",
       "        } else {\n",
       "            event.step = -1;\n",
       "        }\n",
       "        mouse_event_fn(event);\n",
       "    });\n",
       "\n",
       "    canvas_div.append(canvas);\n",
       "    canvas_div.append(rubberband);\n",
       "\n",
       "    this.rubberband = rubberband;\n",
       "    this.rubberband_canvas = rubberband[0];\n",
       "    this.rubberband_context = rubberband[0].getContext(\"2d\");\n",
       "    this.rubberband_context.strokeStyle = \"#000000\";\n",
       "\n",
       "    this._resize_canvas = function(width, height) {\n",
       "        // Keep the size of the canvas, canvas container, and rubber band\n",
       "        // canvas in synch.\n",
       "        canvas_div.css('width', width)\n",
       "        canvas_div.css('height', height)\n",
       "\n",
       "        canvas.attr('width', width * mpl.ratio);\n",
       "        canvas.attr('height', height * mpl.ratio);\n",
       "        canvas.attr('style', 'width: ' + width + 'px; height: ' + height + 'px;');\n",
       "\n",
       "        rubberband.attr('width', width);\n",
       "        rubberband.attr('height', height);\n",
       "    }\n",
       "\n",
       "    // Set the figure to an initial 600x600px, this will subsequently be updated\n",
       "    // upon first draw.\n",
       "    this._resize_canvas(600, 600);\n",
       "\n",
       "    // Disable right mouse context menu.\n",
       "    $(this.rubberband_canvas).bind(\"contextmenu\",function(e){\n",
       "        return false;\n",
       "    });\n",
       "\n",
       "    function set_focus () {\n",
       "        canvas.focus();\n",
       "        canvas_div.focus();\n",
       "    }\n",
       "\n",
       "    window.setTimeout(set_focus, 100);\n",
       "}\n",
       "\n",
       "mpl.figure.prototype._init_toolbar = function() {\n",
       "    var fig = this;\n",
       "\n",
       "    var nav_element = $('<div/>')\n",
       "    nav_element.attr('style', 'width: 100%');\n",
       "    this.root.append(nav_element);\n",
       "\n",
       "    // Define a callback function for later on.\n",
       "    function toolbar_event(event) {\n",
       "        return fig.toolbar_button_onclick(event['data']);\n",
       "    }\n",
       "    function toolbar_mouse_event(event) {\n",
       "        return fig.toolbar_button_onmouseover(event['data']);\n",
       "    }\n",
       "\n",
       "    for(var toolbar_ind in mpl.toolbar_items) {\n",
       "        var name = mpl.toolbar_items[toolbar_ind][0];\n",
       "        var tooltip = mpl.toolbar_items[toolbar_ind][1];\n",
       "        var image = mpl.toolbar_items[toolbar_ind][2];\n",
       "        var method_name = mpl.toolbar_items[toolbar_ind][3];\n",
       "\n",
       "        if (!name) {\n",
       "            // put a spacer in here.\n",
       "            continue;\n",
       "        }\n",
       "        var button = $('<button/>');\n",
       "        button.addClass('ui-button ui-widget ui-state-default ui-corner-all ' +\n",
       "                        'ui-button-icon-only');\n",
       "        button.attr('role', 'button');\n",
       "        button.attr('aria-disabled', 'false');\n",
       "        button.click(method_name, toolbar_event);\n",
       "        button.mouseover(tooltip, toolbar_mouse_event);\n",
       "\n",
       "        var icon_img = $('<span/>');\n",
       "        icon_img.addClass('ui-button-icon-primary ui-icon');\n",
       "        icon_img.addClass(image);\n",
       "        icon_img.addClass('ui-corner-all');\n",
       "\n",
       "        var tooltip_span = $('<span/>');\n",
       "        tooltip_span.addClass('ui-button-text');\n",
       "        tooltip_span.html(tooltip);\n",
       "\n",
       "        button.append(icon_img);\n",
       "        button.append(tooltip_span);\n",
       "\n",
       "        nav_element.append(button);\n",
       "    }\n",
       "\n",
       "    var fmt_picker_span = $('<span/>');\n",
       "\n",
       "    var fmt_picker = $('<select/>');\n",
       "    fmt_picker.addClass('mpl-toolbar-option ui-widget ui-widget-content');\n",
       "    fmt_picker_span.append(fmt_picker);\n",
       "    nav_element.append(fmt_picker_span);\n",
       "    this.format_dropdown = fmt_picker[0];\n",
       "\n",
       "    for (var ind in mpl.extensions) {\n",
       "        var fmt = mpl.extensions[ind];\n",
       "        var option = $(\n",
       "            '<option/>', {selected: fmt === mpl.default_extension}).html(fmt);\n",
       "        fmt_picker.append(option)\n",
       "    }\n",
       "\n",
       "    // Add hover states to the ui-buttons\n",
       "    $( \".ui-button\" ).hover(\n",
       "        function() { $(this).addClass(\"ui-state-hover\");},\n",
       "        function() { $(this).removeClass(\"ui-state-hover\");}\n",
       "    );\n",
       "\n",
       "    var status_bar = $('<span class=\"mpl-message\"/>');\n",
       "    nav_element.append(status_bar);\n",
       "    this.message = status_bar[0];\n",
       "}\n",
       "\n",
       "mpl.figure.prototype.request_resize = function(x_pixels, y_pixels) {\n",
       "    // Request matplotlib to resize the figure. Matplotlib will then trigger a resize in the client,\n",
       "    // which will in turn request a refresh of the image.\n",
       "    this.send_message('resize', {'width': x_pixels, 'height': y_pixels});\n",
       "}\n",
       "\n",
       "mpl.figure.prototype.send_message = function(type, properties) {\n",
       "    properties['type'] = type;\n",
       "    properties['figure_id'] = this.id;\n",
       "    this.ws.send(JSON.stringify(properties));\n",
       "}\n",
       "\n",
       "mpl.figure.prototype.send_draw_message = function() {\n",
       "    if (!this.waiting) {\n",
       "        this.waiting = true;\n",
       "        this.ws.send(JSON.stringify({type: \"draw\", figure_id: this.id}));\n",
       "    }\n",
       "}\n",
       "\n",
       "\n",
       "mpl.figure.prototype.handle_save = function(fig, msg) {\n",
       "    var format_dropdown = fig.format_dropdown;\n",
       "    var format = format_dropdown.options[format_dropdown.selectedIndex].value;\n",
       "    fig.ondownload(fig, format);\n",
       "}\n",
       "\n",
       "\n",
       "mpl.figure.prototype.handle_resize = function(fig, msg) {\n",
       "    var size = msg['size'];\n",
       "    if (size[0] != fig.canvas.width || size[1] != fig.canvas.height) {\n",
       "        fig._resize_canvas(size[0], size[1]);\n",
       "        fig.send_message(\"refresh\", {});\n",
       "    };\n",
       "}\n",
       "\n",
       "mpl.figure.prototype.handle_rubberband = function(fig, msg) {\n",
       "    var x0 = msg['x0'] / mpl.ratio;\n",
       "    var y0 = (fig.canvas.height - msg['y0']) / mpl.ratio;\n",
       "    var x1 = msg['x1'] / mpl.ratio;\n",
       "    var y1 = (fig.canvas.height - msg['y1']) / mpl.ratio;\n",
       "    x0 = Math.floor(x0) + 0.5;\n",
       "    y0 = Math.floor(y0) + 0.5;\n",
       "    x1 = Math.floor(x1) + 0.5;\n",
       "    y1 = Math.floor(y1) + 0.5;\n",
       "    var min_x = Math.min(x0, x1);\n",
       "    var min_y = Math.min(y0, y1);\n",
       "    var width = Math.abs(x1 - x0);\n",
       "    var height = Math.abs(y1 - y0);\n",
       "\n",
       "    fig.rubberband_context.clearRect(\n",
       "        0, 0, fig.canvas.width, fig.canvas.height);\n",
       "\n",
       "    fig.rubberband_context.strokeRect(min_x, min_y, width, height);\n",
       "}\n",
       "\n",
       "mpl.figure.prototype.handle_figure_label = function(fig, msg) {\n",
       "    // Updates the figure title.\n",
       "    fig.header.textContent = msg['label'];\n",
       "}\n",
       "\n",
       "mpl.figure.prototype.handle_cursor = function(fig, msg) {\n",
       "    var cursor = msg['cursor'];\n",
       "    switch(cursor)\n",
       "    {\n",
       "    case 0:\n",
       "        cursor = 'pointer';\n",
       "        break;\n",
       "    case 1:\n",
       "        cursor = 'default';\n",
       "        break;\n",
       "    case 2:\n",
       "        cursor = 'crosshair';\n",
       "        break;\n",
       "    case 3:\n",
       "        cursor = 'move';\n",
       "        break;\n",
       "    }\n",
       "    fig.rubberband_canvas.style.cursor = cursor;\n",
       "}\n",
       "\n",
       "mpl.figure.prototype.handle_message = function(fig, msg) {\n",
       "    fig.message.textContent = msg['message'];\n",
       "}\n",
       "\n",
       "mpl.figure.prototype.handle_draw = function(fig, msg) {\n",
       "    // Request the server to send over a new figure.\n",
       "    fig.send_draw_message();\n",
       "}\n",
       "\n",
       "mpl.figure.prototype.handle_image_mode = function(fig, msg) {\n",
       "    fig.image_mode = msg['mode'];\n",
       "}\n",
       "\n",
       "mpl.figure.prototype.updated_canvas_event = function() {\n",
       "    // Called whenever the canvas gets updated.\n",
       "    this.send_message(\"ack\", {});\n",
       "}\n",
       "\n",
       "// A function to construct a web socket function for onmessage handling.\n",
       "// Called in the figure constructor.\n",
       "mpl.figure.prototype._make_on_message_function = function(fig) {\n",
       "    return function socket_on_message(evt) {\n",
       "        if (evt.data instanceof Blob) {\n",
       "            /* FIXME: We get \"Resource interpreted as Image but\n",
       "             * transferred with MIME type text/plain:\" errors on\n",
       "             * Chrome.  But how to set the MIME type?  It doesn't seem\n",
       "             * to be part of the websocket stream */\n",
       "            evt.data.type = \"image/png\";\n",
       "\n",
       "            /* Free the memory for the previous frames */\n",
       "            if (fig.imageObj.src) {\n",
       "                (window.URL || window.webkitURL).revokeObjectURL(\n",
       "                    fig.imageObj.src);\n",
       "            }\n",
       "\n",
       "            fig.imageObj.src = (window.URL || window.webkitURL).createObjectURL(\n",
       "                evt.data);\n",
       "            fig.updated_canvas_event();\n",
       "            fig.waiting = false;\n",
       "            return;\n",
       "        }\n",
       "        else if (typeof evt.data === 'string' && evt.data.slice(0, 21) == \"data:image/png;base64\") {\n",
       "            fig.imageObj.src = evt.data;\n",
       "            fig.updated_canvas_event();\n",
       "            fig.waiting = false;\n",
       "            return;\n",
       "        }\n",
       "\n",
       "        var msg = JSON.parse(evt.data);\n",
       "        var msg_type = msg['type'];\n",
       "\n",
       "        // Call the  \"handle_{type}\" callback, which takes\n",
       "        // the figure and JSON message as its only arguments.\n",
       "        try {\n",
       "            var callback = fig[\"handle_\" + msg_type];\n",
       "        } catch (e) {\n",
       "            console.log(\"No handler for the '\" + msg_type + \"' message type: \", msg);\n",
       "            return;\n",
       "        }\n",
       "\n",
       "        if (callback) {\n",
       "            try {\n",
       "                // console.log(\"Handling '\" + msg_type + \"' message: \", msg);\n",
       "                callback(fig, msg);\n",
       "            } catch (e) {\n",
       "                console.log(\"Exception inside the 'handler_\" + msg_type + \"' callback:\", e, e.stack, msg);\n",
       "            }\n",
       "        }\n",
       "    };\n",
       "}\n",
       "\n",
       "// from http://stackoverflow.com/questions/1114465/getting-mouse-location-in-canvas\n",
       "mpl.findpos = function(e) {\n",
       "    //this section is from http://www.quirksmode.org/js/events_properties.html\n",
       "    var targ;\n",
       "    if (!e)\n",
       "        e = window.event;\n",
       "    if (e.target)\n",
       "        targ = e.target;\n",
       "    else if (e.srcElement)\n",
       "        targ = e.srcElement;\n",
       "    if (targ.nodeType == 3) // defeat Safari bug\n",
       "        targ = targ.parentNode;\n",
       "\n",
       "    // jQuery normalizes the pageX and pageY\n",
       "    // pageX,Y are the mouse positions relative to the document\n",
       "    // offset() returns the position of the element relative to the document\n",
       "    var x = e.pageX - $(targ).offset().left;\n",
       "    var y = e.pageY - $(targ).offset().top;\n",
       "\n",
       "    return {\"x\": x, \"y\": y};\n",
       "};\n",
       "\n",
       "/*\n",
       " * return a copy of an object with only non-object keys\n",
       " * we need this to avoid circular references\n",
       " * http://stackoverflow.com/a/24161582/3208463\n",
       " */\n",
       "function simpleKeys (original) {\n",
       "  return Object.keys(original).reduce(function (obj, key) {\n",
       "    if (typeof original[key] !== 'object')\n",
       "        obj[key] = original[key]\n",
       "    return obj;\n",
       "  }, {});\n",
       "}\n",
       "\n",
       "mpl.figure.prototype.mouse_event = function(event, name) {\n",
       "    var canvas_pos = mpl.findpos(event)\n",
       "\n",
       "    if (name === 'button_press')\n",
       "    {\n",
       "        this.canvas.focus();\n",
       "        this.canvas_div.focus();\n",
       "    }\n",
       "\n",
       "    var x = canvas_pos.x * mpl.ratio;\n",
       "    var y = canvas_pos.y * mpl.ratio;\n",
       "\n",
       "    this.send_message(name, {x: x, y: y, button: event.button,\n",
       "                             step: event.step,\n",
       "                             guiEvent: simpleKeys(event)});\n",
       "\n",
       "    /* This prevents the web browser from automatically changing to\n",
       "     * the text insertion cursor when the button is pressed.  We want\n",
       "     * to control all of the cursor setting manually through the\n",
       "     * 'cursor' event from matplotlib */\n",
       "    event.preventDefault();\n",
       "    return false;\n",
       "}\n",
       "\n",
       "mpl.figure.prototype._key_event_extra = function(event, name) {\n",
       "    // Handle any extra behaviour associated with a key event\n",
       "}\n",
       "\n",
       "mpl.figure.prototype.key_event = function(event, name) {\n",
       "\n",
       "    // Prevent repeat events\n",
       "    if (name == 'key_press')\n",
       "    {\n",
       "        if (event.which === this._key)\n",
       "            return;\n",
       "        else\n",
       "            this._key = event.which;\n",
       "    }\n",
       "    if (name == 'key_release')\n",
       "        this._key = null;\n",
       "\n",
       "    var value = '';\n",
       "    if (event.ctrlKey && event.which != 17)\n",
       "        value += \"ctrl+\";\n",
       "    if (event.altKey && event.which != 18)\n",
       "        value += \"alt+\";\n",
       "    if (event.shiftKey && event.which != 16)\n",
       "        value += \"shift+\";\n",
       "\n",
       "    value += 'k';\n",
       "    value += event.which.toString();\n",
       "\n",
       "    this._key_event_extra(event, name);\n",
       "\n",
       "    this.send_message(name, {key: value,\n",
       "                             guiEvent: simpleKeys(event)});\n",
       "    return false;\n",
       "}\n",
       "\n",
       "mpl.figure.prototype.toolbar_button_onclick = function(name) {\n",
       "    if (name == 'download') {\n",
       "        this.handle_save(this, null);\n",
       "    } else {\n",
       "        this.send_message(\"toolbar_button\", {name: name});\n",
       "    }\n",
       "};\n",
       "\n",
       "mpl.figure.prototype.toolbar_button_onmouseover = function(tooltip) {\n",
       "    this.message.textContent = tooltip;\n",
       "};\n",
       "mpl.toolbar_items = [[\"Home\", \"Reset original view\", \"fa fa-home icon-home\", \"home\"], [\"Back\", \"Back to  previous view\", \"fa fa-arrow-left icon-arrow-left\", \"back\"], [\"Forward\", \"Forward to next view\", \"fa fa-arrow-right icon-arrow-right\", \"forward\"], [\"\", \"\", \"\", \"\"], [\"Pan\", \"Pan axes with left mouse, zoom with right\", \"fa fa-arrows icon-move\", \"pan\"], [\"Zoom\", \"Zoom to rectangle\", \"fa fa-square-o icon-check-empty\", \"zoom\"], [\"\", \"\", \"\", \"\"], [\"Download\", \"Download plot\", \"fa fa-floppy-o icon-save\", \"download\"]];\n",
       "\n",
       "mpl.extensions = [\"eps\", \"jpeg\", \"pdf\", \"png\", \"ps\", \"raw\", \"svg\", \"tif\"];\n",
       "\n",
       "mpl.default_extension = \"png\";var comm_websocket_adapter = function(comm) {\n",
       "    // Create a \"websocket\"-like object which calls the given IPython comm\n",
       "    // object with the appropriate methods. Currently this is a non binary\n",
       "    // socket, so there is still some room for performance tuning.\n",
       "    var ws = {};\n",
       "\n",
       "    ws.close = function() {\n",
       "        comm.close()\n",
       "    };\n",
       "    ws.send = function(m) {\n",
       "        //console.log('sending', m);\n",
       "        comm.send(m);\n",
       "    };\n",
       "    // Register the callback with on_msg.\n",
       "    comm.on_msg(function(msg) {\n",
       "        //console.log('receiving', msg['content']['data'], msg);\n",
       "        // Pass the mpl event to the overriden (by mpl) onmessage function.\n",
       "        ws.onmessage(msg['content']['data'])\n",
       "    });\n",
       "    return ws;\n",
       "}\n",
       "\n",
       "mpl.mpl_figure_comm = function(comm, msg) {\n",
       "    // This is the function which gets called when the mpl process\n",
       "    // starts-up an IPython Comm through the \"matplotlib\" channel.\n",
       "\n",
       "    var id = msg.content.data.id;\n",
       "    // Get hold of the div created by the display call when the Comm\n",
       "    // socket was opened in Python.\n",
       "    var element = $(\"#\" + id);\n",
       "    var ws_proxy = comm_websocket_adapter(comm)\n",
       "\n",
       "    function ondownload(figure, format) {\n",
       "        window.open(figure.imageObj.src);\n",
       "    }\n",
       "\n",
       "    var fig = new mpl.figure(id, ws_proxy,\n",
       "                           ondownload,\n",
       "                           element.get(0));\n",
       "\n",
       "    // Call onopen now - mpl needs it, as it is assuming we've passed it a real\n",
       "    // web socket which is closed, not our websocket->open comm proxy.\n",
       "    ws_proxy.onopen();\n",
       "\n",
       "    fig.parent_element = element.get(0);\n",
       "    fig.cell_info = mpl.find_output_cell(\"<div id='\" + id + \"'></div>\");\n",
       "    if (!fig.cell_info) {\n",
       "        console.error(\"Failed to find cell for figure\", id, fig);\n",
       "        return;\n",
       "    }\n",
       "\n",
       "    var output_index = fig.cell_info[2]\n",
       "    var cell = fig.cell_info[0];\n",
       "\n",
       "};\n",
       "\n",
       "mpl.figure.prototype.handle_close = function(fig, msg) {\n",
       "    var width = fig.canvas.width/mpl.ratio\n",
       "    fig.root.unbind('remove')\n",
       "\n",
       "    // Update the output cell to use the data from the current canvas.\n",
       "    fig.push_to_output();\n",
       "    var dataURL = fig.canvas.toDataURL();\n",
       "    // Re-enable the keyboard manager in IPython - without this line, in FF,\n",
       "    // the notebook keyboard shortcuts fail.\n",
       "    IPython.keyboard_manager.enable()\n",
       "    $(fig.parent_element).html('<img src=\"' + dataURL + '\" width=\"' + width + '\">');\n",
       "    fig.close_ws(fig, msg);\n",
       "}\n",
       "\n",
       "mpl.figure.prototype.close_ws = function(fig, msg){\n",
       "    fig.send_message('closing', msg);\n",
       "    // fig.ws.close()\n",
       "}\n",
       "\n",
       "mpl.figure.prototype.push_to_output = function(remove_interactive) {\n",
       "    // Turn the data on the canvas into data in the output cell.\n",
       "    var width = this.canvas.width/mpl.ratio\n",
       "    var dataURL = this.canvas.toDataURL();\n",
       "    this.cell_info[1]['text/html'] = '<img src=\"' + dataURL + '\" width=\"' + width + '\">';\n",
       "}\n",
       "\n",
       "mpl.figure.prototype.updated_canvas_event = function() {\n",
       "    // Tell IPython that the notebook contents must change.\n",
       "    IPython.notebook.set_dirty(true);\n",
       "    this.send_message(\"ack\", {});\n",
       "    var fig = this;\n",
       "    // Wait a second, then push the new image to the DOM so\n",
       "    // that it is saved nicely (might be nice to debounce this).\n",
       "    setTimeout(function () { fig.push_to_output() }, 1000);\n",
       "}\n",
       "\n",
       "mpl.figure.prototype._init_toolbar = function() {\n",
       "    var fig = this;\n",
       "\n",
       "    var nav_element = $('<div/>')\n",
       "    nav_element.attr('style', 'width: 100%');\n",
       "    this.root.append(nav_element);\n",
       "\n",
       "    // Define a callback function for later on.\n",
       "    function toolbar_event(event) {\n",
       "        return fig.toolbar_button_onclick(event['data']);\n",
       "    }\n",
       "    function toolbar_mouse_event(event) {\n",
       "        return fig.toolbar_button_onmouseover(event['data']);\n",
       "    }\n",
       "\n",
       "    for(var toolbar_ind in mpl.toolbar_items){\n",
       "        var name = mpl.toolbar_items[toolbar_ind][0];\n",
       "        var tooltip = mpl.toolbar_items[toolbar_ind][1];\n",
       "        var image = mpl.toolbar_items[toolbar_ind][2];\n",
       "        var method_name = mpl.toolbar_items[toolbar_ind][3];\n",
       "\n",
       "        if (!name) { continue; };\n",
       "\n",
       "        var button = $('<button class=\"btn btn-default\" href=\"#\" title=\"' + name + '\"><i class=\"fa ' + image + ' fa-lg\"></i></button>');\n",
       "        button.click(method_name, toolbar_event);\n",
       "        button.mouseover(tooltip, toolbar_mouse_event);\n",
       "        nav_element.append(button);\n",
       "    }\n",
       "\n",
       "    // Add the status bar.\n",
       "    var status_bar = $('<span class=\"mpl-message\" style=\"text-align:right; float: right;\"/>');\n",
       "    nav_element.append(status_bar);\n",
       "    this.message = status_bar[0];\n",
       "\n",
       "    // Add the close button to the window.\n",
       "    var buttongrp = $('<div class=\"btn-group inline pull-right\"></div>');\n",
       "    var button = $('<button class=\"btn btn-mini btn-primary\" href=\"#\" title=\"Stop Interaction\"><i class=\"fa fa-power-off icon-remove icon-large\"></i></button>');\n",
       "    button.click(function (evt) { fig.handle_close(fig, {}); } );\n",
       "    button.mouseover('Stop Interaction', toolbar_mouse_event);\n",
       "    buttongrp.append(button);\n",
       "    var titlebar = this.root.find($('.ui-dialog-titlebar'));\n",
       "    titlebar.prepend(buttongrp);\n",
       "}\n",
       "\n",
       "mpl.figure.prototype._root_extra_style = function(el){\n",
       "    var fig = this\n",
       "    el.on(\"remove\", function(){\n",
       "\tfig.close_ws(fig, {});\n",
       "    });\n",
       "}\n",
       "\n",
       "mpl.figure.prototype._canvas_extra_style = function(el){\n",
       "    // this is important to make the div 'focusable\n",
       "    el.attr('tabindex', 0)\n",
       "    // reach out to IPython and tell the keyboard manager to turn it's self\n",
       "    // off when our div gets focus\n",
       "\n",
       "    // location in version 3\n",
       "    if (IPython.notebook.keyboard_manager) {\n",
       "        IPython.notebook.keyboard_manager.register_events(el);\n",
       "    }\n",
       "    else {\n",
       "        // location in version 2\n",
       "        IPython.keyboard_manager.register_events(el);\n",
       "    }\n",
       "\n",
       "}\n",
       "\n",
       "mpl.figure.prototype._key_event_extra = function(event, name) {\n",
       "    var manager = IPython.notebook.keyboard_manager;\n",
       "    if (!manager)\n",
       "        manager = IPython.keyboard_manager;\n",
       "\n",
       "    // Check for shift+enter\n",
       "    if (event.shiftKey && event.which == 13) {\n",
       "        this.canvas_div.blur();\n",
       "        // select the cell after this one\n",
       "        var index = IPython.notebook.find_cell_index(this.cell_info[0]);\n",
       "        IPython.notebook.select(index + 1);\n",
       "    }\n",
       "}\n",
       "\n",
       "mpl.figure.prototype.handle_save = function(fig, msg) {\n",
       "    fig.ondownload(fig, null);\n",
       "}\n",
       "\n",
       "\n",
       "mpl.find_output_cell = function(html_output) {\n",
       "    // Return the cell and output element which can be found *uniquely* in the notebook.\n",
       "    // Note - this is a bit hacky, but it is done because the \"notebook_saving.Notebook\"\n",
       "    // IPython event is triggered only after the cells have been serialised, which for\n",
       "    // our purposes (turning an active figure into a static one), is too late.\n",
       "    var cells = IPython.notebook.get_cells();\n",
       "    var ncells = cells.length;\n",
       "    for (var i=0; i<ncells; i++) {\n",
       "        var cell = cells[i];\n",
       "        if (cell.cell_type === 'code'){\n",
       "            for (var j=0; j<cell.output_area.outputs.length; j++) {\n",
       "                var data = cell.output_area.outputs[j];\n",
       "                if (data.data) {\n",
       "                    // IPython >= 3 moved mimebundle to data attribute of output\n",
       "                    data = data.data;\n",
       "                }\n",
       "                if (data['text/html'] == html_output) {\n",
       "                    return [cell, data, j];\n",
       "                }\n",
       "            }\n",
       "        }\n",
       "    }\n",
       "}\n",
       "\n",
       "// Register the function which deals with the matplotlib target/channel.\n",
       "// The kernel may be null if the page has been refreshed.\n",
       "if (IPython.notebook.kernel != null) {\n",
       "    IPython.notebook.kernel.comm_manager.register_target('matplotlib', mpl.mpl_figure_comm);\n",
       "}\n"
      ],
      "text/plain": [
       "<IPython.core.display.Javascript object>"
      ]
     },
     "metadata": {},
     "output_type": "display_data"
    },
    {
     "data": {
      "text/html": [
       "<img src=\"data:image/png;base64,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\" width=\"900\">"
      ],
      "text/plain": [
       "<IPython.core.display.HTML object>"
      ]
     },
     "metadata": {},
     "output_type": "display_data"
    }
   ],
   "source": [
    "#barwidth = 0.75; \n",
    "fig, ax = plt.subplots(figsize=(9, 7));\n",
    "rects1 = ax.bar(0.5,RTanalysis_unbias.LowC.mean(),barwidth,yerr=RTstderror.LowC,ecolor='k',edgecolor=sns.xkcd_rgb['green'],linewidth = 2, facecolor='none',error_kw=dict(lw=3),label='Congruent');\n",
    "rects2 = ax.bar(1.5,RTanalysis_unbias.LowIC.mean(),barwidth,color=sns.xkcd_rgb['green'],yerr=RTstderror.LowIC,ecolor='k',error_kw=dict(lw=3),label='Incongruent');\n",
    "rects3 = ax.bar(3,RTanalysis_unbias.HighC.mean(),barwidth,yerr=RTstderror.HighC,ecolor='k',edgecolor=(0.3,0.9,0.3),linewidth = 2, facecolor='none',error_kw=dict(lw=3));\n",
    "rects4 = ax.bar(4,RTanalysis_unbias.HighIC.mean(),barwidth,color=(0.3,0.9,0.3),yerr=RTstderror.HighIC,ecolor='k',error_kw=dict(lw=3));\n",
    "sns.set(context='notebook', style='white', font='Myriad Pro', font_scale=2, color_codes=False, rc=None);\n",
    "ax.set_ylim(460,580);\n",
    "ax.set_xlim(0,6);\n",
    "ax.set_xticklabels(('Low', 'High'));\n",
    "ax.set_xticks([1, 3.5]);\n",
    "ax.set_yticks(np.arange(460, 581, 10));\n",
    "plt.legend([rects1,rects2], ['Congruent','Incongruent'], loc='upper right',fontsize=18,title='Trial Type')\n",
    "plt.legend(title='Trial Type',fontsize=14)\n",
    "plt.title('S-C RT Cueing Effect for Unbiased Stimuli', fontsize=26,fontweight=\"bold\")\n",
    "plt.ylabel('Reaction Time (ms)', fontsize=24,fontweight=\"bold\")\n",
    "plt.xlabel('S2 Control-Demand Cue', fontsize=24,fontweight=\"bold\")\n",
    "sns.despine();\n",
    "\n",
    "plt.show()"
   ]
  },
  {
   "cell_type": "code",
   "execution_count": 142,
   "metadata": {},
   "outputs": [
    {
     "data": {
      "application/javascript": [
       "/* Put everything inside the global mpl namespace */\n",
       "window.mpl = {};\n",
       "\n",
       "\n",
       "mpl.get_websocket_type = function() {\n",
       "    if (typeof(WebSocket) !== 'undefined') {\n",
       "        return WebSocket;\n",
       "    } else if (typeof(MozWebSocket) !== 'undefined') {\n",
       "        return MozWebSocket;\n",
       "    } else {\n",
       "        alert('Your browser does not have WebSocket support.' +\n",
       "              'Please try Chrome, Safari or Firefox ≥ 6. ' +\n",
       "              'Firefox 4 and 5 are also supported but you ' +\n",
       "              'have to enable WebSockets in about:config.');\n",
       "    };\n",
       "}\n",
       "\n",
       "mpl.figure = function(figure_id, websocket, ondownload, parent_element) {\n",
       "    this.id = figure_id;\n",
       "\n",
       "    this.ws = websocket;\n",
       "\n",
       "    this.supports_binary = (this.ws.binaryType != undefined);\n",
       "\n",
       "    if (!this.supports_binary) {\n",
       "        var warnings = document.getElementById(\"mpl-warnings\");\n",
       "        if (warnings) {\n",
       "            warnings.style.display = 'block';\n",
       "            warnings.textContent = (\n",
       "                \"This browser does not support binary websocket messages. \" +\n",
       "                    \"Performance may be slow.\");\n",
       "        }\n",
       "    }\n",
       "\n",
       "    this.imageObj = new Image();\n",
       "\n",
       "    this.context = undefined;\n",
       "    this.message = undefined;\n",
       "    this.canvas = undefined;\n",
       "    this.rubberband_canvas = undefined;\n",
       "    this.rubberband_context = undefined;\n",
       "    this.format_dropdown = undefined;\n",
       "\n",
       "    this.image_mode = 'full';\n",
       "\n",
       "    this.root = $('<div/>');\n",
       "    this._root_extra_style(this.root)\n",
       "    this.root.attr('style', 'display: inline-block');\n",
       "\n",
       "    $(parent_element).append(this.root);\n",
       "\n",
       "    this._init_header(this);\n",
       "    this._init_canvas(this);\n",
       "    this._init_toolbar(this);\n",
       "\n",
       "    var fig = this;\n",
       "\n",
       "    this.waiting = false;\n",
       "\n",
       "    this.ws.onopen =  function () {\n",
       "            fig.send_message(\"supports_binary\", {value: fig.supports_binary});\n",
       "            fig.send_message(\"send_image_mode\", {});\n",
       "            if (mpl.ratio != 1) {\n",
       "                fig.send_message(\"set_dpi_ratio\", {'dpi_ratio': mpl.ratio});\n",
       "            }\n",
       "            fig.send_message(\"refresh\", {});\n",
       "        }\n",
       "\n",
       "    this.imageObj.onload = function() {\n",
       "            if (fig.image_mode == 'full') {\n",
       "                // Full images could contain transparency (where diff images\n",
       "                // almost always do), so we need to clear the canvas so that\n",
       "                // there is no ghosting.\n",
       "                fig.context.clearRect(0, 0, fig.canvas.width, fig.canvas.height);\n",
       "            }\n",
       "            fig.context.drawImage(fig.imageObj, 0, 0);\n",
       "        };\n",
       "\n",
       "    this.imageObj.onunload = function() {\n",
       "        this.ws.close();\n",
       "    }\n",
       "\n",
       "    this.ws.onmessage = this._make_on_message_function(this);\n",
       "\n",
       "    this.ondownload = ondownload;\n",
       "}\n",
       "\n",
       "mpl.figure.prototype._init_header = function() {\n",
       "    var titlebar = $(\n",
       "        '<div class=\"ui-dialog-titlebar ui-widget-header ui-corner-all ' +\n",
       "        'ui-helper-clearfix\"/>');\n",
       "    var titletext = $(\n",
       "        '<div class=\"ui-dialog-title\" style=\"width: 100%; ' +\n",
       "        'text-align: center; padding: 3px;\"/>');\n",
       "    titlebar.append(titletext)\n",
       "    this.root.append(titlebar);\n",
       "    this.header = titletext[0];\n",
       "}\n",
       "\n",
       "\n",
       "\n",
       "mpl.figure.prototype._canvas_extra_style = function(canvas_div) {\n",
       "\n",
       "}\n",
       "\n",
       "\n",
       "mpl.figure.prototype._root_extra_style = function(canvas_div) {\n",
       "\n",
       "}\n",
       "\n",
       "mpl.figure.prototype._init_canvas = function() {\n",
       "    var fig = this;\n",
       "\n",
       "    var canvas_div = $('<div/>');\n",
       "\n",
       "    canvas_div.attr('style', 'position: relative; clear: both; outline: 0');\n",
       "\n",
       "    function canvas_keyboard_event(event) {\n",
       "        return fig.key_event(event, event['data']);\n",
       "    }\n",
       "\n",
       "    canvas_div.keydown('key_press', canvas_keyboard_event);\n",
       "    canvas_div.keyup('key_release', canvas_keyboard_event);\n",
       "    this.canvas_div = canvas_div\n",
       "    this._canvas_extra_style(canvas_div)\n",
       "    this.root.append(canvas_div);\n",
       "\n",
       "    var canvas = $('<canvas/>');\n",
       "    canvas.addClass('mpl-canvas');\n",
       "    canvas.attr('style', \"left: 0; top: 0; z-index: 0; outline: 0\")\n",
       "\n",
       "    this.canvas = canvas[0];\n",
       "    this.context = canvas[0].getContext(\"2d\");\n",
       "\n",
       "    var backingStore = this.context.backingStorePixelRatio ||\n",
       "\tthis.context.webkitBackingStorePixelRatio ||\n",
       "\tthis.context.mozBackingStorePixelRatio ||\n",
       "\tthis.context.msBackingStorePixelRatio ||\n",
       "\tthis.context.oBackingStorePixelRatio ||\n",
       "\tthis.context.backingStorePixelRatio || 1;\n",
       "\n",
       "    mpl.ratio = (window.devicePixelRatio || 1) / backingStore;\n",
       "\n",
       "    var rubberband = $('<canvas/>');\n",
       "    rubberband.attr('style', \"position: absolute; left: 0; top: 0; z-index: 1;\")\n",
       "\n",
       "    var pass_mouse_events = true;\n",
       "\n",
       "    canvas_div.resizable({\n",
       "        start: function(event, ui) {\n",
       "            pass_mouse_events = false;\n",
       "        },\n",
       "        resize: function(event, ui) {\n",
       "            fig.request_resize(ui.size.width, ui.size.height);\n",
       "        },\n",
       "        stop: function(event, ui) {\n",
       "            pass_mouse_events = true;\n",
       "            fig.request_resize(ui.size.width, ui.size.height);\n",
       "        },\n",
       "    });\n",
       "\n",
       "    function mouse_event_fn(event) {\n",
       "        if (pass_mouse_events)\n",
       "            return fig.mouse_event(event, event['data']);\n",
       "    }\n",
       "\n",
       "    rubberband.mousedown('button_press', mouse_event_fn);\n",
       "    rubberband.mouseup('button_release', mouse_event_fn);\n",
       "    // Throttle sequential mouse events to 1 every 20ms.\n",
       "    rubberband.mousemove('motion_notify', mouse_event_fn);\n",
       "\n",
       "    rubberband.mouseenter('figure_enter', mouse_event_fn);\n",
       "    rubberband.mouseleave('figure_leave', mouse_event_fn);\n",
       "\n",
       "    canvas_div.on(\"wheel\", function (event) {\n",
       "        event = event.originalEvent;\n",
       "        event['data'] = 'scroll'\n",
       "        if (event.deltaY < 0) {\n",
       "            event.step = 1;\n",
       "        } else {\n",
       "            event.step = -1;\n",
       "        }\n",
       "        mouse_event_fn(event);\n",
       "    });\n",
       "\n",
       "    canvas_div.append(canvas);\n",
       "    canvas_div.append(rubberband);\n",
       "\n",
       "    this.rubberband = rubberband;\n",
       "    this.rubberband_canvas = rubberband[0];\n",
       "    this.rubberband_context = rubberband[0].getContext(\"2d\");\n",
       "    this.rubberband_context.strokeStyle = \"#000000\";\n",
       "\n",
       "    this._resize_canvas = function(width, height) {\n",
       "        // Keep the size of the canvas, canvas container, and rubber band\n",
       "        // canvas in synch.\n",
       "        canvas_div.css('width', width)\n",
       "        canvas_div.css('height', height)\n",
       "\n",
       "        canvas.attr('width', width * mpl.ratio);\n",
       "        canvas.attr('height', height * mpl.ratio);\n",
       "        canvas.attr('style', 'width: ' + width + 'px; height: ' + height + 'px;');\n",
       "\n",
       "        rubberband.attr('width', width);\n",
       "        rubberband.attr('height', height);\n",
       "    }\n",
       "\n",
       "    // Set the figure to an initial 600x600px, this will subsequently be updated\n",
       "    // upon first draw.\n",
       "    this._resize_canvas(600, 600);\n",
       "\n",
       "    // Disable right mouse context menu.\n",
       "    $(this.rubberband_canvas).bind(\"contextmenu\",function(e){\n",
       "        return false;\n",
       "    });\n",
       "\n",
       "    function set_focus () {\n",
       "        canvas.focus();\n",
       "        canvas_div.focus();\n",
       "    }\n",
       "\n",
       "    window.setTimeout(set_focus, 100);\n",
       "}\n",
       "\n",
       "mpl.figure.prototype._init_toolbar = function() {\n",
       "    var fig = this;\n",
       "\n",
       "    var nav_element = $('<div/>')\n",
       "    nav_element.attr('style', 'width: 100%');\n",
       "    this.root.append(nav_element);\n",
       "\n",
       "    // Define a callback function for later on.\n",
       "    function toolbar_event(event) {\n",
       "        return fig.toolbar_button_onclick(event['data']);\n",
       "    }\n",
       "    function toolbar_mouse_event(event) {\n",
       "        return fig.toolbar_button_onmouseover(event['data']);\n",
       "    }\n",
       "\n",
       "    for(var toolbar_ind in mpl.toolbar_items) {\n",
       "        var name = mpl.toolbar_items[toolbar_ind][0];\n",
       "        var tooltip = mpl.toolbar_items[toolbar_ind][1];\n",
       "        var image = mpl.toolbar_items[toolbar_ind][2];\n",
       "        var method_name = mpl.toolbar_items[toolbar_ind][3];\n",
       "\n",
       "        if (!name) {\n",
       "            // put a spacer in here.\n",
       "            continue;\n",
       "        }\n",
       "        var button = $('<button/>');\n",
       "        button.addClass('ui-button ui-widget ui-state-default ui-corner-all ' +\n",
       "                        'ui-button-icon-only');\n",
       "        button.attr('role', 'button');\n",
       "        button.attr('aria-disabled', 'false');\n",
       "        button.click(method_name, toolbar_event);\n",
       "        button.mouseover(tooltip, toolbar_mouse_event);\n",
       "\n",
       "        var icon_img = $('<span/>');\n",
       "        icon_img.addClass('ui-button-icon-primary ui-icon');\n",
       "        icon_img.addClass(image);\n",
       "        icon_img.addClass('ui-corner-all');\n",
       "\n",
       "        var tooltip_span = $('<span/>');\n",
       "        tooltip_span.addClass('ui-button-text');\n",
       "        tooltip_span.html(tooltip);\n",
       "\n",
       "        button.append(icon_img);\n",
       "        button.append(tooltip_span);\n",
       "\n",
       "        nav_element.append(button);\n",
       "    }\n",
       "\n",
       "    var fmt_picker_span = $('<span/>');\n",
       "\n",
       "    var fmt_picker = $('<select/>');\n",
       "    fmt_picker.addClass('mpl-toolbar-option ui-widget ui-widget-content');\n",
       "    fmt_picker_span.append(fmt_picker);\n",
       "    nav_element.append(fmt_picker_span);\n",
       "    this.format_dropdown = fmt_picker[0];\n",
       "\n",
       "    for (var ind in mpl.extensions) {\n",
       "        var fmt = mpl.extensions[ind];\n",
       "        var option = $(\n",
       "            '<option/>', {selected: fmt === mpl.default_extension}).html(fmt);\n",
       "        fmt_picker.append(option)\n",
       "    }\n",
       "\n",
       "    // Add hover states to the ui-buttons\n",
       "    $( \".ui-button\" ).hover(\n",
       "        function() { $(this).addClass(\"ui-state-hover\");},\n",
       "        function() { $(this).removeClass(\"ui-state-hover\");}\n",
       "    );\n",
       "\n",
       "    var status_bar = $('<span class=\"mpl-message\"/>');\n",
       "    nav_element.append(status_bar);\n",
       "    this.message = status_bar[0];\n",
       "}\n",
       "\n",
       "mpl.figure.prototype.request_resize = function(x_pixels, y_pixels) {\n",
       "    // Request matplotlib to resize the figure. Matplotlib will then trigger a resize in the client,\n",
       "    // which will in turn request a refresh of the image.\n",
       "    this.send_message('resize', {'width': x_pixels, 'height': y_pixels});\n",
       "}\n",
       "\n",
       "mpl.figure.prototype.send_message = function(type, properties) {\n",
       "    properties['type'] = type;\n",
       "    properties['figure_id'] = this.id;\n",
       "    this.ws.send(JSON.stringify(properties));\n",
       "}\n",
       "\n",
       "mpl.figure.prototype.send_draw_message = function() {\n",
       "    if (!this.waiting) {\n",
       "        this.waiting = true;\n",
       "        this.ws.send(JSON.stringify({type: \"draw\", figure_id: this.id}));\n",
       "    }\n",
       "}\n",
       "\n",
       "\n",
       "mpl.figure.prototype.handle_save = function(fig, msg) {\n",
       "    var format_dropdown = fig.format_dropdown;\n",
       "    var format = format_dropdown.options[format_dropdown.selectedIndex].value;\n",
       "    fig.ondownload(fig, format);\n",
       "}\n",
       "\n",
       "\n",
       "mpl.figure.prototype.handle_resize = function(fig, msg) {\n",
       "    var size = msg['size'];\n",
       "    if (size[0] != fig.canvas.width || size[1] != fig.canvas.height) {\n",
       "        fig._resize_canvas(size[0], size[1]);\n",
       "        fig.send_message(\"refresh\", {});\n",
       "    };\n",
       "}\n",
       "\n",
       "mpl.figure.prototype.handle_rubberband = function(fig, msg) {\n",
       "    var x0 = msg['x0'] / mpl.ratio;\n",
       "    var y0 = (fig.canvas.height - msg['y0']) / mpl.ratio;\n",
       "    var x1 = msg['x1'] / mpl.ratio;\n",
       "    var y1 = (fig.canvas.height - msg['y1']) / mpl.ratio;\n",
       "    x0 = Math.floor(x0) + 0.5;\n",
       "    y0 = Math.floor(y0) + 0.5;\n",
       "    x1 = Math.floor(x1) + 0.5;\n",
       "    y1 = Math.floor(y1) + 0.5;\n",
       "    var min_x = Math.min(x0, x1);\n",
       "    var min_y = Math.min(y0, y1);\n",
       "    var width = Math.abs(x1 - x0);\n",
       "    var height = Math.abs(y1 - y0);\n",
       "\n",
       "    fig.rubberband_context.clearRect(\n",
       "        0, 0, fig.canvas.width, fig.canvas.height);\n",
       "\n",
       "    fig.rubberband_context.strokeRect(min_x, min_y, width, height);\n",
       "}\n",
       "\n",
       "mpl.figure.prototype.handle_figure_label = function(fig, msg) {\n",
       "    // Updates the figure title.\n",
       "    fig.header.textContent = msg['label'];\n",
       "}\n",
       "\n",
       "mpl.figure.prototype.handle_cursor = function(fig, msg) {\n",
       "    var cursor = msg['cursor'];\n",
       "    switch(cursor)\n",
       "    {\n",
       "    case 0:\n",
       "        cursor = 'pointer';\n",
       "        break;\n",
       "    case 1:\n",
       "        cursor = 'default';\n",
       "        break;\n",
       "    case 2:\n",
       "        cursor = 'crosshair';\n",
       "        break;\n",
       "    case 3:\n",
       "        cursor = 'move';\n",
       "        break;\n",
       "    }\n",
       "    fig.rubberband_canvas.style.cursor = cursor;\n",
       "}\n",
       "\n",
       "mpl.figure.prototype.handle_message = function(fig, msg) {\n",
       "    fig.message.textContent = msg['message'];\n",
       "}\n",
       "\n",
       "mpl.figure.prototype.handle_draw = function(fig, msg) {\n",
       "    // Request the server to send over a new figure.\n",
       "    fig.send_draw_message();\n",
       "}\n",
       "\n",
       "mpl.figure.prototype.handle_image_mode = function(fig, msg) {\n",
       "    fig.image_mode = msg['mode'];\n",
       "}\n",
       "\n",
       "mpl.figure.prototype.updated_canvas_event = function() {\n",
       "    // Called whenever the canvas gets updated.\n",
       "    this.send_message(\"ack\", {});\n",
       "}\n",
       "\n",
       "// A function to construct a web socket function for onmessage handling.\n",
       "// Called in the figure constructor.\n",
       "mpl.figure.prototype._make_on_message_function = function(fig) {\n",
       "    return function socket_on_message(evt) {\n",
       "        if (evt.data instanceof Blob) {\n",
       "            /* FIXME: We get \"Resource interpreted as Image but\n",
       "             * transferred with MIME type text/plain:\" errors on\n",
       "             * Chrome.  But how to set the MIME type?  It doesn't seem\n",
       "             * to be part of the websocket stream */\n",
       "            evt.data.type = \"image/png\";\n",
       "\n",
       "            /* Free the memory for the previous frames */\n",
       "            if (fig.imageObj.src) {\n",
       "                (window.URL || window.webkitURL).revokeObjectURL(\n",
       "                    fig.imageObj.src);\n",
       "            }\n",
       "\n",
       "            fig.imageObj.src = (window.URL || window.webkitURL).createObjectURL(\n",
       "                evt.data);\n",
       "            fig.updated_canvas_event();\n",
       "            fig.waiting = false;\n",
       "            return;\n",
       "        }\n",
       "        else if (typeof evt.data === 'string' && evt.data.slice(0, 21) == \"data:image/png;base64\") {\n",
       "            fig.imageObj.src = evt.data;\n",
       "            fig.updated_canvas_event();\n",
       "            fig.waiting = false;\n",
       "            return;\n",
       "        }\n",
       "\n",
       "        var msg = JSON.parse(evt.data);\n",
       "        var msg_type = msg['type'];\n",
       "\n",
       "        // Call the  \"handle_{type}\" callback, which takes\n",
       "        // the figure and JSON message as its only arguments.\n",
       "        try {\n",
       "            var callback = fig[\"handle_\" + msg_type];\n",
       "        } catch (e) {\n",
       "            console.log(\"No handler for the '\" + msg_type + \"' message type: \", msg);\n",
       "            return;\n",
       "        }\n",
       "\n",
       "        if (callback) {\n",
       "            try {\n",
       "                // console.log(\"Handling '\" + msg_type + \"' message: \", msg);\n",
       "                callback(fig, msg);\n",
       "            } catch (e) {\n",
       "                console.log(\"Exception inside the 'handler_\" + msg_type + \"' callback:\", e, e.stack, msg);\n",
       "            }\n",
       "        }\n",
       "    };\n",
       "}\n",
       "\n",
       "// from http://stackoverflow.com/questions/1114465/getting-mouse-location-in-canvas\n",
       "mpl.findpos = function(e) {\n",
       "    //this section is from http://www.quirksmode.org/js/events_properties.html\n",
       "    var targ;\n",
       "    if (!e)\n",
       "        e = window.event;\n",
       "    if (e.target)\n",
       "        targ = e.target;\n",
       "    else if (e.srcElement)\n",
       "        targ = e.srcElement;\n",
       "    if (targ.nodeType == 3) // defeat Safari bug\n",
       "        targ = targ.parentNode;\n",
       "\n",
       "    // jQuery normalizes the pageX and pageY\n",
       "    // pageX,Y are the mouse positions relative to the document\n",
       "    // offset() returns the position of the element relative to the document\n",
       "    var x = e.pageX - $(targ).offset().left;\n",
       "    var y = e.pageY - $(targ).offset().top;\n",
       "\n",
       "    return {\"x\": x, \"y\": y};\n",
       "};\n",
       "\n",
       "/*\n",
       " * return a copy of an object with only non-object keys\n",
       " * we need this to avoid circular references\n",
       " * http://stackoverflow.com/a/24161582/3208463\n",
       " */\n",
       "function simpleKeys (original) {\n",
       "  return Object.keys(original).reduce(function (obj, key) {\n",
       "    if (typeof original[key] !== 'object')\n",
       "        obj[key] = original[key]\n",
       "    return obj;\n",
       "  }, {});\n",
       "}\n",
       "\n",
       "mpl.figure.prototype.mouse_event = function(event, name) {\n",
       "    var canvas_pos = mpl.findpos(event)\n",
       "\n",
       "    if (name === 'button_press')\n",
       "    {\n",
       "        this.canvas.focus();\n",
       "        this.canvas_div.focus();\n",
       "    }\n",
       "\n",
       "    var x = canvas_pos.x * mpl.ratio;\n",
       "    var y = canvas_pos.y * mpl.ratio;\n",
       "\n",
       "    this.send_message(name, {x: x, y: y, button: event.button,\n",
       "                             step: event.step,\n",
       "                             guiEvent: simpleKeys(event)});\n",
       "\n",
       "    /* This prevents the web browser from automatically changing to\n",
       "     * the text insertion cursor when the button is pressed.  We want\n",
       "     * to control all of the cursor setting manually through the\n",
       "     * 'cursor' event from matplotlib */\n",
       "    event.preventDefault();\n",
       "    return false;\n",
       "}\n",
       "\n",
       "mpl.figure.prototype._key_event_extra = function(event, name) {\n",
       "    // Handle any extra behaviour associated with a key event\n",
       "}\n",
       "\n",
       "mpl.figure.prototype.key_event = function(event, name) {\n",
       "\n",
       "    // Prevent repeat events\n",
       "    if (name == 'key_press')\n",
       "    {\n",
       "        if (event.which === this._key)\n",
       "            return;\n",
       "        else\n",
       "            this._key = event.which;\n",
       "    }\n",
       "    if (name == 'key_release')\n",
       "        this._key = null;\n",
       "\n",
       "    var value = '';\n",
       "    if (event.ctrlKey && event.which != 17)\n",
       "        value += \"ctrl+\";\n",
       "    if (event.altKey && event.which != 18)\n",
       "        value += \"alt+\";\n",
       "    if (event.shiftKey && event.which != 16)\n",
       "        value += \"shift+\";\n",
       "\n",
       "    value += 'k';\n",
       "    value += event.which.toString();\n",
       "\n",
       "    this._key_event_extra(event, name);\n",
       "\n",
       "    this.send_message(name, {key: value,\n",
       "                             guiEvent: simpleKeys(event)});\n",
       "    return false;\n",
       "}\n",
       "\n",
       "mpl.figure.prototype.toolbar_button_onclick = function(name) {\n",
       "    if (name == 'download') {\n",
       "        this.handle_save(this, null);\n",
       "    } else {\n",
       "        this.send_message(\"toolbar_button\", {name: name});\n",
       "    }\n",
       "};\n",
       "\n",
       "mpl.figure.prototype.toolbar_button_onmouseover = function(tooltip) {\n",
       "    this.message.textContent = tooltip;\n",
       "};\n",
       "mpl.toolbar_items = [[\"Home\", \"Reset original view\", \"fa fa-home icon-home\", \"home\"], [\"Back\", \"Back to  previous view\", \"fa fa-arrow-left icon-arrow-left\", \"back\"], [\"Forward\", \"Forward to next view\", \"fa fa-arrow-right icon-arrow-right\", \"forward\"], [\"\", \"\", \"\", \"\"], [\"Pan\", \"Pan axes with left mouse, zoom with right\", \"fa fa-arrows icon-move\", \"pan\"], [\"Zoom\", \"Zoom to rectangle\", \"fa fa-square-o icon-check-empty\", \"zoom\"], [\"\", \"\", \"\", \"\"], [\"Download\", \"Download plot\", \"fa fa-floppy-o icon-save\", \"download\"]];\n",
       "\n",
       "mpl.extensions = [\"eps\", \"jpeg\", \"pdf\", \"png\", \"ps\", \"raw\", \"svg\", \"tif\"];\n",
       "\n",
       "mpl.default_extension = \"png\";var comm_websocket_adapter = function(comm) {\n",
       "    // Create a \"websocket\"-like object which calls the given IPython comm\n",
       "    // object with the appropriate methods. Currently this is a non binary\n",
       "    // socket, so there is still some room for performance tuning.\n",
       "    var ws = {};\n",
       "\n",
       "    ws.close = function() {\n",
       "        comm.close()\n",
       "    };\n",
       "    ws.send = function(m) {\n",
       "        //console.log('sending', m);\n",
       "        comm.send(m);\n",
       "    };\n",
       "    // Register the callback with on_msg.\n",
       "    comm.on_msg(function(msg) {\n",
       "        //console.log('receiving', msg['content']['data'], msg);\n",
       "        // Pass the mpl event to the overriden (by mpl) onmessage function.\n",
       "        ws.onmessage(msg['content']['data'])\n",
       "    });\n",
       "    return ws;\n",
       "}\n",
       "\n",
       "mpl.mpl_figure_comm = function(comm, msg) {\n",
       "    // This is the function which gets called when the mpl process\n",
       "    // starts-up an IPython Comm through the \"matplotlib\" channel.\n",
       "\n",
       "    var id = msg.content.data.id;\n",
       "    // Get hold of the div created by the display call when the Comm\n",
       "    // socket was opened in Python.\n",
       "    var element = $(\"#\" + id);\n",
       "    var ws_proxy = comm_websocket_adapter(comm)\n",
       "\n",
       "    function ondownload(figure, format) {\n",
       "        window.open(figure.imageObj.src);\n",
       "    }\n",
       "\n",
       "    var fig = new mpl.figure(id, ws_proxy,\n",
       "                           ondownload,\n",
       "                           element.get(0));\n",
       "\n",
       "    // Call onopen now - mpl needs it, as it is assuming we've passed it a real\n",
       "    // web socket which is closed, not our websocket->open comm proxy.\n",
       "    ws_proxy.onopen();\n",
       "\n",
       "    fig.parent_element = element.get(0);\n",
       "    fig.cell_info = mpl.find_output_cell(\"<div id='\" + id + \"'></div>\");\n",
       "    if (!fig.cell_info) {\n",
       "        console.error(\"Failed to find cell for figure\", id, fig);\n",
       "        return;\n",
       "    }\n",
       "\n",
       "    var output_index = fig.cell_info[2]\n",
       "    var cell = fig.cell_info[0];\n",
       "\n",
       "};\n",
       "\n",
       "mpl.figure.prototype.handle_close = function(fig, msg) {\n",
       "    var width = fig.canvas.width/mpl.ratio\n",
       "    fig.root.unbind('remove')\n",
       "\n",
       "    // Update the output cell to use the data from the current canvas.\n",
       "    fig.push_to_output();\n",
       "    var dataURL = fig.canvas.toDataURL();\n",
       "    // Re-enable the keyboard manager in IPython - without this line, in FF,\n",
       "    // the notebook keyboard shortcuts fail.\n",
       "    IPython.keyboard_manager.enable()\n",
       "    $(fig.parent_element).html('<img src=\"' + dataURL + '\" width=\"' + width + '\">');\n",
       "    fig.close_ws(fig, msg);\n",
       "}\n",
       "\n",
       "mpl.figure.prototype.close_ws = function(fig, msg){\n",
       "    fig.send_message('closing', msg);\n",
       "    // fig.ws.close()\n",
       "}\n",
       "\n",
       "mpl.figure.prototype.push_to_output = function(remove_interactive) {\n",
       "    // Turn the data on the canvas into data in the output cell.\n",
       "    var width = this.canvas.width/mpl.ratio\n",
       "    var dataURL = this.canvas.toDataURL();\n",
       "    this.cell_info[1]['text/html'] = '<img src=\"' + dataURL + '\" width=\"' + width + '\">';\n",
       "}\n",
       "\n",
       "mpl.figure.prototype.updated_canvas_event = function() {\n",
       "    // Tell IPython that the notebook contents must change.\n",
       "    IPython.notebook.set_dirty(true);\n",
       "    this.send_message(\"ack\", {});\n",
       "    var fig = this;\n",
       "    // Wait a second, then push the new image to the DOM so\n",
       "    // that it is saved nicely (might be nice to debounce this).\n",
       "    setTimeout(function () { fig.push_to_output() }, 1000);\n",
       "}\n",
       "\n",
       "mpl.figure.prototype._init_toolbar = function() {\n",
       "    var fig = this;\n",
       "\n",
       "    var nav_element = $('<div/>')\n",
       "    nav_element.attr('style', 'width: 100%');\n",
       "    this.root.append(nav_element);\n",
       "\n",
       "    // Define a callback function for later on.\n",
       "    function toolbar_event(event) {\n",
       "        return fig.toolbar_button_onclick(event['data']);\n",
       "    }\n",
       "    function toolbar_mouse_event(event) {\n",
       "        return fig.toolbar_button_onmouseover(event['data']);\n",
       "    }\n",
       "\n",
       "    for(var toolbar_ind in mpl.toolbar_items){\n",
       "        var name = mpl.toolbar_items[toolbar_ind][0];\n",
       "        var tooltip = mpl.toolbar_items[toolbar_ind][1];\n",
       "        var image = mpl.toolbar_items[toolbar_ind][2];\n",
       "        var method_name = mpl.toolbar_items[toolbar_ind][3];\n",
       "\n",
       "        if (!name) { continue; };\n",
       "\n",
       "        var button = $('<button class=\"btn btn-default\" href=\"#\" title=\"' + name + '\"><i class=\"fa ' + image + ' fa-lg\"></i></button>');\n",
       "        button.click(method_name, toolbar_event);\n",
       "        button.mouseover(tooltip, toolbar_mouse_event);\n",
       "        nav_element.append(button);\n",
       "    }\n",
       "\n",
       "    // Add the status bar.\n",
       "    var status_bar = $('<span class=\"mpl-message\" style=\"text-align:right; float: right;\"/>');\n",
       "    nav_element.append(status_bar);\n",
       "    this.message = status_bar[0];\n",
       "\n",
       "    // Add the close button to the window.\n",
       "    var buttongrp = $('<div class=\"btn-group inline pull-right\"></div>');\n",
       "    var button = $('<button class=\"btn btn-mini btn-primary\" href=\"#\" title=\"Stop Interaction\"><i class=\"fa fa-power-off icon-remove icon-large\"></i></button>');\n",
       "    button.click(function (evt) { fig.handle_close(fig, {}); } );\n",
       "    button.mouseover('Stop Interaction', toolbar_mouse_event);\n",
       "    buttongrp.append(button);\n",
       "    var titlebar = this.root.find($('.ui-dialog-titlebar'));\n",
       "    titlebar.prepend(buttongrp);\n",
       "}\n",
       "\n",
       "mpl.figure.prototype._root_extra_style = function(el){\n",
       "    var fig = this\n",
       "    el.on(\"remove\", function(){\n",
       "\tfig.close_ws(fig, {});\n",
       "    });\n",
       "}\n",
       "\n",
       "mpl.figure.prototype._canvas_extra_style = function(el){\n",
       "    // this is important to make the div 'focusable\n",
       "    el.attr('tabindex', 0)\n",
       "    // reach out to IPython and tell the keyboard manager to turn it's self\n",
       "    // off when our div gets focus\n",
       "\n",
       "    // location in version 3\n",
       "    if (IPython.notebook.keyboard_manager) {\n",
       "        IPython.notebook.keyboard_manager.register_events(el);\n",
       "    }\n",
       "    else {\n",
       "        // location in version 2\n",
       "        IPython.keyboard_manager.register_events(el);\n",
       "    }\n",
       "\n",
       "}\n",
       "\n",
       "mpl.figure.prototype._key_event_extra = function(event, name) {\n",
       "    var manager = IPython.notebook.keyboard_manager;\n",
       "    if (!manager)\n",
       "        manager = IPython.keyboard_manager;\n",
       "\n",
       "    // Check for shift+enter\n",
       "    if (event.shiftKey && event.which == 13) {\n",
       "        this.canvas_div.blur();\n",
       "        // select the cell after this one\n",
       "        var index = IPython.notebook.find_cell_index(this.cell_info[0]);\n",
       "        IPython.notebook.select(index + 1);\n",
       "    }\n",
       "}\n",
       "\n",
       "mpl.figure.prototype.handle_save = function(fig, msg) {\n",
       "    fig.ondownload(fig, null);\n",
       "}\n",
       "\n",
       "\n",
       "mpl.find_output_cell = function(html_output) {\n",
       "    // Return the cell and output element which can be found *uniquely* in the notebook.\n",
       "    // Note - this is a bit hacky, but it is done because the \"notebook_saving.Notebook\"\n",
       "    // IPython event is triggered only after the cells have been serialised, which for\n",
       "    // our purposes (turning an active figure into a static one), is too late.\n",
       "    var cells = IPython.notebook.get_cells();\n",
       "    var ncells = cells.length;\n",
       "    for (var i=0; i<ncells; i++) {\n",
       "        var cell = cells[i];\n",
       "        if (cell.cell_type === 'code'){\n",
       "            for (var j=0; j<cell.output_area.outputs.length; j++) {\n",
       "                var data = cell.output_area.outputs[j];\n",
       "                if (data.data) {\n",
       "                    // IPython >= 3 moved mimebundle to data attribute of output\n",
       "                    data = data.data;\n",
       "                }\n",
       "                if (data['text/html'] == html_output) {\n",
       "                    return [cell, data, j];\n",
       "                }\n",
       "            }\n",
       "        }\n",
       "    }\n",
       "}\n",
       "\n",
       "// Register the function which deals with the matplotlib target/channel.\n",
       "// The kernel may be null if the page has been refreshed.\n",
       "if (IPython.notebook.kernel != null) {\n",
       "    IPython.notebook.kernel.comm_manager.register_target('matplotlib', mpl.mpl_figure_comm);\n",
       "}\n"
      ],
      "text/plain": [
       "<IPython.core.display.Javascript object>"
      ]
     },
     "metadata": {},
     "output_type": "display_data"
    },
    {
     "data": {
      "text/html": [
       "<img src=\"data:image/png;base64,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\" width=\"900\">"
      ],
      "text/plain": [
       "<IPython.core.display.HTML object>"
      ]
     },
     "metadata": {},
     "output_type": "display_data"
    },
    {
     "name": "stderr",
     "output_type": "stream",
     "text": [
      "C:\\ProgramData\\Anaconda3\\lib\\site-packages\\matplotlib\\axes\\_axes.py:545: UserWarning: No labelled objects found. Use label='...' kwarg on individual plots.\n",
      "  warnings.warn(\"No labelled objects found. \"\n"
     ]
    }
   ],
   "source": [
    "barwidth = 0.75; \n",
    "fig, ax = plt.subplots(figsize=(9, 8));\n",
    "rects3 = ax.bar(0.5,RTanalysis_Bias.LowC.mean(),barwidth,yerr=RTstderror_Bias.LowC,ecolor='k',edgecolor=(0.1,1,0.1),linewidth = 2, facecolor='none',error_kw=dict(lw=3));\n",
    "rects4 = ax.bar(1.5,RTanalysis_Bias.HighIC.mean(),barwidth,color=(0.1,1,0.1),yerr=RTstderror_Bias.HighIC,ecolor='k',error_kw=dict(lw=3));\n",
    "sns.set(context='notebook', style='white', font='Myriad Pro', font_scale=2, color_codes=False, rc=None);\n",
    "ax.set_ylim(460,590);\n",
    "ax.set_xlim(0,2.5);\n",
    "ax.set_xticklabels(('Low', 'High'));\n",
    "ax.set_xticks([0.5, 1.5]);\n",
    "ax.set_yticks(np.arange(460, 591, 10));\n",
    "plt.legend([rects3,rects4], ['Congruent','Incongruent'], loc='upper left',fontsize=18,title='Trial Type')\n",
    "plt.legend(title='Trial Type',fontsize=14)\n",
    "plt.title('S-C RT Cueing Effect for Biased Stimuli', fontsize=26,fontweight=\"bold\")\n",
    "plt.ylabel('Reaction Time (ms)', fontsize=24,fontweight=\"bold\")\n",
    "plt.xlabel('S2 Control-Demand Cue', fontsize=24,fontweight=\"bold\")\n",
    "sns.despine();\n",
    "\n",
    "plt.show()"
   ]
  },
  {
   "cell_type": "code",
   "execution_count": 151,
   "metadata": {},
   "outputs": [
    {
     "data": {
      "application/javascript": [
       "/* Put everything inside the global mpl namespace */\n",
       "window.mpl = {};\n",
       "\n",
       "\n",
       "mpl.get_websocket_type = function() {\n",
       "    if (typeof(WebSocket) !== 'undefined') {\n",
       "        return WebSocket;\n",
       "    } else if (typeof(MozWebSocket) !== 'undefined') {\n",
       "        return MozWebSocket;\n",
       "    } else {\n",
       "        alert('Your browser does not have WebSocket support.' +\n",
       "              'Please try Chrome, Safari or Firefox ≥ 6. ' +\n",
       "              'Firefox 4 and 5 are also supported but you ' +\n",
       "              'have to enable WebSockets in about:config.');\n",
       "    };\n",
       "}\n",
       "\n",
       "mpl.figure = function(figure_id, websocket, ondownload, parent_element) {\n",
       "    this.id = figure_id;\n",
       "\n",
       "    this.ws = websocket;\n",
       "\n",
       "    this.supports_binary = (this.ws.binaryType != undefined);\n",
       "\n",
       "    if (!this.supports_binary) {\n",
       "        var warnings = document.getElementById(\"mpl-warnings\");\n",
       "        if (warnings) {\n",
       "            warnings.style.display = 'block';\n",
       "            warnings.textContent = (\n",
       "                \"This browser does not support binary websocket messages. \" +\n",
       "                    \"Performance may be slow.\");\n",
       "        }\n",
       "    }\n",
       "\n",
       "    this.imageObj = new Image();\n",
       "\n",
       "    this.context = undefined;\n",
       "    this.message = undefined;\n",
       "    this.canvas = undefined;\n",
       "    this.rubberband_canvas = undefined;\n",
       "    this.rubberband_context = undefined;\n",
       "    this.format_dropdown = undefined;\n",
       "\n",
       "    this.image_mode = 'full';\n",
       "\n",
       "    this.root = $('<div/>');\n",
       "    this._root_extra_style(this.root)\n",
       "    this.root.attr('style', 'display: inline-block');\n",
       "\n",
       "    $(parent_element).append(this.root);\n",
       "\n",
       "    this._init_header(this);\n",
       "    this._init_canvas(this);\n",
       "    this._init_toolbar(this);\n",
       "\n",
       "    var fig = this;\n",
       "\n",
       "    this.waiting = false;\n",
       "\n",
       "    this.ws.onopen =  function () {\n",
       "            fig.send_message(\"supports_binary\", {value: fig.supports_binary});\n",
       "            fig.send_message(\"send_image_mode\", {});\n",
       "            if (mpl.ratio != 1) {\n",
       "                fig.send_message(\"set_dpi_ratio\", {'dpi_ratio': mpl.ratio});\n",
       "            }\n",
       "            fig.send_message(\"refresh\", {});\n",
       "        }\n",
       "\n",
       "    this.imageObj.onload = function() {\n",
       "            if (fig.image_mode == 'full') {\n",
       "                // Full images could contain transparency (where diff images\n",
       "                // almost always do), so we need to clear the canvas so that\n",
       "                // there is no ghosting.\n",
       "                fig.context.clearRect(0, 0, fig.canvas.width, fig.canvas.height);\n",
       "            }\n",
       "            fig.context.drawImage(fig.imageObj, 0, 0);\n",
       "        };\n",
       "\n",
       "    this.imageObj.onunload = function() {\n",
       "        this.ws.close();\n",
       "    }\n",
       "\n",
       "    this.ws.onmessage = this._make_on_message_function(this);\n",
       "\n",
       "    this.ondownload = ondownload;\n",
       "}\n",
       "\n",
       "mpl.figure.prototype._init_header = function() {\n",
       "    var titlebar = $(\n",
       "        '<div class=\"ui-dialog-titlebar ui-widget-header ui-corner-all ' +\n",
       "        'ui-helper-clearfix\"/>');\n",
       "    var titletext = $(\n",
       "        '<div class=\"ui-dialog-title\" style=\"width: 100%; ' +\n",
       "        'text-align: center; padding: 3px;\"/>');\n",
       "    titlebar.append(titletext)\n",
       "    this.root.append(titlebar);\n",
       "    this.header = titletext[0];\n",
       "}\n",
       "\n",
       "\n",
       "\n",
       "mpl.figure.prototype._canvas_extra_style = function(canvas_div) {\n",
       "\n",
       "}\n",
       "\n",
       "\n",
       "mpl.figure.prototype._root_extra_style = function(canvas_div) {\n",
       "\n",
       "}\n",
       "\n",
       "mpl.figure.prototype._init_canvas = function() {\n",
       "    var fig = this;\n",
       "\n",
       "    var canvas_div = $('<div/>');\n",
       "\n",
       "    canvas_div.attr('style', 'position: relative; clear: both; outline: 0');\n",
       "\n",
       "    function canvas_keyboard_event(event) {\n",
       "        return fig.key_event(event, event['data']);\n",
       "    }\n",
       "\n",
       "    canvas_div.keydown('key_press', canvas_keyboard_event);\n",
       "    canvas_div.keyup('key_release', canvas_keyboard_event);\n",
       "    this.canvas_div = canvas_div\n",
       "    this._canvas_extra_style(canvas_div)\n",
       "    this.root.append(canvas_div);\n",
       "\n",
       "    var canvas = $('<canvas/>');\n",
       "    canvas.addClass('mpl-canvas');\n",
       "    canvas.attr('style', \"left: 0; top: 0; z-index: 0; outline: 0\")\n",
       "\n",
       "    this.canvas = canvas[0];\n",
       "    this.context = canvas[0].getContext(\"2d\");\n",
       "\n",
       "    var backingStore = this.context.backingStorePixelRatio ||\n",
       "\tthis.context.webkitBackingStorePixelRatio ||\n",
       "\tthis.context.mozBackingStorePixelRatio ||\n",
       "\tthis.context.msBackingStorePixelRatio ||\n",
       "\tthis.context.oBackingStorePixelRatio ||\n",
       "\tthis.context.backingStorePixelRatio || 1;\n",
       "\n",
       "    mpl.ratio = (window.devicePixelRatio || 1) / backingStore;\n",
       "\n",
       "    var rubberband = $('<canvas/>');\n",
       "    rubberband.attr('style', \"position: absolute; left: 0; top: 0; z-index: 1;\")\n",
       "\n",
       "    var pass_mouse_events = true;\n",
       "\n",
       "    canvas_div.resizable({\n",
       "        start: function(event, ui) {\n",
       "            pass_mouse_events = false;\n",
       "        },\n",
       "        resize: function(event, ui) {\n",
       "            fig.request_resize(ui.size.width, ui.size.height);\n",
       "        },\n",
       "        stop: function(event, ui) {\n",
       "            pass_mouse_events = true;\n",
       "            fig.request_resize(ui.size.width, ui.size.height);\n",
       "        },\n",
       "    });\n",
       "\n",
       "    function mouse_event_fn(event) {\n",
       "        if (pass_mouse_events)\n",
       "            return fig.mouse_event(event, event['data']);\n",
       "    }\n",
       "\n",
       "    rubberband.mousedown('button_press', mouse_event_fn);\n",
       "    rubberband.mouseup('button_release', mouse_event_fn);\n",
       "    // Throttle sequential mouse events to 1 every 20ms.\n",
       "    rubberband.mousemove('motion_notify', mouse_event_fn);\n",
       "\n",
       "    rubberband.mouseenter('figure_enter', mouse_event_fn);\n",
       "    rubberband.mouseleave('figure_leave', mouse_event_fn);\n",
       "\n",
       "    canvas_div.on(\"wheel\", function (event) {\n",
       "        event = event.originalEvent;\n",
       "        event['data'] = 'scroll'\n",
       "        if (event.deltaY < 0) {\n",
       "            event.step = 1;\n",
       "        } else {\n",
       "            event.step = -1;\n",
       "        }\n",
       "        mouse_event_fn(event);\n",
       "    });\n",
       "\n",
       "    canvas_div.append(canvas);\n",
       "    canvas_div.append(rubberband);\n",
       "\n",
       "    this.rubberband = rubberband;\n",
       "    this.rubberband_canvas = rubberband[0];\n",
       "    this.rubberband_context = rubberband[0].getContext(\"2d\");\n",
       "    this.rubberband_context.strokeStyle = \"#000000\";\n",
       "\n",
       "    this._resize_canvas = function(width, height) {\n",
       "        // Keep the size of the canvas, canvas container, and rubber band\n",
       "        // canvas in synch.\n",
       "        canvas_div.css('width', width)\n",
       "        canvas_div.css('height', height)\n",
       "\n",
       "        canvas.attr('width', width * mpl.ratio);\n",
       "        canvas.attr('height', height * mpl.ratio);\n",
       "        canvas.attr('style', 'width: ' + width + 'px; height: ' + height + 'px;');\n",
       "\n",
       "        rubberband.attr('width', width);\n",
       "        rubberband.attr('height', height);\n",
       "    }\n",
       "\n",
       "    // Set the figure to an initial 600x600px, this will subsequently be updated\n",
       "    // upon first draw.\n",
       "    this._resize_canvas(600, 600);\n",
       "\n",
       "    // Disable right mouse context menu.\n",
       "    $(this.rubberband_canvas).bind(\"contextmenu\",function(e){\n",
       "        return false;\n",
       "    });\n",
       "\n",
       "    function set_focus () {\n",
       "        canvas.focus();\n",
       "        canvas_div.focus();\n",
       "    }\n",
       "\n",
       "    window.setTimeout(set_focus, 100);\n",
       "}\n",
       "\n",
       "mpl.figure.prototype._init_toolbar = function() {\n",
       "    var fig = this;\n",
       "\n",
       "    var nav_element = $('<div/>')\n",
       "    nav_element.attr('style', 'width: 100%');\n",
       "    this.root.append(nav_element);\n",
       "\n",
       "    // Define a callback function for later on.\n",
       "    function toolbar_event(event) {\n",
       "        return fig.toolbar_button_onclick(event['data']);\n",
       "    }\n",
       "    function toolbar_mouse_event(event) {\n",
       "        return fig.toolbar_button_onmouseover(event['data']);\n",
       "    }\n",
       "\n",
       "    for(var toolbar_ind in mpl.toolbar_items) {\n",
       "        var name = mpl.toolbar_items[toolbar_ind][0];\n",
       "        var tooltip = mpl.toolbar_items[toolbar_ind][1];\n",
       "        var image = mpl.toolbar_items[toolbar_ind][2];\n",
       "        var method_name = mpl.toolbar_items[toolbar_ind][3];\n",
       "\n",
       "        if (!name) {\n",
       "            // put a spacer in here.\n",
       "            continue;\n",
       "        }\n",
       "        var button = $('<button/>');\n",
       "        button.addClass('ui-button ui-widget ui-state-default ui-corner-all ' +\n",
       "                        'ui-button-icon-only');\n",
       "        button.attr('role', 'button');\n",
       "        button.attr('aria-disabled', 'false');\n",
       "        button.click(method_name, toolbar_event);\n",
       "        button.mouseover(tooltip, toolbar_mouse_event);\n",
       "\n",
       "        var icon_img = $('<span/>');\n",
       "        icon_img.addClass('ui-button-icon-primary ui-icon');\n",
       "        icon_img.addClass(image);\n",
       "        icon_img.addClass('ui-corner-all');\n",
       "\n",
       "        var tooltip_span = $('<span/>');\n",
       "        tooltip_span.addClass('ui-button-text');\n",
       "        tooltip_span.html(tooltip);\n",
       "\n",
       "        button.append(icon_img);\n",
       "        button.append(tooltip_span);\n",
       "\n",
       "        nav_element.append(button);\n",
       "    }\n",
       "\n",
       "    var fmt_picker_span = $('<span/>');\n",
       "\n",
       "    var fmt_picker = $('<select/>');\n",
       "    fmt_picker.addClass('mpl-toolbar-option ui-widget ui-widget-content');\n",
       "    fmt_picker_span.append(fmt_picker);\n",
       "    nav_element.append(fmt_picker_span);\n",
       "    this.format_dropdown = fmt_picker[0];\n",
       "\n",
       "    for (var ind in mpl.extensions) {\n",
       "        var fmt = mpl.extensions[ind];\n",
       "        var option = $(\n",
       "            '<option/>', {selected: fmt === mpl.default_extension}).html(fmt);\n",
       "        fmt_picker.append(option)\n",
       "    }\n",
       "\n",
       "    // Add hover states to the ui-buttons\n",
       "    $( \".ui-button\" ).hover(\n",
       "        function() { $(this).addClass(\"ui-state-hover\");},\n",
       "        function() { $(this).removeClass(\"ui-state-hover\");}\n",
       "    );\n",
       "\n",
       "    var status_bar = $('<span class=\"mpl-message\"/>');\n",
       "    nav_element.append(status_bar);\n",
       "    this.message = status_bar[0];\n",
       "}\n",
       "\n",
       "mpl.figure.prototype.request_resize = function(x_pixels, y_pixels) {\n",
       "    // Request matplotlib to resize the figure. Matplotlib will then trigger a resize in the client,\n",
       "    // which will in turn request a refresh of the image.\n",
       "    this.send_message('resize', {'width': x_pixels, 'height': y_pixels});\n",
       "}\n",
       "\n",
       "mpl.figure.prototype.send_message = function(type, properties) {\n",
       "    properties['type'] = type;\n",
       "    properties['figure_id'] = this.id;\n",
       "    this.ws.send(JSON.stringify(properties));\n",
       "}\n",
       "\n",
       "mpl.figure.prototype.send_draw_message = function() {\n",
       "    if (!this.waiting) {\n",
       "        this.waiting = true;\n",
       "        this.ws.send(JSON.stringify({type: \"draw\", figure_id: this.id}));\n",
       "    }\n",
       "}\n",
       "\n",
       "\n",
       "mpl.figure.prototype.handle_save = function(fig, msg) {\n",
       "    var format_dropdown = fig.format_dropdown;\n",
       "    var format = format_dropdown.options[format_dropdown.selectedIndex].value;\n",
       "    fig.ondownload(fig, format);\n",
       "}\n",
       "\n",
       "\n",
       "mpl.figure.prototype.handle_resize = function(fig, msg) {\n",
       "    var size = msg['size'];\n",
       "    if (size[0] != fig.canvas.width || size[1] != fig.canvas.height) {\n",
       "        fig._resize_canvas(size[0], size[1]);\n",
       "        fig.send_message(\"refresh\", {});\n",
       "    };\n",
       "}\n",
       "\n",
       "mpl.figure.prototype.handle_rubberband = function(fig, msg) {\n",
       "    var x0 = msg['x0'] / mpl.ratio;\n",
       "    var y0 = (fig.canvas.height - msg['y0']) / mpl.ratio;\n",
       "    var x1 = msg['x1'] / mpl.ratio;\n",
       "    var y1 = (fig.canvas.height - msg['y1']) / mpl.ratio;\n",
       "    x0 = Math.floor(x0) + 0.5;\n",
       "    y0 = Math.floor(y0) + 0.5;\n",
       "    x1 = Math.floor(x1) + 0.5;\n",
       "    y1 = Math.floor(y1) + 0.5;\n",
       "    var min_x = Math.min(x0, x1);\n",
       "    var min_y = Math.min(y0, y1);\n",
       "    var width = Math.abs(x1 - x0);\n",
       "    var height = Math.abs(y1 - y0);\n",
       "\n",
       "    fig.rubberband_context.clearRect(\n",
       "        0, 0, fig.canvas.width, fig.canvas.height);\n",
       "\n",
       "    fig.rubberband_context.strokeRect(min_x, min_y, width, height);\n",
       "}\n",
       "\n",
       "mpl.figure.prototype.handle_figure_label = function(fig, msg) {\n",
       "    // Updates the figure title.\n",
       "    fig.header.textContent = msg['label'];\n",
       "}\n",
       "\n",
       "mpl.figure.prototype.handle_cursor = function(fig, msg) {\n",
       "    var cursor = msg['cursor'];\n",
       "    switch(cursor)\n",
       "    {\n",
       "    case 0:\n",
       "        cursor = 'pointer';\n",
       "        break;\n",
       "    case 1:\n",
       "        cursor = 'default';\n",
       "        break;\n",
       "    case 2:\n",
       "        cursor = 'crosshair';\n",
       "        break;\n",
       "    case 3:\n",
       "        cursor = 'move';\n",
       "        break;\n",
       "    }\n",
       "    fig.rubberband_canvas.style.cursor = cursor;\n",
       "}\n",
       "\n",
       "mpl.figure.prototype.handle_message = function(fig, msg) {\n",
       "    fig.message.textContent = msg['message'];\n",
       "}\n",
       "\n",
       "mpl.figure.prototype.handle_draw = function(fig, msg) {\n",
       "    // Request the server to send over a new figure.\n",
       "    fig.send_draw_message();\n",
       "}\n",
       "\n",
       "mpl.figure.prototype.handle_image_mode = function(fig, msg) {\n",
       "    fig.image_mode = msg['mode'];\n",
       "}\n",
       "\n",
       "mpl.figure.prototype.updated_canvas_event = function() {\n",
       "    // Called whenever the canvas gets updated.\n",
       "    this.send_message(\"ack\", {});\n",
       "}\n",
       "\n",
       "// A function to construct a web socket function for onmessage handling.\n",
       "// Called in the figure constructor.\n",
       "mpl.figure.prototype._make_on_message_function = function(fig) {\n",
       "    return function socket_on_message(evt) {\n",
       "        if (evt.data instanceof Blob) {\n",
       "            /* FIXME: We get \"Resource interpreted as Image but\n",
       "             * transferred with MIME type text/plain:\" errors on\n",
       "             * Chrome.  But how to set the MIME type?  It doesn't seem\n",
       "             * to be part of the websocket stream */\n",
       "            evt.data.type = \"image/png\";\n",
       "\n",
       "            /* Free the memory for the previous frames */\n",
       "            if (fig.imageObj.src) {\n",
       "                (window.URL || window.webkitURL).revokeObjectURL(\n",
       "                    fig.imageObj.src);\n",
       "            }\n",
       "\n",
       "            fig.imageObj.src = (window.URL || window.webkitURL).createObjectURL(\n",
       "                evt.data);\n",
       "            fig.updated_canvas_event();\n",
       "            fig.waiting = false;\n",
       "            return;\n",
       "        }\n",
       "        else if (typeof evt.data === 'string' && evt.data.slice(0, 21) == \"data:image/png;base64\") {\n",
       "            fig.imageObj.src = evt.data;\n",
       "            fig.updated_canvas_event();\n",
       "            fig.waiting = false;\n",
       "            return;\n",
       "        }\n",
       "\n",
       "        var msg = JSON.parse(evt.data);\n",
       "        var msg_type = msg['type'];\n",
       "\n",
       "        // Call the  \"handle_{type}\" callback, which takes\n",
       "        // the figure and JSON message as its only arguments.\n",
       "        try {\n",
       "            var callback = fig[\"handle_\" + msg_type];\n",
       "        } catch (e) {\n",
       "            console.log(\"No handler for the '\" + msg_type + \"' message type: \", msg);\n",
       "            return;\n",
       "        }\n",
       "\n",
       "        if (callback) {\n",
       "            try {\n",
       "                // console.log(\"Handling '\" + msg_type + \"' message: \", msg);\n",
       "                callback(fig, msg);\n",
       "            } catch (e) {\n",
       "                console.log(\"Exception inside the 'handler_\" + msg_type + \"' callback:\", e, e.stack, msg);\n",
       "            }\n",
       "        }\n",
       "    };\n",
       "}\n",
       "\n",
       "// from http://stackoverflow.com/questions/1114465/getting-mouse-location-in-canvas\n",
       "mpl.findpos = function(e) {\n",
       "    //this section is from http://www.quirksmode.org/js/events_properties.html\n",
       "    var targ;\n",
       "    if (!e)\n",
       "        e = window.event;\n",
       "    if (e.target)\n",
       "        targ = e.target;\n",
       "    else if (e.srcElement)\n",
       "        targ = e.srcElement;\n",
       "    if (targ.nodeType == 3) // defeat Safari bug\n",
       "        targ = targ.parentNode;\n",
       "\n",
       "    // jQuery normalizes the pageX and pageY\n",
       "    // pageX,Y are the mouse positions relative to the document\n",
       "    // offset() returns the position of the element relative to the document\n",
       "    var x = e.pageX - $(targ).offset().left;\n",
       "    var y = e.pageY - $(targ).offset().top;\n",
       "\n",
       "    return {\"x\": x, \"y\": y};\n",
       "};\n",
       "\n",
       "/*\n",
       " * return a copy of an object with only non-object keys\n",
       " * we need this to avoid circular references\n",
       " * http://stackoverflow.com/a/24161582/3208463\n",
       " */\n",
       "function simpleKeys (original) {\n",
       "  return Object.keys(original).reduce(function (obj, key) {\n",
       "    if (typeof original[key] !== 'object')\n",
       "        obj[key] = original[key]\n",
       "    return obj;\n",
       "  }, {});\n",
       "}\n",
       "\n",
       "mpl.figure.prototype.mouse_event = function(event, name) {\n",
       "    var canvas_pos = mpl.findpos(event)\n",
       "\n",
       "    if (name === 'button_press')\n",
       "    {\n",
       "        this.canvas.focus();\n",
       "        this.canvas_div.focus();\n",
       "    }\n",
       "\n",
       "    var x = canvas_pos.x * mpl.ratio;\n",
       "    var y = canvas_pos.y * mpl.ratio;\n",
       "\n",
       "    this.send_message(name, {x: x, y: y, button: event.button,\n",
       "                             step: event.step,\n",
       "                             guiEvent: simpleKeys(event)});\n",
       "\n",
       "    /* This prevents the web browser from automatically changing to\n",
       "     * the text insertion cursor when the button is pressed.  We want\n",
       "     * to control all of the cursor setting manually through the\n",
       "     * 'cursor' event from matplotlib */\n",
       "    event.preventDefault();\n",
       "    return false;\n",
       "}\n",
       "\n",
       "mpl.figure.prototype._key_event_extra = function(event, name) {\n",
       "    // Handle any extra behaviour associated with a key event\n",
       "}\n",
       "\n",
       "mpl.figure.prototype.key_event = function(event, name) {\n",
       "\n",
       "    // Prevent repeat events\n",
       "    if (name == 'key_press')\n",
       "    {\n",
       "        if (event.which === this._key)\n",
       "            return;\n",
       "        else\n",
       "            this._key = event.which;\n",
       "    }\n",
       "    if (name == 'key_release')\n",
       "        this._key = null;\n",
       "\n",
       "    var value = '';\n",
       "    if (event.ctrlKey && event.which != 17)\n",
       "        value += \"ctrl+\";\n",
       "    if (event.altKey && event.which != 18)\n",
       "        value += \"alt+\";\n",
       "    if (event.shiftKey && event.which != 16)\n",
       "        value += \"shift+\";\n",
       "\n",
       "    value += 'k';\n",
       "    value += event.which.toString();\n",
       "\n",
       "    this._key_event_extra(event, name);\n",
       "\n",
       "    this.send_message(name, {key: value,\n",
       "                             guiEvent: simpleKeys(event)});\n",
       "    return false;\n",
       "}\n",
       "\n",
       "mpl.figure.prototype.toolbar_button_onclick = function(name) {\n",
       "    if (name == 'download') {\n",
       "        this.handle_save(this, null);\n",
       "    } else {\n",
       "        this.send_message(\"toolbar_button\", {name: name});\n",
       "    }\n",
       "};\n",
       "\n",
       "mpl.figure.prototype.toolbar_button_onmouseover = function(tooltip) {\n",
       "    this.message.textContent = tooltip;\n",
       "};\n",
       "mpl.toolbar_items = [[\"Home\", \"Reset original view\", \"fa fa-home icon-home\", \"home\"], [\"Back\", \"Back to  previous view\", \"fa fa-arrow-left icon-arrow-left\", \"back\"], [\"Forward\", \"Forward to next view\", \"fa fa-arrow-right icon-arrow-right\", \"forward\"], [\"\", \"\", \"\", \"\"], [\"Pan\", \"Pan axes with left mouse, zoom with right\", \"fa fa-arrows icon-move\", \"pan\"], [\"Zoom\", \"Zoom to rectangle\", \"fa fa-square-o icon-check-empty\", \"zoom\"], [\"\", \"\", \"\", \"\"], [\"Download\", \"Download plot\", \"fa fa-floppy-o icon-save\", \"download\"]];\n",
       "\n",
       "mpl.extensions = [\"eps\", \"jpeg\", \"pdf\", \"png\", \"ps\", \"raw\", \"svg\", \"tif\"];\n",
       "\n",
       "mpl.default_extension = \"png\";var comm_websocket_adapter = function(comm) {\n",
       "    // Create a \"websocket\"-like object which calls the given IPython comm\n",
       "    // object with the appropriate methods. Currently this is a non binary\n",
       "    // socket, so there is still some room for performance tuning.\n",
       "    var ws = {};\n",
       "\n",
       "    ws.close = function() {\n",
       "        comm.close()\n",
       "    };\n",
       "    ws.send = function(m) {\n",
       "        //console.log('sending', m);\n",
       "        comm.send(m);\n",
       "    };\n",
       "    // Register the callback with on_msg.\n",
       "    comm.on_msg(function(msg) {\n",
       "        //console.log('receiving', msg['content']['data'], msg);\n",
       "        // Pass the mpl event to the overriden (by mpl) onmessage function.\n",
       "        ws.onmessage(msg['content']['data'])\n",
       "    });\n",
       "    return ws;\n",
       "}\n",
       "\n",
       "mpl.mpl_figure_comm = function(comm, msg) {\n",
       "    // This is the function which gets called when the mpl process\n",
       "    // starts-up an IPython Comm through the \"matplotlib\" channel.\n",
       "\n",
       "    var id = msg.content.data.id;\n",
       "    // Get hold of the div created by the display call when the Comm\n",
       "    // socket was opened in Python.\n",
       "    var element = $(\"#\" + id);\n",
       "    var ws_proxy = comm_websocket_adapter(comm)\n",
       "\n",
       "    function ondownload(figure, format) {\n",
       "        window.open(figure.imageObj.src);\n",
       "    }\n",
       "\n",
       "    var fig = new mpl.figure(id, ws_proxy,\n",
       "                           ondownload,\n",
       "                           element.get(0));\n",
       "\n",
       "    // Call onopen now - mpl needs it, as it is assuming we've passed it a real\n",
       "    // web socket which is closed, not our websocket->open comm proxy.\n",
       "    ws_proxy.onopen();\n",
       "\n",
       "    fig.parent_element = element.get(0);\n",
       "    fig.cell_info = mpl.find_output_cell(\"<div id='\" + id + \"'></div>\");\n",
       "    if (!fig.cell_info) {\n",
       "        console.error(\"Failed to find cell for figure\", id, fig);\n",
       "        return;\n",
       "    }\n",
       "\n",
       "    var output_index = fig.cell_info[2]\n",
       "    var cell = fig.cell_info[0];\n",
       "\n",
       "};\n",
       "\n",
       "mpl.figure.prototype.handle_close = function(fig, msg) {\n",
       "    var width = fig.canvas.width/mpl.ratio\n",
       "    fig.root.unbind('remove')\n",
       "\n",
       "    // Update the output cell to use the data from the current canvas.\n",
       "    fig.push_to_output();\n",
       "    var dataURL = fig.canvas.toDataURL();\n",
       "    // Re-enable the keyboard manager in IPython - without this line, in FF,\n",
       "    // the notebook keyboard shortcuts fail.\n",
       "    IPython.keyboard_manager.enable()\n",
       "    $(fig.parent_element).html('<img src=\"' + dataURL + '\" width=\"' + width + '\">');\n",
       "    fig.close_ws(fig, msg);\n",
       "}\n",
       "\n",
       "mpl.figure.prototype.close_ws = function(fig, msg){\n",
       "    fig.send_message('closing', msg);\n",
       "    // fig.ws.close()\n",
       "}\n",
       "\n",
       "mpl.figure.prototype.push_to_output = function(remove_interactive) {\n",
       "    // Turn the data on the canvas into data in the output cell.\n",
       "    var width = this.canvas.width/mpl.ratio\n",
       "    var dataURL = this.canvas.toDataURL();\n",
       "    this.cell_info[1]['text/html'] = '<img src=\"' + dataURL + '\" width=\"' + width + '\">';\n",
       "}\n",
       "\n",
       "mpl.figure.prototype.updated_canvas_event = function() {\n",
       "    // Tell IPython that the notebook contents must change.\n",
       "    IPython.notebook.set_dirty(true);\n",
       "    this.send_message(\"ack\", {});\n",
       "    var fig = this;\n",
       "    // Wait a second, then push the new image to the DOM so\n",
       "    // that it is saved nicely (might be nice to debounce this).\n",
       "    setTimeout(function () { fig.push_to_output() }, 1000);\n",
       "}\n",
       "\n",
       "mpl.figure.prototype._init_toolbar = function() {\n",
       "    var fig = this;\n",
       "\n",
       "    var nav_element = $('<div/>')\n",
       "    nav_element.attr('style', 'width: 100%');\n",
       "    this.root.append(nav_element);\n",
       "\n",
       "    // Define a callback function for later on.\n",
       "    function toolbar_event(event) {\n",
       "        return fig.toolbar_button_onclick(event['data']);\n",
       "    }\n",
       "    function toolbar_mouse_event(event) {\n",
       "        return fig.toolbar_button_onmouseover(event['data']);\n",
       "    }\n",
       "\n",
       "    for(var toolbar_ind in mpl.toolbar_items){\n",
       "        var name = mpl.toolbar_items[toolbar_ind][0];\n",
       "        var tooltip = mpl.toolbar_items[toolbar_ind][1];\n",
       "        var image = mpl.toolbar_items[toolbar_ind][2];\n",
       "        var method_name = mpl.toolbar_items[toolbar_ind][3];\n",
       "\n",
       "        if (!name) { continue; };\n",
       "\n",
       "        var button = $('<button class=\"btn btn-default\" href=\"#\" title=\"' + name + '\"><i class=\"fa ' + image + ' fa-lg\"></i></button>');\n",
       "        button.click(method_name, toolbar_event);\n",
       "        button.mouseover(tooltip, toolbar_mouse_event);\n",
       "        nav_element.append(button);\n",
       "    }\n",
       "\n",
       "    // Add the status bar.\n",
       "    var status_bar = $('<span class=\"mpl-message\" style=\"text-align:right; float: right;\"/>');\n",
       "    nav_element.append(status_bar);\n",
       "    this.message = status_bar[0];\n",
       "\n",
       "    // Add the close button to the window.\n",
       "    var buttongrp = $('<div class=\"btn-group inline pull-right\"></div>');\n",
       "    var button = $('<button class=\"btn btn-mini btn-primary\" href=\"#\" title=\"Stop Interaction\"><i class=\"fa fa-power-off icon-remove icon-large\"></i></button>');\n",
       "    button.click(function (evt) { fig.handle_close(fig, {}); } );\n",
       "    button.mouseover('Stop Interaction', toolbar_mouse_event);\n",
       "    buttongrp.append(button);\n",
       "    var titlebar = this.root.find($('.ui-dialog-titlebar'));\n",
       "    titlebar.prepend(buttongrp);\n",
       "}\n",
       "\n",
       "mpl.figure.prototype._root_extra_style = function(el){\n",
       "    var fig = this\n",
       "    el.on(\"remove\", function(){\n",
       "\tfig.close_ws(fig, {});\n",
       "    });\n",
       "}\n",
       "\n",
       "mpl.figure.prototype._canvas_extra_style = function(el){\n",
       "    // this is important to make the div 'focusable\n",
       "    el.attr('tabindex', 0)\n",
       "    // reach out to IPython and tell the keyboard manager to turn it's self\n",
       "    // off when our div gets focus\n",
       "\n",
       "    // location in version 3\n",
       "    if (IPython.notebook.keyboard_manager) {\n",
       "        IPython.notebook.keyboard_manager.register_events(el);\n",
       "    }\n",
       "    else {\n",
       "        // location in version 2\n",
       "        IPython.keyboard_manager.register_events(el);\n",
       "    }\n",
       "\n",
       "}\n",
       "\n",
       "mpl.figure.prototype._key_event_extra = function(event, name) {\n",
       "    var manager = IPython.notebook.keyboard_manager;\n",
       "    if (!manager)\n",
       "        manager = IPython.keyboard_manager;\n",
       "\n",
       "    // Check for shift+enter\n",
       "    if (event.shiftKey && event.which == 13) {\n",
       "        this.canvas_div.blur();\n",
       "        // select the cell after this one\n",
       "        var index = IPython.notebook.find_cell_index(this.cell_info[0]);\n",
       "        IPython.notebook.select(index + 1);\n",
       "    }\n",
       "}\n",
       "\n",
       "mpl.figure.prototype.handle_save = function(fig, msg) {\n",
       "    fig.ondownload(fig, null);\n",
       "}\n",
       "\n",
       "\n",
       "mpl.find_output_cell = function(html_output) {\n",
       "    // Return the cell and output element which can be found *uniquely* in the notebook.\n",
       "    // Note - this is a bit hacky, but it is done because the \"notebook_saving.Notebook\"\n",
       "    // IPython event is triggered only after the cells have been serialised, which for\n",
       "    // our purposes (turning an active figure into a static one), is too late.\n",
       "    var cells = IPython.notebook.get_cells();\n",
       "    var ncells = cells.length;\n",
       "    for (var i=0; i<ncells; i++) {\n",
       "        var cell = cells[i];\n",
       "        if (cell.cell_type === 'code'){\n",
       "            for (var j=0; j<cell.output_area.outputs.length; j++) {\n",
       "                var data = cell.output_area.outputs[j];\n",
       "                if (data.data) {\n",
       "                    // IPython >= 3 moved mimebundle to data attribute of output\n",
       "                    data = data.data;\n",
       "                }\n",
       "                if (data['text/html'] == html_output) {\n",
       "                    return [cell, data, j];\n",
       "                }\n",
       "            }\n",
       "        }\n",
       "    }\n",
       "}\n",
       "\n",
       "// Register the function which deals with the matplotlib target/channel.\n",
       "// The kernel may be null if the page has been refreshed.\n",
       "if (IPython.notebook.kernel != null) {\n",
       "    IPython.notebook.kernel.comm_manager.register_target('matplotlib', mpl.mpl_figure_comm);\n",
       "}\n"
      ],
      "text/plain": [
       "<IPython.core.display.Javascript object>"
      ]
     },
     "metadata": {},
     "output_type": "display_data"
    },
    {
     "data": {
      "text/html": [
       "<img src=\"data:image/png;base64,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\" width=\"900\">"
      ],
      "text/plain": [
       "<IPython.core.display.HTML object>"
      ]
     },
     "metadata": {},
     "output_type": "display_data"
    }
   ],
   "source": [
    "barwidth = 0.75; \n",
    "fig, ax = plt.subplots(figsize=(9, 7));\n",
    "rects1 = ax.bar(0.5,ACCanalysis_unbias.LowC.mean(),barwidth,yerr=ACCstderror.LowC,ecolor='k',edgecolor=sns.xkcd_rgb['green'],linewidth = 2, facecolor='none',error_kw=dict(lw=3),label='Congruent');\n",
    "rects2 = ax.bar(1.5,ACCanalysis_unbias.LowIC.mean(),barwidth,color=sns.xkcd_rgb['green'],yerr=ACCstderror.LowIC,ecolor='k',error_kw=dict(lw=3),label='Incongruent');\n",
    "rects3 = ax.bar(3,ACCanalysis_unbias.HighC.mean(),barwidth,yerr=ACCstderror.HighC,ecolor='k',edgecolor=(0.3,0.9,0.3),linewidth = 2, facecolor='none',error_kw=dict(lw=3));\n",
    "rects4 = ax.bar(4,ACCanalysis_unbias.HighIC.mean(),barwidth,color=(0.3,0.9,0.3),yerr=ACCstderror.HighIC,ecolor='k',error_kw=dict(lw=3));\n",
    "ax.set_ylim(0.65,1.01);\n",
    "ax.set_xlim(0,6);\n",
    "ax.set_xticklabels(('Low', 'High'));\n",
    "ax.set_xticks([1, 3.5]);\n",
    "ax.set_yticks(np.arange(0.65, 1.01, 0.05));\n",
    "plt.legend([rects1,rects2], ['Congruent','Incongruent'], loc='upper right',fontsize=18,title='Trial Type')\n",
    "plt.legend(title='Trial Type',fontsize=14)\n",
    "plt.title('S-C Accuracy Cueing Effect for Unbiased Stimuli', fontsize=26,fontweight=\"bold\")\n",
    "plt.ylabel('Accuracy (Proportion Correct)', fontsize=24,fontweight=\"bold\")\n",
    "plt.xlabel('S2 Control-Demand Cue', fontsize=24,fontweight=\"bold\")\n",
    "sns.despine();\n",
    "\n",
    "plt.show()"
   ]
  },
  {
   "cell_type": "code",
   "execution_count": 154,
   "metadata": {},
   "outputs": [
    {
     "data": {
      "application/javascript": [
       "/* Put everything inside the global mpl namespace */\n",
       "window.mpl = {};\n",
       "\n",
       "\n",
       "mpl.get_websocket_type = function() {\n",
       "    if (typeof(WebSocket) !== 'undefined') {\n",
       "        return WebSocket;\n",
       "    } else if (typeof(MozWebSocket) !== 'undefined') {\n",
       "        return MozWebSocket;\n",
       "    } else {\n",
       "        alert('Your browser does not have WebSocket support.' +\n",
       "              'Please try Chrome, Safari or Firefox ≥ 6. ' +\n",
       "              'Firefox 4 and 5 are also supported but you ' +\n",
       "              'have to enable WebSockets in about:config.');\n",
       "    };\n",
       "}\n",
       "\n",
       "mpl.figure = function(figure_id, websocket, ondownload, parent_element) {\n",
       "    this.id = figure_id;\n",
       "\n",
       "    this.ws = websocket;\n",
       "\n",
       "    this.supports_binary = (this.ws.binaryType != undefined);\n",
       "\n",
       "    if (!this.supports_binary) {\n",
       "        var warnings = document.getElementById(\"mpl-warnings\");\n",
       "        if (warnings) {\n",
       "            warnings.style.display = 'block';\n",
       "            warnings.textContent = (\n",
       "                \"This browser does not support binary websocket messages. \" +\n",
       "                    \"Performance may be slow.\");\n",
       "        }\n",
       "    }\n",
       "\n",
       "    this.imageObj = new Image();\n",
       "\n",
       "    this.context = undefined;\n",
       "    this.message = undefined;\n",
       "    this.canvas = undefined;\n",
       "    this.rubberband_canvas = undefined;\n",
       "    this.rubberband_context = undefined;\n",
       "    this.format_dropdown = undefined;\n",
       "\n",
       "    this.image_mode = 'full';\n",
       "\n",
       "    this.root = $('<div/>');\n",
       "    this._root_extra_style(this.root)\n",
       "    this.root.attr('style', 'display: inline-block');\n",
       "\n",
       "    $(parent_element).append(this.root);\n",
       "\n",
       "    this._init_header(this);\n",
       "    this._init_canvas(this);\n",
       "    this._init_toolbar(this);\n",
       "\n",
       "    var fig = this;\n",
       "\n",
       "    this.waiting = false;\n",
       "\n",
       "    this.ws.onopen =  function () {\n",
       "            fig.send_message(\"supports_binary\", {value: fig.supports_binary});\n",
       "            fig.send_message(\"send_image_mode\", {});\n",
       "            if (mpl.ratio != 1) {\n",
       "                fig.send_message(\"set_dpi_ratio\", {'dpi_ratio': mpl.ratio});\n",
       "            }\n",
       "            fig.send_message(\"refresh\", {});\n",
       "        }\n",
       "\n",
       "    this.imageObj.onload = function() {\n",
       "            if (fig.image_mode == 'full') {\n",
       "                // Full images could contain transparency (where diff images\n",
       "                // almost always do), so we need to clear the canvas so that\n",
       "                // there is no ghosting.\n",
       "                fig.context.clearRect(0, 0, fig.canvas.width, fig.canvas.height);\n",
       "            }\n",
       "            fig.context.drawImage(fig.imageObj, 0, 0);\n",
       "        };\n",
       "\n",
       "    this.imageObj.onunload = function() {\n",
       "        this.ws.close();\n",
       "    }\n",
       "\n",
       "    this.ws.onmessage = this._make_on_message_function(this);\n",
       "\n",
       "    this.ondownload = ondownload;\n",
       "}\n",
       "\n",
       "mpl.figure.prototype._init_header = function() {\n",
       "    var titlebar = $(\n",
       "        '<div class=\"ui-dialog-titlebar ui-widget-header ui-corner-all ' +\n",
       "        'ui-helper-clearfix\"/>');\n",
       "    var titletext = $(\n",
       "        '<div class=\"ui-dialog-title\" style=\"width: 100%; ' +\n",
       "        'text-align: center; padding: 3px;\"/>');\n",
       "    titlebar.append(titletext)\n",
       "    this.root.append(titlebar);\n",
       "    this.header = titletext[0];\n",
       "}\n",
       "\n",
       "\n",
       "\n",
       "mpl.figure.prototype._canvas_extra_style = function(canvas_div) {\n",
       "\n",
       "}\n",
       "\n",
       "\n",
       "mpl.figure.prototype._root_extra_style = function(canvas_div) {\n",
       "\n",
       "}\n",
       "\n",
       "mpl.figure.prototype._init_canvas = function() {\n",
       "    var fig = this;\n",
       "\n",
       "    var canvas_div = $('<div/>');\n",
       "\n",
       "    canvas_div.attr('style', 'position: relative; clear: both; outline: 0');\n",
       "\n",
       "    function canvas_keyboard_event(event) {\n",
       "        return fig.key_event(event, event['data']);\n",
       "    }\n",
       "\n",
       "    canvas_div.keydown('key_press', canvas_keyboard_event);\n",
       "    canvas_div.keyup('key_release', canvas_keyboard_event);\n",
       "    this.canvas_div = canvas_div\n",
       "    this._canvas_extra_style(canvas_div)\n",
       "    this.root.append(canvas_div);\n",
       "\n",
       "    var canvas = $('<canvas/>');\n",
       "    canvas.addClass('mpl-canvas');\n",
       "    canvas.attr('style', \"left: 0; top: 0; z-index: 0; outline: 0\")\n",
       "\n",
       "    this.canvas = canvas[0];\n",
       "    this.context = canvas[0].getContext(\"2d\");\n",
       "\n",
       "    var backingStore = this.context.backingStorePixelRatio ||\n",
       "\tthis.context.webkitBackingStorePixelRatio ||\n",
       "\tthis.context.mozBackingStorePixelRatio ||\n",
       "\tthis.context.msBackingStorePixelRatio ||\n",
       "\tthis.context.oBackingStorePixelRatio ||\n",
       "\tthis.context.backingStorePixelRatio || 1;\n",
       "\n",
       "    mpl.ratio = (window.devicePixelRatio || 1) / backingStore;\n",
       "\n",
       "    var rubberband = $('<canvas/>');\n",
       "    rubberband.attr('style', \"position: absolute; left: 0; top: 0; z-index: 1;\")\n",
       "\n",
       "    var pass_mouse_events = true;\n",
       "\n",
       "    canvas_div.resizable({\n",
       "        start: function(event, ui) {\n",
       "            pass_mouse_events = false;\n",
       "        },\n",
       "        resize: function(event, ui) {\n",
       "            fig.request_resize(ui.size.width, ui.size.height);\n",
       "        },\n",
       "        stop: function(event, ui) {\n",
       "            pass_mouse_events = true;\n",
       "            fig.request_resize(ui.size.width, ui.size.height);\n",
       "        },\n",
       "    });\n",
       "\n",
       "    function mouse_event_fn(event) {\n",
       "        if (pass_mouse_events)\n",
       "            return fig.mouse_event(event, event['data']);\n",
       "    }\n",
       "\n",
       "    rubberband.mousedown('button_press', mouse_event_fn);\n",
       "    rubberband.mouseup('button_release', mouse_event_fn);\n",
       "    // Throttle sequential mouse events to 1 every 20ms.\n",
       "    rubberband.mousemove('motion_notify', mouse_event_fn);\n",
       "\n",
       "    rubberband.mouseenter('figure_enter', mouse_event_fn);\n",
       "    rubberband.mouseleave('figure_leave', mouse_event_fn);\n",
       "\n",
       "    canvas_div.on(\"wheel\", function (event) {\n",
       "        event = event.originalEvent;\n",
       "        event['data'] = 'scroll'\n",
       "        if (event.deltaY < 0) {\n",
       "            event.step = 1;\n",
       "        } else {\n",
       "            event.step = -1;\n",
       "        }\n",
       "        mouse_event_fn(event);\n",
       "    });\n",
       "\n",
       "    canvas_div.append(canvas);\n",
       "    canvas_div.append(rubberband);\n",
       "\n",
       "    this.rubberband = rubberband;\n",
       "    this.rubberband_canvas = rubberband[0];\n",
       "    this.rubberband_context = rubberband[0].getContext(\"2d\");\n",
       "    this.rubberband_context.strokeStyle = \"#000000\";\n",
       "\n",
       "    this._resize_canvas = function(width, height) {\n",
       "        // Keep the size of the canvas, canvas container, and rubber band\n",
       "        // canvas in synch.\n",
       "        canvas_div.css('width', width)\n",
       "        canvas_div.css('height', height)\n",
       "\n",
       "        canvas.attr('width', width * mpl.ratio);\n",
       "        canvas.attr('height', height * mpl.ratio);\n",
       "        canvas.attr('style', 'width: ' + width + 'px; height: ' + height + 'px;');\n",
       "\n",
       "        rubberband.attr('width', width);\n",
       "        rubberband.attr('height', height);\n",
       "    }\n",
       "\n",
       "    // Set the figure to an initial 600x600px, this will subsequently be updated\n",
       "    // upon first draw.\n",
       "    this._resize_canvas(600, 600);\n",
       "\n",
       "    // Disable right mouse context menu.\n",
       "    $(this.rubberband_canvas).bind(\"contextmenu\",function(e){\n",
       "        return false;\n",
       "    });\n",
       "\n",
       "    function set_focus () {\n",
       "        canvas.focus();\n",
       "        canvas_div.focus();\n",
       "    }\n",
       "\n",
       "    window.setTimeout(set_focus, 100);\n",
       "}\n",
       "\n",
       "mpl.figure.prototype._init_toolbar = function() {\n",
       "    var fig = this;\n",
       "\n",
       "    var nav_element = $('<div/>')\n",
       "    nav_element.attr('style', 'width: 100%');\n",
       "    this.root.append(nav_element);\n",
       "\n",
       "    // Define a callback function for later on.\n",
       "    function toolbar_event(event) {\n",
       "        return fig.toolbar_button_onclick(event['data']);\n",
       "    }\n",
       "    function toolbar_mouse_event(event) {\n",
       "        return fig.toolbar_button_onmouseover(event['data']);\n",
       "    }\n",
       "\n",
       "    for(var toolbar_ind in mpl.toolbar_items) {\n",
       "        var name = mpl.toolbar_items[toolbar_ind][0];\n",
       "        var tooltip = mpl.toolbar_items[toolbar_ind][1];\n",
       "        var image = mpl.toolbar_items[toolbar_ind][2];\n",
       "        var method_name = mpl.toolbar_items[toolbar_ind][3];\n",
       "\n",
       "        if (!name) {\n",
       "            // put a spacer in here.\n",
       "            continue;\n",
       "        }\n",
       "        var button = $('<button/>');\n",
       "        button.addClass('ui-button ui-widget ui-state-default ui-corner-all ' +\n",
       "                        'ui-button-icon-only');\n",
       "        button.attr('role', 'button');\n",
       "        button.attr('aria-disabled', 'false');\n",
       "        button.click(method_name, toolbar_event);\n",
       "        button.mouseover(tooltip, toolbar_mouse_event);\n",
       "\n",
       "        var icon_img = $('<span/>');\n",
       "        icon_img.addClass('ui-button-icon-primary ui-icon');\n",
       "        icon_img.addClass(image);\n",
       "        icon_img.addClass('ui-corner-all');\n",
       "\n",
       "        var tooltip_span = $('<span/>');\n",
       "        tooltip_span.addClass('ui-button-text');\n",
       "        tooltip_span.html(tooltip);\n",
       "\n",
       "        button.append(icon_img);\n",
       "        button.append(tooltip_span);\n",
       "\n",
       "        nav_element.append(button);\n",
       "    }\n",
       "\n",
       "    var fmt_picker_span = $('<span/>');\n",
       "\n",
       "    var fmt_picker = $('<select/>');\n",
       "    fmt_picker.addClass('mpl-toolbar-option ui-widget ui-widget-content');\n",
       "    fmt_picker_span.append(fmt_picker);\n",
       "    nav_element.append(fmt_picker_span);\n",
       "    this.format_dropdown = fmt_picker[0];\n",
       "\n",
       "    for (var ind in mpl.extensions) {\n",
       "        var fmt = mpl.extensions[ind];\n",
       "        var option = $(\n",
       "            '<option/>', {selected: fmt === mpl.default_extension}).html(fmt);\n",
       "        fmt_picker.append(option)\n",
       "    }\n",
       "\n",
       "    // Add hover states to the ui-buttons\n",
       "    $( \".ui-button\" ).hover(\n",
       "        function() { $(this).addClass(\"ui-state-hover\");},\n",
       "        function() { $(this).removeClass(\"ui-state-hover\");}\n",
       "    );\n",
       "\n",
       "    var status_bar = $('<span class=\"mpl-message\"/>');\n",
       "    nav_element.append(status_bar);\n",
       "    this.message = status_bar[0];\n",
       "}\n",
       "\n",
       "mpl.figure.prototype.request_resize = function(x_pixels, y_pixels) {\n",
       "    // Request matplotlib to resize the figure. Matplotlib will then trigger a resize in the client,\n",
       "    // which will in turn request a refresh of the image.\n",
       "    this.send_message('resize', {'width': x_pixels, 'height': y_pixels});\n",
       "}\n",
       "\n",
       "mpl.figure.prototype.send_message = function(type, properties) {\n",
       "    properties['type'] = type;\n",
       "    properties['figure_id'] = this.id;\n",
       "    this.ws.send(JSON.stringify(properties));\n",
       "}\n",
       "\n",
       "mpl.figure.prototype.send_draw_message = function() {\n",
       "    if (!this.waiting) {\n",
       "        this.waiting = true;\n",
       "        this.ws.send(JSON.stringify({type: \"draw\", figure_id: this.id}));\n",
       "    }\n",
       "}\n",
       "\n",
       "\n",
       "mpl.figure.prototype.handle_save = function(fig, msg) {\n",
       "    var format_dropdown = fig.format_dropdown;\n",
       "    var format = format_dropdown.options[format_dropdown.selectedIndex].value;\n",
       "    fig.ondownload(fig, format);\n",
       "}\n",
       "\n",
       "\n",
       "mpl.figure.prototype.handle_resize = function(fig, msg) {\n",
       "    var size = msg['size'];\n",
       "    if (size[0] != fig.canvas.width || size[1] != fig.canvas.height) {\n",
       "        fig._resize_canvas(size[0], size[1]);\n",
       "        fig.send_message(\"refresh\", {});\n",
       "    };\n",
       "}\n",
       "\n",
       "mpl.figure.prototype.handle_rubberband = function(fig, msg) {\n",
       "    var x0 = msg['x0'] / mpl.ratio;\n",
       "    var y0 = (fig.canvas.height - msg['y0']) / mpl.ratio;\n",
       "    var x1 = msg['x1'] / mpl.ratio;\n",
       "    var y1 = (fig.canvas.height - msg['y1']) / mpl.ratio;\n",
       "    x0 = Math.floor(x0) + 0.5;\n",
       "    y0 = Math.floor(y0) + 0.5;\n",
       "    x1 = Math.floor(x1) + 0.5;\n",
       "    y1 = Math.floor(y1) + 0.5;\n",
       "    var min_x = Math.min(x0, x1);\n",
       "    var min_y = Math.min(y0, y1);\n",
       "    var width = Math.abs(x1 - x0);\n",
       "    var height = Math.abs(y1 - y0);\n",
       "\n",
       "    fig.rubberband_context.clearRect(\n",
       "        0, 0, fig.canvas.width, fig.canvas.height);\n",
       "\n",
       "    fig.rubberband_context.strokeRect(min_x, min_y, width, height);\n",
       "}\n",
       "\n",
       "mpl.figure.prototype.handle_figure_label = function(fig, msg) {\n",
       "    // Updates the figure title.\n",
       "    fig.header.textContent = msg['label'];\n",
       "}\n",
       "\n",
       "mpl.figure.prototype.handle_cursor = function(fig, msg) {\n",
       "    var cursor = msg['cursor'];\n",
       "    switch(cursor)\n",
       "    {\n",
       "    case 0:\n",
       "        cursor = 'pointer';\n",
       "        break;\n",
       "    case 1:\n",
       "        cursor = 'default';\n",
       "        break;\n",
       "    case 2:\n",
       "        cursor = 'crosshair';\n",
       "        break;\n",
       "    case 3:\n",
       "        cursor = 'move';\n",
       "        break;\n",
       "    }\n",
       "    fig.rubberband_canvas.style.cursor = cursor;\n",
       "}\n",
       "\n",
       "mpl.figure.prototype.handle_message = function(fig, msg) {\n",
       "    fig.message.textContent = msg['message'];\n",
       "}\n",
       "\n",
       "mpl.figure.prototype.handle_draw = function(fig, msg) {\n",
       "    // Request the server to send over a new figure.\n",
       "    fig.send_draw_message();\n",
       "}\n",
       "\n",
       "mpl.figure.prototype.handle_image_mode = function(fig, msg) {\n",
       "    fig.image_mode = msg['mode'];\n",
       "}\n",
       "\n",
       "mpl.figure.prototype.updated_canvas_event = function() {\n",
       "    // Called whenever the canvas gets updated.\n",
       "    this.send_message(\"ack\", {});\n",
       "}\n",
       "\n",
       "// A function to construct a web socket function for onmessage handling.\n",
       "// Called in the figure constructor.\n",
       "mpl.figure.prototype._make_on_message_function = function(fig) {\n",
       "    return function socket_on_message(evt) {\n",
       "        if (evt.data instanceof Blob) {\n",
       "            /* FIXME: We get \"Resource interpreted as Image but\n",
       "             * transferred with MIME type text/plain:\" errors on\n",
       "             * Chrome.  But how to set the MIME type?  It doesn't seem\n",
       "             * to be part of the websocket stream */\n",
       "            evt.data.type = \"image/png\";\n",
       "\n",
       "            /* Free the memory for the previous frames */\n",
       "            if (fig.imageObj.src) {\n",
       "                (window.URL || window.webkitURL).revokeObjectURL(\n",
       "                    fig.imageObj.src);\n",
       "            }\n",
       "\n",
       "            fig.imageObj.src = (window.URL || window.webkitURL).createObjectURL(\n",
       "                evt.data);\n",
       "            fig.updated_canvas_event();\n",
       "            fig.waiting = false;\n",
       "            return;\n",
       "        }\n",
       "        else if (typeof evt.data === 'string' && evt.data.slice(0, 21) == \"data:image/png;base64\") {\n",
       "            fig.imageObj.src = evt.data;\n",
       "            fig.updated_canvas_event();\n",
       "            fig.waiting = false;\n",
       "            return;\n",
       "        }\n",
       "\n",
       "        var msg = JSON.parse(evt.data);\n",
       "        var msg_type = msg['type'];\n",
       "\n",
       "        // Call the  \"handle_{type}\" callback, which takes\n",
       "        // the figure and JSON message as its only arguments.\n",
       "        try {\n",
       "            var callback = fig[\"handle_\" + msg_type];\n",
       "        } catch (e) {\n",
       "            console.log(\"No handler for the '\" + msg_type + \"' message type: \", msg);\n",
       "            return;\n",
       "        }\n",
       "\n",
       "        if (callback) {\n",
       "            try {\n",
       "                // console.log(\"Handling '\" + msg_type + \"' message: \", msg);\n",
       "                callback(fig, msg);\n",
       "            } catch (e) {\n",
       "                console.log(\"Exception inside the 'handler_\" + msg_type + \"' callback:\", e, e.stack, msg);\n",
       "            }\n",
       "        }\n",
       "    };\n",
       "}\n",
       "\n",
       "// from http://stackoverflow.com/questions/1114465/getting-mouse-location-in-canvas\n",
       "mpl.findpos = function(e) {\n",
       "    //this section is from http://www.quirksmode.org/js/events_properties.html\n",
       "    var targ;\n",
       "    if (!e)\n",
       "        e = window.event;\n",
       "    if (e.target)\n",
       "        targ = e.target;\n",
       "    else if (e.srcElement)\n",
       "        targ = e.srcElement;\n",
       "    if (targ.nodeType == 3) // defeat Safari bug\n",
       "        targ = targ.parentNode;\n",
       "\n",
       "    // jQuery normalizes the pageX and pageY\n",
       "    // pageX,Y are the mouse positions relative to the document\n",
       "    // offset() returns the position of the element relative to the document\n",
       "    var x = e.pageX - $(targ).offset().left;\n",
       "    var y = e.pageY - $(targ).offset().top;\n",
       "\n",
       "    return {\"x\": x, \"y\": y};\n",
       "};\n",
       "\n",
       "/*\n",
       " * return a copy of an object with only non-object keys\n",
       " * we need this to avoid circular references\n",
       " * http://stackoverflow.com/a/24161582/3208463\n",
       " */\n",
       "function simpleKeys (original) {\n",
       "  return Object.keys(original).reduce(function (obj, key) {\n",
       "    if (typeof original[key] !== 'object')\n",
       "        obj[key] = original[key]\n",
       "    return obj;\n",
       "  }, {});\n",
       "}\n",
       "\n",
       "mpl.figure.prototype.mouse_event = function(event, name) {\n",
       "    var canvas_pos = mpl.findpos(event)\n",
       "\n",
       "    if (name === 'button_press')\n",
       "    {\n",
       "        this.canvas.focus();\n",
       "        this.canvas_div.focus();\n",
       "    }\n",
       "\n",
       "    var x = canvas_pos.x * mpl.ratio;\n",
       "    var y = canvas_pos.y * mpl.ratio;\n",
       "\n",
       "    this.send_message(name, {x: x, y: y, button: event.button,\n",
       "                             step: event.step,\n",
       "                             guiEvent: simpleKeys(event)});\n",
       "\n",
       "    /* This prevents the web browser from automatically changing to\n",
       "     * the text insertion cursor when the button is pressed.  We want\n",
       "     * to control all of the cursor setting manually through the\n",
       "     * 'cursor' event from matplotlib */\n",
       "    event.preventDefault();\n",
       "    return false;\n",
       "}\n",
       "\n",
       "mpl.figure.prototype._key_event_extra = function(event, name) {\n",
       "    // Handle any extra behaviour associated with a key event\n",
       "}\n",
       "\n",
       "mpl.figure.prototype.key_event = function(event, name) {\n",
       "\n",
       "    // Prevent repeat events\n",
       "    if (name == 'key_press')\n",
       "    {\n",
       "        if (event.which === this._key)\n",
       "            return;\n",
       "        else\n",
       "            this._key = event.which;\n",
       "    }\n",
       "    if (name == 'key_release')\n",
       "        this._key = null;\n",
       "\n",
       "    var value = '';\n",
       "    if (event.ctrlKey && event.which != 17)\n",
       "        value += \"ctrl+\";\n",
       "    if (event.altKey && event.which != 18)\n",
       "        value += \"alt+\";\n",
       "    if (event.shiftKey && event.which != 16)\n",
       "        value += \"shift+\";\n",
       "\n",
       "    value += 'k';\n",
       "    value += event.which.toString();\n",
       "\n",
       "    this._key_event_extra(event, name);\n",
       "\n",
       "    this.send_message(name, {key: value,\n",
       "                             guiEvent: simpleKeys(event)});\n",
       "    return false;\n",
       "}\n",
       "\n",
       "mpl.figure.prototype.toolbar_button_onclick = function(name) {\n",
       "    if (name == 'download') {\n",
       "        this.handle_save(this, null);\n",
       "    } else {\n",
       "        this.send_message(\"toolbar_button\", {name: name});\n",
       "    }\n",
       "};\n",
       "\n",
       "mpl.figure.prototype.toolbar_button_onmouseover = function(tooltip) {\n",
       "    this.message.textContent = tooltip;\n",
       "};\n",
       "mpl.toolbar_items = [[\"Home\", \"Reset original view\", \"fa fa-home icon-home\", \"home\"], [\"Back\", \"Back to  previous view\", \"fa fa-arrow-left icon-arrow-left\", \"back\"], [\"Forward\", \"Forward to next view\", \"fa fa-arrow-right icon-arrow-right\", \"forward\"], [\"\", \"\", \"\", \"\"], [\"Pan\", \"Pan axes with left mouse, zoom with right\", \"fa fa-arrows icon-move\", \"pan\"], [\"Zoom\", \"Zoom to rectangle\", \"fa fa-square-o icon-check-empty\", \"zoom\"], [\"\", \"\", \"\", \"\"], [\"Download\", \"Download plot\", \"fa fa-floppy-o icon-save\", \"download\"]];\n",
       "\n",
       "mpl.extensions = [\"eps\", \"jpeg\", \"pdf\", \"png\", \"ps\", \"raw\", \"svg\", \"tif\"];\n",
       "\n",
       "mpl.default_extension = \"png\";var comm_websocket_adapter = function(comm) {\n",
       "    // Create a \"websocket\"-like object which calls the given IPython comm\n",
       "    // object with the appropriate methods. Currently this is a non binary\n",
       "    // socket, so there is still some room for performance tuning.\n",
       "    var ws = {};\n",
       "\n",
       "    ws.close = function() {\n",
       "        comm.close()\n",
       "    };\n",
       "    ws.send = function(m) {\n",
       "        //console.log('sending', m);\n",
       "        comm.send(m);\n",
       "    };\n",
       "    // Register the callback with on_msg.\n",
       "    comm.on_msg(function(msg) {\n",
       "        //console.log('receiving', msg['content']['data'], msg);\n",
       "        // Pass the mpl event to the overriden (by mpl) onmessage function.\n",
       "        ws.onmessage(msg['content']['data'])\n",
       "    });\n",
       "    return ws;\n",
       "}\n",
       "\n",
       "mpl.mpl_figure_comm = function(comm, msg) {\n",
       "    // This is the function which gets called when the mpl process\n",
       "    // starts-up an IPython Comm through the \"matplotlib\" channel.\n",
       "\n",
       "    var id = msg.content.data.id;\n",
       "    // Get hold of the div created by the display call when the Comm\n",
       "    // socket was opened in Python.\n",
       "    var element = $(\"#\" + id);\n",
       "    var ws_proxy = comm_websocket_adapter(comm)\n",
       "\n",
       "    function ondownload(figure, format) {\n",
       "        window.open(figure.imageObj.src);\n",
       "    }\n",
       "\n",
       "    var fig = new mpl.figure(id, ws_proxy,\n",
       "                           ondownload,\n",
       "                           element.get(0));\n",
       "\n",
       "    // Call onopen now - mpl needs it, as it is assuming we've passed it a real\n",
       "    // web socket which is closed, not our websocket->open comm proxy.\n",
       "    ws_proxy.onopen();\n",
       "\n",
       "    fig.parent_element = element.get(0);\n",
       "    fig.cell_info = mpl.find_output_cell(\"<div id='\" + id + \"'></div>\");\n",
       "    if (!fig.cell_info) {\n",
       "        console.error(\"Failed to find cell for figure\", id, fig);\n",
       "        return;\n",
       "    }\n",
       "\n",
       "    var output_index = fig.cell_info[2]\n",
       "    var cell = fig.cell_info[0];\n",
       "\n",
       "};\n",
       "\n",
       "mpl.figure.prototype.handle_close = function(fig, msg) {\n",
       "    var width = fig.canvas.width/mpl.ratio\n",
       "    fig.root.unbind('remove')\n",
       "\n",
       "    // Update the output cell to use the data from the current canvas.\n",
       "    fig.push_to_output();\n",
       "    var dataURL = fig.canvas.toDataURL();\n",
       "    // Re-enable the keyboard manager in IPython - without this line, in FF,\n",
       "    // the notebook keyboard shortcuts fail.\n",
       "    IPython.keyboard_manager.enable()\n",
       "    $(fig.parent_element).html('<img src=\"' + dataURL + '\" width=\"' + width + '\">');\n",
       "    fig.close_ws(fig, msg);\n",
       "}\n",
       "\n",
       "mpl.figure.prototype.close_ws = function(fig, msg){\n",
       "    fig.send_message('closing', msg);\n",
       "    // fig.ws.close()\n",
       "}\n",
       "\n",
       "mpl.figure.prototype.push_to_output = function(remove_interactive) {\n",
       "    // Turn the data on the canvas into data in the output cell.\n",
       "    var width = this.canvas.width/mpl.ratio\n",
       "    var dataURL = this.canvas.toDataURL();\n",
       "    this.cell_info[1]['text/html'] = '<img src=\"' + dataURL + '\" width=\"' + width + '\">';\n",
       "}\n",
       "\n",
       "mpl.figure.prototype.updated_canvas_event = function() {\n",
       "    // Tell IPython that the notebook contents must change.\n",
       "    IPython.notebook.set_dirty(true);\n",
       "    this.send_message(\"ack\", {});\n",
       "    var fig = this;\n",
       "    // Wait a second, then push the new image to the DOM so\n",
       "    // that it is saved nicely (might be nice to debounce this).\n",
       "    setTimeout(function () { fig.push_to_output() }, 1000);\n",
       "}\n",
       "\n",
       "mpl.figure.prototype._init_toolbar = function() {\n",
       "    var fig = this;\n",
       "\n",
       "    var nav_element = $('<div/>')\n",
       "    nav_element.attr('style', 'width: 100%');\n",
       "    this.root.append(nav_element);\n",
       "\n",
       "    // Define a callback function for later on.\n",
       "    function toolbar_event(event) {\n",
       "        return fig.toolbar_button_onclick(event['data']);\n",
       "    }\n",
       "    function toolbar_mouse_event(event) {\n",
       "        return fig.toolbar_button_onmouseover(event['data']);\n",
       "    }\n",
       "\n",
       "    for(var toolbar_ind in mpl.toolbar_items){\n",
       "        var name = mpl.toolbar_items[toolbar_ind][0];\n",
       "        var tooltip = mpl.toolbar_items[toolbar_ind][1];\n",
       "        var image = mpl.toolbar_items[toolbar_ind][2];\n",
       "        var method_name = mpl.toolbar_items[toolbar_ind][3];\n",
       "\n",
       "        if (!name) { continue; };\n",
       "\n",
       "        var button = $('<button class=\"btn btn-default\" href=\"#\" title=\"' + name + '\"><i class=\"fa ' + image + ' fa-lg\"></i></button>');\n",
       "        button.click(method_name, toolbar_event);\n",
       "        button.mouseover(tooltip, toolbar_mouse_event);\n",
       "        nav_element.append(button);\n",
       "    }\n",
       "\n",
       "    // Add the status bar.\n",
       "    var status_bar = $('<span class=\"mpl-message\" style=\"text-align:right; float: right;\"/>');\n",
       "    nav_element.append(status_bar);\n",
       "    this.message = status_bar[0];\n",
       "\n",
       "    // Add the close button to the window.\n",
       "    var buttongrp = $('<div class=\"btn-group inline pull-right\"></div>');\n",
       "    var button = $('<button class=\"btn btn-mini btn-primary\" href=\"#\" title=\"Stop Interaction\"><i class=\"fa fa-power-off icon-remove icon-large\"></i></button>');\n",
       "    button.click(function (evt) { fig.handle_close(fig, {}); } );\n",
       "    button.mouseover('Stop Interaction', toolbar_mouse_event);\n",
       "    buttongrp.append(button);\n",
       "    var titlebar = this.root.find($('.ui-dialog-titlebar'));\n",
       "    titlebar.prepend(buttongrp);\n",
       "}\n",
       "\n",
       "mpl.figure.prototype._root_extra_style = function(el){\n",
       "    var fig = this\n",
       "    el.on(\"remove\", function(){\n",
       "\tfig.close_ws(fig, {});\n",
       "    });\n",
       "}\n",
       "\n",
       "mpl.figure.prototype._canvas_extra_style = function(el){\n",
       "    // this is important to make the div 'focusable\n",
       "    el.attr('tabindex', 0)\n",
       "    // reach out to IPython and tell the keyboard manager to turn it's self\n",
       "    // off when our div gets focus\n",
       "\n",
       "    // location in version 3\n",
       "    if (IPython.notebook.keyboard_manager) {\n",
       "        IPython.notebook.keyboard_manager.register_events(el);\n",
       "    }\n",
       "    else {\n",
       "        // location in version 2\n",
       "        IPython.keyboard_manager.register_events(el);\n",
       "    }\n",
       "\n",
       "}\n",
       "\n",
       "mpl.figure.prototype._key_event_extra = function(event, name) {\n",
       "    var manager = IPython.notebook.keyboard_manager;\n",
       "    if (!manager)\n",
       "        manager = IPython.keyboard_manager;\n",
       "\n",
       "    // Check for shift+enter\n",
       "    if (event.shiftKey && event.which == 13) {\n",
       "        this.canvas_div.blur();\n",
       "        // select the cell after this one\n",
       "        var index = IPython.notebook.find_cell_index(this.cell_info[0]);\n",
       "        IPython.notebook.select(index + 1);\n",
       "    }\n",
       "}\n",
       "\n",
       "mpl.figure.prototype.handle_save = function(fig, msg) {\n",
       "    fig.ondownload(fig, null);\n",
       "}\n",
       "\n",
       "\n",
       "mpl.find_output_cell = function(html_output) {\n",
       "    // Return the cell and output element which can be found *uniquely* in the notebook.\n",
       "    // Note - this is a bit hacky, but it is done because the \"notebook_saving.Notebook\"\n",
       "    // IPython event is triggered only after the cells have been serialised, which for\n",
       "    // our purposes (turning an active figure into a static one), is too late.\n",
       "    var cells = IPython.notebook.get_cells();\n",
       "    var ncells = cells.length;\n",
       "    for (var i=0; i<ncells; i++) {\n",
       "        var cell = cells[i];\n",
       "        if (cell.cell_type === 'code'){\n",
       "            for (var j=0; j<cell.output_area.outputs.length; j++) {\n",
       "                var data = cell.output_area.outputs[j];\n",
       "                if (data.data) {\n",
       "                    // IPython >= 3 moved mimebundle to data attribute of output\n",
       "                    data = data.data;\n",
       "                }\n",
       "                if (data['text/html'] == html_output) {\n",
       "                    return [cell, data, j];\n",
       "                }\n",
       "            }\n",
       "        }\n",
       "    }\n",
       "}\n",
       "\n",
       "// Register the function which deals with the matplotlib target/channel.\n",
       "// The kernel may be null if the page has been refreshed.\n",
       "if (IPython.notebook.kernel != null) {\n",
       "    IPython.notebook.kernel.comm_manager.register_target('matplotlib', mpl.mpl_figure_comm);\n",
       "}\n"
      ],
      "text/plain": [
       "<IPython.core.display.Javascript object>"
      ]
     },
     "metadata": {},
     "output_type": "display_data"
    },
    {
     "data": {
      "text/html": [
       "<img src=\"data:image/png;base64,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\" width=\"900\">"
      ],
      "text/plain": [
       "<IPython.core.display.HTML object>"
      ]
     },
     "metadata": {},
     "output_type": "display_data"
    },
    {
     "name": "stderr",
     "output_type": "stream",
     "text": [
      "C:\\ProgramData\\Anaconda3\\lib\\site-packages\\matplotlib\\axes\\_axes.py:545: UserWarning: No labelled objects found. Use label='...' kwarg on individual plots.\n",
      "  warnings.warn(\"No labelled objects found. \"\n"
     ]
    }
   ],
   "source": [
    "barwidth = 0.75; \n",
    "fig, ax = plt.subplots(figsize=(9, 8));\n",
    "rects1 = ax.bar(0.5,ACCanalysis_Bias.LowC.mean(),barwidth,yerr=ACCstderror_Bias.LowC,ecolor='k',edgecolor=(0.1,1,0.1),linewidth = 2, facecolor='none',error_kw=dict(lw=3));\n",
    "rects2 = ax.bar(1.5,ACCanalysis_Bias.HighIC.mean(),barwidth,color=(0.1,1,0.1),yerr=ACCstderror_Bias.HighIC,ecolor='k',error_kw=dict(lw=3));\n",
    "ax.set_ylim(0.65,1.01);\n",
    "ax.set_xlim(0,2.5);\n",
    "ax.set_xticklabels(('Low', 'High'));\n",
    "ax.set_xticks([0.5, 1.5]);\n",
    "ax.set_yticks(np.arange(0.65, 1.01, 0.05));\n",
    "plt.legend([rects1,rects2], ['Congruent','Incongruent'], loc='upper left',fontsize=18,title='Trial Type')\n",
    "plt.legend(title='Trial Type',fontsize=14)\n",
    "plt.title('S-C Accuracy Cueing Effect for Biased Stimuli', fontsize=26,fontweight=\"bold\")\n",
    "plt.ylabel('Accuracy (Proportion Correct)', fontsize=24,fontweight=\"bold\")\n",
    "plt.xlabel('S2 Control-Demand Cue', fontsize=24,fontweight=\"bold\")\n",
    "sns.despine();\n",
    "\n",
    "plt.show()"
   ]
  },
  {
   "cell_type": "markdown",
   "metadata": {},
   "source": [
    "# Making 95% Confidence Intervals"
   ]
  },
  {
   "cell_type": "markdown",
   "metadata": {},
   "source": [
    "Now I'm making the Supplementary tables that show our data in full, with 95% CIs accompanying the means."
   ]
  },
  {
   "cell_type": "code",
   "execution_count": 216,
   "metadata": {},
   "outputs": [
    {
     "data": {
      "text/plain": [
       "474.9306543625287"
      ]
     },
     "execution_count": 216,
     "metadata": {},
     "output_type": "execute_result"
    }
   ],
   "source": [
    "import statsmodels.stats.api as sms\n",
    "\n",
    "a = RTanalysis_unbias.LowC.mean()\n",
    "sms.DescrStatsW(RTanalysis_unbias.LowC).tconfint_mean()\n",
    "a"
   ]
  },
  {
   "cell_type": "code",
   "execution_count": 217,
   "metadata": {},
   "outputs": [
    {
     "data": {
      "text/plain": [
       "567.216230612733"
      ]
     },
     "execution_count": 217,
     "metadata": {},
     "output_type": "execute_result"
    }
   ],
   "source": [
    "a = RTanalysis_unbias.LowIC.mean()\n",
    "sms.DescrStatsW(RTanalysis_unbias.LowIC).tconfint_mean()\n",
    "a"
   ]
  },
  {
   "cell_type": "code",
   "execution_count": 218,
   "metadata": {},
   "outputs": [
    {
     "data": {
      "text/plain": [
       "478.67765426391674"
      ]
     },
     "execution_count": 218,
     "metadata": {},
     "output_type": "execute_result"
    }
   ],
   "source": [
    "a = RTanalysis_unbias.HighC.mean()\n",
    "sms.DescrStatsW(RTanalysis_unbias.HighC).tconfint_mean()\n",
    "a"
   ]
  },
  {
   "cell_type": "code",
   "execution_count": 219,
   "metadata": {},
   "outputs": [
    {
     "data": {
      "text/plain": [
       "557.5328810481745"
      ]
     },
     "execution_count": 219,
     "metadata": {},
     "output_type": "execute_result"
    }
   ],
   "source": [
    "a = RTanalysis_unbias.HighIC.mean()\n",
    "sms.DescrStatsW(RTanalysis_unbias.HighIC).tconfint_mean()\n",
    "a"
   ]
  },
  {
   "cell_type": "code",
   "execution_count": 220,
   "metadata": {},
   "outputs": [
    {
     "data": {
      "text/plain": [
       "487.91001082251097"
      ]
     },
     "execution_count": 220,
     "metadata": {},
     "output_type": "execute_result"
    }
   ],
   "source": [
    "a = RTrunanalysis_unbias.loc[RTrunanalysis_unbias['Run'] == 0].LowC.mean()\n",
    "sms.DescrStatsW(RTrunanalysis_unbias.loc[RTrunanalysis_unbias['Run'] == 0].LowC).tconfint_mean()\n",
    "a"
   ]
  },
  {
   "cell_type": "code",
   "execution_count": 221,
   "metadata": {},
   "outputs": [
    {
     "data": {
      "text/plain": [
       "580.4790043290044"
      ]
     },
     "execution_count": 221,
     "metadata": {},
     "output_type": "execute_result"
    }
   ],
   "source": [
    "a = RTrunanalysis_unbias.loc[RTrunanalysis_unbias['Run'] == 0].LowIC.mean()\n",
    "sms.DescrStatsW(RTrunanalysis_unbias.loc[RTrunanalysis_unbias['Run'] == 0].LowIC).tconfint_mean()\n",
    "a"
   ]
  },
  {
   "cell_type": "code",
   "execution_count": 222,
   "metadata": {},
   "outputs": [
    {
     "data": {
      "text/plain": [
       "492.71295995671005"
      ]
     },
     "execution_count": 222,
     "metadata": {},
     "output_type": "execute_result"
    }
   ],
   "source": [
    "a = RTrunanalysis_unbias.loc[RTrunanalysis_unbias['Run'] == 0].HighC.mean()\n",
    "sms.DescrStatsW(RTrunanalysis_unbias.loc[RTrunanalysis_unbias['Run'] == 0].HighC).tconfint_mean()\n",
    "a"
   ]
  },
  {
   "cell_type": "code",
   "execution_count": 223,
   "metadata": {},
   "outputs": [
    {
     "data": {
      "text/plain": [
       "566.0730790043291"
      ]
     },
     "execution_count": 223,
     "metadata": {},
     "output_type": "execute_result"
    }
   ],
   "source": [
    "a = RTrunanalysis_unbias.loc[RTrunanalysis_unbias['Run'] == 0].HighIC.mean()\n",
    "sms.DescrStatsW(RTrunanalysis_unbias.loc[RTrunanalysis_unbias['Run'] == 0].HighIC).tconfint_mean()\n",
    "a"
   ]
  },
  {
   "cell_type": "code",
   "execution_count": 224,
   "metadata": {},
   "outputs": [
    {
     "data": {
      "text/plain": [
       "469.9515963203464"
      ]
     },
     "execution_count": 224,
     "metadata": {},
     "output_type": "execute_result"
    }
   ],
   "source": [
    "a = RTrunanalysis_unbias.loc[RTrunanalysis_unbias['Run'] == 1].LowC.mean()\n",
    "sms.DescrStatsW(RTrunanalysis_unbias.loc[RTrunanalysis_unbias['Run'] == 1].LowC).tconfint_mean()\n",
    "a"
   ]
  },
  {
   "cell_type": "code",
   "execution_count": 225,
   "metadata": {},
   "outputs": [
    {
     "data": {
      "text/plain": [
       "573.8950757575757"
      ]
     },
     "execution_count": 225,
     "metadata": {},
     "output_type": "execute_result"
    }
   ],
   "source": [
    "a = RTrunanalysis_unbias.loc[RTrunanalysis_unbias['Run'] == 1].LowIC.mean()\n",
    "sms.DescrStatsW(RTrunanalysis_unbias.loc[RTrunanalysis_unbias['Run'] == 1].LowIC).tconfint_mean()\n",
    "a"
   ]
  },
  {
   "cell_type": "code",
   "execution_count": 226,
   "metadata": {},
   "outputs": [
    {
     "data": {
      "text/plain": [
       "476.3230519480518"
      ]
     },
     "execution_count": 226,
     "metadata": {},
     "output_type": "execute_result"
    }
   ],
   "source": [
    "a = RTrunanalysis_unbias.loc[RTrunanalysis_unbias['Run'] == 1].HighC.mean()\n",
    "sms.DescrStatsW(RTrunanalysis_unbias.loc[RTrunanalysis_unbias['Run'] == 1].HighC).tconfint_mean()\n",
    "a"
   ]
  },
  {
   "cell_type": "code",
   "execution_count": 227,
   "metadata": {},
   "outputs": [
    {
     "data": {
      "text/plain": [
       "559.6101731601731"
      ]
     },
     "execution_count": 227,
     "metadata": {},
     "output_type": "execute_result"
    }
   ],
   "source": [
    "a = RTrunanalysis_unbias.loc[RTrunanalysis_unbias['Run'] == 1].HighIC.mean()\n",
    "sms.DescrStatsW(RTrunanalysis_unbias.loc[RTrunanalysis_unbias['Run'] == 1].HighIC).tconfint_mean()\n",
    "a"
   ]
  },
  {
   "cell_type": "code",
   "execution_count": 228,
   "metadata": {},
   "outputs": [
    {
     "data": {
      "text/plain": [
       "476.02053571428564"
      ]
     },
     "execution_count": 228,
     "metadata": {},
     "output_type": "execute_result"
    }
   ],
   "source": [
    "a = RTrunanalysis_unbias.loc[RTrunanalysis_unbias['Run'] == 2].LowC.mean()\n",
    "sms.DescrStatsW(RTrunanalysis_unbias.loc[RTrunanalysis_unbias['Run'] == 2].LowC).tconfint_mean()\n",
    "a"
   ]
  },
  {
   "cell_type": "code",
   "execution_count": 229,
   "metadata": {},
   "outputs": [
    {
     "data": {
      "text/plain": [
       "557.7829274891775"
      ]
     },
     "execution_count": 229,
     "metadata": {},
     "output_type": "execute_result"
    }
   ],
   "source": [
    "a = RTrunanalysis_unbias.loc[RTrunanalysis_unbias['Run'] == 2].LowIC.mean()\n",
    "sms.DescrStatsW(RTrunanalysis_unbias.loc[RTrunanalysis_unbias['Run'] == 2].LowIC).tconfint_mean()\n",
    "a"
   ]
  },
  {
   "cell_type": "code",
   "execution_count": 230,
   "metadata": {},
   "outputs": [
    {
     "data": {
      "text/plain": [
       "477.9008387445887"
      ]
     },
     "execution_count": 230,
     "metadata": {},
     "output_type": "execute_result"
    }
   ],
   "source": [
    "a = RTrunanalysis_unbias.loc[RTrunanalysis_unbias['Run'] == 2].HighC.mean()\n",
    "sms.DescrStatsW(RTrunanalysis_unbias.loc[RTrunanalysis_unbias['Run'] == 2].HighC).tconfint_mean()\n",
    "a"
   ]
  },
  {
   "cell_type": "code",
   "execution_count": 231,
   "metadata": {},
   "outputs": [
    {
     "data": {
      "text/plain": [
       "555.4123647186148"
      ]
     },
     "execution_count": 231,
     "metadata": {},
     "output_type": "execute_result"
    }
   ],
   "source": [
    "a = RTrunanalysis_unbias.loc[RTrunanalysis_unbias['Run'] == 2].HighIC.mean()\n",
    "sms.DescrStatsW(RTrunanalysis_unbias.loc[RTrunanalysis_unbias['Run'] == 2].HighIC).tconfint_mean()\n",
    "a"
   ]
  },
  {
   "cell_type": "code",
   "execution_count": 232,
   "metadata": {},
   "outputs": [
    {
     "data": {
      "text/plain": [
       "466.48373917748927"
      ]
     },
     "execution_count": 232,
     "metadata": {},
     "output_type": "execute_result"
    }
   ],
   "source": [
    "a = RTrunanalysis_unbias.loc[RTrunanalysis_unbias['Run'] == 3].LowC.mean()\n",
    "sms.DescrStatsW(RTrunanalysis_unbias.loc[RTrunanalysis_unbias['Run'] == 3].LowC).tconfint_mean()\n",
    "a"
   ]
  },
  {
   "cell_type": "code",
   "execution_count": 233,
   "metadata": {},
   "outputs": [
    {
     "data": {
      "text/plain": [
       "556.6254058441559"
      ]
     },
     "execution_count": 233,
     "metadata": {},
     "output_type": "execute_result"
    }
   ],
   "source": [
    "a = RTrunanalysis_unbias.loc[RTrunanalysis_unbias['Run'] == 3].LowIC.mean()\n",
    "sms.DescrStatsW(RTrunanalysis_unbias.loc[RTrunanalysis_unbias['Run'] == 3].LowIC).tconfint_mean()\n",
    "a"
   ]
  },
  {
   "cell_type": "code",
   "execution_count": 234,
   "metadata": {},
   "outputs": [
    {
     "data": {
      "text/plain": [
       "468.1540854978355"
      ]
     },
     "execution_count": 234,
     "metadata": {},
     "output_type": "execute_result"
    }
   ],
   "source": [
    "a = RTrunanalysis_unbias.loc[RTrunanalysis_unbias['Run'] == 3].HighC.mean()\n",
    "sms.DescrStatsW(RTrunanalysis_unbias.loc[RTrunanalysis_unbias['Run'] == 3].HighC).tconfint_mean()\n",
    "a"
   ]
  },
  {
   "cell_type": "code",
   "execution_count": 235,
   "metadata": {},
   "outputs": [
    {
     "data": {
      "text/plain": [
       "550.3792748917748"
      ]
     },
     "execution_count": 235,
     "metadata": {},
     "output_type": "execute_result"
    }
   ],
   "source": [
    "a = RTrunanalysis_unbias.loc[RTrunanalysis_unbias['Run'] == 3].HighIC.mean()\n",
    "sms.DescrStatsW(RTrunanalysis_unbias.loc[RTrunanalysis_unbias['Run'] == 3].HighIC).tconfint_mean()\n",
    "a"
   ]
  },
  {
   "cell_type": "markdown",
   "metadata": {},
   "source": [
    "And for now the frequency-biased stimuli..."
   ]
  },
  {
   "cell_type": "code",
   "execution_count": 236,
   "metadata": {},
   "outputs": [
    {
     "data": {
      "text/plain": [
       "519.3770192313912"
      ]
     },
     "execution_count": 236,
     "metadata": {},
     "output_type": "execute_result"
    }
   ],
   "source": [
    "a = RTanalysis_Bias.LowC.mean()\n",
    "sms.DescrStatsW(RTanalysis_Bias.LowC).tconfint_mean()\n",
    "a"
   ]
  },
  {
   "cell_type": "code",
   "execution_count": 237,
   "metadata": {},
   "outputs": [
    {
     "data": {
      "text/plain": [
       "582.2133127848814"
      ]
     },
     "execution_count": 237,
     "metadata": {},
     "output_type": "execute_result"
    }
   ],
   "source": [
    "a = RTanalysis_Bias.HighIC.mean()\n",
    "sms.DescrStatsW(RTanalysis_Bias.HighIC).tconfint_mean()\n",
    "a"
   ]
  },
  {
   "cell_type": "code",
   "execution_count": 238,
   "metadata": {},
   "outputs": [
    {
     "data": {
      "text/plain": [
       "518.8236941089215"
      ]
     },
     "execution_count": 238,
     "metadata": {},
     "output_type": "execute_result"
    }
   ],
   "source": [
    "a = RTrunanalysis_Bias.loc[RTrunanalysis_Bias['Run'] == 0].LowC.mean()\n",
    "sms.DescrStatsW(RTrunanalysis_Bias.loc[RTrunanalysis_Bias['Run'] == 0].LowC).tconfint_mean()\n",
    "a"
   ]
  },
  {
   "cell_type": "code",
   "execution_count": 239,
   "metadata": {},
   "outputs": [
    {
     "data": {
      "text/plain": [
       "591.8293394421236"
      ]
     },
     "execution_count": 239,
     "metadata": {},
     "output_type": "execute_result"
    }
   ],
   "source": [
    "a = RTrunanalysis_Bias.loc[RTrunanalysis_Bias['Run'] == 0].HighIC.mean()\n",
    "sms.DescrStatsW(RTrunanalysis_Bias.loc[RTrunanalysis_Bias['Run'] == 0].HighIC).tconfint_mean()\n",
    "a"
   ]
  },
  {
   "cell_type": "code",
   "execution_count": 240,
   "metadata": {},
   "outputs": [
    {
     "data": {
      "text/plain": [
       "522.051423671026"
      ]
     },
     "execution_count": 240,
     "metadata": {},
     "output_type": "execute_result"
    }
   ],
   "source": [
    "a = RTrunanalysis_Bias.loc[RTrunanalysis_Bias['Run'] == 1].LowC.mean()\n",
    "sms.DescrStatsW(RTrunanalysis_Bias.loc[RTrunanalysis_Bias['Run'] == 1].LowC).tconfint_mean()\n",
    "a"
   ]
  },
  {
   "cell_type": "code",
   "execution_count": 241,
   "metadata": {},
   "outputs": [
    {
     "data": {
      "text/plain": [
       "591.1219381628471"
      ]
     },
     "execution_count": 241,
     "metadata": {},
     "output_type": "execute_result"
    }
   ],
   "source": [
    "a = RTrunanalysis_Bias.loc[RTrunanalysis_Bias['Run'] == 1].HighIC.mean()\n",
    "sms.DescrStatsW(RTrunanalysis_Bias.loc[RTrunanalysis_Bias['Run'] == 1].HighIC).tconfint_mean()\n",
    "a"
   ]
  },
  {
   "cell_type": "code",
   "execution_count": 242,
   "metadata": {},
   "outputs": [
    {
     "data": {
      "text/plain": [
       "520.2937976795932"
      ]
     },
     "execution_count": 242,
     "metadata": {},
     "output_type": "execute_result"
    }
   ],
   "source": [
    "a = RTrunanalysis_Bias.loc[RTrunanalysis_Bias['Run'] == 2].LowC.mean()\n",
    "sms.DescrStatsW(RTrunanalysis_Bias.loc[RTrunanalysis_Bias['Run'] == 2].LowC).tconfint_mean()\n",
    "a"
   ]
  },
  {
   "cell_type": "code",
   "execution_count": 243,
   "metadata": {},
   "outputs": [
    {
     "data": {
      "text/plain": [
       "581.9552299026732"
      ]
     },
     "execution_count": 243,
     "metadata": {},
     "output_type": "execute_result"
    }
   ],
   "source": [
    "a = RTrunanalysis_Bias.loc[RTrunanalysis_Bias['Run'] == 2].HighIC.mean()\n",
    "sms.DescrStatsW(RTrunanalysis_Bias.loc[RTrunanalysis_Bias['Run'] == 2].HighIC).tconfint_mean()\n",
    "a"
   ]
  },
  {
   "cell_type": "code",
   "execution_count": 244,
   "metadata": {},
   "outputs": [
    {
     "data": {
      "text/plain": [
       "516.6180101148852"
      ]
     },
     "execution_count": 244,
     "metadata": {},
     "output_type": "execute_result"
    }
   ],
   "source": [
    "a = RTrunanalysis_Bias.loc[RTrunanalysis_Bias['Run'] == 3].LowC.mean()\n",
    "sms.DescrStatsW(RTrunanalysis_Bias.loc[RTrunanalysis_Bias['Run'] == 3].LowC).tconfint_mean()\n",
    "a"
   ]
  },
  {
   "cell_type": "code",
   "execution_count": 245,
   "metadata": {},
   "outputs": [
    {
     "data": {
      "text/plain": [
       "567.155103419308"
      ]
     },
     "execution_count": 245,
     "metadata": {},
     "output_type": "execute_result"
    }
   ],
   "source": [
    "a = RTrunanalysis_Bias.loc[RTrunanalysis_Bias['Run'] == 3].HighIC.mean()\n",
    "sms.DescrStatsW(RTrunanalysis_Bias.loc[RTrunanalysis_Bias['Run'] == 3].HighIC).tconfint_mean()\n",
    "a"
   ]
  },
  {
   "cell_type": "markdown",
   "metadata": {},
   "source": [
    "And for Accuracy..."
   ]
  },
  {
   "cell_type": "code",
   "execution_count": 246,
   "metadata": {},
   "outputs": [
    {
     "data": {
      "text/plain": [
       "0.9470246823069405"
      ]
     },
     "execution_count": 246,
     "metadata": {},
     "output_type": "execute_result"
    }
   ],
   "source": [
    "a = ACCanalysis_unbias.LowC.mean()\n",
    "sms.DescrStatsW(ACCanalysis_unbias.LowC).tconfint_mean()\n",
    "a"
   ]
  },
  {
   "cell_type": "code",
   "execution_count": 247,
   "metadata": {},
   "outputs": [
    {
     "data": {
      "text/plain": [
       "0.9343612536656891"
      ]
     },
     "execution_count": 247,
     "metadata": {},
     "output_type": "execute_result"
    }
   ],
   "source": [
    "a = ACCanalysis_unbias.LowIC.mean()\n",
    "sms.DescrStatsW(ACCanalysis_unbias.LowIC).tconfint_mean()\n",
    "a"
   ]
  },
  {
   "cell_type": "code",
   "execution_count": 248,
   "metadata": {},
   "outputs": [
    {
     "data": {
      "text/plain": [
       "0.9594941348973607"
      ]
     },
     "execution_count": 248,
     "metadata": {},
     "output_type": "execute_result"
    }
   ],
   "source": [
    "a = ACCanalysis_unbias.HighC.mean()\n",
    "sms.DescrStatsW(ACCanalysis_unbias.HighC).tconfint_mean()\n",
    "a"
   ]
  },
  {
   "cell_type": "code",
   "execution_count": 249,
   "metadata": {},
   "outputs": [
    {
     "data": {
      "text/plain": [
       "0.9266403958944281"
      ]
     },
     "execution_count": 249,
     "metadata": {},
     "output_type": "execute_result"
    }
   ],
   "source": [
    "a = ACCanalysis_unbias.HighIC.mean()\n",
    "sms.DescrStatsW(ACCanalysis_unbias.HighIC).tconfint_mean()\n",
    "a"
   ]
  },
  {
   "cell_type": "code",
   "execution_count": 250,
   "metadata": {},
   "outputs": [
    {
     "data": {
      "text/plain": [
       "0.9569805194805195"
      ]
     },
     "execution_count": 250,
     "metadata": {},
     "output_type": "execute_result"
    }
   ],
   "source": [
    "a = ACCrunanalysis_unbias.loc[ACCrunanalysis_unbias['Run'] == 0].LowC.mean()\n",
    "sms.DescrStatsW(ACCrunanalysis_unbias.loc[ACCrunanalysis_unbias['Run'] == 0].LowC).tconfint_mean()\n",
    "a"
   ]
  },
  {
   "cell_type": "code",
   "execution_count": 251,
   "metadata": {},
   "outputs": [
    {
     "data": {
      "text/plain": [
       "0.9232954545454546"
      ]
     },
     "execution_count": 251,
     "metadata": {},
     "output_type": "execute_result"
    }
   ],
   "source": [
    "a = ACCrunanalysis_unbias.loc[ACCrunanalysis_unbias['Run'] == 0].LowIC.mean()\n",
    "sms.DescrStatsW(ACCrunanalysis_unbias.loc[ACCrunanalysis_unbias['Run'] == 0].LowIC).tconfint_mean()\n",
    "a"
   ]
  },
  {
   "cell_type": "code",
   "execution_count": 252,
   "metadata": {},
   "outputs": [
    {
     "data": {
      "text/plain": [
       "0.9370941558441559"
      ]
     },
     "execution_count": 252,
     "metadata": {},
     "output_type": "execute_result"
    }
   ],
   "source": [
    "a = ACCrunanalysis_unbias.loc[ACCrunanalysis_unbias['Run'] == 0].HighC.mean()\n",
    "sms.DescrStatsW(ACCrunanalysis_unbias.loc[ACCrunanalysis_unbias['Run'] == 0].HighC).tconfint_mean()\n",
    "a"
   ]
  },
  {
   "cell_type": "code",
   "execution_count": 253,
   "metadata": {},
   "outputs": [
    {
     "data": {
      "text/plain": [
       "0.8916396103896105"
      ]
     },
     "execution_count": 253,
     "metadata": {},
     "output_type": "execute_result"
    }
   ],
   "source": [
    "a = ACCrunanalysis_unbias.loc[ACCrunanalysis_unbias['Run'] == 0].HighIC.mean()\n",
    "sms.DescrStatsW(ACCrunanalysis_unbias.loc[ACCrunanalysis_unbias['Run'] == 0].HighIC).tconfint_mean()\n",
    "a"
   ]
  },
  {
   "cell_type": "code",
   "execution_count": 254,
   "metadata": {},
   "outputs": [
    {
     "data": {
      "text/plain": [
       "0.9460227272727273"
      ]
     },
     "execution_count": 254,
     "metadata": {},
     "output_type": "execute_result"
    }
   ],
   "source": [
    "a = ACCrunanalysis_unbias.loc[ACCrunanalysis_unbias['Run'] == 1].LowC.mean()\n",
    "sms.DescrStatsW(ACCrunanalysis_unbias.loc[ACCrunanalysis_unbias['Run'] == 1].LowC).tconfint_mean()\n",
    "a"
   ]
  },
  {
   "cell_type": "code",
   "execution_count": 255,
   "metadata": {},
   "outputs": [
    {
     "data": {
      "text/plain": [
       "0.9375"
      ]
     },
     "execution_count": 255,
     "metadata": {},
     "output_type": "execute_result"
    }
   ],
   "source": [
    "a = ACCrunanalysis_unbias.loc[ACCrunanalysis_unbias['Run'] == 1].LowIC.mean()\n",
    "sms.DescrStatsW(ACCrunanalysis_unbias.loc[ACCrunanalysis_unbias['Run'] == 1].LowIC).tconfint_mean()\n",
    "a"
   ]
  },
  {
   "cell_type": "code",
   "execution_count": 256,
   "metadata": {},
   "outputs": [
    {
     "data": {
      "text/plain": [
       "0.9715909090909091"
      ]
     },
     "execution_count": 256,
     "metadata": {},
     "output_type": "execute_result"
    }
   ],
   "source": [
    "a = ACCrunanalysis_unbias.loc[ACCrunanalysis_unbias['Run'] == 1].HighC.mean()\n",
    "sms.DescrStatsW(ACCrunanalysis_unbias.loc[ACCrunanalysis_unbias['Run'] == 1].HighC).tconfint_mean()\n",
    "a"
   ]
  },
  {
   "cell_type": "code",
   "execution_count": 257,
   "metadata": {},
   "outputs": [
    {
     "data": {
      "text/plain": [
       "0.9403409090909091"
      ]
     },
     "execution_count": 257,
     "metadata": {},
     "output_type": "execute_result"
    }
   ],
   "source": [
    "a = ACCrunanalysis_unbias.loc[ACCrunanalysis_unbias['Run'] == 1].HighIC.mean()\n",
    "sms.DescrStatsW(ACCrunanalysis_unbias.loc[ACCrunanalysis_unbias['Run'] == 1].HighIC).tconfint_mean()\n",
    "a"
   ]
  },
  {
   "cell_type": "code",
   "execution_count": 258,
   "metadata": {},
   "outputs": [
    {
     "data": {
      "text/plain": [
       "0.9375"
      ]
     },
     "execution_count": 258,
     "metadata": {},
     "output_type": "execute_result"
    }
   ],
   "source": [
    "a = ACCrunanalysis_unbias.loc[ACCrunanalysis_unbias['Run'] == 2].LowC.mean()\n",
    "sms.DescrStatsW(ACCrunanalysis_unbias.loc[ACCrunanalysis_unbias['Run'] == 2].LowC).tconfint_mean()\n",
    "a"
   ]
  },
  {
   "cell_type": "code",
   "execution_count": 259,
   "metadata": {},
   "outputs": [
    {
     "data": {
      "text/plain": [
       "0.9399350649350651"
      ]
     },
     "execution_count": 259,
     "metadata": {},
     "output_type": "execute_result"
    }
   ],
   "source": [
    "a = ACCrunanalysis_unbias.loc[ACCrunanalysis_unbias['Run'] == 2].LowIC.mean()\n",
    "sms.DescrStatsW(ACCrunanalysis_unbias.loc[ACCrunanalysis_unbias['Run'] == 2].LowIC).tconfint_mean()\n",
    "a"
   ]
  },
  {
   "cell_type": "code",
   "execution_count": 260,
   "metadata": {},
   "outputs": [
    {
     "data": {
      "text/plain": [
       "0.9715909090909091"
      ]
     },
     "execution_count": 260,
     "metadata": {},
     "output_type": "execute_result"
    }
   ],
   "source": [
    "a = ACCrunanalysis_unbias.loc[ACCrunanalysis_unbias['Run'] == 2].HighC.mean()\n",
    "sms.DescrStatsW(ACCrunanalysis_unbias.loc[ACCrunanalysis_unbias['Run'] == 2].HighC).tconfint_mean()\n",
    "a"
   ]
  },
  {
   "cell_type": "code",
   "execution_count": 261,
   "metadata": {},
   "outputs": [
    {
     "data": {
      "text/plain": [
       "0.9403409090909091"
      ]
     },
     "execution_count": 261,
     "metadata": {},
     "output_type": "execute_result"
    }
   ],
   "source": [
    "a = ACCrunanalysis_unbias.loc[ACCrunanalysis_unbias['Run'] == 2].HighIC.mean()\n",
    "sms.DescrStatsW(ACCrunanalysis_unbias.loc[ACCrunanalysis_unbias['Run'] == 2].HighIC).tconfint_mean()\n",
    "a"
   ]
  },
  {
   "cell_type": "code",
   "execution_count": 262,
   "metadata": {},
   "outputs": [
    {
     "data": {
      "text/plain": [
       "0.9488636363636364"
      ]
     },
     "execution_count": 262,
     "metadata": {},
     "output_type": "execute_result"
    }
   ],
   "source": [
    "a = ACCrunanalysis_unbias.loc[ACCrunanalysis_unbias['Run'] == 3].LowC.mean()\n",
    "sms.DescrStatsW(ACCrunanalysis_unbias.loc[ACCrunanalysis_unbias['Run'] == 3].LowC).tconfint_mean()\n",
    "a"
   ]
  },
  {
   "cell_type": "code",
   "execution_count": 263,
   "metadata": {},
   "outputs": [
    {
     "data": {
      "text/plain": [
       "0.9375"
      ]
     },
     "execution_count": 263,
     "metadata": {},
     "output_type": "execute_result"
    }
   ],
   "source": [
    "a = ACCrunanalysis_unbias.loc[ACCrunanalysis_unbias['Run'] == 3].LowIC.mean()\n",
    "sms.DescrStatsW(ACCrunanalysis_unbias.loc[ACCrunanalysis_unbias['Run'] == 3].LowIC).tconfint_mean()\n",
    "a"
   ]
  },
  {
   "cell_type": "code",
   "execution_count": 264,
   "metadata": {},
   "outputs": [
    {
     "data": {
      "text/plain": [
       "0.9573863636363636"
      ]
     },
     "execution_count": 264,
     "metadata": {},
     "output_type": "execute_result"
    }
   ],
   "source": [
    "a = ACCrunanalysis_unbias.loc[ACCrunanalysis_unbias['Run'] == 3].HighC.mean()\n",
    "sms.DescrStatsW(ACCrunanalysis_unbias.loc[ACCrunanalysis_unbias['Run'] == 3].HighC).tconfint_mean()\n",
    "a"
   ]
  },
  {
   "cell_type": "code",
   "execution_count": 265,
   "metadata": {},
   "outputs": [
    {
     "data": {
      "text/plain": [
       "0.9346590909090909"
      ]
     },
     "execution_count": 265,
     "metadata": {},
     "output_type": "execute_result"
    }
   ],
   "source": [
    "a = ACCrunanalysis_unbias.loc[ACCrunanalysis_unbias['Run'] == 3].HighIC.mean()\n",
    "sms.DescrStatsW(ACCrunanalysis_unbias.loc[ACCrunanalysis_unbias['Run'] == 3].HighIC).tconfint_mean()\n",
    "a"
   ]
  },
  {
   "cell_type": "markdown",
   "metadata": {},
   "source": [
    "And for now the frequency-biased stimuli..."
   ]
  },
  {
   "cell_type": "code",
   "execution_count": 266,
   "metadata": {},
   "outputs": [
    {
     "data": {
      "text/plain": [
       "0.8881392045454546"
      ]
     },
     "execution_count": 266,
     "metadata": {},
     "output_type": "execute_result"
    }
   ],
   "source": [
    "a = ACCanalysis_Bias.LowC.mean()\n",
    "sms.DescrStatsW(ACCanalysis_Bias.LowC).tconfint_mean()\n",
    "a"
   ]
  },
  {
   "cell_type": "code",
   "execution_count": 267,
   "metadata": {},
   "outputs": [
    {
     "data": {
      "text/plain": [
       "0.86328125"
      ]
     },
     "execution_count": 267,
     "metadata": {},
     "output_type": "execute_result"
    }
   ],
   "source": [
    "a = ACCanalysis_Bias.HighIC.mean()\n",
    "sms.DescrStatsW(ACCanalysis_Bias.HighIC).tconfint_mean()\n",
    "a"
   ]
  },
  {
   "cell_type": "code",
   "execution_count": 268,
   "metadata": {},
   "outputs": [
    {
     "data": {
      "text/plain": [
       "0.8678977272727273"
      ]
     },
     "execution_count": 268,
     "metadata": {},
     "output_type": "execute_result"
    }
   ],
   "source": [
    "a = ACCrunanalysis_Bias.loc[ACCrunanalysis_Bias['Run'] == 0].LowC.mean()\n",
    "sms.DescrStatsW(ACCrunanalysis_Bias.loc[ACCrunanalysis_Bias['Run'] == 0].LowC).tconfint_mean()\n",
    "a"
   ]
  },
  {
   "cell_type": "code",
   "execution_count": 269,
   "metadata": {},
   "outputs": [
    {
     "data": {
      "text/plain": [
       "0.8153409090909091"
      ]
     },
     "execution_count": 269,
     "metadata": {},
     "output_type": "execute_result"
    }
   ],
   "source": [
    "a = ACCrunanalysis_Bias.loc[ACCrunanalysis_Bias['Run'] == 0].HighIC.mean()\n",
    "sms.DescrStatsW(ACCrunanalysis_Bias.loc[ACCrunanalysis_Bias['Run'] == 0].HighIC).tconfint_mean()\n",
    "a"
   ]
  },
  {
   "cell_type": "code",
   "execution_count": 270,
   "metadata": {},
   "outputs": [
    {
     "data": {
      "text/plain": [
       "0.8778409090909091"
      ]
     },
     "execution_count": 270,
     "metadata": {},
     "output_type": "execute_result"
    }
   ],
   "source": [
    "a = ACCrunanalysis_Bias.loc[ACCrunanalysis_Bias['Run'] == 1].LowC.mean()\n",
    "sms.DescrStatsW(ACCrunanalysis_Bias.loc[ACCrunanalysis_Bias['Run'] == 1].LowC).tconfint_mean()\n",
    "a"
   ]
  },
  {
   "cell_type": "code",
   "execution_count": 271,
   "metadata": {},
   "outputs": [
    {
     "data": {
      "text/plain": [
       "0.859375"
      ]
     },
     "execution_count": 271,
     "metadata": {},
     "output_type": "execute_result"
    }
   ],
   "source": [
    "a = ACCrunanalysis_Bias.loc[ACCrunanalysis_Bias['Run'] == 1].HighIC.mean()\n",
    "sms.DescrStatsW(ACCrunanalysis_Bias.loc[ACCrunanalysis_Bias['Run'] == 1].HighIC).tconfint_mean()\n",
    "a"
   ]
  },
  {
   "cell_type": "code",
   "execution_count": 272,
   "metadata": {},
   "outputs": [
    {
     "data": {
      "text/plain": [
       "0.9005681818181818"
      ]
     },
     "execution_count": 272,
     "metadata": {},
     "output_type": "execute_result"
    }
   ],
   "source": [
    "a = ACCrunanalysis_Bias.loc[ACCrunanalysis_Bias['Run'] == 2].LowC.mean()\n",
    "sms.DescrStatsW(ACCrunanalysis_Bias.loc[ACCrunanalysis_Bias['Run'] == 2].LowC).tconfint_mean()\n",
    "a"
   ]
  },
  {
   "cell_type": "code",
   "execution_count": 273,
   "metadata": {},
   "outputs": [
    {
     "data": {
      "text/plain": [
       "0.8948863636363636"
      ]
     },
     "execution_count": 273,
     "metadata": {},
     "output_type": "execute_result"
    }
   ],
   "source": [
    "a = ACCrunanalysis_Bias.loc[ACCrunanalysis_Bias['Run'] == 2].HighIC.mean()\n",
    "sms.DescrStatsW(ACCrunanalysis_Bias.loc[ACCrunanalysis_Bias['Run'] == 2].HighIC).tconfint_mean()\n",
    "a"
   ]
  },
  {
   "cell_type": "code",
   "execution_count": 274,
   "metadata": {},
   "outputs": [
    {
     "data": {
      "text/plain": [
       "0.90625"
      ]
     },
     "execution_count": 274,
     "metadata": {},
     "output_type": "execute_result"
    }
   ],
   "source": [
    "a = ACCrunanalysis_Bias.loc[ACCrunanalysis_Bias['Run'] == 3].LowC.mean()\n",
    "sms.DescrStatsW(ACCrunanalysis_Bias.loc[ACCrunanalysis_Bias['Run'] == 3].LowC).tconfint_mean()\n",
    "a"
   ]
  },
  {
   "cell_type": "code",
   "execution_count": 275,
   "metadata": {},
   "outputs": [
    {
     "data": {
      "text/plain": [
       "0.8835227272727273"
      ]
     },
     "execution_count": 275,
     "metadata": {},
     "output_type": "execute_result"
    }
   ],
   "source": [
    "a = ACCrunanalysis_Bias.loc[ACCrunanalysis_Bias['Run'] == 3].HighIC.mean()\n",
    "sms.DescrStatsW(ACCrunanalysis_Bias.loc[ACCrunanalysis_Bias['Run'] == 3].HighIC).tconfint_mean()\n",
    "a"
   ]
  }
 ],
 "metadata": {
  "anaconda-cloud": {},
  "kernelspec": {
   "display_name": "Python 3",
   "language": "python",
   "name": "python3"
  },
  "language_info": {
   "codemirror_mode": {
    "name": "ipython",
    "version": 3
   },
   "file_extension": ".py",
   "mimetype": "text/x-python",
   "name": "python",
   "nbconvert_exporter": "python",
   "pygments_lexer": "ipython3",
   "version": "3.6.2"
  }
 },
 "nbformat": 4,
 "nbformat_minor": 1
}
